{
 "cells": [
  {
   "cell_type": "code",
   "execution_count": null,
   "id": "e24e0a16-0186-4518-822c-9e0f0c636df8",
   "metadata": {},
   "outputs": [],
   "source": []
  },
  {
   "cell_type": "markdown",
   "id": "01cbdb03-5137-4b51-820d-65ce9569b0ef",
   "metadata": {},
   "source": [
    "## RAG"
   ]
  },
  {
   "cell_type": "markdown",
   "id": "a76cf215-9da6-4b74-8b12-6ce4990dbf00",
   "metadata": {
    "jp-MarkdownHeadingCollapsed": true
   },
   "source": [
    "### import"
   ]
  },
  {
   "cell_type": "code",
   "execution_count": 126,
   "id": "45d655f5-75bc-45f8-a07b-443f4e44c31e",
   "metadata": {
    "execution": {
     "iopub.execute_input": "2024-05-12T04:13:49.974138Z",
     "iopub.status.busy": "2024-05-12T04:13:49.971650Z",
     "iopub.status.idle": "2024-05-12T04:13:51.397797Z",
     "shell.execute_reply": "2024-05-12T04:13:51.397495Z",
     "shell.execute_reply.started": "2024-05-12T04:13:49.973984Z"
    }
   },
   "outputs": [],
   "source": [
    "# Loading required libraries\n",
    "import os\n",
    "\n",
    "from langchain_community.vectorstores import Chroma\n",
    "from langchain_community.document_loaders import PyPDFLoader\n",
    "from langchain.docstore.document import Document\n",
    "from langchain.document_loaders import PyPDFLoader, DirectoryLoader, TextLoader\n",
    "from langchain.document_loaders import UnstructuredHTMLLoader, BSHTMLLoader\n",
    "from langchain.text_splitter import RecursiveCharacterTextSplitter\n",
    "\n",
    "from langchain.chains import RetrievalQA\n",
    "from langchain.memory import ConversationSummaryMemory\n",
    "\n",
    "from langchain.llms import Ollama\n",
    "# from langchain_openai import OpenAIEmbeddings\n",
    "# from langchain.embeddings import GPT4AllEmbeddings\n",
    "from langchain.embeddings import OllamaEmbeddings  \n",
    "from langchain.prompts import PromptTemplate"
   ]
  },
  {
   "cell_type": "code",
   "execution_count": 127,
   "id": "43b4fbd3-30f9-4b08-8c94-f40ea42e5e1e",
   "metadata": {
    "execution": {
     "iopub.execute_input": "2024-05-12T04:13:53.079161Z",
     "iopub.status.busy": "2024-05-12T04:13:53.076335Z",
     "iopub.status.idle": "2024-05-12T04:13:53.097224Z",
     "shell.execute_reply": "2024-05-12T04:13:53.095981Z",
     "shell.execute_reply.started": "2024-05-12T04:13:53.079106Z"
    }
   },
   "outputs": [],
   "source": [
    "DATA_PATH=\"data/\"\n",
    "DB_PATH = \"vectorstores/db/\""
   ]
  },
  {
   "cell_type": "code",
   "execution_count": 128,
   "id": "ad670d7e-3dcc-44fa-9ba7-a31a36524874",
   "metadata": {
    "execution": {
     "iopub.execute_input": "2024-05-12T04:13:58.902535Z",
     "iopub.status.busy": "2024-05-12T04:13:58.901993Z",
     "iopub.status.idle": "2024-05-12T04:13:58.911487Z",
     "shell.execute_reply": "2024-05-12T04:13:58.910620Z",
     "shell.execute_reply.started": "2024-05-12T04:13:58.902514Z"
    }
   },
   "outputs": [],
   "source": [
    "template = \"\"\"<s>[INST] Given the context - {context} </s>[INST] [INST] Answer the following question - {question}[/INST]\"\"\"\n",
    "pt = PromptTemplate(\n",
    "    template=template, input_variables=[\"context\", \"question\"]\n",
    ")"
   ]
  },
  {
   "cell_type": "code",
   "execution_count": 129,
   "id": "04a375e0-7ca8-4885-acfe-58a512c4946e",
   "metadata": {
    "execution": {
     "iopub.execute_input": "2024-05-12T04:14:01.450197Z",
     "iopub.status.busy": "2024-05-12T04:14:01.449197Z",
     "iopub.status.idle": "2024-05-12T04:14:01.455507Z",
     "shell.execute_reply": "2024-05-12T04:14:01.454841Z",
     "shell.execute_reply.started": "2024-05-12T04:14:01.450147Z"
    }
   },
   "outputs": [],
   "source": [
    "ret_prompt = \"\"\"\n",
    "\bwho, when, where and what is it happened in the article? \n",
    "answer them as json format.\n",
    "\n",
    "{\"who\": \"\", \"when\": \"\", \"where\": \"\", \"what\": \"\"}\n",
    "\"\"\""
   ]
  },
  {
   "cell_type": "markdown",
   "id": "2811e944-387b-4f0d-a2bc-2ed961f13dfa",
   "metadata": {},
   "source": [
    "### process"
   ]
  },
  {
   "cell_type": "markdown",
   "id": "e3cdf429-a14b-4475-b48c-ab88b4aa99e0",
   "metadata": {
    "jp-MarkdownHeadingCollapsed": true
   },
   "source": [
    "#### get_json"
   ]
  },
  {
   "cell_type": "code",
   "execution_count": 32,
   "id": "b0428c1e-9328-4fc0-a1d3-f611a781dee4",
   "metadata": {
    "execution": {
     "iopub.execute_input": "2024-04-21T10:01:43.571155Z",
     "iopub.status.busy": "2024-04-21T10:01:43.570101Z",
     "iopub.status.idle": "2024-04-21T10:01:43.579114Z",
     "shell.execute_reply": "2024-04-21T10:01:43.578492Z",
     "shell.execute_reply.started": "2024-04-21T10:01:43.571113Z"
    }
   },
   "outputs": [],
   "source": [
    "# loader = TextLoader(\"./hk_test.md\")\n",
    "# documents = loader.load()"
   ]
  },
  {
   "cell_type": "code",
   "execution_count": 50,
   "id": "6f0fd14b-07a8-459f-9252-4185344c15b1",
   "metadata": {
    "execution": {
     "iopub.execute_input": "2024-04-21T10:15:28.525915Z",
     "iopub.status.busy": "2024-04-21T10:15:28.525432Z",
     "iopub.status.idle": "2024-04-21T10:15:28.537209Z",
     "shell.execute_reply": "2024-04-21T10:15:28.536728Z",
     "shell.execute_reply.started": "2024-04-21T10:15:28.525892Z"
    }
   },
   "outputs": [],
   "source": [
    "vectorstore.delete_collection()"
   ]
  },
  {
   "cell_type": "code",
   "execution_count": 130,
   "id": "3da9b3a0-0914-449f-a165-fcdf2596478b",
   "metadata": {
    "execution": {
     "iopub.execute_input": "2024-05-12T04:14:07.218155Z",
     "iopub.status.busy": "2024-05-12T04:14:07.216523Z",
     "iopub.status.idle": "2024-05-12T04:14:07.230061Z",
     "shell.execute_reply": "2024-05-12T04:14:07.228349Z",
     "shell.execute_reply.started": "2024-05-12T04:14:07.218109Z"
    }
   },
   "outputs": [],
   "source": [
    "import json \n",
    "\n",
    "def get_json(json_text: str, verbose: bool = False) -> dict:\n",
    "    \"\"\"Parse JSON text into a Python dictionary.\n",
    "    \n",
    "    Args:\n",
    "        json_text (str): JSON text to parse.\n",
    "        verbose (bool, optional): If True, print JSON text. Defaults to False.\n",
    "    \n",
    "    Returns:\n",
    "        dict: Parsed JSON data as a dictionary, or None if parsing fails.\n",
    "    \"\"\"\n",
    "    if verbose:\n",
    "        print(\"Input JSON text:\")\n",
    "        print(json_text)\n",
    "\n",
    "    try:\n",
    "        json_data = json.loads(json_text)\n",
    "    except json.JSONDecodeError as e:\n",
    "        print(\"Error loading JSON:\", e)\n",
    "        return None\n",
    "    except Exception as e:\n",
    "        print(\"An unknown error occurred:\", e)\n",
    "        return None\n",
    "\n",
    "    return json_data\n"
   ]
  },
  {
   "cell_type": "code",
   "execution_count": 57,
   "id": "c7f39cdc-2ae8-4f3b-b65e-ff02cd9b605e",
   "metadata": {
    "execution": {
     "iopub.execute_input": "2024-04-21T10:23:29.986674Z",
     "iopub.status.busy": "2024-04-21T10:23:29.986099Z",
     "iopub.status.idle": "2024-04-21T10:23:29.990036Z",
     "shell.execute_reply": "2024-04-21T10:23:29.989736Z",
     "shell.execute_reply.started": "2024-04-21T10:23:29.986644Z"
    }
   },
   "outputs": [],
   "source": [
    "res_json = get_json(res_0['result'])"
   ]
  },
  {
   "cell_type": "code",
   "execution_count": 58,
   "id": "8f35e7ae-d05a-4049-8651-67e42880fdf2",
   "metadata": {
    "execution": {
     "iopub.execute_input": "2024-04-21T10:23:35.793133Z",
     "iopub.status.busy": "2024-04-21T10:23:35.792300Z",
     "iopub.status.idle": "2024-04-21T10:23:35.809560Z",
     "shell.execute_reply": "2024-04-21T10:23:35.808898Z",
     "shell.execute_reply.started": "2024-04-21T10:23:35.793102Z"
    }
   },
   "outputs": [
    {
     "data": {
      "text/plain": [
       "{'who': 'B씨',\n",
       " 'when': '지난 11일 오후 2시께',\n",
       " 'where': '김제시의 한 아파트',\n",
       " 'what': '주먹으로 여러 차례 때린 혐의를 받고 있다'}"
      ]
     },
     "execution_count": 58,
     "metadata": {},
     "output_type": "execute_result"
    }
   ],
   "source": [
    "res_json"
   ]
  },
  {
   "cell_type": "code",
   "execution_count": 131,
   "id": "ddbbb1b4-87af-41c1-9108-33ca274e5755",
   "metadata": {
    "execution": {
     "iopub.execute_input": "2024-05-12T04:14:54.025414Z",
     "iopub.status.busy": "2024-05-12T04:14:54.024003Z",
     "iopub.status.idle": "2024-05-12T04:14:54.036828Z",
     "shell.execute_reply": "2024-05-12T04:14:54.035461Z",
     "shell.execute_reply.started": "2024-05-12T04:14:54.025372Z"
    }
   },
   "outputs": [],
   "source": [
    "def retrieve_info(text):\n",
    "    doc =  Document(page_content=text, metadata={\"source\": \"local\"})\n",
    "    \n",
    "    text_splitter = RecursiveCharacterTextSplitter(\n",
    "        chunk_size=1000, chunk_overlap=50)\n",
    "    texts=text_splitter.split_documents([doc])\n",
    "    \n",
    "    vectorstore = Chroma.from_documents(\n",
    "        documents=texts,\n",
    "        embedding=OllamaEmbeddings(\n",
    "            model=\"gemma:2b\"\n",
    "        ),\n",
    "    )\n",
    "    \n",
    "    rag = RetrievalQA.from_chain_type(\n",
    "        llm=Ollama(model=\"gemma:2b\"),\n",
    "        retriever=vectorstore.as_retriever(),\n",
    "        memory=ConversationSummaryMemory(llm=Ollama(model=\"gemma:2b\")),\n",
    "        chain_type_kwargs={\"prompt\": pt, \"verbose\": False},\n",
    "    )\n",
    "    \n",
    "    result = rag.invoke(ret_prompt)\n",
    "    vectorstore.delete_collection()\n",
    "    \n",
    "    return result"
   ]
  },
  {
   "cell_type": "code",
   "execution_count": 105,
   "id": "000de8f6-15be-4353-b45f-8046a132998a",
   "metadata": {
    "execution": {
     "iopub.execute_input": "2024-04-22T04:55:57.705062Z",
     "iopub.status.busy": "2024-04-22T04:55:57.700856Z",
     "iopub.status.idle": "2024-04-22T05:00:02.315940Z",
     "shell.execute_reply": "2024-04-22T05:00:02.311450Z",
     "shell.execute_reply.started": "2024-04-22T04:55:57.704893Z"
    },
    "scrolled": true
   },
   "outputs": [
    {
     "name": "stderr",
     "output_type": "stream",
     "text": [
      "  0%|                                                                                                                                                                                    | 0/27 [00:00<?, ?it/s]WARNING:chromadb.segment.impl.vector.local_hnsw:Number of requested results 4 is greater than number of elements in index 2, updating n_results = 2\n",
      "INFO:backoff:Backing off send_request(...) for 0.8s (requests.exceptions.ReadTimeout: HTTPSConnectionPool(host='app.posthog.com', port=443): Read timed out. (read timeout=15))\n",
      "/var/folders/r0/w084nh2s0v3fstg3n70027500000gn/T/ipykernel_43935/3447165513.py:3: FutureWarning: Setting an item of incompatible dtype is deprecated and will raise in a future error of pandas. Value '{\n",
      "\"who\": \"B씨\",\n",
      "\"when\": \"지난 8일 SBS '그것이 알고싶다'는 '사라진 7분 - 부산 돌려차기 사건의 진실'이라는 제목의 영상을 공개하고, 지난해 5월 22일 발생한 '부산 돌려차기 사건'을 재조명했다.\",\n",
      "\"where\": \"부산의 한 오피스텔 공동현관 앞에서 벌어졌다.\",\n",
      "\"what\": \"A씨가 1층 엘리베이터 버튼을 누르고 기다리던 순간, 이를 뒤따라간 30대 남성 B씨가 돌려차기로 A씨의 후두부를 세게 가격했다.\"' has dtype incompatible with float64, please explicitly cast to a compatible dtype first.\n",
      "  df.loc[index, \"json_2\"] = result['result']\n",
      "  4%|██████▎                                                                                                                                                                     | 1/27 [00:20<08:47, 20.29s/it]WARNING:chromadb.segment.impl.vector.local_hnsw:Number of requested results 4 is greater than number of elements in index 1, updating n_results = 1\n",
      "  7%|████████████▋                                                                                                                                                               | 2/27 [00:26<04:58, 11.96s/it]WARNING:chromadb.segment.impl.vector.local_hnsw:Number of requested results 4 is greater than number of elements in index 1, updating n_results = 1\n",
      " 11%|███████████████████                                                                                                                                                         | 3/27 [00:32<03:45,  9.39s/it]WARNING:chromadb.segment.impl.vector.local_hnsw:Number of requested results 4 is greater than number of elements in index 2, updating n_results = 2\n",
      " 15%|█████████████████████████▍                                                                                                                                                  | 4/27 [00:41<03:31,  9.19s/it]WARNING:chromadb.segment.impl.vector.local_hnsw:Number of requested results 4 is greater than number of elements in index 2, updating n_results = 2\n",
      " 19%|███████████████████████████████▊                                                                                                                                            | 5/27 [00:50<03:21,  9.17s/it]WARNING:chromadb.segment.impl.vector.local_hnsw:Number of requested results 4 is greater than number of elements in index 3, updating n_results = 3\n",
      " 22%|██████████████████████████████████████▏                                                                                                                                     | 6/27 [01:03<03:39, 10.45s/it]WARNING:chromadb.segment.impl.vector.local_hnsw:Number of requested results 4 is greater than number of elements in index 1, updating n_results = 1\n",
      " 26%|████████████████████████████████████████████▌                                                                                                                               | 7/27 [01:16<03:44, 11.21s/it]WARNING:chromadb.segment.impl.vector.local_hnsw:Number of requested results 4 is greater than number of elements in index 1, updating n_results = 1\n",
      " 30%|██████████████████████████████████████████████████▉                                                                                                                         | 8/27 [01:23<03:05,  9.75s/it]WARNING:chromadb.segment.impl.vector.local_hnsw:Number of requested results 4 is greater than number of elements in index 3, updating n_results = 3\n",
      " 33%|█████████████████████████████████████████████████████████▎                                                                                                                  | 9/27 [01:33<03:01, 10.09s/it]WARNING:chromadb.segment.impl.vector.local_hnsw:Number of requested results 4 is greater than number of elements in index 1, updating n_results = 1\n",
      " 37%|███████████████████████████████████████████████████████████████▎                                                                                                           | 10/27 [01:42<02:42,  9.57s/it]WARNING:chromadb.segment.impl.vector.local_hnsw:Number of requested results 4 is greater than number of elements in index 2, updating n_results = 2\n",
      " 41%|█████████████████████████████████████████████████████████████████████▋                                                                                                     | 11/27 [01:55<02:49, 10.59s/it]WARNING:chromadb.segment.impl.vector.local_hnsw:Number of requested results 4 is greater than number of elements in index 1, updating n_results = 1\n",
      " 44%|████████████████████████████████████████████████████████████████████████████                                                                                               | 12/27 [02:01<02:20,  9.34s/it]WARNING:chromadb.segment.impl.vector.local_hnsw:Number of requested results 4 is greater than number of elements in index 2, updating n_results = 2\n",
      " 48%|██████████████████████████████████████████████████████████████████████████████████▎                                                                                        | 13/27 [02:10<02:06,  9.07s/it]WARNING:chromadb.segment.impl.vector.local_hnsw:Number of requested results 4 is greater than number of elements in index 1, updating n_results = 1\n",
      " 52%|████████████████████████████████████████████████████████████████████████████████████████▋                                                                                  | 14/27 [02:17<01:52,  8.64s/it]WARNING:chromadb.segment.impl.vector.local_hnsw:Number of requested results 4 is greater than number of elements in index 1, updating n_results = 1\n",
      " 56%|███████████████████████████████████████████████████████████████████████████████████████████████                                                                            | 15/27 [02:24<01:36,  8.03s/it]WARNING:chromadb.segment.impl.vector.local_hnsw:Number of requested results 4 is greater than number of elements in index 1, updating n_results = 1\n",
      " 59%|█████████████████████████████████████████████████████████████████████████████████████████████████████▎                                                                     | 16/27 [02:32<01:26,  7.90s/it]WARNING:chromadb.segment.impl.vector.local_hnsw:Number of requested results 4 is greater than number of elements in index 2, updating n_results = 2\n",
      " 63%|███████████████████████████████████████████████████████████████████████████████████████████████████████████▋                                                               | 17/27 [02:39<01:17,  7.78s/it]WARNING:chromadb.segment.impl.vector.local_hnsw:Number of requested results 4 is greater than number of elements in index 2, updating n_results = 2\n",
      " 67%|██████████████████████████████████████████████████████████████████████████████████████████████████████████████████                                                         | 18/27 [02:48<01:14,  8.23s/it]WARNING:chromadb.segment.impl.vector.local_hnsw:Number of requested results 4 is greater than number of elements in index 1, updating n_results = 1\n",
      " 70%|████████████████████████████████████████████████████████████████████████████████████████████████████████████████████████▎                                                  | 19/27 [02:56<01:03,  7.99s/it]WARNING:chromadb.segment.impl.vector.local_hnsw:Number of requested results 4 is greater than number of elements in index 1, updating n_results = 1\n",
      " 74%|██████████████████████████████████████████████████████████████████████████████████████████████████████████████████████████████▋                                            | 20/27 [03:06<01:00,  8.59s/it]WARNING:chromadb.segment.impl.vector.local_hnsw:Number of requested results 4 is greater than number of elements in index 2, updating n_results = 2\n",
      " 78%|█████████████████████████████████████████████████████████████████████████████████████████████████████████████████████████████████████                                      | 21/27 [03:15<00:53,  8.87s/it]WARNING:chromadb.segment.impl.vector.local_hnsw:Number of requested results 4 is greater than number of elements in index 1, updating n_results = 1\n",
      " 81%|███████████████████████████████████████████████████████████████████████████████████████████████████████████████████████████████████████████▎                               | 22/27 [03:23<00:42,  8.53s/it]WARNING:chromadb.segment.impl.vector.local_hnsw:Number of requested results 4 is greater than number of elements in index 1, updating n_results = 1\n",
      " 85%|█████████████████████████████████████████████████████████████████████████████████████████████████████████████████████████████████████████████████▋                         | 23/27 [03:32<00:34,  8.61s/it]WARNING:chromadb.segment.impl.vector.local_hnsw:Number of requested results 4 is greater than number of elements in index 1, updating n_results = 1\n",
      " 89%|████████████████████████████████████████████████████████████████████████████████████████████████████████████████████████████████████████████████████████                   | 24/27 [03:40<00:25,  8.43s/it]WARNING:chromadb.segment.impl.vector.local_hnsw:Number of requested results 4 is greater than number of elements in index 2, updating n_results = 2\n",
      " 93%|██████████████████████████████████████████████████████████████████████████████████████████████████████████████████████████████████████████████████████████████▎            | 25/27 [03:48<00:16,  8.42s/it]WARNING:chromadb.segment.impl.vector.local_hnsw:Number of requested results 4 is greater than number of elements in index 1, updating n_results = 1\n",
      " 96%|████████████████████████████████████████████████████████████████████████████████████████████████████████████████████████████████████████████████████████████████████▋      | 26/27 [03:56<00:08,  8.36s/it]WARNING:chromadb.segment.impl.vector.local_hnsw:Number of requested results 4 is greater than number of elements in index 1, updating n_results = 1\n",
      "100%|███████████████████████████████████████████████████████████████████████████████████████████████████████████████████████████████████████████████████████████████████████████| 27/27 [04:04<00:00,  9.06s/it]\n"
     ]
    }
   ],
   "source": [
    "for index in tqdm(range(df_len)):\n",
    "    result = retrieve_info(df.iloc[index]['text'])    \n",
    "    df.loc[index, \"json_2\"] = result['result']"
   ]
  },
  {
   "cell_type": "markdown",
   "id": "b6f7e6ed-d418-4a05-8853-c3e086de06d5",
   "metadata": {
    "jp-MarkdownHeadingCollapsed": true
   },
   "source": [
    "#### save df_hk_json"
   ]
  },
  {
   "cell_type": "code",
   "execution_count": 81,
   "id": "815f9982-4dde-4669-85cf-8a54009e2059",
   "metadata": {
    "execution": {
     "iopub.execute_input": "2024-04-21T10:51:21.520708Z",
     "iopub.status.busy": "2024-04-21T10:51:21.518768Z",
     "iopub.status.idle": "2024-04-21T10:51:21.547540Z",
     "shell.execute_reply": "2024-04-21T10:51:21.547095Z",
     "shell.execute_reply.started": "2024-04-21T10:51:21.520651Z"
    }
   },
   "outputs": [],
   "source": [
    "save_var(df, \"df_hk_json\")"
   ]
  },
  {
   "cell_type": "code",
   "execution_count": 3,
   "id": "371df6f9-8c0e-4a36-9fdc-772d73313566",
   "metadata": {
    "execution": {
     "iopub.execute_input": "2024-05-13T08:57:52.115939Z",
     "iopub.status.busy": "2024-05-13T08:57:52.093603Z",
     "iopub.status.idle": "2024-05-13T08:57:52.138570Z",
     "shell.execute_reply": "2024-05-13T08:57:52.137882Z",
     "shell.execute_reply.started": "2024-05-13T08:57:52.115862Z"
    }
   },
   "outputs": [],
   "source": [
    "df_hk_json = load_var(\"df_hk_json\")"
   ]
  },
  {
   "cell_type": "markdown",
   "id": "7ef97fb4-5cf6-4365-a454-1112df252034",
   "metadata": {
    "jp-MarkdownHeadingCollapsed": true
   },
   "source": [
    "#### inspection"
   ]
  },
  {
   "cell_type": "code",
   "execution_count": 133,
   "id": "f4e46ced-3ea2-46ec-b67c-98ed3100d4c4",
   "metadata": {
    "collapsed": true,
    "execution": {
     "iopub.execute_input": "2024-05-12T04:16:41.808499Z",
     "iopub.status.busy": "2024-05-12T04:16:41.805784Z",
     "iopub.status.idle": "2024-05-12T04:16:41.849885Z",
     "shell.execute_reply": "2024-05-12T04:16:41.849323Z",
     "shell.execute_reply.started": "2024-05-12T04:16:41.808445Z"
    },
    "jupyter": {
     "outputs_hidden": true
    },
    "scrolled": true
   },
   "outputs": [
    {
     "name": "stdout",
     "output_type": "stream",
     "text": [
      "<class 'pandas.core.frame.DataFrame'>\n",
      "RangeIndex: 27 entries, 0 to 26\n",
      "Data columns (total 22 columns):\n",
      " #   Column  Non-Null Count  Dtype  \n",
      "---  ------  --------------  -----  \n",
      " 0   범죄 유형   0 non-null      float64\n",
      " 1   지역      3 non-null      object \n",
      " 2   위도      0 non-null      float64\n",
      " 3   경도      0 non-null      float64\n",
      " 4   중복 여부   6 non-null      object \n",
      " 5   퀄리티     0 non-null      float64\n",
      " 6   제외 여부   0 non-null      float64\n",
      " 7   기사제목    27 non-null     object \n",
      " 8   사건 장소   27 non-null     object \n",
      " 9   수사 기관   27 non-null     object \n",
      " 10  본문      27 non-null     object \n",
      " 11  URL     27 non-null     object \n",
      " 12  일자      27 non-null     int64  \n",
      " 13  언론사     27 non-null     object \n",
      " 14  기고자     27 non-null     object \n",
      " 15  비고      0 non-null      float64\n",
      " 16  text    27 non-null     object \n",
      " 17  who     5 non-null      object \n",
      " 18  when    5 non-null      object \n",
      " 19  where   5 non-null      object \n",
      " 20  what    5 non-null      object \n",
      " 21  json    27 non-null     object \n",
      "dtypes: float64(6), int64(1), object(15)\n",
      "memory usage: 4.8+ KB\n"
     ]
    }
   ],
   "source": [
    "df_hk_json.info()"
   ]
  },
  {
   "cell_type": "code",
   "execution_count": 7,
   "id": "c383cef8-c088-4193-8522-3b9af9b1c4bc",
   "metadata": {
    "execution": {
     "iopub.execute_input": "2024-05-13T08:22:40.642338Z",
     "iopub.status.busy": "2024-05-13T08:22:40.641497Z",
     "iopub.status.idle": "2024-05-13T08:22:40.687915Z",
     "shell.execute_reply": "2024-05-13T08:22:40.687371Z",
     "shell.execute_reply.started": "2024-05-13T08:22:40.642294Z"
    },
    "scrolled": true
   },
   "outputs": [
    {
     "data": {
      "text/html": [
       "<div>\n",
       "<style scoped>\n",
       "    .dataframe tbody tr th:only-of-type {\n",
       "        vertical-align: middle;\n",
       "    }\n",
       "\n",
       "    .dataframe tbody tr th {\n",
       "        vertical-align: top;\n",
       "    }\n",
       "\n",
       "    .dataframe thead th {\n",
       "        text-align: right;\n",
       "    }\n",
       "</style>\n",
       "<table border=\"1\" class=\"dataframe\">\n",
       "  <thead>\n",
       "    <tr style=\"text-align: right;\">\n",
       "      <th></th>\n",
       "      <th>범죄 유형</th>\n",
       "      <th>지역</th>\n",
       "      <th>위도</th>\n",
       "      <th>경도</th>\n",
       "      <th>중복 여부</th>\n",
       "      <th>퀄리티</th>\n",
       "      <th>제외 여부</th>\n",
       "      <th>기사제목</th>\n",
       "      <th>사건 장소</th>\n",
       "      <th>수사 기관</th>\n",
       "      <th>...</th>\n",
       "      <th>일자</th>\n",
       "      <th>언론사</th>\n",
       "      <th>기고자</th>\n",
       "      <th>비고</th>\n",
       "      <th>text</th>\n",
       "      <th>who</th>\n",
       "      <th>when</th>\n",
       "      <th>where</th>\n",
       "      <th>what</th>\n",
       "      <th>json</th>\n",
       "    </tr>\n",
       "  </thead>\n",
       "  <tbody>\n",
       "    <tr>\n",
       "      <th>0</th>\n",
       "      <td>NaN</td>\n",
       "      <td>NaN</td>\n",
       "      <td>NaN</td>\n",
       "      <td>NaN</td>\n",
       "      <td>19번과 중복</td>\n",
       "      <td>NaN</td>\n",
       "      <td>NaN</td>\n",
       "      <td>부산 돌려차기 男 \"나가면 죽인다\" 구치소 동료 충격 제보</td>\n",
       "      <td>부산,상해</td>\n",
       "      <td>SBS,경찰,부산</td>\n",
       "      <td>...</td>\n",
       "      <td>20230410</td>\n",
       "      <td>한국경제</td>\n",
       "      <td>김세린</td>\n",
       "      <td>NaN</td>\n",
       "      <td>사건 당시 폐쇄회로(CC)TV에 담긴 폭행 영상. /사진= SBS '그것이 알고싶다...</td>\n",
       "      <td>B씨</td>\n",
       "      <td>2023년 10월 10일</td>\n",
       "      <td>부산의 한 모텔</td>\n",
       "      <td>성폭행 혐의로 1심에서 12년형을 선고받고 복역 중이며, 형량이 과도하다는 취지로 ...</td>\n",
       "      <td>{\\n\"who\": \"B씨\",\\n\"when\": \"7분 동안 성폭행이 일어났다\",\\n\"...</td>\n",
       "    </tr>\n",
       "  </tbody>\n",
       "</table>\n",
       "<p>1 rows × 22 columns</p>\n",
       "</div>"
      ],
      "text/plain": [
       "   범죄 유형   지역  위도  경도    중복 여부  퀄리티  제외 여부                              기사제목  \\\n",
       "0    NaN  NaN NaN NaN  19번과 중복  NaN    NaN  부산 돌려차기 男 \"나가면 죽인다\" 구치소 동료 충격 제보   \n",
       "\n",
       "   사건 장소      수사 기관  ...        일자   언론사  기고자  비고  \\\n",
       "0  부산,상해  SBS,경찰,부산  ...  20230410  한국경제  김세린 NaN   \n",
       "\n",
       "                                                text  who           when  \\\n",
       "0  사건 당시 폐쇄회로(CC)TV에 담긴 폭행 영상. /사진= SBS '그것이 알고싶다...   B씨  2023년 10월 10일   \n",
       "\n",
       "      where                                               what  \\\n",
       "0  부산의 한 모텔  성폭행 혐의로 1심에서 12년형을 선고받고 복역 중이며, 형량이 과도하다는 취지로 ...   \n",
       "\n",
       "                                                json  \n",
       "0  {\\n\"who\": \"B씨\",\\n\"when\": \"7분 동안 성폭행이 일어났다\",\\n\"...  \n",
       "\n",
       "[1 rows x 22 columns]"
      ]
     },
     "execution_count": 7,
     "metadata": {},
     "output_type": "execute_result"
    }
   ],
   "source": [
    "df_hk_json.head(1)"
   ]
  },
  {
   "cell_type": "code",
   "execution_count": 8,
   "id": "ededf90e-e699-417c-8337-195375032f54",
   "metadata": {
    "execution": {
     "iopub.execute_input": "2024-05-13T08:22:44.117642Z",
     "iopub.status.busy": "2024-05-13T08:22:44.116231Z",
     "iopub.status.idle": "2024-05-13T08:22:44.130511Z",
     "shell.execute_reply": "2024-05-13T08:22:44.129926Z",
     "shell.execute_reply.started": "2024-05-13T08:22:44.117596Z"
    }
   },
   "outputs": [
    {
     "data": {
      "text/plain": [
       "'{\"who\": \"남성\", \"when\": \"3월 서울 관악구 골목길에서 난동을 부렸던 날\", \"where\": \"서울\", \"what\": \"남성이 여성을 향해 달려갔다, 갑자기 돌진하는 남성을 보며 놀란 여성이 횡단보도로 뛰어가며 도망쳤지만, 남성은 그 뒤를 쫓아갔다.\"'"
      ]
     },
     "execution_count": 8,
     "metadata": {},
     "output_type": "execute_result"
    }
   ],
   "source": [
    "df_hk_json.iloc[2]['json']"
   ]
  },
  {
   "cell_type": "markdown",
   "id": "3e5cacaa-747f-4b00-9bc5-32170433f03e",
   "metadata": {
    "jp-MarkdownHeadingCollapsed": true
   },
   "source": [
    "#### search address in text"
   ]
  },
  {
   "cell_type": "code",
   "execution_count": 4,
   "id": "e08638dc-f953-4ff9-a632-203c73060e05",
   "metadata": {
    "execution": {
     "iopub.execute_input": "2024-05-13T08:57:53.476704Z",
     "iopub.status.busy": "2024-05-13T08:57:53.476473Z",
     "iopub.status.idle": "2024-05-13T08:57:53.481513Z",
     "shell.execute_reply": "2024-05-13T08:57:53.481038Z",
     "shell.execute_reply.started": "2024-05-13T08:57:53.476688Z"
    }
   },
   "outputs": [],
   "source": [
    "df_where = df_hk_json['where']"
   ]
  },
  {
   "cell_type": "code",
   "execution_count": 8,
   "id": "faa31608-6fac-43d1-8f81-bdaa0cdcd6a4",
   "metadata": {
    "collapsed": true,
    "execution": {
     "iopub.execute_input": "2024-05-13T08:35:12.425318Z",
     "iopub.status.busy": "2024-05-13T08:35:12.423792Z",
     "iopub.status.idle": "2024-05-13T08:35:12.436778Z",
     "shell.execute_reply": "2024-05-13T08:35:12.435992Z",
     "shell.execute_reply.started": "2024-05-13T08:35:12.425264Z"
    },
    "jupyter": {
     "outputs_hidden": true
    },
    "scrolled": true
   },
   "outputs": [
    {
     "data": {
      "text/plain": [
       "0           부산의 한 모텔\n",
       "1         김제시의 한 아파트\n",
       "2    서울 강남구 압구정동의 길가\n",
       "3         김제시의 한 아파트\n",
       "4         김제시의 한 아파트\n",
       "Name: where, dtype: object"
      ]
     },
     "execution_count": 8,
     "metadata": {},
     "output_type": "execute_result"
    }
   ],
   "source": [
    "df_where.head()"
   ]
  },
  {
   "cell_type": "code",
   "execution_count": 5,
   "id": "e31dd368-0387-4afd-8781-73ea4ee6ff77",
   "metadata": {
    "execution": {
     "iopub.execute_input": "2024-05-13T08:58:04.501591Z",
     "iopub.status.busy": "2024-05-13T08:58:04.500886Z",
     "iopub.status.idle": "2024-05-13T08:58:04.564981Z",
     "shell.execute_reply": "2024-05-13T08:58:04.564628Z",
     "shell.execute_reply.started": "2024-05-13T08:58:04.501566Z"
    }
   },
   "outputs": [],
   "source": [
    "df_addr = pd.read_csv('./address/address.csv')"
   ]
  },
  {
   "cell_type": "markdown",
   "id": "9a144384-061f-4ae0-8f94-a038bccda018",
   "metadata": {
    "jp-MarkdownHeadingCollapsed": true
   },
   "source": [
    "#### retrieve"
   ]
  },
  {
   "cell_type": "code",
   "execution_count": 6,
   "id": "6e03970a-709f-45a3-8f92-a7bb1246b8ad",
   "metadata": {
    "execution": {
     "iopub.execute_input": "2024-05-13T08:58:08.633271Z",
     "iopub.status.busy": "2024-05-13T08:58:08.632263Z",
     "iopub.status.idle": "2024-05-13T08:58:12.286491Z",
     "shell.execute_reply": "2024-05-13T08:58:12.286163Z",
     "shell.execute_reply.started": "2024-05-13T08:58:08.633242Z"
    },
    "scrolled": true
   },
   "outputs": [
    {
     "name": "stderr",
     "output_type": "stream",
     "text": [
      "ic| item: '부산의 한 모텔'\n",
      "ic| res: ''\n",
      "ic| item: '김제시의 한 아파트'\n",
      "ic| res: '전북특별자치도 김제시'\n",
      "ic| item: '서울 강남구 압구정동의 길가'\n",
      "ic| res: '서울특별시 강남구 압구정동'\n"
     ]
    }
   ],
   "source": [
    "history = []\n",
    "for item in df_where[:3]:\n",
    "    if isinstance(item, str):\n",
    "        ic(item)\n",
    "        ra = RetrieveAddress(df_addr)\n",
    "        res = ra.process(item)\n",
    "        history.append(ra)\n",
    "        ic(res)"
   ]
  },
  {
   "cell_type": "code",
   "execution_count": 18,
   "id": "b7848029-b34c-498b-95c0-a264533c513a",
   "metadata": {
    "execution": {
     "iopub.execute_input": "2024-05-13T08:45:32.770672Z",
     "iopub.status.busy": "2024-05-13T08:45:32.769552Z",
     "iopub.status.idle": "2024-05-13T08:45:32.781917Z",
     "shell.execute_reply": "2024-05-13T08:45:32.781517Z",
     "shell.execute_reply.started": "2024-05-13T08:45:32.770631Z"
    }
   },
   "outputs": [
    {
     "data": {
      "text/html": [
       "<div>\n",
       "<style scoped>\n",
       "    .dataframe tbody tr th:only-of-type {\n",
       "        vertical-align: middle;\n",
       "    }\n",
       "\n",
       "    .dataframe tbody tr th {\n",
       "        vertical-align: top;\n",
       "    }\n",
       "\n",
       "    .dataframe thead th {\n",
       "        text-align: right;\n",
       "    }\n",
       "</style>\n",
       "<table border=\"1\" class=\"dataframe\">\n",
       "  <thead>\n",
       "    <tr style=\"text-align: right;\">\n",
       "      <th></th>\n",
       "      <th>lv1</th>\n",
       "      <th>lv2</th>\n",
       "      <th>lv3</th>\n",
       "      <th>lv4</th>\n",
       "      <th>lv5</th>\n",
       "    </tr>\n",
       "  </thead>\n",
       "  <tbody>\n",
       "  </tbody>\n",
       "</table>\n",
       "</div>"
      ],
      "text/plain": [
       "Empty DataFrame\n",
       "Columns: [lv1, lv2, lv3, lv4, lv5]\n",
       "Index: []"
      ]
     },
     "execution_count": 18,
     "metadata": {},
     "output_type": "execute_result"
    }
   ],
   "source": [
    "history[0].df_filtered"
   ]
  },
  {
   "cell_type": "markdown",
   "id": "3b08ffec-0ce3-4ca6-8e6b-dbb5d473ac9c",
   "metadata": {},
   "source": [
    "'부산'은 첫번째 컬럼이므로 필터링이 되지 않기 때문에,  \n",
    "아무 데이터도 없다."
   ]
  },
  {
   "cell_type": "code",
   "execution_count": 19,
   "id": "c25d05b7-ca7f-41c1-84b4-e0a667c47275",
   "metadata": {
    "execution": {
     "iopub.execute_input": "2024-05-13T08:47:14.389842Z",
     "iopub.status.busy": "2024-05-13T08:47:14.388561Z",
     "iopub.status.idle": "2024-05-13T08:47:14.407894Z",
     "shell.execute_reply": "2024-05-13T08:47:14.407507Z",
     "shell.execute_reply.started": "2024-05-13T08:47:14.389812Z"
    },
    "scrolled": true
   },
   "outputs": [
    {
     "data": {
      "text/html": [
       "<div>\n",
       "<style scoped>\n",
       "    .dataframe tbody tr th:only-of-type {\n",
       "        vertical-align: middle;\n",
       "    }\n",
       "\n",
       "    .dataframe tbody tr th {\n",
       "        vertical-align: top;\n",
       "    }\n",
       "\n",
       "    .dataframe thead th {\n",
       "        text-align: right;\n",
       "    }\n",
       "</style>\n",
       "<table border=\"1\" class=\"dataframe\">\n",
       "  <thead>\n",
       "    <tr style=\"text-align: right;\">\n",
       "      <th></th>\n",
       "      <th>lv1</th>\n",
       "      <th>lv2</th>\n",
       "      <th>lv3</th>\n",
       "      <th>lv4</th>\n",
       "      <th>lv5</th>\n",
       "    </tr>\n",
       "  </thead>\n",
       "  <tbody>\n",
       "    <tr>\n",
       "      <th>9538</th>\n",
       "      <td>전북특별자치도</td>\n",
       "      <td>김제시</td>\n",
       "      <td>요촌동</td>\n",
       "      <td>NaN</td>\n",
       "      <td>NaN</td>\n",
       "    </tr>\n",
       "    <tr>\n",
       "      <th>9539</th>\n",
       "      <td>전북특별자치도</td>\n",
       "      <td>김제시</td>\n",
       "      <td>신풍동</td>\n",
       "      <td>NaN</td>\n",
       "      <td>NaN</td>\n",
       "    </tr>\n",
       "    <tr>\n",
       "      <th>9540</th>\n",
       "      <td>전북특별자치도</td>\n",
       "      <td>김제시</td>\n",
       "      <td>용동</td>\n",
       "      <td>NaN</td>\n",
       "      <td>NaN</td>\n",
       "    </tr>\n",
       "    <tr>\n",
       "      <th>9541</th>\n",
       "      <td>전북특별자치도</td>\n",
       "      <td>김제시</td>\n",
       "      <td>검산동</td>\n",
       "      <td>NaN</td>\n",
       "      <td>NaN</td>\n",
       "    </tr>\n",
       "    <tr>\n",
       "      <th>9542</th>\n",
       "      <td>전북특별자치도</td>\n",
       "      <td>김제시</td>\n",
       "      <td>순동</td>\n",
       "      <td>NaN</td>\n",
       "      <td>NaN</td>\n",
       "    </tr>\n",
       "    <tr>\n",
       "      <th>...</th>\n",
       "      <td>...</td>\n",
       "      <td>...</td>\n",
       "      <td>...</td>\n",
       "      <td>...</td>\n",
       "      <td>...</td>\n",
       "    </tr>\n",
       "    <tr>\n",
       "      <th>9751</th>\n",
       "      <td>전북특별자치도</td>\n",
       "      <td>김제시</td>\n",
       "      <td>금산면</td>\n",
       "      <td>용산리</td>\n",
       "      <td>NaN</td>\n",
       "    </tr>\n",
       "    <tr>\n",
       "      <th>9752</th>\n",
       "      <td>전북특별자치도</td>\n",
       "      <td>김제시</td>\n",
       "      <td>금산면</td>\n",
       "      <td>구월리</td>\n",
       "      <td>NaN</td>\n",
       "    </tr>\n",
       "    <tr>\n",
       "      <th>9753</th>\n",
       "      <td>전북특별자치도</td>\n",
       "      <td>김제시</td>\n",
       "      <td>광활면</td>\n",
       "      <td>옥포리</td>\n",
       "      <td>NaN</td>\n",
       "    </tr>\n",
       "    <tr>\n",
       "      <th>9754</th>\n",
       "      <td>전북특별자치도</td>\n",
       "      <td>김제시</td>\n",
       "      <td>광활면</td>\n",
       "      <td>은파리</td>\n",
       "      <td>NaN</td>\n",
       "    </tr>\n",
       "    <tr>\n",
       "      <th>9755</th>\n",
       "      <td>전북특별자치도</td>\n",
       "      <td>김제시</td>\n",
       "      <td>광활면</td>\n",
       "      <td>창제리</td>\n",
       "      <td>NaN</td>\n",
       "    </tr>\n",
       "  </tbody>\n",
       "</table>\n",
       "<p>218 rows × 5 columns</p>\n",
       "</div>"
      ],
      "text/plain": [
       "          lv1  lv2  lv3  lv4  lv5\n",
       "9538  전북특별자치도  김제시  요촌동  NaN  NaN\n",
       "9539  전북특별자치도  김제시  신풍동  NaN  NaN\n",
       "9540  전북특별자치도  김제시   용동  NaN  NaN\n",
       "9541  전북특별자치도  김제시  검산동  NaN  NaN\n",
       "9542  전북특별자치도  김제시   순동  NaN  NaN\n",
       "...       ...  ...  ...  ...  ...\n",
       "9751  전북특별자치도  김제시  금산면  용산리  NaN\n",
       "9752  전북특별자치도  김제시  금산면  구월리  NaN\n",
       "9753  전북특별자치도  김제시  광활면  옥포리  NaN\n",
       "9754  전북특별자치도  김제시  광활면  은파리  NaN\n",
       "9755  전북특별자치도  김제시  광활면  창제리  NaN\n",
       "\n",
       "[218 rows x 5 columns]"
      ]
     },
     "execution_count": 19,
     "metadata": {},
     "output_type": "execute_result"
    }
   ],
   "source": [
    "history[1].df_filtered"
   ]
  },
  {
   "cell_type": "code",
   "execution_count": 20,
   "id": "48ea20b3-0eed-4d27-89aa-9ecacb3c6c17",
   "metadata": {
    "execution": {
     "iopub.execute_input": "2024-05-13T08:48:07.914842Z",
     "iopub.status.busy": "2024-05-13T08:48:07.913705Z",
     "iopub.status.idle": "2024-05-13T08:48:07.941451Z",
     "shell.execute_reply": "2024-05-13T08:48:07.941040Z",
     "shell.execute_reply.started": "2024-05-13T08:48:07.914804Z"
    },
    "scrolled": true
   },
   "outputs": [
    {
     "data": {
      "text/html": [
       "<div>\n",
       "<style scoped>\n",
       "    .dataframe tbody tr th:only-of-type {\n",
       "        vertical-align: middle;\n",
       "    }\n",
       "\n",
       "    .dataframe tbody tr th {\n",
       "        vertical-align: top;\n",
       "    }\n",
       "\n",
       "    .dataframe thead th {\n",
       "        text-align: right;\n",
       "    }\n",
       "</style>\n",
       "<table border=\"1\" class=\"dataframe\">\n",
       "  <thead>\n",
       "    <tr style=\"text-align: right;\">\n",
       "      <th></th>\n",
       "      <th>index</th>\n",
       "      <th>lv1</th>\n",
       "      <th>lv2</th>\n",
       "      <th>lv3</th>\n",
       "    </tr>\n",
       "  </thead>\n",
       "  <tbody>\n",
       "    <tr>\n",
       "      <th>0</th>\n",
       "      <td>9538</td>\n",
       "      <td>218</td>\n",
       "      <td>218</td>\n",
       "      <td>218</td>\n",
       "    </tr>\n",
       "    <tr>\n",
       "      <th>1</th>\n",
       "      <td>9539</td>\n",
       "      <td>218</td>\n",
       "      <td>218</td>\n",
       "      <td>218</td>\n",
       "    </tr>\n",
       "    <tr>\n",
       "      <th>2</th>\n",
       "      <td>9540</td>\n",
       "      <td>218</td>\n",
       "      <td>218</td>\n",
       "      <td>218</td>\n",
       "    </tr>\n",
       "    <tr>\n",
       "      <th>3</th>\n",
       "      <td>9541</td>\n",
       "      <td>218</td>\n",
       "      <td>218</td>\n",
       "      <td>218</td>\n",
       "    </tr>\n",
       "    <tr>\n",
       "      <th>4</th>\n",
       "      <td>9542</td>\n",
       "      <td>218</td>\n",
       "      <td>218</td>\n",
       "      <td>218</td>\n",
       "    </tr>\n",
       "    <tr>\n",
       "      <th>...</th>\n",
       "      <td>...</td>\n",
       "      <td>...</td>\n",
       "      <td>...</td>\n",
       "      <td>...</td>\n",
       "    </tr>\n",
       "    <tr>\n",
       "      <th>213</th>\n",
       "      <td>9751</td>\n",
       "      <td>218</td>\n",
       "      <td>218</td>\n",
       "      <td>218</td>\n",
       "    </tr>\n",
       "    <tr>\n",
       "      <th>214</th>\n",
       "      <td>9752</td>\n",
       "      <td>218</td>\n",
       "      <td>218</td>\n",
       "      <td>218</td>\n",
       "    </tr>\n",
       "    <tr>\n",
       "      <th>215</th>\n",
       "      <td>9753</td>\n",
       "      <td>218</td>\n",
       "      <td>218</td>\n",
       "      <td>218</td>\n",
       "    </tr>\n",
       "    <tr>\n",
       "      <th>216</th>\n",
       "      <td>9754</td>\n",
       "      <td>218</td>\n",
       "      <td>218</td>\n",
       "      <td>218</td>\n",
       "    </tr>\n",
       "    <tr>\n",
       "      <th>217</th>\n",
       "      <td>9755</td>\n",
       "      <td>218</td>\n",
       "      <td>218</td>\n",
       "      <td>218</td>\n",
       "    </tr>\n",
       "  </tbody>\n",
       "</table>\n",
       "<p>218 rows × 4 columns</p>\n",
       "</div>"
      ],
      "text/plain": [
       "     index  lv1  lv2  lv3\n",
       "0     9538  218  218  218\n",
       "1     9539  218  218  218\n",
       "2     9540  218  218  218\n",
       "3     9541  218  218  218\n",
       "4     9542  218  218  218\n",
       "..     ...  ...  ...  ...\n",
       "213   9751  218  218  218\n",
       "214   9752  218  218  218\n",
       "215   9753  218  218  218\n",
       "216   9754  218  218  218\n",
       "217   9755  218  218  218\n",
       "\n",
       "[218 rows x 4 columns]"
      ]
     },
     "execution_count": 20,
     "metadata": {},
     "output_type": "execute_result"
    }
   ],
   "source": [
    "history[1].df_count"
   ]
  },
  {
   "cell_type": "code",
   "execution_count": 7,
   "id": "c5e15a9e-8498-4564-aa0b-52619418399a",
   "metadata": {
    "execution": {
     "iopub.execute_input": "2024-05-13T08:52:53.885475Z",
     "iopub.status.busy": "2024-05-13T08:52:53.884324Z",
     "iopub.status.idle": "2024-05-13T08:52:53.899100Z",
     "shell.execute_reply": "2024-05-13T08:52:53.898235Z",
     "shell.execute_reply.started": "2024-05-13T08:52:53.885425Z"
    }
   },
   "outputs": [
    {
     "data": {
      "text/plain": [
       "2"
      ]
     },
     "execution_count": 7,
     "metadata": {},
     "output_type": "execute_result"
    }
   ],
   "source": [
    "history[1].level"
   ]
  },
  {
   "cell_type": "code",
   "execution_count": null,
   "id": "df8025d7-4b6b-4d40-be27-66507071ace3",
   "metadata": {},
   "outputs": [],
   "source": []
  },
  {
   "cell_type": "markdown",
   "id": "0d27a2cf-b018-4b80-85d2-68b4a91e977a",
   "metadata": {
    "jp-MarkdownHeadingCollapsed": true
   },
   "source": [
    "#### retrieving where"
   ]
  },
  {
   "cell_type": "code",
   "execution_count": 112,
   "id": "b5828918-a036-4e8a-adaf-cf3481d9284b",
   "metadata": {
    "execution": {
     "iopub.execute_input": "2024-04-22T05:04:42.004712Z",
     "iopub.status.busy": "2024-04-22T05:04:42.003788Z",
     "iopub.status.idle": "2024-04-22T05:04:42.011311Z",
     "shell.execute_reply": "2024-04-22T05:04:42.010005Z",
     "shell.execute_reply.started": "2024-04-22T05:04:42.004667Z"
    }
   },
   "outputs": [],
   "source": [
    "json_columns = ['who', 'when', 'where', 'what']"
   ]
  },
  {
   "cell_type": "code",
   "execution_count": 110,
   "id": "89e0585e-2496-4ec4-96cf-3ecd5844d4ba",
   "metadata": {
    "execution": {
     "iopub.execute_input": "2024-04-22T05:04:05.381669Z",
     "iopub.status.busy": "2024-04-22T05:04:05.380272Z",
     "iopub.status.idle": "2024-04-22T05:04:05.388533Z",
     "shell.execute_reply": "2024-04-22T05:04:05.387642Z",
     "shell.execute_reply.started": "2024-04-22T05:04:05.381588Z"
    }
   },
   "outputs": [],
   "source": [
    "json_columns_2 = ['who_2', 'when_2', 'where_2', 'what_2']"
   ]
  },
  {
   "cell_type": "code",
   "execution_count": 113,
   "id": "d29ff74a-5b2e-4f56-9f54-4559daebb4e4",
   "metadata": {
    "execution": {
     "iopub.execute_input": "2024-04-22T05:05:14.735327Z",
     "iopub.status.busy": "2024-04-22T05:05:14.734879Z",
     "iopub.status.idle": "2024-04-22T05:05:14.805282Z",
     "shell.execute_reply": "2024-04-22T05:05:14.804579Z",
     "shell.execute_reply.started": "2024-04-22T05:05:14.735310Z"
    },
    "scrolled": true
   },
   "outputs": [
    {
     "name": "stderr",
     "output_type": "stream",
     "text": [
      "  0%|                                                                                                                                                                                    | 0/27 [00:00<?, ?it/s]/var/folders/r0/w084nh2s0v3fstg3n70027500000gn/T/ipykernel_43935/1434628716.py:5: FutureWarning: Setting an item of incompatible dtype is deprecated and will raise in a future error of pandas. Value '60대 남성' has dtype incompatible with float64, please explicitly cast to a compatible dtype first.\n",
      "  df.loc[index, f\"{column}_2\"] = result[column]\n",
      "/var/folders/r0/w084nh2s0v3fstg3n70027500000gn/T/ipykernel_43935/1434628716.py:5: FutureWarning: Setting an item of incompatible dtype is deprecated and will raise in a future error of pandas. Value '오후 2시' has dtype incompatible with float64, please explicitly cast to a compatible dtype first.\n",
      "  df.loc[index, f\"{column}_2\"] = result[column]\n",
      "/var/folders/r0/w084nh2s0v3fstg3n70027500000gn/T/ipykernel_43935/1434628716.py:5: FutureWarning: Setting an item of incompatible dtype is deprecated and will raise in a future error of pandas. Value '김제시 한 아파트' has dtype incompatible with float64, please explicitly cast to a compatible dtype first.\n",
      "  df.loc[index, f\"{column}_2\"] = result[column]\n",
      "/var/folders/r0/w084nh2s0v3fstg3n70027500000gn/T/ipykernel_43935/1434628716.py:5: FutureWarning: Setting an item of incompatible dtype is deprecated and will raise in a future error of pandas. Value '주먹을 휘두른 60대 여성 주먹으로 여러 차례 때린 혐의를 받았다.' has dtype incompatible with float64, please explicitly cast to a compatible dtype first.\n",
      "  df.loc[index, f\"{column}_2\"] = result[column]\n",
      "100%|██████████████████████████████████████████████████████████████████████████████████████████████████████████████████████████████████████████████████████████████████████████| 27/27 [00:00<00:00, 553.83it/s]"
     ]
    },
    {
     "name": "stdout",
     "output_type": "stream",
     "text": [
      "Error loading JSON: Expecting ',' delimiter: line 5 column 83 (char 247)\n",
      "Error loading JSON: Expecting ',' delimiter: line 1 column 136 (char 135)\n",
      "Error loading JSON: Expecting ',' delimiter: line 5 column 40 (char 134)\n",
      "Error loading JSON: Expecting ',' delimiter: line 5 column 90 (char 147)\n",
      "Error loading JSON: Expecting ',' delimiter: line 1 column 189 (char 188)\n",
      "Error loading JSON: Expecting ',' delimiter: line 1 column 167 (char 166)\n",
      "Error loading JSON: Expecting ',' delimiter: line 1 column 147 (char 146)\n",
      "Error loading JSON: Expecting ',' delimiter: line 1 column 200 (char 199)\n",
      "Error loading JSON: Expecting ',' delimiter: line 1 column 133 (char 132)\n"
     ]
    },
    {
     "name": "stderr",
     "output_type": "stream",
     "text": [
      "\n"
     ]
    }
   ],
   "source": [
    "for index in tqdm(range(df_len)):\n",
    "    result = get_json(df.iloc[index]['json_2'])\n",
    "    if result != None:\n",
    "        for column in json_columns:\n",
    "            df.loc[index, f\"{column}_2\"] = result[column]"
   ]
  },
  {
   "cell_type": "code",
   "execution_count": 117,
   "id": "d9e7f4a4-5dfb-409c-9f1e-ca40ff02020b",
   "metadata": {
    "execution": {
     "iopub.execute_input": "2024-04-22T05:06:44.170574Z",
     "iopub.status.busy": "2024-04-22T05:06:44.170238Z",
     "iopub.status.idle": "2024-04-22T05:06:44.185116Z",
     "shell.execute_reply": "2024-04-22T05:06:44.184779Z",
     "shell.execute_reply.started": "2024-04-22T05:06:44.170555Z"
    },
    "scrolled": true
   },
   "outputs": [
    {
     "data": {
      "text/html": [
       "<div>\n",
       "<style scoped>\n",
       "    .dataframe tbody tr th:only-of-type {\n",
       "        vertical-align: middle;\n",
       "    }\n",
       "\n",
       "    .dataframe tbody tr th {\n",
       "        vertical-align: top;\n",
       "    }\n",
       "\n",
       "    .dataframe thead th {\n",
       "        text-align: right;\n",
       "    }\n",
       "</style>\n",
       "<table border=\"1\" class=\"dataframe\">\n",
       "  <thead>\n",
       "    <tr style=\"text-align: right;\">\n",
       "      <th></th>\n",
       "      <th>where</th>\n",
       "      <th>where_2</th>\n",
       "    </tr>\n",
       "  </thead>\n",
       "  <tbody>\n",
       "    <tr>\n",
       "      <th>0</th>\n",
       "      <td>한 모텔에서 검거됐다</td>\n",
       "      <td>NaN</td>\n",
       "    </tr>\n",
       "    <tr>\n",
       "      <th>1</th>\n",
       "      <td>김제시의 한 아파트</td>\n",
       "      <td>김제시 한 아파트</td>\n",
       "    </tr>\n",
       "    <tr>\n",
       "      <th>2</th>\n",
       "      <td>서울 강남구 압구정동의 길가</td>\n",
       "      <td>서울 관악구 골목길</td>\n",
       "    </tr>\n",
       "    <tr>\n",
       "      <th>3</th>\n",
       "      <td>서울 강남구 압구정동의 길가</td>\n",
       "      <td>서울 강남구 압구정동</td>\n",
       "    </tr>\n",
       "    <tr>\n",
       "      <th>4</th>\n",
       "      <td>김제시의 한 아파트</td>\n",
       "      <td>서울 강남구 압구정동의 길가</td>\n",
       "    </tr>\n",
       "    <tr>\n",
       "      <th>5</th>\n",
       "      <td>NaN</td>\n",
       "      <td>강남역 인근 거리</td>\n",
       "    </tr>\n",
       "    <tr>\n",
       "      <th>6</th>\n",
       "      <td>강남 압구정동의 길가</td>\n",
       "      <td>NaN</td>\n",
       "    </tr>\n",
       "    <tr>\n",
       "      <th>7</th>\n",
       "      <td>경기 군포시 한 아파트 입구</td>\n",
       "      <td>NaN</td>\n",
       "    </tr>\n",
       "    <tr>\n",
       "      <th>8</th>\n",
       "      <td>사진=게티이미지뱅크</td>\n",
       "      <td>아파트 단지 내에서</td>\n",
       "    </tr>\n",
       "    <tr>\n",
       "      <th>9</th>\n",
       "      <td>부산</td>\n",
       "      <td>NaN</td>\n",
       "    </tr>\n",
       "    <tr>\n",
       "      <th>10</th>\n",
       "      <td>NaN</td>\n",
       "      <td>NaN</td>\n",
       "    </tr>\n",
       "    <tr>\n",
       "      <th>11</th>\n",
       "      <td>NaN</td>\n",
       "      <td>부산 부산진구 한 오피스텔 1층 복도</td>\n",
       "    </tr>\n",
       "    <tr>\n",
       "      <th>12</th>\n",
       "      <td>부산</td>\n",
       "      <td>부산에서</td>\n",
       "    </tr>\n",
       "    <tr>\n",
       "      <th>13</th>\n",
       "      <td>제주시 도련동 제주축산농협 삼화지점 앞 횡단보도</td>\n",
       "      <td>제주시 화북동의 한 횡단보도</td>\n",
       "    </tr>\n",
       "    <tr>\n",
       "      <th>14</th>\n",
       "      <td>NaN</td>\n",
       "      <td>서울 관악구 신림동 소재 야산</td>\n",
       "    </tr>\n",
       "    <tr>\n",
       "      <th>15</th>\n",
       "      <td>서울 관악구 신림동 공원 둘레길</td>\n",
       "      <td>서울 관악구 신림동 공원 둘레길</td>\n",
       "    </tr>\n",
       "    <tr>\n",
       "      <th>16</th>\n",
       "      <td>서울 관악구 신림동 등산로</td>\n",
       "      <td>서울 관악구 신림동 등산로</td>\n",
       "    </tr>\n",
       "    <tr>\n",
       "      <th>17</th>\n",
       "      <td>신림동의 공원</td>\n",
       "      <td>NaN</td>\n",
       "    </tr>\n",
       "    <tr>\n",
       "      <th>18</th>\n",
       "      <td>NaN</td>\n",
       "      <td>NaN</td>\n",
       "    </tr>\n",
       "    <tr>\n",
       "      <th>19</th>\n",
       "      <td>NaN</td>\n",
       "      <td>NaN</td>\n",
       "    </tr>\n",
       "    <tr>\n",
       "      <th>20</th>\n",
       "      <td>서울 한복판</td>\n",
       "      <td>서울 한복판</td>\n",
       "    </tr>\n",
       "    <tr>\n",
       "      <th>21</th>\n",
       "      <td>서울 중랑경찰서는 폭행치상 혐의로 입건한 A씨(30대)를 체포해 조사하고 있다고 설...</td>\n",
       "      <td>서울 지하철 7호선 안에서 맞은 편 승객에게 휴대폰을 던져 이마를 다치게 한 혐의를...</td>\n",
       "    </tr>\n",
       "    <tr>\n",
       "      <th>22</th>\n",
       "      <td>수원지역 아파트 엘리베이터 2곳과 경기 화성지역 상가 화장실 1곳</td>\n",
       "      <td>지난 5~6일 수원지역 아파트 엘리베이터 2곳과 경기 화성지역 상가 화장실 1곳에서...</td>\n",
       "    </tr>\n",
       "    <tr>\n",
       "      <th>23</th>\n",
       "      <td>수원시</td>\n",
       "      <td>수원시 소재의 한 고등학교</td>\n",
       "    </tr>\n",
       "    <tr>\n",
       "      <th>24</th>\n",
       "      <td>부산 중심가 서면</td>\n",
       "      <td>부산 중심가 서면</td>\n",
       "    </tr>\n",
       "    <tr>\n",
       "      <th>25</th>\n",
       "      <td>NaN</td>\n",
       "      <td>인천 서부경찰서는 편의점 여직원을 갑자기 폭행한 20대 남성 A씨를 불구속 입건했다</td>\n",
       "    </tr>\n",
       "    <tr>\n",
       "      <th>26</th>\n",
       "      <td>NaN</td>\n",
       "      <td>NaN</td>\n",
       "    </tr>\n",
       "  </tbody>\n",
       "</table>\n",
       "</div>"
      ],
      "text/plain": [
       "                                                where  \\\n",
       "0                                         한 모텔에서 검거됐다   \n",
       "1                                          김제시의 한 아파트   \n",
       "2                                     서울 강남구 압구정동의 길가   \n",
       "3                                     서울 강남구 압구정동의 길가   \n",
       "4                                          김제시의 한 아파트   \n",
       "5                                                 NaN   \n",
       "6                                         강남 압구정동의 길가   \n",
       "7                                     경기 군포시 한 아파트 입구   \n",
       "8                                          사진=게티이미지뱅크   \n",
       "9                                                  부산   \n",
       "10                                                NaN   \n",
       "11                                                NaN   \n",
       "12                                                 부산   \n",
       "13                         제주시 도련동 제주축산농협 삼화지점 앞 횡단보도   \n",
       "14                                                NaN   \n",
       "15                                  서울 관악구 신림동 공원 둘레길   \n",
       "16                                     서울 관악구 신림동 등산로   \n",
       "17                                            신림동의 공원   \n",
       "18                                                NaN   \n",
       "19                                                NaN   \n",
       "20                                             서울 한복판   \n",
       "21  서울 중랑경찰서는 폭행치상 혐의로 입건한 A씨(30대)를 체포해 조사하고 있다고 설...   \n",
       "22               수원지역 아파트 엘리베이터 2곳과 경기 화성지역 상가 화장실 1곳   \n",
       "23                                                수원시   \n",
       "24                                          부산 중심가 서면   \n",
       "25                                                NaN   \n",
       "26                                                NaN   \n",
       "\n",
       "                                              where_2  \n",
       "0                                                 NaN  \n",
       "1                                           김제시 한 아파트  \n",
       "2                                          서울 관악구 골목길  \n",
       "3                                         서울 강남구 압구정동  \n",
       "4                                     서울 강남구 압구정동의 길가  \n",
       "5                                           강남역 인근 거리  \n",
       "6                                                 NaN  \n",
       "7                                                 NaN  \n",
       "8                                          아파트 단지 내에서  \n",
       "9                                                 NaN  \n",
       "10                                                NaN  \n",
       "11                               부산 부산진구 한 오피스텔 1층 복도  \n",
       "12                                               부산에서  \n",
       "13                                    제주시 화북동의 한 횡단보도  \n",
       "14                                   서울 관악구 신림동 소재 야산  \n",
       "15                                  서울 관악구 신림동 공원 둘레길  \n",
       "16                                     서울 관악구 신림동 등산로  \n",
       "17                                                NaN  \n",
       "18                                                NaN  \n",
       "19                                                NaN  \n",
       "20                                             서울 한복판  \n",
       "21  서울 지하철 7호선 안에서 맞은 편 승객에게 휴대폰을 던져 이마를 다치게 한 혐의를...  \n",
       "22  지난 5~6일 수원지역 아파트 엘리베이터 2곳과 경기 화성지역 상가 화장실 1곳에서...  \n",
       "23                                     수원시 소재의 한 고등학교  \n",
       "24                                          부산 중심가 서면  \n",
       "25     인천 서부경찰서는 편의점 여직원을 갑자기 폭행한 20대 남성 A씨를 불구속 입건했다  \n",
       "26                                                NaN  "
      ]
     },
     "execution_count": 117,
     "metadata": {},
     "output_type": "execute_result"
    }
   ],
   "source": [
    "df[['where','where_2']]"
   ]
  },
  {
   "cell_type": "markdown",
   "id": "9dd381cf-364d-4d66-b677-73162ad2de55",
   "metadata": {
    "jp-MarkdownHeadingCollapsed": true
   },
   "source": [
    "### City Short Name"
   ]
  },
  {
   "cell_type": "markdown",
   "id": "9ef42bde-657f-4499-90f2-001967bcdb76",
   "metadata": {
    "jp-MarkdownHeadingCollapsed": true
   },
   "source": [
    "### read excel"
   ]
  },
  {
   "cell_type": "code",
   "execution_count": 92,
   "id": "65a09baf-50c3-43ce-87ef-e4ffbfe1fa99",
   "metadata": {
    "execution": {
     "iopub.execute_input": "2024-05-13T01:38:30.398249Z",
     "iopub.status.busy": "2024-05-13T01:38:30.392948Z",
     "iopub.status.idle": "2024-05-13T01:38:31.771264Z",
     "shell.execute_reply": "2024-05-13T01:38:31.770963Z",
     "shell.execute_reply.started": "2024-05-13T01:38:30.398180Z"
    }
   },
   "outputs": [],
   "source": [
    "df_addr = pd.read_excel(\"./address/법정동_20240201.xlsx\")"
   ]
  },
  {
   "cell_type": "code",
   "execution_count": 120,
   "id": "60c3cac8-51e9-4755-8214-04ae48712644",
   "metadata": {
    "execution": {
     "iopub.execute_input": "2024-04-22T12:05:56.500587Z",
     "iopub.status.busy": "2024-04-22T12:05:56.497084Z",
     "iopub.status.idle": "2024-04-22T12:05:56.535762Z",
     "shell.execute_reply": "2024-04-22T12:05:56.534803Z",
     "shell.execute_reply.started": "2024-04-22T12:05:56.500525Z"
    }
   },
   "outputs": [
    {
     "name": "stdout",
     "output_type": "stream",
     "text": [
      "<class 'pandas.core.frame.DataFrame'>\n",
      "RangeIndex: 20565 entries, 0 to 20564\n",
      "Data columns (total 7 columns):\n",
      " #   Column  Non-Null Count  Dtype  \n",
      "---  ------  --------------  -----  \n",
      " 0   법정동코드   20565 non-null  int64  \n",
      " 1   시도명     20565 non-null  object \n",
      " 2   시군구명    20395 non-null  object \n",
      " 3   읍면동명    20278 non-null  object \n",
      " 4   동리명     15212 non-null  object \n",
      " 5   생성일자    20565 non-null  int64  \n",
      " 6   말소일자    0 non-null      float64\n",
      "dtypes: float64(1), int64(2), object(4)\n",
      "memory usage: 1.1+ MB\n"
     ]
    }
   ],
   "source": [
    "df_addr.info()"
   ]
  },
  {
   "cell_type": "code",
   "execution_count": 121,
   "id": "b74bbf54-db75-4a9f-a217-32634c54df30",
   "metadata": {
    "execution": {
     "iopub.execute_input": "2024-04-22T12:06:06.122677Z",
     "iopub.status.busy": "2024-04-22T12:06:06.121601Z",
     "iopub.status.idle": "2024-04-22T12:06:06.136799Z",
     "shell.execute_reply": "2024-04-22T12:06:06.136258Z",
     "shell.execute_reply.started": "2024-04-22T12:06:06.122637Z"
    }
   },
   "outputs": [
    {
     "data": {
      "text/html": [
       "<div>\n",
       "<style scoped>\n",
       "    .dataframe tbody tr th:only-of-type {\n",
       "        vertical-align: middle;\n",
       "    }\n",
       "\n",
       "    .dataframe tbody tr th {\n",
       "        vertical-align: top;\n",
       "    }\n",
       "\n",
       "    .dataframe thead th {\n",
       "        text-align: right;\n",
       "    }\n",
       "</style>\n",
       "<table border=\"1\" class=\"dataframe\">\n",
       "  <thead>\n",
       "    <tr style=\"text-align: right;\">\n",
       "      <th></th>\n",
       "      <th>법정동코드</th>\n",
       "      <th>시도명</th>\n",
       "      <th>시군구명</th>\n",
       "      <th>읍면동명</th>\n",
       "      <th>동리명</th>\n",
       "      <th>생성일자</th>\n",
       "      <th>말소일자</th>\n",
       "    </tr>\n",
       "  </thead>\n",
       "  <tbody>\n",
       "    <tr>\n",
       "      <th>0</th>\n",
       "      <td>1100000000</td>\n",
       "      <td>서울특별시</td>\n",
       "      <td>NaN</td>\n",
       "      <td>NaN</td>\n",
       "      <td>NaN</td>\n",
       "      <td>19880423</td>\n",
       "      <td>NaN</td>\n",
       "    </tr>\n",
       "    <tr>\n",
       "      <th>1</th>\n",
       "      <td>1111000000</td>\n",
       "      <td>서울특별시</td>\n",
       "      <td>종로구</td>\n",
       "      <td>NaN</td>\n",
       "      <td>NaN</td>\n",
       "      <td>19880423</td>\n",
       "      <td>NaN</td>\n",
       "    </tr>\n",
       "    <tr>\n",
       "      <th>2</th>\n",
       "      <td>1111010100</td>\n",
       "      <td>서울특별시</td>\n",
       "      <td>종로구</td>\n",
       "      <td>청운동</td>\n",
       "      <td>NaN</td>\n",
       "      <td>19880423</td>\n",
       "      <td>NaN</td>\n",
       "    </tr>\n",
       "  </tbody>\n",
       "</table>\n",
       "</div>"
      ],
      "text/plain": [
       "        법정동코드    시도명 시군구명 읍면동명  동리명      생성일자  말소일자\n",
       "0  1100000000  서울특별시  NaN  NaN  NaN  19880423   NaN\n",
       "1  1111000000  서울특별시  종로구  NaN  NaN  19880423   NaN\n",
       "2  1111010100  서울특별시  종로구  청운동  NaN  19880423   NaN"
      ]
     },
     "execution_count": 121,
     "metadata": {},
     "output_type": "execute_result"
    }
   ],
   "source": [
    "df_addr.head(3)"
   ]
  },
  {
   "cell_type": "markdown",
   "id": "b442d272-503f-43f7-aa23-96080bdf3329",
   "metadata": {
    "jp-MarkdownHeadingCollapsed": true
   },
   "source": [
    "### Province"
   ]
  },
  {
   "cell_type": "code",
   "execution_count": 173,
   "id": "1b326f5b-8250-4efb-8220-edafa2a0374f",
   "metadata": {
    "execution": {
     "iopub.execute_input": "2024-04-22T13:10:24.326029Z",
     "iopub.status.busy": "2024-04-22T13:10:24.325024Z",
     "iopub.status.idle": "2024-04-22T13:10:24.398758Z",
     "shell.execute_reply": "2024-04-22T13:10:24.397883Z",
     "shell.execute_reply.started": "2024-04-22T13:10:24.326009Z"
    }
   },
   "outputs": [],
   "source": [
    "df_prov = df_addr[df_addr[\"시군구명\"].isna() == True]"
   ]
  },
  {
   "cell_type": "code",
   "execution_count": 174,
   "id": "f7efd469-66ef-4370-b85e-0aaf6c95d781",
   "metadata": {
    "execution": {
     "iopub.execute_input": "2024-04-22T13:10:39.017890Z",
     "iopub.status.busy": "2024-04-22T13:10:39.016722Z",
     "iopub.status.idle": "2024-04-22T13:10:39.023549Z",
     "shell.execute_reply": "2024-04-22T13:10:39.022981Z",
     "shell.execute_reply.started": "2024-04-22T13:10:39.017842Z"
    }
   },
   "outputs": [],
   "source": [
    "prov_index = df_prov.index"
   ]
  },
  {
   "cell_type": "code",
   "execution_count": 175,
   "id": "4ed3e906-bd7b-4fbd-b305-4de0d60d2bcd",
   "metadata": {
    "execution": {
     "iopub.execute_input": "2024-04-22T13:10:43.171819Z",
     "iopub.status.busy": "2024-04-22T13:10:43.171039Z",
     "iopub.status.idle": "2024-04-22T13:10:43.176518Z",
     "shell.execute_reply": "2024-04-22T13:10:43.175856Z",
     "shell.execute_reply.started": "2024-04-22T13:10:43.171788Z"
    }
   },
   "outputs": [],
   "source": [
    "prov_set = set([])"
   ]
  },
  {
   "cell_type": "code",
   "execution_count": 176,
   "id": "9e60939e-f156-4532-92d1-0e12adf494e2",
   "metadata": {
    "execution": {
     "iopub.execute_input": "2024-04-22T13:10:57.873242Z",
     "iopub.status.busy": "2024-04-22T13:10:57.872046Z",
     "iopub.status.idle": "2024-04-22T13:10:57.905994Z",
     "shell.execute_reply": "2024-04-22T13:10:57.905416Z",
     "shell.execute_reply.started": "2024-04-22T13:10:57.873196Z"
    },
    "scrolled": true
   },
   "outputs": [],
   "source": [
    "for index in prov_index:\n",
    "    # print(df_addr.iloc[index][\"시도명\"])\n",
    "    if df_addr.iloc[index][\"시도명\"] not in prov_set:\n",
    "        prov_set.add(df_addr.iloc[index][\"시도명\"])"
   ]
  },
  {
   "cell_type": "code",
   "execution_count": 177,
   "id": "15c82fdb-fd6d-4d43-872d-e725d8e5252c",
   "metadata": {
    "collapsed": true,
    "execution": {
     "iopub.execute_input": "2024-04-22T13:11:02.878251Z",
     "iopub.status.busy": "2024-04-22T13:11:02.877697Z",
     "iopub.status.idle": "2024-04-22T13:11:02.886029Z",
     "shell.execute_reply": "2024-04-22T13:11:02.885304Z",
     "shell.execute_reply.started": "2024-04-22T13:11:02.878223Z"
    },
    "jupyter": {
     "outputs_hidden": true
    },
    "scrolled": true
   },
   "outputs": [
    {
     "data": {
      "text/plain": [
       "{'강원특별자치도',\n",
       " '경기도',\n",
       " '경상남도',\n",
       " '경상북도',\n",
       " '광주광역시',\n",
       " '대구광역시',\n",
       " '대전광역시',\n",
       " '동해출장소',\n",
       " '부산광역시',\n",
       " '북부출장소',\n",
       " '서울특별시',\n",
       " '세종특별자치시',\n",
       " '울산광역시',\n",
       " '인천광역시',\n",
       " '전라남도',\n",
       " '전북특별자치도',\n",
       " '제주특별자치도',\n",
       " '충청남도',\n",
       " '충청북도'}"
      ]
     },
     "execution_count": 177,
     "metadata": {},
     "output_type": "execute_result"
    }
   ],
   "source": [
    "prov_set"
   ]
  },
  {
   "cell_type": "code",
   "execution_count": 197,
   "id": "963cebe0-8ba3-4f75-828e-303d330c849a",
   "metadata": {
    "execution": {
     "iopub.execute_input": "2024-04-22T13:22:24.720550Z",
     "iopub.status.busy": "2024-04-22T13:22:24.719553Z",
     "iopub.status.idle": "2024-04-22T13:22:24.731285Z",
     "shell.execute_reply": "2024-04-22T13:22:24.730422Z",
     "shell.execute_reply.started": "2024-04-22T13:22:24.720503Z"
    }
   },
   "outputs": [],
   "source": [
    "district = {}"
   ]
  },
  {
   "cell_type": "markdown",
   "id": "87cb311a-2130-413c-9dd2-c612569719a8",
   "metadata": {
    "jp-MarkdownHeadingCollapsed": true
   },
   "source": [
    "### City"
   ]
  },
  {
   "cell_type": "code",
   "execution_count": 216,
   "id": "fd31fa36-6e79-466c-973a-0754497a4e7d",
   "metadata": {
    "execution": {
     "iopub.execute_input": "2024-04-22T13:58:07.791535Z",
     "iopub.status.busy": "2024-04-22T13:58:07.790668Z",
     "iopub.status.idle": "2024-04-22T13:58:07.834382Z",
     "shell.execute_reply": "2024-04-22T13:58:07.834017Z",
     "shell.execute_reply.started": "2024-04-22T13:58:07.791509Z"
    }
   },
   "outputs": [],
   "source": [
    "for item in prov_set:\n",
    "    df_item = df_addr[df_addr[df_addr.columns[1]] == item]\n",
    "    df_item = df_item[df_item[df_addr.columns[3]].isna() == True]\n",
    "    df_item = df_item[df_item[df_addr.columns[2]].isna() == False]\n",
    "    district[item] = {\"list\" : list(df_item[df_addr.columns[2]].values)}"
   ]
  },
  {
   "cell_type": "code",
   "execution_count": 217,
   "id": "1d922c06-aa86-4b97-8aeb-688d0f63a001",
   "metadata": {
    "collapsed": true,
    "execution": {
     "iopub.execute_input": "2024-04-22T13:58:08.936748Z",
     "iopub.status.busy": "2024-04-22T13:58:08.936464Z",
     "iopub.status.idle": "2024-04-22T13:58:08.941504Z",
     "shell.execute_reply": "2024-04-22T13:58:08.941154Z",
     "shell.execute_reply.started": "2024-04-22T13:58:08.936737Z"
    },
    "jupyter": {
     "outputs_hidden": true
    },
    "scrolled": true
   },
   "outputs": [
    {
     "data": {
      "text/plain": [
       "{'충청남도': {'list': ['천안시',\n",
       "   '천안시 동남구',\n",
       "   '천안시 서북구',\n",
       "   '공주시',\n",
       "   '보령시',\n",
       "   '아산시',\n",
       "   '서산시',\n",
       "   '논산시',\n",
       "   '계룡시',\n",
       "   '당진시',\n",
       "   '금산군',\n",
       "   '부여군',\n",
       "   '서천군',\n",
       "   '청양군',\n",
       "   '홍성군',\n",
       "   '예산군',\n",
       "   '태안군']},\n",
       " '광주광역시': {'list': ['동구', '서구', '남구', '북구', '광산구']},\n",
       " '충청북도': {'list': ['청주시',\n",
       "   '청주시 상당구',\n",
       "   '청주시 서원구',\n",
       "   '청주시 흥덕구',\n",
       "   '청주시 청원구',\n",
       "   '충주시',\n",
       "   '제천시',\n",
       "   '보은군',\n",
       "   '옥천군',\n",
       "   '영동군',\n",
       "   '증평군',\n",
       "   '진천군',\n",
       "   '괴산군',\n",
       "   '음성군',\n",
       "   '단양군']},\n",
       " '제주특별자치도': {'list': ['제주시', '서귀포시']},\n",
       " '북부출장소': {'list': []},\n",
       " '경상남도': {'list': ['창원시',\n",
       "   '창원시 의창구',\n",
       "   '창원시 성산구',\n",
       "   '창원시 마산합포구',\n",
       "   '창원시 마산회원구',\n",
       "   '창원시 진해구',\n",
       "   '진주시',\n",
       "   '통영시',\n",
       "   '사천시',\n",
       "   '사천남양출장',\n",
       "   '김해시',\n",
       "   '밀양시',\n",
       "   '거제시',\n",
       "   '양산시',\n",
       "   '의령군',\n",
       "   '함안군',\n",
       "   '창녕군',\n",
       "   '고성군',\n",
       "   '남해군',\n",
       "   '하동군',\n",
       "   '산청군',\n",
       "   '함양군',\n",
       "   '거창군',\n",
       "   '합천군']},\n",
       " '전북특별자치도': {'list': ['전주시',\n",
       "   '전주시 완산구',\n",
       "   '전주시 덕진구',\n",
       "   '군산시',\n",
       "   '익산시',\n",
       "   '정읍시',\n",
       "   '남원시',\n",
       "   '김제시',\n",
       "   '완주군',\n",
       "   '진안군',\n",
       "   '무주군',\n",
       "   '장수군',\n",
       "   '임실군',\n",
       "   '순창군',\n",
       "   '고창군',\n",
       "   '부안군']},\n",
       " '인천광역시': {'list': ['중구',\n",
       "   '중구영종출장',\n",
       "   '중구용유출장',\n",
       "   '동구',\n",
       "   '미추홀구',\n",
       "   '연수구',\n",
       "   '남동구',\n",
       "   '부평구',\n",
       "   '계양구',\n",
       "   '서구',\n",
       "   '서구검단출장',\n",
       "   '강화군',\n",
       "   '옹진군']},\n",
       " '전라남도': {'list': ['목포시',\n",
       "   '여수시',\n",
       "   '순천시',\n",
       "   '나주시',\n",
       "   '광양시',\n",
       "   '담양군',\n",
       "   '곡성군',\n",
       "   '구례군',\n",
       "   '고흥군',\n",
       "   '보성군',\n",
       "   '화순군',\n",
       "   '장흥군',\n",
       "   '강진군',\n",
       "   '해남군',\n",
       "   '영암군',\n",
       "   '무안군',\n",
       "   '함평군',\n",
       "   '영광군',\n",
       "   '장성군',\n",
       "   '완도군',\n",
       "   '진도군',\n",
       "   '신안군']},\n",
       " '부산광역시': {'list': ['중구',\n",
       "   '서구',\n",
       "   '동구',\n",
       "   '영도구',\n",
       "   '부산진구',\n",
       "   '동래구',\n",
       "   '남구',\n",
       "   '북구',\n",
       "   '해운대구',\n",
       "   '사하구',\n",
       "   '금정구',\n",
       "   '강서구',\n",
       "   '연제구',\n",
       "   '수영구',\n",
       "   '사상구',\n",
       "   '기장군']},\n",
       " '경상북도': {'list': ['포항시',\n",
       "   '포항시 남구',\n",
       "   '포항시 북구',\n",
       "   '경주시',\n",
       "   '김천시',\n",
       "   '안동시',\n",
       "   '구미시',\n",
       "   '영주시',\n",
       "   '영천시',\n",
       "   '상주시',\n",
       "   '문경시',\n",
       "   '경산시',\n",
       "   '의성군',\n",
       "   '청송군',\n",
       "   '영양군',\n",
       "   '영덕군',\n",
       "   '청도군',\n",
       "   '고령군',\n",
       "   '성주군',\n",
       "   '칠곡군',\n",
       "   '예천군',\n",
       "   '봉화군',\n",
       "   '울진군',\n",
       "   '울릉군']},\n",
       " '강원특별자치도': {'list': ['춘천시',\n",
       "   '원주시',\n",
       "   '강릉시',\n",
       "   '동해시',\n",
       "   '태백시',\n",
       "   '속초시',\n",
       "   '삼척시',\n",
       "   '홍천군',\n",
       "   '횡성군',\n",
       "   '영월군',\n",
       "   '평창군',\n",
       "   '정선군',\n",
       "   '철원군',\n",
       "   '화천군',\n",
       "   '양구군',\n",
       "   '인제군',\n",
       "   '고성군',\n",
       "   '양양군']},\n",
       " '대구광역시': {'list': ['중구', '동구', '서구', '남구', '북구', '수성구', '달서구', '달성군', '군위군']},\n",
       " '울산광역시': {'list': ['중구', '남구', '동구', '북구', '울주군']},\n",
       " '대전광역시': {'list': ['동구', '중구', '서구', '유성구', '대덕구']},\n",
       " '동해출장소': {'list': []},\n",
       " '세종특별자치시': {'list': []},\n",
       " '경기도': {'list': ['수원시',\n",
       "   '수원시 장안구',\n",
       "   '수원시 권선구',\n",
       "   '수원시 팔달구',\n",
       "   '수원시 영통구',\n",
       "   '성남시',\n",
       "   '성남시 수정구',\n",
       "   '성남시 중원구',\n",
       "   '성남시 분당구',\n",
       "   '의정부시',\n",
       "   '안양시',\n",
       "   '안양시 만안구',\n",
       "   '안양시 동안구',\n",
       "   '부천시',\n",
       "   '부천시 원미구',\n",
       "   '부천시 소사구',\n",
       "   '부천시 오정구',\n",
       "   '광명시',\n",
       "   '평택시',\n",
       "   '동두천시',\n",
       "   '안산시',\n",
       "   '안산시 상록구',\n",
       "   '안산시 단원구',\n",
       "   '고양시',\n",
       "   '고양시 덕양구',\n",
       "   '고양시 일산동구',\n",
       "   '고양시 일산서구',\n",
       "   '과천시',\n",
       "   '구리시',\n",
       "   '남양주시',\n",
       "   '오산시',\n",
       "   '시흥시',\n",
       "   '군포시',\n",
       "   '의왕시',\n",
       "   '하남시',\n",
       "   '용인시',\n",
       "   '용인시 처인구',\n",
       "   '용인시 기흥구',\n",
       "   '용인시 수지구',\n",
       "   '파주시',\n",
       "   '이천시',\n",
       "   '안성시',\n",
       "   '김포시',\n",
       "   '화성시',\n",
       "   '광주시',\n",
       "   '양주시',\n",
       "   '포천시',\n",
       "   '여주시',\n",
       "   '연천군',\n",
       "   '가평군',\n",
       "   '양평군']},\n",
       " '서울특별시': {'list': ['종로구',\n",
       "   '중구',\n",
       "   '용산구',\n",
       "   '성동구',\n",
       "   '광진구',\n",
       "   '동대문구',\n",
       "   '중랑구',\n",
       "   '성북구',\n",
       "   '강북구',\n",
       "   '도봉구',\n",
       "   '노원구',\n",
       "   '은평구',\n",
       "   '서대문구',\n",
       "   '마포구',\n",
       "   '양천구',\n",
       "   '강서구',\n",
       "   '구로구',\n",
       "   '금천구',\n",
       "   '영등포구',\n",
       "   '동작구',\n",
       "   '관악구',\n",
       "   '서초구',\n",
       "   '강남구',\n",
       "   '송파구',\n",
       "   '강동구']}}"
      ]
     },
     "execution_count": 217,
     "metadata": {},
     "output_type": "execute_result"
    }
   ],
   "source": [
    "district"
   ]
  },
  {
   "cell_type": "markdown",
   "id": "f15dbee8-efca-45d5-89ae-aa20fac1666e",
   "metadata": {
    "jp-MarkdownHeadingCollapsed": true
   },
   "source": [
    "### Town"
   ]
  },
  {
   "cell_type": "code",
   "execution_count": 220,
   "id": "03a63fa8-c1b1-418e-8f69-7ff3aa225091",
   "metadata": {
    "collapsed": true,
    "execution": {
     "iopub.execute_input": "2024-04-22T14:02:24.377476Z",
     "iopub.status.busy": "2024-04-22T14:02:24.376394Z",
     "iopub.status.idle": "2024-04-22T14:02:24.397239Z",
     "shell.execute_reply": "2024-04-22T14:02:24.396849Z",
     "shell.execute_reply.started": "2024-04-22T14:02:24.377436Z"
    },
    "jupyter": {
     "outputs_hidden": true
    },
    "scrolled": true
   },
   "outputs": [
    {
     "data": {
      "text/html": [
       "<div>\n",
       "<style scoped>\n",
       "    .dataframe tbody tr th:only-of-type {\n",
       "        vertical-align: middle;\n",
       "    }\n",
       "\n",
       "    .dataframe tbody tr th {\n",
       "        vertical-align: top;\n",
       "    }\n",
       "\n",
       "    .dataframe thead th {\n",
       "        text-align: right;\n",
       "    }\n",
       "</style>\n",
       "<table border=\"1\" class=\"dataframe\">\n",
       "  <thead>\n",
       "    <tr style=\"text-align: right;\">\n",
       "      <th></th>\n",
       "      <th>법정동코드</th>\n",
       "      <th>시도명</th>\n",
       "      <th>시군구명</th>\n",
       "      <th>읍면동명</th>\n",
       "      <th>동리명</th>\n",
       "      <th>생성일자</th>\n",
       "      <th>말소일자</th>\n",
       "    </tr>\n",
       "  </thead>\n",
       "  <tbody>\n",
       "    <tr>\n",
       "      <th>6067</th>\n",
       "      <td>4413100000</td>\n",
       "      <td>충청남도</td>\n",
       "      <td>천안시 동남구</td>\n",
       "      <td>NaN</td>\n",
       "      <td>NaN</td>\n",
       "      <td>20080623</td>\n",
       "      <td>NaN</td>\n",
       "    </tr>\n",
       "    <tr>\n",
       "      <th>6068</th>\n",
       "      <td>4413110100</td>\n",
       "      <td>충청남도</td>\n",
       "      <td>천안시 동남구</td>\n",
       "      <td>대흥동</td>\n",
       "      <td>NaN</td>\n",
       "      <td>20080623</td>\n",
       "      <td>NaN</td>\n",
       "    </tr>\n",
       "    <tr>\n",
       "      <th>6069</th>\n",
       "      <td>4413110200</td>\n",
       "      <td>충청남도</td>\n",
       "      <td>천안시 동남구</td>\n",
       "      <td>성황동</td>\n",
       "      <td>NaN</td>\n",
       "      <td>20080623</td>\n",
       "      <td>NaN</td>\n",
       "    </tr>\n",
       "    <tr>\n",
       "      <th>6070</th>\n",
       "      <td>4413110300</td>\n",
       "      <td>충청남도</td>\n",
       "      <td>천안시 동남구</td>\n",
       "      <td>문화동</td>\n",
       "      <td>NaN</td>\n",
       "      <td>20080623</td>\n",
       "      <td>NaN</td>\n",
       "    </tr>\n",
       "    <tr>\n",
       "      <th>6071</th>\n",
       "      <td>4413110400</td>\n",
       "      <td>충청남도</td>\n",
       "      <td>천안시 동남구</td>\n",
       "      <td>사직동</td>\n",
       "      <td>NaN</td>\n",
       "      <td>20080623</td>\n",
       "      <td>NaN</td>\n",
       "    </tr>\n",
       "    <tr>\n",
       "      <th>...</th>\n",
       "      <td>...</td>\n",
       "      <td>...</td>\n",
       "      <td>...</td>\n",
       "      <td>...</td>\n",
       "      <td>...</td>\n",
       "      <td>...</td>\n",
       "      <td>...</td>\n",
       "    </tr>\n",
       "    <tr>\n",
       "      <th>6176</th>\n",
       "      <td>4413137027</td>\n",
       "      <td>충청남도</td>\n",
       "      <td>천안시 동남구</td>\n",
       "      <td>동면</td>\n",
       "      <td>덕성리</td>\n",
       "      <td>20080623</td>\n",
       "      <td>NaN</td>\n",
       "    </tr>\n",
       "    <tr>\n",
       "      <th>6177</th>\n",
       "      <td>4413137028</td>\n",
       "      <td>충청남도</td>\n",
       "      <td>천안시 동남구</td>\n",
       "      <td>동면</td>\n",
       "      <td>죽계리</td>\n",
       "      <td>20080623</td>\n",
       "      <td>NaN</td>\n",
       "    </tr>\n",
       "    <tr>\n",
       "      <th>6178</th>\n",
       "      <td>4413137029</td>\n",
       "      <td>충청남도</td>\n",
       "      <td>천안시 동남구</td>\n",
       "      <td>동면</td>\n",
       "      <td>장송리</td>\n",
       "      <td>20080623</td>\n",
       "      <td>NaN</td>\n",
       "    </tr>\n",
       "    <tr>\n",
       "      <th>6179</th>\n",
       "      <td>4413137030</td>\n",
       "      <td>충청남도</td>\n",
       "      <td>천안시 동남구</td>\n",
       "      <td>동면</td>\n",
       "      <td>수남리</td>\n",
       "      <td>20080623</td>\n",
       "      <td>NaN</td>\n",
       "    </tr>\n",
       "    <tr>\n",
       "      <th>6180</th>\n",
       "      <td>4413137031</td>\n",
       "      <td>충청남도</td>\n",
       "      <td>천안시 동남구</td>\n",
       "      <td>동면</td>\n",
       "      <td>화덕리</td>\n",
       "      <td>20080623</td>\n",
       "      <td>NaN</td>\n",
       "    </tr>\n",
       "  </tbody>\n",
       "</table>\n",
       "<p>114 rows × 7 columns</p>\n",
       "</div>"
      ],
      "text/plain": [
       "           법정동코드   시도명     시군구명 읍면동명  동리명      생성일자  말소일자\n",
       "6067  4413100000  충청남도  천안시 동남구  NaN  NaN  20080623   NaN\n",
       "6068  4413110100  충청남도  천안시 동남구  대흥동  NaN  20080623   NaN\n",
       "6069  4413110200  충청남도  천안시 동남구  성황동  NaN  20080623   NaN\n",
       "6070  4413110300  충청남도  천안시 동남구  문화동  NaN  20080623   NaN\n",
       "6071  4413110400  충청남도  천안시 동남구  사직동  NaN  20080623   NaN\n",
       "...          ...   ...      ...  ...  ...       ...   ...\n",
       "6176  4413137027  충청남도  천안시 동남구   동면  덕성리  20080623   NaN\n",
       "6177  4413137028  충청남도  천안시 동남구   동면  죽계리  20080623   NaN\n",
       "6178  4413137029  충청남도  천안시 동남구   동면  장송리  20080623   NaN\n",
       "6179  4413137030  충청남도  천안시 동남구   동면  수남리  20080623   NaN\n",
       "6180  4413137031  충청남도  천안시 동남구   동면  화덕리  20080623   NaN\n",
       "\n",
       "[114 rows x 7 columns]"
      ]
     },
     "execution_count": 220,
     "metadata": {},
     "output_type": "execute_result"
    }
   ],
   "source": [
    "city = district[\"충청남도\"][\"list\"][1]\n",
    "df_addr[df_addr[df_addr.columns[2]] == city]"
   ]
  },
  {
   "cell_type": "code",
   "execution_count": 182,
   "id": "4852e8bf-2aee-4806-b11c-a708ea28af6a",
   "metadata": {
    "execution": {
     "iopub.execute_input": "2024-04-22T13:13:47.551868Z",
     "iopub.status.busy": "2024-04-22T13:13:47.551634Z",
     "iopub.status.idle": "2024-04-22T13:13:47.554763Z",
     "shell.execute_reply": "2024-04-22T13:13:47.554383Z",
     "shell.execute_reply.started": "2024-04-22T13:13:47.551852Z"
    }
   },
   "outputs": [
    {
     "data": {
      "text/plain": [
       "'시도명'"
      ]
     },
     "execution_count": 182,
     "metadata": {},
     "output_type": "execute_result"
    }
   ],
   "source": [
    "df_addr.columns[1]"
   ]
  },
  {
   "cell_type": "code",
   "execution_count": 193,
   "id": "f1e8dcc4-431d-410c-accd-5c514862fa4c",
   "metadata": {
    "execution": {
     "iopub.execute_input": "2024-04-22T13:19:23.833897Z",
     "iopub.status.busy": "2024-04-22T13:19:23.832975Z",
     "iopub.status.idle": "2024-04-22T13:19:23.847525Z",
     "shell.execute_reply": "2024-04-22T13:19:23.846674Z",
     "shell.execute_reply.started": "2024-04-22T13:19:23.833862Z"
    }
   },
   "outputs": [],
   "source": [
    "df_city = df_addr[df_addr[\"시도명\"] == \"전라남도\"]"
   ]
  },
  {
   "cell_type": "code",
   "execution_count": 194,
   "id": "3b4f1078-c837-49a5-bb5a-12be4f749ed9",
   "metadata": {
    "execution": {
     "iopub.execute_input": "2024-04-22T13:19:57.174426Z",
     "iopub.status.busy": "2024-04-22T13:19:57.172160Z",
     "iopub.status.idle": "2024-04-22T13:19:57.198835Z",
     "shell.execute_reply": "2024-04-22T13:19:57.197500Z",
     "shell.execute_reply.started": "2024-04-22T13:19:57.174370Z"
    },
    "scrolled": true
   },
   "outputs": [],
   "source": [
    "df_city = df_city[df_city[\"읍면동명\"].isna() == True]"
   ]
  },
  {
   "cell_type": "code",
   "execution_count": 213,
   "id": "80f32999-e5cd-4a40-83e6-2e5f99c47ea6",
   "metadata": {
    "collapsed": true,
    "execution": {
     "iopub.execute_input": "2024-04-22T13:53:25.079760Z",
     "iopub.status.busy": "2024-04-22T13:53:25.078617Z",
     "iopub.status.idle": "2024-04-22T13:53:25.093950Z",
     "shell.execute_reply": "2024-04-22T13:53:25.093402Z",
     "shell.execute_reply.started": "2024-04-22T13:53:25.079728Z"
    },
    "jupyter": {
     "outputs_hidden": true
    },
    "scrolled": true
   },
   "outputs": [
    {
     "data": {
      "text/plain": [
       "[nan,\n",
       " '목포시',\n",
       " '여수시',\n",
       " '순천시',\n",
       " '나주시',\n",
       " '광양시',\n",
       " '담양군',\n",
       " '곡성군',\n",
       " '구례군',\n",
       " '고흥군',\n",
       " '보성군',\n",
       " '화순군',\n",
       " '장흥군',\n",
       " '강진군',\n",
       " '해남군',\n",
       " '영암군',\n",
       " '무안군',\n",
       " '함평군',\n",
       " '영광군',\n",
       " '장성군',\n",
       " '완도군',\n",
       " '진도군',\n",
       " '신안군']"
      ]
     },
     "execution_count": 213,
     "metadata": {},
     "output_type": "execute_result"
    }
   ],
   "source": [
    "list(df_city[df_city.columns[2]].values)"
   ]
  },
  {
   "cell_type": "code",
   "execution_count": 224,
   "id": "15fcc33d-2d63-41c6-8bfa-7c3a65d7f0d4",
   "metadata": {
    "execution": {
     "iopub.execute_input": "2024-04-22T14:09:47.054081Z",
     "iopub.status.busy": "2024-04-22T14:09:47.052731Z",
     "iopub.status.idle": "2024-04-22T14:09:47.380662Z",
     "shell.execute_reply": "2024-04-22T14:09:47.380308Z",
     "shell.execute_reply.started": "2024-04-22T14:09:47.054020Z"
    }
   },
   "outputs": [],
   "source": [
    "for prov in prov_set:\n",
    "    for city in district[prov][\"list\"]:\n",
    "        df_item = df_addr[df_addr[df_addr.columns[2]] == city]\n",
    "        df_item = df_item[df_item[df_addr.columns[4]].isna() == True]\n",
    "        df_item = df_item[df_item[df_addr.columns[3]].isna() == False]\n",
    "        district[prov][city] = {\"list\": list(df_item[df_addr.columns[3]].values)}"
   ]
  },
  {
   "cell_type": "code",
   "execution_count": 225,
   "id": "3891e83d-d2b5-424b-bc90-e04fa095d98a",
   "metadata": {
    "collapsed": true,
    "execution": {
     "iopub.execute_input": "2024-04-22T14:09:48.664835Z",
     "iopub.status.busy": "2024-04-22T14:09:48.664656Z",
     "iopub.status.idle": "2024-04-22T14:09:48.668203Z",
     "shell.execute_reply": "2024-04-22T14:09:48.667811Z",
     "shell.execute_reply.started": "2024-04-22T14:09:48.664822Z"
    },
    "jupyter": {
     "outputs_hidden": true
    },
    "scrolled": true
   },
   "outputs": [
    {
     "data": {
      "text/plain": [
       "{'list': ['대흥동',\n",
       "  '성황동',\n",
       "  '문화동',\n",
       "  '사직동',\n",
       "  '영성동',\n",
       "  '오룡동',\n",
       "  '원성동',\n",
       "  '구성동',\n",
       "  '청수동',\n",
       "  '삼룡동',\n",
       "  '청당동',\n",
       "  '유량동',\n",
       "  '봉명동',\n",
       "  '다가동',\n",
       "  '용곡동',\n",
       "  '신방동',\n",
       "  '쌍용동',\n",
       "  '신부동',\n",
       "  '안서동',\n",
       "  '구룡동',\n",
       "  '목천읍',\n",
       "  '풍세면',\n",
       "  '광덕면',\n",
       "  '북면',\n",
       "  '성남면',\n",
       "  '수신면',\n",
       "  '병천면',\n",
       "  '동면']}"
      ]
     },
     "execution_count": 225,
     "metadata": {},
     "output_type": "execute_result"
    }
   ],
   "source": [
    "district[\"충청남도\"][\"천안시 동남구\"]"
   ]
  },
  {
   "cell_type": "markdown",
   "id": "cfb0c147-430f-41e5-b76d-24782bf451aa",
   "metadata": {
    "jp-MarkdownHeadingCollapsed": true
   },
   "source": [
    "### Village"
   ]
  },
  {
   "cell_type": "code",
   "execution_count": 228,
   "id": "5839290e-3b08-4559-b005-f424b7cc31bb",
   "metadata": {
    "execution": {
     "iopub.execute_input": "2024-04-22T14:24:53.260928Z",
     "iopub.status.busy": "2024-04-22T14:24:53.259945Z",
     "iopub.status.idle": "2024-04-22T14:24:53.302743Z",
     "shell.execute_reply": "2024-04-22T14:24:53.302341Z",
     "shell.execute_reply.started": "2024-04-22T14:24:53.260886Z"
    }
   },
   "outputs": [
    {
     "data": {
      "text/html": [
       "<div>\n",
       "<style scoped>\n",
       "    .dataframe tbody tr th:only-of-type {\n",
       "        vertical-align: middle;\n",
       "    }\n",
       "\n",
       "    .dataframe tbody tr th {\n",
       "        vertical-align: top;\n",
       "    }\n",
       "\n",
       "    .dataframe thead th {\n",
       "        text-align: right;\n",
       "    }\n",
       "</style>\n",
       "<table border=\"1\" class=\"dataframe\">\n",
       "  <thead>\n",
       "    <tr style=\"text-align: right;\">\n",
       "      <th></th>\n",
       "      <th>법정동코드</th>\n",
       "      <th>시도명</th>\n",
       "      <th>시군구명</th>\n",
       "      <th>읍면동명</th>\n",
       "      <th>동리명</th>\n",
       "      <th>생성일자</th>\n",
       "      <th>말소일자</th>\n",
       "    </tr>\n",
       "  </thead>\n",
       "  <tbody>\n",
       "    <tr>\n",
       "      <th>6069</th>\n",
       "      <td>4413110200</td>\n",
       "      <td>충청남도</td>\n",
       "      <td>천안시 동남구</td>\n",
       "      <td>성황동</td>\n",
       "      <td>NaN</td>\n",
       "      <td>20080623</td>\n",
       "      <td>NaN</td>\n",
       "    </tr>\n",
       "    <tr>\n",
       "      <th>8942</th>\n",
       "      <td>4623010400</td>\n",
       "      <td>전라남도</td>\n",
       "      <td>광양시</td>\n",
       "      <td>성황동</td>\n",
       "      <td>NaN</td>\n",
       "      <td>19981125</td>\n",
       "      <td>NaN</td>\n",
       "    </tr>\n",
       "  </tbody>\n",
       "</table>\n",
       "</div>"
      ],
      "text/plain": [
       "           법정동코드   시도명     시군구명 읍면동명  동리명      생성일자  말소일자\n",
       "6069  4413110200  충청남도  천안시 동남구  성황동  NaN  20080623   NaN\n",
       "8942  4623010400  전라남도      광양시  성황동  NaN  19981125   NaN"
      ]
     },
     "execution_count": 228,
     "metadata": {},
     "output_type": "execute_result"
    }
   ],
   "source": [
    "vill = district[\"충청남도\"][\"천안시 동남구\"][\"list\"][1]\n",
    "df_addr[df_addr[df_addr.columns[3]] == vill]"
   ]
  },
  {
   "cell_type": "code",
   "execution_count": 229,
   "id": "5d298f58-592f-44bb-b071-aaba901d390e",
   "metadata": {
    "execution": {
     "iopub.execute_input": "2024-04-22T14:28:03.672277Z",
     "iopub.status.busy": "2024-04-22T14:28:03.671001Z",
     "iopub.status.idle": "2024-04-22T14:28:09.448568Z",
     "shell.execute_reply": "2024-04-22T14:28:09.448206Z",
     "shell.execute_reply.started": "2024-04-22T14:28:03.672237Z"
    }
   },
   "outputs": [],
   "source": [
    "for prov in prov_set:\n",
    "    for city in district[prov][\"list\"]:\n",
    "        for vill in district[prov][city][\"list\"]:\n",
    "            df_item = df_addr[df_addr[df_addr.columns[3]] == vill]\n",
    "            df_item = df_item[df_item[df_addr.columns[4]].isna() == False]\n",
    "            district[prov][city][vill] = {\"list\": list(df_item[df_addr.columns[4]].values)}"
   ]
  },
  {
   "cell_type": "code",
   "execution_count": 230,
   "id": "d93cb034-9370-462e-b9b7-449d021db517",
   "metadata": {
    "execution": {
     "iopub.execute_input": "2024-04-22T14:29:26.568500Z",
     "iopub.status.busy": "2024-04-22T14:29:26.567314Z",
     "iopub.status.idle": "2024-04-22T14:29:26.615515Z",
     "shell.execute_reply": "2024-04-22T14:29:26.615215Z",
     "shell.execute_reply.started": "2024-04-22T14:29:26.568455Z"
    }
   },
   "outputs": [
    {
     "data": {
      "text/html": [
       "<div>\n",
       "<style scoped>\n",
       "    .dataframe tbody tr th:only-of-type {\n",
       "        vertical-align: middle;\n",
       "    }\n",
       "\n",
       "    .dataframe tbody tr th {\n",
       "        vertical-align: top;\n",
       "    }\n",
       "\n",
       "    .dataframe thead th {\n",
       "        text-align: right;\n",
       "    }\n",
       "</style>\n",
       "<table border=\"1\" class=\"dataframe\">\n",
       "  <thead>\n",
       "    <tr style=\"text-align: right;\">\n",
       "      <th></th>\n",
       "      <th>법정동코드</th>\n",
       "      <th>시도명</th>\n",
       "      <th>시군구명</th>\n",
       "      <th>읍면동명</th>\n",
       "      <th>동리명</th>\n",
       "      <th>생성일자</th>\n",
       "      <th>말소일자</th>\n",
       "    </tr>\n",
       "  </thead>\n",
       "  <tbody>\n",
       "    <tr>\n",
       "      <th>698</th>\n",
       "      <td>2671025021</td>\n",
       "      <td>부산광역시</td>\n",
       "      <td>기장군</td>\n",
       "      <td>기장읍</td>\n",
       "      <td>동부리</td>\n",
       "      <td>19950301</td>\n",
       "      <td>NaN</td>\n",
       "    </tr>\n",
       "    <tr>\n",
       "      <th>699</th>\n",
       "      <td>2671025022</td>\n",
       "      <td>부산광역시</td>\n",
       "      <td>기장군</td>\n",
       "      <td>기장읍</td>\n",
       "      <td>교리</td>\n",
       "      <td>19950301</td>\n",
       "      <td>NaN</td>\n",
       "    </tr>\n",
       "    <tr>\n",
       "      <th>700</th>\n",
       "      <td>2671025023</td>\n",
       "      <td>부산광역시</td>\n",
       "      <td>기장군</td>\n",
       "      <td>기장읍</td>\n",
       "      <td>신천리</td>\n",
       "      <td>19950301</td>\n",
       "      <td>NaN</td>\n",
       "    </tr>\n",
       "  </tbody>\n",
       "</table>\n",
       "</div>"
      ],
      "text/plain": [
       "          법정동코드    시도명 시군구명 읍면동명  동리명      생성일자  말소일자\n",
       "698  2671025021  부산광역시  기장군  기장읍  동부리  19950301   NaN\n",
       "699  2671025022  부산광역시  기장군  기장읍   교리  19950301   NaN\n",
       "700  2671025023  부산광역시  기장군  기장읍  신천리  19950301   NaN"
      ]
     },
     "execution_count": 230,
     "metadata": {},
     "output_type": "execute_result"
    }
   ],
   "source": [
    "df_addr[df_addr[df_addr.columns[4]].isna() == False].head(3)"
   ]
  },
  {
   "cell_type": "code",
   "execution_count": 231,
   "id": "dff5fe4a-fd32-430f-8931-2955b21bf9b9",
   "metadata": {
    "execution": {
     "iopub.execute_input": "2024-04-22T14:29:53.581058Z",
     "iopub.status.busy": "2024-04-22T14:29:53.579799Z",
     "iopub.status.idle": "2024-04-22T14:29:53.589612Z",
     "shell.execute_reply": "2024-04-22T14:29:53.588702Z",
     "shell.execute_reply.started": "2024-04-22T14:29:53.581016Z"
    },
    "scrolled": true
   },
   "outputs": [
    {
     "data": {
      "text/plain": [
       "{'list': ['동부리',\n",
       "  '교리',\n",
       "  '신천리',\n",
       "  '죽성리',\n",
       "  '서부리',\n",
       "  '대라리',\n",
       "  '청강리',\n",
       "  '대변리',\n",
       "  '연화리',\n",
       "  '만화리',\n",
       "  '석산리',\n",
       "  '당사리',\n",
       "  '시랑리',\n",
       "  '내리']}"
      ]
     },
     "execution_count": 231,
     "metadata": {},
     "output_type": "execute_result"
    }
   ],
   "source": [
    "district[\"부산광역시\"][\"기장군\"][\"기장읍\"]"
   ]
  },
  {
   "cell_type": "markdown",
   "id": "1d80abd1-f33e-494d-95ef-517ff76efbbd",
   "metadata": {
    "jp-MarkdownHeadingCollapsed": true
   },
   "source": [
    "### Save"
   ]
  },
  {
   "cell_type": "code",
   "execution_count": 232,
   "id": "0448ccce-87ba-4906-8ca3-22c9d67a7679",
   "metadata": {
    "execution": {
     "iopub.execute_input": "2024-04-22T14:30:39.268617Z",
     "iopub.status.busy": "2024-04-22T14:30:39.266321Z",
     "iopub.status.idle": "2024-04-22T14:30:39.387471Z",
     "shell.execute_reply": "2024-04-22T14:30:39.387157Z",
     "shell.execute_reply.started": "2024-04-22T14:30:39.268578Z"
    }
   },
   "outputs": [],
   "source": [
    "save_var(district, \"district\")"
   ]
  },
  {
   "cell_type": "code",
   "execution_count": 3,
   "id": "42aa4521-5e63-4054-9ce4-d13ea24a1706",
   "metadata": {
    "execution": {
     "iopub.execute_input": "2024-05-13T03:30:12.820114Z",
     "iopub.status.busy": "2024-05-13T03:30:12.819206Z",
     "iopub.status.idle": "2024-05-13T03:30:12.872609Z",
     "shell.execute_reply": "2024-05-13T03:30:12.872168Z",
     "shell.execute_reply.started": "2024-05-13T03:30:12.820096Z"
    }
   },
   "outputs": [],
   "source": [
    "district = load_var(\"district\")"
   ]
  },
  {
   "cell_type": "markdown",
   "id": "988ccf33-b422-4353-b9d6-cabafab9c529",
   "metadata": {},
   "source": [
    "#### import dataframe"
   ]
  },
  {
   "cell_type": "code",
   "execution_count": 4,
   "id": "0cec29e2-c3a6-4e4f-8234-473b98c0022a",
   "metadata": {
    "execution": {
     "iopub.execute_input": "2024-05-13T03:30:14.503335Z",
     "iopub.status.busy": "2024-05-13T03:30:14.503136Z",
     "iopub.status.idle": "2024-05-13T03:30:14.513963Z",
     "shell.execute_reply": "2024-05-13T03:30:14.513133Z",
     "shell.execute_reply.started": "2024-05-13T03:30:14.503319Z"
    }
   },
   "outputs": [],
   "source": [
    "df_dstr = pd.DataFrame.from_dict(district, orient='index')"
   ]
  },
  {
   "cell_type": "markdown",
   "id": "2457be99-c0a0-4574-94e2-5d926cf6e418",
   "metadata": {},
   "source": [
    "#### inspection"
   ]
  },
  {
   "cell_type": "code",
   "execution_count": 93,
   "id": "dd185912-d832-4eb7-a766-9571fab87103",
   "metadata": {
    "execution": {
     "iopub.execute_input": "2024-05-13T01:40:33.320681Z",
     "iopub.status.busy": "2024-05-13T01:40:33.319415Z",
     "iopub.status.idle": "2024-05-13T01:40:33.393304Z",
     "shell.execute_reply": "2024-05-13T01:40:33.391877Z",
     "shell.execute_reply.started": "2024-05-13T01:40:33.320657Z"
    }
   },
   "outputs": [
    {
     "name": "stdout",
     "output_type": "stream",
     "text": [
      "<class 'pandas.core.frame.DataFrame'>\n",
      "Index: 19 entries, 충청남도 to 서울특별시\n",
      "Columns: 246 entries, list to 강동구\n",
      "dtypes: object(246)\n",
      "memory usage: 36.7+ KB\n"
     ]
    }
   ],
   "source": [
    "df_dstr.info()"
   ]
  },
  {
   "cell_type": "code",
   "execution_count": 94,
   "id": "3112f6f2-0661-4016-8fea-56d8aa697da7",
   "metadata": {
    "execution": {
     "iopub.execute_input": "2024-05-13T01:40:35.374585Z",
     "iopub.status.busy": "2024-05-13T01:40:35.373489Z",
     "iopub.status.idle": "2024-05-13T01:40:35.511739Z",
     "shell.execute_reply": "2024-05-13T01:40:35.511382Z",
     "shell.execute_reply.started": "2024-05-13T01:40:35.374539Z"
    }
   },
   "outputs": [
    {
     "data": {
      "text/html": [
       "<div>\n",
       "<style scoped>\n",
       "    .dataframe tbody tr th:only-of-type {\n",
       "        vertical-align: middle;\n",
       "    }\n",
       "\n",
       "    .dataframe tbody tr th {\n",
       "        vertical-align: top;\n",
       "    }\n",
       "\n",
       "    .dataframe thead th {\n",
       "        text-align: right;\n",
       "    }\n",
       "</style>\n",
       "<table border=\"1\" class=\"dataframe\">\n",
       "  <thead>\n",
       "    <tr style=\"text-align: right;\">\n",
       "      <th></th>\n",
       "      <th>list</th>\n",
       "      <th>천안시</th>\n",
       "      <th>천안시 동남구</th>\n",
       "      <th>천안시 서북구</th>\n",
       "      <th>공주시</th>\n",
       "      <th>보령시</th>\n",
       "      <th>아산시</th>\n",
       "      <th>서산시</th>\n",
       "      <th>논산시</th>\n",
       "      <th>계룡시</th>\n",
       "      <th>...</th>\n",
       "      <th>양천구</th>\n",
       "      <th>구로구</th>\n",
       "      <th>금천구</th>\n",
       "      <th>영등포구</th>\n",
       "      <th>동작구</th>\n",
       "      <th>관악구</th>\n",
       "      <th>서초구</th>\n",
       "      <th>강남구</th>\n",
       "      <th>송파구</th>\n",
       "      <th>강동구</th>\n",
       "    </tr>\n",
       "  </thead>\n",
       "  <tbody>\n",
       "    <tr>\n",
       "      <th>서울특별시</th>\n",
       "      <td>[종로구, 중구, 용산구, 성동구, 광진구, 동대문구, 중랑구, 성북구, 강북구, ...</td>\n",
       "      <td>NaN</td>\n",
       "      <td>NaN</td>\n",
       "      <td>NaN</td>\n",
       "      <td>NaN</td>\n",
       "      <td>NaN</td>\n",
       "      <td>NaN</td>\n",
       "      <td>NaN</td>\n",
       "      <td>NaN</td>\n",
       "      <td>NaN</td>\n",
       "      <td>...</td>\n",
       "      <td>{'list': ['신정동', '목동', '신월동'], '신정동': {'list':...</td>\n",
       "      <td>{'list': ['신도림동', '구로동', '가리봉동', '고척동', '개봉동',...</td>\n",
       "      <td>{'list': ['가산동', '독산동', '시흥동'], '가산동': {'list'...</td>\n",
       "      <td>{'list': ['영등포동', '영등포동1가', '영등포동2가', '영등포동3가'...</td>\n",
       "      <td>{'list': ['노량진동', '상도동', '상도1동', '본동', '흑석동', ...</td>\n",
       "      <td>{'list': ['봉천동', '신림동', '남현동'], '봉천동': {'list'...</td>\n",
       "      <td>{'list': ['방배동', '양재동', '우면동', '원지동', '잠원동', '...</td>\n",
       "      <td>{'list': ['역삼동', '개포동', '청담동', '삼성동', '대치동', '...</td>\n",
       "      <td>{'list': ['잠실동', '신천동', '풍납동', '송파동', '석촌동', '...</td>\n",
       "      <td>{'list': ['명일동', '고덕동', '상일동', '길동', '둔촌동', '암...</td>\n",
       "    </tr>\n",
       "  </tbody>\n",
       "</table>\n",
       "<p>1 rows × 246 columns</p>\n",
       "</div>"
      ],
      "text/plain": [
       "                                                    list  천안시 천안시 동남구 천안시 서북구  \\\n",
       "서울특별시  [종로구, 중구, 용산구, 성동구, 광진구, 동대문구, 중랑구, 성북구, 강북구, ...  NaN     NaN     NaN   \n",
       "\n",
       "       공주시  보령시  아산시  서산시  논산시  계룡시  ...  \\\n",
       "서울특별시  NaN  NaN  NaN  NaN  NaN  NaN  ...   \n",
       "\n",
       "                                                     양천구  \\\n",
       "서울특별시  {'list': ['신정동', '목동', '신월동'], '신정동': {'list':...   \n",
       "\n",
       "                                                     구로구  \\\n",
       "서울특별시  {'list': ['신도림동', '구로동', '가리봉동', '고척동', '개봉동',...   \n",
       "\n",
       "                                                     금천구  \\\n",
       "서울특별시  {'list': ['가산동', '독산동', '시흥동'], '가산동': {'list'...   \n",
       "\n",
       "                                                    영등포구  \\\n",
       "서울특별시  {'list': ['영등포동', '영등포동1가', '영등포동2가', '영등포동3가'...   \n",
       "\n",
       "                                                     동작구  \\\n",
       "서울특별시  {'list': ['노량진동', '상도동', '상도1동', '본동', '흑석동', ...   \n",
       "\n",
       "                                                     관악구  \\\n",
       "서울특별시  {'list': ['봉천동', '신림동', '남현동'], '봉천동': {'list'...   \n",
       "\n",
       "                                                     서초구  \\\n",
       "서울특별시  {'list': ['방배동', '양재동', '우면동', '원지동', '잠원동', '...   \n",
       "\n",
       "                                                     강남구  \\\n",
       "서울특별시  {'list': ['역삼동', '개포동', '청담동', '삼성동', '대치동', '...   \n",
       "\n",
       "                                                     송파구  \\\n",
       "서울특별시  {'list': ['잠실동', '신천동', '풍납동', '송파동', '석촌동', '...   \n",
       "\n",
       "                                                     강동구  \n",
       "서울특별시  {'list': ['명일동', '고덕동', '상일동', '길동', '둔촌동', '암...  \n",
       "\n",
       "[1 rows x 246 columns]"
      ]
     },
     "execution_count": 94,
     "metadata": {},
     "output_type": "execute_result"
    }
   ],
   "source": [
    "df_dstr.tail(1)"
   ]
  },
  {
   "cell_type": "code",
   "execution_count": 81,
   "id": "595f09d8-2ac1-4d3c-8fe5-32b85f103aa9",
   "metadata": {
    "execution": {
     "iopub.execute_input": "2024-05-12T03:37:12.937976Z",
     "iopub.status.busy": "2024-05-12T03:37:12.936523Z",
     "iopub.status.idle": "2024-05-12T03:37:12.953365Z",
     "shell.execute_reply": "2024-05-12T03:37:12.952709Z",
     "shell.execute_reply.started": "2024-05-12T03:37:12.937923Z"
    }
   },
   "outputs": [
    {
     "name": "stdout",
     "output_type": "stream",
     "text": [
      "<class 'pandas.core.series.Series'>\n",
      "Index: 246 entries, list to 강동구\n",
      "Series name: 충청북도\n",
      "Non-Null Count  Dtype \n",
      "--------------  ----- \n",
      "16 non-null     object\n",
      "dtypes: object(1)\n",
      "memory usage: 11.9+ KB\n",
      "None\n",
      "['청주시', '청주시 상당구', '청주시 서원구', '청주시 흥덕구', '청주시 청원구', '충주시', '제천시', '보은군', '옥천군', '영동군', '증평군', '진천군', '괴산군', '음성군', '단양군']\n"
     ]
    }
   ],
   "source": [
    "print(df_dstr.iloc[2].info())\n",
    "print(df_dstr.iloc[2]['list'])"
   ]
  },
  {
   "cell_type": "code",
   "execution_count": 110,
   "id": "c2dabe10-0e21-4e11-8e10-56997443cf00",
   "metadata": {
    "execution": {
     "iopub.execute_input": "2024-05-12T03:59:58.298636Z",
     "iopub.status.busy": "2024-05-12T03:59:58.297945Z",
     "iopub.status.idle": "2024-05-12T03:59:58.307670Z",
     "shell.execute_reply": "2024-05-12T03:59:58.307193Z",
     "shell.execute_reply.started": "2024-05-12T03:59:58.298611Z"
    },
    "scrolled": true
   },
   "outputs": [
    {
     "data": {
      "text/plain": [
       "{'list': ['단양읍', '매포읍', '대강면', '가곡면', '영춘면', '어상천면', '적성면', '단성면'],\n",
       " '단양읍': {'list': ['현천리',\n",
       "   '덕상리',\n",
       "   '심곡리',\n",
       "   '증도리',\n",
       "   '별곡리',\n",
       "   '도전리',\n",
       "   '상진리',\n",
       "   '도담리',\n",
       "   '후곡리',\n",
       "   '장현리',\n",
       "   '노동리',\n",
       "   '마조리',\n",
       "   '수촌리',\n",
       "   '천동리',\n",
       "   '금곡리',\n",
       "   '기촌리',\n",
       "   '고수리']},\n",
       " '매포읍': {'list': ['매포리',\n",
       "   '우덕리',\n",
       "   '하괴리',\n",
       "   '상괴리',\n",
       "   '안동리',\n",
       "   '평동리',\n",
       "   '도곡리',\n",
       "   '하시리',\n",
       "   '상시리',\n",
       "   '영천리',\n",
       "   '가평리',\n",
       "   '삼곡리',\n",
       "   '고양리',\n",
       "   '김산리',\n",
       "   '응실리']},\n",
       " '대강면': {'list': ['장림리',\n",
       "   '당동리',\n",
       "   '용부원리',\n",
       "   '두음리',\n",
       "   '괴평리',\n",
       "   '사인암리',\n",
       "   '직티리',\n",
       "   '황정리',\n",
       "   '성금리',\n",
       "   '미노리',\n",
       "   '덕촌리',\n",
       "   '장정리',\n",
       "   '사동리',\n",
       "   '남천리',\n",
       "   '남조리',\n",
       "   '무수천리',\n",
       "   '신구리',\n",
       "   '올산리',\n",
       "   '방곡리',\n",
       "   '풍산리',\n",
       "   '수홍리',\n",
       "   '옥택리',\n",
       "   '평촌리',\n",
       "   '입암리',\n",
       "   '송대리',\n",
       "   '강석리',\n",
       "   '사석리',\n",
       "   '방동리',\n",
       "   '월탄리',\n",
       "   '생암리',\n",
       "   '신덕리',\n",
       "   '방산리']},\n",
       " '가곡면': {'list': ['사평리',\n",
       "   '가대리',\n",
       "   '여천리',\n",
       "   '덕천리',\n",
       "   '대대리',\n",
       "   '어의곡리',\n",
       "   '보발리',\n",
       "   '향산리',\n",
       "   '오목리',\n",
       "   '탕곡리',\n",
       "   '오저리',\n",
       "   '풍곡리',\n",
       "   '동활리']},\n",
       " '영춘면': {'list': ['상리',\n",
       "   '하리',\n",
       "   '남천리',\n",
       "   '백자리',\n",
       "   '의풍리',\n",
       "   '동대리',\n",
       "   '용진리',\n",
       "   '오사리',\n",
       "   '유암리',\n",
       "   '사이곡리',\n",
       "   '별방리',\n",
       "   '만종리',\n",
       "   '장발리',\n",
       "   '사지원리']},\n",
       " '어상천면': {'list': ['임현리', '연곡리', '석교리', '대전리', '덕문곡리', '방북리', '심곡리', '율곡리']},\n",
       " '적성면': {'list': ['어유지리',\n",
       "   '장좌리',\n",
       "   '장현리',\n",
       "   '구읍리',\n",
       "   '객현리',\n",
       "   '가월리',\n",
       "   '무건리',\n",
       "   '율포리',\n",
       "   '답곡리',\n",
       "   '식현리',\n",
       "   '주월리',\n",
       "   '설마리',\n",
       "   '적암리',\n",
       "   '두지리',\n",
       "   '마지리',\n",
       "   '자장리',\n",
       "   '하진리',\n",
       "   '현곡리',\n",
       "   '하리',\n",
       "   '성곡리',\n",
       "   '상리',\n",
       "   '애곡리',\n",
       "   '기동리',\n",
       "   '각기리',\n",
       "   '소야리',\n",
       "   '대가리',\n",
       "   '파랑리',\n",
       "   '하원곡리',\n",
       "   '상원곡리',\n",
       "   '지북리',\n",
       "   '대산리',\n",
       "   '운림리',\n",
       "   '고원리',\n",
       "   '내월리',\n",
       "   '평남리',\n",
       "   '괴정리',\n",
       "   '석산리']},\n",
       " '단성면': {'list': ['북상리',\n",
       "   '북하리',\n",
       "   '상방리',\n",
       "   '중방리',\n",
       "   '하방리',\n",
       "   '외중방리',\n",
       "   '장회리',\n",
       "   '두항리',\n",
       "   '고평리',\n",
       "   '양당리',\n",
       "   '벌천리',\n",
       "   '회산리',\n",
       "   '가산리',\n",
       "   '대잠리',\n",
       "   '성내리',\n",
       "   '강누리',\n",
       "   '방목리',\n",
       "   '청계리',\n",
       "   '운리',\n",
       "   '입석리',\n",
       "   '길리',\n",
       "   '남사리',\n",
       "   '사월리',\n",
       "   '묵곡리',\n",
       "   '소남리',\n",
       "   '관정리',\n",
       "   '호리',\n",
       "   '당산리',\n",
       "   '창촌리',\n",
       "   '백운리',\n",
       "   '자양리']}}"
      ]
     },
     "execution_count": 110,
     "metadata": {},
     "output_type": "execute_result"
    }
   ],
   "source": [
    "df_dstr.iloc[2]['단양군']"
   ]
  },
  {
   "cell_type": "code",
   "execution_count": 111,
   "id": "3952c20f-2b2b-41c5-b923-38791ef7c1bf",
   "metadata": {
    "execution": {
     "iopub.execute_input": "2024-05-12T04:00:02.261793Z",
     "iopub.status.busy": "2024-05-12T04:00:02.261261Z",
     "iopub.status.idle": "2024-05-12T04:00:02.267504Z",
     "shell.execute_reply": "2024-05-12T04:00:02.267208Z",
     "shell.execute_reply.started": "2024-05-12T04:00:02.261774Z"
    },
    "scrolled": true
   },
   "outputs": [
    {
     "data": {
      "text/plain": [
       "{'list': ['현천리',\n",
       "  '덕상리',\n",
       "  '심곡리',\n",
       "  '증도리',\n",
       "  '별곡리',\n",
       "  '도전리',\n",
       "  '상진리',\n",
       "  '도담리',\n",
       "  '후곡리',\n",
       "  '장현리',\n",
       "  '노동리',\n",
       "  '마조리',\n",
       "  '수촌리',\n",
       "  '천동리',\n",
       "  '금곡리',\n",
       "  '기촌리',\n",
       "  '고수리']}"
      ]
     },
     "execution_count": 111,
     "metadata": {},
     "output_type": "execute_result"
    }
   ],
   "source": [
    "df_dstr.iloc[2]['단양군']['단양읍']"
   ]
  },
  {
   "cell_type": "code",
   "execution_count": 6,
   "id": "99989f8f-df4c-4172-84cb-fc2002289a0d",
   "metadata": {
    "execution": {
     "iopub.execute_input": "2024-05-12T02:27:10.509395Z",
     "iopub.status.busy": "2024-05-12T02:27:10.508885Z",
     "iopub.status.idle": "2024-05-12T02:27:10.516047Z",
     "shell.execute_reply": "2024-05-12T02:27:10.515243Z",
     "shell.execute_reply.started": "2024-05-12T02:27:10.509360Z"
    }
   },
   "outputs": [],
   "source": [
    "postfix = [\"광역시\", \"특별자치도\", \"특별자치시\", \"특별시\"]"
   ]
  },
  {
   "cell_type": "code",
   "execution_count": 7,
   "id": "adb45591-3e83-428e-adfe-29bb4c8f5877",
   "metadata": {
    "execution": {
     "iopub.execute_input": "2024-05-12T02:27:17.571164Z",
     "iopub.status.busy": "2024-05-12T02:27:17.569872Z",
     "iopub.status.idle": "2024-05-12T02:27:17.823373Z",
     "shell.execute_reply": "2024-05-12T02:27:17.822850Z",
     "shell.execute_reply.started": "2024-05-12T02:27:17.571090Z"
    },
    "scrolled": true
   },
   "outputs": [
    {
     "ename": "NameError",
     "evalue": "name 'city_set' is not defined",
     "output_type": "error",
     "traceback": [
      "\u001b[0;31m---------------------------------------------------------------------------\u001b[0m",
      "\u001b[0;31mNameError\u001b[0m                                 Traceback (most recent call last)",
      "Cell \u001b[0;32mIn[7], line 1\u001b[0m\n\u001b[0;32m----> 1\u001b[0m \u001b[38;5;28;01mfor\u001b[39;00m full_name \u001b[38;5;129;01min\u001b[39;00m \u001b[43mcity_set\u001b[49m:\n\u001b[1;32m      2\u001b[0m     \u001b[38;5;66;03m# print(city)\u001b[39;00m\n\u001b[1;32m      3\u001b[0m     \u001b[38;5;28;01mfor\u001b[39;00m item \u001b[38;5;129;01min\u001b[39;00m postfix:\n\u001b[1;32m      4\u001b[0m         \u001b[38;5;28;01mif\u001b[39;00m item \u001b[38;5;129;01min\u001b[39;00m full_name:\n",
      "\u001b[0;31mNameError\u001b[0m: name 'city_set' is not defined"
     ]
    }
   ],
   "source": [
    "for full_name in city_set:\n",
    "    # print(city)\n",
    "    for item in postfix:\n",
    "        if item in full_name:\n",
    "            short_name = full_name.split(item)[0]\n",
    "            city_set.discard(full_name)\n",
    "            city_set.add(short_name)"
   ]
  },
  {
   "cell_type": "code",
   "execution_count": 165,
   "id": "80879a43-a386-4171-8f55-4187d565d3f0",
   "metadata": {
    "collapsed": true,
    "execution": {
     "iopub.execute_input": "2024-04-22T12:56:19.199513Z",
     "iopub.status.busy": "2024-04-22T12:56:19.199035Z",
     "iopub.status.idle": "2024-04-22T12:56:19.206259Z",
     "shell.execute_reply": "2024-04-22T12:56:19.205537Z",
     "shell.execute_reply.started": "2024-04-22T12:56:19.199485Z"
    },
    "jupyter": {
     "outputs_hidden": true
    }
   },
   "outputs": [
    {
     "data": {
      "text/plain": [
       "{'강원',\n",
       " '경기도',\n",
       " '경상남도',\n",
       " '경상북도',\n",
       " '광주',\n",
       " '대구',\n",
       " '대전',\n",
       " '동해출장소',\n",
       " '부산',\n",
       " '북부출장소',\n",
       " '서울',\n",
       " '세종',\n",
       " '울산',\n",
       " '인천',\n",
       " '전라남도',\n",
       " '전북',\n",
       " '제주',\n",
       " '충청남도',\n",
       " '충청북도'}"
      ]
     },
     "execution_count": 165,
     "metadata": {},
     "output_type": "execute_result"
    }
   ],
   "source": [
    "city_set"
   ]
  },
  {
   "cell_type": "code",
   "execution_count": 168,
   "id": "38e606db-adfd-4458-bcb1-86e91004ec43",
   "metadata": {
    "execution": {
     "iopub.execute_input": "2024-04-22T13:02:57.613278Z",
     "iopub.status.busy": "2024-04-22T13:02:57.611889Z",
     "iopub.status.idle": "2024-04-22T13:02:57.622276Z",
     "shell.execute_reply": "2024-04-22T13:02:57.620994Z",
     "shell.execute_reply.started": "2024-04-22T13:02:57.613224Z"
    }
   },
   "outputs": [],
   "source": [
    "values_to_discard = {\"동해출장소\", \"북부출장소\", \"전라남도\", \"전라북도\", \"충청남도\", \"충청북도\", \"경상남도\", \"경상북도\", \"경기도\"}\n",
    "values_to_update = {\"경기\", \"전남\", \"전북\", \"충남\", \"1충북\", \"경남\", \"경북\"}\n",
    "\n",
    "for value in values_to_discard:\n",
    "    city_set.discard(value)\n",
    "\n",
    "city_set.update(values_to_update)"
   ]
  },
  {
   "cell_type": "code",
   "execution_count": 169,
   "id": "4fe2983c-89d8-4ef5-a85d-1cf172e75a24",
   "metadata": {
    "collapsed": true,
    "execution": {
     "iopub.execute_input": "2024-04-22T13:02:58.893026Z",
     "iopub.status.busy": "2024-04-22T13:02:58.892819Z",
     "iopub.status.idle": "2024-04-22T13:02:58.896771Z",
     "shell.execute_reply": "2024-04-22T13:02:58.896399Z",
     "shell.execute_reply.started": "2024-04-22T13:02:58.893011Z"
    },
    "jupyter": {
     "outputs_hidden": true
    },
    "scrolled": true
   },
   "outputs": [
    {
     "data": {
      "text/plain": [
       "{'강원',\n",
       " '경기',\n",
       " '경남',\n",
       " '경북',\n",
       " '광주',\n",
       " '대구',\n",
       " '대전',\n",
       " '부산',\n",
       " '서울',\n",
       " '세종',\n",
       " '울산',\n",
       " '인천',\n",
       " '전남',\n",
       " '전북',\n",
       " '제주',\n",
       " '충남',\n",
       " '충북'}"
      ]
     },
     "execution_count": 169,
     "metadata": {},
     "output_type": "execute_result"
    }
   ],
   "source": [
    "city_set"
   ]
  },
  {
   "cell_type": "code",
   "execution_count": null,
   "id": "2cdb8741-eb1d-4fd7-8cc9-83a5904609ac",
   "metadata": {},
   "outputs": [],
   "source": []
  },
  {
   "cell_type": "markdown",
   "id": "d1e868a7-28a9-4ab9-b3d3-03b475cfbb44",
   "metadata": {
    "jp-MarkdownHeadingCollapsed": true
   },
   "source": [
    "### icecream"
   ]
  },
  {
   "cell_type": "code",
   "execution_count": 20,
   "id": "4d068677-2d35-4ab6-bd07-a6c0fcee7913",
   "metadata": {
    "collapsed": true,
    "execution": {
     "iopub.execute_input": "2024-05-12T02:48:43.960021Z",
     "iopub.status.busy": "2024-05-12T02:48:43.958709Z",
     "iopub.status.idle": "2024-05-12T02:48:49.578579Z",
     "shell.execute_reply": "2024-05-12T02:48:49.577854Z",
     "shell.execute_reply.started": "2024-05-12T02:48:43.959988Z"
    },
    "jupyter": {
     "outputs_hidden": true
    },
    "scrolled": true
   },
   "outputs": [
    {
     "name": "stdout",
     "output_type": "stream",
     "text": [
      "Collecting icecream\n",
      "  Downloading icecream-2.1.3-py2.py3-none-any.whl.metadata (1.4 kB)\n",
      "Requirement already satisfied: colorama>=0.3.9 in /Users/salgu/.pyenv/versions/pml/lib/python3.11/site-packages (from icecream) (0.4.6)\n",
      "Requirement already satisfied: pygments>=2.2.0 in /Users/salgu/.pyenv/versions/pml/lib/python3.11/site-packages (from icecream) (2.16.1)\n",
      "Requirement already satisfied: executing>=0.3.1 in /Users/salgu/.pyenv/versions/pml/lib/python3.11/site-packages (from icecream) (2.0.0)\n",
      "Requirement already satisfied: asttokens>=2.0.1 in /Users/salgu/.pyenv/versions/pml/lib/python3.11/site-packages (from icecream) (2.4.0)\n",
      "Requirement already satisfied: six>=1.12.0 in /Users/salgu/.pyenv/versions/pml/lib/python3.11/site-packages (from asttokens>=2.0.1->icecream) (1.16.0)\n",
      "Downloading icecream-2.1.3-py2.py3-none-any.whl (8.4 kB)\n",
      "Installing collected packages: icecream\n",
      "Successfully installed icecream-2.1.3\n"
     ]
    }
   ],
   "source": [
    "!pip install icecream"
   ]
  },
  {
   "cell_type": "code",
   "execution_count": 114,
   "id": "30fde392-b2f1-404f-a449-cf3bd56a4c80",
   "metadata": {
    "execution": {
     "iopub.execute_input": "2024-05-13T05:41:54.533735Z",
     "iopub.status.busy": "2024-05-13T05:41:54.532538Z",
     "iopub.status.idle": "2024-05-13T05:41:54.559422Z",
     "shell.execute_reply": "2024-05-13T05:41:54.559025Z",
     "shell.execute_reply.started": "2024-05-13T05:41:54.533712Z"
    }
   },
   "outputs": [],
   "source": [
    "from icecream import ic"
   ]
  },
  {
   "cell_type": "markdown",
   "id": "ea969b79-7db4-48c4-a93e-306e870db17b",
   "metadata": {
    "jp-MarkdownHeadingCollapsed": true
   },
   "source": [
    "### test"
   ]
  },
  {
   "cell_type": "code",
   "execution_count": 27,
   "id": "d70d4ff7-2c5d-4306-a60c-3e93af1fac81",
   "metadata": {
    "execution": {
     "iopub.execute_input": "2024-05-12T08:02:56.641107Z",
     "iopub.status.busy": "2024-05-12T08:02:56.639389Z",
     "iopub.status.idle": "2024-05-12T08:02:56.649144Z",
     "shell.execute_reply": "2024-05-12T08:02:56.647423Z",
     "shell.execute_reply.started": "2024-05-12T08:02:56.641033Z"
    }
   },
   "outputs": [],
   "source": [
    "text = '스턴트맨은 어는 한적한 서울특별시 강동구 고덕동 길에서 잠에 들었다.'"
   ]
  },
  {
   "cell_type": "code",
   "execution_count": 89,
   "id": "3aec773c-1f12-4364-85ef-c61a9efe7cd9",
   "metadata": {
    "execution": {
     "iopub.execute_input": "2024-05-12T03:39:35.813171Z",
     "iopub.status.busy": "2024-05-12T03:39:35.812408Z",
     "iopub.status.idle": "2024-05-12T03:39:35.817892Z",
     "shell.execute_reply": "2024-05-12T03:39:35.817473Z",
     "shell.execute_reply.started": "2024-05-12T03:39:35.813144Z"
    }
   },
   "outputs": [],
   "source": [
    "text = '스턴트맨은 어는 한적한 충청북도 단양군 단양읍 마조리 길에서 잠에 들었다.'"
   ]
  },
  {
   "cell_type": "code",
   "execution_count": 19,
   "id": "86f07da8-6ff0-4225-819a-3076504c322f",
   "metadata": {
    "execution": {
     "iopub.execute_input": "2024-05-12T02:45:57.248134Z",
     "iopub.status.busy": "2024-05-12T02:45:57.243414Z",
     "iopub.status.idle": "2024-05-12T02:45:57.282102Z",
     "shell.execute_reply": "2024-05-12T02:45:57.279916Z",
     "shell.execute_reply.started": "2024-05-12T02:45:57.247970Z"
    }
   },
   "outputs": [],
   "source": [
    "provs = list(df_dstr.index)"
   ]
  },
  {
   "cell_type": "code",
   "execution_count": 30,
   "id": "eda6a10a-2efb-45df-a036-844d18430b9c",
   "metadata": {
    "execution": {
     "iopub.execute_input": "2024-05-12T08:07:58.439719Z",
     "iopub.status.busy": "2024-05-12T08:07:58.438302Z",
     "iopub.status.idle": "2024-05-12T08:07:58.448117Z",
     "shell.execute_reply": "2024-05-12T08:07:58.447507Z",
     "shell.execute_reply.started": "2024-05-12T08:07:58.439685Z"
    }
   },
   "outputs": [],
   "source": [
    "import re"
   ]
  },
  {
   "cell_type": "code",
   "execution_count": null,
   "id": "ed7f0e04-61b8-475c-9b95-e69068595088",
   "metadata": {
    "execution": {
     "iopub.execute_input": "2024-05-12T03:21:35.422522Z",
     "iopub.status.busy": "2024-05-12T03:21:35.419107Z",
     "iopub.status.idle": "2024-05-12T03:21:35.430085Z",
     "shell.execute_reply": "2024-05-12T03:21:35.429424Z",
     "shell.execute_reply.started": "2024-05-12T03:21:35.422484Z"
    }
   },
   "outputs": [],
   "source": [
    "# for lv1 in df_dstr['list']:\n",
    "#     ic(lv1)\n",
    "#     for lv1_item in lv1:\n",
    "#         # ic(lv1_item)\n",
    "#         # if lv1_item in text:\n",
    "#         pattern = r'\\b{}\\b'.format(re.escape(lv1_item))\n",
    "#         if re.search(pattern, text):\n",
    "#             ic(lv1_item)\n",
    "#             ic(df_dstr[lv1_item])"
   ]
  },
  {
   "cell_type": "code",
   "execution_count": 109,
   "id": "ab923476-265b-4b39-aa4f-322ad3b98459",
   "metadata": {
    "collapsed": true,
    "execution": {
     "iopub.execute_input": "2024-05-12T03:58:41.929905Z",
     "iopub.status.busy": "2024-05-12T03:58:41.928616Z",
     "iopub.status.idle": "2024-05-12T03:58:41.942140Z",
     "shell.execute_reply": "2024-05-12T03:58:41.941600Z",
     "shell.execute_reply.started": "2024-05-12T03:58:41.929873Z"
    },
    "jupyter": {
     "outputs_hidden": true
    },
    "scrolled": true
   },
   "outputs": [
    {
     "name": "stdout",
     "output_type": "stream",
     "text": [
      "서울특별시\n",
      "강동구\n",
      "고덕동\n"
     ]
    }
   ],
   "source": [
    "# lv0: province\n",
    "for lv0 in df_dstr.index:\n",
    "    if lv0 in text:\n",
    "        df = df_dstr[df_dstr.index == lv0]\n",
    "        lv1 = df['list'].iloc[0]\n",
    "\n",
    "        for lv2 in lv1:\n",
    "            if lv2 in text:\n",
    "                \n",
    "                for lv3 in df[lv2]:\n",
    "                    for lv4 in lv3['list']:\n",
    "                        if lv4 in text:\n",
    "                            if len(lv3[lv4]['list']) > 0:\n",
    "                                for lv5 in lv3[lv4]['list']:\n",
    "                                    if lv5 in text:\n",
    "                                        print(f'{lv0}\\n{lv2}\\n{lv4}\\n{lv5}')\n",
    "                                        break\n",
    "                            else:\n",
    "                                print(f'{lv0}\\n{lv2}\\n{lv4}')"
   ]
  },
  {
   "cell_type": "markdown",
   "id": "5966e7b3-c285-4c0b-a33d-4998a6a82cc5",
   "metadata": {},
   "source": [
    "#### search_text_in_hierarchy"
   ]
  },
  {
   "cell_type": "code",
   "execution_count": 112,
   "id": "88b6bef5-f455-48f2-bfa6-3b22775ac464",
   "metadata": {
    "execution": {
     "iopub.execute_input": "2024-05-12T04:01:51.339690Z",
     "iopub.status.busy": "2024-05-12T04:01:51.338086Z",
     "iopub.status.idle": "2024-05-12T04:01:51.349875Z",
     "shell.execute_reply": "2024-05-12T04:01:51.349301Z",
     "shell.execute_reply.started": "2024-05-12T04:01:51.339656Z"
    }
   },
   "outputs": [],
   "source": [
    "def print_hierarchy(lv1, lv2, lv4, lv5=None):\n",
    "    if lv5:\n",
    "        print(f'{lv1}\\n{lv2}\\n{lv4}\\n{lv5}')\n",
    "    else:\n",
    "        print(f'{lv1}\\n{lv2}\\n{lv4}')"
   ]
  },
  {
   "cell_type": "code",
   "execution_count": 113,
   "id": "b7c5849d-59af-43ce-b349-4665256ab4f8",
   "metadata": {
    "execution": {
     "iopub.execute_input": "2024-05-12T04:01:52.571276Z",
     "iopub.status.busy": "2024-05-12T04:01:52.570758Z",
     "iopub.status.idle": "2024-05-12T04:01:52.579506Z",
     "shell.execute_reply": "2024-05-12T04:01:52.578742Z",
     "shell.execute_reply.started": "2024-05-12T04:01:52.571249Z"
    }
   },
   "outputs": [],
   "source": [
    "def search_text_in_hierarchy(text, df_dstr):\n",
    "    # Iterate over the first level of the hierarchy\n",
    "    for lv1 in df_dstr.index:\n",
    "        if lv1 in text:\n",
    "            # Filter the DataFrame to get the current level\n",
    "            df_lv1 = df_dstr[df_dstr.index == lv1]\n",
    "            for lv2 in df_lv1['list'].iloc[0]:\n",
    "                if lv2 in text:\n",
    "                    # Iterate over the second level of the hierarchy\n",
    "                    for lv3 in df_lv1[lv2]:\n",
    "                        for lv4 in lv3['list']:\n",
    "                            if lv4 in text:\n",
    "                                if len(lv3[lv4]['list']) > 0:\n",
    "                                    # Iterate over the third level of the hierarchy\n",
    "                                    for lv5 in lv3[lv4]['list']:\n",
    "                                        if lv5 in text:\n",
    "                                            print_hierarchy(lv1, lv2, lv4, lv5)\n",
    "                                            break\n",
    "                                else:\n",
    "                                    print_hierarchy(lv1, lv2, lv4)"
   ]
  },
  {
   "cell_type": "code",
   "execution_count": 139,
   "id": "6e0cfeb3-2349-4c89-8595-199bdfe06f3b",
   "metadata": {
    "execution": {
     "iopub.execute_input": "2024-05-12T05:27:54.825584Z",
     "iopub.status.busy": "2024-05-12T05:27:54.821821Z",
     "iopub.status.idle": "2024-05-12T05:27:54.847408Z",
     "shell.execute_reply": "2024-05-12T05:27:54.846694Z",
     "shell.execute_reply.started": "2024-05-12T05:27:54.825558Z"
    }
   },
   "outputs": [],
   "source": [
    "search_text_in_hierarchy(text, df_dstr)"
   ]
  },
  {
   "cell_type": "code",
   "execution_count": 90,
   "id": "816aad2f-b9bf-4b9b-a569-22daeee911d1",
   "metadata": {
    "execution": {
     "iopub.execute_input": "2024-05-12T09:32:37.726943Z",
     "iopub.status.busy": "2024-05-12T09:32:37.725211Z",
     "iopub.status.idle": "2024-05-12T09:32:37.736598Z",
     "shell.execute_reply": "2024-05-12T09:32:37.735986Z",
     "shell.execute_reply.started": "2024-05-12T09:32:37.726891Z"
    }
   },
   "outputs": [],
   "source": [
    "from utils.search_address import search_address_in_text"
   ]
  },
  {
   "cell_type": "code",
   "execution_count": 140,
   "id": "2315a9b2-fc45-4d37-96f8-17656d1495dc",
   "metadata": {
    "execution": {
     "iopub.execute_input": "2024-05-12T05:28:24.149416Z",
     "iopub.status.busy": "2024-05-12T05:28:24.148430Z",
     "iopub.status.idle": "2024-05-12T05:28:24.164056Z",
     "shell.execute_reply": "2024-05-12T05:28:24.163609Z",
     "shell.execute_reply.started": "2024-05-12T05:28:24.149376Z"
    }
   },
   "outputs": [],
   "source": [
    "search_text_in_address(text, df_dstr)"
   ]
  },
  {
   "cell_type": "markdown",
   "id": "da5422fe-1611-43de-b33c-51a246f8ebab",
   "metadata": {},
   "source": [
    "#### test bottom-up"
   ]
  },
  {
   "cell_type": "code",
   "execution_count": 6,
   "id": "92751ca3-8884-4347-be72-7f996fe6d126",
   "metadata": {
    "execution": {
     "iopub.execute_input": "2024-05-12T07:20:28.558649Z",
     "iopub.status.busy": "2024-05-12T07:20:28.557162Z",
     "iopub.status.idle": "2024-05-12T07:20:28.580602Z",
     "shell.execute_reply": "2024-05-12T07:20:28.579943Z",
     "shell.execute_reply.started": "2024-05-12T07:20:28.558590Z"
    }
   },
   "outputs": [],
   "source": [
    "text = '스턴트맨은 어는 한적한 마조리 길에서 잠에 들었다.'"
   ]
  },
  {
   "cell_type": "code",
   "execution_count": 69,
   "id": "0fdf14db-8abc-4739-8877-8c69cbc2a8c5",
   "metadata": {
    "execution": {
     "iopub.execute_input": "2024-05-12T09:04:53.423579Z",
     "iopub.status.busy": "2024-05-12T09:04:53.422087Z",
     "iopub.status.idle": "2024-05-12T09:04:53.440727Z",
     "shell.execute_reply": "2024-05-12T09:04:53.440182Z",
     "shell.execute_reply.started": "2024-05-12T09:04:53.423518Z"
    }
   },
   "outputs": [],
   "source": [
    "def search_text_in_hierarchy(text, df_dstr):\n",
    "    searched_results = []\n",
    "\n",
    "    for lv1 in df_dstr.index:\n",
    "        count = 0\n",
    "        \n",
    "        pattern = r'\\b{}\\b'.format(re.escape(lv1))\n",
    "        if re.search(pattern, text):\n",
    "            ic(lv1)\n",
    "            count += 1\n",
    "            \n",
    "        df_lv1 = df_dstr[df_dstr.index == lv1]\n",
    "        for lv2 in df_lv1['list'].iloc[0]:\n",
    "\n",
    "            pattern = r'\\b{}\\b'.format(re.escape(lv2))\n",
    "            if re.search(pattern, text):\n",
    "                ic(lv2)\n",
    "                count += 1\n",
    "                \n",
    "            for lv3 in df_lv1[lv2]:\n",
    "                \n",
    "                for lv4 in lv3['list']:\n",
    "                    \n",
    "                    if len(lv3[lv4]['list']) > 0:\n",
    "                        for lv5 in lv3[lv4]['list']:\n",
    "\n",
    "                            pattern = r'\\b{}\\b'.format(re.escape(lv5))\n",
    "                            if re.search(pattern, text):\n",
    "                                count += 1\n",
    "                                address = f'{lv1} {lv2} {lv4} {lv5}'\n",
    "                                result = {\n",
    "                                    'count': count,\n",
    "                                    'address': address\n",
    "                                }\n",
    "                                searched_results.append(result)\n",
    "                                ic(address)\n",
    "                                \n",
    "                    else:\n",
    "                        pattern = r'\\b{}\\b'.format(re.escape(lv4))\n",
    "                        if re.search(pattern, text):\n",
    "                            count += 1\n",
    "                            address = f'{lv1} {lv2} {lv4}'\n",
    "                            result = {\n",
    "                                'count': count,\n",
    "                                'address': address\n",
    "                            }\n",
    "                            searched_results.append(result)\n",
    "                            ic(address)\n",
    "    \n",
    "    result = {\n",
    "        'address': '',\n",
    "        'count': 0\n",
    "    }\n",
    "    \n",
    "    for item in searched_results:\n",
    "        if item['count'] > result['count']:\n",
    "            result = item\n",
    "\n",
    "    return result['address']"
   ]
  },
  {
   "cell_type": "code",
   "execution_count": 70,
   "id": "7ce23aec-1cf6-436c-ae92-5a1cf2fa1bfb",
   "metadata": {
    "execution": {
     "iopub.execute_input": "2024-05-12T09:04:54.443500Z",
     "iopub.status.busy": "2024-05-12T09:04:54.442634Z",
     "iopub.status.idle": "2024-05-12T09:04:54.743219Z",
     "shell.execute_reply": "2024-05-12T09:04:54.742873Z",
     "shell.execute_reply.started": "2024-05-12T09:04:54.443479Z"
    },
    "scrolled": true
   },
   "outputs": [
    {
     "name": "stderr",
     "output_type": "stream",
     "text": [
      "ic| address: '경기도 평택시 고덕동'\n",
      "ic| lv1: '서울특별시'\n",
      "ic| lv2: '강동구'\n",
      "ic| address: '서울특별시 강동구 고덕동'\n"
     ]
    },
    {
     "data": {
      "text/plain": [
       "'서울특별시 강동구 고덕동'"
      ]
     },
     "execution_count": 70,
     "metadata": {},
     "output_type": "execute_result"
    }
   ],
   "source": [
    "search_text_in_hierarchy(text, df_dstr)"
   ]
  },
  {
   "cell_type": "code",
   "execution_count": 73,
   "id": "0c86875e-4557-41df-858e-61b7fc59a46c",
   "metadata": {
    "execution": {
     "iopub.execute_input": "2024-05-12T09:16:57.177248Z",
     "iopub.status.busy": "2024-05-12T09:16:57.176461Z",
     "iopub.status.idle": "2024-05-12T09:16:57.633383Z",
     "shell.execute_reply": "2024-05-12T09:16:57.633131Z",
     "shell.execute_reply.started": "2024-05-12T09:16:57.177200Z"
    },
    "scrolled": true
   },
   "outputs": [
    {
     "name": "stderr",
     "output_type": "stream",
     "text": [
      "ic| address: '경기도 평택시 고덕동'\n",
      "ic| lv1: '서울특별시'\n",
      "ic| lv2: '강동구'\n",
      "ic| address: '서울특별시 강동구 고덕동'\n"
     ]
    },
    {
     "data": {
      "text/plain": [
       "'서울특별시 강동구 고덕동'"
      ]
     },
     "execution_count": 73,
     "metadata": {},
     "output_type": "execute_result"
    }
   ],
   "source": [
    "search_address_in_text(text, df_dstr)"
   ]
  },
  {
   "cell_type": "markdown",
   "id": "3077663e-dc4c-4d58-88a5-193a8c89bfea",
   "metadata": {
    "jp-MarkdownHeadingCollapsed": true
   },
   "source": [
    "### Re-organising Dataframe"
   ]
  },
  {
   "cell_type": "markdown",
   "id": "b8a05b48-2501-42c8-914d-91d904bd2ceb",
   "metadata": {},
   "source": [
    "#### addr_sample"
   ]
  },
  {
   "cell_type": "code",
   "execution_count": 26,
   "id": "0bf01f1c-21a5-4cf9-ad92-c58550310951",
   "metadata": {
    "execution": {
     "iopub.execute_input": "2024-05-13T03:34:03.258895Z",
     "iopub.status.busy": "2024-05-13T03:34:03.257183Z",
     "iopub.status.idle": "2024-05-13T03:34:03.270109Z",
     "shell.execute_reply": "2024-05-13T03:34:03.269336Z",
     "shell.execute_reply.started": "2024-05-13T03:34:03.258821Z"
    },
    "scrolled": true
   },
   "outputs": [],
   "source": [
    "addr_sample = {\n",
    "    'lv1': [''],\n",
    "    'lv2': [''],\n",
    "    'lv3': [''],\n",
    "    'lv4': [''],\n",
    "    'lv5': ['']\n",
    "}\n",
    "df_addr = pd.DataFrame(addr_sample)"
   ]
  },
  {
   "cell_type": "code",
   "execution_count": 11,
   "id": "d7a95f5c-b0fc-40ca-9e85-a1db71158561",
   "metadata": {
    "execution": {
     "iopub.execute_input": "2024-05-13T03:32:20.678737Z",
     "iopub.status.busy": "2024-05-13T03:32:20.678510Z",
     "iopub.status.idle": "2024-05-13T03:32:20.689586Z",
     "shell.execute_reply": "2024-05-13T03:32:20.689144Z",
     "shell.execute_reply.started": "2024-05-13T03:32:20.678720Z"
    }
   },
   "outputs": [
    {
     "data": {
      "text/html": [
       "<div>\n",
       "<style scoped>\n",
       "    .dataframe tbody tr th:only-of-type {\n",
       "        vertical-align: middle;\n",
       "    }\n",
       "\n",
       "    .dataframe tbody tr th {\n",
       "        vertical-align: top;\n",
       "    }\n",
       "\n",
       "    .dataframe thead th {\n",
       "        text-align: right;\n",
       "    }\n",
       "</style>\n",
       "<table border=\"1\" class=\"dataframe\">\n",
       "  <thead>\n",
       "    <tr style=\"text-align: right;\">\n",
       "      <th></th>\n",
       "      <th>lv1</th>\n",
       "      <th>lv2</th>\n",
       "      <th>lv3</th>\n",
       "      <th>lv4</th>\n",
       "      <th>lv5</th>\n",
       "    </tr>\n",
       "  </thead>\n",
       "  <tbody>\n",
       "    <tr>\n",
       "      <th>0</th>\n",
       "      <td></td>\n",
       "      <td></td>\n",
       "      <td></td>\n",
       "      <td></td>\n",
       "      <td></td>\n",
       "    </tr>\n",
       "  </tbody>\n",
       "</table>\n",
       "</div>"
      ],
      "text/plain": [
       "  lv1 lv2 lv3 lv4 lv5\n",
       "0                    "
      ]
     },
     "execution_count": 11,
     "metadata": {},
     "output_type": "execute_result"
    }
   ],
   "source": [
    "df_addr"
   ]
  },
  {
   "cell_type": "code",
   "execution_count": 7,
   "id": "05d85a98-afa9-4294-a7b1-c7352f36fdae",
   "metadata": {
    "execution": {
     "iopub.execute_input": "2024-05-13T03:31:52.349836Z",
     "iopub.status.busy": "2024-05-13T03:31:52.348601Z",
     "iopub.status.idle": "2024-05-13T03:31:52.356809Z",
     "shell.execute_reply": "2024-05-13T03:31:52.356337Z",
     "shell.execute_reply.started": "2024-05-13T03:31:52.349803Z"
    }
   },
   "outputs": [],
   "source": [
    "addr_sample = {\n",
    "    'lv1': [''],\n",
    "    'lv2': [''],\n",
    "    'lv3': [''],\n",
    "    'lv4': [''],\n",
    "    'lv5': ['']\n",
    "}"
   ]
  },
  {
   "cell_type": "code",
   "execution_count": 24,
   "id": "ac7e0c83-2fc1-473f-a8a3-2906fd9aa042",
   "metadata": {
    "execution": {
     "iopub.execute_input": "2024-05-13T03:33:52.538064Z",
     "iopub.status.busy": "2024-05-13T03:33:52.536783Z",
     "iopub.status.idle": "2024-05-13T03:33:52.553282Z",
     "shell.execute_reply": "2024-05-13T03:33:52.552606Z",
     "shell.execute_reply.started": "2024-05-13T03:33:52.538014Z"
    }
   },
   "outputs": [],
   "source": [
    "df_addr.loc[len(df_addr)] = addr_sample"
   ]
  },
  {
   "cell_type": "code",
   "execution_count": 25,
   "id": "fd5cab91-dbd1-4b17-814e-972ab3c7f3f0",
   "metadata": {
    "execution": {
     "iopub.execute_input": "2024-05-13T03:33:53.422487Z",
     "iopub.status.busy": "2024-05-13T03:33:53.421779Z",
     "iopub.status.idle": "2024-05-13T03:33:53.495865Z",
     "shell.execute_reply": "2024-05-13T03:33:53.439661Z",
     "shell.execute_reply.started": "2024-05-13T03:33:53.422442Z"
    }
   },
   "outputs": [
    {
     "data": {
      "text/html": [
       "<div>\n",
       "<style scoped>\n",
       "    .dataframe tbody tr th:only-of-type {\n",
       "        vertical-align: middle;\n",
       "    }\n",
       "\n",
       "    .dataframe tbody tr th {\n",
       "        vertical-align: top;\n",
       "    }\n",
       "\n",
       "    .dataframe thead th {\n",
       "        text-align: right;\n",
       "    }\n",
       "</style>\n",
       "<table border=\"1\" class=\"dataframe\">\n",
       "  <thead>\n",
       "    <tr style=\"text-align: right;\">\n",
       "      <th></th>\n",
       "      <th>lv1</th>\n",
       "      <th>lv2</th>\n",
       "      <th>lv3</th>\n",
       "      <th>lv4</th>\n",
       "      <th>lv5</th>\n",
       "    </tr>\n",
       "  </thead>\n",
       "  <tbody>\n",
       "    <tr>\n",
       "      <th>0</th>\n",
       "      <td>[]</td>\n",
       "      <td>[]</td>\n",
       "      <td>[]</td>\n",
       "      <td>[]</td>\n",
       "      <td>[]</td>\n",
       "    </tr>\n",
       "    <tr>\n",
       "      <th>1</th>\n",
       "      <td>[]</td>\n",
       "      <td>[]</td>\n",
       "      <td>[]</td>\n",
       "      <td>[]</td>\n",
       "      <td>[]</td>\n",
       "    </tr>\n",
       "    <tr>\n",
       "      <th>2</th>\n",
       "      <td>[]</td>\n",
       "      <td>[]</td>\n",
       "      <td>[]</td>\n",
       "      <td>[]</td>\n",
       "      <td>[]</td>\n",
       "    </tr>\n",
       "  </tbody>\n",
       "</table>\n",
       "</div>"
      ],
      "text/plain": [
       "  lv1 lv2 lv3 lv4 lv5\n",
       "0  []  []  []  []  []\n",
       "1  []  []  []  []  []\n",
       "2  []  []  []  []  []"
      ]
     },
     "execution_count": 25,
     "metadata": {},
     "output_type": "execute_result"
    }
   ],
   "source": [
    "df_addr"
   ]
  },
  {
   "cell_type": "markdown",
   "id": "06c6568a-527b-474e-9dff-0642cf09d4cd",
   "metadata": {},
   "source": [
    "#### df_dstr"
   ]
  },
  {
   "cell_type": "code",
   "execution_count": 95,
   "id": "ddfdc888-16b7-4a07-a530-13721b08ece8",
   "metadata": {
    "execution": {
     "iopub.execute_input": "2024-05-13T01:41:38.864611Z",
     "iopub.status.busy": "2024-05-13T01:41:38.863060Z",
     "iopub.status.idle": "2024-05-13T01:41:38.964523Z",
     "shell.execute_reply": "2024-05-13T01:41:38.964249Z",
     "shell.execute_reply.started": "2024-05-13T01:41:38.864561Z"
    }
   },
   "outputs": [
    {
     "data": {
      "text/html": [
       "<div>\n",
       "<style scoped>\n",
       "    .dataframe tbody tr th:only-of-type {\n",
       "        vertical-align: middle;\n",
       "    }\n",
       "\n",
       "    .dataframe tbody tr th {\n",
       "        vertical-align: top;\n",
       "    }\n",
       "\n",
       "    .dataframe thead th {\n",
       "        text-align: right;\n",
       "    }\n",
       "</style>\n",
       "<table border=\"1\" class=\"dataframe\">\n",
       "  <thead>\n",
       "    <tr style=\"text-align: right;\">\n",
       "      <th></th>\n",
       "      <th>list</th>\n",
       "      <th>천안시</th>\n",
       "      <th>천안시 동남구</th>\n",
       "      <th>천안시 서북구</th>\n",
       "      <th>공주시</th>\n",
       "      <th>보령시</th>\n",
       "      <th>아산시</th>\n",
       "      <th>서산시</th>\n",
       "      <th>논산시</th>\n",
       "      <th>계룡시</th>\n",
       "      <th>...</th>\n",
       "      <th>양천구</th>\n",
       "      <th>구로구</th>\n",
       "      <th>금천구</th>\n",
       "      <th>영등포구</th>\n",
       "      <th>동작구</th>\n",
       "      <th>관악구</th>\n",
       "      <th>서초구</th>\n",
       "      <th>강남구</th>\n",
       "      <th>송파구</th>\n",
       "      <th>강동구</th>\n",
       "    </tr>\n",
       "  </thead>\n",
       "  <tbody>\n",
       "    <tr>\n",
       "      <th>충청남도</th>\n",
       "      <td>[천안시, 천안시 동남구, 천안시 서북구, 공주시, 보령시, 아산시, 서산시, 논산...</td>\n",
       "      <td>{'list': []}</td>\n",
       "      <td>{'list': ['대흥동', '성황동', '문화동', '사직동', '영성동', '...</td>\n",
       "      <td>{'list': ['와촌동', '성정동', '백석동', '두정동', '성성동', '...</td>\n",
       "      <td>{'list': ['반죽동', '봉황동', '중학동', '중동', '산성동', '교...</td>\n",
       "      <td>{'list': ['대천동', '죽정동', '화산동', '동대동', '명천동', '...</td>\n",
       "      <td>{'list': ['온천동', '실옥동', '방축동', '기산동', '초사동', '...</td>\n",
       "      <td>{'list': ['읍내동', '동문동', '갈산동', '온석동', '잠홍동', '...</td>\n",
       "      <td>{'list': ['화지동', '반월동', '대교동', '부창동', '취암동', '...</td>\n",
       "      <td>{'list': ['금암동', '두마면', '엄사면', '신도안면'], '금암동':...</td>\n",
       "      <td>...</td>\n",
       "      <td>NaN</td>\n",
       "      <td>NaN</td>\n",
       "      <td>NaN</td>\n",
       "      <td>NaN</td>\n",
       "      <td>NaN</td>\n",
       "      <td>NaN</td>\n",
       "      <td>NaN</td>\n",
       "      <td>NaN</td>\n",
       "      <td>NaN</td>\n",
       "      <td>NaN</td>\n",
       "    </tr>\n",
       "  </tbody>\n",
       "</table>\n",
       "<p>1 rows × 246 columns</p>\n",
       "</div>"
      ],
      "text/plain": [
       "                                                   list           천안시  \\\n",
       "충청남도  [천안시, 천안시 동남구, 천안시 서북구, 공주시, 보령시, 아산시, 서산시, 논산...  {'list': []}   \n",
       "\n",
       "                                                천안시 동남구  \\\n",
       "충청남도  {'list': ['대흥동', '성황동', '문화동', '사직동', '영성동', '...   \n",
       "\n",
       "                                                천안시 서북구  \\\n",
       "충청남도  {'list': ['와촌동', '성정동', '백석동', '두정동', '성성동', '...   \n",
       "\n",
       "                                                    공주시  \\\n",
       "충청남도  {'list': ['반죽동', '봉황동', '중학동', '중동', '산성동', '교...   \n",
       "\n",
       "                                                    보령시  \\\n",
       "충청남도  {'list': ['대천동', '죽정동', '화산동', '동대동', '명천동', '...   \n",
       "\n",
       "                                                    아산시  \\\n",
       "충청남도  {'list': ['온천동', '실옥동', '방축동', '기산동', '초사동', '...   \n",
       "\n",
       "                                                    서산시  \\\n",
       "충청남도  {'list': ['읍내동', '동문동', '갈산동', '온석동', '잠홍동', '...   \n",
       "\n",
       "                                                    논산시  \\\n",
       "충청남도  {'list': ['화지동', '반월동', '대교동', '부창동', '취암동', '...   \n",
       "\n",
       "                                                    계룡시  ...  양천구  구로구  금천구  \\\n",
       "충청남도  {'list': ['금암동', '두마면', '엄사면', '신도안면'], '금암동':...  ...  NaN  NaN  NaN   \n",
       "\n",
       "     영등포구  동작구  관악구  서초구  강남구  송파구  강동구  \n",
       "충청남도  NaN  NaN  NaN  NaN  NaN  NaN  NaN  \n",
       "\n",
       "[1 rows x 246 columns]"
      ]
     },
     "execution_count": 95,
     "metadata": {},
     "output_type": "execute_result"
    }
   ],
   "source": [
    "df_dstr.head(1)"
   ]
  },
  {
   "cell_type": "code",
   "execution_count": 105,
   "id": "2bbebf04-384b-4371-8185-d97d206c95f5",
   "metadata": {
    "execution": {
     "iopub.execute_input": "2024-05-13T01:51:49.035890Z",
     "iopub.status.busy": "2024-05-13T01:51:49.034915Z",
     "iopub.status.idle": "2024-05-13T01:51:49.041031Z",
     "shell.execute_reply": "2024-05-13T01:51:49.040720Z",
     "shell.execute_reply.started": "2024-05-13T01:51:49.035867Z"
    }
   },
   "outputs": [
    {
     "data": {
      "text/plain": [
       "'충청남도'"
      ]
     },
     "execution_count": 105,
     "metadata": {},
     "output_type": "execute_result"
    }
   ],
   "source": [
    "df_dstr.index[0]"
   ]
  },
  {
   "cell_type": "code",
   "execution_count": 120,
   "id": "5ae4babf-de44-43a5-9ffc-9f1067de9094",
   "metadata": {
    "collapsed": true,
    "execution": {
     "iopub.execute_input": "2024-05-13T01:59:09.420478Z",
     "iopub.status.busy": "2024-05-13T01:59:09.417918Z",
     "iopub.status.idle": "2024-05-13T01:59:09.439663Z",
     "shell.execute_reply": "2024-05-13T01:59:09.439128Z",
     "shell.execute_reply.started": "2024-05-13T01:59:09.420423Z"
    },
    "jupyter": {
     "outputs_hidden": true
    },
    "scrolled": true
   },
   "outputs": [
    {
     "data": {
      "text/plain": [
       "['천안시',\n",
       " '천안시 동남구',\n",
       " '천안시 서북구',\n",
       " '공주시',\n",
       " '보령시',\n",
       " '아산시',\n",
       " '서산시',\n",
       " '논산시',\n",
       " '계룡시',\n",
       " '당진시',\n",
       " '금산군',\n",
       " '부여군',\n",
       " '서천군',\n",
       " '청양군',\n",
       " '홍성군',\n",
       " '예산군',\n",
       " '태안군']"
      ]
     },
     "execution_count": 120,
     "metadata": {},
     "output_type": "execute_result"
    }
   ],
   "source": [
    "df_dstr[df_dstr.index == df_dstr.index[0]]['list'].tolist()[0]"
   ]
  },
  {
   "cell_type": "markdown",
   "id": "e17fcf06-f1c5-43fc-bd72-a68943ac0fbb",
   "metadata": {},
   "source": [
    "#### for loop"
   ]
  },
  {
   "cell_type": "code",
   "execution_count": 27,
   "id": "550a111c-c827-46ab-9166-29cc4fe47b8b",
   "metadata": {
    "execution": {
     "iopub.execute_input": "2024-05-13T03:34:39.450304Z",
     "iopub.status.busy": "2024-05-13T03:34:39.445591Z",
     "iopub.status.idle": "2024-05-13T03:35:01.799788Z",
     "shell.execute_reply": "2024-05-13T03:35:01.799117Z",
     "shell.execute_reply.started": "2024-05-13T03:34:39.450234Z"
    },
    "scrolled": true
   },
   "outputs": [],
   "source": [
    "for lv1 in df_dstr.index:\n",
    "    # ic(lv1)\n",
    "    lv1_item = df_dstr[df_dstr.index == lv1]\n",
    "    for lv2 in lv1_item['list'].iloc[0]:\n",
    "        # ic(lv2)\n",
    "        lv2_item = lv1_item[lv2].iloc[0]\n",
    "        # ic(lv2_item)\n",
    "        for lv3 in lv2_item['list']:\n",
    "            # ic(lv3)\n",
    "            lv3_item = lv2_item[lv3]\n",
    "            # ic(lv3_item)\n",
    "            if len(lv3_item['list']) > 0:\n",
    "                for lv4 in lv3_item['list']:\n",
    "                    # ic(lv4)\n",
    "                    # addr_text = f\"{lv1} {lv2} {lv3} {lv4}\"\n",
    "                    # ic(addr_text)\n",
    "\n",
    "                    addr_row = {\n",
    "                        'lv1': lv1,\n",
    "                        'lv2': lv2, \n",
    "                        'lv3': lv3, \n",
    "                        'lv4': lv4\n",
    "                    }\n",
    "                    df_addr.loc[len(df_addr)] = addr_row\n",
    "            else:\n",
    "                # addr_text = f\"{lv1} {lv2} {lv3}\"\n",
    "                # ic(addr_text)\n",
    "                \n",
    "                addr_row = {\n",
    "                    'lv1': lv1,\n",
    "                    'lv2': lv2, \n",
    "                    'lv3': lv3\n",
    "                }\n",
    "                df_addr.loc[len(df_addr)] = addr_row\n",
    "    # break"
   ]
  },
  {
   "cell_type": "markdown",
   "id": "5cf18522-170e-40b8-b81b-b78baf7b118d",
   "metadata": {},
   "source": [
    "#### inspection"
   ]
  },
  {
   "cell_type": "code",
   "execution_count": 28,
   "id": "951a8261-2437-4f70-8b5f-3ee9ba876522",
   "metadata": {
    "execution": {
     "iopub.execute_input": "2024-05-13T03:35:07.354054Z",
     "iopub.status.busy": "2024-05-13T03:35:07.352940Z",
     "iopub.status.idle": "2024-05-13T03:35:07.411826Z",
     "shell.execute_reply": "2024-05-13T03:35:07.411488Z",
     "shell.execute_reply.started": "2024-05-13T03:35:07.354015Z"
    }
   },
   "outputs": [
    {
     "name": "stdout",
     "output_type": "stream",
     "text": [
      "<class 'pandas.core.frame.DataFrame'>\n",
      "Index: 28200 entries, 0 to 28199\n",
      "Data columns (total 5 columns):\n",
      " #   Column  Non-Null Count  Dtype \n",
      "---  ------  --------------  ----- \n",
      " 0   lv1     28200 non-null  object\n",
      " 1   lv2     28200 non-null  object\n",
      " 2   lv3     28200 non-null  object\n",
      " 3   lv4     21596 non-null  object\n",
      " 4   lv5     1 non-null      object\n",
      "dtypes: object(5)\n",
      "memory usage: 1.3+ MB\n"
     ]
    }
   ],
   "source": [
    "df_addr.info()"
   ]
  },
  {
   "cell_type": "code",
   "execution_count": 29,
   "id": "9c460f56-f9fb-418e-a4ad-d35565d46450",
   "metadata": {
    "execution": {
     "iopub.execute_input": "2024-05-13T03:35:19.433396Z",
     "iopub.status.busy": "2024-05-13T03:35:19.432299Z",
     "iopub.status.idle": "2024-05-13T03:35:19.447443Z",
     "shell.execute_reply": "2024-05-13T03:35:19.447068Z",
     "shell.execute_reply.started": "2024-05-13T03:35:19.433358Z"
    }
   },
   "outputs": [
    {
     "data": {
      "text/html": [
       "<div>\n",
       "<style scoped>\n",
       "    .dataframe tbody tr th:only-of-type {\n",
       "        vertical-align: middle;\n",
       "    }\n",
       "\n",
       "    .dataframe tbody tr th {\n",
       "        vertical-align: top;\n",
       "    }\n",
       "\n",
       "    .dataframe thead th {\n",
       "        text-align: right;\n",
       "    }\n",
       "</style>\n",
       "<table border=\"1\" class=\"dataframe\">\n",
       "  <thead>\n",
       "    <tr style=\"text-align: right;\">\n",
       "      <th></th>\n",
       "      <th>lv1</th>\n",
       "      <th>lv2</th>\n",
       "      <th>lv3</th>\n",
       "      <th>lv4</th>\n",
       "      <th>lv5</th>\n",
       "    </tr>\n",
       "  </thead>\n",
       "  <tbody>\n",
       "    <tr>\n",
       "      <th>0</th>\n",
       "      <td></td>\n",
       "      <td></td>\n",
       "      <td></td>\n",
       "      <td></td>\n",
       "      <td></td>\n",
       "    </tr>\n",
       "    <tr>\n",
       "      <th>1</th>\n",
       "      <td>충청남도</td>\n",
       "      <td>천안시 동남구</td>\n",
       "      <td>대흥동</td>\n",
       "      <td>NaN</td>\n",
       "      <td>NaN</td>\n",
       "    </tr>\n",
       "    <tr>\n",
       "      <th>2</th>\n",
       "      <td>충청남도</td>\n",
       "      <td>천안시 동남구</td>\n",
       "      <td>성황동</td>\n",
       "      <td>NaN</td>\n",
       "      <td>NaN</td>\n",
       "    </tr>\n",
       "    <tr>\n",
       "      <th>3</th>\n",
       "      <td>충청남도</td>\n",
       "      <td>천안시 동남구</td>\n",
       "      <td>문화동</td>\n",
       "      <td>NaN</td>\n",
       "      <td>NaN</td>\n",
       "    </tr>\n",
       "    <tr>\n",
       "      <th>4</th>\n",
       "      <td>충청남도</td>\n",
       "      <td>천안시 동남구</td>\n",
       "      <td>사직동</td>\n",
       "      <td>NaN</td>\n",
       "      <td>NaN</td>\n",
       "    </tr>\n",
       "  </tbody>\n",
       "</table>\n",
       "</div>"
      ],
      "text/plain": [
       "    lv1      lv2  lv3  lv4  lv5\n",
       "0                              \n",
       "1  충청남도  천안시 동남구  대흥동  NaN  NaN\n",
       "2  충청남도  천안시 동남구  성황동  NaN  NaN\n",
       "3  충청남도  천안시 동남구  문화동  NaN  NaN\n",
       "4  충청남도  천안시 동남구  사직동  NaN  NaN"
      ]
     },
     "execution_count": 29,
     "metadata": {},
     "output_type": "execute_result"
    }
   ],
   "source": [
    "df_addr.head()"
   ]
  },
  {
   "cell_type": "code",
   "execution_count": 30,
   "id": "96fcc2d5-d1f7-49bb-bebf-00a59c2a9f0d",
   "metadata": {
    "execution": {
     "iopub.execute_input": "2024-05-13T03:38:50.622159Z",
     "iopub.status.busy": "2024-05-13T03:38:50.621148Z",
     "iopub.status.idle": "2024-05-13T03:38:53.022139Z",
     "shell.execute_reply": "2024-05-13T03:38:53.021770Z",
     "shell.execute_reply.started": "2024-05-13T03:38:50.622134Z"
    }
   },
   "outputs": [],
   "source": [
    "df_addr.to_csv(\"./address/address.csv\")\n",
    "df_addr.to_excel(\"./address/address.xlsx\")"
   ]
  },
  {
   "cell_type": "code",
   "execution_count": 49,
   "id": "347a2f07-d1e1-47b7-a6f3-b1197890401c",
   "metadata": {
    "execution": {
     "iopub.execute_input": "2024-05-13T04:51:46.513238Z",
     "iopub.status.busy": "2024-05-13T04:51:46.511952Z",
     "iopub.status.idle": "2024-05-13T04:51:46.535430Z",
     "shell.execute_reply": "2024-05-13T04:51:46.534974Z",
     "shell.execute_reply.started": "2024-05-13T04:51:46.513176Z"
    }
   },
   "outputs": [
    {
     "data": {
      "text/html": [
       "<div>\n",
       "<style scoped>\n",
       "    .dataframe tbody tr th:only-of-type {\n",
       "        vertical-align: middle;\n",
       "    }\n",
       "\n",
       "    .dataframe tbody tr th {\n",
       "        vertical-align: top;\n",
       "    }\n",
       "\n",
       "    .dataframe thead th {\n",
       "        text-align: right;\n",
       "    }\n",
       "</style>\n",
       "<table border=\"1\" class=\"dataframe\">\n",
       "  <thead>\n",
       "    <tr style=\"text-align: right;\">\n",
       "      <th></th>\n",
       "      <th>lv1</th>\n",
       "      <th>lv2</th>\n",
       "      <th>lv3</th>\n",
       "      <th>lv4</th>\n",
       "      <th>lv5</th>\n",
       "    </tr>\n",
       "  </thead>\n",
       "  <tbody>\n",
       "    <tr>\n",
       "      <th>0</th>\n",
       "      <td></td>\n",
       "      <td></td>\n",
       "      <td></td>\n",
       "      <td></td>\n",
       "      <td></td>\n",
       "    </tr>\n",
       "  </tbody>\n",
       "</table>\n",
       "</div>"
      ],
      "text/plain": [
       "  lv1 lv2 lv3 lv4 lv5\n",
       "0                    "
      ]
     },
     "execution_count": 49,
     "metadata": {},
     "output_type": "execute_result"
    }
   ],
   "source": [
    "df_addr[df_addr['lv5'].isna() == False]"
   ]
  },
  {
   "cell_type": "markdown",
   "id": "c043f4b8-eb2f-40c1-a8e3-356a7673a79e",
   "metadata": {
    "jp-MarkdownHeadingCollapsed": true
   },
   "source": [
    "### Retrieve Address"
   ]
  },
  {
   "cell_type": "code",
   "execution_count": 1,
   "id": "cdf3df70-e8c2-46a4-83de-9b484ec54951",
   "metadata": {
    "execution": {
     "iopub.execute_input": "2024-05-13T06:47:04.169695Z",
     "iopub.status.busy": "2024-05-13T06:47:04.167774Z",
     "iopub.status.idle": "2024-05-13T06:47:04.193672Z",
     "shell.execute_reply": "2024-05-13T06:47:04.193310Z",
     "shell.execute_reply.started": "2024-05-13T06:47:04.169582Z"
    }
   },
   "outputs": [],
   "source": [
    "text = [\n",
    "    '스턴트맨은 어는 한적한 마조리 길에서 잠에 들었다.',\n",
    "    '스턴트맨은 어는 한적한 서울특별시 강동구 고덕동 길에서 잠에 들었다.',\n",
    "    '스턴트맨은 어는 한적한 충청북도 단양군 단양읍 마조리 길에서 잠에 들었다.'\n",
    "]"
   ]
  },
  {
   "cell_type": "markdown",
   "id": "59dddefa-b38f-45b1-9b63-0abbce49d6e6",
   "metadata": {},
   "source": [
    "#### claude"
   ]
  },
  {
   "cell_type": "code",
   "execution_count": 33,
   "id": "1a810984-fe6e-4a7d-b662-9224e8f5fa67",
   "metadata": {
    "execution": {
     "iopub.execute_input": "2024-05-13T03:46:31.163161Z",
     "iopub.status.busy": "2024-05-13T03:46:31.162314Z",
     "iopub.status.idle": "2024-05-13T03:46:31.170884Z",
     "shell.execute_reply": "2024-05-13T03:46:31.170459Z",
     "shell.execute_reply.started": "2024-05-13T03:46:31.163135Z"
    }
   },
   "outputs": [],
   "source": [
    "data = {\n",
    "    'a': ['apple', 'axis', 'approval'],\n",
    "    'b': ['banana', 'back', 'bold'],\n",
    "    'c': ['cinema', 'come', 'cup']\n",
    "}\n",
    "df = pd.DataFrame(data)\n",
    "\n",
    "text = 'banana come to be apple'"
   ]
  },
  {
   "cell_type": "code",
   "execution_count": null,
   "id": "d5ed7089-c417-4c84-993e-813edebd7e3e",
   "metadata": {
    "execution": {
     "iopub.execute_input": "2024-05-13T03:50:20.989368Z",
     "iopub.status.busy": "2024-05-13T03:50:20.988092Z",
     "iopub.status.idle": "2024-05-13T03:50:21.041382Z",
     "shell.execute_reply": "2024-05-13T03:50:21.040728Z",
     "shell.execute_reply.started": "2024-05-13T03:50:20.989332Z"
    }
   },
   "outputs": [],
   "source": [
    "import pandas as pd\n",
    "\n",
    "data = {'a': ['apple', 'axis', 'approval'], 'b': ['banana', 'back', 'bold'], 'c': ['cinema', 'come', 'cup']}\n",
    "df = pd.DataFrame(data)\n",
    "text = 'banana come to be apple'"
   ]
  },
  {
   "cell_type": "code",
   "execution_count": null,
   "id": "d1c69175-564b-4bcf-bedb-d76cb60bf75e",
   "metadata": {
    "execution": {
     "iopub.execute_input": "2024-05-13T03:50:20.989368Z",
     "iopub.status.busy": "2024-05-13T03:50:20.988092Z",
     "iopub.status.idle": "2024-05-13T03:50:21.041382Z",
     "shell.execute_reply": "2024-05-13T03:50:21.040728Z",
     "shell.execute_reply.started": "2024-05-13T03:50:20.989332Z"
    }
   },
   "outputs": [],
   "source": [
    "# Split the text into words\n",
    "words = text.split()\n",
    "\n",
    "# Check if any word in each row is present in the text\n",
    "mask = df.apply(lambda row: row.str.contains('|'.join(words), case=False, na=False).any(), axis=1)\n",
    "\n",
    "# Filter the DataFrame to get the desired rows\n",
    "filtered_df = df[mask]\n",
    "\n",
    "print(filtered_df)"
   ]
  },
  {
   "cell_type": "markdown",
   "id": "6b43dba8-ee68-4e4e-9b0a-23679976fae4",
   "metadata": {},
   "source": [
    "#### test"
   ]
  },
  {
   "cell_type": "code",
   "execution_count": 104,
   "id": "d140b28d-60e8-4808-bee2-b12f50e989d9",
   "metadata": {
    "execution": {
     "iopub.execute_input": "2024-05-13T05:33:27.252001Z",
     "iopub.status.busy": "2024-05-13T05:33:27.250791Z",
     "iopub.status.idle": "2024-05-13T05:33:27.258080Z",
     "shell.execute_reply": "2024-05-13T05:33:27.257256Z",
     "shell.execute_reply.started": "2024-05-13T05:33:27.251961Z"
    }
   },
   "outputs": [],
   "source": [
    "# Split the text into words\n",
    "words = text.split()"
   ]
  },
  {
   "cell_type": "code",
   "execution_count": 122,
   "id": "f986bd20-58ab-43cf-8326-a5f7028804dc",
   "metadata": {
    "execution": {
     "iopub.execute_input": "2024-05-13T05:47:10.614664Z",
     "iopub.status.busy": "2024-05-13T05:47:10.612911Z",
     "iopub.status.idle": "2024-05-13T05:47:10.622017Z",
     "shell.execute_reply": "2024-05-13T05:47:10.621252Z",
     "shell.execute_reply.started": "2024-05-13T05:47:10.614635Z"
    }
   },
   "outputs": [],
   "source": [
    "def get_filtered():\n",
    "    # Check if any word in each row is present in the text\n",
    "    mask = df_addr.apply(lambda row: row.str.contains('|'.join(words), case=False, na=False).any(), axis=1)\n",
    "    \n",
    "    # Filter the DataFrame to get the desired rows\n",
    "    df_filtered = df_addr[mask]\n",
    "\n",
    "    return df_filtered"
   ]
  },
  {
   "cell_type": "code",
   "execution_count": 37,
   "id": "07ed85ad-4966-466e-97f8-7f2e88b9caa9",
   "metadata": {
    "collapsed": true,
    "execution": {
     "iopub.execute_input": "2024-05-13T03:53:41.072922Z",
     "iopub.status.busy": "2024-05-13T03:53:41.071600Z",
     "iopub.status.idle": "2024-05-13T03:53:41.115755Z",
     "shell.execute_reply": "2024-05-13T03:53:41.115393Z",
     "shell.execute_reply.started": "2024-05-13T03:53:41.072876Z"
    },
    "jupyter": {
     "outputs_hidden": true
    },
    "scrolled": true
   },
   "outputs": [
    {
     "data": {
      "text/html": [
       "<div>\n",
       "<style scoped>\n",
       "    .dataframe tbody tr th:only-of-type {\n",
       "        vertical-align: middle;\n",
       "    }\n",
       "\n",
       "    .dataframe tbody tr th {\n",
       "        vertical-align: top;\n",
       "    }\n",
       "\n",
       "    .dataframe thead th {\n",
       "        text-align: right;\n",
       "    }\n",
       "</style>\n",
       "<table border=\"1\" class=\"dataframe\">\n",
       "  <thead>\n",
       "    <tr style=\"text-align: right;\">\n",
       "      <th></th>\n",
       "      <th>lv1</th>\n",
       "      <th>lv2</th>\n",
       "      <th>lv3</th>\n",
       "      <th>lv4</th>\n",
       "      <th>lv5</th>\n",
       "    </tr>\n",
       "  </thead>\n",
       "  <tbody>\n",
       "    <tr>\n",
       "      <th>3326</th>\n",
       "      <td>충청북도</td>\n",
       "      <td>청주시 상당구</td>\n",
       "      <td>영동</td>\n",
       "      <td>NaN</td>\n",
       "      <td>NaN</td>\n",
       "    </tr>\n",
       "    <tr>\n",
       "      <th>3327</th>\n",
       "      <td>충청북도</td>\n",
       "      <td>청주시 상당구</td>\n",
       "      <td>북문로1가</td>\n",
       "      <td>NaN</td>\n",
       "      <td>NaN</td>\n",
       "    </tr>\n",
       "    <tr>\n",
       "      <th>3328</th>\n",
       "      <td>충청북도</td>\n",
       "      <td>청주시 상당구</td>\n",
       "      <td>북문로2가</td>\n",
       "      <td>NaN</td>\n",
       "      <td>NaN</td>\n",
       "    </tr>\n",
       "    <tr>\n",
       "      <th>3329</th>\n",
       "      <td>충청북도</td>\n",
       "      <td>청주시 상당구</td>\n",
       "      <td>북문로3가</td>\n",
       "      <td>NaN</td>\n",
       "      <td>NaN</td>\n",
       "    </tr>\n",
       "    <tr>\n",
       "      <th>3330</th>\n",
       "      <td>충청북도</td>\n",
       "      <td>청주시 상당구</td>\n",
       "      <td>남문로1가</td>\n",
       "      <td>NaN</td>\n",
       "      <td>NaN</td>\n",
       "    </tr>\n",
       "    <tr>\n",
       "      <th>...</th>\n",
       "      <td>...</td>\n",
       "      <td>...</td>\n",
       "      <td>...</td>\n",
       "      <td>...</td>\n",
       "      <td>...</td>\n",
       "    </tr>\n",
       "    <tr>\n",
       "      <th>5172</th>\n",
       "      <td>충청북도</td>\n",
       "      <td>단양군</td>\n",
       "      <td>단성면</td>\n",
       "      <td>당산리</td>\n",
       "      <td>NaN</td>\n",
       "    </tr>\n",
       "    <tr>\n",
       "      <th>5173</th>\n",
       "      <td>충청북도</td>\n",
       "      <td>단양군</td>\n",
       "      <td>단성면</td>\n",
       "      <td>창촌리</td>\n",
       "      <td>NaN</td>\n",
       "    </tr>\n",
       "    <tr>\n",
       "      <th>5174</th>\n",
       "      <td>충청북도</td>\n",
       "      <td>단양군</td>\n",
       "      <td>단성면</td>\n",
       "      <td>백운리</td>\n",
       "      <td>NaN</td>\n",
       "    </tr>\n",
       "    <tr>\n",
       "      <th>5175</th>\n",
       "      <td>충청북도</td>\n",
       "      <td>단양군</td>\n",
       "      <td>단성면</td>\n",
       "      <td>자양리</td>\n",
       "      <td>NaN</td>\n",
       "    </tr>\n",
       "    <tr>\n",
       "      <th>26289</th>\n",
       "      <td>경기도</td>\n",
       "      <td>김포시</td>\n",
       "      <td>하성면</td>\n",
       "      <td>마조리</td>\n",
       "      <td>NaN</td>\n",
       "    </tr>\n",
       "  </tbody>\n",
       "</table>\n",
       "<p>1851 rows × 5 columns</p>\n",
       "</div>"
      ],
      "text/plain": [
       "        lv1      lv2    lv3  lv4  lv5\n",
       "3326   충청북도  청주시 상당구     영동  NaN  NaN\n",
       "3327   충청북도  청주시 상당구  북문로1가  NaN  NaN\n",
       "3328   충청북도  청주시 상당구  북문로2가  NaN  NaN\n",
       "3329   충청북도  청주시 상당구  북문로3가  NaN  NaN\n",
       "3330   충청북도  청주시 상당구  남문로1가  NaN  NaN\n",
       "...     ...      ...    ...  ...  ...\n",
       "5172   충청북도      단양군    단성면  당산리  NaN\n",
       "5173   충청북도      단양군    단성면  창촌리  NaN\n",
       "5174   충청북도      단양군    단성면  백운리  NaN\n",
       "5175   충청북도      단양군    단성면  자양리  NaN\n",
       "26289   경기도      김포시    하성면  마조리  NaN\n",
       "\n",
       "[1851 rows x 5 columns]"
      ]
     },
     "execution_count": 37,
     "metadata": {},
     "output_type": "execute_result"
    }
   ],
   "source": [
    "filtered_df"
   ]
  },
  {
   "cell_type": "code",
   "execution_count": null,
   "id": "bc3abab6-a157-4359-a3be-51c0ded67ab6",
   "metadata": {
    "execution": {
     "iopub.execute_input": "2024-05-13T04:58:18.173905Z",
     "iopub.status.busy": "2024-05-13T04:58:18.172973Z",
     "iopub.status.idle": "2024-05-13T04:58:18.198894Z",
     "shell.execute_reply": "2024-05-13T04:58:18.198426Z",
     "shell.execute_reply.started": "2024-05-13T04:58:18.173867Z"
    }
   },
   "outputs": [],
   "source": [
    "res = filtered_df.count()"
   ]
  },
  {
   "cell_type": "code",
   "execution_count": 62,
   "id": "bb70c45c-4af1-4751-918c-70da28b41596",
   "metadata": {
    "collapsed": true,
    "execution": {
     "iopub.execute_input": "2024-05-13T04:59:13.799846Z",
     "iopub.status.busy": "2024-05-13T04:59:13.798575Z",
     "iopub.status.idle": "2024-05-13T04:59:13.806920Z",
     "shell.execute_reply": "2024-05-13T04:59:13.805888Z",
     "shell.execute_reply.started": "2024-05-13T04:59:13.799803Z"
    },
    "jupyter": {
     "outputs_hidden": true
    }
   },
   "outputs": [
    {
     "name": "stdout",
     "output_type": "stream",
     "text": [
      "<class 'pandas.core.series.Series'>\n"
     ]
    }
   ],
   "source": [
    "print(type(res))"
   ]
  },
  {
   "cell_type": "code",
   "execution_count": 64,
   "id": "bcdcd81d-b8ca-4fa2-98f4-b5a5c867296c",
   "metadata": {
    "collapsed": true,
    "execution": {
     "iopub.execute_input": "2024-05-13T04:59:34.243196Z",
     "iopub.status.busy": "2024-05-13T04:59:34.242207Z",
     "iopub.status.idle": "2024-05-13T04:59:34.263534Z",
     "shell.execute_reply": "2024-05-13T04:59:34.262904Z",
     "shell.execute_reply.started": "2024-05-13T04:59:34.243159Z"
    },
    "jupyter": {
     "outputs_hidden": true
    }
   },
   "outputs": [
    {
     "name": "stdout",
     "output_type": "stream",
     "text": [
      "1715\n"
     ]
    }
   ],
   "source": [
    "print(res.iloc[3])"
   ]
  },
  {
   "cell_type": "code",
   "execution_count": 125,
   "id": "57edde15-ff0d-4cac-b9dd-5b3f4a4cb0e8",
   "metadata": {
    "execution": {
     "iopub.execute_input": "2024-05-13T05:49:09.210253Z",
     "iopub.status.busy": "2024-05-13T05:49:09.209616Z",
     "iopub.status.idle": "2024-05-13T05:49:09.214727Z",
     "shell.execute_reply": "2024-05-13T05:49:09.214244Z",
     "shell.execute_reply.started": "2024-05-13T05:49:09.210227Z"
    },
    "scrolled": true
   },
   "outputs": [],
   "source": [
    "def get_level(df_addr, col):\n",
    "    # Check if any word in each row is present in the text\n",
    "    mask = df_addr[col].str.contains('|'.join(words), case=False, na=False)\n",
    "    \n",
    "    # Filter the DataFrame to get the desired rows\n",
    "    df_level = df_addr[mask]\n",
    "    return df_level"
   ]
  },
  {
   "cell_type": "code",
   "execution_count": 124,
   "id": "8b09c9c3-ee28-49e2-aad3-e40573ce3fff",
   "metadata": {
    "execution": {
     "iopub.execute_input": "2024-05-13T05:48:22.311330Z",
     "iopub.status.busy": "2024-05-13T05:48:22.310074Z",
     "iopub.status.idle": "2024-05-13T05:48:22.322032Z",
     "shell.execute_reply": "2024-05-13T05:48:22.321476Z",
     "shell.execute_reply.started": "2024-05-13T05:48:22.311277Z"
    }
   },
   "outputs": [],
   "source": [
    "def get_count(df_filtered, df_lv, col):\n",
    "    row_sample = {\n",
    "        'index': [],\n",
    "        'lv1': [],\n",
    "        'lv2': [],\n",
    "        'lv3': []\n",
    "    }\n",
    "    df_count = pd.DataFrame(row_sample)\n",
    "\n",
    "    for idx in df_lv.index:\n",
    "        ic(df_addr.iloc[idx])\n",
    "        df = df_filtered[df_filtered[col] == df_addr.iloc[idx][col]]\n",
    "        count = df.count()\n",
    "        new_item = {\n",
    "            'index': idx,\n",
    "            'lv1': count.iloc[0],\n",
    "            'lv2': count.iloc[1],\n",
    "            'lv3': count.iloc[2]\n",
    "        }\n",
    "        df_count.loc[len(df_count)] = new_item\n",
    "\n",
    "    ic(df_count)\n",
    "    return df_count"
   ]
  },
  {
   "cell_type": "code",
   "execution_count": 127,
   "id": "5b0268cd-a84f-4b6e-b57f-f5a99c3a1a4f",
   "metadata": {
    "execution": {
     "iopub.execute_input": "2024-05-13T05:49:38.270012Z",
     "iopub.status.busy": "2024-05-13T05:49:38.267925Z",
     "iopub.status.idle": "2024-05-13T05:49:39.191419Z",
     "shell.execute_reply": "2024-05-13T05:49:39.191136Z",
     "shell.execute_reply.started": "2024-05-13T05:49:38.269922Z"
    }
   },
   "outputs": [
    {
     "name": "stderr",
     "output_type": "stream",
     "text": [
      "ic| df_addr.iloc[idx]: lv1    경기도\n",
      "                       lv2    평택시\n",
      "                       lv3    고덕동\n",
      "                       lv4    NaN\n",
      "                       lv5    NaN\n",
      "                       Name: 25172, dtype: object\n",
      "ic| df_addr.iloc[idx]: lv1    서울특별시\n",
      "                       lv2      강동구\n",
      "                       lv3      고덕동\n",
      "                       lv4      NaN\n",
      "                       lv5      NaN\n",
      "                       Name: 28192, dtype: object\n",
      "ic| df_count:    index  lv1  lv2  lv3\n",
      "              0  25172    1    1    1\n",
      "              1  28192    9    9    9\n"
     ]
    },
    {
     "data": {
      "text/html": [
       "<div>\n",
       "<style scoped>\n",
       "    .dataframe tbody tr th:only-of-type {\n",
       "        vertical-align: middle;\n",
       "    }\n",
       "\n",
       "    .dataframe tbody tr th {\n",
       "        vertical-align: top;\n",
       "    }\n",
       "\n",
       "    .dataframe thead th {\n",
       "        text-align: right;\n",
       "    }\n",
       "</style>\n",
       "<table border=\"1\" class=\"dataframe\">\n",
       "  <thead>\n",
       "    <tr style=\"text-align: right;\">\n",
       "      <th></th>\n",
       "      <th>index</th>\n",
       "      <th>lv1</th>\n",
       "      <th>lv2</th>\n",
       "      <th>lv3</th>\n",
       "    </tr>\n",
       "  </thead>\n",
       "  <tbody>\n",
       "    <tr>\n",
       "      <th>0</th>\n",
       "      <td>25172</td>\n",
       "      <td>1</td>\n",
       "      <td>1</td>\n",
       "      <td>1</td>\n",
       "    </tr>\n",
       "    <tr>\n",
       "      <th>1</th>\n",
       "      <td>28192</td>\n",
       "      <td>9</td>\n",
       "      <td>9</td>\n",
       "      <td>9</td>\n",
       "    </tr>\n",
       "  </tbody>\n",
       "</table>\n",
       "</div>"
      ],
      "text/plain": [
       "   index  lv1  lv2  lv3\n",
       "0  25172    1    1    1\n",
       "1  28192    9    9    9"
      ]
     },
     "execution_count": 127,
     "metadata": {},
     "output_type": "execute_result"
    }
   ],
   "source": [
    "df_filtered = get_filtered()\n",
    "df_level = get_level(df_addr, 'lv3')\n",
    "df_count = get_count(df_filtered, df_level, 'lv2')\n",
    "df_count"
   ]
  },
  {
   "cell_type": "code",
   "execution_count": 137,
   "id": "f3e1d757-ae8f-4c9a-9e44-7255d0178457",
   "metadata": {
    "execution": {
     "iopub.execute_input": "2024-05-13T06:01:14.237250Z",
     "iopub.status.busy": "2024-05-13T06:01:14.235867Z",
     "iopub.status.idle": "2024-05-13T06:01:14.242337Z",
     "shell.execute_reply": "2024-05-13T06:01:14.241975Z",
     "shell.execute_reply.started": "2024-05-13T06:01:14.237192Z"
    }
   },
   "outputs": [],
   "source": [
    "def get_max(df_addr, df_count, col):\n",
    "    row = df_addr.iloc[df_count.iloc[df_count[col].idxmax()]['index']]\n",
    "    address = \"\"\n",
    "    for i in range(5):\n",
    "        text = row.iloc[i]\n",
    "        if isinstance(row.iloc[i], str):\n",
    "            address = \" \".join([address, text])\n",
    "    address = address.strip()\n",
    "    ic(address)\n",
    "    return address"
   ]
  },
  {
   "cell_type": "code",
   "execution_count": 138,
   "id": "5bd77668-a77c-4ce8-8653-58a0e0bdd67b",
   "metadata": {
    "execution": {
     "iopub.execute_input": "2024-05-13T06:01:37.847366Z",
     "iopub.status.busy": "2024-05-13T06:01:37.845832Z",
     "iopub.status.idle": "2024-05-13T06:01:37.901590Z",
     "shell.execute_reply": "2024-05-13T06:01:37.901003Z",
     "shell.execute_reply.started": "2024-05-13T06:01:37.847314Z"
    }
   },
   "outputs": [
    {
     "name": "stderr",
     "output_type": "stream",
     "text": [
      "ic| address: '서울특별시 강동구 고덕동'\n"
     ]
    },
    {
     "data": {
      "text/plain": [
       "'서울특별시 강동구 고덕동'"
      ]
     },
     "execution_count": 138,
     "metadata": {},
     "output_type": "execute_result"
    }
   ],
   "source": [
    "get_max(df_addr, df_count, 'lv3')"
   ]
  },
  {
   "cell_type": "markdown",
   "id": "93552848-7723-4ba9-94c5-c03c28a32af6",
   "metadata": {
    "jp-MarkdownHeadingCollapsed": true
   },
   "source": [
    "### class"
   ]
  },
  {
   "cell_type": "code",
   "execution_count": 32,
   "id": "7a6b86bd-c99f-4234-a4ce-c2ac67fcee13",
   "metadata": {
    "execution": {
     "iopub.execute_input": "2024-05-13T08:16:53.234849Z",
     "iopub.status.busy": "2024-05-13T08:16:53.233587Z",
     "iopub.status.idle": "2024-05-13T08:16:53.252007Z",
     "shell.execute_reply": "2024-05-13T08:16:53.251609Z",
     "shell.execute_reply.started": "2024-05-13T08:16:53.234797Z"
    }
   },
   "outputs": [],
   "source": [
    "import pandas as pd \n",
    "\n",
    "class RetrieveAddress:\n",
    "    def __init__(self, df_address: pd.DataFrame, text:str):\n",
    "        self.df_address = df_address\n",
    "        self.set_text(text)\n",
    "        self.make_sample()\n",
    "        # self.re_pattern = r'\\b|'\n",
    "\n",
    "    def set_text(self, text:str):\n",
    "        self.text = text\n",
    "        self.split_text()\n",
    "\n",
    "    def split_text(self):\n",
    "        # Split the text into words\n",
    "        self.words = self.text.split()\n",
    "\n",
    "    def make_filtered(self):\n",
    "        # Check if any word in each row is present in the text\n",
    "        # mask = self.df_address.apply(lambda row: row.str.contains('|'.join(self.words), case=False, na=False).any(), axis=1)\n",
    "        mask = self.df_address.map(\n",
    "            lambda x: bool(\n",
    "                re.search(\n",
    "                    r'\\b{}'.format(str(x)),\n",
    "                    ra.text,\n",
    "                    re.IGNORECASE)))\n",
    "        \n",
    "        # Filter the DataFrame to get the desired rows\n",
    "        self.df_filtered = self.df_address[mask.any(axis=1)]\n",
    "\n",
    "    def make_level(self, column_label:str):\n",
    "        # Check if any word in each row is present in the text\n",
    "        # mask = self.df_address[column_name].str.contains('|'.join(self.words), case=False, na=False)\n",
    "        mask = self.df_address.map(\n",
    "            lambda x: bool(\n",
    "                re.search(\n",
    "                    r'\\b{}'.format(str(x)),\n",
    "                    ra.text,\n",
    "                    re.IGNORECASE)))\n",
    "        \n",
    "        # Filter the DataFrame to get the desired rows\n",
    "        self.df_level = self.df_address[mask[column_label]]\n",
    "\n",
    "    def make_sample(self):\n",
    "        row_sample = {\n",
    "            'index': [],\n",
    "            'lv1': [],\n",
    "            'lv2': [],\n",
    "            'lv3': []\n",
    "        }\n",
    "        self.df_sample = pd.DataFrame(row_sample)\n",
    "\n",
    "    def make_count(self, column_name:str):\n",
    "\n",
    "        self.df_count = self.df_sample\n",
    "        for idx in self.df_level.index:\n",
    "            df = self.df_filtered[self.df_filtered[column_name] == self.df_address.iloc[idx][column_name]]\n",
    "            count = df.count()\n",
    "            new_item = {\n",
    "                'index': idx,\n",
    "                'lv1': count.iloc[0],\n",
    "                'lv2': count.iloc[1],\n",
    "                'lv3': count.iloc[2]\n",
    "            }\n",
    "            self.df_count.loc[len(self.df_count)] = new_item    \n",
    "        self.df_count = self.df_count\n",
    "\n",
    "    def get_max(self, column_name:str):\n",
    "        row = self.df_address.iloc[self.df_count.iloc[self.df_count[column_name].idxmax()]['index']]\n",
    "        address = \"\"\n",
    "        for i in range(5):\n",
    "            text = row.iloc[i]\n",
    "            if isinstance(row.iloc[i], str):\n",
    "                address = \" \".join([address, text])\n",
    "        address = address.strip()\n",
    "        self.address = address\n",
    "\n",
    "    def process(self, level:int):\n",
    "        self.make_filtered()\n",
    "        \n",
    "        for i in range(4, 0, -1):\n",
    "            self.make_level(f'lv{i}')\n",
    "            self.make_count(f'lv{i-1}')\n",
    "            if len(self.df_count) > 0:\n",
    "                self.get_max(f'lv{i-1}')\n",
    "                break\n",
    "            else:\n",
    "                continue\n",
    "            \n",
    "        return self.address"
   ]
  },
  {
   "cell_type": "markdown",
   "id": "4213d2ac-b8d1-4996-8aaf-cd6f438247c5",
   "metadata": {},
   "source": [
    "#### delete index row and column"
   ]
  },
  {
   "cell_type": "code",
   "execution_count": 17,
   "id": "ed46dc1c-a34c-4f61-89a3-7d418f08992c",
   "metadata": {
    "execution": {
     "iopub.execute_input": "2024-05-13T06:55:02.966646Z",
     "iopub.status.busy": "2024-05-13T06:55:02.965787Z",
     "iopub.status.idle": "2024-05-13T06:55:02.982536Z",
     "shell.execute_reply": "2024-05-13T06:55:02.981949Z",
     "shell.execute_reply.started": "2024-05-13T06:55:02.966615Z"
    }
   },
   "outputs": [],
   "source": [
    "df_address = df_address.drop(0)"
   ]
  },
  {
   "cell_type": "code",
   "execution_count": 19,
   "id": "ec1de2b9-7ade-429b-b6ab-489082507173",
   "metadata": {
    "execution": {
     "iopub.execute_input": "2024-05-13T06:55:44.436715Z",
     "iopub.status.busy": "2024-05-13T06:55:44.434963Z",
     "iopub.status.idle": "2024-05-13T06:55:44.459323Z",
     "shell.execute_reply": "2024-05-13T06:55:44.458860Z",
     "shell.execute_reply.started": "2024-05-13T06:55:44.436651Z"
    }
   },
   "outputs": [],
   "source": [
    "df_address = df_address.drop('Unnamed: 0', axis=1)"
   ]
  },
  {
   "cell_type": "code",
   "execution_count": 21,
   "id": "b3dcd483-d9b1-45fd-817e-907ad14b7798",
   "metadata": {
    "execution": {
     "iopub.execute_input": "2024-05-13T06:57:07.193750Z",
     "iopub.status.busy": "2024-05-13T06:57:07.192694Z",
     "iopub.status.idle": "2024-05-13T06:57:07.253537Z",
     "shell.execute_reply": "2024-05-13T06:57:07.253142Z",
     "shell.execute_reply.started": "2024-05-13T06:57:07.193725Z"
    }
   },
   "outputs": [],
   "source": [
    "df_address.to_csv('./address/address.csv', index=False)"
   ]
  },
  {
   "cell_type": "markdown",
   "id": "1ba7c595-5bf2-4ff4-8908-799aa8b2b176",
   "metadata": {
    "jp-MarkdownHeadingCollapsed": true
   },
   "source": [
    "### test"
   ]
  },
  {
   "cell_type": "code",
   "execution_count": 2,
   "id": "ddaae505-eda7-4b28-9292-eb06085ba64e",
   "metadata": {
    "execution": {
     "iopub.execute_input": "2024-05-13T07:49:29.333884Z",
     "iopub.status.busy": "2024-05-13T07:49:29.331837Z",
     "iopub.status.idle": "2024-05-13T07:49:29.388219Z",
     "shell.execute_reply": "2024-05-13T07:49:29.387883Z",
     "shell.execute_reply.started": "2024-05-13T07:49:29.333812Z"
    }
   },
   "outputs": [],
   "source": [
    "df_address = pd.read_csv(\"./address/address.csv\")"
   ]
  },
  {
   "cell_type": "code",
   "execution_count": 3,
   "id": "23d367df-3488-47b6-b4ca-4bfbde2737cd",
   "metadata": {
    "execution": {
     "iopub.execute_input": "2024-05-13T07:49:31.454751Z",
     "iopub.status.busy": "2024-05-13T07:49:31.454223Z",
     "iopub.status.idle": "2024-05-13T07:49:31.462531Z",
     "shell.execute_reply": "2024-05-13T07:49:31.461409Z",
     "shell.execute_reply.started": "2024-05-13T07:49:31.454719Z"
    }
   },
   "outputs": [],
   "source": [
    "text = [\n",
    "    '스턴트맨은 어는 한적한 마조리 길에서 잠에 들었다.',\n",
    "    '스턴트맨은 어는 한적한 서울특별시 강동구 고덕동 길에서 잠에 들었다.',\n",
    "    '스턴트맨은 어는 한적한 충청북도 단양군 단양읍 마조리 길에서 잠에 들었다.',\n",
    "    '스턴트맨은 어는 한적한 하성면 마조리 길에서 잠에 들었다.',\n",
    "    '스턴트맨은 어는 한적한 하성면 마조리에서 잠에 들었다.'\n",
    "]"
   ]
  },
  {
   "cell_type": "code",
   "execution_count": 33,
   "id": "a49f8bb1-5290-46a4-908c-cd7a3b69acca",
   "metadata": {
    "execution": {
     "iopub.execute_input": "2024-05-13T08:16:58.510269Z",
     "iopub.status.busy": "2024-05-13T08:16:58.509193Z",
     "iopub.status.idle": "2024-05-13T08:16:58.519940Z",
     "shell.execute_reply": "2024-05-13T08:16:58.518771Z",
     "shell.execute_reply.started": "2024-05-13T08:16:58.510229Z"
    }
   },
   "outputs": [],
   "source": [
    "ra = RetrieveAddress(df_address, text[-1])"
   ]
  },
  {
   "cell_type": "code",
   "execution_count": 34,
   "id": "17cdbb03-aacc-47e9-8ce9-c34d4e09d2b4",
   "metadata": {
    "execution": {
     "iopub.execute_input": "2024-05-13T08:16:59.282520Z",
     "iopub.status.busy": "2024-05-13T08:16:59.281913Z",
     "iopub.status.idle": "2024-05-13T08:16:59.990548Z",
     "shell.execute_reply": "2024-05-13T08:16:59.990129Z",
     "shell.execute_reply.started": "2024-05-13T08:16:59.282480Z"
    },
    "scrolled": true
   },
   "outputs": [
    {
     "data": {
      "text/plain": [
       "'경기도 김포시 하성면 마조리'"
      ]
     },
     "execution_count": 34,
     "metadata": {},
     "output_type": "execute_result"
    }
   ],
   "source": [
    "ra.process(4)"
   ]
  },
  {
   "cell_type": "code",
   "execution_count": 35,
   "id": "fa9cd8c2-7693-44e1-8238-dd5d4c7c74e3",
   "metadata": {
    "execution": {
     "iopub.execute_input": "2024-05-13T08:17:08.261343Z",
     "iopub.status.busy": "2024-05-13T08:17:08.260050Z",
     "iopub.status.idle": "2024-05-13T08:17:08.294880Z",
     "shell.execute_reply": "2024-05-13T08:17:08.294293Z",
     "shell.execute_reply.started": "2024-05-13T08:17:08.261293Z"
    },
    "scrolled": true
   },
   "outputs": [
    {
     "data": {
      "text/html": [
       "<div>\n",
       "<style scoped>\n",
       "    .dataframe tbody tr th:only-of-type {\n",
       "        vertical-align: middle;\n",
       "    }\n",
       "\n",
       "    .dataframe tbody tr th {\n",
       "        vertical-align: top;\n",
       "    }\n",
       "\n",
       "    .dataframe thead th {\n",
       "        text-align: right;\n",
       "    }\n",
       "</style>\n",
       "<table border=\"1\" class=\"dataframe\">\n",
       "  <thead>\n",
       "    <tr style=\"text-align: right;\">\n",
       "      <th></th>\n",
       "      <th>index</th>\n",
       "      <th>lv1</th>\n",
       "      <th>lv2</th>\n",
       "      <th>lv3</th>\n",
       "    </tr>\n",
       "  </thead>\n",
       "  <tbody>\n",
       "    <tr>\n",
       "      <th>0</th>\n",
       "      <td>5019</td>\n",
       "      <td>1</td>\n",
       "      <td>1</td>\n",
       "      <td>1</td>\n",
       "    </tr>\n",
       "    <tr>\n",
       "      <th>1</th>\n",
       "      <td>26288</td>\n",
       "      <td>12</td>\n",
       "      <td>12</td>\n",
       "      <td>12</td>\n",
       "    </tr>\n",
       "  </tbody>\n",
       "</table>\n",
       "</div>"
      ],
      "text/plain": [
       "   index  lv1  lv2  lv3\n",
       "0   5019    1    1    1\n",
       "1  26288   12   12   12"
      ]
     },
     "execution_count": 35,
     "metadata": {},
     "output_type": "execute_result"
    }
   ],
   "source": [
    "ra.df_count"
   ]
  },
  {
   "cell_type": "code",
   "execution_count": 36,
   "id": "c04a8a83-4aea-43bc-96f1-43283d7c6e93",
   "metadata": {
    "execution": {
     "iopub.execute_input": "2024-05-13T08:17:09.646970Z",
     "iopub.status.busy": "2024-05-13T08:17:09.646846Z",
     "iopub.status.idle": "2024-05-13T08:17:09.652848Z",
     "shell.execute_reply": "2024-05-13T08:17:09.652425Z",
     "shell.execute_reply.started": "2024-05-13T08:17:09.646962Z"
    },
    "scrolled": true
   },
   "outputs": [
    {
     "data": {
      "text/html": [
       "<div>\n",
       "<style scoped>\n",
       "    .dataframe tbody tr th:only-of-type {\n",
       "        vertical-align: middle;\n",
       "    }\n",
       "\n",
       "    .dataframe tbody tr th {\n",
       "        vertical-align: top;\n",
       "    }\n",
       "\n",
       "    .dataframe thead th {\n",
       "        text-align: right;\n",
       "    }\n",
       "</style>\n",
       "<table border=\"1\" class=\"dataframe\">\n",
       "  <thead>\n",
       "    <tr style=\"text-align: right;\">\n",
       "      <th></th>\n",
       "      <th>lv1</th>\n",
       "      <th>lv2</th>\n",
       "      <th>lv3</th>\n",
       "      <th>lv4</th>\n",
       "      <th>lv5</th>\n",
       "    </tr>\n",
       "  </thead>\n",
       "  <tbody>\n",
       "    <tr>\n",
       "      <th>5019</th>\n",
       "      <td>충청북도</td>\n",
       "      <td>단양군</td>\n",
       "      <td>단양읍</td>\n",
       "      <td>마조리</td>\n",
       "      <td>NaN</td>\n",
       "    </tr>\n",
       "    <tr>\n",
       "      <th>26288</th>\n",
       "      <td>경기도</td>\n",
       "      <td>김포시</td>\n",
       "      <td>하성면</td>\n",
       "      <td>마조리</td>\n",
       "      <td>NaN</td>\n",
       "    </tr>\n",
       "  </tbody>\n",
       "</table>\n",
       "</div>"
      ],
      "text/plain": [
       "        lv1  lv2  lv3  lv4  lv5\n",
       "5019   충청북도  단양군  단양읍  마조리  NaN\n",
       "26288   경기도  김포시  하성면  마조리  NaN"
      ]
     },
     "execution_count": 36,
     "metadata": {},
     "output_type": "execute_result"
    }
   ],
   "source": [
    "ra.df_level"
   ]
  },
  {
   "cell_type": "markdown",
   "id": "50b111d8-d1c1-4f16-a5a4-f6ea0bfd1b5a",
   "metadata": {},
   "source": [
    "#### making string pattern"
   ]
  },
  {
   "cell_type": "code",
   "execution_count": 79,
   "id": "feaa62ca-1c85-4b1d-96b2-98eee705f5b8",
   "metadata": {
    "execution": {
     "iopub.execute_input": "2024-05-13T07:24:10.079241Z",
     "iopub.status.busy": "2024-05-13T07:24:10.076543Z",
     "iopub.status.idle": "2024-05-13T07:24:10.117166Z",
     "shell.execute_reply": "2024-05-13T07:24:10.116287Z",
     "shell.execute_reply.started": "2024-05-13T07:24:10.079217Z"
    }
   },
   "outputs": [],
   "source": [
    "text = [\n",
    "    'bananas are here.',\n",
    "    'nana is here.',\n",
    "    'bana is here.',\n",
    "]\n",
    "df = pd.DataFrame(text)"
   ]
  },
  {
   "cell_type": "code",
   "execution_count": 80,
   "id": "14b450cd-c194-452c-9f6f-c29c4b387787",
   "metadata": {
    "execution": {
     "iopub.execute_input": "2024-05-13T07:24:13.058689Z",
     "iopub.status.busy": "2024-05-13T07:24:13.057592Z",
     "iopub.status.idle": "2024-05-13T07:24:13.144021Z",
     "shell.execute_reply": "2024-05-13T07:24:13.143644Z",
     "shell.execute_reply.started": "2024-05-13T07:24:13.058645Z"
    }
   },
   "outputs": [
    {
     "data": {
      "text/html": [
       "<div>\n",
       "<style scoped>\n",
       "    .dataframe tbody tr th:only-of-type {\n",
       "        vertical-align: middle;\n",
       "    }\n",
       "\n",
       "    .dataframe tbody tr th {\n",
       "        vertical-align: top;\n",
       "    }\n",
       "\n",
       "    .dataframe thead th {\n",
       "        text-align: right;\n",
       "    }\n",
       "</style>\n",
       "<table border=\"1\" class=\"dataframe\">\n",
       "  <thead>\n",
       "    <tr style=\"text-align: right;\">\n",
       "      <th></th>\n",
       "      <th>0</th>\n",
       "    </tr>\n",
       "  </thead>\n",
       "  <tbody>\n",
       "    <tr>\n",
       "      <th>0</th>\n",
       "      <td>bananas are here.</td>\n",
       "    </tr>\n",
       "    <tr>\n",
       "      <th>1</th>\n",
       "      <td>nana is here.</td>\n",
       "    </tr>\n",
       "    <tr>\n",
       "      <th>2</th>\n",
       "      <td>bana is here.</td>\n",
       "    </tr>\n",
       "  </tbody>\n",
       "</table>\n",
       "</div>"
      ],
      "text/plain": [
       "                   0\n",
       "0  bananas are here.\n",
       "1      nana is here.\n",
       "2      bana is here."
      ]
     },
     "execution_count": 80,
     "metadata": {},
     "output_type": "execute_result"
    }
   ],
   "source": [
    "df"
   ]
  },
  {
   "cell_type": "code",
   "execution_count": 81,
   "id": "2a2dfa82-83ef-4479-a29b-f4e146050764",
   "metadata": {
    "execution": {
     "iopub.execute_input": "2024-05-13T07:25:48.637508Z",
     "iopub.status.busy": "2024-05-13T07:25:48.636080Z",
     "iopub.status.idle": "2024-05-13T07:25:48.726052Z",
     "shell.execute_reply": "2024-05-13T07:25:48.725635Z",
     "shell.execute_reply.started": "2024-05-13T07:25:48.637451Z"
    }
   },
   "outputs": [
    {
     "name": "stdout",
     "output_type": "stream",
     "text": [
      "                Text\n",
      "0  bananas are here.\n"
     ]
    }
   ],
   "source": [
    "import pandas as pd\n",
    "\n",
    "text = [\n",
    "    'banana',\n",
    "    'nana',\n",
    "    'bana',\n",
    "]\n",
    "df = pd.DataFrame(text, columns=['Text'])\n",
    "\n",
    "keyword = 'bananas are here.'\n",
    "\n",
    "# Find rows containing the keyword\n",
    "matching_rows = df[df['Text'].str.contains(keyword)]\n",
    "\n",
    "print(matching_rows)\n"
   ]
  },
  {
   "cell_type": "code",
   "execution_count": null,
   "id": "ec280767-6997-4a08-90c6-8d0008e9d568",
   "metadata": {
    "execution": {
     "iopub.execute_input": "2024-05-13T07:29:10.849077Z",
     "iopub.status.busy": "2024-05-13T07:29:10.847613Z",
     "iopub.status.idle": "2024-05-13T07:29:10.870093Z",
     "shell.execute_reply": "2024-05-13T07:29:10.869745Z",
     "shell.execute_reply.started": "2024-05-13T07:29:10.849051Z"
    }
   },
   "outputs": [],
   "source": [
    "import pandas as pd\n",
    "\n",
    "text = [\n",
    "    'banana',\n",
    "    'nana',\n",
    "    'bana',\n",
    "]\n",
    "df = pd.DataFrame(text, columns=['Text'])\n",
    "\n",
    "sentence = 'bananas are here.'"
   ]
  },
  {
   "cell_type": "code",
   "execution_count": 84,
   "id": "c81f4ae2-fe62-4e51-a261-d2d4bdb528c1",
   "metadata": {
    "execution": {
     "iopub.execute_input": "2024-05-13T07:33:20.969743Z",
     "iopub.status.busy": "2024-05-13T07:33:20.967729Z",
     "iopub.status.idle": "2024-05-13T07:33:20.980430Z",
     "shell.execute_reply": "2024-05-13T07:33:20.979858Z",
     "shell.execute_reply.started": "2024-05-13T07:33:20.969694Z"
    }
   },
   "outputs": [
    {
     "name": "stdout",
     "output_type": "stream",
     "text": [
      "Row 0: 'banana' is present in the sentence.\n",
      "Row 1: 'nana' is present in the sentence.\n",
      "Row 2: 'bana' is present in the sentence.\n"
     ]
    }
   ],
   "source": [
    "# Iterate over DataFrame rows\n",
    "for index, row in df.iterrows():\n",
    "    if row['Text'] in sentence:\n",
    "        print(f\"Row {index}: '{row['Text']}' is present in the sentence.\")"
   ]
  },
  {
   "cell_type": "code",
   "execution_count": 85,
   "id": "ebfc0f69-15cc-4a8c-9dd6-6b721736d766",
   "metadata": {
    "execution": {
     "iopub.execute_input": "2024-05-13T07:33:27.967008Z",
     "iopub.status.busy": "2024-05-13T07:33:27.965764Z",
     "iopub.status.idle": "2024-05-13T07:33:27.976650Z",
     "shell.execute_reply": "2024-05-13T07:33:27.976257Z",
     "shell.execute_reply.started": "2024-05-13T07:33:27.966964Z"
    }
   },
   "outputs": [
    {
     "name": "stdout",
     "output_type": "stream",
     "text": [
      "Empty DataFrame\n",
      "Columns: [Text]\n",
      "Index: []\n"
     ]
    }
   ],
   "source": [
    "# Find the row where its content is 'banana'\n",
    "matching_rows = df[df['Text'] == sentence]\n",
    "\n",
    "print(matching_rows)"
   ]
  },
  {
   "cell_type": "markdown",
   "id": "7bc5e931-c9db-4ee1-a2c5-385983fae1fa",
   "metadata": {},
   "source": [
    "#### pattern 1"
   ]
  },
  {
   "cell_type": "code",
   "execution_count": 8,
   "id": "c7e27fc8-9b9d-4a41-a879-39ed168e00e3",
   "metadata": {
    "execution": {
     "iopub.execute_input": "2024-05-13T07:50:47.061954Z",
     "iopub.status.busy": "2024-05-13T07:50:47.061229Z",
     "iopub.status.idle": "2024-05-13T07:50:47.066705Z",
     "shell.execute_reply": "2024-05-13T07:50:47.066223Z",
     "shell.execute_reply.started": "2024-05-13T07:50:47.061928Z"
    }
   },
   "outputs": [],
   "source": [
    "df = ra.df_filtered"
   ]
  },
  {
   "cell_type": "code",
   "execution_count": 9,
   "id": "8d943082-51ec-438b-bd4a-1b27039dbe19",
   "metadata": {
    "execution": {
     "iopub.execute_input": "2024-05-13T07:50:55.948259Z",
     "iopub.status.busy": "2024-05-13T07:50:55.947640Z",
     "iopub.status.idle": "2024-05-13T07:50:55.978516Z",
     "shell.execute_reply": "2024-05-13T07:50:55.978148Z",
     "shell.execute_reply.started": "2024-05-13T07:50:55.948235Z"
    },
    "scrolled": true
   },
   "outputs": [
    {
     "name": "stdout",
     "output_type": "stream",
     "text": [
      "<class 'pandas.core.frame.DataFrame'>\n",
      "Index: 12 entries, 26284 to 26295\n",
      "Data columns (total 5 columns):\n",
      " #   Column  Non-Null Count  Dtype  \n",
      "---  ------  --------------  -----  \n",
      " 0   lv1     12 non-null     object \n",
      " 1   lv2     12 non-null     object \n",
      " 2   lv3     12 non-null     object \n",
      " 3   lv4     12 non-null     object \n",
      " 4   lv5     0 non-null      float64\n",
      "dtypes: float64(1), object(4)\n",
      "memory usage: 576.0+ bytes\n"
     ]
    }
   ],
   "source": [
    "df.info()"
   ]
  },
  {
   "cell_type": "code",
   "execution_count": 10,
   "id": "3071165d-768b-4df7-979c-58ed2b20fbe3",
   "metadata": {
    "execution": {
     "iopub.execute_input": "2024-05-13T07:51:01.182838Z",
     "iopub.status.busy": "2024-05-13T07:51:01.181656Z",
     "iopub.status.idle": "2024-05-13T07:51:01.195633Z",
     "shell.execute_reply": "2024-05-13T07:51:01.195319Z",
     "shell.execute_reply.started": "2024-05-13T07:51:01.182786Z"
    },
    "scrolled": true
   },
   "outputs": [
    {
     "data": {
      "text/html": [
       "<div>\n",
       "<style scoped>\n",
       "    .dataframe tbody tr th:only-of-type {\n",
       "        vertical-align: middle;\n",
       "    }\n",
       "\n",
       "    .dataframe tbody tr th {\n",
       "        vertical-align: top;\n",
       "    }\n",
       "\n",
       "    .dataframe thead th {\n",
       "        text-align: right;\n",
       "    }\n",
       "</style>\n",
       "<table border=\"1\" class=\"dataframe\">\n",
       "  <thead>\n",
       "    <tr style=\"text-align: right;\">\n",
       "      <th></th>\n",
       "      <th>lv1</th>\n",
       "      <th>lv2</th>\n",
       "      <th>lv3</th>\n",
       "      <th>lv4</th>\n",
       "      <th>lv5</th>\n",
       "    </tr>\n",
       "  </thead>\n",
       "  <tbody>\n",
       "    <tr>\n",
       "      <th>26284</th>\n",
       "      <td>경기도</td>\n",
       "      <td>김포시</td>\n",
       "      <td>하성면</td>\n",
       "      <td>마곡리</td>\n",
       "      <td>NaN</td>\n",
       "    </tr>\n",
       "    <tr>\n",
       "      <th>26285</th>\n",
       "      <td>경기도</td>\n",
       "      <td>김포시</td>\n",
       "      <td>하성면</td>\n",
       "      <td>석탄리</td>\n",
       "      <td>NaN</td>\n",
       "    </tr>\n",
       "    <tr>\n",
       "      <th>26286</th>\n",
       "      <td>경기도</td>\n",
       "      <td>김포시</td>\n",
       "      <td>하성면</td>\n",
       "      <td>후평리</td>\n",
       "      <td>NaN</td>\n",
       "    </tr>\n",
       "    <tr>\n",
       "      <th>26287</th>\n",
       "      <td>경기도</td>\n",
       "      <td>김포시</td>\n",
       "      <td>하성면</td>\n",
       "      <td>시암리</td>\n",
       "      <td>NaN</td>\n",
       "    </tr>\n",
       "    <tr>\n",
       "      <th>26288</th>\n",
       "      <td>경기도</td>\n",
       "      <td>김포시</td>\n",
       "      <td>하성면</td>\n",
       "      <td>마조리</td>\n",
       "      <td>NaN</td>\n",
       "    </tr>\n",
       "    <tr>\n",
       "      <th>26289</th>\n",
       "      <td>경기도</td>\n",
       "      <td>김포시</td>\n",
       "      <td>하성면</td>\n",
       "      <td>가금리</td>\n",
       "      <td>NaN</td>\n",
       "    </tr>\n",
       "    <tr>\n",
       "      <th>26290</th>\n",
       "      <td>경기도</td>\n",
       "      <td>김포시</td>\n",
       "      <td>하성면</td>\n",
       "      <td>양택리</td>\n",
       "      <td>NaN</td>\n",
       "    </tr>\n",
       "    <tr>\n",
       "      <th>26291</th>\n",
       "      <td>경기도</td>\n",
       "      <td>김포시</td>\n",
       "      <td>하성면</td>\n",
       "      <td>원산리</td>\n",
       "      <td>NaN</td>\n",
       "    </tr>\n",
       "    <tr>\n",
       "      <th>26292</th>\n",
       "      <td>경기도</td>\n",
       "      <td>김포시</td>\n",
       "      <td>하성면</td>\n",
       "      <td>하사리</td>\n",
       "      <td>NaN</td>\n",
       "    </tr>\n",
       "    <tr>\n",
       "      <th>26293</th>\n",
       "      <td>경기도</td>\n",
       "      <td>김포시</td>\n",
       "      <td>하성면</td>\n",
       "      <td>봉성리</td>\n",
       "      <td>NaN</td>\n",
       "    </tr>\n",
       "    <tr>\n",
       "      <th>26294</th>\n",
       "      <td>경기도</td>\n",
       "      <td>김포시</td>\n",
       "      <td>하성면</td>\n",
       "      <td>전류리</td>\n",
       "      <td>NaN</td>\n",
       "    </tr>\n",
       "    <tr>\n",
       "      <th>26295</th>\n",
       "      <td>경기도</td>\n",
       "      <td>김포시</td>\n",
       "      <td>하성면</td>\n",
       "      <td>마근포리</td>\n",
       "      <td>NaN</td>\n",
       "    </tr>\n",
       "  </tbody>\n",
       "</table>\n",
       "</div>"
      ],
      "text/plain": [
       "       lv1  lv2  lv3   lv4  lv5\n",
       "26284  경기도  김포시  하성면   마곡리  NaN\n",
       "26285  경기도  김포시  하성면   석탄리  NaN\n",
       "26286  경기도  김포시  하성면   후평리  NaN\n",
       "26287  경기도  김포시  하성면   시암리  NaN\n",
       "26288  경기도  김포시  하성면   마조리  NaN\n",
       "26289  경기도  김포시  하성면   가금리  NaN\n",
       "26290  경기도  김포시  하성면   양택리  NaN\n",
       "26291  경기도  김포시  하성면   원산리  NaN\n",
       "26292  경기도  김포시  하성면   하사리  NaN\n",
       "26293  경기도  김포시  하성면   봉성리  NaN\n",
       "26294  경기도  김포시  하성면   전류리  NaN\n",
       "26295  경기도  김포시  하성면  마근포리  NaN"
      ]
     },
     "execution_count": 10,
     "metadata": {},
     "output_type": "execute_result"
    }
   ],
   "source": [
    "df"
   ]
  },
  {
   "cell_type": "code",
   "execution_count": 14,
   "id": "54457b51-6469-4fbd-be3d-9612540218c2",
   "metadata": {
    "execution": {
     "iopub.execute_input": "2024-05-13T07:53:35.904865Z",
     "iopub.status.busy": "2024-05-13T07:53:35.903997Z",
     "iopub.status.idle": "2024-05-13T07:53:35.909430Z",
     "shell.execute_reply": "2024-05-13T07:53:35.909014Z",
     "shell.execute_reply.started": "2024-05-13T07:53:35.904841Z"
    }
   },
   "outputs": [],
   "source": [
    "import re"
   ]
  },
  {
   "cell_type": "code",
   "execution_count": null,
   "id": "bd6d16d1-9880-47c9-b119-4c63a977cb5f",
   "metadata": {},
   "outputs": [],
   "source": [
    "# mask = self.df_address[column_name].str.contains('|'.join(self.words), case=False, na=False)"
   ]
  },
  {
   "cell_type": "code",
   "execution_count": 17,
   "id": "04d36f67-0a10-4ecd-bd3e-35fcdaeba154",
   "metadata": {
    "execution": {
     "iopub.execute_input": "2024-05-13T07:55:40.544651Z",
     "iopub.status.busy": "2024-05-13T07:55:40.539501Z",
     "iopub.status.idle": "2024-05-13T07:55:40.554833Z",
     "shell.execute_reply": "2024-05-13T07:55:40.553645Z",
     "shell.execute_reply.started": "2024-05-13T07:55:40.544616Z"
    }
   },
   "outputs": [
    {
     "data": {
      "text/plain": [
       "['스턴트맨은', '어는', '한적한', '하성면', '마조리에서', '잠에', '들었다.']"
      ]
     },
     "execution_count": 17,
     "metadata": {},
     "output_type": "execute_result"
    }
   ],
   "source": [
    "ra.words"
   ]
  },
  {
   "cell_type": "code",
   "execution_count": 24,
   "id": "be6a39f0-38a8-4dd9-aa44-557d9e1a0da0",
   "metadata": {
    "execution": {
     "iopub.execute_input": "2024-05-13T08:04:10.542860Z",
     "iopub.status.busy": "2024-05-13T08:04:10.541455Z",
     "iopub.status.idle": "2024-05-13T08:04:10.550817Z",
     "shell.execute_reply": "2024-05-13T08:04:10.549911Z",
     "shell.execute_reply.started": "2024-05-13T08:04:10.542839Z"
    },
    "scrolled": true
   },
   "outputs": [
    {
     "data": {
      "text/plain": [
       "'\\\\b(?:스턴트맨은|어는|한적한|하성면|마조리에서|잠에|들었다.)'"
      ]
     },
     "execution_count": 24,
     "metadata": {},
     "output_type": "execute_result"
    }
   ],
   "source": [
    "import re\n",
    "\n",
    "# Assuming self.words is a list of words\n",
    "pattern = r'\\b(?:' + '|'.join(ra.words) + r')'\n",
    "pattern"
   ]
  },
  {
   "cell_type": "code",
   "execution_count": null,
   "id": "9017912c-5ec9-4837-ad36-cc8c6d1e83b1",
   "metadata": {
    "execution": {
     "iopub.execute_input": "2024-05-13T08:03:24.328896Z",
     "iopub.status.busy": "2024-05-13T08:03:24.327886Z",
     "iopub.status.idle": "2024-05-13T08:03:24.357896Z",
     "shell.execute_reply": "2024-05-13T08:03:24.357590Z",
     "shell.execute_reply.started": "2024-05-13T08:03:24.328847Z"
    },
    "scrolled": true
   },
   "outputs": [],
   "source": [
    "# mask = df.applymap(\n",
    "#     lambda x: bool(\n",
    "#         re.search(\n",
    "#             pattern,\n",
    "#             str(x),\n",
    "#             re.IGNORECASE)))"
   ]
  },
  {
   "cell_type": "code",
   "execution_count": null,
   "id": "39571434-e2e2-428c-af8f-a87f32011abe",
   "metadata": {
    "execution": {
     "iopub.execute_input": "2024-05-13T08:03:24.328896Z",
     "iopub.status.busy": "2024-05-13T08:03:24.327886Z",
     "iopub.status.idle": "2024-05-13T08:03:24.357896Z",
     "shell.execute_reply": "2024-05-13T08:03:24.357590Z",
     "shell.execute_reply.started": "2024-05-13T08:03:24.328847Z"
    },
    "scrolled": true
   },
   "outputs": [],
   "source": [
    "# mask = df.applymap(\n",
    "#     lambda x: bool(\n",
    "#         re.search(\n",
    "#             r'|'.join(ra.words),\n",
    "#             str(x),\n",
    "#             re.IGNORECASE)))"
   ]
  },
  {
   "cell_type": "code",
   "execution_count": 25,
   "id": "a9f3050d-2576-4362-bebe-7909b64250d8",
   "metadata": {
    "execution": {
     "iopub.execute_input": "2024-05-13T08:09:12.716083Z",
     "iopub.status.busy": "2024-05-13T08:09:12.714982Z",
     "iopub.status.idle": "2024-05-13T08:09:12.744129Z",
     "shell.execute_reply": "2024-05-13T08:09:12.742937Z",
     "shell.execute_reply.started": "2024-05-13T08:09:12.716055Z"
    }
   },
   "outputs": [
    {
     "name": "stderr",
     "output_type": "stream",
     "text": [
      "/var/folders/r0/w084nh2s0v3fstg3n70027500000gn/T/ipykernel_65457/1637594485.py:1: FutureWarning: DataFrame.applymap has been deprecated. Use DataFrame.map instead.\n",
      "  mask = df.applymap(\n"
     ]
    }
   ],
   "source": [
    "mask = df.applymap(\n",
    "    lambda x: bool(\n",
    "        re.search(\n",
    "            r'\\b{}'.format(str(x)),\n",
    "            ra.text,\n",
    "            re.IGNORECASE)))"
   ]
  },
  {
   "cell_type": "code",
   "execution_count": 28,
   "id": "5d737ee6-58dc-451a-8455-4330a24076bf",
   "metadata": {
    "execution": {
     "iopub.execute_input": "2024-05-13T08:12:33.710883Z",
     "iopub.status.busy": "2024-05-13T08:12:33.705727Z",
     "iopub.status.idle": "2024-05-13T08:12:33.749097Z",
     "shell.execute_reply": "2024-05-13T08:12:33.748356Z",
     "shell.execute_reply.started": "2024-05-13T08:12:33.710851Z"
    },
    "scrolled": true
   },
   "outputs": [
    {
     "data": {
      "text/html": [
       "<div>\n",
       "<style scoped>\n",
       "    .dataframe tbody tr th:only-of-type {\n",
       "        vertical-align: middle;\n",
       "    }\n",
       "\n",
       "    .dataframe tbody tr th {\n",
       "        vertical-align: top;\n",
       "    }\n",
       "\n",
       "    .dataframe thead th {\n",
       "        text-align: right;\n",
       "    }\n",
       "</style>\n",
       "<table border=\"1\" class=\"dataframe\">\n",
       "  <thead>\n",
       "    <tr style=\"text-align: right;\">\n",
       "      <th></th>\n",
       "      <th>lv1</th>\n",
       "      <th>lv2</th>\n",
       "      <th>lv3</th>\n",
       "      <th>lv4</th>\n",
       "      <th>lv5</th>\n",
       "    </tr>\n",
       "  </thead>\n",
       "  <tbody>\n",
       "    <tr>\n",
       "      <th>26288</th>\n",
       "      <td>경기도</td>\n",
       "      <td>김포시</td>\n",
       "      <td>하성면</td>\n",
       "      <td>마조리</td>\n",
       "      <td>NaN</td>\n",
       "    </tr>\n",
       "  </tbody>\n",
       "</table>\n",
       "</div>"
      ],
      "text/plain": [
       "       lv1  lv2  lv3  lv4  lv5\n",
       "26288  경기도  김포시  하성면  마조리  NaN"
      ]
     },
     "execution_count": 28,
     "metadata": {},
     "output_type": "execute_result"
    }
   ],
   "source": [
    "# df_filtered = df[mask.any(axis=1)]\n",
    "df_filtered = df[mask['lv4']]\n",
    "df_filtered"
   ]
  },
  {
   "cell_type": "markdown",
   "id": "1141dcfd-9fe4-4d24-907f-6913872c0d50",
   "metadata": {},
   "source": [
    "### 3"
   ]
  },
  {
   "cell_type": "code",
   "execution_count": null,
   "id": "38583bbc-490f-4dd1-a7aa-f97c092afca1",
   "metadata": {},
   "outputs": [],
   "source": []
  }
 ],
 "metadata": {
  "kernelspec": {
   "display_name": "Python 3 (ipykernel)",
   "language": "python",
   "name": "python3"
  },
  "language_info": {
   "codemirror_mode": {
    "name": "ipython",
    "version": 3
   },
   "file_extension": ".py",
   "mimetype": "text/x-python",
   "name": "python",
   "nbconvert_exporter": "python",
   "pygments_lexer": "ipython3",
   "version": "3.11.0"
  }
 },
 "nbformat": 4,
 "nbformat_minor": 5
}
