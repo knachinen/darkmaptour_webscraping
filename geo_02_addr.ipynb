{
 "cells": [
  {
   "cell_type": "markdown",
   "id": "79279a8d-8186-4c4e-8480-1d85fce107c1",
   "metadata": {},
   "source": [
    "## import"
   ]
  },
  {
   "cell_type": "code",
   "execution_count": 1,
   "id": "41bc6241-456f-49a5-9e32-44339f6ac931",
   "metadata": {
    "execution": {
     "iopub.execute_input": "2024-06-01T12:17:09.820976Z",
     "iopub.status.busy": "2024-06-01T12:17:09.819877Z",
     "iopub.status.idle": "2024-06-01T12:17:09.867113Z",
     "shell.execute_reply": "2024-06-01T12:17:09.866780Z",
     "shell.execute_reply.started": "2024-06-01T12:17:09.820937Z"
    }
   },
   "outputs": [],
   "source": [
    "%load_ext autoreload"
   ]
  },
  {
   "cell_type": "code",
   "execution_count": 2,
   "id": "9d452298-b5df-45c8-931a-a92e86d1449f",
   "metadata": {
    "execution": {
     "iopub.execute_input": "2024-06-01T12:17:09.868728Z",
     "iopub.status.busy": "2024-06-01T12:17:09.868414Z",
     "iopub.status.idle": "2024-06-01T12:17:12.456292Z",
     "shell.execute_reply": "2024-06-01T12:17:12.455975Z",
     "shell.execute_reply.started": "2024-06-01T12:17:09.868693Z"
    },
    "scrolled": true
   },
   "outputs": [],
   "source": [
    "%aimport utils.search_address"
   ]
  },
  {
   "cell_type": "code",
   "execution_count": 3,
   "id": "63f8abf5-001a-407d-97c8-1bd37efa092b",
   "metadata": {
    "execution": {
     "iopub.execute_input": "2024-06-01T12:17:12.457130Z",
     "iopub.status.busy": "2024-06-01T12:17:12.456834Z",
     "iopub.status.idle": "2024-06-01T12:17:13.098431Z",
     "shell.execute_reply": "2024-06-01T12:17:13.097990Z",
     "shell.execute_reply.started": "2024-06-01T12:17:12.457120Z"
    }
   },
   "outputs": [],
   "source": [
    "import pandas as pd \n",
    "import numpy as np\n",
    "import math\n",
    "import re\n",
    "\n",
    "from icecream import ic\n",
    "from tqdm.notebook import tqdm \n",
    "\n",
    "from utils.custom_utils import load_var, save_var\n",
    "from utils.webscraping import ArticleScraper\n",
    "from utils.search_address import CheckAddressLevels\n",
    "import utils.search_address as sa\n",
    "\n",
    "from importlib import reload\n",
    "\n",
    "df_addr = pd.read_parquet('./address/df_addr.parquet.gzip')\n",
    "df_text = pd.read_parquet('./dataframe/flasher_hk_20130101_20220307.gzip')\n"
   ]
  },
  {
   "cell_type": "code",
   "execution_count": 4,
   "id": "318f5d99-017d-446c-a872-80ab1b681d91",
   "metadata": {
    "execution": {
     "iopub.execute_input": "2024-06-01T12:17:13.099174Z",
     "iopub.status.busy": "2024-06-01T12:17:13.098946Z",
     "iopub.status.idle": "2024-06-01T12:17:13.102415Z",
     "shell.execute_reply": "2024-06-01T12:17:13.101611Z",
     "shell.execute_reply.started": "2024-06-01T12:17:13.099166Z"
    }
   },
   "outputs": [],
   "source": [
    "%autoreload 2"
   ]
  },
  {
   "cell_type": "markdown",
   "id": "6c8ff800-cd43-4930-8238-6c8437b2f4cf",
   "metadata": {},
   "source": [
    "## searching address in the text"
   ]
  },
  {
   "cell_type": "code",
   "execution_count": 5,
   "id": "c99c0449-2cc3-43b5-826c-c22f88aca199",
   "metadata": {
    "execution": {
     "iopub.execute_input": "2024-06-01T12:18:02.708115Z",
     "iopub.status.busy": "2024-06-01T12:18:02.707239Z",
     "iopub.status.idle": "2024-06-01T12:18:02.833063Z",
     "shell.execute_reply": "2024-06-01T12:18:02.828862Z",
     "shell.execute_reply.started": "2024-06-01T12:18:02.708048Z"
    }
   },
   "outputs": [],
   "source": [
    "# text\n",
    "index = 0\n",
    "text_iter = iter(zip(df_text.index[index:], df_text.loc[index:, 'content']))"
   ]
  },
  {
   "cell_type": "code",
   "execution_count": 6,
   "id": "0f339c89-c41f-4f7b-ad91-fdff946a17b4",
   "metadata": {
    "execution": {
     "iopub.execute_input": "2024-06-01T12:18:03.889216Z",
     "iopub.status.busy": "2024-06-01T12:18:03.886516Z",
     "iopub.status.idle": "2024-06-01T12:18:03.920609Z",
     "shell.execute_reply": "2024-06-01T12:18:03.920088Z",
     "shell.execute_reply.started": "2024-06-01T12:18:03.889171Z"
    },
    "scrolled": true
   },
   "outputs": [],
   "source": [
    "index, text = next(text_iter)\n",
    "text = sa.clean_text(text)"
   ]
  },
  {
   "cell_type": "code",
   "execution_count": 91,
   "id": "08f84b58-8dbc-479f-afe7-e8a33317a8f8",
   "metadata": {
    "execution": {
     "iopub.execute_input": "2024-05-24T13:25:54.642763Z",
     "iopub.status.busy": "2024-05-24T13:25:54.641234Z",
     "iopub.status.idle": "2024-05-24T13:34:21.216592Z",
     "shell.execute_reply": "2024-05-24T13:34:21.209667Z",
     "shell.execute_reply.started": "2024-05-24T13:25:54.642727Z"
    }
   },
   "outputs": [
    {
     "data": {
      "application/vnd.jupyter.widget-view+json": {
       "model_id": "e219752947b847c3bb7e20ffe22ffe3e",
       "version_major": 2,
       "version_minor": 0
      },
      "text/plain": [
       "  0%|          | 0/367 [00:00<?, ?it/s]"
      ]
     },
     "metadata": {},
     "output_type": "display_data"
    }
   ],
   "source": [
    "start_index = 10\n",
    "end_index = len(df_text)\n",
    "total_length = len(df_text.iloc[start_index:end_index])\n",
    "for index, row in tqdm(df_text[start_index:end_index].iterrows(), total=total_length):\n",
    "    text = row['content']\n",
    "    if isinstance(text, str) and len(text) > 0:\n",
    "        text = sa.clean_text(text)\n",
    "\n",
    "        self = CheckAddressLevels(df_address=df_addr, text=text)\n",
    "        result = self.process()\n",
    "        df_text.at[index, '지역'] = result\n",
    "        \n",
    "        text_mark = text\n",
    "        for item in self.df_brief['found_name'].values:\n",
    "            text_mark = sa.re_sub(item, text_mark)\n",
    "        df_text.at[index, 'found_text'] = text_mark\n",
    "        \n",
    "        text_marked = sa.extract_sentences_marked(marked_text=text_mark)\n",
    "        df_text.at[index, 'found_sentences'] = text_marked"
   ]
  },
  {
   "cell_type": "code",
   "execution_count": null,
   "id": "07231d62-d839-4db7-9d30-331d8e7b8cab",
   "metadata": {},
   "outputs": [],
   "source": []
  },
  {
   "cell_type": "markdown",
   "id": "f98438c0-17de-46d8-aca3-f7b48d5b4d55",
   "metadata": {},
   "source": [
    "## coordinates"
   ]
  },
  {
   "cell_type": "code",
   "execution_count": 16,
   "id": "1d6b814b-e5dd-4f1c-862f-9f1ac9eb4171",
   "metadata": {
    "execution": {
     "iopub.execute_input": "2024-05-24T14:17:36.148259Z",
     "iopub.status.busy": "2024-05-24T14:17:36.142116Z",
     "iopub.status.idle": "2024-05-24T14:17:36.591251Z",
     "shell.execute_reply": "2024-05-24T14:17:36.590173Z",
     "shell.execute_reply.started": "2024-05-24T14:17:36.148224Z"
    }
   },
   "outputs": [],
   "source": [
    "import pandas as pd \n",
    "import numpy as np\n",
    "import math\n",
    "import re\n",
    "\n",
    "from icecream import ic\n",
    "from tqdm.notebook import tqdm \n",
    "\n",
    "from utils.custom_utils import load_var, save_var\n",
    "from utils.webscraping import ArticleScraper\n",
    "from utils.search_address import CheckAddressLevels\n",
    "import utils.search_address as sa\n",
    "\n",
    "from importlib import reload\n",
    "\n",
    "df_addr = pd.read_parquet('./address/df_addr.parquet.gzip')\n",
    "df_text = pd.read_parquet('./dataframe/flasher_hk_20130101_20220307_cal.parquet.gzip')\n"
   ]
  },
  {
   "cell_type": "code",
   "execution_count": null,
   "id": "5dc57c7b-31cd-4a20-9507-884683fae89b",
   "metadata": {},
   "outputs": [],
   "source": []
  },
  {
   "cell_type": "code",
   "execution_count": null,
   "id": "c6a3afcf-f50c-4ba1-9bdd-ee841e1517f2",
   "metadata": {},
   "outputs": [],
   "source": []
  }
 ],
 "metadata": {
  "kernelspec": {
   "display_name": "Python 3 (ipykernel)",
   "language": "python",
   "name": "python3"
  },
  "language_info": {
   "codemirror_mode": {
    "name": "ipython",
    "version": 3
   },
   "file_extension": ".py",
   "mimetype": "text/x-python",
   "name": "python",
   "nbconvert_exporter": "python",
   "pygments_lexer": "ipython3",
   "version": "3.11.0"
  }
 },
 "nbformat": 4,
 "nbformat_minor": 5
}
