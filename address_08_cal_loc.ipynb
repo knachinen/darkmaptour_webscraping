{
 "cells": [
  {
   "cell_type": "code",
   "execution_count": null,
   "id": "b92c9bac-8c80-41ff-bde8-bad371e2b60d",
   "metadata": {},
   "outputs": [],
   "source": []
  },
  {
   "cell_type": "markdown",
   "id": "04a12e45-8fc7-44bd-8197-191ffa3cc889",
   "metadata": {},
   "source": [
    "### import"
   ]
  },
  {
   "cell_type": "code",
   "execution_count": 1,
   "id": "75aac5d6-c197-4cfd-b540-c3a656fb7f4a",
   "metadata": {
    "execution": {
     "iopub.execute_input": "2024-05-24T12:01:40.329278Z",
     "iopub.status.busy": "2024-05-24T12:01:40.327751Z",
     "iopub.status.idle": "2024-05-24T12:01:40.444584Z",
     "shell.execute_reply": "2024-05-24T12:01:40.443574Z",
     "shell.execute_reply.started": "2024-05-24T12:01:40.329232Z"
    }
   },
   "outputs": [],
   "source": [
    "%load_ext autoreload"
   ]
  },
  {
   "cell_type": "code",
   "execution_count": 15,
   "id": "516443f9-0133-407e-a569-64fabb998637",
   "metadata": {
    "execution": {
     "iopub.execute_input": "2024-05-24T12:22:26.516610Z",
     "iopub.status.busy": "2024-05-24T12:22:26.514478Z",
     "iopub.status.idle": "2024-05-24T12:22:26.622935Z",
     "shell.execute_reply": "2024-05-24T12:22:26.622642Z",
     "shell.execute_reply.started": "2024-05-24T12:22:26.516562Z"
    },
    "scrolled": true
   },
   "outputs": [],
   "source": [
    "%aimport utils.search_address"
   ]
  },
  {
   "cell_type": "code",
   "execution_count": 51,
   "id": "431c7d5c-2067-4e9e-bd5d-4ee05b9a0baf",
   "metadata": {
    "execution": {
     "iopub.execute_input": "2024-05-24T13:03:59.259275Z",
     "iopub.status.busy": "2024-05-24T13:03:59.257758Z",
     "iopub.status.idle": "2024-05-24T13:03:59.507257Z",
     "shell.execute_reply": "2024-05-24T13:03:59.506967Z",
     "shell.execute_reply.started": "2024-05-24T13:03:59.259217Z"
    }
   },
   "outputs": [],
   "source": [
    "import pandas as pd \n",
    "import numpy as np\n",
    "import math\n",
    "import re\n",
    "\n",
    "from icecream import ic\n",
    "from tqdm.notebook import tqdm \n",
    "\n",
    "from utils.custom_utils import load_var, save_var\n",
    "from utils.webscraping import ArticleScraper\n",
    "from utils.search_address import CheckAddressLevels\n",
    "import utils.search_address as sa\n",
    "\n",
    "from importlib import reload\n",
    "\n",
    "df_addr = pd.read_parquet('./address/df_addr.parquet.gzip')\n",
    "df_text = pd.read_parquet('./dataframe/flasher_hk_20130101_20220307.gzip')\n"
   ]
  },
  {
   "cell_type": "code",
   "execution_count": 17,
   "id": "70572c64-2952-4205-9f81-94c948b60ecb",
   "metadata": {
    "execution": {
     "iopub.execute_input": "2024-05-24T12:22:26.901523Z",
     "iopub.status.busy": "2024-05-24T12:22:26.901444Z",
     "iopub.status.idle": "2024-05-24T12:22:26.913680Z",
     "shell.execute_reply": "2024-05-24T12:22:26.913383Z",
     "shell.execute_reply.started": "2024-05-24T12:22:26.901516Z"
    }
   },
   "outputs": [],
   "source": [
    "%autoreload 2"
   ]
  },
  {
   "cell_type": "markdown",
   "id": "f7cc3a20-2767-412d-a4da-27504c2c3aa4",
   "metadata": {
    "jp-MarkdownHeadingCollapsed": true
   },
   "source": [
    "### CAL: CheckAddressLevels"
   ]
  },
  {
   "cell_type": "code",
   "execution_count": 5,
   "id": "173605ef-7d7c-4b98-aea3-06258c28b7bb",
   "metadata": {
    "execution": {
     "iopub.execute_input": "2024-05-24T12:01:41.614856Z",
     "iopub.status.busy": "2024-05-24T12:01:41.614284Z",
     "iopub.status.idle": "2024-05-24T12:01:41.628696Z",
     "shell.execute_reply": "2024-05-24T12:01:41.628106Z",
     "shell.execute_reply.started": "2024-05-24T12:01:41.614674Z"
    }
   },
   "outputs": [],
   "source": [
    "index = 133\n",
    "text_iter = iter(zip(df_text.index[index:], df_text.loc[index:, 'content']))"
   ]
  },
  {
   "cell_type": "code",
   "execution_count": 6,
   "id": "17d9e9bb-d995-46cf-83af-8a72b7a4c75d",
   "metadata": {
    "execution": {
     "iopub.execute_input": "2024-05-24T12:01:41.629483Z",
     "iopub.status.busy": "2024-05-24T12:01:41.629384Z",
     "iopub.status.idle": "2024-05-24T12:01:41.643867Z",
     "shell.execute_reply": "2024-05-24T12:01:41.643547Z",
     "shell.execute_reply.started": "2024-05-24T12:01:41.629475Z"
    },
    "scrolled": true
   },
   "outputs": [],
   "source": [
    "index, text = next(text_iter)\n",
    "text = sa.clean_text(text)"
   ]
  },
  {
   "cell_type": "code",
   "execution_count": 7,
   "id": "61fd6da6-1c04-4dec-b7c1-1b8bfb323014",
   "metadata": {
    "execution": {
     "iopub.execute_input": "2024-05-24T12:01:41.644486Z",
     "iopub.status.busy": "2024-05-24T12:01:41.644374Z",
     "iopub.status.idle": "2024-05-24T12:01:44.419075Z",
     "shell.execute_reply": "2024-05-24T12:01:44.418445Z",
     "shell.execute_reply.started": "2024-05-24T12:01:41.644477Z"
    }
   },
   "outputs": [
    {
     "name": "stdout",
     "output_type": "stream",
     "text": [
      "충남 사리\n"
     ]
    }
   ],
   "source": [
    "self = CheckAddressLevels(df_address=df_addr, text=text)\n",
    "result = self.process()\n",
    "print(result)"
   ]
  },
  {
   "cell_type": "code",
   "execution_count": 8,
   "id": "377d167c-9933-4a16-a61b-b731bcefed5e",
   "metadata": {
    "execution": {
     "iopub.execute_input": "2024-05-24T12:01:46.854493Z",
     "iopub.status.busy": "2024-05-24T12:01:46.843623Z",
     "iopub.status.idle": "2024-05-24T12:01:46.907986Z",
     "shell.execute_reply": "2024-05-24T12:01:46.907681Z",
     "shell.execute_reply.started": "2024-05-24T12:01:46.854389Z"
    }
   },
   "outputs": [
    {
     "data": {
      "text/html": [
       "<div>\n",
       "<style scoped>\n",
       "    .dataframe tbody tr th:only-of-type {\n",
       "        vertical-align: middle;\n",
       "    }\n",
       "\n",
       "    .dataframe tbody tr th {\n",
       "        vertical-align: top;\n",
       "    }\n",
       "\n",
       "    .dataframe thead th {\n",
       "        text-align: right;\n",
       "    }\n",
       "</style>\n",
       "<table border=\"1\" class=\"dataframe\">\n",
       "  <thead>\n",
       "    <tr style=\"text-align: right;\">\n",
       "      <th></th>\n",
       "      <th>original_name</th>\n",
       "      <th>found_name</th>\n",
       "      <th>level</th>\n",
       "      <th>count</th>\n",
       "      <th>upper</th>\n",
       "    </tr>\n",
       "  </thead>\n",
       "  <tbody>\n",
       "    <tr>\n",
       "      <th>2</th>\n",
       "      <td>사리</td>\n",
       "      <td>사리</td>\n",
       "      <td>4</td>\n",
       "      <td>1</td>\n",
       "      <td>충남</td>\n",
       "    </tr>\n",
       "    <tr>\n",
       "      <th>1</th>\n",
       "      <td>서산시</td>\n",
       "      <td>서산시</td>\n",
       "      <td>2</td>\n",
       "      <td>1</td>\n",
       "      <td>충남</td>\n",
       "    </tr>\n",
       "    <tr>\n",
       "      <th>0</th>\n",
       "      <td>충남</td>\n",
       "      <td>충남</td>\n",
       "      <td>0</td>\n",
       "      <td>1</td>\n",
       "      <td></td>\n",
       "    </tr>\n",
       "    <tr>\n",
       "      <th>3</th>\n",
       "      <td>대전</td>\n",
       "      <td>대전</td>\n",
       "      <td>0</td>\n",
       "      <td>1</td>\n",
       "      <td></td>\n",
       "    </tr>\n",
       "  </tbody>\n",
       "</table>\n",
       "</div>"
      ],
      "text/plain": [
       "  original_name found_name level count upper\n",
       "2            사리         사리     4     1    충남\n",
       "1           서산시        서산시     2     1    충남\n",
       "0            충남         충남     0     1      \n",
       "3            대전         대전     0     1      "
      ]
     },
     "execution_count": 8,
     "metadata": {},
     "output_type": "execute_result"
    }
   ],
   "source": [
    "df_brief = self.df_brief.copy()\n",
    "df_brief"
   ]
  },
  {
   "cell_type": "code",
   "execution_count": 14,
   "id": "a49b6db7-2e74-4e7e-8aaa-98f72f622d14",
   "metadata": {
    "execution": {
     "iopub.execute_input": "2024-05-24T12:21:41.827387Z",
     "iopub.status.busy": "2024-05-24T12:21:41.823460Z",
     "iopub.status.idle": "2024-05-24T12:21:41.961245Z",
     "shell.execute_reply": "2024-05-24T12:21:41.960745Z",
     "shell.execute_reply.started": "2024-05-24T12:21:41.827093Z"
    }
   },
   "outputs": [
    {
     "name": "stderr",
     "output_type": "stream",
     "text": [
      "ic| item: '사리'\n",
      "ic| item: '서산시'\n",
      "ic| item: '충남'\n",
      "ic| item: '대전'\n"
     ]
    },
    {
     "name": "stdout",
     "output_type": "stream",
     "text": [
      "\n",
      "index: 133\n",
      "\n",
      "엄태용 / 사진 = 한화이글스 제공\n",
      "10대 여고생에게 수면제를 먹인 뒤 성폭행한 혐의로 구속 기소된 전 프로야구 한화이글스 선수 엄태용(25)이 항소심 후 형량이 오히려 늘어났다.🔺대전🔻고법 제1형사부(부장 이준명)는 14일 아동·청소년의 성보호에 관한 법률위반 혐의로 기소된 엄태용의 항소심에서 징역 3년6개월의 원심을 파기, 징역 4년6개월을 선고했다.여기에 더해 40시간의 성폭력 방지 강의 수강과 아동·청소년 관련기관 등에 5년간의 취업 제한을 명령했다.엄씨는 지난해 6월 SNS로 피해자인 여고생 A씨를 알게 된 후 🔺충남🔻 🔺서산시🔻 자신의 자택에서 성폭행한 혐의로 기소돼 1심에서 징역 3년6개월을 선고 받았다. 1심 재판부의 판결에 검찰은 \"양형이 가벼워 부당\" 엄씨는 \"형량이 무겁다\"고 각각 항소했으나 재판부는 검찰의 항소 이유만 받아줬다. 재판부는 \"성적 해소를 위해 🔺사리🔻분별 능력이 부족한 청소년을 계획적으로 수면제를 먹이고 항거불능 상태에서 성폭행한 죄질이 불량하다\"고 판시했다. 이어 \"잘못을 반성하지 않고 변명으로 일관하며 피해자와 그 가족의 정신적 고통이 큰 상태지만 범죄처벌 전력이 없는 점 등을 종합적으로 고려했다\"고 양형 이유를 밝혔다. 한편 엄태용은 지난 2016년 9월에도 자신의 여자친구 집에서 \"말을 듣지 않았다\"란 이유로 막대기로 여자친구의 엉덩이를 수차례 때려 벌금 300만원 형에 선고를 받기도 했다.장지민 한경닷컴 기자 newsinfo@hankyung.com\n"
     ]
    }
   ],
   "source": [
    "text_mark = text\n",
    "for item in df_brief['found_name'].values:\n",
    "    ic(item)\n",
    "    text_mark = sa.re_sub(item, text_mark)\n",
    "\n",
    "print(f\"\\nindex: {index}\\n\")\n",
    "print(text_mark)"
   ]
  },
  {
   "cell_type": "markdown",
   "id": "f031c3fb-0d3d-43a7-98f3-66da19eb657d",
   "metadata": {},
   "source": [
    "#### extract sentences having the found keywords"
   ]
  },
  {
   "cell_type": "code",
   "execution_count": null,
   "id": "150c2ee0-e453-44a6-bd32-c2240f615b47",
   "metadata": {},
   "outputs": [],
   "source": [
    "text_mark = text\n",
    "for item in df_brief['found_name'].values:\n",
    "    ic(item)\n",
    "    text_mark_result = sa.extract_sentences_with_keyword(keyword=item, text=text_mark)\n",
    "    text_mark = ','\n",
    "\n",
    "print(f\"\\nindex: {index}\\n\")\n",
    "print(text_mark)\n"
   ]
  },
  {
   "cell_type": "code",
   "execution_count": 12,
   "id": "fe1b58f9-61ac-43bb-8356-c4d80d659fe0",
   "metadata": {
    "execution": {
     "iopub.execute_input": "2024-05-24T12:18:50.625969Z",
     "iopub.status.busy": "2024-05-24T12:18:50.617969Z",
     "iopub.status.idle": "2024-05-24T12:18:50.879417Z",
     "shell.execute_reply": "2024-05-24T12:18:50.879146Z",
     "shell.execute_reply.started": "2024-05-24T12:18:50.625781Z"
    }
   },
   "outputs": [
    {
     "data": {
      "text/plain": [
       "['🔺대전🔻고법 제1형사부(부장 이준명)는 14일 아동·청소년의 성보호에 관한 법률위반 혐의로 기소된 엄태용의 항소심에서 징역 3년6개월의 원심을 파기, 징역 4년6개월을 선고했다.',\n",
       " '엄씨는 지난해 6월 SNS로 피해자인 여고생 A씨를 알게 된 후 🔺충남🔻 🔺서산시🔻 자신의 자택에서 성폭행한 혐의로 기소돼 1심에서 징역 3년6개월을 선고 받았다.',\n",
       " '재판부는 \"성적 해소를 위해 🔺사리🔻분별 능력이 부족한 청소년을 계획적으로 수면제를 먹이고 항거불능 상태에서 성폭행한 죄질이 불량하다\"고 판시했다.']"
      ]
     },
     "execution_count": 12,
     "metadata": {},
     "output_type": "execute_result"
    }
   ],
   "source": [
    "sentences = re.split(r'(?<=[.!?])+', text_mark)\n",
    "# keyword_pattern = re.escape(f'🔺*🔻')\n",
    "# pattern = r'\\((.*?)\\)'\n",
    "keyword_pattern = r'🔺(.*?)🔻'\n",
    "# matches = re.findall(pattern, text)\n",
    "keyword_sentences = [sentence.strip() for sentence in sentences if re.search(keyword_pattern, sentence, re.IGNORECASE)]\n",
    "keyword_sentences"
   ]
  },
  {
   "cell_type": "code",
   "execution_count": 20,
   "id": "fb0454d7-1d69-486e-9713-de35d165ebd2",
   "metadata": {
    "execution": {
     "iopub.execute_input": "2024-05-24T12:23:41.414927Z",
     "iopub.status.busy": "2024-05-24T12:23:41.409782Z",
     "iopub.status.idle": "2024-05-24T12:23:41.469061Z",
     "shell.execute_reply": "2024-05-24T12:23:41.468716Z",
     "shell.execute_reply.started": "2024-05-24T12:23:41.414828Z"
    }
   },
   "outputs": [
    {
     "name": "stdout",
     "output_type": "stream",
     "text": [
      "🔺대전🔻고법 제1형사부(부장 이준명)는 14일 아동·청소년의 성보호에 관한 법률위반 혐의로 기소된 엄태용의 항소심에서 징역 3년6개월의 원심을 파기, 징역 4년6개월을 선고했다. 엄씨는 지난해 6월 SNS로 피해자인 여고생 A씨를 알게 된 후 🔺충남🔻 🔺서산시🔻 자신의 자택에서 성폭행한 혐의로 기소돼 1심에서 징역 3년6개월을 선고 받았다. 재판부는 \"성적 해소를 위해 🔺사리🔻분별 능력이 부족한 청소년을 계획적으로 수면제를 먹이고 항거불능 상태에서 성폭행한 죄질이 불량하다\"고 판시했다.\n"
     ]
    }
   ],
   "source": [
    "text_marked = sa.extract_sentences_marked(marked_text=text_mark)\n",
    "print(text_marked)"
   ]
  },
  {
   "cell_type": "markdown",
   "id": "948571af-a209-411a-b39a-3f392c19edee",
   "metadata": {},
   "source": [
    "### CAL: all dataframe"
   ]
  },
  {
   "cell_type": "code",
   "execution_count": 27,
   "id": "faae5080-49ba-4cc9-9c86-71fa252ee140",
   "metadata": {
    "collapsed": true,
    "execution": {
     "iopub.execute_input": "2024-05-24T12:35:06.706745Z",
     "iopub.status.busy": "2024-05-24T12:35:06.703968Z",
     "iopub.status.idle": "2024-05-24T12:35:06.774846Z",
     "shell.execute_reply": "2024-05-24T12:35:06.774559Z",
     "shell.execute_reply.started": "2024-05-24T12:35:06.706380Z"
    },
    "jupyter": {
     "outputs_hidden": true
    },
    "scrolled": true
   },
   "outputs": [
    {
     "data": {
      "text/html": [
       "<div>\n",
       "<style scoped>\n",
       "    .dataframe tbody tr th:only-of-type {\n",
       "        vertical-align: middle;\n",
       "    }\n",
       "\n",
       "    .dataframe tbody tr th {\n",
       "        vertical-align: top;\n",
       "    }\n",
       "\n",
       "    .dataframe thead th {\n",
       "        text-align: right;\n",
       "    }\n",
       "</style>\n",
       "<table border=\"1\" class=\"dataframe\">\n",
       "  <thead>\n",
       "    <tr style=\"text-align: right;\">\n",
       "      <th></th>\n",
       "      <th>범죄 유형</th>\n",
       "      <th>지역</th>\n",
       "      <th>위도</th>\n",
       "      <th>경도</th>\n",
       "      <th>중복 여부</th>\n",
       "      <th>퀄리티</th>\n",
       "      <th>제외 여부</th>\n",
       "      <th>기사제목</th>\n",
       "      <th>사건 장소</th>\n",
       "      <th>수사 기관</th>\n",
       "      <th>본문</th>\n",
       "      <th>URL</th>\n",
       "      <th>일자</th>\n",
       "      <th>언론사</th>\n",
       "      <th>기고자</th>\n",
       "      <th>비고</th>\n",
       "      <th>selenium_html</th>\n",
       "      <th>content</th>\n",
       "      <th>found_sentences</th>\n",
       "    </tr>\n",
       "  </thead>\n",
       "  <tbody>\n",
       "    <tr>\n",
       "      <th>0</th>\n",
       "      <td>NaN</td>\n",
       "      <td>인천 부평구</td>\n",
       "      <td>NaN</td>\n",
       "      <td>NaN</td>\n",
       "      <td>NaN</td>\n",
       "      <td>NaN</td>\n",
       "      <td>NaN</td>\n",
       "      <td>\"같이 살자\" 2억 뜯어낸 채팅녀 알고 보니 20대 남자였다</td>\n",
       "      <td>2억여원</td>\n",
       "      <td>이대,검찰,한경닷컴 객원,서울서부지법,재판부,법원,형사항</td>\n",
       "      <td>채팅앱에서 만난 남성들에게 자신을 여성이라고 속인 뒤 2억여원을 가로챈 20대 남성...</td>\n",
       "      <td>https://www.hankyung.com/society/article/20220...</td>\n",
       "      <td>20220207</td>\n",
       "      <td>한국경제</td>\n",
       "      <td>이보배</td>\n",
       "      <td>NaN</td>\n",
       "      <td>&lt;body&gt;\\n\\t&lt;div id=\"wrap\" class=\"view\"&gt;\\n\\n\\t\\t...</td>\n",
       "      <td>\\n\\n\\n\\n\\nA씨는 2020년 초부터 수 개월간 채팅앱에서 만난 남성들에게 자...</td>\n",
       "      <td></td>\n",
       "    </tr>\n",
       "  </tbody>\n",
       "</table>\n",
       "</div>"
      ],
      "text/plain": [
       "   범죄 유형      지역  위도  경도  중복 여부  퀄리티  제외 여부  \\\n",
       "0    NaN  인천 부평구 NaN NaN    NaN  NaN    NaN   \n",
       "\n",
       "                                기사제목 사건 장소                            수사 기관  \\\n",
       "0  \"같이 살자\" 2억 뜯어낸 채팅녀 알고 보니 20대 남자였다  2억여원  이대,검찰,한경닷컴 객원,서울서부지법,재판부,법원,형사항   \n",
       "\n",
       "                                                  본문  \\\n",
       "0  채팅앱에서 만난 남성들에게 자신을 여성이라고 속인 뒤 2억여원을 가로챈 20대 남성...   \n",
       "\n",
       "                                                 URL        일자   언론사  기고자  비고  \\\n",
       "0  https://www.hankyung.com/society/article/20220...  20220207  한국경제  이보배 NaN   \n",
       "\n",
       "                                       selenium_html  \\\n",
       "0  <body>\\n\\t<div id=\"wrap\" class=\"view\">\\n\\n\\t\\t...   \n",
       "\n",
       "                                             content found_sentences  \n",
       "0  \\n\\n\\n\\n\\nA씨는 2020년 초부터 수 개월간 채팅앱에서 만난 남성들에게 자...                  "
      ]
     },
     "execution_count": 27,
     "metadata": {},
     "output_type": "execute_result"
    }
   ],
   "source": [
    "df_text.head(1)"
   ]
  },
  {
   "cell_type": "code",
   "execution_count": 52,
   "id": "e2d81c41-8236-4f4c-b869-bec91f2a9d77",
   "metadata": {
    "execution": {
     "iopub.execute_input": "2024-05-24T13:04:12.049845Z",
     "iopub.status.busy": "2024-05-24T13:04:12.047610Z",
     "iopub.status.idle": "2024-05-24T13:04:12.105356Z",
     "shell.execute_reply": "2024-05-24T13:04:12.104937Z",
     "shell.execute_reply.started": "2024-05-24T13:04:12.049795Z"
    }
   },
   "outputs": [],
   "source": [
    "df_text['지역'] = df_text['지역'].astype(str)"
   ]
  },
  {
   "cell_type": "code",
   "execution_count": 54,
   "id": "5627ea03-e1b7-45a1-a503-7a6b5d5f5af8",
   "metadata": {
    "execution": {
     "iopub.execute_input": "2024-05-24T13:04:48.780684Z",
     "iopub.status.busy": "2024-05-24T13:04:48.779194Z",
     "iopub.status.idle": "2024-05-24T13:04:48.850417Z",
     "shell.execute_reply": "2024-05-24T13:04:48.849990Z",
     "shell.execute_reply.started": "2024-05-24T13:04:48.780624Z"
    }
   },
   "outputs": [],
   "source": [
    "df_text['found_sentences'] = ''"
   ]
  },
  {
   "cell_type": "code",
   "execution_count": 80,
   "id": "fe95a08f-9a66-4281-a362-d268cc596f96",
   "metadata": {
    "execution": {
     "iopub.execute_input": "2024-05-24T13:19:27.942573Z",
     "iopub.status.busy": "2024-05-24T13:19:27.941423Z",
     "iopub.status.idle": "2024-05-24T13:19:28.000255Z",
     "shell.execute_reply": "2024-05-24T13:19:27.999806Z",
     "shell.execute_reply.started": "2024-05-24T13:19:27.942545Z"
    }
   },
   "outputs": [],
   "source": [
    "df_text['found_text'] = ''"
   ]
  },
  {
   "cell_type": "code",
   "execution_count": 81,
   "id": "fc1560d2-688b-4cd1-8640-5811fc09aca8",
   "metadata": {
    "execution": {
     "iopub.execute_input": "2024-05-24T13:19:29.140648Z",
     "iopub.status.busy": "2024-05-24T13:19:29.139334Z",
     "iopub.status.idle": "2024-05-24T13:19:29.257551Z",
     "shell.execute_reply": "2024-05-24T13:19:29.257248Z",
     "shell.execute_reply.started": "2024-05-24T13:19:29.140587Z"
    }
   },
   "outputs": [
    {
     "name": "stdout",
     "output_type": "stream",
     "text": [
      "<class 'pandas.core.frame.DataFrame'>\n",
      "RangeIndex: 377 entries, 0 to 376\n",
      "Data columns (total 20 columns):\n",
      " #   Column           Non-Null Count  Dtype  \n",
      "---  ------           --------------  -----  \n",
      " 0   범죄 유형            0 non-null      float64\n",
      " 1   지역               376 non-null    object \n",
      " 2   위도               0 non-null      float64\n",
      " 3   경도               0 non-null      float64\n",
      " 4   중복 여부            0 non-null      float64\n",
      " 5   퀄리티              0 non-null      float64\n",
      " 6   제외 여부            0 non-null      float64\n",
      " 7   기사제목             377 non-null    object \n",
      " 8   사건 장소            328 non-null    object \n",
      " 9   수사 기관            377 non-null    object \n",
      " 10  본문               377 non-null    object \n",
      " 11  URL              209 non-null    object \n",
      " 12  일자               377 non-null    int64  \n",
      " 13  언론사              377 non-null    object \n",
      " 14  기고자              286 non-null    object \n",
      " 15  비고               0 non-null      float64\n",
      " 16  selenium_html    209 non-null    object \n",
      " 17  content          148 non-null    object \n",
      " 18  found_sentences  377 non-null    object \n",
      " 19  found_text       377 non-null    object \n",
      "dtypes: float64(7), int64(1), object(12)\n",
      "memory usage: 59.0+ KB\n"
     ]
    }
   ],
   "source": [
    "df_text.info()"
   ]
  },
  {
   "cell_type": "code",
   "execution_count": 91,
   "id": "10c9ec8f-6877-4aaa-a622-33f3c9d17bad",
   "metadata": {
    "execution": {
     "iopub.execute_input": "2024-05-24T13:25:54.642763Z",
     "iopub.status.busy": "2024-05-24T13:25:54.641234Z",
     "iopub.status.idle": "2024-05-24T13:34:21.216592Z",
     "shell.execute_reply": "2024-05-24T13:34:21.209667Z",
     "shell.execute_reply.started": "2024-05-24T13:25:54.642727Z"
    }
   },
   "outputs": [
    {
     "data": {
      "application/vnd.jupyter.widget-view+json": {
       "model_id": "e219752947b847c3bb7e20ffe22ffe3e",
       "version_major": 2,
       "version_minor": 0
      },
      "text/plain": [
       "  0%|          | 0/367 [00:00<?, ?it/s]"
      ]
     },
     "metadata": {},
     "output_type": "display_data"
    }
   ],
   "source": [
    "start_index = 10\n",
    "end_index = len(df_text)\n",
    "total_length = len(df_text.iloc[start_index:end_index])\n",
    "for index, row in tqdm(df_text[start_index:end_index].iterrows(), total=total_length):\n",
    "    text = row['content']\n",
    "    if isinstance(text, str) and len(text) > 0:\n",
    "        text = sa.clean_text(text)\n",
    "\n",
    "        self = CheckAddressLevels(df_address=df_addr, text=text)\n",
    "        result = self.process()\n",
    "        df_text.at[index, '지역'] = result\n",
    "        \n",
    "        text_mark = text\n",
    "        for item in self.df_brief['found_name'].values:\n",
    "            text_mark = sa.re_sub(item, text_mark)\n",
    "        df_text.at[index, 'found_text'] = text_mark\n",
    "        \n",
    "        text_marked = sa.extract_sentences_marked(marked_text=text_mark)\n",
    "        df_text.at[index, 'found_sentences'] = text_marked"
   ]
  },
  {
   "cell_type": "markdown",
   "id": "cceb3315-f0ce-4c84-ba64-825453022682",
   "metadata": {
    "jp-MarkdownHeadingCollapsed": true
   },
   "source": [
    "#### inspection"
   ]
  },
  {
   "cell_type": "code",
   "execution_count": 65,
   "id": "34e895a9-2287-4045-9ba6-c205390d265a",
   "metadata": {
    "collapsed": true,
    "execution": {
     "iopub.execute_input": "2024-05-24T13:09:07.448953Z",
     "iopub.status.busy": "2024-05-24T13:09:07.448117Z",
     "iopub.status.idle": "2024-05-24T13:09:07.510441Z",
     "shell.execute_reply": "2024-05-24T13:09:07.509767Z",
     "shell.execute_reply.started": "2024-05-24T13:09:07.448922Z"
    },
    "jupyter": {
     "outputs_hidden": true
    },
    "scrolled": true
   },
   "outputs": [
    {
     "data": {
      "text/html": [
       "<div>\n",
       "<style scoped>\n",
       "    .dataframe tbody tr th:only-of-type {\n",
       "        vertical-align: middle;\n",
       "    }\n",
       "\n",
       "    .dataframe tbody tr th {\n",
       "        vertical-align: top;\n",
       "    }\n",
       "\n",
       "    .dataframe thead th {\n",
       "        text-align: right;\n",
       "    }\n",
       "</style>\n",
       "<table border=\"1\" class=\"dataframe\">\n",
       "  <thead>\n",
       "    <tr style=\"text-align: right;\">\n",
       "      <th></th>\n",
       "      <th>범죄 유형</th>\n",
       "      <th>지역</th>\n",
       "      <th>위도</th>\n",
       "      <th>경도</th>\n",
       "      <th>중복 여부</th>\n",
       "      <th>퀄리티</th>\n",
       "      <th>제외 여부</th>\n",
       "      <th>기사제목</th>\n",
       "      <th>사건 장소</th>\n",
       "      <th>수사 기관</th>\n",
       "      <th>본문</th>\n",
       "      <th>URL</th>\n",
       "      <th>일자</th>\n",
       "      <th>언론사</th>\n",
       "      <th>기고자</th>\n",
       "      <th>비고</th>\n",
       "      <th>selenium_html</th>\n",
       "      <th>content</th>\n",
       "      <th>found_sentences</th>\n",
       "    </tr>\n",
       "  </thead>\n",
       "  <tbody>\n",
       "    <tr>\n",
       "      <th>0</th>\n",
       "      <td>NaN</td>\n",
       "      <td>서울</td>\n",
       "      <td>NaN</td>\n",
       "      <td>NaN</td>\n",
       "      <td>NaN</td>\n",
       "      <td>NaN</td>\n",
       "      <td>NaN</td>\n",
       "      <td>\"같이 살자\" 2억 뜯어낸 채팅녀 알고 보니 20대 남자였다</td>\n",
       "      <td>2억여원</td>\n",
       "      <td>이대,검찰,한경닷컴 객원,서울서부지법,재판부,법원,형사항</td>\n",
       "      <td>채팅앱에서 만난 남성들에게 자신을 여성이라고 속인 뒤 2억여원을 가로챈 20대 남성...</td>\n",
       "      <td>https://www.hankyung.com/society/article/20220...</td>\n",
       "      <td>20220207</td>\n",
       "      <td>한국경제</td>\n",
       "      <td>이보배</td>\n",
       "      <td>NaN</td>\n",
       "      <td>&lt;body&gt;\\n\\t&lt;div id=\"wrap\" class=\"view\"&gt;\\n\\n\\t\\t...</td>\n",
       "      <td>\\n\\n\\n\\n\\nA씨는 2020년 초부터 수 개월간 채팅앱에서 만난 남성들에게 자...</td>\n",
       "      <td>7일 법조계에 따르면 🔺서울🔻서부지법 형사항소2부(부상준 부장판사)는 사기·공갈·절...</td>\n",
       "    </tr>\n",
       "  </tbody>\n",
       "</table>\n",
       "</div>"
      ],
      "text/plain": [
       "   범죄 유형  지역  위도  경도  중복 여부  퀄리티  제외 여부                               기사제목  \\\n",
       "0    NaN  서울 NaN NaN    NaN  NaN    NaN  \"같이 살자\" 2억 뜯어낸 채팅녀 알고 보니 20대 남자였다   \n",
       "\n",
       "  사건 장소                            수사 기관  \\\n",
       "0  2억여원  이대,검찰,한경닷컴 객원,서울서부지법,재판부,법원,형사항   \n",
       "\n",
       "                                                  본문  \\\n",
       "0  채팅앱에서 만난 남성들에게 자신을 여성이라고 속인 뒤 2억여원을 가로챈 20대 남성...   \n",
       "\n",
       "                                                 URL        일자   언론사  기고자  비고  \\\n",
       "0  https://www.hankyung.com/society/article/20220...  20220207  한국경제  이보배 NaN   \n",
       "\n",
       "                                       selenium_html  \\\n",
       "0  <body>\\n\\t<div id=\"wrap\" class=\"view\">\\n\\n\\t\\t...   \n",
       "\n",
       "                                             content  \\\n",
       "0  \\n\\n\\n\\n\\nA씨는 2020년 초부터 수 개월간 채팅앱에서 만난 남성들에게 자...   \n",
       "\n",
       "                                     found_sentences  \n",
       "0  7일 법조계에 따르면 🔺서울🔻서부지법 형사항소2부(부상준 부장판사)는 사기·공갈·절...  "
      ]
     },
     "execution_count": 65,
     "metadata": {},
     "output_type": "execute_result"
    }
   ],
   "source": [
    "df_text.iloc[:1]"
   ]
  },
  {
   "cell_type": "code",
   "execution_count": 66,
   "id": "d28f65ca-045f-403d-a684-e99942b9fa09",
   "metadata": {
    "execution": {
     "iopub.execute_input": "2024-05-24T13:10:52.994994Z",
     "iopub.status.busy": "2024-05-24T13:10:52.992462Z",
     "iopub.status.idle": "2024-05-24T13:10:53.135524Z",
     "shell.execute_reply": "2024-05-24T13:10:53.134094Z",
     "shell.execute_reply.started": "2024-05-24T13:10:52.994946Z"
    }
   },
   "outputs": [
    {
     "data": {
      "text/plain": [
       "'7일 법조계에 따르면 🔺서울🔻서부지법 형사항소2부(부상준 부장판사)는 사기·공갈·절도·여신전문금융업법 위반·컴퓨터등사용사기 등 혐의로 재판에 넘겨진 A씨(24)에게 1심과 같은 징역 5년을 선고했다.'"
      ]
     },
     "execution_count": 66,
     "metadata": {},
     "output_type": "execute_result"
    }
   ],
   "source": [
    "df_text.loc[0, 'found_sentences']"
   ]
  },
  {
   "cell_type": "code",
   "execution_count": 83,
   "id": "69ac78f6-87b9-4b80-a5c1-bc973466a987",
   "metadata": {
    "execution": {
     "iopub.execute_input": "2024-05-24T13:20:14.075376Z",
     "iopub.status.busy": "2024-05-24T13:20:14.074698Z",
     "iopub.status.idle": "2024-05-24T13:20:14.123079Z",
     "shell.execute_reply": "2024-05-24T13:20:14.122701Z",
     "shell.execute_reply.started": "2024-05-24T13:20:14.075349Z"
    }
   },
   "outputs": [],
   "source": [
    "filter_columns = ['지역', 'found_sentences', 'found_text']"
   ]
  },
  {
   "cell_type": "code",
   "execution_count": 92,
   "id": "03d5d624-58e6-4d89-972f-15eccddcb119",
   "metadata": {
    "execution": {
     "iopub.execute_input": "2024-05-24T13:37:22.381928Z",
     "iopub.status.busy": "2024-05-24T13:37:22.370315Z",
     "iopub.status.idle": "2024-05-24T13:37:22.750156Z",
     "shell.execute_reply": "2024-05-24T13:37:22.749739Z",
     "shell.execute_reply.started": "2024-05-24T13:37:22.380988Z"
    },
    "scrolled": true
   },
   "outputs": [
    {
     "data": {
      "text/html": [
       "<div>\n",
       "<style scoped>\n",
       "    .dataframe tbody tr th:only-of-type {\n",
       "        vertical-align: middle;\n",
       "    }\n",
       "\n",
       "    .dataframe tbody tr th {\n",
       "        vertical-align: top;\n",
       "    }\n",
       "\n",
       "    .dataframe thead th {\n",
       "        text-align: right;\n",
       "    }\n",
       "</style>\n",
       "<table border=\"1\" class=\"dataframe\">\n",
       "  <thead>\n",
       "    <tr style=\"text-align: right;\">\n",
       "      <th></th>\n",
       "      <th>지역</th>\n",
       "      <th>found_sentences</th>\n",
       "      <th>found_text</th>\n",
       "    </tr>\n",
       "  </thead>\n",
       "  <tbody>\n",
       "    <tr>\n",
       "      <th>0</th>\n",
       "      <td>서울</td>\n",
       "      <td>7일 법조계에 따르면 🔺서울🔻서부지법 형사항소2부(부상준 부장판사)는 사기·공갈·절...</td>\n",
       "      <td>A씨는 2020년 초부터 수 개월간 채팅앱에서 만난 남성들에게 자신을 23살 여성이...</td>\n",
       "    </tr>\n",
       "    <tr>\n",
       "      <th>1</th>\n",
       "      <td>서울 서울특별시</td>\n",
       "      <td>지난달 초 🔺서울🔻 모 여고에서 군인에게 위문 편지를 보내는 과정에서 군인 비하 문...</td>\n",
       "      <td>지난달 초 🔺서울🔻 모 여고에서 군인에게 위문 편지를 보내는 과정에서 군인 비하 문...</td>\n",
       "    </tr>\n",
       "    <tr>\n",
       "      <th>2</th>\n",
       "      <td>대전</td>\n",
       "      <td>🔺대전🔻지법 형사항소5부(이경희 부장판사)는 강제추행 혐의로 기소된 A씨(33)에 ...</td>\n",
       "      <td>🔺대전🔻지법 형사항소5부(이경희 부장판사)는 강제추행 혐의로 기소된 A씨(33)에 ...</td>\n",
       "    </tr>\n",
       "    <tr>\n",
       "      <th>4</th>\n",
       "      <td>대구 북구</td>\n",
       "      <td>🔺대구🔻지방법원 포항지원 제1형사부(권순향 재판장)는 아동청소년의성보호에관한법률위반...</td>\n",
       "      <td>가출 여고생에게 숙식을 제공하며 성매매를 강요한 일당이 실형을 선고받았다. 이들 중...</td>\n",
       "    </tr>\n",
       "    <tr>\n",
       "      <th>5</th>\n",
       "      <td>경기 의정부시</td>\n",
       "      <td>19일 법조계에 따르면 🔺의정부🔻지법 형사합의11부는 아동·청소년의 성 보호에 관한...</td>\n",
       "      <td>피해자의 진술 번복과 사건 직후 CCTV에 담긴 이해하기 힘든 행동으로 인해 강간 ...</td>\n",
       "    </tr>\n",
       "    <tr>\n",
       "      <th>...</th>\n",
       "      <td>...</td>\n",
       "      <td>...</td>\n",
       "      <td>...</td>\n",
       "    </tr>\n",
       "    <tr>\n",
       "      <th>267</th>\n",
       "      <td>인천 부평구</td>\n",
       "      <td>🔺인천🔻부평경찰서는 폭력행위 등 처벌에 관한 법률 위반 혐의로 여고생 A(18) 양...</td>\n",
       "      <td>부평 묻지마 폭행 / 부평 묻지마 폭행 YTN 방송 캡처\\n부평 묻지마 폭행부평 묻...</td>\n",
       "    </tr>\n",
       "    <tr>\n",
       "      <th>268</th>\n",
       "      <td>인천 부평구</td>\n",
       "      <td>24일 🔺인천🔻 부평경찰서는 \"폭력행위 등 처벌에 관한 법률 위반 혐의로 여고생 A...</td>\n",
       "      <td>부평 묻지마 폭행 / 부평 묻지마 폭행 YTN 방송 캡처\\n'부평 묻지마 폭행' 사...</td>\n",
       "    </tr>\n",
       "    <tr>\n",
       "      <th>269</th>\n",
       "      <td>인천 부평구</td>\n",
       "      <td>24일 🔺인천🔻 부평경찰서에 따르면 전날 오후 ‘부평 묻지마 폭행’ 피의자인 최모 ...</td>\n",
       "      <td>부평 묻지마 폭행 가해자, 신상 강제 공개…네티즌 분노 유발한 글 보니 \\n \\n부...</td>\n",
       "    </tr>\n",
       "    <tr>\n",
       "      <th>270</th>\n",
       "      <td>인천 부평구</td>\n",
       "      <td>24일 🔺인천🔻 부평경찰서는 \"폭력행위 등 처벌에 관한 법률 위반 혐의로 여고생 A...</td>\n",
       "      <td>부평 묻지마 폭행 / 부평 묻지마 폭행 YTN 방송 캡처\\n부평 묻지마 폭행'부평 ...</td>\n",
       "    </tr>\n",
       "    <tr>\n",
       "      <th>271</th>\n",
       "      <td>인천 부평구</td>\n",
       "      <td>24일 🔺인천🔻 부평경찰서는 \"폭력행위 등 처벌에 관한 법률 위반 혐의로 여고생 A...</td>\n",
       "      <td>부평 묻지마 폭행 / 부평 묻지마 폭행 YTN 방송 캡처\\n'부평 묻지마 폭행' 사...</td>\n",
       "    </tr>\n",
       "  </tbody>\n",
       "</table>\n",
       "<p>104 rows × 3 columns</p>\n",
       "</div>"
      ],
      "text/plain": [
       "           지역                                    found_sentences  \\\n",
       "0          서울  7일 법조계에 따르면 🔺서울🔻서부지법 형사항소2부(부상준 부장판사)는 사기·공갈·절...   \n",
       "1    서울 서울특별시  지난달 초 🔺서울🔻 모 여고에서 군인에게 위문 편지를 보내는 과정에서 군인 비하 문...   \n",
       "2          대전  🔺대전🔻지법 형사항소5부(이경희 부장판사)는 강제추행 혐의로 기소된 A씨(33)에 ...   \n",
       "4       대구 북구  🔺대구🔻지방법원 포항지원 제1형사부(권순향 재판장)는 아동청소년의성보호에관한법률위반...   \n",
       "5     경기 의정부시  19일 법조계에 따르면 🔺의정부🔻지법 형사합의11부는 아동·청소년의 성 보호에 관한...   \n",
       "..        ...                                                ...   \n",
       "267    인천 부평구  🔺인천🔻부평경찰서는 폭력행위 등 처벌에 관한 법률 위반 혐의로 여고생 A(18) 양...   \n",
       "268    인천 부평구  24일 🔺인천🔻 부평경찰서는 \"폭력행위 등 처벌에 관한 법률 위반 혐의로 여고생 A...   \n",
       "269    인천 부평구  24일 🔺인천🔻 부평경찰서에 따르면 전날 오후 ‘부평 묻지마 폭행’ 피의자인 최모 ...   \n",
       "270    인천 부평구  24일 🔺인천🔻 부평경찰서는 \"폭력행위 등 처벌에 관한 법률 위반 혐의로 여고생 A...   \n",
       "271    인천 부평구  24일 🔺인천🔻 부평경찰서는 \"폭력행위 등 처벌에 관한 법률 위반 혐의로 여고생 A...   \n",
       "\n",
       "                                            found_text  \n",
       "0    A씨는 2020년 초부터 수 개월간 채팅앱에서 만난 남성들에게 자신을 23살 여성이...  \n",
       "1    지난달 초 🔺서울🔻 모 여고에서 군인에게 위문 편지를 보내는 과정에서 군인 비하 문...  \n",
       "2    🔺대전🔻지법 형사항소5부(이경희 부장판사)는 강제추행 혐의로 기소된 A씨(33)에 ...  \n",
       "4    가출 여고생에게 숙식을 제공하며 성매매를 강요한 일당이 실형을 선고받았다. 이들 중...  \n",
       "5    피해자의 진술 번복과 사건 직후 CCTV에 담긴 이해하기 힘든 행동으로 인해 강간 ...  \n",
       "..                                                 ...  \n",
       "267  부평 묻지마 폭행 / 부평 묻지마 폭행 YTN 방송 캡처\\n부평 묻지마 폭행부평 묻...  \n",
       "268  부평 묻지마 폭행 / 부평 묻지마 폭행 YTN 방송 캡처\\n'부평 묻지마 폭행' 사...  \n",
       "269  부평 묻지마 폭행 가해자, 신상 강제 공개…네티즌 분노 유발한 글 보니 \\n \\n부...  \n",
       "270  부평 묻지마 폭행 / 부평 묻지마 폭행 YTN 방송 캡처\\n부평 묻지마 폭행'부평 ...  \n",
       "271  부평 묻지마 폭행 / 부평 묻지마 폭행 YTN 방송 캡처\\n'부평 묻지마 폭행' 사...  \n",
       "\n",
       "[104 rows x 3 columns]"
      ]
     },
     "execution_count": 92,
     "metadata": {},
     "output_type": "execute_result"
    }
   ],
   "source": [
    "df_text[df_text['found_sentences'] != ''][filter_columns]"
   ]
  },
  {
   "cell_type": "code",
   "execution_count": 85,
   "id": "0002af63-5380-4d22-bb7c-022d0830be82",
   "metadata": {
    "collapsed": true,
    "execution": {
     "iopub.execute_input": "2024-05-24T13:20:20.903366Z",
     "iopub.status.busy": "2024-05-24T13:20:20.902006Z",
     "iopub.status.idle": "2024-05-24T13:20:21.001360Z",
     "shell.execute_reply": "2024-05-24T13:20:21.000555Z",
     "shell.execute_reply.started": "2024-05-24T13:20:20.903322Z"
    },
    "jupyter": {
     "outputs_hidden": true
    },
    "scrolled": true
   },
   "outputs": [
    {
     "data": {
      "text/html": [
       "<div>\n",
       "<style scoped>\n",
       "    .dataframe tbody tr th:only-of-type {\n",
       "        vertical-align: middle;\n",
       "    }\n",
       "\n",
       "    .dataframe tbody tr th {\n",
       "        vertical-align: top;\n",
       "    }\n",
       "\n",
       "    .dataframe thead th {\n",
       "        text-align: right;\n",
       "    }\n",
       "</style>\n",
       "<table border=\"1\" class=\"dataframe\">\n",
       "  <thead>\n",
       "    <tr style=\"text-align: right;\">\n",
       "      <th></th>\n",
       "      <th>지역</th>\n",
       "      <th>found_sentences</th>\n",
       "      <th>found_text</th>\n",
       "    </tr>\n",
       "  </thead>\n",
       "  <tbody>\n",
       "    <tr>\n",
       "      <th>0</th>\n",
       "      <td>서울</td>\n",
       "      <td>7일 법조계에 따르면 🔺서울🔻서부지법 형사항소2부(부상준 부장판사)는 사기·공갈·절...</td>\n",
       "      <td></td>\n",
       "    </tr>\n",
       "    <tr>\n",
       "      <th>1</th>\n",
       "      <td>서울 서울특별시</td>\n",
       "      <td>지난달 초 🔺서울🔻 모 여고에서 군인에게 위문 편지를 보내는 과정에서 군인 비하 문...</td>\n",
       "      <td></td>\n",
       "    </tr>\n",
       "    <tr>\n",
       "      <th>2</th>\n",
       "      <td>대전</td>\n",
       "      <td></td>\n",
       "      <td>대전지법 형사항소5부(이경희 부장판사)는 강제추행 혐의로 기소된 A씨(33)에 대해...</td>\n",
       "    </tr>\n",
       "    <tr>\n",
       "      <th>3</th>\n",
       "      <td>None</td>\n",
       "      <td></td>\n",
       "      <td>/사진=유튜브 승무원 룩북 영상 캡처\\n'승무원 룩북' 영상으로 논란이 불거진 유튜...</td>\n",
       "    </tr>\n",
       "    <tr>\n",
       "      <th>4</th>\n",
       "      <td>대구 북구</td>\n",
       "      <td></td>\n",
       "      <td>가출 여고생에게 숙식을 제공하며 성매매를 강요한 일당이 실형을 선고받았다. 이들 중...</td>\n",
       "    </tr>\n",
       "  </tbody>\n",
       "</table>\n",
       "</div>"
      ],
      "text/plain": [
       "         지역                                    found_sentences  \\\n",
       "0        서울  7일 법조계에 따르면 🔺서울🔻서부지법 형사항소2부(부상준 부장판사)는 사기·공갈·절...   \n",
       "1  서울 서울특별시  지난달 초 🔺서울🔻 모 여고에서 군인에게 위문 편지를 보내는 과정에서 군인 비하 문...   \n",
       "2        대전                                                      \n",
       "3      None                                                      \n",
       "4     대구 북구                                                      \n",
       "\n",
       "                                          found_text  \n",
       "0                                                     \n",
       "1                                                     \n",
       "2  대전지법 형사항소5부(이경희 부장판사)는 강제추행 혐의로 기소된 A씨(33)에 대해...  \n",
       "3  /사진=유튜브 승무원 룩북 영상 캡처\\n'승무원 룩북' 영상으로 논란이 불거진 유튜...  \n",
       "4  가출 여고생에게 숙식을 제공하며 성매매를 강요한 일당이 실형을 선고받았다. 이들 중...  "
      ]
     },
     "execution_count": 85,
     "metadata": {},
     "output_type": "execute_result"
    }
   ],
   "source": [
    "df_text.iloc[:5][filter_columns]"
   ]
  },
  {
   "cell_type": "code",
   "execution_count": 86,
   "id": "ea706b94-f4aa-4f5b-b280-2d247edfbca7",
   "metadata": {
    "collapsed": true,
    "execution": {
     "iopub.execute_input": "2024-05-24T13:21:02.835172Z",
     "iopub.status.busy": "2024-05-24T13:21:02.833681Z",
     "iopub.status.idle": "2024-05-24T13:21:03.014688Z",
     "shell.execute_reply": "2024-05-24T13:21:03.014316Z",
     "shell.execute_reply.started": "2024-05-24T13:21:02.835119Z"
    },
    "jupyter": {
     "outputs_hidden": true
    },
    "scrolled": true
   },
   "outputs": [
    {
     "data": {
      "text/plain": [
       "'대전지법 형사항소5부(이경희 부장판사)는 강제추행 혐의로 기소된 A씨(33)에 대해 무죄로 판단한 원심을 파기하고 벌금 500만원을 선고했다. 사진은 기사와 무관함. /사진=게티이미지뱅크 \\n10대 여학생 뒤에서 몰래 소변을 본 30대 남성이 1·2심에서 추행 혐의 무죄 판결을 받았다가 파기환송심에서 벌금형을 선고받았다. 대전지법 형사항소5부(이경희 부장판사)는 강제추행 혐의로 기소된 A씨(33)에 대해 무죄로 판단한 원심을 파기하고 벌금 500만원을 선고했다고 26일 밝혔다. 재판부는 40시간의 성폭력 치료 프로그램 이수와 3년간 아동 관련 기관 취업 제한도 함께 명령했다. A씨는 2019년 11월25일 오후 11시께 충남 지역 한 아파트 놀이터 의자에 앉아 휴대전화로 통화를 하던 피해자 B씨(당시 18세)의 머리카락, 후드티, 패딩점퍼 위에 몰래 소변을 본 혐의로 기소됐다. 당시에는 피해 사실을 몰랐던 B씨는 집에 돌아간 뒤에야 머리카락과 옷에 소변이 묻어있는 것을 발견해 경찰에 신고했다. 앞서 1·2심 재판부는 A씨에 대해 \"피고인의 행위로 인해 피해자의 성적 자기결정의 자유가 침해됐다고 인정하기 부족하다\"면서 무죄를 선고했다. 하지만 지난해 11월 대법원은 \"A씨의 행위는 객관적으로 일반인에게 성적 수치심이나 혐오감을 일으키게 하고 선량한 도덕관념에 반하는 행위\"라고 판단했다. 또 \"피해자의 성적 자기결정권을 침해하는 추행 행위에 해당한다고 볼 여지가 있다\"며 사건을 대전지법으로 돌려보냈다. 결국 파기환송심 재판부는 대법원의 판단에 따라 사건을 다시 심리했고, \"피해자가 추행을 당하는 사실을 명확히 인지하지 못했더라도 강제추행죄는 성립한다\"는 취지로 벌금형을 선고했다. 이보배 한경닷컴 객원기자 newsinfo@hankyung.com'"
      ]
     },
     "execution_count": 86,
     "metadata": {},
     "output_type": "execute_result"
    }
   ],
   "source": [
    "df_text.iloc[2]['found_text']"
   ]
  },
  {
   "cell_type": "code",
   "execution_count": 102,
   "id": "5100449f-e72f-487c-9375-f6acc962f52c",
   "metadata": {
    "execution": {
     "iopub.execute_input": "2024-05-24T13:40:59.492008Z",
     "iopub.status.busy": "2024-05-24T13:40:59.487731Z",
     "iopub.status.idle": "2024-05-24T13:40:59.564822Z",
     "shell.execute_reply": "2024-05-24T13:40:59.564458Z",
     "shell.execute_reply.started": "2024-05-24T13:40:59.491868Z"
    }
   },
   "outputs": [
    {
     "data": {
      "text/plain": [
       "NoneType"
      ]
     },
     "execution_count": 102,
     "metadata": {},
     "output_type": "execute_result"
    }
   ],
   "source": [
    "type(df_text.loc[:, '지역'].iloc[3])"
   ]
  },
  {
   "cell_type": "markdown",
   "id": "0ebc9ef1-0ff3-467e-9f75-f6b5cf479c1c",
   "metadata": {},
   "source": [
    "#### inspection - ii"
   ]
  },
  {
   "cell_type": "code",
   "execution_count": 59,
   "id": "623f9467-d27b-40f3-a599-90ed1898ae74",
   "metadata": {
    "execution": {
     "iopub.execute_input": "2024-05-24T13:07:25.572954Z",
     "iopub.status.busy": "2024-05-24T13:07:25.564856Z",
     "iopub.status.idle": "2024-05-24T13:07:25.628739Z",
     "shell.execute_reply": "2024-05-24T13:07:25.628394Z",
     "shell.execute_reply.started": "2024-05-24T13:07:25.572840Z"
    }
   },
   "outputs": [],
   "source": [
    "index = 0\n",
    "text_iter = iter(zip(df_text.index[index:], df_text.loc[index:, 'content']))"
   ]
  },
  {
   "cell_type": "code",
   "execution_count": 60,
   "id": "56790413-24b8-4336-9853-e825920666d9",
   "metadata": {
    "execution": {
     "iopub.execute_input": "2024-05-24T13:07:29.748906Z",
     "iopub.status.busy": "2024-05-24T13:07:29.745834Z",
     "iopub.status.idle": "2024-05-24T13:07:29.814936Z",
     "shell.execute_reply": "2024-05-24T13:07:29.814603Z",
     "shell.execute_reply.started": "2024-05-24T13:07:29.748799Z"
    },
    "scrolled": true
   },
   "outputs": [],
   "source": [
    "index, text = next(text_iter)\n",
    "text = sa.clean_text(text)"
   ]
  },
  {
   "cell_type": "code",
   "execution_count": 61,
   "id": "6f6bd0f5-4850-4216-a23a-15773f5265c1",
   "metadata": {
    "execution": {
     "iopub.execute_input": "2024-05-24T13:07:30.964972Z",
     "iopub.status.busy": "2024-05-24T13:07:30.962417Z",
     "iopub.status.idle": "2024-05-24T13:07:34.711015Z",
     "shell.execute_reply": "2024-05-24T13:07:34.710557Z",
     "shell.execute_reply.started": "2024-05-24T13:07:30.964895Z"
    }
   },
   "outputs": [
    {
     "name": "stdout",
     "output_type": "stream",
     "text": [
      "서울\n"
     ]
    }
   ],
   "source": [
    "self = CheckAddressLevels(df_address=df_addr, text=text)\n",
    "result = self.process()\n",
    "print(result)"
   ]
  },
  {
   "cell_type": "code",
   "execution_count": 62,
   "id": "3e6d51f2-e7c6-4fee-b7ab-1f5e86be6c91",
   "metadata": {
    "execution": {
     "iopub.execute_input": "2024-05-24T13:07:36.883753Z",
     "iopub.status.busy": "2024-05-24T13:07:36.882810Z",
     "iopub.status.idle": "2024-05-24T13:07:36.952922Z",
     "shell.execute_reply": "2024-05-24T13:07:36.952469Z",
     "shell.execute_reply.started": "2024-05-24T13:07:36.883706Z"
    }
   },
   "outputs": [
    {
     "data": {
      "text/html": [
       "<div>\n",
       "<style scoped>\n",
       "    .dataframe tbody tr th:only-of-type {\n",
       "        vertical-align: middle;\n",
       "    }\n",
       "\n",
       "    .dataframe tbody tr th {\n",
       "        vertical-align: top;\n",
       "    }\n",
       "\n",
       "    .dataframe thead th {\n",
       "        text-align: right;\n",
       "    }\n",
       "</style>\n",
       "<table border=\"1\" class=\"dataframe\">\n",
       "  <thead>\n",
       "    <tr style=\"text-align: right;\">\n",
       "      <th></th>\n",
       "      <th>original_name</th>\n",
       "      <th>found_name</th>\n",
       "      <th>level</th>\n",
       "      <th>count</th>\n",
       "      <th>upper</th>\n",
       "    </tr>\n",
       "  </thead>\n",
       "  <tbody>\n",
       "    <tr>\n",
       "      <th>1</th>\n",
       "      <td>서울</td>\n",
       "      <td>서울</td>\n",
       "      <td>0</td>\n",
       "      <td>1</td>\n",
       "      <td></td>\n",
       "    </tr>\n",
       "  </tbody>\n",
       "</table>\n",
       "</div>"
      ],
      "text/plain": [
       "  original_name found_name level count upper\n",
       "1            서울         서울     0     1      "
      ]
     },
     "execution_count": 62,
     "metadata": {},
     "output_type": "execute_result"
    }
   ],
   "source": [
    "df_brief = self.df_brief.copy()\n",
    "df_brief"
   ]
  },
  {
   "cell_type": "code",
   "execution_count": 63,
   "id": "6eaf026f-8e19-425d-8029-8a32fa108b42",
   "metadata": {
    "collapsed": true,
    "execution": {
     "iopub.execute_input": "2024-05-24T13:07:40.005316Z",
     "iopub.status.busy": "2024-05-24T13:07:40.003820Z",
     "iopub.status.idle": "2024-05-24T13:07:40.112642Z",
     "shell.execute_reply": "2024-05-24T13:07:40.110827Z",
     "shell.execute_reply.started": "2024-05-24T13:07:40.005224Z"
    },
    "jupyter": {
     "outputs_hidden": true
    },
    "scrolled": true
   },
   "outputs": [
    {
     "name": "stderr",
     "output_type": "stream",
     "text": [
      "ic| item: '서울'\n"
     ]
    },
    {
     "name": "stdout",
     "output_type": "stream",
     "text": [
      "\n",
      "index: 0\n",
      "\n",
      "A씨는 2020년 초부터 수 개월간 채팅앱에서 만난 남성들에게 자신을 23살 여성이라고 소개한 뒤 함께 살자고 접근해 생활비 등의 명목으로 돈을 뜯어냈다. 사진은 기사와 무관함. /사진=게티이미지뱅크 \n",
      "채팅앱에서 만난 남성들에게 자신을 여성이라고 속인 뒤 2억여원을 가로챈 20대 남성이 항소심에서도 실형을 선고받았다. 7일 법조계에 따르면 🔺서울🔻서부지법 형사항소2부(부상준 부장판사)는 사기·공갈·절도·여신전문금융업법 위반·컴퓨터등사용사기 등 혐의로 재판에 넘겨진 A씨(24)에게 1심과 같은 징역 5년을 선고했다. A씨는 2020년 초부터 수 개월간 채팅앱에서 만난 남성들에게 자신을 23살 여성이라고 소개했다. 그는 남성들에게 교제를 하자거나 함께 살자고 접근해 생활비 등의 명목으로 돈을 뜯어낸 혐의로 재판에 넘겨졌다. A씨는 피해자 B씨에게 \"같이 살 집을 구하자. 보증금, 살림살이를 구입하는데 필요한 돈은 내가 관리하겠다\"고 속여 2주 만에 3260만원을 편취했다. 또 다른 피해자 C씨에게는 \"사귀자\"고 접근해 돈을 빌리고, 계좌번호와 비밀번호 등 개인정보를 건네 받아 은행에서 대신 대출받는 방식으로 총 1730만원을 빼앗았다. 피해자 D씨에게는 음란행위 영상을 받은 뒤 \"네가 일하는 곳에 영상을 뿌리겠다\"고 협박해 410만원을 갈취하고, 수백만원을 대출받아 빼돌리기도 했다. 1심 재판부는 \"범행 수법과 방법 등이 상당히 불량하고, 사회적 비난의 여지가 큰 점 등을 불리한 정상으로 참작한다\"면서 징역 5년을 선고했다. 이후 A씨는 형이 너무 무겁다며, 검창른 너무 가볍다며 각각 항소했지만 항소심 재판부의 판단도 다르지 않았다. 항소심 재판부는 \"피해자가 수십 명이고, 피해액 합계가 2억4000만원에 이르는데도 피해 회복을 위해 별다른 노력을 하지 않았다\"고 지적했다. 이어 \"절도 등으로 여러 차례 소년보호처분을 받은 전력이 있고, 재판 중에도 다른 미결수용자를 폭행하는 등 규율위반 행위로 금치 30일 처분을 받기도 했다\"면서 \"다만 잘못을 모두 인정하고 반성하는 점, 불우한 성장 과정이 범행에 어느 정도 영향을 미친 것으로 보이는 점을 참작했다\"며 1심과 같은 징역 5년을 선고했다. A씨는 법원에 상소포기서를 제출했고, 검찰 역시 상고하지 않아 형은 이대로 확정됐다. 이보배 한경닷컴 객원기자 newsinfo@hankyung.com\n"
     ]
    }
   ],
   "source": [
    "text_mark = text\n",
    "for item in df_brief['found_name'].values:\n",
    "    ic(item)\n",
    "    text_mark = sa.re_sub(item, text_mark)\n",
    "\n",
    "print(f\"\\nindex: {index}\\n\")\n",
    "print(text_mark)"
   ]
  },
  {
   "cell_type": "markdown",
   "id": "37a51b11-1263-4f77-9797-3076675cf437",
   "metadata": {},
   "source": [
    "#### save to parquet"
   ]
  },
  {
   "cell_type": "code",
   "execution_count": 103,
   "id": "39a19027-92db-40fa-8d51-e411f6bc22df",
   "metadata": {
    "execution": {
     "iopub.execute_input": "2024-05-24T13:49:26.066601Z",
     "iopub.status.busy": "2024-05-24T13:49:26.058631Z",
     "iopub.status.idle": "2024-05-24T13:49:27.316759Z",
     "shell.execute_reply": "2024-05-24T13:49:27.315711Z",
     "shell.execute_reply.started": "2024-05-24T13:49:26.065631Z"
    }
   },
   "outputs": [],
   "source": [
    "df_text.to_parquet('./dataframe/flasher_hk_20130101_20220307_cal.parquet.gzip', compression='gzip')"
   ]
  },
  {
   "cell_type": "markdown",
   "id": "3b3e5a4f-9fc8-41d5-a86a-46b64f0532a3",
   "metadata": {},
   "source": [
    "### Coodinates"
   ]
  },
  {
   "cell_type": "code",
   "execution_count": 16,
   "id": "e7c0c396-92c5-481c-b900-06738143242a",
   "metadata": {
    "execution": {
     "iopub.execute_input": "2024-05-24T14:17:36.148259Z",
     "iopub.status.busy": "2024-05-24T14:17:36.142116Z",
     "iopub.status.idle": "2024-05-24T14:17:36.591251Z",
     "shell.execute_reply": "2024-05-24T14:17:36.590173Z",
     "shell.execute_reply.started": "2024-05-24T14:17:36.148224Z"
    }
   },
   "outputs": [],
   "source": [
    "import pandas as pd \n",
    "import numpy as np\n",
    "import math\n",
    "import re\n",
    "\n",
    "from icecream import ic\n",
    "from tqdm.notebook import tqdm \n",
    "\n",
    "from utils.custom_utils import load_var, save_var\n",
    "from utils.webscraping import ArticleScraper\n",
    "from utils.search_address import CheckAddressLevels\n",
    "import utils.search_address as sa\n",
    "\n",
    "from importlib import reload\n",
    "\n",
    "df_addr = pd.read_parquet('./address/df_addr.parquet.gzip')\n",
    "df_text = pd.read_parquet('./dataframe/flasher_hk_20130101_20220307_cal.parquet.gzip')\n"
   ]
  },
  {
   "cell_type": "markdown",
   "id": "d61e7452-bb1b-4462-b83a-5cece12ac31c",
   "metadata": {},
   "source": [
    "#### ask: filter non empty strings"
   ]
  },
  {
   "cell_type": "code",
   "execution_count": 2,
   "id": "074d84fb-8fc2-48d7-ad0c-68c24817d2c2",
   "metadata": {
    "execution": {
     "iopub.execute_input": "2024-05-24T14:05:33.851100Z",
     "iopub.status.busy": "2024-05-24T14:05:33.849838Z",
     "iopub.status.idle": "2024-05-24T14:05:33.882905Z",
     "shell.execute_reply": "2024-05-24T14:05:33.882312Z",
     "shell.execute_reply.started": "2024-05-24T14:05:33.851038Z"
    }
   },
   "outputs": [],
   "source": [
    "import pandas as pd\n",
    "\n",
    "def filter_non_empty_strings(df: pd.DataFrame, select_column: str) -> pd.DataFrame:\n",
    "    \"\"\"\n",
    "    Filters the DataFrame to include only rows where the values in the specified\n",
    "    column are non-empty strings.\n",
    "\n",
    "    Parameters:\n",
    "    df (pd.DataFrame): The input DataFrame.\n",
    "    select_column (str): The column to filter on.\n",
    "\n",
    "    Returns:\n",
    "    pd.DataFrame: A filtered DataFrame with only non-empty string values in the specified column.\n",
    "    \"\"\"\n",
    "    return df[df[select_column].apply(lambda x: isinstance(x, str) and x != '' and x != 'nan')]"
   ]
  },
  {
   "cell_type": "code",
   "execution_count": 118,
   "id": "4cf06e02-1a86-488f-b026-5f9803420eab",
   "metadata": {
    "collapsed": true,
    "execution": {
     "iopub.execute_input": "2024-05-24T14:01:41.749256Z",
     "iopub.status.busy": "2024-05-24T14:01:41.746390Z",
     "iopub.status.idle": "2024-05-24T14:01:41.825798Z",
     "shell.execute_reply": "2024-05-24T14:01:41.825517Z",
     "shell.execute_reply.started": "2024-05-24T14:01:41.749176Z"
    },
    "jupyter": {
     "outputs_hidden": true,
     "source_hidden": true
    },
    "scrolled": true
   },
   "outputs": [
    {
     "name": "stdout",
     "output_type": "stream",
     "text": [
      "  column1  column2\n",
      "0       a        1\n",
      "2       b        3\n",
      "4       c        5\n"
     ]
    }
   ],
   "source": [
    "# Example usage\n",
    "df_text = pd.DataFrame({\n",
    "    'column1': ['a', '', 'b', None, 'c'],\n",
    "    'column2': [1, 2, 3, 4, 5]\n",
    "})\n",
    "\n",
    "select_column = 'column1'\n",
    "filtered_df = filter_non_empty_strings(df_text, select_column)\n",
    "print(filtered_df)"
   ]
  },
  {
   "cell_type": "code",
   "execution_count": 3,
   "id": "63927432-2d69-4684-844c-f53f5e15ff65",
   "metadata": {
    "execution": {
     "iopub.execute_input": "2024-05-24T14:05:35.921141Z",
     "iopub.status.busy": "2024-05-24T14:05:35.853664Z",
     "iopub.status.idle": "2024-05-24T14:05:36.064807Z",
     "shell.execute_reply": "2024-05-24T14:05:36.063571Z",
     "shell.execute_reply.started": "2024-05-24T14:05:35.920964Z"
    },
    "scrolled": true
   },
   "outputs": [],
   "source": [
    "select_column = '지역'\n",
    "filtered_df = filter_non_empty_strings(df_text, select_column)"
   ]
  },
  {
   "cell_type": "code",
   "execution_count": 7,
   "id": "c903443f-fd0a-49d8-83d6-2a3705cafbc3",
   "metadata": {
    "execution": {
     "iopub.execute_input": "2024-05-24T14:08:52.325139Z",
     "iopub.status.busy": "2024-05-24T14:08:52.323641Z",
     "iopub.status.idle": "2024-05-24T14:08:52.401102Z",
     "shell.execute_reply": "2024-05-24T14:08:52.400788Z",
     "shell.execute_reply.started": "2024-05-24T14:08:52.325090Z"
    },
    "scrolled": true
   },
   "outputs": [
    {
     "name": "stdout",
     "output_type": "stream",
     "text": [
      "<class 'pandas.core.frame.DataFrame'>\n",
      "Index: 104 entries, 0 to 271\n",
      "Data columns (total 20 columns):\n",
      " #   Column           Non-Null Count  Dtype  \n",
      "---  ------           --------------  -----  \n",
      " 0   범죄 유형            0 non-null      float64\n",
      " 1   지역               104 non-null    object \n",
      " 2   위도               0 non-null      float64\n",
      " 3   경도               0 non-null      float64\n",
      " 4   중복 여부            0 non-null      float64\n",
      " 5   퀄리티              0 non-null      float64\n",
      " 6   제외 여부            0 non-null      float64\n",
      " 7   기사제목             104 non-null    object \n",
      " 8   사건 장소            92 non-null     object \n",
      " 9   수사 기관            104 non-null    object \n",
      " 10  본문               104 non-null    object \n",
      " 11  URL              104 non-null    object \n",
      " 12  일자               104 non-null    int64  \n",
      " 13  언론사              104 non-null    object \n",
      " 14  기고자              100 non-null    object \n",
      " 15  비고               0 non-null      float64\n",
      " 16  selenium_html    104 non-null    object \n",
      " 17  content          104 non-null    object \n",
      " 18  found_sentences  104 non-null    object \n",
      " 19  found_text       104 non-null    object \n",
      "dtypes: float64(7), int64(1), object(12)\n",
      "memory usage: 21.1+ KB\n"
     ]
    }
   ],
   "source": [
    "filtered_df.info()"
   ]
  },
  {
   "cell_type": "markdown",
   "id": "0d310a9e-ab91-4f8b-ad6c-3e82c18fdfeb",
   "metadata": {},
   "source": [
    "#### get_lat_long()"
   ]
  },
  {
   "cell_type": "code",
   "execution_count": 8,
   "id": "cc48b499-6765-4064-ba5e-7e64040bc856",
   "metadata": {
    "execution": {
     "iopub.execute_input": "2024-05-24T14:10:21.498682Z",
     "iopub.status.busy": "2024-05-24T14:10:21.497515Z",
     "iopub.status.idle": "2024-05-24T14:10:23.390451Z",
     "shell.execute_reply": "2024-05-24T14:10:23.389711Z",
     "shell.execute_reply.started": "2024-05-24T14:10:21.498647Z"
    }
   },
   "outputs": [],
   "source": [
    "loc_name = filtered_df.loc[0, select_column]\n",
    "lat, long = sa.get_lat_long(loc_name)"
   ]
  },
  {
   "cell_type": "code",
   "execution_count": 9,
   "id": "5f336fe4-eb77-482d-a3e4-42c09485d9c5",
   "metadata": {
    "execution": {
     "iopub.execute_input": "2024-05-24T14:10:37.574284Z",
     "iopub.status.busy": "2024-05-24T14:10:37.573607Z",
     "iopub.status.idle": "2024-05-24T14:10:37.595131Z",
     "shell.execute_reply": "2024-05-24T14:10:37.594516Z",
     "shell.execute_reply.started": "2024-05-24T14:10:37.574254Z"
    }
   },
   "outputs": [
    {
     "name": "stdout",
     "output_type": "stream",
     "text": [
      "37.5666791 126.9782914\n"
     ]
    }
   ],
   "source": [
    "print(lat, long)"
   ]
  },
  {
   "cell_type": "code",
   "execution_count": 12,
   "id": "233c1bf4-804a-451b-8964-cb71204036c6",
   "metadata": {
    "execution": {
     "iopub.execute_input": "2024-05-24T14:11:23.747225Z",
     "iopub.status.busy": "2024-05-24T14:11:23.746206Z",
     "iopub.status.idle": "2024-05-24T14:11:23.757185Z",
     "shell.execute_reply": "2024-05-24T14:11:23.756455Z",
     "shell.execute_reply.started": "2024-05-24T14:11:23.747196Z"
    }
   },
   "outputs": [
    {
     "data": {
      "text/plain": [
       "Index([  0,   1,   2,   4,   5,   7,   8,   9,  10,  11,\n",
       "       ...\n",
       "       262, 263, 264, 265, 266, 267, 268, 269, 270, 271],\n",
       "      dtype='int64', length=104)"
      ]
     },
     "execution_count": 12,
     "metadata": {},
     "output_type": "execute_result"
    }
   ],
   "source": [
    "filtered_df.index"
   ]
  },
  {
   "cell_type": "code",
   "execution_count": 13,
   "id": "ec2b80ca-45fb-4eca-b9e4-38b4c0224174",
   "metadata": {
    "execution": {
     "iopub.execute_input": "2024-05-24T14:14:41.527531Z",
     "iopub.status.busy": "2024-05-24T14:14:41.524769Z",
     "iopub.status.idle": "2024-05-24T14:16:20.130699Z",
     "shell.execute_reply": "2024-05-24T14:16:20.127735Z",
     "shell.execute_reply.started": "2024-05-24T14:14:41.527449Z"
    }
   },
   "outputs": [
    {
     "data": {
      "application/vnd.jupyter.widget-view+json": {
       "model_id": "535666f3016c4a8da86fc47d9d3ad554",
       "version_major": 2,
       "version_minor": 0
      },
      "text/plain": [
       "  0%|          | 0/104 [00:00<?, ?it/s]"
      ]
     },
     "metadata": {},
     "output_type": "display_data"
    },
    {
     "name": "stdout",
     "output_type": "stream",
     "text": [
      "Location '충북 지리' not found.\n"
     ]
    }
   ],
   "source": [
    "total_length = len(filtered_df)\n",
    "for index, row in tqdm(filtered_df.iterrows(), total=total_length):\n",
    "    lat, long = sa.get_lat_long(row['지역'])\n",
    "    filtered_df.at[index, '위도'] = lat\n",
    "    filtered_df.at[index, '경도'] = long"
   ]
  },
  {
   "cell_type": "code",
   "execution_count": 17,
   "id": "9e91ae1d-3ee5-4fa2-8494-7276800387f6",
   "metadata": {
    "execution": {
     "iopub.execute_input": "2024-05-24T14:19:11.911831Z",
     "iopub.status.busy": "2024-05-24T14:19:11.909839Z",
     "iopub.status.idle": "2024-05-24T14:19:11.986905Z",
     "shell.execute_reply": "2024-05-24T14:19:11.983237Z",
     "shell.execute_reply.started": "2024-05-24T14:19:11.911785Z"
    }
   },
   "outputs": [],
   "source": [
    "update_column = ['위도', '경도']\n",
    "df_text.loc[:, update_column] = filtered_df[update_column]"
   ]
  },
  {
   "cell_type": "code",
   "execution_count": 18,
   "id": "7e90e2d5-caf4-4499-80dc-39f487315b62",
   "metadata": {
    "execution": {
     "iopub.execute_input": "2024-05-24T14:19:13.505141Z",
     "iopub.status.busy": "2024-05-24T14:19:13.503113Z",
     "iopub.status.idle": "2024-05-24T14:19:13.538101Z",
     "shell.execute_reply": "2024-05-24T14:19:13.537743Z",
     "shell.execute_reply.started": "2024-05-24T14:19:13.505102Z"
    },
    "scrolled": true
   },
   "outputs": [
    {
     "name": "stdout",
     "output_type": "stream",
     "text": [
      "<class 'pandas.core.frame.DataFrame'>\n",
      "RangeIndex: 377 entries, 0 to 376\n",
      "Data columns (total 20 columns):\n",
      " #   Column           Non-Null Count  Dtype  \n",
      "---  ------           --------------  -----  \n",
      " 0   범죄 유형            0 non-null      float64\n",
      " 1   지역               334 non-null    object \n",
      " 2   위도               103 non-null    float64\n",
      " 3   경도               103 non-null    float64\n",
      " 4   중복 여부            0 non-null      float64\n",
      " 5   퀄리티              0 non-null      float64\n",
      " 6   제외 여부            0 non-null      float64\n",
      " 7   기사제목             377 non-null    object \n",
      " 8   사건 장소            328 non-null    object \n",
      " 9   수사 기관            377 non-null    object \n",
      " 10  본문               377 non-null    object \n",
      " 11  URL              209 non-null    object \n",
      " 12  일자               377 non-null    int64  \n",
      " 13  언론사              377 non-null    object \n",
      " 14  기고자              286 non-null    object \n",
      " 15  비고               0 non-null      float64\n",
      " 16  selenium_html    209 non-null    object \n",
      " 17  content          148 non-null    object \n",
      " 18  found_sentences  377 non-null    object \n",
      " 19  found_text       377 non-null    object \n",
      "dtypes: float64(7), int64(1), object(12)\n",
      "memory usage: 59.0+ KB\n"
     ]
    }
   ],
   "source": [
    "df_text.info()"
   ]
  },
  {
   "cell_type": "code",
   "execution_count": 21,
   "id": "3a55ef34-1640-431c-88a5-30bf96683e9e",
   "metadata": {
    "execution": {
     "iopub.execute_input": "2024-05-24T14:21:48.737117Z",
     "iopub.status.busy": "2024-05-24T14:21:48.734842Z",
     "iopub.status.idle": "2024-05-24T14:21:48.803466Z",
     "shell.execute_reply": "2024-05-24T14:21:48.802030Z",
     "shell.execute_reply.started": "2024-05-24T14:21:48.737086Z"
    },
    "scrolled": true
   },
   "outputs": [
    {
     "data": {
      "text/html": [
       "<div>\n",
       "<style scoped>\n",
       "    .dataframe tbody tr th:only-of-type {\n",
       "        vertical-align: middle;\n",
       "    }\n",
       "\n",
       "    .dataframe tbody tr th {\n",
       "        vertical-align: top;\n",
       "    }\n",
       "\n",
       "    .dataframe thead th {\n",
       "        text-align: right;\n",
       "    }\n",
       "</style>\n",
       "<table border=\"1\" class=\"dataframe\">\n",
       "  <thead>\n",
       "    <tr style=\"text-align: right;\">\n",
       "      <th></th>\n",
       "      <th>범죄 유형</th>\n",
       "      <th>지역</th>\n",
       "      <th>위도</th>\n",
       "      <th>경도</th>\n",
       "      <th>중복 여부</th>\n",
       "      <th>퀄리티</th>\n",
       "      <th>제외 여부</th>\n",
       "      <th>기사제목</th>\n",
       "      <th>사건 장소</th>\n",
       "      <th>수사 기관</th>\n",
       "      <th>본문</th>\n",
       "      <th>URL</th>\n",
       "      <th>일자</th>\n",
       "      <th>언론사</th>\n",
       "      <th>기고자</th>\n",
       "      <th>비고</th>\n",
       "      <th>selenium_html</th>\n",
       "      <th>content</th>\n",
       "      <th>found_sentences</th>\n",
       "      <th>found_text</th>\n",
       "    </tr>\n",
       "  </thead>\n",
       "  <tbody>\n",
       "    <tr>\n",
       "      <th>0</th>\n",
       "      <td>NaN</td>\n",
       "      <td>서울</td>\n",
       "      <td>37.566679</td>\n",
       "      <td>126.978291</td>\n",
       "      <td>NaN</td>\n",
       "      <td>NaN</td>\n",
       "      <td>NaN</td>\n",
       "      <td>\"같이 살자\" 2억 뜯어낸 채팅녀 알고 보니 20대 남자였다</td>\n",
       "      <td>2억여원</td>\n",
       "      <td>이대,검찰,한경닷컴 객원,서울서부지법,재판부,법원,형사항</td>\n",
       "      <td>채팅앱에서 만난 남성들에게 자신을 여성이라고 속인 뒤 2억여원을 가로챈 20대 남성...</td>\n",
       "      <td>https://www.hankyung.com/society/article/20220...</td>\n",
       "      <td>20220207</td>\n",
       "      <td>한국경제</td>\n",
       "      <td>이보배</td>\n",
       "      <td>NaN</td>\n",
       "      <td>&lt;body&gt;\\n\\t&lt;div id=\"wrap\" class=\"view\"&gt;\\n\\n\\t\\t...</td>\n",
       "      <td>\\n\\n\\n\\n\\nA씨는 2020년 초부터 수 개월간 채팅앱에서 만난 남성들에게 자...</td>\n",
       "      <td>7일 법조계에 따르면 🔺서울🔻서부지법 형사항소2부(부상준 부장판사)는 사기·공갈·절...</td>\n",
       "      <td>A씨는 2020년 초부터 수 개월간 채팅앱에서 만난 남성들에게 자신을 23살 여성이...</td>\n",
       "    </tr>\n",
       "    <tr>\n",
       "      <th>1</th>\n",
       "      <td>NaN</td>\n",
       "      <td>서울 서울특별시</td>\n",
       "      <td>37.554555</td>\n",
       "      <td>126.970779</td>\n",
       "      <td>NaN</td>\n",
       "      <td>NaN</td>\n",
       "      <td>NaN</td>\n",
       "      <td>'군인비하' 여고생 위문편지도 봉사활동 인정될까?</td>\n",
       "      <td>서울,서울강서양천교육지원청,여고</td>\n",
       "      <td>국민신문고,서울시교육청,사나,국군,특,서울강서양천교육지원청,별시,교육청</td>\n",
       "      <td>지난달 초 서울 모 여고에서 군인에게 위문 편지를 보내는 과정에서 군인 비하 문구를...</td>\n",
       "      <td>https://www.hankyung.com/society/article/20220...</td>\n",
       "      <td>20220204</td>\n",
       "      <td>한국경제</td>\n",
       "      <td>이미나</td>\n",
       "      <td>NaN</td>\n",
       "      <td>&lt;body&gt;\\n\\t&lt;div id=\"wrap\" class=\"view\"&gt;\\n\\n\\t\\t...</td>\n",
       "      <td>\\n\\n\\n\\n\\n지난달 초 서울 모 여고에서 군인에게 위문 편지를 보내는 과정에서...</td>\n",
       "      <td>지난달 초 🔺서울🔻 모 여고에서 군인에게 위문 편지를 보내는 과정에서 군인 비하 문...</td>\n",
       "      <td>지난달 초 🔺서울🔻 모 여고에서 군인에게 위문 편지를 보내는 과정에서 군인 비하 문...</td>\n",
       "    </tr>\n",
       "    <tr>\n",
       "      <th>2</th>\n",
       "      <td>NaN</td>\n",
       "      <td>대전</td>\n",
       "      <td>36.349701</td>\n",
       "      <td>127.384902</td>\n",
       "      <td>NaN</td>\n",
       "      <td>NaN</td>\n",
       "      <td>NaN</td>\n",
       "      <td>여고생 등에 '몰래 소변' 30대男 무죄→벌금형 뒤집혔다</td>\n",
       "      <td>충남</td>\n",
       "      <td>한경닷컴 객원,형사항소,당하,재판부,대법원,대전지법</td>\n",
       "      <td>10대 여학생 뒤에서 몰래 소변을 본 30대 남성이 1 2심에서 추행 혐의 무죄 판...</td>\n",
       "      <td>https://www.hankyung.com/society/article/20220...</td>\n",
       "      <td>20220126</td>\n",
       "      <td>한국경제</td>\n",
       "      <td>이보배</td>\n",
       "      <td>NaN</td>\n",
       "      <td>&lt;body&gt;\\n\\t&lt;div id=\"wrap\" class=\"view\"&gt;\\n\\n\\t\\t...</td>\n",
       "      <td>\\n\\n\\n\\n\\n대전지법 형사항소5부(이경희 부장판사)는 강제추행 혐의로 기소된 ...</td>\n",
       "      <td>🔺대전🔻지법 형사항소5부(이경희 부장판사)는 강제추행 혐의로 기소된 A씨(33)에 ...</td>\n",
       "      <td>🔺대전🔻지법 형사항소5부(이경희 부장판사)는 강제추행 혐의로 기소된 A씨(33)에 ...</td>\n",
       "    </tr>\n",
       "    <tr>\n",
       "      <th>3</th>\n",
       "      <td>NaN</td>\n",
       "      <td>None</td>\n",
       "      <td>NaN</td>\n",
       "      <td>NaN</td>\n",
       "      <td>NaN</td>\n",
       "      <td>NaN</td>\n",
       "      <td>NaN</td>\n",
       "      <td>\"'승무원 룩북' 유튜버, 입던 속옷 돈 받고 팔려고 \" 폭로</td>\n",
       "      <td>적나라,아프리카,룩북</td>\n",
       "      <td>미국,유튜브,청구,정보통신,유튜버,대한항공,VVIP</td>\n",
       "      <td>'승무원 룩북' 영상으로 논란이 불거진 유튜버가 자신이 입던 속옷을 나눠준다는 이벤...</td>\n",
       "      <td>https://www.hankyung.com/life/article/20211222...</td>\n",
       "      <td>20211222</td>\n",
       "      <td>한국경제</td>\n",
       "      <td>김소연</td>\n",
       "      <td>NaN</td>\n",
       "      <td>&lt;body&gt;\\n\\t&lt;div id=\"wrap\" class=\"view\"&gt;\\n\\n\\t\\t...</td>\n",
       "      <td>\\n\\n\\n\\n\\n/사진=유튜브 승무원 룩북 영상 캡처\\n'승무원 룩북' 영상으로 ...</td>\n",
       "      <td></td>\n",
       "      <td>/사진=유튜브 승무원 룩북 영상 캡처\\n'승무원 룩북' 영상으로 논란이 불거진 유튜...</td>\n",
       "    </tr>\n",
       "    <tr>\n",
       "      <th>4</th>\n",
       "      <td>NaN</td>\n",
       "      <td>대구 북구</td>\n",
       "      <td>35.876282</td>\n",
       "      <td>128.597118</td>\n",
       "      <td>NaN</td>\n",
       "      <td>NaN</td>\n",
       "      <td>NaN</td>\n",
       "      <td>가출 여고생 '성매매' 강요 20대男 공범 여친 몰래 '성폭행' 하기도</td>\n",
       "      <td>아동청소년의성보호에관한법률,경기,인천,북구,포항지원</td>\n",
       "      <td>애플,한경닷컴 객원,대구지방법원,재판부,제1형사부,포항시</td>\n",
       "      <td>가출 여고생에게 숙식을 제공하며 성매매를 강요한 일당이 실형을 선고받았다. 이들 중...</td>\n",
       "      <td>https://www.hankyung.com/society/article/20211...</td>\n",
       "      <td>20211219</td>\n",
       "      <td>한국경제</td>\n",
       "      <td>이보배</td>\n",
       "      <td>NaN</td>\n",
       "      <td>&lt;body&gt;\\n\\t&lt;div id=\"wrap\" class=\"view\"&gt;\\n\\n\\t\\t...</td>\n",
       "      <td>\\n\\n\\n\\n\\n가출 여고생에게 숙식을 제공하며 성매매를 강요한 일당이 실형을 선...</td>\n",
       "      <td>🔺대구🔻지방법원 포항지원 제1형사부(권순향 재판장)는 아동청소년의성보호에관한법률위반...</td>\n",
       "      <td>가출 여고생에게 숙식을 제공하며 성매매를 강요한 일당이 실형을 선고받았다. 이들 중...</td>\n",
       "    </tr>\n",
       "  </tbody>\n",
       "</table>\n",
       "</div>"
      ],
      "text/plain": [
       "   범죄 유형        지역         위도          경도  중복 여부  퀄리티  제외 여부  \\\n",
       "0    NaN        서울  37.566679  126.978291    NaN  NaN    NaN   \n",
       "1    NaN  서울 서울특별시  37.554555  126.970779    NaN  NaN    NaN   \n",
       "2    NaN        대전  36.349701  127.384902    NaN  NaN    NaN   \n",
       "3    NaN      None        NaN         NaN    NaN  NaN    NaN   \n",
       "4    NaN     대구 북구  35.876282  128.597118    NaN  NaN    NaN   \n",
       "\n",
       "                                      기사제목                         사건 장소  \\\n",
       "0        \"같이 살자\" 2억 뜯어낸 채팅녀 알고 보니 20대 남자였다                          2억여원   \n",
       "1              '군인비하' 여고생 위문편지도 봉사활동 인정될까?             서울,서울강서양천교육지원청,여고   \n",
       "2          여고생 등에 '몰래 소변' 30대男 무죄→벌금형 뒤집혔다                            충남   \n",
       "3       \"'승무원 룩북' 유튜버, 입던 속옷 돈 받고 팔려고 \" 폭로                   적나라,아프리카,룩북   \n",
       "4  가출 여고생 '성매매' 강요 20대男 공범 여친 몰래 '성폭행' 하기도  아동청소년의성보호에관한법률,경기,인천,북구,포항지원   \n",
       "\n",
       "                                     수사 기관  \\\n",
       "0          이대,검찰,한경닷컴 객원,서울서부지법,재판부,법원,형사항   \n",
       "1  국민신문고,서울시교육청,사나,국군,특,서울강서양천교육지원청,별시,교육청   \n",
       "2             한경닷컴 객원,형사항소,당하,재판부,대법원,대전지법   \n",
       "3             미국,유튜브,청구,정보통신,유튜버,대한항공,VVIP   \n",
       "4          애플,한경닷컴 객원,대구지방법원,재판부,제1형사부,포항시   \n",
       "\n",
       "                                                  본문  \\\n",
       "0  채팅앱에서 만난 남성들에게 자신을 여성이라고 속인 뒤 2억여원을 가로챈 20대 남성...   \n",
       "1  지난달 초 서울 모 여고에서 군인에게 위문 편지를 보내는 과정에서 군인 비하 문구를...   \n",
       "2  10대 여학생 뒤에서 몰래 소변을 본 30대 남성이 1 2심에서 추행 혐의 무죄 판...   \n",
       "3  '승무원 룩북' 영상으로 논란이 불거진 유튜버가 자신이 입던 속옷을 나눠준다는 이벤...   \n",
       "4  가출 여고생에게 숙식을 제공하며 성매매를 강요한 일당이 실형을 선고받았다. 이들 중...   \n",
       "\n",
       "                                                 URL        일자   언론사  기고자  비고  \\\n",
       "0  https://www.hankyung.com/society/article/20220...  20220207  한국경제  이보배 NaN   \n",
       "1  https://www.hankyung.com/society/article/20220...  20220204  한국경제  이미나 NaN   \n",
       "2  https://www.hankyung.com/society/article/20220...  20220126  한국경제  이보배 NaN   \n",
       "3  https://www.hankyung.com/life/article/20211222...  20211222  한국경제  김소연 NaN   \n",
       "4  https://www.hankyung.com/society/article/20211...  20211219  한국경제  이보배 NaN   \n",
       "\n",
       "                                       selenium_html  \\\n",
       "0  <body>\\n\\t<div id=\"wrap\" class=\"view\">\\n\\n\\t\\t...   \n",
       "1  <body>\\n\\t<div id=\"wrap\" class=\"view\">\\n\\n\\t\\t...   \n",
       "2  <body>\\n\\t<div id=\"wrap\" class=\"view\">\\n\\n\\t\\t...   \n",
       "3  <body>\\n\\t<div id=\"wrap\" class=\"view\">\\n\\n\\t\\t...   \n",
       "4  <body>\\n\\t<div id=\"wrap\" class=\"view\">\\n\\n\\t\\t...   \n",
       "\n",
       "                                             content  \\\n",
       "0  \\n\\n\\n\\n\\nA씨는 2020년 초부터 수 개월간 채팅앱에서 만난 남성들에게 자...   \n",
       "1  \\n\\n\\n\\n\\n지난달 초 서울 모 여고에서 군인에게 위문 편지를 보내는 과정에서...   \n",
       "2  \\n\\n\\n\\n\\n대전지법 형사항소5부(이경희 부장판사)는 강제추행 혐의로 기소된 ...   \n",
       "3  \\n\\n\\n\\n\\n/사진=유튜브 승무원 룩북 영상 캡처\\n'승무원 룩북' 영상으로 ...   \n",
       "4  \\n\\n\\n\\n\\n가출 여고생에게 숙식을 제공하며 성매매를 강요한 일당이 실형을 선...   \n",
       "\n",
       "                                     found_sentences  \\\n",
       "0  7일 법조계에 따르면 🔺서울🔻서부지법 형사항소2부(부상준 부장판사)는 사기·공갈·절...   \n",
       "1  지난달 초 🔺서울🔻 모 여고에서 군인에게 위문 편지를 보내는 과정에서 군인 비하 문...   \n",
       "2  🔺대전🔻지법 형사항소5부(이경희 부장판사)는 강제추행 혐의로 기소된 A씨(33)에 ...   \n",
       "3                                                      \n",
       "4  🔺대구🔻지방법원 포항지원 제1형사부(권순향 재판장)는 아동청소년의성보호에관한법률위반...   \n",
       "\n",
       "                                          found_text  \n",
       "0  A씨는 2020년 초부터 수 개월간 채팅앱에서 만난 남성들에게 자신을 23살 여성이...  \n",
       "1  지난달 초 🔺서울🔻 모 여고에서 군인에게 위문 편지를 보내는 과정에서 군인 비하 문...  \n",
       "2  🔺대전🔻지법 형사항소5부(이경희 부장판사)는 강제추행 혐의로 기소된 A씨(33)에 ...  \n",
       "3  /사진=유튜브 승무원 룩북 영상 캡처\\n'승무원 룩북' 영상으로 논란이 불거진 유튜...  \n",
       "4  가출 여고생에게 숙식을 제공하며 성매매를 강요한 일당이 실형을 선고받았다. 이들 중...  "
      ]
     },
     "execution_count": 21,
     "metadata": {},
     "output_type": "execute_result"
    }
   ],
   "source": [
    "df_text.head()"
   ]
  },
  {
   "cell_type": "markdown",
   "id": "01b7b2d6-ac3c-4c91-9fc6-3204978cd090",
   "metadata": {},
   "source": [
    "#### save to parquet"
   ]
  },
  {
   "cell_type": "code",
   "execution_count": 22,
   "id": "6eeda595-35a4-4611-bc89-01ff1adcfff8",
   "metadata": {
    "execution": {
     "iopub.execute_input": "2024-05-24T14:22:41.019782Z",
     "iopub.status.busy": "2024-05-24T14:22:41.018665Z",
     "iopub.status.idle": "2024-05-24T14:22:41.970813Z",
     "shell.execute_reply": "2024-05-24T14:22:41.970162Z",
     "shell.execute_reply.started": "2024-05-24T14:22:41.019749Z"
    }
   },
   "outputs": [],
   "source": [
    "df_text.to_parquet('./dataframe/flasher_hk_20130101_20220307_loc.parquet.gzip', compression='gzip')"
   ]
  },
  {
   "cell_type": "code",
   "execution_count": 24,
   "id": "653a981d-4b67-47bd-8a36-42e8bb352ca6",
   "metadata": {
    "execution": {
     "iopub.execute_input": "2024-05-24T14:26:14.071113Z",
     "iopub.status.busy": "2024-05-24T14:26:14.069040Z",
     "iopub.status.idle": "2024-05-24T14:26:14.886173Z",
     "shell.execute_reply": "2024-05-24T14:26:14.885809Z",
     "shell.execute_reply.started": "2024-05-24T14:26:14.071089Z"
    }
   },
   "outputs": [],
   "source": [
    "df_text.to_excel('./dataframe/flasher_hk_20130101_20220307_loc.xlsx', index=False)"
   ]
  },
  {
   "cell_type": "code",
   "execution_count": null,
   "id": "52c251c5-18e5-4741-afda-15b43d74d2b4",
   "metadata": {},
   "outputs": [],
   "source": []
  },
  {
   "cell_type": "code",
   "execution_count": null,
   "id": "9c3a403e-abdd-469d-b061-4bb225b6d6ea",
   "metadata": {},
   "outputs": [],
   "source": []
  },
  {
   "cell_type": "code",
   "execution_count": null,
   "id": "db459f78-422a-43a8-8d86-80fb49e6ba54",
   "metadata": {},
   "outputs": [],
   "source": []
  },
  {
   "cell_type": "code",
   "execution_count": null,
   "id": "4130f83c-3219-4caf-9402-f4718fd05ec9",
   "metadata": {},
   "outputs": [],
   "source": []
  },
  {
   "cell_type": "markdown",
   "id": "74d90718-2d4b-4090-8aa5-8e22cad1deb3",
   "metadata": {},
   "source": [
    "# end"
   ]
  }
 ],
 "metadata": {
  "kernelspec": {
   "display_name": "Python 3 (ipykernel)",
   "language": "python",
   "name": "python3"
  },
  "language_info": {
   "codemirror_mode": {
    "name": "ipython",
    "version": 3
   },
   "file_extension": ".py",
   "mimetype": "text/x-python",
   "name": "python",
   "nbconvert_exporter": "python",
   "pygments_lexer": "ipython3",
   "version": "3.11.0"
  }
 },
 "nbformat": 4,
 "nbformat_minor": 5
}
