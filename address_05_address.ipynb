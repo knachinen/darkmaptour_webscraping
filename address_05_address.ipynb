{
 "cells": [
  {
   "cell_type": "code",
   "execution_count": null,
   "id": "ef9135ec-ff69-4258-b505-869305609f72",
   "metadata": {},
   "outputs": [],
   "source": []
  },
  {
   "cell_type": "markdown",
   "id": "a68746fa-994f-4dc8-b86d-ee0072483e22",
   "metadata": {},
   "source": [
    "## Address"
   ]
  },
  {
   "cell_type": "markdown",
   "id": "104df923-0faa-4745-bfb2-b478b5bfedaa",
   "metadata": {
    "jp-MarkdownHeadingCollapsed": true
   },
   "source": [
    "### City Short Name"
   ]
  },
  {
   "cell_type": "markdown",
   "id": "ae78534e-3f47-4c66-86db-10683d9d26e2",
   "metadata": {
    "jp-MarkdownHeadingCollapsed": true
   },
   "source": [
    "### read excel"
   ]
  },
  {
   "cell_type": "code",
   "execution_count": 92,
   "id": "7ea7b847-139f-4971-91af-3b00fa1839bb",
   "metadata": {
    "execution": {
     "iopub.execute_input": "2024-05-13T01:38:30.398249Z",
     "iopub.status.busy": "2024-05-13T01:38:30.392948Z",
     "iopub.status.idle": "2024-05-13T01:38:31.771264Z",
     "shell.execute_reply": "2024-05-13T01:38:31.770963Z",
     "shell.execute_reply.started": "2024-05-13T01:38:30.398180Z"
    }
   },
   "outputs": [],
   "source": [
    "df_addr = pd.read_excel(\"./address/법정동_20240201.xlsx\")"
   ]
  },
  {
   "cell_type": "code",
   "execution_count": 120,
   "id": "e614e15e-a984-421e-9331-d66e626eb93e",
   "metadata": {
    "execution": {
     "iopub.execute_input": "2024-04-22T12:05:56.500587Z",
     "iopub.status.busy": "2024-04-22T12:05:56.497084Z",
     "iopub.status.idle": "2024-04-22T12:05:56.535762Z",
     "shell.execute_reply": "2024-04-22T12:05:56.534803Z",
     "shell.execute_reply.started": "2024-04-22T12:05:56.500525Z"
    }
   },
   "outputs": [
    {
     "name": "stdout",
     "output_type": "stream",
     "text": [
      "<class 'pandas.core.frame.DataFrame'>\n",
      "RangeIndex: 20565 entries, 0 to 20564\n",
      "Data columns (total 7 columns):\n",
      " #   Column  Non-Null Count  Dtype  \n",
      "---  ------  --------------  -----  \n",
      " 0   법정동코드   20565 non-null  int64  \n",
      " 1   시도명     20565 non-null  object \n",
      " 2   시군구명    20395 non-null  object \n",
      " 3   읍면동명    20278 non-null  object \n",
      " 4   동리명     15212 non-null  object \n",
      " 5   생성일자    20565 non-null  int64  \n",
      " 6   말소일자    0 non-null      float64\n",
      "dtypes: float64(1), int64(2), object(4)\n",
      "memory usage: 1.1+ MB\n"
     ]
    }
   ],
   "source": [
    "df_addr.info()"
   ]
  },
  {
   "cell_type": "code",
   "execution_count": 121,
   "id": "30e7330c-3ed1-45be-a805-bae9ea3f4ebe",
   "metadata": {
    "execution": {
     "iopub.execute_input": "2024-04-22T12:06:06.122677Z",
     "iopub.status.busy": "2024-04-22T12:06:06.121601Z",
     "iopub.status.idle": "2024-04-22T12:06:06.136799Z",
     "shell.execute_reply": "2024-04-22T12:06:06.136258Z",
     "shell.execute_reply.started": "2024-04-22T12:06:06.122637Z"
    }
   },
   "outputs": [
    {
     "data": {
      "text/html": [
       "<div>\n",
       "<style scoped>\n",
       "    .dataframe tbody tr th:only-of-type {\n",
       "        vertical-align: middle;\n",
       "    }\n",
       "\n",
       "    .dataframe tbody tr th {\n",
       "        vertical-align: top;\n",
       "    }\n",
       "\n",
       "    .dataframe thead th {\n",
       "        text-align: right;\n",
       "    }\n",
       "</style>\n",
       "<table border=\"1\" class=\"dataframe\">\n",
       "  <thead>\n",
       "    <tr style=\"text-align: right;\">\n",
       "      <th></th>\n",
       "      <th>법정동코드</th>\n",
       "      <th>시도명</th>\n",
       "      <th>시군구명</th>\n",
       "      <th>읍면동명</th>\n",
       "      <th>동리명</th>\n",
       "      <th>생성일자</th>\n",
       "      <th>말소일자</th>\n",
       "    </tr>\n",
       "  </thead>\n",
       "  <tbody>\n",
       "    <tr>\n",
       "      <th>0</th>\n",
       "      <td>1100000000</td>\n",
       "      <td>서울특별시</td>\n",
       "      <td>NaN</td>\n",
       "      <td>NaN</td>\n",
       "      <td>NaN</td>\n",
       "      <td>19880423</td>\n",
       "      <td>NaN</td>\n",
       "    </tr>\n",
       "    <tr>\n",
       "      <th>1</th>\n",
       "      <td>1111000000</td>\n",
       "      <td>서울특별시</td>\n",
       "      <td>종로구</td>\n",
       "      <td>NaN</td>\n",
       "      <td>NaN</td>\n",
       "      <td>19880423</td>\n",
       "      <td>NaN</td>\n",
       "    </tr>\n",
       "    <tr>\n",
       "      <th>2</th>\n",
       "      <td>1111010100</td>\n",
       "      <td>서울특별시</td>\n",
       "      <td>종로구</td>\n",
       "      <td>청운동</td>\n",
       "      <td>NaN</td>\n",
       "      <td>19880423</td>\n",
       "      <td>NaN</td>\n",
       "    </tr>\n",
       "  </tbody>\n",
       "</table>\n",
       "</div>"
      ],
      "text/plain": [
       "        법정동코드    시도명 시군구명 읍면동명  동리명      생성일자  말소일자\n",
       "0  1100000000  서울특별시  NaN  NaN  NaN  19880423   NaN\n",
       "1  1111000000  서울특별시  종로구  NaN  NaN  19880423   NaN\n",
       "2  1111010100  서울특별시  종로구  청운동  NaN  19880423   NaN"
      ]
     },
     "execution_count": 121,
     "metadata": {},
     "output_type": "execute_result"
    }
   ],
   "source": [
    "df_addr.head(3)"
   ]
  },
  {
   "cell_type": "markdown",
   "id": "ce71de20-f809-4623-81e6-b46162b5b360",
   "metadata": {
    "jp-MarkdownHeadingCollapsed": true
   },
   "source": [
    "### Province"
   ]
  },
  {
   "cell_type": "code",
   "execution_count": 173,
   "id": "e16f8fee-894b-4929-bfea-410d3f42caa6",
   "metadata": {
    "execution": {
     "iopub.execute_input": "2024-04-22T13:10:24.326029Z",
     "iopub.status.busy": "2024-04-22T13:10:24.325024Z",
     "iopub.status.idle": "2024-04-22T13:10:24.398758Z",
     "shell.execute_reply": "2024-04-22T13:10:24.397883Z",
     "shell.execute_reply.started": "2024-04-22T13:10:24.326009Z"
    }
   },
   "outputs": [],
   "source": [
    "df_prov = df_addr[df_addr[\"시군구명\"].isna() == True]"
   ]
  },
  {
   "cell_type": "code",
   "execution_count": 174,
   "id": "a316c4d8-0688-4963-a717-ab18df012c43",
   "metadata": {
    "execution": {
     "iopub.execute_input": "2024-04-22T13:10:39.017890Z",
     "iopub.status.busy": "2024-04-22T13:10:39.016722Z",
     "iopub.status.idle": "2024-04-22T13:10:39.023549Z",
     "shell.execute_reply": "2024-04-22T13:10:39.022981Z",
     "shell.execute_reply.started": "2024-04-22T13:10:39.017842Z"
    }
   },
   "outputs": [],
   "source": [
    "prov_index = df_prov.index"
   ]
  },
  {
   "cell_type": "code",
   "execution_count": 175,
   "id": "e01ccd7d-f03f-4677-b40f-a50116e73a40",
   "metadata": {
    "execution": {
     "iopub.execute_input": "2024-04-22T13:10:43.171819Z",
     "iopub.status.busy": "2024-04-22T13:10:43.171039Z",
     "iopub.status.idle": "2024-04-22T13:10:43.176518Z",
     "shell.execute_reply": "2024-04-22T13:10:43.175856Z",
     "shell.execute_reply.started": "2024-04-22T13:10:43.171788Z"
    }
   },
   "outputs": [],
   "source": [
    "prov_set = set([])"
   ]
  },
  {
   "cell_type": "code",
   "execution_count": 176,
   "id": "3d99f9d8-6f83-43b2-b860-7a715f9088a5",
   "metadata": {
    "execution": {
     "iopub.execute_input": "2024-04-22T13:10:57.873242Z",
     "iopub.status.busy": "2024-04-22T13:10:57.872046Z",
     "iopub.status.idle": "2024-04-22T13:10:57.905994Z",
     "shell.execute_reply": "2024-04-22T13:10:57.905416Z",
     "shell.execute_reply.started": "2024-04-22T13:10:57.873196Z"
    },
    "scrolled": true
   },
   "outputs": [],
   "source": [
    "for index in prov_index:\n",
    "    # print(df_addr.iloc[index][\"시도명\"])\n",
    "    if df_addr.iloc[index][\"시도명\"] not in prov_set:\n",
    "        prov_set.add(df_addr.iloc[index][\"시도명\"])"
   ]
  },
  {
   "cell_type": "code",
   "execution_count": 177,
   "id": "a79f11a2-2d83-4928-8e96-7001bdcb6278",
   "metadata": {
    "collapsed": true,
    "execution": {
     "iopub.execute_input": "2024-04-22T13:11:02.878251Z",
     "iopub.status.busy": "2024-04-22T13:11:02.877697Z",
     "iopub.status.idle": "2024-04-22T13:11:02.886029Z",
     "shell.execute_reply": "2024-04-22T13:11:02.885304Z",
     "shell.execute_reply.started": "2024-04-22T13:11:02.878223Z"
    },
    "jupyter": {
     "outputs_hidden": true
    },
    "scrolled": true
   },
   "outputs": [
    {
     "data": {
      "text/plain": [
       "{'강원특별자치도',\n",
       " '경기도',\n",
       " '경상남도',\n",
       " '경상북도',\n",
       " '광주광역시',\n",
       " '대구광역시',\n",
       " '대전광역시',\n",
       " '동해출장소',\n",
       " '부산광역시',\n",
       " '북부출장소',\n",
       " '서울특별시',\n",
       " '세종특별자치시',\n",
       " '울산광역시',\n",
       " '인천광역시',\n",
       " '전라남도',\n",
       " '전북특별자치도',\n",
       " '제주특별자치도',\n",
       " '충청남도',\n",
       " '충청북도'}"
      ]
     },
     "execution_count": 177,
     "metadata": {},
     "output_type": "execute_result"
    }
   ],
   "source": [
    "prov_set"
   ]
  },
  {
   "cell_type": "code",
   "execution_count": 197,
   "id": "58e4e01a-f1e3-413d-94ca-c3f43e190a92",
   "metadata": {
    "execution": {
     "iopub.execute_input": "2024-04-22T13:22:24.720550Z",
     "iopub.status.busy": "2024-04-22T13:22:24.719553Z",
     "iopub.status.idle": "2024-04-22T13:22:24.731285Z",
     "shell.execute_reply": "2024-04-22T13:22:24.730422Z",
     "shell.execute_reply.started": "2024-04-22T13:22:24.720503Z"
    }
   },
   "outputs": [],
   "source": [
    "district = {}"
   ]
  },
  {
   "cell_type": "markdown",
   "id": "db84d1fd-08da-4189-a47a-e266a66148ba",
   "metadata": {
    "jp-MarkdownHeadingCollapsed": true
   },
   "source": [
    "### City"
   ]
  },
  {
   "cell_type": "code",
   "execution_count": 216,
   "id": "843e8332-3533-476c-8155-8674bfd7b5e3",
   "metadata": {
    "execution": {
     "iopub.execute_input": "2024-04-22T13:58:07.791535Z",
     "iopub.status.busy": "2024-04-22T13:58:07.790668Z",
     "iopub.status.idle": "2024-04-22T13:58:07.834382Z",
     "shell.execute_reply": "2024-04-22T13:58:07.834017Z",
     "shell.execute_reply.started": "2024-04-22T13:58:07.791509Z"
    }
   },
   "outputs": [],
   "source": [
    "for item in prov_set:\n",
    "    df_item = df_addr[df_addr[df_addr.columns[1]] == item]\n",
    "    df_item = df_item[df_item[df_addr.columns[3]].isna() == True]\n",
    "    df_item = df_item[df_item[df_addr.columns[2]].isna() == False]\n",
    "    district[item] = {\"list\" : list(df_item[df_addr.columns[2]].values)}"
   ]
  },
  {
   "cell_type": "code",
   "execution_count": 217,
   "id": "a7e8395f-5b16-439d-82ad-59220cfcd22f",
   "metadata": {
    "collapsed": true,
    "execution": {
     "iopub.execute_input": "2024-04-22T13:58:08.936748Z",
     "iopub.status.busy": "2024-04-22T13:58:08.936464Z",
     "iopub.status.idle": "2024-04-22T13:58:08.941504Z",
     "shell.execute_reply": "2024-04-22T13:58:08.941154Z",
     "shell.execute_reply.started": "2024-04-22T13:58:08.936737Z"
    },
    "jupyter": {
     "outputs_hidden": true
    },
    "scrolled": true
   },
   "outputs": [
    {
     "data": {
      "text/plain": [
       "{'충청남도': {'list': ['천안시',\n",
       "   '천안시 동남구',\n",
       "   '천안시 서북구',\n",
       "   '공주시',\n",
       "   '보령시',\n",
       "   '아산시',\n",
       "   '서산시',\n",
       "   '논산시',\n",
       "   '계룡시',\n",
       "   '당진시',\n",
       "   '금산군',\n",
       "   '부여군',\n",
       "   '서천군',\n",
       "   '청양군',\n",
       "   '홍성군',\n",
       "   '예산군',\n",
       "   '태안군']},\n",
       " '광주광역시': {'list': ['동구', '서구', '남구', '북구', '광산구']},\n",
       " '충청북도': {'list': ['청주시',\n",
       "   '청주시 상당구',\n",
       "   '청주시 서원구',\n",
       "   '청주시 흥덕구',\n",
       "   '청주시 청원구',\n",
       "   '충주시',\n",
       "   '제천시',\n",
       "   '보은군',\n",
       "   '옥천군',\n",
       "   '영동군',\n",
       "   '증평군',\n",
       "   '진천군',\n",
       "   '괴산군',\n",
       "   '음성군',\n",
       "   '단양군']},\n",
       " '제주특별자치도': {'list': ['제주시', '서귀포시']},\n",
       " '북부출장소': {'list': []},\n",
       " '경상남도': {'list': ['창원시',\n",
       "   '창원시 의창구',\n",
       "   '창원시 성산구',\n",
       "   '창원시 마산합포구',\n",
       "   '창원시 마산회원구',\n",
       "   '창원시 진해구',\n",
       "   '진주시',\n",
       "   '통영시',\n",
       "   '사천시',\n",
       "   '사천남양출장',\n",
       "   '김해시',\n",
       "   '밀양시',\n",
       "   '거제시',\n",
       "   '양산시',\n",
       "   '의령군',\n",
       "   '함안군',\n",
       "   '창녕군',\n",
       "   '고성군',\n",
       "   '남해군',\n",
       "   '하동군',\n",
       "   '산청군',\n",
       "   '함양군',\n",
       "   '거창군',\n",
       "   '합천군']},\n",
       " '전북특별자치도': {'list': ['전주시',\n",
       "   '전주시 완산구',\n",
       "   '전주시 덕진구',\n",
       "   '군산시',\n",
       "   '익산시',\n",
       "   '정읍시',\n",
       "   '남원시',\n",
       "   '김제시',\n",
       "   '완주군',\n",
       "   '진안군',\n",
       "   '무주군',\n",
       "   '장수군',\n",
       "   '임실군',\n",
       "   '순창군',\n",
       "   '고창군',\n",
       "   '부안군']},\n",
       " '인천광역시': {'list': ['중구',\n",
       "   '중구영종출장',\n",
       "   '중구용유출장',\n",
       "   '동구',\n",
       "   '미추홀구',\n",
       "   '연수구',\n",
       "   '남동구',\n",
       "   '부평구',\n",
       "   '계양구',\n",
       "   '서구',\n",
       "   '서구검단출장',\n",
       "   '강화군',\n",
       "   '옹진군']},\n",
       " '전라남도': {'list': ['목포시',\n",
       "   '여수시',\n",
       "   '순천시',\n",
       "   '나주시',\n",
       "   '광양시',\n",
       "   '담양군',\n",
       "   '곡성군',\n",
       "   '구례군',\n",
       "   '고흥군',\n",
       "   '보성군',\n",
       "   '화순군',\n",
       "   '장흥군',\n",
       "   '강진군',\n",
       "   '해남군',\n",
       "   '영암군',\n",
       "   '무안군',\n",
       "   '함평군',\n",
       "   '영광군',\n",
       "   '장성군',\n",
       "   '완도군',\n",
       "   '진도군',\n",
       "   '신안군']},\n",
       " '부산광역시': {'list': ['중구',\n",
       "   '서구',\n",
       "   '동구',\n",
       "   '영도구',\n",
       "   '부산진구',\n",
       "   '동래구',\n",
       "   '남구',\n",
       "   '북구',\n",
       "   '해운대구',\n",
       "   '사하구',\n",
       "   '금정구',\n",
       "   '강서구',\n",
       "   '연제구',\n",
       "   '수영구',\n",
       "   '사상구',\n",
       "   '기장군']},\n",
       " '경상북도': {'list': ['포항시',\n",
       "   '포항시 남구',\n",
       "   '포항시 북구',\n",
       "   '경주시',\n",
       "   '김천시',\n",
       "   '안동시',\n",
       "   '구미시',\n",
       "   '영주시',\n",
       "   '영천시',\n",
       "   '상주시',\n",
       "   '문경시',\n",
       "   '경산시',\n",
       "   '의성군',\n",
       "   '청송군',\n",
       "   '영양군',\n",
       "   '영덕군',\n",
       "   '청도군',\n",
       "   '고령군',\n",
       "   '성주군',\n",
       "   '칠곡군',\n",
       "   '예천군',\n",
       "   '봉화군',\n",
       "   '울진군',\n",
       "   '울릉군']},\n",
       " '강원특별자치도': {'list': ['춘천시',\n",
       "   '원주시',\n",
       "   '강릉시',\n",
       "   '동해시',\n",
       "   '태백시',\n",
       "   '속초시',\n",
       "   '삼척시',\n",
       "   '홍천군',\n",
       "   '횡성군',\n",
       "   '영월군',\n",
       "   '평창군',\n",
       "   '정선군',\n",
       "   '철원군',\n",
       "   '화천군',\n",
       "   '양구군',\n",
       "   '인제군',\n",
       "   '고성군',\n",
       "   '양양군']},\n",
       " '대구광역시': {'list': ['중구', '동구', '서구', '남구', '북구', '수성구', '달서구', '달성군', '군위군']},\n",
       " '울산광역시': {'list': ['중구', '남구', '동구', '북구', '울주군']},\n",
       " '대전광역시': {'list': ['동구', '중구', '서구', '유성구', '대덕구']},\n",
       " '동해출장소': {'list': []},\n",
       " '세종특별자치시': {'list': []},\n",
       " '경기도': {'list': ['수원시',\n",
       "   '수원시 장안구',\n",
       "   '수원시 권선구',\n",
       "   '수원시 팔달구',\n",
       "   '수원시 영통구',\n",
       "   '성남시',\n",
       "   '성남시 수정구',\n",
       "   '성남시 중원구',\n",
       "   '성남시 분당구',\n",
       "   '의정부시',\n",
       "   '안양시',\n",
       "   '안양시 만안구',\n",
       "   '안양시 동안구',\n",
       "   '부천시',\n",
       "   '부천시 원미구',\n",
       "   '부천시 소사구',\n",
       "   '부천시 오정구',\n",
       "   '광명시',\n",
       "   '평택시',\n",
       "   '동두천시',\n",
       "   '안산시',\n",
       "   '안산시 상록구',\n",
       "   '안산시 단원구',\n",
       "   '고양시',\n",
       "   '고양시 덕양구',\n",
       "   '고양시 일산동구',\n",
       "   '고양시 일산서구',\n",
       "   '과천시',\n",
       "   '구리시',\n",
       "   '남양주시',\n",
       "   '오산시',\n",
       "   '시흥시',\n",
       "   '군포시',\n",
       "   '의왕시',\n",
       "   '하남시',\n",
       "   '용인시',\n",
       "   '용인시 처인구',\n",
       "   '용인시 기흥구',\n",
       "   '용인시 수지구',\n",
       "   '파주시',\n",
       "   '이천시',\n",
       "   '안성시',\n",
       "   '김포시',\n",
       "   '화성시',\n",
       "   '광주시',\n",
       "   '양주시',\n",
       "   '포천시',\n",
       "   '여주시',\n",
       "   '연천군',\n",
       "   '가평군',\n",
       "   '양평군']},\n",
       " '서울특별시': {'list': ['종로구',\n",
       "   '중구',\n",
       "   '용산구',\n",
       "   '성동구',\n",
       "   '광진구',\n",
       "   '동대문구',\n",
       "   '중랑구',\n",
       "   '성북구',\n",
       "   '강북구',\n",
       "   '도봉구',\n",
       "   '노원구',\n",
       "   '은평구',\n",
       "   '서대문구',\n",
       "   '마포구',\n",
       "   '양천구',\n",
       "   '강서구',\n",
       "   '구로구',\n",
       "   '금천구',\n",
       "   '영등포구',\n",
       "   '동작구',\n",
       "   '관악구',\n",
       "   '서초구',\n",
       "   '강남구',\n",
       "   '송파구',\n",
       "   '강동구']}}"
      ]
     },
     "execution_count": 217,
     "metadata": {},
     "output_type": "execute_result"
    }
   ],
   "source": [
    "district"
   ]
  },
  {
   "cell_type": "markdown",
   "id": "aeb32f2f-e43d-420d-8deb-e2acb7a6ffa1",
   "metadata": {
    "jp-MarkdownHeadingCollapsed": true
   },
   "source": [
    "### Town"
   ]
  },
  {
   "cell_type": "code",
   "execution_count": 220,
   "id": "a86a342b-2a65-4196-af73-ef6f55477165",
   "metadata": {
    "collapsed": true,
    "execution": {
     "iopub.execute_input": "2024-04-22T14:02:24.377476Z",
     "iopub.status.busy": "2024-04-22T14:02:24.376394Z",
     "iopub.status.idle": "2024-04-22T14:02:24.397239Z",
     "shell.execute_reply": "2024-04-22T14:02:24.396849Z",
     "shell.execute_reply.started": "2024-04-22T14:02:24.377436Z"
    },
    "jupyter": {
     "outputs_hidden": true
    },
    "scrolled": true
   },
   "outputs": [
    {
     "data": {
      "text/html": [
       "<div>\n",
       "<style scoped>\n",
       "    .dataframe tbody tr th:only-of-type {\n",
       "        vertical-align: middle;\n",
       "    }\n",
       "\n",
       "    .dataframe tbody tr th {\n",
       "        vertical-align: top;\n",
       "    }\n",
       "\n",
       "    .dataframe thead th {\n",
       "        text-align: right;\n",
       "    }\n",
       "</style>\n",
       "<table border=\"1\" class=\"dataframe\">\n",
       "  <thead>\n",
       "    <tr style=\"text-align: right;\">\n",
       "      <th></th>\n",
       "      <th>법정동코드</th>\n",
       "      <th>시도명</th>\n",
       "      <th>시군구명</th>\n",
       "      <th>읍면동명</th>\n",
       "      <th>동리명</th>\n",
       "      <th>생성일자</th>\n",
       "      <th>말소일자</th>\n",
       "    </tr>\n",
       "  </thead>\n",
       "  <tbody>\n",
       "    <tr>\n",
       "      <th>6067</th>\n",
       "      <td>4413100000</td>\n",
       "      <td>충청남도</td>\n",
       "      <td>천안시 동남구</td>\n",
       "      <td>NaN</td>\n",
       "      <td>NaN</td>\n",
       "      <td>20080623</td>\n",
       "      <td>NaN</td>\n",
       "    </tr>\n",
       "    <tr>\n",
       "      <th>6068</th>\n",
       "      <td>4413110100</td>\n",
       "      <td>충청남도</td>\n",
       "      <td>천안시 동남구</td>\n",
       "      <td>대흥동</td>\n",
       "      <td>NaN</td>\n",
       "      <td>20080623</td>\n",
       "      <td>NaN</td>\n",
       "    </tr>\n",
       "    <tr>\n",
       "      <th>6069</th>\n",
       "      <td>4413110200</td>\n",
       "      <td>충청남도</td>\n",
       "      <td>천안시 동남구</td>\n",
       "      <td>성황동</td>\n",
       "      <td>NaN</td>\n",
       "      <td>20080623</td>\n",
       "      <td>NaN</td>\n",
       "    </tr>\n",
       "    <tr>\n",
       "      <th>6070</th>\n",
       "      <td>4413110300</td>\n",
       "      <td>충청남도</td>\n",
       "      <td>천안시 동남구</td>\n",
       "      <td>문화동</td>\n",
       "      <td>NaN</td>\n",
       "      <td>20080623</td>\n",
       "      <td>NaN</td>\n",
       "    </tr>\n",
       "    <tr>\n",
       "      <th>6071</th>\n",
       "      <td>4413110400</td>\n",
       "      <td>충청남도</td>\n",
       "      <td>천안시 동남구</td>\n",
       "      <td>사직동</td>\n",
       "      <td>NaN</td>\n",
       "      <td>20080623</td>\n",
       "      <td>NaN</td>\n",
       "    </tr>\n",
       "    <tr>\n",
       "      <th>...</th>\n",
       "      <td>...</td>\n",
       "      <td>...</td>\n",
       "      <td>...</td>\n",
       "      <td>...</td>\n",
       "      <td>...</td>\n",
       "      <td>...</td>\n",
       "      <td>...</td>\n",
       "    </tr>\n",
       "    <tr>\n",
       "      <th>6176</th>\n",
       "      <td>4413137027</td>\n",
       "      <td>충청남도</td>\n",
       "      <td>천안시 동남구</td>\n",
       "      <td>동면</td>\n",
       "      <td>덕성리</td>\n",
       "      <td>20080623</td>\n",
       "      <td>NaN</td>\n",
       "    </tr>\n",
       "    <tr>\n",
       "      <th>6177</th>\n",
       "      <td>4413137028</td>\n",
       "      <td>충청남도</td>\n",
       "      <td>천안시 동남구</td>\n",
       "      <td>동면</td>\n",
       "      <td>죽계리</td>\n",
       "      <td>20080623</td>\n",
       "      <td>NaN</td>\n",
       "    </tr>\n",
       "    <tr>\n",
       "      <th>6178</th>\n",
       "      <td>4413137029</td>\n",
       "      <td>충청남도</td>\n",
       "      <td>천안시 동남구</td>\n",
       "      <td>동면</td>\n",
       "      <td>장송리</td>\n",
       "      <td>20080623</td>\n",
       "      <td>NaN</td>\n",
       "    </tr>\n",
       "    <tr>\n",
       "      <th>6179</th>\n",
       "      <td>4413137030</td>\n",
       "      <td>충청남도</td>\n",
       "      <td>천안시 동남구</td>\n",
       "      <td>동면</td>\n",
       "      <td>수남리</td>\n",
       "      <td>20080623</td>\n",
       "      <td>NaN</td>\n",
       "    </tr>\n",
       "    <tr>\n",
       "      <th>6180</th>\n",
       "      <td>4413137031</td>\n",
       "      <td>충청남도</td>\n",
       "      <td>천안시 동남구</td>\n",
       "      <td>동면</td>\n",
       "      <td>화덕리</td>\n",
       "      <td>20080623</td>\n",
       "      <td>NaN</td>\n",
       "    </tr>\n",
       "  </tbody>\n",
       "</table>\n",
       "<p>114 rows × 7 columns</p>\n",
       "</div>"
      ],
      "text/plain": [
       "           법정동코드   시도명     시군구명 읍면동명  동리명      생성일자  말소일자\n",
       "6067  4413100000  충청남도  천안시 동남구  NaN  NaN  20080623   NaN\n",
       "6068  4413110100  충청남도  천안시 동남구  대흥동  NaN  20080623   NaN\n",
       "6069  4413110200  충청남도  천안시 동남구  성황동  NaN  20080623   NaN\n",
       "6070  4413110300  충청남도  천안시 동남구  문화동  NaN  20080623   NaN\n",
       "6071  4413110400  충청남도  천안시 동남구  사직동  NaN  20080623   NaN\n",
       "...          ...   ...      ...  ...  ...       ...   ...\n",
       "6176  4413137027  충청남도  천안시 동남구   동면  덕성리  20080623   NaN\n",
       "6177  4413137028  충청남도  천안시 동남구   동면  죽계리  20080623   NaN\n",
       "6178  4413137029  충청남도  천안시 동남구   동면  장송리  20080623   NaN\n",
       "6179  4413137030  충청남도  천안시 동남구   동면  수남리  20080623   NaN\n",
       "6180  4413137031  충청남도  천안시 동남구   동면  화덕리  20080623   NaN\n",
       "\n",
       "[114 rows x 7 columns]"
      ]
     },
     "execution_count": 220,
     "metadata": {},
     "output_type": "execute_result"
    }
   ],
   "source": [
    "city = district[\"충청남도\"][\"list\"][1]\n",
    "df_addr[df_addr[df_addr.columns[2]] == city]"
   ]
  },
  {
   "cell_type": "code",
   "execution_count": 182,
   "id": "04f542a0-8ba9-4fd6-afab-a2aa2aa3181b",
   "metadata": {
    "execution": {
     "iopub.execute_input": "2024-04-22T13:13:47.551868Z",
     "iopub.status.busy": "2024-04-22T13:13:47.551634Z",
     "iopub.status.idle": "2024-04-22T13:13:47.554763Z",
     "shell.execute_reply": "2024-04-22T13:13:47.554383Z",
     "shell.execute_reply.started": "2024-04-22T13:13:47.551852Z"
    }
   },
   "outputs": [
    {
     "data": {
      "text/plain": [
       "'시도명'"
      ]
     },
     "execution_count": 182,
     "metadata": {},
     "output_type": "execute_result"
    }
   ],
   "source": [
    "df_addr.columns[1]"
   ]
  },
  {
   "cell_type": "code",
   "execution_count": 193,
   "id": "83f6fa16-16df-47c1-a17f-5020dedee674",
   "metadata": {
    "execution": {
     "iopub.execute_input": "2024-04-22T13:19:23.833897Z",
     "iopub.status.busy": "2024-04-22T13:19:23.832975Z",
     "iopub.status.idle": "2024-04-22T13:19:23.847525Z",
     "shell.execute_reply": "2024-04-22T13:19:23.846674Z",
     "shell.execute_reply.started": "2024-04-22T13:19:23.833862Z"
    }
   },
   "outputs": [],
   "source": [
    "df_city = df_addr[df_addr[\"시도명\"] == \"전라남도\"]"
   ]
  },
  {
   "cell_type": "code",
   "execution_count": 194,
   "id": "b9c43ad5-9ec8-4d7a-a7d1-67a363fc4f47",
   "metadata": {
    "execution": {
     "iopub.execute_input": "2024-04-22T13:19:57.174426Z",
     "iopub.status.busy": "2024-04-22T13:19:57.172160Z",
     "iopub.status.idle": "2024-04-22T13:19:57.198835Z",
     "shell.execute_reply": "2024-04-22T13:19:57.197500Z",
     "shell.execute_reply.started": "2024-04-22T13:19:57.174370Z"
    },
    "scrolled": true
   },
   "outputs": [],
   "source": [
    "df_city = df_city[df_city[\"읍면동명\"].isna() == True]"
   ]
  },
  {
   "cell_type": "code",
   "execution_count": 213,
   "id": "4d379418-6ed1-47f8-8685-8d87f675ea1d",
   "metadata": {
    "collapsed": true,
    "execution": {
     "iopub.execute_input": "2024-04-22T13:53:25.079760Z",
     "iopub.status.busy": "2024-04-22T13:53:25.078617Z",
     "iopub.status.idle": "2024-04-22T13:53:25.093950Z",
     "shell.execute_reply": "2024-04-22T13:53:25.093402Z",
     "shell.execute_reply.started": "2024-04-22T13:53:25.079728Z"
    },
    "jupyter": {
     "outputs_hidden": true
    },
    "scrolled": true
   },
   "outputs": [
    {
     "data": {
      "text/plain": [
       "[nan,\n",
       " '목포시',\n",
       " '여수시',\n",
       " '순천시',\n",
       " '나주시',\n",
       " '광양시',\n",
       " '담양군',\n",
       " '곡성군',\n",
       " '구례군',\n",
       " '고흥군',\n",
       " '보성군',\n",
       " '화순군',\n",
       " '장흥군',\n",
       " '강진군',\n",
       " '해남군',\n",
       " '영암군',\n",
       " '무안군',\n",
       " '함평군',\n",
       " '영광군',\n",
       " '장성군',\n",
       " '완도군',\n",
       " '진도군',\n",
       " '신안군']"
      ]
     },
     "execution_count": 213,
     "metadata": {},
     "output_type": "execute_result"
    }
   ],
   "source": [
    "list(df_city[df_city.columns[2]].values)"
   ]
  },
  {
   "cell_type": "code",
   "execution_count": 224,
   "id": "2234eba2-0c21-42f2-b3a7-bd627dde8bc0",
   "metadata": {
    "execution": {
     "iopub.execute_input": "2024-04-22T14:09:47.054081Z",
     "iopub.status.busy": "2024-04-22T14:09:47.052731Z",
     "iopub.status.idle": "2024-04-22T14:09:47.380662Z",
     "shell.execute_reply": "2024-04-22T14:09:47.380308Z",
     "shell.execute_reply.started": "2024-04-22T14:09:47.054020Z"
    }
   },
   "outputs": [],
   "source": [
    "for prov in prov_set:\n",
    "    for city in district[prov][\"list\"]:\n",
    "        df_item = df_addr[df_addr[df_addr.columns[2]] == city]\n",
    "        df_item = df_item[df_item[df_addr.columns[4]].isna() == True]\n",
    "        df_item = df_item[df_item[df_addr.columns[3]].isna() == False]\n",
    "        district[prov][city] = {\"list\": list(df_item[df_addr.columns[3]].values)}"
   ]
  },
  {
   "cell_type": "code",
   "execution_count": 225,
   "id": "dce8731f-b5eb-427d-80f8-eefdf182176b",
   "metadata": {
    "collapsed": true,
    "execution": {
     "iopub.execute_input": "2024-04-22T14:09:48.664835Z",
     "iopub.status.busy": "2024-04-22T14:09:48.664656Z",
     "iopub.status.idle": "2024-04-22T14:09:48.668203Z",
     "shell.execute_reply": "2024-04-22T14:09:48.667811Z",
     "shell.execute_reply.started": "2024-04-22T14:09:48.664822Z"
    },
    "jupyter": {
     "outputs_hidden": true
    },
    "scrolled": true
   },
   "outputs": [
    {
     "data": {
      "text/plain": [
       "{'list': ['대흥동',\n",
       "  '성황동',\n",
       "  '문화동',\n",
       "  '사직동',\n",
       "  '영성동',\n",
       "  '오룡동',\n",
       "  '원성동',\n",
       "  '구성동',\n",
       "  '청수동',\n",
       "  '삼룡동',\n",
       "  '청당동',\n",
       "  '유량동',\n",
       "  '봉명동',\n",
       "  '다가동',\n",
       "  '용곡동',\n",
       "  '신방동',\n",
       "  '쌍용동',\n",
       "  '신부동',\n",
       "  '안서동',\n",
       "  '구룡동',\n",
       "  '목천읍',\n",
       "  '풍세면',\n",
       "  '광덕면',\n",
       "  '북면',\n",
       "  '성남면',\n",
       "  '수신면',\n",
       "  '병천면',\n",
       "  '동면']}"
      ]
     },
     "execution_count": 225,
     "metadata": {},
     "output_type": "execute_result"
    }
   ],
   "source": [
    "district[\"충청남도\"][\"천안시 동남구\"]"
   ]
  },
  {
   "cell_type": "markdown",
   "id": "f56b76ad-e17c-43ab-99ec-9bf6247cbd19",
   "metadata": {
    "jp-MarkdownHeadingCollapsed": true
   },
   "source": [
    "### Village"
   ]
  },
  {
   "cell_type": "code",
   "execution_count": 228,
   "id": "6aa41502-22c2-4c33-9faf-773cf425d518",
   "metadata": {
    "execution": {
     "iopub.execute_input": "2024-04-22T14:24:53.260928Z",
     "iopub.status.busy": "2024-04-22T14:24:53.259945Z",
     "iopub.status.idle": "2024-04-22T14:24:53.302743Z",
     "shell.execute_reply": "2024-04-22T14:24:53.302341Z",
     "shell.execute_reply.started": "2024-04-22T14:24:53.260886Z"
    }
   },
   "outputs": [
    {
     "data": {
      "text/html": [
       "<div>\n",
       "<style scoped>\n",
       "    .dataframe tbody tr th:only-of-type {\n",
       "        vertical-align: middle;\n",
       "    }\n",
       "\n",
       "    .dataframe tbody tr th {\n",
       "        vertical-align: top;\n",
       "    }\n",
       "\n",
       "    .dataframe thead th {\n",
       "        text-align: right;\n",
       "    }\n",
       "</style>\n",
       "<table border=\"1\" class=\"dataframe\">\n",
       "  <thead>\n",
       "    <tr style=\"text-align: right;\">\n",
       "      <th></th>\n",
       "      <th>법정동코드</th>\n",
       "      <th>시도명</th>\n",
       "      <th>시군구명</th>\n",
       "      <th>읍면동명</th>\n",
       "      <th>동리명</th>\n",
       "      <th>생성일자</th>\n",
       "      <th>말소일자</th>\n",
       "    </tr>\n",
       "  </thead>\n",
       "  <tbody>\n",
       "    <tr>\n",
       "      <th>6069</th>\n",
       "      <td>4413110200</td>\n",
       "      <td>충청남도</td>\n",
       "      <td>천안시 동남구</td>\n",
       "      <td>성황동</td>\n",
       "      <td>NaN</td>\n",
       "      <td>20080623</td>\n",
       "      <td>NaN</td>\n",
       "    </tr>\n",
       "    <tr>\n",
       "      <th>8942</th>\n",
       "      <td>4623010400</td>\n",
       "      <td>전라남도</td>\n",
       "      <td>광양시</td>\n",
       "      <td>성황동</td>\n",
       "      <td>NaN</td>\n",
       "      <td>19981125</td>\n",
       "      <td>NaN</td>\n",
       "    </tr>\n",
       "  </tbody>\n",
       "</table>\n",
       "</div>"
      ],
      "text/plain": [
       "           법정동코드   시도명     시군구명 읍면동명  동리명      생성일자  말소일자\n",
       "6069  4413110200  충청남도  천안시 동남구  성황동  NaN  20080623   NaN\n",
       "8942  4623010400  전라남도      광양시  성황동  NaN  19981125   NaN"
      ]
     },
     "execution_count": 228,
     "metadata": {},
     "output_type": "execute_result"
    }
   ],
   "source": [
    "vill = district[\"충청남도\"][\"천안시 동남구\"][\"list\"][1]\n",
    "df_addr[df_addr[df_addr.columns[3]] == vill]"
   ]
  },
  {
   "cell_type": "code",
   "execution_count": 229,
   "id": "9de18cfb-9875-47d8-868d-6c0fef591de7",
   "metadata": {
    "execution": {
     "iopub.execute_input": "2024-04-22T14:28:03.672277Z",
     "iopub.status.busy": "2024-04-22T14:28:03.671001Z",
     "iopub.status.idle": "2024-04-22T14:28:09.448568Z",
     "shell.execute_reply": "2024-04-22T14:28:09.448206Z",
     "shell.execute_reply.started": "2024-04-22T14:28:03.672237Z"
    }
   },
   "outputs": [],
   "source": [
    "for prov in prov_set:\n",
    "    for city in district[prov][\"list\"]:\n",
    "        for vill in district[prov][city][\"list\"]:\n",
    "            df_item = df_addr[df_addr[df_addr.columns[3]] == vill]\n",
    "            df_item = df_item[df_item[df_addr.columns[4]].isna() == False]\n",
    "            district[prov][city][vill] = {\"list\": list(df_item[df_addr.columns[4]].values)}"
   ]
  },
  {
   "cell_type": "code",
   "execution_count": 230,
   "id": "e26904d2-2f90-4971-937f-4e6c8a2ddbfe",
   "metadata": {
    "execution": {
     "iopub.execute_input": "2024-04-22T14:29:26.568500Z",
     "iopub.status.busy": "2024-04-22T14:29:26.567314Z",
     "iopub.status.idle": "2024-04-22T14:29:26.615515Z",
     "shell.execute_reply": "2024-04-22T14:29:26.615215Z",
     "shell.execute_reply.started": "2024-04-22T14:29:26.568455Z"
    }
   },
   "outputs": [
    {
     "data": {
      "text/html": [
       "<div>\n",
       "<style scoped>\n",
       "    .dataframe tbody tr th:only-of-type {\n",
       "        vertical-align: middle;\n",
       "    }\n",
       "\n",
       "    .dataframe tbody tr th {\n",
       "        vertical-align: top;\n",
       "    }\n",
       "\n",
       "    .dataframe thead th {\n",
       "        text-align: right;\n",
       "    }\n",
       "</style>\n",
       "<table border=\"1\" class=\"dataframe\">\n",
       "  <thead>\n",
       "    <tr style=\"text-align: right;\">\n",
       "      <th></th>\n",
       "      <th>법정동코드</th>\n",
       "      <th>시도명</th>\n",
       "      <th>시군구명</th>\n",
       "      <th>읍면동명</th>\n",
       "      <th>동리명</th>\n",
       "      <th>생성일자</th>\n",
       "      <th>말소일자</th>\n",
       "    </tr>\n",
       "  </thead>\n",
       "  <tbody>\n",
       "    <tr>\n",
       "      <th>698</th>\n",
       "      <td>2671025021</td>\n",
       "      <td>부산광역시</td>\n",
       "      <td>기장군</td>\n",
       "      <td>기장읍</td>\n",
       "      <td>동부리</td>\n",
       "      <td>19950301</td>\n",
       "      <td>NaN</td>\n",
       "    </tr>\n",
       "    <tr>\n",
       "      <th>699</th>\n",
       "      <td>2671025022</td>\n",
       "      <td>부산광역시</td>\n",
       "      <td>기장군</td>\n",
       "      <td>기장읍</td>\n",
       "      <td>교리</td>\n",
       "      <td>19950301</td>\n",
       "      <td>NaN</td>\n",
       "    </tr>\n",
       "    <tr>\n",
       "      <th>700</th>\n",
       "      <td>2671025023</td>\n",
       "      <td>부산광역시</td>\n",
       "      <td>기장군</td>\n",
       "      <td>기장읍</td>\n",
       "      <td>신천리</td>\n",
       "      <td>19950301</td>\n",
       "      <td>NaN</td>\n",
       "    </tr>\n",
       "  </tbody>\n",
       "</table>\n",
       "</div>"
      ],
      "text/plain": [
       "          법정동코드    시도명 시군구명 읍면동명  동리명      생성일자  말소일자\n",
       "698  2671025021  부산광역시  기장군  기장읍  동부리  19950301   NaN\n",
       "699  2671025022  부산광역시  기장군  기장읍   교리  19950301   NaN\n",
       "700  2671025023  부산광역시  기장군  기장읍  신천리  19950301   NaN"
      ]
     },
     "execution_count": 230,
     "metadata": {},
     "output_type": "execute_result"
    }
   ],
   "source": [
    "df_addr[df_addr[df_addr.columns[4]].isna() == False].head(3)"
   ]
  },
  {
   "cell_type": "code",
   "execution_count": 231,
   "id": "f6e632b9-f676-48b8-8e0d-74098089faf2",
   "metadata": {
    "execution": {
     "iopub.execute_input": "2024-04-22T14:29:53.581058Z",
     "iopub.status.busy": "2024-04-22T14:29:53.579799Z",
     "iopub.status.idle": "2024-04-22T14:29:53.589612Z",
     "shell.execute_reply": "2024-04-22T14:29:53.588702Z",
     "shell.execute_reply.started": "2024-04-22T14:29:53.581016Z"
    },
    "scrolled": true
   },
   "outputs": [
    {
     "data": {
      "text/plain": [
       "{'list': ['동부리',\n",
       "  '교리',\n",
       "  '신천리',\n",
       "  '죽성리',\n",
       "  '서부리',\n",
       "  '대라리',\n",
       "  '청강리',\n",
       "  '대변리',\n",
       "  '연화리',\n",
       "  '만화리',\n",
       "  '석산리',\n",
       "  '당사리',\n",
       "  '시랑리',\n",
       "  '내리']}"
      ]
     },
     "execution_count": 231,
     "metadata": {},
     "output_type": "execute_result"
    }
   ],
   "source": [
    "district[\"부산광역시\"][\"기장군\"][\"기장읍\"]"
   ]
  },
  {
   "cell_type": "markdown",
   "id": "6c8557d5-bdcf-4b09-a708-27696959ba53",
   "metadata": {
    "jp-MarkdownHeadingCollapsed": true
   },
   "source": [
    "### Save"
   ]
  },
  {
   "cell_type": "code",
   "execution_count": 232,
   "id": "22549f8f-901d-462d-acd6-48f98726e92e",
   "metadata": {
    "execution": {
     "iopub.execute_input": "2024-04-22T14:30:39.268617Z",
     "iopub.status.busy": "2024-04-22T14:30:39.266321Z",
     "iopub.status.idle": "2024-04-22T14:30:39.387471Z",
     "shell.execute_reply": "2024-04-22T14:30:39.387157Z",
     "shell.execute_reply.started": "2024-04-22T14:30:39.268578Z"
    }
   },
   "outputs": [],
   "source": [
    "save_var(district, \"district\")"
   ]
  },
  {
   "cell_type": "code",
   "execution_count": 3,
   "id": "c965e74f-bd18-409d-be97-b7a8439c6aab",
   "metadata": {
    "execution": {
     "iopub.execute_input": "2024-05-13T03:30:12.820114Z",
     "iopub.status.busy": "2024-05-13T03:30:12.819206Z",
     "iopub.status.idle": "2024-05-13T03:30:12.872609Z",
     "shell.execute_reply": "2024-05-13T03:30:12.872168Z",
     "shell.execute_reply.started": "2024-05-13T03:30:12.820096Z"
    }
   },
   "outputs": [],
   "source": [
    "district = load_var(\"district\")"
   ]
  },
  {
   "cell_type": "markdown",
   "id": "8db124b8-7a85-48a5-bc0b-b34d73966174",
   "metadata": {},
   "source": [
    "#### import dataframe"
   ]
  },
  {
   "cell_type": "code",
   "execution_count": 4,
   "id": "b9bf3381-e14d-4ffd-ba92-ac19f8f18589",
   "metadata": {
    "execution": {
     "iopub.execute_input": "2024-05-13T03:30:14.503335Z",
     "iopub.status.busy": "2024-05-13T03:30:14.503136Z",
     "iopub.status.idle": "2024-05-13T03:30:14.513963Z",
     "shell.execute_reply": "2024-05-13T03:30:14.513133Z",
     "shell.execute_reply.started": "2024-05-13T03:30:14.503319Z"
    }
   },
   "outputs": [],
   "source": [
    "df_dstr = pd.DataFrame.from_dict(district, orient='index')"
   ]
  },
  {
   "cell_type": "markdown",
   "id": "e217fce6-7759-4960-b7f3-cdee8085e574",
   "metadata": {},
   "source": [
    "#### inspection"
   ]
  },
  {
   "cell_type": "code",
   "execution_count": 93,
   "id": "5abfb7a6-2ecf-44d7-a4bf-d663853e6bdc",
   "metadata": {
    "execution": {
     "iopub.execute_input": "2024-05-13T01:40:33.320681Z",
     "iopub.status.busy": "2024-05-13T01:40:33.319415Z",
     "iopub.status.idle": "2024-05-13T01:40:33.393304Z",
     "shell.execute_reply": "2024-05-13T01:40:33.391877Z",
     "shell.execute_reply.started": "2024-05-13T01:40:33.320657Z"
    }
   },
   "outputs": [
    {
     "name": "stdout",
     "output_type": "stream",
     "text": [
      "<class 'pandas.core.frame.DataFrame'>\n",
      "Index: 19 entries, 충청남도 to 서울특별시\n",
      "Columns: 246 entries, list to 강동구\n",
      "dtypes: object(246)\n",
      "memory usage: 36.7+ KB\n"
     ]
    }
   ],
   "source": [
    "df_dstr.info()"
   ]
  },
  {
   "cell_type": "code",
   "execution_count": 94,
   "id": "1d9b5109-97a9-49d0-9102-7dd1da9d9ecd",
   "metadata": {
    "execution": {
     "iopub.execute_input": "2024-05-13T01:40:35.374585Z",
     "iopub.status.busy": "2024-05-13T01:40:35.373489Z",
     "iopub.status.idle": "2024-05-13T01:40:35.511739Z",
     "shell.execute_reply": "2024-05-13T01:40:35.511382Z",
     "shell.execute_reply.started": "2024-05-13T01:40:35.374539Z"
    }
   },
   "outputs": [
    {
     "data": {
      "text/html": [
       "<div>\n",
       "<style scoped>\n",
       "    .dataframe tbody tr th:only-of-type {\n",
       "        vertical-align: middle;\n",
       "    }\n",
       "\n",
       "    .dataframe tbody tr th {\n",
       "        vertical-align: top;\n",
       "    }\n",
       "\n",
       "    .dataframe thead th {\n",
       "        text-align: right;\n",
       "    }\n",
       "</style>\n",
       "<table border=\"1\" class=\"dataframe\">\n",
       "  <thead>\n",
       "    <tr style=\"text-align: right;\">\n",
       "      <th></th>\n",
       "      <th>list</th>\n",
       "      <th>천안시</th>\n",
       "      <th>천안시 동남구</th>\n",
       "      <th>천안시 서북구</th>\n",
       "      <th>공주시</th>\n",
       "      <th>보령시</th>\n",
       "      <th>아산시</th>\n",
       "      <th>서산시</th>\n",
       "      <th>논산시</th>\n",
       "      <th>계룡시</th>\n",
       "      <th>...</th>\n",
       "      <th>양천구</th>\n",
       "      <th>구로구</th>\n",
       "      <th>금천구</th>\n",
       "      <th>영등포구</th>\n",
       "      <th>동작구</th>\n",
       "      <th>관악구</th>\n",
       "      <th>서초구</th>\n",
       "      <th>강남구</th>\n",
       "      <th>송파구</th>\n",
       "      <th>강동구</th>\n",
       "    </tr>\n",
       "  </thead>\n",
       "  <tbody>\n",
       "    <tr>\n",
       "      <th>서울특별시</th>\n",
       "      <td>[종로구, 중구, 용산구, 성동구, 광진구, 동대문구, 중랑구, 성북구, 강북구, ...</td>\n",
       "      <td>NaN</td>\n",
       "      <td>NaN</td>\n",
       "      <td>NaN</td>\n",
       "      <td>NaN</td>\n",
       "      <td>NaN</td>\n",
       "      <td>NaN</td>\n",
       "      <td>NaN</td>\n",
       "      <td>NaN</td>\n",
       "      <td>NaN</td>\n",
       "      <td>...</td>\n",
       "      <td>{'list': ['신정동', '목동', '신월동'], '신정동': {'list':...</td>\n",
       "      <td>{'list': ['신도림동', '구로동', '가리봉동', '고척동', '개봉동',...</td>\n",
       "      <td>{'list': ['가산동', '독산동', '시흥동'], '가산동': {'list'...</td>\n",
       "      <td>{'list': ['영등포동', '영등포동1가', '영등포동2가', '영등포동3가'...</td>\n",
       "      <td>{'list': ['노량진동', '상도동', '상도1동', '본동', '흑석동', ...</td>\n",
       "      <td>{'list': ['봉천동', '신림동', '남현동'], '봉천동': {'list'...</td>\n",
       "      <td>{'list': ['방배동', '양재동', '우면동', '원지동', '잠원동', '...</td>\n",
       "      <td>{'list': ['역삼동', '개포동', '청담동', '삼성동', '대치동', '...</td>\n",
       "      <td>{'list': ['잠실동', '신천동', '풍납동', '송파동', '석촌동', '...</td>\n",
       "      <td>{'list': ['명일동', '고덕동', '상일동', '길동', '둔촌동', '암...</td>\n",
       "    </tr>\n",
       "  </tbody>\n",
       "</table>\n",
       "<p>1 rows × 246 columns</p>\n",
       "</div>"
      ],
      "text/plain": [
       "                                                    list  천안시 천안시 동남구 천안시 서북구  \\\n",
       "서울특별시  [종로구, 중구, 용산구, 성동구, 광진구, 동대문구, 중랑구, 성북구, 강북구, ...  NaN     NaN     NaN   \n",
       "\n",
       "       공주시  보령시  아산시  서산시  논산시  계룡시  ...  \\\n",
       "서울특별시  NaN  NaN  NaN  NaN  NaN  NaN  ...   \n",
       "\n",
       "                                                     양천구  \\\n",
       "서울특별시  {'list': ['신정동', '목동', '신월동'], '신정동': {'list':...   \n",
       "\n",
       "                                                     구로구  \\\n",
       "서울특별시  {'list': ['신도림동', '구로동', '가리봉동', '고척동', '개봉동',...   \n",
       "\n",
       "                                                     금천구  \\\n",
       "서울특별시  {'list': ['가산동', '독산동', '시흥동'], '가산동': {'list'...   \n",
       "\n",
       "                                                    영등포구  \\\n",
       "서울특별시  {'list': ['영등포동', '영등포동1가', '영등포동2가', '영등포동3가'...   \n",
       "\n",
       "                                                     동작구  \\\n",
       "서울특별시  {'list': ['노량진동', '상도동', '상도1동', '본동', '흑석동', ...   \n",
       "\n",
       "                                                     관악구  \\\n",
       "서울특별시  {'list': ['봉천동', '신림동', '남현동'], '봉천동': {'list'...   \n",
       "\n",
       "                                                     서초구  \\\n",
       "서울특별시  {'list': ['방배동', '양재동', '우면동', '원지동', '잠원동', '...   \n",
       "\n",
       "                                                     강남구  \\\n",
       "서울특별시  {'list': ['역삼동', '개포동', '청담동', '삼성동', '대치동', '...   \n",
       "\n",
       "                                                     송파구  \\\n",
       "서울특별시  {'list': ['잠실동', '신천동', '풍납동', '송파동', '석촌동', '...   \n",
       "\n",
       "                                                     강동구  \n",
       "서울특별시  {'list': ['명일동', '고덕동', '상일동', '길동', '둔촌동', '암...  \n",
       "\n",
       "[1 rows x 246 columns]"
      ]
     },
     "execution_count": 94,
     "metadata": {},
     "output_type": "execute_result"
    }
   ],
   "source": [
    "df_dstr.tail(1)"
   ]
  },
  {
   "cell_type": "code",
   "execution_count": 81,
   "id": "f6f2506b-a773-4f6c-8803-702f05e1233b",
   "metadata": {
    "execution": {
     "iopub.execute_input": "2024-05-12T03:37:12.937976Z",
     "iopub.status.busy": "2024-05-12T03:37:12.936523Z",
     "iopub.status.idle": "2024-05-12T03:37:12.953365Z",
     "shell.execute_reply": "2024-05-12T03:37:12.952709Z",
     "shell.execute_reply.started": "2024-05-12T03:37:12.937923Z"
    }
   },
   "outputs": [
    {
     "name": "stdout",
     "output_type": "stream",
     "text": [
      "<class 'pandas.core.series.Series'>\n",
      "Index: 246 entries, list to 강동구\n",
      "Series name: 충청북도\n",
      "Non-Null Count  Dtype \n",
      "--------------  ----- \n",
      "16 non-null     object\n",
      "dtypes: object(1)\n",
      "memory usage: 11.9+ KB\n",
      "None\n",
      "['청주시', '청주시 상당구', '청주시 서원구', '청주시 흥덕구', '청주시 청원구', '충주시', '제천시', '보은군', '옥천군', '영동군', '증평군', '진천군', '괴산군', '음성군', '단양군']\n"
     ]
    }
   ],
   "source": [
    "print(df_dstr.iloc[2].info())\n",
    "print(df_dstr.iloc[2]['list'])"
   ]
  },
  {
   "cell_type": "code",
   "execution_count": 110,
   "id": "08d904c4-32cd-4626-8cbd-6f68f5ff4628",
   "metadata": {
    "execution": {
     "iopub.execute_input": "2024-05-12T03:59:58.298636Z",
     "iopub.status.busy": "2024-05-12T03:59:58.297945Z",
     "iopub.status.idle": "2024-05-12T03:59:58.307670Z",
     "shell.execute_reply": "2024-05-12T03:59:58.307193Z",
     "shell.execute_reply.started": "2024-05-12T03:59:58.298611Z"
    },
    "scrolled": true
   },
   "outputs": [
    {
     "data": {
      "text/plain": [
       "{'list': ['단양읍', '매포읍', '대강면', '가곡면', '영춘면', '어상천면', '적성면', '단성면'],\n",
       " '단양읍': {'list': ['현천리',\n",
       "   '덕상리',\n",
       "   '심곡리',\n",
       "   '증도리',\n",
       "   '별곡리',\n",
       "   '도전리',\n",
       "   '상진리',\n",
       "   '도담리',\n",
       "   '후곡리',\n",
       "   '장현리',\n",
       "   '노동리',\n",
       "   '마조리',\n",
       "   '수촌리',\n",
       "   '천동리',\n",
       "   '금곡리',\n",
       "   '기촌리',\n",
       "   '고수리']},\n",
       " '매포읍': {'list': ['매포리',\n",
       "   '우덕리',\n",
       "   '하괴리',\n",
       "   '상괴리',\n",
       "   '안동리',\n",
       "   '평동리',\n",
       "   '도곡리',\n",
       "   '하시리',\n",
       "   '상시리',\n",
       "   '영천리',\n",
       "   '가평리',\n",
       "   '삼곡리',\n",
       "   '고양리',\n",
       "   '김산리',\n",
       "   '응실리']},\n",
       " '대강면': {'list': ['장림리',\n",
       "   '당동리',\n",
       "   '용부원리',\n",
       "   '두음리',\n",
       "   '괴평리',\n",
       "   '사인암리',\n",
       "   '직티리',\n",
       "   '황정리',\n",
       "   '성금리',\n",
       "   '미노리',\n",
       "   '덕촌리',\n",
       "   '장정리',\n",
       "   '사동리',\n",
       "   '남천리',\n",
       "   '남조리',\n",
       "   '무수천리',\n",
       "   '신구리',\n",
       "   '올산리',\n",
       "   '방곡리',\n",
       "   '풍산리',\n",
       "   '수홍리',\n",
       "   '옥택리',\n",
       "   '평촌리',\n",
       "   '입암리',\n",
       "   '송대리',\n",
       "   '강석리',\n",
       "   '사석리',\n",
       "   '방동리',\n",
       "   '월탄리',\n",
       "   '생암리',\n",
       "   '신덕리',\n",
       "   '방산리']},\n",
       " '가곡면': {'list': ['사평리',\n",
       "   '가대리',\n",
       "   '여천리',\n",
       "   '덕천리',\n",
       "   '대대리',\n",
       "   '어의곡리',\n",
       "   '보발리',\n",
       "   '향산리',\n",
       "   '오목리',\n",
       "   '탕곡리',\n",
       "   '오저리',\n",
       "   '풍곡리',\n",
       "   '동활리']},\n",
       " '영춘면': {'list': ['상리',\n",
       "   '하리',\n",
       "   '남천리',\n",
       "   '백자리',\n",
       "   '의풍리',\n",
       "   '동대리',\n",
       "   '용진리',\n",
       "   '오사리',\n",
       "   '유암리',\n",
       "   '사이곡리',\n",
       "   '별방리',\n",
       "   '만종리',\n",
       "   '장발리',\n",
       "   '사지원리']},\n",
       " '어상천면': {'list': ['임현리', '연곡리', '석교리', '대전리', '덕문곡리', '방북리', '심곡리', '율곡리']},\n",
       " '적성면': {'list': ['어유지리',\n",
       "   '장좌리',\n",
       "   '장현리',\n",
       "   '구읍리',\n",
       "   '객현리',\n",
       "   '가월리',\n",
       "   '무건리',\n",
       "   '율포리',\n",
       "   '답곡리',\n",
       "   '식현리',\n",
       "   '주월리',\n",
       "   '설마리',\n",
       "   '적암리',\n",
       "   '두지리',\n",
       "   '마지리',\n",
       "   '자장리',\n",
       "   '하진리',\n",
       "   '현곡리',\n",
       "   '하리',\n",
       "   '성곡리',\n",
       "   '상리',\n",
       "   '애곡리',\n",
       "   '기동리',\n",
       "   '각기리',\n",
       "   '소야리',\n",
       "   '대가리',\n",
       "   '파랑리',\n",
       "   '하원곡리',\n",
       "   '상원곡리',\n",
       "   '지북리',\n",
       "   '대산리',\n",
       "   '운림리',\n",
       "   '고원리',\n",
       "   '내월리',\n",
       "   '평남리',\n",
       "   '괴정리',\n",
       "   '석산리']},\n",
       " '단성면': {'list': ['북상리',\n",
       "   '북하리',\n",
       "   '상방리',\n",
       "   '중방리',\n",
       "   '하방리',\n",
       "   '외중방리',\n",
       "   '장회리',\n",
       "   '두항리',\n",
       "   '고평리',\n",
       "   '양당리',\n",
       "   '벌천리',\n",
       "   '회산리',\n",
       "   '가산리',\n",
       "   '대잠리',\n",
       "   '성내리',\n",
       "   '강누리',\n",
       "   '방목리',\n",
       "   '청계리',\n",
       "   '운리',\n",
       "   '입석리',\n",
       "   '길리',\n",
       "   '남사리',\n",
       "   '사월리',\n",
       "   '묵곡리',\n",
       "   '소남리',\n",
       "   '관정리',\n",
       "   '호리',\n",
       "   '당산리',\n",
       "   '창촌리',\n",
       "   '백운리',\n",
       "   '자양리']}}"
      ]
     },
     "execution_count": 110,
     "metadata": {},
     "output_type": "execute_result"
    }
   ],
   "source": [
    "df_dstr.iloc[2]['단양군']"
   ]
  },
  {
   "cell_type": "code",
   "execution_count": 111,
   "id": "78940f3e-212f-4ae0-b32f-304bd4229018",
   "metadata": {
    "execution": {
     "iopub.execute_input": "2024-05-12T04:00:02.261793Z",
     "iopub.status.busy": "2024-05-12T04:00:02.261261Z",
     "iopub.status.idle": "2024-05-12T04:00:02.267504Z",
     "shell.execute_reply": "2024-05-12T04:00:02.267208Z",
     "shell.execute_reply.started": "2024-05-12T04:00:02.261774Z"
    },
    "scrolled": true
   },
   "outputs": [
    {
     "data": {
      "text/plain": [
       "{'list': ['현천리',\n",
       "  '덕상리',\n",
       "  '심곡리',\n",
       "  '증도리',\n",
       "  '별곡리',\n",
       "  '도전리',\n",
       "  '상진리',\n",
       "  '도담리',\n",
       "  '후곡리',\n",
       "  '장현리',\n",
       "  '노동리',\n",
       "  '마조리',\n",
       "  '수촌리',\n",
       "  '천동리',\n",
       "  '금곡리',\n",
       "  '기촌리',\n",
       "  '고수리']}"
      ]
     },
     "execution_count": 111,
     "metadata": {},
     "output_type": "execute_result"
    }
   ],
   "source": [
    "df_dstr.iloc[2]['단양군']['단양읍']"
   ]
  },
  {
   "cell_type": "code",
   "execution_count": 6,
   "id": "8d31cb17-d7d9-4b96-8245-f4feda27caaa",
   "metadata": {
    "execution": {
     "iopub.execute_input": "2024-05-12T02:27:10.509395Z",
     "iopub.status.busy": "2024-05-12T02:27:10.508885Z",
     "iopub.status.idle": "2024-05-12T02:27:10.516047Z",
     "shell.execute_reply": "2024-05-12T02:27:10.515243Z",
     "shell.execute_reply.started": "2024-05-12T02:27:10.509360Z"
    }
   },
   "outputs": [],
   "source": [
    "postfix = [\"광역시\", \"특별자치도\", \"특별자치시\", \"특별시\"]"
   ]
  },
  {
   "cell_type": "code",
   "execution_count": 7,
   "id": "018a3312-0f71-47d2-a0e3-99b170f39304",
   "metadata": {
    "execution": {
     "iopub.execute_input": "2024-05-12T02:27:17.571164Z",
     "iopub.status.busy": "2024-05-12T02:27:17.569872Z",
     "iopub.status.idle": "2024-05-12T02:27:17.823373Z",
     "shell.execute_reply": "2024-05-12T02:27:17.822850Z",
     "shell.execute_reply.started": "2024-05-12T02:27:17.571090Z"
    },
    "scrolled": true
   },
   "outputs": [
    {
     "ename": "NameError",
     "evalue": "name 'city_set' is not defined",
     "output_type": "error",
     "traceback": [
      "\u001b[0;31m---------------------------------------------------------------------------\u001b[0m",
      "\u001b[0;31mNameError\u001b[0m                                 Traceback (most recent call last)",
      "Cell \u001b[0;32mIn[7], line 1\u001b[0m\n\u001b[0;32m----> 1\u001b[0m \u001b[38;5;28;01mfor\u001b[39;00m full_name \u001b[38;5;129;01min\u001b[39;00m \u001b[43mcity_set\u001b[49m:\n\u001b[1;32m      2\u001b[0m     \u001b[38;5;66;03m# print(city)\u001b[39;00m\n\u001b[1;32m      3\u001b[0m     \u001b[38;5;28;01mfor\u001b[39;00m item \u001b[38;5;129;01min\u001b[39;00m postfix:\n\u001b[1;32m      4\u001b[0m         \u001b[38;5;28;01mif\u001b[39;00m item \u001b[38;5;129;01min\u001b[39;00m full_name:\n",
      "\u001b[0;31mNameError\u001b[0m: name 'city_set' is not defined"
     ]
    }
   ],
   "source": [
    "for full_name in city_set:\n",
    "    # print(city)\n",
    "    for item in postfix:\n",
    "        if item in full_name:\n",
    "            short_name = full_name.split(item)[0]\n",
    "            city_set.discard(full_name)\n",
    "            city_set.add(short_name)"
   ]
  },
  {
   "cell_type": "code",
   "execution_count": 165,
   "id": "4259eb85-a6ad-4007-a1c0-fa3158ac4241",
   "metadata": {
    "collapsed": true,
    "execution": {
     "iopub.execute_input": "2024-04-22T12:56:19.199513Z",
     "iopub.status.busy": "2024-04-22T12:56:19.199035Z",
     "iopub.status.idle": "2024-04-22T12:56:19.206259Z",
     "shell.execute_reply": "2024-04-22T12:56:19.205537Z",
     "shell.execute_reply.started": "2024-04-22T12:56:19.199485Z"
    },
    "jupyter": {
     "outputs_hidden": true
    }
   },
   "outputs": [
    {
     "data": {
      "text/plain": [
       "{'강원',\n",
       " '경기도',\n",
       " '경상남도',\n",
       " '경상북도',\n",
       " '광주',\n",
       " '대구',\n",
       " '대전',\n",
       " '동해출장소',\n",
       " '부산',\n",
       " '북부출장소',\n",
       " '서울',\n",
       " '세종',\n",
       " '울산',\n",
       " '인천',\n",
       " '전라남도',\n",
       " '전북',\n",
       " '제주',\n",
       " '충청남도',\n",
       " '충청북도'}"
      ]
     },
     "execution_count": 165,
     "metadata": {},
     "output_type": "execute_result"
    }
   ],
   "source": [
    "city_set"
   ]
  },
  {
   "cell_type": "code",
   "execution_count": 168,
   "id": "4247ece5-ff5d-4c78-892f-d2a70fc632a6",
   "metadata": {
    "execution": {
     "iopub.execute_input": "2024-04-22T13:02:57.613278Z",
     "iopub.status.busy": "2024-04-22T13:02:57.611889Z",
     "iopub.status.idle": "2024-04-22T13:02:57.622276Z",
     "shell.execute_reply": "2024-04-22T13:02:57.620994Z",
     "shell.execute_reply.started": "2024-04-22T13:02:57.613224Z"
    }
   },
   "outputs": [],
   "source": [
    "values_to_discard = {\"동해출장소\", \"북부출장소\", \"전라남도\", \"전라북도\", \"충청남도\", \"충청북도\", \"경상남도\", \"경상북도\", \"경기도\"}\n",
    "values_to_update = {\"경기\", \"전남\", \"전북\", \"충남\", \"1충북\", \"경남\", \"경북\"}\n",
    "\n",
    "for value in values_to_discard:\n",
    "    city_set.discard(value)\n",
    "\n",
    "city_set.update(values_to_update)"
   ]
  },
  {
   "cell_type": "code",
   "execution_count": 169,
   "id": "a6d7fc79-184e-4c85-b03b-eb93d9324b18",
   "metadata": {
    "collapsed": true,
    "execution": {
     "iopub.execute_input": "2024-04-22T13:02:58.893026Z",
     "iopub.status.busy": "2024-04-22T13:02:58.892819Z",
     "iopub.status.idle": "2024-04-22T13:02:58.896771Z",
     "shell.execute_reply": "2024-04-22T13:02:58.896399Z",
     "shell.execute_reply.started": "2024-04-22T13:02:58.893011Z"
    },
    "jupyter": {
     "outputs_hidden": true
    },
    "scrolled": true
   },
   "outputs": [
    {
     "data": {
      "text/plain": [
       "{'강원',\n",
       " '경기',\n",
       " '경남',\n",
       " '경북',\n",
       " '광주',\n",
       " '대구',\n",
       " '대전',\n",
       " '부산',\n",
       " '서울',\n",
       " '세종',\n",
       " '울산',\n",
       " '인천',\n",
       " '전남',\n",
       " '전북',\n",
       " '제주',\n",
       " '충남',\n",
       " '충북'}"
      ]
     },
     "execution_count": 169,
     "metadata": {},
     "output_type": "execute_result"
    }
   ],
   "source": [
    "city_set"
   ]
  },
  {
   "cell_type": "code",
   "execution_count": null,
   "id": "8508e958-770f-4f4d-b8a9-3c6c9324e736",
   "metadata": {},
   "outputs": [],
   "source": []
  },
  {
   "cell_type": "markdown",
   "id": "4da743c3-fce9-4134-a541-824bb51912ac",
   "metadata": {
    "jp-MarkdownHeadingCollapsed": true
   },
   "source": [
    "### icecream"
   ]
  },
  {
   "cell_type": "code",
   "execution_count": 20,
   "id": "55fa5341-ed69-421f-88a7-f15025f6428c",
   "metadata": {
    "collapsed": true,
    "execution": {
     "iopub.execute_input": "2024-05-12T02:48:43.960021Z",
     "iopub.status.busy": "2024-05-12T02:48:43.958709Z",
     "iopub.status.idle": "2024-05-12T02:48:49.578579Z",
     "shell.execute_reply": "2024-05-12T02:48:49.577854Z",
     "shell.execute_reply.started": "2024-05-12T02:48:43.959988Z"
    },
    "jupyter": {
     "outputs_hidden": true
    },
    "scrolled": true
   },
   "outputs": [
    {
     "name": "stdout",
     "output_type": "stream",
     "text": [
      "Collecting icecream\n",
      "  Downloading icecream-2.1.3-py2.py3-none-any.whl.metadata (1.4 kB)\n",
      "Requirement already satisfied: colorama>=0.3.9 in /Users/salgu/.pyenv/versions/pml/lib/python3.11/site-packages (from icecream) (0.4.6)\n",
      "Requirement already satisfied: pygments>=2.2.0 in /Users/salgu/.pyenv/versions/pml/lib/python3.11/site-packages (from icecream) (2.16.1)\n",
      "Requirement already satisfied: executing>=0.3.1 in /Users/salgu/.pyenv/versions/pml/lib/python3.11/site-packages (from icecream) (2.0.0)\n",
      "Requirement already satisfied: asttokens>=2.0.1 in /Users/salgu/.pyenv/versions/pml/lib/python3.11/site-packages (from icecream) (2.4.0)\n",
      "Requirement already satisfied: six>=1.12.0 in /Users/salgu/.pyenv/versions/pml/lib/python3.11/site-packages (from asttokens>=2.0.1->icecream) (1.16.0)\n",
      "Downloading icecream-2.1.3-py2.py3-none-any.whl (8.4 kB)\n",
      "Installing collected packages: icecream\n",
      "Successfully installed icecream-2.1.3\n"
     ]
    }
   ],
   "source": [
    "!pip install icecream"
   ]
  },
  {
   "cell_type": "code",
   "execution_count": 114,
   "id": "44100ec4-e08a-46cb-896a-4aa1812a6ed9",
   "metadata": {
    "execution": {
     "iopub.execute_input": "2024-05-13T05:41:54.533735Z",
     "iopub.status.busy": "2024-05-13T05:41:54.532538Z",
     "iopub.status.idle": "2024-05-13T05:41:54.559422Z",
     "shell.execute_reply": "2024-05-13T05:41:54.559025Z",
     "shell.execute_reply.started": "2024-05-13T05:41:54.533712Z"
    }
   },
   "outputs": [],
   "source": [
    "from icecream import ic"
   ]
  },
  {
   "cell_type": "markdown",
   "id": "ac507744-0dae-4f6d-84fe-57837d987099",
   "metadata": {
    "jp-MarkdownHeadingCollapsed": true
   },
   "source": [
    "### test"
   ]
  },
  {
   "cell_type": "code",
   "execution_count": 27,
   "id": "c280b353-7bd2-49d0-818f-cb4db0123a6c",
   "metadata": {
    "execution": {
     "iopub.execute_input": "2024-05-12T08:02:56.641107Z",
     "iopub.status.busy": "2024-05-12T08:02:56.639389Z",
     "iopub.status.idle": "2024-05-12T08:02:56.649144Z",
     "shell.execute_reply": "2024-05-12T08:02:56.647423Z",
     "shell.execute_reply.started": "2024-05-12T08:02:56.641033Z"
    }
   },
   "outputs": [],
   "source": [
    "text = '스턴트맨은 어는 한적한 서울특별시 강동구 고덕동 길에서 잠에 들었다.'"
   ]
  },
  {
   "cell_type": "code",
   "execution_count": 89,
   "id": "92ea659e-6723-4f5b-8908-6a316e1a4fa0",
   "metadata": {
    "execution": {
     "iopub.execute_input": "2024-05-12T03:39:35.813171Z",
     "iopub.status.busy": "2024-05-12T03:39:35.812408Z",
     "iopub.status.idle": "2024-05-12T03:39:35.817892Z",
     "shell.execute_reply": "2024-05-12T03:39:35.817473Z",
     "shell.execute_reply.started": "2024-05-12T03:39:35.813144Z"
    }
   },
   "outputs": [],
   "source": [
    "text = '스턴트맨은 어는 한적한 충청북도 단양군 단양읍 마조리 길에서 잠에 들었다.'"
   ]
  },
  {
   "cell_type": "code",
   "execution_count": 19,
   "id": "130a32bb-40fa-40fd-b351-56d286352993",
   "metadata": {
    "execution": {
     "iopub.execute_input": "2024-05-12T02:45:57.248134Z",
     "iopub.status.busy": "2024-05-12T02:45:57.243414Z",
     "iopub.status.idle": "2024-05-12T02:45:57.282102Z",
     "shell.execute_reply": "2024-05-12T02:45:57.279916Z",
     "shell.execute_reply.started": "2024-05-12T02:45:57.247970Z"
    }
   },
   "outputs": [],
   "source": [
    "provs = list(df_dstr.index)"
   ]
  },
  {
   "cell_type": "code",
   "execution_count": 30,
   "id": "dad61196-7944-436b-b69c-961826738890",
   "metadata": {
    "execution": {
     "iopub.execute_input": "2024-05-12T08:07:58.439719Z",
     "iopub.status.busy": "2024-05-12T08:07:58.438302Z",
     "iopub.status.idle": "2024-05-12T08:07:58.448117Z",
     "shell.execute_reply": "2024-05-12T08:07:58.447507Z",
     "shell.execute_reply.started": "2024-05-12T08:07:58.439685Z"
    }
   },
   "outputs": [],
   "source": [
    "import re"
   ]
  },
  {
   "cell_type": "code",
   "execution_count": null,
   "id": "0fe8b214-a7a9-42fa-9265-49d5869cafa8",
   "metadata": {
    "execution": {
     "iopub.execute_input": "2024-05-12T03:21:35.422522Z",
     "iopub.status.busy": "2024-05-12T03:21:35.419107Z",
     "iopub.status.idle": "2024-05-12T03:21:35.430085Z",
     "shell.execute_reply": "2024-05-12T03:21:35.429424Z",
     "shell.execute_reply.started": "2024-05-12T03:21:35.422484Z"
    }
   },
   "outputs": [],
   "source": [
    "# for lv1 in df_dstr['list']:\n",
    "#     ic(lv1)\n",
    "#     for lv1_item in lv1:\n",
    "#         # ic(lv1_item)\n",
    "#         # if lv1_item in text:\n",
    "#         pattern = r'\\b{}\\b'.format(re.escape(lv1_item))\n",
    "#         if re.search(pattern, text):\n",
    "#             ic(lv1_item)\n",
    "#             ic(df_dstr[lv1_item])"
   ]
  },
  {
   "cell_type": "code",
   "execution_count": 109,
   "id": "d5a18031-3adf-4b3f-ba50-f41288206975",
   "metadata": {
    "collapsed": true,
    "execution": {
     "iopub.execute_input": "2024-05-12T03:58:41.929905Z",
     "iopub.status.busy": "2024-05-12T03:58:41.928616Z",
     "iopub.status.idle": "2024-05-12T03:58:41.942140Z",
     "shell.execute_reply": "2024-05-12T03:58:41.941600Z",
     "shell.execute_reply.started": "2024-05-12T03:58:41.929873Z"
    },
    "jupyter": {
     "outputs_hidden": true
    },
    "scrolled": true
   },
   "outputs": [
    {
     "name": "stdout",
     "output_type": "stream",
     "text": [
      "서울특별시\n",
      "강동구\n",
      "고덕동\n"
     ]
    }
   ],
   "source": [
    "# lv0: province\n",
    "for lv0 in df_dstr.index:\n",
    "    if lv0 in text:\n",
    "        df = df_dstr[df_dstr.index == lv0]\n",
    "        lv1 = df['list'].iloc[0]\n",
    "\n",
    "        for lv2 in lv1:\n",
    "            if lv2 in text:\n",
    "                \n",
    "                for lv3 in df[lv2]:\n",
    "                    for lv4 in lv3['list']:\n",
    "                        if lv4 in text:\n",
    "                            if len(lv3[lv4]['list']) > 0:\n",
    "                                for lv5 in lv3[lv4]['list']:\n",
    "                                    if lv5 in text:\n",
    "                                        print(f'{lv0}\\n{lv2}\\n{lv4}\\n{lv5}')\n",
    "                                        break\n",
    "                            else:\n",
    "                                print(f'{lv0}\\n{lv2}\\n{lv4}')"
   ]
  },
  {
   "cell_type": "markdown",
   "id": "848753a0-9d09-414c-8dab-3b26aa864895",
   "metadata": {},
   "source": [
    "#### search_text_in_hierarchy"
   ]
  },
  {
   "cell_type": "code",
   "execution_count": 112,
   "id": "a166db9e-4e31-4d7e-99f5-d0a2aedefcf3",
   "metadata": {
    "execution": {
     "iopub.execute_input": "2024-05-12T04:01:51.339690Z",
     "iopub.status.busy": "2024-05-12T04:01:51.338086Z",
     "iopub.status.idle": "2024-05-12T04:01:51.349875Z",
     "shell.execute_reply": "2024-05-12T04:01:51.349301Z",
     "shell.execute_reply.started": "2024-05-12T04:01:51.339656Z"
    }
   },
   "outputs": [],
   "source": [
    "def print_hierarchy(lv1, lv2, lv4, lv5=None):\n",
    "    if lv5:\n",
    "        print(f'{lv1}\\n{lv2}\\n{lv4}\\n{lv5}')\n",
    "    else:\n",
    "        print(f'{lv1}\\n{lv2}\\n{lv4}')"
   ]
  },
  {
   "cell_type": "code",
   "execution_count": 113,
   "id": "960c4395-e3e0-4f4b-b2c4-e6a5f6102864",
   "metadata": {
    "execution": {
     "iopub.execute_input": "2024-05-12T04:01:52.571276Z",
     "iopub.status.busy": "2024-05-12T04:01:52.570758Z",
     "iopub.status.idle": "2024-05-12T04:01:52.579506Z",
     "shell.execute_reply": "2024-05-12T04:01:52.578742Z",
     "shell.execute_reply.started": "2024-05-12T04:01:52.571249Z"
    }
   },
   "outputs": [],
   "source": [
    "def search_text_in_hierarchy(text, df_dstr):\n",
    "    # Iterate over the first level of the hierarchy\n",
    "    for lv1 in df_dstr.index:\n",
    "        if lv1 in text:\n",
    "            # Filter the DataFrame to get the current level\n",
    "            df_lv1 = df_dstr[df_dstr.index == lv1]\n",
    "            for lv2 in df_lv1['list'].iloc[0]:\n",
    "                if lv2 in text:\n",
    "                    # Iterate over the second level of the hierarchy\n",
    "                    for lv3 in df_lv1[lv2]:\n",
    "                        for lv4 in lv3['list']:\n",
    "                            if lv4 in text:\n",
    "                                if len(lv3[lv4]['list']) > 0:\n",
    "                                    # Iterate over the third level of the hierarchy\n",
    "                                    for lv5 in lv3[lv4]['list']:\n",
    "                                        if lv5 in text:\n",
    "                                            print_hierarchy(lv1, lv2, lv4, lv5)\n",
    "                                            break\n",
    "                                else:\n",
    "                                    print_hierarchy(lv1, lv2, lv4)"
   ]
  },
  {
   "cell_type": "code",
   "execution_count": 139,
   "id": "ea89fe99-9bdf-4a78-b726-e8d177933e2d",
   "metadata": {
    "execution": {
     "iopub.execute_input": "2024-05-12T05:27:54.825584Z",
     "iopub.status.busy": "2024-05-12T05:27:54.821821Z",
     "iopub.status.idle": "2024-05-12T05:27:54.847408Z",
     "shell.execute_reply": "2024-05-12T05:27:54.846694Z",
     "shell.execute_reply.started": "2024-05-12T05:27:54.825558Z"
    }
   },
   "outputs": [],
   "source": [
    "search_text_in_hierarchy(text, df_dstr)"
   ]
  },
  {
   "cell_type": "code",
   "execution_count": 90,
   "id": "2b785e63-4e75-4553-876f-db9ef37551d6",
   "metadata": {
    "execution": {
     "iopub.execute_input": "2024-05-12T09:32:37.726943Z",
     "iopub.status.busy": "2024-05-12T09:32:37.725211Z",
     "iopub.status.idle": "2024-05-12T09:32:37.736598Z",
     "shell.execute_reply": "2024-05-12T09:32:37.735986Z",
     "shell.execute_reply.started": "2024-05-12T09:32:37.726891Z"
    }
   },
   "outputs": [],
   "source": [
    "from utils.search_address import search_address_in_text"
   ]
  },
  {
   "cell_type": "code",
   "execution_count": 140,
   "id": "4d6dc97f-3d3e-496d-8353-c9c9cf98ef27",
   "metadata": {
    "execution": {
     "iopub.execute_input": "2024-05-12T05:28:24.149416Z",
     "iopub.status.busy": "2024-05-12T05:28:24.148430Z",
     "iopub.status.idle": "2024-05-12T05:28:24.164056Z",
     "shell.execute_reply": "2024-05-12T05:28:24.163609Z",
     "shell.execute_reply.started": "2024-05-12T05:28:24.149376Z"
    }
   },
   "outputs": [],
   "source": [
    "search_text_in_address(text, df_dstr)"
   ]
  },
  {
   "cell_type": "markdown",
   "id": "d82e8cb7-bb7c-473e-bf8c-bb56bc1a498d",
   "metadata": {},
   "source": [
    "#### test bottom-up"
   ]
  },
  {
   "cell_type": "code",
   "execution_count": 6,
   "id": "6181c0e4-29aa-451c-a987-2db48cfc2721",
   "metadata": {
    "execution": {
     "iopub.execute_input": "2024-05-12T07:20:28.558649Z",
     "iopub.status.busy": "2024-05-12T07:20:28.557162Z",
     "iopub.status.idle": "2024-05-12T07:20:28.580602Z",
     "shell.execute_reply": "2024-05-12T07:20:28.579943Z",
     "shell.execute_reply.started": "2024-05-12T07:20:28.558590Z"
    }
   },
   "outputs": [],
   "source": [
    "text = '스턴트맨은 어는 한적한 마조리 길에서 잠에 들었다.'"
   ]
  },
  {
   "cell_type": "code",
   "execution_count": 69,
   "id": "94f9a668-e6c2-4da5-a622-4a051710ce9f",
   "metadata": {
    "execution": {
     "iopub.execute_input": "2024-05-12T09:04:53.423579Z",
     "iopub.status.busy": "2024-05-12T09:04:53.422087Z",
     "iopub.status.idle": "2024-05-12T09:04:53.440727Z",
     "shell.execute_reply": "2024-05-12T09:04:53.440182Z",
     "shell.execute_reply.started": "2024-05-12T09:04:53.423518Z"
    }
   },
   "outputs": [],
   "source": [
    "def search_text_in_hierarchy(text, df_dstr):\n",
    "    searched_results = []\n",
    "\n",
    "    for lv1 in df_dstr.index:\n",
    "        count = 0\n",
    "        \n",
    "        pattern = r'\\b{}\\b'.format(re.escape(lv1))\n",
    "        if re.search(pattern, text):\n",
    "            ic(lv1)\n",
    "            count += 1\n",
    "            \n",
    "        df_lv1 = df_dstr[df_dstr.index == lv1]\n",
    "        for lv2 in df_lv1['list'].iloc[0]:\n",
    "\n",
    "            pattern = r'\\b{}\\b'.format(re.escape(lv2))\n",
    "            if re.search(pattern, text):\n",
    "                ic(lv2)\n",
    "                count += 1\n",
    "                \n",
    "            for lv3 in df_lv1[lv2]:\n",
    "                \n",
    "                for lv4 in lv3['list']:\n",
    "                    \n",
    "                    if len(lv3[lv4]['list']) > 0:\n",
    "                        for lv5 in lv3[lv4]['list']:\n",
    "\n",
    "                            pattern = r'\\b{}\\b'.format(re.escape(lv5))\n",
    "                            if re.search(pattern, text):\n",
    "                                count += 1\n",
    "                                address = f'{lv1} {lv2} {lv4} {lv5}'\n",
    "                                result = {\n",
    "                                    'count': count,\n",
    "                                    'address': address\n",
    "                                }\n",
    "                                searched_results.append(result)\n",
    "                                ic(address)\n",
    "                                \n",
    "                    else:\n",
    "                        pattern = r'\\b{}\\b'.format(re.escape(lv4))\n",
    "                        if re.search(pattern, text):\n",
    "                            count += 1\n",
    "                            address = f'{lv1} {lv2} {lv4}'\n",
    "                            result = {\n",
    "                                'count': count,\n",
    "                                'address': address\n",
    "                            }\n",
    "                            searched_results.append(result)\n",
    "                            ic(address)\n",
    "    \n",
    "    result = {\n",
    "        'address': '',\n",
    "        'count': 0\n",
    "    }\n",
    "    \n",
    "    for item in searched_results:\n",
    "        if item['count'] > result['count']:\n",
    "            result = item\n",
    "\n",
    "    return result['address']"
   ]
  },
  {
   "cell_type": "code",
   "execution_count": 70,
   "id": "92123900-cc09-4ba3-be5f-c51ad61fb513",
   "metadata": {
    "execution": {
     "iopub.execute_input": "2024-05-12T09:04:54.443500Z",
     "iopub.status.busy": "2024-05-12T09:04:54.442634Z",
     "iopub.status.idle": "2024-05-12T09:04:54.743219Z",
     "shell.execute_reply": "2024-05-12T09:04:54.742873Z",
     "shell.execute_reply.started": "2024-05-12T09:04:54.443479Z"
    },
    "scrolled": true
   },
   "outputs": [
    {
     "name": "stderr",
     "output_type": "stream",
     "text": [
      "ic| address: '경기도 평택시 고덕동'\n",
      "ic| lv1: '서울특별시'\n",
      "ic| lv2: '강동구'\n",
      "ic| address: '서울특별시 강동구 고덕동'\n"
     ]
    },
    {
     "data": {
      "text/plain": [
       "'서울특별시 강동구 고덕동'"
      ]
     },
     "execution_count": 70,
     "metadata": {},
     "output_type": "execute_result"
    }
   ],
   "source": [
    "search_text_in_hierarchy(text, df_dstr)"
   ]
  },
  {
   "cell_type": "code",
   "execution_count": 73,
   "id": "cb4583ee-0b5a-4cf5-b1af-e83d1caa7069",
   "metadata": {
    "execution": {
     "iopub.execute_input": "2024-05-12T09:16:57.177248Z",
     "iopub.status.busy": "2024-05-12T09:16:57.176461Z",
     "iopub.status.idle": "2024-05-12T09:16:57.633383Z",
     "shell.execute_reply": "2024-05-12T09:16:57.633131Z",
     "shell.execute_reply.started": "2024-05-12T09:16:57.177200Z"
    },
    "scrolled": true
   },
   "outputs": [
    {
     "name": "stderr",
     "output_type": "stream",
     "text": [
      "ic| address: '경기도 평택시 고덕동'\n",
      "ic| lv1: '서울특별시'\n",
      "ic| lv2: '강동구'\n",
      "ic| address: '서울특별시 강동구 고덕동'\n"
     ]
    },
    {
     "data": {
      "text/plain": [
       "'서울특별시 강동구 고덕동'"
      ]
     },
     "execution_count": 73,
     "metadata": {},
     "output_type": "execute_result"
    }
   ],
   "source": [
    "search_address_in_text(text, df_dstr)"
   ]
  },
  {
   "cell_type": "markdown",
   "id": "3817126b-68db-4561-afbe-3239b49cba00",
   "metadata": {
    "jp-MarkdownHeadingCollapsed": true
   },
   "source": [
    "### Re-organising Dataframe"
   ]
  },
  {
   "cell_type": "markdown",
   "id": "821dea4a-1cef-4754-bcec-dc6c20a29fa9",
   "metadata": {},
   "source": [
    "#### addr_sample"
   ]
  },
  {
   "cell_type": "code",
   "execution_count": 26,
   "id": "6f9e708b-3364-4f85-947b-6c4c04f5a3c4",
   "metadata": {
    "execution": {
     "iopub.execute_input": "2024-05-13T03:34:03.258895Z",
     "iopub.status.busy": "2024-05-13T03:34:03.257183Z",
     "iopub.status.idle": "2024-05-13T03:34:03.270109Z",
     "shell.execute_reply": "2024-05-13T03:34:03.269336Z",
     "shell.execute_reply.started": "2024-05-13T03:34:03.258821Z"
    },
    "scrolled": true
   },
   "outputs": [],
   "source": [
    "addr_sample = {\n",
    "    'lv1': [''],\n",
    "    'lv2': [''],\n",
    "    'lv3': [''],\n",
    "    'lv4': [''],\n",
    "    'lv5': ['']\n",
    "}\n",
    "df_addr = pd.DataFrame(addr_sample)"
   ]
  },
  {
   "cell_type": "code",
   "execution_count": 11,
   "id": "d91de608-7be4-4c13-b9e6-27543e8a2759",
   "metadata": {
    "execution": {
     "iopub.execute_input": "2024-05-13T03:32:20.678737Z",
     "iopub.status.busy": "2024-05-13T03:32:20.678510Z",
     "iopub.status.idle": "2024-05-13T03:32:20.689586Z",
     "shell.execute_reply": "2024-05-13T03:32:20.689144Z",
     "shell.execute_reply.started": "2024-05-13T03:32:20.678720Z"
    }
   },
   "outputs": [
    {
     "data": {
      "text/html": [
       "<div>\n",
       "<style scoped>\n",
       "    .dataframe tbody tr th:only-of-type {\n",
       "        vertical-align: middle;\n",
       "    }\n",
       "\n",
       "    .dataframe tbody tr th {\n",
       "        vertical-align: top;\n",
       "    }\n",
       "\n",
       "    .dataframe thead th {\n",
       "        text-align: right;\n",
       "    }\n",
       "</style>\n",
       "<table border=\"1\" class=\"dataframe\">\n",
       "  <thead>\n",
       "    <tr style=\"text-align: right;\">\n",
       "      <th></th>\n",
       "      <th>lv1</th>\n",
       "      <th>lv2</th>\n",
       "      <th>lv3</th>\n",
       "      <th>lv4</th>\n",
       "      <th>lv5</th>\n",
       "    </tr>\n",
       "  </thead>\n",
       "  <tbody>\n",
       "    <tr>\n",
       "      <th>0</th>\n",
       "      <td></td>\n",
       "      <td></td>\n",
       "      <td></td>\n",
       "      <td></td>\n",
       "      <td></td>\n",
       "    </tr>\n",
       "  </tbody>\n",
       "</table>\n",
       "</div>"
      ],
      "text/plain": [
       "  lv1 lv2 lv3 lv4 lv5\n",
       "0                    "
      ]
     },
     "execution_count": 11,
     "metadata": {},
     "output_type": "execute_result"
    }
   ],
   "source": [
    "df_addr"
   ]
  },
  {
   "cell_type": "code",
   "execution_count": 7,
   "id": "97269001-bd62-4df1-a1f7-61e317b9073c",
   "metadata": {
    "execution": {
     "iopub.execute_input": "2024-05-13T03:31:52.349836Z",
     "iopub.status.busy": "2024-05-13T03:31:52.348601Z",
     "iopub.status.idle": "2024-05-13T03:31:52.356809Z",
     "shell.execute_reply": "2024-05-13T03:31:52.356337Z",
     "shell.execute_reply.started": "2024-05-13T03:31:52.349803Z"
    }
   },
   "outputs": [],
   "source": [
    "addr_sample = {\n",
    "    'lv1': [''],\n",
    "    'lv2': [''],\n",
    "    'lv3': [''],\n",
    "    'lv4': [''],\n",
    "    'lv5': ['']\n",
    "}"
   ]
  },
  {
   "cell_type": "code",
   "execution_count": 24,
   "id": "a4439f8f-f332-45d9-a927-939735c64126",
   "metadata": {
    "execution": {
     "iopub.execute_input": "2024-05-13T03:33:52.538064Z",
     "iopub.status.busy": "2024-05-13T03:33:52.536783Z",
     "iopub.status.idle": "2024-05-13T03:33:52.553282Z",
     "shell.execute_reply": "2024-05-13T03:33:52.552606Z",
     "shell.execute_reply.started": "2024-05-13T03:33:52.538014Z"
    }
   },
   "outputs": [],
   "source": [
    "df_addr.loc[len(df_addr)] = addr_sample"
   ]
  },
  {
   "cell_type": "code",
   "execution_count": 25,
   "id": "3088fbfe-9263-4a42-93f7-d0269d6c3411",
   "metadata": {
    "execution": {
     "iopub.execute_input": "2024-05-13T03:33:53.422487Z",
     "iopub.status.busy": "2024-05-13T03:33:53.421779Z",
     "iopub.status.idle": "2024-05-13T03:33:53.495865Z",
     "shell.execute_reply": "2024-05-13T03:33:53.439661Z",
     "shell.execute_reply.started": "2024-05-13T03:33:53.422442Z"
    }
   },
   "outputs": [
    {
     "data": {
      "text/html": [
       "<div>\n",
       "<style scoped>\n",
       "    .dataframe tbody tr th:only-of-type {\n",
       "        vertical-align: middle;\n",
       "    }\n",
       "\n",
       "    .dataframe tbody tr th {\n",
       "        vertical-align: top;\n",
       "    }\n",
       "\n",
       "    .dataframe thead th {\n",
       "        text-align: right;\n",
       "    }\n",
       "</style>\n",
       "<table border=\"1\" class=\"dataframe\">\n",
       "  <thead>\n",
       "    <tr style=\"text-align: right;\">\n",
       "      <th></th>\n",
       "      <th>lv1</th>\n",
       "      <th>lv2</th>\n",
       "      <th>lv3</th>\n",
       "      <th>lv4</th>\n",
       "      <th>lv5</th>\n",
       "    </tr>\n",
       "  </thead>\n",
       "  <tbody>\n",
       "    <tr>\n",
       "      <th>0</th>\n",
       "      <td>[]</td>\n",
       "      <td>[]</td>\n",
       "      <td>[]</td>\n",
       "      <td>[]</td>\n",
       "      <td>[]</td>\n",
       "    </tr>\n",
       "    <tr>\n",
       "      <th>1</th>\n",
       "      <td>[]</td>\n",
       "      <td>[]</td>\n",
       "      <td>[]</td>\n",
       "      <td>[]</td>\n",
       "      <td>[]</td>\n",
       "    </tr>\n",
       "    <tr>\n",
       "      <th>2</th>\n",
       "      <td>[]</td>\n",
       "      <td>[]</td>\n",
       "      <td>[]</td>\n",
       "      <td>[]</td>\n",
       "      <td>[]</td>\n",
       "    </tr>\n",
       "  </tbody>\n",
       "</table>\n",
       "</div>"
      ],
      "text/plain": [
       "  lv1 lv2 lv3 lv4 lv5\n",
       "0  []  []  []  []  []\n",
       "1  []  []  []  []  []\n",
       "2  []  []  []  []  []"
      ]
     },
     "execution_count": 25,
     "metadata": {},
     "output_type": "execute_result"
    }
   ],
   "source": [
    "df_addr"
   ]
  },
  {
   "cell_type": "markdown",
   "id": "28b125a9-83f0-4f29-a8fe-53412e535097",
   "metadata": {},
   "source": [
    "#### df_dstr"
   ]
  },
  {
   "cell_type": "code",
   "execution_count": 95,
   "id": "08456db5-6375-412a-b55f-e64a459e7c24",
   "metadata": {
    "execution": {
     "iopub.execute_input": "2024-05-13T01:41:38.864611Z",
     "iopub.status.busy": "2024-05-13T01:41:38.863060Z",
     "iopub.status.idle": "2024-05-13T01:41:38.964523Z",
     "shell.execute_reply": "2024-05-13T01:41:38.964249Z",
     "shell.execute_reply.started": "2024-05-13T01:41:38.864561Z"
    }
   },
   "outputs": [
    {
     "data": {
      "text/html": [
       "<div>\n",
       "<style scoped>\n",
       "    .dataframe tbody tr th:only-of-type {\n",
       "        vertical-align: middle;\n",
       "    }\n",
       "\n",
       "    .dataframe tbody tr th {\n",
       "        vertical-align: top;\n",
       "    }\n",
       "\n",
       "    .dataframe thead th {\n",
       "        text-align: right;\n",
       "    }\n",
       "</style>\n",
       "<table border=\"1\" class=\"dataframe\">\n",
       "  <thead>\n",
       "    <tr style=\"text-align: right;\">\n",
       "      <th></th>\n",
       "      <th>list</th>\n",
       "      <th>천안시</th>\n",
       "      <th>천안시 동남구</th>\n",
       "      <th>천안시 서북구</th>\n",
       "      <th>공주시</th>\n",
       "      <th>보령시</th>\n",
       "      <th>아산시</th>\n",
       "      <th>서산시</th>\n",
       "      <th>논산시</th>\n",
       "      <th>계룡시</th>\n",
       "      <th>...</th>\n",
       "      <th>양천구</th>\n",
       "      <th>구로구</th>\n",
       "      <th>금천구</th>\n",
       "      <th>영등포구</th>\n",
       "      <th>동작구</th>\n",
       "      <th>관악구</th>\n",
       "      <th>서초구</th>\n",
       "      <th>강남구</th>\n",
       "      <th>송파구</th>\n",
       "      <th>강동구</th>\n",
       "    </tr>\n",
       "  </thead>\n",
       "  <tbody>\n",
       "    <tr>\n",
       "      <th>충청남도</th>\n",
       "      <td>[천안시, 천안시 동남구, 천안시 서북구, 공주시, 보령시, 아산시, 서산시, 논산...</td>\n",
       "      <td>{'list': []}</td>\n",
       "      <td>{'list': ['대흥동', '성황동', '문화동', '사직동', '영성동', '...</td>\n",
       "      <td>{'list': ['와촌동', '성정동', '백석동', '두정동', '성성동', '...</td>\n",
       "      <td>{'list': ['반죽동', '봉황동', '중학동', '중동', '산성동', '교...</td>\n",
       "      <td>{'list': ['대천동', '죽정동', '화산동', '동대동', '명천동', '...</td>\n",
       "      <td>{'list': ['온천동', '실옥동', '방축동', '기산동', '초사동', '...</td>\n",
       "      <td>{'list': ['읍내동', '동문동', '갈산동', '온석동', '잠홍동', '...</td>\n",
       "      <td>{'list': ['화지동', '반월동', '대교동', '부창동', '취암동', '...</td>\n",
       "      <td>{'list': ['금암동', '두마면', '엄사면', '신도안면'], '금암동':...</td>\n",
       "      <td>...</td>\n",
       "      <td>NaN</td>\n",
       "      <td>NaN</td>\n",
       "      <td>NaN</td>\n",
       "      <td>NaN</td>\n",
       "      <td>NaN</td>\n",
       "      <td>NaN</td>\n",
       "      <td>NaN</td>\n",
       "      <td>NaN</td>\n",
       "      <td>NaN</td>\n",
       "      <td>NaN</td>\n",
       "    </tr>\n",
       "  </tbody>\n",
       "</table>\n",
       "<p>1 rows × 246 columns</p>\n",
       "</div>"
      ],
      "text/plain": [
       "                                                   list           천안시  \\\n",
       "충청남도  [천안시, 천안시 동남구, 천안시 서북구, 공주시, 보령시, 아산시, 서산시, 논산...  {'list': []}   \n",
       "\n",
       "                                                천안시 동남구  \\\n",
       "충청남도  {'list': ['대흥동', '성황동', '문화동', '사직동', '영성동', '...   \n",
       "\n",
       "                                                천안시 서북구  \\\n",
       "충청남도  {'list': ['와촌동', '성정동', '백석동', '두정동', '성성동', '...   \n",
       "\n",
       "                                                    공주시  \\\n",
       "충청남도  {'list': ['반죽동', '봉황동', '중학동', '중동', '산성동', '교...   \n",
       "\n",
       "                                                    보령시  \\\n",
       "충청남도  {'list': ['대천동', '죽정동', '화산동', '동대동', '명천동', '...   \n",
       "\n",
       "                                                    아산시  \\\n",
       "충청남도  {'list': ['온천동', '실옥동', '방축동', '기산동', '초사동', '...   \n",
       "\n",
       "                                                    서산시  \\\n",
       "충청남도  {'list': ['읍내동', '동문동', '갈산동', '온석동', '잠홍동', '...   \n",
       "\n",
       "                                                    논산시  \\\n",
       "충청남도  {'list': ['화지동', '반월동', '대교동', '부창동', '취암동', '...   \n",
       "\n",
       "                                                    계룡시  ...  양천구  구로구  금천구  \\\n",
       "충청남도  {'list': ['금암동', '두마면', '엄사면', '신도안면'], '금암동':...  ...  NaN  NaN  NaN   \n",
       "\n",
       "     영등포구  동작구  관악구  서초구  강남구  송파구  강동구  \n",
       "충청남도  NaN  NaN  NaN  NaN  NaN  NaN  NaN  \n",
       "\n",
       "[1 rows x 246 columns]"
      ]
     },
     "execution_count": 95,
     "metadata": {},
     "output_type": "execute_result"
    }
   ],
   "source": [
    "df_dstr.head(1)"
   ]
  },
  {
   "cell_type": "code",
   "execution_count": 105,
   "id": "12c9e193-60d6-4ac2-ab1d-d45b605e9a62",
   "metadata": {
    "execution": {
     "iopub.execute_input": "2024-05-13T01:51:49.035890Z",
     "iopub.status.busy": "2024-05-13T01:51:49.034915Z",
     "iopub.status.idle": "2024-05-13T01:51:49.041031Z",
     "shell.execute_reply": "2024-05-13T01:51:49.040720Z",
     "shell.execute_reply.started": "2024-05-13T01:51:49.035867Z"
    }
   },
   "outputs": [
    {
     "data": {
      "text/plain": [
       "'충청남도'"
      ]
     },
     "execution_count": 105,
     "metadata": {},
     "output_type": "execute_result"
    }
   ],
   "source": [
    "df_dstr.index[0]"
   ]
  },
  {
   "cell_type": "code",
   "execution_count": 120,
   "id": "92eabee0-9aa4-40f4-8a38-39e41a28cbd3",
   "metadata": {
    "collapsed": true,
    "execution": {
     "iopub.execute_input": "2024-05-13T01:59:09.420478Z",
     "iopub.status.busy": "2024-05-13T01:59:09.417918Z",
     "iopub.status.idle": "2024-05-13T01:59:09.439663Z",
     "shell.execute_reply": "2024-05-13T01:59:09.439128Z",
     "shell.execute_reply.started": "2024-05-13T01:59:09.420423Z"
    },
    "jupyter": {
     "outputs_hidden": true
    },
    "scrolled": true
   },
   "outputs": [
    {
     "data": {
      "text/plain": [
       "['천안시',\n",
       " '천안시 동남구',\n",
       " '천안시 서북구',\n",
       " '공주시',\n",
       " '보령시',\n",
       " '아산시',\n",
       " '서산시',\n",
       " '논산시',\n",
       " '계룡시',\n",
       " '당진시',\n",
       " '금산군',\n",
       " '부여군',\n",
       " '서천군',\n",
       " '청양군',\n",
       " '홍성군',\n",
       " '예산군',\n",
       " '태안군']"
      ]
     },
     "execution_count": 120,
     "metadata": {},
     "output_type": "execute_result"
    }
   ],
   "source": [
    "df_dstr[df_dstr.index == df_dstr.index[0]]['list'].tolist()[0]"
   ]
  },
  {
   "cell_type": "markdown",
   "id": "1fa15351-c12f-4ce6-adc4-5e7576014059",
   "metadata": {},
   "source": [
    "#### for loop"
   ]
  },
  {
   "cell_type": "code",
   "execution_count": 27,
   "id": "653fd77c-1e06-4e34-abb4-745fbe0a453a",
   "metadata": {
    "execution": {
     "iopub.execute_input": "2024-05-13T03:34:39.450304Z",
     "iopub.status.busy": "2024-05-13T03:34:39.445591Z",
     "iopub.status.idle": "2024-05-13T03:35:01.799788Z",
     "shell.execute_reply": "2024-05-13T03:35:01.799117Z",
     "shell.execute_reply.started": "2024-05-13T03:34:39.450234Z"
    },
    "scrolled": true
   },
   "outputs": [],
   "source": [
    "for lv1 in df_dstr.index:\n",
    "    # ic(lv1)\n",
    "    lv1_item = df_dstr[df_dstr.index == lv1]\n",
    "    for lv2 in lv1_item['list'].iloc[0]:\n",
    "        # ic(lv2)\n",
    "        lv2_item = lv1_item[lv2].iloc[0]\n",
    "        # ic(lv2_item)\n",
    "        for lv3 in lv2_item['list']:\n",
    "            # ic(lv3)\n",
    "            lv3_item = lv2_item[lv3]\n",
    "            # ic(lv3_item)\n",
    "            if len(lv3_item['list']) > 0:\n",
    "                for lv4 in lv3_item['list']:\n",
    "                    # ic(lv4)\n",
    "                    # addr_text = f\"{lv1} {lv2} {lv3} {lv4}\"\n",
    "                    # ic(addr_text)\n",
    "\n",
    "                    addr_row = {\n",
    "                        'lv1': lv1,\n",
    "                        'lv2': lv2, \n",
    "                        'lv3': lv3, \n",
    "                        'lv4': lv4\n",
    "                    }\n",
    "                    df_addr.loc[len(df_addr)] = addr_row\n",
    "            else:\n",
    "                # addr_text = f\"{lv1} {lv2} {lv3}\"\n",
    "                # ic(addr_text)\n",
    "                \n",
    "                addr_row = {\n",
    "                    'lv1': lv1,\n",
    "                    'lv2': lv2, \n",
    "                    'lv3': lv3\n",
    "                }\n",
    "                df_addr.loc[len(df_addr)] = addr_row\n",
    "    # break"
   ]
  },
  {
   "cell_type": "markdown",
   "id": "b0ad3f26-ffc1-4478-8688-f95f29951acb",
   "metadata": {},
   "source": [
    "#### inspection"
   ]
  },
  {
   "cell_type": "code",
   "execution_count": 28,
   "id": "6180f522-a70c-4298-b1df-ddb11ac2aa98",
   "metadata": {
    "execution": {
     "iopub.execute_input": "2024-05-13T03:35:07.354054Z",
     "iopub.status.busy": "2024-05-13T03:35:07.352940Z",
     "iopub.status.idle": "2024-05-13T03:35:07.411826Z",
     "shell.execute_reply": "2024-05-13T03:35:07.411488Z",
     "shell.execute_reply.started": "2024-05-13T03:35:07.354015Z"
    }
   },
   "outputs": [
    {
     "name": "stdout",
     "output_type": "stream",
     "text": [
      "<class 'pandas.core.frame.DataFrame'>\n",
      "Index: 28200 entries, 0 to 28199\n",
      "Data columns (total 5 columns):\n",
      " #   Column  Non-Null Count  Dtype \n",
      "---  ------  --------------  ----- \n",
      " 0   lv1     28200 non-null  object\n",
      " 1   lv2     28200 non-null  object\n",
      " 2   lv3     28200 non-null  object\n",
      " 3   lv4     21596 non-null  object\n",
      " 4   lv5     1 non-null      object\n",
      "dtypes: object(5)\n",
      "memory usage: 1.3+ MB\n"
     ]
    }
   ],
   "source": [
    "df_addr.info()"
   ]
  },
  {
   "cell_type": "code",
   "execution_count": 29,
   "id": "898a8e46-1d1b-4746-bb92-315b914c8c54",
   "metadata": {
    "execution": {
     "iopub.execute_input": "2024-05-13T03:35:19.433396Z",
     "iopub.status.busy": "2024-05-13T03:35:19.432299Z",
     "iopub.status.idle": "2024-05-13T03:35:19.447443Z",
     "shell.execute_reply": "2024-05-13T03:35:19.447068Z",
     "shell.execute_reply.started": "2024-05-13T03:35:19.433358Z"
    }
   },
   "outputs": [
    {
     "data": {
      "text/html": [
       "<div>\n",
       "<style scoped>\n",
       "    .dataframe tbody tr th:only-of-type {\n",
       "        vertical-align: middle;\n",
       "    }\n",
       "\n",
       "    .dataframe tbody tr th {\n",
       "        vertical-align: top;\n",
       "    }\n",
       "\n",
       "    .dataframe thead th {\n",
       "        text-align: right;\n",
       "    }\n",
       "</style>\n",
       "<table border=\"1\" class=\"dataframe\">\n",
       "  <thead>\n",
       "    <tr style=\"text-align: right;\">\n",
       "      <th></th>\n",
       "      <th>lv1</th>\n",
       "      <th>lv2</th>\n",
       "      <th>lv3</th>\n",
       "      <th>lv4</th>\n",
       "      <th>lv5</th>\n",
       "    </tr>\n",
       "  </thead>\n",
       "  <tbody>\n",
       "    <tr>\n",
       "      <th>0</th>\n",
       "      <td></td>\n",
       "      <td></td>\n",
       "      <td></td>\n",
       "      <td></td>\n",
       "      <td></td>\n",
       "    </tr>\n",
       "    <tr>\n",
       "      <th>1</th>\n",
       "      <td>충청남도</td>\n",
       "      <td>천안시 동남구</td>\n",
       "      <td>대흥동</td>\n",
       "      <td>NaN</td>\n",
       "      <td>NaN</td>\n",
       "    </tr>\n",
       "    <tr>\n",
       "      <th>2</th>\n",
       "      <td>충청남도</td>\n",
       "      <td>천안시 동남구</td>\n",
       "      <td>성황동</td>\n",
       "      <td>NaN</td>\n",
       "      <td>NaN</td>\n",
       "    </tr>\n",
       "    <tr>\n",
       "      <th>3</th>\n",
       "      <td>충청남도</td>\n",
       "      <td>천안시 동남구</td>\n",
       "      <td>문화동</td>\n",
       "      <td>NaN</td>\n",
       "      <td>NaN</td>\n",
       "    </tr>\n",
       "    <tr>\n",
       "      <th>4</th>\n",
       "      <td>충청남도</td>\n",
       "      <td>천안시 동남구</td>\n",
       "      <td>사직동</td>\n",
       "      <td>NaN</td>\n",
       "      <td>NaN</td>\n",
       "    </tr>\n",
       "  </tbody>\n",
       "</table>\n",
       "</div>"
      ],
      "text/plain": [
       "    lv1      lv2  lv3  lv4  lv5\n",
       "0                              \n",
       "1  충청남도  천안시 동남구  대흥동  NaN  NaN\n",
       "2  충청남도  천안시 동남구  성황동  NaN  NaN\n",
       "3  충청남도  천안시 동남구  문화동  NaN  NaN\n",
       "4  충청남도  천안시 동남구  사직동  NaN  NaN"
      ]
     },
     "execution_count": 29,
     "metadata": {},
     "output_type": "execute_result"
    }
   ],
   "source": [
    "df_addr.head()"
   ]
  },
  {
   "cell_type": "code",
   "execution_count": 30,
   "id": "3ed2ebe1-1e50-406a-aae1-782e08be5ed3",
   "metadata": {
    "execution": {
     "iopub.execute_input": "2024-05-13T03:38:50.622159Z",
     "iopub.status.busy": "2024-05-13T03:38:50.621148Z",
     "iopub.status.idle": "2024-05-13T03:38:53.022139Z",
     "shell.execute_reply": "2024-05-13T03:38:53.021770Z",
     "shell.execute_reply.started": "2024-05-13T03:38:50.622134Z"
    }
   },
   "outputs": [],
   "source": [
    "df_addr.to_csv(\"./address/address.csv\")\n",
    "df_addr.to_excel(\"./address/address.xlsx\")"
   ]
  },
  {
   "cell_type": "code",
   "execution_count": 49,
   "id": "3064b266-9657-454e-b465-d80783d85586",
   "metadata": {
    "execution": {
     "iopub.execute_input": "2024-05-13T04:51:46.513238Z",
     "iopub.status.busy": "2024-05-13T04:51:46.511952Z",
     "iopub.status.idle": "2024-05-13T04:51:46.535430Z",
     "shell.execute_reply": "2024-05-13T04:51:46.534974Z",
     "shell.execute_reply.started": "2024-05-13T04:51:46.513176Z"
    }
   },
   "outputs": [
    {
     "data": {
      "text/html": [
       "<div>\n",
       "<style scoped>\n",
       "    .dataframe tbody tr th:only-of-type {\n",
       "        vertical-align: middle;\n",
       "    }\n",
       "\n",
       "    .dataframe tbody tr th {\n",
       "        vertical-align: top;\n",
       "    }\n",
       "\n",
       "    .dataframe thead th {\n",
       "        text-align: right;\n",
       "    }\n",
       "</style>\n",
       "<table border=\"1\" class=\"dataframe\">\n",
       "  <thead>\n",
       "    <tr style=\"text-align: right;\">\n",
       "      <th></th>\n",
       "      <th>lv1</th>\n",
       "      <th>lv2</th>\n",
       "      <th>lv3</th>\n",
       "      <th>lv4</th>\n",
       "      <th>lv5</th>\n",
       "    </tr>\n",
       "  </thead>\n",
       "  <tbody>\n",
       "    <tr>\n",
       "      <th>0</th>\n",
       "      <td></td>\n",
       "      <td></td>\n",
       "      <td></td>\n",
       "      <td></td>\n",
       "      <td></td>\n",
       "    </tr>\n",
       "  </tbody>\n",
       "</table>\n",
       "</div>"
      ],
      "text/plain": [
       "  lv1 lv2 lv3 lv4 lv5\n",
       "0                    "
      ]
     },
     "execution_count": 49,
     "metadata": {},
     "output_type": "execute_result"
    }
   ],
   "source": [
    "df_addr[df_addr['lv5'].isna() == False]"
   ]
  },
  {
   "cell_type": "markdown",
   "id": "505e343d-c2a2-4183-ac5f-19fff03d3009",
   "metadata": {
    "jp-MarkdownHeadingCollapsed": true
   },
   "source": [
    "### Retrieve Address"
   ]
  },
  {
   "cell_type": "code",
   "execution_count": 1,
   "id": "4af88ffa-c79d-451b-8186-b1ade8e42277",
   "metadata": {
    "execution": {
     "iopub.execute_input": "2024-05-13T06:47:04.169695Z",
     "iopub.status.busy": "2024-05-13T06:47:04.167774Z",
     "iopub.status.idle": "2024-05-13T06:47:04.193672Z",
     "shell.execute_reply": "2024-05-13T06:47:04.193310Z",
     "shell.execute_reply.started": "2024-05-13T06:47:04.169582Z"
    }
   },
   "outputs": [],
   "source": [
    "text = [\n",
    "    '스턴트맨은 어는 한적한 마조리 길에서 잠에 들었다.',\n",
    "    '스턴트맨은 어는 한적한 서울특별시 강동구 고덕동 길에서 잠에 들었다.',\n",
    "    '스턴트맨은 어는 한적한 충청북도 단양군 단양읍 마조리 길에서 잠에 들었다.'\n",
    "]"
   ]
  },
  {
   "cell_type": "markdown",
   "id": "ff2550ef-6ef1-4b00-a61a-700d12198787",
   "metadata": {},
   "source": [
    "#### claude"
   ]
  },
  {
   "cell_type": "code",
   "execution_count": 33,
   "id": "82c996d3-ce26-4dc2-976e-6ffa896ed42f",
   "metadata": {
    "execution": {
     "iopub.execute_input": "2024-05-13T03:46:31.163161Z",
     "iopub.status.busy": "2024-05-13T03:46:31.162314Z",
     "iopub.status.idle": "2024-05-13T03:46:31.170884Z",
     "shell.execute_reply": "2024-05-13T03:46:31.170459Z",
     "shell.execute_reply.started": "2024-05-13T03:46:31.163135Z"
    }
   },
   "outputs": [],
   "source": [
    "data = {\n",
    "    'a': ['apple', 'axis', 'approval'],\n",
    "    'b': ['banana', 'back', 'bold'],\n",
    "    'c': ['cinema', 'come', 'cup']\n",
    "}\n",
    "df = pd.DataFrame(data)\n",
    "\n",
    "text = 'banana come to be apple'"
   ]
  },
  {
   "cell_type": "code",
   "execution_count": null,
   "id": "d5b95c14-5272-49d8-853d-cbdfd427a21a",
   "metadata": {
    "execution": {
     "iopub.execute_input": "2024-05-13T03:50:20.989368Z",
     "iopub.status.busy": "2024-05-13T03:50:20.988092Z",
     "iopub.status.idle": "2024-05-13T03:50:21.041382Z",
     "shell.execute_reply": "2024-05-13T03:50:21.040728Z",
     "shell.execute_reply.started": "2024-05-13T03:50:20.989332Z"
    }
   },
   "outputs": [],
   "source": [
    "import pandas as pd\n",
    "\n",
    "data = {'a': ['apple', 'axis', 'approval'], 'b': ['banana', 'back', 'bold'], 'c': ['cinema', 'come', 'cup']}\n",
    "df = pd.DataFrame(data)\n",
    "text = 'banana come to be apple'"
   ]
  },
  {
   "cell_type": "code",
   "execution_count": null,
   "id": "eeff2b98-b72d-4f8a-8a2c-877f1f7f64dd",
   "metadata": {
    "execution": {
     "iopub.execute_input": "2024-05-13T03:50:20.989368Z",
     "iopub.status.busy": "2024-05-13T03:50:20.988092Z",
     "iopub.status.idle": "2024-05-13T03:50:21.041382Z",
     "shell.execute_reply": "2024-05-13T03:50:21.040728Z",
     "shell.execute_reply.started": "2024-05-13T03:50:20.989332Z"
    }
   },
   "outputs": [],
   "source": [
    "# Split the text into words\n",
    "words = text.split()\n",
    "\n",
    "# Check if any word in each row is present in the text\n",
    "mask = df.apply(lambda row: row.str.contains('|'.join(words), case=False, na=False).any(), axis=1)\n",
    "\n",
    "# Filter the DataFrame to get the desired rows\n",
    "filtered_df = df[mask]\n",
    "\n",
    "print(filtered_df)"
   ]
  },
  {
   "cell_type": "markdown",
   "id": "78f0971f-aa3a-4da5-a0f0-5e193cd6a26c",
   "metadata": {},
   "source": [
    "#### test"
   ]
  },
  {
   "cell_type": "code",
   "execution_count": 104,
   "id": "4c5b27ae-615c-4e8c-892b-e3f0f7e22410",
   "metadata": {
    "execution": {
     "iopub.execute_input": "2024-05-13T05:33:27.252001Z",
     "iopub.status.busy": "2024-05-13T05:33:27.250791Z",
     "iopub.status.idle": "2024-05-13T05:33:27.258080Z",
     "shell.execute_reply": "2024-05-13T05:33:27.257256Z",
     "shell.execute_reply.started": "2024-05-13T05:33:27.251961Z"
    }
   },
   "outputs": [],
   "source": [
    "# Split the text into words\n",
    "words = text.split()"
   ]
  },
  {
   "cell_type": "code",
   "execution_count": 122,
   "id": "1522dae7-7efd-49aa-91c2-41a5d27f21b2",
   "metadata": {
    "execution": {
     "iopub.execute_input": "2024-05-13T05:47:10.614664Z",
     "iopub.status.busy": "2024-05-13T05:47:10.612911Z",
     "iopub.status.idle": "2024-05-13T05:47:10.622017Z",
     "shell.execute_reply": "2024-05-13T05:47:10.621252Z",
     "shell.execute_reply.started": "2024-05-13T05:47:10.614635Z"
    }
   },
   "outputs": [],
   "source": [
    "def get_filtered():\n",
    "    # Check if any word in each row is present in the text\n",
    "    mask = df_addr.apply(lambda row: row.str.contains('|'.join(words), case=False, na=False).any(), axis=1)\n",
    "    \n",
    "    # Filter the DataFrame to get the desired rows\n",
    "    df_filtered = df_addr[mask]\n",
    "\n",
    "    return df_filtered"
   ]
  },
  {
   "cell_type": "code",
   "execution_count": 37,
   "id": "335f2e1d-44ac-42d1-ab4c-9538ac2e518a",
   "metadata": {
    "collapsed": true,
    "execution": {
     "iopub.execute_input": "2024-05-13T03:53:41.072922Z",
     "iopub.status.busy": "2024-05-13T03:53:41.071600Z",
     "iopub.status.idle": "2024-05-13T03:53:41.115755Z",
     "shell.execute_reply": "2024-05-13T03:53:41.115393Z",
     "shell.execute_reply.started": "2024-05-13T03:53:41.072876Z"
    },
    "jupyter": {
     "outputs_hidden": true
    },
    "scrolled": true
   },
   "outputs": [
    {
     "data": {
      "text/html": [
       "<div>\n",
       "<style scoped>\n",
       "    .dataframe tbody tr th:only-of-type {\n",
       "        vertical-align: middle;\n",
       "    }\n",
       "\n",
       "    .dataframe tbody tr th {\n",
       "        vertical-align: top;\n",
       "    }\n",
       "\n",
       "    .dataframe thead th {\n",
       "        text-align: right;\n",
       "    }\n",
       "</style>\n",
       "<table border=\"1\" class=\"dataframe\">\n",
       "  <thead>\n",
       "    <tr style=\"text-align: right;\">\n",
       "      <th></th>\n",
       "      <th>lv1</th>\n",
       "      <th>lv2</th>\n",
       "      <th>lv3</th>\n",
       "      <th>lv4</th>\n",
       "      <th>lv5</th>\n",
       "    </tr>\n",
       "  </thead>\n",
       "  <tbody>\n",
       "    <tr>\n",
       "      <th>3326</th>\n",
       "      <td>충청북도</td>\n",
       "      <td>청주시 상당구</td>\n",
       "      <td>영동</td>\n",
       "      <td>NaN</td>\n",
       "      <td>NaN</td>\n",
       "    </tr>\n",
       "    <tr>\n",
       "      <th>3327</th>\n",
       "      <td>충청북도</td>\n",
       "      <td>청주시 상당구</td>\n",
       "      <td>북문로1가</td>\n",
       "      <td>NaN</td>\n",
       "      <td>NaN</td>\n",
       "    </tr>\n",
       "    <tr>\n",
       "      <th>3328</th>\n",
       "      <td>충청북도</td>\n",
       "      <td>청주시 상당구</td>\n",
       "      <td>북문로2가</td>\n",
       "      <td>NaN</td>\n",
       "      <td>NaN</td>\n",
       "    </tr>\n",
       "    <tr>\n",
       "      <th>3329</th>\n",
       "      <td>충청북도</td>\n",
       "      <td>청주시 상당구</td>\n",
       "      <td>북문로3가</td>\n",
       "      <td>NaN</td>\n",
       "      <td>NaN</td>\n",
       "    </tr>\n",
       "    <tr>\n",
       "      <th>3330</th>\n",
       "      <td>충청북도</td>\n",
       "      <td>청주시 상당구</td>\n",
       "      <td>남문로1가</td>\n",
       "      <td>NaN</td>\n",
       "      <td>NaN</td>\n",
       "    </tr>\n",
       "    <tr>\n",
       "      <th>...</th>\n",
       "      <td>...</td>\n",
       "      <td>...</td>\n",
       "      <td>...</td>\n",
       "      <td>...</td>\n",
       "      <td>...</td>\n",
       "    </tr>\n",
       "    <tr>\n",
       "      <th>5172</th>\n",
       "      <td>충청북도</td>\n",
       "      <td>단양군</td>\n",
       "      <td>단성면</td>\n",
       "      <td>당산리</td>\n",
       "      <td>NaN</td>\n",
       "    </tr>\n",
       "    <tr>\n",
       "      <th>5173</th>\n",
       "      <td>충청북도</td>\n",
       "      <td>단양군</td>\n",
       "      <td>단성면</td>\n",
       "      <td>창촌리</td>\n",
       "      <td>NaN</td>\n",
       "    </tr>\n",
       "    <tr>\n",
       "      <th>5174</th>\n",
       "      <td>충청북도</td>\n",
       "      <td>단양군</td>\n",
       "      <td>단성면</td>\n",
       "      <td>백운리</td>\n",
       "      <td>NaN</td>\n",
       "    </tr>\n",
       "    <tr>\n",
       "      <th>5175</th>\n",
       "      <td>충청북도</td>\n",
       "      <td>단양군</td>\n",
       "      <td>단성면</td>\n",
       "      <td>자양리</td>\n",
       "      <td>NaN</td>\n",
       "    </tr>\n",
       "    <tr>\n",
       "      <th>26289</th>\n",
       "      <td>경기도</td>\n",
       "      <td>김포시</td>\n",
       "      <td>하성면</td>\n",
       "      <td>마조리</td>\n",
       "      <td>NaN</td>\n",
       "    </tr>\n",
       "  </tbody>\n",
       "</table>\n",
       "<p>1851 rows × 5 columns</p>\n",
       "</div>"
      ],
      "text/plain": [
       "        lv1      lv2    lv3  lv4  lv5\n",
       "3326   충청북도  청주시 상당구     영동  NaN  NaN\n",
       "3327   충청북도  청주시 상당구  북문로1가  NaN  NaN\n",
       "3328   충청북도  청주시 상당구  북문로2가  NaN  NaN\n",
       "3329   충청북도  청주시 상당구  북문로3가  NaN  NaN\n",
       "3330   충청북도  청주시 상당구  남문로1가  NaN  NaN\n",
       "...     ...      ...    ...  ...  ...\n",
       "5172   충청북도      단양군    단성면  당산리  NaN\n",
       "5173   충청북도      단양군    단성면  창촌리  NaN\n",
       "5174   충청북도      단양군    단성면  백운리  NaN\n",
       "5175   충청북도      단양군    단성면  자양리  NaN\n",
       "26289   경기도      김포시    하성면  마조리  NaN\n",
       "\n",
       "[1851 rows x 5 columns]"
      ]
     },
     "execution_count": 37,
     "metadata": {},
     "output_type": "execute_result"
    }
   ],
   "source": [
    "filtered_df"
   ]
  },
  {
   "cell_type": "code",
   "execution_count": null,
   "id": "f2859a37-f136-47da-b0b0-932cbca37e29",
   "metadata": {
    "execution": {
     "iopub.execute_input": "2024-05-13T04:58:18.173905Z",
     "iopub.status.busy": "2024-05-13T04:58:18.172973Z",
     "iopub.status.idle": "2024-05-13T04:58:18.198894Z",
     "shell.execute_reply": "2024-05-13T04:58:18.198426Z",
     "shell.execute_reply.started": "2024-05-13T04:58:18.173867Z"
    }
   },
   "outputs": [],
   "source": [
    "res = filtered_df.count()"
   ]
  },
  {
   "cell_type": "code",
   "execution_count": 62,
   "id": "19093dcf-f3e0-45c8-b306-5bb2253f04aa",
   "metadata": {
    "collapsed": true,
    "execution": {
     "iopub.execute_input": "2024-05-13T04:59:13.799846Z",
     "iopub.status.busy": "2024-05-13T04:59:13.798575Z",
     "iopub.status.idle": "2024-05-13T04:59:13.806920Z",
     "shell.execute_reply": "2024-05-13T04:59:13.805888Z",
     "shell.execute_reply.started": "2024-05-13T04:59:13.799803Z"
    },
    "jupyter": {
     "outputs_hidden": true
    }
   },
   "outputs": [
    {
     "name": "stdout",
     "output_type": "stream",
     "text": [
      "<class 'pandas.core.series.Series'>\n"
     ]
    }
   ],
   "source": [
    "print(type(res))"
   ]
  },
  {
   "cell_type": "code",
   "execution_count": 64,
   "id": "e6cab7b6-1004-4535-98ba-7c38ebddd133",
   "metadata": {
    "collapsed": true,
    "execution": {
     "iopub.execute_input": "2024-05-13T04:59:34.243196Z",
     "iopub.status.busy": "2024-05-13T04:59:34.242207Z",
     "iopub.status.idle": "2024-05-13T04:59:34.263534Z",
     "shell.execute_reply": "2024-05-13T04:59:34.262904Z",
     "shell.execute_reply.started": "2024-05-13T04:59:34.243159Z"
    },
    "jupyter": {
     "outputs_hidden": true
    }
   },
   "outputs": [
    {
     "name": "stdout",
     "output_type": "stream",
     "text": [
      "1715\n"
     ]
    }
   ],
   "source": [
    "print(res.iloc[3])"
   ]
  },
  {
   "cell_type": "code",
   "execution_count": 125,
   "id": "a3bbf2f2-fad2-48e1-81bc-4d2cf04860eb",
   "metadata": {
    "execution": {
     "iopub.execute_input": "2024-05-13T05:49:09.210253Z",
     "iopub.status.busy": "2024-05-13T05:49:09.209616Z",
     "iopub.status.idle": "2024-05-13T05:49:09.214727Z",
     "shell.execute_reply": "2024-05-13T05:49:09.214244Z",
     "shell.execute_reply.started": "2024-05-13T05:49:09.210227Z"
    },
    "scrolled": true
   },
   "outputs": [],
   "source": [
    "def get_level(df_addr, col):\n",
    "    # Check if any word in each row is present in the text\n",
    "    mask = df_addr[col].str.contains('|'.join(words), case=False, na=False)\n",
    "    \n",
    "    # Filter the DataFrame to get the desired rows\n",
    "    df_level = df_addr[mask]\n",
    "    return df_level"
   ]
  },
  {
   "cell_type": "code",
   "execution_count": 124,
   "id": "77a8191d-6d35-4e4e-a6fa-8cb7b4771ce3",
   "metadata": {
    "execution": {
     "iopub.execute_input": "2024-05-13T05:48:22.311330Z",
     "iopub.status.busy": "2024-05-13T05:48:22.310074Z",
     "iopub.status.idle": "2024-05-13T05:48:22.322032Z",
     "shell.execute_reply": "2024-05-13T05:48:22.321476Z",
     "shell.execute_reply.started": "2024-05-13T05:48:22.311277Z"
    }
   },
   "outputs": [],
   "source": [
    "def get_count(df_filtered, df_lv, col):\n",
    "    row_sample = {\n",
    "        'index': [],\n",
    "        'lv1': [],\n",
    "        'lv2': [],\n",
    "        'lv3': []\n",
    "    }\n",
    "    df_count = pd.DataFrame(row_sample)\n",
    "\n",
    "    for idx in df_lv.index:\n",
    "        ic(df_addr.iloc[idx])\n",
    "        df = df_filtered[df_filtered[col] == df_addr.iloc[idx][col]]\n",
    "        count = df.count()\n",
    "        new_item = {\n",
    "            'index': idx,\n",
    "            'lv1': count.iloc[0],\n",
    "            'lv2': count.iloc[1],\n",
    "            'lv3': count.iloc[2]\n",
    "        }\n",
    "        df_count.loc[len(df_count)] = new_item\n",
    "\n",
    "    ic(df_count)\n",
    "    return df_count"
   ]
  },
  {
   "cell_type": "code",
   "execution_count": 127,
   "id": "d594e42f-fe8a-46af-bd5e-8b28ac55c50c",
   "metadata": {
    "execution": {
     "iopub.execute_input": "2024-05-13T05:49:38.270012Z",
     "iopub.status.busy": "2024-05-13T05:49:38.267925Z",
     "iopub.status.idle": "2024-05-13T05:49:39.191419Z",
     "shell.execute_reply": "2024-05-13T05:49:39.191136Z",
     "shell.execute_reply.started": "2024-05-13T05:49:38.269922Z"
    }
   },
   "outputs": [
    {
     "name": "stderr",
     "output_type": "stream",
     "text": [
      "ic| df_addr.iloc[idx]: lv1    경기도\n",
      "                       lv2    평택시\n",
      "                       lv3    고덕동\n",
      "                       lv4    NaN\n",
      "                       lv5    NaN\n",
      "                       Name: 25172, dtype: object\n",
      "ic| df_addr.iloc[idx]: lv1    서울특별시\n",
      "                       lv2      강동구\n",
      "                       lv3      고덕동\n",
      "                       lv4      NaN\n",
      "                       lv5      NaN\n",
      "                       Name: 28192, dtype: object\n",
      "ic| df_count:    index  lv1  lv2  lv3\n",
      "              0  25172    1    1    1\n",
      "              1  28192    9    9    9\n"
     ]
    },
    {
     "data": {
      "text/html": [
       "<div>\n",
       "<style scoped>\n",
       "    .dataframe tbody tr th:only-of-type {\n",
       "        vertical-align: middle;\n",
       "    }\n",
       "\n",
       "    .dataframe tbody tr th {\n",
       "        vertical-align: top;\n",
       "    }\n",
       "\n",
       "    .dataframe thead th {\n",
       "        text-align: right;\n",
       "    }\n",
       "</style>\n",
       "<table border=\"1\" class=\"dataframe\">\n",
       "  <thead>\n",
       "    <tr style=\"text-align: right;\">\n",
       "      <th></th>\n",
       "      <th>index</th>\n",
       "      <th>lv1</th>\n",
       "      <th>lv2</th>\n",
       "      <th>lv3</th>\n",
       "    </tr>\n",
       "  </thead>\n",
       "  <tbody>\n",
       "    <tr>\n",
       "      <th>0</th>\n",
       "      <td>25172</td>\n",
       "      <td>1</td>\n",
       "      <td>1</td>\n",
       "      <td>1</td>\n",
       "    </tr>\n",
       "    <tr>\n",
       "      <th>1</th>\n",
       "      <td>28192</td>\n",
       "      <td>9</td>\n",
       "      <td>9</td>\n",
       "      <td>9</td>\n",
       "    </tr>\n",
       "  </tbody>\n",
       "</table>\n",
       "</div>"
      ],
      "text/plain": [
       "   index  lv1  lv2  lv3\n",
       "0  25172    1    1    1\n",
       "1  28192    9    9    9"
      ]
     },
     "execution_count": 127,
     "metadata": {},
     "output_type": "execute_result"
    }
   ],
   "source": [
    "df_filtered = get_filtered()\n",
    "df_level = get_level(df_addr, 'lv3')\n",
    "df_count = get_count(df_filtered, df_level, 'lv2')\n",
    "df_count"
   ]
  },
  {
   "cell_type": "code",
   "execution_count": 137,
   "id": "67554a09-f005-44b4-ba94-328a35289bd9",
   "metadata": {
    "execution": {
     "iopub.execute_input": "2024-05-13T06:01:14.237250Z",
     "iopub.status.busy": "2024-05-13T06:01:14.235867Z",
     "iopub.status.idle": "2024-05-13T06:01:14.242337Z",
     "shell.execute_reply": "2024-05-13T06:01:14.241975Z",
     "shell.execute_reply.started": "2024-05-13T06:01:14.237192Z"
    }
   },
   "outputs": [],
   "source": [
    "def get_max(df_addr, df_count, col):\n",
    "    row = df_addr.iloc[df_count.iloc[df_count[col].idxmax()]['index']]\n",
    "    address = \"\"\n",
    "    for i in range(5):\n",
    "        text = row.iloc[i]\n",
    "        if isinstance(row.iloc[i], str):\n",
    "            address = \" \".join([address, text])\n",
    "    address = address.strip()\n",
    "    ic(address)\n",
    "    return address"
   ]
  },
  {
   "cell_type": "code",
   "execution_count": 138,
   "id": "b17e8623-f457-41f6-b79e-4ad76d2b3d4e",
   "metadata": {
    "execution": {
     "iopub.execute_input": "2024-05-13T06:01:37.847366Z",
     "iopub.status.busy": "2024-05-13T06:01:37.845832Z",
     "iopub.status.idle": "2024-05-13T06:01:37.901590Z",
     "shell.execute_reply": "2024-05-13T06:01:37.901003Z",
     "shell.execute_reply.started": "2024-05-13T06:01:37.847314Z"
    }
   },
   "outputs": [
    {
     "name": "stderr",
     "output_type": "stream",
     "text": [
      "ic| address: '서울특별시 강동구 고덕동'\n"
     ]
    },
    {
     "data": {
      "text/plain": [
       "'서울특별시 강동구 고덕동'"
      ]
     },
     "execution_count": 138,
     "metadata": {},
     "output_type": "execute_result"
    }
   ],
   "source": [
    "get_max(df_addr, df_count, 'lv3')"
   ]
  },
  {
   "cell_type": "markdown",
   "id": "f7fdba16-4f40-4b0c-9c98-af0814be4642",
   "metadata": {
    "jp-MarkdownHeadingCollapsed": true
   },
   "source": [
    "### class"
   ]
  },
  {
   "cell_type": "code",
   "execution_count": 32,
   "id": "7e3d0e84-8832-40ce-9d9b-4359b689406d",
   "metadata": {
    "execution": {
     "iopub.execute_input": "2024-05-13T08:16:53.234849Z",
     "iopub.status.busy": "2024-05-13T08:16:53.233587Z",
     "iopub.status.idle": "2024-05-13T08:16:53.252007Z",
     "shell.execute_reply": "2024-05-13T08:16:53.251609Z",
     "shell.execute_reply.started": "2024-05-13T08:16:53.234797Z"
    }
   },
   "outputs": [],
   "source": [
    "import pandas as pd \n",
    "\n",
    "class RetrieveAddress:\n",
    "    def __init__(self, df_address: pd.DataFrame, text:str):\n",
    "        self.df_address = df_address\n",
    "        self.set_text(text)\n",
    "        self.make_sample()\n",
    "        # self.re_pattern = r'\\b|'\n",
    "\n",
    "    def set_text(self, text:str):\n",
    "        self.text = text\n",
    "        self.split_text()\n",
    "\n",
    "    def split_text(self):\n",
    "        # Split the text into words\n",
    "        self.words = self.text.split()\n",
    "\n",
    "    def make_filtered(self):\n",
    "        # Check if any word in each row is present in the text\n",
    "        # mask = self.df_address.apply(lambda row: row.str.contains('|'.join(self.words), case=False, na=False).any(), axis=1)\n",
    "        mask = self.df_address.map(\n",
    "            lambda x: bool(\n",
    "                re.search(\n",
    "                    r'\\b{}'.format(str(x)),\n",
    "                    ra.text,\n",
    "                    re.IGNORECASE)))\n",
    "        \n",
    "        # Filter the DataFrame to get the desired rows\n",
    "        self.df_filtered = self.df_address[mask.any(axis=1)]\n",
    "\n",
    "    def make_level(self, column_label:str):\n",
    "        # Check if any word in each row is present in the text\n",
    "        # mask = self.df_address[column_name].str.contains('|'.join(self.words), case=False, na=False)\n",
    "        mask = self.df_address.map(\n",
    "            lambda x: bool(\n",
    "                re.search(\n",
    "                    r'\\b{}'.format(str(x)),\n",
    "                    ra.text,\n",
    "                    re.IGNORECASE)))\n",
    "        \n",
    "        # Filter the DataFrame to get the desired rows\n",
    "        self.df_level = self.df_address[mask[column_label]]\n",
    "\n",
    "    def make_sample(self):\n",
    "        row_sample = {\n",
    "            'index': [],\n",
    "            'lv1': [],\n",
    "            'lv2': [],\n",
    "            'lv3': []\n",
    "        }\n",
    "        self.df_sample = pd.DataFrame(row_sample)\n",
    "\n",
    "    def make_count(self, column_name:str):\n",
    "\n",
    "        self.df_count = self.df_sample\n",
    "        for idx in self.df_level.index:\n",
    "            df = self.df_filtered[self.df_filtered[column_name] == self.df_address.iloc[idx][column_name]]\n",
    "            count = df.count()\n",
    "            new_item = {\n",
    "                'index': idx,\n",
    "                'lv1': count.iloc[0],\n",
    "                'lv2': count.iloc[1],\n",
    "                'lv3': count.iloc[2]\n",
    "            }\n",
    "            self.df_count.loc[len(self.df_count)] = new_item    \n",
    "        self.df_count = self.df_count\n",
    "\n",
    "    def get_max(self, column_name:str):\n",
    "        row = self.df_address.iloc[self.df_count.iloc[self.df_count[column_name].idxmax()]['index']]\n",
    "        address = \"\"\n",
    "        for i in range(5):\n",
    "            text = row.iloc[i]\n",
    "            if isinstance(row.iloc[i], str):\n",
    "                address = \" \".join([address, text])\n",
    "        address = address.strip()\n",
    "        self.address = address\n",
    "\n",
    "    def process(self, level:int):\n",
    "        self.make_filtered()\n",
    "        \n",
    "        for i in range(4, 0, -1):\n",
    "            self.make_level(f'lv{i}')\n",
    "            self.make_count(f'lv{i-1}')\n",
    "            if len(self.df_count) > 0:\n",
    "                self.get_max(f'lv{i-1}')\n",
    "                break\n",
    "            else:\n",
    "                continue\n",
    "            \n",
    "        return self.address"
   ]
  },
  {
   "cell_type": "markdown",
   "id": "bc4db58d-ed9b-4787-a0cd-5e5f5b2f7342",
   "metadata": {},
   "source": [
    "#### delete index row and column"
   ]
  },
  {
   "cell_type": "code",
   "execution_count": 17,
   "id": "f84bf6ab-b6c4-4b7f-b3a8-cbee1a4ce9fd",
   "metadata": {
    "execution": {
     "iopub.execute_input": "2024-05-13T06:55:02.966646Z",
     "iopub.status.busy": "2024-05-13T06:55:02.965787Z",
     "iopub.status.idle": "2024-05-13T06:55:02.982536Z",
     "shell.execute_reply": "2024-05-13T06:55:02.981949Z",
     "shell.execute_reply.started": "2024-05-13T06:55:02.966615Z"
    }
   },
   "outputs": [],
   "source": [
    "df_address = df_address.drop(0)"
   ]
  },
  {
   "cell_type": "code",
   "execution_count": 19,
   "id": "82c52770-84fd-4abe-8fb1-07c44505496a",
   "metadata": {
    "execution": {
     "iopub.execute_input": "2024-05-13T06:55:44.436715Z",
     "iopub.status.busy": "2024-05-13T06:55:44.434963Z",
     "iopub.status.idle": "2024-05-13T06:55:44.459323Z",
     "shell.execute_reply": "2024-05-13T06:55:44.458860Z",
     "shell.execute_reply.started": "2024-05-13T06:55:44.436651Z"
    }
   },
   "outputs": [],
   "source": [
    "df_address = df_address.drop('Unnamed: 0', axis=1)"
   ]
  },
  {
   "cell_type": "code",
   "execution_count": 21,
   "id": "8ae11d84-49b0-47c7-be3b-e01d9e2e270a",
   "metadata": {
    "execution": {
     "iopub.execute_input": "2024-05-13T06:57:07.193750Z",
     "iopub.status.busy": "2024-05-13T06:57:07.192694Z",
     "iopub.status.idle": "2024-05-13T06:57:07.253537Z",
     "shell.execute_reply": "2024-05-13T06:57:07.253142Z",
     "shell.execute_reply.started": "2024-05-13T06:57:07.193725Z"
    }
   },
   "outputs": [],
   "source": [
    "df_address.to_csv('./address/address.csv', index=False)"
   ]
  },
  {
   "cell_type": "markdown",
   "id": "dce52f90-656f-4559-842d-44c161679aee",
   "metadata": {
    "jp-MarkdownHeadingCollapsed": true
   },
   "source": [
    "### test"
   ]
  },
  {
   "cell_type": "code",
   "execution_count": 2,
   "id": "f7743b8f-843c-4f84-9b7c-16e359e7b096",
   "metadata": {
    "execution": {
     "iopub.execute_input": "2024-05-13T07:49:29.333884Z",
     "iopub.status.busy": "2024-05-13T07:49:29.331837Z",
     "iopub.status.idle": "2024-05-13T07:49:29.388219Z",
     "shell.execute_reply": "2024-05-13T07:49:29.387883Z",
     "shell.execute_reply.started": "2024-05-13T07:49:29.333812Z"
    }
   },
   "outputs": [],
   "source": [
    "df_address = pd.read_csv(\"./address/address.csv\")"
   ]
  },
  {
   "cell_type": "code",
   "execution_count": 3,
   "id": "9e6948e3-afba-4585-bc44-b010da55edfb",
   "metadata": {
    "execution": {
     "iopub.execute_input": "2024-05-13T07:49:31.454751Z",
     "iopub.status.busy": "2024-05-13T07:49:31.454223Z",
     "iopub.status.idle": "2024-05-13T07:49:31.462531Z",
     "shell.execute_reply": "2024-05-13T07:49:31.461409Z",
     "shell.execute_reply.started": "2024-05-13T07:49:31.454719Z"
    }
   },
   "outputs": [],
   "source": [
    "text = [\n",
    "    '스턴트맨은 어는 한적한 마조리 길에서 잠에 들었다.',\n",
    "    '스턴트맨은 어는 한적한 서울특별시 강동구 고덕동 길에서 잠에 들었다.',\n",
    "    '스턴트맨은 어는 한적한 충청북도 단양군 단양읍 마조리 길에서 잠에 들었다.',\n",
    "    '스턴트맨은 어는 한적한 하성면 마조리 길에서 잠에 들었다.',\n",
    "    '스턴트맨은 어는 한적한 하성면 마조리에서 잠에 들었다.'\n",
    "]"
   ]
  },
  {
   "cell_type": "code",
   "execution_count": 33,
   "id": "b7c4b503-cdca-4da1-b67d-1340cd1fca02",
   "metadata": {
    "execution": {
     "iopub.execute_input": "2024-05-13T08:16:58.510269Z",
     "iopub.status.busy": "2024-05-13T08:16:58.509193Z",
     "iopub.status.idle": "2024-05-13T08:16:58.519940Z",
     "shell.execute_reply": "2024-05-13T08:16:58.518771Z",
     "shell.execute_reply.started": "2024-05-13T08:16:58.510229Z"
    }
   },
   "outputs": [],
   "source": [
    "ra = RetrieveAddress(df_address, text[-1])"
   ]
  },
  {
   "cell_type": "code",
   "execution_count": 34,
   "id": "e2ca4735-0796-4d4b-9621-d00a768ade98",
   "metadata": {
    "execution": {
     "iopub.execute_input": "2024-05-13T08:16:59.282520Z",
     "iopub.status.busy": "2024-05-13T08:16:59.281913Z",
     "iopub.status.idle": "2024-05-13T08:16:59.990548Z",
     "shell.execute_reply": "2024-05-13T08:16:59.990129Z",
     "shell.execute_reply.started": "2024-05-13T08:16:59.282480Z"
    },
    "scrolled": true
   },
   "outputs": [
    {
     "data": {
      "text/plain": [
       "'경기도 김포시 하성면 마조리'"
      ]
     },
     "execution_count": 34,
     "metadata": {},
     "output_type": "execute_result"
    }
   ],
   "source": [
    "ra.process(4)"
   ]
  },
  {
   "cell_type": "code",
   "execution_count": 35,
   "id": "e18c5a33-f181-438c-b637-58aa9afc171f",
   "metadata": {
    "execution": {
     "iopub.execute_input": "2024-05-13T08:17:08.261343Z",
     "iopub.status.busy": "2024-05-13T08:17:08.260050Z",
     "iopub.status.idle": "2024-05-13T08:17:08.294880Z",
     "shell.execute_reply": "2024-05-13T08:17:08.294293Z",
     "shell.execute_reply.started": "2024-05-13T08:17:08.261293Z"
    },
    "scrolled": true
   },
   "outputs": [
    {
     "data": {
      "text/html": [
       "<div>\n",
       "<style scoped>\n",
       "    .dataframe tbody tr th:only-of-type {\n",
       "        vertical-align: middle;\n",
       "    }\n",
       "\n",
       "    .dataframe tbody tr th {\n",
       "        vertical-align: top;\n",
       "    }\n",
       "\n",
       "    .dataframe thead th {\n",
       "        text-align: right;\n",
       "    }\n",
       "</style>\n",
       "<table border=\"1\" class=\"dataframe\">\n",
       "  <thead>\n",
       "    <tr style=\"text-align: right;\">\n",
       "      <th></th>\n",
       "      <th>index</th>\n",
       "      <th>lv1</th>\n",
       "      <th>lv2</th>\n",
       "      <th>lv3</th>\n",
       "    </tr>\n",
       "  </thead>\n",
       "  <tbody>\n",
       "    <tr>\n",
       "      <th>0</th>\n",
       "      <td>5019</td>\n",
       "      <td>1</td>\n",
       "      <td>1</td>\n",
       "      <td>1</td>\n",
       "    </tr>\n",
       "    <tr>\n",
       "      <th>1</th>\n",
       "      <td>26288</td>\n",
       "      <td>12</td>\n",
       "      <td>12</td>\n",
       "      <td>12</td>\n",
       "    </tr>\n",
       "  </tbody>\n",
       "</table>\n",
       "</div>"
      ],
      "text/plain": [
       "   index  lv1  lv2  lv3\n",
       "0   5019    1    1    1\n",
       "1  26288   12   12   12"
      ]
     },
     "execution_count": 35,
     "metadata": {},
     "output_type": "execute_result"
    }
   ],
   "source": [
    "ra.df_count"
   ]
  },
  {
   "cell_type": "code",
   "execution_count": 36,
   "id": "1a45a76c-2e24-4f65-96a6-81c31c14c0b2",
   "metadata": {
    "execution": {
     "iopub.execute_input": "2024-05-13T08:17:09.646970Z",
     "iopub.status.busy": "2024-05-13T08:17:09.646846Z",
     "iopub.status.idle": "2024-05-13T08:17:09.652848Z",
     "shell.execute_reply": "2024-05-13T08:17:09.652425Z",
     "shell.execute_reply.started": "2024-05-13T08:17:09.646962Z"
    },
    "scrolled": true
   },
   "outputs": [
    {
     "data": {
      "text/html": [
       "<div>\n",
       "<style scoped>\n",
       "    .dataframe tbody tr th:only-of-type {\n",
       "        vertical-align: middle;\n",
       "    }\n",
       "\n",
       "    .dataframe tbody tr th {\n",
       "        vertical-align: top;\n",
       "    }\n",
       "\n",
       "    .dataframe thead th {\n",
       "        text-align: right;\n",
       "    }\n",
       "</style>\n",
       "<table border=\"1\" class=\"dataframe\">\n",
       "  <thead>\n",
       "    <tr style=\"text-align: right;\">\n",
       "      <th></th>\n",
       "      <th>lv1</th>\n",
       "      <th>lv2</th>\n",
       "      <th>lv3</th>\n",
       "      <th>lv4</th>\n",
       "      <th>lv5</th>\n",
       "    </tr>\n",
       "  </thead>\n",
       "  <tbody>\n",
       "    <tr>\n",
       "      <th>5019</th>\n",
       "      <td>충청북도</td>\n",
       "      <td>단양군</td>\n",
       "      <td>단양읍</td>\n",
       "      <td>마조리</td>\n",
       "      <td>NaN</td>\n",
       "    </tr>\n",
       "    <tr>\n",
       "      <th>26288</th>\n",
       "      <td>경기도</td>\n",
       "      <td>김포시</td>\n",
       "      <td>하성면</td>\n",
       "      <td>마조리</td>\n",
       "      <td>NaN</td>\n",
       "    </tr>\n",
       "  </tbody>\n",
       "</table>\n",
       "</div>"
      ],
      "text/plain": [
       "        lv1  lv2  lv3  lv4  lv5\n",
       "5019   충청북도  단양군  단양읍  마조리  NaN\n",
       "26288   경기도  김포시  하성면  마조리  NaN"
      ]
     },
     "execution_count": 36,
     "metadata": {},
     "output_type": "execute_result"
    }
   ],
   "source": [
    "ra.df_level"
   ]
  },
  {
   "cell_type": "markdown",
   "id": "485ba9df-9644-4c8b-ad3f-6962ed80a51b",
   "metadata": {},
   "source": [
    "#### making string pattern"
   ]
  },
  {
   "cell_type": "code",
   "execution_count": 79,
   "id": "3fad6a82-d39a-4ea1-92b2-7bb75b5af7dc",
   "metadata": {
    "execution": {
     "iopub.execute_input": "2024-05-13T07:24:10.079241Z",
     "iopub.status.busy": "2024-05-13T07:24:10.076543Z",
     "iopub.status.idle": "2024-05-13T07:24:10.117166Z",
     "shell.execute_reply": "2024-05-13T07:24:10.116287Z",
     "shell.execute_reply.started": "2024-05-13T07:24:10.079217Z"
    }
   },
   "outputs": [],
   "source": [
    "text = [\n",
    "    'bananas are here.',\n",
    "    'nana is here.',\n",
    "    'bana is here.',\n",
    "]\n",
    "df = pd.DataFrame(text)"
   ]
  },
  {
   "cell_type": "code",
   "execution_count": 80,
   "id": "0094e1e5-3897-43a0-9b38-6996c18bacee",
   "metadata": {
    "execution": {
     "iopub.execute_input": "2024-05-13T07:24:13.058689Z",
     "iopub.status.busy": "2024-05-13T07:24:13.057592Z",
     "iopub.status.idle": "2024-05-13T07:24:13.144021Z",
     "shell.execute_reply": "2024-05-13T07:24:13.143644Z",
     "shell.execute_reply.started": "2024-05-13T07:24:13.058645Z"
    }
   },
   "outputs": [
    {
     "data": {
      "text/html": [
       "<div>\n",
       "<style scoped>\n",
       "    .dataframe tbody tr th:only-of-type {\n",
       "        vertical-align: middle;\n",
       "    }\n",
       "\n",
       "    .dataframe tbody tr th {\n",
       "        vertical-align: top;\n",
       "    }\n",
       "\n",
       "    .dataframe thead th {\n",
       "        text-align: right;\n",
       "    }\n",
       "</style>\n",
       "<table border=\"1\" class=\"dataframe\">\n",
       "  <thead>\n",
       "    <tr style=\"text-align: right;\">\n",
       "      <th></th>\n",
       "      <th>0</th>\n",
       "    </tr>\n",
       "  </thead>\n",
       "  <tbody>\n",
       "    <tr>\n",
       "      <th>0</th>\n",
       "      <td>bananas are here.</td>\n",
       "    </tr>\n",
       "    <tr>\n",
       "      <th>1</th>\n",
       "      <td>nana is here.</td>\n",
       "    </tr>\n",
       "    <tr>\n",
       "      <th>2</th>\n",
       "      <td>bana is here.</td>\n",
       "    </tr>\n",
       "  </tbody>\n",
       "</table>\n",
       "</div>"
      ],
      "text/plain": [
       "                   0\n",
       "0  bananas are here.\n",
       "1      nana is here.\n",
       "2      bana is here."
      ]
     },
     "execution_count": 80,
     "metadata": {},
     "output_type": "execute_result"
    }
   ],
   "source": [
    "df"
   ]
  },
  {
   "cell_type": "code",
   "execution_count": 81,
   "id": "525cd01c-d954-4f38-8c50-f299c1b2982f",
   "metadata": {
    "execution": {
     "iopub.execute_input": "2024-05-13T07:25:48.637508Z",
     "iopub.status.busy": "2024-05-13T07:25:48.636080Z",
     "iopub.status.idle": "2024-05-13T07:25:48.726052Z",
     "shell.execute_reply": "2024-05-13T07:25:48.725635Z",
     "shell.execute_reply.started": "2024-05-13T07:25:48.637451Z"
    }
   },
   "outputs": [
    {
     "name": "stdout",
     "output_type": "stream",
     "text": [
      "                Text\n",
      "0  bananas are here.\n"
     ]
    }
   ],
   "source": [
    "import pandas as pd\n",
    "\n",
    "text = [\n",
    "    'banana',\n",
    "    'nana',\n",
    "    'bana',\n",
    "]\n",
    "df = pd.DataFrame(text, columns=['Text'])\n",
    "\n",
    "keyword = 'bananas are here.'\n",
    "\n",
    "# Find rows containing the keyword\n",
    "matching_rows = df[df['Text'].str.contains(keyword)]\n",
    "\n",
    "print(matching_rows)\n"
   ]
  },
  {
   "cell_type": "code",
   "execution_count": null,
   "id": "68205320-3f50-4923-b05b-f0ee075c1b3e",
   "metadata": {
    "execution": {
     "iopub.execute_input": "2024-05-13T07:29:10.849077Z",
     "iopub.status.busy": "2024-05-13T07:29:10.847613Z",
     "iopub.status.idle": "2024-05-13T07:29:10.870093Z",
     "shell.execute_reply": "2024-05-13T07:29:10.869745Z",
     "shell.execute_reply.started": "2024-05-13T07:29:10.849051Z"
    }
   },
   "outputs": [],
   "source": [
    "import pandas as pd\n",
    "\n",
    "text = [\n",
    "    'banana',\n",
    "    'nana',\n",
    "    'bana',\n",
    "]\n",
    "df = pd.DataFrame(text, columns=['Text'])\n",
    "\n",
    "sentence = 'bananas are here.'"
   ]
  },
  {
   "cell_type": "code",
   "execution_count": 84,
   "id": "db87d356-46bd-4536-919d-7590b7961ac5",
   "metadata": {
    "execution": {
     "iopub.execute_input": "2024-05-13T07:33:20.969743Z",
     "iopub.status.busy": "2024-05-13T07:33:20.967729Z",
     "iopub.status.idle": "2024-05-13T07:33:20.980430Z",
     "shell.execute_reply": "2024-05-13T07:33:20.979858Z",
     "shell.execute_reply.started": "2024-05-13T07:33:20.969694Z"
    }
   },
   "outputs": [
    {
     "name": "stdout",
     "output_type": "stream",
     "text": [
      "Row 0: 'banana' is present in the sentence.\n",
      "Row 1: 'nana' is present in the sentence.\n",
      "Row 2: 'bana' is present in the sentence.\n"
     ]
    }
   ],
   "source": [
    "# Iterate over DataFrame rows\n",
    "for index, row in df.iterrows():\n",
    "    if row['Text'] in sentence:\n",
    "        print(f\"Row {index}: '{row['Text']}' is present in the sentence.\")"
   ]
  },
  {
   "cell_type": "code",
   "execution_count": 85,
   "id": "82ca7d7a-ca9a-4227-97a8-c8a596145b3c",
   "metadata": {
    "execution": {
     "iopub.execute_input": "2024-05-13T07:33:27.967008Z",
     "iopub.status.busy": "2024-05-13T07:33:27.965764Z",
     "iopub.status.idle": "2024-05-13T07:33:27.976650Z",
     "shell.execute_reply": "2024-05-13T07:33:27.976257Z",
     "shell.execute_reply.started": "2024-05-13T07:33:27.966964Z"
    }
   },
   "outputs": [
    {
     "name": "stdout",
     "output_type": "stream",
     "text": [
      "Empty DataFrame\n",
      "Columns: [Text]\n",
      "Index: []\n"
     ]
    }
   ],
   "source": [
    "# Find the row where its content is 'banana'\n",
    "matching_rows = df[df['Text'] == sentence]\n",
    "\n",
    "print(matching_rows)"
   ]
  },
  {
   "cell_type": "markdown",
   "id": "6af058c0-cbba-413e-b60e-c8bccdb7e27d",
   "metadata": {},
   "source": [
    "#### pattern 1"
   ]
  },
  {
   "cell_type": "code",
   "execution_count": 8,
   "id": "d6eda6ae-0d83-4a2b-b6bf-882a4e94b76a",
   "metadata": {
    "execution": {
     "iopub.execute_input": "2024-05-13T07:50:47.061954Z",
     "iopub.status.busy": "2024-05-13T07:50:47.061229Z",
     "iopub.status.idle": "2024-05-13T07:50:47.066705Z",
     "shell.execute_reply": "2024-05-13T07:50:47.066223Z",
     "shell.execute_reply.started": "2024-05-13T07:50:47.061928Z"
    }
   },
   "outputs": [],
   "source": [
    "df = ra.df_filtered"
   ]
  },
  {
   "cell_type": "code",
   "execution_count": 9,
   "id": "82c79253-b91e-4da5-93b4-b01394d2ff19",
   "metadata": {
    "execution": {
     "iopub.execute_input": "2024-05-13T07:50:55.948259Z",
     "iopub.status.busy": "2024-05-13T07:50:55.947640Z",
     "iopub.status.idle": "2024-05-13T07:50:55.978516Z",
     "shell.execute_reply": "2024-05-13T07:50:55.978148Z",
     "shell.execute_reply.started": "2024-05-13T07:50:55.948235Z"
    },
    "scrolled": true
   },
   "outputs": [
    {
     "name": "stdout",
     "output_type": "stream",
     "text": [
      "<class 'pandas.core.frame.DataFrame'>\n",
      "Index: 12 entries, 26284 to 26295\n",
      "Data columns (total 5 columns):\n",
      " #   Column  Non-Null Count  Dtype  \n",
      "---  ------  --------------  -----  \n",
      " 0   lv1     12 non-null     object \n",
      " 1   lv2     12 non-null     object \n",
      " 2   lv3     12 non-null     object \n",
      " 3   lv4     12 non-null     object \n",
      " 4   lv5     0 non-null      float64\n",
      "dtypes: float64(1), object(4)\n",
      "memory usage: 576.0+ bytes\n"
     ]
    }
   ],
   "source": [
    "df.info()"
   ]
  },
  {
   "cell_type": "code",
   "execution_count": 10,
   "id": "32a0bca1-e3c4-4866-b138-6ba9861d8b78",
   "metadata": {
    "execution": {
     "iopub.execute_input": "2024-05-13T07:51:01.182838Z",
     "iopub.status.busy": "2024-05-13T07:51:01.181656Z",
     "iopub.status.idle": "2024-05-13T07:51:01.195633Z",
     "shell.execute_reply": "2024-05-13T07:51:01.195319Z",
     "shell.execute_reply.started": "2024-05-13T07:51:01.182786Z"
    },
    "scrolled": true
   },
   "outputs": [
    {
     "data": {
      "text/html": [
       "<div>\n",
       "<style scoped>\n",
       "    .dataframe tbody tr th:only-of-type {\n",
       "        vertical-align: middle;\n",
       "    }\n",
       "\n",
       "    .dataframe tbody tr th {\n",
       "        vertical-align: top;\n",
       "    }\n",
       "\n",
       "    .dataframe thead th {\n",
       "        text-align: right;\n",
       "    }\n",
       "</style>\n",
       "<table border=\"1\" class=\"dataframe\">\n",
       "  <thead>\n",
       "    <tr style=\"text-align: right;\">\n",
       "      <th></th>\n",
       "      <th>lv1</th>\n",
       "      <th>lv2</th>\n",
       "      <th>lv3</th>\n",
       "      <th>lv4</th>\n",
       "      <th>lv5</th>\n",
       "    </tr>\n",
       "  </thead>\n",
       "  <tbody>\n",
       "    <tr>\n",
       "      <th>26284</th>\n",
       "      <td>경기도</td>\n",
       "      <td>김포시</td>\n",
       "      <td>하성면</td>\n",
       "      <td>마곡리</td>\n",
       "      <td>NaN</td>\n",
       "    </tr>\n",
       "    <tr>\n",
       "      <th>26285</th>\n",
       "      <td>경기도</td>\n",
       "      <td>김포시</td>\n",
       "      <td>하성면</td>\n",
       "      <td>석탄리</td>\n",
       "      <td>NaN</td>\n",
       "    </tr>\n",
       "    <tr>\n",
       "      <th>26286</th>\n",
       "      <td>경기도</td>\n",
       "      <td>김포시</td>\n",
       "      <td>하성면</td>\n",
       "      <td>후평리</td>\n",
       "      <td>NaN</td>\n",
       "    </tr>\n",
       "    <tr>\n",
       "      <th>26287</th>\n",
       "      <td>경기도</td>\n",
       "      <td>김포시</td>\n",
       "      <td>하성면</td>\n",
       "      <td>시암리</td>\n",
       "      <td>NaN</td>\n",
       "    </tr>\n",
       "    <tr>\n",
       "      <th>26288</th>\n",
       "      <td>경기도</td>\n",
       "      <td>김포시</td>\n",
       "      <td>하성면</td>\n",
       "      <td>마조리</td>\n",
       "      <td>NaN</td>\n",
       "    </tr>\n",
       "    <tr>\n",
       "      <th>26289</th>\n",
       "      <td>경기도</td>\n",
       "      <td>김포시</td>\n",
       "      <td>하성면</td>\n",
       "      <td>가금리</td>\n",
       "      <td>NaN</td>\n",
       "    </tr>\n",
       "    <tr>\n",
       "      <th>26290</th>\n",
       "      <td>경기도</td>\n",
       "      <td>김포시</td>\n",
       "      <td>하성면</td>\n",
       "      <td>양택리</td>\n",
       "      <td>NaN</td>\n",
       "    </tr>\n",
       "    <tr>\n",
       "      <th>26291</th>\n",
       "      <td>경기도</td>\n",
       "      <td>김포시</td>\n",
       "      <td>하성면</td>\n",
       "      <td>원산리</td>\n",
       "      <td>NaN</td>\n",
       "    </tr>\n",
       "    <tr>\n",
       "      <th>26292</th>\n",
       "      <td>경기도</td>\n",
       "      <td>김포시</td>\n",
       "      <td>하성면</td>\n",
       "      <td>하사리</td>\n",
       "      <td>NaN</td>\n",
       "    </tr>\n",
       "    <tr>\n",
       "      <th>26293</th>\n",
       "      <td>경기도</td>\n",
       "      <td>김포시</td>\n",
       "      <td>하성면</td>\n",
       "      <td>봉성리</td>\n",
       "      <td>NaN</td>\n",
       "    </tr>\n",
       "    <tr>\n",
       "      <th>26294</th>\n",
       "      <td>경기도</td>\n",
       "      <td>김포시</td>\n",
       "      <td>하성면</td>\n",
       "      <td>전류리</td>\n",
       "      <td>NaN</td>\n",
       "    </tr>\n",
       "    <tr>\n",
       "      <th>26295</th>\n",
       "      <td>경기도</td>\n",
       "      <td>김포시</td>\n",
       "      <td>하성면</td>\n",
       "      <td>마근포리</td>\n",
       "      <td>NaN</td>\n",
       "    </tr>\n",
       "  </tbody>\n",
       "</table>\n",
       "</div>"
      ],
      "text/plain": [
       "       lv1  lv2  lv3   lv4  lv5\n",
       "26284  경기도  김포시  하성면   마곡리  NaN\n",
       "26285  경기도  김포시  하성면   석탄리  NaN\n",
       "26286  경기도  김포시  하성면   후평리  NaN\n",
       "26287  경기도  김포시  하성면   시암리  NaN\n",
       "26288  경기도  김포시  하성면   마조리  NaN\n",
       "26289  경기도  김포시  하성면   가금리  NaN\n",
       "26290  경기도  김포시  하성면   양택리  NaN\n",
       "26291  경기도  김포시  하성면   원산리  NaN\n",
       "26292  경기도  김포시  하성면   하사리  NaN\n",
       "26293  경기도  김포시  하성면   봉성리  NaN\n",
       "26294  경기도  김포시  하성면   전류리  NaN\n",
       "26295  경기도  김포시  하성면  마근포리  NaN"
      ]
     },
     "execution_count": 10,
     "metadata": {},
     "output_type": "execute_result"
    }
   ],
   "source": [
    "df"
   ]
  },
  {
   "cell_type": "code",
   "execution_count": 14,
   "id": "82ec895c-3669-4371-b096-eb1c24385b81",
   "metadata": {
    "execution": {
     "iopub.execute_input": "2024-05-13T07:53:35.904865Z",
     "iopub.status.busy": "2024-05-13T07:53:35.903997Z",
     "iopub.status.idle": "2024-05-13T07:53:35.909430Z",
     "shell.execute_reply": "2024-05-13T07:53:35.909014Z",
     "shell.execute_reply.started": "2024-05-13T07:53:35.904841Z"
    }
   },
   "outputs": [],
   "source": [
    "import re"
   ]
  },
  {
   "cell_type": "code",
   "execution_count": null,
   "id": "7341e7d9-b6f2-4c00-99dd-71424acbf898",
   "metadata": {},
   "outputs": [],
   "source": [
    "# mask = self.df_address[column_name].str.contains('|'.join(self.words), case=False, na=False)"
   ]
  },
  {
   "cell_type": "code",
   "execution_count": 17,
   "id": "d25c6697-9755-4549-a617-31195608aa31",
   "metadata": {
    "execution": {
     "iopub.execute_input": "2024-05-13T07:55:40.544651Z",
     "iopub.status.busy": "2024-05-13T07:55:40.539501Z",
     "iopub.status.idle": "2024-05-13T07:55:40.554833Z",
     "shell.execute_reply": "2024-05-13T07:55:40.553645Z",
     "shell.execute_reply.started": "2024-05-13T07:55:40.544616Z"
    }
   },
   "outputs": [
    {
     "data": {
      "text/plain": [
       "['스턴트맨은', '어는', '한적한', '하성면', '마조리에서', '잠에', '들었다.']"
      ]
     },
     "execution_count": 17,
     "metadata": {},
     "output_type": "execute_result"
    }
   ],
   "source": [
    "ra.words"
   ]
  },
  {
   "cell_type": "code",
   "execution_count": 24,
   "id": "054f78bf-0774-4ae9-8336-8f7c5626bd7a",
   "metadata": {
    "execution": {
     "iopub.execute_input": "2024-05-13T08:04:10.542860Z",
     "iopub.status.busy": "2024-05-13T08:04:10.541455Z",
     "iopub.status.idle": "2024-05-13T08:04:10.550817Z",
     "shell.execute_reply": "2024-05-13T08:04:10.549911Z",
     "shell.execute_reply.started": "2024-05-13T08:04:10.542839Z"
    },
    "scrolled": true
   },
   "outputs": [
    {
     "data": {
      "text/plain": [
       "'\\\\b(?:스턴트맨은|어는|한적한|하성면|마조리에서|잠에|들었다.)'"
      ]
     },
     "execution_count": 24,
     "metadata": {},
     "output_type": "execute_result"
    }
   ],
   "source": [
    "import re\n",
    "\n",
    "# Assuming self.words is a list of words\n",
    "pattern = r'\\b(?:' + '|'.join(ra.words) + r')'\n",
    "pattern"
   ]
  },
  {
   "cell_type": "code",
   "execution_count": null,
   "id": "878a7672-6ced-4471-9fa8-ad164b56f0a6",
   "metadata": {
    "execution": {
     "iopub.execute_input": "2024-05-13T08:03:24.328896Z",
     "iopub.status.busy": "2024-05-13T08:03:24.327886Z",
     "iopub.status.idle": "2024-05-13T08:03:24.357896Z",
     "shell.execute_reply": "2024-05-13T08:03:24.357590Z",
     "shell.execute_reply.started": "2024-05-13T08:03:24.328847Z"
    },
    "scrolled": true
   },
   "outputs": [],
   "source": [
    "# mask = df.applymap(\n",
    "#     lambda x: bool(\n",
    "#         re.search(\n",
    "#             pattern,\n",
    "#             str(x),\n",
    "#             re.IGNORECASE)))"
   ]
  },
  {
   "cell_type": "code",
   "execution_count": null,
   "id": "e9e763ac-6a14-4d50-9353-dba8dba6b9a8",
   "metadata": {
    "execution": {
     "iopub.execute_input": "2024-05-13T08:03:24.328896Z",
     "iopub.status.busy": "2024-05-13T08:03:24.327886Z",
     "iopub.status.idle": "2024-05-13T08:03:24.357896Z",
     "shell.execute_reply": "2024-05-13T08:03:24.357590Z",
     "shell.execute_reply.started": "2024-05-13T08:03:24.328847Z"
    },
    "scrolled": true
   },
   "outputs": [],
   "source": [
    "# mask = df.applymap(\n",
    "#     lambda x: bool(\n",
    "#         re.search(\n",
    "#             r'|'.join(ra.words),\n",
    "#             str(x),\n",
    "#             re.IGNORECASE)))"
   ]
  },
  {
   "cell_type": "code",
   "execution_count": 25,
   "id": "c02fbcbb-d20d-4450-85d3-62542afc0368",
   "metadata": {
    "execution": {
     "iopub.execute_input": "2024-05-13T08:09:12.716083Z",
     "iopub.status.busy": "2024-05-13T08:09:12.714982Z",
     "iopub.status.idle": "2024-05-13T08:09:12.744129Z",
     "shell.execute_reply": "2024-05-13T08:09:12.742937Z",
     "shell.execute_reply.started": "2024-05-13T08:09:12.716055Z"
    }
   },
   "outputs": [
    {
     "name": "stderr",
     "output_type": "stream",
     "text": [
      "/var/folders/r0/w084nh2s0v3fstg3n70027500000gn/T/ipykernel_65457/1637594485.py:1: FutureWarning: DataFrame.applymap has been deprecated. Use DataFrame.map instead.\n",
      "  mask = df.applymap(\n"
     ]
    }
   ],
   "source": [
    "mask = df.applymap(\n",
    "    lambda x: bool(\n",
    "        re.search(\n",
    "            r'\\b{}'.format(str(x)),\n",
    "            ra.text,\n",
    "            re.IGNORECASE)))"
   ]
  },
  {
   "cell_type": "code",
   "execution_count": 28,
   "id": "7cdead54-a1b1-400c-95b5-19d80cce3aa4",
   "metadata": {
    "execution": {
     "iopub.execute_input": "2024-05-13T08:12:33.710883Z",
     "iopub.status.busy": "2024-05-13T08:12:33.705727Z",
     "iopub.status.idle": "2024-05-13T08:12:33.749097Z",
     "shell.execute_reply": "2024-05-13T08:12:33.748356Z",
     "shell.execute_reply.started": "2024-05-13T08:12:33.710851Z"
    },
    "scrolled": true
   },
   "outputs": [
    {
     "data": {
      "text/html": [
       "<div>\n",
       "<style scoped>\n",
       "    .dataframe tbody tr th:only-of-type {\n",
       "        vertical-align: middle;\n",
       "    }\n",
       "\n",
       "    .dataframe tbody tr th {\n",
       "        vertical-align: top;\n",
       "    }\n",
       "\n",
       "    .dataframe thead th {\n",
       "        text-align: right;\n",
       "    }\n",
       "</style>\n",
       "<table border=\"1\" class=\"dataframe\">\n",
       "  <thead>\n",
       "    <tr style=\"text-align: right;\">\n",
       "      <th></th>\n",
       "      <th>lv1</th>\n",
       "      <th>lv2</th>\n",
       "      <th>lv3</th>\n",
       "      <th>lv4</th>\n",
       "      <th>lv5</th>\n",
       "    </tr>\n",
       "  </thead>\n",
       "  <tbody>\n",
       "    <tr>\n",
       "      <th>26288</th>\n",
       "      <td>경기도</td>\n",
       "      <td>김포시</td>\n",
       "      <td>하성면</td>\n",
       "      <td>마조리</td>\n",
       "      <td>NaN</td>\n",
       "    </tr>\n",
       "  </tbody>\n",
       "</table>\n",
       "</div>"
      ],
      "text/plain": [
       "       lv1  lv2  lv3  lv4  lv5\n",
       "26288  경기도  김포시  하성면  마조리  NaN"
      ]
     },
     "execution_count": 28,
     "metadata": {},
     "output_type": "execute_result"
    }
   ],
   "source": [
    "# df_filtered = df[mask.any(axis=1)]\n",
    "df_filtered = df[mask['lv4']]\n",
    "df_filtered"
   ]
  },
  {
   "cell_type": "markdown",
   "id": "82e943ce-6c9e-4290-878c-1f305a8e0fe0",
   "metadata": {
    "jp-MarkdownHeadingCollapsed": true
   },
   "source": [
    "### 3"
   ]
  }
 ],
 "metadata": {
  "kernelspec": {
   "display_name": "Python 3 (ipykernel)",
   "language": "python",
   "name": "python3"
  },
  "language_info": {
   "codemirror_mode": {
    "name": "ipython",
    "version": 3
   },
   "file_extension": ".py",
   "mimetype": "text/x-python",
   "name": "python",
   "nbconvert_exporter": "python",
   "pygments_lexer": "ipython3",
   "version": "3.11.0"
  }
 },
 "nbformat": 4,
 "nbformat_minor": 5
}
