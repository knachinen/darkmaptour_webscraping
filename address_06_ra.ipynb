{
 "cells": [
  {
   "cell_type": "code",
   "execution_count": null,
   "id": "dbb5be4b-fd72-4ea0-b1c7-bffe28bff526",
   "metadata": {},
   "outputs": [],
   "source": []
  },
  {
   "cell_type": "markdown",
   "id": "8b962385-8441-458a-a3dc-a103e98e31f1",
   "metadata": {},
   "source": [
    "## Retrieve with RA"
   ]
  },
  {
   "cell_type": "markdown",
   "id": "f360f434-e2ff-4aef-aa7f-f102d15ce671",
   "metadata": {},
   "source": [
    "### import"
   ]
  },
  {
   "cell_type": "code",
   "execution_count": 3,
   "id": "c6093318-af4b-4d50-8965-3c91dadf81aa",
   "metadata": {
    "execution": {
     "iopub.execute_input": "2024-05-14T01:48:34.147635Z",
     "iopub.status.busy": "2024-05-14T01:48:34.146392Z",
     "iopub.status.idle": "2024-05-14T01:48:34.436414Z",
     "shell.execute_reply": "2024-05-14T01:48:34.436133Z",
     "shell.execute_reply.started": "2024-05-14T01:48:34.147612Z"
    }
   },
   "outputs": [],
   "source": [
    "import pandas as pd \n",
    "import numpy as np\n",
    "import math\n",
    "import re\n",
    "\n",
    "from icecream import ic\n",
    "from tqdm import tqdm \n",
    "\n",
    "from utils.custom_utils import load_var, save_var\n",
    "from utils.search_address import RetrieveAddress, get_lat_long"
   ]
  },
  {
   "cell_type": "code",
   "execution_count": 4,
   "id": "142e8344-29ea-4de8-862b-46c3cba272c5",
   "metadata": {
    "execution": {
     "iopub.execute_input": "2024-05-14T01:48:36.374838Z",
     "iopub.status.busy": "2024-05-14T01:48:36.370705Z",
     "iopub.status.idle": "2024-05-14T01:48:36.438388Z",
     "shell.execute_reply": "2024-05-14T01:48:36.438082Z",
     "shell.execute_reply.started": "2024-05-14T01:48:36.374768Z"
    }
   },
   "outputs": [],
   "source": [
    "df_hk_json = load_var(\"df_hk_json\")\n",
    "df_where = df_hk_json['where']\n",
    "df_addr = pd.read_csv('./address/address.csv')"
   ]
  },
  {
   "cell_type": "markdown",
   "id": "b05e3149-bdf5-47b3-b5cf-6417a83e4b64",
   "metadata": {},
   "source": [
    "### Problem in Retrieving"
   ]
  },
  {
   "cell_type": "markdown",
   "id": "b1234a7c-fb03-447d-9c34-a665b8864497",
   "metadata": {},
   "source": [
    "주소 데이터의 최소 유닛은 '동' 혹은 '리' 이다.  \n",
    "\n",
    "부산, 김제시 같은 경우에는 최소 유닛이 아니므로,  \n",
    "최소 유닛 중에 첫번째 열을 결과로 가져온다.  \n",
    "\n",
    "어떻게 해야할까?  "
   ]
  },
  {
   "cell_type": "markdown",
   "id": "afbce21d-f993-4256-b72b-557a1ccb2134",
   "metadata": {
    "jp-MarkdownHeadingCollapsed": true
   },
   "source": [
    "#### level 2 problem"
   ]
  },
  {
   "cell_type": "markdown",
   "id": "ff756f47-bc0e-4360-b0be-7c63f39a5427",
   "metadata": {},
   "source": [
    "#### level 1 problem"
   ]
  },
  {
   "cell_type": "code",
   "execution_count": 5,
   "id": "51fec2f4-2894-4c43-a020-c3f629ea2c6d",
   "metadata": {
    "execution": {
     "iopub.execute_input": "2024-05-13T09:01:54.903602Z",
     "iopub.status.busy": "2024-05-13T09:01:54.903433Z",
     "iopub.status.idle": "2024-05-13T09:01:56.324712Z",
     "shell.execute_reply": "2024-05-13T09:01:56.324391Z",
     "shell.execute_reply.started": "2024-05-13T09:01:54.903592Z"
    },
    "scrolled": true
   },
   "outputs": [
    {
     "name": "stderr",
     "output_type": "stream",
     "text": [
      "ic| item: '부산의 한 모텔'\n",
      "ic| res: ''\n"
     ]
    }
   ],
   "source": [
    "history = []\n",
    "for item in df_where[:1]:\n",
    "    if isinstance(item, str):\n",
    "        ic(item)\n",
    "        ra = RetrieveAddress(df_addr)\n",
    "        res = ra.process(item)\n",
    "        history.append(ra)\n",
    "        ic(res)"
   ]
  },
  {
   "cell_type": "markdown",
   "id": "2e834594-98fb-4dda-aacb-e2d94cb4e9d2",
   "metadata": {},
   "source": [
    "#### making a set of lv.1"
   ]
  },
  {
   "cell_type": "code",
   "execution_count": 6,
   "id": "b9a21362-b238-4c3d-be6b-d7c56289df0d",
   "metadata": {
    "collapsed": true,
    "execution": {
     "iopub.execute_input": "2024-05-13T09:08:56.588549Z",
     "iopub.status.busy": "2024-05-13T09:08:56.587519Z",
     "iopub.status.idle": "2024-05-13T09:08:56.622515Z",
     "shell.execute_reply": "2024-05-13T09:08:56.621841Z",
     "shell.execute_reply.started": "2024-05-13T09:08:56.588527Z"
    },
    "jupyter": {
     "outputs_hidden": true
    }
   },
   "outputs": [
    {
     "name": "stdout",
     "output_type": "stream",
     "text": [
      "<class 'pandas.core.series.Series'>\n",
      "RangeIndex: 28199 entries, 0 to 28198\n",
      "Series name: lv1\n",
      "Non-Null Count  Dtype \n",
      "--------------  ----- \n",
      "28199 non-null  object\n",
      "dtypes: object(1)\n",
      "memory usage: 220.4+ KB\n"
     ]
    }
   ],
   "source": [
    "df_addr['lv1'].info()"
   ]
  },
  {
   "cell_type": "code",
   "execution_count": 9,
   "id": "a33bfbe0-baa3-4334-be88-d82385c63f75",
   "metadata": {
    "collapsed": true,
    "execution": {
     "iopub.execute_input": "2024-05-13T13:04:05.521718Z",
     "iopub.status.busy": "2024-05-13T13:04:05.520781Z",
     "iopub.status.idle": "2024-05-13T13:04:05.531660Z",
     "shell.execute_reply": "2024-05-13T13:04:05.531099Z",
     "shell.execute_reply.started": "2024-05-13T13:04:05.521667Z"
    },
    "jupyter": {
     "outputs_hidden": true
    }
   },
   "outputs": [
    {
     "data": {
      "text/plain": [
       "RangeIndex(start=0, stop=28199, step=1)"
      ]
     },
     "execution_count": 9,
     "metadata": {},
     "output_type": "execute_result"
    }
   ],
   "source": [
    "df_addr['lv1'].index"
   ]
  },
  {
   "cell_type": "code",
   "execution_count": 12,
   "id": "8a75280c-0ac3-4311-9f52-b39bde101f78",
   "metadata": {
    "execution": {
     "iopub.execute_input": "2024-05-13T13:29:44.397270Z",
     "iopub.status.busy": "2024-05-13T13:29:44.394544Z",
     "iopub.status.idle": "2024-05-13T13:29:44.885977Z",
     "shell.execute_reply": "2024-05-13T13:29:44.885486Z",
     "shell.execute_reply.started": "2024-05-13T13:29:44.397186Z"
    }
   },
   "outputs": [],
   "source": [
    "lv1_set = set([])\n",
    "\n",
    "# from tqdm import tqdm\n",
    "\n",
    "# for index in tqdm(df_addr.index):\n",
    "for index in df_addr.index:\n",
    "    value = df_addr.iloc[index]['lv1']\n",
    "    if value not in lv1_set:\n",
    "        lv1_set.add(value)"
   ]
  },
  {
   "cell_type": "code",
   "execution_count": null,
   "id": "660a255f-2894-454a-9135-7028367e53b1",
   "metadata": {
    "execution": {
     "iopub.execute_input": "2024-05-13T13:33:11.903109Z",
     "iopub.status.busy": "2024-05-13T13:33:11.902596Z",
     "iopub.status.idle": "2024-05-13T13:33:11.906914Z",
     "shell.execute_reply": "2024-05-13T13:33:11.906468Z",
     "shell.execute_reply.started": "2024-05-13T13:33:11.903088Z"
    }
   },
   "outputs": [],
   "source": [
    "lv1_set_additional = [\n",
    "    '강원', '경기', '경남', '경북', '광주',\n",
    "    '대구', '대전', '부산', '서울', '울산',\n",
    "    '인천', '전남', '전북', '제주', '충남',\n",
    "    '충북'\n",
    "]\n",
    "\n",
    "lv1_set.update(lv1_set_additional)"
   ]
  },
  {
   "cell_type": "code",
   "execution_count": 17,
   "id": "88e71ce7-c2ff-4585-be66-08874598dbc9",
   "metadata": {
    "execution": {
     "iopub.execute_input": "2024-05-13T13:33:13.112419Z",
     "iopub.status.busy": "2024-05-13T13:33:13.111441Z",
     "iopub.status.idle": "2024-05-13T13:33:13.120235Z",
     "shell.execute_reply": "2024-05-13T13:33:13.119597Z",
     "shell.execute_reply.started": "2024-05-13T13:33:13.112378Z"
    },
    "scrolled": true
   },
   "outputs": [
    {
     "data": {
      "text/plain": [
       "{'강원',\n",
       " '강원특별자치도',\n",
       " '경기',\n",
       " '경기도',\n",
       " '경남',\n",
       " '경북',\n",
       " '경상남도',\n",
       " '경상북도',\n",
       " '광주',\n",
       " '광주광역시',\n",
       " '대구',\n",
       " '대구광역시',\n",
       " '대전',\n",
       " '대전광역시',\n",
       " '부산',\n",
       " '부산광역시',\n",
       " '서울',\n",
       " '서울특별시',\n",
       " '울산',\n",
       " '울산광역시',\n",
       " '인천',\n",
       " '인천광역시',\n",
       " '전남',\n",
       " '전라남도',\n",
       " '전북',\n",
       " '전북특별자치도',\n",
       " '제주',\n",
       " '제주특별자치도',\n",
       " '충남',\n",
       " '충북',\n",
       " '충청남도',\n",
       " '충청북도'}"
      ]
     },
     "execution_count": 17,
     "metadata": {},
     "output_type": "execute_result"
    }
   ],
   "source": [
    "lv1_set"
   ]
  },
  {
   "cell_type": "markdown",
   "id": "5b6ce787-1636-4e89-a3c2-f52d96ce4dcd",
   "metadata": {},
   "source": [
    "#### level 1 problem - try 1"
   ]
  },
  {
   "cell_type": "code",
   "execution_count": 3,
   "id": "f539ed85-6a66-4b3d-88f5-a895f79589ba",
   "metadata": {
    "execution": {
     "iopub.execute_input": "2024-05-13T13:22:33.035286Z",
     "iopub.status.busy": "2024-05-13T13:22:33.034323Z",
     "iopub.status.idle": "2024-05-13T13:22:34.877756Z",
     "shell.execute_reply": "2024-05-13T13:22:34.877512Z",
     "shell.execute_reply.started": "2024-05-13T13:22:33.035255Z"
    },
    "scrolled": true
   },
   "outputs": [
    {
     "name": "stderr",
     "output_type": "stream",
     "text": [
      "ic| item: '부산의 한 모텔'\n",
      "ic| res: '울산광역시'\n"
     ]
    }
   ],
   "source": [
    "history = []\n",
    "for item in df_where[:1]:\n",
    "    if isinstance(item, str):\n",
    "        ic(item)\n",
    "        ra = RetrieveAddress(df_addr)\n",
    "        res = ra.process(item)\n",
    "        history.append(ra)\n",
    "        ic(res)"
   ]
  },
  {
   "cell_type": "markdown",
   "id": "e2028dab-0d38-42f4-897f-008d064a7112",
   "metadata": {},
   "source": [
    "#### fix - search_in_lv1()"
   ]
  },
  {
   "cell_type": "code",
   "execution_count": 4,
   "id": "3d89263e-8c7e-43d6-ac5d-ccc33cfd8a5f",
   "metadata": {
    "execution": {
     "iopub.execute_input": "2024-05-13T13:37:35.130524Z",
     "iopub.status.busy": "2024-05-13T13:37:35.129592Z",
     "iopub.status.idle": "2024-05-13T13:37:35.145680Z",
     "shell.execute_reply": "2024-05-13T13:37:35.144912Z",
     "shell.execute_reply.started": "2024-05-13T13:37:35.130504Z"
    }
   },
   "outputs": [],
   "source": [
    "ra = RetrieveAddress(df_addr)"
   ]
  },
  {
   "cell_type": "code",
   "execution_count": 5,
   "id": "145e39b1-61c1-429a-82d0-b8228b870319",
   "metadata": {
    "execution": {
     "iopub.execute_input": "2024-05-13T13:37:37.077402Z",
     "iopub.status.busy": "2024-05-13T13:37:37.077066Z",
     "iopub.status.idle": "2024-05-13T13:37:37.525484Z",
     "shell.execute_reply": "2024-05-13T13:37:37.525150Z",
     "shell.execute_reply.started": "2024-05-13T13:37:37.077381Z"
    }
   },
   "outputs": [],
   "source": [
    "ra.set_text('부산의 한 모텔')"
   ]
  },
  {
   "cell_type": "code",
   "execution_count": 6,
   "id": "2c853944-a2e8-4772-a0b6-9fa5950e8436",
   "metadata": {
    "execution": {
     "iopub.execute_input": "2024-05-13T13:37:39.776440Z",
     "iopub.status.busy": "2024-05-13T13:37:39.774995Z",
     "iopub.status.idle": "2024-05-13T13:37:39.797855Z",
     "shell.execute_reply": "2024-05-13T13:37:39.797186Z",
     "shell.execute_reply.started": "2024-05-13T13:37:39.776395Z"
    }
   },
   "outputs": [],
   "source": [
    "def search_in_lv1():\n",
    "    for item in ra.lv1_set:\n",
    "        if re.search(\n",
    "            r'\\b{}'.format(item),\n",
    "            ra.text,\n",
    "            re.IGNORECASE):\n",
    "            ic(item)"
   ]
  },
  {
   "cell_type": "code",
   "execution_count": 7,
   "id": "3aaac738-4cce-44fc-b175-509def0d6658",
   "metadata": {
    "execution": {
     "iopub.execute_input": "2024-05-13T13:37:41.083571Z",
     "iopub.status.busy": "2024-05-13T13:37:41.082933Z",
     "iopub.status.idle": "2024-05-13T13:37:41.118387Z",
     "shell.execute_reply": "2024-05-13T13:37:41.117391Z",
     "shell.execute_reply.started": "2024-05-13T13:37:41.083542Z"
    }
   },
   "outputs": [
    {
     "name": "stderr",
     "output_type": "stream",
     "text": [
      "ic| item: '부산'\n"
     ]
    }
   ],
   "source": [
    "search_in_lv1()"
   ]
  },
  {
   "cell_type": "markdown",
   "id": "dbf96aea-feb6-4b1b-b098-a531765e1964",
   "metadata": {},
   "source": [
    "#### level 1 problem - try 2"
   ]
  },
  {
   "cell_type": "code",
   "execution_count": 3,
   "id": "f5889f79-84bd-4659-992e-3629b27c918d",
   "metadata": {
    "execution": {
     "iopub.execute_input": "2024-05-13T13:35:57.298599Z",
     "iopub.status.busy": "2024-05-13T13:35:57.297227Z",
     "iopub.status.idle": "2024-05-13T13:35:59.144235Z",
     "shell.execute_reply": "2024-05-13T13:35:59.143972Z",
     "shell.execute_reply.started": "2024-05-13T13:35:57.298569Z"
    },
    "scrolled": true
   },
   "outputs": [
    {
     "name": "stderr",
     "output_type": "stream",
     "text": [
      "ic| item: '부산의 한 모텔'\n",
      "ic| res: '부산광역시'\n"
     ]
    }
   ],
   "source": [
    "history = []\n",
    "for item in df_where[:1]:\n",
    "    if isinstance(item, str):\n",
    "        ic(item)\n",
    "        ra = RetrieveAddress(df_addr)\n",
    "        res = ra.process(item)\n",
    "        history.append(ra)\n",
    "        ic(res)"
   ]
  },
  {
   "cell_type": "markdown",
   "id": "7e74df92-9a39-42d8-8260-c7baf96a194e",
   "metadata": {},
   "source": [
    "희한하네?  \n",
    "'부산'이 아니고, '부산광역시' ??  \n",
    "왜지?  "
   ]
  },
  {
   "cell_type": "markdown",
   "id": "3db6b42d-1e4d-4af2-a2d3-e14baa0d3717",
   "metadata": {},
   "source": [
    "#### level 1 problem - try 3"
   ]
  },
  {
   "cell_type": "code",
   "execution_count": 3,
   "id": "e55c47aa-146c-4e5d-860a-1b7873843db8",
   "metadata": {
    "execution": {
     "iopub.execute_input": "2024-05-13T13:39:09.437345Z",
     "iopub.status.busy": "2024-05-13T13:39:09.436856Z",
     "iopub.status.idle": "2024-05-13T13:39:11.273838Z",
     "shell.execute_reply": "2024-05-13T13:39:11.273547Z",
     "shell.execute_reply.started": "2024-05-13T13:39:09.437327Z"
    },
    "scrolled": true
   },
   "outputs": [
    {
     "name": "stderr",
     "output_type": "stream",
     "text": [
      "ic| item: '부산의 한 모텔'\n",
      "ic| res: '부산'\n"
     ]
    }
   ],
   "source": [
    "history = []\n",
    "for item in df_where[:1]:\n",
    "    if isinstance(item, str):\n",
    "        ic(item)\n",
    "        ra = RetrieveAddress(df_addr)\n",
    "        res = ra.process(item)\n",
    "        history.append(ra)\n",
    "        ic(res)"
   ]
  },
  {
   "cell_type": "markdown",
   "id": "b8e0a634-a910-4391-8ec6-75ba48277985",
   "metadata": {},
   "source": [
    "`r'\\b{}'.format('|'.join(item)),`  \n",
    "이렇게 되어 있었네.\n",
    "\n",
    "`r'\\b{}'.format(item),`  \n",
    "바꾸니까 정상."
   ]
  },
  {
   "cell_type": "markdown",
   "id": "9ba1f98c-02fb-4d97-bb93-abb9101b3395",
   "metadata": {},
   "source": [
    "### retrieve test"
   ]
  },
  {
   "cell_type": "markdown",
   "id": "5ac81066-6e59-4a70-8ca3-26f7090647ff",
   "metadata": {},
   "source": [
    "#### load dataframe - 'df'"
   ]
  },
  {
   "cell_type": "code",
   "execution_count": 4,
   "id": "25ad98b8-09a6-417b-9909-1aa5bceac97d",
   "metadata": {
    "execution": {
     "iopub.execute_input": "2024-05-13T13:52:40.109919Z",
     "iopub.status.busy": "2024-05-13T13:52:40.107949Z",
     "iopub.status.idle": "2024-05-13T13:52:40.237233Z",
     "shell.execute_reply": "2024-05-13T13:52:40.236860Z",
     "shell.execute_reply.started": "2024-05-13T13:52:40.109883Z"
    }
   },
   "outputs": [],
   "source": [
    "df_news = load_var(\"df\")"
   ]
  },
  {
   "cell_type": "code",
   "execution_count": 5,
   "id": "a0d252d6-39e2-4bc8-8e8e-172d7b90a1df",
   "metadata": {
    "execution": {
     "iopub.execute_input": "2024-05-13T13:52:46.394106Z",
     "iopub.status.busy": "2024-05-13T13:52:46.391823Z",
     "iopub.status.idle": "2024-05-13T13:52:46.433243Z",
     "shell.execute_reply": "2024-05-13T13:52:46.432899Z",
     "shell.execute_reply.started": "2024-05-13T13:52:46.394062Z"
    },
    "scrolled": true
   },
   "outputs": [
    {
     "name": "stdout",
     "output_type": "stream",
     "text": [
      "<class 'pandas.core.frame.DataFrame'>\n",
      "RangeIndex: 291 entries, 0 to 290\n",
      "Data columns (total 21 columns):\n",
      " #   Column            Non-Null Count  Dtype  \n",
      "---  ------            --------------  -----  \n",
      " 0   범죄 유형             291 non-null    object \n",
      " 1   지역                107 non-null    object \n",
      " 2   위도                35 non-null     float64\n",
      " 3   경도                35 non-null     float64\n",
      " 4   중복 여부             191 non-null    object \n",
      " 5   퀄리티               47 non-null     object \n",
      " 6   제외 여부             291 non-null    object \n",
      " 7   기사제목              291 non-null    object \n",
      " 8   사건 장소             289 non-null    object \n",
      " 9   수사 기관             290 non-null    object \n",
      " 10  본문                291 non-null    object \n",
      " 11  URL               290 non-null    object \n",
      " 12  일자                291 non-null    int64  \n",
      " 13  언론사               291 non-null    object \n",
      " 14  기고자               283 non-null    object \n",
      " 15  비고                68 non-null     object \n",
      " 16  content           290 non-null    object \n",
      " 17  content_filtered  291 non-null    object \n",
      " 18  soup              1 non-null      object \n",
      " 19  content_text      290 non-null    object \n",
      " 20  soup_html         253 non-null    object \n",
      "dtypes: float64(2), int64(1), object(18)\n",
      "memory usage: 47.9+ KB\n"
     ]
    }
   ],
   "source": [
    "df_news.info()"
   ]
  },
  {
   "cell_type": "code",
   "execution_count": 9,
   "id": "3ad1962b-6c0f-4a50-a990-8aaa802b7410",
   "metadata": {
    "execution": {
     "iopub.execute_input": "2024-05-13T13:54:17.980134Z",
     "iopub.status.busy": "2024-05-13T13:54:17.955274Z",
     "iopub.status.idle": "2024-05-13T13:54:17.996467Z",
     "shell.execute_reply": "2024-05-13T13:54:17.995984Z",
     "shell.execute_reply.started": "2024-05-13T13:54:17.963063Z"
    },
    "scrolled": true
   },
   "outputs": [
    {
     "data": {
      "text/plain": [
       "'\\n\\n\\n술 취한 유부남 간부, 길거리서 여성에 \\'강제 입맞춤\\'…대만 발칵 - 아시아경제\\n\\n\\n\\n\\n\\n\\n\\n\\n\\n\\n\\n\\n\\n\\n\\n\\n\\n\\n\\n\\n\\n\\n\\n\\n\\n\\n\\n\\n\\n\\n\\n\\n\\n\\n\\n\\n\\n\\n\\n\\n\\n\\n\\n\\n\\n\\n\\n\\n\\n\\n\\n\\n\\n\\n\\n\\n\\n\\n\\n\\n\\n\\n\\n\\n\\n\\n\\n\\n\\n\\n\\n\\n\\n\\n\\n\\n\\n\\n\\n\\n\\n본문 바로가기\\n\\n\\n\\nbar_progress\\n\\n\\n\\n\\n\\n\\n\\n\\n아시아경제\\n\\n\\n\\n\\n\\n\\n사이트맵메뉴 열기\\n\\n\\n\\n\\n\\n증권\\n\\n\\n\\n\\n경제\\n\\n\\n\\n\\n부동산\\n\\n\\n\\n\\n산업·IT\\n\\n\\n\\n\\n정치\\n\\n\\n\\n\\n사회\\n\\n\\n\\n\\n국제\\n\\n\\n\\n\\n문화·라이프\\n\\n\\n\\n\\n오피니언\\n\\n\\n\\n\\n\\n\\n법률소식\\n\\n\\n\\n\\n\\n\\n\\n\\n\\n\\n\\t\\t\\t\\t\\t\\t\\t실시간 뉴스\\n\\t\\t\\t\\t\\t\\t\\n\\n\\n\\n\\n\\n김정호 민주당 김해을 후보 “검증된 뚝심·실력으로 김해 발전 이끌 것”\\n\\n\\n\\n\\n수익률 7％·수수료 0원 … 근로복지공단 창원지사 “푸른씨앗, 퇴직연금 관리에 딱!”\\n\\n\\n\\n\\n합천 공장서 ‘불’ … 야산으로 번져 1시간여 만에 진화\\n\\n\\n\\n\\n김병규 진주을 무소속 후보 “우주항공청 업무 총괄한 진짜 일꾼”\\n\\n\\n\\n\\n박완수 경남지사, 부산항 신항 ‘서컨’ 점검 “항만산업·항만 인재 선제 육성해야”\\n\\n\\n\\n\\n경기 총선 후보 평균 재산 50억원↑…김복덕·안철수 등\\n\\n\\n\\n\\n\"애들이 마시면 어쩌려고\" 수입산 커피서 발기부전 치료제 검출\\n\\n\\n\\n\\n종로 7:1 최고…총선 평균 경쟁률은 2.7대 1\\n\\n\\n\\n\\n中 서열 4·5위, 北김성남 만나…\"평화·안정 외부환경 조성\"\\n\\n\\n\\n\\n英 중앙은행 총재, 올해 금리인하 기대 \"비합리적이지 않아\"\\n\\n\\n\\n\\n\\n\\n\\n\\n국제\\n\\n술 취한 유부남 간부, 길거리서 여성에 \\'강제 입맞춤\\'…대만 발칵\\n\\n\\n\\n2024년 03월 22일(금)\\n\\n\\n로그인\\n\\n\\n회원가입\\n\\n\\n\\n\\n\\n\\n소셜 아이콘영역\\n\\n\\n\\n님\\n\\t\\t\\t\\t\\t\\t\\t\\t\\t\\n\\n\\n\\n\\n\\n\\n\\n아시아경제CORE 아이콘\\n\\t\\t\\t\\t\\t\\t\\t아시아경제CORE\\n\\t\\t\\t\\t\\t\\t\\n\\n검색창 열기\\n\\n\\n\\n\\n\\n\\n\\n\\n\\n\\n아시아경제\\n\\n\\n\\n\\n\\n검색창 열기\\n\\n\\n\\n\\n닫기버튼\\n\\n\\n\\n\\n\\n\\n\\n\\n로그인\\n\\n\\n회원가입\\n\\n\\n\\n소셜 아이콘영역\\n\\n\\n\\n님\\n\\n\\n\\n\\n뉴스\\n\\n\\n\\n\\n\\t\\t\\t\\t\\t\\t\\t\\t\\t증권\\n\\t\\t\\t\\t\\t\\t\\t\\t\\n\\n\\n\\n\\t\\t\\t\\t\\t\\t\\t\\t\\t시황\\n\\t\\t\\t\\t\\t\\t\\t\\t\\n\\n\\n\\n\\t\\t\\t\\t\\t\\t\\t\\t\\t특징주\\n\\t\\t\\t\\t\\t\\t\\t\\t\\n\\n\\n\\n\\t\\t\\t\\t\\t\\t\\t\\t\\t종목·공시\\n\\t\\t\\t\\t\\t\\t\\t\\t\\n\\n\\n\\n\\t\\t\\t\\t\\t\\t\\t\\t\\t파생·채권·외환\\n\\t\\t\\t\\t\\t\\t\\t\\t\\n\\n\\n\\n\\t\\t\\t\\t\\t\\t\\t\\t\\t글로벌·원자재\\n\\t\\t\\t\\t\\t\\t\\t\\t\\n\\n\\n\\n\\t\\t\\t\\t\\t\\t\\t\\t\\t기타\\n\\t\\t\\t\\t\\t\\t\\t\\t\\n\\n\\n\\n\\n\\n\\n\\n\\t\\t\\t\\t\\t\\t\\t\\t\\t경제\\n\\t\\t\\t\\t\\t\\t\\t\\t\\n\\n\\n\\n\\t\\t\\t\\t\\t\\t\\t\\t\\t금융\\n\\t\\t\\t\\t\\t\\t\\t\\t\\n\\n\\n\\n\\t\\t\\t\\t\\t\\t\\t\\t\\t정책\\n\\t\\t\\t\\t\\t\\t\\t\\t\\n\\n\\n\\n\\t\\t\\t\\t\\t\\t\\t\\t\\t일반\\n\\t\\t\\t\\t\\t\\t\\t\\t\\n\\n\\n\\n\\t\\t\\t\\t\\t\\t\\t\\t\\t재테크\\n\\t\\t\\t\\t\\t\\t\\t\\t\\n\\n\\n\\n\\t\\t\\t\\t\\t\\t\\t\\t\\t가상화폐\\n\\t\\t\\t\\t\\t\\t\\t\\t\\n\\n\\n\\n\\n\\n\\n\\n\\t\\t\\t\\t\\t\\t\\t\\t\\t정치\\n\\t\\t\\t\\t\\t\\t\\t\\t\\n\\n\\n\\n\\t\\t\\t\\t\\t\\t\\t\\t\\t대통령실\\n\\t\\t\\t\\t\\t\\t\\t\\t\\n\\n\\n\\n\\t\\t\\t\\t\\t\\t\\t\\t\\t정당\\n\\t\\t\\t\\t\\t\\t\\t\\t\\n\\n\\n\\n\\t\\t\\t\\t\\t\\t\\t\\t\\t정부부처\\n\\t\\t\\t\\t\\t\\t\\t\\t\\n\\n\\n\\n\\t\\t\\t\\t\\t\\t\\t\\t\\t국방·외교\\n\\t\\t\\t\\t\\t\\t\\t\\t\\n\\n\\n\\n\\t\\t\\t\\t\\t\\t\\t\\t\\t일반\\n\\t\\t\\t\\t\\t\\t\\t\\t\\n\\n\\n\\n\\n\\n\\n\\n\\t\\t\\t\\t\\t\\t\\t\\t\\t부동산\\n\\t\\t\\t\\t\\t\\t\\t\\t\\n\\n\\n\\n\\t\\t\\t\\t\\t\\t\\t\\t\\t정책\\n\\t\\t\\t\\t\\t\\t\\t\\t\\n\\n\\n\\n\\t\\t\\t\\t\\t\\t\\t\\t\\t개발·분양\\n\\t\\t\\t\\t\\t\\t\\t\\t\\n\\n\\n\\n\\t\\t\\t\\t\\t\\t\\t\\t\\t업계동향\\n\\t\\t\\t\\t\\t\\t\\t\\t\\n\\n\\n\\n\\t\\t\\t\\t\\t\\t\\t\\t\\t일반\\n\\t\\t\\t\\t\\t\\t\\t\\t\\n\\n\\n\\n\\n\\n\\n\\n\\t\\t\\t\\t\\t\\t\\t\\t\\t국제\\n\\t\\t\\t\\t\\t\\t\\t\\t\\n\\n\\n\\n\\t\\t\\t\\t\\t\\t\\t\\t\\t국제증시\\n\\t\\t\\t\\t\\t\\t\\t\\t\\n\\n\\n\\n\\t\\t\\t\\t\\t\\t\\t\\t\\t국제경제\\n\\t\\t\\t\\t\\t\\t\\t\\t\\n\\n\\n\\n\\t\\t\\t\\t\\t\\t\\t\\t\\t국제일반\\n\\t\\t\\t\\t\\t\\t\\t\\t\\n\\n\\n\\n\\t\\t\\t\\t\\t\\t\\t\\t\\t해외화제\\n\\t\\t\\t\\t\\t\\t\\t\\t\\n\\n\\n\\n\\n\\n\\n\\n\\t\\t\\t\\t\\t\\t\\t\\t\\t산업·IT\\n\\t\\t\\t\\t\\t\\t\\t\\t\\n\\n\\n\\n\\t\\t\\t\\t\\t\\t\\t\\t\\t기업·CEO\\n\\t\\t\\t\\t\\t\\t\\t\\t\\n\\n\\n\\n\\t\\t\\t\\t\\t\\t\\t\\t\\t자동차\\n\\t\\t\\t\\t\\t\\t\\t\\t\\n\\n\\n\\n\\t\\t\\t\\t\\t\\t\\t\\t\\tIT·통합\\n\\t\\t\\t\\t\\t\\t\\t\\t\\n\\n\\n\\n\\t\\t\\t\\t\\t\\t\\t\\t\\t유통\\n\\t\\t\\t\\t\\t\\t\\t\\t\\n\\n\\n\\n\\t\\t\\t\\t\\t\\t\\t\\t\\t바이오헬스\\n\\t\\t\\t\\t\\t\\t\\t\\t\\n\\n\\n\\n\\t\\t\\t\\t\\t\\t\\t\\t\\t중기·벤처\\n\\t\\t\\t\\t\\t\\t\\t\\t\\n\\n\\n\\n\\t\\t\\t\\t\\t\\t\\t\\t\\t과학\\n\\t\\t\\t\\t\\t\\t\\t\\t\\n\\n\\n\\n\\n\\n\\n\\n\\t\\t\\t\\t\\t\\t\\t\\t\\t사회\\n\\t\\t\\t\\t\\t\\t\\t\\t\\n\\n\\n\\n\\t\\t\\t\\t\\t\\t\\t\\t\\t사건사고\\n\\t\\t\\t\\t\\t\\t\\t\\t\\n\\n\\n\\n\\t\\t\\t\\t\\t\\t\\t\\t\\t교육\\n\\t\\t\\t\\t\\t\\t\\t\\t\\n\\n\\n\\n\\t\\t\\t\\t\\t\\t\\t\\t\\t인물\\n\\t\\t\\t\\t\\t\\t\\t\\t\\n\\n\\n\\n\\t\\t\\t\\t\\t\\t\\t\\t\\t일반\\n\\t\\t\\t\\t\\t\\t\\t\\t\\n\\n\\n\\n\\t\\t\\t\\t\\t\\t\\t\\t\\t지역\\n\\t\\t\\t\\t\\t\\t\\t\\t\\n\\n\\n\\n\\t\\t\\t\\t\\t\\t\\t\\t\\t호남\\n\\t\\t\\t\\t\\t\\t\\t\\t\\n\\n\\n\\n\\t\\t\\t\\t\\t\\t\\t\\t\\t영남\\n\\t\\t\\t\\t\\t\\t\\t\\t\\n\\n\\n\\n\\t\\t\\t\\t\\t\\t\\t\\t\\t충청\\n\\t\\t\\t\\t\\t\\t\\t\\t\\n\\n\\n\\n\\n\\n\\n\\n\\t\\t\\t\\t\\t\\t\\t\\t\\t문화·라이프\\n\\t\\t\\t\\t\\t\\t\\t\\t\\n\\n\\n\\n\\t\\t\\t\\t\\t\\t\\t\\t\\t공연·전시\\n\\t\\t\\t\\t\\t\\t\\t\\t\\n\\n\\n\\n\\t\\t\\t\\t\\t\\t\\t\\t\\t책\\n\\t\\t\\t\\t\\t\\t\\t\\t\\n\\n\\n\\n\\t\\t\\t\\t\\t\\t\\t\\t\\t여행·레저\\n\\t\\t\\t\\t\\t\\t\\t\\t\\n\\n\\n\\n\\t\\t\\t\\t\\t\\t\\t\\t\\t문화일반\\n\\t\\t\\t\\t\\t\\t\\t\\t\\n\\n\\n\\n\\t\\t\\t\\t\\t\\t\\t\\t\\t헬스·뷰티·패션\\n\\t\\t\\t\\t\\t\\t\\t\\t\\n\\n\\n\\n\\t\\t\\t\\t\\t\\t\\t\\t\\t리빙푸드\\n\\t\\t\\t\\t\\t\\t\\t\\t\\n\\n\\n\\n\\n\\n\\n\\n\\t\\t\\t\\t\\t\\t\\t\\t\\t오피니언\\n\\t\\t\\t\\t\\t\\t\\t\\t\\n\\n\\n\\n\\t\\t\\t\\t\\t\\t\\t\\t\\t칼럼\\n\\t\\t\\t\\t\\t\\t\\t\\t\\n\\n\\n\\n\\t\\t\\t\\t\\t\\t\\t\\t\\t만평\\n\\t\\t\\t\\t\\t\\t\\t\\t\\n\\n\\n\\n\\n\\n\\n\\n\\t\\t\\t\\t\\t\\t\\t\\t\\t해외칼럼\\n\\t\\t\\t\\t\\t\\t\\t\\t\\n\\n\\n\\n\\t\\t\\t\\t\\t\\t\\t\\t블룸버그\\n\\t\\t\\t\\t\\t\\t\\t\\t\\n\\n\\n\\n\\t\\t\\t\\t\\t\\t\\t\\tSCMP\\n\\t\\t\\t\\t\\t\\t\\t\\t\\n\\n\\n\\n\\n\\n\\n\\n\\t\\t\\t\\t\\t\\t\\t\\t\\t골프\\n\\t\\t\\t\\t\\t\\t\\t\\t\\n\\n\\n\\n\\t\\t\\t\\t\\t\\t\\t\\t\\t경기일반\\n\\t\\t\\t\\t\\t\\t\\t\\t\\n\\n\\n\\n\\t\\t\\t\\t\\t\\t\\t\\t\\t라이프/기획\\n\\t\\t\\t\\t\\t\\t\\t\\t\\n\\n\\n\\n\\t\\t\\t\\t\\t\\t\\t\\t\\t용품/장비\\n\\t\\t\\t\\t\\t\\t\\t\\t\\n\\n\\n\\n\\t\\t\\t\\t\\t\\t\\t\\t\\t포토/영상\\n\\t\\t\\t\\t\\t\\t\\t\\t\\n\\n\\n\\n\\n\\n\\n\\n\\t\\t\\t\\t\\t\\t\\t\\t\\t연예·스포츠\\n\\t\\t\\t\\t\\t\\t\\t\\t\\n\\n\\n\\n\\t\\t\\t\\t\\t\\t\\t\\t\\t연예스타\\n\\t\\t\\t\\t\\t\\t\\t\\t\\n\\n\\n\\n\\t\\t\\t\\t\\t\\t\\t\\t\\t스포츠\\n\\t\\t\\t\\t\\t\\t\\t\\t\\n\\n\\n\\n\\t\\t\\t\\t\\t\\t\\t\\t\\t해외뉴스\\n\\t\\t\\t\\t\\t\\t\\t\\t\\n\\n\\n\\n\\n\\n\\n\\n\\t\\t\\t\\t\\t\\t\\t\\t\\t포토뉴스\\n\\t\\t\\t\\t\\t\\t\\t\\t\\n\\n\\n\\n\\t\\t\\t\\t\\t\\t\\t\\t\\t일반\\n\\t\\t\\t\\t\\t\\t\\t\\t\\n\\n\\n\\n\\t\\t\\t\\t\\t\\t\\t\\t\\t연예스타\\n\\t\\t\\t\\t\\t\\t\\t\\t\\n\\n\\n\\n\\t\\t\\t\\t\\t\\t\\t\\t\\t스포츠\\n\\t\\t\\t\\t\\t\\t\\t\\t\\n\\n\\n\\n\\n\\n서브메뉴\\n\\n기획·이슈\\n\\n\\n\\n서브메뉴\\n\\n많이 본 뉴스\\n\\n\\n\\n서브메뉴\\n\\n프리미엄 콘텐츠\\n\\n\\n\\n\\n\\n서브메뉴\\n\\n경제법률 완전정복\\n\\n\\n\\n\\n\\n서브메뉴\\n\\n연재\\n\\n\\n\\n\\n\\n서브메뉴\\n\\n법률소식\\n\\n\\n\\n\\n주요 기사를 음성으로 만나보세요!\\n\\n\\n\\n오디오페이퍼\\n\\n\\t\\t\\t\\t\\t\\t\\t\\t\\t오디오페이퍼\\n\\t\\t\\t\\t\\t\\t\\t\\t\\n\\n\\n\\n\\nLIVE\\n\\n\\t\\t\\t\\t\\t\\t\\t\\t\\t실시간뉴스\\n\\t\\t\\t\\t\\t\\t\\t\\t\\n\\n\\n\\n\\n\\n\\n\\n\\n아시아경제 서비스\\n\\n\\n\\n\\n\\n하루만보 하루천자 아이콘\\n\\n하루만보 하루천자\\n\\n\\n\\n\\n\\n디펜스클럽 아이콘\\n\\n\\n양낙규의 디펜스클럽\\n\\t\\t\\t\\t\\t\\t\\t\\t\\t\\t\\t\\n\\n\\n\\n\\n\\n아시아경제CORE 아이콘\\n\\n아시아경제CORE\\n\\n\\n\\n\\n\\n드링킷 아이콘\\n\\n드링킷\\n\\n\\n\\n\\n\\n뉴스레터 아이콘\\n\\n뉴스레터\\n\\n\\n\\n\\n아시아경제 교육센터\\n\\n\\n\\n\\nE.아시아경제\\n\\n\\n\\n\\n운세\\n\\n\\n\\n\\n\\n\\n\\n\\n\\n\\n\\n\\n\\n\\n\\n\\n\\n\\n\\n\\n\\t\\t\\t\\t\\t\\t\\t\\t검색영역\\n\\t\\t\\t\\t\\t\\t\\t\\n\\n뉴스검색\\n\\n\\n\\n삭제아이콘\\n\\n\\n\\n\\n검색아이콘\\n\\n\\n\\n\\n\\n\\n\\n\\n\\n\\n\\nDim영역\\n\\n\\n\\n\\n\\n\\n\\n\\n\\n\\n\\n\\n\\n\\n\\n\\n\\n\\n\\n국제\\n\\n\\n\\n\\n\\n\\n증시\\n\\n\\n\\n\\n경제\\n\\n\\n\\n\\n일반\\n\\n\\n\\n\\n화제\\n\\n\\n\\n\\n\\n\\n\\n\\n\\n\\n\\n\\n\\n\\n\\n\\n\\n\\n\\n\\n\\n\\n\\n\\n\\n\\n\\n\\n\\n\\n\\n\\n\\n\\n\\n\\n\\n\\n\\n\\n\\n\\n\\n이전\\n\\n\\n다음\\n\\n\\n\\n\\n\\n\\n\\n\\n\\n\\n\\n\\n\\n\\n\\n\\n\\n\\n\\n\\n\\n \\n\\n화제\\n\\n증시\\n경제\\n일반\\n화제\\n \\n\\n\\r\\n\\t\\t\\t\\t\\t\\t\\t술 취한 유부남 간부, 길거리서 여성에 \\'강제 입맞춤\\'…대만 발칵\\t\\t\\t\\t\\t\\t\\n\\n\\n\\n\\n김은하기자 \\n\\n\\n입력2024.02.09 12:50\\n수정2024.02.09 18:36\\n\\n시계아이콘읽는 시간43초 \\n\\n\\n뉴스듣기\\n\\n공유\\n\\n\\n\\n\\n\\n\\n공유하기\\n\\n\\n\\n\\n페이스북\\n\\n\\n\\n\\n카카오톡\\n\\n\\n\\n\\n트위터\\n\\n\\n\\n\\n주소복사\\n\\n\\n\\n\\n닫기\\n\\n\\n\\n\\n스크랩\\n글자크기\\n\\n\\n\\n\\n글자크기 설정\\n\\n\\n\\n\\n\\n가나다라\\r\\n\\t\\t\\t\\t\\t\\t\\t\\n\\n\\n\\n\\n가나다라\\r\\n\\t\\t\\t\\t\\t\\t\\t\\n\\n\\n\\n\\n가나다라\\r\\n\\t\\t\\t\\t\\t\\t\\t\\n\\n\\n\\n닫기\\n\\n\\n\\n\\n인쇄\\nRSS\\n\\n\\n\\n\\n\\n\\n\\n\\n\\n\\n\\n\\n\\n\\n대만 야당 \"기혼자의 이런 행동은 심각한 스캔들\" \\n\\n대만 정보기관인 국가안전국 고위 간부가 술에 취해 여성에게 강제로 입을 맞추는 영상이 공개돼 파장이 일고 있다.7일 대만 자유시보에 따르면 국가안전국 셰징화 소장이 술에 취한 채 한 젊은 여성을 강제로 입 맞추는 영상이 유출됐다.  \\n\\n \\n\\n\\n\\n대만 정보기관 \\'국가안전국\\' 고위 간부인 셰징화가 강제 키스하는 장면. [사진출처=대만 TVBS 뉴스 캡처]\\nAD\\n\\n원본보기 아이콘\\n\\n\\n영상 제보자는 셰징화가 밤 중에 길가에서 마스크를 쓴 20대(추정) 여성의 볼과 목을 잡고 강제로 키스하는 장면을 화했다. 셰징화는 쪼그려 앉아 여성에게 키스를 시도했다.영상 속 셰징화 소장은 술에 취한 모습으로 횡단보도 인근 길가에 쪼그려 앉아 있다. 그 앞에는 마스크를 착용한 한 여성이 있었고, 대화를 나누던 중 셰징화 소장은 돌연 여성에게 얼굴을 들이밀었다. 여성이 고개를 돌려 피하자 목을 잡고 여성의 볼에 입을 갖다 댔고, 이내 마스크를 내리고는 입을 맞췄다.영상은 급속도로 확산하면서 논란이 커졌고 셰징화가 소속된 특수임무센터 지휘관 차이밍옌이 즉각적인 조사를 시작했다. \\n\\n대만 중시신문망 등 현지 언론들은 \"유부남인 셰징화가 강제로 입 맞춘 여성은 그의 아내가 아닌 사실이 밝혀져 국가안전국이 발칵 뒤집어졌다\"고 일제히 전했다. \\n\\n\\n\\n대만 정보기관 ‘국가안전국’ 고위 간부가 술에 취해 젊은 여성에게 강제로 키스한 영상이 공개돼 논란이 일고 있다. [사진출처 = 영상 캡처]\\n\\n원본보기 아이콘\\n\\n\\n야당 국민당 대변인 쉬차오신은 \"기혼자인 정보당국 간부의 이런 행동은 심각한 스캔들\"이라며 \"피해 여성이 국가안전국 내 다른 부서 공직자인지 여부와 셰징화가 권력을 이용해 여자 공무원을 추행했다면 당국은 어떻게 처벌할 것인지 밝히라\"고 지적했다.앞서 셰징화 처신이 논란을 일으킨 건 이번이 처음은 아니다. 2020년 소장으로 진급되기 전 체력 테스트에서 탈락했음에도 결과서를 조작한 사실이 최근 드러났다. 또 그 해 3km 달리기에서 시간 내 완주에 실패했다. 그러자 대체 종목인 5km 걷기를 선택했는데 합격선인 45분 이내 완주에 실패하자 44분 48초로 결과를 조작했다. 그의 실제 완주 시간은 47분 23초였다. \\n김은하 기자 galaxy656574@asiae.co.kr\\n\\n\\nAD\\n\\n\\n\\n\\n\\n\\n\\n\\n\\n\\n\\n꼭 봐야할 주요뉴스\\n\\n\\n\"밥 대신 개 사료 먹으면서 연봉 1억 받아요\" [뉴 ...\\n마스크영역\\n\\n\\n\"애들이 마시면 어쩌려고\" 수입산 커피서 발기부전 치료제 검출\\n들판 뒤지다 17돈 금덩이 발견…7000만원 벌었다\\n\"결혼약속한 남친, 다른 여자와 식 올린 다음날 헤어지자네요\"\\n\\'18개월 군백기\\'가 무색, 톱스타로 발돋움 …군대서 무슨일이?\\n\\n\\n\\n\\n\\n\\n<ⓒ투자가를 위한 경제콘텐츠 플랫폼, 아시아경제(www.asiae.co.kr) 무단전재 배포금지> \\n\\n\\n\\n\\n\\n\\n\\n\\n\\n\\n\\n\\n\\n\\n\\n\\n\\n\\n\\n\\n\\n\\n\\n\\n\\n\\n\\n\\n\\n\\n\\n\\n\\n함께 본 뉴스\\n새로보기 \\n\\n\\n\"의료시스템 박살내자…아비규환될 것\" 선넘은 의사글, 정부 수...\\n\\n\\n\\n새벽녘 꽃다발 가져간 할아버지, 3시간 뒤 반전행동 \\'뭉클\\'\\n\\n\\n\\n\"여자 서른에 7천 모으면 결혼 가능한가요?\"…누리꾼 반응을 보...\\n\\n\\n\\n식당 밖 우산들고 쪼그려 앉은 여성…\"거기서 왜 볼일을\"\\n\\n\\n\\n또래 죽이고 암매장, 돈까지 빼간 중학생들…중국 전역 공분\\n\\n\\n\\n\\n\\n노인보다 덜 행복한 청년들…\"SNS 세상과 현실 너무 달라서\"\\n\\n\\n\\n\\'돼지털 판명\\' 떡갈비 이물질 2년째 갈등…구매자 \"블랙컨슈머 ...\\n\\n\\n\\n\"김혜자도 놀라겠다\" 부천에 있다는 8천원 백반 도시락\\n\\n\\n\\n\"퇴사한 여직원이 사무실서 수다떨고 가요…아이도 데리고\"\\n\\n\\n\\n\"소아과 오픈런? 좀 멀거나 인테리어 떨어지는 곳 가면 돼\"\\n\\n\\n\\n\\n\\nMS, 챗봇 \\'코파일럿\\' 버튼 키보드에 탑재윈도 이후 30년만에 변경\\n\\n\\n\\n개혁신당 류호정, \"3지대 정치 실패\" 후보 등록 포기\\n\\n\\n\\n임종윤 “북경한미 매출 100억→4000억 성공 경험…순익 1조·저평가 극복 자신”\\n\\n\\n\\n美 \"대중 수출통제, 반도체 장비 외에 서비스·부품까지 확대\"\\n\\n\\n\\n가지치기 나선 中알리바바…빌리빌리·샤오펑 지분도 매각\\n\\n\\n\\n\\n\\n\\'新사업\\' 속도내는 롯데지주…이자 부담은 \\'눈덩이\\'\\n\\n\\n\\n지난해 호실적에도 올해 장담 못하는 시멘트 업계\\n\\n\\n\\n[시시비비]패권전쟁 미·중에 갇힌 韓 반도체\\n\\n\\n\\n[디펜스칼럼]누구를 위한 방산전시회인가\\n\\n\\n\\n[초동시각]야구, 800만 관중보다 중요한것\\n\\n\\n\\n\\n\\n\\n\\n\\n\\n\\n\\n\\n\\n실시간 인기정보AD\\n\\n\\n\\n\\n\\n이슈 PICK\\n\\n\\n\\n\\n\\n\\n\\n\\n#국내이슈\\n\\n\\n\\n\\n\\n\\n\\n#해외이슈\\n\\n\\n\\n\\n\\n\\n\\n#포토PICK\\n\\n\\n\\n\\n\\n\\n\\n#CAR라이프\\n\\n\\n\\n\\n\\n\\n\\n#뉴스속OO\\n\\n\\n\\n\\n\\n\\n\\n\\n\\n\\n간격처리를 위한 class\\n\\n\\n\\n\\n\\n\\n\\n오늘의 추천 컨텐츠AD\\n\\n\\n\\n\\n\\n\\n\\n\\n실시간 랭킹이슈AD\\n\\n\\n\\n\\n\\n\\n많이 본 뉴스\\n\\n가장 많이 읽힌 뉴스를 제공합니다. 집계 기준에 따라 최대 3일 전 기사까지 제공될 수 있습니다.\\n\\n\\n\\n\\n\\n종합\\n국제\\n\\n\\n\\n\\n\\n\\n\\n1\"의료시스템 박살내자…아비규환될 것\" 선넘은 의사글, 정\\n\\n\\n\\n2새벽녘 꽃다발 가져간 할아버지, 3시간 뒤 반전행동 \\'뭉클\\'\\n\\n\\n\\n3\"\\'엄마폭행\\' 지켜본 아이, 매일 악몽꾸는데…법원, 가해자 \\n\\n\\n\\n4\"여보 사랑해\", \"응 사랑해요\"…60대 선장부부가 나눈 마지\\n\\n\\n\\n5식당 밖 우산들고 쪼그려 앉은 여성…\"거기서 왜 볼일을\"\\n\\n\\n\\n\\n\\n\\n\\n\\n\\n\\n1\\n\\r\\n\\t\\t\\t\\t\\t\\t\\tMS, 챗봇 \\'코파일럿\\' 버튼 키보드에 탑재...윈도 이후 30년만에 변경\\r\\n\\t\\t\\t\\t\\t\\t\\n\\n\\n\\n\\n2\\n\\r\\n\\t\\t\\t\\t\\t\\t\\t또래 죽이고 암매장, 돈까지 빼간 중학생들…중국 전역 공분\\r\\n\\t\\t\\t\\t\\t\\t\\n\\n\\n\\n\\n3\\n\\r\\n\\t\\t\\t\\t\\t\\t\\t[뉴욕증시]FOMC 훈풍에 3대 지수 또 최고치…마이크론 14%대 급등\\r\\n\\t\\t\\t\\t\\t\\t\\n\\n\\n\\n\\n4\\n\\r\\n\\t\\t\\t\\t\\t\\t\\t美 \"대중 수출통제, 반도체 장비 외에 서비스·부품까지 확대\"\\r\\n\\t\\t\\t\\t\\t\\t\\n\\n\\n\\n\\n5\\n\\r\\n\\t\\t\\t\\t\\t\\t\\t\\'쩐의 전쟁\\'서 밀리는 트럼프…바이든 후원금의 3분의 1\\r\\n\\t\\t\\t\\t\\t\\t\\n\\n\\n\\n\\n6\\n\\r\\n\\t\\t\\t\\t\\t\\t\\t독일 축구, 자국 브랜드 아디다스 버렸다…\"재정난에 나이키 계약\"\\r\\n\\t\\t\\t\\t\\t\\t\\n\\n\\n\\n\\n7\\n\\r\\n\\t\\t\\t\\t\\t\\t\\t美 법무부도 애플 정조준…\"반독점법 위반\" 소송\\r\\n\\t\\t\\t\\t\\t\\t\\n\\n\\n\\n\\n8\\n\\r\\n\\t\\t\\t\\t\\t\\t\\t\"반독점법 위반\" 美 법무부도 애플 정조준…애플 주가 4%대 급락(상보)\\r\\n\\t\\t\\t\\t\\t\\t\\n\\n\\n\\n\\n9\\n\\r\\n\\t\\t\\t\\t\\t\\t\\t美, G7에 러 동결자산으로 우크라 지원 제안…\"채권 500억달러 발행\"\\r\\n\\t\\t\\t\\t\\t\\t\\n\\n\\n\\n\\n10\\n\\r\\n\\t\\t\\t\\t\\t\\t\\t레딧, 美 상장첫날 48% 폭등…올트먼도 웃는다\\r\\n\\t\\t\\t\\t\\t\\t\\n\\n\\n\\n\\n\\n\\n\\n\\n\\n\\n\\n\\n\\n\\n\\n\\n\\n\\n\\n\\n\\ntop버튼\\n\\n\\n\\n\\n\\n\\n\\n\\n한눈에 보는 뉴스&트렌드\\n\\n\\n\\n\"업무 전화인 줄 알았는데\"총선 전화·문자 폭탄에 시민 \\'골머리\\'\\n\"의료시스템 박살내자…아비규환될 것\"…선 넘은 의사글, 정부 수사의뢰\\n\"숙박업 등록 안하면 잔금대출도 안나와\" 거리 나선 생숙 분양자들\\n연구용 드론 빌린 게 김영란법 위반?…경찰들 \"모두 반납했다\"\\n독일 축구, 자국 브랜드 아디다스 버렸다…\"재정난에 나이키 계약\"\\nMS, 챗봇 \\'코파일럿\\' 버튼 키보드에 탑재윈도 이후 30년만에 변경\\n개혁신당 류호정, \"3지대 정치 실패\" 후보 등록 포기\\n\\n\\n새로운 트렌드 보기\\n\\n\\n\\n을지로 신상 정복\\n\\n\\n\\n 피코크 냉동식품전격 리뷰\\n\\n\\n\\n또간집 ver.1\\n\\n\\n\\n\\n\\n책 펼쳤는데 왜 군침이 돌지 \\n\\n\\n\\n젤리 먹는 맛에 살어리랏다 \\n\\n\\n\\n연말→연초에 보기 좋은 영화 \\n\\n\\n\\n기획 시리즈❤\\n구정에 도란도란 마시기 좋은 술 3\\n점심 해장, 여기에서 했어요(feat. 충무로)\\n\"이 조합 가능?\" 의외의 안주와 한 잔\\n\\n\\n12월에는 ‘이거’ 꼭 먹자고요 \\n‘이냉치냉’으로 즐기는 먹거리\\n비건·단백질? 내가 사랑한 든든한 음료\\n[인터뷰] 힙지로 숨은 독립서점 ‘보위옥’\\n \\n\\n\\n\\n\\n \\n\\n\\n\\n\\n\\n\\n\\n\\n\\n\\n공지·사고\\n\\n\\n\\n페이스북 로그인, 회원가입 지원 종료 안내\\n\\n\\n\\n\\n\\n이벤트·행사\\n\\n\\n\\n\\nE.아시아경제 바로가기\\n\\n\\n\\n\\n\\n\\n\\n\\n\\n\\n\\n\\n로그인\\n\\n\\n로그아웃\\n\\n\\n앱설치\\n\\n\\n\\nPC버전\\n\\n\\n사이트맵\\n\\n\\n\\n\\n\\n\\n회사소개\\n\\n\\n광고/제휴문의\\n\\n\\n인재채용\\n\\n\\n퍼스트클럽\\n\\n\\n구독문의\\n\\n\\n기사제보\\n\\n\\n개인정보처리방침\\n\\n\\n이용약관\\n\\n\\n고충처리\\n\\n\\n사이트맵\\n\\n\\n매체정보\\n\\n\\n\\n\\n\\n\\n\\t\\t\\t\\t\\t\\t\\t\\t\\t서울특별시 중구 충무로 29 아시아미디어타워 10-11F\\n\\t\\t\\t\\t\\t\\t\\t\\t\\n\\n\\t\\t\\t\\t\\t\\t\\t\\t\\t인터넷신문등록번호 : 서울 아00058\\n\\t\\t\\t\\t\\t\\t\\t\\t\\n\\n\\t\\t\\t\\t\\t\\t\\t\\t\\t등록일 : 2005.09.13\\n\\t\\t\\t\\t\\t\\t\\t\\t\\n\\n\\t\\t\\t\\t\\t\\t\\t\\t\\t발행·편집인 : 우병현\\n\\t\\t\\t\\t\\t\\t\\t\\t\\n\\n\\n대표 전화번호 : 02) 2200-2114\\n통신판매업번호 : 2010-서울중구-0172\\n사업자등록번호 : 101-86-15912\\n\\n\\n\\t\\t\\t\\t\\t\\t\\t\\t아시아경제의 모든 콘텐츠(기사)는 저작권법의 보호를 받는 바, 무단 전재. 복사. 배포 등을 금합니다.\\n\\t\\t\\t\\t\\t\\t\\t\\n\\n\\nⓒ 아시아경제 All rights reserved.\\n\\n\\n\\n\\n\\n\\n\\n\\n\\n\\n\\n\\n\\n\\n'"
      ]
     },
     "execution_count": 9,
     "metadata": {},
     "output_type": "execute_result"
    }
   ],
   "source": [
    "df_news.iloc[1]['content_text']"
   ]
  },
  {
   "cell_type": "markdown",
   "id": "8d7a26f8-5d7d-4407-8424-7b170b1b8fa4",
   "metadata": {},
   "source": [
    "#### inspection dataframe - df_hk_json"
   ]
  },
  {
   "cell_type": "code",
   "execution_count": 10,
   "id": "4f4875f0-7659-4c8a-be91-8ca16a12d1d0",
   "metadata": {
    "execution": {
     "iopub.execute_input": "2024-05-13T13:56:17.702996Z",
     "iopub.status.busy": "2024-05-13T13:56:17.700725Z",
     "iopub.status.idle": "2024-05-13T13:56:17.744554Z",
     "shell.execute_reply": "2024-05-13T13:56:17.744223Z",
     "shell.execute_reply.started": "2024-05-13T13:56:17.702919Z"
    },
    "scrolled": true
   },
   "outputs": [
    {
     "name": "stdout",
     "output_type": "stream",
     "text": [
      "<class 'pandas.core.frame.DataFrame'>\n",
      "RangeIndex: 27 entries, 0 to 26\n",
      "Data columns (total 22 columns):\n",
      " #   Column  Non-Null Count  Dtype  \n",
      "---  ------  --------------  -----  \n",
      " 0   범죄 유형   0 non-null      float64\n",
      " 1   지역      3 non-null      object \n",
      " 2   위도      0 non-null      float64\n",
      " 3   경도      0 non-null      float64\n",
      " 4   중복 여부   6 non-null      object \n",
      " 5   퀄리티     0 non-null      float64\n",
      " 6   제외 여부   0 non-null      float64\n",
      " 7   기사제목    27 non-null     object \n",
      " 8   사건 장소   27 non-null     object \n",
      " 9   수사 기관   27 non-null     object \n",
      " 10  본문      27 non-null     object \n",
      " 11  URL     27 non-null     object \n",
      " 12  일자      27 non-null     int64  \n",
      " 13  언론사     27 non-null     object \n",
      " 14  기고자     27 non-null     object \n",
      " 15  비고      0 non-null      float64\n",
      " 16  text    27 non-null     object \n",
      " 17  who     5 non-null      object \n",
      " 18  when    5 non-null      object \n",
      " 19  where   5 non-null      object \n",
      " 20  what    5 non-null      object \n",
      " 21  json    27 non-null     object \n",
      "dtypes: float64(6), int64(1), object(15)\n",
      "memory usage: 4.8+ KB\n"
     ]
    }
   ],
   "source": [
    "df_hk_json.info()"
   ]
  },
  {
   "cell_type": "code",
   "execution_count": 26,
   "id": "692cb145-0db2-46e3-9a98-23feb7b63202",
   "metadata": {
    "execution": {
     "iopub.execute_input": "2024-05-13T14:14:59.041965Z",
     "iopub.status.busy": "2024-05-13T14:14:59.039090Z",
     "iopub.status.idle": "2024-05-13T14:14:59.086238Z",
     "shell.execute_reply": "2024-05-13T14:14:59.085817Z",
     "shell.execute_reply.started": "2024-05-13T14:14:59.041846Z"
    },
    "scrolled": true
   },
   "outputs": [
    {
     "data": {
      "text/html": [
       "<div>\n",
       "<style scoped>\n",
       "    .dataframe tbody tr th:only-of-type {\n",
       "        vertical-align: middle;\n",
       "    }\n",
       "\n",
       "    .dataframe tbody tr th {\n",
       "        vertical-align: top;\n",
       "    }\n",
       "\n",
       "    .dataframe thead th {\n",
       "        text-align: right;\n",
       "    }\n",
       "</style>\n",
       "<table border=\"1\" class=\"dataframe\">\n",
       "  <thead>\n",
       "    <tr style=\"text-align: right;\">\n",
       "      <th></th>\n",
       "      <th>범죄 유형</th>\n",
       "      <th>지역</th>\n",
       "      <th>위도</th>\n",
       "      <th>경도</th>\n",
       "      <th>중복 여부</th>\n",
       "      <th>퀄리티</th>\n",
       "      <th>제외 여부</th>\n",
       "      <th>기사제목</th>\n",
       "      <th>사건 장소</th>\n",
       "      <th>수사 기관</th>\n",
       "      <th>...</th>\n",
       "      <th>일자</th>\n",
       "      <th>언론사</th>\n",
       "      <th>기고자</th>\n",
       "      <th>비고</th>\n",
       "      <th>text</th>\n",
       "      <th>who</th>\n",
       "      <th>when</th>\n",
       "      <th>where</th>\n",
       "      <th>what</th>\n",
       "      <th>json</th>\n",
       "    </tr>\n",
       "  </thead>\n",
       "  <tbody>\n",
       "    <tr>\n",
       "      <th>1</th>\n",
       "      <td>NaN</td>\n",
       "      <td>전라북도 김제시 금산면</td>\n",
       "      <td>NaN</td>\n",
       "      <td>NaN</td>\n",
       "      <td>NaN</td>\n",
       "      <td>NaN</td>\n",
       "      <td>NaN</td>\n",
       "      <td>\"여자 혼자 있는 것 같아서\" 무단 침입해 주먹 휘두른 60대男</td>\n",
       "      <td>전북</td>\n",
       "      <td>김제경찰서,경찰,김제시,한경닷컴 객원</td>\n",
       "      <td>...</td>\n",
       "      <td>20230413</td>\n",
       "      <td>한국경제</td>\n",
       "      <td>이보배</td>\n",
       "      <td>NaN</td>\n",
       "      <td>/사진=게티이미지뱅크\\n일면식도 없는 여성의 집에 무단 침입해 주먹을 휘두른 60대...</td>\n",
       "      <td>60대 남성</td>\n",
       "      <td>오후 2시</td>\n",
       "      <td>김제시의 한 아파트</td>\n",
       "      <td>주먹을 휘두른 60대 여성의 집에 무단 침입해 주먹을 휘두른 혐의(주거침입 등)</td>\n",
       "      <td>{\"who\": \"60대 남성\", \"when\": \"오후 2시\", \"where\": \"김...</td>\n",
       "    </tr>\n",
       "    <tr>\n",
       "      <th>2</th>\n",
       "      <td>NaN</td>\n",
       "      <td>서울시 관악구</td>\n",
       "      <td>NaN</td>\n",
       "      <td>NaN</td>\n",
       "      <td>NaN</td>\n",
       "      <td>NaN</td>\n",
       "      <td>NaN</td>\n",
       "      <td>길거리서 웃통 벗고 여성에 달려든 문신男 경찰 오자 '난동'</td>\n",
       "      <td>서울,관악구</td>\n",
       "      <td>유튜브,서울경찰청</td>\n",
       "      <td>...</td>\n",
       "      <td>20230519</td>\n",
       "      <td>한국경제</td>\n",
       "      <td>김소연</td>\n",
       "      <td>NaN</td>\n",
       "      <td>/사진=유튜브 채널 '서울경찰' 영상 캡처\\n출근길 '묻지마 폭행'을 저지른 남성이...</td>\n",
       "      <td>남성</td>\n",
       "      <td>7일 오전 2시 45분</td>\n",
       "      <td>서울 강남구 압구정동의 길가</td>\n",
       "      <td>헌팅을 거절한 여성에 격분한 남성이 폭행을 저지르는 모습</td>\n",
       "      <td>{\"who\": \"남성\", \"when\": \"3월 서울 관악구 골목길에서 난동을 부렸던...</td>\n",
       "    </tr>\n",
       "    <tr>\n",
       "      <th>5</th>\n",
       "      <td>NaN</td>\n",
       "      <td>서울시 강남구 압구정동</td>\n",
       "      <td>NaN</td>\n",
       "      <td>NaN</td>\n",
       "      <td>NaN</td>\n",
       "      <td>NaN</td>\n",
       "      <td>NaN</td>\n",
       "      <td>\"같이 한잔해\" 끝없는 대쉬 평일 밤에도 '헌팅포차' 꽉 찼다 [여기잇슈]</td>\n",
       "      <td>라운지,펀치남,서울,압구정,강남역,강남,인근</td>\n",
       "      <td>압구정로데오,정부,한잔해,SBS,BJ,한창</td>\n",
       "      <td>...</td>\n",
       "      <td>20230524</td>\n",
       "      <td>한국경제</td>\n",
       "      <td>김세린</td>\n",
       "      <td>NaN</td>\n",
       "      <td>강남역의 '헌팅 포차' 거리 한 술집에 야외 테이블까지 사람들이 가득 차 있는 모습...</td>\n",
       "      <td>NaN</td>\n",
       "      <td>NaN</td>\n",
       "      <td>NaN</td>\n",
       "      <td>NaN</td>\n",
       "      <td>{\\n\"who\": \"한 남성 2명과 여성 2명\",\\n\"when\": \"근일 밤\",\\n...</td>\n",
       "    </tr>\n",
       "  </tbody>\n",
       "</table>\n",
       "<p>3 rows × 22 columns</p>\n",
       "</div>"
      ],
      "text/plain": [
       "   범죄 유형            지역  위도  경도 중복 여부  퀄리티  제외 여부  \\\n",
       "1    NaN  전라북도 김제시 금산면 NaN NaN   NaN  NaN    NaN   \n",
       "2    NaN       서울시 관악구 NaN NaN   NaN  NaN    NaN   \n",
       "5    NaN  서울시 강남구 압구정동 NaN NaN   NaN  NaN    NaN   \n",
       "\n",
       "                                        기사제목                     사건 장소  \\\n",
       "1        \"여자 혼자 있는 것 같아서\" 무단 침입해 주먹 휘두른 60대男                        전북   \n",
       "2          길거리서 웃통 벗고 여성에 달려든 문신男 경찰 오자 '난동'                    서울,관악구   \n",
       "5  \"같이 한잔해\" 끝없는 대쉬 평일 밤에도 '헌팅포차' 꽉 찼다 [여기잇슈]  라운지,펀치남,서울,압구정,강남역,강남,인근   \n",
       "\n",
       "                     수사 기관  ...        일자   언론사  기고자  비고  \\\n",
       "1     김제경찰서,경찰,김제시,한경닷컴 객원  ...  20230413  한국경제  이보배 NaN   \n",
       "2                유튜브,서울경찰청  ...  20230519  한국경제  김소연 NaN   \n",
       "5  압구정로데오,정부,한잔해,SBS,BJ,한창  ...  20230524  한국경제  김세린 NaN   \n",
       "\n",
       "                                                text     who          when  \\\n",
       "1  /사진=게티이미지뱅크\\n일면식도 없는 여성의 집에 무단 침입해 주먹을 휘두른 60대...  60대 남성         오후 2시   \n",
       "2  /사진=유튜브 채널 '서울경찰' 영상 캡처\\n출근길 '묻지마 폭행'을 저지른 남성이...      남성  7일 오전 2시 45분   \n",
       "5  강남역의 '헌팅 포차' 거리 한 술집에 야외 테이블까지 사람들이 가득 차 있는 모습...     NaN           NaN   \n",
       "\n",
       "             where                                          what  \\\n",
       "1       김제시의 한 아파트  주먹을 휘두른 60대 여성의 집에 무단 침입해 주먹을 휘두른 혐의(주거침입 등)   \n",
       "2  서울 강남구 압구정동의 길가               헌팅을 거절한 여성에 격분한 남성이 폭행을 저지르는 모습   \n",
       "5              NaN                                           NaN   \n",
       "\n",
       "                                                json  \n",
       "1  {\"who\": \"60대 남성\", \"when\": \"오후 2시\", \"where\": \"김...  \n",
       "2  {\"who\": \"남성\", \"when\": \"3월 서울 관악구 골목길에서 난동을 부렸던...  \n",
       "5  {\\n\"who\": \"한 남성 2명과 여성 2명\",\\n\"when\": \"근일 밤\",\\n...  \n",
       "\n",
       "[3 rows x 22 columns]"
      ]
     },
     "execution_count": 26,
     "metadata": {},
     "output_type": "execute_result"
    }
   ],
   "source": [
    "df_hk_json[df_hk_json['지역'].isna() == False]"
   ]
  },
  {
   "cell_type": "markdown",
   "id": "ff82195f-6d2a-4914-a388-c4d09efb3916",
   "metadata": {},
   "source": [
    "#### text from df_hk_json"
   ]
  },
  {
   "cell_type": "code",
   "execution_count": 7,
   "id": "ebff70ab-ff02-485a-a2d1-16d4848171b8",
   "metadata": {
    "execution": {
     "iopub.execute_input": "2024-05-14T01:51:47.919517Z",
     "iopub.status.busy": "2024-05-14T01:51:47.917774Z",
     "iopub.status.idle": "2024-05-14T01:51:48.014109Z",
     "shell.execute_reply": "2024-05-14T01:51:48.013364Z",
     "shell.execute_reply.started": "2024-05-14T01:51:47.919463Z"
    }
   },
   "outputs": [],
   "source": [
    "texts = df_hk_json.iloc[:]['text']"
   ]
  },
  {
   "cell_type": "code",
   "execution_count": 28,
   "id": "41e37f3b-11ad-4ea9-8df8-8a76580f396b",
   "metadata": {
    "execution": {
     "iopub.execute_input": "2024-05-13T14:17:13.353560Z",
     "iopub.status.busy": "2024-05-13T14:17:13.352533Z",
     "iopub.status.idle": "2024-05-13T14:17:13.371700Z",
     "shell.execute_reply": "2024-05-13T14:17:13.371137Z",
     "shell.execute_reply.started": "2024-05-13T14:17:13.353521Z"
    }
   },
   "outputs": [
    {
     "data": {
      "text/plain": [
       "'/사진=유튜브 채널 \\'서울경찰\\' 영상 캡처\\n출근길 \\'묻지마 폭행\\'을 저지른 남성이 현행범으로 체포되는 모습이 공개됐다.\\n\\n18일 서울경찰청 공식 유튜브 채널에 \\'출근길 묻지마 폭행범 검거 현장\\'이라는 제목으로 지난 3월 서울 관악구 골목길에서 난동을 부렸던 남성의 모습이 담긴 영상이 게재됐다.\\n\\n이 남성은 상의를 벗어 문신이 그려진 몸으로 길을 걷던 한 여성을 향해 달려갔다. 갑자기 돌진하는 남성을 보며 놀란 여성이 횡단보도로 뛰어가며 도망쳤지만, 남성은 그 뒤를 쫓아갔다.\\n\\n다른 행인들이 남성을 말렸음에도 난동은 이어졌다. 신고받고 현장에 출동한 경찰은 폭행 및 공무집행방해 등 혐의로 현장에서 체포했다.\\n/사진=유튜브 채널 \\'서울경찰\\' 영상 캡처\\n경찰의 등장에도 남성은 침을 뱉고, 욕을 하는 등 폭력적인 행동을 이어갔다. 결국 경찰은 남성을 힘으로 제압해 압송했다.\\n\\n경찰에 따르면 이 남성과 여성은 일면식도 없는 사이였다. 경찰은 \"마약사범으로 의심했으나 마약 성분은 검출되지 않았다\"며 \"관제센터와의 공조, 시민들의 도움으로 빠르게 찾아낸 덕에 2차 피해를 막을 수 있었다\"고 전했다.\\n\\n김소연 한경닷컴 기자 sue123@hankyung.com'"
      ]
     },
     "execution_count": 28,
     "metadata": {},
     "output_type": "execute_result"
    }
   ],
   "source": [
    "texts[2]"
   ]
  },
  {
   "cell_type": "markdown",
   "id": "53d72545-4c5b-493d-9608-241ae07f63ff",
   "metadata": {},
   "source": [
    "#### RA processing"
   ]
  },
  {
   "cell_type": "code",
   "execution_count": 22,
   "id": "3eec56e0-d3ae-4b27-a3bc-47336f0b94b6",
   "metadata": {
    "execution": {
     "iopub.execute_input": "2024-05-13T14:01:54.645022Z",
     "iopub.status.busy": "2024-05-13T14:01:54.625721Z",
     "iopub.status.idle": "2024-05-13T14:05:00.373059Z",
     "shell.execute_reply": "2024-05-13T14:05:00.371313Z",
     "shell.execute_reply.started": "2024-05-13T14:01:54.644965Z"
    },
    "scrolled": true
   },
   "outputs": [
    {
     "name": "stderr",
     "output_type": "stream",
     "text": [
      "  0%|                                                                                                                               | 0/27 [00:00<?, ?it/s]ic| res: '부산'\n",
      "  4%|████▍                                                                                                                  | 1/27 [00:17<07:47, 17.99s/it]ic| res: '전북특별자치도 김제시'\n",
      "  7%|████████▊                                                                                                              | 2/27 [00:23<04:26, 10.66s/it]ic| res: '전라남도 순천시 행동'\n",
      " 11%|█████████████▏                                                                                                         | 3/27 [00:27<03:08,  7.83s/it]ic| res: '경상남도 양산시 상북면 거리'\n",
      " 15%|█████████████████▋                                                                                                     | 4/27 [00:33<02:40,  6.99s/it]ic| res: '서울특별시 강남구 압구정동'\n",
      " 19%|██████████████████████                                                                                                 | 5/27 [00:42<02:47,  7.60s/it]ic| res: '경상남도 양산시 상북면 거리'\n",
      " 22%|██████████████████████████▍                                                                                            | 6/27 [00:53<03:03,  8.76s/it]ic| res: '서울특별시 강남구 압구정동'\n",
      " 26%|██████████████████████████████▊                                                                                        | 7/27 [00:59<02:35,  7.76s/it]ic| res: '경기도 군포시'\n",
      " 30%|███████████████████████████████████▎                                                                                   | 8/27 [01:05<02:17,  7.21s/it]ic| res: '경상남도 양산시 상북면 거리'\n",
      " 33%|███████████████████████████████████████▋                                                                               | 9/27 [01:14<02:21,  7.88s/it]ic| res: '충청남도 금산군 복수면 목소리'\n",
      " 37%|███████████████████████████████████████████▋                                                                          | 10/27 [01:19<01:56,  6.88s/it]ic| res: '부산광역시 부산진구 부전동'\n",
      " 41%|████████████████████████████████████████████████                                                                      | 11/27 [01:30<02:10,  8.14s/it]ic| res: '부산광역시 부산진구'\n",
      " 44%|████████████████████████████████████████████████████▍                                                                 | 12/27 [01:35<01:48,  7.26s/it]ic| res: '대전광역시 유성구 봉명동'\n",
      " 48%|████████████████████████████████████████████████████████▊                                                             | 13/27 [01:44<01:49,  7.85s/it]ic| res: '충청남도 예산군 삽교읍 가리'\n",
      " 52%|█████████████████████████████████████████████████████████████▏                                                        | 14/27 [01:48<01:25,  6.61s/it]ic| res: '충청북도 옥천군 청산면 지리'\n",
      " 56%|█████████████████████████████████████████████████████████████████▌                                                    | 15/27 [01:51<01:07,  5.60s/it]ic| res: '서울특별시 금천구 독산동'\n",
      " 59%|█████████████████████████████████████████████████████████████████████▉                                                | 16/27 [01:57<01:04,  5.84s/it]ic| res: '서울특별시 관악구 신림동'\n",
      " 63%|██████████████████████████████████████████████████████████████████████████▎                                           | 17/27 [02:04<01:01,  6.17s/it]ic| res: '충청북도 옥천군 청산면 지리'\n",
      " 67%|██████████████████████████████████████████████████████████████████████████████▋                                       | 18/27 [02:09<00:52,  5.80s/it]ic| res: '서울'\n",
      " 70%|███████████████████████████████████████████████████████████████████████████████████                                   | 19/27 [02:16<00:48,  6.03s/it]ic| res: '경기'\n",
      " 74%|███████████████████████████████████████████████████████████████████████████████████████▍                              | 20/27 [02:24<00:46,  6.62s/it]ic| res: '경상남도 창원시 마산합포구 구산면 심리'\n",
      " 78%|███████████████████████████████████████████████████████████████████████████████████████████▊                          | 21/27 [02:30<00:38,  6.35s/it]ic| res: '서울'\n",
      " 81%|████████████████████████████████████████████████████████████████████████████████████████████████▏                     | 22/27 [02:36<00:31,  6.29s/it]ic| res: '충청북도 제천시 청풍면 어리'\n",
      " 85%|████████████████████████████████████████████████████████████████████████████████████████████████████▌                 | 23/27 [02:40<00:22,  5.74s/it]ic| res: '충청북도 제천시 청풍면 어리'\n",
      " 89%|████████████████████████████████████████████████████████████████████████████████████████████████████████▉             | 24/27 [02:44<00:15,  5.20s/it]ic| res: '충청남도 서천군 서면'\n",
      " 93%|█████████████████████████████████████████████████████████████████████████████████████████████████████████████▎        | 25/27 [02:52<00:12,  6.09s/it]ic| res: '광주광역시 서구'\n",
      " 96%|█████████████████████████████████████████████████████████████████████████████████████████████████████████████████▋    | 26/27 [02:59<00:06,  6.12s/it]ic| res: '부산'\n",
      "100%|██████████████████████████████████████████████████████████████████████████████████████████████████████████████████████| 27/27 [03:05<00:00,  6.88s/it]\n"
     ]
    }
   ],
   "source": [
    "history = []\n",
    "for item in tqdm(texts):\n",
    "    if isinstance(item, str):\n",
    "        # ic(item)\n",
    "        ra = RetrieveAddress(df_addr)\n",
    "        res = ra.process(item)\n",
    "        history.append(ra)\n",
    "        # ic(res)"
   ]
  },
  {
   "cell_type": "markdown",
   "id": "37938ceb-993a-401f-b28e-b390aa7505a7",
   "metadata": {},
   "source": [
    "기사 하나당 7초쯤 걸린다.  \n",
    "RAG 안 쓰고 이렇게 하는 게 더 낫겠다.  \n",
    "적어도 주소를 뽑아낼 때는.  "
   ]
  },
  {
   "cell_type": "markdown",
   "id": "b64bd69c-0a65-4b57-b5e1-51b0a94897bb",
   "metadata": {},
   "source": [
    "#### save 'ra_history'"
   ]
  },
  {
   "cell_type": "code",
   "execution_count": 25,
   "id": "dc57a1a4-395e-47ee-89f2-297679654179",
   "metadata": {
    "execution": {
     "iopub.execute_input": "2024-05-13T14:12:42.182142Z",
     "iopub.status.busy": "2024-05-13T14:12:42.174461Z",
     "iopub.status.idle": "2024-05-13T14:12:42.235349Z",
     "shell.execute_reply": "2024-05-13T14:12:42.234985Z",
     "shell.execute_reply.started": "2024-05-13T14:12:42.182088Z"
    }
   },
   "outputs": [],
   "source": [
    "save_var(history, \"ra_history\")"
   ]
  },
  {
   "cell_type": "code",
   "execution_count": 6,
   "id": "d038ca61-6bed-41fc-b7f6-da5b25a5a162",
   "metadata": {
    "execution": {
     "iopub.execute_input": "2024-05-14T01:49:31.056899Z",
     "iopub.status.busy": "2024-05-14T01:49:31.055775Z",
     "iopub.status.idle": "2024-05-14T01:49:31.147721Z",
     "shell.execute_reply": "2024-05-14T01:49:31.147386Z",
     "shell.execute_reply.started": "2024-05-14T01:49:31.056877Z"
    }
   },
   "outputs": [],
   "source": [
    "ra_history = load_var(\"ra_history\")"
   ]
  },
  {
   "cell_type": "markdown",
   "id": "5ef04632-217b-4922-8062-9fc523797e6f",
   "metadata": {},
   "source": [
    "#### save address in 'ra_address' column"
   ]
  },
  {
   "cell_type": "code",
   "execution_count": 29,
   "id": "bbd7866c-6e14-47c8-a315-55fcd27c6cc2",
   "metadata": {
    "execution": {
     "iopub.execute_input": "2024-05-13T14:19:58.201094Z",
     "iopub.status.busy": "2024-05-13T14:19:58.196795Z",
     "iopub.status.idle": "2024-05-13T14:19:58.233186Z",
     "shell.execute_reply": "2024-05-13T14:19:58.231788Z",
     "shell.execute_reply.started": "2024-05-13T14:19:58.201037Z"
    },
    "scrolled": true
   },
   "outputs": [
    {
     "name": "stderr",
     "output_type": "stream",
     "text": [
      "/var/folders/r0/w084nh2s0v3fstg3n70027500000gn/T/ipykernel_57912/3298260219.py:3: FutureWarning: Setting an item of incompatible dtype is deprecated and will raise in a future error of pandas. Value '부산' has dtype incompatible with float64, please explicitly cast to a compatible dtype first.\n",
      "  df_hk_json.loc[idx, 'ra_address'] = item.address\n"
     ]
    }
   ],
   "source": [
    "for idx, item in enumerate(ra_history):\n",
    "    # ic(item.address)\n",
    "    df_hk_json.loc[idx, 'ra_address'] = item.address"
   ]
  },
  {
   "cell_type": "code",
   "execution_count": 44,
   "id": "5adacb97-2a5e-4aaa-b8f2-142d4c00abfa",
   "metadata": {
    "execution": {
     "iopub.execute_input": "2024-05-13T14:42:00.030189Z",
     "iopub.status.busy": "2024-05-13T14:42:00.029558Z",
     "iopub.status.idle": "2024-05-13T14:42:00.038447Z",
     "shell.execute_reply": "2024-05-13T14:42:00.038169Z",
     "shell.execute_reply.started": "2024-05-13T14:42:00.030154Z"
    }
   },
   "outputs": [],
   "source": [
    "save_var(df_hk_json, 'df_hk_json')"
   ]
  },
  {
   "cell_type": "code",
   "execution_count": 5,
   "id": "464ebecd-1674-4fe7-a02e-5c6fd98df35a",
   "metadata": {
    "execution": {
     "iopub.execute_input": "2024-05-14T01:48:47.195313Z",
     "iopub.status.busy": "2024-05-14T01:48:47.193813Z",
     "iopub.status.idle": "2024-05-14T01:48:47.221722Z",
     "shell.execute_reply": "2024-05-14T01:48:47.220965Z",
     "shell.execute_reply.started": "2024-05-14T01:48:47.195251Z"
    }
   },
   "outputs": [],
   "source": [
    "df_hk_json = load_var('df_hk_json')"
   ]
  },
  {
   "cell_type": "markdown",
   "id": "cf1471fc-d316-4e0e-b259-9d8863e964c0",
   "metadata": {},
   "source": [
    "#### inspection 'ra_address' column with 'text' column"
   ]
  },
  {
   "cell_type": "code",
   "execution_count": 6,
   "id": "c07ef4d1-4625-4f08-bbef-60d9a27ec640",
   "metadata": {
    "execution": {
     "iopub.execute_input": "2024-05-13T14:43:27.766306Z",
     "iopub.status.busy": "2024-05-13T14:43:27.765477Z",
     "iopub.status.idle": "2024-05-13T14:43:27.892305Z",
     "shell.execute_reply": "2024-05-13T14:43:27.892049Z",
     "shell.execute_reply.started": "2024-05-13T14:43:27.766272Z"
    },
    "scrolled": true
   },
   "outputs": [
    {
     "name": "stderr",
     "output_type": "stream",
     "text": [
      "ic| df_hk_json[columns].loc[index, 'ra_address']: '전라남도 순천시 행동'\n"
     ]
    },
    {
     "name": "stdout",
     "output_type": "stream",
     "text": [
      "/사진=유튜브 채널 '서울경찰' 영상 캡처\n",
      "출근길 '묻지마 폭행'을 저지른 남성이 현행범으로 체포되는 모습이 공개됐다.\n",
      "18일 서울경찰청 공식 유튜브 채널에 '출근길 묻지마 폭행범 검거 현장'이라는 제목으로 지난 3월 서울 관악구 골목길에서 난동을 부렸던 남성의 모습이 담긴 영상이 게재됐다.\n",
      "이 남성은 상의를 벗어 문신이 그려진 몸으로 길을 걷던 한 여성을 향해 달려갔다. 갑자기 돌진하는 남성을 보며 놀란 여성이 횡단보도로 뛰어가며 도망쳤지만, 남성은 그 뒤를 쫓아갔다.\n",
      "다른 행인들이 남성을 말렸음에도 난동은 이어졌다. 신고받고 현장에 출동한 경찰은 폭행 및 공무집행방해 등 혐의로 현장에서 체포했다.\n",
      "/사진=유튜브 채널 '서울경찰' 영상 캡처\n",
      "경찰의 등장에도 남성은 침을 뱉고, 욕을 하는 등 폭력적인 행동을 이어갔다. 결국 경찰은 남성을 힘으로 제압해 압송했다.\n",
      "경찰에 따르면 이 남성과 여성은 일면식도 없는 사이였다. 경찰은 \"마약사범으로 의심했으나 마약 성분은 검출되지 않았다\"며 \"관제센터와의 공조, 시민들의 도움으로 빠르게 찾아낸 덕에 2차 피해를 막을 수 있었다\"고 전했다.\n",
      "김소연 한경닷컴 기자 sue123@hankyung.com\n"
     ]
    }
   ],
   "source": [
    "index = 2\n",
    "columns = ['text', 'ra_address']\n",
    "ic(df_hk_json[columns].loc[index, 'ra_address'])\n",
    "print(df_hk_json[columns].loc[index, 'text'].replace('\\n\\n', '\\n'))"
   ]
  },
  {
   "cell_type": "markdown",
   "id": "daa54fc6-9bc8-4e6a-a7fc-9a6e7f09bc73",
   "metadata": {},
   "source": [
    "텍스트에 '행동' 이 있다고, '전라남도 순천시 행동' 이 나온다...  \n",
    "쉽지 않다.  "
   ]
  },
  {
   "cell_type": "markdown",
   "id": "fa336923-8ebf-40d7-be95-79c21b956a11",
   "metadata": {},
   "source": [
    "#### inspection index no.2 to fix"
   ]
  },
  {
   "cell_type": "code",
   "execution_count": 39,
   "id": "807390ce-6c94-4bff-a2ca-4183b2ca1fbc",
   "metadata": {
    "execution": {
     "iopub.execute_input": "2024-05-13T14:31:44.217825Z",
     "iopub.status.busy": "2024-05-13T14:31:44.216478Z",
     "iopub.status.idle": "2024-05-13T14:31:44.232621Z",
     "shell.execute_reply": "2024-05-13T14:31:44.232092Z",
     "shell.execute_reply.started": "2024-05-13T14:31:44.217766Z"
    }
   },
   "outputs": [
    {
     "data": {
      "text/html": [
       "<div>\n",
       "<style scoped>\n",
       "    .dataframe tbody tr th:only-of-type {\n",
       "        vertical-align: middle;\n",
       "    }\n",
       "\n",
       "    .dataframe tbody tr th {\n",
       "        vertical-align: top;\n",
       "    }\n",
       "\n",
       "    .dataframe thead th {\n",
       "        text-align: right;\n",
       "    }\n",
       "</style>\n",
       "<table border=\"1\" class=\"dataframe\">\n",
       "  <thead>\n",
       "    <tr style=\"text-align: right;\">\n",
       "      <th></th>\n",
       "      <th>lv1</th>\n",
       "      <th>lv2</th>\n",
       "      <th>lv3</th>\n",
       "      <th>lv4</th>\n",
       "      <th>lv5</th>\n",
       "    </tr>\n",
       "  </thead>\n",
       "  <tbody>\n",
       "    <tr>\n",
       "      <th>11913</th>\n",
       "      <td>전라남도</td>\n",
       "      <td>순천시</td>\n",
       "      <td>행동</td>\n",
       "      <td>NaN</td>\n",
       "      <td>NaN</td>\n",
       "    </tr>\n",
       "    <tr>\n",
       "      <th>28150</th>\n",
       "      <td>서울특별시</td>\n",
       "      <td>관악구</td>\n",
       "      <td>봉천동</td>\n",
       "      <td>NaN</td>\n",
       "      <td>NaN</td>\n",
       "    </tr>\n",
       "    <tr>\n",
       "      <th>28151</th>\n",
       "      <td>서울특별시</td>\n",
       "      <td>관악구</td>\n",
       "      <td>신림동</td>\n",
       "      <td>NaN</td>\n",
       "      <td>NaN</td>\n",
       "    </tr>\n",
       "    <tr>\n",
       "      <th>28152</th>\n",
       "      <td>서울특별시</td>\n",
       "      <td>관악구</td>\n",
       "      <td>남현동</td>\n",
       "      <td>NaN</td>\n",
       "      <td>NaN</td>\n",
       "    </tr>\n",
       "  </tbody>\n",
       "</table>\n",
       "</div>"
      ],
      "text/plain": [
       "         lv1  lv2  lv3  lv4  lv5\n",
       "11913   전라남도  순천시   행동  NaN  NaN\n",
       "28150  서울특별시  관악구  봉천동  NaN  NaN\n",
       "28151  서울특별시  관악구  신림동  NaN  NaN\n",
       "28152  서울특별시  관악구  남현동  NaN  NaN"
      ]
     },
     "execution_count": 39,
     "metadata": {},
     "output_type": "execute_result"
    }
   ],
   "source": [
    "history[2].df_filtered"
   ]
  },
  {
   "cell_type": "code",
   "execution_count": 38,
   "id": "1df7d6bc-d142-42b5-adb6-97a019e1e3ad",
   "metadata": {
    "execution": {
     "iopub.execute_input": "2024-05-13T14:31:29.535681Z",
     "iopub.status.busy": "2024-05-13T14:31:29.534931Z",
     "iopub.status.idle": "2024-05-13T14:31:29.576558Z",
     "shell.execute_reply": "2024-05-13T14:31:29.576190Z",
     "shell.execute_reply.started": "2024-05-13T14:31:29.535613Z"
    }
   },
   "outputs": [
    {
     "data": {
      "text/html": [
       "<div>\n",
       "<style scoped>\n",
       "    .dataframe tbody tr th:only-of-type {\n",
       "        vertical-align: middle;\n",
       "    }\n",
       "\n",
       "    .dataframe tbody tr th {\n",
       "        vertical-align: top;\n",
       "    }\n",
       "\n",
       "    .dataframe thead th {\n",
       "        text-align: right;\n",
       "    }\n",
       "</style>\n",
       "<table border=\"1\" class=\"dataframe\">\n",
       "  <thead>\n",
       "    <tr style=\"text-align: right;\">\n",
       "      <th></th>\n",
       "      <th>lv1</th>\n",
       "      <th>lv2</th>\n",
       "      <th>lv3</th>\n",
       "      <th>lv4</th>\n",
       "      <th>lv5</th>\n",
       "    </tr>\n",
       "  </thead>\n",
       "  <tbody>\n",
       "    <tr>\n",
       "      <th>11913</th>\n",
       "      <td>전라남도</td>\n",
       "      <td>순천시</td>\n",
       "      <td>행동</td>\n",
       "      <td>NaN</td>\n",
       "      <td>NaN</td>\n",
       "    </tr>\n",
       "  </tbody>\n",
       "</table>\n",
       "</div>"
      ],
      "text/plain": [
       "        lv1  lv2 lv3  lv4  lv5\n",
       "11913  전라남도  순천시  행동  NaN  NaN"
      ]
     },
     "execution_count": 38,
     "metadata": {},
     "output_type": "execute_result"
    }
   ],
   "source": [
    "history[2].df_level"
   ]
  },
  {
   "cell_type": "code",
   "execution_count": 40,
   "id": "2bbdad1a-cdbb-46f9-a1e6-f486aea9e20f",
   "metadata": {
    "execution": {
     "iopub.execute_input": "2024-05-13T14:31:57.395504Z",
     "iopub.status.busy": "2024-05-13T14:31:57.394248Z",
     "iopub.status.idle": "2024-05-13T14:31:57.409998Z",
     "shell.execute_reply": "2024-05-13T14:31:57.409541Z",
     "shell.execute_reply.started": "2024-05-13T14:31:57.395429Z"
    }
   },
   "outputs": [
    {
     "data": {
      "text/html": [
       "<div>\n",
       "<style scoped>\n",
       "    .dataframe tbody tr th:only-of-type {\n",
       "        vertical-align: middle;\n",
       "    }\n",
       "\n",
       "    .dataframe tbody tr th {\n",
       "        vertical-align: top;\n",
       "    }\n",
       "\n",
       "    .dataframe thead th {\n",
       "        text-align: right;\n",
       "    }\n",
       "</style>\n",
       "<table border=\"1\" class=\"dataframe\">\n",
       "  <thead>\n",
       "    <tr style=\"text-align: right;\">\n",
       "      <th></th>\n",
       "      <th>index</th>\n",
       "      <th>lv1</th>\n",
       "      <th>lv2</th>\n",
       "      <th>lv3</th>\n",
       "    </tr>\n",
       "  </thead>\n",
       "  <tbody>\n",
       "    <tr>\n",
       "      <th>0</th>\n",
       "      <td>11913</td>\n",
       "      <td>1</td>\n",
       "      <td>1</td>\n",
       "      <td>1</td>\n",
       "    </tr>\n",
       "  </tbody>\n",
       "</table>\n",
       "</div>"
      ],
      "text/plain": [
       "   index  lv1  lv2  lv3\n",
       "0  11913    1    1    1"
      ]
     },
     "execution_count": 40,
     "metadata": {},
     "output_type": "execute_result"
    }
   ],
   "source": [
    "history[2].df_count"
   ]
  },
  {
   "cell_type": "markdown",
   "id": "beb49de1-4215-4878-8bd8-5faf5fcf3865",
   "metadata": {},
   "source": [
    "lv4 혹은 lv3 에서 확인된 주소일 때,  \n",
    "그 윗 단계 위의 주소가 텍스트에 있는지 확인을 한다.  "
   ]
  },
  {
   "cell_type": "markdown",
   "id": "4c5942d2-3937-45a1-bb7c-7683b2a36dce",
   "metadata": {},
   "source": [
    "#### check RA"
   ]
  },
  {
   "cell_type": "code",
   "execution_count": 1,
   "id": "f6b0778d-13f0-4e5f-ab2e-9e90d5ac6c40",
   "metadata": {
    "execution": {
     "iopub.execute_input": "2024-05-14T02:17:26.410033Z",
     "iopub.status.busy": "2024-05-14T02:17:26.409601Z",
     "iopub.status.idle": "2024-05-14T02:17:27.132949Z",
     "shell.execute_reply": "2024-05-14T02:17:27.132606Z",
     "shell.execute_reply.started": "2024-05-14T02:17:26.410010Z"
    }
   },
   "outputs": [],
   "source": [
    "import pandas as pd \n",
    "import numpy as np\n",
    "import math\n",
    "import re\n",
    "\n",
    "from icecream import ic\n",
    "from tqdm import tqdm \n",
    "\n",
    "from utils.custom_utils import load_var, save_var\n",
    "from utils.search_address import RetrieveAddress, get_lat_long"
   ]
  },
  {
   "cell_type": "code",
   "execution_count": 2,
   "id": "c3d273a5-6ee7-4a07-99ff-d4bf232ad088",
   "metadata": {
    "execution": {
     "iopub.execute_input": "2024-05-14T02:17:27.134019Z",
     "iopub.status.busy": "2024-05-14T02:17:27.133677Z",
     "iopub.status.idle": "2024-05-14T02:17:27.174171Z",
     "shell.execute_reply": "2024-05-14T02:17:27.173863Z",
     "shell.execute_reply.started": "2024-05-14T02:17:27.134011Z"
    }
   },
   "outputs": [],
   "source": [
    "df_hk_json = load_var(\"df_hk_json\")\n",
    "df_where = df_hk_json['where']\n",
    "df_addr = pd.read_csv('./address/address.csv')"
   ]
  },
  {
   "cell_type": "code",
   "execution_count": 3,
   "id": "eead380f-5ba6-4ed4-8e2e-5ffc66c5a3e2",
   "metadata": {
    "execution": {
     "iopub.execute_input": "2024-05-14T02:17:27.174695Z",
     "iopub.status.busy": "2024-05-14T02:17:27.174615Z",
     "iopub.status.idle": "2024-05-14T02:17:27.176752Z",
     "shell.execute_reply": "2024-05-14T02:17:27.176411Z",
     "shell.execute_reply.started": "2024-05-14T02:17:27.174687Z"
    }
   },
   "outputs": [],
   "source": [
    "texts = df_hk_json.iloc[:]['text']"
   ]
  },
  {
   "cell_type": "code",
   "execution_count": 4,
   "id": "cc5f1188-3596-43de-af71-ccbb47422de5",
   "metadata": {
    "execution": {
     "iopub.execute_input": "2024-05-14T02:17:27.178967Z",
     "iopub.status.busy": "2024-05-14T02:17:27.178703Z",
     "iopub.status.idle": "2024-05-14T02:17:27.181530Z",
     "shell.execute_reply": "2024-05-14T02:17:27.181210Z",
     "shell.execute_reply.started": "2024-05-14T02:17:27.178958Z"
    }
   },
   "outputs": [],
   "source": [
    "ra = RetrieveAddress(df_addr)"
   ]
  },
  {
   "cell_type": "markdown",
   "id": "93e610a3-2ea2-4860-b4d7-b2aefbe9a910",
   "metadata": {},
   "source": [
    "#### check RA - fix: 'index' key error"
   ]
  },
  {
   "cell_type": "code",
   "execution_count": 8,
   "id": "8e71b694-ac83-4c43-b9af-51c7edfb36f7",
   "metadata": {
    "execution": {
     "iopub.execute_input": "2024-05-14T01:57:30.417815Z",
     "iopub.status.busy": "2024-05-14T01:57:30.416981Z",
     "iopub.status.idle": "2024-05-14T01:57:35.430355Z",
     "shell.execute_reply": "2024-05-14T01:57:35.429569Z",
     "shell.execute_reply.started": "2024-05-14T01:57:30.417780Z"
    },
    "scrolled": true
   },
   "outputs": [
    {
     "ename": "KeyError",
     "evalue": "'index'",
     "output_type": "error",
     "traceback": [
      "\u001b[0;31m---------------------------------------------------------------------------\u001b[0m",
      "\u001b[0;31mKeyError\u001b[0m                                  Traceback (most recent call last)",
      "File \u001b[0;32m~/.pyenv/versions/pml/lib/python3.11/site-packages/pandas/core/indexes/base.py:3790\u001b[0m, in \u001b[0;36mIndex.get_loc\u001b[0;34m(self, key)\u001b[0m\n\u001b[1;32m   3789\u001b[0m \u001b[38;5;28;01mtry\u001b[39;00m:\n\u001b[0;32m-> 3790\u001b[0m     \u001b[38;5;28;01mreturn\u001b[39;00m \u001b[38;5;28;43mself\u001b[39;49m\u001b[38;5;241;43m.\u001b[39;49m\u001b[43m_engine\u001b[49m\u001b[38;5;241;43m.\u001b[39;49m\u001b[43mget_loc\u001b[49m\u001b[43m(\u001b[49m\u001b[43mcasted_key\u001b[49m\u001b[43m)\u001b[49m\n\u001b[1;32m   3791\u001b[0m \u001b[38;5;28;01mexcept\u001b[39;00m \u001b[38;5;167;01mKeyError\u001b[39;00m \u001b[38;5;28;01mas\u001b[39;00m err:\n",
      "File \u001b[0;32mindex.pyx:152\u001b[0m, in \u001b[0;36mpandas._libs.index.IndexEngine.get_loc\u001b[0;34m()\u001b[0m\n",
      "File \u001b[0;32mindex.pyx:181\u001b[0m, in \u001b[0;36mpandas._libs.index.IndexEngine.get_loc\u001b[0;34m()\u001b[0m\n",
      "File \u001b[0;32mpandas/_libs/hashtable_class_helper.pxi:7080\u001b[0m, in \u001b[0;36mpandas._libs.hashtable.PyObjectHashTable.get_item\u001b[0;34m()\u001b[0m\n",
      "File \u001b[0;32mpandas/_libs/hashtable_class_helper.pxi:7088\u001b[0m, in \u001b[0;36mpandas._libs.hashtable.PyObjectHashTable.get_item\u001b[0;34m()\u001b[0m\n",
      "\u001b[0;31mKeyError\u001b[0m: 'index'",
      "\nThe above exception was the direct cause of the following exception:\n",
      "\u001b[0;31mKeyError\u001b[0m                                  Traceback (most recent call last)",
      "Cell \u001b[0;32mIn[8], line 1\u001b[0m\n\u001b[0;32m----> 1\u001b[0m res \u001b[38;5;241m=\u001b[39m \u001b[43mra\u001b[49m\u001b[38;5;241;43m.\u001b[39;49m\u001b[43mprocess\u001b[49m\u001b[43m(\u001b[49m\u001b[43mitem\u001b[49m\u001b[43m)\u001b[49m\n",
      "File \u001b[0;32m~/Workspace/scrape/geopy/utils/search_address.py:144\u001b[0m, in \u001b[0;36mRetrieveAddress.process\u001b[0;34m(self, text)\u001b[0m\n\u001b[1;32m    141\u001b[0m \u001b[38;5;28mself\u001b[39m\u001b[38;5;241m.\u001b[39mmake_count()\n\u001b[1;32m    143\u001b[0m \u001b[38;5;28;01mif\u001b[39;00m \u001b[38;5;28mlen\u001b[39m(\u001b[38;5;28mself\u001b[39m\u001b[38;5;241m.\u001b[39mdf_count) \u001b[38;5;241m>\u001b[39m \u001b[38;5;241m0\u001b[39m:\n\u001b[0;32m--> 144\u001b[0m     \u001b[38;5;28;43mself\u001b[39;49m\u001b[38;5;241;43m.\u001b[39;49m\u001b[43mget_max\u001b[49m\u001b[43m(\u001b[49m\u001b[43m)\u001b[49m\n\u001b[1;32m    145\u001b[0m     \u001b[38;5;28mself\u001b[39m\u001b[38;5;241m.\u001b[39mget_address()\n\u001b[1;32m    146\u001b[0m     \u001b[38;5;28;01mbreak\u001b[39;00m\n",
      "File \u001b[0;32m~/Workspace/scrape/geopy/utils/search_address.py:115\u001b[0m, in \u001b[0;36mRetrieveAddress.get_max\u001b[0;34m(self)\u001b[0m\n\u001b[1;32m    113\u001b[0m \u001b[38;5;28;01mdef\u001b[39;00m \u001b[38;5;21mget_max\u001b[39m(\u001b[38;5;28mself\u001b[39m):\n\u001b[1;32m    114\u001b[0m     idxmax \u001b[38;5;241m=\u001b[39m \u001b[38;5;28mself\u001b[39m\u001b[38;5;241m.\u001b[39mdf_count\u001b[38;5;241m.\u001b[39miloc[\u001b[38;5;28mself\u001b[39m\u001b[38;5;241m.\u001b[39mdf_count[\u001b[38;5;124mf\u001b[39m\u001b[38;5;124m'\u001b[39m\u001b[38;5;124mlv\u001b[39m\u001b[38;5;132;01m{\u001b[39;00m\u001b[38;5;28mself\u001b[39m\u001b[38;5;241m.\u001b[39mlevel\u001b[38;5;250m \u001b[39m\u001b[38;5;241m-\u001b[39m\u001b[38;5;250m \u001b[39m\u001b[38;5;241m1\u001b[39m\u001b[38;5;132;01m}\u001b[39;00m\u001b[38;5;124m'\u001b[39m]\u001b[38;5;241m.\u001b[39midxmax()]\n\u001b[0;32m--> 115\u001b[0m     \u001b[38;5;28mself\u001b[39m\u001b[38;5;241m.\u001b[39mrow \u001b[38;5;241m=\u001b[39m \u001b[38;5;28;43mself\u001b[39;49m\u001b[38;5;241;43m.\u001b[39;49m\u001b[43mdf_address\u001b[49m\u001b[38;5;241;43m.\u001b[39;49m\u001b[43miloc\u001b[49m\u001b[43m[\u001b[49m\u001b[43midxmax\u001b[49m\u001b[43m]\u001b[49m\u001b[43m[\u001b[49m\u001b[38;5;124;43m'\u001b[39;49m\u001b[38;5;124;43mindex\u001b[39;49m\u001b[38;5;124;43m'\u001b[39;49m\u001b[43m]\u001b[49m\n",
      "File \u001b[0;32m~/.pyenv/versions/pml/lib/python3.11/site-packages/pandas/core/frame.py:3896\u001b[0m, in \u001b[0;36mDataFrame.__getitem__\u001b[0;34m(self, key)\u001b[0m\n\u001b[1;32m   3894\u001b[0m \u001b[38;5;28;01mif\u001b[39;00m \u001b[38;5;28mself\u001b[39m\u001b[38;5;241m.\u001b[39mcolumns\u001b[38;5;241m.\u001b[39mnlevels \u001b[38;5;241m>\u001b[39m \u001b[38;5;241m1\u001b[39m:\n\u001b[1;32m   3895\u001b[0m     \u001b[38;5;28;01mreturn\u001b[39;00m \u001b[38;5;28mself\u001b[39m\u001b[38;5;241m.\u001b[39m_getitem_multilevel(key)\n\u001b[0;32m-> 3896\u001b[0m indexer \u001b[38;5;241m=\u001b[39m \u001b[38;5;28;43mself\u001b[39;49m\u001b[38;5;241;43m.\u001b[39;49m\u001b[43mcolumns\u001b[49m\u001b[38;5;241;43m.\u001b[39;49m\u001b[43mget_loc\u001b[49m\u001b[43m(\u001b[49m\u001b[43mkey\u001b[49m\u001b[43m)\u001b[49m\n\u001b[1;32m   3897\u001b[0m \u001b[38;5;28;01mif\u001b[39;00m is_integer(indexer):\n\u001b[1;32m   3898\u001b[0m     indexer \u001b[38;5;241m=\u001b[39m [indexer]\n",
      "File \u001b[0;32m~/.pyenv/versions/pml/lib/python3.11/site-packages/pandas/core/indexes/base.py:3797\u001b[0m, in \u001b[0;36mIndex.get_loc\u001b[0;34m(self, key)\u001b[0m\n\u001b[1;32m   3792\u001b[0m     \u001b[38;5;28;01mif\u001b[39;00m \u001b[38;5;28misinstance\u001b[39m(casted_key, \u001b[38;5;28mslice\u001b[39m) \u001b[38;5;129;01mor\u001b[39;00m (\n\u001b[1;32m   3793\u001b[0m         \u001b[38;5;28misinstance\u001b[39m(casted_key, abc\u001b[38;5;241m.\u001b[39mIterable)\n\u001b[1;32m   3794\u001b[0m         \u001b[38;5;129;01mand\u001b[39;00m \u001b[38;5;28many\u001b[39m(\u001b[38;5;28misinstance\u001b[39m(x, \u001b[38;5;28mslice\u001b[39m) \u001b[38;5;28;01mfor\u001b[39;00m x \u001b[38;5;129;01min\u001b[39;00m casted_key)\n\u001b[1;32m   3795\u001b[0m     ):\n\u001b[1;32m   3796\u001b[0m         \u001b[38;5;28;01mraise\u001b[39;00m InvalidIndexError(key)\n\u001b[0;32m-> 3797\u001b[0m     \u001b[38;5;28;01mraise\u001b[39;00m \u001b[38;5;167;01mKeyError\u001b[39;00m(key) \u001b[38;5;28;01mfrom\u001b[39;00m \u001b[38;5;21;01merr\u001b[39;00m\n\u001b[1;32m   3798\u001b[0m \u001b[38;5;28;01mexcept\u001b[39;00m \u001b[38;5;167;01mTypeError\u001b[39;00m:\n\u001b[1;32m   3799\u001b[0m     \u001b[38;5;66;03m# If we have a listlike key, _check_indexing_error will raise\u001b[39;00m\n\u001b[1;32m   3800\u001b[0m     \u001b[38;5;66;03m#  InvalidIndexError. Otherwise we fall through and re-raise\u001b[39;00m\n\u001b[1;32m   3801\u001b[0m     \u001b[38;5;66;03m#  the TypeError.\u001b[39;00m\n\u001b[1;32m   3802\u001b[0m     \u001b[38;5;28mself\u001b[39m\u001b[38;5;241m.\u001b[39m_check_indexing_error(key)\n",
      "\u001b[0;31mKeyError\u001b[0m: 'index'"
     ]
    }
   ],
   "source": [
    "res = ra.process(item)"
   ]
  },
  {
   "cell_type": "code",
   "execution_count": 9,
   "id": "6dbf7357-a97e-42fc-b1b4-fe3f97cf8156",
   "metadata": {
    "execution": {
     "iopub.execute_input": "2024-05-14T01:57:45.961195Z",
     "iopub.status.busy": "2024-05-14T01:57:45.960375Z",
     "iopub.status.idle": "2024-05-14T01:57:45.984383Z",
     "shell.execute_reply": "2024-05-14T01:57:45.976234Z",
     "shell.execute_reply.started": "2024-05-14T01:57:45.961138Z"
    }
   },
   "outputs": [
    {
     "data": {
      "text/html": [
       "<div>\n",
       "<style scoped>\n",
       "    .dataframe tbody tr th:only-of-type {\n",
       "        vertical-align: middle;\n",
       "    }\n",
       "\n",
       "    .dataframe tbody tr th {\n",
       "        vertical-align: top;\n",
       "    }\n",
       "\n",
       "    .dataframe thead th {\n",
       "        text-align: right;\n",
       "    }\n",
       "</style>\n",
       "<table border=\"1\" class=\"dataframe\">\n",
       "  <thead>\n",
       "    <tr style=\"text-align: right;\">\n",
       "      <th></th>\n",
       "      <th>lv1</th>\n",
       "      <th>lv2</th>\n",
       "      <th>lv3</th>\n",
       "      <th>lv4</th>\n",
       "      <th>lv5</th>\n",
       "    </tr>\n",
       "  </thead>\n",
       "  <tbody>\n",
       "    <tr>\n",
       "      <th>11913</th>\n",
       "      <td>전라남도</td>\n",
       "      <td>순천시</td>\n",
       "      <td>행동</td>\n",
       "      <td>NaN</td>\n",
       "      <td>NaN</td>\n",
       "    </tr>\n",
       "    <tr>\n",
       "      <th>28150</th>\n",
       "      <td>서울특별시</td>\n",
       "      <td>관악구</td>\n",
       "      <td>봉천동</td>\n",
       "      <td>NaN</td>\n",
       "      <td>NaN</td>\n",
       "    </tr>\n",
       "    <tr>\n",
       "      <th>28151</th>\n",
       "      <td>서울특별시</td>\n",
       "      <td>관악구</td>\n",
       "      <td>신림동</td>\n",
       "      <td>NaN</td>\n",
       "      <td>NaN</td>\n",
       "    </tr>\n",
       "    <tr>\n",
       "      <th>28152</th>\n",
       "      <td>서울특별시</td>\n",
       "      <td>관악구</td>\n",
       "      <td>남현동</td>\n",
       "      <td>NaN</td>\n",
       "      <td>NaN</td>\n",
       "    </tr>\n",
       "  </tbody>\n",
       "</table>\n",
       "</div>"
      ],
      "text/plain": [
       "         lv1  lv2  lv3  lv4  lv5\n",
       "11913   전라남도  순천시   행동  NaN  NaN\n",
       "28150  서울특별시  관악구  봉천동  NaN  NaN\n",
       "28151  서울특별시  관악구  신림동  NaN  NaN\n",
       "28152  서울특별시  관악구  남현동  NaN  NaN"
      ]
     },
     "execution_count": 9,
     "metadata": {},
     "output_type": "execute_result"
    }
   ],
   "source": [
    "ra.df_filtered"
   ]
  },
  {
   "cell_type": "code",
   "execution_count": 11,
   "id": "7766eb9d-e168-4dc4-b754-7323792fcf9a",
   "metadata": {
    "execution": {
     "iopub.execute_input": "2024-05-14T01:57:58.317034Z",
     "iopub.status.busy": "2024-05-14T01:57:58.314002Z",
     "iopub.status.idle": "2024-05-14T01:57:58.327678Z",
     "shell.execute_reply": "2024-05-14T01:57:58.327292Z",
     "shell.execute_reply.started": "2024-05-14T01:57:58.316991Z"
    }
   },
   "outputs": [
    {
     "data": {
      "text/html": [
       "<div>\n",
       "<style scoped>\n",
       "    .dataframe tbody tr th:only-of-type {\n",
       "        vertical-align: middle;\n",
       "    }\n",
       "\n",
       "    .dataframe tbody tr th {\n",
       "        vertical-align: top;\n",
       "    }\n",
       "\n",
       "    .dataframe thead th {\n",
       "        text-align: right;\n",
       "    }\n",
       "</style>\n",
       "<table border=\"1\" class=\"dataframe\">\n",
       "  <thead>\n",
       "    <tr style=\"text-align: right;\">\n",
       "      <th></th>\n",
       "      <th>lv1</th>\n",
       "      <th>lv2</th>\n",
       "      <th>lv3</th>\n",
       "      <th>lv4</th>\n",
       "      <th>lv5</th>\n",
       "    </tr>\n",
       "  </thead>\n",
       "  <tbody>\n",
       "    <tr>\n",
       "      <th>11913</th>\n",
       "      <td>전라남도</td>\n",
       "      <td>순천시</td>\n",
       "      <td>행동</td>\n",
       "      <td>NaN</td>\n",
       "      <td>NaN</td>\n",
       "    </tr>\n",
       "  </tbody>\n",
       "</table>\n",
       "</div>"
      ],
      "text/plain": [
       "        lv1  lv2 lv3  lv4  lv5\n",
       "11913  전라남도  순천시  행동  NaN  NaN"
      ]
     },
     "execution_count": 11,
     "metadata": {},
     "output_type": "execute_result"
    }
   ],
   "source": [
    "ra.df_level"
   ]
  },
  {
   "cell_type": "code",
   "execution_count": 10,
   "id": "b08abc17-21bd-4d7b-8fa5-ca12fcd475f4",
   "metadata": {
    "execution": {
     "iopub.execute_input": "2024-05-14T01:57:52.565066Z",
     "iopub.status.busy": "2024-05-14T01:57:52.564590Z",
     "iopub.status.idle": "2024-05-14T01:57:52.575218Z",
     "shell.execute_reply": "2024-05-14T01:57:52.573838Z",
     "shell.execute_reply.started": "2024-05-14T01:57:52.565035Z"
    }
   },
   "outputs": [
    {
     "data": {
      "text/html": [
       "<div>\n",
       "<style scoped>\n",
       "    .dataframe tbody tr th:only-of-type {\n",
       "        vertical-align: middle;\n",
       "    }\n",
       "\n",
       "    .dataframe tbody tr th {\n",
       "        vertical-align: top;\n",
       "    }\n",
       "\n",
       "    .dataframe thead th {\n",
       "        text-align: right;\n",
       "    }\n",
       "</style>\n",
       "<table border=\"1\" class=\"dataframe\">\n",
       "  <thead>\n",
       "    <tr style=\"text-align: right;\">\n",
       "      <th></th>\n",
       "      <th>index</th>\n",
       "      <th>lv1</th>\n",
       "      <th>lv2</th>\n",
       "      <th>lv3</th>\n",
       "    </tr>\n",
       "  </thead>\n",
       "  <tbody>\n",
       "    <tr>\n",
       "      <th>0</th>\n",
       "      <td>11913</td>\n",
       "      <td>1</td>\n",
       "      <td>1</td>\n",
       "      <td>1</td>\n",
       "    </tr>\n",
       "  </tbody>\n",
       "</table>\n",
       "</div>"
      ],
      "text/plain": [
       "   index  lv1  lv2  lv3\n",
       "0  11913    1    1    1"
      ]
     },
     "execution_count": 10,
     "metadata": {},
     "output_type": "execute_result"
    }
   ],
   "source": [
    "ra.df_count"
   ]
  },
  {
   "cell_type": "code",
   "execution_count": 12,
   "id": "8b998c9d-788f-4f28-ac0d-97a7f9d1ebc4",
   "metadata": {
    "execution": {
     "iopub.execute_input": "2024-05-14T01:58:49.213305Z",
     "iopub.status.busy": "2024-05-14T01:58:49.210828Z",
     "iopub.status.idle": "2024-05-14T01:58:49.256063Z",
     "shell.execute_reply": "2024-05-14T01:58:49.255666Z",
     "shell.execute_reply.started": "2024-05-14T01:58:49.213232Z"
    }
   },
   "outputs": [],
   "source": [
    "idxmax = ra.df_count.iloc[ra.df_count[f'lv{ra.level - 1}'].idxmax()]        "
   ]
  },
  {
   "cell_type": "code",
   "execution_count": 13,
   "id": "9654f7db-b154-43b2-b469-b9b775dac980",
   "metadata": {
    "execution": {
     "iopub.execute_input": "2024-05-14T01:58:54.427414Z",
     "iopub.status.busy": "2024-05-14T01:58:54.426590Z",
     "iopub.status.idle": "2024-05-14T01:58:54.439941Z",
     "shell.execute_reply": "2024-05-14T01:58:54.439331Z",
     "shell.execute_reply.started": "2024-05-14T01:58:54.427368Z"
    }
   },
   "outputs": [
    {
     "data": {
      "text/plain": [
       "index    11913\n",
       "lv1          1\n",
       "lv2          1\n",
       "lv3          1\n",
       "Name: 0, dtype: int64"
      ]
     },
     "execution_count": 13,
     "metadata": {},
     "output_type": "execute_result"
    }
   ],
   "source": [
    "idxmax"
   ]
  },
  {
   "cell_type": "code",
   "execution_count": 17,
   "id": "ee649350-6ab6-4139-aa75-4ca0e1d04a70",
   "metadata": {
    "execution": {
     "iopub.execute_input": "2024-05-14T02:00:13.082520Z",
     "iopub.status.busy": "2024-05-14T02:00:13.081656Z",
     "iopub.status.idle": "2024-05-14T02:00:13.097319Z",
     "shell.execute_reply": "2024-05-14T02:00:13.096475Z",
     "shell.execute_reply.started": "2024-05-14T02:00:13.082493Z"
    }
   },
   "outputs": [
    {
     "data": {
      "text/plain": [
       "lv1    전라남도\n",
       "lv2     순천시\n",
       "lv3      행동\n",
       "lv4     NaN\n",
       "lv5     NaN\n",
       "Name: 11913, dtype: object"
      ]
     },
     "execution_count": 17,
     "metadata": {},
     "output_type": "execute_result"
    }
   ],
   "source": [
    "row = ra.df_address.iloc[idxmax['index']]\n",
    "row"
   ]
  },
  {
   "cell_type": "markdown",
   "id": "6561b043-8dc5-4009-81a4-a8f39075e68e",
   "metadata": {},
   "source": [
    "#### check RA - modify "
   ]
  },
  {
   "cell_type": "code",
   "execution_count": 5,
   "id": "c2625766-59dc-410b-85a5-e37d9f52e1fd",
   "metadata": {
    "execution": {
     "iopub.execute_input": "2024-05-14T02:17:28.090769Z",
     "iopub.status.busy": "2024-05-14T02:17:28.090094Z",
     "iopub.status.idle": "2024-05-14T02:17:29.829942Z",
     "shell.execute_reply": "2024-05-14T02:17:29.829667Z",
     "shell.execute_reply.started": "2024-05-14T02:17:28.090731Z"
    },
    "scrolled": true
   },
   "outputs": [],
   "source": [
    "res = ra.process(texts[2])"
   ]
  },
  {
   "cell_type": "code",
   "execution_count": 6,
   "id": "60b1ff66-9428-4ba3-bc35-91eabc5b885e",
   "metadata": {
    "execution": {
     "iopub.execute_input": "2024-05-14T02:17:30.589299Z",
     "iopub.status.busy": "2024-05-14T02:17:30.588245Z",
     "iopub.status.idle": "2024-05-14T02:17:30.609218Z",
     "shell.execute_reply": "2024-05-14T02:17:30.608724Z",
     "shell.execute_reply.started": "2024-05-14T02:17:30.589239Z"
    }
   },
   "outputs": [
    {
     "data": {
      "text/html": [
       "<div>\n",
       "<style scoped>\n",
       "    .dataframe tbody tr th:only-of-type {\n",
       "        vertical-align: middle;\n",
       "    }\n",
       "\n",
       "    .dataframe tbody tr th {\n",
       "        vertical-align: top;\n",
       "    }\n",
       "\n",
       "    .dataframe thead th {\n",
       "        text-align: right;\n",
       "    }\n",
       "</style>\n",
       "<table border=\"1\" class=\"dataframe\">\n",
       "  <thead>\n",
       "    <tr style=\"text-align: right;\">\n",
       "      <th></th>\n",
       "      <th>lv1</th>\n",
       "      <th>lv2</th>\n",
       "      <th>lv3</th>\n",
       "      <th>lv4</th>\n",
       "      <th>lv5</th>\n",
       "    </tr>\n",
       "  </thead>\n",
       "  <tbody>\n",
       "    <tr>\n",
       "      <th>11913</th>\n",
       "      <td>전라남도</td>\n",
       "      <td>순천시</td>\n",
       "      <td>행동</td>\n",
       "      <td>NaN</td>\n",
       "      <td>NaN</td>\n",
       "    </tr>\n",
       "    <tr>\n",
       "      <th>28150</th>\n",
       "      <td>서울특별시</td>\n",
       "      <td>관악구</td>\n",
       "      <td>봉천동</td>\n",
       "      <td>NaN</td>\n",
       "      <td>NaN</td>\n",
       "    </tr>\n",
       "    <tr>\n",
       "      <th>28151</th>\n",
       "      <td>서울특별시</td>\n",
       "      <td>관악구</td>\n",
       "      <td>신림동</td>\n",
       "      <td>NaN</td>\n",
       "      <td>NaN</td>\n",
       "    </tr>\n",
       "    <tr>\n",
       "      <th>28152</th>\n",
       "      <td>서울특별시</td>\n",
       "      <td>관악구</td>\n",
       "      <td>남현동</td>\n",
       "      <td>NaN</td>\n",
       "      <td>NaN</td>\n",
       "    </tr>\n",
       "  </tbody>\n",
       "</table>\n",
       "</div>"
      ],
      "text/plain": [
       "         lv1  lv2  lv3  lv4  lv5\n",
       "11913   전라남도  순천시   행동  NaN  NaN\n",
       "28150  서울특별시  관악구  봉천동  NaN  NaN\n",
       "28151  서울특별시  관악구  신림동  NaN  NaN\n",
       "28152  서울특별시  관악구  남현동  NaN  NaN"
      ]
     },
     "execution_count": 6,
     "metadata": {},
     "output_type": "execute_result"
    }
   ],
   "source": [
    "ra.df_filtered"
   ]
  },
  {
   "cell_type": "code",
   "execution_count": 7,
   "id": "4c425040-82b3-499f-b1be-6bb18b61c78c",
   "metadata": {
    "execution": {
     "iopub.execute_input": "2024-05-14T02:17:34.136907Z",
     "iopub.status.busy": "2024-05-14T02:17:34.135226Z",
     "iopub.status.idle": "2024-05-14T02:17:34.155331Z",
     "shell.execute_reply": "2024-05-14T02:17:34.154397Z",
     "shell.execute_reply.started": "2024-05-14T02:17:34.136845Z"
    }
   },
   "outputs": [
    {
     "data": {
      "text/html": [
       "<div>\n",
       "<style scoped>\n",
       "    .dataframe tbody tr th:only-of-type {\n",
       "        vertical-align: middle;\n",
       "    }\n",
       "\n",
       "    .dataframe tbody tr th {\n",
       "        vertical-align: top;\n",
       "    }\n",
       "\n",
       "    .dataframe thead th {\n",
       "        text-align: right;\n",
       "    }\n",
       "</style>\n",
       "<table border=\"1\" class=\"dataframe\">\n",
       "  <thead>\n",
       "    <tr style=\"text-align: right;\">\n",
       "      <th></th>\n",
       "      <th>lv1</th>\n",
       "      <th>lv2</th>\n",
       "      <th>lv3</th>\n",
       "      <th>lv4</th>\n",
       "      <th>lv5</th>\n",
       "    </tr>\n",
       "  </thead>\n",
       "  <tbody>\n",
       "    <tr>\n",
       "      <th>11913</th>\n",
       "      <td>전라남도</td>\n",
       "      <td>순천시</td>\n",
       "      <td>행동</td>\n",
       "      <td>NaN</td>\n",
       "      <td>NaN</td>\n",
       "    </tr>\n",
       "  </tbody>\n",
       "</table>\n",
       "</div>"
      ],
      "text/plain": [
       "        lv1  lv2 lv3  lv4  lv5\n",
       "11913  전라남도  순천시  행동  NaN  NaN"
      ]
     },
     "execution_count": 7,
     "metadata": {},
     "output_type": "execute_result"
    }
   ],
   "source": [
    "ra.df_level"
   ]
  },
  {
   "cell_type": "code",
   "execution_count": 8,
   "id": "ab3391c0-e7e5-4246-9b70-e476d5b546d7",
   "metadata": {
    "execution": {
     "iopub.execute_input": "2024-05-14T02:05:09.049897Z",
     "iopub.status.busy": "2024-05-14T02:05:09.046179Z",
     "iopub.status.idle": "2024-05-14T02:05:09.065876Z",
     "shell.execute_reply": "2024-05-14T02:05:09.065574Z",
     "shell.execute_reply.started": "2024-05-14T02:05:09.049854Z"
    }
   },
   "outputs": [
    {
     "data": {
      "text/html": [
       "<div>\n",
       "<style scoped>\n",
       "    .dataframe tbody tr th:only-of-type {\n",
       "        vertical-align: middle;\n",
       "    }\n",
       "\n",
       "    .dataframe tbody tr th {\n",
       "        vertical-align: top;\n",
       "    }\n",
       "\n",
       "    .dataframe thead th {\n",
       "        text-align: right;\n",
       "    }\n",
       "</style>\n",
       "<table border=\"1\" class=\"dataframe\">\n",
       "  <thead>\n",
       "    <tr style=\"text-align: right;\">\n",
       "      <th></th>\n",
       "      <th>index</th>\n",
       "      <th>lv1</th>\n",
       "      <th>lv2</th>\n",
       "      <th>lv3</th>\n",
       "    </tr>\n",
       "  </thead>\n",
       "  <tbody>\n",
       "    <tr>\n",
       "      <th>0</th>\n",
       "      <td>11913</td>\n",
       "      <td>1</td>\n",
       "      <td>1</td>\n",
       "      <td>1</td>\n",
       "    </tr>\n",
       "  </tbody>\n",
       "</table>\n",
       "</div>"
      ],
      "text/plain": [
       "   index  lv1  lv2  lv3\n",
       "0  11913    1    1    1"
      ]
     },
     "execution_count": 8,
     "metadata": {},
     "output_type": "execute_result"
    }
   ],
   "source": [
    "ra.df_count"
   ]
  },
  {
   "cell_type": "markdown",
   "id": "26a3ddd2-09af-40e0-9f07-f2bd5ff0cf68",
   "metadata": {},
   "source": [
    "#### ask: fruit"
   ]
  },
  {
   "cell_type": "code",
   "execution_count": 8,
   "id": "63c0f54f-7436-4018-a184-5a0ae658288f",
   "metadata": {
    "execution": {
     "iopub.execute_input": "2024-05-14T02:20:55.644118Z",
     "iopub.status.busy": "2024-05-14T02:20:55.642844Z",
     "iopub.status.idle": "2024-05-14T02:20:55.662937Z",
     "shell.execute_reply": "2024-05-14T02:20:55.662016Z",
     "shell.execute_reply.started": "2024-05-14T02:20:55.644082Z"
    }
   },
   "outputs": [],
   "source": [
    "fruit = {\n",
    "    'fruit_name': ['apple', 'banana', 'cherry'],\n",
    "    'stock': [10, 5, 7]\n",
    "}\n",
    "df_fruit = pd.DataFrame(fruit)"
   ]
  },
  {
   "cell_type": "code",
   "execution_count": 9,
   "id": "6a729c9c-a071-4bee-a7e6-a648b43044dc",
   "metadata": {
    "execution": {
     "iopub.execute_input": "2024-05-14T02:21:40.139914Z",
     "iopub.status.busy": "2024-05-14T02:21:40.138596Z",
     "iopub.status.idle": "2024-05-14T02:21:40.170574Z",
     "shell.execute_reply": "2024-05-14T02:21:40.169728Z",
     "shell.execute_reply.started": "2024-05-14T02:21:40.139889Z"
    }
   },
   "outputs": [
    {
     "data": {
      "text/html": [
       "<div>\n",
       "<style scoped>\n",
       "    .dataframe tbody tr th:only-of-type {\n",
       "        vertical-align: middle;\n",
       "    }\n",
       "\n",
       "    .dataframe tbody tr th {\n",
       "        vertical-align: top;\n",
       "    }\n",
       "\n",
       "    .dataframe thead th {\n",
       "        text-align: right;\n",
       "    }\n",
       "</style>\n",
       "<table border=\"1\" class=\"dataframe\">\n",
       "  <thead>\n",
       "    <tr style=\"text-align: right;\">\n",
       "      <th></th>\n",
       "      <th>fruit_name</th>\n",
       "      <th>stock</th>\n",
       "    </tr>\n",
       "  </thead>\n",
       "  <tbody>\n",
       "    <tr>\n",
       "      <th>0</th>\n",
       "      <td>apple</td>\n",
       "      <td>10</td>\n",
       "    </tr>\n",
       "    <tr>\n",
       "      <th>1</th>\n",
       "      <td>banana</td>\n",
       "      <td>5</td>\n",
       "    </tr>\n",
       "    <tr>\n",
       "      <th>2</th>\n",
       "      <td>cherry</td>\n",
       "      <td>7</td>\n",
       "    </tr>\n",
       "  </tbody>\n",
       "</table>\n",
       "</div>"
      ],
      "text/plain": [
       "  fruit_name  stock\n",
       "0      apple     10\n",
       "1     banana      5\n",
       "2     cherry      7"
      ]
     },
     "execution_count": 9,
     "metadata": {},
     "output_type": "execute_result"
    }
   ],
   "source": [
    "df_fruit"
   ]
  },
  {
   "cell_type": "code",
   "execution_count": 15,
   "id": "84763317-98e3-4677-87ea-7020644f6b2d",
   "metadata": {
    "execution": {
     "iopub.execute_input": "2024-05-14T02:24:18.969634Z",
     "iopub.status.busy": "2024-05-14T02:24:18.964688Z",
     "iopub.status.idle": "2024-05-14T02:24:18.979383Z",
     "shell.execute_reply": "2024-05-14T02:24:18.978992Z",
     "shell.execute_reply.started": "2024-05-14T02:24:18.969491Z"
    }
   },
   "outputs": [],
   "source": [
    "text = '2 apples, 2 bananas, 1 more apple'"
   ]
  },
  {
   "cell_type": "code",
   "execution_count": 16,
   "id": "e55159c9-bfd0-49ec-94cf-f1fafce0cd0f",
   "metadata": {
    "execution": {
     "iopub.execute_input": "2024-05-14T02:24:22.817195Z",
     "iopub.status.busy": "2024-05-14T02:24:22.816324Z",
     "iopub.status.idle": "2024-05-14T02:24:22.826718Z",
     "shell.execute_reply": "2024-05-14T02:24:22.826235Z",
     "shell.execute_reply.started": "2024-05-14T02:24:22.817157Z"
    }
   },
   "outputs": [],
   "source": [
    "df_mask = df_fruit.map(\n",
    "    lambda x: bool(\n",
    "        re.search(\n",
    "            r'\\b{}'.format(str(x)),\n",
    "            text,\n",
    "            re.IGNORECASE)))"
   ]
  },
  {
   "cell_type": "code",
   "execution_count": 17,
   "id": "332e6916-de11-4260-9283-4c089243febb",
   "metadata": {
    "execution": {
     "iopub.execute_input": "2024-05-14T02:24:23.596423Z",
     "iopub.status.busy": "2024-05-14T02:24:23.595968Z",
     "iopub.status.idle": "2024-05-14T02:24:23.606150Z",
     "shell.execute_reply": "2024-05-14T02:24:23.605455Z",
     "shell.execute_reply.started": "2024-05-14T02:24:23.596396Z"
    }
   },
   "outputs": [],
   "source": [
    "df_filtered = df_fruit[df_mask.any(axis=1)]"
   ]
  },
  {
   "cell_type": "code",
   "execution_count": 18,
   "id": "60cbc263-8902-422f-941a-5afc4b452bf8",
   "metadata": {
    "execution": {
     "iopub.execute_input": "2024-05-14T02:24:24.402880Z",
     "iopub.status.busy": "2024-05-14T02:24:24.402068Z",
     "iopub.status.idle": "2024-05-14T02:24:24.414400Z",
     "shell.execute_reply": "2024-05-14T02:24:24.413956Z",
     "shell.execute_reply.started": "2024-05-14T02:24:24.402844Z"
    }
   },
   "outputs": [
    {
     "data": {
      "text/html": [
       "<div>\n",
       "<style scoped>\n",
       "    .dataframe tbody tr th:only-of-type {\n",
       "        vertical-align: middle;\n",
       "    }\n",
       "\n",
       "    .dataframe tbody tr th {\n",
       "        vertical-align: top;\n",
       "    }\n",
       "\n",
       "    .dataframe thead th {\n",
       "        text-align: right;\n",
       "    }\n",
       "</style>\n",
       "<table border=\"1\" class=\"dataframe\">\n",
       "  <thead>\n",
       "    <tr style=\"text-align: right;\">\n",
       "      <th></th>\n",
       "      <th>fruit_name</th>\n",
       "      <th>stock</th>\n",
       "    </tr>\n",
       "  </thead>\n",
       "  <tbody>\n",
       "    <tr>\n",
       "      <th>0</th>\n",
       "      <td>apple</td>\n",
       "      <td>10</td>\n",
       "    </tr>\n",
       "    <tr>\n",
       "      <th>1</th>\n",
       "      <td>banana</td>\n",
       "      <td>5</td>\n",
       "    </tr>\n",
       "  </tbody>\n",
       "</table>\n",
       "</div>"
      ],
      "text/plain": [
       "  fruit_name  stock\n",
       "0      apple     10\n",
       "1     banana      5"
      ]
     },
     "execution_count": 18,
     "metadata": {},
     "output_type": "execute_result"
    }
   ],
   "source": [
    "df_filtered"
   ]
  },
  {
   "cell_type": "code",
   "execution_count": null,
   "id": "8076c1e1-48e4-42a7-869a-9488b6357055",
   "metadata": {
    "execution": {
     "iopub.execute_input": "2024-05-14T02:20:55.644118Z",
     "iopub.status.busy": "2024-05-14T02:20:55.642844Z",
     "iopub.status.idle": "2024-05-14T02:20:55.662937Z",
     "shell.execute_reply": "2024-05-14T02:20:55.662016Z",
     "shell.execute_reply.started": "2024-05-14T02:20:55.644082Z"
    }
   },
   "outputs": [],
   "source": [
    "fruit = {\n",
    "    'fruit_name': ['apple', 'banana', 'cherry'],\n",
    "    'stock': [10, 5, 7]\n",
    "}\n",
    "df_fruit = pd.DataFrame(fruit)\n",
    "\n",
    "text = '2 apples, 2 bananas, 1 more apple'\n",
    "df_mask = df_fruit.map(\n",
    "    lambda x: bool(\n",
    "        re.search(\n",
    "            r'\\b{}'.format(str(x)),\n",
    "            text,\n",
    "            re.IGNORECASE)))\n",
    "df_filtered = df_fruit[df_mask.any(axis=1)]"
   ]
  },
  {
   "cell_type": "code",
   "execution_count": 23,
   "id": "a215a670-795b-437e-91ad-b12176cebba7",
   "metadata": {
    "execution": {
     "iopub.execute_input": "2024-05-14T02:33:46.400630Z",
     "iopub.status.busy": "2024-05-14T02:33:46.399249Z",
     "iopub.status.idle": "2024-05-14T02:33:46.421296Z",
     "shell.execute_reply": "2024-05-14T02:33:46.420823Z",
     "shell.execute_reply.started": "2024-05-14T02:33:46.400589Z"
    }
   },
   "outputs": [
    {
     "name": "stdout",
     "output_type": "stream",
     "text": [
      "{'apple': 2, 'banana': 1, 'cherry': 0}\n"
     ]
    }
   ],
   "source": [
    "# Initialize a dictionary to store keyword counts\n",
    "keyword_counts = {keyword: 0 for keyword in df_fruit['fruit_name']}\n",
    "\n",
    "# Iterate over DataFrame rows and count occurrences\n",
    "for index, row in df_fruit.iterrows():\n",
    "    keyword = row['fruit_name']\n",
    "    pattern = r'\\b{}'.format(re.escape(keyword))\n",
    "    count = len(re.findall(pattern, text, re.IGNORECASE))\n",
    "    keyword_counts[keyword] += count\n",
    "\n",
    "print(keyword_counts)"
   ]
  },
  {
   "cell_type": "code",
   "execution_count": 24,
   "id": "28ee9ab1-23fe-4786-8120-1e3f901e2208",
   "metadata": {
    "execution": {
     "iopub.execute_input": "2024-05-14T02:34:58.651634Z",
     "iopub.status.busy": "2024-05-14T02:34:58.650172Z",
     "iopub.status.idle": "2024-05-14T02:34:58.690509Z",
     "shell.execute_reply": "2024-05-14T02:34:58.690115Z",
     "shell.execute_reply.started": "2024-05-14T02:34:58.651594Z"
    }
   },
   "outputs": [
    {
     "data": {
      "text/html": [
       "<div>\n",
       "<style scoped>\n",
       "    .dataframe tbody tr th:only-of-type {\n",
       "        vertical-align: middle;\n",
       "    }\n",
       "\n",
       "    .dataframe tbody tr th {\n",
       "        vertical-align: top;\n",
       "    }\n",
       "\n",
       "    .dataframe thead th {\n",
       "        text-align: right;\n",
       "    }\n",
       "</style>\n",
       "<table border=\"1\" class=\"dataframe\">\n",
       "  <thead>\n",
       "    <tr style=\"text-align: right;\">\n",
       "      <th></th>\n",
       "      <th>count</th>\n",
       "    </tr>\n",
       "  </thead>\n",
       "  <tbody>\n",
       "    <tr>\n",
       "      <th>apple</th>\n",
       "      <td>2</td>\n",
       "    </tr>\n",
       "    <tr>\n",
       "      <th>banana</th>\n",
       "      <td>1</td>\n",
       "    </tr>\n",
       "    <tr>\n",
       "      <th>cherry</th>\n",
       "      <td>0</td>\n",
       "    </tr>\n",
       "  </tbody>\n",
       "</table>\n",
       "</div>"
      ],
      "text/plain": [
       "        count\n",
       "apple       2\n",
       "banana      1\n",
       "cherry      0"
      ]
     },
     "execution_count": 24,
     "metadata": {},
     "output_type": "execute_result"
    }
   ],
   "source": [
    "# Convert the dictionary to a DataFrame\n",
    "df_keyword_counts = pd.DataFrame.from_dict(keyword_counts, orient='index', columns=['count'])\n",
    "df_keyword_counts"
   ]
  },
  {
   "cell_type": "markdown",
   "id": "080ab1e0-973b-490f-b526-d0e14eda3d7c",
   "metadata": {},
   "source": [
    "#### check RA - apply:"
   ]
  },
  {
   "cell_type": "code",
   "execution_count": 25,
   "id": "d9c8540f-a984-4e20-9abb-b018a4efe5b2",
   "metadata": {
    "execution": {
     "iopub.execute_input": "2024-05-14T02:38:10.682745Z",
     "iopub.status.busy": "2024-05-14T02:38:10.681708Z",
     "iopub.status.idle": "2024-05-14T02:38:10.692193Z",
     "shell.execute_reply": "2024-05-14T02:38:10.691811Z",
     "shell.execute_reply.started": "2024-05-14T02:38:10.682716Z"
    }
   },
   "outputs": [
    {
     "data": {
      "text/plain": [
       "'/사진=유튜브 채널 \\'서울경찰\\' 영상 캡처\\n출근길 \\'묻지마 폭행\\'을 저지른 남성이 현행범으로 체포되는 모습이 공개됐다.\\n\\n18일 서울경찰청 공식 유튜브 채널에 \\'출근길 묻지마 폭행범 검거 현장\\'이라는 제목으로 지난 3월 서울 관악구 골목길에서 난동을 부렸던 남성의 모습이 담긴 영상이 게재됐다.\\n\\n이 남성은 상의를 벗어 문신이 그려진 몸으로 길을 걷던 한 여성을 향해 달려갔다. 갑자기 돌진하는 남성을 보며 놀란 여성이 횡단보도로 뛰어가며 도망쳤지만, 남성은 그 뒤를 쫓아갔다.\\n\\n다른 행인들이 남성을 말렸음에도 난동은 이어졌다. 신고받고 현장에 출동한 경찰은 폭행 및 공무집행방해 등 혐의로 현장에서 체포했다.\\n/사진=유튜브 채널 \\'서울경찰\\' 영상 캡처\\n경찰의 등장에도 남성은 침을 뱉고, 욕을 하는 등 폭력적인 행동을 이어갔다. 결국 경찰은 남성을 힘으로 제압해 압송했다.\\n\\n경찰에 따르면 이 남성과 여성은 일면식도 없는 사이였다. 경찰은 \"마약사범으로 의심했으나 마약 성분은 검출되지 않았다\"며 \"관제센터와의 공조, 시민들의 도움으로 빠르게 찾아낸 덕에 2차 피해를 막을 수 있었다\"고 전했다.\\n\\n김소연 한경닷컴 기자 sue123@hankyung.com'"
      ]
     },
     "execution_count": 25,
     "metadata": {},
     "output_type": "execute_result"
    }
   ],
   "source": [
    "texts[2]"
   ]
  },
  {
   "cell_type": "code",
   "execution_count": 27,
   "id": "ed09461b-7a7f-4996-8f9a-44e2282b1f55",
   "metadata": {
    "execution": {
     "iopub.execute_input": "2024-05-14T02:41:47.665929Z",
     "iopub.status.busy": "2024-05-14T02:41:47.665039Z",
     "iopub.status.idle": "2024-05-14T02:41:49.320533Z",
     "shell.execute_reply": "2024-05-14T02:41:49.320196Z",
     "shell.execute_reply.started": "2024-05-14T02:41:47.665896Z"
    }
   },
   "outputs": [],
   "source": [
    "mask = df_addr.map(\n",
    "    lambda x: bool(\n",
    "        re.search(\n",
    "            r'\\b{}'.format(str(x)),\n",
    "            texts[2],\n",
    "            re.IGNORECASE)))\n",
    "df_filtered = df_addr[mask.any(axis=1)]\n",
    "df_level = df_addr[mask[f'lv3']]"
   ]
  },
  {
   "cell_type": "code",
   "execution_count": 28,
   "id": "0f54a627-9478-4a8b-b8a6-86777e30f714",
   "metadata": {
    "execution": {
     "iopub.execute_input": "2024-05-14T02:41:54.112418Z",
     "iopub.status.busy": "2024-05-14T02:41:54.099415Z",
     "iopub.status.idle": "2024-05-14T02:41:54.124345Z",
     "shell.execute_reply": "2024-05-14T02:41:54.124035Z",
     "shell.execute_reply.started": "2024-05-14T02:41:54.112385Z"
    }
   },
   "outputs": [
    {
     "data": {
      "text/html": [
       "<div>\n",
       "<style scoped>\n",
       "    .dataframe tbody tr th:only-of-type {\n",
       "        vertical-align: middle;\n",
       "    }\n",
       "\n",
       "    .dataframe tbody tr th {\n",
       "        vertical-align: top;\n",
       "    }\n",
       "\n",
       "    .dataframe thead th {\n",
       "        text-align: right;\n",
       "    }\n",
       "</style>\n",
       "<table border=\"1\" class=\"dataframe\">\n",
       "  <thead>\n",
       "    <tr style=\"text-align: right;\">\n",
       "      <th></th>\n",
       "      <th>lv1</th>\n",
       "      <th>lv2</th>\n",
       "      <th>lv3</th>\n",
       "      <th>lv4</th>\n",
       "      <th>lv5</th>\n",
       "    </tr>\n",
       "  </thead>\n",
       "  <tbody>\n",
       "    <tr>\n",
       "      <th>11913</th>\n",
       "      <td>전라남도</td>\n",
       "      <td>순천시</td>\n",
       "      <td>행동</td>\n",
       "      <td>NaN</td>\n",
       "      <td>NaN</td>\n",
       "    </tr>\n",
       "    <tr>\n",
       "      <th>28150</th>\n",
       "      <td>서울특별시</td>\n",
       "      <td>관악구</td>\n",
       "      <td>봉천동</td>\n",
       "      <td>NaN</td>\n",
       "      <td>NaN</td>\n",
       "    </tr>\n",
       "    <tr>\n",
       "      <th>28151</th>\n",
       "      <td>서울특별시</td>\n",
       "      <td>관악구</td>\n",
       "      <td>신림동</td>\n",
       "      <td>NaN</td>\n",
       "      <td>NaN</td>\n",
       "    </tr>\n",
       "    <tr>\n",
       "      <th>28152</th>\n",
       "      <td>서울특별시</td>\n",
       "      <td>관악구</td>\n",
       "      <td>남현동</td>\n",
       "      <td>NaN</td>\n",
       "      <td>NaN</td>\n",
       "    </tr>\n",
       "  </tbody>\n",
       "</table>\n",
       "</div>"
      ],
      "text/plain": [
       "         lv1  lv2  lv3  lv4  lv5\n",
       "11913   전라남도  순천시   행동  NaN  NaN\n",
       "28150  서울특별시  관악구  봉천동  NaN  NaN\n",
       "28151  서울특별시  관악구  신림동  NaN  NaN\n",
       "28152  서울특별시  관악구  남현동  NaN  NaN"
      ]
     },
     "execution_count": 28,
     "metadata": {},
     "output_type": "execute_result"
    }
   ],
   "source": [
    "df_filtered"
   ]
  },
  {
   "cell_type": "code",
   "execution_count": 37,
   "id": "4656fdbf-2af5-4b74-b23a-e783cc7c5e22",
   "metadata": {
    "execution": {
     "iopub.execute_input": "2024-05-14T02:51:21.925727Z",
     "iopub.status.busy": "2024-05-14T02:51:21.924269Z",
     "iopub.status.idle": "2024-05-14T02:51:21.944968Z",
     "shell.execute_reply": "2024-05-14T02:51:21.944493Z",
     "shell.execute_reply.started": "2024-05-14T02:51:21.925658Z"
    }
   },
   "outputs": [],
   "source": [
    "addr_name_set = set([])\n",
    "\n",
    "for index, row in df_filtered.iterrows():\n",
    "    for value in row.values:\n",
    "        if isinstance(value, str):\n",
    "            if value not in addr_name_set:\n",
    "                addr_name_set.add(value)"
   ]
  },
  {
   "cell_type": "code",
   "execution_count": 38,
   "id": "ab1a858b-bbf5-4344-9855-adfe0ae1254a",
   "metadata": {
    "execution": {
     "iopub.execute_input": "2024-05-14T02:51:27.965916Z",
     "iopub.status.busy": "2024-05-14T02:51:27.964465Z",
     "iopub.status.idle": "2024-05-14T02:51:27.978897Z",
     "shell.execute_reply": "2024-05-14T02:51:27.977928Z",
     "shell.execute_reply.started": "2024-05-14T02:51:27.965860Z"
    }
   },
   "outputs": [
    {
     "data": {
      "text/plain": [
       "{'관악구', '남현동', '봉천동', '서울특별시', '순천시', '신림동', '전라남도', '행동'}"
      ]
     },
     "execution_count": 38,
     "metadata": {},
     "output_type": "execute_result"
    }
   ],
   "source": [
    "addr_name_set"
   ]
  },
  {
   "cell_type": "code",
   "execution_count": 41,
   "id": "bdadda99-0d79-48b8-a147-3e3f54db5d31",
   "metadata": {
    "execution": {
     "iopub.execute_input": "2024-05-14T02:53:09.517556Z",
     "iopub.status.busy": "2024-05-14T02:53:09.515904Z",
     "iopub.status.idle": "2024-05-14T02:53:09.524630Z",
     "shell.execute_reply": "2024-05-14T02:53:09.524258Z",
     "shell.execute_reply.started": "2024-05-14T02:53:09.517525Z"
    }
   },
   "outputs": [
    {
     "name": "stdout",
     "output_type": "stream",
     "text": [
      "{'순천시': 0, '행동': 1, '신림동': 0, '전라남도': 0, '서울특별시': 0, '남현동': 0, '봉천동': 0, '관악구': 1}\n"
     ]
    }
   ],
   "source": [
    "keyword_counts = {keyword: 0 for keyword in addr_name_set}\n",
    "\n",
    "for keyword in addr_name_set:\n",
    "    pattern = r'\\b{}'.format(re.escape(keyword))\n",
    "    count = len(re.findall(pattern, texts[2], re.IGNORECASE))\n",
    "    keyword_counts[keyword] += count\n",
    "\n",
    "print(keyword_counts)"
   ]
  },
  {
   "cell_type": "markdown",
   "id": "b9e65865-9d82-4593-8c13-e7dd8342213b",
   "metadata": {},
   "source": [
    "'서울특별시' 이거 먼저 좀 해결을 해야겠다.  "
   ]
  },
  {
   "cell_type": "markdown",
   "id": "f21a2ba4-93f6-423c-a374-c8052dd5f9b3",
   "metadata": {},
   "source": [
    "#### ask: replace contents in dataframe"
   ]
  },
  {
   "cell_type": "code",
   "execution_count": 42,
   "id": "26e5ddf6-f0b3-4d18-80fc-92275767ecbc",
   "metadata": {
    "execution": {
     "iopub.execute_input": "2024-05-14T03:03:48.822718Z",
     "iopub.status.busy": "2024-05-14T03:03:48.812960Z",
     "iopub.status.idle": "2024-05-14T03:03:48.898530Z",
     "shell.execute_reply": "2024-05-14T03:03:48.897988Z",
     "shell.execute_reply.started": "2024-05-14T03:03:48.822678Z"
    }
   },
   "outputs": [],
   "source": [
    "food = {\n",
    "    'item': ['apple', 'banana', 'cherry', 'onion', 'garlic', 'flour'],\n",
    "    'stock': [10, 5, 7, 8, 12, 5]\n",
    "}\n",
    "df_food = pd.DataFrame(food)\n",
    "\n",
    "# make 'code' column, 'fruit' for 'apple', 'banana', 'cherry' rows, 'vegetable' for 'onion', 'garlic', and 'grain' for 'flour'"
   ]
  },
  {
   "cell_type": "code",
   "execution_count": 43,
   "id": "f7c5b8ea-9ad7-43a3-abf9-128cc8a60b5c",
   "metadata": {
    "execution": {
     "iopub.execute_input": "2024-05-14T03:03:56.851536Z",
     "iopub.status.busy": "2024-05-14T03:03:56.850762Z",
     "iopub.status.idle": "2024-05-14T03:03:56.901565Z",
     "shell.execute_reply": "2024-05-14T03:03:56.901178Z",
     "shell.execute_reply.started": "2024-05-14T03:03:56.851515Z"
    }
   },
   "outputs": [
    {
     "name": "stdout",
     "output_type": "stream",
     "text": [
      "     item  stock       code\n",
      "0   apple     10      fruit\n",
      "1  banana      5      fruit\n",
      "2  cherry      7      fruit\n",
      "3   onion      8  vegetable\n",
      "4  garlic     12  vegetable\n",
      "5   flour      5      grain\n"
     ]
    }
   ],
   "source": [
    "# Define conditions and choices for the 'code' column\n",
    "conditions = [\n",
    "    df_food['item'].isin(['apple', 'banana', 'cherry']),\n",
    "    df_food['item'].isin(['onion', 'garlic']),\n",
    "    df_food['item'].isin(['flour'])\n",
    "]\n",
    "choices = ['fruit', 'vegetable', 'grain']\n",
    "\n",
    "# Create the 'code' column based on conditions\n",
    "df_food['code'] = np.select(conditions, choices, default='')\n",
    "\n",
    "print(df_food)"
   ]
  },
  {
   "cell_type": "markdown",
   "id": "11498f9b-59be-417c-bacb-c8cfad3f0bf6",
   "metadata": {},
   "source": [
    "#### apply: df_address"
   ]
  },
  {
   "cell_type": "code",
   "execution_count": 44,
   "id": "15d82838-5d12-4865-8304-b8922e67e592",
   "metadata": {
    "execution": {
     "iopub.execute_input": "2024-05-14T03:05:00.478126Z",
     "iopub.status.busy": "2024-05-14T03:05:00.476619Z",
     "iopub.status.idle": "2024-05-14T03:05:00.541041Z",
     "shell.execute_reply": "2024-05-14T03:05:00.540720Z",
     "shell.execute_reply.started": "2024-05-14T03:05:00.478060Z"
    }
   },
   "outputs": [
    {
     "data": {
      "text/html": [
       "<div>\n",
       "<style scoped>\n",
       "    .dataframe tbody tr th:only-of-type {\n",
       "        vertical-align: middle;\n",
       "    }\n",
       "\n",
       "    .dataframe tbody tr th {\n",
       "        vertical-align: top;\n",
       "    }\n",
       "\n",
       "    .dataframe thead th {\n",
       "        text-align: right;\n",
       "    }\n",
       "</style>\n",
       "<table border=\"1\" class=\"dataframe\">\n",
       "  <thead>\n",
       "    <tr style=\"text-align: right;\">\n",
       "      <th></th>\n",
       "      <th>lv1</th>\n",
       "      <th>lv2</th>\n",
       "      <th>lv3</th>\n",
       "      <th>lv4</th>\n",
       "      <th>lv5</th>\n",
       "    </tr>\n",
       "  </thead>\n",
       "  <tbody>\n",
       "    <tr>\n",
       "      <th>0</th>\n",
       "      <td>충청남도</td>\n",
       "      <td>천안시 동남구</td>\n",
       "      <td>대흥동</td>\n",
       "      <td>NaN</td>\n",
       "      <td>NaN</td>\n",
       "    </tr>\n",
       "  </tbody>\n",
       "</table>\n",
       "</div>"
      ],
      "text/plain": [
       "    lv1      lv2  lv3  lv4  lv5\n",
       "0  충청남도  천안시 동남구  대흥동  NaN  NaN"
      ]
     },
     "execution_count": 44,
     "metadata": {},
     "output_type": "execute_result"
    }
   ],
   "source": [
    "df_addr.head(1)"
   ]
  },
  {
   "cell_type": "code",
   "execution_count": 46,
   "id": "9f14abc7-2653-4bb0-af97-762603f43db4",
   "metadata": {
    "execution": {
     "iopub.execute_input": "2024-05-14T03:08:54.766689Z",
     "iopub.status.busy": "2024-05-14T03:08:54.765044Z",
     "iopub.status.idle": "2024-05-14T03:08:55.236714Z",
     "shell.execute_reply": "2024-05-14T03:08:55.236088Z",
     "shell.execute_reply.started": "2024-05-14T03:08:54.766649Z"
    }
   },
   "outputs": [],
   "source": [
    "lv1_set = set([])\n",
    "\n",
    "for index, row in df_addr.iterrows():\n",
    "    value = row['lv1']\n",
    "    if isinstance(value, str):\n",
    "        if value not in lv1_set:\n",
    "            lv1_set.add(value)"
   ]
  },
  {
   "cell_type": "code",
   "execution_count": 47,
   "id": "48f2d410-c074-49e2-ae9a-6e846aa9b1c2",
   "metadata": {
    "execution": {
     "iopub.execute_input": "2024-05-14T03:09:00.580888Z",
     "iopub.status.busy": "2024-05-14T03:09:00.578714Z",
     "iopub.status.idle": "2024-05-14T03:09:00.587309Z",
     "shell.execute_reply": "2024-05-14T03:09:00.586910Z",
     "shell.execute_reply.started": "2024-05-14T03:09:00.580795Z"
    }
   },
   "outputs": [
    {
     "data": {
      "text/plain": [
       "{'강원특별자치도',\n",
       " '경기도',\n",
       " '경상남도',\n",
       " '경상북도',\n",
       " '광주광역시',\n",
       " '대구광역시',\n",
       " '대전광역시',\n",
       " '부산광역시',\n",
       " '서울특별시',\n",
       " '울산광역시',\n",
       " '인천광역시',\n",
       " '전라남도',\n",
       " '전북특별자치도',\n",
       " '제주특별자치도',\n",
       " '충청남도',\n",
       " '충청북도'}"
      ]
     },
     "execution_count": 47,
     "metadata": {},
     "output_type": "execute_result"
    }
   ],
   "source": [
    "lv1_set"
   ]
  },
  {
   "cell_type": "code",
   "execution_count": 50,
   "id": "6b6e34b5-a5a7-4a16-9484-cb7718427eaa",
   "metadata": {
    "execution": {
     "iopub.execute_input": "2024-05-14T03:11:57.985810Z",
     "iopub.status.busy": "2024-05-14T03:11:57.981030Z",
     "iopub.status.idle": "2024-05-14T03:11:57.991713Z",
     "shell.execute_reply": "2024-05-14T03:11:57.991332Z",
     "shell.execute_reply.started": "2024-05-14T03:11:57.985785Z"
    }
   },
   "outputs": [],
   "source": [
    "lv0_set = [\n",
    "    '강원', '경기', '경남', '경북', '광주',\n",
    "    '대구', '대전', '부산', '서울', '울산',\n",
    "    '인천', '전남', '전북', '제주', '충남',\n",
    "    '충북'\n",
    "]"
   ]
  },
  {
   "cell_type": "code",
   "execution_count": 49,
   "id": "e6434dbd-d068-4c06-85a7-61a15a29cbfb",
   "metadata": {
    "execution": {
     "iopub.execute_input": "2024-05-14T03:11:18.506573Z",
     "iopub.status.busy": "2024-05-14T03:11:18.504519Z",
     "iopub.status.idle": "2024-05-14T03:11:18.545381Z",
     "shell.execute_reply": "2024-05-14T03:11:18.544981Z",
     "shell.execute_reply.started": "2024-05-14T03:11:18.506542Z"
    },
    "scrolled": true
   },
   "outputs": [],
   "source": [
    "conditions = [df_addr['lv1'].isin([item]) for item in lv1_set]"
   ]
  },
  {
   "cell_type": "code",
   "execution_count": 51,
   "id": "ca1d12e7-83b3-4982-a997-a718742985ed",
   "metadata": {
    "execution": {
     "iopub.execute_input": "2024-05-14T03:12:28.981176Z",
     "iopub.status.busy": "2024-05-14T03:12:28.980332Z",
     "iopub.status.idle": "2024-05-14T03:12:29.001721Z",
     "shell.execute_reply": "2024-05-14T03:12:29.001277Z",
     "shell.execute_reply.started": "2024-05-14T03:12:28.981149Z"
    }
   },
   "outputs": [],
   "source": [
    "df_addr['lv0'] = np.select(conditions, lv0_set, default='')"
   ]
  },
  {
   "cell_type": "code",
   "execution_count": 52,
   "id": "5e4cf79c-e8fc-46bb-abda-ca278dd751c9",
   "metadata": {
    "execution": {
     "iopub.execute_input": "2024-05-14T03:12:37.506243Z",
     "iopub.status.busy": "2024-05-14T03:12:37.504418Z",
     "iopub.status.idle": "2024-05-14T03:12:37.536755Z",
     "shell.execute_reply": "2024-05-14T03:12:37.536367Z",
     "shell.execute_reply.started": "2024-05-14T03:12:37.506179Z"
    }
   },
   "outputs": [
    {
     "data": {
      "text/html": [
       "<div>\n",
       "<style scoped>\n",
       "    .dataframe tbody tr th:only-of-type {\n",
       "        vertical-align: middle;\n",
       "    }\n",
       "\n",
       "    .dataframe tbody tr th {\n",
       "        vertical-align: top;\n",
       "    }\n",
       "\n",
       "    .dataframe thead th {\n",
       "        text-align: right;\n",
       "    }\n",
       "</style>\n",
       "<table border=\"1\" class=\"dataframe\">\n",
       "  <thead>\n",
       "    <tr style=\"text-align: right;\">\n",
       "      <th></th>\n",
       "      <th>lv1</th>\n",
       "      <th>lv2</th>\n",
       "      <th>lv3</th>\n",
       "      <th>lv4</th>\n",
       "      <th>lv5</th>\n",
       "      <th>lv0</th>\n",
       "    </tr>\n",
       "  </thead>\n",
       "  <tbody>\n",
       "    <tr>\n",
       "      <th>0</th>\n",
       "      <td>충청남도</td>\n",
       "      <td>천안시 동남구</td>\n",
       "      <td>대흥동</td>\n",
       "      <td>NaN</td>\n",
       "      <td>NaN</td>\n",
       "      <td>인천</td>\n",
       "    </tr>\n",
       "    <tr>\n",
       "      <th>1</th>\n",
       "      <td>충청남도</td>\n",
       "      <td>천안시 동남구</td>\n",
       "      <td>성황동</td>\n",
       "      <td>NaN</td>\n",
       "      <td>NaN</td>\n",
       "      <td>인천</td>\n",
       "    </tr>\n",
       "    <tr>\n",
       "      <th>2</th>\n",
       "      <td>충청남도</td>\n",
       "      <td>천안시 동남구</td>\n",
       "      <td>문화동</td>\n",
       "      <td>NaN</td>\n",
       "      <td>NaN</td>\n",
       "      <td>인천</td>\n",
       "    </tr>\n",
       "    <tr>\n",
       "      <th>3</th>\n",
       "      <td>충청남도</td>\n",
       "      <td>천안시 동남구</td>\n",
       "      <td>사직동</td>\n",
       "      <td>NaN</td>\n",
       "      <td>NaN</td>\n",
       "      <td>인천</td>\n",
       "    </tr>\n",
       "    <tr>\n",
       "      <th>4</th>\n",
       "      <td>충청남도</td>\n",
       "      <td>천안시 동남구</td>\n",
       "      <td>영성동</td>\n",
       "      <td>NaN</td>\n",
       "      <td>NaN</td>\n",
       "      <td>인천</td>\n",
       "    </tr>\n",
       "  </tbody>\n",
       "</table>\n",
       "</div>"
      ],
      "text/plain": [
       "    lv1      lv2  lv3  lv4  lv5 lv0\n",
       "0  충청남도  천안시 동남구  대흥동  NaN  NaN  인천\n",
       "1  충청남도  천안시 동남구  성황동  NaN  NaN  인천\n",
       "2  충청남도  천안시 동남구  문화동  NaN  NaN  인천\n",
       "3  충청남도  천안시 동남구  사직동  NaN  NaN  인천\n",
       "4  충청남도  천안시 동남구  영성동  NaN  NaN  인천"
      ]
     },
     "execution_count": 52,
     "metadata": {},
     "output_type": "execute_result"
    }
   ],
   "source": [
    "df_addr.head()"
   ]
  },
  {
   "cell_type": "markdown",
   "id": "9959b35b-20a7-432a-9a8f-736bd882ee0a",
   "metadata": {},
   "source": [
    "뭐야 왜 '충청남도'를 '인천'으로 값을 매겼지?"
   ]
  },
  {
   "cell_type": "code",
   "execution_count": 53,
   "id": "d3e698ac-0b55-407e-b5f8-ce57b8a06bfb",
   "metadata": {
    "execution": {
     "iopub.execute_input": "2024-05-14T03:13:59.595963Z",
     "iopub.status.busy": "2024-05-14T03:13:59.594995Z",
     "iopub.status.idle": "2024-05-14T03:13:59.629089Z",
     "shell.execute_reply": "2024-05-14T03:13:59.628287Z",
     "shell.execute_reply.started": "2024-05-14T03:13:59.595943Z"
    }
   },
   "outputs": [
    {
     "data": {
      "text/html": [
       "<div>\n",
       "<style scoped>\n",
       "    .dataframe tbody tr th:only-of-type {\n",
       "        vertical-align: middle;\n",
       "    }\n",
       "\n",
       "    .dataframe tbody tr th {\n",
       "        vertical-align: top;\n",
       "    }\n",
       "\n",
       "    .dataframe thead th {\n",
       "        text-align: right;\n",
       "    }\n",
       "</style>\n",
       "<table border=\"1\" class=\"dataframe\">\n",
       "  <thead>\n",
       "    <tr style=\"text-align: right;\">\n",
       "      <th></th>\n",
       "      <th>lv1</th>\n",
       "      <th>lv2</th>\n",
       "      <th>lv3</th>\n",
       "      <th>lv4</th>\n",
       "      <th>lv5</th>\n",
       "      <th>lv0</th>\n",
       "    </tr>\n",
       "  </thead>\n",
       "  <tbody>\n",
       "    <tr>\n",
       "      <th>28194</th>\n",
       "      <td>서울특별시</td>\n",
       "      <td>강동구</td>\n",
       "      <td>둔촌동</td>\n",
       "      <td>NaN</td>\n",
       "      <td>NaN</td>\n",
       "      <td>경북</td>\n",
       "    </tr>\n",
       "    <tr>\n",
       "      <th>28195</th>\n",
       "      <td>서울특별시</td>\n",
       "      <td>강동구</td>\n",
       "      <td>암사동</td>\n",
       "      <td>NaN</td>\n",
       "      <td>NaN</td>\n",
       "      <td>경북</td>\n",
       "    </tr>\n",
       "    <tr>\n",
       "      <th>28196</th>\n",
       "      <td>서울특별시</td>\n",
       "      <td>강동구</td>\n",
       "      <td>성내동</td>\n",
       "      <td>NaN</td>\n",
       "      <td>NaN</td>\n",
       "      <td>경북</td>\n",
       "    </tr>\n",
       "    <tr>\n",
       "      <th>28197</th>\n",
       "      <td>서울특별시</td>\n",
       "      <td>강동구</td>\n",
       "      <td>천호동</td>\n",
       "      <td>NaN</td>\n",
       "      <td>NaN</td>\n",
       "      <td>경북</td>\n",
       "    </tr>\n",
       "    <tr>\n",
       "      <th>28198</th>\n",
       "      <td>서울특별시</td>\n",
       "      <td>강동구</td>\n",
       "      <td>강일동</td>\n",
       "      <td>NaN</td>\n",
       "      <td>NaN</td>\n",
       "      <td>경북</td>\n",
       "    </tr>\n",
       "  </tbody>\n",
       "</table>\n",
       "</div>"
      ],
      "text/plain": [
       "         lv1  lv2  lv3  lv4  lv5 lv0\n",
       "28194  서울특별시  강동구  둔촌동  NaN  NaN  경북\n",
       "28195  서울특별시  강동구  암사동  NaN  NaN  경북\n",
       "28196  서울특별시  강동구  성내동  NaN  NaN  경북\n",
       "28197  서울특별시  강동구  천호동  NaN  NaN  경북\n",
       "28198  서울특별시  강동구  강일동  NaN  NaN  경북"
      ]
     },
     "execution_count": 53,
     "metadata": {},
     "output_type": "execute_result"
    }
   ],
   "source": [
    "df_addr.tail()"
   ]
  },
  {
   "cell_type": "code",
   "execution_count": 54,
   "id": "824bbe41-b1cd-4d03-9233-6bcf1f69d426",
   "metadata": {
    "execution": {
     "iopub.execute_input": "2024-05-14T03:15:22.884312Z",
     "iopub.status.busy": "2024-05-14T03:15:22.883349Z",
     "iopub.status.idle": "2024-05-14T03:15:23.007463Z",
     "shell.execute_reply": "2024-05-14T03:15:23.007202Z",
     "shell.execute_reply.started": "2024-05-14T03:15:22.884289Z"
    }
   },
   "outputs": [
    {
     "name": "stderr",
     "output_type": "stream",
     "text": [
      "ic| item: ('제주특별자치도', '강원')\n",
      "ic| item: ('전라남도', '경기')\n",
      "ic| item: ('광주광역시', '경남')\n",
      "ic| item: ('서울특별시', '경북')\n",
      "ic| item: ('대구광역시', '광주')\n",
      "ic| item: ('강원특별자치도', '대구')\n",
      "ic| item: ('울산광역시', '대전')\n",
      "ic| item: ('경기도', '부산')\n",
      "ic| item: ('경상남도', '서울')\n",
      "ic| item: ('충청북도', '울산')\n",
      "ic| item: ('충청남도', '인천')\n",
      "ic| item: ('부산광역시', '전남')\n",
      "ic| item: ('대전광역시', '전북')\n",
      "ic| item: ('전북특별자치도', '제주')\n",
      "ic| item: ('경상북도', '충남')\n",
      "ic| item: ('인천광역시', '충북')\n"
     ]
    }
   ],
   "source": [
    "for item in zip(lv1_set, lv0_set):\n",
    "    ic(item)"
   ]
  },
  {
   "cell_type": "code",
   "execution_count": 55,
   "id": "5b277a2b-12b3-4f7a-8d53-e308cd98bf7a",
   "metadata": {
    "execution": {
     "iopub.execute_input": "2024-05-14T03:16:45.881347Z",
     "iopub.status.busy": "2024-05-14T03:16:45.879811Z",
     "iopub.status.idle": "2024-05-14T03:16:45.889877Z",
     "shell.execute_reply": "2024-05-14T03:16:45.889318Z",
     "shell.execute_reply.started": "2024-05-14T03:16:45.881308Z"
    }
   },
   "outputs": [
    {
     "data": {
      "text/plain": [
       "['강원특별자치도',\n",
       " '경기도',\n",
       " '경상남도',\n",
       " '경상북도',\n",
       " '광주광역시',\n",
       " '대구광역시',\n",
       " '대전광역시',\n",
       " '부산광역시',\n",
       " '서울특별시',\n",
       " '울산광역시',\n",
       " '인천광역시',\n",
       " '전라남도',\n",
       " '전북특별자치도',\n",
       " '제주특별자치도',\n",
       " '충청남도',\n",
       " '충청북도']"
      ]
     },
     "execution_count": 55,
     "metadata": {},
     "output_type": "execute_result"
    }
   ],
   "source": [
    "sorted(lv1_set)"
   ]
  },
  {
   "cell_type": "code",
   "execution_count": 56,
   "id": "c4e3a80f-388d-4c5a-a5a2-3cff09309822",
   "metadata": {
    "execution": {
     "iopub.execute_input": "2024-05-14T03:17:12.007660Z",
     "iopub.status.busy": "2024-05-14T03:17:12.006690Z",
     "iopub.status.idle": "2024-05-14T03:17:12.033300Z",
     "shell.execute_reply": "2024-05-14T03:17:12.032895Z",
     "shell.execute_reply.started": "2024-05-14T03:17:12.007638Z"
    }
   },
   "outputs": [],
   "source": [
    "conditions = [df_addr['lv1'].isin([item]) for item in sorted(lv1_set)]"
   ]
  },
  {
   "cell_type": "code",
   "execution_count": 57,
   "id": "a9449645-e37f-4237-8466-e87944d701ca",
   "metadata": {
    "execution": {
     "iopub.execute_input": "2024-05-14T03:17:24.629870Z",
     "iopub.status.busy": "2024-05-14T03:17:24.628511Z",
     "iopub.status.idle": "2024-05-14T03:17:24.646026Z",
     "shell.execute_reply": "2024-05-14T03:17:24.645637Z",
     "shell.execute_reply.started": "2024-05-14T03:17:24.629819Z"
    }
   },
   "outputs": [],
   "source": [
    "df_addr['lv0'] = np.select(conditions, lv0_set, default='')"
   ]
  },
  {
   "cell_type": "code",
   "execution_count": 58,
   "id": "c924b2ec-c2fd-457e-87d0-e97611e7a588",
   "metadata": {
    "execution": {
     "iopub.execute_input": "2024-05-14T03:17:33.177571Z",
     "iopub.status.busy": "2024-05-14T03:17:33.175603Z",
     "iopub.status.idle": "2024-05-14T03:17:33.231808Z",
     "shell.execute_reply": "2024-05-14T03:17:33.231516Z",
     "shell.execute_reply.started": "2024-05-14T03:17:33.177523Z"
    }
   },
   "outputs": [
    {
     "data": {
      "text/html": [
       "<div>\n",
       "<style scoped>\n",
       "    .dataframe tbody tr th:only-of-type {\n",
       "        vertical-align: middle;\n",
       "    }\n",
       "\n",
       "    .dataframe tbody tr th {\n",
       "        vertical-align: top;\n",
       "    }\n",
       "\n",
       "    .dataframe thead th {\n",
       "        text-align: right;\n",
       "    }\n",
       "</style>\n",
       "<table border=\"1\" class=\"dataframe\">\n",
       "  <thead>\n",
       "    <tr style=\"text-align: right;\">\n",
       "      <th></th>\n",
       "      <th>lv1</th>\n",
       "      <th>lv2</th>\n",
       "      <th>lv3</th>\n",
       "      <th>lv4</th>\n",
       "      <th>lv5</th>\n",
       "      <th>lv0</th>\n",
       "    </tr>\n",
       "  </thead>\n",
       "  <tbody>\n",
       "    <tr>\n",
       "      <th>0</th>\n",
       "      <td>충청남도</td>\n",
       "      <td>천안시 동남구</td>\n",
       "      <td>대흥동</td>\n",
       "      <td>NaN</td>\n",
       "      <td>NaN</td>\n",
       "      <td>충남</td>\n",
       "    </tr>\n",
       "    <tr>\n",
       "      <th>1</th>\n",
       "      <td>충청남도</td>\n",
       "      <td>천안시 동남구</td>\n",
       "      <td>성황동</td>\n",
       "      <td>NaN</td>\n",
       "      <td>NaN</td>\n",
       "      <td>충남</td>\n",
       "    </tr>\n",
       "    <tr>\n",
       "      <th>2</th>\n",
       "      <td>충청남도</td>\n",
       "      <td>천안시 동남구</td>\n",
       "      <td>문화동</td>\n",
       "      <td>NaN</td>\n",
       "      <td>NaN</td>\n",
       "      <td>충남</td>\n",
       "    </tr>\n",
       "    <tr>\n",
       "      <th>3</th>\n",
       "      <td>충청남도</td>\n",
       "      <td>천안시 동남구</td>\n",
       "      <td>사직동</td>\n",
       "      <td>NaN</td>\n",
       "      <td>NaN</td>\n",
       "      <td>충남</td>\n",
       "    </tr>\n",
       "    <tr>\n",
       "      <th>4</th>\n",
       "      <td>충청남도</td>\n",
       "      <td>천안시 동남구</td>\n",
       "      <td>영성동</td>\n",
       "      <td>NaN</td>\n",
       "      <td>NaN</td>\n",
       "      <td>충남</td>\n",
       "    </tr>\n",
       "  </tbody>\n",
       "</table>\n",
       "</div>"
      ],
      "text/plain": [
       "    lv1      lv2  lv3  lv4  lv5 lv0\n",
       "0  충청남도  천안시 동남구  대흥동  NaN  NaN  충남\n",
       "1  충청남도  천안시 동남구  성황동  NaN  NaN  충남\n",
       "2  충청남도  천안시 동남구  문화동  NaN  NaN  충남\n",
       "3  충청남도  천안시 동남구  사직동  NaN  NaN  충남\n",
       "4  충청남도  천안시 동남구  영성동  NaN  NaN  충남"
      ]
     },
     "execution_count": 58,
     "metadata": {},
     "output_type": "execute_result"
    }
   ],
   "source": [
    "df_addr.head()"
   ]
  },
  {
   "cell_type": "code",
   "execution_count": 59,
   "id": "64ee7536-487b-49e8-b345-f4e5df57886d",
   "metadata": {
    "execution": {
     "iopub.execute_input": "2024-05-14T03:17:40.714415Z",
     "iopub.status.busy": "2024-05-14T03:17:40.713003Z",
     "iopub.status.idle": "2024-05-14T03:17:40.747407Z",
     "shell.execute_reply": "2024-05-14T03:17:40.747014Z",
     "shell.execute_reply.started": "2024-05-14T03:17:40.714365Z"
    }
   },
   "outputs": [
    {
     "data": {
      "text/html": [
       "<div>\n",
       "<style scoped>\n",
       "    .dataframe tbody tr th:only-of-type {\n",
       "        vertical-align: middle;\n",
       "    }\n",
       "\n",
       "    .dataframe tbody tr th {\n",
       "        vertical-align: top;\n",
       "    }\n",
       "\n",
       "    .dataframe thead th {\n",
       "        text-align: right;\n",
       "    }\n",
       "</style>\n",
       "<table border=\"1\" class=\"dataframe\">\n",
       "  <thead>\n",
       "    <tr style=\"text-align: right;\">\n",
       "      <th></th>\n",
       "      <th>lv1</th>\n",
       "      <th>lv2</th>\n",
       "      <th>lv3</th>\n",
       "      <th>lv4</th>\n",
       "      <th>lv5</th>\n",
       "      <th>lv0</th>\n",
       "    </tr>\n",
       "  </thead>\n",
       "  <tbody>\n",
       "    <tr>\n",
       "      <th>28194</th>\n",
       "      <td>서울특별시</td>\n",
       "      <td>강동구</td>\n",
       "      <td>둔촌동</td>\n",
       "      <td>NaN</td>\n",
       "      <td>NaN</td>\n",
       "      <td>서울</td>\n",
       "    </tr>\n",
       "    <tr>\n",
       "      <th>28195</th>\n",
       "      <td>서울특별시</td>\n",
       "      <td>강동구</td>\n",
       "      <td>암사동</td>\n",
       "      <td>NaN</td>\n",
       "      <td>NaN</td>\n",
       "      <td>서울</td>\n",
       "    </tr>\n",
       "    <tr>\n",
       "      <th>28196</th>\n",
       "      <td>서울특별시</td>\n",
       "      <td>강동구</td>\n",
       "      <td>성내동</td>\n",
       "      <td>NaN</td>\n",
       "      <td>NaN</td>\n",
       "      <td>서울</td>\n",
       "    </tr>\n",
       "    <tr>\n",
       "      <th>28197</th>\n",
       "      <td>서울특별시</td>\n",
       "      <td>강동구</td>\n",
       "      <td>천호동</td>\n",
       "      <td>NaN</td>\n",
       "      <td>NaN</td>\n",
       "      <td>서울</td>\n",
       "    </tr>\n",
       "    <tr>\n",
       "      <th>28198</th>\n",
       "      <td>서울특별시</td>\n",
       "      <td>강동구</td>\n",
       "      <td>강일동</td>\n",
       "      <td>NaN</td>\n",
       "      <td>NaN</td>\n",
       "      <td>서울</td>\n",
       "    </tr>\n",
       "  </tbody>\n",
       "</table>\n",
       "</div>"
      ],
      "text/plain": [
       "         lv1  lv2  lv3  lv4  lv5 lv0\n",
       "28194  서울특별시  강동구  둔촌동  NaN  NaN  서울\n",
       "28195  서울특별시  강동구  암사동  NaN  NaN  서울\n",
       "28196  서울특별시  강동구  성내동  NaN  NaN  서울\n",
       "28197  서울특별시  강동구  천호동  NaN  NaN  서울\n",
       "28198  서울특별시  강동구  강일동  NaN  NaN  서울"
      ]
     },
     "execution_count": 59,
     "metadata": {},
     "output_type": "execute_result"
    }
   ],
   "source": [
    "df_addr.tail()"
   ]
  },
  {
   "cell_type": "code",
   "execution_count": 60,
   "id": "c83bde70-04ed-46f6-ac83-f2d31f865036",
   "metadata": {
    "execution": {
     "iopub.execute_input": "2024-05-14T03:19:09.736544Z",
     "iopub.status.busy": "2024-05-14T03:19:09.735045Z",
     "iopub.status.idle": "2024-05-14T03:19:09.781680Z",
     "shell.execute_reply": "2024-05-14T03:19:09.781367Z",
     "shell.execute_reply.started": "2024-05-14T03:19:09.736512Z"
    }
   },
   "outputs": [
    {
     "data": {
      "text/html": [
       "<div>\n",
       "<style scoped>\n",
       "    .dataframe tbody tr th:only-of-type {\n",
       "        vertical-align: middle;\n",
       "    }\n",
       "\n",
       "    .dataframe tbody tr th {\n",
       "        vertical-align: top;\n",
       "    }\n",
       "\n",
       "    .dataframe thead th {\n",
       "        text-align: right;\n",
       "    }\n",
       "</style>\n",
       "<table border=\"1\" class=\"dataframe\">\n",
       "  <thead>\n",
       "    <tr style=\"text-align: right;\">\n",
       "      <th></th>\n",
       "      <th>lv0</th>\n",
       "      <th>lv1</th>\n",
       "      <th>lv2</th>\n",
       "      <th>lv3</th>\n",
       "      <th>lv4</th>\n",
       "      <th>lv5</th>\n",
       "    </tr>\n",
       "  </thead>\n",
       "  <tbody>\n",
       "    <tr>\n",
       "      <th>0</th>\n",
       "      <td>충남</td>\n",
       "      <td>충청남도</td>\n",
       "      <td>천안시 동남구</td>\n",
       "      <td>대흥동</td>\n",
       "      <td>NaN</td>\n",
       "      <td>NaN</td>\n",
       "    </tr>\n",
       "    <tr>\n",
       "      <th>1</th>\n",
       "      <td>충남</td>\n",
       "      <td>충청남도</td>\n",
       "      <td>천안시 동남구</td>\n",
       "      <td>성황동</td>\n",
       "      <td>NaN</td>\n",
       "      <td>NaN</td>\n",
       "    </tr>\n",
       "    <tr>\n",
       "      <th>2</th>\n",
       "      <td>충남</td>\n",
       "      <td>충청남도</td>\n",
       "      <td>천안시 동남구</td>\n",
       "      <td>문화동</td>\n",
       "      <td>NaN</td>\n",
       "      <td>NaN</td>\n",
       "    </tr>\n",
       "    <tr>\n",
       "      <th>3</th>\n",
       "      <td>충남</td>\n",
       "      <td>충청남도</td>\n",
       "      <td>천안시 동남구</td>\n",
       "      <td>사직동</td>\n",
       "      <td>NaN</td>\n",
       "      <td>NaN</td>\n",
       "    </tr>\n",
       "    <tr>\n",
       "      <th>4</th>\n",
       "      <td>충남</td>\n",
       "      <td>충청남도</td>\n",
       "      <td>천안시 동남구</td>\n",
       "      <td>영성동</td>\n",
       "      <td>NaN</td>\n",
       "      <td>NaN</td>\n",
       "    </tr>\n",
       "  </tbody>\n",
       "</table>\n",
       "</div>"
      ],
      "text/plain": [
       "  lv0   lv1      lv2  lv3  lv4  lv5\n",
       "0  충남  충청남도  천안시 동남구  대흥동  NaN  NaN\n",
       "1  충남  충청남도  천안시 동남구  성황동  NaN  NaN\n",
       "2  충남  충청남도  천안시 동남구  문화동  NaN  NaN\n",
       "3  충남  충청남도  천안시 동남구  사직동  NaN  NaN\n",
       "4  충남  충청남도  천안시 동남구  영성동  NaN  NaN"
      ]
     },
     "execution_count": 60,
     "metadata": {},
     "output_type": "execute_result"
    }
   ],
   "source": [
    "# Extract the last column\n",
    "last_column = df_addr.pop('lv0')\n",
    "\n",
    "# Insert the last column at the beginning\n",
    "df_addr.insert(0, 'lv0', last_column)\n",
    "\n",
    "df_addr.head()"
   ]
  },
  {
   "cell_type": "markdown",
   "id": "1a040ff8-53ff-4c28-ac4e-cbf9d81508cd",
   "metadata": {},
   "source": [
    "#### save to parquet"
   ]
  },
  {
   "cell_type": "code",
   "execution_count": 61,
   "id": "63613e6b-610a-4991-b15f-d41cdc750e1b",
   "metadata": {
    "execution": {
     "iopub.execute_input": "2024-05-14T03:20:50.570440Z",
     "iopub.status.busy": "2024-05-14T03:20:50.568685Z",
     "iopub.status.idle": "2024-05-14T03:20:50.885452Z",
     "shell.execute_reply": "2024-05-14T03:20:50.885091Z",
     "shell.execute_reply.started": "2024-05-14T03:20:50.570381Z"
    }
   },
   "outputs": [],
   "source": [
    "df_addr.to_parquet('./address/df_addr.parquet.gzip', compression='gzip')"
   ]
  },
  {
   "cell_type": "code",
   "execution_count": 62,
   "id": "5ec8b7d0-6d59-4796-8daa-468deab56b63",
   "metadata": {
    "execution": {
     "iopub.execute_input": "2024-05-14T03:21:43.376817Z",
     "iopub.status.busy": "2024-05-14T03:21:43.369217Z",
     "iopub.status.idle": "2024-05-14T03:21:43.937677Z",
     "shell.execute_reply": "2024-05-14T03:21:43.937292Z",
     "shell.execute_reply.started": "2024-05-14T03:21:43.376768Z"
    }
   },
   "outputs": [],
   "source": [
    "df_addr_parquet = pd.read_parquet('./address/df_addr.parquet.gzip')"
   ]
  },
  {
   "cell_type": "code",
   "execution_count": 63,
   "id": "11091797-7cab-4006-b02b-13856af70eed",
   "metadata": {
    "execution": {
     "iopub.execute_input": "2024-05-14T03:21:51.315434Z",
     "iopub.status.busy": "2024-05-14T03:21:51.314737Z",
     "iopub.status.idle": "2024-05-14T03:21:51.328156Z",
     "shell.execute_reply": "2024-05-14T03:21:51.327818Z",
     "shell.execute_reply.started": "2024-05-14T03:21:51.315409Z"
    }
   },
   "outputs": [
    {
     "data": {
      "text/html": [
       "<div>\n",
       "<style scoped>\n",
       "    .dataframe tbody tr th:only-of-type {\n",
       "        vertical-align: middle;\n",
       "    }\n",
       "\n",
       "    .dataframe tbody tr th {\n",
       "        vertical-align: top;\n",
       "    }\n",
       "\n",
       "    .dataframe thead th {\n",
       "        text-align: right;\n",
       "    }\n",
       "</style>\n",
       "<table border=\"1\" class=\"dataframe\">\n",
       "  <thead>\n",
       "    <tr style=\"text-align: right;\">\n",
       "      <th></th>\n",
       "      <th>lv0</th>\n",
       "      <th>lv1</th>\n",
       "      <th>lv2</th>\n",
       "      <th>lv3</th>\n",
       "      <th>lv4</th>\n",
       "      <th>lv5</th>\n",
       "    </tr>\n",
       "  </thead>\n",
       "  <tbody>\n",
       "    <tr>\n",
       "      <th>0</th>\n",
       "      <td>충남</td>\n",
       "      <td>충청남도</td>\n",
       "      <td>천안시 동남구</td>\n",
       "      <td>대흥동</td>\n",
       "      <td>None</td>\n",
       "      <td>NaN</td>\n",
       "    </tr>\n",
       "    <tr>\n",
       "      <th>1</th>\n",
       "      <td>충남</td>\n",
       "      <td>충청남도</td>\n",
       "      <td>천안시 동남구</td>\n",
       "      <td>성황동</td>\n",
       "      <td>None</td>\n",
       "      <td>NaN</td>\n",
       "    </tr>\n",
       "    <tr>\n",
       "      <th>2</th>\n",
       "      <td>충남</td>\n",
       "      <td>충청남도</td>\n",
       "      <td>천안시 동남구</td>\n",
       "      <td>문화동</td>\n",
       "      <td>None</td>\n",
       "      <td>NaN</td>\n",
       "    </tr>\n",
       "    <tr>\n",
       "      <th>3</th>\n",
       "      <td>충남</td>\n",
       "      <td>충청남도</td>\n",
       "      <td>천안시 동남구</td>\n",
       "      <td>사직동</td>\n",
       "      <td>None</td>\n",
       "      <td>NaN</td>\n",
       "    </tr>\n",
       "    <tr>\n",
       "      <th>4</th>\n",
       "      <td>충남</td>\n",
       "      <td>충청남도</td>\n",
       "      <td>천안시 동남구</td>\n",
       "      <td>영성동</td>\n",
       "      <td>None</td>\n",
       "      <td>NaN</td>\n",
       "    </tr>\n",
       "  </tbody>\n",
       "</table>\n",
       "</div>"
      ],
      "text/plain": [
       "  lv0   lv1      lv2  lv3   lv4  lv5\n",
       "0  충남  충청남도  천안시 동남구  대흥동  None  NaN\n",
       "1  충남  충청남도  천안시 동남구  성황동  None  NaN\n",
       "2  충남  충청남도  천안시 동남구  문화동  None  NaN\n",
       "3  충남  충청남도  천안시 동남구  사직동  None  NaN\n",
       "4  충남  충청남도  천안시 동남구  영성동  None  NaN"
      ]
     },
     "execution_count": 63,
     "metadata": {},
     "output_type": "execute_result"
    }
   ],
   "source": [
    "df_addr_parquet.head()"
   ]
  },
  {
   "cell_type": "markdown",
   "id": "a23173ea-8cac-46f9-bbe2-e961c3244cd6",
   "metadata": {},
   "source": [
    "#### continue: check RA"
   ]
  },
  {
   "cell_type": "code",
   "execution_count": 64,
   "id": "c594f9ee-4942-42cc-b935-d4377e7364f0",
   "metadata": {
    "execution": {
     "iopub.execute_input": "2024-05-14T03:23:50.974313Z",
     "iopub.status.busy": "2024-05-14T03:23:50.972748Z",
     "iopub.status.idle": "2024-05-14T03:23:52.842232Z",
     "shell.execute_reply": "2024-05-14T03:23:52.841495Z",
     "shell.execute_reply.started": "2024-05-14T03:23:50.974281Z"
    }
   },
   "outputs": [],
   "source": [
    "mask = df_addr.map(\n",
    "    lambda x: bool(\n",
    "        re.search(\n",
    "            r'\\b{}'.format(str(x)),\n",
    "            texts[2],\n",
    "            re.IGNORECASE)))\n",
    "df_filtered = df_addr[mask.any(axis=1)]\n",
    "df_level = df_addr[mask[f'lv3']]"
   ]
  },
  {
   "cell_type": "code",
   "execution_count": 67,
   "id": "f6455a9a-d507-4255-8129-a0b2affa5b35",
   "metadata": {
    "execution": {
     "iopub.execute_input": "2024-05-14T03:25:35.429093Z",
     "iopub.status.busy": "2024-05-14T03:25:35.427832Z",
     "iopub.status.idle": "2024-05-14T03:25:35.464337Z",
     "shell.execute_reply": "2024-05-14T03:25:35.463467Z",
     "shell.execute_reply.started": "2024-05-14T03:25:35.429042Z"
    }
   },
   "outputs": [],
   "source": [
    "addr_name_set = set([])\n",
    "\n",
    "for index, row in df_filtered.iterrows():\n",
    "    for value in row.values:\n",
    "        if isinstance(value, str):\n",
    "            if value not in addr_name_set:\n",
    "                addr_name_set.add(value)"
   ]
  },
  {
   "cell_type": "code",
   "execution_count": null,
   "id": "2adfbf41-f5b5-429c-ba6c-f801a9bea4b8",
   "metadata": {
    "execution": {
     "iopub.execute_input": "2024-05-14T03:25:38.122484Z",
     "iopub.status.busy": "2024-05-14T03:25:38.120015Z",
     "iopub.status.idle": "2024-05-14T03:25:38.166221Z",
     "shell.execute_reply": "2024-05-14T03:25:38.164854Z",
     "shell.execute_reply.started": "2024-05-14T03:25:38.122395Z"
    },
    "scrolled": true
   },
   "outputs": [],
   "source": [
    "keyword_counts = {keyword: 0 for keyword in addr_name_set}\n",
    "\n",
    "for keyword in addr_name_set:\n",
    "    pattern = r'\\b{}'.format(re.escape(keyword))\n",
    "    count = len(re.findall(pattern, texts[2], re.IGNORECASE))\n",
    "    keyword_counts[keyword] += count"
   ]
  },
  {
   "cell_type": "code",
   "execution_count": 69,
   "id": "45be3c55-babf-4712-a024-8cde9fd90a7b",
   "metadata": {
    "execution": {
     "iopub.execute_input": "2024-05-14T03:37:12.774919Z",
     "iopub.status.busy": "2024-05-14T03:37:12.769549Z",
     "iopub.status.idle": "2024-05-14T03:37:12.798742Z",
     "shell.execute_reply": "2024-05-14T03:37:12.789929Z",
     "shell.execute_reply.started": "2024-05-14T03:37:12.774873Z"
    },
    "scrolled": true
   },
   "outputs": [
    {
     "name": "stdout",
     "output_type": "stream",
     "text": [
      "{'아현동': 0, '죽림동': 0, '남영동': 0, '망원동': 0, '침산동': 0, '남산동3가': 0, '보수동1가': 0, '길동': 0, '남포동5가': 0, '방학동': 0, '의주로2가': 0, '상덕동': 0, '청진동': 0, '봉래동2가': 0, '이촌동': 0, '동광동1가': 0, '청담동': 0, '부사동': 0, '삼선동2가': 0, '마포동': 0, '인사동': 0, '운북동': 0, '공평동': 0, '남산동': 0, '금천구': 0, '광복동2가': 0, '태평로3가': 0, '목달동': 0, '고척동': 0, '성북구': 0, '중학동': 0, '산림동': 0, '동인동4가': 0, '향촌동': 0, '용강동': 0, '용답동': 0, '보광동': 0, '덕교동': 0, '동숭동': 0, '동소문동1가': 0, '신대방동': 0, '반포동': 0, '보문동7가': 0, '하월곡동': 0, '용문동': 0, '항동': 0, '종로3가': 0, '주교동': 0, '양평동': 0, '고덕동': 0, '성수동1가': 0, '용동': 0, '성남동': 0, '안암동3가': 0, '본동': 0, '홍익동': 0, '초동': 0, '무학동': 0, '금호동1가': 0, '남포동6가': 0, '가양동': 0, '학성동': 0, '염리동': 0, '관철동': 0, '안암동5가': 0, '당산동4가': 0, '당산동5가': 0, '남창동': 0, '이태원동': 0, '식만동': 0, '신영동': 0, '계동': 0, '대안동': 0, '독산동': 0, '신흥동2가': 0, '양평동2가': 0, '사정동': 0, '학산동': 0, '양재동': 0, '문배동': 0, '보문동1가': 0, '봉림동': 0, '토정동': 0, '풍납동': 0, '광장동': 0, '연남동': 0, '장관동': 0, '저동2가': 0, '묵정동': 0, '합정동': 0, '장교동': 0, '을지로6가': 0, '양평동4가': 0, '남북동': 0, '사간동': 0, '화전동': 0, '부평동3가': 0, '신정동': 0, '오류동': 0, '송월동2가': 0, '삼선동1가': 0, '화동': 0, '중랑구': 0, '을왕동': 0, '을지로7가': 0, '행당동': 0, '우이동': 0, '신문로2가': 0, '동소문동3가': 0, '서초구': 0, '문창동': 0, '교남동': 0, '송월동': 0, '신포동': 0, '송파동': 0, '달성동': 0, '방이동': 0, '성북동': 0, '대치동': 0, '중산동': 0, '수색동': 0, '사동': 0, '안암동4가': 0, '동광동2가': 0, '구랑동': 0, '만리동1가': 0, '강서구': 0, '연건동': 0, '석촌동': 0, '삼덕동2가': 0, '노원구': 0, '노량진동': 0, '대청동1가': 0, '항동5가': 0, '당주동': 0, '남대문로5가': 0, '한강로1가': 0, '묘동': 0, '답동': 0, '송학동1가': 0, '신촌동': 0, '화곡동': 0, '동작구': 0, '혜화동': 0, '관동3가': 0, '동문동': 0, '가리봉동': 0, '원지동': 0, '천호동': 0, '효제동': 0, '내자동': 0, '갈현동': 0, '산성동': 0, '가회동': 0, '신흥동3가': 0, '남대문로2가': 0, '운서동': 0, '동소문동7가': 0, '예관동': 0, '홍제동': 0, '쌍림동': 0, '남포동2가': 0, '홍은동': 0, '필동3가': 0, '북성동3가': 0, '마천동': 0, '남대문로1가': 0, '보문동3가': 0, '후암동': 0, '관악구': 1, '금호동3가': 0, '거여동': 0, '재동': 0, '가산동': 0, '서울특별시': 0, '도원동': 0, '남외동': 0, '용산동2가': 0, '현석동': 0, '시흥동': 0, '연지동': 0, '회현동2가': 0, '장현동': 0, '안국동': 0, '항동3가': 0, '신창동2가': 0, '신천동': 0, '을지로4가': 0, '무교동': 0, '해안동2가': 0, '양천구': 0, '청파동1가': 0, '문래동5가': 0, '양평동5가': 0, '도봉동': 0, '남산동1가': 0, '창동': 0, '창신동': 0, '수서동': 0, '율현동': 0, '서동': 0, '석교동': 0, '휘경동': 0, '창성동': 0, '시장북로': 0, '체부동': 0, '상월곡동': 0, '일원동': 0, '용산동3가': 0, '관동2가': 0, '한강로3가': 0, '미근동': 0, '영등포동8가': 0, '양화동': 0, '구의동': 0, '낙원동': 0, '봉익동': 0, '방산동': 0, '포정동': 0, '회기동': 0, '동일동': 0, '충무로5가': 0, '서성로1가': 0, '해안동4가': 0, '우면동': 0, '강북구': 0, '중림동': 0, '냉천동': 0, '호동': 0, '충정로2가': 0, '신수동': 0, '개화동': 0, '전남': 0, '동자동': 0, '장위동': 0, '북성동2가': 0, '녹산동': 0, '인현동2가': 0, '보문동2가': 0, '신사동': 0, '성산동': 0, '원서동': 0, '의주로1가': 0, '북성로1가': 0, '반구동': 0, '염창동': 0, '중앙동1가': 0, '동선동2가': 0, '동작동': 0, '무의동': 0, '논현동': 0, '성안동': 0, '동광동5가': 0, '평창동': 0, '신문로1가': 0, '묵동': 0, '영등포동5가': 0, '태평로1가': 0, '부평동2가': 0, '중앙동5가': 0, '장충동1가': 0, '안영동': 0, '옥수동': 0, '사일동': 0, '문정동': 0, '명동1가': 0, '공릉동': 0, '신생동': 0, '상암동': 0, '동인동2가': 0, '오쇠동': 0, '남포동4가': 0, '예장동': 0, '갈월동': 0, '서내동': 0, '필동2가': 0, '강동구': 0, '선화동': 0, '동교동': 0, '신월동': 0, '삼성동': 0, '서빙고동': 0, '대림동': 0, '봉래동1가': 0, '부암동': 0, '교북동': 0, '대창동1가': 0, '항동7가': 0, '을지로1가': 0, '노고산동': 0, '동소문동6가': 0, '도선동': 0, '유동': 0, '어남동': 0, '을지로2가': 0, '마곡동': 0, '문래동2가': 0, '서울': 4, '동선동3가': 0, '신계동': 0, '마포구': 0, '동선동': 0, '미음동': 0, '우정동': 0, '양평동1가': 0, '용산동4가': 0, '당산동3가': 0, '해안동1가': 0, '무수동': 0, '통인동': 0, '유곡동': 0, '잠원동': 0, '화양동': 0, '면목동': 0, '도렴동': 0, '충무로3가': 0, '광복동3가': 0, '동동': 0, '송현동': 0, '장충동2가': 0, '광진구': 0, '안암동2가': 0, '영등포구': 0, '양평동6가': 0, '남대문로4가': 0, '신창동4가': 0, '신창동1가': 0, '중곡동': 0, '보문동4가': 0, '하계동': 0, '상서동': 0, '삼선동4가': 0, '오장동': 0, '삼선동3가': 0, '영등포동2가': 0, '정릉동': 0, '종로2가': 0, '궁정동': 0, '자양동': 0, '용산동1가': 0, '영등포동': 0, '잠실동': 0, '동인동3가': 0, '종로6가': 0, '옥인동': 0, '석관동': 0, '완전동': 0, '삼청동': 0, '무악동': 0, '산천동': 0, '양평동3가': 0, '당산동': 0, '서문로2가': 0, '항동4가': 0, '충정로3가': 0, '도곡동': 0, '보수동3가': 0, '원효로3가': 0, '남학동': 0, '천연동': 0, '강남구': 0, '동선동1가': 0, '송학동2가': 0, '이문동': 0, '중앙동4가': 0, '남포동3가': 0, '항동2가': 0, '서계동': 0, '동선동4가': 0, '미아동': 0, '신도림동': 0, '신림동': 0, '상계동': 0, '월계동': 0, '동인동1가': 0, '창선동1가': 0, '복산동': 0, '구기동': 0, '영등포동1가': 0, '충무로4가': 0, '하중동': 0, '동성로1가': 0, '중앙동7가': 0, '용산동6가': 0, '을지로5가': 0, '해안동3가': 0, '중앙동6가': 0, '상도동': 0, '옥교동': 0, '삼덕동1가': 0, '동소문동4가': 0, '하서동': 0, '신창동3가': 0, '대신동': 0, '영등포동4가': 0, '당산동1가': 0, '주성동': 0, '옥천동': 0, '길음동': 0, '돈암동': 0, '진관동': 0, '죽동동': 0, '용산동5가': 0, '명일동': 0, '보문동5가': 0, '대청동3가': 0, '구로동': 0, '상수동': 0, '당인동': 0, '와룡동': 0, '눌차동': 0, '하왕십리동': 0, '동소문동2가': 0, '당산동6가': 0, '대청동2가': 0, '운남동': 0, '응암동': 0, '도봉구': 0, '평동': 0, '저동1가': 0, '구로구': 0, '궁동': 0, '신길동': 0, '천성동': 0, '통의동': 0, '인현동': 0, '원효로1가': 0, '소격동': 0, '북창동': 0, '북가좌동': 0, '장지동': 0, '종암동': 0, '소공동': 0, '사당동': 0, '송월동3가': 0, '수동': 0, '옥계동': 0, '북내동': 0, '동대문구': 0, '오곡동': 0, '광희동2가': 0, '관수동': 0, '청량리동': 0, '제기동': 0, '경동': 0, '문래동3가': 0, '외발산동': 0, '흥인동': 0, '내동': 0, '목동': 0, '명동2가': 0, '홍지동': 0, '원효로2가': 0, '대흥동': 0, '다운동': 0, '효창동': 0, '염곡동': 0, '인의동': 0, '봉천동': 0, '봉원동': 0, '불광동': 0, '관훈동': 0, '대사동': 0, '개포동': 0, '수하동': 0, '대저2동': 0, '성수동2가': 0, '방화동': 0, '한남동': 0, '구완동': 0, '북아현동': 0, '서교동': 0, '대조동': 0, '강일동': 0, '대창동2가': 0, '중앙동2가': 0, '생곡동': 0, '명륜1가': 0, '서초동': 0, '문화동': 0, '송월동1가': 0, '중촌동': 0, '동빙고동': 0, '순천시': 0, '암사동': 0, '남가좌동': 0, '장사동': 0, '삼덕동3가': 0, '만리동2가': 0, '신교동': 0, '신원동': 0, '문래동6가': 0, '군자동': 0, '동소문동5가': 0, '보수동2가': 0, '남현동': 0, '영천동': 0, '홍파동': 0, '신공덕동': 0, '서소문동': 0, '주자동': 0, '등촌동': 0, '대현동': 0, '방배동': 0, '종로5가': 0, '장안동': 0, '부평동1가': 0, '필동1가': 0, '용덕동': 0, '태평로2가': 0, '문래동1가': 0, '원남동': 0, '번동': 0, '녹번동': 0, '봉산동': 0, '대저1동': 0, '망우동': 0, '송파구': 0, '서야동': 0, '입정동': 0, '영등포동7가': 0, '서성로2가': 0, '이화동': 0, '대방동': 0, '명륜4가': 0, '신내동': 0, '서린동': 0, '전라남도': 0, '인현동1가': 0, '신호동': 0, '역촌동': 0, '연희동': 0, '권농동': 0, '명륜2가': 0, '내발산동': 0, '부평동4가': 0, '수표동': 0, '행촌동': 0, '충무로2가': 0, '청파동3가': 0, '태화동': 0, '회현동3가': 0, '남성로': 0, '답십리동': 0, '금호동4가': 0, '숭인동': 0, '중계동': 0, '세곡동': 0, '계산동1가': 0, '충정로1가': 0, '신당동': 0, '인교동': 0, '선린동': 0, '문래동4가': 0, '내곡동': 0, '중동': 0, '다동': 0, '송정동': 0, '개봉동': 0, '쌍문동': 0, '내수동': 0, '여의도동': 0, '삼선동5가': 0, '명지동': 0, '누상동': 0, '대청동4가': 0, '은평구': 0, '남대문로3가': 0, '능동': 0, '원효로4가': 0, '범방동': 0, '온수동': 0, '수송동': 0, '약사동': 0, '금호동2가': 0, '당산동2가': 0, '마장동': 0, '누하동': 0, '항동6가': 0, '수유동': 0, '필운동': 0, '신창동': 0, '남일동': 0, '현저동': 0, '상왕십리동': 0, '북정동': 0, '사직동': 0, '정동': 0, '천왕동': 0, '창천동': 0, '대항동': 0, '압구정동': 0, '남포동1가': 0, '종로4가': 0, '광복동1가': 0, '동성로3가': 0, '성내동': 0, '창전동': 0, '중앙동3가': 0, '정생동': 0, '유천동': 0, '예지동': 0, '신흥동1가': 0, '역삼동': 0, '율목동': 0, '증산동': 0, '익선동': 0, '삼전동': 0, '가락동': 0, '수창동': 0, '둔촌동': 0, '오금동': 0, '공항동': 0, '종로구': 0, '상일동': 0, '전농동': 0, '용산구': 0, '영등포동3가': 0, '동광동3가': 0, '행동': 1, '적선동': 0, '세종로': 0, '을지로3가': 0, '청파동2가': 0, '동산동': 0, '교동': 0, '남산동2가': 0, '신설동': 0, '과해동': 0, '흑석동': 0, '동선동5가': 0, '영주동': 0, '팔판동': 0, '공덕동': 0, '응봉동': 0, '보문동6가': 0, '서문로1가': 0, '북성로2가': 0, '자곡동': 0, '회현동1가': 0, '대봉동': 0, '견지동': 0, '강동동': 0, '동광동4가': 0, '계산동2가': 0, '중구': 0, '도림동': 0, '충신동': 0, '동성로2가': 0, '성북동1가': 0, '순화동': 0, '구산동': 0, '항동1가': 0, '금동': 0, '구수동': 0, '관동1가': 0, '성동구': 0, '덕산동': 0, '종로1가': 0, '전동': 0, '태평동': 0, '명륜3가': 0, '사근동': 0, '광희동1가': 0, '황학동': 0, '용두동': 0, '송학동3가': 0, '돈의동': 0, '상봉동': 0, '은행동': 0, '중화동': 0, '청암동': 0, '합동': 0, '영등포동6가': 0, '경운동': 0, '창선동2가': 0, '북성동1가': 0, '도화동': 0, '상도1동': 0, '한강로2가': 0, '지사동': 0, '훈정동': 0, '안암동1가': 0, '충무로1가': 0, '효자동': 0, '운니동': 0, '서대문구': 0, '삼각동': 0, '청운동': 0}\n"
     ]
    }
   ],
   "source": [
    "print(keyword_counts)"
   ]
  },
  {
   "cell_type": "code",
   "execution_count": 66,
   "id": "1bab4923-df23-46b6-bb88-98c785c81927",
   "metadata": {
    "execution": {
     "iopub.execute_input": "2024-05-14T03:24:56.741489Z",
     "iopub.status.busy": "2024-05-14T03:24:56.740318Z",
     "iopub.status.idle": "2024-05-14T03:24:56.777760Z",
     "shell.execute_reply": "2024-05-14T03:24:56.777479Z",
     "shell.execute_reply.started": "2024-05-14T03:24:56.741463Z"
    },
    "scrolled": true
   },
   "outputs": [
    {
     "data": {
      "text/html": [
       "<div>\n",
       "<style scoped>\n",
       "    .dataframe tbody tr th:only-of-type {\n",
       "        vertical-align: middle;\n",
       "    }\n",
       "\n",
       "    .dataframe tbody tr th {\n",
       "        vertical-align: top;\n",
       "    }\n",
       "\n",
       "    .dataframe thead th {\n",
       "        text-align: right;\n",
       "    }\n",
       "</style>\n",
       "<table border=\"1\" class=\"dataframe\">\n",
       "  <thead>\n",
       "    <tr style=\"text-align: right;\">\n",
       "      <th></th>\n",
       "      <th>lv0</th>\n",
       "      <th>lv1</th>\n",
       "      <th>lv2</th>\n",
       "      <th>lv3</th>\n",
       "      <th>lv4</th>\n",
       "      <th>lv5</th>\n",
       "    </tr>\n",
       "  </thead>\n",
       "  <tbody>\n",
       "    <tr>\n",
       "      <th>11913</th>\n",
       "      <td>전남</td>\n",
       "      <td>전라남도</td>\n",
       "      <td>순천시</td>\n",
       "      <td>행동</td>\n",
       "      <td>NaN</td>\n",
       "      <td>NaN</td>\n",
       "    </tr>\n",
       "    <tr>\n",
       "      <th>27516</th>\n",
       "      <td>서울</td>\n",
       "      <td>서울특별시</td>\n",
       "      <td>종로구</td>\n",
       "      <td>청운동</td>\n",
       "      <td>NaN</td>\n",
       "      <td>NaN</td>\n",
       "    </tr>\n",
       "    <tr>\n",
       "      <th>27517</th>\n",
       "      <td>서울</td>\n",
       "      <td>서울특별시</td>\n",
       "      <td>종로구</td>\n",
       "      <td>신교동</td>\n",
       "      <td>NaN</td>\n",
       "      <td>NaN</td>\n",
       "    </tr>\n",
       "    <tr>\n",
       "      <th>27518</th>\n",
       "      <td>서울</td>\n",
       "      <td>서울특별시</td>\n",
       "      <td>종로구</td>\n",
       "      <td>궁정동</td>\n",
       "      <td>NaN</td>\n",
       "      <td>NaN</td>\n",
       "    </tr>\n",
       "    <tr>\n",
       "      <th>27519</th>\n",
       "      <td>서울</td>\n",
       "      <td>서울특별시</td>\n",
       "      <td>종로구</td>\n",
       "      <td>효자동</td>\n",
       "      <td>NaN</td>\n",
       "      <td>NaN</td>\n",
       "    </tr>\n",
       "    <tr>\n",
       "      <th>...</th>\n",
       "      <td>...</td>\n",
       "      <td>...</td>\n",
       "      <td>...</td>\n",
       "      <td>...</td>\n",
       "      <td>...</td>\n",
       "      <td>...</td>\n",
       "    </tr>\n",
       "    <tr>\n",
       "      <th>28194</th>\n",
       "      <td>서울</td>\n",
       "      <td>서울특별시</td>\n",
       "      <td>강동구</td>\n",
       "      <td>둔촌동</td>\n",
       "      <td>NaN</td>\n",
       "      <td>NaN</td>\n",
       "    </tr>\n",
       "    <tr>\n",
       "      <th>28195</th>\n",
       "      <td>서울</td>\n",
       "      <td>서울특별시</td>\n",
       "      <td>강동구</td>\n",
       "      <td>암사동</td>\n",
       "      <td>NaN</td>\n",
       "      <td>NaN</td>\n",
       "    </tr>\n",
       "    <tr>\n",
       "      <th>28196</th>\n",
       "      <td>서울</td>\n",
       "      <td>서울특별시</td>\n",
       "      <td>강동구</td>\n",
       "      <td>성내동</td>\n",
       "      <td>NaN</td>\n",
       "      <td>NaN</td>\n",
       "    </tr>\n",
       "    <tr>\n",
       "      <th>28197</th>\n",
       "      <td>서울</td>\n",
       "      <td>서울특별시</td>\n",
       "      <td>강동구</td>\n",
       "      <td>천호동</td>\n",
       "      <td>NaN</td>\n",
       "      <td>NaN</td>\n",
       "    </tr>\n",
       "    <tr>\n",
       "      <th>28198</th>\n",
       "      <td>서울</td>\n",
       "      <td>서울특별시</td>\n",
       "      <td>강동구</td>\n",
       "      <td>강일동</td>\n",
       "      <td>NaN</td>\n",
       "      <td>NaN</td>\n",
       "    </tr>\n",
       "  </tbody>\n",
       "</table>\n",
       "<p>684 rows × 6 columns</p>\n",
       "</div>"
      ],
      "text/plain": [
       "      lv0    lv1  lv2  lv3  lv4  lv5\n",
       "11913  전남   전라남도  순천시   행동  NaN  NaN\n",
       "27516  서울  서울특별시  종로구  청운동  NaN  NaN\n",
       "27517  서울  서울특별시  종로구  신교동  NaN  NaN\n",
       "27518  서울  서울특별시  종로구  궁정동  NaN  NaN\n",
       "27519  서울  서울특별시  종로구  효자동  NaN  NaN\n",
       "...    ..    ...  ...  ...  ...  ...\n",
       "28194  서울  서울특별시  강동구  둔촌동  NaN  NaN\n",
       "28195  서울  서울특별시  강동구  암사동  NaN  NaN\n",
       "28196  서울  서울특별시  강동구  성내동  NaN  NaN\n",
       "28197  서울  서울특별시  강동구  천호동  NaN  NaN\n",
       "28198  서울  서울특별시  강동구  강일동  NaN  NaN\n",
       "\n",
       "[684 rows x 6 columns]"
      ]
     },
     "execution_count": 66,
     "metadata": {},
     "output_type": "execute_result"
    }
   ],
   "source": [
    "df_filtered"
   ]
  },
  {
   "cell_type": "code",
   "execution_count": 71,
   "id": "84586681-09e6-4b94-a3dc-7dd6eee8940e",
   "metadata": {
    "execution": {
     "iopub.execute_input": "2024-05-14T03:39:06.634592Z",
     "iopub.status.busy": "2024-05-14T03:39:06.633287Z",
     "iopub.status.idle": "2024-05-14T03:39:06.651890Z",
     "shell.execute_reply": "2024-05-14T03:39:06.651382Z",
     "shell.execute_reply.started": "2024-05-14T03:39:06.634538Z"
    }
   },
   "outputs": [],
   "source": [
    "df_keyword_counts = pd.DataFrame.from_dict(keyword_counts, orient='index', columns=['count'])"
   ]
  },
  {
   "cell_type": "code",
   "execution_count": 72,
   "id": "396ce9d1-e50f-463b-b767-c1f49a56acd7",
   "metadata": {
    "execution": {
     "iopub.execute_input": "2024-05-14T03:39:25.053586Z",
     "iopub.status.busy": "2024-05-14T03:39:25.051980Z",
     "iopub.status.idle": "2024-05-14T03:39:25.072759Z",
     "shell.execute_reply": "2024-05-14T03:39:25.072386Z",
     "shell.execute_reply.started": "2024-05-14T03:39:25.053522Z"
    }
   },
   "outputs": [
    {
     "data": {
      "text/html": [
       "<div>\n",
       "<style scoped>\n",
       "    .dataframe tbody tr th:only-of-type {\n",
       "        vertical-align: middle;\n",
       "    }\n",
       "\n",
       "    .dataframe tbody tr th {\n",
       "        vertical-align: top;\n",
       "    }\n",
       "\n",
       "    .dataframe thead th {\n",
       "        text-align: right;\n",
       "    }\n",
       "</style>\n",
       "<table border=\"1\" class=\"dataframe\">\n",
       "  <thead>\n",
       "    <tr style=\"text-align: right;\">\n",
       "      <th></th>\n",
       "      <th>count</th>\n",
       "    </tr>\n",
       "  </thead>\n",
       "  <tbody>\n",
       "    <tr>\n",
       "      <th>관악구</th>\n",
       "      <td>1</td>\n",
       "    </tr>\n",
       "    <tr>\n",
       "      <th>서울</th>\n",
       "      <td>4</td>\n",
       "    </tr>\n",
       "    <tr>\n",
       "      <th>행동</th>\n",
       "      <td>1</td>\n",
       "    </tr>\n",
       "  </tbody>\n",
       "</table>\n",
       "</div>"
      ],
      "text/plain": [
       "     count\n",
       "관악구      1\n",
       "서울       4\n",
       "행동       1"
      ]
     },
     "execution_count": 72,
     "metadata": {},
     "output_type": "execute_result"
    }
   ],
   "source": [
    "df_keyword_counts[df_keyword_counts['count'] > 0]"
   ]
  }
 ],
 "metadata": {
  "kernelspec": {
   "display_name": "Python 3 (ipykernel)",
   "language": "python",
   "name": "python3"
  },
  "language_info": {
   "codemirror_mode": {
    "name": "ipython",
    "version": 3
   },
   "file_extension": ".py",
   "mimetype": "text/x-python",
   "name": "python",
   "nbconvert_exporter": "python",
   "pygments_lexer": "ipython3",
   "version": "3.11.0"
  }
 },
 "nbformat": 4,
 "nbformat_minor": 5
}
