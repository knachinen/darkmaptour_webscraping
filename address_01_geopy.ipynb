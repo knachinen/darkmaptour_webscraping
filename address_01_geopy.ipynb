{
 "cells": [
  {
   "cell_type": "code",
   "execution_count": null,
   "id": "644db99b-8173-43e6-8ed6-999d0ef56e90",
   "metadata": {},
   "outputs": [],
   "source": []
  },
  {
   "cell_type": "markdown",
   "id": "7167e2ab-1ead-413d-b70e-263ce5f29247",
   "metadata": {},
   "source": [
    "## geopy - getting coordination"
   ]
  },
  {
   "cell_type": "code",
   "execution_count": 1,
   "id": "2df70e84-fdd6-4451-8f6f-2d3c5a335f30",
   "metadata": {
    "collapsed": true,
    "jupyter": {
     "outputs_hidden": true
    },
    "scrolled": true
   },
   "outputs": [
    {
     "name": "stdout",
     "output_type": "stream",
     "text": [
      "Collecting geopy\n",
      "  Downloading geopy-2.4.1-py3-none-any.whl.metadata (6.8 kB)\n",
      "Collecting geographiclib<3,>=1.52 (from geopy)\n",
      "  Downloading geographiclib-2.0-py3-none-any.whl.metadata (1.4 kB)\n",
      "Downloading geopy-2.4.1-py3-none-any.whl (125 kB)\n",
      "\u001b[2K   \u001b[90m━━━━━━━━━━━━━━━━━━━━━━━━━━━━━━━━━━━━━━━━\u001b[0m \u001b[32m125.4/125.4 kB\u001b[0m \u001b[31m1.8 MB/s\u001b[0m eta \u001b[36m0:00:00\u001b[0m \u001b[36m0:00:01\u001b[0m\n",
      "\u001b[?25hDownloading geographiclib-2.0-py3-none-any.whl (40 kB)\n",
      "\u001b[2K   \u001b[90m━━━━━━━━━━━━━━━━━━━━━━━━━━━━━━━━━━━━━━━━\u001b[0m \u001b[32m40.3/40.3 kB\u001b[0m \u001b[31m6.8 MB/s\u001b[0m eta \u001b[36m0:00:00\u001b[0m\n",
      "\u001b[?25hInstalling collected packages: geographiclib, geopy\n",
      "Successfully installed geographiclib-2.0 geopy-2.4.1\n",
      "Note: you may need to restart the kernel to use updated packages.\n"
     ]
    }
   ],
   "source": [
    "%pip install geopy\n"
   ]
  },
  {
   "cell_type": "markdown",
   "id": "f30773b3-bded-471e-8c26-e0fa5a2f8c4b",
   "metadata": {},
   "source": [
    "### get_lat_long()"
   ]
  },
  {
   "cell_type": "code",
   "execution_count": 4,
   "id": "f33cb1e9-d6c2-4028-b255-9436e8589137",
   "metadata": {
    "execution": {
     "iopub.execute_input": "2024-05-17T07:12:24.615496Z",
     "iopub.status.busy": "2024-05-17T07:12:24.614409Z",
     "iopub.status.idle": "2024-05-17T07:12:24.624055Z",
     "shell.execute_reply": "2024-05-17T07:12:24.623411Z",
     "shell.execute_reply.started": "2024-05-17T07:12:24.615466Z"
    }
   },
   "outputs": [],
   "source": [
    "from geopy.geocoders import Nominatim\n",
    "\n",
    "def get_lat_long(location_name):\n",
    "    geolocator = Nominatim(user_agent=\"my_geocoder\")\n",
    "    location = geolocator.geocode(location_name)\n",
    "\n",
    "    if location:\n",
    "        return (location.latitude, location.longitude)\n",
    "    else:\n",
    "        print(f\"Location '{location_name}' not found.\")\n",
    "        return (None, None)\n",
    "\n"
   ]
  },
  {
   "cell_type": "code",
   "execution_count": 3,
   "id": "f95ea14f-7c85-4580-a49e-32a09afa4dda",
   "metadata": {},
   "outputs": [
    {
     "name": "stdout",
     "output_type": "stream",
     "text": [
      "Latitude: 37.5633684, Longitude: 126.90789360374097\n"
     ]
    }
   ],
   "source": [
    "# Example usage\n",
    "location_name = \"성산1동 주민센터\"\n",
    "latitude, longitude = get_lat_long(location_name)\n",
    "\n",
    "if latitude is not None and longitude is not None:\n",
    "    print(f\"Latitude: {latitude}, Longitude: {longitude}\")\n"
   ]
  },
  {
   "cell_type": "code",
   "execution_count": 9,
   "id": "5328cc57-1068-47a0-9601-459499b40bf8",
   "metadata": {
    "execution": {
     "iopub.execute_input": "2024-05-17T07:13:46.592321Z",
     "iopub.status.busy": "2024-05-17T07:13:46.579429Z",
     "iopub.status.idle": "2024-05-17T07:13:46.617077Z",
     "shell.execute_reply": "2024-05-17T07:13:46.613484Z",
     "shell.execute_reply.started": "2024-05-17T07:13:46.592239Z"
    }
   },
   "outputs": [],
   "source": [
    "def print_coordinates(location_name, verbose=False):\n",
    "    latitude, longitude = get_lat_long(location_name)\n",
    "    \n",
    "    if latitude is not None and longitude is not None:\n",
    "        if verbose:\n",
    "            print(f\"Latitude: {latitude}, Longitude: {longitude}\")\n",
    "        else:\n",
    "            print(f\"{latitude}, {longitude}\")\n"
   ]
  },
  {
   "cell_type": "code",
   "execution_count": 11,
   "id": "f3905ede-7200-4208-b9ec-b9b0c0290b08",
   "metadata": {
    "execution": {
     "iopub.execute_input": "2024-05-17T07:38:14.377628Z",
     "iopub.status.busy": "2024-05-17T07:38:14.374816Z",
     "iopub.status.idle": "2024-05-17T07:38:15.580707Z",
     "shell.execute_reply": "2024-05-17T07:38:15.579690Z",
     "shell.execute_reply.started": "2024-05-17T07:38:14.377360Z"
    }
   },
   "outputs": [
    {
     "name": "stdout",
     "output_type": "stream",
     "text": [
      "34.9556233, 127.4826989\n"
     ]
    }
   ],
   "source": [
    "print_coordinates('행동')"
   ]
  },
  {
   "cell_type": "code",
   "execution_count": null,
   "id": "20838086-b604-47b2-a596-e0aabd645017",
   "metadata": {},
   "outputs": [],
   "source": []
  }
 ],
 "metadata": {
  "kernelspec": {
   "display_name": "Python 3 (ipykernel)",
   "language": "python",
   "name": "python3"
  },
  "language_info": {
   "codemirror_mode": {
    "name": "ipython",
    "version": 3
   },
   "file_extension": ".py",
   "mimetype": "text/x-python",
   "name": "python",
   "nbconvert_exporter": "python",
   "pygments_lexer": "ipython3",
   "version": "3.11.0"
  }
 },
 "nbformat": 4,
 "nbformat_minor": 5
}
