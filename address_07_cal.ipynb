{
 "cells": [
  {
   "cell_type": "markdown",
   "id": "85cd5b03-8b48-4e83-a7ef-0e7ec80346b0",
   "metadata": {},
   "source": [
    "### import"
   ]
  },
  {
   "cell_type": "code",
   "execution_count": 1,
   "id": "ef5af4cb-37ca-4180-a91a-57b80ecfb1cc",
   "metadata": {
    "execution": {
     "iopub.execute_input": "2024-05-23T11:41:00.853611Z",
     "iopub.status.busy": "2024-05-23T11:41:00.853544Z",
     "iopub.status.idle": "2024-05-23T11:41:00.872114Z",
     "shell.execute_reply": "2024-05-23T11:41:00.871869Z",
     "shell.execute_reply.started": "2024-05-23T11:41:00.853603Z"
    }
   },
   "outputs": [],
   "source": [
    "%load_ext autoreload"
   ]
  },
  {
   "cell_type": "code",
   "execution_count": 2,
   "id": "a8e058dd-87a9-40ee-8e29-f69d2f1d1188",
   "metadata": {
    "execution": {
     "iopub.execute_input": "2024-05-23T11:41:00.875075Z",
     "iopub.status.busy": "2024-05-23T11:41:00.874120Z",
     "iopub.status.idle": "2024-05-23T11:41:01.635118Z",
     "shell.execute_reply": "2024-05-23T11:41:01.634800Z",
     "shell.execute_reply.started": "2024-05-23T11:41:00.875055Z"
    },
    "scrolled": true
   },
   "outputs": [],
   "source": [
    "%aimport utils.search_address"
   ]
  },
  {
   "cell_type": "code",
   "execution_count": 3,
   "id": "867ec585-47d4-4451-8aef-d2869e13ada8",
   "metadata": {
    "execution": {
     "iopub.execute_input": "2024-05-23T11:41:01.635838Z",
     "iopub.status.busy": "2024-05-23T11:41:01.635584Z",
     "iopub.status.idle": "2024-05-23T11:41:01.938196Z",
     "shell.execute_reply": "2024-05-23T11:41:01.937873Z",
     "shell.execute_reply.started": "2024-05-23T11:41:01.635830Z"
    }
   },
   "outputs": [],
   "source": [
    "import pandas as pd \n",
    "import numpy as np\n",
    "import math\n",
    "import re\n",
    "\n",
    "from icecream import ic\n",
    "from tqdm.notebook import tqdm \n",
    "\n",
    "from utils.custom_utils import load_var, save_var\n",
    "from utils.webscraping import ArticleScraper\n",
    "from utils.search_address import CheckAddressLevels\n",
    "import utils.search_address as sa\n",
    "\n",
    "from importlib import reload\n",
    "\n",
    "df_addr = pd.read_parquet('./address/df_addr.parquet.gzip')\n",
    "df_text = pd.read_parquet('./dataframe/flasher_hk_20130101_20220307.gzip')\n"
   ]
  },
  {
   "cell_type": "code",
   "execution_count": 4,
   "id": "55afadb1-6330-4a64-a9b8-924c77223fc7",
   "metadata": {
    "execution": {
     "iopub.execute_input": "2024-05-23T11:41:01.938934Z",
     "iopub.status.busy": "2024-05-23T11:41:01.938689Z",
     "iopub.status.idle": "2024-05-23T11:41:01.941299Z",
     "shell.execute_reply": "2024-05-23T11:41:01.941051Z",
     "shell.execute_reply.started": "2024-05-23T11:41:01.938925Z"
    }
   },
   "outputs": [],
   "source": [
    "%autoreload 2"
   ]
  },
  {
   "cell_type": "markdown",
   "id": "979f16c1-6cf0-45d4-98f1-0b298bd797a9",
   "metadata": {
    "jp-MarkdownHeadingCollapsed": true
   },
   "source": [
    "### todo: inspection"
   ]
  },
  {
   "cell_type": "code",
   "execution_count": 5,
   "id": "975a3e59-0410-4cc7-a6aa-88df1c45edc2",
   "metadata": {
    "execution": {
     "iopub.execute_input": "2024-05-23T06:08:57.272197Z",
     "iopub.status.busy": "2024-05-23T06:08:57.271000Z",
     "iopub.status.idle": "2024-05-23T06:08:57.329830Z",
     "shell.execute_reply": "2024-05-23T06:08:57.329489Z",
     "shell.execute_reply.started": "2024-05-23T06:08:57.272142Z"
    }
   },
   "outputs": [],
   "source": [
    "text = df_text.iloc[16]['content']\n",
    "text = sa.clean_text(text)"
   ]
  },
  {
   "cell_type": "code",
   "execution_count": 5,
   "id": "d77797f9-bc21-44cd-9529-9dafe9a4f30d",
   "metadata": {
    "execution": {
     "iopub.execute_input": "2024-05-23T07:17:16.006680Z",
     "iopub.status.busy": "2024-05-23T07:17:16.004941Z",
     "iopub.status.idle": "2024-05-23T07:17:16.093818Z",
     "shell.execute_reply": "2024-05-23T07:17:16.093316Z",
     "shell.execute_reply.started": "2024-05-23T07:17:16.006581Z"
    }
   },
   "outputs": [],
   "source": [
    "index = 20\n",
    "text_iter = iter(zip(df_text.index[index:], df_text.loc[index:, 'content']))"
   ]
  },
  {
   "cell_type": "code",
   "execution_count": 31,
   "id": "94b25cbf-19df-408d-a578-ce2ceef9a1b4",
   "metadata": {
    "collapsed": true,
    "execution": {
     "iopub.execute_input": "2024-05-23T07:47:52.296075Z",
     "iopub.status.busy": "2024-05-23T07:47:52.295105Z",
     "iopub.status.idle": "2024-05-23T07:47:55.747681Z",
     "shell.execute_reply": "2024-05-23T07:47:55.747168Z",
     "shell.execute_reply.started": "2024-05-23T07:47:52.296026Z"
    },
    "jupyter": {
     "outputs_hidden": true
    },
    "scrolled": true
   },
   "outputs": [
    {
     "name": "stdout",
     "output_type": "stream",
     "text": [
      "  original_name found_name level count            upper\n",
      "0            내리         내리     4     1  충청남도,규암면,충남,부여군\n",
      "\n",
      "index: 41\n",
      "\n",
      "‘오케이 광자매’ 홍은희-전혜빈-고원희가 의혹과 의심을 증폭시킨 아버지의 트렁크 앞에 선, ‘폭풍전야’ 대치 쓰리샷이 공개됐다. KBS 2TV 주말드라마 ‘오케이 광자매’는 부모의 이혼 소송 중 벌어진 엄마의 피살 사건, 가족 모두가 살인 용의자로 지목되며 시작하는 ‘미스터리 스릴러 멜로 코믹 홈드라마’다. 엄마 오맹자 살인사건의 범인을 추리해나가는 미스터리 스릴러부터 이광남(홍은희)-이광식(전혜빈)-이광태(고원희) 등 ‘광자매’의 멜로, 웃음과 해학, 풍자가 가득한 코믹에 이르기까지 다양한 내용들이 어우러지며 시청자들을 사로잡고 있다.지난 10회에서는 ‘광자매’ 이모 오봉자(이보희)가 오맹자 살인사건 범인으로 체포되는, ‘대반전 엔딩’이 담겨 안방극장에 충격을 안겼다. CCTV 속 우비 입은 의문의 인물이 여자라고 했던 여고생 목격자가 오봉자를 지목했던 것. “난 아니야. 정말 아니야”라며 억울함을 토로하는 오봉자와 복잡다단한 심정 속에 오봉자를 바라보는 이철수(윤주상), 이광식, 오탱자(김혜선)의 표정이 각각 그려지면서 오봉자가 진범일지 이목을 집중시켰다.이와 관련 홍은희-전혜빈-고원희가 각종 의구심이 담겨있는 아버지의 트렁크 앞에 서 있는 모습으로 긴장감을 고조시키고 있다. 극중 이광남-이광식-이광태가 아버지 이철수(윤주상)의 트렁크를 앞에 두고 의견을 모으는 장면. 불안한 눈빛을 드리운 이광남, 궁금증을 한껏 나타내는 표정의 이광식, 결심을 굳힌 듯 결연함을 드러낸 이광태 등 ‘광자매’는 각기 다른 반응을 내비치고 있다. 이내 망치를 들고 와 트렁크를 향해 🔺내리🔻꽂는 이광태의 모습이 펼쳐지면서 꼭꼭 닫혀있던 이철수의 트렁크가 과연 열리게 될지, 트렁크 안에 고이 담긴 물건은 무엇일지 귀추가 주목되고 있다. 홍은희와 전혜빈, 고원희의 ‘폭풍전야 트렁크 앞 대치’ 장면은 지난 3월에 촬영됐다. 함께 모여 대본을 읽어내려가던 세 사람은 대사 행간에 담긴 의미까지 세심하게 분석하며 심혈을 기울여 현장의 열기를 끌어올렸던 상태. 세 사람은 트렁크 앞에 앉은 채로 여러 가지 제스처를 취해보면서 더욱 실감나는 장면을 표현하기 위해 머리를 맞댔다. 본격적인 촬영이 시작되자 홍은희와 전혜빈, 고원희는 흔들림 없는 집중력으로 조마조마한 감정을 고스란히 담아내면서 스태프들까지 숨죽인 채 지켜보게 만들었다.제작진은 “홍은희-전혜빈-고원희는 작은 디테일까지 놓치지 않고 ‘대사의 맛’, ‘장면의 결’을 제대로 살리기 위해 최선을 다하고 있다. ‘광자매’ 세 사람의 착착 맞는 연기 호흡으로 인해 몰입도 또한 매우 높다”며 “그동안 많은 의혹과 궁금증을 일으켰던 판도라의 상자, 아버지의 트렁크가 드디어 오픈될지 지켜봐 달라”고 전했다.한편 ‘오케이 광자매’ 11회는 오는 24일(토) 오후 7시 55분에 방송된다.김나경 한경닷컴 연예·이슈팀 기자기사제보 및 보도자료 hub@hankyung.com\n"
     ]
    }
   ],
   "source": [
    "index, text = next(text_iter)\n",
    "text = sa.clean_text(text)\n",
    "\n",
    "self = CheckAddressLevels(df_address=df_addr, text=text)\n",
    "self.process()\n",
    "\n",
    "df_brief = self.df_brief.copy()\n",
    "print(df_brief)\n",
    "\n",
    "text_mark = text\n",
    "for item in df_brief['found_name'].values:\n",
    "    text_mark = sa.re_sub(item, text_mark)\n",
    "\n",
    "print(f\"\\nindex: {index}\\n\")\n",
    "print(text_mark)"
   ]
  },
  {
   "cell_type": "markdown",
   "id": "41d81158-de5f-451a-b0e9-4e4018efb0b1",
   "metadata": {},
   "source": [
    "- 1\n",
    "    - '서울특별'\n",
    "- 3, 6\n",
    "    - 행동\n",
    "- 9\n",
    "    - 심리\n",
    "- 11\n",
    "    - 경북 포항\n",
    "    - 그냥 '포항'이 없다. 포항 '--구'\n",
    "- 20\n",
    "    - error\n",
    "- 26\n",
    "    - 천안\n",
    "    - '천안'이 없구나?\n",
    "- 30\n",
    "    - 서울 2, 인천 1\n",
    "    - 그래서 '서울'로 결과를 냄\n",
    "    - 문맥상 '인천지법'이니, '인천'으로 해야할듯.\n",
    "- 31\n",
    "    - 인천, 연수구, 옥련동 모두 나옴.\n",
    "    - 결과로서 '옥련동' 잘 됨.\n",
    "    - 나중에 '인천 연수구 옥련동'으로 결과가 나오도록 만들어야 함.\n",
    "- 33\n",
    "    - 강동구도 있는데, 관악구로 결과를 낸 이유는?\n",
    "- "
   ]
  },
  {
   "cell_type": "markdown",
   "id": "90313c96-ba87-4d70-9c17-7d3d6c4139e1",
   "metadata": {},
   "source": [
    "일단 여기까지.  \n",
    "\n",
    "이제 상위 범위 주소를 확인하자.  "
   ]
  },
  {
   "cell_type": "markdown",
   "id": "f9644184-c006-41a7-b77e-994bd5b0816b",
   "metadata": {
    "jp-MarkdownHeadingCollapsed": true
   },
   "source": [
    "### todo: check upper level"
   ]
  },
  {
   "cell_type": "code",
   "execution_count": 41,
   "id": "1e742ced-89a9-4a8c-8f13-c45d2bb95254",
   "metadata": {
    "execution": {
     "iopub.execute_input": "2024-05-23T08:03:25.130338Z",
     "iopub.status.busy": "2024-05-23T08:03:25.129588Z",
     "iopub.status.idle": "2024-05-23T08:03:25.468290Z",
     "shell.execute_reply": "2024-05-23T08:03:25.467973Z",
     "shell.execute_reply.started": "2024-05-23T08:03:25.130306Z"
    }
   },
   "outputs": [],
   "source": [
    "self.check_upper_level()"
   ]
  },
  {
   "cell_type": "code",
   "execution_count": 38,
   "id": "5ebbdea5-815c-42ea-8cc5-531b61c469ff",
   "metadata": {
    "execution": {
     "iopub.execute_input": "2024-05-23T07:57:40.474290Z",
     "iopub.status.busy": "2024-05-23T07:57:40.472685Z",
     "iopub.status.idle": "2024-05-23T07:57:40.557457Z",
     "shell.execute_reply": "2024-05-23T07:57:40.557101Z",
     "shell.execute_reply.started": "2024-05-23T07:57:40.474236Z"
    }
   },
   "outputs": [
    {
     "name": "stderr",
     "output_type": "stream",
     "text": [
      "ic| index: 0\n",
      "ic| row['original_name']: '내리'\n",
      "ic| row['upper'].split(','): ['충청남도', '규암면', '충남', '부여군']\n"
     ]
    },
    {
     "name": "stdout",
     "output_type": "stream",
     "text": [
      "\n",
      "\n"
     ]
    }
   ],
   "source": [
    "for index, row in self.df_brief.iterrows():\n",
    "    ic(index)\n",
    "    ic(row['original_name'])\n",
    "    ic(row['upper'].split(','))\n",
    "    print('\\n')"
   ]
  },
  {
   "cell_type": "code",
   "execution_count": 42,
   "id": "9730d231-fb5a-42b8-b5e0-10446ec94ce1",
   "metadata": {
    "execution": {
     "iopub.execute_input": "2024-05-23T08:03:26.537855Z",
     "iopub.status.busy": "2024-05-23T08:03:26.536725Z",
     "iopub.status.idle": "2024-05-23T08:03:26.593368Z",
     "shell.execute_reply": "2024-05-23T08:03:26.593080Z",
     "shell.execute_reply.started": "2024-05-23T08:03:26.537821Z"
    }
   },
   "outputs": [
    {
     "data": {
      "text/html": [
       "<div>\n",
       "<style scoped>\n",
       "    .dataframe tbody tr th:only-of-type {\n",
       "        vertical-align: middle;\n",
       "    }\n",
       "\n",
       "    .dataframe tbody tr th {\n",
       "        vertical-align: top;\n",
       "    }\n",
       "\n",
       "    .dataframe thead th {\n",
       "        text-align: right;\n",
       "    }\n",
       "</style>\n",
       "<table border=\"1\" class=\"dataframe\">\n",
       "  <thead>\n",
       "    <tr style=\"text-align: right;\">\n",
       "      <th></th>\n",
       "      <th>original_name</th>\n",
       "      <th>found_name</th>\n",
       "      <th>level</th>\n",
       "      <th>count</th>\n",
       "      <th>upper</th>\n",
       "    </tr>\n",
       "  </thead>\n",
       "  <tbody>\n",
       "    <tr>\n",
       "      <th>0</th>\n",
       "      <td>내리</td>\n",
       "      <td>내리</td>\n",
       "      <td>4</td>\n",
       "      <td>1</td>\n",
       "      <td></td>\n",
       "    </tr>\n",
       "  </tbody>\n",
       "</table>\n",
       "</div>"
      ],
      "text/plain": [
       "  original_name found_name level count upper\n",
       "0            내리         내리     4     1      "
      ]
     },
     "execution_count": 42,
     "metadata": {},
     "output_type": "execute_result"
    }
   ],
   "source": [
    "self.df_brief"
   ]
  },
  {
   "cell_type": "markdown",
   "id": "71b895bd-ba09-44f1-b387-9219bdf66d14",
   "metadata": {
    "jp-MarkdownHeadingCollapsed": true
   },
   "source": [
    "### todo: inspection"
   ]
  },
  {
   "cell_type": "code",
   "execution_count": 43,
   "id": "d441bc75-33a3-4e07-9e01-bc1b43823194",
   "metadata": {
    "execution": {
     "iopub.execute_input": "2024-05-23T08:04:07.300622Z",
     "iopub.status.busy": "2024-05-23T08:04:07.299642Z",
     "iopub.status.idle": "2024-05-23T08:04:07.336176Z",
     "shell.execute_reply": "2024-05-23T08:04:07.335847Z",
     "shell.execute_reply.started": "2024-05-23T08:04:07.300590Z"
    }
   },
   "outputs": [],
   "source": [
    "text = df_text.iloc[42]['content']\n",
    "text = sa.clean_text(text)"
   ]
  },
  {
   "cell_type": "code",
   "execution_count": 5,
   "id": "41d17f92-4313-470d-b93f-4440f5819c01",
   "metadata": {
    "execution": {
     "iopub.execute_input": "2024-05-23T11:41:08.909182Z",
     "iopub.status.busy": "2024-05-23T11:41:08.908315Z",
     "iopub.status.idle": "2024-05-23T11:41:08.972021Z",
     "shell.execute_reply": "2024-05-23T11:41:08.971605Z",
     "shell.execute_reply.started": "2024-05-23T11:41:08.909138Z"
    }
   },
   "outputs": [],
   "source": [
    "index = 42\n",
    "text_iter = iter(zip(df_text.index[index:], df_text.loc[index:, 'content']))"
   ]
  },
  {
   "cell_type": "code",
   "execution_count": null,
   "id": "483a587d-4cc7-456f-9d22-bb3b5c705519",
   "metadata": {
    "execution": {
     "iopub.execute_input": "2024-05-23T11:52:08.301398Z",
     "iopub.status.busy": "2024-05-23T11:52:08.300036Z",
     "iopub.status.idle": "2024-05-23T11:52:12.412930Z",
     "shell.execute_reply": "2024-05-23T11:52:12.412573Z",
     "shell.execute_reply.started": "2024-05-23T11:52:08.301353Z"
    },
    "scrolled": true
   },
   "outputs": [],
   "source": [
    "index, text = next(text_iter)\n",
    "text = sa.clean_text(text)"
   ]
  },
  {
   "cell_type": "code",
   "execution_count": 28,
   "id": "655f199a-2fa5-4614-b023-bfee6e983dbf",
   "metadata": {
    "execution": {
     "iopub.execute_input": "2024-05-23T13:30:30.332503Z",
     "iopub.status.busy": "2024-05-23T13:30:30.331010Z",
     "iopub.status.idle": "2024-05-23T13:30:34.512924Z",
     "shell.execute_reply": "2024-05-23T13:30:34.512438Z",
     "shell.execute_reply.started": "2024-05-23T13:30:30.332447Z"
    }
   },
   "outputs": [
    {
     "name": "stdout",
     "output_type": "stream",
     "text": [
      "  original_name found_name level count upper\n",
      "0           태안군         태안     2     2      \n",
      "1           태안읍        태안읍     3     2    태안\n",
      "2            경기         경기     0     1      \n",
      "3           화성시         화성     2     6    경기\n"
     ]
    }
   ],
   "source": [
    "self = CheckAddressLevels(df_address=df_addr, text=text)\n",
    "self.process()\n",
    "\n",
    "df_brief = self.df_brief.copy()\n",
    "print(df_brief)"
   ]
  },
  {
   "cell_type": "code",
   "execution_count": 27,
   "id": "0e523feb-eeb3-480e-9c1c-86e674d98ef1",
   "metadata": {
    "execution": {
     "iopub.execute_input": "2024-05-23T13:24:40.254637Z",
     "iopub.status.busy": "2024-05-23T13:24:40.252356Z",
     "iopub.status.idle": "2024-05-23T13:24:40.305200Z",
     "shell.execute_reply": "2024-05-23T13:24:40.304876Z",
     "shell.execute_reply.started": "2024-05-23T13:24:40.254561Z"
    },
    "scrolled": true
   },
   "outputs": [
    {
     "name": "stdout",
     "output_type": "stream",
     "text": [
      "\n",
      "index: 53\n",
      "\n",
      "지난달 이춘재 연쇄살인 8차 사건 재심 재판의 증인으로 채택된 이춘재가 출석한 법정. /사진=연합뉴스\n",
      "이춘재 연쇄살인사건에 대한 재수사가 공소시효 만료에 따른 '공소권 없음'으로 최종 결론 났다. 이로써 14건의 살인사건을 자백한 이춘재와 과거 수사 과정에서 불법을 저지른 혐의를 받는 당시 경찰관과 검사 등 수사관계자 9명은 처벌을 면하게 됐다. 검찰은 지난 7월 경찰로부터 이춘재가 자백한 14건의 살인, 9건의 성범죄·강도 사건 등 23건을 송치받아 수사한 끝에 이같이 결론 내렸다고 28일 밝혔다. 1994년 처제를 성폭행 후 살해한 혐의로 무기징역을 선고받아 복역 중인 이춘재는 지난해 경찰 재수사 과정에서 1986년 9월∼1991년 4월까지 🔺경기🔻 🔺화성🔻에서 발생한 10건의 살인사건과 △1987년 12월 수원 여고생 살인사건 △1989년 7월 🔺화성🔻 초등생 실종사건 △1991년 1월 청주 여고생 살인사건 △1991년 3월 청주 주부 살인사건 등 4건의 살인을 자신이 저질렀다고 자백했다. 또 34건의 성범죄 또는 강도 행각을 벌였다고 털어놨으나, 피해자 진술 등을 확보한 9건을 제외한 다른 사건들은 송치 대상에서 제외됐다. 이번 처분에 대해 검찰은 \"이춘재가 자백한 23건의 사건은 모두 혐의가 인정되나, 공소시효가 지난 것이 명백해 공소권 없음으로 처분했다\"고 설명했다.\n",
      " \n",
      "지난 17일 수원지방법원에서 열린 이춘재 연쇄살인 8차 사건 재심 선고공판에서 재심 청구인 윤성여 씨가 무죄를 선고받고 법정에서 나오고 있다.꽃다발 들고 법원 나서는 윤성여씨. /사진=연합뉴스\n",
      "검찰은 또 이춘재 8차 사건 및 🔺화성🔻 초등생 실종 사건 수사 과정에서 불법을 저지른 혐의를 받는 당시 경찰관과 검사 등 9명에 대해서도 같은 이유로 '공소권 없음' 처분을 내렸다. 이들은 1988년 9월16일 🔺화성🔻 🔺태안🔻읍에서 A양(당시 13)이 성폭행당하고 숨진 채 발견된 이춘재 8차 사건의 범인으로 윤성여씨(53)를 지목하고 윤 씨를 불법으로 체포·감금하고, 구타·가혹행위를 한 혐의를 받았다.특히 이들 중 경찰관 1명은 1989년 7월7일 🔺화성🔻 🔺태안🔻읍에 살던 B양(당시 8세)이 방과 후 실종된 🔺화성🔻 초등생 실종사건 수사 과정에 B양의 유골 일부를 발견하고도 은닉한 혐의도 받았다. 이 사건은 단순 실종사건으로 분류됐다가 이춘재의 자백으로 그가 B양을 살해한 사실이 뒤늦게 밝혀졌다. 한편 수원지법은 이춘재 8차 사건의 범인으로 몰려 20년간 억울한 옥살이를 한 윤씨의 재심 청구에 대해 지난 17일 무죄를 선고했다. 이후 검찰이 항소를 제기하지 않아 윤씨에 대한 무죄 판결은 지난 24일자로 확정됐다.이춘재 사건 당시 살인죄의 공소시효는 15년에 불과해 마지막 사건이 발생한 1991년 4월3일을 기준으로 2006년 4월2일을 기해 공소시효가 지났다. 이후 2007년 법 개정으로 살인죄의 공소시효는 25년으로 늘었다가 2015년 폐지됐다.이보배 한경닷컴 객원기자 newsinfo@hankyung.com\n"
     ]
    }
   ],
   "source": [
    "text_mark = text\n",
    "for item in df_brief['found_name'].values:\n",
    "    text_mark = sa.re_sub(item, text_mark)\n",
    "\n",
    "print(f\"\\nindex: {index}\\n\")\n",
    "print(text_mark)"
   ]
  },
  {
   "cell_type": "markdown",
   "id": "3aaf641f-7b09-4fa8-b16d-afa87cfb5264",
   "metadata": {},
   "source": [
    "- 45\n",
    "    - 서울 노원구 중계동\n",
    "    - 서울 종로구 청사\n",
    "- "
   ]
  },
  {
   "cell_type": "markdown",
   "id": "ebe913a4-187c-44ab-a39f-4b758b4ad772",
   "metadata": {
    "execution": {
     "iopub.execute_input": "2024-05-23T13:15:36.318821Z",
     "iopub.status.busy": "2024-05-23T13:15:36.311308Z",
     "iopub.status.idle": "2024-05-23T13:15:36.695157Z",
     "shell.execute_reply": "2024-05-23T13:15:36.687375Z",
     "shell.execute_reply.started": "2024-05-23T13:15:36.318645Z"
    }
   },
   "source": [
    "이쯤이면 된 것 같다.  \n",
    "다음 프로세스를 하자.  "
   ]
  },
  {
   "cell_type": "markdown",
   "id": "b32fe42c-0645-4511-9bad-782f44870bef",
   "metadata": {},
   "source": []
  },
  {
   "cell_type": "markdown",
   "id": "2a31b433-e139-4f70-8d43-ca4f725b72dc",
   "metadata": {},
   "source": [
    "### todo: sorting"
   ]
  },
  {
   "cell_type": "code",
   "execution_count": 29,
   "id": "8a68b766-c990-4eda-aeb9-cae323dafbfc",
   "metadata": {
    "execution": {
     "iopub.execute_input": "2024-05-23T13:30:40.133274Z",
     "iopub.status.busy": "2024-05-23T13:30:40.131955Z",
     "iopub.status.idle": "2024-05-23T13:30:40.192329Z",
     "shell.execute_reply": "2024-05-23T13:30:40.190988Z",
     "shell.execute_reply.started": "2024-05-23T13:30:40.133215Z"
    }
   },
   "outputs": [
    {
     "data": {
      "text/html": [
       "<div>\n",
       "<style scoped>\n",
       "    .dataframe tbody tr th:only-of-type {\n",
       "        vertical-align: middle;\n",
       "    }\n",
       "\n",
       "    .dataframe tbody tr th {\n",
       "        vertical-align: top;\n",
       "    }\n",
       "\n",
       "    .dataframe thead th {\n",
       "        text-align: right;\n",
       "    }\n",
       "</style>\n",
       "<table border=\"1\" class=\"dataframe\">\n",
       "  <thead>\n",
       "    <tr style=\"text-align: right;\">\n",
       "      <th></th>\n",
       "      <th>original_name</th>\n",
       "      <th>found_name</th>\n",
       "      <th>level</th>\n",
       "      <th>count</th>\n",
       "      <th>upper</th>\n",
       "    </tr>\n",
       "  </thead>\n",
       "  <tbody>\n",
       "    <tr>\n",
       "      <th>1</th>\n",
       "      <td>태안읍</td>\n",
       "      <td>태안읍</td>\n",
       "      <td>3</td>\n",
       "      <td>2</td>\n",
       "      <td>태안</td>\n",
       "    </tr>\n",
       "    <tr>\n",
       "      <th>0</th>\n",
       "      <td>태안군</td>\n",
       "      <td>태안</td>\n",
       "      <td>2</td>\n",
       "      <td>2</td>\n",
       "      <td></td>\n",
       "    </tr>\n",
       "    <tr>\n",
       "      <th>3</th>\n",
       "      <td>화성시</td>\n",
       "      <td>화성</td>\n",
       "      <td>2</td>\n",
       "      <td>6</td>\n",
       "      <td>경기</td>\n",
       "    </tr>\n",
       "    <tr>\n",
       "      <th>2</th>\n",
       "      <td>경기</td>\n",
       "      <td>경기</td>\n",
       "      <td>0</td>\n",
       "      <td>1</td>\n",
       "      <td></td>\n",
       "    </tr>\n",
       "  </tbody>\n",
       "</table>\n",
       "</div>"
      ],
      "text/plain": [
       "  original_name found_name level count upper\n",
       "1           태안읍        태안읍     3     2    태안\n",
       "0           태안군         태안     2     2      \n",
       "3           화성시         화성     2     6    경기\n",
       "2            경기         경기     0     1      "
      ]
     },
     "execution_count": 29,
     "metadata": {},
     "output_type": "execute_result"
    }
   ],
   "source": [
    "df_brief.sort_values(by=['level'], axis=0, ascending=False)"
   ]
  },
  {
   "cell_type": "code",
   "execution_count": null,
   "id": "298f0fb1-7c05-4aea-bd40-cded6d582fa2",
   "metadata": {},
   "outputs": [],
   "source": []
  },
  {
   "cell_type": "markdown",
   "id": "5fa4cd2b-bf89-4a41-bf07-425754764986",
   "metadata": {
    "jp-MarkdownHeadingCollapsed": true
   },
   "source": [
    "### todo: '시', '군', '구' 있을 경우"
   ]
  },
  {
   "cell_type": "code",
   "execution_count": 37,
   "id": "5978494b-7024-4935-bc0a-a6807de4f88e",
   "metadata": {
    "execution": {
     "iopub.execute_input": "2024-05-23T15:37:41.051967Z",
     "iopub.status.busy": "2024-05-23T15:37:41.050918Z",
     "iopub.status.idle": "2024-05-23T15:37:41.105742Z",
     "shell.execute_reply": "2024-05-23T15:37:41.105416Z",
     "shell.execute_reply.started": "2024-05-23T15:37:41.051922Z"
    }
   },
   "outputs": [],
   "source": [
    "def isendswith(text: str, postfix: list) -> str:\n",
    "    for item in postfix:\n",
    "        if text.endswith(item):\n",
    "            return item\n",
    "    return ''\n",
    "\n",
    "\n",
    "def re_findall_endswith(\n",
    "    keyword: str,\n",
    "    text: str,\n",
    "    postfix: list,\n",
    "    min_len=2       # minimum keyword length. default: 2\n",
    ") -> list:\n",
    "    flag_endword = False\n",
    "    if len(keyword) > min_len:\n",
    "        end_word = isendswith(keyword, postfix)\n",
    "        if end_word: flag_endword = True\n",
    "    result = re.findall(sa.re_pattern(keyword), text)\n",
    "    if len(result) == 0:\n",
    "        keyword = keyword[:-len(end_word)]\n",
    "        return re.findall(sa.re_pattern(keyword), text)\n",
    "    else:\n",
    "        return result"
   ]
  },
  {
   "cell_type": "code",
   "execution_count": 38,
   "id": "704a05e9-d237-460f-8ffa-e172d2d8da3f",
   "metadata": {
    "execution": {
     "iopub.execute_input": "2024-05-23T15:37:42.426326Z",
     "iopub.status.busy": "2024-05-23T15:37:42.424776Z",
     "iopub.status.idle": "2024-05-23T15:37:42.510311Z",
     "shell.execute_reply": "2024-05-23T15:37:42.509826Z",
     "shell.execute_reply.started": "2024-05-23T15:37:42.426249Z"
    }
   },
   "outputs": [],
   "source": [
    "text = \"one, two, three. onething, something, nothing, anything.\"\n",
    "keyword = \"onething\"\n",
    "postfix = ['thing']"
   ]
  },
  {
   "cell_type": "code",
   "execution_count": 39,
   "id": "10692817-64eb-4362-bc3e-796c507668d5",
   "metadata": {
    "execution": {
     "iopub.execute_input": "2024-05-23T15:37:43.249766Z",
     "iopub.status.busy": "2024-05-23T15:37:43.247800Z",
     "iopub.status.idle": "2024-05-23T15:37:43.305738Z",
     "shell.execute_reply": "2024-05-23T15:37:43.305147Z",
     "shell.execute_reply.started": "2024-05-23T15:37:43.249710Z"
    }
   },
   "outputs": [
    {
     "data": {
      "text/plain": [
       "['onething']"
      ]
     },
     "execution_count": 39,
     "metadata": {},
     "output_type": "execute_result"
    }
   ],
   "source": [
    "re_findall_endswith(keyword, text, postfix)"
   ]
  },
  {
   "cell_type": "markdown",
   "id": "7cda5a79-53e3-4d9e-94ab-2429271f2df9",
   "metadata": {
    "jp-MarkdownHeadingCollapsed": true
   },
   "source": [
    "#### ask"
   ]
  },
  {
   "cell_type": "code",
   "execution_count": 40,
   "id": "fe24f2c9-c818-47c1-86b2-42d93afee1d8",
   "metadata": {
    "execution": {
     "iopub.execute_input": "2024-05-23T15:39:23.992149Z",
     "iopub.status.busy": "2024-05-23T15:39:23.990717Z",
     "iopub.status.idle": "2024-05-23T15:39:24.079043Z",
     "shell.execute_reply": "2024-05-23T15:39:24.078348Z",
     "shell.execute_reply.started": "2024-05-23T15:39:23.992113Z"
    }
   },
   "outputs": [],
   "source": [
    "import re\n",
    "from typing import List\n",
    "\n",
    "def find_keyword_with_postfix(keyword: str, text: str, postfixes: List[str], min_len: int = 2) -> List[str]:\n",
    "    \"\"\"\n",
    "    Finds all occurrences of the keyword in the text. If the keyword ends with any\n",
    "    postfix in the provided list, the function will first try to match the full keyword.\n",
    "    If no matches are found, it will remove the postfix and try again.\n",
    "\n",
    "    Parameters:\n",
    "    keyword (str): The keyword to search for in the text.\n",
    "    text (str): The text in which to search for the keyword.\n",
    "    postfixes (List[str]): A list of postfixes to check and remove from the keyword if necessary.\n",
    "    min_len (int): The minimum length of the keyword to consider. Default is 2.\n",
    "\n",
    "    Returns:\n",
    "    List[str]: A list of all matches found in the text.\n",
    "    \"\"\"\n",
    "    def is_endswith(text: str, postfixes: List[str]) -> str:\n",
    "        for postfix in postfixes:\n",
    "            if text.endswith(postfix):\n",
    "                return postfix\n",
    "        return ''\n",
    "\n",
    "    # Check if the keyword is long enough and ends with any of the postfixes\n",
    "    if len(keyword) > min_len:\n",
    "        postfix = is_endswith(keyword, postfixes)\n",
    "        if postfix:\n",
    "            # Try to find matches with the full keyword first\n",
    "            pattern = rf'\\b{re.escape(keyword)}\\b'\n",
    "            result = re.findall(pattern, text, flags=re.IGNORECASE)\n",
    "            if result:\n",
    "                return result\n",
    "\n",
    "            # Remove the postfix and try again\n",
    "            keyword = keyword[:-len(postfix)]\n",
    "\n",
    "    # Final attempt to find matches without the postfix\n",
    "    pattern = rf'\\b{re.escape(keyword)}\\b'\n",
    "    return re.findall(pattern, text, flags=re.IGNORECASE)"
   ]
  },
  {
   "cell_type": "code",
   "execution_count": 41,
   "id": "041a7495-15b4-48bf-af1e-d8034d0157ac",
   "metadata": {
    "execution": {
     "iopub.execute_input": "2024-05-23T15:39:24.980474Z",
     "iopub.status.busy": "2024-05-23T15:39:24.979734Z",
     "iopub.status.idle": "2024-05-23T15:39:25.012249Z",
     "shell.execute_reply": "2024-05-23T15:39:25.011649Z",
     "shell.execute_reply.started": "2024-05-23T15:39:24.980442Z"
    }
   },
   "outputs": [
    {
     "name": "stdout",
     "output_type": "stream",
     "text": [
      "['onething']\n"
     ]
    }
   ],
   "source": [
    "# Example usage\n",
    "text = \"I saw onething, twothing, manything, and something at the market. But no nothing or everything.\"\n",
    "keyword = 'onething'\n",
    "postfixes = ['thing', 'other', 'stuff']\n",
    "result = find_keyword_with_postfix(keyword, text, postfixes)\n",
    "print(result)"
   ]
  },
  {
   "cell_type": "markdown",
   "id": "dae2ff78-3edd-40a1-bca7-1b18b8ef4fb9",
   "metadata": {
    "jp-MarkdownHeadingCollapsed": true
   },
   "source": [
    "#### apply"
   ]
  },
  {
   "cell_type": "code",
   "execution_count": 57,
   "id": "70b10875-0cad-40b6-bdca-4b52a2ca57e8",
   "metadata": {
    "execution": {
     "iopub.execute_input": "2024-05-24T02:39:55.731242Z",
     "iopub.status.busy": "2024-05-24T02:39:55.729649Z",
     "iopub.status.idle": "2024-05-24T02:39:55.784699Z",
     "shell.execute_reply": "2024-05-24T02:39:55.784359Z",
     "shell.execute_reply.started": "2024-05-24T02:39:55.731154Z"
    }
   },
   "outputs": [],
   "source": [
    "index = 57\n",
    "text_iter = iter(zip(df_text.index[index:], df_text.loc[index:, 'content']))"
   ]
  },
  {
   "cell_type": "code",
   "execution_count": 141,
   "id": "0dbeca64-6843-4521-b680-43685d47bfba",
   "metadata": {
    "execution": {
     "iopub.execute_input": "2024-05-24T03:11:20.917742Z",
     "iopub.status.busy": "2024-05-24T03:11:20.916018Z",
     "iopub.status.idle": "2024-05-24T03:11:20.974760Z",
     "shell.execute_reply": "2024-05-24T03:11:20.974370Z",
     "shell.execute_reply.started": "2024-05-24T03:11:20.917658Z"
    },
    "scrolled": true
   },
   "outputs": [],
   "source": [
    "index, text = next(text_iter)\n",
    "text = sa.clean_text(text)"
   ]
  },
  {
   "cell_type": "code",
   "execution_count": 142,
   "id": "2f661d4c-1c16-42de-a1be-dcae42adc581",
   "metadata": {
    "execution": {
     "iopub.execute_input": "2024-05-24T03:11:20.977675Z",
     "iopub.status.busy": "2024-05-24T03:11:20.977310Z",
     "iopub.status.idle": "2024-05-24T03:11:27.437699Z",
     "shell.execute_reply": "2024-05-24T03:11:27.437185Z",
     "shell.execute_reply.started": "2024-05-24T03:11:20.977663Z"
    }
   },
   "outputs": [
    {
     "name": "stdout",
     "output_type": "stream",
     "text": [
      "  original_name found_name level count upper\n",
      "0            유리         유리     4     1      \n",
      "1            신동         신동     3     1      \n",
      "2            거리         거리     4     1      \n",
      "3            인천         인천     0     3      \n",
      "4            행동         행동     3     1      \n",
      "5            비리         비리     4     1      \n"
     ]
    }
   ],
   "source": [
    "self = CheckAddressLevels(df_address=df_addr, text=text)\n",
    "self.process()\n",
    "\n",
    "df_brief = self.df_brief.copy()\n",
    "print(df_brief)"
   ]
  },
  {
   "cell_type": "code",
   "execution_count": 143,
   "id": "4a8bfecd-5d8b-4eae-b463-b86513f95564",
   "metadata": {
    "execution": {
     "iopub.execute_input": "2024-05-24T03:11:27.438613Z",
     "iopub.status.busy": "2024-05-24T03:11:27.438498Z",
     "iopub.status.idle": "2024-05-24T03:11:27.515775Z",
     "shell.execute_reply": "2024-05-24T03:11:27.515326Z",
     "shell.execute_reply.started": "2024-05-24T03:11:27.438596Z"
    },
    "scrolled": true
   },
   "outputs": [
    {
     "name": "stderr",
     "output_type": "stream",
     "text": [
      "ic| item: '유리'\n",
      "ic| item: '신동'\n",
      "ic| item: '거리'\n",
      "ic| item: '인천'\n",
      "ic| item: '행동'\n",
      "ic| item: '비리'\n"
     ]
    },
    {
     "name": "stdout",
     "output_type": "stream",
     "text": [
      "\n",
      "index: 80\n",
      "\n",
      "/사진=JTBC 월화드라마 '모범형사' 영상 캡처\n",
      "'모범형사' 손현주, 장승조가 선사한 충격적인 결말에 시청률도 반응했다. 시청률조사회사 닐슨코리아 집계에 따르면 7일 방송된 JTBC 새 월화드라마 '모범형사' 전국 일일 시청률은 3.8%(유료 플랫폼 기준), 광고 판매 기준이 되는 수도권은 4.7%을 기록했다. 여고생 실종 사건은 해결됐지만, 5년 전 여대상 살해 사건의 새로운 실마리가 등장하면서 강도창(손현주)와 오지혁(장승조)이 어떤 활약을 펼칠지 호기심을 자극했다. 이날 방송에서는 '살인범의 딸'로 낙인 찍힌 여고생 이은혜(이하은) 실종 사건이 박건호(이현욱)의 자작극임이 밝혀졌다. 하지만 아버지 이대철(조재윤)이 여대생과 경찰을 살해한 혐의로 사형 판결을 받으면서 '살인자의 딸'로 낙인 찍힌 채 위태롭게 살아가는 모습이 그려지면서 안타까움을 자아냈다. 박건호가 자작극을 펼친 이유는 이대철의 무죄를 언론에 알리기 위해서였다. 여기에 이대철의 무죄를 주장하는 또다른 제보가 강도창에게 전달됐다. 강도창이 전달받은 이메일에는 이대철이 사건 현장에 없었다는 알리바이가 담겨 있어서 충격을 선사했다. 이은혜 실종 사건의 단서는 오지혁이 최초 신고자인 장유나(천인서)를 압박하면서 찾아냈다. 오지혁은 장유나를 통해 가출 청소년들의 우두머리 박홍두(신재휘)를 잡아, 그의 핸드폰에 남아있던 \"나 찾지마. 없어질 거니까\"라는 이은혜의 메시지를 확인했다. 실종될 걸 미리 알고 있었단 의미였다. 머리를 맞대고 박건호와 이은혜의 공모 가설을 세운 강도창과 오지혁은 \"이은혜의 시체가 발견됐다\"는 거짓말로 그를 시험대에 세웠다. 역시나 박건호는 당황했고, \"아는 변호사가 필요하다\"며 핸드폰을 요구했다. 그러나 그가 살아있는 이은혜에게 연락할 것이란 예측은 보기 좋게 빗나갔다. 이에 오지혁은 박건호의 핸드폰에 주목했고, 카드 사용 내역 문자를 통해 이은혜의 생존을 확신했다.카드 사용 장소가 주로 여고생들이 가는 장소였기 때문. 두 형사는 사용 내역이 찍힌 흔적을 좇기 시작했다. 한편, 정한일보 🔺인천🔻 주재 기자 진서경(이엘리야)은 사회부장 유정석(지승현)의 지시로 이대철이 죽인 피해자 유가족들의 인터뷰 기사를 썼다. 그러나 양쪽 입장을 최대한 객관적으로 쓴 기사는 마치 그녀가 사형제도를 옹호한 것처럼 수정돼 있었다. 유정석에게 따져 물었지만, 석연치 않은 답변만 돌아온 그때, 그녀가 터뜨린 🔺비리🔻 기사로 수감중인 전 🔺인천🔻지검장 김기태(손병호)가 면회를 요청해왔다. 그리고 이대철 사건 당시 형사부 부장검사였던 김기태는 \"이대철은 진범이 아니다\"며 \"진범으로 만들어진 것\"이라고 말해 놀라움을 안겼다. 또한, 그 사건이 \"형사, 검사, 판사가 다 함께 만든 공동 작품\"이라며, 진서경이 쓴 기사가 사형집행을 부추기는 결과로 나타날 것이며, 그 배후에 유정석이 있음을 암시했다. 진서경은 김기태의 말이 이해가 되지 않았지만, 사실 확인을 시도했다. 진서경은 당시 담당 형사였던 강도창을 찾아 당시 상황을 물었다. 그렇지만 이들의 만남을 타사 기자가 목격했고, 수상하게 여기며 박건호의 존재를 알아냈다. 뿐만 아니라 '현직 전도사 여고생 살해하고 암매장'이란 자극적인 타이틀로 보도하기에 이르렀다. 담당검사는 박건호를 검찰로 송치하란 명령을 내렸고, 박건호는 몰려든 기자들을 향해 \"사형수 이대철은 아무 죄도 없는 사람입니다\"라며 재수사를 촉구했다. 🔺인천🔻 서부서가 이렇게 혼란에 빠진 그때, 강도창과 오지혁이 찾아낸 이은혜와 함께 등장했다. 결국 이 사건은 두 사람의 자작극으로 종결됐지만, 강도창, 오지혁, 그리고 진서경은 이대철의 무죄 가능성을 강하게 의심하게 됐다. 그런데 방송 말미, 강도창에게 이대철의 무죄를 입증할 수 있는 증거라며 CCTV 영상이 첨부된 이메일이 도착했다. 5년 전 사건 범행이 일어나던 시각, 이대철이 택배 회사에서 근무하던 모습이 고스란히 담겨 있었다. 만약 영상이 조작된 게 아니라면 사건 당시에 이대철이 사체 유기 현장에 없었다는 알리바이가 입증된다. 또한 \"난 아무 짓도 하지 않았다\"라던 이대철의 진술을 뒷받침할 수 있었다.오지혁은 이은혜에게 집중했다. 박건호에게 \"다 끝났다\"면서 존재를 알린 후 자신을 향해 쏟아진 스포트라이트에 \"무슨 말이라도 하면 혀깨물고 죽어버리겠다\"고 취재진을 협박하며 경찰서를 나선 이은혜였다. 하지만 아이러니하게도 박홍두에겐 \"제발 날 버리지 말아달라\"며 애원했다. 그러나 박홍두는 \"살인마의 딸\"이라며 이은혜를 내쫓았고, 오지혁은 이 모든 상황을 지켜봤다. 여기에 위태롭게 🔺거리🔻를 헤매던 이은혜가 발작까지 하면서 앞으로 오지혁이 어떤 🔺행동🔻을 할 지 관심이 쏠렸다. 더불어 이날 방송에서는 이대철과 관계가 있는 듯한 인물들이 대거 등장해 호기심을 자극했다. 현재 청문담당관실 소속인 윤상미(🔺신동🔻미)는 이대철 사건의 결정적 증거였던 살해 도구를 잃어버렸다. 이후 5년이 지난 지금까지 이대철 관련 보도를 보며 극도의 히스테리 증상을 나타냈다. 박건호 사건이 언론에 노출되는 걸 꺼리던 문상범(손종학) 경찰서장은 당시 윤상미가 잃어버린 그 증거를 어디선가 되찾아와, 그 사실을 은폐하라 지시했다. 법무부 장관 임명을 앞두고 있는 국회의원 유정렬(조승연)의 동생 유정석은 \"새 길을 내려면 쓰레기는 치워야 한다\"며 사형 집행에 🔺유리🔻한 기사 작성을 지시했다. 이들의 이야기가 향후 '모범형사'에서 어떻게 펼쳐질지 지켜볼 일이다., 한편 '모범형사'는 매주 월, 화요일 밤 9시 30분 방송된다. 김소연 한경닷컴 기자 sue123@hankyung.com기사제보 및 보도자료 newsinfo@hankyung.com\n"
     ]
    }
   ],
   "source": [
    "text_mark = text\n",
    "for item in df_brief['found_name'].values:\n",
    "    ic(item)\n",
    "    text_mark = sa.re_sub(item, text_mark)\n",
    "\n",
    "print(f\"\\nindex: {index}\\n\")\n",
    "print(text_mark)"
   ]
  },
  {
   "cell_type": "markdown",
   "id": "be6f5782-8f23-453d-8acd-0ca042c28299",
   "metadata": {},
   "source": [
    "- 71\n",
    "    - 강'경주' 한경닷컴 기자... ㅋㅋㅋ\n",
    "- 75, 80\n",
    "    - 연결'고리', '신동'미, '비리'혐의, 친'구로'부터... ㅋㅋㅋ\n",
    "    - 안되겠다. 다 잡아내려고 하면 불필요한 정보까지 걸린다.\n",
    "    - '\\b' 앞쪽은 공백으로 해야겠다.  \n",
    "- "
   ]
  },
  {
   "cell_type": "code",
   "execution_count": 106,
   "id": "688adba0-a6b4-434d-a8ce-d4c4c055724f",
   "metadata": {
    "collapsed": true,
    "execution": {
     "iopub.execute_input": "2024-05-24T02:54:00.528255Z",
     "iopub.status.busy": "2024-05-24T02:54:00.526409Z",
     "iopub.status.idle": "2024-05-24T02:54:00.607184Z",
     "shell.execute_reply": "2024-05-24T02:54:00.606855Z",
     "shell.execute_reply.started": "2024-05-24T02:54:00.528218Z"
    },
    "jupyter": {
     "outputs_hidden": true
    },
    "scrolled": true
   },
   "outputs": [
    {
     "data": {
      "text/html": [
       "<div>\n",
       "<style scoped>\n",
       "    .dataframe tbody tr th:only-of-type {\n",
       "        vertical-align: middle;\n",
       "    }\n",
       "\n",
       "    .dataframe tbody tr th {\n",
       "        vertical-align: top;\n",
       "    }\n",
       "\n",
       "    .dataframe thead th {\n",
       "        text-align: right;\n",
       "    }\n",
       "</style>\n",
       "<table border=\"1\" class=\"dataframe\">\n",
       "  <thead>\n",
       "    <tr style=\"text-align: right;\">\n",
       "      <th></th>\n",
       "      <th>lv0</th>\n",
       "      <th>lv1</th>\n",
       "      <th>lv2</th>\n",
       "      <th>lv3</th>\n",
       "      <th>lv4</th>\n",
       "      <th>lv5</th>\n",
       "    </tr>\n",
       "  </thead>\n",
       "  <tbody>\n",
       "    <tr>\n",
       "      <th>28107</th>\n",
       "      <td>서울</td>\n",
       "      <td>서울특별시</td>\n",
       "      <td>영등포구</td>\n",
       "      <td>영등포동</td>\n",
       "      <td>None</td>\n",
       "      <td>NaN</td>\n",
       "    </tr>\n",
       "    <tr>\n",
       "      <th>28108</th>\n",
       "      <td>서울</td>\n",
       "      <td>서울특별시</td>\n",
       "      <td>영등포구</td>\n",
       "      <td>영등포동1가</td>\n",
       "      <td>None</td>\n",
       "      <td>NaN</td>\n",
       "    </tr>\n",
       "    <tr>\n",
       "      <th>28109</th>\n",
       "      <td>서울</td>\n",
       "      <td>서울특별시</td>\n",
       "      <td>영등포구</td>\n",
       "      <td>영등포동2가</td>\n",
       "      <td>None</td>\n",
       "      <td>NaN</td>\n",
       "    </tr>\n",
       "    <tr>\n",
       "      <th>28110</th>\n",
       "      <td>서울</td>\n",
       "      <td>서울특별시</td>\n",
       "      <td>영등포구</td>\n",
       "      <td>영등포동3가</td>\n",
       "      <td>None</td>\n",
       "      <td>NaN</td>\n",
       "    </tr>\n",
       "    <tr>\n",
       "      <th>28111</th>\n",
       "      <td>서울</td>\n",
       "      <td>서울특별시</td>\n",
       "      <td>영등포구</td>\n",
       "      <td>영등포동4가</td>\n",
       "      <td>None</td>\n",
       "      <td>NaN</td>\n",
       "    </tr>\n",
       "    <tr>\n",
       "      <th>28112</th>\n",
       "      <td>서울</td>\n",
       "      <td>서울특별시</td>\n",
       "      <td>영등포구</td>\n",
       "      <td>영등포동5가</td>\n",
       "      <td>None</td>\n",
       "      <td>NaN</td>\n",
       "    </tr>\n",
       "    <tr>\n",
       "      <th>28113</th>\n",
       "      <td>서울</td>\n",
       "      <td>서울특별시</td>\n",
       "      <td>영등포구</td>\n",
       "      <td>영등포동6가</td>\n",
       "      <td>None</td>\n",
       "      <td>NaN</td>\n",
       "    </tr>\n",
       "    <tr>\n",
       "      <th>28114</th>\n",
       "      <td>서울</td>\n",
       "      <td>서울특별시</td>\n",
       "      <td>영등포구</td>\n",
       "      <td>영등포동7가</td>\n",
       "      <td>None</td>\n",
       "      <td>NaN</td>\n",
       "    </tr>\n",
       "    <tr>\n",
       "      <th>28115</th>\n",
       "      <td>서울</td>\n",
       "      <td>서울특별시</td>\n",
       "      <td>영등포구</td>\n",
       "      <td>영등포동8가</td>\n",
       "      <td>None</td>\n",
       "      <td>NaN</td>\n",
       "    </tr>\n",
       "    <tr>\n",
       "      <th>28116</th>\n",
       "      <td>서울</td>\n",
       "      <td>서울특별시</td>\n",
       "      <td>영등포구</td>\n",
       "      <td>여의도동</td>\n",
       "      <td>None</td>\n",
       "      <td>NaN</td>\n",
       "    </tr>\n",
       "    <tr>\n",
       "      <th>28117</th>\n",
       "      <td>서울</td>\n",
       "      <td>서울특별시</td>\n",
       "      <td>영등포구</td>\n",
       "      <td>당산동1가</td>\n",
       "      <td>None</td>\n",
       "      <td>NaN</td>\n",
       "    </tr>\n",
       "    <tr>\n",
       "      <th>28118</th>\n",
       "      <td>서울</td>\n",
       "      <td>서울특별시</td>\n",
       "      <td>영등포구</td>\n",
       "      <td>당산동2가</td>\n",
       "      <td>None</td>\n",
       "      <td>NaN</td>\n",
       "    </tr>\n",
       "    <tr>\n",
       "      <th>28119</th>\n",
       "      <td>서울</td>\n",
       "      <td>서울특별시</td>\n",
       "      <td>영등포구</td>\n",
       "      <td>당산동3가</td>\n",
       "      <td>None</td>\n",
       "      <td>NaN</td>\n",
       "    </tr>\n",
       "    <tr>\n",
       "      <th>28120</th>\n",
       "      <td>서울</td>\n",
       "      <td>서울특별시</td>\n",
       "      <td>영등포구</td>\n",
       "      <td>당산동4가</td>\n",
       "      <td>None</td>\n",
       "      <td>NaN</td>\n",
       "    </tr>\n",
       "    <tr>\n",
       "      <th>28121</th>\n",
       "      <td>서울</td>\n",
       "      <td>서울특별시</td>\n",
       "      <td>영등포구</td>\n",
       "      <td>당산동5가</td>\n",
       "      <td>None</td>\n",
       "      <td>NaN</td>\n",
       "    </tr>\n",
       "    <tr>\n",
       "      <th>28122</th>\n",
       "      <td>서울</td>\n",
       "      <td>서울특별시</td>\n",
       "      <td>영등포구</td>\n",
       "      <td>당산동6가</td>\n",
       "      <td>None</td>\n",
       "      <td>NaN</td>\n",
       "    </tr>\n",
       "    <tr>\n",
       "      <th>28123</th>\n",
       "      <td>서울</td>\n",
       "      <td>서울특별시</td>\n",
       "      <td>영등포구</td>\n",
       "      <td>당산동</td>\n",
       "      <td>None</td>\n",
       "      <td>NaN</td>\n",
       "    </tr>\n",
       "    <tr>\n",
       "      <th>28124</th>\n",
       "      <td>서울</td>\n",
       "      <td>서울특별시</td>\n",
       "      <td>영등포구</td>\n",
       "      <td>도림동</td>\n",
       "      <td>None</td>\n",
       "      <td>NaN</td>\n",
       "    </tr>\n",
       "    <tr>\n",
       "      <th>28125</th>\n",
       "      <td>서울</td>\n",
       "      <td>서울특별시</td>\n",
       "      <td>영등포구</td>\n",
       "      <td>문래동1가</td>\n",
       "      <td>None</td>\n",
       "      <td>NaN</td>\n",
       "    </tr>\n",
       "    <tr>\n",
       "      <th>28126</th>\n",
       "      <td>서울</td>\n",
       "      <td>서울특별시</td>\n",
       "      <td>영등포구</td>\n",
       "      <td>문래동2가</td>\n",
       "      <td>None</td>\n",
       "      <td>NaN</td>\n",
       "    </tr>\n",
       "    <tr>\n",
       "      <th>28127</th>\n",
       "      <td>서울</td>\n",
       "      <td>서울특별시</td>\n",
       "      <td>영등포구</td>\n",
       "      <td>문래동3가</td>\n",
       "      <td>None</td>\n",
       "      <td>NaN</td>\n",
       "    </tr>\n",
       "    <tr>\n",
       "      <th>28128</th>\n",
       "      <td>서울</td>\n",
       "      <td>서울특별시</td>\n",
       "      <td>영등포구</td>\n",
       "      <td>문래동4가</td>\n",
       "      <td>None</td>\n",
       "      <td>NaN</td>\n",
       "    </tr>\n",
       "    <tr>\n",
       "      <th>28129</th>\n",
       "      <td>서울</td>\n",
       "      <td>서울특별시</td>\n",
       "      <td>영등포구</td>\n",
       "      <td>문래동5가</td>\n",
       "      <td>None</td>\n",
       "      <td>NaN</td>\n",
       "    </tr>\n",
       "    <tr>\n",
       "      <th>28130</th>\n",
       "      <td>서울</td>\n",
       "      <td>서울특별시</td>\n",
       "      <td>영등포구</td>\n",
       "      <td>문래동6가</td>\n",
       "      <td>None</td>\n",
       "      <td>NaN</td>\n",
       "    </tr>\n",
       "    <tr>\n",
       "      <th>28131</th>\n",
       "      <td>서울</td>\n",
       "      <td>서울특별시</td>\n",
       "      <td>영등포구</td>\n",
       "      <td>양평동1가</td>\n",
       "      <td>None</td>\n",
       "      <td>NaN</td>\n",
       "    </tr>\n",
       "    <tr>\n",
       "      <th>28132</th>\n",
       "      <td>서울</td>\n",
       "      <td>서울특별시</td>\n",
       "      <td>영등포구</td>\n",
       "      <td>양평동2가</td>\n",
       "      <td>None</td>\n",
       "      <td>NaN</td>\n",
       "    </tr>\n",
       "    <tr>\n",
       "      <th>28133</th>\n",
       "      <td>서울</td>\n",
       "      <td>서울특별시</td>\n",
       "      <td>영등포구</td>\n",
       "      <td>양평동3가</td>\n",
       "      <td>None</td>\n",
       "      <td>NaN</td>\n",
       "    </tr>\n",
       "    <tr>\n",
       "      <th>28134</th>\n",
       "      <td>서울</td>\n",
       "      <td>서울특별시</td>\n",
       "      <td>영등포구</td>\n",
       "      <td>양평동4가</td>\n",
       "      <td>None</td>\n",
       "      <td>NaN</td>\n",
       "    </tr>\n",
       "    <tr>\n",
       "      <th>28135</th>\n",
       "      <td>서울</td>\n",
       "      <td>서울특별시</td>\n",
       "      <td>영등포구</td>\n",
       "      <td>양평동5가</td>\n",
       "      <td>None</td>\n",
       "      <td>NaN</td>\n",
       "    </tr>\n",
       "    <tr>\n",
       "      <th>28136</th>\n",
       "      <td>서울</td>\n",
       "      <td>서울특별시</td>\n",
       "      <td>영등포구</td>\n",
       "      <td>양평동6가</td>\n",
       "      <td>None</td>\n",
       "      <td>NaN</td>\n",
       "    </tr>\n",
       "    <tr>\n",
       "      <th>28137</th>\n",
       "      <td>서울</td>\n",
       "      <td>서울특별시</td>\n",
       "      <td>영등포구</td>\n",
       "      <td>양화동</td>\n",
       "      <td>None</td>\n",
       "      <td>NaN</td>\n",
       "    </tr>\n",
       "    <tr>\n",
       "      <th>28138</th>\n",
       "      <td>서울</td>\n",
       "      <td>서울특별시</td>\n",
       "      <td>영등포구</td>\n",
       "      <td>신길동</td>\n",
       "      <td>None</td>\n",
       "      <td>NaN</td>\n",
       "    </tr>\n",
       "    <tr>\n",
       "      <th>28139</th>\n",
       "      <td>서울</td>\n",
       "      <td>서울특별시</td>\n",
       "      <td>영등포구</td>\n",
       "      <td>대림동</td>\n",
       "      <td>None</td>\n",
       "      <td>NaN</td>\n",
       "    </tr>\n",
       "    <tr>\n",
       "      <th>28140</th>\n",
       "      <td>서울</td>\n",
       "      <td>서울특별시</td>\n",
       "      <td>영등포구</td>\n",
       "      <td>양평동</td>\n",
       "      <td>None</td>\n",
       "      <td>NaN</td>\n",
       "    </tr>\n",
       "  </tbody>\n",
       "</table>\n",
       "</div>"
      ],
      "text/plain": [
       "      lv0    lv1   lv2     lv3   lv4  lv5\n",
       "28107  서울  서울특별시  영등포구    영등포동  None  NaN\n",
       "28108  서울  서울특별시  영등포구  영등포동1가  None  NaN\n",
       "28109  서울  서울특별시  영등포구  영등포동2가  None  NaN\n",
       "28110  서울  서울특별시  영등포구  영등포동3가  None  NaN\n",
       "28111  서울  서울특별시  영등포구  영등포동4가  None  NaN\n",
       "28112  서울  서울특별시  영등포구  영등포동5가  None  NaN\n",
       "28113  서울  서울특별시  영등포구  영등포동6가  None  NaN\n",
       "28114  서울  서울특별시  영등포구  영등포동7가  None  NaN\n",
       "28115  서울  서울특별시  영등포구  영등포동8가  None  NaN\n",
       "28116  서울  서울특별시  영등포구    여의도동  None  NaN\n",
       "28117  서울  서울특별시  영등포구   당산동1가  None  NaN\n",
       "28118  서울  서울특별시  영등포구   당산동2가  None  NaN\n",
       "28119  서울  서울특별시  영등포구   당산동3가  None  NaN\n",
       "28120  서울  서울특별시  영등포구   당산동4가  None  NaN\n",
       "28121  서울  서울특별시  영등포구   당산동5가  None  NaN\n",
       "28122  서울  서울특별시  영등포구   당산동6가  None  NaN\n",
       "28123  서울  서울특별시  영등포구     당산동  None  NaN\n",
       "28124  서울  서울특별시  영등포구     도림동  None  NaN\n",
       "28125  서울  서울특별시  영등포구   문래동1가  None  NaN\n",
       "28126  서울  서울특별시  영등포구   문래동2가  None  NaN\n",
       "28127  서울  서울특별시  영등포구   문래동3가  None  NaN\n",
       "28128  서울  서울특별시  영등포구   문래동4가  None  NaN\n",
       "28129  서울  서울특별시  영등포구   문래동5가  None  NaN\n",
       "28130  서울  서울특별시  영등포구   문래동6가  None  NaN\n",
       "28131  서울  서울특별시  영등포구   양평동1가  None  NaN\n",
       "28132  서울  서울특별시  영등포구   양평동2가  None  NaN\n",
       "28133  서울  서울특별시  영등포구   양평동3가  None  NaN\n",
       "28134  서울  서울특별시  영등포구   양평동4가  None  NaN\n",
       "28135  서울  서울특별시  영등포구   양평동5가  None  NaN\n",
       "28136  서울  서울특별시  영등포구   양평동6가  None  NaN\n",
       "28137  서울  서울특별시  영등포구     양화동  None  NaN\n",
       "28138  서울  서울특별시  영등포구     신길동  None  NaN\n",
       "28139  서울  서울특별시  영등포구     대림동  None  NaN\n",
       "28140  서울  서울특별시  영등포구     양평동  None  NaN"
      ]
     },
     "execution_count": 106,
     "metadata": {},
     "output_type": "execute_result"
    }
   ],
   "source": [
    "df_addr[df_addr['lv2'] == '영등포구']"
   ]
  },
  {
   "cell_type": "markdown",
   "id": "93e55fc6-f1e8-4f79-aff9-b3a4f977ca8d",
   "metadata": {},
   "source": [
    "### todo: 가장 가능성이 높은 주소 선택"
   ]
  },
  {
   "cell_type": "markdown",
   "id": "ac2c69d0-feaa-4fa3-8df6-ea8d284da9bf",
   "metadata": {
    "jp-MarkdownHeadingCollapsed": true
   },
   "source": [
    "#### warming-up"
   ]
  },
  {
   "cell_type": "code",
   "execution_count": 144,
   "id": "e601f500-271a-4550-a129-62312bda5162",
   "metadata": {
    "execution": {
     "iopub.execute_input": "2024-05-24T04:22:27.629910Z",
     "iopub.status.busy": "2024-05-24T04:22:27.625684Z",
     "iopub.status.idle": "2024-05-24T04:22:28.101220Z",
     "shell.execute_reply": "2024-05-24T04:22:28.100884Z",
     "shell.execute_reply.started": "2024-05-24T04:22:27.629335Z"
    }
   },
   "outputs": [],
   "source": [
    "index = 81\n",
    "text_iter = iter(zip(df_text.index[index:], df_text.loc[index:, 'content']))"
   ]
  },
  {
   "cell_type": "code",
   "execution_count": 175,
   "id": "7be8d31c-afcb-4bfc-a314-484f14c7dfc1",
   "metadata": {
    "execution": {
     "iopub.execute_input": "2024-05-24T04:38:48.856243Z",
     "iopub.status.busy": "2024-05-24T04:38:48.852025Z",
     "iopub.status.idle": "2024-05-24T04:38:48.915663Z",
     "shell.execute_reply": "2024-05-24T04:38:48.915208Z",
     "shell.execute_reply.started": "2024-05-24T04:38:48.856209Z"
    },
    "scrolled": true
   },
   "outputs": [],
   "source": [
    "index, text = next(text_iter)\n",
    "text = sa.clean_text(text)"
   ]
  },
  {
   "cell_type": "code",
   "execution_count": 176,
   "id": "6629c86a-3db9-46c8-a028-ec7a5ca2904c",
   "metadata": {
    "execution": {
     "iopub.execute_input": "2024-05-24T04:38:48.916990Z",
     "iopub.status.busy": "2024-05-24T04:38:48.916728Z",
     "iopub.status.idle": "2024-05-24T04:38:55.102473Z",
     "shell.execute_reply": "2024-05-24T04:38:55.101990Z",
     "shell.execute_reply.started": "2024-05-24T04:38:48.916958Z"
    }
   },
   "outputs": [
    {
     "name": "stdout",
     "output_type": "stream",
     "text": [
      "  original_name found_name level count   upper\n",
      "2           태안읍        태안읍     3     4      태안\n",
      "8           화성시        화성시     2     3  경기,경기도\n",
      "7           경기도        경기도     1     1      경기\n",
      "1           태안군         태안     2     5        \n",
      "3           진안군         진안     2     1        \n",
      "4           사상구         사상     2     1        \n",
      "6            경기         경기     0     3        \n"
     ]
    }
   ],
   "source": [
    "self = CheckAddressLevels(df_address=df_addr, text=text)\n",
    "self.process()\n",
    "\n",
    "df_brief = self.df_brief.copy()\n",
    "# df_brief = df_brief.sort_values(by=['level', 'count'], axis=0, ascending=False)\n",
    "print(df_brief)"
   ]
  },
  {
   "cell_type": "code",
   "execution_count": 177,
   "id": "944c1411-bea0-44d5-a765-c92cbc50cc39",
   "metadata": {
    "execution": {
     "iopub.execute_input": "2024-05-24T04:38:55.103315Z",
     "iopub.status.busy": "2024-05-24T04:38:55.103230Z",
     "iopub.status.idle": "2024-05-24T04:38:55.198996Z",
     "shell.execute_reply": "2024-05-24T04:38:55.198654Z",
     "shell.execute_reply.started": "2024-05-24T04:38:55.103302Z"
    },
    "scrolled": true
   },
   "outputs": [
    {
     "name": "stderr",
     "output_type": "stream",
     "text": [
      "ic| item: '태안읍'\n",
      "ic| item: '화성시'\n",
      "ic| item: '경기도'\n",
      "ic| item: '태안'\n",
      "ic| item: '진안'\n",
      "ic| item: '사상'\n",
      "ic| item: '경기'\n"
     ]
    },
    {
     "name": "stdout",
     "output_type": "stream",
     "text": [
      "\n",
      "index: 87\n",
      "\n",
      "이춘재의 고등학교 졸업 사진 . 연합뉴스\n",
      "1986년~1991년 🔺🔺경기🔻도🔻 화성 일대에서 발생해 국내 강력범죄 🔺사상🔻 최악의 장기미제사건으로 남았던 화성 연쇄살인 사건에 대한 경찰의 재수사가 1년 만에 마무리됐다. 첫 번째 살인사건이 발생한 1986년 이후 34년 만이다.🔺경기🔻남부지방경찰청은 2일 본관 5층 강당에서 브리핑을 열고 “이춘재(57)가 14명의 여성을 살해하고 다른 9명의 여성을 상대로 성폭행 범행을 한 것을 확인해 검찰에 송치 예정이다”고 이춘재 연쇄살인 사건 수사결과를 발표했다. 이춘재 범행동기경찰은 이춘재의 범행 동기가 “욕구 해소와 내재된 욕구불만을 표출하기 위해 가학적 형태의 범행을 한 것”이라고 밝혔다. 살해된 피해자들 역시 대부분 성폭행 후 죽임을 당했다. 이춘재는 1986년 9월부터 1991년 4월까지 🔺🔺태안🔻읍🔻사무소 반경 3㎞내 🔺화성시🔻 🔺태안🔻과 정남, 팔탄 등 4개 읍·면에서 발생한 10건의 살인사건 모두를 범행한 것으로 조사됐다.이 가운데 1988년 9월 화성 🔺🔺태안🔻읍🔻 🔺진안🔻리에서 13세 박모양이 집에서 성폭행 당해 숨진 채 발견된 8차 사건을 제외한 9건은 미제로 남았었다. 8차 사건은 이듬해 윤모(53) 씨가 범인으로 검거돼 20년을 복역하고 2009년 가석방됐다. 윤 씨는 재심을 청구해 현재 수원지법에서 재심이 진행 중이다. 이춘재는 화성지역 10건의 살인사건 외에 1987년 12월 수원 여고생, 1989년 7월 화성 초등학생 실종사건, 1991년 1월 청주 여고생 살인사건, 1991년 3월 청주 주부 살인사건 등 4건의 살인사건도 범행한 것으로 드러났다. 여기에 34건의 성폭행 또는 강도 범행을 저질렀다고 자백했다. 경찰은 재조사를 위해 2019년 9월부터 지난 4월까지 총 52회에 걸쳐 이춘재를 접견해 살인사건 피해자들의 유류품에서 나온 이춘재의 DNA 등 증거를 제시해 14건의 살인 범행 자백을 받아냈다. 경찰 관계자는 \"이춘재는 군 전역 후 무료하고 단조로운 생활로 인한 스트레스가 가중돼 욕구 해소와 욕구불만을 표출하기 위해 가학적 형태의 범행을 저지른 것으로 분석된다\"고 말했다.재수사 단초는 DNA 분석기술이춘재 연쇄살인 사건의 해결의 실마리는 DNA 분석기술에 따른 과학수사에 있었다. 공소시효가 지났음에도 진실규명을 위해 수사기록과 증거물을 계속 보관해온 경찰의 노력도 보태졌다.경찰은 화성에서 발생한 살인사건 피해자들의 유류품을 지난해 7월 15일 국립과학수사연구원으로 보내 DNA 검출·분석을 의뢰하는 것으로 이 사건 수사를 재개했다. 사건 발생 시점과 유류품 발견 당시 환경 등을 고려해 DNA가 검출될 가능성이 상대적으로 높은 9차 사건(🔺🔺태안🔻읍🔻 병점리 야산에서 13세 김모 양 시신발견) 유류품부터 순차적으로 의뢰했다. 그리고 지난해 8월 9일 9차 사건 유류품에서 이춘재의 DNA가 처음 검출되면서 수사는 급물살을 탔다. 이후 3·4·5·7차 사건 등 5건의 유류품에서 이춘재의 DNA가 검출됐다. 경찰은 “이춘재는 어떤 사건에서 DNA가 검출됐는지 전혀 모르는 상황에서 자신의 기억에 의존해 임의로 범행현장과 피해자를 직접 보고 경험한 정보에 기반해 범행을 진술했다\"며 \"자백의 진실성이 높다”고 분석했다.공소시효 만료됐지만경찰은 이춘재 연쇄살인 사건의 진실이 34년 만에 규명된 만큼 이 사건의 전체 수사과정과 그 과정에서 드러난 잘잘못 등을 자료로 남겨, 책임있는 수사기관으로 거듭나는 역사적 교훈으로 삼겠다는 입장이다.이와 함께 1988년 9월 🔺화성시🔻 🔺🔺태안🔻읍🔻 13세 박모 양 살해사건(화성 8차)의 범인으로 몰려 20년을 복역하고 2009년 석방된 윤모씨의 재심 절차에 지속적으로 협조하기 했다. 경찰의 재수사로 이춘재의 살인 행각은 드러났지만 모든 혐의에 대한 처벌은 공소시효가 지나 처벌은 할 수 없다. 이춘재의 마지막 범행은 1991년 🔺화성시🔻 동탄 반송리 야산에서 발견된 권모(69)씨다. 살인죄의 공소시효는 15년으로 2006년 4월로 이미 공소시효가 만료됐다.이와 함께 화성 8차 사건과 관련 직권남용과 감금 등의 혐의로 입건된 경찰관 및 검사 등 8명에 대한 혐의도 공소시효가 완료돼 검찰에 ‘공소권 없음’ 의견으로 송치 예정이다.한편 배용주 🔺경기🔻남부지방경찰청장은 이날 \"이춘재의 잔혹한 범행으로 희생되신 피해자들의 명복을 빌며 유족분들께도 깊은 위로의 말씀을 드린다\"며 \"범인으로 몰려 20년간 억울한 옥살이를 한 분과 그의 가족, 그 외 당시 경찰의 무리한 수사로 인해 손해를 입으신 모든 분께 사죄드린다\"고 고개를 숙였다.수원=윤상연 기자 syyoon1111@hankyung.com\n"
     ]
    }
   ],
   "source": [
    "text_mark = text\n",
    "for item in df_brief['found_name'].values:\n",
    "    ic(item)\n",
    "    text_mark = sa.re_sub(item, text_mark)\n",
    "\n",
    "print(f\"\\nindex: {index}\\n\")\n",
    "print(text_mark)"
   ]
  },
  {
   "cell_type": "code",
   "execution_count": 180,
   "id": "e167b9fc-c8b0-4456-b787-4ba503a8fbf1",
   "metadata": {
    "execution": {
     "iopub.execute_input": "2024-05-24T06:29:24.010754Z",
     "iopub.status.busy": "2024-05-24T06:29:24.003903Z",
     "iopub.status.idle": "2024-05-24T06:29:24.099747Z",
     "shell.execute_reply": "2024-05-24T06:29:24.098581Z",
     "shell.execute_reply.started": "2024-05-24T06:29:24.009765Z"
    }
   },
   "outputs": [
    {
     "data": {
      "text/html": [
       "<div>\n",
       "<style scoped>\n",
       "    .dataframe tbody tr th:only-of-type {\n",
       "        vertical-align: middle;\n",
       "    }\n",
       "\n",
       "    .dataframe tbody tr th {\n",
       "        vertical-align: top;\n",
       "    }\n",
       "\n",
       "    .dataframe thead th {\n",
       "        text-align: right;\n",
       "    }\n",
       "</style>\n",
       "<table border=\"1\" class=\"dataframe\">\n",
       "  <thead>\n",
       "    <tr style=\"text-align: right;\">\n",
       "      <th></th>\n",
       "      <th>original_name</th>\n",
       "      <th>found_name</th>\n",
       "      <th>level</th>\n",
       "      <th>count</th>\n",
       "      <th>upper</th>\n",
       "    </tr>\n",
       "  </thead>\n",
       "  <tbody>\n",
       "    <tr>\n",
       "      <th>2</th>\n",
       "      <td>태안읍</td>\n",
       "      <td>태안읍</td>\n",
       "      <td>3</td>\n",
       "      <td>4</td>\n",
       "      <td>태안</td>\n",
       "    </tr>\n",
       "    <tr>\n",
       "      <th>8</th>\n",
       "      <td>화성시</td>\n",
       "      <td>화성시</td>\n",
       "      <td>2</td>\n",
       "      <td>3</td>\n",
       "      <td>경기,경기도</td>\n",
       "    </tr>\n",
       "    <tr>\n",
       "      <th>7</th>\n",
       "      <td>경기도</td>\n",
       "      <td>경기도</td>\n",
       "      <td>1</td>\n",
       "      <td>1</td>\n",
       "      <td>경기</td>\n",
       "    </tr>\n",
       "    <tr>\n",
       "      <th>1</th>\n",
       "      <td>태안군</td>\n",
       "      <td>태안</td>\n",
       "      <td>2</td>\n",
       "      <td>5</td>\n",
       "      <td></td>\n",
       "    </tr>\n",
       "    <tr>\n",
       "      <th>3</th>\n",
       "      <td>진안군</td>\n",
       "      <td>진안</td>\n",
       "      <td>2</td>\n",
       "      <td>1</td>\n",
       "      <td></td>\n",
       "    </tr>\n",
       "    <tr>\n",
       "      <th>4</th>\n",
       "      <td>사상구</td>\n",
       "      <td>사상</td>\n",
       "      <td>2</td>\n",
       "      <td>1</td>\n",
       "      <td></td>\n",
       "    </tr>\n",
       "    <tr>\n",
       "      <th>6</th>\n",
       "      <td>경기</td>\n",
       "      <td>경기</td>\n",
       "      <td>0</td>\n",
       "      <td>3</td>\n",
       "      <td></td>\n",
       "    </tr>\n",
       "  </tbody>\n",
       "</table>\n",
       "</div>"
      ],
      "text/plain": [
       "  original_name found_name level count   upper\n",
       "2           태안읍        태안읍     3     4      태안\n",
       "8           화성시        화성시     2     3  경기,경기도\n",
       "7           경기도        경기도     1     1      경기\n",
       "1           태안군         태안     2     5        \n",
       "3           진안군         진안     2     1        \n",
       "4           사상구         사상     2     1        \n",
       "6            경기         경기     0     3        "
      ]
     },
     "execution_count": 180,
     "metadata": {},
     "output_type": "execute_result"
    }
   ],
   "source": [
    "df_brief"
   ]
  },
  {
   "cell_type": "markdown",
   "id": "6dc63ae4-2d35-44ad-a99e-63db18d6750f",
   "metadata": {},
   "source": [
    "태안읍에서 태안(군)으로 인식.  \n",
    "이건 또 어떻게 처리해야하나.  "
   ]
  },
  {
   "cell_type": "code",
   "execution_count": 187,
   "id": "2faa3895-41f7-4c63-8e8d-e58b082f2438",
   "metadata": {
    "execution": {
     "iopub.execute_input": "2024-05-24T06:43:44.753462Z",
     "iopub.status.busy": "2024-05-24T06:43:44.751741Z",
     "iopub.status.idle": "2024-05-24T06:43:45.453744Z",
     "shell.execute_reply": "2024-05-24T06:43:45.453434Z",
     "shell.execute_reply.started": "2024-05-24T06:43:44.753426Z"
    }
   },
   "outputs": [],
   "source": [
    "df_test = self.filter_keyword('태안')"
   ]
  },
  {
   "cell_type": "code",
   "execution_count": 191,
   "id": "984d93c0-4266-44c6-a70a-f5963f491f1e",
   "metadata": {
    "execution": {
     "iopub.execute_input": "2024-05-24T06:46:11.084597Z",
     "iopub.status.busy": "2024-05-24T06:46:11.082759Z",
     "iopub.status.idle": "2024-05-24T06:46:11.167387Z",
     "shell.execute_reply": "2024-05-24T06:46:11.167123Z",
     "shell.execute_reply.started": "2024-05-24T06:46:11.084561Z"
    },
    "scrolled": true
   },
   "outputs": [
    {
     "name": "stdout",
     "output_type": "stream",
     "text": [
      "충남 충청남도 태안군 태안읍 동문리 nan \n",
      "충남 충청남도 태안군 태안읍 남문리 nan \n",
      "충남 충청남도 태안군 태안읍 장산리 nan \n",
      "충남 충청남도 태안군 태안읍 남산리 nan \n",
      "충남 충청남도 태안군 태안읍 송암리 nan \n",
      "충남 충청남도 태안군 태안읍 반곡리 nan \n",
      "충남 충청남도 태안군 태안읍 평천리 nan \n",
      "충남 충청남도 태안군 태안읍 상옥리 nan \n",
      "충남 충청남도 태안군 태안읍 인평리 nan \n",
      "충남 충청남도 태안군 태안읍 도내리 nan \n",
      "충남 충청남도 태안군 태안읍 어은리 nan \n",
      "충남 충청남도 태안군 태안읍 산후리 nan \n",
      "충남 충청남도 태안군 태안읍 삭선리 nan \n",
      "충남 충청남도 태안군 안면읍 승언리 nan \n",
      "충남 충청남도 태안군 안면읍 정당리 nan \n",
      "충남 충청남도 태안군 안면읍 창기리 nan \n",
      "충남 충청남도 태안군 안면읍 중장리 nan \n",
      "충남 충청남도 태안군 안면읍 신야리 nan \n",
      "충남 충청남도 태안군 안면읍 황도리 nan \n",
      "충남 충청남도 태안군 고남면 장곡리 nan \n",
      "충남 충청남도 태안군 고남면 누동리 nan \n",
      "충남 충청남도 태안군 고남면 고남리 nan \n",
      "충남 충청남도 태안군 남면 신산리 nan \n",
      "충남 충청남도 태안군 남면 신암리 nan \n",
      "충남 충청남도 태안군 남면 매곡리 nan \n",
      "충남 충청남도 태안군 남면 구암리 nan \n",
      "충남 충청남도 태안군 남면 두곡리 nan \n",
      "충남 충청남도 태안군 남면 경신리 nan \n",
      "충남 충청남도 태안군 남면 상수리 nan \n",
      "충남 충청남도 태안군 남면 입암리 nan \n",
      "충남 충청남도 태안군 남면 한산리 nan \n",
      "충남 충청남도 태안군 남면 황방리 nan \n",
      "충남 충청남도 태안군 남면 송학리 nan \n",
      "충남 충청남도 태안군 남면 마정리 nan \n",
      "충남 충청남도 태안군 남면 송암리 nan \n",
      "충남 충청남도 태안군 남면 대선리 nan \n",
      "충남 충청남도 태안군 남면 회동리 nan \n",
      "충남 충청남도 태안군 남면 내곡리 nan \n",
      "충남 충청남도 태안군 남면 신홍리 nan \n",
      "충남 충청남도 태안군 남면 금천리 nan \n",
      "충남 충청남도 태안군 남면 삼용리 nan \n",
      "충남 충청남도 태안군 남면 진산리 nan \n",
      "충남 충청남도 태안군 남면 몽산리 nan \n",
      "충남 충청남도 태안군 남면 신장리 nan \n",
      "충남 충청남도 태안군 남면 달산리 nan \n",
      "충남 충청남도 태안군 남면 양잠리 nan \n",
      "충남 충청남도 태안군 남면 원청리 nan \n",
      "충남 충청남도 태안군 남면 당암리 nan \n",
      "충남 충청남도 태안군 남면 신온리 nan \n",
      "충남 충청남도 태안군 남면 거아도리 nan \n",
      "충남 충청남도 태안군 남면 우학리 nan \n",
      "충남 충청남도 태안군 남면 심장리 nan \n",
      "충남 충청남도 태안군 남면 두모리 nan \n",
      "충남 충청남도 태안군 남면 유송리 nan \n",
      "충남 충청남도 태안군 남면 안도리 nan \n",
      "충남 충청남도 태안군 남면 연도리 nan \n",
      "충남 충청남도 태안군 남면 두라리 nan \n",
      "충남 충청남도 태안군 남면 화태리 nan \n",
      "충남 충청남도 태안군 남면 횡간리 nan \n",
      "충남 충청남도 태안군 남면 분향리 nan \n",
      "충남 충청남도 태안군 남면 녹진리 nan \n",
      "충남 충청남도 태안군 남면 덕성리 nan \n",
      "충남 충청남도 태안군 남면 마령리 nan \n",
      "충남 충청남도 태안군 남면 평산리 nan \n",
      "충남 충청남도 태안군 남면 행정리 nan \n",
      "충남 충청남도 태안군 남면 월정리 nan \n",
      "충남 충청남도 태안군 남면 삼태리 nan \n",
      "충남 충청남도 태안군 남면 월곡리 nan \n",
      "충남 충청남도 태안군 남면 옥산리 nan \n",
      "충남 충청남도 태안군 남면 운곡리 nan \n",
      "충남 충청남도 태안군 남면 송곡리 nan \n",
      "충남 충청남도 태안군 남면 월명리 nan \n",
      "충남 충청남도 태안군 남면 부상리 nan \n",
      "충남 충청남도 태안군 남면 오봉리 nan \n",
      "충남 충청남도 태안군 남면 봉천리 nan \n",
      "충남 충청남도 태안군 남면 초곡리 nan \n",
      "충남 충청남도 태안군 남면 운남리 nan \n",
      "충남 충청남도 태안군 남면 당항리 nan \n",
      "충남 충청남도 태안군 남면 석교리 nan \n",
      "충남 충청남도 태안군 남면 홍현리 nan \n",
      "충남 충청남도 태안군 남면 선구리 nan \n",
      "충남 충청남도 태안군 남면 임포리 nan \n",
      "충남 충청남도 태안군 남면 평산리 nan \n",
      "충남 충청남도 태안군 남면 덕월리 nan \n",
      "충남 충청남도 태안군 남면 상가리 nan \n",
      "충남 충청남도 태안군 남면 죽전리 nan \n",
      "충남 충청남도 태안군 남면 관천리 nan \n",
      "충남 충청남도 태안군 남면 박암리 nan \n",
      "충남 충청남도 태안군 남면 가정리 nan \n",
      "충남 충청남도 태안군 남면 발산리 nan \n",
      "충남 충청남도 태안군 남면 후동리 nan \n",
      "충남 충청남도 태안군 남면 추곡리 nan \n",
      "충남 충청남도 태안군 남면 한덕리 nan \n",
      "충남 충청남도 태안군 남면 양덕원리 nan \n",
      "충남 충청남도 태안군 남면 유목정리 nan \n",
      "충남 충청남도 태안군 남면 신대리 nan \n",
      "충남 충청남도 태안군 남면 시동리 nan \n",
      "충남 충청남도 태안군 남면 유치리 nan \n",
      "충남 충청남도 태안군 남면 월천리 nan \n",
      "충남 충청남도 태안군 남면 명동리 nan \n",
      "충남 충청남도 태안군 남면 제곡리 nan \n",
      "충남 충청남도 태안군 남면 용수리 nan \n",
      "충남 충청남도 태안군 남면 남노일리 nan \n",
      "충남 충청남도 태안군 남면 화전리 nan \n",
      "충남 충청남도 태안군 남면 연당리 nan \n",
      "충남 충청남도 태안군 남면 창원리 nan \n",
      "충남 충청남도 태안군 남면 토교리 nan \n",
      "충남 충청남도 태안군 남면 광천리 nan \n",
      "충남 충청남도 태안군 남면 조전리 nan \n",
      "충남 충청남도 태안군 남면 북쌍리 nan \n",
      "충남 충청남도 태안군 남면 문곡리 nan \n",
      "충남 충청남도 태안군 남면 무릉리 nan \n",
      "충남 충청남도 태안군 남면 유평리 nan \n",
      "충남 충청남도 태안군 남면 낙동리 nan \n",
      "충남 충청남도 태안군 남면 광덕리 nan \n",
      "충남 충청남도 태안군 남면 신남리 nan \n",
      "충남 충청남도 태안군 남면 신풍리 nan \n",
      "충남 충청남도 태안군 남면 어론리 nan \n",
      "충남 충청남도 태안군 남면 부평리 nan \n",
      "충남 충청남도 태안군 남면 갑둔리 nan \n",
      "충남 충청남도 태안군 남면 정자리 nan \n",
      "충남 충청남도 태안군 남면 남전리 nan \n",
      "충남 충청남도 태안군 남면 관대리 nan \n",
      "충남 충청남도 태안군 남면 신월리 nan \n",
      "충남 충청남도 태안군 남면 상수내리 nan \n",
      "충남 충청남도 태안군 남면 하수내리 nan \n",
      "충남 충청남도 태안군 남면 수산리 nan \n",
      "충남 충청남도 태안군 남면 소치리 nan \n",
      "충남 충청남도 태안군 근흥면 두야리 nan \n",
      "충남 충청남도 태안군 근흥면 수룡리 nan \n",
      "충남 충청남도 태안군 근흥면 마금리 nan \n",
      "충남 충청남도 태안군 근흥면 안기리 nan \n",
      "충남 충청남도 태안군 근흥면 용신리 nan \n",
      "충남 충청남도 태안군 근흥면 도황리 nan \n",
      "충남 충청남도 태안군 근흥면 정죽리 nan \n",
      "충남 충청남도 태안군 근흥면 신진도리 nan \n",
      "충남 충청남도 태안군 근흥면 가의도리 nan \n",
      "충남 충청남도 태안군 소원면 시목리 nan \n",
      "충남 충청남도 태안군 소원면 법산리 nan \n",
      "충남 충청남도 태안군 소원면 신덕리 nan \n",
      "충남 충청남도 태안군 소원면 영전리 nan \n",
      "충남 충청남도 태안군 소원면 소근리 nan \n",
      "충남 충청남도 태안군 소원면 의항리 nan \n",
      "충남 충청남도 태안군 소원면 모항리 nan \n",
      "충남 충청남도 태안군 소원면 파도리 nan \n",
      "충남 충청남도 태안군 소원면 송현리 nan \n",
      "충남 충청남도 태안군 원북면 반계리 nan \n",
      "충남 충청남도 태안군 원북면 이곡리 nan \n",
      "충남 충청남도 태안군 원북면 황촌리 nan \n",
      "충남 충청남도 태안군 원북면 방갈리 nan \n",
      "충남 충청남도 태안군 원북면 신두리 nan \n",
      "충남 충청남도 태안군 원북면 동해리 nan \n",
      "충남 충청남도 태안군 원북면 대기리 nan \n",
      "충남 충청남도 태안군 원북면 장대리 nan \n",
      "충남 충청남도 태안군 원북면 청산리 nan \n",
      "충남 충청남도 태안군 원북면 양산리 nan \n",
      "충남 충청남도 태안군 원북면 마산리 nan \n",
      "충남 충청남도 태안군 이원면 건진리 nan \n",
      "충남 충청남도 태안군 이원면 장찬리 nan \n",
      "충남 충청남도 태안군 이원면 강청리 nan \n",
      "충남 충청남도 태안군 이원면 윤정리 nan \n",
      "충남 충청남도 태안군 이원면 의평리 nan \n",
      "충남 충청남도 태안군 이원면 개심리 nan \n",
      "충남 충청남도 태안군 이원면 평계리 nan \n",
      "충남 충청남도 태안군 이원면 수묵리 nan \n",
      "충남 충청남도 태안군 이원면 지정리 nan \n",
      "충남 충청남도 태안군 이원면 미동리 nan \n",
      "충남 충청남도 태안군 이원면 이원리 nan \n",
      "충남 충청남도 태안군 이원면 원동리 nan \n",
      "충남 충청남도 태안군 이원면 백지리 nan \n",
      "충남 충청남도 태안군 이원면 지탄리 nan \n",
      "충남 충청남도 태안군 이원면 용방리 nan \n",
      "충남 충청남도 태안군 이원면 내리 nan \n",
      "충남 충청남도 태안군 이원면 관리 nan \n",
      "충남 충청남도 태안군 이원면 당산리 nan \n",
      "충남 충청남도 태안군 이원면 포지리 nan \n",
      "충남 충청남도 태안군 이원면 사창리 nan \n"
     ]
    }
   ],
   "source": [
    "for index, row in df_test.iterrows():\n",
    "    for column, value in row.items():\n",
    "        print(value, end=' ')\n",
    "    print()"
   ]
  },
  {
   "cell_type": "code",
   "execution_count": 196,
   "id": "ff795eb4-f8b9-44ce-9996-f868510be484",
   "metadata": {
    "execution": {
     "iopub.execute_input": "2024-05-24T06:51:13.369961Z",
     "iopub.status.busy": "2024-05-24T06:51:13.368473Z",
     "iopub.status.idle": "2024-05-24T06:51:13.446807Z",
     "shell.execute_reply": "2024-05-24T06:51:13.446489Z",
     "shell.execute_reply.started": "2024-05-24T06:51:13.369779Z"
    }
   },
   "outputs": [
    {
     "name": "stdout",
     "output_type": "stream",
     "text": [
      "태안 태안읍\n"
     ]
    }
   ],
   "source": [
    "result = (df_brief.iloc[0].values)\n",
    "print(result[-1], result[0])"
   ]
  },
  {
   "cell_type": "markdown",
   "id": "fa8ab64e-36b0-431d-8093-4f74b867e14e",
   "metadata": {
    "jp-MarkdownHeadingCollapsed": true
   },
   "source": [
    "#### test"
   ]
  },
  {
   "cell_type": "code",
   "execution_count": 197,
   "id": "f90067ee-9ce9-4001-baf8-ba5d6df576b5",
   "metadata": {
    "execution": {
     "iopub.execute_input": "2024-05-24T06:55:33.287179Z",
     "iopub.status.busy": "2024-05-24T06:55:33.284060Z",
     "iopub.status.idle": "2024-05-24T06:55:34.099509Z",
     "shell.execute_reply": "2024-05-24T06:55:34.099050Z",
     "shell.execute_reply.started": "2024-05-24T06:55:33.287132Z"
    }
   },
   "outputs": [],
   "source": [
    "index = 87\n",
    "text_iter = iter(zip(df_text.index[index:], df_text.loc[index:, 'content']))"
   ]
  },
  {
   "cell_type": "code",
   "execution_count": 267,
   "id": "c9e1a96b-5809-4b64-b899-4f61f7c998a6",
   "metadata": {
    "execution": {
     "iopub.execute_input": "2024-05-24T07:16:19.388852Z",
     "iopub.status.busy": "2024-05-24T07:16:19.387174Z",
     "iopub.status.idle": "2024-05-24T07:16:19.440873Z",
     "shell.execute_reply": "2024-05-24T07:16:19.439888Z",
     "shell.execute_reply.started": "2024-05-24T07:16:19.388757Z"
    },
    "scrolled": true
   },
   "outputs": [],
   "source": [
    "index, text = next(text_iter)\n",
    "text = sa.clean_text(text)"
   ]
  },
  {
   "cell_type": "code",
   "execution_count": 268,
   "id": "77e0f09c-4f74-496f-97b8-af3ab8bf8da4",
   "metadata": {
    "execution": {
     "iopub.execute_input": "2024-05-24T07:16:20.628726Z",
     "iopub.status.busy": "2024-05-24T07:16:20.628303Z",
     "iopub.status.idle": "2024-05-24T07:16:22.804865Z",
     "shell.execute_reply": "2024-05-24T07:16:22.804367Z",
     "shell.execute_reply.started": "2024-05-24T07:16:20.628704Z"
    }
   },
   "outputs": [
    {
     "name": "stdout",
     "output_type": "stream",
     "text": [
      "남구 삼산동\n"
     ]
    }
   ],
   "source": [
    "self = CheckAddressLevels(df_address=df_addr, text=text)\n",
    "result = self.process()\n",
    "print(result)"
   ]
  },
  {
   "cell_type": "code",
   "execution_count": 269,
   "id": "7996ce3a-8792-4513-95b4-ce2c4f258db5",
   "metadata": {
    "execution": {
     "iopub.execute_input": "2024-05-24T07:16:22.811042Z",
     "iopub.status.busy": "2024-05-24T07:16:22.810901Z",
     "iopub.status.idle": "2024-05-24T07:16:22.851385Z",
     "shell.execute_reply": "2024-05-24T07:16:22.850037Z",
     "shell.execute_reply.started": "2024-05-24T07:16:22.811028Z"
    }
   },
   "outputs": [
    {
     "data": {
      "text/html": [
       "<div>\n",
       "<style scoped>\n",
       "    .dataframe tbody tr th:only-of-type {\n",
       "        vertical-align: middle;\n",
       "    }\n",
       "\n",
       "    .dataframe tbody tr th {\n",
       "        vertical-align: top;\n",
       "    }\n",
       "\n",
       "    .dataframe thead th {\n",
       "        text-align: right;\n",
       "    }\n",
       "</style>\n",
       "<table border=\"1\" class=\"dataframe\">\n",
       "  <thead>\n",
       "    <tr style=\"text-align: right;\">\n",
       "      <th></th>\n",
       "      <th>original_name</th>\n",
       "      <th>found_name</th>\n",
       "      <th>level</th>\n",
       "      <th>count</th>\n",
       "      <th>upper</th>\n",
       "    </tr>\n",
       "  </thead>\n",
       "  <tbody>\n",
       "    <tr>\n",
       "      <th>2</th>\n",
       "      <td>삼산동</td>\n",
       "      <td>삼산동</td>\n",
       "      <td>3</td>\n",
       "      <td>1</td>\n",
       "      <td>남구</td>\n",
       "    </tr>\n",
       "    <tr>\n",
       "      <th>1</th>\n",
       "      <td>남구</td>\n",
       "      <td>남구</td>\n",
       "      <td>2</td>\n",
       "      <td>1</td>\n",
       "      <td></td>\n",
       "    </tr>\n",
       "    <tr>\n",
       "      <th>3</th>\n",
       "      <td>울산</td>\n",
       "      <td>울산</td>\n",
       "      <td>0</td>\n",
       "      <td>3</td>\n",
       "      <td></td>\n",
       "    </tr>\n",
       "  </tbody>\n",
       "</table>\n",
       "</div>"
      ],
      "text/plain": [
       "  original_name found_name level count upper\n",
       "2           삼산동        삼산동     3     1    남구\n",
       "1            남구         남구     2     1      \n",
       "3            울산         울산     0     3      "
      ]
     },
     "execution_count": 269,
     "metadata": {},
     "output_type": "execute_result"
    }
   ],
   "source": [
    "df_brief = self.df_brief.copy()\n",
    "df_brief"
   ]
  },
  {
   "cell_type": "markdown",
   "id": "e8ade1d6-af10-455d-82f8-1327d7846fe3",
   "metadata": {
    "jp-MarkdownHeadingCollapsed": true
   },
   "source": [
    "#### issue: making upper levels"
   ]
  },
  {
   "cell_type": "code",
   "execution_count": 270,
   "id": "fa390cd7-4617-4e30-9f73-a51339409e2a",
   "metadata": {
    "execution": {
     "iopub.execute_input": "2024-05-24T07:16:30.905652Z",
     "iopub.status.busy": "2024-05-24T07:16:30.903245Z",
     "iopub.status.idle": "2024-05-24T07:16:30.995903Z",
     "shell.execute_reply": "2024-05-24T07:16:30.995564Z",
     "shell.execute_reply.started": "2024-05-24T07:16:30.905586Z"
    }
   },
   "outputs": [
    {
     "name": "stdout",
     "output_type": "stream",
     "text": [
      "남구 삼산동\n",
      "['남구', '삼산동']\n",
      "경찰에 따르면 A씨는 지난 22일 오전 11시30분께 울산시 🔺남구🔻 삼산동 농수산물도매시장 인근에서 나체로 도로를 활보하고, 주행 중인 차량에 올라타 주먹으로 앞 유리를 가격하는가 하면 차량 지붕 위에 올라가 수차례 뛰어 운전자를 위협하고 차량을 파손했다.\n",
      "경찰에 따르면 A씨는 지난 22일 오전 11시30분께 울산시 남구 🔺삼산동🔻 농수산물도매시장 인근에서 나체로 도로를 활보하고, 주행 중인 차량에 올라타 주먹으로 앞 유리를 가격하는가 하면 차량 지붕 위에 올라가 수차례 뛰어 운전자를 위협하고 차량을 파손했다.\n"
     ]
    }
   ],
   "source": [
    "# result = self.get_top_result()\n",
    "# print(result)\n",
    "\n",
    "items = result.split(' ')\n",
    "print(items)\n",
    "\n",
    "if items:\n",
    "    for item in items:\n",
    "        extr = sa.extract_sentences_with_keyword(keyword=item, text=text)\n",
    "        print(' '.join(extr))"
   ]
  },
  {
   "cell_type": "code",
   "execution_count": 271,
   "id": "fadb7528-c5a8-47de-9b58-5eb792acd70d",
   "metadata": {
    "execution": {
     "iopub.execute_input": "2024-05-24T07:17:39.039376Z",
     "iopub.status.busy": "2024-05-24T07:17:39.037436Z",
     "iopub.status.idle": "2024-05-24T07:17:39.194880Z",
     "shell.execute_reply": "2024-05-24T07:17:39.182223Z",
     "shell.execute_reply.started": "2024-05-24T07:17:39.039320Z"
    }
   },
   "outputs": [
    {
     "name": "stderr",
     "output_type": "stream",
     "text": [
      "ic| item: '삼산동'\n",
      "ic| item: '남구'\n",
      "ic| item: '울산'\n"
     ]
    },
    {
     "name": "stdout",
     "output_type": "stream",
     "text": [
      "\n",
      "index: 100\n",
      "\n",
      "대낮 도로에서 나체로 난동을 부린 30대 남성이 경찰에 붙잡혀 병원 입원 조치 됐다. /사진=유튜브 영상 캡처\n",
      "대낮 나체로 도로를 활보하다 승용차를 가격하는 등 폭력적인 모습을 보인 남성이 경찰에 붙잡혀 입원 조치 됐다. 🔺울산🔻 남부경찰서는 나체로 도심 도로를 활보한 30대 남성 A 씨를 공연음란등의 혐의로 불구속 입건해 조사하고 있다고 지난 23일 밝혔다. 경찰에 따르면 A씨는 지난 22일 오전 11시30분께 🔺울산🔻시 🔺남구🔻 🔺삼산동🔻 농수산물도매시장 인근에서 나체로 도로를 활보하고, 주행 중인 차량에 올라타 주먹으로 앞 유리를 가격하는가 하면 차량 지붕 위에 올라가 수차례 뛰어 운전자를 위협하고 차량을 파손했다. 조사결과 피해차량 운전자는 여성으로 A 씨와는 모르는 사이로 드러났으며, 신고를 받고 현장에 출동한 경찰은 A 씨를 붙잡아 병원에 응급 입원시켰다. A 씨가 회복되는 대로 자세한 경위를 조사할 방침이다. 인터넷 커뮤니티와 SNS 등에는 '🔺울산🔻 터미네이터'라는 제목으로 A 씨가 나체로 활보하는 모습이 담긴 영상이 퍼지고 있는 가운데 경찰은 방송통신심의위원회에 해당 영상을 삭제해 달라고 요청할 예정이다. 이보배 한경닷컴 객원기자 newsinfo@hankyung.com\n"
     ]
    }
   ],
   "source": [
    "text_mark = text\n",
    "for item in df_brief['found_name'].values:\n",
    "    ic(item)\n",
    "    text_mark = sa.re_sub(item, text_mark)\n",
    "\n",
    "print(f\"\\nindex: {index}\\n\")\n",
    "print(text_mark)"
   ]
  },
  {
   "cell_type": "code",
   "execution_count": 272,
   "id": "2da3b9b1-a469-4ed9-956a-bd20c0e20709",
   "metadata": {
    "execution": {
     "iopub.execute_input": "2024-05-24T07:21:01.729616Z",
     "iopub.status.busy": "2024-05-24T07:21:01.714536Z",
     "iopub.status.idle": "2024-05-24T07:21:02.505567Z",
     "shell.execute_reply": "2024-05-24T07:21:02.504530Z",
     "shell.execute_reply.started": "2024-05-24T07:21:01.729441Z"
    }
   },
   "outputs": [],
   "source": [
    "df_test = self.filter_keyword('삼산동')"
   ]
  },
  {
   "cell_type": "code",
   "execution_count": 273,
   "id": "e2d320d6-bf9b-446d-b3e8-ddc948a102c4",
   "metadata": {
    "execution": {
     "iopub.execute_input": "2024-05-24T07:21:03.651129Z",
     "iopub.status.busy": "2024-05-24T07:21:03.650113Z",
     "iopub.status.idle": "2024-05-24T07:21:03.730878Z",
     "shell.execute_reply": "2024-05-24T07:21:03.730218Z",
     "shell.execute_reply.started": "2024-05-24T07:21:03.651087Z"
    }
   },
   "outputs": [
    {
     "name": "stdout",
     "output_type": "stream",
     "text": [
      "광주 광주광역시 남구 삼산동 None nan \n",
      "전북 전북특별자치도 정읍시 삼산동 None nan \n",
      "인천 인천광역시 부평구 삼산동 None nan \n",
      "부산 부산광역시 남구 삼산동 None nan \n",
      "경북 경상북도 안동시 삼산동 None nan \n",
      "대구 대구광역시 남구 삼산동 None nan \n",
      "울산 울산광역시 남구 삼산동 None nan \n"
     ]
    }
   ],
   "source": [
    "for index, row in df_test.iterrows():\n",
    "    for column, value in row.items():\n",
    "        print(value, end=' ')\n",
    "    print()"
   ]
  },
  {
   "cell_type": "code",
   "execution_count": 274,
   "id": "2e2334df-d35e-40b2-8f8d-64cd2e4df169",
   "metadata": {
    "execution": {
     "iopub.execute_input": "2024-05-24T07:23:45.658523Z",
     "iopub.status.busy": "2024-05-24T07:23:45.656239Z",
     "iopub.status.idle": "2024-05-24T07:23:45.817328Z",
     "shell.execute_reply": "2024-05-24T07:23:45.815630Z",
     "shell.execute_reply.started": "2024-05-24T07:23:45.658492Z"
    }
   },
   "outputs": [
    {
     "data": {
      "text/html": [
       "<div>\n",
       "<style scoped>\n",
       "    .dataframe tbody tr th:only-of-type {\n",
       "        vertical-align: middle;\n",
       "    }\n",
       "\n",
       "    .dataframe tbody tr th {\n",
       "        vertical-align: top;\n",
       "    }\n",
       "\n",
       "    .dataframe thead th {\n",
       "        text-align: right;\n",
       "    }\n",
       "</style>\n",
       "<table border=\"1\" class=\"dataframe\">\n",
       "  <thead>\n",
       "    <tr style=\"text-align: right;\">\n",
       "      <th></th>\n",
       "      <th>lv0</th>\n",
       "      <th>lv1</th>\n",
       "      <th>lv2</th>\n",
       "      <th>lv3</th>\n",
       "      <th>lv4</th>\n",
       "      <th>lv5</th>\n",
       "    </tr>\n",
       "  </thead>\n",
       "  <tbody>\n",
       "    <tr>\n",
       "      <th>3128</th>\n",
       "      <td>광주</td>\n",
       "      <td>광주광역시</td>\n",
       "      <td>남구</td>\n",
       "      <td>삼산동</td>\n",
       "      <td>None</td>\n",
       "      <td>NaN</td>\n",
       "    </tr>\n",
       "    <tr>\n",
       "      <th>8959</th>\n",
       "      <td>전북</td>\n",
       "      <td>전북특별자치도</td>\n",
       "      <td>정읍시</td>\n",
       "      <td>삼산동</td>\n",
       "      <td>None</td>\n",
       "      <td>NaN</td>\n",
       "    </tr>\n",
       "    <tr>\n",
       "      <th>11316</th>\n",
       "      <td>인천</td>\n",
       "      <td>인천광역시</td>\n",
       "      <td>부평구</td>\n",
       "      <td>삼산동</td>\n",
       "      <td>None</td>\n",
       "      <td>NaN</td>\n",
       "    </tr>\n",
       "    <tr>\n",
       "      <th>15910</th>\n",
       "      <td>부산</td>\n",
       "      <td>부산광역시</td>\n",
       "      <td>남구</td>\n",
       "      <td>삼산동</td>\n",
       "      <td>None</td>\n",
       "      <td>NaN</td>\n",
       "    </tr>\n",
       "    <tr>\n",
       "      <th>17080</th>\n",
       "      <td>경북</td>\n",
       "      <td>경상북도</td>\n",
       "      <td>안동시</td>\n",
       "      <td>삼산동</td>\n",
       "      <td>None</td>\n",
       "      <td>NaN</td>\n",
       "    </tr>\n",
       "    <tr>\n",
       "      <th>23342</th>\n",
       "      <td>대구</td>\n",
       "      <td>대구광역시</td>\n",
       "      <td>남구</td>\n",
       "      <td>삼산동</td>\n",
       "      <td>None</td>\n",
       "      <td>NaN</td>\n",
       "    </tr>\n",
       "    <tr>\n",
       "      <th>24009</th>\n",
       "      <td>울산</td>\n",
       "      <td>울산광역시</td>\n",
       "      <td>남구</td>\n",
       "      <td>삼산동</td>\n",
       "      <td>None</td>\n",
       "      <td>NaN</td>\n",
       "    </tr>\n",
       "  </tbody>\n",
       "</table>\n",
       "</div>"
      ],
      "text/plain": [
       "      lv0      lv1  lv2  lv3   lv4  lv5\n",
       "3128   광주    광주광역시   남구  삼산동  None  NaN\n",
       "8959   전북  전북특별자치도  정읍시  삼산동  None  NaN\n",
       "11316  인천    인천광역시  부평구  삼산동  None  NaN\n",
       "15910  부산    부산광역시   남구  삼산동  None  NaN\n",
       "17080  경북     경상북도  안동시  삼산동  None  NaN\n",
       "23342  대구    대구광역시   남구  삼산동  None  NaN\n",
       "24009  울산    울산광역시   남구  삼산동  None  NaN"
      ]
     },
     "execution_count": 274,
     "metadata": {},
     "output_type": "execute_result"
    }
   ],
   "source": [
    "df_test"
   ]
  },
  {
   "cell_type": "code",
   "execution_count": 302,
   "id": "4335e8bf-4bac-4891-942e-ff52decfaa73",
   "metadata": {
    "execution": {
     "iopub.execute_input": "2024-05-24T11:35:53.632278Z",
     "iopub.status.busy": "2024-05-24T11:35:53.630984Z",
     "iopub.status.idle": "2024-05-24T11:35:56.800803Z",
     "shell.execute_reply": "2024-05-24T11:35:56.745979Z",
     "shell.execute_reply.started": "2024-05-24T11:35:53.632230Z"
    },
    "scrolled": true
   },
   "outputs": [
    {
     "name": "stderr",
     "output_type": "stream",
     "text": [
      "ic| upper_levels: '충남,충청남도,천안시 서북구,입장면'\n",
      "ic| upper_levels: '광주,광주광역시'\n",
      "ic| upper_levels: '광주,광주광역시,남구'\n",
      "ic| upper_levels: ''\n"
     ]
    }
   ],
   "source": [
    "self = CheckAddressLevels(df_address=df_addr, text=text)\n",
    "self.process()"
   ]
  },
  {
   "cell_type": "code",
   "execution_count": 303,
   "id": "21199205-22ba-4f23-b292-df7ccdd6d920",
   "metadata": {
    "execution": {
     "iopub.execute_input": "2024-05-24T11:35:59.106552Z",
     "iopub.status.busy": "2024-05-24T11:35:59.103615Z",
     "iopub.status.idle": "2024-05-24T11:35:59.159492Z",
     "shell.execute_reply": "2024-05-24T11:35:59.159143Z",
     "shell.execute_reply.started": "2024-05-24T11:35:59.106499Z"
    }
   },
   "outputs": [
    {
     "data": {
      "text/html": [
       "<div>\n",
       "<style scoped>\n",
       "    .dataframe tbody tr th:only-of-type {\n",
       "        vertical-align: middle;\n",
       "    }\n",
       "\n",
       "    .dataframe tbody tr th {\n",
       "        vertical-align: top;\n",
       "    }\n",
       "\n",
       "    .dataframe thead th {\n",
       "        text-align: right;\n",
       "    }\n",
       "</style>\n",
       "<table border=\"1\" class=\"dataframe\">\n",
       "  <thead>\n",
       "    <tr style=\"text-align: right;\">\n",
       "      <th></th>\n",
       "      <th>original_name</th>\n",
       "      <th>found_name</th>\n",
       "      <th>level</th>\n",
       "      <th>count</th>\n",
       "      <th>upper</th>\n",
       "    </tr>\n",
       "  </thead>\n",
       "  <tbody>\n",
       "    <tr>\n",
       "      <th>0</th>\n",
       "      <td>유리</td>\n",
       "      <td>유리</td>\n",
       "      <td>4</td>\n",
       "      <td>1</td>\n",
       "      <td>입장면,감천면,경기도,청주시 청원구,고령군,경북,충청북도,예천군,창녕군,경상북도,충...</td>\n",
       "    </tr>\n",
       "    <tr>\n",
       "      <th>1</th>\n",
       "      <td>남구</td>\n",
       "      <td>남구</td>\n",
       "      <td>2</td>\n",
       "      <td>1</td>\n",
       "      <td>부산,대구,광주광역시,광주,대구광역시,부산광역시,울산광역시,울산</td>\n",
       "    </tr>\n",
       "    <tr>\n",
       "      <th>2</th>\n",
       "      <td>삼산동</td>\n",
       "      <td>삼산동</td>\n",
       "      <td>3</td>\n",
       "      <td>1</td>\n",
       "      <td>부산,대구,경북,울산,광주광역시,광주,전북특별자치도,전북,남구,인천,대구광역시,경상...</td>\n",
       "    </tr>\n",
       "    <tr>\n",
       "      <th>3</th>\n",
       "      <td>울산</td>\n",
       "      <td>울산</td>\n",
       "      <td>0</td>\n",
       "      <td>3</td>\n",
       "      <td></td>\n",
       "    </tr>\n",
       "  </tbody>\n",
       "</table>\n",
       "</div>"
      ],
      "text/plain": [
       "  original_name found_name level count  \\\n",
       "0            유리         유리     4     1   \n",
       "1            남구         남구     2     1   \n",
       "2           삼산동        삼산동     3     1   \n",
       "3            울산         울산     0     3   \n",
       "\n",
       "                                               upper  \n",
       "0  입장면,감천면,경기도,청주시 청원구,고령군,경북,충청북도,예천군,창녕군,경상북도,충...  \n",
       "1                부산,대구,광주광역시,광주,대구광역시,부산광역시,울산광역시,울산  \n",
       "2  부산,대구,경북,울산,광주광역시,광주,전북특별자치도,전북,남구,인천,대구광역시,경상...  \n",
       "3                                                     "
      ]
     },
     "execution_count": 303,
     "metadata": {},
     "output_type": "execute_result"
    }
   ],
   "source": [
    "df_brief = self.df_brief.copy()\n",
    "df_brief"
   ]
  },
  {
   "cell_type": "code",
   "execution_count": 304,
   "id": "bceb5d6c-5b31-4db4-af34-2b1c98f74910",
   "metadata": {
    "execution": {
     "iopub.execute_input": "2024-05-24T11:36:09.183050Z",
     "iopub.status.busy": "2024-05-24T11:36:09.177527Z",
     "iopub.status.idle": "2024-05-24T11:36:09.230987Z",
     "shell.execute_reply": "2024-05-24T11:36:09.230521Z",
     "shell.execute_reply.started": "2024-05-24T11:36:09.182937Z"
    }
   },
   "outputs": [
    {
     "data": {
      "text/plain": [
       "{'남구', '삼산동', '울산', '유리'}"
      ]
     },
     "execution_count": 304,
     "metadata": {},
     "output_type": "execute_result"
    }
   ],
   "source": [
    "self.address_set"
   ]
  },
  {
   "cell_type": "code",
   "execution_count": 278,
   "id": "9d3abe1a-441d-4b27-99b4-8af235c3445a",
   "metadata": {
    "execution": {
     "iopub.execute_input": "2024-05-24T07:38:13.653975Z",
     "iopub.status.busy": "2024-05-24T07:38:13.649040Z",
     "iopub.status.idle": "2024-05-24T07:38:13.837711Z",
     "shell.execute_reply": "2024-05-24T07:38:13.837427Z",
     "shell.execute_reply.started": "2024-05-24T07:38:13.653948Z"
    }
   },
   "outputs": [
    {
     "data": {
      "text/html": [
       "<div>\n",
       "<style scoped>\n",
       "    .dataframe tbody tr th:only-of-type {\n",
       "        vertical-align: middle;\n",
       "    }\n",
       "\n",
       "    .dataframe tbody tr th {\n",
       "        vertical-align: top;\n",
       "    }\n",
       "\n",
       "    .dataframe thead th {\n",
       "        text-align: right;\n",
       "    }\n",
       "</style>\n",
       "<table border=\"1\" class=\"dataframe\">\n",
       "  <thead>\n",
       "    <tr style=\"text-align: right;\">\n",
       "      <th></th>\n",
       "      <th>lv0</th>\n",
       "      <th>lv1</th>\n",
       "      <th>lv2</th>\n",
       "      <th>lv3</th>\n",
       "      <th>lv4</th>\n",
       "      <th>lv5</th>\n",
       "      <th>count</th>\n",
       "      <th>original_name</th>\n",
       "      <th>found_name</th>\n",
       "      <th>found_lv</th>\n",
       "    </tr>\n",
       "  </thead>\n",
       "  <tbody>\n",
       "    <tr>\n",
       "      <th>3128</th>\n",
       "      <td>광주</td>\n",
       "      <td>광주광역시</td>\n",
       "      <td>남구</td>\n",
       "      <td>삼산동</td>\n",
       "      <td>None</td>\n",
       "      <td>NaN</td>\n",
       "      <td>2</td>\n",
       "      <td>삼산동</td>\n",
       "      <td>삼산동</td>\n",
       "      <td>3</td>\n",
       "    </tr>\n",
       "    <tr>\n",
       "      <th>8959</th>\n",
       "      <td>전북</td>\n",
       "      <td>전북특별자치도</td>\n",
       "      <td>정읍시</td>\n",
       "      <td>삼산동</td>\n",
       "      <td>None</td>\n",
       "      <td>NaN</td>\n",
       "      <td>1</td>\n",
       "      <td>삼산동</td>\n",
       "      <td>삼산동</td>\n",
       "      <td>3</td>\n",
       "    </tr>\n",
       "    <tr>\n",
       "      <th>11316</th>\n",
       "      <td>인천</td>\n",
       "      <td>인천광역시</td>\n",
       "      <td>부평구</td>\n",
       "      <td>삼산동</td>\n",
       "      <td>None</td>\n",
       "      <td>NaN</td>\n",
       "      <td>1</td>\n",
       "      <td>삼산동</td>\n",
       "      <td>삼산동</td>\n",
       "      <td>3</td>\n",
       "    </tr>\n",
       "    <tr>\n",
       "      <th>15910</th>\n",
       "      <td>부산</td>\n",
       "      <td>부산광역시</td>\n",
       "      <td>남구</td>\n",
       "      <td>삼산동</td>\n",
       "      <td>None</td>\n",
       "      <td>NaN</td>\n",
       "      <td>2</td>\n",
       "      <td>삼산동</td>\n",
       "      <td>삼산동</td>\n",
       "      <td>3</td>\n",
       "    </tr>\n",
       "    <tr>\n",
       "      <th>17080</th>\n",
       "      <td>경북</td>\n",
       "      <td>경상북도</td>\n",
       "      <td>안동시</td>\n",
       "      <td>삼산동</td>\n",
       "      <td>None</td>\n",
       "      <td>NaN</td>\n",
       "      <td>1</td>\n",
       "      <td>삼산동</td>\n",
       "      <td>삼산동</td>\n",
       "      <td>3</td>\n",
       "    </tr>\n",
       "    <tr>\n",
       "      <th>23342</th>\n",
       "      <td>대구</td>\n",
       "      <td>대구광역시</td>\n",
       "      <td>남구</td>\n",
       "      <td>삼산동</td>\n",
       "      <td>None</td>\n",
       "      <td>NaN</td>\n",
       "      <td>2</td>\n",
       "      <td>삼산동</td>\n",
       "      <td>삼산동</td>\n",
       "      <td>3</td>\n",
       "    </tr>\n",
       "    <tr>\n",
       "      <th>24009</th>\n",
       "      <td>울산</td>\n",
       "      <td>울산광역시</td>\n",
       "      <td>남구</td>\n",
       "      <td>삼산동</td>\n",
       "      <td>None</td>\n",
       "      <td>NaN</td>\n",
       "      <td>5</td>\n",
       "      <td>삼산동</td>\n",
       "      <td>삼산동</td>\n",
       "      <td>3</td>\n",
       "    </tr>\n",
       "  </tbody>\n",
       "</table>\n",
       "</div>"
      ],
      "text/plain": [
       "      lv0      lv1  lv2  lv3   lv4  lv5  count original_name found_name  \\\n",
       "3128   광주    광주광역시   남구  삼산동  None  NaN      2           삼산동        삼산동   \n",
       "8959   전북  전북특별자치도  정읍시  삼산동  None  NaN      1           삼산동        삼산동   \n",
       "11316  인천    인천광역시  부평구  삼산동  None  NaN      1           삼산동        삼산동   \n",
       "15910  부산    부산광역시   남구  삼산동  None  NaN      2           삼산동        삼산동   \n",
       "17080  경북     경상북도  안동시  삼산동  None  NaN      1           삼산동        삼산동   \n",
       "23342  대구    대구광역시   남구  삼산동  None  NaN      2           삼산동        삼산동   \n",
       "24009  울산    울산광역시   남구  삼산동  None  NaN      5           삼산동        삼산동   \n",
       "\n",
       "      found_lv  \n",
       "3128         3  \n",
       "8959         3  \n",
       "11316        3  \n",
       "15910        3  \n",
       "17080        3  \n",
       "23342        3  \n",
       "24009        3  "
      ]
     },
     "execution_count": 278,
     "metadata": {},
     "output_type": "execute_result"
    }
   ],
   "source": [
    "self.df_filtered[self.df_filtered['lv3'] == '삼산동']"
   ]
  },
  {
   "cell_type": "code",
   "execution_count": 305,
   "id": "aa235d24-deae-4544-987a-d4bf0b4e0a05",
   "metadata": {
    "execution": {
     "iopub.execute_input": "2024-05-24T11:38:42.746500Z",
     "iopub.status.busy": "2024-05-24T11:38:42.745263Z",
     "iopub.status.idle": "2024-05-24T11:38:42.832246Z",
     "shell.execute_reply": "2024-05-24T11:38:42.831665Z",
     "shell.execute_reply.started": "2024-05-24T11:38:42.746447Z"
    }
   },
   "outputs": [],
   "source": [
    "self.check_upper_level()"
   ]
  },
  {
   "cell_type": "code",
   "execution_count": 306,
   "id": "d599d7be-6cb1-47d0-a11d-0f5653098ff6",
   "metadata": {
    "execution": {
     "iopub.execute_input": "2024-05-24T11:38:52.687839Z",
     "iopub.status.busy": "2024-05-24T11:38:52.686421Z",
     "iopub.status.idle": "2024-05-24T11:38:52.750258Z",
     "shell.execute_reply": "2024-05-24T11:38:52.749921Z",
     "shell.execute_reply.started": "2024-05-24T11:38:52.687790Z"
    }
   },
   "outputs": [
    {
     "data": {
      "text/html": [
       "<div>\n",
       "<style scoped>\n",
       "    .dataframe tbody tr th:only-of-type {\n",
       "        vertical-align: middle;\n",
       "    }\n",
       "\n",
       "    .dataframe tbody tr th {\n",
       "        vertical-align: top;\n",
       "    }\n",
       "\n",
       "    .dataframe thead th {\n",
       "        text-align: right;\n",
       "    }\n",
       "</style>\n",
       "<table border=\"1\" class=\"dataframe\">\n",
       "  <thead>\n",
       "    <tr style=\"text-align: right;\">\n",
       "      <th></th>\n",
       "      <th>original_name</th>\n",
       "      <th>found_name</th>\n",
       "      <th>level</th>\n",
       "      <th>count</th>\n",
       "      <th>upper</th>\n",
       "    </tr>\n",
       "  </thead>\n",
       "  <tbody>\n",
       "    <tr>\n",
       "      <th>2</th>\n",
       "      <td>삼산동</td>\n",
       "      <td>삼산동</td>\n",
       "      <td>3</td>\n",
       "      <td>1</td>\n",
       "      <td>울산,남구</td>\n",
       "    </tr>\n",
       "    <tr>\n",
       "      <th>1</th>\n",
       "      <td>남구</td>\n",
       "      <td>남구</td>\n",
       "      <td>2</td>\n",
       "      <td>1</td>\n",
       "      <td>울산</td>\n",
       "    </tr>\n",
       "    <tr>\n",
       "      <th>3</th>\n",
       "      <td>울산</td>\n",
       "      <td>울산</td>\n",
       "      <td>0</td>\n",
       "      <td>3</td>\n",
       "      <td></td>\n",
       "    </tr>\n",
       "  </tbody>\n",
       "</table>\n",
       "</div>"
      ],
      "text/plain": [
       "  original_name found_name level count  upper\n",
       "2           삼산동        삼산동     3     1  울산,남구\n",
       "1            남구         남구     2     1     울산\n",
       "3            울산         울산     0     3       "
      ]
     },
     "execution_count": 306,
     "metadata": {},
     "output_type": "execute_result"
    }
   ],
   "source": [
    "df_brief = self.df_brief.copy()\n",
    "df_brief"
   ]
  },
  {
   "cell_type": "code",
   "execution_count": null,
   "id": "148516d8-c2ed-48d0-827b-f71b867aa655",
   "metadata": {},
   "outputs": [],
   "source": []
  },
  {
   "cell_type": "markdown",
   "id": "113da9ef-2027-41e1-8e89-385ed98ee21a",
   "metadata": {},
   "source": [
    "#### test"
   ]
  },
  {
   "cell_type": "code",
   "execution_count": 307,
   "id": "5246fe2e-5e5a-4ebf-9dd2-49a0cf4d14c8",
   "metadata": {
    "execution": {
     "iopub.execute_input": "2024-05-24T11:42:17.935868Z",
     "iopub.status.busy": "2024-05-24T11:42:17.934247Z",
     "iopub.status.idle": "2024-05-24T11:42:18.013164Z",
     "shell.execute_reply": "2024-05-24T11:42:18.012706Z",
     "shell.execute_reply.started": "2024-05-24T11:42:17.935826Z"
    }
   },
   "outputs": [],
   "source": [
    "index = 133\n",
    "text_iter = iter(zip(df_text.index[index:], df_text.loc[index:, 'content']))"
   ]
  },
  {
   "cell_type": "code",
   "execution_count": 442,
   "id": "3a1d052e-f246-4f75-96d0-690432840aba",
   "metadata": {
    "execution": {
     "iopub.execute_input": "2024-05-24T11:57:33.130369Z",
     "iopub.status.busy": "2024-05-24T11:57:33.128844Z",
     "iopub.status.idle": "2024-05-24T11:57:33.208075Z",
     "shell.execute_reply": "2024-05-24T11:57:33.206500Z",
     "shell.execute_reply.started": "2024-05-24T11:57:33.130318Z"
    },
    "scrolled": true
   },
   "outputs": [],
   "source": [
    "index, text = next(text_iter)\n",
    "text = sa.clean_text(text)"
   ]
  },
  {
   "cell_type": "code",
   "execution_count": 443,
   "id": "977b99b3-e0eb-4dee-8f6b-48749d0b3dc0",
   "metadata": {
    "execution": {
     "iopub.execute_input": "2024-05-24T11:57:33.211626Z",
     "iopub.status.busy": "2024-05-24T11:57:33.211232Z",
     "iopub.status.idle": "2024-05-24T11:57:36.096380Z",
     "shell.execute_reply": "2024-05-24T11:57:36.095891Z",
     "shell.execute_reply.started": "2024-05-24T11:57:33.211615Z"
    }
   },
   "outputs": [
    {
     "name": "stdout",
     "output_type": "stream",
     "text": [
      "충남 사리\n"
     ]
    }
   ],
   "source": [
    "self = CheckAddressLevels(df_address=df_addr, text=text)\n",
    "result = self.process()\n",
    "print(result)"
   ]
  },
  {
   "cell_type": "code",
   "execution_count": 444,
   "id": "e55ca2cf-ae55-4712-9200-7a054940dccf",
   "metadata": {
    "execution": {
     "iopub.execute_input": "2024-05-24T11:57:36.097262Z",
     "iopub.status.busy": "2024-05-24T11:57:36.097164Z",
     "iopub.status.idle": "2024-05-24T11:57:36.120515Z",
     "shell.execute_reply": "2024-05-24T11:57:36.120204Z",
     "shell.execute_reply.started": "2024-05-24T11:57:36.097249Z"
    }
   },
   "outputs": [
    {
     "data": {
      "text/html": [
       "<div>\n",
       "<style scoped>\n",
       "    .dataframe tbody tr th:only-of-type {\n",
       "        vertical-align: middle;\n",
       "    }\n",
       "\n",
       "    .dataframe tbody tr th {\n",
       "        vertical-align: top;\n",
       "    }\n",
       "\n",
       "    .dataframe thead th {\n",
       "        text-align: right;\n",
       "    }\n",
       "</style>\n",
       "<table border=\"1\" class=\"dataframe\">\n",
       "  <thead>\n",
       "    <tr style=\"text-align: right;\">\n",
       "      <th></th>\n",
       "      <th>original_name</th>\n",
       "      <th>found_name</th>\n",
       "      <th>level</th>\n",
       "      <th>count</th>\n",
       "      <th>upper</th>\n",
       "    </tr>\n",
       "  </thead>\n",
       "  <tbody>\n",
       "    <tr>\n",
       "      <th>2</th>\n",
       "      <td>사리</td>\n",
       "      <td>사리</td>\n",
       "      <td>4</td>\n",
       "      <td>1</td>\n",
       "      <td>충남</td>\n",
       "    </tr>\n",
       "    <tr>\n",
       "      <th>1</th>\n",
       "      <td>서산시</td>\n",
       "      <td>서산시</td>\n",
       "      <td>2</td>\n",
       "      <td>1</td>\n",
       "      <td>충남</td>\n",
       "    </tr>\n",
       "    <tr>\n",
       "      <th>0</th>\n",
       "      <td>충남</td>\n",
       "      <td>충남</td>\n",
       "      <td>0</td>\n",
       "      <td>1</td>\n",
       "      <td></td>\n",
       "    </tr>\n",
       "    <tr>\n",
       "      <th>3</th>\n",
       "      <td>대전</td>\n",
       "      <td>대전</td>\n",
       "      <td>0</td>\n",
       "      <td>1</td>\n",
       "      <td></td>\n",
       "    </tr>\n",
       "  </tbody>\n",
       "</table>\n",
       "</div>"
      ],
      "text/plain": [
       "  original_name found_name level count upper\n",
       "2            사리         사리     4     1    충남\n",
       "1           서산시        서산시     2     1    충남\n",
       "0            충남         충남     0     1      \n",
       "3            대전         대전     0     1      "
      ]
     },
     "execution_count": 444,
     "metadata": {},
     "output_type": "execute_result"
    }
   ],
   "source": [
    "df_brief = self.df_brief.copy()\n",
    "df_brief"
   ]
  },
  {
   "cell_type": "code",
   "execution_count": 445,
   "id": "c7649763-6398-4dd9-a6f2-261048f8e2af",
   "metadata": {
    "execution": {
     "iopub.execute_input": "2024-05-24T11:57:36.121114Z",
     "iopub.status.busy": "2024-05-24T11:57:36.121039Z",
     "iopub.status.idle": "2024-05-24T11:57:36.323509Z",
     "shell.execute_reply": "2024-05-24T11:57:36.322938Z",
     "shell.execute_reply.started": "2024-05-24T11:57:36.121107Z"
    },
    "scrolled": true
   },
   "outputs": [
    {
     "name": "stderr",
     "output_type": "stream",
     "text": [
      "ic| item: '사리'\n",
      "ic| item: '서산시'\n",
      "ic| item: '충남'\n",
      "ic| item: '대전'\n"
     ]
    },
    {
     "name": "stdout",
     "output_type": "stream",
     "text": [
      "\n",
      "index: 133\n",
      "\n",
      "엄태용 / 사진 = 한화이글스 제공\n",
      "10대 여고생에게 수면제를 먹인 뒤 성폭행한 혐의로 구속 기소된 전 프로야구 한화이글스 선수 엄태용(25)이 항소심 후 형량이 오히려 늘어났다.🔺대전🔻고법 제1형사부(부장 이준명)는 14일 아동·청소년의 성보호에 관한 법률위반 혐의로 기소된 엄태용의 항소심에서 징역 3년6개월의 원심을 파기, 징역 4년6개월을 선고했다.여기에 더해 40시간의 성폭력 방지 강의 수강과 아동·청소년 관련기관 등에 5년간의 취업 제한을 명령했다.엄씨는 지난해 6월 SNS로 피해자인 여고생 A씨를 알게 된 후 🔺충남🔻 🔺서산시🔻 자신의 자택에서 성폭행한 혐의로 기소돼 1심에서 징역 3년6개월을 선고 받았다. 1심 재판부의 판결에 검찰은 \"양형이 가벼워 부당\" 엄씨는 \"형량이 무겁다\"고 각각 항소했으나 재판부는 검찰의 항소 이유만 받아줬다. 재판부는 \"성적 해소를 위해 🔺사리🔻분별 능력이 부족한 청소년을 계획적으로 수면제를 먹이고 항거불능 상태에서 성폭행한 죄질이 불량하다\"고 판시했다. 이어 \"잘못을 반성하지 않고 변명으로 일관하며 피해자와 그 가족의 정신적 고통이 큰 상태지만 범죄처벌 전력이 없는 점 등을 종합적으로 고려했다\"고 양형 이유를 밝혔다. 한편 엄태용은 지난 2016년 9월에도 자신의 여자친구 집에서 \"말을 듣지 않았다\"란 이유로 막대기로 여자친구의 엉덩이를 수차례 때려 벌금 300만원 형에 선고를 받기도 했다.장지민 한경닷컴 기자 newsinfo@hankyung.com\n"
     ]
    }
   ],
   "source": [
    "text_mark = text\n",
    "for item in df_brief['found_name'].values:\n",
    "    ic(item)\n",
    "    text_mark = sa.re_sub(item, text_mark)\n",
    "\n",
    "print(f\"\\nindex: {index}\\n\")\n",
    "print(text_mark)"
   ]
  },
  {
   "cell_type": "markdown",
   "id": "50e54a74-eb96-4012-b54e-12c803c37169",
   "metadata": {},
   "source": [
    "- 133\n",
    "    - '충남 서산시' 인데, '충남 사리' ... '사리' 분별"
   ]
  },
  {
   "cell_type": "code",
   "execution_count": null,
   "id": "fb3fea01-5953-432c-8e42-4064e898cc2f",
   "metadata": {},
   "outputs": [],
   "source": []
  },
  {
   "cell_type": "code",
   "execution_count": null,
   "id": "70e0c5b7-87ff-429e-aefe-9075bd88d322",
   "metadata": {},
   "outputs": [],
   "source": []
  },
  {
   "cell_type": "code",
   "execution_count": null,
   "id": "3928a2b6-2848-4b77-b82f-21da242e878d",
   "metadata": {},
   "outputs": [],
   "source": []
  },
  {
   "cell_type": "code",
   "execution_count": null,
   "id": "00b77b62-90c0-4be1-aa8c-0113d7531a5b",
   "metadata": {},
   "outputs": [],
   "source": []
  },
  {
   "cell_type": "markdown",
   "id": "1424cabc-0e67-496b-b945-54dbdab7a06b",
   "metadata": {},
   "source": [
    "# end"
   ]
  }
 ],
 "metadata": {
  "kernelspec": {
   "display_name": "Python 3 (ipykernel)",
   "language": "python",
   "name": "python3"
  },
  "language_info": {
   "codemirror_mode": {
    "name": "ipython",
    "version": 3
   },
   "file_extension": ".py",
   "mimetype": "text/x-python",
   "name": "python",
   "nbconvert_exporter": "python",
   "pygments_lexer": "ipython3",
   "version": "3.11.0"
  }
 },
 "nbformat": 4,
 "nbformat_minor": 5
}
