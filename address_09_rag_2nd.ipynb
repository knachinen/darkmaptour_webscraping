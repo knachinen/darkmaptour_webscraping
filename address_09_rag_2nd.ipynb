{
 "cells": [
  {
   "cell_type": "code",
   "execution_count": null,
   "id": "fe7f2860-463f-4f94-a232-21c1c04c1328",
   "metadata": {},
   "outputs": [],
   "source": []
  },
  {
   "cell_type": "markdown",
   "id": "0988ec47-8962-45a8-a569-6d4d14948265",
   "metadata": {},
   "source": [
    "### import"
   ]
  },
  {
   "cell_type": "code",
   "execution_count": 1,
   "id": "a6382462-94c7-4623-b820-080c6888f7d8",
   "metadata": {
    "execution": {
     "iopub.execute_input": "2024-05-25T13:43:12.703954Z",
     "iopub.status.busy": "2024-05-25T13:43:12.702162Z",
     "iopub.status.idle": "2024-05-25T13:43:13.964638Z",
     "shell.execute_reply": "2024-05-25T13:43:13.964334Z",
     "shell.execute_reply.started": "2024-05-25T13:43:12.703899Z"
    }
   },
   "outputs": [],
   "source": [
    "import pandas as pd \n",
    "import numpy as np\n",
    "import math\n",
    "import re\n",
    "\n",
    "from icecream import ic\n",
    "from tqdm.notebook import tqdm \n",
    "\n",
    "from utils.custom_utils import load_var, save_var\n",
    "from utils.webscraping import ArticleScraper\n",
    "from utils.search_address import CheckAddressLevels\n",
    "import utils.search_address as sa\n",
    "\n",
    "from importlib import reload\n",
    "\n",
    "df_addr = pd.read_parquet('./address/df_addr.parquet.gzip')\n",
    "df_text = pd.read_parquet('./dataframe/flasher_hk_20130101_20220307_loc.parquet.gzip')\n"
   ]
  },
  {
   "cell_type": "code",
   "execution_count": 2,
   "id": "ca105b3f-7208-4d14-b39f-20dec78f8f6f",
   "metadata": {
    "execution": {
     "iopub.execute_input": "2024-05-25T13:43:13.965812Z",
     "iopub.status.busy": "2024-05-25T13:43:13.965533Z",
     "iopub.status.idle": "2024-05-25T13:43:14.432898Z",
     "shell.execute_reply": "2024-05-25T13:43:14.432648Z",
     "shell.execute_reply.started": "2024-05-25T13:43:13.965803Z"
    }
   },
   "outputs": [],
   "source": [
    "# Loading required libraries\n",
    "import os\n",
    "\n",
    "from langchain_community.vectorstores import Chroma\n",
    "from langchain_community.document_loaders import PyPDFLoader\n",
    "from langchain.docstore.document import Document\n",
    "from langchain.document_loaders import PyPDFLoader, DirectoryLoader, TextLoader\n",
    "from langchain.document_loaders import UnstructuredHTMLLoader, BSHTMLLoader\n",
    "from langchain.text_splitter import RecursiveCharacterTextSplitter\n",
    "\n",
    "from langchain.chains import RetrievalQA\n",
    "from langchain.memory import ConversationSummaryMemory\n",
    "\n",
    "from langchain.llms import Ollama\n",
    "# from langchain_openai import OpenAIEmbeddings\n",
    "# from langchain.embeddings import GPT4AllEmbeddings\n",
    "from langchain.embeddings import OllamaEmbeddings  \n",
    "from langchain.prompts import PromptTemplate"
   ]
  },
  {
   "cell_type": "code",
   "execution_count": 3,
   "id": "0549877e-1dff-45f9-aa6f-85b9a8c6845a",
   "metadata": {
    "execution": {
     "iopub.execute_input": "2024-05-25T13:43:19.171881Z",
     "iopub.status.busy": "2024-05-25T13:43:19.170952Z",
     "iopub.status.idle": "2024-05-25T13:43:19.177003Z",
     "shell.execute_reply": "2024-05-25T13:43:19.176359Z",
     "shell.execute_reply.started": "2024-05-25T13:43:19.171837Z"
    }
   },
   "outputs": [],
   "source": [
    "DATA_PATH=\"data/\"\n",
    "DB_PATH = \"vectorstores/db/\""
   ]
  },
  {
   "cell_type": "code",
   "execution_count": 4,
   "id": "f63d02a4-51c2-4228-9308-c6d7662a2df5",
   "metadata": {
    "execution": {
     "iopub.execute_input": "2024-05-25T13:43:19.752008Z",
     "iopub.status.busy": "2024-05-25T13:43:19.751547Z",
     "iopub.status.idle": "2024-05-25T13:43:19.760688Z",
     "shell.execute_reply": "2024-05-25T13:43:19.759806Z",
     "shell.execute_reply.started": "2024-05-25T13:43:19.751982Z"
    }
   },
   "outputs": [],
   "source": [
    "template = \"\"\"<s>[INST] Given the context - {context} </s>[INST] [INST] Answer the following question - {question}[/INST]\"\"\"\n",
    "pt = PromptTemplate(\n",
    "    template=template, input_variables=[\"context\", \"question\"]\n",
    ")"
   ]
  },
  {
   "cell_type": "code",
   "execution_count": 69,
   "id": "bd138da6-6d7b-4843-8bda-a5e5604f2102",
   "metadata": {
    "execution": {
     "iopub.execute_input": "2024-05-25T15:03:48.411773Z",
     "iopub.status.busy": "2024-05-25T15:03:48.411615Z",
     "iopub.status.idle": "2024-05-25T15:03:48.414017Z",
     "shell.execute_reply": "2024-05-25T15:03:48.413504Z",
     "shell.execute_reply.started": "2024-05-25T15:03:48.411761Z"
    }
   },
   "outputs": [],
   "source": [
    "# ver.1\n",
    "ret_prompt = \"\"\"\n",
    "{\"who\": \"\", \"when\": \"\", \"where\": \"\", \"what\": \"\", \"other_regional_info\": \",,,,,,\"}\n",
    "\n",
    "\bwho, when, where and what is it happened in the article? \n",
    "answer them as json format as 'who, when, where and what'.\n",
    "give me 'all' regional information about physical places like administrative district name, building, regional branch and others.\n",
    "answer them into 'other_regional_info'.\n",
    "\"\"\""
   ]
  },
  {
   "cell_type": "code",
   "execution_count": 92,
   "id": "2c17b4a6-ae77-4c5e-9421-7ef9ec529847",
   "metadata": {
    "execution": {
     "iopub.execute_input": "2024-05-26T03:39:07.964725Z",
     "iopub.status.busy": "2024-05-26T03:39:07.963266Z",
     "iopub.status.idle": "2024-05-26T03:39:07.973472Z",
     "shell.execute_reply": "2024-05-26T03:39:07.972545Z",
     "shell.execute_reply.started": "2024-05-26T03:39:07.964658Z"
    }
   },
   "outputs": [],
   "source": [
    "# ver.1.2\n",
    "ret_prompt = \"\"\"\n",
    "{\"who\": \"\", \"when\": \"\", \"where\": \"\", \"what\": \"\", \"other_regional_info\": \",,,,,,\"}\n",
    "\n",
    "\bwho, when, where and what is it happened in the article? \n",
    "answer them as json format as 'who, when, where and what'.\n",
    "give me 'all' regional information about physical places like administrative district name, building, regional branch and others.\n",
    "put the all regional information into 'other_regional_info' separating with comma.\n",
    "\"\"\""
   ]
  },
  {
   "cell_type": "code",
   "execution_count": 40,
   "id": "65acffbf-b956-40ac-aee9-c074344c21f8",
   "metadata": {
    "execution": {
     "iopub.execute_input": "2024-05-25T14:45:47.106249Z",
     "iopub.status.busy": "2024-05-25T14:45:47.106075Z",
     "iopub.status.idle": "2024-05-25T14:45:47.108437Z",
     "shell.execute_reply": "2024-05-25T14:45:47.108040Z",
     "shell.execute_reply.started": "2024-05-25T14:45:47.106236Z"
    }
   },
   "outputs": [],
   "source": [
    "# ver.2\n",
    "ret_prompt = \"\"\"\n",
    "\bwho, when, where and what is it happened in the article? \n",
    "and give me all the possible regional information related to administrative district names, regional branch, buildings and so on.\n",
    "\"\"\""
   ]
  },
  {
   "cell_type": "code",
   "execution_count": 46,
   "id": "77413cac-8db6-4c6c-94a4-a2bea3d576ae",
   "metadata": {
    "execution": {
     "iopub.execute_input": "2024-05-25T14:50:51.608218Z",
     "iopub.status.busy": "2024-05-25T14:50:51.607349Z",
     "iopub.status.idle": "2024-05-25T14:50:51.613010Z",
     "shell.execute_reply": "2024-05-25T14:50:51.612080Z",
     "shell.execute_reply.started": "2024-05-25T14:50:51.608175Z"
    }
   },
   "outputs": [],
   "source": [
    "# ver.3\n",
    "ret_prompt = \"\"\"\n",
    "where is it happened in the article? \n",
    "give me 'all' related regional information about physical places like administrative district name, building, regional branch and others.\n",
    "\"\"\""
   ]
  },
  {
   "cell_type": "code",
   "execution_count": 42,
   "id": "6803a7e4-1a80-4e03-b02f-b28791cc916f",
   "metadata": {
    "execution": {
     "iopub.execute_input": "2024-05-25T14:45:58.644311Z",
     "iopub.status.busy": "2024-05-25T14:45:58.643458Z",
     "iopub.status.idle": "2024-05-25T14:45:58.651104Z",
     "shell.execute_reply": "2024-05-25T14:45:58.649667Z",
     "shell.execute_reply.started": "2024-05-25T14:45:58.644277Z"
    }
   },
   "outputs": [],
   "source": [
    "# ver.4\n",
    "ret_prompt = \"\"\"\n",
    "사건 장소는 어디인가?\n",
    "장소와 관련된 모든 정보를 열거하라.\n",
    "\"\"\""
   ]
  },
  {
   "cell_type": "code",
   "execution_count": 43,
   "id": "263fc579-6a11-45cf-9e7e-22bbfd14cb3b",
   "metadata": {
    "execution": {
     "iopub.execute_input": "2024-05-25T14:46:05.550002Z",
     "iopub.status.busy": "2024-05-25T14:46:05.549538Z",
     "iopub.status.idle": "2024-05-25T14:46:05.555516Z",
     "shell.execute_reply": "2024-05-25T14:46:05.554073Z",
     "shell.execute_reply.started": "2024-05-25T14:46:05.549961Z"
    }
   },
   "outputs": [],
   "source": [
    "# ver.5\n",
    "ret_prompt = \"\"\"\n",
    "- info 1\n",
    "- info 2\n",
    "- ...\n",
    "\n",
    "where is it happened in the article? \n",
    "give me 'all' related regional information about physical places like administrative district name, building, regional branch and others.\n",
    "make the bullet points for the information.\n",
    "\"\"\""
   ]
  },
  {
   "cell_type": "code",
   "execution_count": 60,
   "id": "caf40e82-3151-49e3-9c35-af3a8d52f609",
   "metadata": {
    "execution": {
     "iopub.execute_input": "2024-05-25T15:00:34.800847Z",
     "iopub.status.busy": "2024-05-25T15:00:34.800498Z",
     "iopub.status.idle": "2024-05-25T15:00:34.807586Z",
     "shell.execute_reply": "2024-05-25T15:00:34.806541Z",
     "shell.execute_reply.started": "2024-05-25T15:00:34.800825Z"
    }
   },
   "outputs": [],
   "source": [
    "# ver.6\n",
    "ret_prompt = \"\"\"\n",
    "- who:\n",
    "- when:\n",
    "- where:\n",
    "- what:\n",
    "- other related regional information:\n",
    "\n",
    "\bwho, when, where and what is it happened in the article? \n",
    "give me 'all' regional information about physical places like administrative district name, building, regional branch and others.\n",
    "\"\"\""
   ]
  },
  {
   "cell_type": "code",
   "execution_count": 60,
   "id": "8284d433-0c60-4ebe-8f18-0cf41180b336",
   "metadata": {
    "execution": {
     "iopub.execute_input": "2024-05-25T15:00:34.800847Z",
     "iopub.status.busy": "2024-05-25T15:00:34.800498Z",
     "iopub.status.idle": "2024-05-25T15:00:34.807586Z",
     "shell.execute_reply": "2024-05-25T15:00:34.806541Z",
     "shell.execute_reply.started": "2024-05-25T15:00:34.800825Z"
    }
   },
   "outputs": [],
   "source": [
    "# ver.7\n",
    "ret_prompt = \"\"\"\n",
    "- who\n",
    "  -\n",
    "- when\n",
    "  - \n",
    "- where\n",
    "  - \n",
    "- what\n",
    "  -\n",
    "- other related regional information\n",
    "  - \n",
    "\n",
    "\bwho, when, where and what is it happened in the article? \n",
    "give me 'all' regional information about physical places like administrative district name, building, regional branch and others.\n",
    "\"\"\""
   ]
  },
  {
   "cell_type": "code",
   "execution_count": null,
   "id": "7384b975-df3e-4bd8-afe3-4c7b7d4c5025",
   "metadata": {},
   "outputs": [],
   "source": []
  },
  {
   "cell_type": "markdown",
   "id": "05825554-d9f3-42c2-a6a8-1d3a0f1616e6",
   "metadata": {},
   "source": [
    "### process"
   ]
  },
  {
   "cell_type": "markdown",
   "id": "ee518556-7b27-4fd5-8966-58d2d40204cf",
   "metadata": {},
   "source": [
    "#### get_json"
   ]
  },
  {
   "cell_type": "code",
   "execution_count": 32,
   "id": "e41f9ecd-7fb7-4d86-8a0e-d36b41d5e6e0",
   "metadata": {
    "execution": {
     "iopub.execute_input": "2024-04-21T10:01:43.571155Z",
     "iopub.status.busy": "2024-04-21T10:01:43.570101Z",
     "iopub.status.idle": "2024-04-21T10:01:43.579114Z",
     "shell.execute_reply": "2024-04-21T10:01:43.578492Z",
     "shell.execute_reply.started": "2024-04-21T10:01:43.571113Z"
    }
   },
   "outputs": [],
   "source": [
    "# loader = TextLoader(\"./hk_test.md\")\n",
    "# documents = loader.load()"
   ]
  },
  {
   "cell_type": "code",
   "execution_count": 50,
   "id": "5cbccb7f-23c8-4897-8da1-0cea92a102d4",
   "metadata": {
    "execution": {
     "iopub.execute_input": "2024-04-21T10:15:28.525915Z",
     "iopub.status.busy": "2024-04-21T10:15:28.525432Z",
     "iopub.status.idle": "2024-04-21T10:15:28.537209Z",
     "shell.execute_reply": "2024-04-21T10:15:28.536728Z",
     "shell.execute_reply.started": "2024-04-21T10:15:28.525892Z"
    }
   },
   "outputs": [],
   "source": [
    "vectorstore.delete_collection()"
   ]
  },
  {
   "cell_type": "code",
   "execution_count": 130,
   "id": "c303f466-c87d-4b8b-8f8b-282fc9b0fde5",
   "metadata": {
    "execution": {
     "iopub.execute_input": "2024-05-12T04:14:07.218155Z",
     "iopub.status.busy": "2024-05-12T04:14:07.216523Z",
     "iopub.status.idle": "2024-05-12T04:14:07.230061Z",
     "shell.execute_reply": "2024-05-12T04:14:07.228349Z",
     "shell.execute_reply.started": "2024-05-12T04:14:07.218109Z"
    },
    "jupyter": {
     "source_hidden": true
    }
   },
   "outputs": [],
   "source": [
    "import json \n",
    "\n",
    "def get_json(json_text: str, verbose: bool = False) -> dict:\n",
    "    \"\"\"Parse JSON text into a Python dictionary.\n",
    "    \n",
    "    Args:\n",
    "        json_text (str): JSON text to parse.\n",
    "        verbose (bool, optional): If True, print JSON text. Defaults to False.\n",
    "    \n",
    "    Returns:\n",
    "        dict: Parsed JSON data as a dictionary, or None if parsing fails.\n",
    "    \"\"\"\n",
    "    if verbose:\n",
    "        print(\"Input JSON text:\")\n",
    "        print(json_text)\n",
    "\n",
    "    try:\n",
    "        json_data = json.loads(json_text)\n",
    "    except json.JSONDecodeError as e:\n",
    "        print(\"Error loading JSON:\", e)\n",
    "        return None\n",
    "    except Exception as e:\n",
    "        print(\"An unknown error occurred:\", e)\n",
    "        return None\n",
    "\n",
    "    return json_data\n"
   ]
  },
  {
   "cell_type": "code",
   "execution_count": 109,
   "id": "a3372a82-f652-47dc-8307-eb0b7c0c2d1a",
   "metadata": {
    "execution": {
     "iopub.execute_input": "2024-05-26T04:47:53.071394Z",
     "iopub.status.busy": "2024-05-26T04:47:53.070006Z",
     "iopub.status.idle": "2024-05-26T04:47:53.083395Z",
     "shell.execute_reply": "2024-05-26T04:47:53.082747Z",
     "shell.execute_reply.started": "2024-05-26T04:47:53.071346Z"
    }
   },
   "outputs": [],
   "source": [
    "def retrieve_info(\n",
    "    text: str,\n",
    "    pt: PromptTemplate,\n",
    "    ret_prompt: str,\n",
    "    model='gemma:2b'):\n",
    "    doc =  Document(page_content=text, metadata={\"source\": \"local\"})\n",
    "    \n",
    "    text_splitter = RecursiveCharacterTextSplitter(\n",
    "        chunk_size=1000, chunk_overlap=50)\n",
    "    texts=text_splitter.split_documents([doc])\n",
    "\n",
    "    ic(type(texts))\n",
    "    ic(len(texts))\n",
    "    \n",
    "    vectorstore = Chroma.from_documents(\n",
    "        documents=texts,\n",
    "        embedding=OllamaEmbeddings(\n",
    "            model=model\n",
    "        ),\n",
    "    )\n",
    "    \n",
    "    rag = RetrievalQA.from_chain_type(\n",
    "        llm=Ollama(model=model),\n",
    "        retriever=vectorstore.as_retriever(),\n",
    "        memory=ConversationSummaryMemory(llm=Ollama(model=model)),\n",
    "        chain_type_kwargs={\"prompt\": pt, \"verbose\": False},\n",
    "    )\n",
    "    \n",
    "    result = rag.invoke(ret_prompt)\n",
    "    vectorstore.delete_collection()\n",
    "    \n",
    "    return result"
   ]
  },
  {
   "cell_type": "code",
   "execution_count": 7,
   "id": "1de27e06-ecd0-4b6e-b4e5-d30efc00f378",
   "metadata": {
    "execution": {
     "iopub.execute_input": "2024-05-25T13:44:16.419714Z",
     "iopub.status.busy": "2024-05-25T13:44:16.418181Z",
     "iopub.status.idle": "2024-05-25T13:44:16.467366Z",
     "shell.execute_reply": "2024-05-25T13:44:16.466923Z",
     "shell.execute_reply.started": "2024-05-25T13:44:16.419648Z"
    }
   },
   "outputs": [],
   "source": [
    "index = 3\n",
    "text_iter = iter(zip(df_text.index[index:], df_text.loc[index:, 'content']))"
   ]
  },
  {
   "cell_type": "code",
   "execution_count": 84,
   "id": "a4ccc3bf-3576-4c8e-871c-e0eab69b1b70",
   "metadata": {
    "execution": {
     "iopub.execute_input": "2024-05-25T15:06:29.481696Z",
     "iopub.status.busy": "2024-05-25T15:06:29.481423Z",
     "iopub.status.idle": "2024-05-25T15:06:29.484980Z",
     "shell.execute_reply": "2024-05-25T15:06:29.484435Z",
     "shell.execute_reply.started": "2024-05-25T15:06:29.481674Z"
    }
   },
   "outputs": [
    {
     "name": "stdout",
     "output_type": "stream",
     "text": [
      "9\n"
     ]
    }
   ],
   "source": [
    "index_iter, text = next(text_iter)\n",
    "text = sa.clean_text(text)\n",
    "print(index_iter)"
   ]
  },
  {
   "cell_type": "code",
   "execution_count": 85,
   "id": "b4822928-af2a-427b-9cb8-4d63a17f45ca",
   "metadata": {
    "execution": {
     "iopub.execute_input": "2024-05-25T15:06:29.486375Z",
     "iopub.status.busy": "2024-05-25T15:06:29.486202Z",
     "iopub.status.idle": "2024-05-25T15:06:29.490176Z",
     "shell.execute_reply": "2024-05-25T15:06:29.489709Z",
     "shell.execute_reply.started": "2024-05-25T15:06:29.486359Z"
    },
    "scrolled": true
   },
   "outputs": [
    {
     "data": {
      "text/plain": [
       "'사진=KBS 캡처\\n제주에서 한 여고생이 학교 폭력을 신고했다가 가해 학생들로부터 보복 폭행을 당하는 사건이 발생했다. 지난 8일 KBS 보도에 따르면 피해 여고생 A 양은 지난달 31일 오후 5시께 제주 시청 인근 주차장에서 한 남학생이 또래로 보이는 청소년 2명으로부터 폭행당하는 모습을 목격하고 학교와 경찰에 알렸다. A 양이 신고했다는 사실을 알게 된 가해 청소년들은 이날 밤 A 양을 불러내 보복 폭행했다. 당시 폭행 현장에는 가해 청소년 2명뿐만 아니라 다른 학교 학생 6명도 함께 있었던 것으로 알려졌다.두 차례 폭행을 당한 A 양의 오른쪽 뺨은 살갗이 벗겨져 붉게 부어올랐다. 다리와 팔에도 피멍이 들었으며, 심리적 충격까지 심각한 것으로 전해졌다.A 양의 부모는 가해 청소년으로부터 협박 전화까지 받았다고 주장했다. A 양의 부모는 \"본인들만 고소하고 옆에서 도와준 친구들은 건들지 말라고 협박조로 얘기했다\"며 \"그 전화 받고 한숨도 못 잤다. 우리 애가 밤사이 새벽까지 끌려다니면서 맞았다고 생각하니 가슴이 무너질 것 같다\"고 호소했다.제주동부경찰서는 가해 청소년 2명을 특수폭행 혐의로 입건했고, 학교 측은 자세한 경위를 조사하고 있다.홍민성 한경닷컴 기자 mshong@hankyung.com'"
      ]
     },
     "execution_count": 85,
     "metadata": {},
     "output_type": "execute_result"
    }
   ],
   "source": [
    "text"
   ]
  },
  {
   "cell_type": "code",
   "execution_count": 93,
   "id": "bcb51444-b25e-4f74-a843-a0be6c49d1ed",
   "metadata": {
    "execution": {
     "iopub.execute_input": "2024-05-26T03:39:16.055545Z",
     "iopub.status.busy": "2024-05-26T03:39:16.055015Z",
     "iopub.status.idle": "2024-05-26T03:39:23.873434Z",
     "shell.execute_reply": "2024-05-26T03:39:23.872729Z",
     "shell.execute_reply.started": "2024-05-26T03:39:16.055500Z"
    }
   },
   "outputs": [
    {
     "name": "stderr",
     "output_type": "stream",
     "text": [
      "Number of requested results 4 is greater than number of elements in index 1, updating n_results = 1\n"
     ]
    }
   ],
   "source": [
    "result = retrieve_info(text=text, pt=pt, ret_prompt=ret_prompt, model='gemma:2b')\n",
    "# result = retrieve_info(text=text, pt=pt, ret_prompt=ret_prompt, model='phi3')"
   ]
  },
  {
   "cell_type": "code",
   "execution_count": 94,
   "id": "da028a59-3acd-4ede-b0e4-188229004cb2",
   "metadata": {
    "execution": {
     "iopub.execute_input": "2024-05-26T03:39:23.875681Z",
     "iopub.status.busy": "2024-05-26T03:39:23.875359Z",
     "iopub.status.idle": "2024-05-26T03:39:23.881404Z",
     "shell.execute_reply": "2024-05-26T03:39:23.879892Z",
     "shell.execute_reply.started": "2024-05-26T03:39:23.875657Z"
    }
   },
   "outputs": [
    {
     "name": "stdout",
     "output_type": "stream",
     "text": [
      "{\n",
      "  \"who\": \"A 양\",\n",
      "  \"when\": \"지난 8일\",\n",
      "  \"where\": \"제주 시청 인근 주차장\",\n",
      "  \"what\": \"한 남학생이 또래로 보이는 청소년 2명으로부터 폭행당하는 모습을 목격하고 학교와 경찰에 알렸다\",\n",
      "  \"other_regional_info\": \", 제주동부경찰서, 학교 측\"\n",
      "}\n"
     ]
    }
   ],
   "source": [
    "# ver.1\n",
    "print(result['result'])"
   ]
  },
  {
   "cell_type": "markdown",
   "id": "c37da0b0-9b7d-4245-a1fb-cefa1ef92e6e",
   "metadata": {
    "jp-MarkdownHeadingCollapsed": true
   },
   "source": [
    "#### results: gemma 2b"
   ]
  },
  {
   "cell_type": "code",
   "execution_count": 57,
   "id": "6f6a024f-eaa5-4242-856e-d55ffa604c76",
   "metadata": {
    "execution": {
     "iopub.execute_input": "2024-05-25T14:58:24.799445Z",
     "iopub.status.busy": "2024-05-25T14:58:24.798129Z",
     "iopub.status.idle": "2024-05-25T14:58:24.805637Z",
     "shell.execute_reply": "2024-05-25T14:58:24.805097Z",
     "shell.execute_reply.started": "2024-05-25T14:58:24.799396Z"
    }
   },
   "outputs": [
    {
     "name": "stdout",
     "output_type": "stream",
     "text": [
      "**who:** A씨, B씨, C씨, D양\n",
      "\n",
      "**when:** 19일\n",
      "\n",
      "**where:** 포항지방법원 포항지원 제1형사부(권순향 재판장)\n",
      "\n",
      "**what:** A씨 등 3명이 공범 몰래 여고생을 성폭행하고 70%를 갈취한 혐의로 기소된 혐의로 징역 6년, 5년, 4년 선고\n",
      "\n",
      "**other related regional information:**\n",
      "- A씨는 고향 후배인 D양(17)에게 숙식을 제공하면서 성매매를 강요한 혐의를 받았다.\n",
      "- D양이 성매매 대가로 받아돈 금액 중 70%를 갈취했다.\n",
      "- 연인 관계인 A씨와 C씨는 2020년 8월 D양이 경기 인천으로 도망치자 \"전화를 받지 않으면 아버지에게 이야기하겠다\"고 협박했고, 협박에 돌아온 D양을 포항시 북구 한 모텔에 한 달 동안 감금한 혐의도 받고 있다.\n"
     ]
    }
   ],
   "source": [
    "# ver.6\n",
    "print(result['result'])"
   ]
  },
  {
   "cell_type": "code",
   "execution_count": 62,
   "id": "59d4971b-ee0a-4c9f-b958-309f08da8a8d",
   "metadata": {
    "execution": {
     "iopub.execute_input": "2024-05-25T15:01:18.602219Z",
     "iopub.status.busy": "2024-05-25T15:01:18.601351Z",
     "iopub.status.idle": "2024-05-25T15:01:18.608776Z",
     "shell.execute_reply": "2024-05-25T15:01:18.607843Z",
     "shell.execute_reply.started": "2024-05-25T15:01:18.602164Z"
    }
   },
   "outputs": [
    {
     "name": "stdout",
     "output_type": "stream",
     "text": [
      "**who:** A씨, B씨, C씨, D양 \n",
      "\n",
      "**when:** 19일\n",
      "\n",
      "**where:**  포항지방법원 포항지원 제1형사부(권순향 재판장)\n",
      "\n",
      "**what:** A씨 등 3명이 공범 몰래 여고생을 성폭행한 혐의로 기소된 징역 6년, 징역 5년, 징역 4년을 선고했다.\n",
      "\n",
      "**other related regional information:**\n",
      "\n",
      "- 연인 관계인 A씨와 C씨는 2020년 8월 D양이 경기 인천으로 도망치자 \"전화를 받지 않으면 아버지에게 이야기하겠다\"고 협박했고, 협박에 돌아온 D양을 포항시 북구 한 모텔에 한 달 동안 감금한 혐의도 받았다. \n",
      "- 이들은 당시 D양이 도망치지 못하도록 휴대폰에 위치추적 앱까지 설치해 관리했고, A씨는 연인인 C씨 몰래 D양을 4회에 걸쳐 성폭행한 혐의도 받는다.\n"
     ]
    }
   ],
   "source": [
    "# ver.7\n",
    "print(result['result'])"
   ]
  },
  {
   "cell_type": "markdown",
   "id": "37e27952-2a12-42d5-8cd2-f03602b76397",
   "metadata": {
    "jp-MarkdownHeadingCollapsed": true
   },
   "source": [
    "#### results: phi3"
   ]
  },
  {
   "cell_type": "markdown",
   "id": "9eea0dba-548a-46b8-844a-5a86e977f385",
   "metadata": {},
   "source": [
    "ver.1"
   ]
  },
  {
   "cell_type": "code",
   "execution_count": 30,
   "id": "2f6470ee-ffba-40d6-b3e9-6a994d239378",
   "metadata": {
    "execution": {
     "iopub.execute_input": "2024-05-25T14:29:29.386171Z",
     "iopub.status.busy": "2024-05-25T14:29:29.385247Z",
     "iopub.status.idle": "2024-05-25T14:29:29.393494Z",
     "shell.execute_reply": "2024-05-25T14:29:29.392750Z",
     "shell.execute_reply.started": "2024-05-25T14:29:29.386136Z"
    }
   },
   "outputs": [
    {
     "data": {
      "text/plain": [
       "{'query': '\\n{\"who\": \"\", \"when\": \"\", \"where\": \"\", \"what\": \"\", \"other_regional_info\": [\\'\\',\\'\\',\\'\\',,,]}\\n\\n\\x08who, when, where and what is it happened in the article? \\nanswer them as json format as \\'who, when, where and what\\'.\\ngive me \\'all\\' regional information about physical places like administrative district name, building, regional branch and others.\\nanswer them into \\'other_regional_info\\'.\\n',\n",
       " 'history': '',\n",
       " 'result': '{\\n  \"who\": \"A씨, B씨, C씨, D양\",\\n  \"when\": \"19일, 2020년 8월, 2 Habco building\",\\n  \"where\": \"경기 인천으로, 북구 한 모텔, 여고생에게 제공된 현재 위치\",\\n  \"what\": \"근무하는 일말 부도인 A씨, B씨, C씨의 성매매 강조와 투자에 대한 면역과 D양의 성폭행을 사타.\",\\n  \"other_regional_info\": [\\n    \"경기도\",\\n    \"인천광역시 북구\",\\n    \"여고생에서 제공된 현재 위치\"\\n  ]\\n}'}"
      ]
     },
     "execution_count": 30,
     "metadata": {},
     "output_type": "execute_result"
    }
   ],
   "source": [
    "result"
   ]
  },
  {
   "cell_type": "markdown",
   "id": "80c28cc0-c6f5-4dae-90af-90c32140349a",
   "metadata": {},
   "source": [
    "ver.3"
   ]
  },
  {
   "cell_type": "code",
   "execution_count": 34,
   "id": "74b7ba78-142a-497b-a71d-4959db267cf8",
   "metadata": {
    "execution": {
     "iopub.execute_input": "2024-05-25T14:33:38.579668Z",
     "iopub.status.busy": "2024-05-25T14:33:38.577197Z",
     "iopub.status.idle": "2024-05-25T14:33:38.589957Z",
     "shell.execute_reply": "2024-05-25T14:33:38.588966Z",
     "shell.execute_reply.started": "2024-05-25T14:33:38.579605Z"
    }
   },
   "outputs": [
    {
     "data": {
      "text/plain": [
       "{'query': \"\\nwhere is it happened in the article? \\ngive me 'all' related regional information about physical places like administrative district name, building, regional branch and others.\\n\",\n",
       " 'history': '',\n",
       " 'result': \"The events described in the provided text occur at several locations within South Korea:\\n\\n1. **Daegu Gangnam District Office** - The Daegu Gangnam District Office is mentioned where D's family was reportedly taken after his disappearance, and an investigation by investigators led to physical confrontations involving A, B, and C individuals.\\n\\n2. **Korea High Court Seoul Branch** - This is the location of a hearing that took place on October 19, where the Daegu District Prosecutors' Office made judgments against A, B, and C for their involvement in D' Marketplace Mall Gang assault case.\\n\\n3. **Daegu Police Station North Seoul Branch** - The police station is implicated as it was involved when investigators arrested A after a confrontation between him and his relative at the Daegu Gangnam District Office on October 18, following a report that D had run away to Tokyo.\\n\\n4. **Daegu Gangnam Police Station (Korea High Court Seoul Branch)** - This police station is involved in the arrest of A when he was apprehended by investigators at the Daegu Gangnam District Office on October 18.\\n\\n5. **Jangsu-dong, Yeonhui-dong, Haeundae District, Busan, South Korea** - D ran away to this location in Tokyo after being reported missing from his home in Daegu, as mentioned by a relative of B and C during the court hearing on October 19.\\n\\n6. **Gyeongsangbuk-do (South Gyeongsang Province)** - This is the administrative region where D's family resides, located near Busan city.\\n\\n7. **Busan Metropolitan City (Yeonhui-dong and Haeundae District)**: These are districts within Busan that were mentioned in relation to D's disappearance after he reportedly ran away there from his home district.\\n\\n8. **Tokyo, Japan** - This is the city where D allegedly went after disappearing from Daegu; however, it was not confirmed if D stayed or left Tokyo for a long duration as per the report during the court hearing on October 19.\\n\\nThese locations are directly related to the incidents and legal proceedings described in the article regarding D's disappearance and subsequent events involving A, B, and C individuals.\"}"
      ]
     },
     "execution_count": 34,
     "metadata": {},
     "output_type": "execute_result"
    }
   ],
   "source": [
    "result"
   ]
  },
  {
   "cell_type": "markdown",
   "id": "72e6f2b6-4a7c-413d-8c63-0fef7971382a",
   "metadata": {},
   "source": [
    "The events described in the provided text occur at several locations within South Korea:\\n\\n1. \n",
    "\n",
    "**Daegu Gangnam District Office** - The Daegu Gangnam District Office is mentioned where D's family was reportedly taken after his disappearance, and an investigation by investigators led to physical confrontations involving A, B, and C individuals.\\n\\n2. \n",
    "\n",
    "**Korea High Court Seoul Branch** - This is the location of a hearing that took place on October 19, where the Daegu District Prosecutors' Office made judgments against A, B, and C for their involvement in D' Marketplace Mall Gang assault case.\\n\\n3. \n",
    "\n",
    "**Daegu Police Station North Seoul Branch** - The police station is implicated as it was involved when investigators arrested A after a confrontation between him and his relative at the Daegu Gangnam District Office on October 18, following a report that D had run away to Tokyo.\\n\\n4. \n",
    "\n",
    "**Daegu Gangnam Police Station (Korea High Court Seoul Branch)** - This police station is involved in the arrest of A when he was apprehended by investigators at the Daegu Gangnam District Office on October 18.\\n\\n5. \n",
    "\n",
    "**Jangsu-dong, Yeonhui-dong, Haeundae District, Busan, South Korea** - D ran away to this location in Tokyo after being reported missing from his home in Daegu, as mentioned by a relative of B and C during the court hearing on October 19.\\n\\n6. \n",
    "\n",
    "**Gyeongsangbuk-do (South Gyeongsang Province)** - This is the administrative region where D's family resides, located near Busan city.\\n\\n7. \n",
    "\n",
    "**Busan Metropolitan City (Yeonhui-dong and Haeundae District)**: These are districts within Busan that were mentioned in relation to D's disappearance after he reportedly ran away there from his home district.\\n\\n8. \n",
    "\n",
    "**Tokyo, Japan** - This is the city where D allegedly went after disappearing from Daegu; however, it was not confirmed if D stayed or left Tokyo for a long duration as per the report during the court hearing on October 19.\\n\\nThese locations are directly related to the incidents and legal proceedings described in the article regarding D's disappearance and subsequent events involving A, B, and C individuals."
   ]
  },
  {
   "cell_type": "code",
   "execution_count": 44,
   "id": "8fb8bf17-dd4f-4da4-94f6-1e411ee0718c",
   "metadata": {
    "execution": {
     "iopub.execute_input": "2024-05-25T14:47:58.098010Z",
     "iopub.status.busy": "2024-05-25T14:47:58.096942Z",
     "iopub.status.idle": "2024-05-25T14:47:58.105683Z",
     "shell.execute_reply": "2024-05-25T14:47:58.104713Z",
     "shell.execute_reply.started": "2024-05-25T14:47:58.097968Z"
    },
    "scrolled": true
   },
   "outputs": [
    {
     "name": "stdout",
     "output_type": "stream",
     "text": [
      "- Information regarding a university student providing accommodation during detention and instructing on marriage registration:\n",
      "\n",
      "  - Incident took place in Dankook University\n",
      "\n",
      "  - No specific administrative district or building mentioned directly, but implied to be within South Korea (the country where Dankook University is located)\n",
      "\n",
      "- Detained individuals were directed to provide shelter for a young man during his escape from custody:\n",
      " Administered by the Daegu District Court in Daegu\n",
      "\n",
      "  - No specific building or regional branch mentioned directly, but implied to be within South Korea (the country where Dankook University and Daegu are located)\n",
      "\n",
      "- A woman was detained for planning her boyfriend's kidnapping:\n",
      "\n",
      "  - Incident took place in Gyeongsangbuk-do province, which includes the city of Andong, given that it is related to Dankook University students who were involved. However, specific administrative district and building names are not directly mentioned.\n",
      "\n",
      "- A young man was arrested for attempting kidnap:\n",
      "\n",
      "  - Incident likely occurred in Gyeongsangbuk-do province due to the connection with Dankook University students. Specific location within the province is not detailed.\n",
      "\n",
      "- The woman's boyfriend managed to escape and fled Daegu, seeking refuge at a family member's house:\n",
      "\n",
      "  - Escape took place in Daegu city, South Korea.\n",
      "\n",
      "- A man was caught trying to kidnap his girlfriend after her release from prison:\n",
      "\n",
      "  - Incident likely occurred in Gyeongsangbuk-do province due to the connection with Dankook University students. Specific location within the province is not detailed.\n",
      "\n",
      "- The man who tried to escape custody faced legal consequences for resisting arrest and kidnapping charges:\n",
      "\n",
      "  - Case handled by Daegu District Court, South Korea.\n",
      "\n",
      "- An individual assaulted a police officer in an attempt to detain another suspect during his escape:\n",
      "\n",
      "  - Incident occurred in Andong city, Gyeongsangbuk-do province, within the broader context of Dankook University student involvement but not specified at the administrative district or building level.\n",
      "\n",
      "- A university student was arrested for attempting to abduct a female relative and subsequently resisting arrest:\n",
      "\n",
      "  - Incident likely occurred in Gyeongsangbuk-do province due to its connection with Dankook University students. Specific location within the province is not detailed.\n"
     ]
    }
   ],
   "source": [
    "print(\n",
    "    \"- Information regarding a university student providing accommodation during detention and instructing on marriage registration:\\n\\n  - Incident took place in Dankook University\\n\\n  - No specific administrative district or building mentioned directly, but implied to be within South Korea (the country where Dankook University is located)\\n\\n- Detained individuals were directed to provide shelter for a young man during his escape from custody:\\n Administered by the Daegu District Court in Daegu\\n\\n  - No specific building or regional branch mentioned directly, but implied to be within South Korea (the country where Dankook University and Daegu are located)\\n\\n- A woman was detained for planning her boyfriend's kidnapping:\\n\\n  - Incident took place in Gyeongsangbuk-do province, which includes the city of Andong, given that it is related to Dankook University students who were involved. However, specific administrative district and building names are not directly mentioned.\\n\\n- A young man was arrested for attempting kidnap:\\n\\n  - Incident likely occurred in Gyeongsangbuk-do province due to the connection with Dankook University students. Specific location within the province is not detailed.\\n\\n- The woman's boyfriend managed to escape and fled Daegu, seeking refuge at a family member's house:\\n\\n  - Escape took place in Daegu city, South Korea.\\n\\n- A man was caught trying to kidnap his girlfriend after her release from prison:\\n\\n  - Incident likely occurred in Gyeongsangbuk-do province due to the connection with Dankook University students. Specific location within the province is not detailed.\\n\\n- The man who tried to escape custody faced legal consequences for resisting arrest and kidnapping charges:\\n\\n  - Case handled by Daegu District Court, South Korea.\\n\\n- An individual assaulted a police officer in an attempt to detain another suspect during his escape:\\n\\n  - Incident occurred in Andong city, Gyeongsangbuk-do province, within the broader context of Dankook University student involvement but not specified at the administrative district or building level.\\n\\n- A university student was arrested for attempting to abduct a female relative and subsequently resisting arrest:\\n\\n  - Incident likely occurred in Gyeongsangbuk-do province due to its connection with Dankook University students. Specific location within the province is not detailed.\"\n",
    ")"
   ]
  },
  {
   "cell_type": "markdown",
   "id": "67c713fb-e418-495c-9223-8d2916958b17",
   "metadata": {},
   "source": [
    "#### tqdm"
   ]
  },
  {
   "cell_type": "code",
   "execution_count": 95,
   "id": "e3ad12eb-6144-4b2d-b712-b89aa9ded561",
   "metadata": {
    "execution": {
     "iopub.execute_input": "2024-05-26T03:42:11.573872Z",
     "iopub.status.busy": "2024-05-26T03:42:11.571659Z",
     "iopub.status.idle": "2024-05-26T03:42:11.590997Z",
     "shell.execute_reply": "2024-05-26T03:42:11.590416Z",
     "shell.execute_reply.started": "2024-05-26T03:42:11.573811Z"
    }
   },
   "outputs": [
    {
     "data": {
      "text/plain": [
       "377"
      ]
     },
     "execution_count": 95,
     "metadata": {},
     "output_type": "execute_result"
    }
   ],
   "source": [
    "total_length = len(df_text)\n",
    "total_length"
   ]
  },
  {
   "cell_type": "code",
   "execution_count": null,
   "id": "ada5ce02-9e19-4413-adbd-a75b58599899",
   "metadata": {
    "execution": {
     "iopub.execute_input": "2024-05-26T03:47:03.568653Z",
     "iopub.status.busy": "2024-05-26T03:47:03.568148Z",
     "iopub.status.idle": "2024-05-26T03:47:25.223748Z",
     "shell.execute_reply": "2024-05-26T03:47:25.222990Z",
     "shell.execute_reply.started": "2024-05-26T03:47:03.568623Z"
    }
   },
   "outputs": [],
   "source": [
    "df_text[\"rag_1\"] = ''"
   ]
  },
  {
   "cell_type": "code",
   "execution_count": 112,
   "id": "92772878-55cb-4690-a50f-58a017d5c72e",
   "metadata": {
    "execution": {
     "iopub.execute_input": "2024-05-26T04:48:31.803910Z",
     "iopub.status.busy": "2024-05-26T04:48:31.802863Z",
     "iopub.status.idle": "2024-05-26T04:49:59.290620Z",
     "shell.execute_reply": "2024-05-26T04:49:59.289515Z",
     "shell.execute_reply.started": "2024-05-26T04:48:31.803861Z"
    },
    "scrolled": true
   },
   "outputs": [
    {
     "data": {
      "application/vnd.jupyter.widget-view+json": {
       "model_id": "a16818c5bfef48d88e4ef3fcc7835f39",
       "version_major": 2,
       "version_minor": 0
      },
      "text/plain": [
       "  0%|          | 0/377 [00:00<?, ?it/s]"
      ]
     },
     "metadata": {},
     "output_type": "display_data"
    },
    {
     "name": "stderr",
     "output_type": "stream",
     "text": [
      "ic| type(texts): <class 'list'>\n",
      "ic| len(texts): 1\n",
      "Number of requested results 4 is greater than number of elements in index 1, updating n_results = 1\n",
      "ic| type(texts): <class 'list'>\n",
      "ic| len(texts): 1\n",
      "Number of requested results 4 is greater than number of elements in index 1, updating n_results = 1\n",
      "ic| type(texts): <class 'list'>\n",
      "ic| len(texts): 4\n",
      "ic| type(texts): <class 'list'>\n",
      "ic| len(texts): 1\n",
      "Number of requested results 4 is greater than number of elements in index 1, updating n_results = 1\n",
      "ic| type(texts): <class 'list'>\n",
      "ic| len(texts): 1\n",
      "Number of requested results 4 is greater than number of elements in index 1, updating n_results = 1\n",
      "ic| type(texts): <class 'list'>\n",
      "ic| len(texts): 1\n",
      "Number of requested results 4 is greater than number of elements in index 1, updating n_results = 1\n",
      "ic| type(texts): <class 'list'>\n",
      "ic| len(texts): 1\n",
      "Number of requested results 4 is greater than number of elements in index 1, updating n_results = 1\n",
      "ic| type(texts): <class 'list'>\n",
      "ic| len(texts): 1\n",
      "Number of requested results 4 is greater than number of elements in index 1, updating n_results = 1\n",
      "ic| type(texts): <class 'list'>\n",
      "ic| len(texts): 2\n",
      "Number of requested results 4 is greater than number of elements in index 2, updating n_results = 2\n",
      "ic| type(texts): <class 'list'>\n",
      "ic| len(texts): 1\n",
      "Number of requested results 4 is greater than number of elements in index 1, updating n_results = 1\n",
      "ic| type(texts): <class 'list'>\n",
      "ic| len(texts): 1\n",
      "Number of requested results 4 is greater than number of elements in index 1, updating n_results = 1\n"
     ]
    }
   ],
   "source": [
    "for index, row in tqdm(df_text[136:].iterrows(), total=total_length):\n",
    "    text = row['content']\n",
    "    if isinstance(text, str) and len(text) > 0:\n",
    "        result = retrieve_info(text=row['content'], pt=pt, ret_prompt=ret_prompt)\n",
    "        df_text.loc[index, \"rag_1\"] = result['result']"
   ]
  },
  {
   "cell_type": "code",
   "execution_count": 106,
   "id": "fe405328-8c80-4f47-8f7a-9d77a4978684",
   "metadata": {
    "execution": {
     "iopub.execute_input": "2024-05-26T04:37:23.598103Z",
     "iopub.status.busy": "2024-05-26T04:37:23.597332Z",
     "iopub.status.idle": "2024-05-26T04:37:32.438079Z",
     "shell.execute_reply": "2024-05-26T04:37:32.436663Z",
     "shell.execute_reply.started": "2024-05-26T04:37:23.598073Z"
    },
    "scrolled": true
   },
   "outputs": [],
   "source": [
    "index = 135\n",
    "text = df_text.iloc[index]['content']\n",
    "result = retrieve_info(text=text, pt=pt, ret_prompt=ret_prompt)\n",
    "df_text.loc[index, \"rag_1\"] = result['result']"
   ]
  },
  {
   "cell_type": "code",
   "execution_count": 116,
   "id": "a7348b77-c814-498e-8e9f-08813e4a045f",
   "metadata": {
    "execution": {
     "iopub.execute_input": "2024-05-26T04:52:42.270242Z",
     "iopub.status.busy": "2024-05-26T04:52:42.269984Z",
     "iopub.status.idle": "2024-05-26T04:52:42.277765Z",
     "shell.execute_reply": "2024-05-26T04:52:42.277251Z",
     "shell.execute_reply.started": "2024-05-26T04:52:42.270222Z"
    },
    "scrolled": true
   },
   "outputs": [
    {
     "name": "stdout",
     "output_type": "stream",
     "text": [
      "<class 'pandas.core.frame.DataFrame'>\n",
      "RangeIndex: 377 entries, 0 to 376\n",
      "Data columns (total 22 columns):\n",
      " #   Column           Non-Null Count  Dtype  \n",
      "---  ------           --------------  -----  \n",
      " 0   범죄 유형            0 non-null      float64\n",
      " 1   지역               334 non-null    object \n",
      " 2   위도               103 non-null    float64\n",
      " 3   경도               103 non-null    float64\n",
      " 4   중복 여부            0 non-null      float64\n",
      " 5   퀄리티              0 non-null      float64\n",
      " 6   제외 여부            0 non-null      float64\n",
      " 7   기사제목             377 non-null    object \n",
      " 8   사건 장소            328 non-null    object \n",
      " 9   수사 기관            377 non-null    object \n",
      " 10  본문               377 non-null    object \n",
      " 11  URL              209 non-null    object \n",
      " 12  일자               377 non-null    int64  \n",
      " 13  언론사              377 non-null    object \n",
      " 14  기고자              286 non-null    object \n",
      " 15  비고               0 non-null      float64\n",
      " 16  selenium_html    209 non-null    object \n",
      " 17  content          148 non-null    object \n",
      " 18  found_sentences  377 non-null    object \n",
      " 19  found_text       377 non-null    object \n",
      " 20  rag_1            377 non-null    object \n",
      " 21  rag_1_len        377 non-null    int64  \n",
      "dtypes: float64(7), int64(2), object(13)\n",
      "memory usage: 64.9+ KB\n"
     ]
    }
   ],
   "source": [
    "df_text.info()"
   ]
  },
  {
   "cell_type": "code",
   "execution_count": 114,
   "id": "710f5979-0ea0-41b7-bff0-a31afd8a0412",
   "metadata": {
    "execution": {
     "iopub.execute_input": "2024-05-26T04:51:12.093318Z",
     "iopub.status.busy": "2024-05-26T04:51:12.093107Z",
     "iopub.status.idle": "2024-05-26T04:51:12.098032Z",
     "shell.execute_reply": "2024-05-26T04:51:12.097716Z",
     "shell.execute_reply.started": "2024-05-26T04:51:12.093304Z"
    }
   },
   "outputs": [],
   "source": [
    "df_text['rag_1_len'] = 0"
   ]
  },
  {
   "cell_type": "code",
   "execution_count": 115,
   "id": "5e32902a-4349-49a5-bf60-8846cf28a893",
   "metadata": {
    "execution": {
     "iopub.execute_input": "2024-05-26T04:52:39.125825Z",
     "iopub.status.busy": "2024-05-26T04:52:39.125265Z",
     "iopub.status.idle": "2024-05-26T04:52:39.143937Z",
     "shell.execute_reply": "2024-05-26T04:52:39.143495Z",
     "shell.execute_reply.started": "2024-05-26T04:52:39.125763Z"
    }
   },
   "outputs": [],
   "source": [
    "df_text['rag_1_len'] = [len(row['rag_1']) for index, row in df_text.iterrows()]"
   ]
  },
  {
   "cell_type": "code",
   "execution_count": 118,
   "id": "76b98eee-c86d-4c1e-ac0e-0f4545e3e42d",
   "metadata": {
    "execution": {
     "iopub.execute_input": "2024-05-26T04:53:15.177055Z",
     "iopub.status.busy": "2024-05-26T04:53:15.176798Z",
     "iopub.status.idle": "2024-05-26T04:53:15.826923Z",
     "shell.execute_reply": "2024-05-26T04:53:15.825652Z",
     "shell.execute_reply.started": "2024-05-26T04:53:15.177038Z"
    }
   },
   "outputs": [
    {
     "data": {
      "text/plain": [
       "<Axes: >"
      ]
     },
     "execution_count": 118,
     "metadata": {},
     "output_type": "execute_result"
    },
    {
     "data": {
      "image/png": "[encoded data removed]",
      "text/plain": [
       "<Figure size 640x480 with 1 Axes>"
      ]
     },
     "metadata": {},
     "output_type": "display_data"
    }
   ],
   "source": [
    "df_text['rag_1_len'].plot()"
   ]
  },
  {
   "cell_type": "markdown",
   "id": "e3c613e8-25e0-4042-adec-4811dd814f1c",
   "metadata": {},
   "source": [
    "#### save to parquet"
   ]
  },
  {
   "cell_type": "code",
   "execution_count": 119,
   "id": "38b57e68-851a-45cb-8bb1-9a988922aa8f",
   "metadata": {
    "execution": {
     "iopub.execute_input": "2024-05-26T04:57:27.486456Z",
     "iopub.status.busy": "2024-05-26T04:57:27.472761Z",
     "iopub.status.idle": "2024-05-26T04:57:28.235012Z",
     "shell.execute_reply": "2024-05-26T04:57:28.234526Z",
     "shell.execute_reply.started": "2024-05-26T04:57:27.486419Z"
    }
   },
   "outputs": [],
   "source": [
    "df_text.to_parquet('./dataframe/flasher_hk_20130101_20220307_rag.parquet.gzip', compression='gzip')"
   ]
  },
  {
   "cell_type": "code",
   "execution_count": 120,
   "id": "65b7947d-07f9-45e8-816b-d719359175ff",
   "metadata": {
    "execution": {
     "iopub.execute_input": "2024-05-26T04:57:33.452159Z",
     "iopub.status.busy": "2024-05-26T04:57:33.451881Z",
     "iopub.status.idle": "2024-05-26T04:57:33.957714Z",
     "shell.execute_reply": "2024-05-26T04:57:33.957291Z",
     "shell.execute_reply.started": "2024-05-26T04:57:33.452141Z"
    }
   },
   "outputs": [],
   "source": [
    "df_text.to_excel('./dataframe/flasher_hk_20130101_20220307_rag.xlsx', index=False)"
   ]
  },
  {
   "cell_type": "markdown",
   "id": "8dc1d7b1-42f4-4cd8-a8c3-9f091dfa5dd6",
   "metadata": {
    "jp-MarkdownHeadingCollapsed": true
   },
   "source": [
    "#### save df_hk_json"
   ]
  },
  {
   "cell_type": "code",
   "execution_count": 81,
   "id": "7c3ee1b4-a010-43ee-aa28-d095af497745",
   "metadata": {
    "execution": {
     "iopub.execute_input": "2024-04-21T10:51:21.520708Z",
     "iopub.status.busy": "2024-04-21T10:51:21.518768Z",
     "iopub.status.idle": "2024-04-21T10:51:21.547540Z",
     "shell.execute_reply": "2024-04-21T10:51:21.547095Z",
     "shell.execute_reply.started": "2024-04-21T10:51:21.520651Z"
    }
   },
   "outputs": [],
   "source": [
    "save_var(df, \"df_hk_json\")"
   ]
  },
  {
   "cell_type": "code",
   "execution_count": 3,
   "id": "29316bcb-e4b2-4cbf-8d6b-e3748f7b059c",
   "metadata": {
    "execution": {
     "iopub.execute_input": "2024-05-13T08:57:52.115939Z",
     "iopub.status.busy": "2024-05-13T08:57:52.093603Z",
     "iopub.status.idle": "2024-05-13T08:57:52.138570Z",
     "shell.execute_reply": "2024-05-13T08:57:52.137882Z",
     "shell.execute_reply.started": "2024-05-13T08:57:52.115862Z"
    }
   },
   "outputs": [],
   "source": [
    "df_hk_json = load_var(\"df_hk_json\")"
   ]
  },
  {
   "cell_type": "markdown",
   "id": "1e30c6ba-046e-4dac-98d9-a89756f73b0c",
   "metadata": {
    "jp-MarkdownHeadingCollapsed": true
   },
   "source": [
    "#### inspection"
   ]
  },
  {
   "cell_type": "code",
   "execution_count": 133,
   "id": "e61a6d54-f8bb-46ff-949a-fdc89abac092",
   "metadata": {
    "collapsed": true,
    "execution": {
     "iopub.execute_input": "2024-05-12T04:16:41.808499Z",
     "iopub.status.busy": "2024-05-12T04:16:41.805784Z",
     "iopub.status.idle": "2024-05-12T04:16:41.849885Z",
     "shell.execute_reply": "2024-05-12T04:16:41.849323Z",
     "shell.execute_reply.started": "2024-05-12T04:16:41.808445Z"
    },
    "jupyter": {
     "outputs_hidden": true
    },
    "scrolled": true
   },
   "outputs": [
    {
     "name": "stdout",
     "output_type": "stream",
     "text": [
      "<class 'pandas.core.frame.DataFrame'>\n",
      "RangeIndex: 27 entries, 0 to 26\n",
      "Data columns (total 22 columns):\n",
      " #   Column  Non-Null Count  Dtype  \n",
      "---  ------  --------------  -----  \n",
      " 0   범죄 유형   0 non-null      float64\n",
      " 1   지역      3 non-null      object \n",
      " 2   위도      0 non-null      float64\n",
      " 3   경도      0 non-null      float64\n",
      " 4   중복 여부   6 non-null      object \n",
      " 5   퀄리티     0 non-null      float64\n",
      " 6   제외 여부   0 non-null      float64\n",
      " 7   기사제목    27 non-null     object \n",
      " 8   사건 장소   27 non-null     object \n",
      " 9   수사 기관   27 non-null     object \n",
      " 10  본문      27 non-null     object \n",
      " 11  URL     27 non-null     object \n",
      " 12  일자      27 non-null     int64  \n",
      " 13  언론사     27 non-null     object \n",
      " 14  기고자     27 non-null     object \n",
      " 15  비고      0 non-null      float64\n",
      " 16  text    27 non-null     object \n",
      " 17  who     5 non-null      object \n",
      " 18  when    5 non-null      object \n",
      " 19  where   5 non-null      object \n",
      " 20  what    5 non-null      object \n",
      " 21  json    27 non-null     object \n",
      "dtypes: float64(6), int64(1), object(15)\n",
      "memory usage: 4.8+ KB\n"
     ]
    }
   ],
   "source": [
    "df_hk_json.info()"
   ]
  },
  {
   "cell_type": "code",
   "execution_count": 7,
   "id": "9bddc3e3-dea7-4d81-bb13-4abb8a587011",
   "metadata": {
    "execution": {
     "iopub.execute_input": "2024-05-13T08:22:40.642338Z",
     "iopub.status.busy": "2024-05-13T08:22:40.641497Z",
     "iopub.status.idle": "2024-05-13T08:22:40.687915Z",
     "shell.execute_reply": "2024-05-13T08:22:40.687371Z",
     "shell.execute_reply.started": "2024-05-13T08:22:40.642294Z"
    },
    "scrolled": true
   },
   "outputs": [
    {
     "data": {
      "text/html": [
       "<div>\n",
       "<style scoped>\n",
       "    .dataframe tbody tr th:only-of-type {\n",
       "        vertical-align: middle;\n",
       "    }\n",
       "\n",
       "    .dataframe tbody tr th {\n",
       "        vertical-align: top;\n",
       "    }\n",
       "\n",
       "    .dataframe thead th {\n",
       "        text-align: right;\n",
       "    }\n",
       "</style>\n",
       "<table border=\"1\" class=\"dataframe\">\n",
       "  <thead>\n",
       "    <tr style=\"text-align: right;\">\n",
       "      <th></th>\n",
       "      <th>범죄 유형</th>\n",
       "      <th>지역</th>\n",
       "      <th>위도</th>\n",
       "      <th>경도</th>\n",
       "      <th>중복 여부</th>\n",
       "      <th>퀄리티</th>\n",
       "      <th>제외 여부</th>\n",
       "      <th>기사제목</th>\n",
       "      <th>사건 장소</th>\n",
       "      <th>수사 기관</th>\n",
       "      <th>...</th>\n",
       "      <th>일자</th>\n",
       "      <th>언론사</th>\n",
       "      <th>기고자</th>\n",
       "      <th>비고</th>\n",
       "      <th>text</th>\n",
       "      <th>who</th>\n",
       "      <th>when</th>\n",
       "      <th>where</th>\n",
       "      <th>what</th>\n",
       "      <th>json</th>\n",
       "    </tr>\n",
       "  </thead>\n",
       "  <tbody>\n",
       "    <tr>\n",
       "      <th>0</th>\n",
       "      <td>NaN</td>\n",
       "      <td>NaN</td>\n",
       "      <td>NaN</td>\n",
       "      <td>NaN</td>\n",
       "      <td>19번과 중복</td>\n",
       "      <td>NaN</td>\n",
       "      <td>NaN</td>\n",
       "      <td>부산 돌려차기 男 \"나가면 죽인다\" 구치소 동료 충격 제보</td>\n",
       "      <td>부산,상해</td>\n",
       "      <td>SBS,경찰,부산</td>\n",
       "      <td>...</td>\n",
       "      <td>20230410</td>\n",
       "      <td>한국경제</td>\n",
       "      <td>김세린</td>\n",
       "      <td>NaN</td>\n",
       "      <td>사건 당시 폐쇄회로(CC)TV에 담긴 폭행 영상. /사진= SBS '그것이 알고싶다...</td>\n",
       "      <td>B씨</td>\n",
       "      <td>2023년 10월 10일</td>\n",
       "      <td>부산의 한 모텔</td>\n",
       "      <td>성폭행 혐의로 1심에서 12년형을 선고받고 복역 중이며, 형량이 과도하다는 취지로 ...</td>\n",
       "      <td>{\\n\"who\": \"B씨\",\\n\"when\": \"7분 동안 성폭행이 일어났다\",\\n\"...</td>\n",
       "    </tr>\n",
       "  </tbody>\n",
       "</table>\n",
       "<p>1 rows × 22 columns</p>\n",
       "</div>"
      ],
      "text/plain": [
       "   범죄 유형   지역  위도  경도    중복 여부  퀄리티  제외 여부                              기사제목  \\\n",
       "0    NaN  NaN NaN NaN  19번과 중복  NaN    NaN  부산 돌려차기 男 \"나가면 죽인다\" 구치소 동료 충격 제보   \n",
       "\n",
       "   사건 장소      수사 기관  ...        일자   언론사  기고자  비고  \\\n",
       "0  부산,상해  SBS,경찰,부산  ...  20230410  한국경제  김세린 NaN   \n",
       "\n",
       "                                                text  who           when  \\\n",
       "0  사건 당시 폐쇄회로(CC)TV에 담긴 폭행 영상. /사진= SBS '그것이 알고싶다...   B씨  2023년 10월 10일   \n",
       "\n",
       "      where                                               what  \\\n",
       "0  부산의 한 모텔  성폭행 혐의로 1심에서 12년형을 선고받고 복역 중이며, 형량이 과도하다는 취지로 ...   \n",
       "\n",
       "                                                json  \n",
       "0  {\\n\"who\": \"B씨\",\\n\"when\": \"7분 동안 성폭행이 일어났다\",\\n\"...  \n",
       "\n",
       "[1 rows x 22 columns]"
      ]
     },
     "execution_count": 7,
     "metadata": {},
     "output_type": "execute_result"
    }
   ],
   "source": [
    "df_hk_json.head(1)"
   ]
  },
  {
   "cell_type": "code",
   "execution_count": 8,
   "id": "6f4f1099-b817-416e-aeec-0117fbaa4cfd",
   "metadata": {
    "execution": {
     "iopub.execute_input": "2024-05-13T08:22:44.117642Z",
     "iopub.status.busy": "2024-05-13T08:22:44.116231Z",
     "iopub.status.idle": "2024-05-13T08:22:44.130511Z",
     "shell.execute_reply": "2024-05-13T08:22:44.129926Z",
     "shell.execute_reply.started": "2024-05-13T08:22:44.117596Z"
    }
   },
   "outputs": [
    {
     "data": {
      "text/plain": [
       "'{\"who\": \"남성\", \"when\": \"3월 서울 관악구 골목길에서 난동을 부렸던 날\", \"where\": \"서울\", \"what\": \"남성이 여성을 향해 달려갔다, 갑자기 돌진하는 남성을 보며 놀란 여성이 횡단보도로 뛰어가며 도망쳤지만, 남성은 그 뒤를 쫓아갔다.\"'"
      ]
     },
     "execution_count": 8,
     "metadata": {},
     "output_type": "execute_result"
    }
   ],
   "source": [
    "df_hk_json.iloc[2]['json']"
   ]
  },
  {
   "cell_type": "markdown",
   "id": "ae8573d2-fbb4-4952-8c52-42549cf9af8f",
   "metadata": {
    "jp-MarkdownHeadingCollapsed": true
   },
   "source": [
    "#### search address in text"
   ]
  },
  {
   "cell_type": "code",
   "execution_count": 4,
   "id": "52825607-cf55-4c81-b6c3-865a90f030f7",
   "metadata": {
    "execution": {
     "iopub.execute_input": "2024-05-13T08:57:53.476704Z",
     "iopub.status.busy": "2024-05-13T08:57:53.476473Z",
     "iopub.status.idle": "2024-05-13T08:57:53.481513Z",
     "shell.execute_reply": "2024-05-13T08:57:53.481038Z",
     "shell.execute_reply.started": "2024-05-13T08:57:53.476688Z"
    }
   },
   "outputs": [],
   "source": [
    "df_where = df_hk_json['where']"
   ]
  },
  {
   "cell_type": "code",
   "execution_count": 8,
   "id": "85fca747-5433-4fdd-91a2-2caee83551c9",
   "metadata": {
    "collapsed": true,
    "execution": {
     "iopub.execute_input": "2024-05-13T08:35:12.425318Z",
     "iopub.status.busy": "2024-05-13T08:35:12.423792Z",
     "iopub.status.idle": "2024-05-13T08:35:12.436778Z",
     "shell.execute_reply": "2024-05-13T08:35:12.435992Z",
     "shell.execute_reply.started": "2024-05-13T08:35:12.425264Z"
    },
    "jupyter": {
     "outputs_hidden": true
    },
    "scrolled": true
   },
   "outputs": [
    {
     "data": {
      "text/plain": [
       "0           부산의 한 모텔\n",
       "1         김제시의 한 아파트\n",
       "2    서울 강남구 압구정동의 길가\n",
       "3         김제시의 한 아파트\n",
       "4         김제시의 한 아파트\n",
       "Name: where, dtype: object"
      ]
     },
     "execution_count": 8,
     "metadata": {},
     "output_type": "execute_result"
    }
   ],
   "source": [
    "df_where.head()"
   ]
  },
  {
   "cell_type": "code",
   "execution_count": 5,
   "id": "eb623348-1d00-41ec-ad83-b65716fdce1d",
   "metadata": {
    "execution": {
     "iopub.execute_input": "2024-05-13T08:58:04.501591Z",
     "iopub.status.busy": "2024-05-13T08:58:04.500886Z",
     "iopub.status.idle": "2024-05-13T08:58:04.564981Z",
     "shell.execute_reply": "2024-05-13T08:58:04.564628Z",
     "shell.execute_reply.started": "2024-05-13T08:58:04.501566Z"
    }
   },
   "outputs": [],
   "source": [
    "df_addr = pd.read_csv('./address/address.csv')"
   ]
  },
  {
   "cell_type": "markdown",
   "id": "db1b3949-f8a1-41ff-831c-33c1a0cc41cc",
   "metadata": {
    "jp-MarkdownHeadingCollapsed": true
   },
   "source": [
    "#### retrieve"
   ]
  },
  {
   "cell_type": "code",
   "execution_count": 6,
   "id": "a7fa7f4e-fdc2-4983-a4f5-17c097ae549a",
   "metadata": {
    "execution": {
     "iopub.execute_input": "2024-05-13T08:58:08.633271Z",
     "iopub.status.busy": "2024-05-13T08:58:08.632263Z",
     "iopub.status.idle": "2024-05-13T08:58:12.286491Z",
     "shell.execute_reply": "2024-05-13T08:58:12.286163Z",
     "shell.execute_reply.started": "2024-05-13T08:58:08.633242Z"
    },
    "scrolled": true
   },
   "outputs": [
    {
     "name": "stderr",
     "output_type": "stream",
     "text": [
      "ic| item: '부산의 한 모텔'\n",
      "ic| res: ''\n",
      "ic| item: '김제시의 한 아파트'\n",
      "ic| res: '전북특별자치도 김제시'\n",
      "ic| item: '서울 강남구 압구정동의 길가'\n",
      "ic| res: '서울특별시 강남구 압구정동'\n"
     ]
    }
   ],
   "source": [
    "history = []\n",
    "for item in df_where[:3]:\n",
    "    if isinstance(item, str):\n",
    "        ic(item)\n",
    "        ra = RetrieveAddress(df_addr)\n",
    "        res = ra.process(item)\n",
    "        history.append(ra)\n",
    "        ic(res)"
   ]
  },
  {
   "cell_type": "code",
   "execution_count": 18,
   "id": "4e3e05da-28f2-4afa-89af-52b8d050d264",
   "metadata": {
    "execution": {
     "iopub.execute_input": "2024-05-13T08:45:32.770672Z",
     "iopub.status.busy": "2024-05-13T08:45:32.769552Z",
     "iopub.status.idle": "2024-05-13T08:45:32.781917Z",
     "shell.execute_reply": "2024-05-13T08:45:32.781517Z",
     "shell.execute_reply.started": "2024-05-13T08:45:32.770631Z"
    }
   },
   "outputs": [
    {
     "data": {
      "text/html": [
       "<div>\n",
       "<style scoped>\n",
       "    .dataframe tbody tr th:only-of-type {\n",
       "        vertical-align: middle;\n",
       "    }\n",
       "\n",
       "    .dataframe tbody tr th {\n",
       "        vertical-align: top;\n",
       "    }\n",
       "\n",
       "    .dataframe thead th {\n",
       "        text-align: right;\n",
       "    }\n",
       "</style>\n",
       "<table border=\"1\" class=\"dataframe\">\n",
       "  <thead>\n",
       "    <tr style=\"text-align: right;\">\n",
       "      <th></th>\n",
       "      <th>lv1</th>\n",
       "      <th>lv2</th>\n",
       "      <th>lv3</th>\n",
       "      <th>lv4</th>\n",
       "      <th>lv5</th>\n",
       "    </tr>\n",
       "  </thead>\n",
       "  <tbody>\n",
       "  </tbody>\n",
       "</table>\n",
       "</div>"
      ],
      "text/plain": [
       "Empty DataFrame\n",
       "Columns: [lv1, lv2, lv3, lv4, lv5]\n",
       "Index: []"
      ]
     },
     "execution_count": 18,
     "metadata": {},
     "output_type": "execute_result"
    }
   ],
   "source": [
    "history[0].df_filtered"
   ]
  },
  {
   "cell_type": "markdown",
   "id": "11932fa8-b535-456d-930b-afb02507ebcc",
   "metadata": {},
   "source": [
    "'부산'은 첫번째 컬럼이므로 필터링이 되지 않기 때문에,  \n",
    "아무 데이터도 없다."
   ]
  },
  {
   "cell_type": "code",
   "execution_count": 19,
   "id": "bf460d9f-e502-443e-adf9-bea9a186243a",
   "metadata": {
    "execution": {
     "iopub.execute_input": "2024-05-13T08:47:14.389842Z",
     "iopub.status.busy": "2024-05-13T08:47:14.388561Z",
     "iopub.status.idle": "2024-05-13T08:47:14.407894Z",
     "shell.execute_reply": "2024-05-13T08:47:14.407507Z",
     "shell.execute_reply.started": "2024-05-13T08:47:14.389812Z"
    },
    "scrolled": true
   },
   "outputs": [
    {
     "data": {
      "text/html": [
       "<div>\n",
       "<style scoped>\n",
       "    .dataframe tbody tr th:only-of-type {\n",
       "        vertical-align: middle;\n",
       "    }\n",
       "\n",
       "    .dataframe tbody tr th {\n",
       "        vertical-align: top;\n",
       "    }\n",
       "\n",
       "    .dataframe thead th {\n",
       "        text-align: right;\n",
       "    }\n",
       "</style>\n",
       "<table border=\"1\" class=\"dataframe\">\n",
       "  <thead>\n",
       "    <tr style=\"text-align: right;\">\n",
       "      <th></th>\n",
       "      <th>lv1</th>\n",
       "      <th>lv2</th>\n",
       "      <th>lv3</th>\n",
       "      <th>lv4</th>\n",
       "      <th>lv5</th>\n",
       "    </tr>\n",
       "  </thead>\n",
       "  <tbody>\n",
       "    <tr>\n",
       "      <th>9538</th>\n",
       "      <td>전북특별자치도</td>\n",
       "      <td>김제시</td>\n",
       "      <td>요촌동</td>\n",
       "      <td>NaN</td>\n",
       "      <td>NaN</td>\n",
       "    </tr>\n",
       "    <tr>\n",
       "      <th>9539</th>\n",
       "      <td>전북특별자치도</td>\n",
       "      <td>김제시</td>\n",
       "      <td>신풍동</td>\n",
       "      <td>NaN</td>\n",
       "      <td>NaN</td>\n",
       "    </tr>\n",
       "    <tr>\n",
       "      <th>9540</th>\n",
       "      <td>전북특별자치도</td>\n",
       "      <td>김제시</td>\n",
       "      <td>용동</td>\n",
       "      <td>NaN</td>\n",
       "      <td>NaN</td>\n",
       "    </tr>\n",
       "    <tr>\n",
       "      <th>9541</th>\n",
       "      <td>전북특별자치도</td>\n",
       "      <td>김제시</td>\n",
       "      <td>검산동</td>\n",
       "      <td>NaN</td>\n",
       "      <td>NaN</td>\n",
       "    </tr>\n",
       "    <tr>\n",
       "      <th>9542</th>\n",
       "      <td>전북특별자치도</td>\n",
       "      <td>김제시</td>\n",
       "      <td>순동</td>\n",
       "      <td>NaN</td>\n",
       "      <td>NaN</td>\n",
       "    </tr>\n",
       "    <tr>\n",
       "      <th>...</th>\n",
       "      <td>...</td>\n",
       "      <td>...</td>\n",
       "      <td>...</td>\n",
       "      <td>...</td>\n",
       "      <td>...</td>\n",
       "    </tr>\n",
       "    <tr>\n",
       "      <th>9751</th>\n",
       "      <td>전북특별자치도</td>\n",
       "      <td>김제시</td>\n",
       "      <td>금산면</td>\n",
       "      <td>용산리</td>\n",
       "      <td>NaN</td>\n",
       "    </tr>\n",
       "    <tr>\n",
       "      <th>9752</th>\n",
       "      <td>전북특별자치도</td>\n",
       "      <td>김제시</td>\n",
       "      <td>금산면</td>\n",
       "      <td>구월리</td>\n",
       "      <td>NaN</td>\n",
       "    </tr>\n",
       "    <tr>\n",
       "      <th>9753</th>\n",
       "      <td>전북특별자치도</td>\n",
       "      <td>김제시</td>\n",
       "      <td>광활면</td>\n",
       "      <td>옥포리</td>\n",
       "      <td>NaN</td>\n",
       "    </tr>\n",
       "    <tr>\n",
       "      <th>9754</th>\n",
       "      <td>전북특별자치도</td>\n",
       "      <td>김제시</td>\n",
       "      <td>광활면</td>\n",
       "      <td>은파리</td>\n",
       "      <td>NaN</td>\n",
       "    </tr>\n",
       "    <tr>\n",
       "      <th>9755</th>\n",
       "      <td>전북특별자치도</td>\n",
       "      <td>김제시</td>\n",
       "      <td>광활면</td>\n",
       "      <td>창제리</td>\n",
       "      <td>NaN</td>\n",
       "    </tr>\n",
       "  </tbody>\n",
       "</table>\n",
       "<p>218 rows × 5 columns</p>\n",
       "</div>"
      ],
      "text/plain": [
       "          lv1  lv2  lv3  lv4  lv5\n",
       "9538  전북특별자치도  김제시  요촌동  NaN  NaN\n",
       "9539  전북특별자치도  김제시  신풍동  NaN  NaN\n",
       "9540  전북특별자치도  김제시   용동  NaN  NaN\n",
       "9541  전북특별자치도  김제시  검산동  NaN  NaN\n",
       "9542  전북특별자치도  김제시   순동  NaN  NaN\n",
       "...       ...  ...  ...  ...  ...\n",
       "9751  전북특별자치도  김제시  금산면  용산리  NaN\n",
       "9752  전북특별자치도  김제시  금산면  구월리  NaN\n",
       "9753  전북특별자치도  김제시  광활면  옥포리  NaN\n",
       "9754  전북특별자치도  김제시  광활면  은파리  NaN\n",
       "9755  전북특별자치도  김제시  광활면  창제리  NaN\n",
       "\n",
       "[218 rows x 5 columns]"
      ]
     },
     "execution_count": 19,
     "metadata": {},
     "output_type": "execute_result"
    }
   ],
   "source": [
    "history[1].df_filtered"
   ]
  },
  {
   "cell_type": "code",
   "execution_count": 20,
   "id": "7ce85906-8f5e-4230-a901-4a01580b4c71",
   "metadata": {
    "execution": {
     "iopub.execute_input": "2024-05-13T08:48:07.914842Z",
     "iopub.status.busy": "2024-05-13T08:48:07.913705Z",
     "iopub.status.idle": "2024-05-13T08:48:07.941451Z",
     "shell.execute_reply": "2024-05-13T08:48:07.941040Z",
     "shell.execute_reply.started": "2024-05-13T08:48:07.914804Z"
    },
    "scrolled": true
   },
   "outputs": [
    {
     "data": {
      "text/html": [
       "<div>\n",
       "<style scoped>\n",
       "    .dataframe tbody tr th:only-of-type {\n",
       "        vertical-align: middle;\n",
       "    }\n",
       "\n",
       "    .dataframe tbody tr th {\n",
       "        vertical-align: top;\n",
       "    }\n",
       "\n",
       "    .dataframe thead th {\n",
       "        text-align: right;\n",
       "    }\n",
       "</style>\n",
       "<table border=\"1\" class=\"dataframe\">\n",
       "  <thead>\n",
       "    <tr style=\"text-align: right;\">\n",
       "      <th></th>\n",
       "      <th>index</th>\n",
       "      <th>lv1</th>\n",
       "      <th>lv2</th>\n",
       "      <th>lv3</th>\n",
       "    </tr>\n",
       "  </thead>\n",
       "  <tbody>\n",
       "    <tr>\n",
       "      <th>0</th>\n",
       "      <td>9538</td>\n",
       "      <td>218</td>\n",
       "      <td>218</td>\n",
       "      <td>218</td>\n",
       "    </tr>\n",
       "    <tr>\n",
       "      <th>1</th>\n",
       "      <td>9539</td>\n",
       "      <td>218</td>\n",
       "      <td>218</td>\n",
       "      <td>218</td>\n",
       "    </tr>\n",
       "    <tr>\n",
       "      <th>2</th>\n",
       "      <td>9540</td>\n",
       "      <td>218</td>\n",
       "      <td>218</td>\n",
       "      <td>218</td>\n",
       "    </tr>\n",
       "    <tr>\n",
       "      <th>3</th>\n",
       "      <td>9541</td>\n",
       "      <td>218</td>\n",
       "      <td>218</td>\n",
       "      <td>218</td>\n",
       "    </tr>\n",
       "    <tr>\n",
       "      <th>4</th>\n",
       "      <td>9542</td>\n",
       "      <td>218</td>\n",
       "      <td>218</td>\n",
       "      <td>218</td>\n",
       "    </tr>\n",
       "    <tr>\n",
       "      <th>...</th>\n",
       "      <td>...</td>\n",
       "      <td>...</td>\n",
       "      <td>...</td>\n",
       "      <td>...</td>\n",
       "    </tr>\n",
       "    <tr>\n",
       "      <th>213</th>\n",
       "      <td>9751</td>\n",
       "      <td>218</td>\n",
       "      <td>218</td>\n",
       "      <td>218</td>\n",
       "    </tr>\n",
       "    <tr>\n",
       "      <th>214</th>\n",
       "      <td>9752</td>\n",
       "      <td>218</td>\n",
       "      <td>218</td>\n",
       "      <td>218</td>\n",
       "    </tr>\n",
       "    <tr>\n",
       "      <th>215</th>\n",
       "      <td>9753</td>\n",
       "      <td>218</td>\n",
       "      <td>218</td>\n",
       "      <td>218</td>\n",
       "    </tr>\n",
       "    <tr>\n",
       "      <th>216</th>\n",
       "      <td>9754</td>\n",
       "      <td>218</td>\n",
       "      <td>218</td>\n",
       "      <td>218</td>\n",
       "    </tr>\n",
       "    <tr>\n",
       "      <th>217</th>\n",
       "      <td>9755</td>\n",
       "      <td>218</td>\n",
       "      <td>218</td>\n",
       "      <td>218</td>\n",
       "    </tr>\n",
       "  </tbody>\n",
       "</table>\n",
       "<p>218 rows × 4 columns</p>\n",
       "</div>"
      ],
      "text/plain": [
       "     index  lv1  lv2  lv3\n",
       "0     9538  218  218  218\n",
       "1     9539  218  218  218\n",
       "2     9540  218  218  218\n",
       "3     9541  218  218  218\n",
       "4     9542  218  218  218\n",
       "..     ...  ...  ...  ...\n",
       "213   9751  218  218  218\n",
       "214   9752  218  218  218\n",
       "215   9753  218  218  218\n",
       "216   9754  218  218  218\n",
       "217   9755  218  218  218\n",
       "\n",
       "[218 rows x 4 columns]"
      ]
     },
     "execution_count": 20,
     "metadata": {},
     "output_type": "execute_result"
    }
   ],
   "source": [
    "history[1].df_count"
   ]
  },
  {
   "cell_type": "code",
   "execution_count": 7,
   "id": "aca85df0-443a-472c-9db2-76a2ea57971c",
   "metadata": {
    "execution": {
     "iopub.execute_input": "2024-05-13T08:52:53.885475Z",
     "iopub.status.busy": "2024-05-13T08:52:53.884324Z",
     "iopub.status.idle": "2024-05-13T08:52:53.899100Z",
     "shell.execute_reply": "2024-05-13T08:52:53.898235Z",
     "shell.execute_reply.started": "2024-05-13T08:52:53.885425Z"
    }
   },
   "outputs": [
    {
     "data": {
      "text/plain": [
       "2"
      ]
     },
     "execution_count": 7,
     "metadata": {},
     "output_type": "execute_result"
    }
   ],
   "source": [
    "history[1].level"
   ]
  },
  {
   "cell_type": "code",
   "execution_count": null,
   "id": "64d28a95-73a6-47c7-83cc-eb93d02e1160",
   "metadata": {},
   "outputs": [],
   "source": []
  },
  {
   "cell_type": "markdown",
   "id": "36a09005-397c-417c-8df0-3a33e896296b",
   "metadata": {
    "jp-MarkdownHeadingCollapsed": true
   },
   "source": [
    "#### retrieving where"
   ]
  },
  {
   "cell_type": "code",
   "execution_count": 112,
   "id": "2a9e95ba-3f51-49da-8e18-c98d845bfa51",
   "metadata": {
    "execution": {
     "iopub.execute_input": "2024-04-22T05:04:42.004712Z",
     "iopub.status.busy": "2024-04-22T05:04:42.003788Z",
     "iopub.status.idle": "2024-04-22T05:04:42.011311Z",
     "shell.execute_reply": "2024-04-22T05:04:42.010005Z",
     "shell.execute_reply.started": "2024-04-22T05:04:42.004667Z"
    }
   },
   "outputs": [],
   "source": [
    "json_columns = ['who', 'when', 'where', 'what']"
   ]
  },
  {
   "cell_type": "code",
   "execution_count": 110,
   "id": "3fea41f3-20f2-4ec9-9981-9a8989cff413",
   "metadata": {
    "execution": {
     "iopub.execute_input": "2024-04-22T05:04:05.381669Z",
     "iopub.status.busy": "2024-04-22T05:04:05.380272Z",
     "iopub.status.idle": "2024-04-22T05:04:05.388533Z",
     "shell.execute_reply": "2024-04-22T05:04:05.387642Z",
     "shell.execute_reply.started": "2024-04-22T05:04:05.381588Z"
    }
   },
   "outputs": [],
   "source": [
    "json_columns_2 = ['who_2', 'when_2', 'where_2', 'what_2']"
   ]
  },
  {
   "cell_type": "code",
   "execution_count": 113,
   "id": "c0ba43be-9d8c-478c-b5e7-70f9824ae983",
   "metadata": {
    "execution": {
     "iopub.execute_input": "2024-04-22T05:05:14.735327Z",
     "iopub.status.busy": "2024-04-22T05:05:14.734879Z",
     "iopub.status.idle": "2024-04-22T05:05:14.805282Z",
     "shell.execute_reply": "2024-04-22T05:05:14.804579Z",
     "shell.execute_reply.started": "2024-04-22T05:05:14.735310Z"
    },
    "scrolled": true
   },
   "outputs": [
    {
     "name": "stderr",
     "output_type": "stream",
     "text": [
      "  0%|                                                                                                                                                                                    | 0/27 [00:00<?, ?it/s]/var/folders/r0/w084nh2s0v3fstg3n70027500000gn/T/ipykernel_43935/1434628716.py:5: FutureWarning: Setting an item of incompatible dtype is deprecated and will raise in a future error of pandas. Value '60대 남성' has dtype incompatible with float64, please explicitly cast to a compatible dtype first.\n",
      "  df.loc[index, f\"{column}_2\"] = result[column]\n",
      "/var/folders/r0/w084nh2s0v3fstg3n70027500000gn/T/ipykernel_43935/1434628716.py:5: FutureWarning: Setting an item of incompatible dtype is deprecated and will raise in a future error of pandas. Value '오후 2시' has dtype incompatible with float64, please explicitly cast to a compatible dtype first.\n",
      "  df.loc[index, f\"{column}_2\"] = result[column]\n",
      "/var/folders/r0/w084nh2s0v3fstg3n70027500000gn/T/ipykernel_43935/1434628716.py:5: FutureWarning: Setting an item of incompatible dtype is deprecated and will raise in a future error of pandas. Value '김제시 한 아파트' has dtype incompatible with float64, please explicitly cast to a compatible dtype first.\n",
      "  df.loc[index, f\"{column}_2\"] = result[column]\n",
      "/var/folders/r0/w084nh2s0v3fstg3n70027500000gn/T/ipykernel_43935/1434628716.py:5: FutureWarning: Setting an item of incompatible dtype is deprecated and will raise in a future error of pandas. Value '주먹을 휘두른 60대 여성 주먹으로 여러 차례 때린 혐의를 받았다.' has dtype incompatible with float64, please explicitly cast to a compatible dtype first.\n",
      "  df.loc[index, f\"{column}_2\"] = result[column]\n",
      "100%|██████████████████████████████████████████████████████████████████████████████████████████████████████████████████████████████████████████████████████████████████████████| 27/27 [00:00<00:00, 553.83it/s]"
     ]
    },
    {
     "name": "stdout",
     "output_type": "stream",
     "text": [
      "Error loading JSON: Expecting ',' delimiter: line 5 column 83 (char 247)\n",
      "Error loading JSON: Expecting ',' delimiter: line 1 column 136 (char 135)\n",
      "Error loading JSON: Expecting ',' delimiter: line 5 column 40 (char 134)\n",
      "Error loading JSON: Expecting ',' delimiter: line 5 column 90 (char 147)\n",
      "Error loading JSON: Expecting ',' delimiter: line 1 column 189 (char 188)\n",
      "Error loading JSON: Expecting ',' delimiter: line 1 column 167 (char 166)\n",
      "Error loading JSON: Expecting ',' delimiter: line 1 column 147 (char 146)\n",
      "Error loading JSON: Expecting ',' delimiter: line 1 column 200 (char 199)\n",
      "Error loading JSON: Expecting ',' delimiter: line 1 column 133 (char 132)\n"
     ]
    },
    {
     "name": "stderr",
     "output_type": "stream",
     "text": [
      "\n"
     ]
    }
   ],
   "source": [
    "for index in tqdm(range(df_len)):\n",
    "    result = get_json(df.iloc[index]['json_2'])\n",
    "    if result != None:\n",
    "        for column in json_columns:\n",
    "            df.loc[index, f\"{column}_2\"] = result[column]"
   ]
  },
  {
   "cell_type": "code",
   "execution_count": 117,
   "id": "c04ebc63-95ce-484f-8f06-f34d45569aa9",
   "metadata": {
    "execution": {
     "iopub.execute_input": "2024-04-22T05:06:44.170574Z",
     "iopub.status.busy": "2024-04-22T05:06:44.170238Z",
     "iopub.status.idle": "2024-04-22T05:06:44.185116Z",
     "shell.execute_reply": "2024-04-22T05:06:44.184779Z",
     "shell.execute_reply.started": "2024-04-22T05:06:44.170555Z"
    },
    "scrolled": true
   },
   "outputs": [
    {
     "data": {
      "text/html": [
       "<div>\n",
       "<style scoped>\n",
       "    .dataframe tbody tr th:only-of-type {\n",
       "        vertical-align: middle;\n",
       "    }\n",
       "\n",
       "    .dataframe tbody tr th {\n",
       "        vertical-align: top;\n",
       "    }\n",
       "\n",
       "    .dataframe thead th {\n",
       "        text-align: right;\n",
       "    }\n",
       "</style>\n",
       "<table border=\"1\" class=\"dataframe\">\n",
       "  <thead>\n",
       "    <tr style=\"text-align: right;\">\n",
       "      <th></th>\n",
       "      <th>where</th>\n",
       "      <th>where_2</th>\n",
       "    </tr>\n",
       "  </thead>\n",
       "  <tbody>\n",
       "    <tr>\n",
       "      <th>0</th>\n",
       "      <td>한 모텔에서 검거됐다</td>\n",
       "      <td>NaN</td>\n",
       "    </tr>\n",
       "    <tr>\n",
       "      <th>1</th>\n",
       "      <td>김제시의 한 아파트</td>\n",
       "      <td>김제시 한 아파트</td>\n",
       "    </tr>\n",
       "    <tr>\n",
       "      <th>2</th>\n",
       "      <td>서울 강남구 압구정동의 길가</td>\n",
       "      <td>서울 관악구 골목길</td>\n",
       "    </tr>\n",
       "    <tr>\n",
       "      <th>3</th>\n",
       "      <td>서울 강남구 압구정동의 길가</td>\n",
       "      <td>서울 강남구 압구정동</td>\n",
       "    </tr>\n",
       "    <tr>\n",
       "      <th>4</th>\n",
       "      <td>김제시의 한 아파트</td>\n",
       "      <td>서울 강남구 압구정동의 길가</td>\n",
       "    </tr>\n",
       "    <tr>\n",
       "      <th>5</th>\n",
       "      <td>NaN</td>\n",
       "      <td>강남역 인근 거리</td>\n",
       "    </tr>\n",
       "    <tr>\n",
       "      <th>6</th>\n",
       "      <td>강남 압구정동의 길가</td>\n",
       "      <td>NaN</td>\n",
       "    </tr>\n",
       "    <tr>\n",
       "      <th>7</th>\n",
       "      <td>경기 군포시 한 아파트 입구</td>\n",
       "      <td>NaN</td>\n",
       "    </tr>\n",
       "    <tr>\n",
       "      <th>8</th>\n",
       "      <td>사진=게티이미지뱅크</td>\n",
       "      <td>아파트 단지 내에서</td>\n",
       "    </tr>\n",
       "    <tr>\n",
       "      <th>9</th>\n",
       "      <td>부산</td>\n",
       "      <td>NaN</td>\n",
       "    </tr>\n",
       "    <tr>\n",
       "      <th>10</th>\n",
       "      <td>NaN</td>\n",
       "      <td>NaN</td>\n",
       "    </tr>\n",
       "    <tr>\n",
       "      <th>11</th>\n",
       "      <td>NaN</td>\n",
       "      <td>부산 부산진구 한 오피스텔 1층 복도</td>\n",
       "    </tr>\n",
       "    <tr>\n",
       "      <th>12</th>\n",
       "      <td>부산</td>\n",
       "      <td>부산에서</td>\n",
       "    </tr>\n",
       "    <tr>\n",
       "      <th>13</th>\n",
       "      <td>제주시 도련동 제주축산농협 삼화지점 앞 횡단보도</td>\n",
       "      <td>제주시 화북동의 한 횡단보도</td>\n",
       "    </tr>\n",
       "    <tr>\n",
       "      <th>14</th>\n",
       "      <td>NaN</td>\n",
       "      <td>서울 관악구 신림동 소재 야산</td>\n",
       "    </tr>\n",
       "    <tr>\n",
       "      <th>15</th>\n",
       "      <td>서울 관악구 신림동 공원 둘레길</td>\n",
       "      <td>서울 관악구 신림동 공원 둘레길</td>\n",
       "    </tr>\n",
       "    <tr>\n",
       "      <th>16</th>\n",
       "      <td>서울 관악구 신림동 등산로</td>\n",
       "      <td>서울 관악구 신림동 등산로</td>\n",
       "    </tr>\n",
       "    <tr>\n",
       "      <th>17</th>\n",
       "      <td>신림동의 공원</td>\n",
       "      <td>NaN</td>\n",
       "    </tr>\n",
       "    <tr>\n",
       "      <th>18</th>\n",
       "      <td>NaN</td>\n",
       "      <td>NaN</td>\n",
       "    </tr>\n",
       "    <tr>\n",
       "      <th>19</th>\n",
       "      <td>NaN</td>\n",
       "      <td>NaN</td>\n",
       "    </tr>\n",
       "    <tr>\n",
       "      <th>20</th>\n",
       "      <td>서울 한복판</td>\n",
       "      <td>서울 한복판</td>\n",
       "    </tr>\n",
       "    <tr>\n",
       "      <th>21</th>\n",
       "      <td>서울 중랑경찰서는 폭행치상 혐의로 입건한 A씨(30대)를 체포해 조사하고 있다고 설...</td>\n",
       "      <td>서울 지하철 7호선 안에서 맞은 편 승객에게 휴대폰을 던져 이마를 다치게 한 혐의를...</td>\n",
       "    </tr>\n",
       "    <tr>\n",
       "      <th>22</th>\n",
       "      <td>수원지역 아파트 엘리베이터 2곳과 경기 화성지역 상가 화장실 1곳</td>\n",
       "      <td>지난 5~6일 수원지역 아파트 엘리베이터 2곳과 경기 화성지역 상가 화장실 1곳에서...</td>\n",
       "    </tr>\n",
       "    <tr>\n",
       "      <th>23</th>\n",
       "      <td>수원시</td>\n",
       "      <td>수원시 소재의 한 고등학교</td>\n",
       "    </tr>\n",
       "    <tr>\n",
       "      <th>24</th>\n",
       "      <td>부산 중심가 서면</td>\n",
       "      <td>부산 중심가 서면</td>\n",
       "    </tr>\n",
       "    <tr>\n",
       "      <th>25</th>\n",
       "      <td>NaN</td>\n",
       "      <td>인천 서부경찰서는 편의점 여직원을 갑자기 폭행한 20대 남성 A씨를 불구속 입건했다</td>\n",
       "    </tr>\n",
       "    <tr>\n",
       "      <th>26</th>\n",
       "      <td>NaN</td>\n",
       "      <td>NaN</td>\n",
       "    </tr>\n",
       "  </tbody>\n",
       "</table>\n",
       "</div>"
      ],
      "text/plain": [
       "                                                where  \\\n",
       "0                                         한 모텔에서 검거됐다   \n",
       "1                                          김제시의 한 아파트   \n",
       "2                                     서울 강남구 압구정동의 길가   \n",
       "3                                     서울 강남구 압구정동의 길가   \n",
       "4                                          김제시의 한 아파트   \n",
       "5                                                 NaN   \n",
       "6                                         강남 압구정동의 길가   \n",
       "7                                     경기 군포시 한 아파트 입구   \n",
       "8                                          사진=게티이미지뱅크   \n",
       "9                                                  부산   \n",
       "10                                                NaN   \n",
       "11                                                NaN   \n",
       "12                                                 부산   \n",
       "13                         제주시 도련동 제주축산농협 삼화지점 앞 횡단보도   \n",
       "14                                                NaN   \n",
       "15                                  서울 관악구 신림동 공원 둘레길   \n",
       "16                                     서울 관악구 신림동 등산로   \n",
       "17                                            신림동의 공원   \n",
       "18                                                NaN   \n",
       "19                                                NaN   \n",
       "20                                             서울 한복판   \n",
       "21  서울 중랑경찰서는 폭행치상 혐의로 입건한 A씨(30대)를 체포해 조사하고 있다고 설...   \n",
       "22               수원지역 아파트 엘리베이터 2곳과 경기 화성지역 상가 화장실 1곳   \n",
       "23                                                수원시   \n",
       "24                                          부산 중심가 서면   \n",
       "25                                                NaN   \n",
       "26                                                NaN   \n",
       "\n",
       "                                              where_2  \n",
       "0                                                 NaN  \n",
       "1                                           김제시 한 아파트  \n",
       "2                                          서울 관악구 골목길  \n",
       "3                                         서울 강남구 압구정동  \n",
       "4                                     서울 강남구 압구정동의 길가  \n",
       "5                                           강남역 인근 거리  \n",
       "6                                                 NaN  \n",
       "7                                                 NaN  \n",
       "8                                          아파트 단지 내에서  \n",
       "9                                                 NaN  \n",
       "10                                                NaN  \n",
       "11                               부산 부산진구 한 오피스텔 1층 복도  \n",
       "12                                               부산에서  \n",
       "13                                    제주시 화북동의 한 횡단보도  \n",
       "14                                   서울 관악구 신림동 소재 야산  \n",
       "15                                  서울 관악구 신림동 공원 둘레길  \n",
       "16                                     서울 관악구 신림동 등산로  \n",
       "17                                                NaN  \n",
       "18                                                NaN  \n",
       "19                                                NaN  \n",
       "20                                             서울 한복판  \n",
       "21  서울 지하철 7호선 안에서 맞은 편 승객에게 휴대폰을 던져 이마를 다치게 한 혐의를...  \n",
       "22  지난 5~6일 수원지역 아파트 엘리베이터 2곳과 경기 화성지역 상가 화장실 1곳에서...  \n",
       "23                                     수원시 소재의 한 고등학교  \n",
       "24                                          부산 중심가 서면  \n",
       "25     인천 서부경찰서는 편의점 여직원을 갑자기 폭행한 20대 남성 A씨를 불구속 입건했다  \n",
       "26                                                NaN  "
      ]
     },
     "execution_count": 117,
     "metadata": {},
     "output_type": "execute_result"
    }
   ],
   "source": [
    "df[['where','where_2']]"
   ]
  },
  {
   "cell_type": "markdown",
   "id": "da469fd6-b656-4f13-901e-ff709d06f357",
   "metadata": {
    "jp-MarkdownHeadingCollapsed": true
   },
   "source": [
    "### City Short Name"
   ]
  },
  {
   "cell_type": "markdown",
   "id": "e98dd099-2e2c-4f0a-88ec-75bd771f02bd",
   "metadata": {
    "jp-MarkdownHeadingCollapsed": true
   },
   "source": [
    "### read excel"
   ]
  },
  {
   "cell_type": "code",
   "execution_count": 92,
   "id": "a002849a-6042-4dad-9d9b-5725470b69c7",
   "metadata": {
    "execution": {
     "iopub.execute_input": "2024-05-13T01:38:30.398249Z",
     "iopub.status.busy": "2024-05-13T01:38:30.392948Z",
     "iopub.status.idle": "2024-05-13T01:38:31.771264Z",
     "shell.execute_reply": "2024-05-13T01:38:31.770963Z",
     "shell.execute_reply.started": "2024-05-13T01:38:30.398180Z"
    }
   },
   "outputs": [],
   "source": [
    "df_addr = pd.read_excel(\"./address/법정동_20240201.xlsx\")"
   ]
  },
  {
   "cell_type": "code",
   "execution_count": 120,
   "id": "96d635d9-de27-4444-a86e-55ffa3fd23b4",
   "metadata": {
    "execution": {
     "iopub.execute_input": "2024-04-22T12:05:56.500587Z",
     "iopub.status.busy": "2024-04-22T12:05:56.497084Z",
     "iopub.status.idle": "2024-04-22T12:05:56.535762Z",
     "shell.execute_reply": "2024-04-22T12:05:56.534803Z",
     "shell.execute_reply.started": "2024-04-22T12:05:56.500525Z"
    }
   },
   "outputs": [
    {
     "name": "stdout",
     "output_type": "stream",
     "text": [
      "<class 'pandas.core.frame.DataFrame'>\n",
      "RangeIndex: 20565 entries, 0 to 20564\n",
      "Data columns (total 7 columns):\n",
      " #   Column  Non-Null Count  Dtype  \n",
      "---  ------  --------------  -----  \n",
      " 0   법정동코드   20565 non-null  int64  \n",
      " 1   시도명     20565 non-null  object \n",
      " 2   시군구명    20395 non-null  object \n",
      " 3   읍면동명    20278 non-null  object \n",
      " 4   동리명     15212 non-null  object \n",
      " 5   생성일자    20565 non-null  int64  \n",
      " 6   말소일자    0 non-null      float64\n",
      "dtypes: float64(1), int64(2), object(4)\n",
      "memory usage: 1.1+ MB\n"
     ]
    }
   ],
   "source": [
    "df_addr.info()"
   ]
  },
  {
   "cell_type": "code",
   "execution_count": 121,
   "id": "2d766aa4-724c-4cdc-b06d-9f8757514b38",
   "metadata": {
    "execution": {
     "iopub.execute_input": "2024-04-22T12:06:06.122677Z",
     "iopub.status.busy": "2024-04-22T12:06:06.121601Z",
     "iopub.status.idle": "2024-04-22T12:06:06.136799Z",
     "shell.execute_reply": "2024-04-22T12:06:06.136258Z",
     "shell.execute_reply.started": "2024-04-22T12:06:06.122637Z"
    }
   },
   "outputs": [
    {
     "data": {
      "text/html": [
       "<div>\n",
       "<style scoped>\n",
       "    .dataframe tbody tr th:only-of-type {\n",
       "        vertical-align: middle;\n",
       "    }\n",
       "\n",
       "    .dataframe tbody tr th {\n",
       "        vertical-align: top;\n",
       "    }\n",
       "\n",
       "    .dataframe thead th {\n",
       "        text-align: right;\n",
       "    }\n",
       "</style>\n",
       "<table border=\"1\" class=\"dataframe\">\n",
       "  <thead>\n",
       "    <tr style=\"text-align: right;\">\n",
       "      <th></th>\n",
       "      <th>법정동코드</th>\n",
       "      <th>시도명</th>\n",
       "      <th>시군구명</th>\n",
       "      <th>읍면동명</th>\n",
       "      <th>동리명</th>\n",
       "      <th>생성일자</th>\n",
       "      <th>말소일자</th>\n",
       "    </tr>\n",
       "  </thead>\n",
       "  <tbody>\n",
       "    <tr>\n",
       "      <th>0</th>\n",
       "      <td>1100000000</td>\n",
       "      <td>서울특별시</td>\n",
       "      <td>NaN</td>\n",
       "      <td>NaN</td>\n",
       "      <td>NaN</td>\n",
       "      <td>19880423</td>\n",
       "      <td>NaN</td>\n",
       "    </tr>\n",
       "    <tr>\n",
       "      <th>1</th>\n",
       "      <td>1111000000</td>\n",
       "      <td>서울특별시</td>\n",
       "      <td>종로구</td>\n",
       "      <td>NaN</td>\n",
       "      <td>NaN</td>\n",
       "      <td>19880423</td>\n",
       "      <td>NaN</td>\n",
       "    </tr>\n",
       "    <tr>\n",
       "      <th>2</th>\n",
       "      <td>1111010100</td>\n",
       "      <td>서울특별시</td>\n",
       "      <td>종로구</td>\n",
       "      <td>청운동</td>\n",
       "      <td>NaN</td>\n",
       "      <td>19880423</td>\n",
       "      <td>NaN</td>\n",
       "    </tr>\n",
       "  </tbody>\n",
       "</table>\n",
       "</div>"
      ],
      "text/plain": [
       "        법정동코드    시도명 시군구명 읍면동명  동리명      생성일자  말소일자\n",
       "0  1100000000  서울특별시  NaN  NaN  NaN  19880423   NaN\n",
       "1  1111000000  서울특별시  종로구  NaN  NaN  19880423   NaN\n",
       "2  1111010100  서울특별시  종로구  청운동  NaN  19880423   NaN"
      ]
     },
     "execution_count": 121,
     "metadata": {},
     "output_type": "execute_result"
    }
   ],
   "source": [
    "df_addr.head(3)"
   ]
  },
  {
   "cell_type": "markdown",
   "id": "91f4f82b-37ec-412c-ba3f-6bafdafd1ae8",
   "metadata": {
    "jp-MarkdownHeadingCollapsed": true
   },
   "source": [
    "### Province"
   ]
  },
  {
   "cell_type": "code",
   "execution_count": 173,
   "id": "b1260fe4-dbc7-4ebd-989a-5b29319a5eb2",
   "metadata": {
    "execution": {
     "iopub.execute_input": "2024-04-22T13:10:24.326029Z",
     "iopub.status.busy": "2024-04-22T13:10:24.325024Z",
     "iopub.status.idle": "2024-04-22T13:10:24.398758Z",
     "shell.execute_reply": "2024-04-22T13:10:24.397883Z",
     "shell.execute_reply.started": "2024-04-22T13:10:24.326009Z"
    }
   },
   "outputs": [],
   "source": [
    "df_prov = df_addr[df_addr[\"시군구명\"].isna() == True]"
   ]
  },
  {
   "cell_type": "code",
   "execution_count": 174,
   "id": "7527f0f3-d908-46ea-9222-1654380235f3",
   "metadata": {
    "execution": {
     "iopub.execute_input": "2024-04-22T13:10:39.017890Z",
     "iopub.status.busy": "2024-04-22T13:10:39.016722Z",
     "iopub.status.idle": "2024-04-22T13:10:39.023549Z",
     "shell.execute_reply": "2024-04-22T13:10:39.022981Z",
     "shell.execute_reply.started": "2024-04-22T13:10:39.017842Z"
    }
   },
   "outputs": [],
   "source": [
    "prov_index = df_prov.index"
   ]
  },
  {
   "cell_type": "code",
   "execution_count": 175,
   "id": "17aa6550-bf91-49ca-a9e8-0fef2962201d",
   "metadata": {
    "execution": {
     "iopub.execute_input": "2024-04-22T13:10:43.171819Z",
     "iopub.status.busy": "2024-04-22T13:10:43.171039Z",
     "iopub.status.idle": "2024-04-22T13:10:43.176518Z",
     "shell.execute_reply": "2024-04-22T13:10:43.175856Z",
     "shell.execute_reply.started": "2024-04-22T13:10:43.171788Z"
    }
   },
   "outputs": [],
   "source": [
    "prov_set = set([])"
   ]
  },
  {
   "cell_type": "code",
   "execution_count": 176,
   "id": "68128f2c-d4b7-46ac-95aa-2dbfcebb3a18",
   "metadata": {
    "execution": {
     "iopub.execute_input": "2024-04-22T13:10:57.873242Z",
     "iopub.status.busy": "2024-04-22T13:10:57.872046Z",
     "iopub.status.idle": "2024-04-22T13:10:57.905994Z",
     "shell.execute_reply": "2024-04-22T13:10:57.905416Z",
     "shell.execute_reply.started": "2024-04-22T13:10:57.873196Z"
    },
    "scrolled": true
   },
   "outputs": [],
   "source": [
    "for index in prov_index:\n",
    "    # print(df_addr.iloc[index][\"시도명\"])\n",
    "    if df_addr.iloc[index][\"시도명\"] not in prov_set:\n",
    "        prov_set.add(df_addr.iloc[index][\"시도명\"])"
   ]
  },
  {
   "cell_type": "code",
   "execution_count": 177,
   "id": "d821396a-14e4-40b3-b8b1-ff93f2077772",
   "metadata": {
    "collapsed": true,
    "execution": {
     "iopub.execute_input": "2024-04-22T13:11:02.878251Z",
     "iopub.status.busy": "2024-04-22T13:11:02.877697Z",
     "iopub.status.idle": "2024-04-22T13:11:02.886029Z",
     "shell.execute_reply": "2024-04-22T13:11:02.885304Z",
     "shell.execute_reply.started": "2024-04-22T13:11:02.878223Z"
    },
    "jupyter": {
     "outputs_hidden": true
    },
    "scrolled": true
   },
   "outputs": [
    {
     "data": {
      "text/plain": [
       "{'강원특별자치도',\n",
       " '경기도',\n",
       " '경상남도',\n",
       " '경상북도',\n",
       " '광주광역시',\n",
       " '대구광역시',\n",
       " '대전광역시',\n",
       " '동해출장소',\n",
       " '부산광역시',\n",
       " '북부출장소',\n",
       " '서울특별시',\n",
       " '세종특별자치시',\n",
       " '울산광역시',\n",
       " '인천광역시',\n",
       " '전라남도',\n",
       " '전북특별자치도',\n",
       " '제주특별자치도',\n",
       " '충청남도',\n",
       " '충청북도'}"
      ]
     },
     "execution_count": 177,
     "metadata": {},
     "output_type": "execute_result"
    }
   ],
   "source": [
    "prov_set"
   ]
  },
  {
   "cell_type": "code",
   "execution_count": 197,
   "id": "354b93c7-ef0f-4b4b-b92b-f7794c3124e4",
   "metadata": {
    "execution": {
     "iopub.execute_input": "2024-04-22T13:22:24.720550Z",
     "iopub.status.busy": "2024-04-22T13:22:24.719553Z",
     "iopub.status.idle": "2024-04-22T13:22:24.731285Z",
     "shell.execute_reply": "2024-04-22T13:22:24.730422Z",
     "shell.execute_reply.started": "2024-04-22T13:22:24.720503Z"
    }
   },
   "outputs": [],
   "source": [
    "district = {}"
   ]
  },
  {
   "cell_type": "markdown",
   "id": "edae6c28-3d25-4a96-afb0-589f49e70b92",
   "metadata": {
    "jp-MarkdownHeadingCollapsed": true
   },
   "source": [
    "### City"
   ]
  },
  {
   "cell_type": "code",
   "execution_count": 216,
   "id": "7943eb51-aedf-43d0-af97-1eebbb01e5a4",
   "metadata": {
    "execution": {
     "iopub.execute_input": "2024-04-22T13:58:07.791535Z",
     "iopub.status.busy": "2024-04-22T13:58:07.790668Z",
     "iopub.status.idle": "2024-04-22T13:58:07.834382Z",
     "shell.execute_reply": "2024-04-22T13:58:07.834017Z",
     "shell.execute_reply.started": "2024-04-22T13:58:07.791509Z"
    }
   },
   "outputs": [],
   "source": [
    "for item in prov_set:\n",
    "    df_item = df_addr[df_addr[df_addr.columns[1]] == item]\n",
    "    df_item = df_item[df_item[df_addr.columns[3]].isna() == True]\n",
    "    df_item = df_item[df_item[df_addr.columns[2]].isna() == False]\n",
    "    district[item] = {\"list\" : list(df_item[df_addr.columns[2]].values)}"
   ]
  },
  {
   "cell_type": "code",
   "execution_count": 217,
   "id": "2b79ed8f-5f4a-4ba0-be07-e061daa53c9f",
   "metadata": {
    "collapsed": true,
    "execution": {
     "iopub.execute_input": "2024-04-22T13:58:08.936748Z",
     "iopub.status.busy": "2024-04-22T13:58:08.936464Z",
     "iopub.status.idle": "2024-04-22T13:58:08.941504Z",
     "shell.execute_reply": "2024-04-22T13:58:08.941154Z",
     "shell.execute_reply.started": "2024-04-22T13:58:08.936737Z"
    },
    "jupyter": {
     "outputs_hidden": true
    },
    "scrolled": true
   },
   "outputs": [
    {
     "data": {
      "text/plain": [
       "{'충청남도': {'list': ['천안시',\n",
       "   '천안시 동남구',\n",
       "   '천안시 서북구',\n",
       "   '공주시',\n",
       "   '보령시',\n",
       "   '아산시',\n",
       "   '서산시',\n",
       "   '논산시',\n",
       "   '계룡시',\n",
       "   '당진시',\n",
       "   '금산군',\n",
       "   '부여군',\n",
       "   '서천군',\n",
       "   '청양군',\n",
       "   '홍성군',\n",
       "   '예산군',\n",
       "   '태안군']},\n",
       " '광주광역시': {'list': ['동구', '서구', '남구', '북구', '광산구']},\n",
       " '충청북도': {'list': ['청주시',\n",
       "   '청주시 상당구',\n",
       "   '청주시 서원구',\n",
       "   '청주시 흥덕구',\n",
       "   '청주시 청원구',\n",
       "   '충주시',\n",
       "   '제천시',\n",
       "   '보은군',\n",
       "   '옥천군',\n",
       "   '영동군',\n",
       "   '증평군',\n",
       "   '진천군',\n",
       "   '괴산군',\n",
       "   '음성군',\n",
       "   '단양군']},\n",
       " '제주특별자치도': {'list': ['제주시', '서귀포시']},\n",
       " '북부출장소': {'list': []},\n",
       " '경상남도': {'list': ['창원시',\n",
       "   '창원시 의창구',\n",
       "   '창원시 성산구',\n",
       "   '창원시 마산합포구',\n",
       "   '창원시 마산회원구',\n",
       "   '창원시 진해구',\n",
       "   '진주시',\n",
       "   '통영시',\n",
       "   '사천시',\n",
       "   '사천남양출장',\n",
       "   '김해시',\n",
       "   '밀양시',\n",
       "   '거제시',\n",
       "   '양산시',\n",
       "   '의령군',\n",
       "   '함안군',\n",
       "   '창녕군',\n",
       "   '고성군',\n",
       "   '남해군',\n",
       "   '하동군',\n",
       "   '산청군',\n",
       "   '함양군',\n",
       "   '거창군',\n",
       "   '합천군']},\n",
       " '전북특별자치도': {'list': ['전주시',\n",
       "   '전주시 완산구',\n",
       "   '전주시 덕진구',\n",
       "   '군산시',\n",
       "   '익산시',\n",
       "   '정읍시',\n",
       "   '남원시',\n",
       "   '김제시',\n",
       "   '완주군',\n",
       "   '진안군',\n",
       "   '무주군',\n",
       "   '장수군',\n",
       "   '임실군',\n",
       "   '순창군',\n",
       "   '고창군',\n",
       "   '부안군']},\n",
       " '인천광역시': {'list': ['중구',\n",
       "   '중구영종출장',\n",
       "   '중구용유출장',\n",
       "   '동구',\n",
       "   '미추홀구',\n",
       "   '연수구',\n",
       "   '남동구',\n",
       "   '부평구',\n",
       "   '계양구',\n",
       "   '서구',\n",
       "   '서구검단출장',\n",
       "   '강화군',\n",
       "   '옹진군']},\n",
       " '전라남도': {'list': ['목포시',\n",
       "   '여수시',\n",
       "   '순천시',\n",
       "   '나주시',\n",
       "   '광양시',\n",
       "   '담양군',\n",
       "   '곡성군',\n",
       "   '구례군',\n",
       "   '고흥군',\n",
       "   '보성군',\n",
       "   '화순군',\n",
       "   '장흥군',\n",
       "   '강진군',\n",
       "   '해남군',\n",
       "   '영암군',\n",
       "   '무안군',\n",
       "   '함평군',\n",
       "   '영광군',\n",
       "   '장성군',\n",
       "   '완도군',\n",
       "   '진도군',\n",
       "   '신안군']},\n",
       " '부산광역시': {'list': ['중구',\n",
       "   '서구',\n",
       "   '동구',\n",
       "   '영도구',\n",
       "   '부산진구',\n",
       "   '동래구',\n",
       "   '남구',\n",
       "   '북구',\n",
       "   '해운대구',\n",
       "   '사하구',\n",
       "   '금정구',\n",
       "   '강서구',\n",
       "   '연제구',\n",
       "   '수영구',\n",
       "   '사상구',\n",
       "   '기장군']},\n",
       " '경상북도': {'list': ['포항시',\n",
       "   '포항시 남구',\n",
       "   '포항시 북구',\n",
       "   '경주시',\n",
       "   '김천시',\n",
       "   '안동시',\n",
       "   '구미시',\n",
       "   '영주시',\n",
       "   '영천시',\n",
       "   '상주시',\n",
       "   '문경시',\n",
       "   '경산시',\n",
       "   '의성군',\n",
       "   '청송군',\n",
       "   '영양군',\n",
       "   '영덕군',\n",
       "   '청도군',\n",
       "   '고령군',\n",
       "   '성주군',\n",
       "   '칠곡군',\n",
       "   '예천군',\n",
       "   '봉화군',\n",
       "   '울진군',\n",
       "   '울릉군']},\n",
       " '강원특별자치도': {'list': ['춘천시',\n",
       "   '원주시',\n",
       "   '강릉시',\n",
       "   '동해시',\n",
       "   '태백시',\n",
       "   '속초시',\n",
       "   '삼척시',\n",
       "   '홍천군',\n",
       "   '횡성군',\n",
       "   '영월군',\n",
       "   '평창군',\n",
       "   '정선군',\n",
       "   '철원군',\n",
       "   '화천군',\n",
       "   '양구군',\n",
       "   '인제군',\n",
       "   '고성군',\n",
       "   '양양군']},\n",
       " '대구광역시': {'list': ['중구', '동구', '서구', '남구', '북구', '수성구', '달서구', '달성군', '군위군']},\n",
       " '울산광역시': {'list': ['중구', '남구', '동구', '북구', '울주군']},\n",
       " '대전광역시': {'list': ['동구', '중구', '서구', '유성구', '대덕구']},\n",
       " '동해출장소': {'list': []},\n",
       " '세종특별자치시': {'list': []},\n",
       " '경기도': {'list': ['수원시',\n",
       "   '수원시 장안구',\n",
       "   '수원시 권선구',\n",
       "   '수원시 팔달구',\n",
       "   '수원시 영통구',\n",
       "   '성남시',\n",
       "   '성남시 수정구',\n",
       "   '성남시 중원구',\n",
       "   '성남시 분당구',\n",
       "   '의정부시',\n",
       "   '안양시',\n",
       "   '안양시 만안구',\n",
       "   '안양시 동안구',\n",
       "   '부천시',\n",
       "   '부천시 원미구',\n",
       "   '부천시 소사구',\n",
       "   '부천시 오정구',\n",
       "   '광명시',\n",
       "   '평택시',\n",
       "   '동두천시',\n",
       "   '안산시',\n",
       "   '안산시 상록구',\n",
       "   '안산시 단원구',\n",
       "   '고양시',\n",
       "   '고양시 덕양구',\n",
       "   '고양시 일산동구',\n",
       "   '고양시 일산서구',\n",
       "   '과천시',\n",
       "   '구리시',\n",
       "   '남양주시',\n",
       "   '오산시',\n",
       "   '시흥시',\n",
       "   '군포시',\n",
       "   '의왕시',\n",
       "   '하남시',\n",
       "   '용인시',\n",
       "   '용인시 처인구',\n",
       "   '용인시 기흥구',\n",
       "   '용인시 수지구',\n",
       "   '파주시',\n",
       "   '이천시',\n",
       "   '안성시',\n",
       "   '김포시',\n",
       "   '화성시',\n",
       "   '광주시',\n",
       "   '양주시',\n",
       "   '포천시',\n",
       "   '여주시',\n",
       "   '연천군',\n",
       "   '가평군',\n",
       "   '양평군']},\n",
       " '서울특별시': {'list': ['종로구',\n",
       "   '중구',\n",
       "   '용산구',\n",
       "   '성동구',\n",
       "   '광진구',\n",
       "   '동대문구',\n",
       "   '중랑구',\n",
       "   '성북구',\n",
       "   '강북구',\n",
       "   '도봉구',\n",
       "   '노원구',\n",
       "   '은평구',\n",
       "   '서대문구',\n",
       "   '마포구',\n",
       "   '양천구',\n",
       "   '강서구',\n",
       "   '구로구',\n",
       "   '금천구',\n",
       "   '영등포구',\n",
       "   '동작구',\n",
       "   '관악구',\n",
       "   '서초구',\n",
       "   '강남구',\n",
       "   '송파구',\n",
       "   '강동구']}}"
      ]
     },
     "execution_count": 217,
     "metadata": {},
     "output_type": "execute_result"
    }
   ],
   "source": [
    "district"
   ]
  },
  {
   "cell_type": "markdown",
   "id": "4b9d0f86-4d5e-4789-8f75-16e3cc182ac4",
   "metadata": {
    "jp-MarkdownHeadingCollapsed": true
   },
   "source": [
    "### Town"
   ]
  },
  {
   "cell_type": "code",
   "execution_count": 220,
   "id": "f3cce62e-e663-4795-a110-5ae16c52d691",
   "metadata": {
    "collapsed": true,
    "execution": {
     "iopub.execute_input": "2024-04-22T14:02:24.377476Z",
     "iopub.status.busy": "2024-04-22T14:02:24.376394Z",
     "iopub.status.idle": "2024-04-22T14:02:24.397239Z",
     "shell.execute_reply": "2024-04-22T14:02:24.396849Z",
     "shell.execute_reply.started": "2024-04-22T14:02:24.377436Z"
    },
    "jupyter": {
     "outputs_hidden": true
    },
    "scrolled": true
   },
   "outputs": [
    {
     "data": {
      "text/html": [
       "<div>\n",
       "<style scoped>\n",
       "    .dataframe tbody tr th:only-of-type {\n",
       "        vertical-align: middle;\n",
       "    }\n",
       "\n",
       "    .dataframe tbody tr th {\n",
       "        vertical-align: top;\n",
       "    }\n",
       "\n",
       "    .dataframe thead th {\n",
       "        text-align: right;\n",
       "    }\n",
       "</style>\n",
       "<table border=\"1\" class=\"dataframe\">\n",
       "  <thead>\n",
       "    <tr style=\"text-align: right;\">\n",
       "      <th></th>\n",
       "      <th>법정동코드</th>\n",
       "      <th>시도명</th>\n",
       "      <th>시군구명</th>\n",
       "      <th>읍면동명</th>\n",
       "      <th>동리명</th>\n",
       "      <th>생성일자</th>\n",
       "      <th>말소일자</th>\n",
       "    </tr>\n",
       "  </thead>\n",
       "  <tbody>\n",
       "    <tr>\n",
       "      <th>6067</th>\n",
       "      <td>4413100000</td>\n",
       "      <td>충청남도</td>\n",
       "      <td>천안시 동남구</td>\n",
       "      <td>NaN</td>\n",
       "      <td>NaN</td>\n",
       "      <td>20080623</td>\n",
       "      <td>NaN</td>\n",
       "    </tr>\n",
       "    <tr>\n",
       "      <th>6068</th>\n",
       "      <td>4413110100</td>\n",
       "      <td>충청남도</td>\n",
       "      <td>천안시 동남구</td>\n",
       "      <td>대흥동</td>\n",
       "      <td>NaN</td>\n",
       "      <td>20080623</td>\n",
       "      <td>NaN</td>\n",
       "    </tr>\n",
       "    <tr>\n",
       "      <th>6069</th>\n",
       "      <td>4413110200</td>\n",
       "      <td>충청남도</td>\n",
       "      <td>천안시 동남구</td>\n",
       "      <td>성황동</td>\n",
       "      <td>NaN</td>\n",
       "      <td>20080623</td>\n",
       "      <td>NaN</td>\n",
       "    </tr>\n",
       "    <tr>\n",
       "      <th>6070</th>\n",
       "      <td>4413110300</td>\n",
       "      <td>충청남도</td>\n",
       "      <td>천안시 동남구</td>\n",
       "      <td>문화동</td>\n",
       "      <td>NaN</td>\n",
       "      <td>20080623</td>\n",
       "      <td>NaN</td>\n",
       "    </tr>\n",
       "    <tr>\n",
       "      <th>6071</th>\n",
       "      <td>4413110400</td>\n",
       "      <td>충청남도</td>\n",
       "      <td>천안시 동남구</td>\n",
       "      <td>사직동</td>\n",
       "      <td>NaN</td>\n",
       "      <td>20080623</td>\n",
       "      <td>NaN</td>\n",
       "    </tr>\n",
       "    <tr>\n",
       "      <th>...</th>\n",
       "      <td>...</td>\n",
       "      <td>...</td>\n",
       "      <td>...</td>\n",
       "      <td>...</td>\n",
       "      <td>...</td>\n",
       "      <td>...</td>\n",
       "      <td>...</td>\n",
       "    </tr>\n",
       "    <tr>\n",
       "      <th>6176</th>\n",
       "      <td>4413137027</td>\n",
       "      <td>충청남도</td>\n",
       "      <td>천안시 동남구</td>\n",
       "      <td>동면</td>\n",
       "      <td>덕성리</td>\n",
       "      <td>20080623</td>\n",
       "      <td>NaN</td>\n",
       "    </tr>\n",
       "    <tr>\n",
       "      <th>6177</th>\n",
       "      <td>4413137028</td>\n",
       "      <td>충청남도</td>\n",
       "      <td>천안시 동남구</td>\n",
       "      <td>동면</td>\n",
       "      <td>죽계리</td>\n",
       "      <td>20080623</td>\n",
       "      <td>NaN</td>\n",
       "    </tr>\n",
       "    <tr>\n",
       "      <th>6178</th>\n",
       "      <td>4413137029</td>\n",
       "      <td>충청남도</td>\n",
       "      <td>천안시 동남구</td>\n",
       "      <td>동면</td>\n",
       "      <td>장송리</td>\n",
       "      <td>20080623</td>\n",
       "      <td>NaN</td>\n",
       "    </tr>\n",
       "    <tr>\n",
       "      <th>6179</th>\n",
       "      <td>4413137030</td>\n",
       "      <td>충청남도</td>\n",
       "      <td>천안시 동남구</td>\n",
       "      <td>동면</td>\n",
       "      <td>수남리</td>\n",
       "      <td>20080623</td>\n",
       "      <td>NaN</td>\n",
       "    </tr>\n",
       "    <tr>\n",
       "      <th>6180</th>\n",
       "      <td>4413137031</td>\n",
       "      <td>충청남도</td>\n",
       "      <td>천안시 동남구</td>\n",
       "      <td>동면</td>\n",
       "      <td>화덕리</td>\n",
       "      <td>20080623</td>\n",
       "      <td>NaN</td>\n",
       "    </tr>\n",
       "  </tbody>\n",
       "</table>\n",
       "<p>114 rows × 7 columns</p>\n",
       "</div>"
      ],
      "text/plain": [
       "           법정동코드   시도명     시군구명 읍면동명  동리명      생성일자  말소일자\n",
       "6067  4413100000  충청남도  천안시 동남구  NaN  NaN  20080623   NaN\n",
       "6068  4413110100  충청남도  천안시 동남구  대흥동  NaN  20080623   NaN\n",
       "6069  4413110200  충청남도  천안시 동남구  성황동  NaN  20080623   NaN\n",
       "6070  4413110300  충청남도  천안시 동남구  문화동  NaN  20080623   NaN\n",
       "6071  4413110400  충청남도  천안시 동남구  사직동  NaN  20080623   NaN\n",
       "...          ...   ...      ...  ...  ...       ...   ...\n",
       "6176  4413137027  충청남도  천안시 동남구   동면  덕성리  20080623   NaN\n",
       "6177  4413137028  충청남도  천안시 동남구   동면  죽계리  20080623   NaN\n",
       "6178  4413137029  충청남도  천안시 동남구   동면  장송리  20080623   NaN\n",
       "6179  4413137030  충청남도  천안시 동남구   동면  수남리  20080623   NaN\n",
       "6180  4413137031  충청남도  천안시 동남구   동면  화덕리  20080623   NaN\n",
       "\n",
       "[114 rows x 7 columns]"
      ]
     },
     "execution_count": 220,
     "metadata": {},
     "output_type": "execute_result"
    }
   ],
   "source": [
    "city = district[\"충청남도\"][\"list\"][1]\n",
    "df_addr[df_addr[df_addr.columns[2]] == city]"
   ]
  },
  {
   "cell_type": "code",
   "execution_count": 182,
   "id": "d4629cf8-bd25-4ed0-bbb9-c00b2dc18d92",
   "metadata": {
    "execution": {
     "iopub.execute_input": "2024-04-22T13:13:47.551868Z",
     "iopub.status.busy": "2024-04-22T13:13:47.551634Z",
     "iopub.status.idle": "2024-04-22T13:13:47.554763Z",
     "shell.execute_reply": "2024-04-22T13:13:47.554383Z",
     "shell.execute_reply.started": "2024-04-22T13:13:47.551852Z"
    }
   },
   "outputs": [
    {
     "data": {
      "text/plain": [
       "'시도명'"
      ]
     },
     "execution_count": 182,
     "metadata": {},
     "output_type": "execute_result"
    }
   ],
   "source": [
    "df_addr.columns[1]"
   ]
  },
  {
   "cell_type": "code",
   "execution_count": 193,
   "id": "3568511e-3b6b-4e70-9f75-e7b75948e768",
   "metadata": {
    "execution": {
     "iopub.execute_input": "2024-04-22T13:19:23.833897Z",
     "iopub.status.busy": "2024-04-22T13:19:23.832975Z",
     "iopub.status.idle": "2024-04-22T13:19:23.847525Z",
     "shell.execute_reply": "2024-04-22T13:19:23.846674Z",
     "shell.execute_reply.started": "2024-04-22T13:19:23.833862Z"
    }
   },
   "outputs": [],
   "source": [
    "df_city = df_addr[df_addr[\"시도명\"] == \"전라남도\"]"
   ]
  },
  {
   "cell_type": "code",
   "execution_count": 194,
   "id": "65cf7bb3-5fea-4858-acd1-e118d5b41f83",
   "metadata": {
    "execution": {
     "iopub.execute_input": "2024-04-22T13:19:57.174426Z",
     "iopub.status.busy": "2024-04-22T13:19:57.172160Z",
     "iopub.status.idle": "2024-04-22T13:19:57.198835Z",
     "shell.execute_reply": "2024-04-22T13:19:57.197500Z",
     "shell.execute_reply.started": "2024-04-22T13:19:57.174370Z"
    },
    "scrolled": true
   },
   "outputs": [],
   "source": [
    "df_city = df_city[df_city[\"읍면동명\"].isna() == True]"
   ]
  },
  {
   "cell_type": "code",
   "execution_count": 213,
   "id": "3cd1c0ec-13bf-43f6-be4b-c1b019ccb034",
   "metadata": {
    "collapsed": true,
    "execution": {
     "iopub.execute_input": "2024-04-22T13:53:25.079760Z",
     "iopub.status.busy": "2024-04-22T13:53:25.078617Z",
     "iopub.status.idle": "2024-04-22T13:53:25.093950Z",
     "shell.execute_reply": "2024-04-22T13:53:25.093402Z",
     "shell.execute_reply.started": "2024-04-22T13:53:25.079728Z"
    },
    "jupyter": {
     "outputs_hidden": true
    },
    "scrolled": true
   },
   "outputs": [
    {
     "data": {
      "text/plain": [
       "[nan,\n",
       " '목포시',\n",
       " '여수시',\n",
       " '순천시',\n",
       " '나주시',\n",
       " '광양시',\n",
       " '담양군',\n",
       " '곡성군',\n",
       " '구례군',\n",
       " '고흥군',\n",
       " '보성군',\n",
       " '화순군',\n",
       " '장흥군',\n",
       " '강진군',\n",
       " '해남군',\n",
       " '영암군',\n",
       " '무안군',\n",
       " '함평군',\n",
       " '영광군',\n",
       " '장성군',\n",
       " '완도군',\n",
       " '진도군',\n",
       " '신안군']"
      ]
     },
     "execution_count": 213,
     "metadata": {},
     "output_type": "execute_result"
    }
   ],
   "source": [
    "list(df_city[df_city.columns[2]].values)"
   ]
  },
  {
   "cell_type": "code",
   "execution_count": 224,
   "id": "f29d5dc8-b372-467f-8219-72b72cf90202",
   "metadata": {
    "execution": {
     "iopub.execute_input": "2024-04-22T14:09:47.054081Z",
     "iopub.status.busy": "2024-04-22T14:09:47.052731Z",
     "iopub.status.idle": "2024-04-22T14:09:47.380662Z",
     "shell.execute_reply": "2024-04-22T14:09:47.380308Z",
     "shell.execute_reply.started": "2024-04-22T14:09:47.054020Z"
    }
   },
   "outputs": [],
   "source": [
    "for prov in prov_set:\n",
    "    for city in district[prov][\"list\"]:\n",
    "        df_item = df_addr[df_addr[df_addr.columns[2]] == city]\n",
    "        df_item = df_item[df_item[df_addr.columns[4]].isna() == True]\n",
    "        df_item = df_item[df_item[df_addr.columns[3]].isna() == False]\n",
    "        district[prov][city] = {\"list\": list(df_item[df_addr.columns[3]].values)}"
   ]
  },
  {
   "cell_type": "code",
   "execution_count": 225,
   "id": "01d53830-fdb9-4c4c-ae66-7305037ad4af",
   "metadata": {
    "collapsed": true,
    "execution": {
     "iopub.execute_input": "2024-04-22T14:09:48.664835Z",
     "iopub.status.busy": "2024-04-22T14:09:48.664656Z",
     "iopub.status.idle": "2024-04-22T14:09:48.668203Z",
     "shell.execute_reply": "2024-04-22T14:09:48.667811Z",
     "shell.execute_reply.started": "2024-04-22T14:09:48.664822Z"
    },
    "jupyter": {
     "outputs_hidden": true
    },
    "scrolled": true
   },
   "outputs": [
    {
     "data": {
      "text/plain": [
       "{'list': ['대흥동',\n",
       "  '성황동',\n",
       "  '문화동',\n",
       "  '사직동',\n",
       "  '영성동',\n",
       "  '오룡동',\n",
       "  '원성동',\n",
       "  '구성동',\n",
       "  '청수동',\n",
       "  '삼룡동',\n",
       "  '청당동',\n",
       "  '유량동',\n",
       "  '봉명동',\n",
       "  '다가동',\n",
       "  '용곡동',\n",
       "  '신방동',\n",
       "  '쌍용동',\n",
       "  '신부동',\n",
       "  '안서동',\n",
       "  '구룡동',\n",
       "  '목천읍',\n",
       "  '풍세면',\n",
       "  '광덕면',\n",
       "  '북면',\n",
       "  '성남면',\n",
       "  '수신면',\n",
       "  '병천면',\n",
       "  '동면']}"
      ]
     },
     "execution_count": 225,
     "metadata": {},
     "output_type": "execute_result"
    }
   ],
   "source": [
    "district[\"충청남도\"][\"천안시 동남구\"]"
   ]
  },
  {
   "cell_type": "markdown",
   "id": "9fcd97a7-b222-44d2-9561-e36625179dce",
   "metadata": {
    "jp-MarkdownHeadingCollapsed": true
   },
   "source": [
    "### Village"
   ]
  },
  {
   "cell_type": "code",
   "execution_count": 228,
   "id": "8de44cc7-f5d9-409b-844e-96e43931e41c",
   "metadata": {
    "execution": {
     "iopub.execute_input": "2024-04-22T14:24:53.260928Z",
     "iopub.status.busy": "2024-04-22T14:24:53.259945Z",
     "iopub.status.idle": "2024-04-22T14:24:53.302743Z",
     "shell.execute_reply": "2024-04-22T14:24:53.302341Z",
     "shell.execute_reply.started": "2024-04-22T14:24:53.260886Z"
    }
   },
   "outputs": [
    {
     "data": {
      "text/html": [
       "<div>\n",
       "<style scoped>\n",
       "    .dataframe tbody tr th:only-of-type {\n",
       "        vertical-align: middle;\n",
       "    }\n",
       "\n",
       "    .dataframe tbody tr th {\n",
       "        vertical-align: top;\n",
       "    }\n",
       "\n",
       "    .dataframe thead th {\n",
       "        text-align: right;\n",
       "    }\n",
       "</style>\n",
       "<table border=\"1\" class=\"dataframe\">\n",
       "  <thead>\n",
       "    <tr style=\"text-align: right;\">\n",
       "      <th></th>\n",
       "      <th>법정동코드</th>\n",
       "      <th>시도명</th>\n",
       "      <th>시군구명</th>\n",
       "      <th>읍면동명</th>\n",
       "      <th>동리명</th>\n",
       "      <th>생성일자</th>\n",
       "      <th>말소일자</th>\n",
       "    </tr>\n",
       "  </thead>\n",
       "  <tbody>\n",
       "    <tr>\n",
       "      <th>6069</th>\n",
       "      <td>4413110200</td>\n",
       "      <td>충청남도</td>\n",
       "      <td>천안시 동남구</td>\n",
       "      <td>성황동</td>\n",
       "      <td>NaN</td>\n",
       "      <td>20080623</td>\n",
       "      <td>NaN</td>\n",
       "    </tr>\n",
       "    <tr>\n",
       "      <th>8942</th>\n",
       "      <td>4623010400</td>\n",
       "      <td>전라남도</td>\n",
       "      <td>광양시</td>\n",
       "      <td>성황동</td>\n",
       "      <td>NaN</td>\n",
       "      <td>19981125</td>\n",
       "      <td>NaN</td>\n",
       "    </tr>\n",
       "  </tbody>\n",
       "</table>\n",
       "</div>"
      ],
      "text/plain": [
       "           법정동코드   시도명     시군구명 읍면동명  동리명      생성일자  말소일자\n",
       "6069  4413110200  충청남도  천안시 동남구  성황동  NaN  20080623   NaN\n",
       "8942  4623010400  전라남도      광양시  성황동  NaN  19981125   NaN"
      ]
     },
     "execution_count": 228,
     "metadata": {},
     "output_type": "execute_result"
    }
   ],
   "source": [
    "vill = district[\"충청남도\"][\"천안시 동남구\"][\"list\"][1]\n",
    "df_addr[df_addr[df_addr.columns[3]] == vill]"
   ]
  },
  {
   "cell_type": "code",
   "execution_count": 229,
   "id": "a02fc6b7-baf0-4a81-871a-4bbec1e69099",
   "metadata": {
    "execution": {
     "iopub.execute_input": "2024-04-22T14:28:03.672277Z",
     "iopub.status.busy": "2024-04-22T14:28:03.671001Z",
     "iopub.status.idle": "2024-04-22T14:28:09.448568Z",
     "shell.execute_reply": "2024-04-22T14:28:09.448206Z",
     "shell.execute_reply.started": "2024-04-22T14:28:03.672237Z"
    }
   },
   "outputs": [],
   "source": [
    "for prov in prov_set:\n",
    "    for city in district[prov][\"list\"]:\n",
    "        for vill in district[prov][city][\"list\"]:\n",
    "            df_item = df_addr[df_addr[df_addr.columns[3]] == vill]\n",
    "            df_item = df_item[df_item[df_addr.columns[4]].isna() == False]\n",
    "            district[prov][city][vill] = {\"list\": list(df_item[df_addr.columns[4]].values)}"
   ]
  },
  {
   "cell_type": "code",
   "execution_count": 230,
   "id": "dc092229-c103-4afe-a645-02ae23cc1686",
   "metadata": {
    "execution": {
     "iopub.execute_input": "2024-04-22T14:29:26.568500Z",
     "iopub.status.busy": "2024-04-22T14:29:26.567314Z",
     "iopub.status.idle": "2024-04-22T14:29:26.615515Z",
     "shell.execute_reply": "2024-04-22T14:29:26.615215Z",
     "shell.execute_reply.started": "2024-04-22T14:29:26.568455Z"
    }
   },
   "outputs": [
    {
     "data": {
      "text/html": [
       "<div>\n",
       "<style scoped>\n",
       "    .dataframe tbody tr th:only-of-type {\n",
       "        vertical-align: middle;\n",
       "    }\n",
       "\n",
       "    .dataframe tbody tr th {\n",
       "        vertical-align: top;\n",
       "    }\n",
       "\n",
       "    .dataframe thead th {\n",
       "        text-align: right;\n",
       "    }\n",
       "</style>\n",
       "<table border=\"1\" class=\"dataframe\">\n",
       "  <thead>\n",
       "    <tr style=\"text-align: right;\">\n",
       "      <th></th>\n",
       "      <th>법정동코드</th>\n",
       "      <th>시도명</th>\n",
       "      <th>시군구명</th>\n",
       "      <th>읍면동명</th>\n",
       "      <th>동리명</th>\n",
       "      <th>생성일자</th>\n",
       "      <th>말소일자</th>\n",
       "    </tr>\n",
       "  </thead>\n",
       "  <tbody>\n",
       "    <tr>\n",
       "      <th>698</th>\n",
       "      <td>2671025021</td>\n",
       "      <td>부산광역시</td>\n",
       "      <td>기장군</td>\n",
       "      <td>기장읍</td>\n",
       "      <td>동부리</td>\n",
       "      <td>19950301</td>\n",
       "      <td>NaN</td>\n",
       "    </tr>\n",
       "    <tr>\n",
       "      <th>699</th>\n",
       "      <td>2671025022</td>\n",
       "      <td>부산광역시</td>\n",
       "      <td>기장군</td>\n",
       "      <td>기장읍</td>\n",
       "      <td>교리</td>\n",
       "      <td>19950301</td>\n",
       "      <td>NaN</td>\n",
       "    </tr>\n",
       "    <tr>\n",
       "      <th>700</th>\n",
       "      <td>2671025023</td>\n",
       "      <td>부산광역시</td>\n",
       "      <td>기장군</td>\n",
       "      <td>기장읍</td>\n",
       "      <td>신천리</td>\n",
       "      <td>19950301</td>\n",
       "      <td>NaN</td>\n",
       "    </tr>\n",
       "  </tbody>\n",
       "</table>\n",
       "</div>"
      ],
      "text/plain": [
       "          법정동코드    시도명 시군구명 읍면동명  동리명      생성일자  말소일자\n",
       "698  2671025021  부산광역시  기장군  기장읍  동부리  19950301   NaN\n",
       "699  2671025022  부산광역시  기장군  기장읍   교리  19950301   NaN\n",
       "700  2671025023  부산광역시  기장군  기장읍  신천리  19950301   NaN"
      ]
     },
     "execution_count": 230,
     "metadata": {},
     "output_type": "execute_result"
    }
   ],
   "source": [
    "df_addr[df_addr[df_addr.columns[4]].isna() == False].head(3)"
   ]
  },
  {
   "cell_type": "code",
   "execution_count": 231,
   "id": "fa3eec79-c522-46eb-8030-9ba5389ffef5",
   "metadata": {
    "execution": {
     "iopub.execute_input": "2024-04-22T14:29:53.581058Z",
     "iopub.status.busy": "2024-04-22T14:29:53.579799Z",
     "iopub.status.idle": "2024-04-22T14:29:53.589612Z",
     "shell.execute_reply": "2024-04-22T14:29:53.588702Z",
     "shell.execute_reply.started": "2024-04-22T14:29:53.581016Z"
    },
    "scrolled": true
   },
   "outputs": [
    {
     "data": {
      "text/plain": [
       "{'list': ['동부리',\n",
       "  '교리',\n",
       "  '신천리',\n",
       "  '죽성리',\n",
       "  '서부리',\n",
       "  '대라리',\n",
       "  '청강리',\n",
       "  '대변리',\n",
       "  '연화리',\n",
       "  '만화리',\n",
       "  '석산리',\n",
       "  '당사리',\n",
       "  '시랑리',\n",
       "  '내리']}"
      ]
     },
     "execution_count": 231,
     "metadata": {},
     "output_type": "execute_result"
    }
   ],
   "source": [
    "district[\"부산광역시\"][\"기장군\"][\"기장읍\"]"
   ]
  },
  {
   "cell_type": "markdown",
   "id": "d1cfb91d-4879-4867-8394-2dcbb35d3e0f",
   "metadata": {
    "jp-MarkdownHeadingCollapsed": true
   },
   "source": [
    "### Save"
   ]
  },
  {
   "cell_type": "code",
   "execution_count": 232,
   "id": "a56e4444-d0fb-451b-810b-7dc4b2fe712d",
   "metadata": {
    "execution": {
     "iopub.execute_input": "2024-04-22T14:30:39.268617Z",
     "iopub.status.busy": "2024-04-22T14:30:39.266321Z",
     "iopub.status.idle": "2024-04-22T14:30:39.387471Z",
     "shell.execute_reply": "2024-04-22T14:30:39.387157Z",
     "shell.execute_reply.started": "2024-04-22T14:30:39.268578Z"
    }
   },
   "outputs": [],
   "source": [
    "save_var(district, \"district\")"
   ]
  },
  {
   "cell_type": "code",
   "execution_count": 3,
   "id": "017a706f-0a65-4c52-93b6-7009b8c5661b",
   "metadata": {
    "execution": {
     "iopub.execute_input": "2024-05-13T03:30:12.820114Z",
     "iopub.status.busy": "2024-05-13T03:30:12.819206Z",
     "iopub.status.idle": "2024-05-13T03:30:12.872609Z",
     "shell.execute_reply": "2024-05-13T03:30:12.872168Z",
     "shell.execute_reply.started": "2024-05-13T03:30:12.820096Z"
    }
   },
   "outputs": [],
   "source": [
    "district = load_var(\"district\")"
   ]
  },
  {
   "cell_type": "markdown",
   "id": "347b75f2-0975-4cad-9b68-46681c6c5663",
   "metadata": {},
   "source": [
    "#### import dataframe"
   ]
  },
  {
   "cell_type": "code",
   "execution_count": 4,
   "id": "c69c3ba6-d3ab-43f2-a448-747faff6413f",
   "metadata": {
    "execution": {
     "iopub.execute_input": "2024-05-13T03:30:14.503335Z",
     "iopub.status.busy": "2024-05-13T03:30:14.503136Z",
     "iopub.status.idle": "2024-05-13T03:30:14.513963Z",
     "shell.execute_reply": "2024-05-13T03:30:14.513133Z",
     "shell.execute_reply.started": "2024-05-13T03:30:14.503319Z"
    }
   },
   "outputs": [],
   "source": [
    "df_dstr = pd.DataFrame.from_dict(district, orient='index')"
   ]
  },
  {
   "cell_type": "markdown",
   "id": "73647188-0c6e-4b58-8dbc-bee3d8ee6a91",
   "metadata": {},
   "source": [
    "#### inspection"
   ]
  },
  {
   "cell_type": "code",
   "execution_count": 93,
   "id": "a3872730-3213-4b9c-9c7a-bd525970dfba",
   "metadata": {
    "execution": {
     "iopub.execute_input": "2024-05-13T01:40:33.320681Z",
     "iopub.status.busy": "2024-05-13T01:40:33.319415Z",
     "iopub.status.idle": "2024-05-13T01:40:33.393304Z",
     "shell.execute_reply": "2024-05-13T01:40:33.391877Z",
     "shell.execute_reply.started": "2024-05-13T01:40:33.320657Z"
    }
   },
   "outputs": [
    {
     "name": "stdout",
     "output_type": "stream",
     "text": [
      "<class 'pandas.core.frame.DataFrame'>\n",
      "Index: 19 entries, 충청남도 to 서울특별시\n",
      "Columns: 246 entries, list to 강동구\n",
      "dtypes: object(246)\n",
      "memory usage: 36.7+ KB\n"
     ]
    }
   ],
   "source": [
    "df_dstr.info()"
   ]
  },
  {
   "cell_type": "code",
   "execution_count": 94,
   "id": "61590f93-dec8-493e-953d-5c3baf15f2cb",
   "metadata": {
    "execution": {
     "iopub.execute_input": "2024-05-13T01:40:35.374585Z",
     "iopub.status.busy": "2024-05-13T01:40:35.373489Z",
     "iopub.status.idle": "2024-05-13T01:40:35.511739Z",
     "shell.execute_reply": "2024-05-13T01:40:35.511382Z",
     "shell.execute_reply.started": "2024-05-13T01:40:35.374539Z"
    }
   },
   "outputs": [
    {
     "data": {
      "text/html": [
       "<div>\n",
       "<style scoped>\n",
       "    .dataframe tbody tr th:only-of-type {\n",
       "        vertical-align: middle;\n",
       "    }\n",
       "\n",
       "    .dataframe tbody tr th {\n",
       "        vertical-align: top;\n",
       "    }\n",
       "\n",
       "    .dataframe thead th {\n",
       "        text-align: right;\n",
       "    }\n",
       "</style>\n",
       "<table border=\"1\" class=\"dataframe\">\n",
       "  <thead>\n",
       "    <tr style=\"text-align: right;\">\n",
       "      <th></th>\n",
       "      <th>list</th>\n",
       "      <th>천안시</th>\n",
       "      <th>천안시 동남구</th>\n",
       "      <th>천안시 서북구</th>\n",
       "      <th>공주시</th>\n",
       "      <th>보령시</th>\n",
       "      <th>아산시</th>\n",
       "      <th>서산시</th>\n",
       "      <th>논산시</th>\n",
       "      <th>계룡시</th>\n",
       "      <th>...</th>\n",
       "      <th>양천구</th>\n",
       "      <th>구로구</th>\n",
       "      <th>금천구</th>\n",
       "      <th>영등포구</th>\n",
       "      <th>동작구</th>\n",
       "      <th>관악구</th>\n",
       "      <th>서초구</th>\n",
       "      <th>강남구</th>\n",
       "      <th>송파구</th>\n",
       "      <th>강동구</th>\n",
       "    </tr>\n",
       "  </thead>\n",
       "  <tbody>\n",
       "    <tr>\n",
       "      <th>서울특별시</th>\n",
       "      <td>[종로구, 중구, 용산구, 성동구, 광진구, 동대문구, 중랑구, 성북구, 강북구, ...</td>\n",
       "      <td>NaN</td>\n",
       "      <td>NaN</td>\n",
       "      <td>NaN</td>\n",
       "      <td>NaN</td>\n",
       "      <td>NaN</td>\n",
       "      <td>NaN</td>\n",
       "      <td>NaN</td>\n",
       "      <td>NaN</td>\n",
       "      <td>NaN</td>\n",
       "      <td>...</td>\n",
       "      <td>{'list': ['신정동', '목동', '신월동'], '신정동': {'list':...</td>\n",
       "      <td>{'list': ['신도림동', '구로동', '가리봉동', '고척동', '개봉동',...</td>\n",
       "      <td>{'list': ['가산동', '독산동', '시흥동'], '가산동': {'list'...</td>\n",
       "      <td>{'list': ['영등포동', '영등포동1가', '영등포동2가', '영등포동3가'...</td>\n",
       "      <td>{'list': ['노량진동', '상도동', '상도1동', '본동', '흑석동', ...</td>\n",
       "      <td>{'list': ['봉천동', '신림동', '남현동'], '봉천동': {'list'...</td>\n",
       "      <td>{'list': ['방배동', '양재동', '우면동', '원지동', '잠원동', '...</td>\n",
       "      <td>{'list': ['역삼동', '개포동', '청담동', '삼성동', '대치동', '...</td>\n",
       "      <td>{'list': ['잠실동', '신천동', '풍납동', '송파동', '석촌동', '...</td>\n",
       "      <td>{'list': ['명일동', '고덕동', '상일동', '길동', '둔촌동', '암...</td>\n",
       "    </tr>\n",
       "  </tbody>\n",
       "</table>\n",
       "<p>1 rows × 246 columns</p>\n",
       "</div>"
      ],
      "text/plain": [
       "                                                    list  천안시 천안시 동남구 천안시 서북구  \\\n",
       "서울특별시  [종로구, 중구, 용산구, 성동구, 광진구, 동대문구, 중랑구, 성북구, 강북구, ...  NaN     NaN     NaN   \n",
       "\n",
       "       공주시  보령시  아산시  서산시  논산시  계룡시  ...  \\\n",
       "서울특별시  NaN  NaN  NaN  NaN  NaN  NaN  ...   \n",
       "\n",
       "                                                     양천구  \\\n",
       "서울특별시  {'list': ['신정동', '목동', '신월동'], '신정동': {'list':...   \n",
       "\n",
       "                                                     구로구  \\\n",
       "서울특별시  {'list': ['신도림동', '구로동', '가리봉동', '고척동', '개봉동',...   \n",
       "\n",
       "                                                     금천구  \\\n",
       "서울특별시  {'list': ['가산동', '독산동', '시흥동'], '가산동': {'list'...   \n",
       "\n",
       "                                                    영등포구  \\\n",
       "서울특별시  {'list': ['영등포동', '영등포동1가', '영등포동2가', '영등포동3가'...   \n",
       "\n",
       "                                                     동작구  \\\n",
       "서울특별시  {'list': ['노량진동', '상도동', '상도1동', '본동', '흑석동', ...   \n",
       "\n",
       "                                                     관악구  \\\n",
       "서울특별시  {'list': ['봉천동', '신림동', '남현동'], '봉천동': {'list'...   \n",
       "\n",
       "                                                     서초구  \\\n",
       "서울특별시  {'list': ['방배동', '양재동', '우면동', '원지동', '잠원동', '...   \n",
       "\n",
       "                                                     강남구  \\\n",
       "서울특별시  {'list': ['역삼동', '개포동', '청담동', '삼성동', '대치동', '...   \n",
       "\n",
       "                                                     송파구  \\\n",
       "서울특별시  {'list': ['잠실동', '신천동', '풍납동', '송파동', '석촌동', '...   \n",
       "\n",
       "                                                     강동구  \n",
       "서울특별시  {'list': ['명일동', '고덕동', '상일동', '길동', '둔촌동', '암...  \n",
       "\n",
       "[1 rows x 246 columns]"
      ]
     },
     "execution_count": 94,
     "metadata": {},
     "output_type": "execute_result"
    }
   ],
   "source": [
    "df_dstr.tail(1)"
   ]
  },
  {
   "cell_type": "code",
   "execution_count": 81,
   "id": "b8f2868c-38e0-4acc-90f0-f9163d27264b",
   "metadata": {
    "execution": {
     "iopub.execute_input": "2024-05-12T03:37:12.937976Z",
     "iopub.status.busy": "2024-05-12T03:37:12.936523Z",
     "iopub.status.idle": "2024-05-12T03:37:12.953365Z",
     "shell.execute_reply": "2024-05-12T03:37:12.952709Z",
     "shell.execute_reply.started": "2024-05-12T03:37:12.937923Z"
    }
   },
   "outputs": [
    {
     "name": "stdout",
     "output_type": "stream",
     "text": [
      "<class 'pandas.core.series.Series'>\n",
      "Index: 246 entries, list to 강동구\n",
      "Series name: 충청북도\n",
      "Non-Null Count  Dtype \n",
      "--------------  ----- \n",
      "16 non-null     object\n",
      "dtypes: object(1)\n",
      "memory usage: 11.9+ KB\n",
      "None\n",
      "['청주시', '청주시 상당구', '청주시 서원구', '청주시 흥덕구', '청주시 청원구', '충주시', '제천시', '보은군', '옥천군', '영동군', '증평군', '진천군', '괴산군', '음성군', '단양군']\n"
     ]
    }
   ],
   "source": [
    "print(df_dstr.iloc[2].info())\n",
    "print(df_dstr.iloc[2]['list'])"
   ]
  },
  {
   "cell_type": "code",
   "execution_count": 110,
   "id": "492a93dc-69ec-440f-80fd-56b292a147e5",
   "metadata": {
    "execution": {
     "iopub.execute_input": "2024-05-12T03:59:58.298636Z",
     "iopub.status.busy": "2024-05-12T03:59:58.297945Z",
     "iopub.status.idle": "2024-05-12T03:59:58.307670Z",
     "shell.execute_reply": "2024-05-12T03:59:58.307193Z",
     "shell.execute_reply.started": "2024-05-12T03:59:58.298611Z"
    },
    "scrolled": true
   },
   "outputs": [
    {
     "data": {
      "text/plain": [
       "{'list': ['단양읍', '매포읍', '대강면', '가곡면', '영춘면', '어상천면', '적성면', '단성면'],\n",
       " '단양읍': {'list': ['현천리',\n",
       "   '덕상리',\n",
       "   '심곡리',\n",
       "   '증도리',\n",
       "   '별곡리',\n",
       "   '도전리',\n",
       "   '상진리',\n",
       "   '도담리',\n",
       "   '후곡리',\n",
       "   '장현리',\n",
       "   '노동리',\n",
       "   '마조리',\n",
       "   '수촌리',\n",
       "   '천동리',\n",
       "   '금곡리',\n",
       "   '기촌리',\n",
       "   '고수리']},\n",
       " '매포읍': {'list': ['매포리',\n",
       "   '우덕리',\n",
       "   '하괴리',\n",
       "   '상괴리',\n",
       "   '안동리',\n",
       "   '평동리',\n",
       "   '도곡리',\n",
       "   '하시리',\n",
       "   '상시리',\n",
       "   '영천리',\n",
       "   '가평리',\n",
       "   '삼곡리',\n",
       "   '고양리',\n",
       "   '김산리',\n",
       "   '응실리']},\n",
       " '대강면': {'list': ['장림리',\n",
       "   '당동리',\n",
       "   '용부원리',\n",
       "   '두음리',\n",
       "   '괴평리',\n",
       "   '사인암리',\n",
       "   '직티리',\n",
       "   '황정리',\n",
       "   '성금리',\n",
       "   '미노리',\n",
       "   '덕촌리',\n",
       "   '장정리',\n",
       "   '사동리',\n",
       "   '남천리',\n",
       "   '남조리',\n",
       "   '무수천리',\n",
       "   '신구리',\n",
       "   '올산리',\n",
       "   '방곡리',\n",
       "   '풍산리',\n",
       "   '수홍리',\n",
       "   '옥택리',\n",
       "   '평촌리',\n",
       "   '입암리',\n",
       "   '송대리',\n",
       "   '강석리',\n",
       "   '사석리',\n",
       "   '방동리',\n",
       "   '월탄리',\n",
       "   '생암리',\n",
       "   '신덕리',\n",
       "   '방산리']},\n",
       " '가곡면': {'list': ['사평리',\n",
       "   '가대리',\n",
       "   '여천리',\n",
       "   '덕천리',\n",
       "   '대대리',\n",
       "   '어의곡리',\n",
       "   '보발리',\n",
       "   '향산리',\n",
       "   '오목리',\n",
       "   '탕곡리',\n",
       "   '오저리',\n",
       "   '풍곡리',\n",
       "   '동활리']},\n",
       " '영춘면': {'list': ['상리',\n",
       "   '하리',\n",
       "   '남천리',\n",
       "   '백자리',\n",
       "   '의풍리',\n",
       "   '동대리',\n",
       "   '용진리',\n",
       "   '오사리',\n",
       "   '유암리',\n",
       "   '사이곡리',\n",
       "   '별방리',\n",
       "   '만종리',\n",
       "   '장발리',\n",
       "   '사지원리']},\n",
       " '어상천면': {'list': ['임현리', '연곡리', '석교리', '대전리', '덕문곡리', '방북리', '심곡리', '율곡리']},\n",
       " '적성면': {'list': ['어유지리',\n",
       "   '장좌리',\n",
       "   '장현리',\n",
       "   '구읍리',\n",
       "   '객현리',\n",
       "   '가월리',\n",
       "   '무건리',\n",
       "   '율포리',\n",
       "   '답곡리',\n",
       "   '식현리',\n",
       "   '주월리',\n",
       "   '설마리',\n",
       "   '적암리',\n",
       "   '두지리',\n",
       "   '마지리',\n",
       "   '자장리',\n",
       "   '하진리',\n",
       "   '현곡리',\n",
       "   '하리',\n",
       "   '성곡리',\n",
       "   '상리',\n",
       "   '애곡리',\n",
       "   '기동리',\n",
       "   '각기리',\n",
       "   '소야리',\n",
       "   '대가리',\n",
       "   '파랑리',\n",
       "   '하원곡리',\n",
       "   '상원곡리',\n",
       "   '지북리',\n",
       "   '대산리',\n",
       "   '운림리',\n",
       "   '고원리',\n",
       "   '내월리',\n",
       "   '평남리',\n",
       "   '괴정리',\n",
       "   '석산리']},\n",
       " '단성면': {'list': ['북상리',\n",
       "   '북하리',\n",
       "   '상방리',\n",
       "   '중방리',\n",
       "   '하방리',\n",
       "   '외중방리',\n",
       "   '장회리',\n",
       "   '두항리',\n",
       "   '고평리',\n",
       "   '양당리',\n",
       "   '벌천리',\n",
       "   '회산리',\n",
       "   '가산리',\n",
       "   '대잠리',\n",
       "   '성내리',\n",
       "   '강누리',\n",
       "   '방목리',\n",
       "   '청계리',\n",
       "   '운리',\n",
       "   '입석리',\n",
       "   '길리',\n",
       "   '남사리',\n",
       "   '사월리',\n",
       "   '묵곡리',\n",
       "   '소남리',\n",
       "   '관정리',\n",
       "   '호리',\n",
       "   '당산리',\n",
       "   '창촌리',\n",
       "   '백운리',\n",
       "   '자양리']}}"
      ]
     },
     "execution_count": 110,
     "metadata": {},
     "output_type": "execute_result"
    }
   ],
   "source": [
    "df_dstr.iloc[2]['단양군']"
   ]
  },
  {
   "cell_type": "code",
   "execution_count": 111,
   "id": "c044f5e1-311d-41b7-ac73-3cee6f8258d0",
   "metadata": {
    "execution": {
     "iopub.execute_input": "2024-05-12T04:00:02.261793Z",
     "iopub.status.busy": "2024-05-12T04:00:02.261261Z",
     "iopub.status.idle": "2024-05-12T04:00:02.267504Z",
     "shell.execute_reply": "2024-05-12T04:00:02.267208Z",
     "shell.execute_reply.started": "2024-05-12T04:00:02.261774Z"
    },
    "scrolled": true
   },
   "outputs": [
    {
     "data": {
      "text/plain": [
       "{'list': ['현천리',\n",
       "  '덕상리',\n",
       "  '심곡리',\n",
       "  '증도리',\n",
       "  '별곡리',\n",
       "  '도전리',\n",
       "  '상진리',\n",
       "  '도담리',\n",
       "  '후곡리',\n",
       "  '장현리',\n",
       "  '노동리',\n",
       "  '마조리',\n",
       "  '수촌리',\n",
       "  '천동리',\n",
       "  '금곡리',\n",
       "  '기촌리',\n",
       "  '고수리']}"
      ]
     },
     "execution_count": 111,
     "metadata": {},
     "output_type": "execute_result"
    }
   ],
   "source": [
    "df_dstr.iloc[2]['단양군']['단양읍']"
   ]
  },
  {
   "cell_type": "code",
   "execution_count": 6,
   "id": "571c75bd-1704-43d4-ac92-d6f6f8883431",
   "metadata": {
    "execution": {
     "iopub.execute_input": "2024-05-12T02:27:10.509395Z",
     "iopub.status.busy": "2024-05-12T02:27:10.508885Z",
     "iopub.status.idle": "2024-05-12T02:27:10.516047Z",
     "shell.execute_reply": "2024-05-12T02:27:10.515243Z",
     "shell.execute_reply.started": "2024-05-12T02:27:10.509360Z"
    }
   },
   "outputs": [],
   "source": [
    "postfix = [\"광역시\", \"특별자치도\", \"특별자치시\", \"특별시\"]"
   ]
  },
  {
   "cell_type": "code",
   "execution_count": 7,
   "id": "45ee4c81-cb4e-4f4a-bd71-9d36d5ccb521",
   "metadata": {
    "execution": {
     "iopub.execute_input": "2024-05-12T02:27:17.571164Z",
     "iopub.status.busy": "2024-05-12T02:27:17.569872Z",
     "iopub.status.idle": "2024-05-12T02:27:17.823373Z",
     "shell.execute_reply": "2024-05-12T02:27:17.822850Z",
     "shell.execute_reply.started": "2024-05-12T02:27:17.571090Z"
    },
    "scrolled": true
   },
   "outputs": [
    {
     "ename": "NameError",
     "evalue": "name 'city_set' is not defined",
     "output_type": "error",
     "traceback": [
      "\u001b[0;31m---------------------------------------------------------------------------\u001b[0m",
      "\u001b[0;31mNameError\u001b[0m                                 Traceback (most recent call last)",
      "Cell \u001b[0;32mIn[7], line 1\u001b[0m\n\u001b[0;32m----> 1\u001b[0m \u001b[38;5;28;01mfor\u001b[39;00m full_name \u001b[38;5;129;01min\u001b[39;00m \u001b[43mcity_set\u001b[49m:\n\u001b[1;32m      2\u001b[0m     \u001b[38;5;66;03m# print(city)\u001b[39;00m\n\u001b[1;32m      3\u001b[0m     \u001b[38;5;28;01mfor\u001b[39;00m item \u001b[38;5;129;01min\u001b[39;00m postfix:\n\u001b[1;32m      4\u001b[0m         \u001b[38;5;28;01mif\u001b[39;00m item \u001b[38;5;129;01min\u001b[39;00m full_name:\n",
      "\u001b[0;31mNameError\u001b[0m: name 'city_set' is not defined"
     ]
    }
   ],
   "source": [
    "for full_name in city_set:\n",
    "    # print(city)\n",
    "    for item in postfix:\n",
    "        if item in full_name:\n",
    "            short_name = full_name.split(item)[0]\n",
    "            city_set.discard(full_name)\n",
    "            city_set.add(short_name)"
   ]
  },
  {
   "cell_type": "code",
   "execution_count": 165,
   "id": "461fa393-1be8-4cf0-81d8-621d19174e37",
   "metadata": {
    "collapsed": true,
    "execution": {
     "iopub.execute_input": "2024-04-22T12:56:19.199513Z",
     "iopub.status.busy": "2024-04-22T12:56:19.199035Z",
     "iopub.status.idle": "2024-04-22T12:56:19.206259Z",
     "shell.execute_reply": "2024-04-22T12:56:19.205537Z",
     "shell.execute_reply.started": "2024-04-22T12:56:19.199485Z"
    },
    "jupyter": {
     "outputs_hidden": true
    }
   },
   "outputs": [
    {
     "data": {
      "text/plain": [
       "{'강원',\n",
       " '경기도',\n",
       " '경상남도',\n",
       " '경상북도',\n",
       " '광주',\n",
       " '대구',\n",
       " '대전',\n",
       " '동해출장소',\n",
       " '부산',\n",
       " '북부출장소',\n",
       " '서울',\n",
       " '세종',\n",
       " '울산',\n",
       " '인천',\n",
       " '전라남도',\n",
       " '전북',\n",
       " '제주',\n",
       " '충청남도',\n",
       " '충청북도'}"
      ]
     },
     "execution_count": 165,
     "metadata": {},
     "output_type": "execute_result"
    }
   ],
   "source": [
    "city_set"
   ]
  },
  {
   "cell_type": "code",
   "execution_count": 168,
   "id": "393aa81c-3cd1-48c1-a931-3237e7ad6c07",
   "metadata": {
    "execution": {
     "iopub.execute_input": "2024-04-22T13:02:57.613278Z",
     "iopub.status.busy": "2024-04-22T13:02:57.611889Z",
     "iopub.status.idle": "2024-04-22T13:02:57.622276Z",
     "shell.execute_reply": "2024-04-22T13:02:57.620994Z",
     "shell.execute_reply.started": "2024-04-22T13:02:57.613224Z"
    }
   },
   "outputs": [],
   "source": [
    "values_to_discard = {\"동해출장소\", \"북부출장소\", \"전라남도\", \"전라북도\", \"충청남도\", \"충청북도\", \"경상남도\", \"경상북도\", \"경기도\"}\n",
    "values_to_update = {\"경기\", \"전남\", \"전북\", \"충남\", \"1충북\", \"경남\", \"경북\"}\n",
    "\n",
    "for value in values_to_discard:\n",
    "    city_set.discard(value)\n",
    "\n",
    "city_set.update(values_to_update)"
   ]
  },
  {
   "cell_type": "code",
   "execution_count": 169,
   "id": "c647e066-55bc-4e1b-8a23-63494c63d3de",
   "metadata": {
    "collapsed": true,
    "execution": {
     "iopub.execute_input": "2024-04-22T13:02:58.893026Z",
     "iopub.status.busy": "2024-04-22T13:02:58.892819Z",
     "iopub.status.idle": "2024-04-22T13:02:58.896771Z",
     "shell.execute_reply": "2024-04-22T13:02:58.896399Z",
     "shell.execute_reply.started": "2024-04-22T13:02:58.893011Z"
    },
    "jupyter": {
     "outputs_hidden": true
    },
    "scrolled": true
   },
   "outputs": [
    {
     "data": {
      "text/plain": [
       "{'강원',\n",
       " '경기',\n",
       " '경남',\n",
       " '경북',\n",
       " '광주',\n",
       " '대구',\n",
       " '대전',\n",
       " '부산',\n",
       " '서울',\n",
       " '세종',\n",
       " '울산',\n",
       " '인천',\n",
       " '전남',\n",
       " '전북',\n",
       " '제주',\n",
       " '충남',\n",
       " '충북'}"
      ]
     },
     "execution_count": 169,
     "metadata": {},
     "output_type": "execute_result"
    }
   ],
   "source": [
    "city_set"
   ]
  },
  {
   "cell_type": "code",
   "execution_count": null,
   "id": "f9005970-5a71-4ae5-8450-980bac2f3320",
   "metadata": {},
   "outputs": [],
   "source": []
  },
  {
   "cell_type": "markdown",
   "id": "937ccdf0-6d09-4f7c-b068-1db80eea1010",
   "metadata": {
    "jp-MarkdownHeadingCollapsed": true
   },
   "source": [
    "### icecream"
   ]
  },
  {
   "cell_type": "code",
   "execution_count": 20,
   "id": "89ba01ff-728e-4c95-ab54-5a29b6ee80e6",
   "metadata": {
    "collapsed": true,
    "execution": {
     "iopub.execute_input": "2024-05-12T02:48:43.960021Z",
     "iopub.status.busy": "2024-05-12T02:48:43.958709Z",
     "iopub.status.idle": "2024-05-12T02:48:49.578579Z",
     "shell.execute_reply": "2024-05-12T02:48:49.577854Z",
     "shell.execute_reply.started": "2024-05-12T02:48:43.959988Z"
    },
    "jupyter": {
     "outputs_hidden": true
    },
    "scrolled": true
   },
   "outputs": [
    {
     "name": "stdout",
     "output_type": "stream",
     "text": [
      "Collecting icecream\n",
      "  Downloading icecream-2.1.3-py2.py3-none-any.whl.metadata (1.4 kB)\n",
      "Requirement already satisfied: colorama>=0.3.9 in /Users/salgu/.pyenv/versions/pml/lib/python3.11/site-packages (from icecream) (0.4.6)\n",
      "Requirement already satisfied: pygments>=2.2.0 in /Users/salgu/.pyenv/versions/pml/lib/python3.11/site-packages (from icecream) (2.16.1)\n",
      "Requirement already satisfied: executing>=0.3.1 in /Users/salgu/.pyenv/versions/pml/lib/python3.11/site-packages (from icecream) (2.0.0)\n",
      "Requirement already satisfied: asttokens>=2.0.1 in /Users/salgu/.pyenv/versions/pml/lib/python3.11/site-packages (from icecream) (2.4.0)\n",
      "Requirement already satisfied: six>=1.12.0 in /Users/salgu/.pyenv/versions/pml/lib/python3.11/site-packages (from asttokens>=2.0.1->icecream) (1.16.0)\n",
      "Downloading icecream-2.1.3-py2.py3-none-any.whl (8.4 kB)\n",
      "Installing collected packages: icecream\n",
      "Successfully installed icecream-2.1.3\n"
     ]
    }
   ],
   "source": [
    "!pip install icecream"
   ]
  },
  {
   "cell_type": "code",
   "execution_count": 114,
   "id": "2fc22fb2-1c1d-47b2-9445-7e03ba66f450",
   "metadata": {
    "execution": {
     "iopub.execute_input": "2024-05-13T05:41:54.533735Z",
     "iopub.status.busy": "2024-05-13T05:41:54.532538Z",
     "iopub.status.idle": "2024-05-13T05:41:54.559422Z",
     "shell.execute_reply": "2024-05-13T05:41:54.559025Z",
     "shell.execute_reply.started": "2024-05-13T05:41:54.533712Z"
    }
   },
   "outputs": [],
   "source": [
    "from icecream import ic"
   ]
  },
  {
   "cell_type": "markdown",
   "id": "b5d38612-d640-443c-97fd-a9f79d0e1064",
   "metadata": {
    "jp-MarkdownHeadingCollapsed": true
   },
   "source": [
    "### test"
   ]
  },
  {
   "cell_type": "code",
   "execution_count": 27,
   "id": "b4b5d91b-9a99-4bb7-b641-979b15f3f340",
   "metadata": {
    "execution": {
     "iopub.execute_input": "2024-05-12T08:02:56.641107Z",
     "iopub.status.busy": "2024-05-12T08:02:56.639389Z",
     "iopub.status.idle": "2024-05-12T08:02:56.649144Z",
     "shell.execute_reply": "2024-05-12T08:02:56.647423Z",
     "shell.execute_reply.started": "2024-05-12T08:02:56.641033Z"
    }
   },
   "outputs": [],
   "source": [
    "text = '스턴트맨은 어는 한적한 서울특별시 강동구 고덕동 길에서 잠에 들었다.'"
   ]
  },
  {
   "cell_type": "code",
   "execution_count": 89,
   "id": "82eccc28-72ac-489b-94e9-d4111974a27a",
   "metadata": {
    "execution": {
     "iopub.execute_input": "2024-05-12T03:39:35.813171Z",
     "iopub.status.busy": "2024-05-12T03:39:35.812408Z",
     "iopub.status.idle": "2024-05-12T03:39:35.817892Z",
     "shell.execute_reply": "2024-05-12T03:39:35.817473Z",
     "shell.execute_reply.started": "2024-05-12T03:39:35.813144Z"
    }
   },
   "outputs": [],
   "source": [
    "text = '스턴트맨은 어는 한적한 충청북도 단양군 단양읍 마조리 길에서 잠에 들었다.'"
   ]
  },
  {
   "cell_type": "code",
   "execution_count": 19,
   "id": "995a64ae-5d69-48cc-97d9-826840a5d9d6",
   "metadata": {
    "execution": {
     "iopub.execute_input": "2024-05-12T02:45:57.248134Z",
     "iopub.status.busy": "2024-05-12T02:45:57.243414Z",
     "iopub.status.idle": "2024-05-12T02:45:57.282102Z",
     "shell.execute_reply": "2024-05-12T02:45:57.279916Z",
     "shell.execute_reply.started": "2024-05-12T02:45:57.247970Z"
    }
   },
   "outputs": [],
   "source": [
    "provs = list(df_dstr.index)"
   ]
  },
  {
   "cell_type": "code",
   "execution_count": 30,
   "id": "9cd6d8dc-69c1-4cc1-aed5-d75ec609ae6d",
   "metadata": {
    "execution": {
     "iopub.execute_input": "2024-05-12T08:07:58.439719Z",
     "iopub.status.busy": "2024-05-12T08:07:58.438302Z",
     "iopub.status.idle": "2024-05-12T08:07:58.448117Z",
     "shell.execute_reply": "2024-05-12T08:07:58.447507Z",
     "shell.execute_reply.started": "2024-05-12T08:07:58.439685Z"
    }
   },
   "outputs": [],
   "source": [
    "import re"
   ]
  },
  {
   "cell_type": "code",
   "execution_count": null,
   "id": "20f43590-4801-4242-8565-0b1f9367a894",
   "metadata": {
    "execution": {
     "iopub.execute_input": "2024-05-12T03:21:35.422522Z",
     "iopub.status.busy": "2024-05-12T03:21:35.419107Z",
     "iopub.status.idle": "2024-05-12T03:21:35.430085Z",
     "shell.execute_reply": "2024-05-12T03:21:35.429424Z",
     "shell.execute_reply.started": "2024-05-12T03:21:35.422484Z"
    }
   },
   "outputs": [],
   "source": [
    "# for lv1 in df_dstr['list']:\n",
    "#     ic(lv1)\n",
    "#     for lv1_item in lv1:\n",
    "#         # ic(lv1_item)\n",
    "#         # if lv1_item in text:\n",
    "#         pattern = r'\\b{}\\b'.format(re.escape(lv1_item))\n",
    "#         if re.search(pattern, text):\n",
    "#             ic(lv1_item)\n",
    "#             ic(df_dstr[lv1_item])"
   ]
  },
  {
   "cell_type": "code",
   "execution_count": 109,
   "id": "28be9cfa-6163-481c-8778-818d6d1c1da6",
   "metadata": {
    "collapsed": true,
    "execution": {
     "iopub.execute_input": "2024-05-12T03:58:41.929905Z",
     "iopub.status.busy": "2024-05-12T03:58:41.928616Z",
     "iopub.status.idle": "2024-05-12T03:58:41.942140Z",
     "shell.execute_reply": "2024-05-12T03:58:41.941600Z",
     "shell.execute_reply.started": "2024-05-12T03:58:41.929873Z"
    },
    "jupyter": {
     "outputs_hidden": true
    },
    "scrolled": true
   },
   "outputs": [
    {
     "name": "stdout",
     "output_type": "stream",
     "text": [
      "서울특별시\n",
      "강동구\n",
      "고덕동\n"
     ]
    }
   ],
   "source": [
    "# lv0: province\n",
    "for lv0 in df_dstr.index:\n",
    "    if lv0 in text:\n",
    "        df = df_dstr[df_dstr.index == lv0]\n",
    "        lv1 = df['list'].iloc[0]\n",
    "\n",
    "        for lv2 in lv1:\n",
    "            if lv2 in text:\n",
    "                \n",
    "                for lv3 in df[lv2]:\n",
    "                    for lv4 in lv3['list']:\n",
    "                        if lv4 in text:\n",
    "                            if len(lv3[lv4]['list']) > 0:\n",
    "                                for lv5 in lv3[lv4]['list']:\n",
    "                                    if lv5 in text:\n",
    "                                        print(f'{lv0}\\n{lv2}\\n{lv4}\\n{lv5}')\n",
    "                                        break\n",
    "                            else:\n",
    "                                print(f'{lv0}\\n{lv2}\\n{lv4}')"
   ]
  },
  {
   "cell_type": "markdown",
   "id": "4721d566-29e6-4ecb-a4ff-a963964a7ac2",
   "metadata": {},
   "source": [
    "#### search_text_in_hierarchy"
   ]
  },
  {
   "cell_type": "code",
   "execution_count": 112,
   "id": "ce228174-2c31-459b-ba9e-d2da1cf398a7",
   "metadata": {
    "execution": {
     "iopub.execute_input": "2024-05-12T04:01:51.339690Z",
     "iopub.status.busy": "2024-05-12T04:01:51.338086Z",
     "iopub.status.idle": "2024-05-12T04:01:51.349875Z",
     "shell.execute_reply": "2024-05-12T04:01:51.349301Z",
     "shell.execute_reply.started": "2024-05-12T04:01:51.339656Z"
    }
   },
   "outputs": [],
   "source": [
    "def print_hierarchy(lv1, lv2, lv4, lv5=None):\n",
    "    if lv5:\n",
    "        print(f'{lv1}\\n{lv2}\\n{lv4}\\n{lv5}')\n",
    "    else:\n",
    "        print(f'{lv1}\\n{lv2}\\n{lv4}')"
   ]
  },
  {
   "cell_type": "code",
   "execution_count": 113,
   "id": "ae555454-62ce-4cfe-b5bf-19c3bf6709ba",
   "metadata": {
    "execution": {
     "iopub.execute_input": "2024-05-12T04:01:52.571276Z",
     "iopub.status.busy": "2024-05-12T04:01:52.570758Z",
     "iopub.status.idle": "2024-05-12T04:01:52.579506Z",
     "shell.execute_reply": "2024-05-12T04:01:52.578742Z",
     "shell.execute_reply.started": "2024-05-12T04:01:52.571249Z"
    }
   },
   "outputs": [],
   "source": [
    "def search_text_in_hierarchy(text, df_dstr):\n",
    "    # Iterate over the first level of the hierarchy\n",
    "    for lv1 in df_dstr.index:\n",
    "        if lv1 in text:\n",
    "            # Filter the DataFrame to get the current level\n",
    "            df_lv1 = df_dstr[df_dstr.index == lv1]\n",
    "            for lv2 in df_lv1['list'].iloc[0]:\n",
    "                if lv2 in text:\n",
    "                    # Iterate over the second level of the hierarchy\n",
    "                    for lv3 in df_lv1[lv2]:\n",
    "                        for lv4 in lv3['list']:\n",
    "                            if lv4 in text:\n",
    "                                if len(lv3[lv4]['list']) > 0:\n",
    "                                    # Iterate over the third level of the hierarchy\n",
    "                                    for lv5 in lv3[lv4]['list']:\n",
    "                                        if lv5 in text:\n",
    "                                            print_hierarchy(lv1, lv2, lv4, lv5)\n",
    "                                            break\n",
    "                                else:\n",
    "                                    print_hierarchy(lv1, lv2, lv4)"
   ]
  },
  {
   "cell_type": "code",
   "execution_count": 139,
   "id": "555a8654-d6a9-46db-a694-411955ed80f0",
   "metadata": {
    "execution": {
     "iopub.execute_input": "2024-05-12T05:27:54.825584Z",
     "iopub.status.busy": "2024-05-12T05:27:54.821821Z",
     "iopub.status.idle": "2024-05-12T05:27:54.847408Z",
     "shell.execute_reply": "2024-05-12T05:27:54.846694Z",
     "shell.execute_reply.started": "2024-05-12T05:27:54.825558Z"
    }
   },
   "outputs": [],
   "source": [
    "search_text_in_hierarchy(text, df_dstr)"
   ]
  },
  {
   "cell_type": "code",
   "execution_count": 90,
   "id": "8562f74d-eb69-4878-a59f-d49b8d5e102d",
   "metadata": {
    "execution": {
     "iopub.execute_input": "2024-05-12T09:32:37.726943Z",
     "iopub.status.busy": "2024-05-12T09:32:37.725211Z",
     "iopub.status.idle": "2024-05-12T09:32:37.736598Z",
     "shell.execute_reply": "2024-05-12T09:32:37.735986Z",
     "shell.execute_reply.started": "2024-05-12T09:32:37.726891Z"
    }
   },
   "outputs": [],
   "source": [
    "from utils.search_address import search_address_in_text"
   ]
  },
  {
   "cell_type": "code",
   "execution_count": 140,
   "id": "194a0dcb-e14b-41d9-b886-3b5b6a31cc24",
   "metadata": {
    "execution": {
     "iopub.execute_input": "2024-05-12T05:28:24.149416Z",
     "iopub.status.busy": "2024-05-12T05:28:24.148430Z",
     "iopub.status.idle": "2024-05-12T05:28:24.164056Z",
     "shell.execute_reply": "2024-05-12T05:28:24.163609Z",
     "shell.execute_reply.started": "2024-05-12T05:28:24.149376Z"
    }
   },
   "outputs": [],
   "source": [
    "search_text_in_address(text, df_dstr)"
   ]
  },
  {
   "cell_type": "markdown",
   "id": "2295d2a2-8e80-4026-8548-baa756a64fe8",
   "metadata": {},
   "source": [
    "#### test bottom-up"
   ]
  },
  {
   "cell_type": "code",
   "execution_count": 6,
   "id": "e991da78-957a-4754-a6db-1af3ffc2db12",
   "metadata": {
    "execution": {
     "iopub.execute_input": "2024-05-12T07:20:28.558649Z",
     "iopub.status.busy": "2024-05-12T07:20:28.557162Z",
     "iopub.status.idle": "2024-05-12T07:20:28.580602Z",
     "shell.execute_reply": "2024-05-12T07:20:28.579943Z",
     "shell.execute_reply.started": "2024-05-12T07:20:28.558590Z"
    }
   },
   "outputs": [],
   "source": [
    "text = '스턴트맨은 어는 한적한 마조리 길에서 잠에 들었다.'"
   ]
  },
  {
   "cell_type": "code",
   "execution_count": 69,
   "id": "36f26994-e976-44ae-b1e7-3ac8e49e3477",
   "metadata": {
    "execution": {
     "iopub.execute_input": "2024-05-12T09:04:53.423579Z",
     "iopub.status.busy": "2024-05-12T09:04:53.422087Z",
     "iopub.status.idle": "2024-05-12T09:04:53.440727Z",
     "shell.execute_reply": "2024-05-12T09:04:53.440182Z",
     "shell.execute_reply.started": "2024-05-12T09:04:53.423518Z"
    }
   },
   "outputs": [],
   "source": [
    "def search_text_in_hierarchy(text, df_dstr):\n",
    "    searched_results = []\n",
    "\n",
    "    for lv1 in df_dstr.index:\n",
    "        count = 0\n",
    "        \n",
    "        pattern = r'\\b{}\\b'.format(re.escape(lv1))\n",
    "        if re.search(pattern, text):\n",
    "            ic(lv1)\n",
    "            count += 1\n",
    "            \n",
    "        df_lv1 = df_dstr[df_dstr.index == lv1]\n",
    "        for lv2 in df_lv1['list'].iloc[0]:\n",
    "\n",
    "            pattern = r'\\b{}\\b'.format(re.escape(lv2))\n",
    "            if re.search(pattern, text):\n",
    "                ic(lv2)\n",
    "                count += 1\n",
    "                \n",
    "            for lv3 in df_lv1[lv2]:\n",
    "                \n",
    "                for lv4 in lv3['list']:\n",
    "                    \n",
    "                    if len(lv3[lv4]['list']) > 0:\n",
    "                        for lv5 in lv3[lv4]['list']:\n",
    "\n",
    "                            pattern = r'\\b{}\\b'.format(re.escape(lv5))\n",
    "                            if re.search(pattern, text):\n",
    "                                count += 1\n",
    "                                address = f'{lv1} {lv2} {lv4} {lv5}'\n",
    "                                result = {\n",
    "                                    'count': count,\n",
    "                                    'address': address\n",
    "                                }\n",
    "                                searched_results.append(result)\n",
    "                                ic(address)\n",
    "                                \n",
    "                    else:\n",
    "                        pattern = r'\\b{}\\b'.format(re.escape(lv4))\n",
    "                        if re.search(pattern, text):\n",
    "                            count += 1\n",
    "                            address = f'{lv1} {lv2} {lv4}'\n",
    "                            result = {\n",
    "                                'count': count,\n",
    "                                'address': address\n",
    "                            }\n",
    "                            searched_results.append(result)\n",
    "                            ic(address)\n",
    "    \n",
    "    result = {\n",
    "        'address': '',\n",
    "        'count': 0\n",
    "    }\n",
    "    \n",
    "    for item in searched_results:\n",
    "        if item['count'] > result['count']:\n",
    "            result = item\n",
    "\n",
    "    return result['address']"
   ]
  },
  {
   "cell_type": "code",
   "execution_count": 70,
   "id": "126d7124-088c-49b5-8126-6af5c8607021",
   "metadata": {
    "execution": {
     "iopub.execute_input": "2024-05-12T09:04:54.443500Z",
     "iopub.status.busy": "2024-05-12T09:04:54.442634Z",
     "iopub.status.idle": "2024-05-12T09:04:54.743219Z",
     "shell.execute_reply": "2024-05-12T09:04:54.742873Z",
     "shell.execute_reply.started": "2024-05-12T09:04:54.443479Z"
    },
    "scrolled": true
   },
   "outputs": [
    {
     "name": "stderr",
     "output_type": "stream",
     "text": [
      "ic| address: '경기도 평택시 고덕동'\n",
      "ic| lv1: '서울특별시'\n",
      "ic| lv2: '강동구'\n",
      "ic| address: '서울특별시 강동구 고덕동'\n"
     ]
    },
    {
     "data": {
      "text/plain": [
       "'서울특별시 강동구 고덕동'"
      ]
     },
     "execution_count": 70,
     "metadata": {},
     "output_type": "execute_result"
    }
   ],
   "source": [
    "search_text_in_hierarchy(text, df_dstr)"
   ]
  },
  {
   "cell_type": "code",
   "execution_count": 73,
   "id": "6933ab0a-a3fa-476b-a833-bc0ade66c36c",
   "metadata": {
    "execution": {
     "iopub.execute_input": "2024-05-12T09:16:57.177248Z",
     "iopub.status.busy": "2024-05-12T09:16:57.176461Z",
     "iopub.status.idle": "2024-05-12T09:16:57.633383Z",
     "shell.execute_reply": "2024-05-12T09:16:57.633131Z",
     "shell.execute_reply.started": "2024-05-12T09:16:57.177200Z"
    },
    "scrolled": true
   },
   "outputs": [
    {
     "name": "stderr",
     "output_type": "stream",
     "text": [
      "ic| address: '경기도 평택시 고덕동'\n",
      "ic| lv1: '서울특별시'\n",
      "ic| lv2: '강동구'\n",
      "ic| address: '서울특별시 강동구 고덕동'\n"
     ]
    },
    {
     "data": {
      "text/plain": [
       "'서울특별시 강동구 고덕동'"
      ]
     },
     "execution_count": 73,
     "metadata": {},
     "output_type": "execute_result"
    }
   ],
   "source": [
    "search_address_in_text(text, df_dstr)"
   ]
  },
  {
   "cell_type": "markdown",
   "id": "54b3829f-249f-4cee-ae11-b1dc936c8493",
   "metadata": {
    "jp-MarkdownHeadingCollapsed": true
   },
   "source": [
    "### Re-organising Dataframe"
   ]
  },
  {
   "cell_type": "markdown",
   "id": "81cbbd95-2293-4053-8a0e-c2aa361830c9",
   "metadata": {},
   "source": [
    "#### addr_sample"
   ]
  },
  {
   "cell_type": "code",
   "execution_count": 26,
   "id": "733c432a-c703-4a5d-a190-5b7471925aac",
   "metadata": {
    "execution": {
     "iopub.execute_input": "2024-05-13T03:34:03.258895Z",
     "iopub.status.busy": "2024-05-13T03:34:03.257183Z",
     "iopub.status.idle": "2024-05-13T03:34:03.270109Z",
     "shell.execute_reply": "2024-05-13T03:34:03.269336Z",
     "shell.execute_reply.started": "2024-05-13T03:34:03.258821Z"
    },
    "scrolled": true
   },
   "outputs": [],
   "source": [
    "addr_sample = {\n",
    "    'lv1': [''],\n",
    "    'lv2': [''],\n",
    "    'lv3': [''],\n",
    "    'lv4': [''],\n",
    "    'lv5': ['']\n",
    "}\n",
    "df_addr = pd.DataFrame(addr_sample)"
   ]
  },
  {
   "cell_type": "code",
   "execution_count": 11,
   "id": "6e8c6ee6-f48f-467a-9b95-f909b6461131",
   "metadata": {
    "execution": {
     "iopub.execute_input": "2024-05-13T03:32:20.678737Z",
     "iopub.status.busy": "2024-05-13T03:32:20.678510Z",
     "iopub.status.idle": "2024-05-13T03:32:20.689586Z",
     "shell.execute_reply": "2024-05-13T03:32:20.689144Z",
     "shell.execute_reply.started": "2024-05-13T03:32:20.678720Z"
    }
   },
   "outputs": [
    {
     "data": {
      "text/html": [
       "<div>\n",
       "<style scoped>\n",
       "    .dataframe tbody tr th:only-of-type {\n",
       "        vertical-align: middle;\n",
       "    }\n",
       "\n",
       "    .dataframe tbody tr th {\n",
       "        vertical-align: top;\n",
       "    }\n",
       "\n",
       "    .dataframe thead th {\n",
       "        text-align: right;\n",
       "    }\n",
       "</style>\n",
       "<table border=\"1\" class=\"dataframe\">\n",
       "  <thead>\n",
       "    <tr style=\"text-align: right;\">\n",
       "      <th></th>\n",
       "      <th>lv1</th>\n",
       "      <th>lv2</th>\n",
       "      <th>lv3</th>\n",
       "      <th>lv4</th>\n",
       "      <th>lv5</th>\n",
       "    </tr>\n",
       "  </thead>\n",
       "  <tbody>\n",
       "    <tr>\n",
       "      <th>0</th>\n",
       "      <td></td>\n",
       "      <td></td>\n",
       "      <td></td>\n",
       "      <td></td>\n",
       "      <td></td>\n",
       "    </tr>\n",
       "  </tbody>\n",
       "</table>\n",
       "</div>"
      ],
      "text/plain": [
       "  lv1 lv2 lv3 lv4 lv5\n",
       "0                    "
      ]
     },
     "execution_count": 11,
     "metadata": {},
     "output_type": "execute_result"
    }
   ],
   "source": [
    "df_addr"
   ]
  },
  {
   "cell_type": "code",
   "execution_count": 7,
   "id": "7cdbec1a-7836-490e-b47f-3db2edd37fb1",
   "metadata": {
    "execution": {
     "iopub.execute_input": "2024-05-13T03:31:52.349836Z",
     "iopub.status.busy": "2024-05-13T03:31:52.348601Z",
     "iopub.status.idle": "2024-05-13T03:31:52.356809Z",
     "shell.execute_reply": "2024-05-13T03:31:52.356337Z",
     "shell.execute_reply.started": "2024-05-13T03:31:52.349803Z"
    }
   },
   "outputs": [],
   "source": [
    "addr_sample = {\n",
    "    'lv1': [''],\n",
    "    'lv2': [''],\n",
    "    'lv3': [''],\n",
    "    'lv4': [''],\n",
    "    'lv5': ['']\n",
    "}"
   ]
  },
  {
   "cell_type": "code",
   "execution_count": 24,
   "id": "81b8cd98-c411-4fcd-b55a-67520d0ca038",
   "metadata": {
    "execution": {
     "iopub.execute_input": "2024-05-13T03:33:52.538064Z",
     "iopub.status.busy": "2024-05-13T03:33:52.536783Z",
     "iopub.status.idle": "2024-05-13T03:33:52.553282Z",
     "shell.execute_reply": "2024-05-13T03:33:52.552606Z",
     "shell.execute_reply.started": "2024-05-13T03:33:52.538014Z"
    }
   },
   "outputs": [],
   "source": [
    "df_addr.loc[len(df_addr)] = addr_sample"
   ]
  },
  {
   "cell_type": "code",
   "execution_count": 25,
   "id": "3c2a93dd-952c-4b58-97e0-f14eba5de211",
   "metadata": {
    "execution": {
     "iopub.execute_input": "2024-05-13T03:33:53.422487Z",
     "iopub.status.busy": "2024-05-13T03:33:53.421779Z",
     "iopub.status.idle": "2024-05-13T03:33:53.495865Z",
     "shell.execute_reply": "2024-05-13T03:33:53.439661Z",
     "shell.execute_reply.started": "2024-05-13T03:33:53.422442Z"
    }
   },
   "outputs": [
    {
     "data": {
      "text/html": [
       "<div>\n",
       "<style scoped>\n",
       "    .dataframe tbody tr th:only-of-type {\n",
       "        vertical-align: middle;\n",
       "    }\n",
       "\n",
       "    .dataframe tbody tr th {\n",
       "        vertical-align: top;\n",
       "    }\n",
       "\n",
       "    .dataframe thead th {\n",
       "        text-align: right;\n",
       "    }\n",
       "</style>\n",
       "<table border=\"1\" class=\"dataframe\">\n",
       "  <thead>\n",
       "    <tr style=\"text-align: right;\">\n",
       "      <th></th>\n",
       "      <th>lv1</th>\n",
       "      <th>lv2</th>\n",
       "      <th>lv3</th>\n",
       "      <th>lv4</th>\n",
       "      <th>lv5</th>\n",
       "    </tr>\n",
       "  </thead>\n",
       "  <tbody>\n",
       "    <tr>\n",
       "      <th>0</th>\n",
       "      <td>[]</td>\n",
       "      <td>[]</td>\n",
       "      <td>[]</td>\n",
       "      <td>[]</td>\n",
       "      <td>[]</td>\n",
       "    </tr>\n",
       "    <tr>\n",
       "      <th>1</th>\n",
       "      <td>[]</td>\n",
       "      <td>[]</td>\n",
       "      <td>[]</td>\n",
       "      <td>[]</td>\n",
       "      <td>[]</td>\n",
       "    </tr>\n",
       "    <tr>\n",
       "      <th>2</th>\n",
       "      <td>[]</td>\n",
       "      <td>[]</td>\n",
       "      <td>[]</td>\n",
       "      <td>[]</td>\n",
       "      <td>[]</td>\n",
       "    </tr>\n",
       "  </tbody>\n",
       "</table>\n",
       "</div>"
      ],
      "text/plain": [
       "  lv1 lv2 lv3 lv4 lv5\n",
       "0  []  []  []  []  []\n",
       "1  []  []  []  []  []\n",
       "2  []  []  []  []  []"
      ]
     },
     "execution_count": 25,
     "metadata": {},
     "output_type": "execute_result"
    }
   ],
   "source": [
    "df_addr"
   ]
  },
  {
   "cell_type": "markdown",
   "id": "7de7defc-8383-4e19-8400-82b87adb494c",
   "metadata": {},
   "source": [
    "#### df_dstr"
   ]
  },
  {
   "cell_type": "code",
   "execution_count": 95,
   "id": "13a435d6-0d65-4eb3-8062-c053e3c78d2e",
   "metadata": {
    "execution": {
     "iopub.execute_input": "2024-05-13T01:41:38.864611Z",
     "iopub.status.busy": "2024-05-13T01:41:38.863060Z",
     "iopub.status.idle": "2024-05-13T01:41:38.964523Z",
     "shell.execute_reply": "2024-05-13T01:41:38.964249Z",
     "shell.execute_reply.started": "2024-05-13T01:41:38.864561Z"
    }
   },
   "outputs": [
    {
     "data": {
      "text/html": [
       "<div>\n",
       "<style scoped>\n",
       "    .dataframe tbody tr th:only-of-type {\n",
       "        vertical-align: middle;\n",
       "    }\n",
       "\n",
       "    .dataframe tbody tr th {\n",
       "        vertical-align: top;\n",
       "    }\n",
       "\n",
       "    .dataframe thead th {\n",
       "        text-align: right;\n",
       "    }\n",
       "</style>\n",
       "<table border=\"1\" class=\"dataframe\">\n",
       "  <thead>\n",
       "    <tr style=\"text-align: right;\">\n",
       "      <th></th>\n",
       "      <th>list</th>\n",
       "      <th>천안시</th>\n",
       "      <th>천안시 동남구</th>\n",
       "      <th>천안시 서북구</th>\n",
       "      <th>공주시</th>\n",
       "      <th>보령시</th>\n",
       "      <th>아산시</th>\n",
       "      <th>서산시</th>\n",
       "      <th>논산시</th>\n",
       "      <th>계룡시</th>\n",
       "      <th>...</th>\n",
       "      <th>양천구</th>\n",
       "      <th>구로구</th>\n",
       "      <th>금천구</th>\n",
       "      <th>영등포구</th>\n",
       "      <th>동작구</th>\n",
       "      <th>관악구</th>\n",
       "      <th>서초구</th>\n",
       "      <th>강남구</th>\n",
       "      <th>송파구</th>\n",
       "      <th>강동구</th>\n",
       "    </tr>\n",
       "  </thead>\n",
       "  <tbody>\n",
       "    <tr>\n",
       "      <th>충청남도</th>\n",
       "      <td>[천안시, 천안시 동남구, 천안시 서북구, 공주시, 보령시, 아산시, 서산시, 논산...</td>\n",
       "      <td>{'list': []}</td>\n",
       "      <td>{'list': ['대흥동', '성황동', '문화동', '사직동', '영성동', '...</td>\n",
       "      <td>{'list': ['와촌동', '성정동', '백석동', '두정동', '성성동', '...</td>\n",
       "      <td>{'list': ['반죽동', '봉황동', '중학동', '중동', '산성동', '교...</td>\n",
       "      <td>{'list': ['대천동', '죽정동', '화산동', '동대동', '명천동', '...</td>\n",
       "      <td>{'list': ['온천동', '실옥동', '방축동', '기산동', '초사동', '...</td>\n",
       "      <td>{'list': ['읍내동', '동문동', '갈산동', '온석동', '잠홍동', '...</td>\n",
       "      <td>{'list': ['화지동', '반월동', '대교동', '부창동', '취암동', '...</td>\n",
       "      <td>{'list': ['금암동', '두마면', '엄사면', '신도안면'], '금암동':...</td>\n",
       "      <td>...</td>\n",
       "      <td>NaN</td>\n",
       "      <td>NaN</td>\n",
       "      <td>NaN</td>\n",
       "      <td>NaN</td>\n",
       "      <td>NaN</td>\n",
       "      <td>NaN</td>\n",
       "      <td>NaN</td>\n",
       "      <td>NaN</td>\n",
       "      <td>NaN</td>\n",
       "      <td>NaN</td>\n",
       "    </tr>\n",
       "  </tbody>\n",
       "</table>\n",
       "<p>1 rows × 246 columns</p>\n",
       "</div>"
      ],
      "text/plain": [
       "                                                   list           천안시  \\\n",
       "충청남도  [천안시, 천안시 동남구, 천안시 서북구, 공주시, 보령시, 아산시, 서산시, 논산...  {'list': []}   \n",
       "\n",
       "                                                천안시 동남구  \\\n",
       "충청남도  {'list': ['대흥동', '성황동', '문화동', '사직동', '영성동', '...   \n",
       "\n",
       "                                                천안시 서북구  \\\n",
       "충청남도  {'list': ['와촌동', '성정동', '백석동', '두정동', '성성동', '...   \n",
       "\n",
       "                                                    공주시  \\\n",
       "충청남도  {'list': ['반죽동', '봉황동', '중학동', '중동', '산성동', '교...   \n",
       "\n",
       "                                                    보령시  \\\n",
       "충청남도  {'list': ['대천동', '죽정동', '화산동', '동대동', '명천동', '...   \n",
       "\n",
       "                                                    아산시  \\\n",
       "충청남도  {'list': ['온천동', '실옥동', '방축동', '기산동', '초사동', '...   \n",
       "\n",
       "                                                    서산시  \\\n",
       "충청남도  {'list': ['읍내동', '동문동', '갈산동', '온석동', '잠홍동', '...   \n",
       "\n",
       "                                                    논산시  \\\n",
       "충청남도  {'list': ['화지동', '반월동', '대교동', '부창동', '취암동', '...   \n",
       "\n",
       "                                                    계룡시  ...  양천구  구로구  금천구  \\\n",
       "충청남도  {'list': ['금암동', '두마면', '엄사면', '신도안면'], '금암동':...  ...  NaN  NaN  NaN   \n",
       "\n",
       "     영등포구  동작구  관악구  서초구  강남구  송파구  강동구  \n",
       "충청남도  NaN  NaN  NaN  NaN  NaN  NaN  NaN  \n",
       "\n",
       "[1 rows x 246 columns]"
      ]
     },
     "execution_count": 95,
     "metadata": {},
     "output_type": "execute_result"
    }
   ],
   "source": [
    "df_dstr.head(1)"
   ]
  },
  {
   "cell_type": "code",
   "execution_count": 105,
   "id": "bcec0b83-8969-4587-a143-778ad7efb5d7",
   "metadata": {
    "execution": {
     "iopub.execute_input": "2024-05-13T01:51:49.035890Z",
     "iopub.status.busy": "2024-05-13T01:51:49.034915Z",
     "iopub.status.idle": "2024-05-13T01:51:49.041031Z",
     "shell.execute_reply": "2024-05-13T01:51:49.040720Z",
     "shell.execute_reply.started": "2024-05-13T01:51:49.035867Z"
    }
   },
   "outputs": [
    {
     "data": {
      "text/plain": [
       "'충청남도'"
      ]
     },
     "execution_count": 105,
     "metadata": {},
     "output_type": "execute_result"
    }
   ],
   "source": [
    "df_dstr.index[0]"
   ]
  },
  {
   "cell_type": "code",
   "execution_count": 120,
   "id": "11a00da9-b125-48fc-a397-2358c03a4fa5",
   "metadata": {
    "collapsed": true,
    "execution": {
     "iopub.execute_input": "2024-05-13T01:59:09.420478Z",
     "iopub.status.busy": "2024-05-13T01:59:09.417918Z",
     "iopub.status.idle": "2024-05-13T01:59:09.439663Z",
     "shell.execute_reply": "2024-05-13T01:59:09.439128Z",
     "shell.execute_reply.started": "2024-05-13T01:59:09.420423Z"
    },
    "jupyter": {
     "outputs_hidden": true
    },
    "scrolled": true
   },
   "outputs": [
    {
     "data": {
      "text/plain": [
       "['천안시',\n",
       " '천안시 동남구',\n",
       " '천안시 서북구',\n",
       " '공주시',\n",
       " '보령시',\n",
       " '아산시',\n",
       " '서산시',\n",
       " '논산시',\n",
       " '계룡시',\n",
       " '당진시',\n",
       " '금산군',\n",
       " '부여군',\n",
       " '서천군',\n",
       " '청양군',\n",
       " '홍성군',\n",
       " '예산군',\n",
       " '태안군']"
      ]
     },
     "execution_count": 120,
     "metadata": {},
     "output_type": "execute_result"
    }
   ],
   "source": [
    "df_dstr[df_dstr.index == df_dstr.index[0]]['list'].tolist()[0]"
   ]
  },
  {
   "cell_type": "markdown",
   "id": "b87d348e-ec53-4be9-8cfc-32d70ea9d5bb",
   "metadata": {},
   "source": [
    "#### for loop"
   ]
  },
  {
   "cell_type": "code",
   "execution_count": 27,
   "id": "9db14664-9626-4570-8d8c-69194e9d9a49",
   "metadata": {
    "execution": {
     "iopub.execute_input": "2024-05-13T03:34:39.450304Z",
     "iopub.status.busy": "2024-05-13T03:34:39.445591Z",
     "iopub.status.idle": "2024-05-13T03:35:01.799788Z",
     "shell.execute_reply": "2024-05-13T03:35:01.799117Z",
     "shell.execute_reply.started": "2024-05-13T03:34:39.450234Z"
    },
    "scrolled": true
   },
   "outputs": [],
   "source": [
    "for lv1 in df_dstr.index:\n",
    "    # ic(lv1)\n",
    "    lv1_item = df_dstr[df_dstr.index == lv1]\n",
    "    for lv2 in lv1_item['list'].iloc[0]:\n",
    "        # ic(lv2)\n",
    "        lv2_item = lv1_item[lv2].iloc[0]\n",
    "        # ic(lv2_item)\n",
    "        for lv3 in lv2_item['list']:\n",
    "            # ic(lv3)\n",
    "            lv3_item = lv2_item[lv3]\n",
    "            # ic(lv3_item)\n",
    "            if len(lv3_item['list']) > 0:\n",
    "                for lv4 in lv3_item['list']:\n",
    "                    # ic(lv4)\n",
    "                    # addr_text = f\"{lv1} {lv2} {lv3} {lv4}\"\n",
    "                    # ic(addr_text)\n",
    "\n",
    "                    addr_row = {\n",
    "                        'lv1': lv1,\n",
    "                        'lv2': lv2, \n",
    "                        'lv3': lv3, \n",
    "                        'lv4': lv4\n",
    "                    }\n",
    "                    df_addr.loc[len(df_addr)] = addr_row\n",
    "            else:\n",
    "                # addr_text = f\"{lv1} {lv2} {lv3}\"\n",
    "                # ic(addr_text)\n",
    "                \n",
    "                addr_row = {\n",
    "                    'lv1': lv1,\n",
    "                    'lv2': lv2, \n",
    "                    'lv3': lv3\n",
    "                }\n",
    "                df_addr.loc[len(df_addr)] = addr_row\n",
    "    # break"
   ]
  },
  {
   "cell_type": "markdown",
   "id": "fa7183fe-41cc-457d-aadc-9b74a5dd2fff",
   "metadata": {},
   "source": [
    "#### inspection"
   ]
  },
  {
   "cell_type": "code",
   "execution_count": 28,
   "id": "5121ce98-9c52-4abc-bfa6-4dfa77a7392d",
   "metadata": {
    "execution": {
     "iopub.execute_input": "2024-05-13T03:35:07.354054Z",
     "iopub.status.busy": "2024-05-13T03:35:07.352940Z",
     "iopub.status.idle": "2024-05-13T03:35:07.411826Z",
     "shell.execute_reply": "2024-05-13T03:35:07.411488Z",
     "shell.execute_reply.started": "2024-05-13T03:35:07.354015Z"
    }
   },
   "outputs": [
    {
     "name": "stdout",
     "output_type": "stream",
     "text": [
      "<class 'pandas.core.frame.DataFrame'>\n",
      "Index: 28200 entries, 0 to 28199\n",
      "Data columns (total 5 columns):\n",
      " #   Column  Non-Null Count  Dtype \n",
      "---  ------  --------------  ----- \n",
      " 0   lv1     28200 non-null  object\n",
      " 1   lv2     28200 non-null  object\n",
      " 2   lv3     28200 non-null  object\n",
      " 3   lv4     21596 non-null  object\n",
      " 4   lv5     1 non-null      object\n",
      "dtypes: object(5)\n",
      "memory usage: 1.3+ MB\n"
     ]
    }
   ],
   "source": [
    "df_addr.info()"
   ]
  },
  {
   "cell_type": "code",
   "execution_count": 29,
   "id": "fdfbae4a-09d5-482d-bf60-d57c25ad3bf3",
   "metadata": {
    "execution": {
     "iopub.execute_input": "2024-05-13T03:35:19.433396Z",
     "iopub.status.busy": "2024-05-13T03:35:19.432299Z",
     "iopub.status.idle": "2024-05-13T03:35:19.447443Z",
     "shell.execute_reply": "2024-05-13T03:35:19.447068Z",
     "shell.execute_reply.started": "2024-05-13T03:35:19.433358Z"
    }
   },
   "outputs": [
    {
     "data": {
      "text/html": [
       "<div>\n",
       "<style scoped>\n",
       "    .dataframe tbody tr th:only-of-type {\n",
       "        vertical-align: middle;\n",
       "    }\n",
       "\n",
       "    .dataframe tbody tr th {\n",
       "        vertical-align: top;\n",
       "    }\n",
       "\n",
       "    .dataframe thead th {\n",
       "        text-align: right;\n",
       "    }\n",
       "</style>\n",
       "<table border=\"1\" class=\"dataframe\">\n",
       "  <thead>\n",
       "    <tr style=\"text-align: right;\">\n",
       "      <th></th>\n",
       "      <th>lv1</th>\n",
       "      <th>lv2</th>\n",
       "      <th>lv3</th>\n",
       "      <th>lv4</th>\n",
       "      <th>lv5</th>\n",
       "    </tr>\n",
       "  </thead>\n",
       "  <tbody>\n",
       "    <tr>\n",
       "      <th>0</th>\n",
       "      <td></td>\n",
       "      <td></td>\n",
       "      <td></td>\n",
       "      <td></td>\n",
       "      <td></td>\n",
       "    </tr>\n",
       "    <tr>\n",
       "      <th>1</th>\n",
       "      <td>충청남도</td>\n",
       "      <td>천안시 동남구</td>\n",
       "      <td>대흥동</td>\n",
       "      <td>NaN</td>\n",
       "      <td>NaN</td>\n",
       "    </tr>\n",
       "    <tr>\n",
       "      <th>2</th>\n",
       "      <td>충청남도</td>\n",
       "      <td>천안시 동남구</td>\n",
       "      <td>성황동</td>\n",
       "      <td>NaN</td>\n",
       "      <td>NaN</td>\n",
       "    </tr>\n",
       "    <tr>\n",
       "      <th>3</th>\n",
       "      <td>충청남도</td>\n",
       "      <td>천안시 동남구</td>\n",
       "      <td>문화동</td>\n",
       "      <td>NaN</td>\n",
       "      <td>NaN</td>\n",
       "    </tr>\n",
       "    <tr>\n",
       "      <th>4</th>\n",
       "      <td>충청남도</td>\n",
       "      <td>천안시 동남구</td>\n",
       "      <td>사직동</td>\n",
       "      <td>NaN</td>\n",
       "      <td>NaN</td>\n",
       "    </tr>\n",
       "  </tbody>\n",
       "</table>\n",
       "</div>"
      ],
      "text/plain": [
       "    lv1      lv2  lv3  lv4  lv5\n",
       "0                              \n",
       "1  충청남도  천안시 동남구  대흥동  NaN  NaN\n",
       "2  충청남도  천안시 동남구  성황동  NaN  NaN\n",
       "3  충청남도  천안시 동남구  문화동  NaN  NaN\n",
       "4  충청남도  천안시 동남구  사직동  NaN  NaN"
      ]
     },
     "execution_count": 29,
     "metadata": {},
     "output_type": "execute_result"
    }
   ],
   "source": [
    "df_addr.head()"
   ]
  },
  {
   "cell_type": "code",
   "execution_count": 30,
   "id": "b1692421-2e61-43c8-aef5-550394d6452f",
   "metadata": {
    "execution": {
     "iopub.execute_input": "2024-05-13T03:38:50.622159Z",
     "iopub.status.busy": "2024-05-13T03:38:50.621148Z",
     "iopub.status.idle": "2024-05-13T03:38:53.022139Z",
     "shell.execute_reply": "2024-05-13T03:38:53.021770Z",
     "shell.execute_reply.started": "2024-05-13T03:38:50.622134Z"
    }
   },
   "outputs": [],
   "source": [
    "df_addr.to_csv(\"./address/address.csv\")\n",
    "df_addr.to_excel(\"./address/address.xlsx\")"
   ]
  },
  {
   "cell_type": "code",
   "execution_count": 49,
   "id": "e8a68c3d-7d4c-40f1-98f2-b36e353293e7",
   "metadata": {
    "execution": {
     "iopub.execute_input": "2024-05-13T04:51:46.513238Z",
     "iopub.status.busy": "2024-05-13T04:51:46.511952Z",
     "iopub.status.idle": "2024-05-13T04:51:46.535430Z",
     "shell.execute_reply": "2024-05-13T04:51:46.534974Z",
     "shell.execute_reply.started": "2024-05-13T04:51:46.513176Z"
    }
   },
   "outputs": [
    {
     "data": {
      "text/html": [
       "<div>\n",
       "<style scoped>\n",
       "    .dataframe tbody tr th:only-of-type {\n",
       "        vertical-align: middle;\n",
       "    }\n",
       "\n",
       "    .dataframe tbody tr th {\n",
       "        vertical-align: top;\n",
       "    }\n",
       "\n",
       "    .dataframe thead th {\n",
       "        text-align: right;\n",
       "    }\n",
       "</style>\n",
       "<table border=\"1\" class=\"dataframe\">\n",
       "  <thead>\n",
       "    <tr style=\"text-align: right;\">\n",
       "      <th></th>\n",
       "      <th>lv1</th>\n",
       "      <th>lv2</th>\n",
       "      <th>lv3</th>\n",
       "      <th>lv4</th>\n",
       "      <th>lv5</th>\n",
       "    </tr>\n",
       "  </thead>\n",
       "  <tbody>\n",
       "    <tr>\n",
       "      <th>0</th>\n",
       "      <td></td>\n",
       "      <td></td>\n",
       "      <td></td>\n",
       "      <td></td>\n",
       "      <td></td>\n",
       "    </tr>\n",
       "  </tbody>\n",
       "</table>\n",
       "</div>"
      ],
      "text/plain": [
       "  lv1 lv2 lv3 lv4 lv5\n",
       "0                    "
      ]
     },
     "execution_count": 49,
     "metadata": {},
     "output_type": "execute_result"
    }
   ],
   "source": [
    "df_addr[df_addr['lv5'].isna() == False]"
   ]
  },
  {
   "cell_type": "markdown",
   "id": "ab424ebd-178b-4292-978e-f34a6fd912a9",
   "metadata": {
    "jp-MarkdownHeadingCollapsed": true
   },
   "source": [
    "### Retrieve Address"
   ]
  },
  {
   "cell_type": "code",
   "execution_count": 1,
   "id": "5dbcac51-2f83-430a-84c1-701b86364a4f",
   "metadata": {
    "execution": {
     "iopub.execute_input": "2024-05-13T06:47:04.169695Z",
     "iopub.status.busy": "2024-05-13T06:47:04.167774Z",
     "iopub.status.idle": "2024-05-13T06:47:04.193672Z",
     "shell.execute_reply": "2024-05-13T06:47:04.193310Z",
     "shell.execute_reply.started": "2024-05-13T06:47:04.169582Z"
    }
   },
   "outputs": [],
   "source": [
    "text = [\n",
    "    '스턴트맨은 어는 한적한 마조리 길에서 잠에 들었다.',\n",
    "    '스턴트맨은 어는 한적한 서울특별시 강동구 고덕동 길에서 잠에 들었다.',\n",
    "    '스턴트맨은 어는 한적한 충청북도 단양군 단양읍 마조리 길에서 잠에 들었다.'\n",
    "]"
   ]
  },
  {
   "cell_type": "markdown",
   "id": "35d6f789-e124-493c-a6fe-b03edb01235e",
   "metadata": {},
   "source": [
    "#### claude"
   ]
  },
  {
   "cell_type": "code",
   "execution_count": 33,
   "id": "e6d765bb-a9dd-436c-8b12-a3db581a9974",
   "metadata": {
    "execution": {
     "iopub.execute_input": "2024-05-13T03:46:31.163161Z",
     "iopub.status.busy": "2024-05-13T03:46:31.162314Z",
     "iopub.status.idle": "2024-05-13T03:46:31.170884Z",
     "shell.execute_reply": "2024-05-13T03:46:31.170459Z",
     "shell.execute_reply.started": "2024-05-13T03:46:31.163135Z"
    }
   },
   "outputs": [],
   "source": [
    "data = {\n",
    "    'a': ['apple', 'axis', 'approval'],\n",
    "    'b': ['banana', 'back', 'bold'],\n",
    "    'c': ['cinema', 'come', 'cup']\n",
    "}\n",
    "df = pd.DataFrame(data)\n",
    "\n",
    "text = 'banana come to be apple'"
   ]
  },
  {
   "cell_type": "code",
   "execution_count": null,
   "id": "fd3a23b3-a65d-462a-9f5e-b11c2f4077a5",
   "metadata": {
    "execution": {
     "iopub.execute_input": "2024-05-13T03:50:20.989368Z",
     "iopub.status.busy": "2024-05-13T03:50:20.988092Z",
     "iopub.status.idle": "2024-05-13T03:50:21.041382Z",
     "shell.execute_reply": "2024-05-13T03:50:21.040728Z",
     "shell.execute_reply.started": "2024-05-13T03:50:20.989332Z"
    }
   },
   "outputs": [],
   "source": [
    "import pandas as pd\n",
    "\n",
    "data = {'a': ['apple', 'axis', 'approval'], 'b': ['banana', 'back', 'bold'], 'c': ['cinema', 'come', 'cup']}\n",
    "df = pd.DataFrame(data)\n",
    "text = 'banana come to be apple'"
   ]
  },
  {
   "cell_type": "code",
   "execution_count": null,
   "id": "3e1da15a-69c0-4215-b6da-eef20a1737ff",
   "metadata": {
    "execution": {
     "iopub.execute_input": "2024-05-13T03:50:20.989368Z",
     "iopub.status.busy": "2024-05-13T03:50:20.988092Z",
     "iopub.status.idle": "2024-05-13T03:50:21.041382Z",
     "shell.execute_reply": "2024-05-13T03:50:21.040728Z",
     "shell.execute_reply.started": "2024-05-13T03:50:20.989332Z"
    }
   },
   "outputs": [],
   "source": [
    "# Split the text into words\n",
    "words = text.split()\n",
    "\n",
    "# Check if any word in each row is present in the text\n",
    "mask = df.apply(lambda row: row.str.contains('|'.join(words), case=False, na=False).any(), axis=1)\n",
    "\n",
    "# Filter the DataFrame to get the desired rows\n",
    "filtered_df = df[mask]\n",
    "\n",
    "print(filtered_df)"
   ]
  },
  {
   "cell_type": "markdown",
   "id": "d56eae87-25bc-47fb-bd94-8ab2c47f106d",
   "metadata": {},
   "source": [
    "#### test"
   ]
  },
  {
   "cell_type": "code",
   "execution_count": 104,
   "id": "162b809f-c3b5-4b96-bc75-5d50e0691060",
   "metadata": {
    "execution": {
     "iopub.execute_input": "2024-05-13T05:33:27.252001Z",
     "iopub.status.busy": "2024-05-13T05:33:27.250791Z",
     "iopub.status.idle": "2024-05-13T05:33:27.258080Z",
     "shell.execute_reply": "2024-05-13T05:33:27.257256Z",
     "shell.execute_reply.started": "2024-05-13T05:33:27.251961Z"
    }
   },
   "outputs": [],
   "source": [
    "# Split the text into words\n",
    "words = text.split()"
   ]
  },
  {
   "cell_type": "code",
   "execution_count": 122,
   "id": "64c961cd-b0b4-4618-b276-0ee6a6ace915",
   "metadata": {
    "execution": {
     "iopub.execute_input": "2024-05-13T05:47:10.614664Z",
     "iopub.status.busy": "2024-05-13T05:47:10.612911Z",
     "iopub.status.idle": "2024-05-13T05:47:10.622017Z",
     "shell.execute_reply": "2024-05-13T05:47:10.621252Z",
     "shell.execute_reply.started": "2024-05-13T05:47:10.614635Z"
    }
   },
   "outputs": [],
   "source": [
    "def get_filtered():\n",
    "    # Check if any word in each row is present in the text\n",
    "    mask = df_addr.apply(lambda row: row.str.contains('|'.join(words), case=False, na=False).any(), axis=1)\n",
    "    \n",
    "    # Filter the DataFrame to get the desired rows\n",
    "    df_filtered = df_addr[mask]\n",
    "\n",
    "    return df_filtered"
   ]
  },
  {
   "cell_type": "code",
   "execution_count": 37,
   "id": "2b046dd6-4324-4aa4-a6e0-9a6aedfc1f66",
   "metadata": {
    "collapsed": true,
    "execution": {
     "iopub.execute_input": "2024-05-13T03:53:41.072922Z",
     "iopub.status.busy": "2024-05-13T03:53:41.071600Z",
     "iopub.status.idle": "2024-05-13T03:53:41.115755Z",
     "shell.execute_reply": "2024-05-13T03:53:41.115393Z",
     "shell.execute_reply.started": "2024-05-13T03:53:41.072876Z"
    },
    "jupyter": {
     "outputs_hidden": true
    },
    "scrolled": true
   },
   "outputs": [
    {
     "data": {
      "text/html": [
       "<div>\n",
       "<style scoped>\n",
       "    .dataframe tbody tr th:only-of-type {\n",
       "        vertical-align: middle;\n",
       "    }\n",
       "\n",
       "    .dataframe tbody tr th {\n",
       "        vertical-align: top;\n",
       "    }\n",
       "\n",
       "    .dataframe thead th {\n",
       "        text-align: right;\n",
       "    }\n",
       "</style>\n",
       "<table border=\"1\" class=\"dataframe\">\n",
       "  <thead>\n",
       "    <tr style=\"text-align: right;\">\n",
       "      <th></th>\n",
       "      <th>lv1</th>\n",
       "      <th>lv2</th>\n",
       "      <th>lv3</th>\n",
       "      <th>lv4</th>\n",
       "      <th>lv5</th>\n",
       "    </tr>\n",
       "  </thead>\n",
       "  <tbody>\n",
       "    <tr>\n",
       "      <th>3326</th>\n",
       "      <td>충청북도</td>\n",
       "      <td>청주시 상당구</td>\n",
       "      <td>영동</td>\n",
       "      <td>NaN</td>\n",
       "      <td>NaN</td>\n",
       "    </tr>\n",
       "    <tr>\n",
       "      <th>3327</th>\n",
       "      <td>충청북도</td>\n",
       "      <td>청주시 상당구</td>\n",
       "      <td>북문로1가</td>\n",
       "      <td>NaN</td>\n",
       "      <td>NaN</td>\n",
       "    </tr>\n",
       "    <tr>\n",
       "      <th>3328</th>\n",
       "      <td>충청북도</td>\n",
       "      <td>청주시 상당구</td>\n",
       "      <td>북문로2가</td>\n",
       "      <td>NaN</td>\n",
       "      <td>NaN</td>\n",
       "    </tr>\n",
       "    <tr>\n",
       "      <th>3329</th>\n",
       "      <td>충청북도</td>\n",
       "      <td>청주시 상당구</td>\n",
       "      <td>북문로3가</td>\n",
       "      <td>NaN</td>\n",
       "      <td>NaN</td>\n",
       "    </tr>\n",
       "    <tr>\n",
       "      <th>3330</th>\n",
       "      <td>충청북도</td>\n",
       "      <td>청주시 상당구</td>\n",
       "      <td>남문로1가</td>\n",
       "      <td>NaN</td>\n",
       "      <td>NaN</td>\n",
       "    </tr>\n",
       "    <tr>\n",
       "      <th>...</th>\n",
       "      <td>...</td>\n",
       "      <td>...</td>\n",
       "      <td>...</td>\n",
       "      <td>...</td>\n",
       "      <td>...</td>\n",
       "    </tr>\n",
       "    <tr>\n",
       "      <th>5172</th>\n",
       "      <td>충청북도</td>\n",
       "      <td>단양군</td>\n",
       "      <td>단성면</td>\n",
       "      <td>당산리</td>\n",
       "      <td>NaN</td>\n",
       "    </tr>\n",
       "    <tr>\n",
       "      <th>5173</th>\n",
       "      <td>충청북도</td>\n",
       "      <td>단양군</td>\n",
       "      <td>단성면</td>\n",
       "      <td>창촌리</td>\n",
       "      <td>NaN</td>\n",
       "    </tr>\n",
       "    <tr>\n",
       "      <th>5174</th>\n",
       "      <td>충청북도</td>\n",
       "      <td>단양군</td>\n",
       "      <td>단성면</td>\n",
       "      <td>백운리</td>\n",
       "      <td>NaN</td>\n",
       "    </tr>\n",
       "    <tr>\n",
       "      <th>5175</th>\n",
       "      <td>충청북도</td>\n",
       "      <td>단양군</td>\n",
       "      <td>단성면</td>\n",
       "      <td>자양리</td>\n",
       "      <td>NaN</td>\n",
       "    </tr>\n",
       "    <tr>\n",
       "      <th>26289</th>\n",
       "      <td>경기도</td>\n",
       "      <td>김포시</td>\n",
       "      <td>하성면</td>\n",
       "      <td>마조리</td>\n",
       "      <td>NaN</td>\n",
       "    </tr>\n",
       "  </tbody>\n",
       "</table>\n",
       "<p>1851 rows × 5 columns</p>\n",
       "</div>"
      ],
      "text/plain": [
       "        lv1      lv2    lv3  lv4  lv5\n",
       "3326   충청북도  청주시 상당구     영동  NaN  NaN\n",
       "3327   충청북도  청주시 상당구  북문로1가  NaN  NaN\n",
       "3328   충청북도  청주시 상당구  북문로2가  NaN  NaN\n",
       "3329   충청북도  청주시 상당구  북문로3가  NaN  NaN\n",
       "3330   충청북도  청주시 상당구  남문로1가  NaN  NaN\n",
       "...     ...      ...    ...  ...  ...\n",
       "5172   충청북도      단양군    단성면  당산리  NaN\n",
       "5173   충청북도      단양군    단성면  창촌리  NaN\n",
       "5174   충청북도      단양군    단성면  백운리  NaN\n",
       "5175   충청북도      단양군    단성면  자양리  NaN\n",
       "26289   경기도      김포시    하성면  마조리  NaN\n",
       "\n",
       "[1851 rows x 5 columns]"
      ]
     },
     "execution_count": 37,
     "metadata": {},
     "output_type": "execute_result"
    }
   ],
   "source": [
    "filtered_df"
   ]
  },
  {
   "cell_type": "code",
   "execution_count": null,
   "id": "7bd67890-b470-4930-8f9a-36927e76a060",
   "metadata": {
    "execution": {
     "iopub.execute_input": "2024-05-13T04:58:18.173905Z",
     "iopub.status.busy": "2024-05-13T04:58:18.172973Z",
     "iopub.status.idle": "2024-05-13T04:58:18.198894Z",
     "shell.execute_reply": "2024-05-13T04:58:18.198426Z",
     "shell.execute_reply.started": "2024-05-13T04:58:18.173867Z"
    }
   },
   "outputs": [],
   "source": [
    "res = filtered_df.count()"
   ]
  },
  {
   "cell_type": "code",
   "execution_count": 62,
   "id": "93893cf5-15af-44b6-8227-94705a53ae36",
   "metadata": {
    "collapsed": true,
    "execution": {
     "iopub.execute_input": "2024-05-13T04:59:13.799846Z",
     "iopub.status.busy": "2024-05-13T04:59:13.798575Z",
     "iopub.status.idle": "2024-05-13T04:59:13.806920Z",
     "shell.execute_reply": "2024-05-13T04:59:13.805888Z",
     "shell.execute_reply.started": "2024-05-13T04:59:13.799803Z"
    },
    "jupyter": {
     "outputs_hidden": true
    }
   },
   "outputs": [
    {
     "name": "stdout",
     "output_type": "stream",
     "text": [
      "<class 'pandas.core.series.Series'>\n"
     ]
    }
   ],
   "source": [
    "print(type(res))"
   ]
  },
  {
   "cell_type": "code",
   "execution_count": 64,
   "id": "21060258-b3a2-4829-bc54-d3e6813d878c",
   "metadata": {
    "collapsed": true,
    "execution": {
     "iopub.execute_input": "2024-05-13T04:59:34.243196Z",
     "iopub.status.busy": "2024-05-13T04:59:34.242207Z",
     "iopub.status.idle": "2024-05-13T04:59:34.263534Z",
     "shell.execute_reply": "2024-05-13T04:59:34.262904Z",
     "shell.execute_reply.started": "2024-05-13T04:59:34.243159Z"
    },
    "jupyter": {
     "outputs_hidden": true
    }
   },
   "outputs": [
    {
     "name": "stdout",
     "output_type": "stream",
     "text": [
      "1715\n"
     ]
    }
   ],
   "source": [
    "print(res.iloc[3])"
   ]
  },
  {
   "cell_type": "code",
   "execution_count": 125,
   "id": "348b9d2c-8160-41fd-8b98-625e2e9827ae",
   "metadata": {
    "execution": {
     "iopub.execute_input": "2024-05-13T05:49:09.210253Z",
     "iopub.status.busy": "2024-05-13T05:49:09.209616Z",
     "iopub.status.idle": "2024-05-13T05:49:09.214727Z",
     "shell.execute_reply": "2024-05-13T05:49:09.214244Z",
     "shell.execute_reply.started": "2024-05-13T05:49:09.210227Z"
    },
    "scrolled": true
   },
   "outputs": [],
   "source": [
    "def get_level(df_addr, col):\n",
    "    # Check if any word in each row is present in the text\n",
    "    mask = df_addr[col].str.contains('|'.join(words), case=False, na=False)\n",
    "    \n",
    "    # Filter the DataFrame to get the desired rows\n",
    "    df_level = df_addr[mask]\n",
    "    return df_level"
   ]
  },
  {
   "cell_type": "code",
   "execution_count": 124,
   "id": "1de6bb3b-48bd-4048-92d6-ced87c097426",
   "metadata": {
    "execution": {
     "iopub.execute_input": "2024-05-13T05:48:22.311330Z",
     "iopub.status.busy": "2024-05-13T05:48:22.310074Z",
     "iopub.status.idle": "2024-05-13T05:48:22.322032Z",
     "shell.execute_reply": "2024-05-13T05:48:22.321476Z",
     "shell.execute_reply.started": "2024-05-13T05:48:22.311277Z"
    }
   },
   "outputs": [],
   "source": [
    "def get_count(df_filtered, df_lv, col):\n",
    "    row_sample = {\n",
    "        'index': [],\n",
    "        'lv1': [],\n",
    "        'lv2': [],\n",
    "        'lv3': []\n",
    "    }\n",
    "    df_count = pd.DataFrame(row_sample)\n",
    "\n",
    "    for idx in df_lv.index:\n",
    "        ic(df_addr.iloc[idx])\n",
    "        df = df_filtered[df_filtered[col] == df_addr.iloc[idx][col]]\n",
    "        count = df.count()\n",
    "        new_item = {\n",
    "            'index': idx,\n",
    "            'lv1': count.iloc[0],\n",
    "            'lv2': count.iloc[1],\n",
    "            'lv3': count.iloc[2]\n",
    "        }\n",
    "        df_count.loc[len(df_count)] = new_item\n",
    "\n",
    "    ic(df_count)\n",
    "    return df_count"
   ]
  },
  {
   "cell_type": "code",
   "execution_count": 127,
   "id": "814169d9-c976-4ecb-8988-f3b725d5d565",
   "metadata": {
    "execution": {
     "iopub.execute_input": "2024-05-13T05:49:38.270012Z",
     "iopub.status.busy": "2024-05-13T05:49:38.267925Z",
     "iopub.status.idle": "2024-05-13T05:49:39.191419Z",
     "shell.execute_reply": "2024-05-13T05:49:39.191136Z",
     "shell.execute_reply.started": "2024-05-13T05:49:38.269922Z"
    }
   },
   "outputs": [
    {
     "name": "stderr",
     "output_type": "stream",
     "text": [
      "ic| df_addr.iloc[idx]: lv1    경기도\n",
      "                       lv2    평택시\n",
      "                       lv3    고덕동\n",
      "                       lv4    NaN\n",
      "                       lv5    NaN\n",
      "                       Name: 25172, dtype: object\n",
      "ic| df_addr.iloc[idx]: lv1    서울특별시\n",
      "                       lv2      강동구\n",
      "                       lv3      고덕동\n",
      "                       lv4      NaN\n",
      "                       lv5      NaN\n",
      "                       Name: 28192, dtype: object\n",
      "ic| df_count:    index  lv1  lv2  lv3\n",
      "              0  25172    1    1    1\n",
      "              1  28192    9    9    9\n"
     ]
    },
    {
     "data": {
      "text/html": [
       "<div>\n",
       "<style scoped>\n",
       "    .dataframe tbody tr th:only-of-type {\n",
       "        vertical-align: middle;\n",
       "    }\n",
       "\n",
       "    .dataframe tbody tr th {\n",
       "        vertical-align: top;\n",
       "    }\n",
       "\n",
       "    .dataframe thead th {\n",
       "        text-align: right;\n",
       "    }\n",
       "</style>\n",
       "<table border=\"1\" class=\"dataframe\">\n",
       "  <thead>\n",
       "    <tr style=\"text-align: right;\">\n",
       "      <th></th>\n",
       "      <th>index</th>\n",
       "      <th>lv1</th>\n",
       "      <th>lv2</th>\n",
       "      <th>lv3</th>\n",
       "    </tr>\n",
       "  </thead>\n",
       "  <tbody>\n",
       "    <tr>\n",
       "      <th>0</th>\n",
       "      <td>25172</td>\n",
       "      <td>1</td>\n",
       "      <td>1</td>\n",
       "      <td>1</td>\n",
       "    </tr>\n",
       "    <tr>\n",
       "      <th>1</th>\n",
       "      <td>28192</td>\n",
       "      <td>9</td>\n",
       "      <td>9</td>\n",
       "      <td>9</td>\n",
       "    </tr>\n",
       "  </tbody>\n",
       "</table>\n",
       "</div>"
      ],
      "text/plain": [
       "   index  lv1  lv2  lv3\n",
       "0  25172    1    1    1\n",
       "1  28192    9    9    9"
      ]
     },
     "execution_count": 127,
     "metadata": {},
     "output_type": "execute_result"
    }
   ],
   "source": [
    "df_filtered = get_filtered()\n",
    "df_level = get_level(df_addr, 'lv3')\n",
    "df_count = get_count(df_filtered, df_level, 'lv2')\n",
    "df_count"
   ]
  },
  {
   "cell_type": "code",
   "execution_count": 137,
   "id": "01875a76-2710-40e3-a7bd-56e6e70ba4cd",
   "metadata": {
    "execution": {
     "iopub.execute_input": "2024-05-13T06:01:14.237250Z",
     "iopub.status.busy": "2024-05-13T06:01:14.235867Z",
     "iopub.status.idle": "2024-05-13T06:01:14.242337Z",
     "shell.execute_reply": "2024-05-13T06:01:14.241975Z",
     "shell.execute_reply.started": "2024-05-13T06:01:14.237192Z"
    }
   },
   "outputs": [],
   "source": [
    "def get_max(df_addr, df_count, col):\n",
    "    row = df_addr.iloc[df_count.iloc[df_count[col].idxmax()]['index']]\n",
    "    address = \"\"\n",
    "    for i in range(5):\n",
    "        text = row.iloc[i]\n",
    "        if isinstance(row.iloc[i], str):\n",
    "            address = \" \".join([address, text])\n",
    "    address = address.strip()\n",
    "    ic(address)\n",
    "    return address"
   ]
  },
  {
   "cell_type": "code",
   "execution_count": 138,
   "id": "541e03ec-2f6f-4035-85db-8eea1a39bdfe",
   "metadata": {
    "execution": {
     "iopub.execute_input": "2024-05-13T06:01:37.847366Z",
     "iopub.status.busy": "2024-05-13T06:01:37.845832Z",
     "iopub.status.idle": "2024-05-13T06:01:37.901590Z",
     "shell.execute_reply": "2024-05-13T06:01:37.901003Z",
     "shell.execute_reply.started": "2024-05-13T06:01:37.847314Z"
    }
   },
   "outputs": [
    {
     "name": "stderr",
     "output_type": "stream",
     "text": [
      "ic| address: '서울특별시 강동구 고덕동'\n"
     ]
    },
    {
     "data": {
      "text/plain": [
       "'서울특별시 강동구 고덕동'"
      ]
     },
     "execution_count": 138,
     "metadata": {},
     "output_type": "execute_result"
    }
   ],
   "source": [
    "get_max(df_addr, df_count, 'lv3')"
   ]
  },
  {
   "cell_type": "markdown",
   "id": "587bfe5d-6336-4580-9a51-82e8b233925c",
   "metadata": {
    "jp-MarkdownHeadingCollapsed": true
   },
   "source": [
    "### class"
   ]
  },
  {
   "cell_type": "code",
   "execution_count": 32,
   "id": "70e2d4ac-1b76-47b0-ab2f-b1a1c2f94c64",
   "metadata": {
    "execution": {
     "iopub.execute_input": "2024-05-13T08:16:53.234849Z",
     "iopub.status.busy": "2024-05-13T08:16:53.233587Z",
     "iopub.status.idle": "2024-05-13T08:16:53.252007Z",
     "shell.execute_reply": "2024-05-13T08:16:53.251609Z",
     "shell.execute_reply.started": "2024-05-13T08:16:53.234797Z"
    }
   },
   "outputs": [],
   "source": [
    "import pandas as pd \n",
    "\n",
    "class RetrieveAddress:\n",
    "    def __init__(self, df_address: pd.DataFrame, text:str):\n",
    "        self.df_address = df_address\n",
    "        self.set_text(text)\n",
    "        self.make_sample()\n",
    "        # self.re_pattern = r'\\b|'\n",
    "\n",
    "    def set_text(self, text:str):\n",
    "        self.text = text\n",
    "        self.split_text()\n",
    "\n",
    "    def split_text(self):\n",
    "        # Split the text into words\n",
    "        self.words = self.text.split()\n",
    "\n",
    "    def make_filtered(self):\n",
    "        # Check if any word in each row is present in the text\n",
    "        # mask = self.df_address.apply(lambda row: row.str.contains('|'.join(self.words), case=False, na=False).any(), axis=1)\n",
    "        mask = self.df_address.map(\n",
    "            lambda x: bool(\n",
    "                re.search(\n",
    "                    r'\\b{}'.format(str(x)),\n",
    "                    ra.text,\n",
    "                    re.IGNORECASE)))\n",
    "        \n",
    "        # Filter the DataFrame to get the desired rows\n",
    "        self.df_filtered = self.df_address[mask.any(axis=1)]\n",
    "\n",
    "    def make_level(self, column_label:str):\n",
    "        # Check if any word in each row is present in the text\n",
    "        # mask = self.df_address[column_name].str.contains('|'.join(self.words), case=False, na=False)\n",
    "        mask = self.df_address.map(\n",
    "            lambda x: bool(\n",
    "                re.search(\n",
    "                    r'\\b{}'.format(str(x)),\n",
    "                    ra.text,\n",
    "                    re.IGNORECASE)))\n",
    "        \n",
    "        # Filter the DataFrame to get the desired rows\n",
    "        self.df_level = self.df_address[mask[column_label]]\n",
    "\n",
    "    def make_sample(self):\n",
    "        row_sample = {\n",
    "            'index': [],\n",
    "            'lv1': [],\n",
    "            'lv2': [],\n",
    "            'lv3': []\n",
    "        }\n",
    "        self.df_sample = pd.DataFrame(row_sample)\n",
    "\n",
    "    def make_count(self, column_name:str):\n",
    "\n",
    "        self.df_count = self.df_sample\n",
    "        for idx in self.df_level.index:\n",
    "            df = self.df_filtered[self.df_filtered[column_name] == self.df_address.iloc[idx][column_name]]\n",
    "            count = df.count()\n",
    "            new_item = {\n",
    "                'index': idx,\n",
    "                'lv1': count.iloc[0],\n",
    "                'lv2': count.iloc[1],\n",
    "                'lv3': count.iloc[2]\n",
    "            }\n",
    "            self.df_count.loc[len(self.df_count)] = new_item    \n",
    "        self.df_count = self.df_count\n",
    "\n",
    "    def get_max(self, column_name:str):\n",
    "        row = self.df_address.iloc[self.df_count.iloc[self.df_count[column_name].idxmax()]['index']]\n",
    "        address = \"\"\n",
    "        for i in range(5):\n",
    "            text = row.iloc[i]\n",
    "            if isinstance(row.iloc[i], str):\n",
    "                address = \" \".join([address, text])\n",
    "        address = address.strip()\n",
    "        self.address = address\n",
    "\n",
    "    def process(self, level:int):\n",
    "        self.make_filtered()\n",
    "        \n",
    "        for i in range(4, 0, -1):\n",
    "            self.make_level(f'lv{i}')\n",
    "            self.make_count(f'lv{i-1}')\n",
    "            if len(self.df_count) > 0:\n",
    "                self.get_max(f'lv{i-1}')\n",
    "                break\n",
    "            else:\n",
    "                continue\n",
    "            \n",
    "        return self.address"
   ]
  },
  {
   "cell_type": "markdown",
   "id": "6cc48f2f-c418-4155-a243-c26bb4082aee",
   "metadata": {},
   "source": [
    "#### delete index row and column"
   ]
  },
  {
   "cell_type": "code",
   "execution_count": 17,
   "id": "5483e8be-41c3-4a64-ad7b-7e3a4c229b93",
   "metadata": {
    "execution": {
     "iopub.execute_input": "2024-05-13T06:55:02.966646Z",
     "iopub.status.busy": "2024-05-13T06:55:02.965787Z",
     "iopub.status.idle": "2024-05-13T06:55:02.982536Z",
     "shell.execute_reply": "2024-05-13T06:55:02.981949Z",
     "shell.execute_reply.started": "2024-05-13T06:55:02.966615Z"
    }
   },
   "outputs": [],
   "source": [
    "df_address = df_address.drop(0)"
   ]
  },
  {
   "cell_type": "code",
   "execution_count": 19,
   "id": "da8defa3-0e56-40bb-966e-f444df132692",
   "metadata": {
    "execution": {
     "iopub.execute_input": "2024-05-13T06:55:44.436715Z",
     "iopub.status.busy": "2024-05-13T06:55:44.434963Z",
     "iopub.status.idle": "2024-05-13T06:55:44.459323Z",
     "shell.execute_reply": "2024-05-13T06:55:44.458860Z",
     "shell.execute_reply.started": "2024-05-13T06:55:44.436651Z"
    }
   },
   "outputs": [],
   "source": [
    "df_address = df_address.drop('Unnamed: 0', axis=1)"
   ]
  },
  {
   "cell_type": "code",
   "execution_count": 21,
   "id": "8bbea14d-bfcc-4454-8691-406d5f14f38d",
   "metadata": {
    "execution": {
     "iopub.execute_input": "2024-05-13T06:57:07.193750Z",
     "iopub.status.busy": "2024-05-13T06:57:07.192694Z",
     "iopub.status.idle": "2024-05-13T06:57:07.253537Z",
     "shell.execute_reply": "2024-05-13T06:57:07.253142Z",
     "shell.execute_reply.started": "2024-05-13T06:57:07.193725Z"
    }
   },
   "outputs": [],
   "source": [
    "df_address.to_csv('./address/address.csv', index=False)"
   ]
  },
  {
   "cell_type": "markdown",
   "id": "eda7f1f2-c558-42b6-8b14-e6afae24f0ac",
   "metadata": {
    "jp-MarkdownHeadingCollapsed": true
   },
   "source": [
    "### test"
   ]
  },
  {
   "cell_type": "code",
   "execution_count": 2,
   "id": "f3888116-98ed-41b5-8da9-679e01f80c08",
   "metadata": {
    "execution": {
     "iopub.execute_input": "2024-05-13T07:49:29.333884Z",
     "iopub.status.busy": "2024-05-13T07:49:29.331837Z",
     "iopub.status.idle": "2024-05-13T07:49:29.388219Z",
     "shell.execute_reply": "2024-05-13T07:49:29.387883Z",
     "shell.execute_reply.started": "2024-05-13T07:49:29.333812Z"
    }
   },
   "outputs": [],
   "source": [
    "df_address = pd.read_csv(\"./address/address.csv\")"
   ]
  },
  {
   "cell_type": "code",
   "execution_count": 3,
   "id": "713bc075-d998-4d16-bd8d-05e6e17003a2",
   "metadata": {
    "execution": {
     "iopub.execute_input": "2024-05-13T07:49:31.454751Z",
     "iopub.status.busy": "2024-05-13T07:49:31.454223Z",
     "iopub.status.idle": "2024-05-13T07:49:31.462531Z",
     "shell.execute_reply": "2024-05-13T07:49:31.461409Z",
     "shell.execute_reply.started": "2024-05-13T07:49:31.454719Z"
    }
   },
   "outputs": [],
   "source": [
    "text = [\n",
    "    '스턴트맨은 어는 한적한 마조리 길에서 잠에 들었다.',\n",
    "    '스턴트맨은 어는 한적한 서울특별시 강동구 고덕동 길에서 잠에 들었다.',\n",
    "    '스턴트맨은 어는 한적한 충청북도 단양군 단양읍 마조리 길에서 잠에 들었다.',\n",
    "    '스턴트맨은 어는 한적한 하성면 마조리 길에서 잠에 들었다.',\n",
    "    '스턴트맨은 어는 한적한 하성면 마조리에서 잠에 들었다.'\n",
    "]"
   ]
  },
  {
   "cell_type": "code",
   "execution_count": 33,
   "id": "6f453599-048a-4c7d-a0e4-98a053605b90",
   "metadata": {
    "execution": {
     "iopub.execute_input": "2024-05-13T08:16:58.510269Z",
     "iopub.status.busy": "2024-05-13T08:16:58.509193Z",
     "iopub.status.idle": "2024-05-13T08:16:58.519940Z",
     "shell.execute_reply": "2024-05-13T08:16:58.518771Z",
     "shell.execute_reply.started": "2024-05-13T08:16:58.510229Z"
    }
   },
   "outputs": [],
   "source": [
    "ra = RetrieveAddress(df_address, text[-1])"
   ]
  },
  {
   "cell_type": "code",
   "execution_count": 34,
   "id": "196eb7a3-2ee4-4091-abaa-a05746b8b037",
   "metadata": {
    "execution": {
     "iopub.execute_input": "2024-05-13T08:16:59.282520Z",
     "iopub.status.busy": "2024-05-13T08:16:59.281913Z",
     "iopub.status.idle": "2024-05-13T08:16:59.990548Z",
     "shell.execute_reply": "2024-05-13T08:16:59.990129Z",
     "shell.execute_reply.started": "2024-05-13T08:16:59.282480Z"
    },
    "scrolled": true
   },
   "outputs": [
    {
     "data": {
      "text/plain": [
       "'경기도 김포시 하성면 마조리'"
      ]
     },
     "execution_count": 34,
     "metadata": {},
     "output_type": "execute_result"
    }
   ],
   "source": [
    "ra.process(4)"
   ]
  },
  {
   "cell_type": "code",
   "execution_count": 35,
   "id": "f1004c87-f16d-4be1-8004-e411b42269d5",
   "metadata": {
    "execution": {
     "iopub.execute_input": "2024-05-13T08:17:08.261343Z",
     "iopub.status.busy": "2024-05-13T08:17:08.260050Z",
     "iopub.status.idle": "2024-05-13T08:17:08.294880Z",
     "shell.execute_reply": "2024-05-13T08:17:08.294293Z",
     "shell.execute_reply.started": "2024-05-13T08:17:08.261293Z"
    },
    "scrolled": true
   },
   "outputs": [
    {
     "data": {
      "text/html": [
       "<div>\n",
       "<style scoped>\n",
       "    .dataframe tbody tr th:only-of-type {\n",
       "        vertical-align: middle;\n",
       "    }\n",
       "\n",
       "    .dataframe tbody tr th {\n",
       "        vertical-align: top;\n",
       "    }\n",
       "\n",
       "    .dataframe thead th {\n",
       "        text-align: right;\n",
       "    }\n",
       "</style>\n",
       "<table border=\"1\" class=\"dataframe\">\n",
       "  <thead>\n",
       "    <tr style=\"text-align: right;\">\n",
       "      <th></th>\n",
       "      <th>index</th>\n",
       "      <th>lv1</th>\n",
       "      <th>lv2</th>\n",
       "      <th>lv3</th>\n",
       "    </tr>\n",
       "  </thead>\n",
       "  <tbody>\n",
       "    <tr>\n",
       "      <th>0</th>\n",
       "      <td>5019</td>\n",
       "      <td>1</td>\n",
       "      <td>1</td>\n",
       "      <td>1</td>\n",
       "    </tr>\n",
       "    <tr>\n",
       "      <th>1</th>\n",
       "      <td>26288</td>\n",
       "      <td>12</td>\n",
       "      <td>12</td>\n",
       "      <td>12</td>\n",
       "    </tr>\n",
       "  </tbody>\n",
       "</table>\n",
       "</div>"
      ],
      "text/plain": [
       "   index  lv1  lv2  lv3\n",
       "0   5019    1    1    1\n",
       "1  26288   12   12   12"
      ]
     },
     "execution_count": 35,
     "metadata": {},
     "output_type": "execute_result"
    }
   ],
   "source": [
    "ra.df_count"
   ]
  },
  {
   "cell_type": "code",
   "execution_count": 36,
   "id": "b9754358-aa69-4b2d-bd1a-68846b59a18f",
   "metadata": {
    "execution": {
     "iopub.execute_input": "2024-05-13T08:17:09.646970Z",
     "iopub.status.busy": "2024-05-13T08:17:09.646846Z",
     "iopub.status.idle": "2024-05-13T08:17:09.652848Z",
     "shell.execute_reply": "2024-05-13T08:17:09.652425Z",
     "shell.execute_reply.started": "2024-05-13T08:17:09.646962Z"
    },
    "scrolled": true
   },
   "outputs": [
    {
     "data": {
      "text/html": [
       "<div>\n",
       "<style scoped>\n",
       "    .dataframe tbody tr th:only-of-type {\n",
       "        vertical-align: middle;\n",
       "    }\n",
       "\n",
       "    .dataframe tbody tr th {\n",
       "        vertical-align: top;\n",
       "    }\n",
       "\n",
       "    .dataframe thead th {\n",
       "        text-align: right;\n",
       "    }\n",
       "</style>\n",
       "<table border=\"1\" class=\"dataframe\">\n",
       "  <thead>\n",
       "    <tr style=\"text-align: right;\">\n",
       "      <th></th>\n",
       "      <th>lv1</th>\n",
       "      <th>lv2</th>\n",
       "      <th>lv3</th>\n",
       "      <th>lv4</th>\n",
       "      <th>lv5</th>\n",
       "    </tr>\n",
       "  </thead>\n",
       "  <tbody>\n",
       "    <tr>\n",
       "      <th>5019</th>\n",
       "      <td>충청북도</td>\n",
       "      <td>단양군</td>\n",
       "      <td>단양읍</td>\n",
       "      <td>마조리</td>\n",
       "      <td>NaN</td>\n",
       "    </tr>\n",
       "    <tr>\n",
       "      <th>26288</th>\n",
       "      <td>경기도</td>\n",
       "      <td>김포시</td>\n",
       "      <td>하성면</td>\n",
       "      <td>마조리</td>\n",
       "      <td>NaN</td>\n",
       "    </tr>\n",
       "  </tbody>\n",
       "</table>\n",
       "</div>"
      ],
      "text/plain": [
       "        lv1  lv2  lv3  lv4  lv5\n",
       "5019   충청북도  단양군  단양읍  마조리  NaN\n",
       "26288   경기도  김포시  하성면  마조리  NaN"
      ]
     },
     "execution_count": 36,
     "metadata": {},
     "output_type": "execute_result"
    }
   ],
   "source": [
    "ra.df_level"
   ]
  },
  {
   "cell_type": "markdown",
   "id": "962dac02-88f9-456f-8c9e-8230c94b2c42",
   "metadata": {},
   "source": [
    "#### making string pattern"
   ]
  },
  {
   "cell_type": "code",
   "execution_count": 79,
   "id": "e9a34796-4299-45b5-9ea8-f8bc929127e7",
   "metadata": {
    "execution": {
     "iopub.execute_input": "2024-05-13T07:24:10.079241Z",
     "iopub.status.busy": "2024-05-13T07:24:10.076543Z",
     "iopub.status.idle": "2024-05-13T07:24:10.117166Z",
     "shell.execute_reply": "2024-05-13T07:24:10.116287Z",
     "shell.execute_reply.started": "2024-05-13T07:24:10.079217Z"
    }
   },
   "outputs": [],
   "source": [
    "text = [\n",
    "    'bananas are here.',\n",
    "    'nana is here.',\n",
    "    'bana is here.',\n",
    "]\n",
    "df = pd.DataFrame(text)"
   ]
  },
  {
   "cell_type": "code",
   "execution_count": 80,
   "id": "96e17565-4cf5-409c-b21b-c6293de7538d",
   "metadata": {
    "execution": {
     "iopub.execute_input": "2024-05-13T07:24:13.058689Z",
     "iopub.status.busy": "2024-05-13T07:24:13.057592Z",
     "iopub.status.idle": "2024-05-13T07:24:13.144021Z",
     "shell.execute_reply": "2024-05-13T07:24:13.143644Z",
     "shell.execute_reply.started": "2024-05-13T07:24:13.058645Z"
    }
   },
   "outputs": [
    {
     "data": {
      "text/html": [
       "<div>\n",
       "<style scoped>\n",
       "    .dataframe tbody tr th:only-of-type {\n",
       "        vertical-align: middle;\n",
       "    }\n",
       "\n",
       "    .dataframe tbody tr th {\n",
       "        vertical-align: top;\n",
       "    }\n",
       "\n",
       "    .dataframe thead th {\n",
       "        text-align: right;\n",
       "    }\n",
       "</style>\n",
       "<table border=\"1\" class=\"dataframe\">\n",
       "  <thead>\n",
       "    <tr style=\"text-align: right;\">\n",
       "      <th></th>\n",
       "      <th>0</th>\n",
       "    </tr>\n",
       "  </thead>\n",
       "  <tbody>\n",
       "    <tr>\n",
       "      <th>0</th>\n",
       "      <td>bananas are here.</td>\n",
       "    </tr>\n",
       "    <tr>\n",
       "      <th>1</th>\n",
       "      <td>nana is here.</td>\n",
       "    </tr>\n",
       "    <tr>\n",
       "      <th>2</th>\n",
       "      <td>bana is here.</td>\n",
       "    </tr>\n",
       "  </tbody>\n",
       "</table>\n",
       "</div>"
      ],
      "text/plain": [
       "                   0\n",
       "0  bananas are here.\n",
       "1      nana is here.\n",
       "2      bana is here."
      ]
     },
     "execution_count": 80,
     "metadata": {},
     "output_type": "execute_result"
    }
   ],
   "source": [
    "df"
   ]
  },
  {
   "cell_type": "code",
   "execution_count": 81,
   "id": "384bc374-29e8-4050-9ab1-26d0925a9db5",
   "metadata": {
    "execution": {
     "iopub.execute_input": "2024-05-13T07:25:48.637508Z",
     "iopub.status.busy": "2024-05-13T07:25:48.636080Z",
     "iopub.status.idle": "2024-05-13T07:25:48.726052Z",
     "shell.execute_reply": "2024-05-13T07:25:48.725635Z",
     "shell.execute_reply.started": "2024-05-13T07:25:48.637451Z"
    }
   },
   "outputs": [
    {
     "name": "stdout",
     "output_type": "stream",
     "text": [
      "                Text\n",
      "0  bananas are here.\n"
     ]
    }
   ],
   "source": [
    "import pandas as pd\n",
    "\n",
    "text = [\n",
    "    'banana',\n",
    "    'nana',\n",
    "    'bana',\n",
    "]\n",
    "df = pd.DataFrame(text, columns=['Text'])\n",
    "\n",
    "keyword = 'bananas are here.'\n",
    "\n",
    "# Find rows containing the keyword\n",
    "matching_rows = df[df['Text'].str.contains(keyword)]\n",
    "\n",
    "print(matching_rows)\n"
   ]
  },
  {
   "cell_type": "code",
   "execution_count": null,
   "id": "5697cdc6-7e7e-4a4f-87b0-324325f7f194",
   "metadata": {
    "execution": {
     "iopub.execute_input": "2024-05-13T07:29:10.849077Z",
     "iopub.status.busy": "2024-05-13T07:29:10.847613Z",
     "iopub.status.idle": "2024-05-13T07:29:10.870093Z",
     "shell.execute_reply": "2024-05-13T07:29:10.869745Z",
     "shell.execute_reply.started": "2024-05-13T07:29:10.849051Z"
    }
   },
   "outputs": [],
   "source": [
    "import pandas as pd\n",
    "\n",
    "text = [\n",
    "    'banana',\n",
    "    'nana',\n",
    "    'bana',\n",
    "]\n",
    "df = pd.DataFrame(text, columns=['Text'])\n",
    "\n",
    "sentence = 'bananas are here.'"
   ]
  },
  {
   "cell_type": "code",
   "execution_count": 84,
   "id": "d237e75c-5683-4e6c-b73d-4c3edc5265e9",
   "metadata": {
    "execution": {
     "iopub.execute_input": "2024-05-13T07:33:20.969743Z",
     "iopub.status.busy": "2024-05-13T07:33:20.967729Z",
     "iopub.status.idle": "2024-05-13T07:33:20.980430Z",
     "shell.execute_reply": "2024-05-13T07:33:20.979858Z",
     "shell.execute_reply.started": "2024-05-13T07:33:20.969694Z"
    }
   },
   "outputs": [
    {
     "name": "stdout",
     "output_type": "stream",
     "text": [
      "Row 0: 'banana' is present in the sentence.\n",
      "Row 1: 'nana' is present in the sentence.\n",
      "Row 2: 'bana' is present in the sentence.\n"
     ]
    }
   ],
   "source": [
    "# Iterate over DataFrame rows\n",
    "for index, row in df.iterrows():\n",
    "    if row['Text'] in sentence:\n",
    "        print(f\"Row {index}: '{row['Text']}' is present in the sentence.\")"
   ]
  },
  {
   "cell_type": "code",
   "execution_count": 85,
   "id": "8543d167-40d8-4b72-8755-ee49c07e3d0d",
   "metadata": {
    "execution": {
     "iopub.execute_input": "2024-05-13T07:33:27.967008Z",
     "iopub.status.busy": "2024-05-13T07:33:27.965764Z",
     "iopub.status.idle": "2024-05-13T07:33:27.976650Z",
     "shell.execute_reply": "2024-05-13T07:33:27.976257Z",
     "shell.execute_reply.started": "2024-05-13T07:33:27.966964Z"
    }
   },
   "outputs": [
    {
     "name": "stdout",
     "output_type": "stream",
     "text": [
      "Empty DataFrame\n",
      "Columns: [Text]\n",
      "Index: []\n"
     ]
    }
   ],
   "source": [
    "# Find the row where its content is 'banana'\n",
    "matching_rows = df[df['Text'] == sentence]\n",
    "\n",
    "print(matching_rows)"
   ]
  },
  {
   "cell_type": "markdown",
   "id": "6cd5c28f-0768-41e9-a31d-1172a4130cec",
   "metadata": {},
   "source": [
    "#### pattern 1"
   ]
  },
  {
   "cell_type": "code",
   "execution_count": 8,
   "id": "148a01b4-9ea3-4934-99d2-a01558b63641",
   "metadata": {
    "execution": {
     "iopub.execute_input": "2024-05-13T07:50:47.061954Z",
     "iopub.status.busy": "2024-05-13T07:50:47.061229Z",
     "iopub.status.idle": "2024-05-13T07:50:47.066705Z",
     "shell.execute_reply": "2024-05-13T07:50:47.066223Z",
     "shell.execute_reply.started": "2024-05-13T07:50:47.061928Z"
    }
   },
   "outputs": [],
   "source": [
    "df = ra.df_filtered"
   ]
  },
  {
   "cell_type": "code",
   "execution_count": 9,
   "id": "95190417-ebf0-4327-a2ba-569432339a92",
   "metadata": {
    "execution": {
     "iopub.execute_input": "2024-05-13T07:50:55.948259Z",
     "iopub.status.busy": "2024-05-13T07:50:55.947640Z",
     "iopub.status.idle": "2024-05-13T07:50:55.978516Z",
     "shell.execute_reply": "2024-05-13T07:50:55.978148Z",
     "shell.execute_reply.started": "2024-05-13T07:50:55.948235Z"
    },
    "scrolled": true
   },
   "outputs": [
    {
     "name": "stdout",
     "output_type": "stream",
     "text": [
      "<class 'pandas.core.frame.DataFrame'>\n",
      "Index: 12 entries, 26284 to 26295\n",
      "Data columns (total 5 columns):\n",
      " #   Column  Non-Null Count  Dtype  \n",
      "---  ------  --------------  -----  \n",
      " 0   lv1     12 non-null     object \n",
      " 1   lv2     12 non-null     object \n",
      " 2   lv3     12 non-null     object \n",
      " 3   lv4     12 non-null     object \n",
      " 4   lv5     0 non-null      float64\n",
      "dtypes: float64(1), object(4)\n",
      "memory usage: 576.0+ bytes\n"
     ]
    }
   ],
   "source": [
    "df.info()"
   ]
  },
  {
   "cell_type": "code",
   "execution_count": 10,
   "id": "62a62417-ebc9-4f60-a6f4-5f3287bcb05d",
   "metadata": {
    "execution": {
     "iopub.execute_input": "2024-05-13T07:51:01.182838Z",
     "iopub.status.busy": "2024-05-13T07:51:01.181656Z",
     "iopub.status.idle": "2024-05-13T07:51:01.195633Z",
     "shell.execute_reply": "2024-05-13T07:51:01.195319Z",
     "shell.execute_reply.started": "2024-05-13T07:51:01.182786Z"
    },
    "scrolled": true
   },
   "outputs": [
    {
     "data": {
      "text/html": [
       "<div>\n",
       "<style scoped>\n",
       "    .dataframe tbody tr th:only-of-type {\n",
       "        vertical-align: middle;\n",
       "    }\n",
       "\n",
       "    .dataframe tbody tr th {\n",
       "        vertical-align: top;\n",
       "    }\n",
       "\n",
       "    .dataframe thead th {\n",
       "        text-align: right;\n",
       "    }\n",
       "</style>\n",
       "<table border=\"1\" class=\"dataframe\">\n",
       "  <thead>\n",
       "    <tr style=\"text-align: right;\">\n",
       "      <th></th>\n",
       "      <th>lv1</th>\n",
       "      <th>lv2</th>\n",
       "      <th>lv3</th>\n",
       "      <th>lv4</th>\n",
       "      <th>lv5</th>\n",
       "    </tr>\n",
       "  </thead>\n",
       "  <tbody>\n",
       "    <tr>\n",
       "      <th>26284</th>\n",
       "      <td>경기도</td>\n",
       "      <td>김포시</td>\n",
       "      <td>하성면</td>\n",
       "      <td>마곡리</td>\n",
       "      <td>NaN</td>\n",
       "    </tr>\n",
       "    <tr>\n",
       "      <th>26285</th>\n",
       "      <td>경기도</td>\n",
       "      <td>김포시</td>\n",
       "      <td>하성면</td>\n",
       "      <td>석탄리</td>\n",
       "      <td>NaN</td>\n",
       "    </tr>\n",
       "    <tr>\n",
       "      <th>26286</th>\n",
       "      <td>경기도</td>\n",
       "      <td>김포시</td>\n",
       "      <td>하성면</td>\n",
       "      <td>후평리</td>\n",
       "      <td>NaN</td>\n",
       "    </tr>\n",
       "    <tr>\n",
       "      <th>26287</th>\n",
       "      <td>경기도</td>\n",
       "      <td>김포시</td>\n",
       "      <td>하성면</td>\n",
       "      <td>시암리</td>\n",
       "      <td>NaN</td>\n",
       "    </tr>\n",
       "    <tr>\n",
       "      <th>26288</th>\n",
       "      <td>경기도</td>\n",
       "      <td>김포시</td>\n",
       "      <td>하성면</td>\n",
       "      <td>마조리</td>\n",
       "      <td>NaN</td>\n",
       "    </tr>\n",
       "    <tr>\n",
       "      <th>26289</th>\n",
       "      <td>경기도</td>\n",
       "      <td>김포시</td>\n",
       "      <td>하성면</td>\n",
       "      <td>가금리</td>\n",
       "      <td>NaN</td>\n",
       "    </tr>\n",
       "    <tr>\n",
       "      <th>26290</th>\n",
       "      <td>경기도</td>\n",
       "      <td>김포시</td>\n",
       "      <td>하성면</td>\n",
       "      <td>양택리</td>\n",
       "      <td>NaN</td>\n",
       "    </tr>\n",
       "    <tr>\n",
       "      <th>26291</th>\n",
       "      <td>경기도</td>\n",
       "      <td>김포시</td>\n",
       "      <td>하성면</td>\n",
       "      <td>원산리</td>\n",
       "      <td>NaN</td>\n",
       "    </tr>\n",
       "    <tr>\n",
       "      <th>26292</th>\n",
       "      <td>경기도</td>\n",
       "      <td>김포시</td>\n",
       "      <td>하성면</td>\n",
       "      <td>하사리</td>\n",
       "      <td>NaN</td>\n",
       "    </tr>\n",
       "    <tr>\n",
       "      <th>26293</th>\n",
       "      <td>경기도</td>\n",
       "      <td>김포시</td>\n",
       "      <td>하성면</td>\n",
       "      <td>봉성리</td>\n",
       "      <td>NaN</td>\n",
       "    </tr>\n",
       "    <tr>\n",
       "      <th>26294</th>\n",
       "      <td>경기도</td>\n",
       "      <td>김포시</td>\n",
       "      <td>하성면</td>\n",
       "      <td>전류리</td>\n",
       "      <td>NaN</td>\n",
       "    </tr>\n",
       "    <tr>\n",
       "      <th>26295</th>\n",
       "      <td>경기도</td>\n",
       "      <td>김포시</td>\n",
       "      <td>하성면</td>\n",
       "      <td>마근포리</td>\n",
       "      <td>NaN</td>\n",
       "    </tr>\n",
       "  </tbody>\n",
       "</table>\n",
       "</div>"
      ],
      "text/plain": [
       "       lv1  lv2  lv3   lv4  lv5\n",
       "26284  경기도  김포시  하성면   마곡리  NaN\n",
       "26285  경기도  김포시  하성면   석탄리  NaN\n",
       "26286  경기도  김포시  하성면   후평리  NaN\n",
       "26287  경기도  김포시  하성면   시암리  NaN\n",
       "26288  경기도  김포시  하성면   마조리  NaN\n",
       "26289  경기도  김포시  하성면   가금리  NaN\n",
       "26290  경기도  김포시  하성면   양택리  NaN\n",
       "26291  경기도  김포시  하성면   원산리  NaN\n",
       "26292  경기도  김포시  하성면   하사리  NaN\n",
       "26293  경기도  김포시  하성면   봉성리  NaN\n",
       "26294  경기도  김포시  하성면   전류리  NaN\n",
       "26295  경기도  김포시  하성면  마근포리  NaN"
      ]
     },
     "execution_count": 10,
     "metadata": {},
     "output_type": "execute_result"
    }
   ],
   "source": [
    "df"
   ]
  },
  {
   "cell_type": "code",
   "execution_count": 14,
   "id": "31d56dcc-78b8-4eba-9b05-4e3745b4bfca",
   "metadata": {
    "execution": {
     "iopub.execute_input": "2024-05-13T07:53:35.904865Z",
     "iopub.status.busy": "2024-05-13T07:53:35.903997Z",
     "iopub.status.idle": "2024-05-13T07:53:35.909430Z",
     "shell.execute_reply": "2024-05-13T07:53:35.909014Z",
     "shell.execute_reply.started": "2024-05-13T07:53:35.904841Z"
    }
   },
   "outputs": [],
   "source": [
    "import re"
   ]
  },
  {
   "cell_type": "code",
   "execution_count": null,
   "id": "aa7b9ede-37cc-4264-a83b-ed0ce28d6cf8",
   "metadata": {},
   "outputs": [],
   "source": [
    "# mask = self.df_address[column_name].str.contains('|'.join(self.words), case=False, na=False)"
   ]
  },
  {
   "cell_type": "code",
   "execution_count": 17,
   "id": "47d114e4-c0ee-485a-9153-91d5156d8294",
   "metadata": {
    "execution": {
     "iopub.execute_input": "2024-05-13T07:55:40.544651Z",
     "iopub.status.busy": "2024-05-13T07:55:40.539501Z",
     "iopub.status.idle": "2024-05-13T07:55:40.554833Z",
     "shell.execute_reply": "2024-05-13T07:55:40.553645Z",
     "shell.execute_reply.started": "2024-05-13T07:55:40.544616Z"
    }
   },
   "outputs": [
    {
     "data": {
      "text/plain": [
       "['스턴트맨은', '어는', '한적한', '하성면', '마조리에서', '잠에', '들었다.']"
      ]
     },
     "execution_count": 17,
     "metadata": {},
     "output_type": "execute_result"
    }
   ],
   "source": [
    "ra.words"
   ]
  },
  {
   "cell_type": "code",
   "execution_count": 24,
   "id": "faf81dea-5640-49c2-b174-0ff5742f29fe",
   "metadata": {
    "execution": {
     "iopub.execute_input": "2024-05-13T08:04:10.542860Z",
     "iopub.status.busy": "2024-05-13T08:04:10.541455Z",
     "iopub.status.idle": "2024-05-13T08:04:10.550817Z",
     "shell.execute_reply": "2024-05-13T08:04:10.549911Z",
     "shell.execute_reply.started": "2024-05-13T08:04:10.542839Z"
    },
    "scrolled": true
   },
   "outputs": [
    {
     "data": {
      "text/plain": [
       "'\\\\b(?:스턴트맨은|어는|한적한|하성면|마조리에서|잠에|들었다.)'"
      ]
     },
     "execution_count": 24,
     "metadata": {},
     "output_type": "execute_result"
    }
   ],
   "source": [
    "import re\n",
    "\n",
    "# Assuming self.words is a list of words\n",
    "pattern = r'\\b(?:' + '|'.join(ra.words) + r')'\n",
    "pattern"
   ]
  },
  {
   "cell_type": "code",
   "execution_count": null,
   "id": "36b37a50-4058-4d20-a7b4-08ea0d0ece59",
   "metadata": {
    "execution": {
     "iopub.execute_input": "2024-05-13T08:03:24.328896Z",
     "iopub.status.busy": "2024-05-13T08:03:24.327886Z",
     "iopub.status.idle": "2024-05-13T08:03:24.357896Z",
     "shell.execute_reply": "2024-05-13T08:03:24.357590Z",
     "shell.execute_reply.started": "2024-05-13T08:03:24.328847Z"
    },
    "scrolled": true
   },
   "outputs": [],
   "source": [
    "# mask = df.applymap(\n",
    "#     lambda x: bool(\n",
    "#         re.search(\n",
    "#             pattern,\n",
    "#             str(x),\n",
    "#             re.IGNORECASE)))"
   ]
  },
  {
   "cell_type": "code",
   "execution_count": null,
   "id": "9f96035c-d2b5-43d0-88f1-7218a5b6d2f7",
   "metadata": {
    "execution": {
     "iopub.execute_input": "2024-05-13T08:03:24.328896Z",
     "iopub.status.busy": "2024-05-13T08:03:24.327886Z",
     "iopub.status.idle": "2024-05-13T08:03:24.357896Z",
     "shell.execute_reply": "2024-05-13T08:03:24.357590Z",
     "shell.execute_reply.started": "2024-05-13T08:03:24.328847Z"
    },
    "scrolled": true
   },
   "outputs": [],
   "source": [
    "# mask = df.applymap(\n",
    "#     lambda x: bool(\n",
    "#         re.search(\n",
    "#             r'|'.join(ra.words),\n",
    "#             str(x),\n",
    "#             re.IGNORECASE)))"
   ]
  },
  {
   "cell_type": "code",
   "execution_count": 25,
   "id": "e6507247-dd29-4adb-8ea3-5fd66ac031ed",
   "metadata": {
    "execution": {
     "iopub.execute_input": "2024-05-13T08:09:12.716083Z",
     "iopub.status.busy": "2024-05-13T08:09:12.714982Z",
     "iopub.status.idle": "2024-05-13T08:09:12.744129Z",
     "shell.execute_reply": "2024-05-13T08:09:12.742937Z",
     "shell.execute_reply.started": "2024-05-13T08:09:12.716055Z"
    }
   },
   "outputs": [
    {
     "name": "stderr",
     "output_type": "stream",
     "text": [
      "/var/folders/r0/w084nh2s0v3fstg3n70027500000gn/T/ipykernel_65457/1637594485.py:1: FutureWarning: DataFrame.applymap has been deprecated. Use DataFrame.map instead.\n",
      "  mask = df.applymap(\n"
     ]
    }
   ],
   "source": [
    "mask = df.applymap(\n",
    "    lambda x: bool(\n",
    "        re.search(\n",
    "            r'\\b{}'.format(str(x)),\n",
    "            ra.text,\n",
    "            re.IGNORECASE)))"
   ]
  },
  {
   "cell_type": "code",
   "execution_count": 28,
   "id": "d2161523-3d39-4349-b75a-6459e9362452",
   "metadata": {
    "execution": {
     "iopub.execute_input": "2024-05-13T08:12:33.710883Z",
     "iopub.status.busy": "2024-05-13T08:12:33.705727Z",
     "iopub.status.idle": "2024-05-13T08:12:33.749097Z",
     "shell.execute_reply": "2024-05-13T08:12:33.748356Z",
     "shell.execute_reply.started": "2024-05-13T08:12:33.710851Z"
    },
    "scrolled": true
   },
   "outputs": [
    {
     "data": {
      "text/html": [
       "<div>\n",
       "<style scoped>\n",
       "    .dataframe tbody tr th:only-of-type {\n",
       "        vertical-align: middle;\n",
       "    }\n",
       "\n",
       "    .dataframe tbody tr th {\n",
       "        vertical-align: top;\n",
       "    }\n",
       "\n",
       "    .dataframe thead th {\n",
       "        text-align: right;\n",
       "    }\n",
       "</style>\n",
       "<table border=\"1\" class=\"dataframe\">\n",
       "  <thead>\n",
       "    <tr style=\"text-align: right;\">\n",
       "      <th></th>\n",
       "      <th>lv1</th>\n",
       "      <th>lv2</th>\n",
       "      <th>lv3</th>\n",
       "      <th>lv4</th>\n",
       "      <th>lv5</th>\n",
       "    </tr>\n",
       "  </thead>\n",
       "  <tbody>\n",
       "    <tr>\n",
       "      <th>26288</th>\n",
       "      <td>경기도</td>\n",
       "      <td>김포시</td>\n",
       "      <td>하성면</td>\n",
       "      <td>마조리</td>\n",
       "      <td>NaN</td>\n",
       "    </tr>\n",
       "  </tbody>\n",
       "</table>\n",
       "</div>"
      ],
      "text/plain": [
       "       lv1  lv2  lv3  lv4  lv5\n",
       "26288  경기도  김포시  하성면  마조리  NaN"
      ]
     },
     "execution_count": 28,
     "metadata": {},
     "output_type": "execute_result"
    }
   ],
   "source": [
    "# df_filtered = df[mask.any(axis=1)]\n",
    "df_filtered = df[mask['lv4']]\n",
    "df_filtered"
   ]
  },
  {
   "cell_type": "markdown",
   "id": "eecb0f2d-d315-426f-b75c-785a940f7ef0",
   "metadata": {},
   "source": [
    "### 3"
   ]
  }
 ],
 "metadata": {
  "kernelspec": {
   "display_name": "Python 3 (ipykernel)",
   "language": "python",
   "name": "python3"
  },
  "language_info": {
   "codemirror_mode": {
    "name": "ipython",
    "version": 3
   },
   "file_extension": ".py",
   "mimetype": "text/x-python",
   "name": "python",
   "nbconvert_exporter": "python",
   "pygments_lexer": "ipython3",
   "version": "3.11.0"
  }
 },
 "nbformat": 4,
 "nbformat_minor": 5
}
