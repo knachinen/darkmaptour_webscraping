{
 "cells": [
  {
   "cell_type": "code",
   "execution_count": 6,
   "id": "b66b8028-2cd2-46a9-a070-811c9a3a335b",
   "metadata": {
    "execution": {
     "iopub.execute_input": "2024-05-18T10:21:30.456072Z",
     "iopub.status.busy": "2024-05-18T10:21:30.455232Z",
     "iopub.status.idle": "2024-05-18T10:21:30.543310Z",
     "shell.execute_reply": "2024-05-18T10:21:30.542987Z",
     "shell.execute_reply.started": "2024-05-18T10:21:30.455990Z"
    }
   },
   "outputs": [],
   "source": [
    "import pandas as pd \n",
    "import numpy as np\n",
    "import math\n",
    "import re\n",
    "\n",
    "from icecream import ic\n",
    "from tqdm import tqdm \n",
    "\n",
    "from utils.custom_utils import load_var, save_var"
   ]
  },
  {
   "cell_type": "markdown",
   "id": "1b1a9aa5-ba8a-411b-ab75-29f35f5bebbf",
   "metadata": {},
   "source": [
    "## Web Scraping"
   ]
  },
  {
   "cell_type": "code",
   "execution_count": 4,
   "id": "b0113b9d-2e41-42b0-8054-6462e56a5203",
   "metadata": {
    "execution": {
     "iopub.execute_input": "2024-05-18T10:20:47.284045Z",
     "iopub.status.busy": "2024-05-18T10:20:47.282869Z",
     "iopub.status.idle": "2024-05-18T10:20:47.307243Z",
     "shell.execute_reply": "2024-05-18T10:20:47.306934Z",
     "shell.execute_reply.started": "2024-05-18T10:20:47.283994Z"
    }
   },
   "outputs": [],
   "source": [
    "# df_sort = pd.read_csv(\"./hunting_sort.csv\")\n",
    "df = pd.read_csv(\"./dataframe/hunting.csv\")"
   ]
  },
  {
   "cell_type": "code",
   "execution_count": 7,
   "id": "18abc78b-4239-4f83-b94a-48d8b1ec74b4",
   "metadata": {
    "execution": {
     "iopub.execute_input": "2024-05-18T10:21:33.247588Z",
     "iopub.status.busy": "2024-05-18T10:21:33.246549Z",
     "iopub.status.idle": "2024-05-18T10:21:33.276295Z",
     "shell.execute_reply": "2024-05-18T10:21:33.275573Z",
     "shell.execute_reply.started": "2024-05-18T10:21:33.247556Z"
    }
   },
   "outputs": [],
   "source": [
    "df = load_var(\"df_hk\")"
   ]
  },
  {
   "cell_type": "code",
   "execution_count": 14,
   "id": "6e2d12b1-1f9d-47c5-952e-e00acbe98a17",
   "metadata": {
    "execution": {
     "iopub.execute_input": "2024-05-18T10:23:36.258676Z",
     "iopub.status.busy": "2024-05-18T10:23:36.257478Z",
     "iopub.status.idle": "2024-05-18T10:23:36.307823Z",
     "shell.execute_reply": "2024-05-18T10:23:36.307017Z",
     "shell.execute_reply.started": "2024-05-18T10:23:36.258629Z"
    },
    "scrolled": true
   },
   "outputs": [
    {
     "name": "stdout",
     "output_type": "stream",
     "text": [
      "<class 'pandas.core.frame.DataFrame'>\n",
      "RangeIndex: 27 entries, 0 to 26\n",
      "Data columns (total 16 columns):\n",
      " #   Column  Non-Null Count  Dtype  \n",
      "---  ------  --------------  -----  \n",
      " 0   범죄 유형   0 non-null      float64\n",
      " 1   지역      3 non-null      object \n",
      " 2   위도      0 non-null      float64\n",
      " 3   경도      0 non-null      float64\n",
      " 4   중복 여부   6 non-null      object \n",
      " 5   퀄리티     0 non-null      float64\n",
      " 6   제외 여부   0 non-null      float64\n",
      " 7   기사제목    27 non-null     object \n",
      " 8   사건 장소   27 non-null     object \n",
      " 9   수사 기관   27 non-null     object \n",
      " 10  본문      27 non-null     object \n",
      " 11  URL     27 non-null     object \n",
      " 12  일자      27 non-null     int64  \n",
      " 13  언론사     27 non-null     object \n",
      " 14  기고자     27 non-null     object \n",
      " 15  비고      0 non-null      float64\n",
      "dtypes: float64(6), int64(1), object(9)\n",
      "memory usage: 3.5+ KB\n"
     ]
    }
   ],
   "source": [
    "df.info()"
   ]
  },
  {
   "cell_type": "markdown",
   "id": "f30bee90-7f44-48df-a42d-a56a3764e008",
   "metadata": {},
   "source": [
    "### 1st scraping - bs4"
   ]
  },
  {
   "cell_type": "code",
   "execution_count": 8,
   "id": "bf1337df-0a21-4da3-a346-897acffec9d6",
   "metadata": {
    "execution": {
     "iopub.execute_input": "2024-05-18T10:21:54.359969Z",
     "iopub.status.busy": "2024-05-18T10:21:54.358512Z",
     "iopub.status.idle": "2024-05-18T10:21:54.541462Z",
     "shell.execute_reply": "2024-05-18T10:21:54.541186Z",
     "shell.execute_reply.started": "2024-05-18T10:21:54.359894Z"
    }
   },
   "outputs": [],
   "source": [
    "import requests\n",
    "from bs4 import BeautifulSoup\n",
    "\n",
    "def get_html(url: str) -> str:\n",
    "    \n",
    "    if url == float('NaN'):\n",
    "        return \"\"\n",
    "    \n",
    "    else:\n",
    "        try:\n",
    "            response = requests.get(url)\n",
    "            \n",
    "            if response.status_code == 200:\n",
    "                html = response.text\n",
    "                soup = BeautifulSoup(html, 'html.parser')\n",
    "                # print(soup)\n",
    "                # return soup.get_text().replace(\"\\n\", \" \").replace(\"  \", \"\")\n",
    "                return soup\n",
    "\n",
    "            else : \n",
    "                print(response.status_code)\n",
    "                return \"\"            \n",
    "        except requests.exceptions.InvalidURL as e:\n",
    "            print(f\"Invalid URL: {e}\")\n",
    "            return \"\"\n",
    "            \n",
    "        except requests.exceptions.RequestException as e:\n",
    "            print(f\"An error occurred: {e}\")\n",
    "            return \"\""
   ]
  },
  {
   "cell_type": "code",
   "execution_count": 9,
   "id": "450c9535-3e00-4957-be4d-0fe835b69e23",
   "metadata": {
    "execution": {
     "iopub.execute_input": "2024-05-18T10:21:54.542410Z",
     "iopub.status.busy": "2024-05-18T10:21:54.542182Z",
     "iopub.status.idle": "2024-05-18T10:21:54.544662Z",
     "shell.execute_reply": "2024-05-18T10:21:54.544107Z",
     "shell.execute_reply.started": "2024-05-18T10:21:54.542402Z"
    }
   },
   "outputs": [],
   "source": [
    "def longest_string_length(strings):\n",
    "    \"\"\"\n",
    "    Find the length of the longest string in a list of strings.\n",
    "\n",
    "    Parameters:\n",
    "    - strings (list): List of strings.\n",
    "\n",
    "    Returns:\n",
    "    - int: Length of the longest string.\n",
    "    \"\"\"\n",
    "    return max(strings, key=len)"
   ]
  },
  {
   "cell_type": "code",
   "execution_count": 28,
   "id": "c7559fc2-f40f-4507-a6bc-1d3514cc8eb4",
   "metadata": {
    "collapsed": true,
    "jupyter": {
     "outputs_hidden": true
    },
    "scrolled": true
   },
   "outputs": [
    {
     "name": "stdout",
     "output_type": "stream",
     "text": [
      "           미주한국일보 서울경제TV 시그널 레이디스클래식 디센터 라이프점프 이달의 과학기술인상 서울포럼       주소 : 서울특별시 종로구 율곡로 6 트윈트리타워 B동 14~16층   대표전화 : 02) 724-8600 상호 : 서울경제신문사업자번호 : 208-81-10310대표자 : 손동영등록번호 : 서울 가 00224등록일자 : 1988.05.13 인터넷신문 등록번호 : 서울 아04065 등록일자 : 2016.04.26발행일자 : 2016.04.01발행 ·편집인 : 손동영청소년보호책임자 : 신한수 서울경제의 모든 콘텐트는 저작권법의 보호를 받는 바, 무단 전재·복사·배포 등은 법적 제재를 받을 수 있습니다. Copyright ⓒ Sedaily, All right reserved   서울경제를 팔로우하세요!  서울경제신문         텔레그램 뉴스채널    서울경제 1q60          모바일 버전 보기         피스·상가·토지     건설업계     간접투자     부동산일반       경제 · 금융   경제동향     정책     공기업     경제분석     금융정책     은행     카드     보험     제2금융     재테크     금융가     경제·금융일반       산업   기업     중기·벤처     생활     IT     바이오     산업일반       정치   대통령실     국회·정당·정책     총리실     통일·외교·안보     정치일반         문화 · 스포츠  헬스 라이프 문화 방송·연예 스포츠 자동차      사회   사회일반     전국     사회이슈     피플     영상 · 포토  영상 포토      국제   정치·사회     경제·마켓     기업     인물·화제     국제일반     서경스타  TV·방송 영화 가요 포토      오피니언   사설     사내칼럼     사외칼럼     서경골프  골프일반 생생레슨 10대골프장           공지   [알립니다] '70년 고인물 배임…변화할 때' 세미나 개최        회사소개 광고안내 개인정보취급방침 이용약관 청소년보호정책 제보 고충처리인 초판보기 전체기사 뉴스아카이브  ·일본 유신회) 전 도쿄도 지사가 거리 연설에서 같은 당 예비후보인 에비사와 유키(49)의 가슴을 만져 파문을 일으키기도 했다. 이노세 전 지사가 마이크를 넘기면서 에비사와 후보의 어깨와 머리카락을 만지더니 손을 가슴으로 가져가 툭툭 치는 행위를 한 것이다. 논란이 불거지자 이노세 전 지사는 자신의 SNS에 \"경솔했다. 앞으로 주의하겠다\"며 사과했다.극심한 성추행 행태에 여성들이 점차 정치를 포기하기에 이르자 지난달에는 대학 교수 등 전문가들을 모아 ‘여성의원 학대 상담센터’를 개설하기도 했다.   기업     인물·화제     국제일반     오피니언   사설     사내칼럼     사외칼럼        문화 · 스포츠    헬스     라이프     문화     방송·연예     스포츠     자동차      영상 · 포토    영상     포토 카드뉴스      서경스타    TV·방송     영화     가요     포토     서경골프  골프일반 생생레슨 10대골프장    회사소개  회사소개 CEO 인사말 서울경제가 걸어온 길 행사 및 시상 찾아오시는 길    업무문의  구독안내 광고안내    이용안내  개인정보취급방침 이용약관 청소년 보호정책 고충처리인 제보 이메일 뉴스레터 텔레그램 뉴스채널    소식  공지사항 알립니다      스페셜 컨텐츠  All Headline  Market Signal 기자채널 이슈 연재   e-Paper 뉴스아카이브 전체기사 스타즈 클럽      아웃링크  이달의과학기술인상  서울포럼   존경받는 기업 대상                         구독                   구독신청      이용약관과\n"
     ]
    }
   ],
   "source": [
    "# body = soup.select_one('body')\n",
    "# body_text = body.get_text()\n",
    "# body_rm = body_text.replace(\"\\n\", \" \")\n",
    "# print(body_rm)"
   ]
  },
  {
   "cell_type": "markdown",
   "id": "9d33e877-c3f0-4cce-868f-0dd16e33e2e7",
   "metadata": {},
   "source": [
    "#### check NA"
   ]
  },
  {
   "cell_type": "code",
   "execution_count": 16,
   "id": "d75fbe4c-1e22-4809-b205-6322aa80c828",
   "metadata": {
    "execution": {
     "iopub.execute_input": "2024-03-22T07:44:35.961092Z",
     "iopub.status.busy": "2024-03-22T07:44:35.960276Z",
     "iopub.status.idle": "2024-03-22T07:44:36.035869Z",
     "shell.execute_reply": "2024-03-22T07:44:36.035511Z",
     "shell.execute_reply.started": "2024-03-22T07:44:35.961071Z"
    }
   },
   "outputs": [
    {
     "data": {
      "text/html": [
       "<div>\n",
       "<style scoped>\n",
       "    .dataframe tbody tr th:only-of-type {\n",
       "        vertical-align: middle;\n",
       "    }\n",
       "\n",
       "    .dataframe tbody tr th {\n",
       "        vertical-align: top;\n",
       "    }\n",
       "\n",
       "    .dataframe thead th {\n",
       "        text-align: right;\n",
       "    }\n",
       "</style>\n",
       "<table border=\"1\" class=\"dataframe\">\n",
       "  <thead>\n",
       "    <tr style=\"text-align: right;\">\n",
       "      <th></th>\n",
       "      <th>범죄 유형</th>\n",
       "      <th>지역</th>\n",
       "      <th>위도</th>\n",
       "      <th>경도</th>\n",
       "      <th>중복 여부</th>\n",
       "      <th>퀄리티</th>\n",
       "      <th>제외 여부</th>\n",
       "      <th>기사제목</th>\n",
       "      <th>사건 장소</th>\n",
       "      <th>수사 기관</th>\n",
       "      <th>본문</th>\n",
       "      <th>URL</th>\n",
       "      <th>일자</th>\n",
       "      <th>언론사</th>\n",
       "      <th>기고자</th>\n",
       "      <th>비고</th>\n",
       "    </tr>\n",
       "  </thead>\n",
       "  <tbody>\n",
       "    <tr>\n",
       "      <th>162</th>\n",
       "      <td>폭행</td>\n",
       "      <td>제주시</td>\n",
       "      <td>NaN</td>\n",
       "      <td>NaN</td>\n",
       "      <td>미중복</td>\n",
       "      <td>NaN</td>\n",
       "      <td>제외</td>\n",
       "      <td>끊이지 않는 중국인 범죄 노동절 어쩌나</td>\n",
       "      <td>제주시,중국,제주</td>\n",
       "      <td>연동,경찰,경찰서,제주경찰청</td>\n",
       "      <td>제주에서 중국인이 저지르는 5대 범죄가 끊이지 않고 있어 근본적인 대책 마련이 요구...</td>\n",
       "      <td>NaN</td>\n",
       "      <td>20230428</td>\n",
       "      <td>제민일보</td>\n",
       "      <td>김재연</td>\n",
       "      <td>NaN</td>\n",
       "    </tr>\n",
       "  </tbody>\n",
       "</table>\n",
       "</div>"
      ],
      "text/plain": [
       "    범죄 유형   지역  위도  경도 중복 여부  퀄리티 제외 여부                   기사제목      사건 장소  \\\n",
       "162    폭행  제주시 NaN NaN   미중복  NaN    제외  끊이지 않는 중국인 범죄 노동절 어쩌나  제주시,중국,제주   \n",
       "\n",
       "               수사 기관                                                 본문  URL  \\\n",
       "162  연동,경찰,경찰서,제주경찰청  제주에서 중국인이 저지르는 5대 범죄가 끊이지 않고 있어 근본적인 대책 마련이 요구...  NaN   \n",
       "\n",
       "           일자   언론사  기고자   비고  \n",
       "162  20230428  제민일보  김재연  NaN  "
      ]
     },
     "execution_count": 16,
     "metadata": {},
     "output_type": "execute_result"
    }
   ],
   "source": [
    "df[df[\"URL\"].isna()]"
   ]
  },
  {
   "cell_type": "markdown",
   "id": "6f02e4e6-6ef2-4efc-aa67-fa6233957fad",
   "metadata": {},
   "source": [
    "#### bs object test"
   ]
  },
  {
   "cell_type": "code",
   "execution_count": 73,
   "id": "3d73f147-2eb9-4a0f-b827-e589ce853022",
   "metadata": {
    "execution": {
     "iopub.execute_input": "2024-03-22T12:12:33.308996Z",
     "iopub.status.busy": "2024-03-22T12:12:33.307401Z",
     "iopub.status.idle": "2024-03-22T12:12:34.009706Z",
     "shell.execute_reply": "2024-03-22T12:12:34.009220Z",
     "shell.execute_reply.started": "2024-03-22T12:12:33.308911Z"
    }
   },
   "outputs": [],
   "source": [
    "res = get_html(url=df.loc[1, \"URL\"])"
   ]
  },
  {
   "cell_type": "code",
   "execution_count": 76,
   "id": "f0c45f5a-f602-42bb-91b6-0e028661118a",
   "metadata": {
    "execution": {
     "iopub.execute_input": "2024-03-22T12:14:20.157649Z",
     "iopub.status.busy": "2024-03-22T12:14:20.156857Z",
     "iopub.status.idle": "2024-03-22T12:14:20.165044Z",
     "shell.execute_reply": "2024-03-22T12:14:20.164456Z",
     "shell.execute_reply.started": "2024-03-22T12:14:20.157622Z"
    }
   },
   "outputs": [
    {
     "data": {
      "text/plain": [
       "bs4.BeautifulSoup"
      ]
     },
     "execution_count": 76,
     "metadata": {},
     "output_type": "execute_result"
    }
   ],
   "source": [
    "type(res)"
   ]
  },
  {
   "cell_type": "code",
   "execution_count": 78,
   "id": "96dcfbc5-6828-428d-83c7-d18b0c64a462",
   "metadata": {
    "execution": {
     "iopub.execute_input": "2024-03-22T12:14:48.757577Z",
     "iopub.status.busy": "2024-03-22T12:14:48.756603Z",
     "iopub.status.idle": "2024-03-22T12:14:48.766137Z",
     "shell.execute_reply": "2024-03-22T12:14:48.765637Z",
     "shell.execute_reply.started": "2024-03-22T12:14:48.757541Z"
    }
   },
   "outputs": [
    {
     "data": {
      "text/plain": [
       "True"
      ]
     },
     "execution_count": 78,
     "metadata": {},
     "output_type": "execute_result"
    }
   ],
   "source": [
    "isinstance(res, BeautifulSoup)"
   ]
  },
  {
   "cell_type": "code",
   "execution_count": 81,
   "id": "a0ee285a-f193-438b-a507-d33dbabb9c4a",
   "metadata": {
    "execution": {
     "iopub.execute_input": "2024-03-22T12:24:19.055899Z",
     "iopub.status.busy": "2024-03-22T12:24:19.039372Z",
     "iopub.status.idle": "2024-03-22T12:24:19.089509Z",
     "shell.execute_reply": "2024-03-22T12:24:19.089169Z",
     "shell.execute_reply.started": "2024-03-22T12:24:19.055853Z"
    }
   },
   "outputs": [],
   "source": [
    "res_html = res.prettify()"
   ]
  },
  {
   "cell_type": "code",
   "execution_count": 84,
   "id": "84bf9851-4003-4c18-a1f2-c91c0529b5da",
   "metadata": {
    "execution": {
     "iopub.execute_input": "2024-03-22T12:27:15.191712Z",
     "iopub.status.busy": "2024-03-22T12:27:15.189199Z",
     "iopub.status.idle": "2024-03-22T12:27:15.206251Z",
     "shell.execute_reply": "2024-03-22T12:27:15.205904Z",
     "shell.execute_reply.started": "2024-03-22T12:27:15.191651Z"
    },
    "scrolled": true
   },
   "outputs": [
    {
     "data": {
      "text/plain": [
       "str"
      ]
     },
     "execution_count": 84,
     "metadata": {},
     "output_type": "execute_result"
    }
   ],
   "source": [
    "type(res_html)"
   ]
  },
  {
   "cell_type": "markdown",
   "id": "1969d6da-7a62-4be9-8bed-5bf4eb4168e0",
   "metadata": {},
   "source": [
    "#### scraping"
   ]
  },
  {
   "cell_type": "code",
   "execution_count": 85,
   "id": "3ae75953-495e-4396-9974-92205087f16a",
   "metadata": {
    "collapsed": true,
    "execution": {
     "iopub.execute_input": "2024-03-22T12:27:57.625822Z",
     "iopub.status.busy": "2024-03-22T12:27:57.624325Z",
     "iopub.status.idle": "2024-03-22T12:29:24.515754Z",
     "shell.execute_reply": "2024-03-22T12:29:24.513836Z",
     "shell.execute_reply.started": "2024-03-22T12:27:57.625780Z"
    },
    "jupyter": {
     "outputs_hidden": true
    },
    "scrolled": true
   },
   "outputs": [
    {
     "name": "stderr",
     "output_type": "stream",
     "text": [
      "  2%|███▎                                                                                                                                                                       | 4/208 [00:00<00:29,  6.91it/s]"
     ]
    },
    {
     "name": "stdout",
     "output_type": "stream",
     "text": [
      "An error occurred: HTTPSConnectionPool(host='www.fnnews.com', port=443): Max retries exceeded with url: /news/202309111405322672 (Caused by SSLError(SSLCertVerificationError(1, '[SSL: CERTIFICATE_VERIFY_FAILED] certificate verify failed: unable to get local issuer certificate (_ssl.c:992)')))\n",
      "An error occurred: HTTPSConnectionPool(host='www.fnnews.com', port=443): Max retries exceeded with url: /news/202309110637331373 (Caused by SSLError(SSLCertVerificationError(1, '[SSL: CERTIFICATE_VERIFY_FAILED] certificate verify failed: unable to get local issuer certificate (_ssl.c:992)')))\n"
     ]
    },
    {
     "name": "stderr",
     "output_type": "stream",
     "text": [
      "  5%|████████▏                                                                                                                                                                 | 10/208 [00:06<03:22,  1.02s/it]"
     ]
    },
    {
     "name": "stdout",
     "output_type": "stream",
     "text": [
      "An error occurred: Invalid URL 'www.kado.net/news/articleView.html?idxno=1202880': No scheme supplied. Perhaps you meant https://www.kado.net/news/articleView.html?idxno=1202880?\n"
     ]
    },
    {
     "name": "stderr",
     "output_type": "stream",
     "text": [
      " 13%|██████████████████████                                                                                                                                                    | 27/208 [00:17<01:03,  2.84it/s]"
     ]
    },
    {
     "name": "stdout",
     "output_type": "stream",
     "text": [
      "404\n"
     ]
    },
    {
     "name": "stderr",
     "output_type": "stream",
     "text": [
      " 16%|███████████████████████████▊                                                                                                                                              | 34/208 [00:19<00:35,  4.95it/s]"
     ]
    },
    {
     "name": "stdout",
     "output_type": "stream",
     "text": [
      "An error occurred: HTTPSConnectionPool(host='www.fnnews.com', port=443): Max retries exceeded with url: /news/202306211020287658 (Caused by SSLError(SSLCertVerificationError(1, '[SSL: CERTIFICATE_VERIFY_FAILED] certificate verify failed: unable to get local issuer certificate (_ssl.c:992)')))\n"
     ]
    },
    {
     "name": "stderr",
     "output_type": "stream",
     "text": [
      " 18%|██████████████████████████████▏                                                                                                                                           | 37/208 [00:19<00:29,  5.73it/s]"
     ]
    },
    {
     "name": "stdout",
     "output_type": "stream",
     "text": [
      "404\n"
     ]
    },
    {
     "name": "stderr",
     "output_type": "stream",
     "text": [
      " 22%|████████████████████████████████████▊                                                                                                                                     | 45/208 [00:26<02:00,  1.35it/s]"
     ]
    },
    {
     "name": "stdout",
     "output_type": "stream",
     "text": [
      "404\n"
     ]
    },
    {
     "name": "stderr",
     "output_type": "stream",
     "text": [
      " 25%|█████████████████████████████████████████▋                                                                                                                                | 51/208 [00:27<00:46,  3.35it/s]"
     ]
    },
    {
     "name": "stdout",
     "output_type": "stream",
     "text": [
      "404\n"
     ]
    },
    {
     "name": "stderr",
     "output_type": "stream",
     "text": [
      " 31%|████████████████████████████████████████████████████▎                                                                                                                     | 64/208 [00:31<00:35,  4.02it/s]"
     ]
    },
    {
     "name": "stdout",
     "output_type": "stream",
     "text": [
      "An error occurred: HTTPSConnectionPool(host='www.fnnews.com', port=443): Max retries exceeded with url: /news/202305220641370122 (Caused by SSLError(SSLCertVerificationError(1, '[SSL: CERTIFICATE_VERIFY_FAILED] certificate verify failed: unable to get local issuer certificate (_ssl.c:992)')))\n"
     ]
    },
    {
     "name": "stderr",
     "output_type": "stream",
     "text": [
      " 35%|██████████████████████████████████████████████████████████▊                                                                                                               | 72/208 [00:33<00:29,  4.62it/s]"
     ]
    },
    {
     "name": "stdout",
     "output_type": "stream",
     "text": [
      "An error occurred: HTTPSConnectionPool(host='www.fnnews.com', port=443): Max retries exceeded with url: /news/202305030957469927 (Caused by SSLError(SSLCertVerificationError(1, '[SSL: CERTIFICATE_VERIFY_FAILED] certificate verify failed: unable to get local issuer certificate (_ssl.c:992)')))\n"
     ]
    },
    {
     "name": "stderr",
     "output_type": "stream",
     "text": [
      " 38%|█████████████████████████████████████████████████████████████████▍                                                                                                        | 80/208 [00:36<00:32,  3.95it/s]"
     ]
    },
    {
     "name": "stdout",
     "output_type": "stream",
     "text": [
      "An error occurred: Invalid URL 'nan': No scheme supplied. Perhaps you meant https://nan?\n"
     ]
    },
    {
     "name": "stderr",
     "output_type": "stream",
     "text": [
      " 40%|████████████████████████████████████████████████████████████████████▋                                                                                                     | 84/208 [00:37<00:39,  3.18it/s]"
     ]
    },
    {
     "name": "stdout",
     "output_type": "stream",
     "text": [
      "404\n"
     ]
    },
    {
     "name": "stderr",
     "output_type": "stream",
     "text": [
      " 42%|███████████████████████████████████████████████████████████████████████                                                                                                   | 87/208 [00:38<00:35,  3.37it/s]"
     ]
    },
    {
     "name": "stdout",
     "output_type": "stream",
     "text": [
      "An error occurred: HTTPSConnectionPool(host='www.fnnews.com', port=443): Max retries exceeded with url: /news/202304211313284288 (Caused by SSLError(SSLCertVerificationError(1, '[SSL: CERTIFICATE_VERIFY_FAILED] certificate verify failed: unable to get local issuer certificate (_ssl.c:992)')))\n"
     ]
    },
    {
     "name": "stderr",
     "output_type": "stream",
     "text": [
      " 47%|████████████████████████████████████████████████████████████████████████████████                                                                                          | 98/208 [00:44<00:43,  2.51it/s]"
     ]
    },
    {
     "name": "stdout",
     "output_type": "stream",
     "text": [
      "403\n"
     ]
    },
    {
     "name": "stderr",
     "output_type": "stream",
     "text": [
      " 49%|██████████████████████████████████████████████████████████████████████████████████▉                                                                                      | 102/208 [00:45<00:28,  3.78it/s]"
     ]
    },
    {
     "name": "stdout",
     "output_type": "stream",
     "text": [
      "An error occurred: HTTPSConnectionPool(host='www.fnnews.com', port=443): Max retries exceeded with url: /news/202304112150051305 (Caused by SSLError(SSLCertVerificationError(1, '[SSL: CERTIFICATE_VERIFY_FAILED] certificate verify failed: unable to get local issuer certificate (_ssl.c:992)')))\n"
     ]
    },
    {
     "name": "stderr",
     "output_type": "stream",
     "text": [
      " 58%|█████████████████████████████████████████████████████████████████████████████████████████████████▍                                                                       | 120/208 [00:51<00:35,  2.47it/s]"
     ]
    },
    {
     "name": "stdout",
     "output_type": "stream",
     "text": [
      "404\n"
     ]
    },
    {
     "name": "stderr",
     "output_type": "stream",
     "text": [
      " 61%|██████████████████████████████████████████████████████████████████████████████████████████████████████▎                                                                  | 126/208 [00:54<00:28,  2.88it/s]"
     ]
    },
    {
     "name": "stdout",
     "output_type": "stream",
     "text": [
      "An error occurred: Invalid URL 'www.jbnews.com/news/articleView.html?idxno=1425913': No scheme supplied. Perhaps you meant https://www.jbnews.com/news/articleView.html?idxno=1425913?\n"
     ]
    },
    {
     "name": "stderr",
     "output_type": "stream",
     "text": [
      " 66%|████████████████████████████████████████████████████████████████████████████████████████████████████████████████▏                                                        | 138/208 [00:59<00:44,  1.58it/s]"
     ]
    },
    {
     "name": "stdout",
     "output_type": "stream",
     "text": [
      "An error occurred: HTTPSConnectionPool(host='www.fnnews.com', port=443): Max retries exceeded with url: /news/202402201421504481 (Caused by SSLError(SSLCertVerificationError(1, '[SSL: CERTIFICATE_VERIFY_FAILED] certificate verify failed: unable to get local issuer certificate (_ssl.c:992)')))\n"
     ]
    },
    {
     "name": "stderr",
     "output_type": "stream",
     "text": [
      " 74%|████████████████████████████████████████████████████████████████████████████████████████████████████████████████████████████▎                                            | 153/208 [01:06<00:50,  1.10it/s]"
     ]
    },
    {
     "name": "stdout",
     "output_type": "stream",
     "text": [
      "An error occurred: ('Connection aborted.', RemoteDisconnected('Remote end closed connection without response'))\n"
     ]
    },
    {
     "name": "stderr",
     "output_type": "stream",
     "text": [
      " 75%|███████████████████████████████████████████████████████████████████████████████████████████████████████████████████████████████▌                                         | 157/208 [01:07<00:23,  2.13it/s]"
     ]
    },
    {
     "name": "stdout",
     "output_type": "stream",
     "text": [
      "An error occurred: Invalid URL 'www.jbnews.com/news/articleView.html?idxno=1423763': No scheme supplied. Perhaps you meant https://www.jbnews.com/news/articleView.html?idxno=1423763?\n"
     ]
    },
    {
     "name": "stderr",
     "output_type": "stream",
     "text": [
      " 76%|█████████████████████████████████████████████████████████████████████████████████████████████████████████████████████████████████▏                                       | 159/208 [01:09<00:30,  1.63it/s]"
     ]
    },
    {
     "name": "stdout",
     "output_type": "stream",
     "text": [
      "502\n"
     ]
    },
    {
     "name": "stderr",
     "output_type": "stream",
     "text": [
      " 77%|██████████████████████████████████████████████████████████████████████████████████████████████████████████████████████████████████▊                                      | 161/208 [01:09<00:21,  2.15it/s]"
     ]
    },
    {
     "name": "stdout",
     "output_type": "stream",
     "text": [
      "An error occurred: Invalid URL 'www.joongboo.com/news/articleView.html?idxno=363632477': No scheme supplied. Perhaps you meant https://www.joongboo.com/news/articleView.html?idxno=363632477?\n"
     ]
    },
    {
     "name": "stderr",
     "output_type": "stream",
     "text": [
      " 82%|██████████████████████████████████████████████████████████████████████████████████████████████████████████████████████████████████████████▏                              | 170/208 [01:11<00:08,  4.60it/s]"
     ]
    },
    {
     "name": "stdout",
     "output_type": "stream",
     "text": [
      "An error occurred: HTTPSConnectionPool(host='www.fnnews.com', port=443): Max retries exceeded with url: /news/202401181827205510 (Caused by SSLError(SSLCertVerificationError(1, '[SSL: CERTIFICATE_VERIFY_FAILED] certificate verify failed: unable to get local issuer certificate (_ssl.c:992)')))\n"
     ]
    },
    {
     "name": "stderr",
     "output_type": "stream",
     "text": [
      " 83%|████████████████████████████████████████████████████████████████████████████████████████████████████████████████████████████████████████████▌                            | 173/208 [01:11<00:05,  6.60it/s]"
     ]
    },
    {
     "name": "stdout",
     "output_type": "stream",
     "text": [
      "An error occurred: HTTPSConnectionPool(host='www.fnnews.com', port=443): Max retries exceeded with url: /news/202401180956087597 (Caused by SSLError(SSLCertVerificationError(1, '[SSL: CERTIFICATE_VERIFY_FAILED] certificate verify failed: unable to get local issuer certificate (_ssl.c:992)')))\n",
      "403\n"
     ]
    },
    {
     "name": "stderr",
     "output_type": "stream",
     "text": [
      " 86%|████████████████████████████████████████████████████████████████████████████████████████████████████████████████████████████████████████████████▋                        | 178/208 [01:12<00:05,  5.96it/s]"
     ]
    },
    {
     "name": "stdout",
     "output_type": "stream",
     "text": [
      "404\n"
     ]
    },
    {
     "name": "stderr",
     "output_type": "stream",
     "text": [
      " 93%|█████████████████████████████████████████████████████████████████████████████████████████████████████████████████████████████████████████████████████████████▋           | 194/208 [01:16<00:02,  5.26it/s]"
     ]
    },
    {
     "name": "stdout",
     "output_type": "stream",
     "text": [
      "403\n"
     ]
    },
    {
     "name": "stderr",
     "output_type": "stream",
     "text": [
      " 96%|██████████████████████████████████████████████████████████████████████████████████████████████████████████████████████████████████████████████████████████████████▌      | 200/208 [01:22<00:11,  1.45s/it]"
     ]
    },
    {
     "name": "stdout",
     "output_type": "stream",
     "text": [
      "An error occurred: (\"Connection broken: ConnectionResetError(54, 'Connection reset by peer')\", ConnectionResetError(54, 'Connection reset by peer'))\n"
     ]
    },
    {
     "name": "stderr",
     "output_type": "stream",
     "text": [
      "100%|█████████████████████████████████████████████████████████████████████████████████████████████████████████████████████████████████████████████████████████████████████████| 208/208 [01:26<00:00,  2.40it/s]\n"
     ]
    }
   ],
   "source": [
    "from tqdm import tqdm\n",
    "\n",
    "DF_MAX = df[\"URL\"].count()\n",
    "\n",
    "for index in tqdm(range(82, DF_MAX)):\n",
    "    result = get_html(url=df.loc[index, \"URL\"])\n",
    "    if isinstance(result, BeautifulSoup):\n",
    "        df.loc[index, \"soup_html\"] = result.prettify()\n",
    "        df.loc[index, \"content_text\"] = result.get_text()\n",
    "    else:\n",
    "        df.loc[index, \"content_text\"] = result\n",
    "    df.loc[index, \"content_filtered\"] = longest_string_length(df.loc[index, \"content\"].split(\"\\n\\n\"))"
   ]
  },
  {
   "cell_type": "code",
   "execution_count": 6,
   "id": "54693925-0ada-4605-aee1-1dd827307af5",
   "metadata": {
    "execution": {
     "iopub.execute_input": "2024-04-07T07:32:41.843838Z",
     "iopub.status.busy": "2024-04-07T07:32:41.842749Z",
     "iopub.status.idle": "2024-04-07T07:32:42.145229Z",
     "shell.execute_reply": "2024-04-07T07:32:42.144519Z",
     "shell.execute_reply.started": "2024-04-07T07:32:41.843756Z"
    }
   },
   "outputs": [
    {
     "name": "stdout",
     "output_type": "stream",
     "text": [
      "404\n"
     ]
    }
   ],
   "source": [
    "url = 'https://www.hankyung.com/society/article/2023041062397'\n",
    "res = get_html(url=url)"
   ]
  },
  {
   "cell_type": "markdown",
   "id": "7e66fe01-1079-4379-a71d-d295395fde25",
   "metadata": {},
   "source": [
    "#### inspection"
   ]
  },
  {
   "cell_type": "code",
   "execution_count": 86,
   "id": "3bb69561-73ea-439d-9d24-585ea006da96",
   "metadata": {
    "collapsed": true,
    "execution": {
     "iopub.execute_input": "2024-03-22T12:29:40.019058Z",
     "iopub.status.busy": "2024-03-22T12:29:40.017287Z",
     "iopub.status.idle": "2024-03-22T12:29:40.085548Z",
     "shell.execute_reply": "2024-03-22T12:29:40.085035Z",
     "shell.execute_reply.started": "2024-03-22T12:29:40.018778Z"
    },
    "jupyter": {
     "outputs_hidden": true
    },
    "scrolled": true
   },
   "outputs": [
    {
     "name": "stdout",
     "output_type": "stream",
     "text": [
      "<class 'pandas.core.frame.DataFrame'>\n",
      "RangeIndex: 291 entries, 0 to 290\n",
      "Data columns (total 21 columns):\n",
      " #   Column            Non-Null Count  Dtype  \n",
      "---  ------            --------------  -----  \n",
      " 0   범죄 유형             291 non-null    object \n",
      " 1   지역                107 non-null    object \n",
      " 2   위도                35 non-null     float64\n",
      " 3   경도                35 non-null     float64\n",
      " 4   중복 여부             191 non-null    object \n",
      " 5   퀄리티               47 non-null     object \n",
      " 6   제외 여부             291 non-null    object \n",
      " 7   기사제목              291 non-null    object \n",
      " 8   사건 장소             289 non-null    object \n",
      " 9   수사 기관             290 non-null    object \n",
      " 10  본문                291 non-null    object \n",
      " 11  URL               290 non-null    object \n",
      " 12  일자                291 non-null    int64  \n",
      " 13  언론사               291 non-null    object \n",
      " 14  기고자               283 non-null    object \n",
      " 15  비고                68 non-null     object \n",
      " 16  content           290 non-null    object \n",
      " 17  content_filtered  291 non-null    object \n",
      " 18  soup              1 non-null      object \n",
      " 19  content_text      290 non-null    object \n",
      " 20  soup_html         253 non-null    object \n",
      "dtypes: float64(2), int64(1), object(18)\n",
      "memory usage: 47.9+ KB\n"
     ]
    }
   ],
   "source": [
    "df.info()"
   ]
  },
  {
   "cell_type": "code",
   "execution_count": 89,
   "id": "1e39a44e-7a86-4703-874a-3fb1a7e69724",
   "metadata": {
    "collapsed": true,
    "execution": {
     "iopub.execute_input": "2024-03-22T12:37:06.674642Z",
     "iopub.status.busy": "2024-03-22T12:37:06.672907Z",
     "iopub.status.idle": "2024-03-22T12:37:06.719615Z",
     "shell.execute_reply": "2024-03-22T12:37:06.719298Z",
     "shell.execute_reply.started": "2024-03-22T12:37:06.674594Z"
    },
    "jupyter": {
     "outputs_hidden": true
    },
    "scrolled": true
   },
   "outputs": [
    {
     "data": {
      "text/plain": [
       "0      NaN\n",
       "5      NaN\n",
       "17     NaN\n",
       "24     NaN\n",
       "28     NaN\n",
       "48     NaN\n",
       "53     NaN\n",
       "62     NaN\n",
       "78     NaN\n",
       "84     NaN\n",
       "85     NaN\n",
       "92     NaN\n",
       "109    NaN\n",
       "114    NaN\n",
       "117    NaN\n",
       "127    NaN\n",
       "133    NaN\n",
       "144    NaN\n",
       "154    NaN\n",
       "162    NaN\n",
       "166    NaN\n",
       "169    NaN\n",
       "178    NaN\n",
       "184    NaN\n",
       "202    NaN\n",
       "208    NaN\n",
       "220    NaN\n",
       "234    NaN\n",
       "237    NaN\n",
       "240    NaN\n",
       "243    NaN\n",
       "250    NaN\n",
       "253    NaN\n",
       "254    NaN\n",
       "260    NaN\n",
       "276    NaN\n",
       "281    NaN\n",
       "290    NaN\n",
       "Name: soup_html, dtype: object"
      ]
     },
     "execution_count": 89,
     "metadata": {},
     "output_type": "execute_result"
    }
   ],
   "source": [
    "df[df[\"soup_html\"].isna() == True][\"soup_html\"]"
   ]
  },
  {
   "cell_type": "markdown",
   "id": "2cdd2e37-595e-4f4e-984d-528c571b4ae7",
   "metadata": {},
   "source": [
    "#### content filtering test"
   ]
  },
  {
   "cell_type": "code",
   "execution_count": 25,
   "id": "bbb9f79a-d21e-45c8-b1e2-89fc918c3d35",
   "metadata": {
    "execution": {
     "iopub.execute_input": "2024-03-22T07:55:01.756411Z",
     "iopub.status.busy": "2024-03-22T07:55:01.755316Z",
     "iopub.status.idle": "2024-03-22T07:55:01.770810Z",
     "shell.execute_reply": "2024-03-22T07:55:01.770514Z",
     "shell.execute_reply.started": "2024-03-22T07:55:01.756387Z"
    }
   },
   "outputs": [
    {
     "data": {
      "text/plain": [
       "'https://www.hankookilbo.com/News/Read/A2023120411240004749'"
      ]
     },
     "execution_count": 25,
     "metadata": {},
     "output_type": "execute_result"
    }
   ],
   "source": [
    "df.loc[DF_MAX-3, \"URL\"]"
   ]
  },
  {
   "cell_type": "code",
   "execution_count": 30,
   "id": "4daef0ef-cd3f-4912-a2f6-1cfdd17570b9",
   "metadata": {
    "execution": {
     "iopub.execute_input": "2024-03-22T08:01:20.816045Z",
     "iopub.status.busy": "2024-03-22T08:01:20.814697Z",
     "iopub.status.idle": "2024-03-22T08:01:20.849394Z",
     "shell.execute_reply": "2024-03-22T08:01:20.848886Z",
     "shell.execute_reply.started": "2024-03-22T08:01:20.816005Z"
    }
   },
   "outputs": [],
   "source": [
    "text = df.loc[DF_MAX-3, \"content\"].split(\"\\n\\n\")"
   ]
  },
  {
   "cell_type": "code",
   "execution_count": 42,
   "id": "4f3e6c6e-1dfc-4fbd-8830-60b523f7fd07",
   "metadata": {
    "execution": {
     "iopub.execute_input": "2024-03-22T08:05:34.082357Z",
     "iopub.status.busy": "2024-03-22T08:05:34.082149Z",
     "iopub.status.idle": "2024-03-22T08:05:34.087311Z",
     "shell.execute_reply": "2024-03-22T08:05:34.086999Z",
     "shell.execute_reply.started": "2024-03-22T08:05:34.082344Z"
    }
   },
   "outputs": [
    {
     "name": "stdout",
     "output_type": "stream",
     "text": [
      "Length of the longest string: 404\n"
     ]
    }
   ],
   "source": [
    "# Example usage:\n",
    "# string_list = ['apple', 'banana', 'orange', 'kiwi']\n",
    "longest_length = longest_string_length(text)\n",
    "print(f\"Length of the longest string: {len(longest_length)}\")"
   ]
  },
  {
   "cell_type": "code",
   "execution_count": 44,
   "id": "4c7a6b67-79f8-4b2c-a70c-bf92d8f834a1",
   "metadata": {
    "execution": {
     "iopub.execute_input": "2024-03-22T08:06:16.031030Z",
     "iopub.status.busy": "2024-03-22T08:06:16.029778Z",
     "iopub.status.idle": "2024-03-22T08:06:16.041606Z",
     "shell.execute_reply": "2024-03-22T08:06:16.040785Z",
     "shell.execute_reply.started": "2024-03-22T08:06:16.030975Z"
    }
   },
   "outputs": [
    {
     "data": {
      "text/plain": [
       "'\\n서울 강동구(구청장 이수희)는 여성가족부 지정 \\'여성친화도시\\'에 신규 지정됐다고 4일 밝혔다.\\n\\'여성친화도시\\'는 여성가족부가 여성 권익증진에 노력한 우수 지자체에 부여하는 상이다. 올해 신규 지정된 지자체는 총 15개 시·군·구로 강동구는 서울시내 자치구 중 유일하게 신규 지정됐다.\\n강동구는 이번 평가에서 여성 친화형 학습형 일자리 창출과 경력단절 여성 병·의원 취업 연계 프로젝트, 여성 안심 귀갓길 조성사업 등 5대 분야 20개 사업을 제출해 좋은 평가를 받았다. 강동구는 향후 5년 동안 여성 관련 정책 등에 민간 협력 및 컨설팅을 지원 받는다. 이수희 강동구청장은 \"앞으로도 여성이 안심하고 살 수 있는 환경을 조성하기 위한 다양한 정책을 발굴해 주민이 체감하는 삶의 질 향상을 위해 최선을 다하겠다\"고 말했다.'"
      ]
     },
     "execution_count": 44,
     "metadata": {},
     "output_type": "execute_result"
    }
   ],
   "source": [
    "longest_length"
   ]
  },
  {
   "cell_type": "code",
   "execution_count": 53,
   "id": "278ee5c4-f0f5-4781-b1b2-205c0fc54c96",
   "metadata": {
    "execution": {
     "iopub.execute_input": "2024-03-22T08:12:08.409758Z",
     "iopub.status.busy": "2024-03-22T08:12:08.404532Z",
     "iopub.status.idle": "2024-03-22T08:12:08.446246Z",
     "shell.execute_reply": "2024-03-22T08:12:08.445920Z",
     "shell.execute_reply.started": "2024-03-22T08:12:08.409558Z"
    }
   },
   "outputs": [
    {
     "name": "stderr",
     "output_type": "stream",
     "text": [
      "100%|█████████████████████████████████████████████████████████████████████████████████████████████████████████████████████████████████████████████████████████████████████████| 10/10 [00:00<00:00, 1081.79it/s]\n"
     ]
    }
   ],
   "source": [
    "for index in tqdm(range(DF_MAX-10, DF_MAX)):\n",
    "    df.loc[index, \"content_filtered\"] = longest_string_length(df.loc[index, \"content\"].split(\"\\n\\n\"))"
   ]
  },
  {
   "cell_type": "code",
   "execution_count": 54,
   "id": "c8db27f6-032a-4ec5-aef3-ea1b3455beb2",
   "metadata": {
    "execution": {
     "iopub.execute_input": "2024-03-22T08:12:09.869234Z",
     "iopub.status.busy": "2024-03-22T08:12:09.868538Z",
     "iopub.status.idle": "2024-03-22T08:12:09.886196Z",
     "shell.execute_reply": "2024-03-22T08:12:09.885292Z",
     "shell.execute_reply.started": "2024-03-22T08:12:09.869177Z"
    }
   },
   "outputs": [
    {
     "data": {
      "text/plain": [
       "280                    KBS / 07235 서울특별시 영등포구 여의공원로 1...\n",
       "281    \\n전북 전주시 덕진구 벚꽃로 54(진북동 417-62)  \\n대표전화 : 063-...\n",
       "282    \\nìì¸ ì¡íêµ¬ê° êµ¬ë¯¼ì í¸ìí ê·ê...\n",
       "283    \\nìì°° ì°¸ê°ìë¤ì ì°ë² ì§ì­ ìí ...\n",
       "284    정찬현 자치경찰과장조국의 광복과 함께 태동한 대한민국의 경찰은 오늘도 사회 질서유지...\n",
       "285    ¡á ·ÎÄÃÀÎ»çÀÌµå\\n\\r\\n¾È»ê=¹Ú¼ºÈÆ ±âÀÚ pshoon@m...\n",
       "286    \\nìì¸ ê°ëêµ¬ê° ìì¸ìì ì ì¼íê²...\n",
       "287    \\n서울 강동구(구청장 이수희)는 여성가족부 지정 '여성친화도시'에 신규 지정됐다고...\n",
       "288    올해 전국적으로 신규 지정된 지자체는 15개 시·군·구로 강동구가 서울시에서 유일하...\n",
       "289    또 음성시니어클럽이 올해 노인일자리 사업 성과보고대회에서 9988시니어봉사회(회장 ...\n",
       "290                                                   \\n\n",
       "Name: content_filtered, dtype: object"
      ]
     },
     "execution_count": 54,
     "metadata": {},
     "output_type": "execute_result"
    }
   ],
   "source": [
    "df.loc[DF_MAX-10:DF_MAX, \"content_filtered\"]"
   ]
  },
  {
   "cell_type": "markdown",
   "id": "f5849523-f657-4098-8b64-4b7c36639f08",
   "metadata": {},
   "source": [
    "#### clean text"
   ]
  },
  {
   "cell_type": "code",
   "execution_count": 114,
   "id": "48d24bb9-7c09-4fad-b914-4ad6092d1467",
   "metadata": {},
   "outputs": [],
   "source": [
    "def clean_text(text: str) -> str:\n",
    "    if isinstance(text, float):\n",
    "        return \"\"\n",
    "    return text.replace(\"\\t\", \"\").replace(\"\\r\", \"\")"
   ]
  },
  {
   "cell_type": "code",
   "execution_count": 115,
   "id": "6decdf1d-eaaa-4b54-8015-ea2f6e3753d3",
   "metadata": {},
   "outputs": [],
   "source": [
    "df.loc[:, \"content\"] = df.loc[:, \"content\"].apply(clean_text)"
   ]
  },
  {
   "cell_type": "markdown",
   "id": "e07d856b-e6f2-4303-855e-db97395568a0",
   "metadata": {},
   "source": [
    "### 2nd - selenium - 404 error"
   ]
  },
  {
   "cell_type": "markdown",
   "id": "3256dded-08f7-474e-9883-1c5ca62a0056",
   "metadata": {},
   "source": [
    "#### selenium"
   ]
  },
  {
   "cell_type": "code",
   "execution_count": 118,
   "id": "2166ef95-6226-42fa-870c-d8416919ced2",
   "metadata": {},
   "outputs": [
    {
     "name": "stdout",
     "output_type": "stream",
     "text": [
      "404\n"
     ]
    },
    {
     "data": {
      "text/plain": [
       "''"
      ]
     },
     "execution_count": 118,
     "metadata": {},
     "output_type": "execute_result"
    }
   ],
   "source": [
    "get_html(df.iloc[0][\"URL\"])"
   ]
  },
  {
   "cell_type": "code",
   "execution_count": 120,
   "id": "b7bcbf47-1620-4705-b0c5-0b1995ad53c8",
   "metadata": {
    "collapsed": true,
    "jupyter": {
     "outputs_hidden": true
    },
    "scrolled": true
   },
   "outputs": [
    {
     "name": "stdout",
     "output_type": "stream",
     "text": [
      "Collecting selenium\n",
      "  Downloading selenium-4.18.1-py3-none-any.whl.metadata (6.9 kB)\n",
      "Requirement already satisfied: urllib3<3,>=1.26 in /Users/salgu/.pyenv/versions/3.11.0/envs/pml/lib/python3.11/site-packages (from urllib3[socks]<3,>=1.26->selenium) (1.26.18)\n",
      "Collecting trio~=0.17 (from selenium)\n",
      "  Downloading trio-0.24.0-py3-none-any.whl.metadata (4.9 kB)\n",
      "Collecting trio-websocket~=0.9 (from selenium)\n",
      "  Downloading trio_websocket-0.11.1-py3-none-any.whl.metadata (4.7 kB)\n",
      "Requirement already satisfied: certifi>=2021.10.8 in /Users/salgu/.pyenv/versions/3.11.0/envs/pml/lib/python3.11/site-packages (from selenium) (2023.7.22)\n",
      "Collecting typing_extensions>=4.9.0 (from selenium)\n",
      "  Using cached typing_extensions-4.10.0-py3-none-any.whl.metadata (3.0 kB)\n",
      "Requirement already satisfied: attrs>=20.1.0 in /Users/salgu/.pyenv/versions/3.11.0/envs/pml/lib/python3.11/site-packages (from trio~=0.17->selenium) (23.1.0)\n",
      "Collecting sortedcontainers (from trio~=0.17->selenium)\n",
      "  Using cached sortedcontainers-2.4.0-py2.py3-none-any.whl.metadata (10 kB)\n",
      "Requirement already satisfied: idna in /Users/salgu/.pyenv/versions/3.11.0/envs/pml/lib/python3.11/site-packages (from trio~=0.17->selenium) (3.4)\n",
      "Collecting outcome (from trio~=0.17->selenium)\n",
      "  Downloading outcome-1.3.0.post0-py2.py3-none-any.whl.metadata (2.6 kB)\n",
      "Requirement already satisfied: sniffio>=1.3.0 in /Users/salgu/.pyenv/versions/3.11.0/envs/pml/lib/python3.11/site-packages (from trio~=0.17->selenium) (1.3.0)\n",
      "Collecting wsproto>=0.14 (from trio-websocket~=0.9->selenium)\n",
      "  Downloading wsproto-1.2.0-py3-none-any.whl.metadata (5.6 kB)\n",
      "Requirement already satisfied: PySocks!=1.5.7,<2.0,>=1.5.6 in /Users/salgu/.pyenv/versions/3.11.0/envs/pml/lib/python3.11/site-packages (from urllib3[socks]<3,>=1.26->selenium) (1.7.1)\n",
      "Requirement already satisfied: h11<1,>=0.9.0 in /Users/salgu/.pyenv/versions/3.11.0/envs/pml/lib/python3.11/site-packages (from wsproto>=0.14->trio-websocket~=0.9->selenium) (0.14.0)\n",
      "Downloading selenium-4.18.1-py3-none-any.whl (10.0 MB)\n",
      "\u001b[2K   \u001b[90m━━━━━━━━━━━━━━━━━━━━━━━━━━━━━━━━━━━━━━━━\u001b[0m \u001b[32m10.0/10.0 MB\u001b[0m \u001b[31m21.0 MB/s\u001b[0m eta \u001b[36m0:00:00\u001b[0m00:01\u001b[0m0:01\u001b[0m\n",
      "\u001b[?25hDownloading trio-0.24.0-py3-none-any.whl (460 kB)\n",
      "\u001b[2K   \u001b[90m━━━━━━━━━━━━━━━━━━━━━━━━━━━━━━━━━━━━━━━━\u001b[0m \u001b[32m460.2/460.2 kB\u001b[0m \u001b[31m32.6 MB/s\u001b[0m eta \u001b[36m0:00:00\u001b[0m\n",
      "\u001b[?25hDownloading trio_websocket-0.11.1-py3-none-any.whl (17 kB)\n",
      "Using cached typing_extensions-4.10.0-py3-none-any.whl (33 kB)\n",
      "Downloading wsproto-1.2.0-py3-none-any.whl (24 kB)\n",
      "Downloading outcome-1.3.0.post0-py2.py3-none-any.whl (10 kB)\n",
      "Using cached sortedcontainers-2.4.0-py2.py3-none-any.whl (29 kB)\n",
      "Installing collected packages: sortedcontainers, wsproto, typing_extensions, outcome, trio, trio-websocket, selenium\n",
      "  Attempting uninstall: typing_extensions\n",
      "    Found existing installation: typing_extensions 4.8.0\n",
      "    Uninstalling typing_extensions-4.8.0:\n",
      "      Successfully uninstalled typing_extensions-4.8.0\n",
      "\u001b[31mERROR: pip's dependency resolver does not currently take into account all the packages that are installed. This behaviour is the source of the following dependency conflicts.\n",
      "ooba 0.0.21 requires huggingface-hub<0.18.0,>=0.17.3, but you have huggingface-hub 0.20.2 which is incompatible.\n",
      "tokenizers 0.14.1 requires huggingface_hub<0.18,>=0.16.4, but you have huggingface-hub 0.20.2 which is incompatible.\n",
      "tensorflow-macos 2.14.0 requires wrapt<1.15,>=1.11.0, but you have wrapt 1.15.0 which is incompatible.\n",
      "litellm 0.7.10 requires openai<0.29.0,>=0.27.0, but you have openai 1.6.1 which is incompatible.\n",
      "opentelemetry-instrumentation-grpc 0.38b0 requires opentelemetry-instrumentation==0.38b0, but you have opentelemetry-instrumentation 0.41b0 which is incompatible.\n",
      "opentelemetry-instrumentation-grpc 0.38b0 requires opentelemetry-semantic-conventions==0.38b0, but you have opentelemetry-semantic-conventions 0.41b0 which is incompatible.\n",
      "open-interpreter 0.1.9 requires huggingface-hub<0.18.0,>=0.17.3, but you have huggingface-hub 0.20.2 which is incompatible.\n",
      "open-interpreter 0.1.9 requires openai<0.29.0,>=0.28.0, but you have openai 1.6.1 which is incompatible.\n",
      "open-interpreter 0.1.9 requires tiktoken<0.5.0,>=0.4.0, but you have tiktoken 0.5.1 which is incompatible.\u001b[0m\u001b[31m\n",
      "\u001b[0mSuccessfully installed outcome-1.3.0.post0 selenium-4.18.1 sortedcontainers-2.4.0 trio-0.24.0 trio-websocket-0.11.1 typing_extensions-4.10.0 wsproto-1.2.0\n",
      "Note: you may need to restart the kernel to use updated packages.\n"
     ]
    }
   ],
   "source": [
    "%pip install selenium"
   ]
  },
  {
   "cell_type": "code",
   "execution_count": 10,
   "id": "9ea64880-080f-4b5a-8409-8a03d7e5be5a",
   "metadata": {
    "execution": {
     "iopub.execute_input": "2024-05-18T10:22:04.077654Z",
     "iopub.status.busy": "2024-05-18T10:22:04.076845Z",
     "iopub.status.idle": "2024-05-18T10:22:04.147425Z",
     "shell.execute_reply": "2024-05-18T10:22:04.147097Z",
     "shell.execute_reply.started": "2024-05-18T10:22:04.077619Z"
    }
   },
   "outputs": [],
   "source": [
    "from selenium import webdriver \n",
    "from selenium.webdriver.common.action_chains import ActionChains \n",
    "from selenium.webdriver.common.by import By\n",
    "from selenium.webdriver.common.keys import Keys\n",
    "from selenium.common.exceptions import InvalidArgumentException\n",
    "\n",
    "from time import sleep\n",
    "from tqdm import tqdm\n",
    "\n",
    "import pandas as pd"
   ]
  },
  {
   "cell_type": "code",
   "execution_count": 11,
   "id": "53245288-c82e-4f1d-94d0-e1e579cc3f1f",
   "metadata": {
    "execution": {
     "iopub.execute_input": "2024-05-18T10:22:14.163558Z",
     "iopub.status.busy": "2024-05-18T10:22:14.162230Z",
     "iopub.status.idle": "2024-05-18T10:22:23.368853Z",
     "shell.execute_reply": "2024-05-18T10:22:23.365309Z",
     "shell.execute_reply.started": "2024-05-18T10:22:14.163498Z"
    }
   },
   "outputs": [],
   "source": [
    "driver = webdriver.Chrome()"
   ]
  },
  {
   "cell_type": "code",
   "execution_count": 12,
   "id": "26512067-8482-419a-a9f6-56ba14f32ce6",
   "metadata": {
    "execution": {
     "iopub.execute_input": "2024-05-18T10:22:45.402701Z",
     "iopub.status.busy": "2024-05-18T10:22:45.399884Z",
     "iopub.status.idle": "2024-05-18T10:22:45.420436Z",
     "shell.execute_reply": "2024-05-18T10:22:45.420004Z",
     "shell.execute_reply.started": "2024-05-18T10:22:45.402625Z"
    }
   },
   "outputs": [],
   "source": [
    "def get_html_selenium(url: str) -> str:\n",
    "    try:\n",
    "        driver.get(url=url)\n",
    "        body = driver.find_element(by=By.TAG_NAME, value=\"body\")\n",
    "        # return clean_text(clean_text(body.text.replace(\"\\n\", \" \")))\n",
    "        return body.get_attribute('outerHTML')\n",
    "    \n",
    "    except InvalidArgumentException as e:\n",
    "        print(f\"Invalid argument exception: {e}\")\n",
    "        return \"\""
   ]
  },
  {
   "cell_type": "markdown",
   "id": "54951882-e36c-4245-a482-69ee2db3e634",
   "metadata": {},
   "source": [
    "#### empty content "
   ]
  },
  {
   "cell_type": "code",
   "execution_count": 13,
   "id": "7d14dc19-026d-45ab-89c3-cbdd0e99661d",
   "metadata": {
    "execution": {
     "iopub.execute_input": "2024-05-18T10:23:23.744207Z",
     "iopub.status.busy": "2024-05-18T10:23:23.742779Z",
     "iopub.status.idle": "2024-05-18T10:23:24.231235Z",
     "shell.execute_reply": "2024-05-18T10:23:24.230293Z",
     "shell.execute_reply.started": "2024-05-18T10:23:23.744154Z"
    },
    "scrolled": true
   },
   "outputs": [
    {
     "ename": "KeyError",
     "evalue": "'content'",
     "output_type": "error",
     "traceback": [
      "\u001b[0;31m---------------------------------------------------------------------------\u001b[0m",
      "\u001b[0;31mKeyError\u001b[0m                                  Traceback (most recent call last)",
      "File \u001b[0;32m~/.pyenv/versions/pml/lib/python3.11/site-packages/pandas/core/indexes/base.py:3790\u001b[0m, in \u001b[0;36mIndex.get_loc\u001b[0;34m(self, key)\u001b[0m\n\u001b[1;32m   3789\u001b[0m \u001b[38;5;28;01mtry\u001b[39;00m:\n\u001b[0;32m-> 3790\u001b[0m     \u001b[38;5;28;01mreturn\u001b[39;00m \u001b[38;5;28;43mself\u001b[39;49m\u001b[38;5;241;43m.\u001b[39;49m\u001b[43m_engine\u001b[49m\u001b[38;5;241;43m.\u001b[39;49m\u001b[43mget_loc\u001b[49m\u001b[43m(\u001b[49m\u001b[43mcasted_key\u001b[49m\u001b[43m)\u001b[49m\n\u001b[1;32m   3791\u001b[0m \u001b[38;5;28;01mexcept\u001b[39;00m \u001b[38;5;167;01mKeyError\u001b[39;00m \u001b[38;5;28;01mas\u001b[39;00m err:\n",
      "File \u001b[0;32mindex.pyx:152\u001b[0m, in \u001b[0;36mpandas._libs.index.IndexEngine.get_loc\u001b[0;34m()\u001b[0m\n",
      "File \u001b[0;32mindex.pyx:181\u001b[0m, in \u001b[0;36mpandas._libs.index.IndexEngine.get_loc\u001b[0;34m()\u001b[0m\n",
      "File \u001b[0;32mpandas/_libs/hashtable_class_helper.pxi:7080\u001b[0m, in \u001b[0;36mpandas._libs.hashtable.PyObjectHashTable.get_item\u001b[0;34m()\u001b[0m\n",
      "File \u001b[0;32mpandas/_libs/hashtable_class_helper.pxi:7088\u001b[0m, in \u001b[0;36mpandas._libs.hashtable.PyObjectHashTable.get_item\u001b[0;34m()\u001b[0m\n",
      "\u001b[0;31mKeyError\u001b[0m: 'content'",
      "\nThe above exception was the direct cause of the following exception:\n",
      "\u001b[0;31mKeyError\u001b[0m                                  Traceback (most recent call last)",
      "Cell \u001b[0;32mIn[13], line 1\u001b[0m\n\u001b[0;32m----> 1\u001b[0m df_404 \u001b[38;5;241m=\u001b[39m df[\u001b[43mdf\u001b[49m\u001b[43m[\u001b[49m\u001b[38;5;124;43m\"\u001b[39;49m\u001b[38;5;124;43mcontent\u001b[39;49m\u001b[38;5;124;43m\"\u001b[39;49m\u001b[43m]\u001b[49m \u001b[38;5;241m==\u001b[39m \u001b[38;5;124m\"\u001b[39m\u001b[38;5;124m\"\u001b[39m]\n",
      "File \u001b[0;32m~/.pyenv/versions/pml/lib/python3.11/site-packages/pandas/core/frame.py:3896\u001b[0m, in \u001b[0;36mDataFrame.__getitem__\u001b[0;34m(self, key)\u001b[0m\n\u001b[1;32m   3894\u001b[0m \u001b[38;5;28;01mif\u001b[39;00m \u001b[38;5;28mself\u001b[39m\u001b[38;5;241m.\u001b[39mcolumns\u001b[38;5;241m.\u001b[39mnlevels \u001b[38;5;241m>\u001b[39m \u001b[38;5;241m1\u001b[39m:\n\u001b[1;32m   3895\u001b[0m     \u001b[38;5;28;01mreturn\u001b[39;00m \u001b[38;5;28mself\u001b[39m\u001b[38;5;241m.\u001b[39m_getitem_multilevel(key)\n\u001b[0;32m-> 3896\u001b[0m indexer \u001b[38;5;241m=\u001b[39m \u001b[38;5;28;43mself\u001b[39;49m\u001b[38;5;241;43m.\u001b[39;49m\u001b[43mcolumns\u001b[49m\u001b[38;5;241;43m.\u001b[39;49m\u001b[43mget_loc\u001b[49m\u001b[43m(\u001b[49m\u001b[43mkey\u001b[49m\u001b[43m)\u001b[49m\n\u001b[1;32m   3897\u001b[0m \u001b[38;5;28;01mif\u001b[39;00m is_integer(indexer):\n\u001b[1;32m   3898\u001b[0m     indexer \u001b[38;5;241m=\u001b[39m [indexer]\n",
      "File \u001b[0;32m~/.pyenv/versions/pml/lib/python3.11/site-packages/pandas/core/indexes/base.py:3797\u001b[0m, in \u001b[0;36mIndex.get_loc\u001b[0;34m(self, key)\u001b[0m\n\u001b[1;32m   3792\u001b[0m     \u001b[38;5;28;01mif\u001b[39;00m \u001b[38;5;28misinstance\u001b[39m(casted_key, \u001b[38;5;28mslice\u001b[39m) \u001b[38;5;129;01mor\u001b[39;00m (\n\u001b[1;32m   3793\u001b[0m         \u001b[38;5;28misinstance\u001b[39m(casted_key, abc\u001b[38;5;241m.\u001b[39mIterable)\n\u001b[1;32m   3794\u001b[0m         \u001b[38;5;129;01mand\u001b[39;00m \u001b[38;5;28many\u001b[39m(\u001b[38;5;28misinstance\u001b[39m(x, \u001b[38;5;28mslice\u001b[39m) \u001b[38;5;28;01mfor\u001b[39;00m x \u001b[38;5;129;01min\u001b[39;00m casted_key)\n\u001b[1;32m   3795\u001b[0m     ):\n\u001b[1;32m   3796\u001b[0m         \u001b[38;5;28;01mraise\u001b[39;00m InvalidIndexError(key)\n\u001b[0;32m-> 3797\u001b[0m     \u001b[38;5;28;01mraise\u001b[39;00m \u001b[38;5;167;01mKeyError\u001b[39;00m(key) \u001b[38;5;28;01mfrom\u001b[39;00m \u001b[38;5;21;01merr\u001b[39;00m\n\u001b[1;32m   3798\u001b[0m \u001b[38;5;28;01mexcept\u001b[39;00m \u001b[38;5;167;01mTypeError\u001b[39;00m:\n\u001b[1;32m   3799\u001b[0m     \u001b[38;5;66;03m# If we have a listlike key, _check_indexing_error will raise\u001b[39;00m\n\u001b[1;32m   3800\u001b[0m     \u001b[38;5;66;03m#  InvalidIndexError. Otherwise we fall through and re-raise\u001b[39;00m\n\u001b[1;32m   3801\u001b[0m     \u001b[38;5;66;03m#  the TypeError.\u001b[39;00m\n\u001b[1;32m   3802\u001b[0m     \u001b[38;5;28mself\u001b[39m\u001b[38;5;241m.\u001b[39m_check_indexing_error(key)\n",
      "\u001b[0;31mKeyError\u001b[0m: 'content'"
     ]
    }
   ],
   "source": [
    "df_404 = df[df[\"content\"] == \"\"]"
   ]
  },
  {
   "cell_type": "code",
   "execution_count": 148,
   "id": "785db099-7942-45a8-8800-a141ad69b734",
   "metadata": {},
   "outputs": [],
   "source": [
    "index_list = df_404.index"
   ]
  },
  {
   "cell_type": "code",
   "execution_count": 93,
   "id": "48a62964-124b-4a2a-9166-339736fdb073",
   "metadata": {
    "execution": {
     "iopub.execute_input": "2024-03-22T13:37:54.902098Z",
     "iopub.status.busy": "2024-03-22T13:37:54.897753Z",
     "iopub.status.idle": "2024-03-22T13:37:55.020220Z",
     "shell.execute_reply": "2024-03-22T13:37:55.019876Z",
     "shell.execute_reply.started": "2024-03-22T13:37:54.902054Z"
    }
   },
   "outputs": [],
   "source": [
    "df_na = df[df[\"soup_html\"].isna() == True]"
   ]
  },
  {
   "cell_type": "code",
   "execution_count": 94,
   "id": "e99ffc53-c98d-48b0-a9aa-a45914a890de",
   "metadata": {
    "execution": {
     "iopub.execute_input": "2024-03-22T13:38:20.904282Z",
     "iopub.status.busy": "2024-03-22T13:38:20.902822Z",
     "iopub.status.idle": "2024-03-22T13:38:20.928269Z",
     "shell.execute_reply": "2024-03-22T13:38:20.927738Z",
     "shell.execute_reply.started": "2024-03-22T13:38:20.904227Z"
    }
   },
   "outputs": [],
   "source": [
    "index_list = df_na.index"
   ]
  },
  {
   "cell_type": "code",
   "execution_count": 95,
   "id": "ab01fa7f-3146-45f5-9deb-f6df30a095e4",
   "metadata": {
    "execution": {
     "iopub.execute_input": "2024-03-22T13:38:31.874004Z",
     "iopub.status.busy": "2024-03-22T13:38:31.873028Z",
     "iopub.status.idle": "2024-03-22T13:38:31.915161Z",
     "shell.execute_reply": "2024-03-22T13:38:31.914818Z",
     "shell.execute_reply.started": "2024-03-22T13:38:31.873971Z"
    }
   },
   "outputs": [
    {
     "data": {
      "text/plain": [
       "Index([  0,   5,  17,  24,  28,  48,  53,  62,  78,  84,  85,  92, 109, 114,\n",
       "       117, 127, 133, 144, 154, 162, 166, 169, 178, 184, 202, 208, 220, 234,\n",
       "       237, 240, 243, 250, 253, 254, 260, 276, 281, 290],\n",
       "      dtype='int64')"
      ]
     },
     "execution_count": 95,
     "metadata": {},
     "output_type": "execute_result"
    }
   ],
   "source": [
    "index_list"
   ]
  },
  {
   "cell_type": "code",
   "execution_count": 96,
   "id": "91c5daed-9eaf-4b11-b6ba-43f02787d8c4",
   "metadata": {
    "execution": {
     "iopub.execute_input": "2024-03-22T13:39:11.054052Z",
     "iopub.status.busy": "2024-03-22T13:39:11.051525Z",
     "iopub.status.idle": "2024-03-22T13:39:11.067369Z",
     "shell.execute_reply": "2024-03-22T13:39:11.066586Z",
     "shell.execute_reply.started": "2024-03-22T13:39:11.054003Z"
    }
   },
   "outputs": [
    {
     "data": {
      "text/plain": [
       "24"
      ]
     },
     "execution_count": 96,
     "metadata": {},
     "output_type": "execute_result"
    }
   ],
   "source": [
    "index_list[3]"
   ]
  },
  {
   "cell_type": "markdown",
   "id": "3123f7fa-e214-4f4b-b8d8-fa7539566e3b",
   "metadata": {},
   "source": [
    "#### test - 2024.4.7"
   ]
  },
  {
   "cell_type": "code",
   "execution_count": 5,
   "id": "8cb83262-550d-41a1-8948-3af8fdb3aef6",
   "metadata": {
    "execution": {
     "iopub.execute_input": "2024-04-21T09:34:40.219859Z",
     "iopub.status.busy": "2024-04-21T09:34:40.219159Z",
     "iopub.status.idle": "2024-04-21T09:34:40.223624Z",
     "shell.execute_reply": "2024-04-21T09:34:40.222551Z",
     "shell.execute_reply.started": "2024-04-21T09:34:40.219810Z"
    }
   },
   "outputs": [],
   "source": [
    "url = 'https://www.hankyung.com/society/article/2023041062397'"
   ]
  },
  {
   "cell_type": "code",
   "execution_count": 20,
   "id": "fbb64ba3-ec5f-4c6f-9b5c-36f21ca80d87",
   "metadata": {
    "execution": {
     "iopub.execute_input": "2024-04-21T09:42:34.736920Z",
     "iopub.status.busy": "2024-04-21T09:42:34.735756Z",
     "iopub.status.idle": "2024-04-21T09:42:34.744982Z",
     "shell.execute_reply": "2024-04-21T09:42:34.744372Z",
     "shell.execute_reply.started": "2024-04-21T09:42:34.736879Z"
    }
   },
   "outputs": [],
   "source": [
    "def get_article_text(url, driver):\n",
    "    driver.get(url=url)\n",
    "    res_src = driver.page_source\n",
    "    article_body = driver.find_element(by=By.CLASS_NAME, value=\"article-body\")\n",
    "    text = article_body.text\n",
    "    return text"
   ]
  },
  {
   "cell_type": "code",
   "execution_count": 9,
   "id": "a7ff18ed-4eb1-4ff4-b9ba-b2ddae3862f7",
   "metadata": {
    "execution": {
     "iopub.execute_input": "2024-04-21T09:35:29.609366Z",
     "iopub.status.busy": "2024-04-21T09:35:29.608743Z",
     "iopub.status.idle": "2024-04-21T09:35:34.839987Z",
     "shell.execute_reply": "2024-04-21T09:35:34.838986Z",
     "shell.execute_reply.started": "2024-04-21T09:35:29.609346Z"
    }
   },
   "outputs": [],
   "source": [
    "driver.get(url=url)"
   ]
  },
  {
   "cell_type": "code",
   "execution_count": 10,
   "id": "2ac9ba12-f2f6-424e-97ab-131200e2c590",
   "metadata": {
    "execution": {
     "iopub.execute_input": "2024-04-21T09:35:34.842512Z",
     "iopub.status.busy": "2024-04-21T09:35:34.842338Z",
     "iopub.status.idle": "2024-04-21T09:35:34.857099Z",
     "shell.execute_reply": "2024-04-21T09:35:34.856314Z",
     "shell.execute_reply.started": "2024-04-21T09:35:34.842498Z"
    }
   },
   "outputs": [],
   "source": [
    "res_src = driver.page_source"
   ]
  },
  {
   "cell_type": "code",
   "execution_count": 11,
   "id": "485ffa17-a347-4053-8891-93fbd1122ab2",
   "metadata": {
    "execution": {
     "iopub.execute_input": "2024-04-21T09:35:36.927452Z",
     "iopub.status.busy": "2024-04-21T09:35:36.927153Z",
     "iopub.status.idle": "2024-04-21T09:35:36.985261Z",
     "shell.execute_reply": "2024-04-21T09:35:36.978136Z",
     "shell.execute_reply.started": "2024-04-21T09:35:36.927432Z"
    }
   },
   "outputs": [
    {
     "data": {
      "text/plain": [
       "'부산 돌려차기 男 나가면 죽인다…구치소 동료 충격 제보 | 한국경제'"
      ]
     },
     "execution_count": 11,
     "metadata": {},
     "output_type": "execute_result"
    }
   ],
   "source": [
    "driver.title"
   ]
  },
  {
   "cell_type": "code",
   "execution_count": 12,
   "id": "755b43c4-0d3a-42a8-906e-726d6e7763a9",
   "metadata": {
    "execution": {
     "iopub.execute_input": "2024-04-21T09:35:42.955728Z",
     "iopub.status.busy": "2024-04-21T09:35:42.954489Z",
     "iopub.status.idle": "2024-04-21T09:35:42.981928Z",
     "shell.execute_reply": "2024-04-21T09:35:42.981367Z",
     "shell.execute_reply.started": "2024-04-21T09:35:42.955671Z"
    }
   },
   "outputs": [],
   "source": [
    "article_body = driver.find_element(by=By.CLASS_NAME, value=\"article-body\")"
   ]
  },
  {
   "cell_type": "code",
   "execution_count": 13,
   "id": "aad813c9-9822-4841-a0cb-bde26782d142",
   "metadata": {
    "execution": {
     "iopub.execute_input": "2024-04-21T09:35:44.595460Z",
     "iopub.status.busy": "2024-04-21T09:35:44.595261Z",
     "iopub.status.idle": "2024-04-21T09:35:44.617697Z",
     "shell.execute_reply": "2024-04-21T09:35:44.617339Z",
     "shell.execute_reply.started": "2024-04-21T09:35:44.595445Z"
    }
   },
   "outputs": [],
   "source": [
    "text = article_body.text"
   ]
  },
  {
   "cell_type": "code",
   "execution_count": 14,
   "id": "7f529751-32d0-4751-bc54-30f6c31576d9",
   "metadata": {
    "collapsed": true,
    "execution": {
     "iopub.execute_input": "2024-04-21T09:35:45.836685Z",
     "iopub.status.busy": "2024-04-21T09:35:45.836245Z",
     "iopub.status.idle": "2024-04-21T09:35:45.840997Z",
     "shell.execute_reply": "2024-04-21T09:35:45.840330Z",
     "shell.execute_reply.started": "2024-04-21T09:35:45.836663Z"
    },
    "jupyter": {
     "outputs_hidden": true
    },
    "scrolled": true
   },
   "outputs": [
    {
     "name": "stdout",
     "output_type": "stream",
     "text": [
      "사건 당시 폐쇄회로(CC)TV에 담긴 폭행 영상. /사진= SBS '그것이 알고싶다' 캡처\n",
      "일면식 없는 여성을 크게 다치게 한 혐의로 징역형을 선고받고 복역 중인 30대 남성이 피해자에 보복할 계획을 언급했다는 증언이 나왔다.\n",
      "\n",
      "지난 8일 SBS '그것이 알고싶다'는 '사라진 7분 - 부산 돌려차기 사건의 진실'이라는 제목의 영상을 공개하고, 지난해 5월 22일 발생한 '부산 돌려차기 사건'을 재조명했다.\n",
      "\n",
      "해당 사건은 부산의 한 오피스텔 공동현관 앞에서 벌어졌다. 20대 여성 A씨가 1층 엘리베이터 버튼을 누르고 기다리던 순간, 이를 뒤따라간 30대 남성 B씨가 돌려차기로 A씨의 후두부를 세게 가격했다.\n",
      "\n",
      "이에 A씨는 건물 벽면에 머리를 세게 부딪히고 바닥으로 쓰려졌다. B씨는 주먹으로 A씨를 가격하려다 멈칫하더니, A씨가 꿈틀거리자 여러 차례 발길질했고, 결국 A씨는 의식을 잃고 몸이 굳은 채 기절했다.\n",
      "\n",
      "이 사건으로 A씨는 8주 이상의 치료가 필요한 외상성 두개내출혈과 뇌 손상, 영구장애가 우려되는 다리 마비 등 심각한 상해를 입었다.\n",
      "가해 남성이 기절한 여성을 어깨에 둘러멘 뒤, CCTV 사각지대로 사라지는 모습. /사진= JTBC '사건반장' 유튜브 영상 캡처\n",
      "당시 상황이 담긴 폐쇄회로(CC)TV 영상에는 B씨가 A씨의 목덜미 부근을 잡고 끌다가 어깨에 둘러메고 CCTV가 없는 엘리베이터 옆 복도로 사라지는 장면도 담겼다. 이후 B씨는 약 7분간 그곳에 머물다 오피스텔을 빠져나갔다.\n",
      "\n",
      "7분이라는 시간 동안 성폭행이 있었을 것으로 의심된다는 게 A씨의 판단이다. A씨가 쓰러졌을 당시 병원에 온 그의 언니는 병원에서 동생의 바지를 벗겼을 때 속옷이 없었고, 오른쪽 종아리 한쪽에만 걸쳐져 있었다고 증언했다. 의료진들 역시 성폭행 가능성이 있다는 소견을 냈다.\n",
      "\n",
      "다만 피해자가 사건 당시 기절하고 기억을 잃은 데다, 경찰과 피해자 모두 사건발생일이 한참 지난 뒤에야 성폭행 가능성을 의심한 상황이라 이를 입증할 증거를 확보하지 못했다.\n",
      "\n",
      "B씨는 사건 발생 사흘 뒤 부산의 한 모텔에서 검거됐다. 경찰 조사에서 그는 길거리에서 우연히 마주친 A씨가 시비를 거는 것 같아 화가 나 우발적으로 폭행했다는 취지의 주장을 펼쳤다. 성폭행 혐의에 대해서는 \"절대 아니다\"라며 \"여자친구도 있는데 그 상태에서 성행위가 일어나는 게 말이 안 되지 않느냐\"고 해명했다.\n",
      "\n",
      "이 가운데 B씨가 전혀 반성의 기미를 보이지 않고 있다는 주변인들의 증언이 공개된 것. B씨와 함께 구치소 생활을 했다는 한 제보자는 \"(B씨는) '언제든지 틈만 보이면 탈옥할 거다', '나가면 피해자를 찾아갈 거다', '죽여버리고 싶다. 그때 맞은 것 배로 때려 주겠다'라고 했다\"며 \"피해자 주민등록번호, 이름, 집 주소를 알고 있었고, 피해자에게 이 사실을 알려주고 싶었다\"고 전했다.\n",
      "\n",
      "그러면서 \"(B씨는) 전혀 반성하지 않고 있고, 반성하는 사람이 그런 식으로 말할 수가 없다\"며 \"본인은 억울하다며 '재판부 쓰레기다', '걔들도 다 죽어야 한다'고 이렇게 얘기한다\"고 말했다.\n",
      "\n",
      "한편 전직 경호업체 직원인 B씨는 강도상해죄로 6년을 복역한 뒤 공동주거침입으로 또다시 2년을 복역하고 나와 재차 범죄를 저지른 것으로 경찰은 파악했다.\n",
      "\n",
      "현재 B씨는 이번 사건과 관련, 살인미수 혐의로 1심에서 12년형을 선고받고 복역 중이며, 형량이 과도하다는 취지로 항소했다. B씨는 항소이유서에 \"이 정도 폭행이 왜 살인미수냐\"라며 \"형량 12년은 너무하다\"고 밝혔다.\n",
      "\n",
      "김세린 한경닷컴 기자 celine@hankyung.com\n"
     ]
    }
   ],
   "source": [
    "print(text)"
   ]
  },
  {
   "cell_type": "markdown",
   "id": "d9ab717c-51a7-41db-91f1-b38f2d9d7c2f",
   "metadata": {},
   "source": [
    "#### selenium test"
   ]
  },
  {
   "cell_type": "code",
   "execution_count": 142,
   "id": "5fcee23b-81a0-4be2-b430-e14d91fa9c69",
   "metadata": {
    "execution": {
     "iopub.execute_input": "2024-03-22T14:49:43.084901Z",
     "iopub.status.busy": "2024-03-22T14:49:43.048230Z",
     "iopub.status.idle": "2024-03-22T14:49:44.977751Z",
     "shell.execute_reply": "2024-03-22T14:49:44.976999Z",
     "shell.execute_reply.started": "2024-03-22T14:49:43.083074Z"
    }
   },
   "outputs": [],
   "source": [
    "url = df.loc[index_list[3], \"URL\"]\n",
    "driver.get(url=url)"
   ]
  },
  {
   "cell_type": "code",
   "execution_count": 145,
   "id": "aed80c51-483e-4180-856f-802d6dcab2a6",
   "metadata": {
    "execution": {
     "iopub.execute_input": "2024-03-22T14:51:03.718201Z",
     "iopub.status.busy": "2024-03-22T14:51:03.711226Z",
     "iopub.status.idle": "2024-03-22T14:51:03.740717Z",
     "shell.execute_reply": "2024-03-22T14:51:03.739918Z",
     "shell.execute_reply.started": "2024-03-22T14:51:03.718138Z"
    }
   },
   "outputs": [
    {
     "data": {
      "text/plain": [
       "selenium.webdriver.chrome.webdriver.WebDriver"
      ]
     },
     "execution_count": 145,
     "metadata": {},
     "output_type": "execute_result"
    }
   ],
   "source": [
    "type(driver)"
   ]
  },
  {
   "cell_type": "code",
   "execution_count": 147,
   "id": "63582f57-1878-4332-bc2c-5c9edacfeb60",
   "metadata": {
    "execution": {
     "iopub.execute_input": "2024-03-22T14:53:10.423844Z",
     "iopub.status.busy": "2024-03-22T14:53:10.422131Z",
     "iopub.status.idle": "2024-03-22T14:53:10.499323Z",
     "shell.execute_reply": "2024-03-22T14:53:10.499008Z",
     "shell.execute_reply.started": "2024-03-22T14:53:10.423811Z"
    },
    "scrolled": true
   },
   "outputs": [],
   "source": [
    "res_src = driver.page_source"
   ]
  },
  {
   "cell_type": "code",
   "execution_count": 157,
   "id": "9f126ed7-928b-4542-887e-545076d52e58",
   "metadata": {
    "execution": {
     "iopub.execute_input": "2024-03-23T07:35:58.826317Z",
     "iopub.status.busy": "2024-03-23T07:35:58.823081Z",
     "iopub.status.idle": "2024-03-23T07:35:59.117542Z",
     "shell.execute_reply": "2024-03-23T07:35:59.115186Z",
     "shell.execute_reply.started": "2024-03-23T07:35:58.826261Z"
    }
   },
   "outputs": [
    {
     "name": "stdout",
     "output_type": "stream",
     "text": [
      "길거리서 9살 초등생 성추행한 70대男, 아빠가 잡았다 - 파이낸셜뉴스\n"
     ]
    }
   ],
   "source": [
    "res_title = driver.title\n",
    "print(res_title)"
   ]
  },
  {
   "cell_type": "code",
   "execution_count": 98,
   "id": "93a995f2-6803-446d-b452-d24868f58fc2",
   "metadata": {
    "execution": {
     "iopub.execute_input": "2024-03-22T13:40:02.158897Z",
     "iopub.status.busy": "2024-03-22T13:40:02.155001Z",
     "iopub.status.idle": "2024-03-22T13:40:05.980865Z",
     "shell.execute_reply": "2024-03-22T13:40:05.970235Z",
     "shell.execute_reply.started": "2024-03-22T13:40:02.158872Z"
    }
   },
   "outputs": [],
   "source": [
    "result = get_html_selenium(url=df.loc[index_list[3], \"URL\"])"
   ]
  },
  {
   "cell_type": "code",
   "execution_count": 99,
   "id": "2cf2c4f4-46fd-4370-af4d-faf0c4208f60",
   "metadata": {
    "execution": {
     "iopub.execute_input": "2024-03-22T13:40:22.267520Z",
     "iopub.status.busy": "2024-03-22T13:40:22.257879Z",
     "iopub.status.idle": "2024-03-22T13:40:22.291596Z",
     "shell.execute_reply": "2024-03-22T13:40:22.291084Z",
     "shell.execute_reply.started": "2024-03-22T13:40:22.267330Z"
    }
   },
   "outputs": [
    {
     "data": {
      "text/plain": [
       "selenium.webdriver.remote.webelement.WebElement"
      ]
     },
     "execution_count": 99,
     "metadata": {},
     "output_type": "execute_result"
    }
   ],
   "source": [
    "type(result)"
   ]
  },
  {
   "cell_type": "code",
   "execution_count": 106,
   "id": "78a7f2da-b274-4b54-a7d4-608c01103552",
   "metadata": {
    "execution": {
     "iopub.execute_input": "2024-03-22T13:56:07.523468Z",
     "iopub.status.busy": "2024-03-22T13:56:07.521580Z",
     "iopub.status.idle": "2024-03-22T13:56:07.710126Z",
     "shell.execute_reply": "2024-03-22T13:56:07.709777Z",
     "shell.execute_reply.started": "2024-03-22T13:56:07.523436Z"
    },
    "scrolled": true
   },
   "outputs": [],
   "source": [
    "res_html = result.get_attribute('outerHTML')"
   ]
  },
  {
   "cell_type": "code",
   "execution_count": 108,
   "id": "0dbff6fa-32f8-41a3-8154-24cff8640f6f",
   "metadata": {
    "execution": {
     "iopub.execute_input": "2024-03-22T13:57:39.337881Z",
     "iopub.status.busy": "2024-03-22T13:57:39.335987Z",
     "iopub.status.idle": "2024-03-22T13:57:39.425725Z",
     "shell.execute_reply": "2024-03-22T13:57:39.425385Z",
     "shell.execute_reply.started": "2024-03-22T13:57:39.337822Z"
    },
    "scrolled": true
   },
   "outputs": [],
   "source": [
    "res_bs = BeautifulSoup(res_html, 'html.parser')"
   ]
  },
  {
   "cell_type": "code",
   "execution_count": 141,
   "id": "36dc7048-c597-4a2a-a7c9-3913b0a6d8c9",
   "metadata": {
    "collapsed": true,
    "execution": {
     "iopub.execute_input": "2024-03-22T14:47:49.625517Z",
     "iopub.status.busy": "2024-03-22T14:47:49.624778Z",
     "iopub.status.idle": "2024-03-22T14:47:49.680407Z",
     "shell.execute_reply": "2024-03-22T14:47:49.678415Z",
     "shell.execute_reply.started": "2024-03-22T14:47:49.625496Z"
    },
    "jupyter": {
     "outputs_hidden": true
    },
    "scrolled": true
   },
   "outputs": [
    {
     "data": {
      "text/plain": [
       "'<body>\\n <!-- Google Tag Manager (noscript) -->\\n <noscript>\\n  <iframe height=\"0\" src=\"https://www.googletagmanager.com/ns.html?id=GTM-MB6S9V\" style=\"display:none;visibility:hidden\" width=\"0\">\\n  </iframe>\\n </noscript>\\n <!-- End Google Tag Manager (noscript) -->\\n <div id=\"fn_wrap\">\\n  <!--헤더-->\\n  <script>\\n   console.log(\"search_fn\");\\n    $(function() {\\n        $(\"#main_top\").off(\"click\").on(\\'click\\', function() {\\n            //console.log(\"모바일 메인 검색 상단 클릭\"+this.id);\\n            search_fn(this.id);\\n        });\\n\\n        $(\"#main_top_search_input\").keypress(function(e) {\\n            console.log($(this).attr(\"data-id\"));\\n            if (e.which == 13) {\\n                var searchId =$(this).attr(\"data-id\");\\n                search_fn(searchId);\\n            }\\n        });\\n    });\\n\\n    function search_fn(id){\\n        var searchId = id;\\n        console.log(\"search_fn\"+searchId);\\n        if ($(\"#\"+searchId+\"_search_input\").val()==\"\"&&$(\"#\"+searchId+\"_search_input\").val().length<2) {\\n            alert(\"검색어를 입력해주세요.\");\\n            return false;\\n        }\\n        if ($(\"#\"+searchId+\"_search_input\").val()!=\"\"&&$(\"#\"+searchId+\"_search_input\").val().length<2) {\\n            alert(\"검색어를 두글자이상 입력해주세요.\");\\n            return false;\\n        }\\n\\n        $(\"#header_SearTxt\").val($(\"#\"+searchId+\"_search_input\").val());\\n        $(\"#header_page\").val(\"0\");\\n        $(\"#searchForm\")[0].submit();\\n    }\\n\\n    function fn_getWeatherXmlHtml(url , ulId){\\n        console.log(\\'fn_getWeatherXmlHtml\\');\\n        $.ajax({\\n            type: \"GET\",\\n            url: url,\\n            cache : true,\\n            async : true,\\n            dataType: \"html\",\\n            success: function(data) {\\n                if(data.trim() != \\'\\'){\\n                    $(\"#\"+ulId).html(data);\\n                    slickInit(ulId);\\n                }\\n            },complete : function(xhr, status) {\\n                if(status == \\'sucess\\'){\\n                    slickInit(ulId);\\n                }\\n            },\\n            error: function (request, status, error) {\\n                console.log(\"request.responseText\",request.responseText);\\n                //alert(request.responseText);\\n            }\\n        });\\n\\n    };\\n    function slickInit(slickClass) {\\n        console.log(\\'slickInit\\');\\n        if(\"todayWeatherRoll\" == slickClass) {\\n            if ($(\"div.weatherbox\").children().length > 0) {\\n                $(\\'.weatherbox\\').not(\\'.slick-initialized\\').slick({\\n                    arrows: false,\\n                    vertical: true,\\n                    autoplay: true,\\n                    autoplaySpeed: 3000,\\n                    speed: 1,\\n                    swipe: false\\n                });\\n\\n            }\\n        }else if(\"noticeAlam\"==slickClass){\\n            if($(\"div.loadNoticeNews\").children().length > 0 ){\\n                $(\\'.loadNoticeNews\\').not(\\'.slick-initialized\\').slick({\\n                    arrows: false,\\n                    vertical: true,\\n                    autoplay: true,\\n                    autoplaySpeed: 3000,\\n                    speed: 1,\\n                    swipe: false\\n                });\\n            }\\n        }else{\\n            if($(\"div.realTimeNews\").children().length>0){\\n                $(\\'.realTimeNews\\').not(\\'.slick-initialized\\').slick({\\n                    arrows: false,\\n                    vertical: true,\\n                    autoplay: true,\\n                    autoplaySpeed: 3000,\\n                    swipe: false,\\n                    pauseOnHover:true,\\n                    cssEase: \\'cubic-bezier(0.645, 0.045, 0.355, 1.000)\\',\\n                    infinite: true\\n                });\\n            }\\n        }\\n    }\\n  </script>\\n  <header class=\"sub\">\\n   <div class=\"inner\">\\n    <!--로고-->\\n    <div class=\"fn_logo\">\\n     <a href=\"/\">\\n      <span class=\"blind\">\\n       파이낸셜뉴스&gt;\\n      </span>\\n     </a>\\n    </div>\\n    <!--왼쪽버튼-->\\n    <div class=\"wrap_side\">\\n     <div class=\"side_btn\">\\n      <button class=\"ico_allmenu top_toggle_btn\" type=\"button\">\\n       <span class=\"blind\">\\n        전체메뉴\\n       </span>\\n      </button>\\n      <button class=\"ico_search top_toggle_btn\" type=\"button\">\\n       <span class=\"blind\">\\n        검색\\n       </span>\\n      </button>\\n     </div>\\n     <div class=\"quick_gnb\">\\n      <ul class=\"list_quick\">\\n       <li>\\n        <a href=\"/userinfo/gudok\">\\n         구독신청\\n        </a>\\n       </li>\\n      </ul>\\n      <div class=\"icon_quick\">\\n      </div>\\n     </div>\\n    </div>\\n   </div>\\n   <!--전체 메뉴-->\\n   <div class=\"top_toggle_menu all_menu hd_menu\">\\n    <div class=\"inner_box\">\\n     <dl>\\n      <dt>\\n       <a href=\"/section/002001002002\">\\n        금융·증권\\n       </a>\\n      </dt>\\n      <dd>\\n       <ul class=\"list_2depth\">\\n        <li>\\n         <a href=\"/section/002002000\">\\n          금융\\n         </a>\\n        </li>\\n        <li>\\n         <a href=\"/section/002001000\">\\n          증권\\n         </a>\\n        </li>\\n       </ul>\\n      </dd>\\n     </dl>\\n     <dl>\\n      <dt>\\n       <a href=\"/section/002003000\">\\n        부동산\\n       </a>\\n      </dt>\\n      <dd>\\n       <ul class=\"list_2depth\">\\n        <li>\\n         <a href=\"/section/002003002\">\\n          정책\\n         </a>\\n        </li>\\n        <li>\\n         <a href=\"/section/002003003\">\\n          건설\\n         </a>\\n        </li>\\n        <li>\\n         <a href=\"/section/002003004\">\\n          철도·항공 ·선박\\n         </a>\\n        </li>\\n        <li>\\n         <a href=\"/section/002003001\">\\n          부동산 일반\\n         </a>\\n        </li>\\n       </ul>\\n      </dd>\\n     </dl>\\n     <dl>\\n      <dt>\\n       <a href=\"/section/002004002005\">\\n        산업·IT\\n       </a>\\n      </dt>\\n      <dd>\\n       <ul class=\"list_2depth\">\\n        <li>\\n         <a href=\"/section/002004001\">\\n          산업\\n         </a>\\n        </li>\\n        <li>\\n         <a href=\"/section/002005001\">\\n          통신·방송\\n         </a>\\n        </li>\\n        <li>\\n         <a href=\"/section/002005004\">\\n          게임\\n         </a>\\n        </li>\\n        <li>\\n         <a href=\"/section/002005006\">\\n          인터넷\\n         </a>\\n        </li>\\n        <li>\\n         <a href=\"/section/002010000\">\\n          블록체인\\n         </a>\\n        </li>\\n        <li>\\n         <a href=\"/section/002006000\">\\n          의학·과학\\n         </a>\\n        </li>\\n       </ul>\\n      </dd>\\n     </dl>\\n     <dl>\\n      <dt>\\n       <a href=\"/section/002008000\">\\n        경제\\n       </a>\\n      </dt>\\n      <dd>\\n       <ul class=\"list_2depth\">\\n        <li>\\n         <a href=\"/section/002008001\">\\n          경제 일반\\n         </a>\\n        </li>\\n        <li>\\n         <a href=\"/section/002007000\">\\n          생활 경제\\n         </a>\\n        </li>\\n       </ul>\\n      </dd>\\n     </dl>\\n     <dl>\\n      <dt>\\n       <a href=\"/section/001001000\">\\n        정치\\n       </a>\\n      </dt>\\n      <dd>\\n       <ul class=\"list_2depth\">\\n        <li>\\n         <a href=\"/section/001001002\">\\n          대통령실\\n         </a>\\n        </li>\\n        <li>\\n         <a href=\"/section/001001003\">\\n          국회·정당\\n         </a>\\n        </li>\\n        <li>\\n         <a href=\"/section/001001005\">\\n          북한\\n         </a>\\n        </li>\\n        <li>\\n         <a href=\"/section/001001006\">\\n          외교·국방\\n         </a>\\n        </li>\\n       </ul>\\n      </dd>\\n     </dl>\\n     <dl>\\n      <dt>\\n       <a href=\"/section/001003000\">\\n        사회\\n       </a>\\n      </dt>\\n      <dd>\\n       <ul class=\"list_2depth\">\\n        <li>\\n         <a href=\"/section/001003002\">\\n          사건·사고\\n         </a>\\n        </li>\\n        <li>\\n         <a href=\"/section/001003003\">\\n          검찰·법원\\n         </a>\\n        </li>\\n        <li>\\n         <a href=\"/section/001001004\">\\n          행정·지자체\\n         </a>\\n        </li>\\n        <li>\\n         <a href=\"/section/001004000\">\\n          교육\\n         </a>\\n        </li>\\n        <li>\\n         <a href=\"/section/001003006\">\\n          전국\\n         </a>\\n        </li>\\n       </ul>\\n      </dd>\\n     </dl>\\n     <dl>\\n      <dt>\\n       <a href=\"/section/001002000\">\\n        국제\\n       </a>\\n      </dt>\\n      <dd>\\n       <ul class=\"list_2depth\">\\n        <li>\\n         <a href=\"/section/001002002\">\\n          국제 경제\\n         </a>\\n        </li>\\n        <li>\\n         <a href=\"/section/001002003\">\\n          국제 정치\\n         </a>\\n        </li>\\n        <li>\\n         <a href=\"/section/001002004\">\\n          국제 사회\\n         </a>\\n        </li>\\n       </ul>\\n      </dd>\\n     </dl>\\n     <dl>\\n      <dt>\\n       <a href=\"/section/005000000\">\\n        라이프\\n       </a>\\n      </dt>\\n      <dd>\\n       <ul class=\"list_2depth\">\\n        <li>\\n         <a href=\"https://star.fnnews.com/\" target=\"_blank\">\\n          연예\\n         </a>\\n        </li>\\n        <li>\\n         <a href=\"/section/005001000\">\\n          패션/뷰티\\n         </a>\\n        </li>\\n        <li>\\n         <a href=\"/section/004002000\">\\n          스포츠\\n         </a>\\n        </li>\\n        <li>\\n         <a href=\"/section/005002000\">\\n          푸드·리빙\\n         </a>\\n        </li>\\n        <li>\\n         <a href=\"/section/005003000\">\\n          레저·문화\\n         </a>\\n        </li>\\n       </ul>\\n      </dd>\\n     </dl>\\n     <dl>\\n      <dt>\\n       <a href=\"/opinion\">\\n        오피니언\\n       </a>\\n      </dt>\\n      <dd>\\n       <ul class=\"list_2depth\">\\n        <li>\\n         <a href=\"/section/003001000\">\\n          사설/칼럼\\n         </a>\\n        </li>\\n        <li>\\n         <a href=\"/section/003002000\">\\n          사외 칼럼\\n         </a>\\n        </li>\\n       </ul>\\n      </dd>\\n     </dl>\\n     <dl>\\n      <dt>\\n       <a href=\"/special\">\\n        기획·연재\\n       </a>\\n      </dt>\\n      <dd>\\n       <ul class=\"list_2depth\">\\n        <li>\\n         <a href=\"/listicle\">\\n          fn파인더\\n         </a>\\n        </li>\\n        <li>\\n         <a href=\"/series\">\\n          fn시리즈\\n         </a>\\n        </li>\\n        <li>\\n         <a href=\"/hotissue\">\\n          핫이슈+\\n         </a>\\n        </li>\\n       </ul>\\n      </dd>\\n     </dl>\\n     <dl>\\n      <dt>\\n       <a href=\"/fnEdition\">\\n        fnEdition\\n       </a>\\n      </dt>\\n      <dd>\\n       <ul class=\"list_2depth\">\\n        <li>\\n         <a href=\"/photo\">\\n          포토\\n         </a>\\n        </li>\\n        <li>\\n         <a href=\"/newsletter\">\\n          뉴스레터\\n         </a>\\n        </li>\\n        <li>\\n         <a href=\"/reporteron\">\\n          기자ON\\n         </a>\\n        </li>\\n        <li>\\n         <a href=\"/fntv\">\\n          fntv\\n         </a>\\n        </li>\\n        <li>\\n         <a href=\"/todaypaper\">\\n          신문보기\\n         </a>\\n        </li>\\n        <li>\\n         <a href=\"/survey\">\\n          fnSurvey\\n         </a>\\n        </li>\\n       </ul>\\n      </dd>\\n     </dl>\\n     <dl>\\n      <dt>\\n       <a href=\"/election\">\\n        4·10 총선\\n       </a>\\n      </dt>\\n      <dd>\\n       <a href=\"http://info.nec.go.kr/main/showDocument.xhtml?electionId=0020240410&amp;topMenuId=CP\" target=\"_blank\">\\n        후보자\\n       </a>\\n      </dd>\\n      <dd>\\n       <a href=\"/election/localnews?search_region=21\">\\n        선거뉴스\\n       </a>\\n      </dd>\\n     </dl>\\n     <button class=\"ico_close top_toggle_close\" type=\"button\">\\n      <span class=\"blind\">\\n       닫기\\n      </span>\\n     </button>\\n    </div>\\n    <div class=\"ft_menu\">\\n     <ul class=\"list_ft\">\\n      <li>\\n       <a href=\"/userinfo/greeting\">\\n        회사소개\\n       </a>\\n      </li>\\n      <li>\\n       <a href=\"/userinfo/partner\">\\n        광고문의\\n       </a>\\n      </li>\\n      <li>\\n       <a href=\"/userinfo/business\">\\n        제휴문의\\n       </a>\\n      </li>\\n      <li>\\n       <a href=\"/userinfo/policy\">\\n        개인정보취급방침\\n       </a>\\n      </li>\\n      <li>\\n       <a href=\"/userinfo/copyright\">\\n        저작권규약\\n       </a>\\n      </li>\\n      <li>\\n       <a href=\"/userinfo/noemail\">\\n        이메일주소무단수집거부\\n       </a>\\n      </li>\\n      <li>\\n       <a href=\"/userinfo/gudok\">\\n        구독신청\\n       </a>\\n      </li>\\n      <li>\\n       <a href=\"/userinfo/correction\">\\n        고충처리\\n       </a>\\n      </li>\\n     </ul>\\n    </div>\\n   </div>\\n   <!--검색-->\\n   <div class=\"top_toggle_menu hd_search\">\\n    <div class=\"inner_box\">\\n     <div class=\"wrap_search\">\\n      <form action=\"\" class=\"inner_schall\" method=\"get\" name=\"search\" onsubmit=\"return false\">\\n       <div class=\"box_search\">\\n        <input class=\"tf_keyword\" data-id=\"main_top\" id=\"main_top_search_input\" name=\"search_txt\" placeholder=\"검색어를 입력해주세요\" type=\"text\" value=\"\"/>\\n        <button class=\"ico_search\" id=\"main_top\" type=\"button\">\\n         <span class=\"blind\">\\n          검색\\n         </span>\\n        </button>\\n       </div>\\n       <input id=\"main_top_search_btn_yn\" type=\"hidden\" value=\"1\"/>\\n      </form>\\n      <form action=\"/search\" id=\"searchForm\" method=\"get\" name=\"searchForm\">\\n       <input id=\"header_SearTxt\" name=\"search_txt\" type=\"hidden\" value=\"\"/>\\n       <input id=\"header_page\" name=\"page\" type=\"hidden\" value=\"\"/>\\n      </form>\\n     </div>\\n     <button class=\"ico_close top_toggle_close\" type=\"button\">\\n      <span class=\"blind\">\\n       닫기\\n      </span>\\n     </button>\\n    </div>\\n   </div>\\n   <style>\\n   </style>\\n   <script>\\n    const top_toggle_btn = document.getElementsByClassName(\"top_toggle_btn\");\\n        const top_toggle_close = document.getElementsByClassName(\"top_toggle_close\");\\n        const top_toggle_menu = document.getElementsByClassName(\"top_toggle_menu\");\\n        const allmenu = window.getComputedStyle(top_toggle_menu[0]);\\n        const search = window.getComputedStyle(top_toggle_menu[1]);\\n        const body = document.body;\\n        top_toggle_btn[0].addEventListener(\"click\", toggleup);\\n        function toggleup() {\\n            if (allmenu.display === \\'none\\') {\\n                top_toggle_menu[1].style.display = \"none\";\\n                top_toggle_menu[0].style.display = \"block\";\\n            } else {\\n                top_toggle_menu[0].style.display = \"none\";\\n            }\\n        }\\n        top_toggle_btn[1].addEventListener(\"click\", toggleup1);\\n        function toggleup1() {\\n            if (search.display === \\'none\\') {\\n                top_toggle_menu[0].style.display = \"none\";\\n                top_toggle_menu[1].style.display = \"block\";\\n            } else {\\n                top_toggle_menu[1].style.display = \"none\";\\n            }\\n        }\\n        top_toggle_close[0].addEventListener(\"click\", toggledown);\\n        top_toggle_close[1].addEventListener(\"click\", toggledown);\\n        function toggledown() {\\n            top_toggle_menu[0].style.display = \"none\";\\n            top_toggle_menu[1].style.display = \"none\";\\n        }\\n\\n\\n        function fn_loadHtml(url , ulId) {\\n\\n            $.ajax({\\n                type: \"GET\",\\n                url: url,\\n                cache: true,\\n                async: true,\\n                dataType: \"html\",\\n                success: function (data) {\\n                    if (data.trim() != \\'\\') {\\n                        $(\"#\" + ulId).empty();\\n                        $(\"#\" + ulId).html(data);\\n                    }\\n                },\\n                error: function (request, status, error) {\\n                    console.log(\"request.responseText\", request.responseText);\\n                    //alert(request.responseText);\\n                }\\n            });\\n        }\\n   </script>\\n  </header>\\n  <!--컨텐츠-->\\n  <div class=\"container\">\\n   <div class=\"ad_banner_leftWing stickyAd\" id=\"add_view_01\">\\n    <!-- /3199294/fnnews_view_article_A -->\\n    <div data-google-query-id=\"CNKvyLD_h4UDFTOP6QUdU8sMeA\" id=\"div-gpt-ad-1710304601107-0\" style=\"min-width: 300px; min-height: 250px;\">\\n     <div id=\"google_ads_iframe_/3199294/fnnews_view_wing_A_0__container__\" style=\"border: 0pt none;\">\\n      <iframe aria-label=\"Advertisement\" data-google-container-id=\"1\" data-load-complete=\"true\" frameborder=\"0\" height=\"600\" id=\"google_ads_iframe_/3199294/fnnews_view_wing_A_0\" marginheight=\"0\" marginwidth=\"0\" name=\"google_ads_iframe_/3199294/fnnews_view_wing_A_0\" scrolling=\"no\" style=\"border: 0px; vertical-align: bottom;\" tabindex=\"0\" title=\"3rd party ad content\" width=\"160\">\\n      </iframe>\\n     </div>\\n    </div>\\n   </div>\\n   <div class=\"inner_box view\">\\n    <!-- socials navbar -->\\n    <div class=\"share_side sticky\" id=\"navbar\">\\n     <div class=\"share\">\\n      <div class=\"btn_share\">\\n       <button class=\"ico_share showBtn\" onclick=\"snsFunction()\" type=\"button\">\\n        <span class=\"blind\">\\n         공유하기\\n        </span>\\n       </button>\\n       <span class=\"caption\">\\n        공유\\n       </span>\\n      </div>\\n      <div class=\"box_share show-content\" id=\"snsShow\">\\n       <ul class=\"list_sns\">\\n        <li>\\n         <a class=\"social kakaoTalk\" href=\"javascript:;\" onclick=\\'SocialShare.shareOnKakao(\"\");\\' title=\"카카오톡\">\\n          <i class=\"ico_kakaoTalk\">\\n           <span class=\"blind\">\\n            카카오톡\\n           </span>\\n          </i>\\n         </a>\\n        </li>\\n        <li>\\n         <a class=\"social facebook\" href=\"javascript:;\" onclick=\\'SocialShare.shareOnFacebook(\"\");\\' title=\"페이스북\">\\n          <i class=\"ico_facebook\">\\n           <span class=\"blind\">\\n            페이스북\\n           </span>\\n          </i>\\n         </a>\\n        </li>\\n        <li>\\n         <a class=\"social twitter\" href=\"javascript:;\" onclick=\\'SocialShare.shareOnTwitter(\"\");\\' title=\"트위터\">\\n          <i class=\"ico_twitter\">\\n           <span class=\"blind\">\\n            트위터\\n           </span>\\n          </i>\\n         </a>\\n        </li>\\n        <li>\\n         <a class=\"social naver\" href=\"javascript:;\" onclick=\\'SocialShare.shareOnNaver(\"\");\\' title=\"네이버블로그\">\\n          <i class=\"ico_naver\">\\n           <span class=\"blind\">\\n            네이버블로그\\n           </span>\\n          </i>\\n         </a>\\n        </li>\\n        <li>\\n         <a class=\"social url\" href=\"javascript:;\" onclick=\\'SocialShare.shareOnClipboard(\"\");\\' title=\"주소복사\">\\n          <i class=\"ico_url\">\\n           <span class=\"blind\">\\n            주소복사\\n           </span>\\n          </i>\\n         </a>\\n        </li>\\n       </ul>\\n      </div>\\n     </div>\\n    </div>\\n    <!--뷰 헤더-->\\n    <div class=\"wrap_view_hd\">\\n     <span class=\"location\">\\n      <span class=\"depth-1\">\\n       사회\\n      </span>\\n      <i class=\"arrow right\">\\n      </i>\\n      <a class=\"tit_thumb\" href=\"/section/001003002\">\\n       사건·사고\\n      </a>\\n     </span>\\n     <h1 class=\"tit_thumb\">\\n      길거리서 9살 초등생 성추행한 70대男, 아빠가 잡았다\\n     </h1>\\n     <div class=\"hd_bottom flex_btw\">\\n      <div class=\"info\">\\n       <span class=\"row-1\">\\n        <p class=\"writer\">\\n         김수연 기자\\n        </p>\\n        <!-- 공동바이라인 <p class=\"writer\">김철수 기자</p> -->\\n       </span>\\n       <span class=\"row-2\">\\n        <p>\\n         파이낸셜뉴스\\n        </p>\\n        <p>\\n         입력 2023.12.15 06:50\\n        </p>\\n        <p>\\n         수정 2023.12.15 17:43\\n        </p>\\n       </span>\\n      </div>\\n      <div class=\"option\">\\n       <ul class=\"list_option\">\\n        <li>\\n         <button class=\"ico_zoom\" onclick=\"getFontSize(1);\" type=\"button\">\\n          <span class=\"blind\">\\n           확대\\n          </span>\\n         </button>\\n        </li>\\n        <li>\\n         <button class=\"ico_zoomOut\" onclick=\"getFontSize(0);\" type=\"button\">\\n          <span class=\"blind\">\\n           축소\\n          </span>\\n         </button>\\n        </li>\\n        <li>\\n         <button class=\"ico_print\" onclick=\"fnPrint(\\'202312150640155187\\');\" type=\"button\">\\n          <span class=\"blind\">\\n           출력\\n          </span>\\n         </button>\\n        </li>\\n       </ul>\\n      </div>\\n     </div>\\n    </div>\\n    <div class=\"flex_btw pt_40 bdt_2px-1\">\\n     <!--왼쪽 컨테이너-->\\n     <div class=\"col-630\">\\n      <!--뷰 영역-->\\n      <div class=\"cont_view\" id=\"article_content\">\\n       <!-- 증권 코드 -->\\n       <!-- 증권 코드 -->\\n       <!--요약-->\\n       <!--내용 컨텐츠-->\\n       <div class=\"view_img\">\\n        <div class=\"box_img\">\\n         <img alt=\"이준석 기자\" id=\"202306261400481066\" src=\"https://image.fnnews.com/resource/media/image/2023/06/26/202306261400481066_l.jpg\"/>\\n        </div>\\n        <figcaption class=\"caption\">\\n         이준석 기자\\n        </figcaption>\\n       </div>\\n       <div>\\n        <iframe allowtransparency=\"true\" frameborder=\"0\" height=\"100\" hspace=\"0\" marginheight=\"0\" marginwidth=\"0\" scrolling=\"no\" src=\"//io1.innorame.com/imp/be2B7A74g2zX.iframe\" style=\"width:280px;min-width:100%;position:relative;z-index:9998;\" vspace=\"0\" width=\"100%\">\\n        </iframe>\\n        <div>\\n        </div>\\n       </div>\\n       <br/>\\n       [파이낸셜뉴스] 길거리에서 9살 초등학생을 성추행한 70대 남성이 경찰에 붙잡혔다. 이 남성은 피해 아동의 아버지에게 붙잡혀 현행범으로 체포됐다.\\n       <br/>\\n       <br/>\\n       14일 경찰에 따르면 서울경찰청 여성청소년범죄수사대는 전날 성폭력범죄의 처벌 등에 관한 특례법(성폭력처벌법) 위반 혐의로 70대 남성 A씨에 대한 구속영장을 신청했다고 밝혔다.\\n       <br/>\\n       <br/>\\n       A씨는 지난 12일 오후 8시30분께 서울 동작구의 한 길거리에서 9살 여자 초등학생을 불러 세운 뒤 신체 등을 만진 혐의를 받는다.\\n       <br/>\\n       <br/>\\n       피해 아동은 자신의 피해 사실을 아버지인 B씨에게 알렸다.\\n 이러한 사실을 알게 된 B씨는 직접 A씨를 붙잡은 것으로 전해졌다.\\n       <div class=\"ad_center\" id=\"ad_body2\">\\n        <div data-google-query-id=\"CLGyyLD_h4UDFTOP6QUdU8sMeA\" id=\"div-gpt-ad-1710304158451-0\" style=\"min-width: 300px; min-height: 250px;text-align: center;\">\\n         <div id=\"google_ads_iframe_/3199294/fnnews_view_article_A_0__container__\" style=\"border: 0pt none;\">\\n          <iframe aria-label=\"Advertisement\" data-google-container-id=\"4\" data-load-complete=\"true\" frameborder=\"0\" height=\"250\" id=\"google_ads_iframe_/3199294/fnnews_view_article_A_0\" marginheight=\"0\" marginwidth=\"0\" name=\"google_ads_iframe_/3199294/fnnews_view_article_A_0\" scrolling=\"no\" style=\"border: 0px; vertical-align: bottom;\" tabindex=\"0\" title=\"3rd party ad content\" width=\"300\">\\n          </iframe>\\n         </div>\\n        </div>\\n       </div>\\n       <br/>\\n       <br/>\\n       B씨에게 붙잡힌 A씨는 출동한 경찰에 의해 현행범으로 체포됐다.\\n       <br/>\\n       <br/>\\n       경찰 관계자는 \"구체적인 내용은 확인이 어렵다\"면서도 \"(A씨에 대한) 구속영장을 신청한 건 맞다\"고 전했다.\\n       <br/>\\n       <br/>\\n       <span id=\"customByline\">\\n        newssu@fnnews.com 김수연 기자\\n       </span>\\n       <br/>\\n       <!--내용 컨텐츠-->\\n       <!--기사 바이라인-->\\n       <!--기사 키워드-->\\n       <div class=\"etr-keyword\">\\n        <ul class=\"list_keyword\">\\n         <li>\\n          <a class=\"keyword_item\" href=\"/search?search_txt=초등학생\">\\n           #초등학생\\n          </a>\\n         </li>\\n         <li>\\n          <a class=\"keyword_item\" href=\"/search?search_txt=아빠\">\\n           #아빠\\n          </a>\\n         </li>\\n         <li>\\n          <a class=\"keyword_item\" href=\"/search?search_txt=성추행\">\\n           #성추행\\n          </a>\\n         </li>\\n         <li>\\n          <a class=\"keyword_item\" href=\"/search?search_txt=길거리\">\\n           #길거리\\n          </a>\\n         </li>\\n        </ul>\\n       </div>\\n       <!--본문 관련기사-->\\n       <!--리액션 버튼-->\\n       <!--실시간 핫클릭 이슈-->\\n       <div class=\"rt_issue bd_box_lg\" id=\"hotNewsArea\">\\n        <h3 class=\"tit_sec\">\\n         실시간\\n         <em class=\"txt_red\">\\n          핫클릭 이슈\\n         </em>\\n        </h3>\\n        <ul class=\"list_issue\">\\n         <li class=\"lank\">\\n          <a class=\"tit_thumb\" href=\"/news/202403221004482330?pg=hot\">\\n           \\'띠리릭\\' 20대 여성 집 도어록 열고 침입한 택배원, 알고보니...\\n          </a>\\n         </li>\\n         <li class=\"lank\">\\n          <a class=\"tit_thumb\" href=\"/news/202403201042510374?pg=hot\">\\n           \"남편과 이혼한 사실 숨기고 10년간..\" 공무원, 파렴치한 행동\\n          </a>\\n         </li>\\n         <li class=\"lank\">\\n          <a class=\"tit_thumb\" href=\"/news/202403202305559063?pg=hot\">\\n           시부모 재력가설에 입 연 김윤지 \"김구라 폭로 때문에...\"\\n          </a>\\n         </li>\\n         <li class=\"lank\">\\n          <a class=\"tit_thumb\" href=\"/news/202403201439412317?pg=hot\">\\n           \"34살 때부터...\" 미녀 개그우먼, 지인도 몰랐던 충격 근황\\n          </a>\\n         </li>\\n         <li class=\"lank\">\\n          <a class=\"tit_thumb\" href=\"/news/202403210724455659?pg=hot\">\\n           30대 공무원, 남양주서 숨진 채 발견...휴대전화 살펴보니\\n          </a>\\n         </li>\\n         <script>\\n          var UserAgentDA = navigator.userAgent;\\n  var viewAgent =\"pc\";\\n  if (UserAgentDA.match(/iPhone|iPod|Android|Windows CE|BlackBerry|Symbian|Windows Phone|webOS|Opera Mini|Opera Mobi|POLARIS|IEMobile|lgtelecom|nokia|SonyEricsson/i) != null || UserAgentDA.match(/LG|SAMSUNG|Samsung/) != null){\\n \\tviewAgent = \"mobile\";\\n  }\\n         </script>\\n        </ul>\\n       </div>\\n       <!--저작권자-->\\n       <p class=\"view_copyright\">\\n        ※  저작권자 ⓒ 파이낸셜뉴스, 무단전재-재배포 금지\\n       </p>\\n       <!--taboola-->\\n       <!--코멘트-->\\n       <!-- taboola ad pc-->\\n       <div class=\"trc_related_container trc_spotlight_widget tbl-feed-container tbl-feed-frame-DIVIDER render-late-effect\" data-feed-container-num=\"1\" data-feed-main-container-id=\"taboola-below-article-thumbnails\" data-parent-placement-name=\"Below Article Thumbnails\" data-pub-lang=\"ko\" id=\"taboola-below-article-thumbnails\" observeid=\"tbl-observe-1\" tbl-data-mutation-observer=\"true\">\\n        <div class=\"tbl-feed-header tbl-logo-right-position\">\\n         <div class=\"tbl-feed-header-logo\">\\n         </div>\\n        </div>\\n        <div class=\"trc_related_container trc_spotlight_widget trc_elastic trc_elastic_thumbs-feed-01-a tbl-feed-card\" data-batch-num=\"1\" data-card-index=\"1\" data-placement-name=\"Below Article Thumbnails | Card 1\" id=\"taboola-below-article-thumbnails-pl1\" observeid=\"tbl-observe-2\" style=\"padding: 0px;\" tbl-feed-card=\"\">\\n         <div class=\"trc_rbox_container\">\\n          <div>\\n           <div class=\"trc_rbox thumbs-feed-01-a trc-content-sponsored\" id=\"trc_wrapper_8595\" style=\"overflow: hidden; display: block;\">\\n            <div class=\"trc_rbox_header trc_rbox_border_elm\" id=\"trc_header_8595\">\\n             <div class=\"trc_header_ext\">\\n             </div>\\n             <span class=\"trc_rbox_header_span\">\\n             </span>\\n            </div>\\n            <div class=\"trc_rbox_outer\" id=\"outer_8595\">\\n             <div class=\"trc_rbox_div trc_rbox_border_elm\" id=\"rbox-t2v\">\\n              <div id=\"internal_trc_8595\">\\n               <div class=\"videoCube trc_spotlight_item origin-default thumbnail_top syndicatedItem textItem videoCube_1_child trc-first-recommendation trc-spotlight-first-recommendation trc_excludable\" data-item-id=\"~~V1~~3638742468533390853~~43lFE6IlKGoksY430DZt5YSN-jyFrGCJZh3jJTLedoVw6cLzOYgYTH58zK8cIqqSh4RBGGi0X1cZ7kBVFmxWpdolzY_py-G0xja0sC3wHiaI2Kg8kAEaUrR1pWrvmhN9RdbgwlJdnqyroTPEQNNEn2q5Y_Ok952sR1Ylscn1tOA\" data-item-syndicated=\"true\" data-item-thumb=\"http://cdn.taboola.com/libtrc/static/thumbnails/a89a8c489238b6cfec45c5503a06fa2c.jpg\" data-item-title=\"해외 논문으로 검증된 아동 주의력결핍에 효과적인 1가지 방법 공개\" observeid=\"tbl-observe-3\">\\n                <a attributionsrc=\"\" class=\"item-thumbnail-href\" href=\"https://m.post.naver.com/viewer/postView.naver\" rel=\"nofollow noopener sponsored\" slot=\"thumbnail\" target=\"_blank\" title=\"해외 논문으로 검증된 아동 주의력결핍에 효과적인 1가지 방법 공개\">\\n                 <div class=\"thumbBlock_holder\">\\n                  <span class=\"thumbBlock\" style=\\'background-image: url(\"https://images.taboola.com/taboola/image/fetch/c_crop%2Cf_jpg%2Cq_auto%2Ce_sharpen%2Car_1.7778%2Cw_1000%2Cx_0%2Cy_26/c_fill%2Cw_620%2Ch_345/http%3A//cdn.taboola.com/libtrc/static/thumbnails/a89a8c489238b6cfec45c5503a06fa2c.jpg\");\\'>\\n                   <span class=\"thumbnail-overlay\">\\n                   </span>\\n                   <span class=\"branding\">\\n                    울아들램사랑해\\n                   </span>\\n                   <span class=\"static-text top-right\">\\n                   </span>\\n                  </span>\\n                  <div class=\"videoCube_aspect\">\\n                  </div>\\n                 </div>\\n                </a>\\n                <a attributionsrc=\"\" class=\"item-label-href video-cta-style\" href=\"https://m.post.naver.com/viewer/postView.naver\" rel=\"nofollow noopener sponsored\" target=\"_blank\" title=\"해외 논문으로 검증된 아동 주의력결핍에 효과적인 1가지 방법 공개\">\\n                 <span class=\"video-label-box trc-main-label video-label-box-cta video-label-box-cta-non-ie\">\\n                  <span class=\"video-label video-title video-label-flex-cta-item trc_ellipsis\" slot=\"title\" style=\"-webkit-line-clamp: 2;\">\\n                   해외 논문으로 검증된 아동 주의력결핍에 효과적인 1가지 방법 공개\\n                  </span>\\n                  <span class=\"video-label video-description video-label-flex-cta-item\" slot=\"description\" title=\\'\"Description: \"\\'>\\n                  </span>\\n                  <span class=\"branding composite-branding video-branding-flex-cta-item\" slot=\"branding\">\\n                   <span class=\"branding-inner\">\\n                    울아들램사랑해\\n                   </span>\\n                   <span class=\"branding-separator\">\\n                    |\\n                   </span>\\n                   <div class=\"logoDiv link-disclosure attribution-disclosure-link-sponsored align-disclosure-left\">\\n                    <a class=\"trc_desktop_disclosure_link trc_attribution_position_after_branding\" href=\"https://popup.taboola.com/ko/?template=colorbox&amp;utm_source=financialnews-fnnews&amp;utm_medium=referral&amp;utm_content=thumbs-feed-01-a:Below Article Thumbnails | Card 1:\" rel=\"nofollow sponsored noopener\" target=\"_blank\">\\n                     <span>\\n                      Sponsored\\n                     </span>\\n                    </a>\\n                    <a class=\"trc_mobile_disclosure_link trc_attribution_position_after_branding\" href=\"https://popup.taboola.com/ko/?template=colorbox&amp;utm_source=financialnews-fnnews&amp;utm_medium=referral&amp;utm_content=thumbs-feed-01-a:Below Article Thumbnails | Card 1:\" rel=\"nofollow sponsored noopener\" target=\"_blank\">\\n                     <span>\\n                      Sponsored\\n                     </span>\\n                    </a>\\n                   </div>\\n                  </span>\\n                  <div class=\"video-cta-href\">\\n                   <button class=\"video-cta-button video-cta-style\" style=\"border-color: rgb(0, 0, 0); font-weight: bold; font-family: Arial, Helvetica, sans-serif; color: rgb(0, 0, 0);\" type=\"button\">\\n                    더 알아보기\\n                   </button>\\n                  </div>\\n                 </span>\\n                </a>\\n                <div class=\"trc_user_exclude_btn\" title=\"아이템 삭제\">\\n                </div>\\n                <div class=\"trc_exclude_overlay trc_fade\">\\n                </div>\\n                <div class=\"trc_undo_btn\">\\n                 돌아가기\\n                </div>\\n               </div>\\n               <div class=\"videoCube trc_spotlight_item origin-default thumbnail_top syndicatedItem textItem videoCube_2_child trc_excludable\" data-item-id=\"~~V1~~8459635831023392167~~_hhRdum3ciZD-TNo9yNSqnGlpH2PcXGnp7yFIupSL9FyNpbgedRdYuhjTdtdbeHkh4RBGGi0X1cZ7kBVFmxWpbeEE3Is-rzVxZWqa45wRGnnsYhAbm-NyBZgECWHJ463RdbgwlJdnqyroTPEQNNEn2q5Y_Ok952sR1Ylscn1tOA\" data-item-syndicated=\"true\" data-item-thumb=\"http://cdn.taboola.com/libtrc/static/thumbnails/6aa4240f1189281ccdc23ae6cf356c31.png\" data-item-title=\"임플란트 1개부터, 전체 임플란트!\" observeid=\"tbl-observe-4\">\\n                <a attributionsrc=\"\" class=\"item-thumbnail-href\" href=\"https://www.healdentalclinic.com/landing/landing_faceoffDR.php\" rel=\"nofollow noopener sponsored\" slot=\"thumbnail\" target=\"_blank\" title=\"임플란트 1개부터, 전체 임플란트!\">\\n                 <div class=\"thumbBlock_holder\">\\n                  <span class=\"thumbBlock\" style=\\'background-image: url(\"https://images.taboola.com/taboola/image/fetch/c_crop%2Cf_jpg%2Cq_auto%2Ce_sharpen%2Car_1.7778%2Cw_6000%2Cx_0%2Cy_776/c_fill%2Cw_620%2Ch_345/http%3A//cdn.taboola.com/libtrc/static/thumbnails/6aa4240f1189281ccdc23ae6cf356c31.png\");\\'>\\n                   <span class=\"thumbnail-overlay\">\\n                   </span>\\n                   <span class=\"branding\">\\n                    연세힐치과의원\\n                   </span>\\n                   <span class=\"static-text top-right\">\\n                   </span>\\n                  </span>\\n                  <div class=\"videoCube_aspect\">\\n                  </div>\\n                 </div>\\n                </a>\\n                <a attributionsrc=\"\" class=\"item-label-href\" href=\"https://www.healdentalclinic.com/landing/landing_faceoffDR.php\" rel=\"nofollow noopener sponsored\" target=\"_blank\" title=\"임플란트 1개부터, 전체 임플란트!\">\\n                 <span class=\"video-label-box trc-main-label\">\\n                  <span class=\"video-label video-title trc_ellipsis\" slot=\"title\" style=\"-webkit-line-clamp: 1;\">\\n                   임플란트 1개부터, 전체 임플란트!\\n                  </span>\\n                  <span class=\"video-label video-description\" slot=\"description\" title=\\'\"Description: \"\\'>\\n                  </span>\\n                  <span class=\"branding composite-branding\" slot=\"branding\">\\n                   <span class=\"branding-inner\">\\n                    연세힐치과의원\\n                   </span>\\n                   <span class=\"branding-separator\">\\n                    |\\n                   </span>\\n                   <div class=\"logoDiv link-disclosure attribution-disclosure-link-sponsored align-disclosure-left\">\\n                    <a class=\"trc_desktop_disclosure_link trc_attribution_position_after_branding\" href=\"https://popup.taboola.com/ko/?template=colorbox&amp;utm_source=financialnews-fnnews&amp;utm_medium=referral&amp;utm_content=thumbs-feed-01-a:Below Article Thumbnails | Card 1:\" rel=\"nofollow sponsored noopener\" target=\"_blank\">\\n                     <span>\\n                      Sponsored\\n                     </span>\\n                    </a>\\n                    <a class=\"trc_mobile_disclosure_link trc_attribution_position_after_branding\" href=\"https://popup.taboola.com/ko/?template=colorbox&amp;utm_source=financialnews-fnnews&amp;utm_medium=referral&amp;utm_content=thumbs-feed-01-a:Below Article Thumbnails | Card 1:\" rel=\"nofollow sponsored noopener\" target=\"_blank\">\\n                     <span>\\n                      Sponsored\\n                     </span>\\n                    </a>\\n                   </div>\\n                  </span>\\n                 </span>\\n                </a>\\n                <div class=\"trc_user_exclude_btn\" title=\"아이템 삭제\">\\n                </div>\\n                <div class=\"trc_exclude_overlay trc_fade\">\\n                </div>\\n                <div class=\"trc_undo_btn\">\\n                 돌아가기\\n                </div>\\n               </div>\\n              </div>\\n             </div>\\n            </div>\\n            <div class=\"trc_clearer\">\\n            </div>\\n           </div>\\n          </div>\\n         </div>\\n        </div>\\n        <div class=\"trc_related_container trc_spotlight_widget trc_elastic trc_elastic_thumbs-feed-01-b tbl-feed-card\" data-batch-num=\"1\" data-card-index=\"2\" data-placement-name=\"Below Article Thumbnails | Card 2\" id=\"taboola-below-article-thumbnails-pl2\" observeid=\"tbl-observe-5\" style=\"padding: 0px;\" tbl-feed-card=\"\">\\n         <div class=\"trc_rbox_container\">\\n          <div>\\n           <div class=\"trc_rbox thumbs-feed-01-b trc-content-sponsored\" id=\"trc_wrapper_9159\" style=\"overflow: hidden; display: block;\">\\n            <div class=\"trc_rbox_header trc_rbox_border_elm\" id=\"trc_header_9159\">\\n             <div class=\"trc_header_ext\">\\n             </div>\\n             <span class=\"trc_rbox_header_span\">\\n             </span>\\n            </div>\\n            <div class=\"trc_rbox_outer\" id=\"outer_9159\">\\n             <div class=\"trc_rbox_div trc_rbox_border_elm\" id=\"rbox-t2v\">\\n              <div id=\"internal_trc_9159\">\\n               <div class=\"videoCube trc_spotlight_item origin-default thumbnail_top syndicatedItem textItem videoCube_1_child trc-first-recommendation trc-spotlight-first-recommendation trc_excludable\" data-item-id=\"~~V1~~8709502561184723119~~MOfs8p17Y5nCbccRbo4DRlFbl96BVdt3FzZY9C1ByxYe79Ni-eBnd8iQ4KmvvX-QCoTT_IvWFG7RTbSa_z-XXnbzMBvaYIqk5TuukZWJ8tkED6po4OqRyl9AWilw8PDl432-dbVeVLYenjJ-8LThGAs3rXGKfffV3MMsy0VT_7XkrdMZj1q--yd78JvyUczW\" data-item-syndicated=\"true\" data-item-thumb=\"http://cdn.taboola.com/libtrc/static/thumbnails/c6d89a52c02b26ef1ad6b02c6f6f5aa7.png\" data-item-title=\"전체 임플란트 해야 하는데 부담된다면?\" observeid=\"tbl-observe-6\">\\n                <a attributionsrc=\"\" class=\"item-thumbnail-href\" href=\"https://www.healdentalclinic.com/landing/DRtab1/\" rel=\"nofollow noopener sponsored\" slot=\"thumbnail\" target=\"_blank\" title=\"전체 임플란트 해야 하는데 부담된다면?\">\\n                 <div class=\"thumbBlock_holder\">\\n                  <span class=\"thumbBlock\" style=\\'background-image: url(\"https://images.taboola.com/taboola/image/fetch/c_crop%2Cf_jpg%2Cq_auto%2Ce_sharpen%2Car_1.7778%2Cw_6000%2Cx_0%2Cy_773/c_fill%2Cw_420%2Ch_234/http%3A//cdn.taboola.com/libtrc/static/thumbnails/c6d89a52c02b26ef1ad6b02c6f6f5aa7.png\");\\'>\\n                   <span class=\"thumbnail-overlay\">\\n                   </span>\\n                   <span class=\"branding\">\\n                    연세힐치과의원\\n                   </span>\\n                   <span class=\"static-text top-right\">\\n                   </span>\\n                  </span>\\n                  <div class=\"videoCube_aspect\">\\n                  </div>\\n                 </div>\\n                </a>\\n                <a attributionsrc=\"\" class=\"item-label-href\" href=\"https://www.healdentalclinic.com/landing/DRtab1/\" rel=\"nofollow noopener sponsored\" target=\"_blank\" title=\"전체 임플란트 해야 하는데 부담된다면?\">\\n                 <span class=\"video-label-box trc-main-label\">\\n                  <span class=\"video-label video-title trc_ellipsis\" slot=\"title\" style=\"-webkit-line-clamp: 2;\">\\n                   전체 임플란트 해야 하는데 부담된다면?\\n                  </span>\\n                  <span class=\"video-label video-description\" slot=\"description\" title=\\'\"Description: \"\\'>\\n                  </span>\\n                  <span class=\"branding composite-branding\" slot=\"branding\">\\n                   <span class=\"branding-inner\">\\n                    연세힐치과의원\\n                   </span>\\n                   <span class=\"branding-separator\">\\n                    |\\n                   </span>\\n                   <div class=\"logoDiv link-disclosure attribution-disclosure-link-sponsored align-disclosure-left\">\\n                    <a class=\"trc_desktop_disclosure_link trc_attribution_position_after_branding\" href=\"https://popup.taboola.com/ko/?template=colorbox&amp;utm_source=financialnews-fnnews&amp;utm_medium=referral&amp;utm_content=thumbs-feed-01-b:Below Article Thumbnails | Card 2:\" rel=\"nofollow sponsored noopener\" target=\"_blank\">\\n                     <span>\\n                      Sponsored\\n                     </span>\\n                    </a>\\n                    <a class=\"trc_mobile_disclosure_link trc_attribution_position_after_branding\" href=\"https://popup.taboola.com/ko/?template=colorbox&amp;utm_source=financialnews-fnnews&amp;utm_medium=referral&amp;utm_content=thumbs-feed-01-b:Below Article Thumbnails | Card 2:\" rel=\"nofollow sponsored noopener\" target=\"_blank\">\\n                     <span>\\n                      Sponsored\\n                     </span>\\n                    </a>\\n                   </div>\\n                  </span>\\n                 </span>\\n                </a>\\n                <div class=\"trc_user_exclude_btn\" title=\"아이템 삭제\">\\n                </div>\\n                <div class=\"trc_exclude_overlay trc_fade\">\\n                </div>\\n                <div class=\"trc_undo_btn\">\\n                 돌아가기\\n                </div>\\n               </div>\\n               <div class=\"videoCube trc_spotlight_item origin-default thumbnail_top syndicatedItem textItem videoCube_2_child trc_excludable\" data-item-id=\"~~V1~~3175648558994477148~~u1GGTn0lEj5aPbIKdrZRYhOV_BbQVB1iHGmFtPliGjx9_9IWyVTZYEw3zPc60dwzHu_TYvngZ3fIkOCpr71_kD7VbyU9qGbFCk3G1JTsLXx28zAb2mCKpOU7rpGVifLZwEIA7VrxFnolFXc_eqxGG8yhcWaXFhQ8DfWQnv_fAGgLN61xin331dzDLMtFU_-15K3TGY9avvsne_Cb8lHM1g\" data-item-syndicated=\"true\" data-item-thumb=\"http://cdn.taboola.com/libtrc/static/thumbnails/aeae3fe4769589e7e6a9572902735287.png\" data-item-title=\"34kg 감량된 내 모습을보니 월 16만원이 전혀 아깝지 않았어요\" observeid=\"tbl-observe-7\">\\n                <a attributionsrc=\"\" class=\"item-thumbnail-href\" href=\"https://diet.juvis.co.kr/page/diet-story/interview/400119\" rel=\"nofollow noopener sponsored\" slot=\"thumbnail\" target=\"_blank\" title=\"34kg 감량된 내 모습을보니 월 16만원이 전혀 아깝지 않았어요\">\\n                 <div class=\"thumbBlock_holder\">\\n                  <span class=\"thumbBlock\" style=\\'background-image: url(\"https://images.taboola.com/taboola/image/fetch/f_jpg%2Cq_auto%2Ch_234%2Cw_420%2Cc_fill%2Cg_faces:auto%2Ce_sharpen/http%3A//cdn.taboola.com/libtrc/static/thumbnails/aeae3fe4769589e7e6a9572902735287.png\");\\'>\\n                   <span class=\"thumbnail-overlay\">\\n                   </span>\\n                   <span class=\"branding\">\\n                    JUVIS\\n                   </span>\\n                   <span class=\"static-text top-right\">\\n                   </span>\\n                  </span>\\n                  <div class=\"videoCube_aspect\">\\n                  </div>\\n                 </div>\\n                </a>\\n                <a attributionsrc=\"\" class=\"item-label-href\" href=\"https://diet.juvis.co.kr/page/diet-story/interview/400119\" rel=\"nofollow noopener sponsored\" target=\"_blank\" title=\"34kg 감량된 내 모습을보니 월 16만원이 전혀 아깝지 않았어요\">\\n                 <span class=\"video-label-box trc-main-label\">\\n                  <span class=\"video-label video-title trc_ellipsis\" slot=\"title\" style=\"-webkit-line-clamp: 2;\">\\n                   34kg 감량된 내 모습을보니 월 16만원이 전혀 아깝지 않았어요\\n                  </span>\\n                  <span class=\"video-label video-description\" slot=\"description\" title=\\'\"Description: \"\\'>\\n                  </span>\\n                  <span class=\"branding composite-branding\" slot=\"branding\">\\n                   <span class=\"branding-inner\">\\n                    JUVIS\\n                   </span>\\n                   <span class=\"branding-separator\">\\n                    |\\n                   </span>\\n                   <div class=\"logoDiv link-disclosure attribution-disclosure-link-sponsored align-disclosure-left\">\\n                    <a class=\"trc_desktop_disclosure_link trc_attribution_position_after_branding\" href=\"https://popup.taboola.com/ko/?template=colorbox&amp;utm_source=financialnews-fnnews&amp;utm_medium=referral&amp;utm_content=thumbs-feed-01-b:Below Article Thumbnails | Card 2:\" rel=\"nofollow sponsored noopener\" target=\"_blank\">\\n                     <span>\\n                      Sponsored\\n                     </span>\\n                    </a>\\n                    <a class=\"trc_mobile_disclosure_link trc_attribution_position_after_branding\" href=\"https://popup.taboola.com/ko/?template=colorbox&amp;utm_source=financialnews-fnnews&amp;utm_medium=referral&amp;utm_content=thumbs-feed-01-b:Below Article Thumbnails | Card 2:\" rel=\"nofollow sponsored noopener\" target=\"_blank\">\\n                     <span>\\n                      Sponsored\\n                     </span>\\n                    </a>\\n                   </div>\\n                  </span>\\n                 </span>\\n                </a>\\n                <div class=\"trc_user_exclude_btn\" title=\"아이템 삭제\">\\n                </div>\\n                <div class=\"trc_exclude_overlay trc_fade\">\\n                </div>\\n                <div class=\"trc_undo_btn\">\\n                 돌아가기\\n                </div>\\n               </div>\\n               <div class=\"videoCube trc_spotlight_item origin-default thumbnail_top syndicatedItem textItem videoCube_3_child trc_excludable\" data-item-id=\"~~V1~~-6962382294149511074~~ibIiwKWlj8uTKYgRbSpNTali81-oRnJJPhvmnIqQwjF9_9IWyVTZYEw3zPc60dwzHu_TYvngZ3fIkOCpr71_kGX2zx8CgVUVkHH9GQANp1d28zAb2mCKpOU7rpGVifLZZo2Sl2S8paBLej3kAfJs-jATY4CHuXrY37_Lug-dpIELN61xin331dzDLMtFU_-15K3TGY9avvsne_Cb8lHM1g\" data-item-syndicated=\"true\" data-item-thumb=\"http://cdn.taboola.com/libtrc/static/thumbnails/993d166dd091b7eb5903cc776c144f78.jpg\" data-item-title=\"ADHD 카페에서 난리난 ADHD 개선법 1가지\" observeid=\"tbl-observe-8\">\\n                <a attributionsrc=\"\" class=\"item-thumbnail-href\" href=\"https://m.post.naver.com/viewer/postView.naver\" rel=\"nofollow noopener sponsored\" slot=\"thumbnail\" target=\"_blank\" title=\"ADHD 카페에서 난리난 ADHD 개선법 1가지\">\\n                 <div class=\"thumbBlock_holder\">\\n                  <span class=\"thumbBlock\" style=\\'background-image: url(\"https://images.taboola.com/taboola/image/fetch/c_crop%2Cf_jpg%2Cq_auto%2Ce_sharpen%2Car_1.7778%2Cw_1000%2Cx_0%2Cy_37/c_fill%2Cw_420%2Ch_234/http%3A//cdn.taboola.com/libtrc/static/thumbnails/993d166dd091b7eb5903cc776c144f78.jpg\");\\'>\\n                   <span class=\"thumbnail-overlay\">\\n                   </span>\\n                   <span class=\"branding\">\\n                    울아들램사랑해\\n                   </span>\\n                   <span class=\"static-text top-right\">\\n                   </span>\\n                  </span>\\n                  <div class=\"videoCube_aspect\">\\n                  </div>\\n                 </div>\\n                </a>\\n                <a attributionsrc=\"\" class=\"item-label-href video-cta-style\" href=\"https://m.post.naver.com/viewer/postView.naver\" rel=\"nofollow noopener sponsored\" target=\"_blank\" title=\"ADHD 카페에서 난리난 ADHD 개선법 1가지\">\\n                 <span class=\"video-label-box trc-main-label video-label-box-cta video-label-box-cta-non-ie\">\\n                  <span class=\"video-label video-title video-label-flex-cta-item trc_ellipsis\" slot=\"title\" style=\"-webkit-line-clamp: 2;\">\\n                   ADHD 카페에서 난리난 ADHD 개선법 1가지\\n                  </span>\\n                  <span class=\"video-label video-description video-label-flex-cta-item\" slot=\"description\" title=\\'\"Description: \"\\'>\\n                  </span>\\n                  <span class=\"branding composite-branding video-branding-flex-cta-item\" slot=\"branding\">\\n                   <span class=\"branding-inner\">\\n                    울아들램사랑해\\n                   </span>\\n                   <span class=\"branding-separator\">\\n                    |\\n                   </span>\\n                   <div class=\"logoDiv link-disclosure attribution-disclosure-link-sponsored align-disclosure-left\">\\n                    <a class=\"trc_desktop_disclosure_link trc_attribution_position_after_branding\" href=\"https://popup.taboola.com/ko/?template=colorbox&amp;utm_source=financialnews-fnnews&amp;utm_medium=referral&amp;utm_content=thumbs-feed-01-b:Below Article Thumbnails | Card 2:\" rel=\"nofollow sponsored noopener\" target=\"_blank\">\\n                     <span>\\n                      Sponsored\\n                     </span>\\n                    </a>\\n                    <a class=\"trc_mobile_disclosure_link trc_attribution_position_after_branding\" href=\"https://popup.taboola.com/ko/?template=colorbox&amp;utm_source=financialnews-fnnews&amp;utm_medium=referral&amp;utm_content=thumbs-feed-01-b:Below Article Thumbnails | Card 2:\" rel=\"nofollow sponsored noopener\" target=\"_blank\">\\n                     <span>\\n                      Sponsored\\n                     </span>\\n                    </a>\\n                   </div>\\n                  </span>\\n                  <div class=\"video-cta-href\">\\n                   <button class=\"video-cta-button video-cta-style\" style=\"border-color: rgb(0, 0, 0); font-weight: bold; font-family: Arial, Helvetica, sans-serif; color: rgb(0, 0, 0);\" type=\"button\">\\n                    더 알아보기\\n                   </button>\\n                  </div>\\n                 </span>\\n                </a>\\n                <div class=\"trc_user_exclude_btn\" title=\"아이템 삭제\">\\n                </div>\\n                <div class=\"trc_exclude_overlay trc_fade\">\\n                </div>\\n                <div class=\"trc_undo_btn\">\\n                 돌아가기\\n                </div>\\n               </div>\\n              </div>\\n             </div>\\n            </div>\\n            <div class=\"trc_clearer\">\\n            </div>\\n           </div>\\n          </div>\\n         </div>\\n        </div>\\n        <div class=\"trc_related_container trc_spotlight_widget trc_elastic trc_elastic_thumbs-feed-01-b tbl-feed-card\" data-batch-num=\"1\" data-card-index=\"3\" data-placement-name=\"Below Article Thumbnails | Card 3\" id=\"taboola-below-article-thumbnails-pl3\" observeid=\"tbl-observe-9\" style=\"padding: 0px;\" tbl-feed-card=\"\">\\n         <div class=\"trc_rbox_container\">\\n          <div>\\n           <div class=\"trc_rbox thumbs-feed-01-b trc-content-sponsored\" id=\"trc_wrapper_53412\" style=\"overflow: hidden; display: block;\">\\n            <div class=\"trc_rbox_header trc_rbox_border_elm\" id=\"trc_header_53412\">\\n             <div class=\"trc_header_ext\">\\n             </div>\\n             <span class=\"trc_rbox_header_span\">\\n             </span>\\n            </div>\\n            <div class=\"trc_rbox_outer\" id=\"outer_53412\">\\n             <div class=\"trc_rbox_div trc_rbox_border_elm\" id=\"rbox-t2v\">\\n              <div id=\"internal_trc_53412\">\\n               <div class=\"videoCube trc_spotlight_item origin-default thumbnail_top syndicatedItem textItem videoCube_1_child trc-first-recommendation trc-spotlight-first-recommendation trc_excludable\" data-item-id=\"~~V1~~6217899284700458798~~_FRHdfqpwgczGxRrLbwiWQQGB8WX_x1644K2Pgn6ewd9_9IWyVTZYEw3zPc60dwzHu_TYvngZ3fIkOCpr71_kAqE0_yL1hRu0U20mv8_l14A8x1MColX79ycI1mBz2TAr5gMK7Q3Mtd-x_7ug6Pj1oPOgxL2JA2sc84u9B4bw6MLN61xin331dzDLMtFU_-15K3TGY9avvsne_Cb8lHM1g\" data-item-syndicated=\"true\" data-item-thumb=\"http://cdn.taboola.com/libtrc/static/thumbnails/603b9c94e81594bf0e48276d1977eabf.jpg\" data-item-title=\"&amp;#34;면역력, 혈압&amp;#34; 결정짓는 &amp;#34;이 성분&amp;#34;을 가득 담아.. 카이스트 개발 화제!\" observeid=\"tbl-observe-10\">\\n                <a attributionsrc=\"\" class=\"item-thumbnail-href\" href=\"https://newsyn.kr/tr17\" rel=\"nofollow noopener sponsored\" slot=\"thumbnail\" target=\"_blank\" title=\\'\"면역력, 혈압\" 결정짓는 \"이 성분\"을 가득 담아.. 카이스트 개발 화제!\\'>\\n                 <div class=\"thumbBlock_holder\">\\n                  <span class=\"thumbBlock\" style=\\'background-image: url(\"https://images.taboola.com/taboola/image/fetch/c_crop%2Cf_jpg%2Cq_auto%2Ce_sharpen%2Car_1.7778%2Cw_999%2Cx_1%2Cy_0/c_fill%2Cw_420%2Ch_234/http%3A//cdn.taboola.com/libtrc/static/thumbnails/603b9c94e81594bf0e48276d1977eabf.jpg\");\\'>\\n                   <span class=\"thumbnail-overlay\">\\n                   </span>\\n                   <span class=\"branding\">\\n                    Rg3 더루트\\n                   </span>\\n                   <span class=\"static-text top-right\">\\n                   </span>\\n                  </span>\\n                  <div class=\"videoCube_aspect\">\\n                  </div>\\n                 </div>\\n                </a>\\n                <a attributionsrc=\"\" class=\"item-label-href\" href=\"https://newsyn.kr/tr17\" rel=\"nofollow noopener sponsored\" target=\"_blank\" title=\\'\"면역력, 혈압\" 결정짓는 \"이 성분\"을 가득 담아.. 카이스트 개발 화제!\\'>\\n                 <span class=\"video-label-box trc-main-label\">\\n                  <span class=\"video-label video-title trc_ellipsis\" slot=\"title\" style=\"-webkit-line-clamp: 2;\">\\n                   \"면역력, 혈압\" 결정짓는 \"이 성분\"을 가득 담아.. 카이스트 개발 화제!\\n                  </span>\\n                  <span class=\"video-label video-description\" slot=\"description\" title=\\'\"Description: \"\\'>\\n                  </span>\\n                  <span class=\"branding composite-branding\" slot=\"branding\">\\n                   <span class=\"branding-inner\">\\n                    Rg3 더루트\\n                   </span>\\n                   <span class=\"branding-separator\">\\n                    |\\n                   </span>\\n                   <div class=\"logoDiv link-disclosure attribution-disclosure-link-sponsored align-disclosure-left\">\\n                    <a class=\"trc_desktop_disclosure_link trc_attribution_position_after_branding\" href=\"https://popup.taboola.com/ko/?template=colorbox&amp;utm_source=financialnews-fnnews&amp;utm_medium=referral&amp;utm_content=thumbs-feed-01-b:Below Article Thumbnails | Card 3:\" rel=\"nofollow sponsored noopener\" target=\"_blank\">\\n                     <span>\\n                      Sponsored\\n                     </span>\\n                    </a>\\n                    <a class=\"trc_mobile_disclosure_link trc_attribution_position_after_branding\" href=\"https://popup.taboola.com/ko/?template=colorbox&amp;utm_source=financialnews-fnnews&amp;utm_medium=referral&amp;utm_content=thumbs-feed-01-b:Below Article Thumbnails | Card 3:\" rel=\"nofollow sponsored noopener\" target=\"_blank\">\\n                     <span>\\n                      Sponsored\\n                     </span>\\n                    </a>\\n                   </div>\\n                  </span>\\n                 </span>\\n                </a>\\n                <div class=\"trc_user_exclude_btn\" title=\"아이템 삭제\">\\n                </div>\\n                <div class=\"trc_exclude_overlay trc_fade\">\\n                </div>\\n                <div class=\"trc_undo_btn\">\\n                 돌아가기\\n                </div>\\n               </div>\\n               <div class=\"videoCube trc_spotlight_item origin-default thumbnail_top syndicatedItem textItem videoCube_2_child trc_excludable\" data-item-id=\"~~V1~~7203441194061908354~~r_1ZC7967I0W0PwKaDA8PgnCZrpiRW-pxaCOmyyCbCF9_9IWyVTZYEw3zPc60dwzHu_TYvngZ3fIkOCpr71_kD7VbyU9qGbFCk3G1JTsLXwA8x1MColX79ycI1mBz2TABA-qaODqkcpfQFopcPDw5XU3Iu8jQakNL6XRYEZfaVILN61xin331dzDLMtFU_-15K3TGY9avvsne_Cb8lHM1g\" data-item-syndicated=\"true\" data-item-thumb=\"http://cdn.taboola.com/libtrc/static/thumbnails/bc36f78923a43e8e1b2cff398ef5aa60.jpg\" data-item-title=\"전체임플란트 필요하신 분이라면?\" observeid=\"tbl-observe-11\">\\n                <a attributionsrc=\"\" class=\"item-thumbnail-href\" href=\"https://media-medi.com/after/mediaa/\" rel=\"nofollow noopener sponsored\" slot=\"thumbnail\" target=\"_blank\" title=\"전체임플란트 필요하신 분이라면?\">\\n                 <div class=\"thumbBlock_holder\">\\n                  <span class=\"thumbBlock\" style=\\'background-image: url(\"https://images.taboola.com/taboola/image/fetch/c_crop%2Cf_jpg%2Cq_auto%2Ce_sharpen%2Car_1.7778%2Cw_1099%2Cx_0%2Cy_29/c_fill%2Cw_420%2Ch_234/http%3A//cdn.taboola.com/libtrc/static/thumbnails/bc36f78923a43e8e1b2cff398ef5aa60.jpg\");\\'>\\n                   <span class=\"thumbnail-overlay\">\\n                   </span>\\n                   <span class=\"branding\">\\n                    강남애프터치과\\n                   </span>\\n                   <span class=\"static-text top-right\">\\n                   </span>\\n                  </span>\\n                  <div class=\"videoCube_aspect\">\\n                  </div>\\n                 </div>\\n                </a>\\n                <a attributionsrc=\"\" class=\"item-label-href video-cta-style\" href=\"https://media-medi.com/after/mediaa/\" rel=\"nofollow noopener sponsored\" target=\"_blank\" title=\"전체임플란트 필요하신 분이라면?\">\\n                 <span class=\"video-label-box trc-main-label video-label-box-cta video-label-box-cta-non-ie\">\\n                  <span class=\"video-label video-title video-label-flex-cta-item trc_ellipsis\" slot=\"title\" style=\"-webkit-line-clamp: 2;\">\\n                   전체임플란트 필요하신 분이라면?\\n                  </span>\\n                  <span class=\"video-label video-description video-label-flex-cta-item trc_ellipsis\" slot=\"description\" style=\"-webkit-line-clamp: 2;\" title=\\'\"Description: 대한치과의사협회 의료광고 심의필 제231127-중-28744호\"\\'>\\n                   대한치과의사협회 의료광고 심의필 제231127-중-28744호\\n                  </span>\\n                  <span class=\"branding composite-branding video-branding-flex-cta-item\" slot=\"branding\">\\n                   <span class=\"branding-inner\">\\n                    강남애프터치과\\n                   </span>\\n                   <span class=\"branding-separator\">\\n                    |\\n                   </span>\\n                   <div class=\"logoDiv link-disclosure attribution-disclosure-link-sponsored align-disclosure-left\">\\n                    <a class=\"trc_desktop_disclosure_link trc_attribution_position_after_branding\" href=\"https://popup.taboola.com/ko/?template=colorbox&amp;utm_source=financialnews-fnnews&amp;utm_medium=referral&amp;utm_content=thumbs-feed-01-b:Below Article Thumbnails | Card 3:\" rel=\"nofollow sponsored noopener\" target=\"_blank\">\\n                     <span>\\n                      Sponsored\\n                     </span>\\n                    </a>\\n                    <a class=\"trc_mobile_disclosure_link trc_attribution_position_after_branding\" href=\"https://popup.taboola.com/ko/?template=colorbox&amp;utm_source=financialnews-fnnews&amp;utm_medium=referral&amp;utm_content=thumbs-feed-01-b:Below Article Thumbnails | Card 3:\" rel=\"nofollow sponsored noopener\" target=\"_blank\">\\n                     <span>\\n                      Sponsored\\n                     </span>\\n                    </a>\\n                   </div>\\n                  </span>\\n                  <div class=\"video-cta-href\">\\n                   <button class=\"video-cta-button video-cta-style\" style=\"border-color: rgb(0, 0, 0); font-weight: bold; font-family: Arial, Helvetica, sans-serif; color: rgb(0, 0, 0);\" type=\"button\">\\n                    가격 받기\\n                   </button>\\n                  </div>\\n                 </span>\\n                </a>\\n                <div class=\"trc_user_exclude_btn\" title=\"아이템 삭제\">\\n                </div>\\n                <div class=\"trc_exclude_overlay trc_fade\">\\n                </div>\\n                <div class=\"trc_undo_btn\">\\n                 돌아가기\\n                </div>\\n               </div>\\n               <div class=\"videoCube trc_spotlight_item origin-default thumbnail_top syndicatedItem textItem videoCube_3_child trc_excludable\" data-item-id=\"~~V1~~-7762052675750464096~~C50YCmccZEJU02EwzvMdxooeWOrat_5zmAibjn-uBrjnoZueAsnM0UTkqRiz-o8uV9GNaet_FWxUAZ9PPPsFwRt9FYgq_NVSADorCq5POW_8ebGALgFkpgqJHa1pOcOviOqcH5oI-tm5e2TeBc3wFo8XwLbI--WZuj80gUuMjclx36xHlJj7vdT8iqJMtTme0o8HUYz7pKhuTnvJXvMOdg\" data-item-syndicated=\"true\" data-item-thumb=\"http://cdn.taboola.com/libtrc/static/thumbnails/58494ae2120e5e303be82dd2a7d98015.jpg\" data-item-title=\"빠진 치아가 많나요? 전체 임플란트로 치료하세요\" observeid=\"tbl-observe-12\">\\n                <a attributionsrc=\"\" class=\"item-thumbnail-href\" href=\"https://onedaydent.sungjinhds.com/ld/86beec18-d9f5-11ee-aca7-55344b4615c4\" rel=\"nofollow noopener sponsored\" slot=\"thumbnail\" target=\"_blank\" title=\"빠진 치아가 많나요? 전체 임플란트로 치료하세요\">\\n                 <div class=\"thumbBlock_holder\">\\n                  <span class=\"thumbBlock\" style=\\'background-image: url(\"https://images.taboola.com/taboola/image/fetch/f_jpg%2Cq_auto%2Ch_234%2Cw_420%2Cc_fill%2Cg_faces:auto%2Ce_sharpen/http%3A//cdn.taboola.com/libtrc/static/thumbnails/58494ae2120e5e303be82dd2a7d98015.jpg\");\\'>\\n                   <span class=\"thumbnail-overlay\">\\n                   </span>\\n                   <span class=\"branding\">\\n                    원데이 임플란트\\n                   </span>\\n                   <span class=\"static-text top-right\">\\n                   </span>\\n                  </span>\\n                  <div class=\"videoCube_aspect\">\\n                  </div>\\n                 </div>\\n                </a>\\n                <a attributionsrc=\"\" class=\"item-label-href video-cta-style\" href=\"https://onedaydent.sungjinhds.com/ld/86beec18-d9f5-11ee-aca7-55344b4615c4\" rel=\"nofollow noopener sponsored\" target=\"_blank\" title=\"빠진 치아가 많나요? 전체 임플란트로 치료하세요\">\\n                 <span class=\"video-label-box trc-main-label video-label-box-cta video-label-box-cta-non-ie\">\\n                  <span class=\"video-label video-title video-label-flex-cta-item trc_ellipsis\" slot=\"title\" style=\"-webkit-line-clamp: 2;\">\\n                   빠진 치아가 많나요? 전체 임플란트로 치료하세요\\n                  </span>\\n                  <span class=\"video-label video-description video-label-flex-cta-item trc_ellipsis\" slot=\"description\" style=\"-webkit-line-clamp: 2;\" title=\\'\"Description: 전체 임플란트, 의식하진정법 강남역 11번 출구, 원데이치과의원\"\\'>\\n                   전체 임플란트, 의식하진정법 강남역 11번 출구, 원데이치과의원\\n                  </span>\\n                  <span class=\"branding composite-branding video-branding-flex-cta-item\" slot=\"branding\">\\n                   <span class=\"branding-inner\">\\n                    원데이 임플란트\\n                   </span>\\n                   <span class=\"branding-separator\">\\n                    |\\n                   </span>\\n                   <div class=\"logoDiv link-disclosure attribution-disclosure-link-sponsored align-disclosure-left\">\\n                    <a class=\"trc_desktop_disclosure_link trc_attribution_position_after_branding\" href=\"https://popup.taboola.com/ko/?template=colorbox&amp;utm_source=financialnews-fnnews&amp;utm_medium=referral&amp;utm_content=thumbs-feed-01-b:Below Article Thumbnails | Card 3:\" rel=\"nofollow sponsored noopener\" target=\"_blank\">\\n                     <span>\\n                      Sponsored\\n                     </span>\\n                    </a>\\n                    <a class=\"trc_mobile_disclosure_link trc_attribution_position_after_branding\" href=\"https://popup.taboola.com/ko/?template=colorbox&amp;utm_source=financialnews-fnnews&amp;utm_medium=referral&amp;utm_content=thumbs-feed-01-b:Below Article Thumbnails | Card 3:\" rel=\"nofollow sponsored noopener\" target=\"_blank\">\\n                     <span>\\n                      Sponsored\\n                     </span>\\n                    </a>\\n                   </div>\\n                  </span>\\n                  <div class=\"video-cta-href\">\\n                   <button class=\"video-cta-button video-cta-style\" style=\"border-color: rgb(0, 0, 0); font-weight: bold; font-family: Arial, Helvetica, sans-serif; color: rgb(0, 0, 0);\" type=\"button\">\\n                    더 알아보기\\n                   </button>\\n                  </div>\\n                 </span>\\n                </a>\\n                <div class=\"trc_user_exclude_btn\" title=\"아이템 삭제\">\\n                </div>\\n                <div class=\"trc_exclude_overlay trc_fade\">\\n                </div>\\n                <div class=\"trc_undo_btn\">\\n                 돌아가기\\n                </div>\\n               </div>\\n              </div>\\n             </div>\\n            </div>\\n            <div class=\"trc_clearer\">\\n            </div>\\n           </div>\\n          </div>\\n         </div>\\n        </div>\\n        <div class=\"trc_related_container trc_spotlight_widget trc_elastic trc_elastic_thumbs-feed-01-a tbl-feed-card\" data-batch-num=\"1\" data-card-index=\"4\" data-placement-name=\"Below Article Thumbnails | Card 4\" id=\"taboola-below-article-thumbnails-pl4\" observeid=\"tbl-observe-13\" style=\"padding: 0px;\" tbl-feed-card=\"\">\\n         <div class=\"trc_rbox_container\">\\n          <div>\\n           <div class=\"trc_rbox thumbs-feed-01-a trc-content-sponsored\" id=\"trc_wrapper_50641\" style=\"overflow: hidden; display: block;\">\\n            <div class=\"trc_rbox_header trc_rbox_border_elm\" id=\"trc_header_50641\">\\n             <div class=\"trc_header_ext\">\\n             </div>\\n             <span class=\"trc_rbox_header_span\">\\n             </span>\\n            </div>\\n            <div class=\"trc_rbox_outer\" id=\"outer_50641\">\\n             <div class=\"trc_rbox_div trc_rbox_border_elm\" id=\"rbox-t2v\">\\n              <div id=\"internal_trc_50641\">\\n               <div class=\"videoCube trc_spotlight_item origin-default thumbnail_top syndicatedItem textItem videoCube_1_child trc-first-recommendation trc-spotlight-first-recommendation trc_excludable\" data-item-id=\"~~V1~~-4273479241927393645~~R-taVdRQmKyC43H3t8uEv5CNqb1cfWIrmz4RDF_cmornoZueAsnM0UTkqRiz-o8uV9GNaet_FWxUAZ9PPPsFwTvQcf8Iz3wPalG-TXKf7bKwWAWKM-NtaK_pmU0ysKcduyIGjWHFaZifziyMcVcZ6tmWCxMtgXSxZgeo5arQM4kEek2CsrWIbgisZnX4x630QQmOD5A8UG6LyJMqijFljJxFtVj1S2j8Uvlszv9Rgm8\" data-item-syndicated=\"true\" data-item-thumb=\"http://cdn.taboola.com/libtrc/static/thumbnails/GETTY_IMAGES/SKP/1439446550__V8HCAvZ7.jpg\" data-item-title=\"국산 임플란트 개당 &amp;#34;35만원&amp;#34; 특가 이벤트!\" observeid=\"tbl-observe-14\">\\n                <a attributionsrc=\"\" class=\"item-thumbnail-href\" href=\"https://dentalclinicevent.co.kr/landing/imp_sam_T2_58206/index.php\" rel=\"nofollow noopener sponsored\" slot=\"thumbnail\" target=\"_blank\" title=\\'국산 임플란트 개당 \"35만원\" 특가 이벤트!\\'>\\n                 <div class=\"thumbBlock_holder\">\\n                  <span class=\"thumbBlock\" style=\\'background-image: url(\"https://images.taboola.com/taboola/image/fetch/f_jpg%2Cq_auto%2Ch_345%2Cw_620%2Cc_fill%2Cg_faces:auto%2Ce_sharpen/http%3A//cdn.taboola.com/libtrc/static/thumbnails/GETTY_IMAGES/SKP/1439446550__V8HCAvZ7.jpg\");\\'>\\n                   <span class=\"thumbnail-overlay\">\\n                   </span>\\n                   <span class=\"branding\">\\n                    임플란트\\n                   </span>\\n                   <span class=\"static-text top-right\">\\n                   </span>\\n                  </span>\\n                  <div class=\"videoCube_aspect\">\\n                  </div>\\n                 </div>\\n                </a>\\n                <a attributionsrc=\"\" class=\"item-label-href video-cta-style\" href=\"https://dentalclinicevent.co.kr/landing/imp_sam_T2_58206/index.php\" rel=\"nofollow noopener sponsored\" target=\"_blank\" title=\\'국산 임플란트 개당 \"35만원\" 특가 이벤트!\\'>\\n                 <span class=\"video-label-box trc-main-label video-label-box-cta video-label-box-cta-non-ie\">\\n                  <span class=\"video-label video-title video-label-flex-cta-item trc_ellipsis\" slot=\"title\" style=\"-webkit-line-clamp: 1;\">\\n                   국산 임플란트 개당 \"35만원\" 특가 이벤트!\\n                  </span>\\n                  <span class=\"video-label video-description video-label-flex-cta-item trc_ellipsis\" slot=\"description\" style=\"-webkit-line-clamp: 2;\" title=\\'\"Description: 공중파 방송에서 인정한 의료진! 지르코니아+맞춤형지대주 포함 금액!\"\\'>\\n                   공중파 방송에서 인정한 의료진! 지르코니아+맞춤형지대주 포함 금액!\\n                  </span>\\n                  <span class=\"branding composite-branding video-branding-flex-cta-item\" slot=\"branding\">\\n                   <span class=\"branding-inner\">\\n                    임플란트\\n                   </span>\\n                   <span class=\"branding-separator\">\\n                    |\\n                   </span>\\n                   <div class=\"logoDiv link-disclosure attribution-disclosure-link-sponsored align-disclosure-left\">\\n                    <a class=\"trc_desktop_disclosure_link trc_attribution_position_after_branding\" href=\"https://popup.taboola.com/ko/?template=colorbox&amp;utm_source=financialnews-fnnews&amp;utm_medium=referral&amp;utm_content=thumbs-feed-01-a:Below Article Thumbnails | Card 4:\" rel=\"nofollow sponsored noopener\" target=\"_blank\">\\n                     <span>\\n                      Sponsored\\n                     </span>\\n                    </a>\\n                    <a class=\"trc_mobile_disclosure_link trc_attribution_position_after_branding\" href=\"https://popup.taboola.com/ko/?template=colorbox&amp;utm_source=financialnews-fnnews&amp;utm_medium=referral&amp;utm_content=thumbs-feed-01-a:Below Article Thumbnails | Card 4:\" rel=\"nofollow sponsored noopener\" target=\"_blank\">\\n                     <span>\\n                      Sponsored\\n                     </span>\\n                    </a>\\n                   </div>\\n                  </span>\\n                  <div class=\"video-cta-href\">\\n                   <button class=\"video-cta-button video-cta-style\" style=\"border-color: rgb(0, 0, 0); font-weight: bold; font-family: Arial, Helvetica, sans-serif; color: rgb(0, 0, 0);\" type=\"button\">\\n                    더 알아보기\\n                   </button>\\n                  </div>\\n                 </span>\\n                </a>\\n                <div class=\"trc_user_exclude_btn\" title=\"아이템 삭제\">\\n                </div>\\n                <div class=\"trc_exclude_overlay trc_fade\">\\n                </div>\\n                <div class=\"trc_undo_btn\">\\n                 돌아가기\\n                </div>\\n               </div>\\n               <div class=\"videoCube trc_spotlight_item origin-default thumbnail_top syndicatedItem textItem videoCube_2_child trc_excludable\" data-item-id=\"~~V1~~4950916349153065398~~9guKUw3QaocQL2MecZS380l82XQxin9nUPDW-lI2olbpZyC7dGVdvKnSHsaHrNsFor4BFHsO6eE08LLg-CvdOB2tkbJ0H19gkwcUX8p5JFHbzsxfM0k_3_siGm-c3uadOaxlKvpdyDg5YN9ZsbDE3qbVfH3HFPkIUCsSxpfsq4K7wpjv9RgCjArPqOLZHWqbjxfAtsj75Zm6PzSBS4yNyXHfrEeUmPu91PyKoky1OZ7SjwdRjPukqG5Oe8le8w52\" data-item-syndicated=\"true\" data-item-thumb=\"http://cdn.taboola.com/libtrc/static/thumbnails/7a17fa3ccca7d54266f1e96dc7fa99e9.jpg\" data-item-title=\"어깨통증 수술없이 당일치료하세요\" observeid=\"tbl-observe-15\">\\n                <a attributionsrc=\"\" class=\"item-thumbnail-href\" href=\"https://jangdeuk.sungjinhds.com/ld/589d4db6-e747-11ee-9e87-37f6bd8a9c2c\" rel=\"nofollow noopener sponsored\" slot=\"thumbnail\" target=\"_blank\" title=\"어깨통증 수술없이 당일치료하세요\">\\n                 <div class=\"thumbBlock_holder\">\\n                  <span class=\"thumbBlock\" style=\\'background-image: url(\"https://images.taboola.com/taboola/image/fetch/f_jpg%2Cq_auto%2Ch_345%2Cw_620%2Cc_fill%2Cg_faces:auto%2Ce_sharpen/http%3A//cdn.taboola.com/libtrc/static/thumbnails/7a17fa3ccca7d54266f1e96dc7fa99e9.jpg\");\\'>\\n                   <span class=\"thumbnail-overlay\">\\n                   </span>\\n                   <span class=\"branding\">\\n                    장덕한방병원\\n                   </span>\\n                   <span class=\"static-text top-right\">\\n                   </span>\\n                  </span>\\n                  <div class=\"videoCube_aspect\">\\n                  </div>\\n                 </div>\\n                </a>\\n                <a attributionsrc=\"\" class=\"item-label-href video-cta-style\" href=\"https://jangdeuk.sungjinhds.com/ld/589d4db6-e747-11ee-9e87-37f6bd8a9c2c\" rel=\"nofollow noopener sponsored\" target=\"_blank\" title=\"어깨통증 수술없이 당일치료하세요\">\\n                 <span class=\"video-label-box trc-main-label video-label-box-cta video-label-box-cta-non-ie\">\\n                  <span class=\"video-label video-title video-label-flex-cta-item trc_ellipsis\" slot=\"title\" style=\"-webkit-line-clamp: 1;\">\\n                   어깨통증 수술없이 당일치료하세요\\n                  </span>\\n                  <span class=\"video-label video-description video-label-flex-cta-item trc_ellipsis\" slot=\"description\" style=\"-webkit-line-clamp: 2;\" title=\\'\"Description: 30년 양한방 비수술 치료 노하우로 어깨통증 근본원인부터 해결합니다.\"\\'>\\n                   30년 양한방 비수술 치료 노하우로 어깨통증 근본원인부터 해결합니다.\\n                  </span>\\n                  <span class=\"branding composite-branding video-branding-flex-cta-item\" slot=\"branding\">\\n                   <span class=\"branding-inner\">\\n                    장덕한방병원\\n                   </span>\\n                   <span class=\"branding-separator\">\\n                    |\\n                   </span>\\n                   <div class=\"logoDiv link-disclosure attribution-disclosure-link-sponsored align-disclosure-left\">\\n                    <a class=\"trc_desktop_disclosure_link trc_attribution_position_after_branding\" href=\"https://popup.taboola.com/ko/?template=colorbox&amp;utm_source=financialnews-fnnews&amp;utm_medium=referral&amp;utm_content=thumbs-feed-01-a:Below Article Thumbnails | Card 4:\" rel=\"nofollow sponsored noopener\" target=\"_blank\">\\n                     <span>\\n                      Sponsored\\n                     </span>\\n                    </a>\\n                    <a class=\"trc_mobile_disclosure_link trc_attribution_position_after_branding\" href=\"https://popup.taboola.com/ko/?template=colorbox&amp;utm_source=financialnews-fnnews&amp;utm_medium=referral&amp;utm_content=thumbs-feed-01-a:Below Article Thumbnails | Card 4:\" rel=\"nofollow sponsored noopener\" target=\"_blank\">\\n                     <span>\\n                      Sponsored\\n                     </span>\\n                    </a>\\n                   </div>\\n                  </span>\\n                  <div class=\"video-cta-href\">\\n                   <button class=\"video-cta-button video-cta-style\" style=\"border-color: rgb(0, 0, 0); font-weight: bold; font-family: Arial, Helvetica, sans-serif; color: rgb(0, 0, 0);\" type=\"button\">\\n                    더 알아보기\\n                   </button>\\n                  </div>\\n                 </span>\\n                </a>\\n                <div class=\"trc_user_exclude_btn\" title=\"아이템 삭제\">\\n                </div>\\n                <div class=\"trc_exclude_overlay trc_fade\">\\n                </div>\\n                <div class=\"trc_undo_btn\">\\n                 돌아가기\\n                </div>\\n               </div>\\n              </div>\\n             </div>\\n            </div>\\n            <div class=\"trc_clearer\">\\n            </div>\\n           </div>\\n          </div>\\n         </div>\\n        </div>\\n        <div class=\"trc_related_container trc_spotlight_widget trc_elastic trc_elastic_thumbs-feed-01-b tbl-feed-card\" data-batch-num=\"1\" data-card-index=\"5\" data-placement-name=\"Below Article Thumbnails | Card 5\" id=\"taboola-below-article-thumbnails-pl5\" observeid=\"tbl-observe-16\" style=\"padding: 0px;\" tbl-feed-card=\"\">\\n         <div class=\"trc_rbox_container\">\\n          <div>\\n           <div class=\"trc_rbox thumbs-feed-01-b trc-content-sponsored\" id=\"trc_wrapper_28012\" style=\"overflow: hidden; display: block;\">\\n            <div class=\"trc_rbox_header trc_rbox_border_elm\" id=\"trc_header_28012\">\\n             <div class=\"trc_header_ext\">\\n             </div>\\n             <span class=\"trc_rbox_header_span\">\\n             </span>\\n            </div>\\n            <div class=\"trc_rbox_outer\" id=\"outer_28012\">\\n             <div class=\"trc_rbox_div trc_rbox_border_elm\" id=\"rbox-t2v\">\\n              <div id=\"internal_trc_28012\">\\n               <div class=\"videoCube trc_spotlight_item origin-default thumbnail_top syndicatedItem textItem videoCube_1_child trc-first-recommendation trc-spotlight-first-recommendation trc_excludable\" data-item-id=\"~~V1~~4958385162960989110~~W7X1apFdgMMI7U-mhv1N781LcNzMy0Y-oM-cQqXoacVw6cLzOYgYTH58zK8cIqqSYdLQqVKQOYXFXB0TbXFl6Lo-spwjsFZxgn981Lsps2eM6pTNQ3iOaaxWc3gCc_c3RdbgwlJdnqyroTPEQNNEn2q5Y_Ok952sR1Ylscn1tOA\" data-item-syndicated=\"true\" data-item-thumb=\"http://cdn.taboola.com/libtrc/static/thumbnails/54b533fe051b7462563c0ad9dd2f9018.jpg\" data-item-title=\"&amp;#34;자가골수 줄기세포&amp;#34; 신 의료기술 등재! 수술없이 치료가능\" observeid=\"tbl-observe-17\">\\n                <a attributionsrc=\"\" class=\"item-thumbnail-href\" href=\"https://m.jangdeuk.com/test/pztest_knee.php\" rel=\"nofollow noopener sponsored\" slot=\"thumbnail\" target=\"_blank\" title=\\'\"자가골수 줄기세포\" 신 의료기술 등재! 수술없이 치료가능\\'>\\n                 <div class=\"thumbBlock_holder\">\\n                  <span class=\"thumbBlock\" style=\\'background-image: url(\"https://images.taboola.com/taboola/image/fetch/f_jpg%2Cq_auto%2Ch_234%2Cw_420%2Cc_fill%2Cg_faces:auto%2Ce_sharpen/http%3A//cdn.taboola.com/libtrc/static/thumbnails/54b533fe051b7462563c0ad9dd2f9018.jpg\");\\'>\\n                   <span class=\"thumbnail-overlay\">\\n                   </span>\\n                   <span class=\"branding\">\\n                    신(新) 의료기술 등재 - 자가골수 줄기세포 치료\\n                   </span>\\n                   <span class=\"static-text top-right\">\\n                   </span>\\n                  </span>\\n                  <div class=\"videoCube_aspect\">\\n                  </div>\\n                 </div>\\n                </a>\\n                <a attributionsrc=\"\" class=\"item-label-href video-cta-style\" href=\"https://m.jangdeuk.com/test/pztest_knee.php\" rel=\"nofollow noopener sponsored\" target=\"_blank\" title=\\'\"자가골수 줄기세포\" 신 의료기술 등재! 수술없이 치료가능\\'>\\n                 <span class=\"video-label-box trc-main-label video-label-box-cta video-label-box-cta-non-ie\">\\n                  <span class=\"video-label video-title video-label-flex-cta-item trc_ellipsis\" slot=\"title\" style=\"-webkit-line-clamp: 2;\">\\n                   \"자가골수 줄기세포\" 신 의료기술 등재! 수술없이 치료가능\\n                  </span>\\n                  <span class=\"video-label video-description video-label-flex-cta-item\" slot=\"description\" title=\\'\"Description: \"\\'>\\n                  </span>\\n                  <span class=\"branding composite-branding video-branding-flex-cta-item\" slot=\"branding\">\\n                   <span class=\"branding-inner\">\\n                    신(新) 의료기술 등재 - 자가골수 줄기세포 치료\\n                   </span>\\n                   <span class=\"branding-separator\">\\n                    |\\n                   </span>\\n                   <div class=\"logoDiv link-disclosure attribution-disclosure-link-sponsored align-disclosure-left\">\\n                    <a class=\"trc_desktop_disclosure_link trc_attribution_position_after_branding\" href=\"https://popup.taboola.com/ko/?template=colorbox&amp;utm_source=financialnews-fnnews&amp;utm_medium=referral&amp;utm_content=thumbs-feed-01-b:Below Article Thumbnails | Card 5:\" rel=\"nofollow sponsored noopener\" target=\"_blank\">\\n                     <span>\\n                      Sponsored\\n                     </span>\\n                    </a>\\n                    <a class=\"trc_mobile_disclosure_link trc_attribution_position_after_branding\" href=\"https://popup.taboola.com/ko/?template=colorbox&amp;utm_source=financialnews-fnnews&amp;utm_medium=referral&amp;utm_content=thumbs-feed-01-b:Below Article Thumbnails | Card 5:\" rel=\"nofollow sponsored noopener\" target=\"_blank\">\\n                     <span>\\n                      Sponsored\\n                     </span>\\n                    </a>\\n                   </div>\\n                  </span>\\n                  <div class=\"video-cta-href\">\\n                   <button class=\"video-cta-button video-cta-style\" style=\"border-color: rgb(0, 0, 0); font-weight: bold; font-family: Arial, Helvetica, sans-serif; color: rgb(0, 0, 0);\" type=\"button\">\\n                    더 알아보기\\n                   </button>\\n                  </div>\\n                 </span>\\n                </a>\\n                <div class=\"trc_user_exclude_btn\" title=\"아이템 삭제\">\\n                </div>\\n                <div class=\"trc_exclude_overlay trc_fade\">\\n                </div>\\n                <div class=\"trc_undo_btn\">\\n                 돌아가기\\n                </div>\\n               </div>\\n               <div class=\"videoCube trc_spotlight_item origin-default thumbnail_top syndicatedItem textItem videoCube_2_child trc_excludable\" data-item-id=\"~~V1~~-6366109336677687304~~YouL9Nv1mybm64hzp84RuQQGB8WX_x1644K2Pgn6ewd9_9IWyVTZYEw3zPc60dwzHu_TYvngZ3fIkOCpr71_kD7VbyU9qGbFCk3G1JTsLXyR4wjszxT69-kJs3abVD_Qr5gMK7Q3Mtd-x_7ug6Pj1oPOgxL2JA2sc84u9B4bw6MLN61xin331dzDLMtFU_-15K3TGY9avvsne_Cb8lHM1g\" data-item-syndicated=\"true\" data-item-thumb=\"http://cdn.taboola.com/libtrc/static/thumbnails/a8885d064a2524964923875ad59b4a8a.jpg\" data-item-title=\"&amp;#34;혈액순환 잘되네요&amp;#34; 손발저림까지 싹~&amp;#39;이것&amp;#39;, 하루 1번이면 된다!\" observeid=\"tbl-observe-18\">\\n                <a attributionsrc=\"\" class=\"item-thumbnail-href\" href=\"https://newsyn.kr/tr17\" rel=\"nofollow noopener sponsored\" slot=\"thumbnail\" target=\"_blank\" title=\"&quot;혈액순환 잘되네요&quot; 손발저림까지 싹~\\'이것\\', 하루 1번이면 된다!\">\\n                 <div class=\"thumbBlock_holder\">\\n                  <span class=\"thumbBlock\" style=\\'background-image: url(\"https://images.taboola.com/taboola/image/fetch/c_crop%2Cf_jpg%2Cq_auto%2Ce_sharpen%2Car_1.7778%2Cw_999%2Cx_0%2Cy_0/c_fill%2Cw_420%2Ch_234/http%3A//cdn.taboola.com/libtrc/static/thumbnails/a8885d064a2524964923875ad59b4a8a.jpg\");\\'>\\n                   <span class=\"thumbnail-overlay\">\\n                   </span>\\n                   <span class=\"branding\">\\n                    Rg3 더루트\\n                   </span>\\n                   <span class=\"static-text top-right\">\\n                   </span>\\n                  </span>\\n                  <div class=\"videoCube_aspect\">\\n                  </div>\\n                 </div>\\n                </a>\\n                <a attributionsrc=\"\" class=\"item-label-href\" href=\"https://newsyn.kr/tr17\" rel=\"nofollow noopener sponsored\" target=\"_blank\" title=\"&quot;혈액순환 잘되네요&quot; 손발저림까지 싹~\\'이것\\', 하루 1번이면 된다!\">\\n                 <span class=\"video-label-box trc-main-label\">\\n                  <span class=\"video-label video-title trc_ellipsis\" slot=\"title\" style=\"-webkit-line-clamp: 2;\">\\n                   \"혈액순환 잘되네요\" 손발저림까지 싹~\\'이것\\', 하루 1번이면 된다!\\n                  </span>\\n                  <span class=\"video-label video-description trc_ellipsis\" slot=\"description\" style=\"-webkit-line-clamp: 2;\" title=\\'\"Description: 카이스트 박사가 24년간 연구한 특이사포닌 Rg3 성분을 120배 담은 특허홍삼\"\\'>\\n                   카이스트 박사가 24년간 연구한 특이사포닌 Rg3 성분을 120배 담은 특허홍삼\\n                  </span>\\n                  <span class=\"branding composite-branding\" slot=\"branding\">\\n                   <span class=\"branding-inner\">\\n                    Rg3 더루트\\n                   </span>\\n                   <span class=\"branding-separator\">\\n                    |\\n                   </span>\\n                   <div class=\"logoDiv link-disclosure attribution-disclosure-link-sponsored align-disclosure-left\">\\n                    <a class=\"trc_desktop_disclosure_link trc_attribution_position_after_branding\" href=\"https://popup.taboola.com/ko/?template=colorbox&amp;utm_source=financialnews-fnnews&amp;utm_medium=referral&amp;utm_content=thumbs-feed-01-b:Below Article Thumbnails | Card 5:\" rel=\"nofollow sponsored noopener\" target=\"_blank\">\\n                     <span>\\n                      Sponsored\\n                     </span>\\n                    </a>\\n                    <a class=\"trc_mobile_disclosure_link trc_attribution_position_after_branding\" href=\"https://popup.taboola.com/ko/?template=colorbox&amp;utm_source=financialnews-fnnews&amp;utm_medium=referral&amp;utm_content=thumbs-feed-01-b:Below Article Thumbnails | Card 5:\" rel=\"nofollow sponsored noopener\" target=\"_blank\">\\n                     <span>\\n                      Sponsored\\n                     </span>\\n                    </a>\\n                   </div>\\n                  </span>\\n                 </span>\\n                </a>\\n                <div class=\"trc_user_exclude_btn\" title=\"아이템 삭제\">\\n                </div>\\n                <div class=\"trc_exclude_overlay trc_fade\">\\n                </div>\\n                <div class=\"trc_undo_btn\">\\n                 돌아가기\\n                </div>\\n               </div>\\n               <div class=\"videoCube trc_spotlight_item origin-default thumbnail_top syndicatedItem textItem videoCube_3_child trc_excludable\" data-item-id=\"~~V1~~-7548002152565511094~~fCORfw2iS62B1tD7gNMdrkMNaxbQzBgYlmWPPeTj2J4e79Ni-eBnd8iQ4KmvvX-QZfbPHwKBVRWQcf0ZAA2nV5HjCOzPFPr36QmzdptUP9CSVg5pPzbkD0osB0Miyw2tMBNjgIe5etjfv8u6D52kgQs3rXGKfffV3MMsy0VT_7XkrdMZj1q--yd78JvyUczW\" data-item-syndicated=\"true\" data-item-thumb=\"http://cdn.taboola.com/libtrc/static/thumbnails/dbebd1e4bac43be358f8f213b06b79e8.jpg\" data-item-title=\"15살 딸, 엄마 키 훌쩍 넘겨 167까지 쑥~ 키성장에 면역력까지 잡는 &amp;#39;이것&amp;#39;\" observeid=\"tbl-observe-19\">\\n                <a attributionsrc=\"\" class=\"item-thumbnail-href\" href=\"https://newsyg.kr/iclet48/\" rel=\"nofollow noopener sponsored\" slot=\"thumbnail\" target=\"_blank\" title=\"15살 딸, 엄마 키 훌쩍 넘겨 167까지 쑥~ 키성장에 면역력까지 잡는 \\'이것\\'\">\\n                 <div class=\"thumbBlock_holder\">\\n                  <span class=\"thumbBlock\" style=\\'background-image: url(\"https://images.taboola.com/taboola/image/fetch/f_jpg%2Cq_auto%2Ch_234%2Cw_420%2Cc_fill%2Cg_faces:auto%2Ce_sharpen/http%3A//cdn.taboola.com/libtrc/static/thumbnails/dbebd1e4bac43be358f8f213b06b79e8.jpg\");\\'>\\n                   <span class=\"thumbnail-overlay\">\\n                   </span>\\n                   <span class=\"branding\">\\n                    82% 재구매율의 키성장 1위 20관왕\\n                   </span>\\n                   <span class=\"static-text top-right\">\\n                   </span>\\n                  </span>\\n                  <div class=\"videoCube_aspect\">\\n                  </div>\\n                 </div>\\n                </a>\\n                <a attributionsrc=\"\" class=\"item-label-href video-cta-style\" href=\"https://newsyg.kr/iclet48/\" rel=\"nofollow noopener sponsored\" target=\"_blank\" title=\"15살 딸, 엄마 키 훌쩍 넘겨 167까지 쑥~ 키성장에 면역력까지 잡는 \\'이것\\'\">\\n                 <span class=\"video-label-box trc-main-label video-label-box-cta video-label-box-cta-non-ie\">\\n                  <span class=\"video-label video-title video-label-flex-cta-item trc_ellipsis\" slot=\"title\" style=\"-webkit-line-clamp: 2;\">\\n                   15살 딸, 엄마 키 훌쩍 넘겨 167까지 쑥~ 키성장에 면역력까지 잡는 \\'이것\\'\\n                  </span>\\n                  <span class=\"video-label video-description video-label-flex-cta-item trc_ellipsis\" slot=\"description\" style=\"-webkit-line-clamp: 2;\" title=\\'\"Description: 82%의 압도적인 재구매율, 79만 부모님들의 선택, 5년 연속 키성장 1위 수상 기념 이벤트 진행중\"\\'>\\n                   82%의 압도적인 재구매율, 79만 부모님들의 선택, 5년 연속 키성장 1위 수상 기념 이벤트 진행중\\n                  </span>\\n                  <span class=\"branding composite-branding video-branding-flex-cta-item\" slot=\"branding\">\\n                   <span class=\"branding-inner\">\\n                    82% 재구매율의 키성장 1위 20관왕\\n                   </span>\\n                   <span class=\"branding-separator\">\\n                    |\\n                   </span>\\n                   <div class=\"logoDiv link-disclosure attribution-disclosure-link-sponsored align-disclosure-left\">\\n                    <a class=\"trc_desktop_disclosure_link trc_attribution_position_after_branding\" href=\"https://popup.taboola.com/ko/?template=colorbox&amp;utm_source=financialnews-fnnews&amp;utm_medium=referral&amp;utm_content=thumbs-feed-01-b:Below Article Thumbnails | Card 5:\" rel=\"nofollow sponsored noopener\" target=\"_blank\">\\n                     <span>\\n                      Sponsored\\n                     </span>\\n                    </a>\\n                    <a class=\"trc_mobile_disclosure_link trc_attribution_position_after_branding\" href=\"https://popup.taboola.com/ko/?template=colorbox&amp;utm_source=financialnews-fnnews&amp;utm_medium=referral&amp;utm_content=thumbs-feed-01-b:Below Article Thumbnails | Card 5:\" rel=\"nofollow sponsored noopener\" target=\"_blank\">\\n                     <span>\\n                      Sponsored\\n                     </span>\\n                    </a>\\n                   </div>\\n                  </span>\\n                  <div class=\"video-cta-href\">\\n                   <button class=\"video-cta-button video-cta-style\" style=\"border-color: rgb(0, 0, 0); font-weight: bold; font-family: Arial, Helvetica, sans-serif; color: rgb(0, 0, 0);\" type=\"button\">\\n                    더 알아보기\\n                   </button>\\n                  </div>\\n                 </span>\\n                </a>\\n                <div class=\"trc_user_exclude_btn\" title=\"아이템 삭제\">\\n                </div>\\n                <div class=\"trc_exclude_overlay trc_fade\">\\n                </div>\\n                <div class=\"trc_undo_btn\">\\n                 돌아가기\\n                </div>\\n               </div>\\n              </div>\\n             </div>\\n            </div>\\n            <div class=\"trc_clearer\">\\n            </div>\\n           </div>\\n          </div>\\n         </div>\\n        </div>\\n       </div>\\n       <script type=\"text/javascript\">\\n        $( document ).ready(function() {\\n\\n                                window._taboola = window._taboola || [];\\n                                _taboola.push({\\n                                    mode: \\'alternating-thumbnails-a\\',\\n                                    container: \\'taboola-below-article-thumbnails\\',\\n                                    placement: \\'Below Article Thumbnails\\',\\n                                    target_type: \\'mix\\'\\n                                });\\n\\n                            });\\n       </script>\\n       <!--뉴스 스탠드-->\\n       <div class=\"newsStand\" id=\"newsStandArea\" observeid=\"tbl-observe-48\" style=\"position: relative;\">\\n        <h3 class=\"tit_sec\">\\n         <span class=\"blind\">\\n          뉴스스탠드\\n         </span>\\n        </h3>\\n        <div class=\"wrap_newsStand\">\\n         <div class=\"col-1\">\\n          <div class=\"wrap_art\">\\n           <a class=\"thumb_img\" href=\"/news/202403220851063917?pg=stand\">\\n            <img alt=\"스탠드 메인기사\" src=\"https://image.fnnews.com/resource/crop_image/2024/03/22/thumb/202403220851063917_1711070209313.jpg\"/>\\n           </a>\\n           <strong class=\"tit_thumb\">\\n            <a href=\"/news/202403220851063917?pg=stand\">\\n             홍준표, 뜻밖의 예언 \"尹 대 조국 2차전 되면 국힘은...\"\\n            </a>\\n           </strong>\\n          </div>\\n          <ul class=\"list_art\">\\n           <li>\\n            <a href=\"/news/202403221335396242?pg=stand\">\\n             \"낮에는 교사, 밤에는...\" 13억 번 여성의 비결\\n            </a>\\n           </li>\\n           <li>\\n            <a href=\"/news/202403220001016193?pg=stand\">\\n             고위공무원 재산 1위 김은혜, 남편 토지가 무려\\n            </a>\\n           </li>\\n           <li>\\n            <a href=\"/news/202403220617078764?pg=stand\">\\n             \"일 너무 많아 스트레스\" 집배원의 황당 행보\\n            </a>\\n           </li>\\n           <li>\\n            <a href=\"/news/202403221027047246?pg=stand\">\\n             \"31살까지 결혼자금 7000만원...\" 20대 女 고민\\n            </a>\\n           </li>\\n          </ul>\\n         </div>\\n         <div class=\"col-2\">\\n          <div class=\"txt_float\">\\n           <div class=\"list_art\">\\n            <a class=\"link_art\" href=\"/news/202403211307061212?pg=stand\">\\n             <span class=\"float_b\">\\n              <storng class=\"tit_thumb\">\\n               \"코인으로 집사고 8억 모으니 여친이...\"\\n              </storng>\\n             </span>\\n             <span class=\"thumb_img\">\\n              <img alt=\"뉴스스탠드 기사 보러가기\" src=\"https://image.fnnews.com/resource/crop_image/2024/03/21/thumb/202403211307061212_1711085139056.jpg\"/>\\n             </span>\\n            </a>\\n           </div>\\n           <div class=\"list_art\">\\n            <a class=\"link_art\" href=\"/news/202403220752161150?pg=stand\">\\n             <span class=\"float_b\">\\n              <storng class=\"tit_thumb\">\\n               8500억원 기부한 여성, 이혼 위자료가...\\n              </storng>\\n             </span>\\n             <span class=\"thumb_img\">\\n              <img alt=\"뉴스스탠드 기사 보러가기\" src=\"https://image.fnnews.com/resource/crop_image/2024/03/22/thumb/202403220752161150_1711086381099.jpg\"/>\\n             </span>\\n            </a>\\n           </div>\\n           <div class=\"list_art\">\\n            <a class=\"link_art\" href=\"/news/202403220812445877?pg=stand\">\\n             <span class=\"float_b\">\\n              <storng class=\"tit_thumb\">\\n               \"회사 후계 싸움서 밀리자 남편이...\"\\n              </storng>\\n             </span>\\n             <span class=\"thumb_img\">\\n              <img alt=\"뉴스스탠드 기사 보러가기\" src=\"https://image.fnnews.com/resource/crop_image/2024/03/22/thumb/202403220812445877_1711068332746.jpg\"/>\\n             </span>\\n            </a>\\n           </div>\\n           <div class=\"list_art\">\\n            <a class=\"link_art\" href=\"/news/202403211753054010?pg=stand\">\\n             <span class=\"float_b\">\\n              <storng class=\"tit_thumb\">\\n               \"구준엽과 불륜\" 前남편에 서희원 반응은\\n              </storng>\\n             </span>\\n             <span class=\"thumb_img\">\\n              <img alt=\"뉴스스탠드 기사 보러가기\" src=\"https://image.fnnews.com/resource/crop_image/2024/03/21/thumb/202403211753054010_1711069035727.jpg\"/>\\n             </span>\\n            </a>\\n           </div>\\n          </div>\\n          <strong class=\"tit_thumb\">\\n           <a href=\"/news/202403221808394328?pg=stand\">\\n            일본 \\'독도는 우리땅\\' 교과서에..尹정부, 대사 초치 항의\\n           </a>\\n          </strong>\\n          <ul class=\"list_art\">\\n           <li>\\n            <a class=\"txt_red\" href=\"/news/202403210724455659?pg=stand\">\\n             남양주서 30대 공무원 숨진 채 발견\\n            </a>\\n           </li>\\n           <li>\\n            <a href=\"/news/202403220826542448?pg=stand\">\\n             국대 은퇴 질문에 \\'멈칫\\' 손흥민, 대답은?\\n            </a>\\n           </li>\\n           <li>\\n            <a class=\"txt_red\" href=\"/news/202403210937299518?pg=stand\">\\n             평균 연봉 \\'1억4390만원\\' 신의 직장 어디?\\n            </a>\\n           </li>\\n           <li>\\n            <a href=\"/news/202403211043474868?pg=stand\">\\n             박지원, 의미심장한 발언 \"尹 탄핵은...\"\\n            </a>\\n           </li>\\n          </ul>\\n         </div>\\n        </div>\\n       </div>\\n       <!--함께 볼만한 영상-->\\n       <div class=\"tbl-feed-container tbl-feed-frame-DIVIDER\" data-feed-container-num=\"2\" data-feed-main-container-id=\"taboola-below-article-thumbnails\" data-parent-placement-name=\"Below Article Thumbnails\" data-pub-lang=\"ko\" id=\"taboola-below-article-thumbnails-split-num-1\" tbl-data-mutation-observer=\"true\">\\n        <div class=\"trc_related_container trc_spotlight_widget trc_elastic trc_elastic_thumbs-feed-01-b tbl-feed-card tbl-feed-card\" data-batch-num=\"2\" data-card-index=\"9\" data-placement-name=\"Below Article Thumbnails | Card 9\" id=\"taboola-below-article-thumbnails-pl9\" observeid=\"tbl-observe-49\" style=\"padding: 0px;\" tbl-feed-card=\"\">\\n         <div class=\"trc_rbox_container\">\\n          <div>\\n           <div class=\"trc_rbox thumbs-feed-01-b trc-content-sponsored\" id=\"trc_wrapper_76749\" style=\"overflow: hidden; display: block;\">\\n            <div class=\"trc_rbox_header trc_rbox_border_elm\" id=\"trc_header_76749\">\\n             <div class=\"trc_header_ext\">\\n             </div>\\n             <span class=\"trc_rbox_header_span\">\\n             </span>\\n            </div>\\n            <div class=\"trc_rbox_outer\" id=\"outer_76749\">\\n             <div class=\"trc_rbox_div trc_rbox_border_elm\" id=\"rbox-t2v\">\\n              <div id=\"internal_trc_76749\">\\n               <div class=\"videoCube trc_spotlight_item origin-default thumbnail_top syndicatedItem textItem videoCube_1_child trc-first-recommendation trc-spotlight-first-recommendation trc_excludable\" data-item-id=\"~~V1~~-3784431499681563275~~1DvH5-cFwrFCxIelTWssxtGg-GtcuVWrVASMhT-5MOV9_9IWyVTZYEw3zPc60dwzHu_TYvngZ3fIkOCpr71_kAqE0_yL1hRu0U20mv8_l16Ci3u76qFBKxCIV6YAIFdJoz0_PgIgUGnhqVNMPDZDrnqXzesSTXpWOKw1hfWm9TILN61xin331dzDLMtFU_-15K3TGY9avvsne_Cb8lHM1g\" data-item-syndicated=\"true\" data-item-thumb=\"http://c3.taboola.com/libtrc/static/thumbnails/so_auto/f_jpg/v1705033745/yxotetqnhxvue5aknlzm.jpg\" data-item-title=\"족저근막염 극복한 딱 1가지 방법\" observeid=\"tbl-observe-50\">\\n                <a attributionsrc=\"\" class=\"item-thumbnail-href\" href=\"https://m.post.naver.com/viewer/postView.naver\" rel=\"nofollow noopener sponsored\" slot=\"thumbnail\" target=\"_blank\" title=\"족저근막염 극복한 딱 1가지 방법\">\\n                 <div class=\"thumbBlock_holder\">\\n                  <span class=\"thumbBlock\" observeid=\"tbl-observe-60\" style=\\'background-image: url(\"https://images.taboola.com/taboola/image/fetch/f_jpg%2Cq_auto%2Ch_234%2Cw_420%2Cc_fill%2Cg_faces:auto%2Ce_sharpen/http%3A//c3.taboola.com/libtrc/static/thumbnails/so_auto/f_jpg/v1705033745/yxotetqnhxvue5aknlzm.jpg\");\\'>\\n                   <span class=\"thumbnail-overlay\">\\n                   </span>\\n                   <span class=\"branding\">\\n                    발아픈사람이야기\\n                   </span>\\n                   <span class=\"static-text top-right\">\\n                   </span>\\n                  </span>\\n                  <div class=\"videoCube_aspect\">\\n                  </div>\\n                 </div>\\n                </a>\\n                <a attributionsrc=\"\" class=\"item-label-href video-cta-style\" href=\"https://m.post.naver.com/viewer/postView.naver\" rel=\"nofollow noopener sponsored\" target=\"_blank\" title=\"족저근막염 극복한 딱 1가지 방법\">\\n                 <span class=\"video-label-box trc-main-label video-label-box-cta video-label-box-cta-non-ie\">\\n                  <span class=\"video-label video-title video-label-flex-cta-item trc_ellipsis\" slot=\"title\" style=\"-webkit-line-clamp: 2;\">\\n                   족저근막염 극복한 딱 1가지 방법\\n                  </span>\\n                  <span class=\"video-label video-description video-label-flex-cta-item trc_ellipsis\" slot=\"description\" style=\"-webkit-line-clamp: 2;\" title=\\'\"Description: 족저근막염 때문에 폐업까지 하게 된 남자가 이 방법을 알고 족저근막염을 극복하게 되는데...\"\\'>\\n                   족저근막염 때문에 폐업까지 하게 된 남자가 이 방법을 알고 족저근막염을 극복하게 되는데...\\n                  </span>\\n                  <span class=\"branding composite-branding video-branding-flex-cta-item\" slot=\"branding\">\\n                   <span class=\"branding-inner\">\\n                    발아픈사람이야기\\n                   </span>\\n                   <span class=\"branding-separator\">\\n                    |\\n                   </span>\\n                   <div class=\"logoDiv link-disclosure attribution-disclosure-link-sponsored align-disclosure-left\">\\n                    <a class=\"trc_desktop_disclosure_link trc_attribution_position_after_branding\" href=\"https://popup.taboola.com/ko/?template=colorbox&amp;utm_source=financialnews-fnnews&amp;utm_medium=referral&amp;utm_content=thumbs-feed-01-b:Below Article Thumbnails | Card 9:\" rel=\"nofollow sponsored noopener\" target=\"_blank\">\\n                     <span>\\n                      Sponsored\\n                     </span>\\n                    </a>\\n                    <a class=\"trc_mobile_disclosure_link trc_attribution_position_after_branding\" href=\"https://popup.taboola.com/ko/?template=colorbox&amp;utm_source=financialnews-fnnews&amp;utm_medium=referral&amp;utm_content=thumbs-feed-01-b:Below Article Thumbnails | Card 9:\" rel=\"nofollow sponsored noopener\" target=\"_blank\">\\n                     <span>\\n                      Sponsored\\n                     </span>\\n                    </a>\\n                   </div>\\n                  </span>\\n                  <div class=\"video-cta-href\">\\n                   <button class=\"video-cta-button video-cta-style\" style=\"border-color: rgb(0, 0, 0); font-weight: bold; font-family: Arial, Helvetica, sans-serif; color: rgb(0, 0, 0);\" type=\"button\">\\n                    더 알아보기\\n                   </button>\\n                  </div>\\n                 </span>\\n                </a>\\n                <div class=\"trc_user_exclude_btn\" title=\"아이템 삭제\">\\n                </div>\\n                <div class=\"trc_exclude_overlay trc_fade\">\\n                </div>\\n                <div class=\"trc_undo_btn\">\\n                 돌아가기\\n                </div>\\n               </div>\\n               <div class=\"videoCube trc_spotlight_item origin-default thumbnail_top syndicatedItem textItem videoCube_2_child trc_excludable\" data-item-id=\"~~V1~~2625950403414379387~~7opZuJcz5iy61uV2hYoglc1LcNzMy0Y-oM-cQqXoacVyNpbgedRdYuhjTdtdbeHkSHVqMkrwOdV07UvUa79Dpbo-spwjsFZxgn981Lsps2eM6pTNQ3iOaaxWc3gCc_c3RdbgwlJdnqyroTPEQNNEn2q5Y_Ok952sR1Ylscn1tOA\" data-item-syndicated=\"true\" data-item-thumb=\"http://cdn.taboola.com/libtrc/static/thumbnails/383469d97fdafb42f1fe0ba8ee0e4d50.jpg\" data-item-title=\"무릎통증 &amp;#34;줄기세포&amp;#34; 치료, 수술없이 당일 일상복귀가능\" observeid=\"tbl-observe-51\">\\n                <a attributionsrc=\"\" class=\"item-thumbnail-href\" href=\"https://m.jangdeuk.com/test/pztest_knee.php\" rel=\"nofollow noopener sponsored\" slot=\"thumbnail\" target=\"_blank\" title=\\'무릎통증 \"줄기세포\" 치료, 수술없이 당일 일상복귀가능\\'>\\n                 <div class=\"thumbBlock_holder\">\\n                  <span class=\"thumbBlock\" style=\\'background-image: url(\"https://images.taboola.com/taboola/image/fetch/f_jpg%2Cq_auto%2Ch_234%2Cw_420%2Cc_fill%2Cg_faces:auto%2Ce_sharpen/http%3A//cdn.taboola.com/libtrc/static/thumbnails/383469d97fdafb42f1fe0ba8ee0e4d50.jpg\");\\'>\\n                   <span class=\"thumbnail-overlay\">\\n                   </span>\\n                   <span class=\"branding\">\\n                    신(新) 의료기술 등재 - 자가골수 줄기세포 치료\\n                   </span>\\n                   <span class=\"static-text top-right\">\\n                   </span>\\n                  </span>\\n                  <div class=\"videoCube_aspect\">\\n                  </div>\\n                 </div>\\n                </a>\\n                <a attributionsrc=\"\" class=\"item-label-href video-cta-style\" href=\"https://m.jangdeuk.com/test/pztest_knee.php\" rel=\"nofollow noopener sponsored\" target=\"_blank\" title=\\'무릎통증 \"줄기세포\" 치료, 수술없이 당일 일상복귀가능\\'>\\n                 <span class=\"video-label-box trc-main-label video-label-box-cta video-label-box-cta-non-ie\">\\n                  <span class=\"video-label video-title video-label-flex-cta-item trc_ellipsis\" slot=\"title\" style=\"-webkit-line-clamp: 2;\">\\n                   무릎통증 \"줄기세포\" 치료, 수술없이 당일 일상복귀가능\\n                  </span>\\n                  <span class=\"video-label video-description video-label-flex-cta-item\" slot=\"description\" title=\\'\"Description: \"\\'>\\n                  </span>\\n                  <span class=\"branding composite-branding video-branding-flex-cta-item\" slot=\"branding\">\\n                   <span class=\"branding-inner\">\\n                    신(新) 의료기술 등재 - 자가골수 줄기세포 치료\\n                   </span>\\n                   <span class=\"branding-separator\">\\n                    |\\n                   </span>\\n                   <div class=\"logoDiv link-disclosure attribution-disclosure-link-sponsored align-disclosure-left\">\\n                    <a class=\"trc_desktop_disclosure_link trc_attribution_position_after_branding\" href=\"https://popup.taboola.com/ko/?template=colorbox&amp;utm_source=financialnews-fnnews&amp;utm_medium=referral&amp;utm_content=thumbs-feed-01-b:Below Article Thumbnails | Card 9:\" rel=\"nofollow sponsored noopener\" target=\"_blank\">\\n                     <span>\\n                      Sponsored\\n                     </span>\\n                    </a>\\n                    <a class=\"trc_mobile_disclosure_link trc_attribution_position_after_branding\" href=\"https://popup.taboola.com/ko/?template=colorbox&amp;utm_source=financialnews-fnnews&amp;utm_medium=referral&amp;utm_content=thumbs-feed-01-b:Below Article Thumbnails | Card 9:\" rel=\"nofollow sponsored noopener\" target=\"_blank\">\\n                     <span>\\n                      Sponsored\\n                     </span>\\n                    </a>\\n                   </div>\\n                  </span>\\n                  <div class=\"video-cta-href\">\\n                   <button class=\"video-cta-button video-cta-style\" style=\"border-color: rgb(0, 0, 0); font-weight: bold; font-family: Arial, Helvetica, sans-serif; color: rgb(0, 0, 0);\" type=\"button\">\\n                    더 알아보기\\n                   </button>\\n                  </div>\\n                 </span>\\n                </a>\\n                <div class=\"trc_user_exclude_btn\" title=\"아이템 삭제\">\\n                </div>\\n                <div class=\"trc_exclude_overlay trc_fade\">\\n                </div>\\n                <div class=\"trc_undo_btn\">\\n                 돌아가기\\n                </div>\\n               </div>\\n               <div class=\"videoCube trc_spotlight_item origin-default thumbnail_top syndicatedItem textItem videoCube_3_child trc_excludable\" data-item-id=\"~~V1~~-6510154880206120903~~8yqz2QdcXpVHkQDq5xDGlFnaoBUb3l0qfoOlNuHJVKZ9_9IWyVTZYEw3zPc60dwzHu_TYvngZ3fIkOCpr71_kGX2zx8CgVUVkHH9GQANp1eCi3u76qFBKxCIV6YAIFdJEJmcfzD1UJ14VrHJA_VPY3H9Vsewp3lRGM0gIgCiJo4LN61xin331dzDLMtFU_-15K3TGY9avvsne_Cb8lHM1g\" data-item-syndicated=\"true\" data-item-thumb=\"http://cdn.taboola.com/libtrc/static/thumbnails/cc2c48230e2218a076157fb34adbdad7.jpg\" data-item-title=\"주식\\xa0 매수, 매도 타이밍(전문 주식 트레이더 종목 선정 이번주만 무료)\" observeid=\"tbl-observe-52\">\\n                <a attributionsrc=\"\" class=\"item-thumbnail-href\" href=\"https://future-news.co.kr/tadhiv2/\" rel=\"nofollow noopener sponsored\" slot=\"thumbnail\" target=\"_blank\" title=\"주식\\xa0 매수, 매도 타이밍(전문 주식 트레이더 종목 선정 이번주만 무료)\">\\n                 <div class=\"thumbBlock_holder\">\\n                  <span class=\"thumbBlock\" style=\\'background-image: url(\"https://images.taboola.com/taboola/image/fetch/f_jpg%2Cq_auto%2Ch_234%2Cw_420%2Cc_fill%2Cg_faces:auto%2Ce_sharpen/http%3A//cdn.taboola.com/libtrc/static/thumbnails/cc2c48230e2218a076157fb34adbdad7.jpg\");\\'>\\n                   <span class=\"thumbnail-overlay\">\\n                   </span>\\n                   <span class=\"branding\">\\n                    공동투자그룹(국내 트레이딩)\\n                   </span>\\n                   <span class=\"static-text top-right\">\\n                   </span>\\n                  </span>\\n                  <div class=\"videoCube_aspect\">\\n                  </div>\\n                 </div>\\n                </a>\\n                <a attributionsrc=\"\" class=\"item-label-href video-cta-style\" href=\"https://future-news.co.kr/tadhiv2/\" rel=\"nofollow noopener sponsored\" target=\"_blank\" title=\"주식\\xa0 매수, 매도 타이밍(전문 주식 트레이더 종목 선정 이번주만 무료)\">\\n                 <span class=\"video-label-box trc-main-label video-label-box-cta video-label-box-cta-non-ie\">\\n                  <span class=\"video-label video-title video-label-flex-cta-item trc_ellipsis\" slot=\"title\" style=\"-webkit-line-clamp: 2;\">\\n                   주식\\xa0 매수, 매도 타이밍(전문 주식 트레이더 종목 선정 이번주만 무료)\\n                  </span>\\n                  <span class=\"video-label video-description video-label-flex-cta-item\" slot=\"description\" title=\\'\"Description: \"\\'>\\n                  </span>\\n                  <span class=\"branding composite-branding video-branding-flex-cta-item\" slot=\"branding\">\\n                   <span class=\"branding-inner\">\\n                    공동투자그룹(국내 트레이딩)\\n                   </span>\\n                   <span class=\"branding-separator\">\\n                    |\\n                   </span>\\n                   <div class=\"logoDiv link-disclosure attribution-disclosure-link-sponsored align-disclosure-left\">\\n                    <a class=\"trc_desktop_disclosure_link trc_attribution_position_after_branding\" href=\"https://popup.taboola.com/ko/?template=colorbox&amp;utm_source=financialnews-fnnews&amp;utm_medium=referral&amp;utm_content=thumbs-feed-01-b:Below Article Thumbnails | Card 9:\" rel=\"nofollow sponsored noopener\" target=\"_blank\">\\n                     <span>\\n                      Sponsored\\n                     </span>\\n                    </a>\\n                    <a class=\"trc_mobile_disclosure_link trc_attribution_position_after_branding\" href=\"https://popup.taboola.com/ko/?template=colorbox&amp;utm_source=financialnews-fnnews&amp;utm_medium=referral&amp;utm_content=thumbs-feed-01-b:Below Article Thumbnails | Card 9:\" rel=\"nofollow sponsored noopener\" target=\"_blank\">\\n                     <span>\\n                      Sponsored\\n                     </span>\\n                    </a>\\n                   </div>\\n                  </span>\\n                  <div class=\"video-cta-href\">\\n                   <button class=\"video-cta-button video-cta-style\" style=\"border-color: rgb(0, 0, 0); font-weight: bold; font-family: Arial, Helvetica, sans-serif; color: rgb(0, 0, 0);\" type=\"button\">\\n                    더 알아보기\\n                   </button>\\n                  </div>\\n                 </span>\\n                </a>\\n                <div class=\"trc_user_exclude_btn\" title=\"아이템 삭제\">\\n                </div>\\n                <div class=\"trc_exclude_overlay trc_fade\">\\n                </div>\\n                <div class=\"trc_undo_btn\">\\n                 돌아가기\\n                </div>\\n               </div>\\n              </div>\\n             </div>\\n            </div>\\n            <div class=\"trc_clearer\">\\n            </div>\\n           </div>\\n          </div>\\n         </div>\\n        </div>\\n        <div class=\"trc_related_container trc_spotlight_widget trc_elastic trc_elastic_thumbs-feed-01-b tbl-feed-card tbl-feed-card\" data-batch-num=\"2\" data-card-index=\"10\" data-placement-name=\"Below Article Thumbnails | Card 10\" id=\"taboola-below-article-thumbnails-pl10\" observeid=\"tbl-observe-53\" style=\"padding: 0px;\" tbl-feed-card=\"\">\\n         <div class=\"trc_rbox_container\">\\n          <div>\\n           <div class=\"trc_rbox thumbs-feed-01-b trc-content-sponsored\" id=\"trc_wrapper_56255\" style=\"overflow: hidden; display: block;\">\\n            <div class=\"trc_rbox_header trc_rbox_border_elm\" id=\"trc_header_56255\">\\n             <div class=\"trc_header_ext\">\\n             </div>\\n             <span class=\"trc_rbox_header_span\">\\n             </span>\\n            </div>\\n            <div class=\"trc_rbox_outer\" id=\"outer_56255\">\\n             <div class=\"trc_rbox_div trc_rbox_border_elm\" id=\"rbox-t2v\">\\n              <div id=\"internal_trc_56255\">\\n               <div class=\"videoCube trc_spotlight_item origin-default thumbnail_top syndicatedItem textItem videoCube_1_child trc-first-recommendation trc-spotlight-first-recommendation trc_excludable\" data-item-id=\"~~V1~~5358716960333550141~~eOHv9DICaySAtkd-FzhnppN-i1RDWKkCcSeOK1fz8ol9_9IWyVTZYEw3zPc60dwzHu_TYvngZ3fIkOCpr71_kAqE0_yL1hRu0U20mv8_l14zcl-vDKPNCydh8fnFqeZrrxBlxLgKKfwaXYIl8q4RALd-autETMYfoIB6AL6ABVudIH0g5w8SzkdC5fAcQJEmp_S0ig87w5lOV3QycS3MEQ\" data-item-syndicated=\"true\" data-item-thumb=\"http://cdn.taboola.com/libtrc/static/thumbnails/c816751ba19fc650b8a9be0c11136374.jpg\" data-item-title=\"마우스가 있다면 밤새워 즐기게 되는 게임. 설치 없이 바로 실행. 무료로 플레이.\" observeid=\"tbl-observe-54\">\\n                <a attributionsrc=\"\" class=\"item-thumbnail-href\" href=\"https://navy.quest/\" rel=\"nofollow noopener sponsored\" slot=\"thumbnail\" target=\"_blank\" title=\"마우스가 있다면 밤새워 즐기게 되는 게임. 설치 없이 바로 실행. 무료로 플레이.\">\\n                 <div class=\"thumbBlock_holder\">\\n                  <span class=\"thumbBlock\" observeid=\"tbl-observe-61\" style=\\'background-image: url(\"https://images.taboola.com/taboola/image/fetch/f_jpg%2Cq_auto%2Ch_234%2Cw_420%2Cc_fill%2Cg_faces:auto%2Ce_sharpen/http%3A//cdn.taboola.com/libtrc/static/thumbnails/c816751ba19fc650b8a9be0c11136374.jpg\");\\'>\\n                   <span class=\"thumbnail-overlay\">\\n                   </span>\\n                   <span class=\"branding\">\\n                    Navy.Quest\\n                   </span>\\n                   <span class=\"static-text top-right\">\\n                   </span>\\n                  </span>\\n                  <div class=\"videoCube_aspect\">\\n                  </div>\\n                 </div>\\n                </a>\\n                <a attributionsrc=\"\" class=\"item-label-href\" href=\"https://navy.quest/\" rel=\"nofollow noopener sponsored\" target=\"_blank\" title=\"마우스가 있다면 밤새워 즐기게 되는 게임. 설치 없이 바로 실행. 무료로 플레이.\">\\n                 <span class=\"video-label-box trc-main-label\">\\n                  <span class=\"video-label video-title trc_ellipsis\" slot=\"title\" style=\"-webkit-line-clamp: 2;\">\\n                   마우스가 있다면 밤새워 즐기게 되는 게임. 설치 없이 바로 실행. 무료로 플레이.\\n                  </span>\\n                  <span class=\"video-label video-description\" slot=\"description\" title=\\'\"Description: \"\\'>\\n                  </span>\\n                  <span class=\"branding composite-branding\" slot=\"branding\">\\n                   <span class=\"branding-inner\">\\n                    Navy.Quest\\n                   </span>\\n                   <span class=\"branding-separator\">\\n                    |\\n                   </span>\\n                   <div class=\"logoDiv link-disclosure attribution-disclosure-link-sponsored align-disclosure-left\">\\n                    <a class=\"trc_desktop_disclosure_link trc_attribution_position_after_branding\" href=\"https://popup.taboola.com/ko/?template=colorbox&amp;utm_source=financialnews-fnnews&amp;utm_medium=referral&amp;utm_content=thumbs-feed-01-b:Below Article Thumbnails | Card 10:\" rel=\"nofollow sponsored noopener\" target=\"_blank\">\\n                     <span>\\n                      Sponsored\\n                     </span>\\n                    </a>\\n                    <a class=\"trc_mobile_disclosure_link trc_attribution_position_after_branding\" href=\"https://popup.taboola.com/ko/?template=colorbox&amp;utm_source=financialnews-fnnews&amp;utm_medium=referral&amp;utm_content=thumbs-feed-01-b:Below Article Thumbnails | Card 10:\" rel=\"nofollow sponsored noopener\" target=\"_blank\">\\n                     <span>\\n                      Sponsored\\n                     </span>\\n                    </a>\\n                   </div>\\n                  </span>\\n                 </span>\\n                </a>\\n                <div class=\"trc_user_exclude_btn\" title=\"아이템 삭제\">\\n                </div>\\n                <div class=\"trc_exclude_overlay trc_fade\">\\n                </div>\\n                <div class=\"trc_undo_btn\">\\n                 돌아가기\\n                </div>\\n               </div>\\n               <div class=\"videoCube trc_spotlight_item origin-default thumbnail_top syndicatedItem textItem videoCube_2_child trc_excludable\" data-item-id=\"~~V1~~3895506894857255973~~sWxdDJuTTBf14P6CBksc54V8uLcoqcNe4AoFQ_H2Z_LnoZueAsnM0UTkqRiz-o8uV9GNaet_FWxUAZ9PPPsFwUlXQHzTtymE3K65rHdMTBsT6D0bLwZ5aeIJLiUATEqNUg3iZaS8_VxFOO76T0gXBY8XwLbI--WZuj80gUuMjcmANYc8yTOOd3sdxsWboO530o8HUYz7pKhuTnvJXvMOdg\" data-item-syndicated=\"true\" data-item-thumb=\"http://cdn.taboola.com/libtrc/static/thumbnails/22d7557c62ee249834aff773f165abce.jpg\" data-item-title=\"마우스 하나로 밤새는 게임!\" observeid=\"tbl-observe-55\">\\n                <a attributionsrc=\"\" class=\"item-thumbnail-href\" href=\"https://plarium.com/landings/ko/desktop/mech-arena/rdo/ma_control_panel_prel_jt1867\" rel=\"nofollow noopener sponsored\" slot=\"thumbnail\" target=\"_blank\" title=\"마우스 하나로 밤새는 게임!\">\\n                 <div class=\"thumbBlock_holder\">\\n                  <span class=\"thumbBlock\" style=\\'background-image: url(\"https://images.taboola.com/taboola/image/fetch/f_jpg%2Cq_auto%2Ch_234%2Cw_420%2Cc_fill%2Cg_faces:auto%2Ce_sharpen/http%3A//cdn.taboola.com/libtrc/static/thumbnails/22d7557c62ee249834aff773f165abce.jpg\");\\'>\\n                   <span class=\"thumbnail-overlay\">\\n                   </span>\\n                   <span class=\"branding\">\\n                    Mech Arena- Free to Play\\n                   </span>\\n                   <span class=\"static-text top-right\">\\n                   </span>\\n                  </span>\\n                  <div class=\"videoCube_aspect\">\\n                  </div>\\n                 </div>\\n                </a>\\n                <a attributionsrc=\"\" class=\"item-label-href video-cta-style\" href=\"https://plarium.com/landings/ko/desktop/mech-arena/rdo/ma_control_panel_prel_jt1867\" rel=\"nofollow noopener sponsored\" target=\"_blank\" title=\"마우스 하나로 밤새는 게임!\">\\n                 <span class=\"video-label-box trc-main-label video-label-box-cta video-label-box-cta-non-ie\">\\n                  <span class=\"video-label video-title video-label-flex-cta-item trc_ellipsis\" slot=\"title\" style=\"-webkit-line-clamp: 1;\">\\n                   마우스 하나로 밤새는 게임!\\n                  </span>\\n                  <span class=\"video-label video-description video-label-flex-cta-item trc_ellipsis\" slot=\"description\" style=\"-webkit-line-clamp: 1;\" title=\\'\"Description: 실시간 5대5 메카닉 대전\"\\'>\\n                   실시간 5대5 메카닉 대전\\n                  </span>\\n                  <span class=\"branding composite-branding video-branding-flex-cta-item\" slot=\"branding\">\\n                   <span class=\"branding-inner\">\\n                    Mech Arena- Free to Play\\n                   </span>\\n                   <span class=\"branding-separator\">\\n                    |\\n                   </span>\\n                   <div class=\"logoDiv link-disclosure attribution-disclosure-link-sponsored align-disclosure-left\">\\n                    <a class=\"trc_desktop_disclosure_link trc_attribution_position_after_branding\" href=\"https://popup.taboola.com/ko/?template=colorbox&amp;utm_source=financialnews-fnnews&amp;utm_medium=referral&amp;utm_content=thumbs-feed-01-b:Below Article Thumbnails | Card 10:\" rel=\"nofollow sponsored noopener\" target=\"_blank\">\\n                     <span>\\n                      Sponsored\\n                     </span>\\n                    </a>\\n                    <a class=\"trc_mobile_disclosure_link trc_attribution_position_after_branding\" href=\"https://popup.taboola.com/ko/?template=colorbox&amp;utm_source=financialnews-fnnews&amp;utm_medium=referral&amp;utm_content=thumbs-feed-01-b:Below Article Thumbnails | Card 10:\" rel=\"nofollow sponsored noopener\" target=\"_blank\">\\n                     <span>\\n                      Sponsored\\n                     </span>\\n                    </a>\\n                   </div>\\n                  </span>\\n                  <div class=\"video-cta-href\">\\n                   <button class=\"video-cta-button video-cta-style\" style=\"border-color: rgb(0, 0, 0); font-weight: bold; font-family: Arial, Helvetica, sans-serif; color: rgb(0, 0, 0);\" type=\"button\">\\n                    다운로드\\n                   </button>\\n                  </div>\\n                 </span>\\n                </a>\\n                <div class=\"trc_user_exclude_btn\" title=\"아이템 삭제\">\\n                </div>\\n                <div class=\"trc_exclude_overlay trc_fade\">\\n                </div>\\n                <div class=\"trc_undo_btn\">\\n                 돌아가기\\n                </div>\\n               </div>\\n               <div class=\"videoCube trc_spotlight_item origin-default thumbnail_top syndicatedItem textItem videoCube_3_child trc_excludable\" data-item-id=\"~~V1~~-7850231132562214288~~g2ZDZ01zOE56FNI4ZIB9TqOXWQ4jUk-LNiZ0QBqOHI_kc1MwgRREHD_eZSuV_YDlkHbR_u_Mr7B6IHiZq-k_ss57APUBTLo9_4kSuuTqZGQ0Rc_YOb04WMUmP9ktzQ-fRdbgwlJdnqyroTPEQNNEn2q5Y_Ok952sR1Ylscn1tOA\" data-item-syndicated=\"true\" data-item-thumb=\"http://cdn.taboola.com/libtrc/static/thumbnails/51f89ba11a40fa159a79add1ee484b0b.jpg\" data-item-title=\"관절마다 붓고 아프다면 &amp;#34;이것&amp;#34; 결핍 의심\" observeid=\"tbl-observe-56\">\\n                <a attributionsrc=\"\" class=\"item-thumbnail-href\" href=\"https://m.post.naver.com/viewer/postView.naver\" rel=\"nofollow noopener sponsored\" slot=\"thumbnail\" target=\"_blank\" title=\\'관절마다 붓고 아프다면 \"이것\" 결핍 의심\\'>\\n                 <div class=\"thumbBlock_holder\">\\n                  <span class=\"thumbBlock\" style=\\'background-image: url(\"https://images.taboola.com/taboola/image/fetch/c_crop%2Cf_jpg%2Cq_auto%2Ce_sharpen%2Car_1.7778%2Cw_1440%2Cx_0%2Cy_373/c_fill%2Cw_420%2Ch_234/http%3A//cdn.taboola.com/libtrc/static/thumbnails/51f89ba11a40fa159a79add1ee484b0b.jpg\");\\'>\\n                   <span class=\"thumbnail-overlay\">\\n                   </span>\\n                   <span class=\"branding\">\\n                    오직팩트만\\n                   </span>\\n                   <span class=\"static-text top-right\">\\n                   </span>\\n                  </span>\\n                  <div class=\"videoCube_aspect\">\\n                  </div>\\n                 </div>\\n                </a>\\n                <a attributionsrc=\"\" class=\"item-label-href video-cta-style\" href=\"https://m.post.naver.com/viewer/postView.naver\" rel=\"nofollow noopener sponsored\" target=\"_blank\" title=\\'관절마다 붓고 아프다면 \"이것\" 결핍 의심\\'>\\n                 <span class=\"video-label-box trc-main-label video-label-box-cta video-label-box-cta-non-ie\">\\n                  <span class=\"video-label video-title video-label-flex-cta-item trc_ellipsis\" slot=\"title\" style=\"-webkit-line-clamp: 2;\">\\n                   관절마다 붓고 아프다면 \"이것\" 결핍 의심\\n                  </span>\\n                  <span class=\"video-label video-description video-label-flex-cta-item trc_ellipsis\" slot=\"description\" style=\"-webkit-line-clamp: 1;\" title=\\'\"Description: 알아야 건강할 수 있습니다.\"\\'>\\n                   알아야 건강할 수 있습니다.\\n                  </span>\\n                  <span class=\"branding composite-branding video-branding-flex-cta-item\" slot=\"branding\">\\n                   <span class=\"branding-inner\">\\n                    오직팩트만\\n                   </span>\\n                   <span class=\"branding-separator\">\\n                    |\\n                   </span>\\n                   <div class=\"logoDiv link-disclosure attribution-disclosure-link-sponsored align-disclosure-left\">\\n                    <a class=\"trc_desktop_disclosure_link trc_attribution_position_after_branding\" href=\"https://popup.taboola.com/ko/?template=colorbox&amp;utm_source=financialnews-fnnews&amp;utm_medium=referral&amp;utm_content=thumbs-feed-01-b:Below Article Thumbnails | Card 10:\" rel=\"nofollow sponsored noopener\" target=\"_blank\">\\n                     <span>\\n                      Sponsored\\n                     </span>\\n                    </a>\\n                    <a class=\"trc_mobile_disclosure_link trc_attribution_position_after_branding\" href=\"https://popup.taboola.com/ko/?template=colorbox&amp;utm_source=financialnews-fnnews&amp;utm_medium=referral&amp;utm_content=thumbs-feed-01-b:Below Article Thumbnails | Card 10:\" rel=\"nofollow sponsored noopener\" target=\"_blank\">\\n                     <span>\\n                      Sponsored\\n                     </span>\\n                    </a>\\n                   </div>\\n                  </span>\\n                  <div class=\"video-cta-href\">\\n                   <button class=\"video-cta-button video-cta-style\" style=\"border-color: rgb(0, 0, 0); font-weight: bold; font-family: Arial, Helvetica, sans-serif; color: rgb(0, 0, 0);\" type=\"button\">\\n                    더 알아보기\\n                   </button>\\n                  </div>\\n                 </span>\\n                </a>\\n                <div class=\"trc_user_exclude_btn\" title=\"아이템 삭제\">\\n                </div>\\n                <div class=\"trc_exclude_overlay trc_fade\">\\n                </div>\\n                <div class=\"trc_undo_btn\">\\n                 돌아가기\\n                </div>\\n               </div>\\n              </div>\\n             </div>\\n            </div>\\n            <div class=\"trc_clearer\">\\n            </div>\\n           </div>\\n          </div>\\n         </div>\\n        </div>\\n        <div class=\"trc_related_container trc_spotlight_widget trc_elastic trc_elastic_organic-thumbs-feed-01-c tbl-feed-card tbl-feed-card\" data-batch-num=\"2\" data-card-index=\"11\" data-placement-name=\"Below Article Thumbnails | Card 11\" id=\"taboola-below-article-thumbnails-pl11\" observeid=\"tbl-observe-57\" style=\"padding: 0px;\" tbl-feed-card=\"\">\\n         <div class=\"trc_rbox_container\">\\n          <div>\\n           <div class=\"trc_rbox organic-thumbs-feed-01-c trc-content-organic\" id=\"trc_wrapper_96344\" style=\"overflow: hidden; display: block;\">\\n            <div class=\"trc_rbox_header trc_rbox_border_elm\" id=\"trc_header_96344\">\\n             <div class=\"trc_header_ext\">\\n             </div>\\n             <span class=\"trc_rbox_header_span\">\\n             </span>\\n            </div>\\n            <div class=\"trc_rbox_outer\" id=\"outer_96344\">\\n             <div class=\"trc_rbox_div trc_rbox_border_elm\" id=\"rbox-t2v\">\\n              <div id=\"internal_trc_96344\">\\n               <div class=\"videoCube trc_spotlight_item origin-undefined thumbnail_top textItem videoCube_1_child trc-first-recommendation trc-spotlight-first-recommendation trc_excludable\" data-item-id=\"~~V1~~8231105086769541132~~-hAkJ9oIzNRcb3dT-8f_eQ\" data-item-syndicated=\"false\" data-item-thumb=\"https://image.fnnews.com/resource/media/image/2024/03/22/202403221002230207_l.jpg\" data-item-title=\"새벽 공원 벤치서 웅크린 채 잠든 여학생...지켜본 시민의 행동 [따뜻했슈]\" observeid=\"tbl-observe-58\">\\n                <a attributionsrc=\"\" class=\"item-thumbnail-href\" href=\"https://www.fnnews.com/news/202403221000104630\" slot=\"thumbnail\" target=\"_parent\" title=\"새벽 공원 벤치서 웅크린 채 잠든 여학생...지켜본 시민의 행동 [따뜻했슈]\">\\n                 <div class=\"thumbBlock_holder\">\\n                  <span class=\"thumbBlock\" style=\\'background-image: url(\"https://images.taboola.com/taboola/image/fetch/f_jpg%2Cq_auto%2Ch_345%2Cw_620%2Cc_fill%2Cg_faces:auto%2Ce_sharpen/https%3A//image.fnnews.com/resource/media/image/2024/03/22/202403221002230207_l.jpg\");\\'>\\n                   <span class=\"thumbnail-overlay\">\\n                   </span>\\n                  </span>\\n                  <div class=\"videoCube_aspect\">\\n                  </div>\\n                 </div>\\n                </a>\\n                <a attributionsrc=\"\" class=\"item-label-href\" href=\"https://www.fnnews.com/news/202403221000104630\" target=\"_parent\" title=\"새벽 공원 벤치서 웅크린 채 잠든 여학생...지켜본 시민의 행동 [따뜻했슈]\">\\n                 <span class=\"video-label-box trc-main-label\">\\n                  <span class=\"video-label video-title trc_ellipsis\" slot=\"title\" style=\"-webkit-line-clamp: 2;\">\\n                   새벽 공원 벤치서 웅크린 채 잠든 여학생...지켜본 시민의 행동 [따뜻했슈]\\n                  </span>\\n                  <span class=\"branding\" slot=\"branding\">\\n                   파이낸셜뉴스\\n                  </span>\\n                 </span>\\n                </a>\\n                <div class=\"trc_user_exclude_btn\" title=\"아이템 삭제\">\\n                </div>\\n                <div class=\"trc_exclude_overlay trc_fade\">\\n                </div>\\n                <div class=\"trc_undo_btn\">\\n                 돌아가기\\n                </div>\\n               </div>\\n               <div class=\"videoCube trc_spotlight_item origin-undefined thumbnail_top textItem videoCube_2_child trc_excludable\" data-item-id=\"~~V1~~2365312036015931262~~Q1GpbfeuwM1r2h1VyrWGZA\" data-item-syndicated=\"false\" data-item-thumb=\"https://image.fnnews.com/resource/media/image/2024/03/22/202403221109093965_l.jpg\" data-item-title=\"여친 190번 찔러 살해한 동거남, 이름·신상공개됐다\" observeid=\"tbl-observe-59\">\\n                <a attributionsrc=\"\" class=\"item-thumbnail-href\" href=\"https://www.fnnews.com/news/202403221054498269\" slot=\"thumbnail\" target=\"_parent\" title=\"여친 190번 찔러 살해한 동거남, 이름·신상공개됐다\">\\n                 <div class=\"thumbBlock_holder\">\\n                  <span class=\"thumbBlock\" style=\\'background-image: url(\"https://images.taboola.com/taboola/image/fetch/f_jpg%2Cq_auto%2Ch_345%2Cw_620%2Cc_fill%2Cg_faces:auto%2Ce_sharpen/https%3A//image.fnnews.com/resource/media/image/2024/03/22/202403221109093965_l.jpg\");\\'>\\n                   <span class=\"thumbnail-overlay\">\\n                   </span>\\n                  </span>\\n                  <div class=\"videoCube_aspect\">\\n                  </div>\\n                 </div>\\n                </a>\\n                <a attributionsrc=\"\" class=\"item-label-href\" href=\"https://www.fnnews.com/news/202403221054498269\" target=\"_parent\" title=\"여친 190번 찔러 살해한 동거남, 이름·신상공개됐다\">\\n                 <span class=\"video-label-box trc-main-label\">\\n                  <span class=\"video-label video-title trc_ellipsis\" slot=\"title\" style=\"-webkit-line-clamp: 2;\">\\n                   여친 190번 찔러 살해한 동거남, 이름·신상공개됐다\\n                  </span>\\n                  <span class=\"branding\" slot=\"branding\">\\n                   파이낸셜뉴스\\n                  </span>\\n                 </span>\\n                </a>\\n                <div class=\"trc_user_exclude_btn\" title=\"아이템 삭제\">\\n                </div>\\n                <div class=\"trc_exclude_overlay trc_fade\">\\n                </div>\\n                <div class=\"trc_undo_btn\">\\n                 돌아가기\\n                </div>\\n               </div>\\n              </div>\\n             </div>\\n            </div>\\n            <div class=\"trc_clearer\">\\n            </div>\\n           </div>\\n          </div>\\n         </div>\\n        </div>\\n        <div class=\"tbl-batch-anchor\" observeid=\"tbl-observe-62\">\\n        </div>\\n        <div class=\"tbl-loading-spinner tbl-loading-cards-placeholder tbl-hidden\">\\n         <div class=\"tbl-placeholder-card\">\\n          <div class=\"tbl-first-row-pl tbl-masker\">\\n          </div>\\n          <div class=\"tbl-second-row-pl tbl-masker\">\\n          </div>\\n          <div class=\"tbl-third-row-pl tbl-masker\">\\n          </div>\\n          <div class=\"tbl-last-row-right-padding tbl-masker\">\\n          </div>\\n          <div class=\"tbl-img-top-padding tbl-masker\">\\n          </div>\\n          <div class=\"tbl-img-bottom-padding tbl-masker\">\\n          </div>\\n          <div class=\"tbl-first-col-padding tbl-masker\">\\n          </div>\\n          <div class=\"tbl-second-col-padding tbl-masker\">\\n          </div>\\n         </div>\\n         <div class=\"tbl-placeholder-card\">\\n          <div class=\"tbl-first-row-pl tbl-masker\">\\n          </div>\\n          <div class=\"tbl-second-row-pl tbl-masker\">\\n          </div>\\n          <div class=\"tbl-third-row-pl tbl-masker\">\\n          </div>\\n          <div class=\"tbl-last-row-right-padding tbl-masker\">\\n          </div>\\n          <div class=\"tbl-img-top-padding tbl-masker\">\\n          </div>\\n          <div class=\"tbl-img-bottom-padding tbl-masker\">\\n          </div>\\n          <div class=\"tbl-first-col-padding tbl-masker\">\\n          </div>\\n          <div class=\"tbl-second-col-padding tbl-masker\">\\n          </div>\\n         </div>\\n         <div class=\"tbl-placeholder-card\">\\n          <div class=\"tbl-first-row-pl tbl-masker\">\\n          </div>\\n          <div class=\"tbl-second-row-pl tbl-masker\">\\n          </div>\\n          <div class=\"tbl-third-row-pl tbl-masker\">\\n          </div>\\n          <div class=\"tbl-last-row-right-padding tbl-masker\">\\n          </div>\\n          <div class=\"tbl-img-top-padding tbl-masker\">\\n          </div>\\n          <div class=\"tbl-img-bottom-padding tbl-masker\">\\n          </div>\\n          <div class=\"tbl-first-col-padding tbl-masker\">\\n          </div>\\n          <div class=\"tbl-second-col-padding tbl-masker\">\\n          </div>\\n         </div>\\n        </div>\\n       </div>\\n      </div>\\n     </div>\\n     <!--오른쪽 컨테이너-->\\n     <!--오른쪽 컨테이너-->\\n     <div class=\"col-300\">\\n      <!--많이 본 뉴스-->\\n      <div style=\"height: 250px;\">\\n       <!-- /3199294/fnnews_view_right_A -->\\n       <div <=\"\" data-google-query-id=\"COeVx7D_h4UDFTOP6QUdU8sMeA\" div-gpt-ad-1710304279559-0\\');=\"\" id=\"div-gpt-ad-1710304279559-0\" script=\"\" style=\\'min-width: 300px; min-height: 250px;\"&gt;\\n                &lt;script&gt;\\n                    googletag.cmd.push(function() { googletag.display(\\' });=\"\">\\n        <div id=\"google_ads_iframe_/3199294/fnnews_view_right_A_0__container__\" style=\"border: 0pt none; display: inline-block; width: 300px; height: 250px;\">\\n         <iframe aria-label=\"Advertisement\" data-google-container-id=\"2\" data-is-safeframe=\"true\" data-load-complete=\"true\" frameborder=\"0\" height=\"250\" id=\"google_ads_iframe_/3199294/fnnews_view_right_A_0\" marginheight=\"0\" marginwidth=\"0\" name=\"\" sandbox=\"allow-forms allow-popups allow-popups-to-escape-sandbox allow-same-origin allow-scripts allow-top-navigation-by-user-activation\" scrolling=\"no\" src=\"https://aee2fe31a63b02c3f6a4a2237407ccbc.safeframe.googlesyndication.com/safeframe/1-0-40/html/container.html\" style=\"border: 0px; vertical-align: bottom;\" tabindex=\"0\" title=\"3rd party ad content\" width=\"300\">\\n         </iframe>\\n        </div>\\n       </div>\\n      </div>\\n      <div class=\"sub_rt_lank mt_20\" id=\"webManyview\">\\n       <div class=\"tit_sec\">\\n        많이 본 뉴스\\n       </div>\\n       <div class=\"wrap_rt_lank mb_40\">\\n        <div class=\"tab\">\\n         <button class=\"tablinks active\" id=\"defaultOpen\" onclick=\"openAricle(event, \\'total\\')\" onmouseover=\"openAricle(event, \\'total\\')\">\\n          종합\\n         </button>\\n         <button class=\"tablinks\" onmouseover=\"openAricle(event, \\'politics\\')\">\\n          정치\\n         </button>\\n         <button class=\"tablinks\" onmouseover=\"openAricle(event, \\'economy\\')\">\\n          경제\\n         </button>\\n         <button class=\"tablinks\" onmouseover=\"openAricle(event, \\'society\\')\">\\n          사회\\n         </button>\\n        </div>\\n        <div class=\"tabcont\" id=\"total\" style=\"display: block;\">\\n         <ul class=\"list_article\">\\n          <li class=\"lank\">\\n           <strong class=\"tit_thumb\">\\n            <a href=\"/news/202403202305559063?pg=mny\" target=\"_self\">\\n             김윤지, 시부모 이상해·김영임 재력 언급…\"돈 많은 줄 알았는데\" 솔직\\n            </a>\\n           </strong>\\n          </li>\\n          <li class=\"lank\">\\n           <strong class=\"tit_thumb\">\\n            <a href=\"/news/202403221004482330?pg=mny\" target=\"_self\">\\n             \\'도어록\\' 열고 침입한 택배원…비밀번호 어떻게 알아냈나\\n            </a>\\n           </strong>\\n          </li>\\n          <li class=\"lank\">\\n           <strong class=\"tit_thumb\">\\n            <a href=\"/news/202403220851063917?pg=mny\" target=\"_self\">\\n             홍준표 \"조국혁신당 돌풍, 꺾을 수 없어..빛바랜 건 한동훈, 이준석\"\\n            </a>\\n           </strong>\\n          </li>\\n          <li class=\"lank\">\\n           <strong class=\"tit_thumb\">\\n            <a href=\"/news/202403210601147891?pg=mny\" target=\"_self\">\\n             [삶] \"내 아내 알몸 화상채팅, 생활비 벌려고 시켰는데 뭐가 문제냐\"\\n            </a>\\n           </strong>\\n          </li>\\n          <li class=\"lank\">\\n           <strong class=\"tit_thumb\">\\n            <a href=\"/news/202403210724455659?pg=mny\" target=\"_self\">\\n             \"혹시 또 악성민원?\"..한달새 공무원 또 숨진 채 발견\\n            </a>\\n           </strong>\\n          </li>\\n          <li class=\"lank\">\\n           <strong class=\"tit_thumb\">\\n            <a href=\"/news/202403211307061212?pg=mny\" target=\"_self\">\\n             ‘코인’으로 30평 집사고 8억 모았는데 여친과 \\'파혼\\'..그냥 하지 말래요 [어떻게 생각하세요]\\n            </a>\\n           </strong>\\n          </li>\\n          <li class=\"lank\">\\n           <strong class=\"tit_thumb\">\\n            <a href=\"/news/202403210551302478?pg=mny\" target=\"_self\">\\n             \\'노브라\\'로 학교 갔다 여교사에게 망신 당한 20대 엄마의 하소연 \"어쩔 수 없다\"\\n            </a>\\n           </strong>\\n          </li>\\n          <li class=\"lank\">\\n           <strong class=\"tit_thumb\">\\n            <a href=\"/news/202403220001016193?pg=mny\" target=\"_self\">\\n             김은혜 前홍보수석 재산 257억원…한동훈 39억원 신고\\n            </a>\\n           </strong>\\n          </li>\\n          <li class=\"lank\">\\n           <strong class=\"tit_thumb\">\\n            <a href=\"/news/202403211328046238?pg=mny\" target=\"_self\">\\n             홍준표 \"조국 등장으로 빛 바랜 건 한동훈 이준석…정치와 법조 차이\"\\n            </a>\\n           </strong>\\n          </li>\\n          <li class=\"lank\">\\n           <strong class=\"tit_thumb\">\\n            <a href=\"/news/202403202115590177?pg=mny\" target=\"_self\">\\n             \"일본 가도 되나요\" 日 \\'치사율 30%\\' 전염병 공포\\n            </a>\\n           </strong>\\n          </li>\\n         </ul>\\n        </div>\\n        <div class=\"tabcont\" id=\"politics\" style=\"display: none;\">\\n         <ul class=\"list_article\">\\n          <li class=\"lank\">\\n           <strong class=\"tit_thumb\">\\n            <a href=\"/news/202403220851063917?pg=mny\" target=\"_self\">\\n             홍준표 \"조국혁신당 돌풍, 꺾을 수 없어..빛바랜 건 한동훈, 이준석\"\\n            </a>\\n           </strong>\\n          </li>\\n          <li class=\"lank\">\\n           <strong class=\"tit_thumb\">\\n            <a href=\"/news/202403210601147891?pg=mny\" target=\"_self\">\\n             [삶] \"내 아내 알몸 화상채팅, 생활비 벌려고 시켰는데 뭐가 문제냐\"\\n            </a>\\n           </strong>\\n          </li>\\n          <li class=\"lank\">\\n           <strong class=\"tit_thumb\">\\n            <a href=\"/news/202403211328046238?pg=mny\" target=\"_self\">\\n             홍준표 \"조국 등장으로 빛 바랜 건 한동훈 이준석…정치와 법조 차이\"\\n            </a>\\n           </strong>\\n          </li>\\n          <li class=\"lank\">\\n           <strong class=\"tit_thumb\">\\n            <a href=\"/news/202403220659517091?pg=mny\" target=\"_self\">\\n             한동훈, 재산 39억 신고..장관 취임 때보다 4억 줄어\\n            </a>\\n           </strong>\\n          </li>\\n          <li class=\"lank\">\\n           <strong class=\"tit_thumb\">\\n            <a href=\"/news/202403211043474868?pg=mny\" target=\"_self\">\\n             박지원 \"범야권 \\'반윤\\' 200석 되면 尹대통령 탄핵 가능\"[2024 총선]\\n            </a>\\n           </strong>\\n          </li>\\n          <li class=\"lank\">\\n           <strong class=\"tit_thumb\">\\n            <a href=\"/news/202403220630256257?pg=mny\" target=\"_self\">\\n             이해찬, 추미애 향해 \"예쁜 아가씨, 얼굴이 하도 고와서 판사 같지 않아\"\\n            </a>\\n           </strong>\\n          </li>\\n          <li class=\"lank\">\\n           <strong class=\"tit_thumb\">\\n            <a href=\"/news/202403221734172191?pg=mny\" target=\"_self\">\\n             [속보]대통령실 \"尹-韓, 종북세력 준동 강력 응징 공감\"\\n            </a>\\n           </strong>\\n          </li>\\n          <li class=\"lank\">\\n           <strong class=\"tit_thumb\">\\n            <a href=\"/news/202403221525489971?pg=mny\" target=\"_self\">\\n             일본 교과서 “독도는 우리땅”..尹정부 “수용할 수 없다”\\n            </a>\\n           </strong>\\n          </li>\\n          <li class=\"lank\">\\n           <strong class=\"tit_thumb\">\\n            <a href=\"/news/202403210934435295?pg=mny\" target=\"_self\">\\n             박지원 \"범야권 200석 차지하면 尹대통령 탄핵도 가능\"\\n            </a>\\n           </strong>\\n          </li>\\n          <li class=\"lank\">\\n           <strong class=\"tit_thumb\">\\n            <a href=\"/news/202403221826225123?pg=mny\" target=\"_self\">\\n             [속보] 개혁신당 류호정, 22대 총선 불출마...\"제3지대 정치 실패\"\\n            </a>\\n           </strong>\\n          </li>\\n         </ul>\\n        </div>\\n        <div class=\"tabcont\" id=\"economy\" style=\"display: none;\">\\n         <ul class=\"list_article\">\\n          <li class=\"lank\">\\n           <strong class=\"tit_thumb\">\\n            <a href=\"/news/202403211602489605?pg=mny\" target=\"_self\">\\n             \"2경 시장될 것\"...\\'비트코인 ETF\\' 성공시킨 블랙록의 다음 목표는 [코인브리핑]\\n            </a>\\n           </strong>\\n          </li>\\n          <li class=\"lank\">\\n           <strong class=\"tit_thumb\">\\n            <a href=\"/news/202403221302075394?pg=mny\" target=\"_self\">\\n             [특징주]파로스아이바이오, 엔비디아 신약발견 생성형 AI 공개..AI 신약 공동개발 참여↑\\n            </a>\\n           </strong>\\n          </li>\\n          <li class=\"lank\">\\n           <strong class=\"tit_thumb\">\\n            <a href=\"/news/202403210831039514?pg=mny\" target=\"_self\">\\n             \"가장 블랙다운 블랙\"…새 옷 입은 \\'제네시스 G90 블랙\\' 출격\\n            </a>\\n           </strong>\\n          </li>\\n          <li class=\"lank\">\\n           <strong class=\"tit_thumb\">\\n            <a href=\"/news/202403221615206903?pg=mny\" target=\"_self\">\\n             비트코인 현물 ETF, 3일 연속 자금 유출 [코인브리핑]\\n            </a>\\n           </strong>\\n          </li>\\n          <li class=\"lank\">\\n           <strong class=\"tit_thumb\">\\n            <a href=\"/news/202403201645567144?pg=mny\" target=\"_self\">\\n             류준열 열애설 여파? 한소희, 광고 줄줄이 만료\\n            </a>\\n           </strong>\\n          </li>\\n          <li class=\"lank\">\\n           <strong class=\"tit_thumb\">\\n            <a href=\"/news/202403210937299518?pg=mny\" target=\"_self\">\\n             직원 평균연봉 1억4390만원 \\'신의 직장\\'..어디길래\\n            </a>\\n           </strong>\\n          </li>\\n          <li class=\"lank\">\\n           <strong class=\"tit_thumb\">\\n            <a href=\"/news/202403221010298003?pg=mny\" target=\"_self\">\\n             [특징주] 엠젠솔루션, 美 60대 환자 \\'유전자 변형\\' 돼지신장 이식↑…기술 부각\\n            </a>\\n           </strong>\\n          </li>\\n          <li class=\"lank\">\\n           <strong class=\"tit_thumb\">\\n            <a href=\"/news/202403220921294976?pg=mny\" target=\"_self\">\\n             삼현, 수주잔고 1조 규모...세계최초 \\'3-in-1\\' 통합솔루션 기술 보유\\n            </a>\\n           </strong>\\n          </li>\\n          <li class=\"lank\">\\n           <strong class=\"tit_thumb\">\\n            <a href=\"/news/202403211719047706?pg=mny\" target=\"_self\">\\n             위믹스, 한번에 4억개가 없어진다 \"7월1일에 소각\" [코인브리핑]\\n            </a>\\n           </strong>\\n          </li>\\n          <li class=\"lank\">\\n           <strong class=\"tit_thumb\">\\n            <a href=\"/news/202403221022569843?pg=mny\" target=\"_self\">\\n             \"연봉 얼마 주면 입사할래?\"..신입 구직자의 희망 초봉은?\\n            </a>\\n           </strong>\\n          </li>\\n         </ul>\\n        </div>\\n        <div class=\"tabcont\" id=\"society\" style=\"display: none;\">\\n         <ul class=\"list_article\">\\n          <li class=\"lank\">\\n           <strong class=\"tit_thumb\">\\n            <a href=\"/news/202403221004482330?pg=mny\" target=\"_self\">\\n             \\'도어록\\' 열고 침입한 택배원…비밀번호 어떻게 알아냈나\\n            </a>\\n           </strong>\\n          </li>\\n          <li class=\"lank\">\\n           <strong class=\"tit_thumb\">\\n            <a href=\"/news/202403210724455659?pg=mny\" target=\"_self\">\\n             \"혹시 또 악성민원?\"..한달새 공무원 또 숨진 채 발견\\n            </a>\\n           </strong>\\n          </li>\\n          <li class=\"lank\">\\n           <strong class=\"tit_thumb\">\\n            <a href=\"/news/202403211307061212?pg=mny\" target=\"_self\">\\n             ‘코인’으로 30평 집사고 8억 모았는데 여친과 \\'파혼\\'..그냥 하지 말래요 [어떻게 생각하세요]\\n            </a>\\n           </strong>\\n          </li>\\n          <li class=\"lank\">\\n           <strong class=\"tit_thumb\">\\n            <a href=\"/news/202403220001016193?pg=mny\" target=\"_self\">\\n             김은혜 前홍보수석 재산 257억원…한동훈 39억원 신고\\n            </a>\\n           </strong>\\n          </li>\\n          <li class=\"lank\">\\n           <strong class=\"tit_thumb\">\\n            <a href=\"/news/202403221027047246?pg=mny\" target=\"_self\">\\n             \"31살까지 결혼자금 7000만원 괜찮나요\" 20대 女고민\\n            </a>\\n           </strong>\\n          </li>\\n          <li class=\"lank\">\\n           <strong class=\"tit_thumb\">\\n            <a href=\"/news/202403220617078764?pg=mny\" target=\"_self\">\\n             \"일이 너무 많아 스트레스받는다\"..우편물 1만6000통 버린 집배원\\n            </a>\\n           </strong>\\n          </li>\\n          <li class=\"lank\">\\n           <strong class=\"tit_thumb\">\\n            <a href=\"/news/202403220812445877?pg=mny\" target=\"_self\">\\n             남편, 회사 후계 싸움서 밀려나자 아내 탓…가출 뒤 생활비 끊고 이혼요구\\n            </a>\\n           </strong>\\n          </li>\\n          <li class=\"lank\">\\n           <strong class=\"tit_thumb\">\\n            <a href=\"/news/202403211036566326?pg=mny\" target=\"_self\">\\n             남성 셋 다 속아 수억 넘겨…\\'네 자녀\\' 둔 40대 여성의 결혼 사기\\n            </a>\\n           </strong>\\n          </li>\\n          <li class=\"lank\">\\n           <strong class=\"tit_thumb\">\\n            <a href=\"/news/202403221433185646?pg=mny\" target=\"_self\">\\n             \"수학 3등급도 의대 간다\"…사상 초유의 \\'지각변동\\'\\n            </a>\\n           </strong>\\n          </li>\\n          <li class=\"lank\">\\n           <strong class=\"tit_thumb\">\\n            <a href=\"/news/202403221054498269?pg=mny\" target=\"_self\">\\n             여친 190번 찔러 살해한 동거남, 이름·신상공개됐다\\n            </a>\\n           </strong>\\n          </li>\\n         </ul>\\n        </div>\\n        <script>\\n         function openAricle(evt, tabName) {\\n            var i, tabcont, tablinks;\\n            tabcont = document.getElementsByClassName(\"tabcont\");\\n            for (i = 0; i < tabcont.length; i++) {\\n                tabcont[i].style.display = \"none\";\\n            }\\n            tablinks = document.getElementsByClassName(\"tablinks\");\\n            for (i = 0; i < tablinks.length; i++) {\\n                tablinks[i].className = tablinks[i].className.replace(\" active\", \"\");\\n            }\\n            document.getElementById(tabName).style.display = \"block\";\\n            evt.currentTarget.className += \" active\";\\n        }\\n        // Get the element with id=\"defaultOpen\" and click on it\\n        document.getElementById(\"defaultOpen\").click();\\n        </script>\\n       </div>\\n      </div>\\n      <!--광고300x250-->\\n      <div class=\"ad_300_250 mb_40\">\\n       <!-- /3199294/fnnews_view_right_B -->\\n       <div data-google-query-id=\"COiVx7D_h4UDFTOP6QUdU8sMeA\" id=\"div-gpt-ad-1710304439167-0\" style=\"min-width: 300px; min-height: 250px;\">\\n        <div id=\"google_ads_iframe_/3199294/fnnews_view_right_B_0__container__\" style=\"border: 0pt none; display: inline-block; width: 300px; height: 250px;\">\\n         <iframe aria-label=\"Advertisement\" data-google-container-id=\"3\" data-is-safeframe=\"true\" data-load-complete=\"true\" frameborder=\"0\" height=\"250\" id=\"google_ads_iframe_/3199294/fnnews_view_right_B_0\" marginheight=\"0\" marginwidth=\"0\" name=\"\" sandbox=\"allow-forms allow-popups allow-popups-to-escape-sandbox allow-same-origin allow-scripts allow-top-navigation-by-user-activation\" scrolling=\"no\" src=\"https://aee2fe31a63b02c3f6a4a2237407ccbc.safeframe.googlesyndication.com/safeframe/1-0-40/html/container.html\" style=\"border: 0px; vertical-align: bottom;\" tabindex=\"0\" title=\"3rd party ad content\" width=\"300\">\\n         </iframe>\\n        </div>\\n       </div>\\n      </div>\\n      <!--한 컷 뉴스-->\\n      <div class=\"article_pt4 mb_40\" id=\"hotPhotoArea\">\\n       <h2 class=\"tit_sec\">\\n        한 컷 뉴스\\n       </h2>\\n       <ul class=\"list_pt4\">\\n        <li>\\n         <a class=\"thumb_img\" href=\"/news/202403170822277224?pg=pto\" target=\"_self\">\\n          <img alt=\"이성경, 검은 드레스 입고 뽐낸 글래머 몸매\" src=\"https://image.fnnews.com/resource/crop_image/2024/03/17/thumb/202403170822277224_1710636683910.jpg\"/>\\n         </a>\\n         <strong class=\"tit_thumb\">\\n          <a href=\"/news/202403170822277224?pg=pto\">\\n           이성경, 검은 드레스 입고 뽐낸 글래머 몸매\\n          </a>\\n         </strong>\\n        </li>\\n        <li>\\n         <a class=\"thumb_img\" href=\"/news/202403170918006448?pg=pto\" target=\"_self\">\\n          <img alt=\"한소희·류준열 \\'악플 폭탄\\' 어쩌나\" src=\"https://image.fnnews.com/resource/crop_image/2024/03/17/thumb/202403170918006448_1710636590923.jpg\"/>\\n         </a>\\n         <strong class=\"tit_thumb\">\\n          <a href=\"/news/202403170918006448?pg=pto\">\\n           한소희·류준열 \\'악플 폭탄\\' 어쩌나\\n          </a>\\n         </strong>\\n        </li>\\n        <li>\\n         <a class=\"thumb_img\" href=\"/news/202403170602448442?pg=pto\" target=\"_self\">\\n          <img alt=\\'박수홍 아내 \"난자 채취는..\"\\' src=\"https://image.fnnews.com/resource/crop_image/2024/03/17/thumb/202403170602448442_1710636638155.jpg\"/>\\n         </a>\\n         <strong class=\"tit_thumb\">\\n          <a href=\"/news/202403170602448442?pg=pto\">\\n           박수홍 아내 \"난자 채취는..\"\\n          </a>\\n         </strong>\\n        </li>\\n        <li>\\n         <a class=\"thumb_img\" href=\"/news/202403170910597137?pg=pto\" target=\"_self\">\\n          <img alt=\\'송하윤 \"박민영에 인사 안 하고 말도 안 섞어\"\\' src=\"https://image.fnnews.com/resource/crop_image/2024/03/17/thumb/202403170910597137_1710636622823.jpg\"/>\\n         </a>\\n         <strong class=\"tit_thumb\">\\n          <a href=\"/news/202403170910597137?pg=pto\">\\n           송하윤 \"박민영에 인사 안 하고 말도 안 섞어\"\\n          </a>\\n         </strong>\\n        </li>\\n       </ul>\\n      </div>\\n      <!--fnSurvey-->\\n      <div class=\"fnSurvey-r mb_40\">\\n       <h2 class=\"tit_sec\">\\n        <a href=\"/survey\">\\n         fnSurvey\\n         <i class=\"arrow right\">\\n         </i>\\n        </a>\\n       </h2>\\n       <div class=\"wrap_servey\" id=\"mainSurvey\">\\n        <div class=\"inner\">\\n         <strong class=\"tit_thumb\">\\n          <a href=\"/votepoll/488\">\\n           여러분이 생각하는 4.10 총선 핵심 의제는?\\n          </a>\\n         </strong>\\n         <p class=\"txt_dec\">\\n          2024년 총선이 한 달도 채 남지 않았습니다.국회의원 선거는 단순한 정치적 이익을 넘어국민의 삶을 실질적으로 개선하는정책 공약의 경연장이 되어야 할 텐데요.이에 현실성 있고 효과적인 의제들이 더욱 많이 다뤄지길 바라는 유권자들의 목소리가 큽니다.그렇다면 여러분이 생각하기에 가장 중요하다고 생각되는 핵심 의제는 무엇인가요?\\n         </p>\\n         <span class=\"caption\">\\n          <em class=\"txt_blue\">\\n           투표기간\\n          </em>\\n          : 2024-03-18 ~ 2024-04-09\\n         </span>\\n         <a class=\"btn_basic bg_darkGray\" href=\"/votepoll/488\" type=\"button\">\\n          투표하러 가기\\n         </a>\\n        </div>\\n       </div>\\n      </div>\\n      <!--헉스-->\\n      <div class=\"article_imgLeft mb_40\" id=\"hugsArea\">\\n       <h2 class=\"tit_sec hugs\">\\n        <a class=\"link_hugs\" href=\"https://hugs.fnnews.com/home?utm_source=fnnews&amp;utm_medium=news_hugs\" target=\"_blank\">\\n         <i class=\"arrow right\">\\n         </i>\\n        </a>\\n        <span class=\"blind\">\\n         헉스\\n        </span>\\n       </h2>\\n       <ul class=\"list_imgLeft\">\\n        <li>\\n         <a class=\"thumb_img\" href=\"https://hugs.fnnews.com/article/202403220721516116?utm_source=fnnews&amp;utm_medium=view_hugs&amp;utm_campaign=202403220721516116\" target=\"_blank\">\\n          <img alt=\"헉스기사\" src=\"https://image.fnnews.com/resource/crop_image/2024/03/22/thumb/202403220721516116_1711066481813.jpg\"/>\\n         </a>\\n         <strong class=\"tit_thumb\">\\n          <a href=\"https://hugs.fnnews.com/article/202403220721516116?utm_source=fnnews&amp;utm_medium=view_hugs&amp;utm_campaign=202403220721516116\" target=\"_blank\">\\n           MLB 개막적 열린 고척돔서 한 \\'프레임\\'에 잡힌 스타들 화제\\n          </a>\\n         </strong>\\n        </li>\\n        <li>\\n         <a class=\"thumb_img\" href=\"https://hugs.fnnews.com/article/202403221027283764?utm_source=fnnews&amp;utm_medium=view_hugs&amp;utm_campaign=202403221027283764\" target=\"_blank\">\\n          <img alt=\"헉스기사\" src=\"https://image.fnnews.com/resource/crop_image/2024/03/22/thumb/202403221027283764_1711080564110.jpg\"/>\\n         </a>\\n         <strong class=\"tit_thumb\">\\n          <a href=\"https://hugs.fnnews.com/article/202403221027283764?utm_source=fnnews&amp;utm_medium=view_hugs&amp;utm_campaign=202403221027283764\" target=\"_blank\">\\n           김남주가 밝힌 특별한 인연 \"과거 이상민 결혼식에서...\"\\n          </a>\\n         </strong>\\n        </li>\\n        <li>\\n         <a class=\"thumb_img\" href=\"https://hugs.fnnews.com/article/202403221135389584?utm_source=fnnews&amp;utm_medium=view_hugs&amp;utm_campaign=202403221135389584\" target=\"_blank\">\\n          <img alt=\"헉스기사\" src=\"https://image.fnnews.com/resource/crop_image/2024/03/22/thumb/202403221135389584_1711080569569.jpg\"/>\\n         </a>\\n         <strong class=\"tit_thumb\">\\n          <a href=\"https://hugs.fnnews.com/article/202403221135389584?utm_source=fnnews&amp;utm_medium=view_hugs&amp;utm_campaign=202403221135389584\" target=\"_blank\">\\n           이혜정, 고부 갈등 고백 \"요즘 제 며느리를 보면 제가...\"\\n          </a>\\n         </strong>\\n        </li>\\n        <li>\\n         <a class=\"thumb_img\" href=\"https://hugs.fnnews.com/article/202403220910515807?utm_source=fnnews&amp;utm_medium=view_hugs&amp;utm_campaign=202403220910515807\" target=\"_blank\">\\n          <img alt=\"헉스기사\" src=\"https://image.fnnews.com/resource/crop_image/2024/03/22/thumb/202403220910515807_1711070640406.jpg\"/>\\n         </a>\\n         <strong class=\"tit_thumb\">\\n          <a href=\"https://hugs.fnnews.com/article/202403220910515807?utm_source=fnnews&amp;utm_medium=view_hugs&amp;utm_campaign=202403220910515807\" target=\"_blank\">\\n           명세빈 \"2~3년 전부터 나와 결혼한다는...\" 분노, 무슨 일?\\n          </a>\\n         </strong>\\n        </li>\\n        <li>\\n         <a class=\"thumb_img\" href=\"https://hugs.fnnews.com/article/202403220756210906?utm_source=fnnews&amp;utm_medium=view_hugs&amp;utm_campaign=202403220756210906\" target=\"_blank\">\\n          <img alt=\"헉스기사\" src=\"https://image.fnnews.com/resource/crop_image/2024/03/22/thumb/202403220756210906_1711066489176.jpg\"/>\\n         </a>\\n         <strong class=\"tit_thumb\">\\n          <a href=\"https://hugs.fnnews.com/article/202403220756210906?utm_source=fnnews&amp;utm_medium=view_hugs&amp;utm_campaign=202403220756210906\" target=\"_blank\">\\n           \\'치매 투병\\' 브루스 윌리스 간호하는 유명 女배우 \"사랑해\"\\n          </a>\\n         </strong>\\n        </li>\\n       </ul>\\n      </div>\\n     </div>\\n    </div>\\n   </div>\\n  </div>\\n  <!--푸터-->\\n  <button id=\"topBtn\" onclick=\"topFunction()\" style=\"display: block;\" title=\"Go to top\">\\n   <span class=\"blind\">\\n    Top\\n   </span>\\n  </button>\\n  <script>\\n   // Get the button:\\n    let mybutton1 = document.getElementById(\"topBtn\");\\n    // When the user scrolls down 20px from the top of the document, show the button\\n    window.onscroll = function() {scrollFunctionFooter()};\\n    function scrollFunctionFooter() {\\n\\n        if (document.body.scrollTop > 20 || document.documentElement.scrollTop > 20) {\\n            mybutton1.style.display = \"block\";\\n            console.log(\"mybtn\"+mybutton1);\\n\\n        } else {\\n            mybutton1.style.display = \"none\";\\n\\n        }\\n    }\\n    // When the user clicks on the button, scroll to the top of the document\\n    function topFunction() {\\n        document.body.scrollTop = 0; // For Safari\\n        document.documentElement.scrollTop = 0; // For Chrome, Firefox, IE and Opera\\n    }\\n  </script>\\n  <footer>\\n   <div class=\"all_menu\">\\n    <div class=\"inner_box\">\\n     <dl>\\n      <dt>\\n       <a href=\"/section/002001002002\">\\n        금융·증권\\n       </a>\\n      </dt>\\n      <dd>\\n       <ul class=\"list_2depth\">\\n        <li>\\n         <a href=\"/section/002002000\">\\n          금융\\n         </a>\\n        </li>\\n        <li>\\n         <a href=\"/section/002001000\">\\n          증권\\n         </a>\\n        </li>\\n       </ul>\\n      </dd>\\n     </dl>\\n     <dl>\\n      <dt>\\n       <a href=\"/section/002003000\">\\n        부동산\\n       </a>\\n      </dt>\\n      <dd>\\n       <ul class=\"list_2depth\">\\n        <li>\\n         <a href=\"/section/002003002\">\\n          정책\\n         </a>\\n        </li>\\n        <li>\\n         <a href=\"/section/002003003\">\\n          건설\\n         </a>\\n        </li>\\n        <li>\\n         <a href=\"/section/002003004\">\\n          철도·항공 ·선박\\n         </a>\\n        </li>\\n        <li>\\n         <a href=\"/section/002003001\">\\n          부동산 일반\\n         </a>\\n        </li>\\n       </ul>\\n      </dd>\\n     </dl>\\n     <dl>\\n      <dt>\\n       <a href=\"/section/002004002005\">\\n        산업·IT\\n       </a>\\n      </dt>\\n      <dd>\\n       <ul class=\"list_2depth\">\\n        <li>\\n         <a href=\"/section/002004001\">\\n          산업\\n         </a>\\n        </li>\\n        <li>\\n         <a href=\"/section/002005001\">\\n          통신·방송\\n         </a>\\n        </li>\\n        <li>\\n         <a href=\"/section/002005004\">\\n          게임\\n         </a>\\n        </li>\\n        <li>\\n         <a href=\"/section/002005006\">\\n          인터넷\\n         </a>\\n        </li>\\n        <li>\\n         <a href=\"/section/002010000\">\\n          블록체인\\n         </a>\\n        </li>\\n        <li>\\n         <a href=\"/section/002006000\">\\n          의학·과학\\n         </a>\\n        </li>\\n       </ul>\\n      </dd>\\n     </dl>\\n     <dl>\\n      <dt>\\n       <a href=\"/section/002008000\">\\n        경제\\n       </a>\\n      </dt>\\n      <dd>\\n       <ul class=\"list_2depth\">\\n        <li>\\n         <a href=\"/section/002008001\">\\n          경제 일반\\n         </a>\\n        </li>\\n        <li>\\n         <a href=\"/section/002007000\">\\n          생활 경제\\n         </a>\\n        </li>\\n       </ul>\\n      </dd>\\n     </dl>\\n     <dl>\\n      <dt>\\n       <a href=\"/section/001001000\">\\n        정치\\n       </a>\\n      </dt>\\n      <dd>\\n       <ul class=\"list_2depth\">\\n        <li>\\n         <a href=\"/section/001001002\">\\n          대통령실\\n         </a>\\n        </li>\\n        <li>\\n         <a href=\"/section/001001003\">\\n          국회·정당\\n         </a>\\n        </li>\\n        <li>\\n         <a href=\"/section/001001005\">\\n          북한\\n         </a>\\n        </li>\\n        <li>\\n         <a href=\"/section/001001006\">\\n          외교·국방\\n         </a>\\n        </li>\\n       </ul>\\n      </dd>\\n     </dl>\\n     <dl>\\n      <dt>\\n       <a href=\"/section/001003000\">\\n        사회\\n       </a>\\n      </dt>\\n      <dd>\\n       <ul class=\"list_2depth\">\\n        <li>\\n         <a href=\"/section/001003002\">\\n          사건·사고\\n         </a>\\n        </li>\\n        <li>\\n         <a href=\"/section/001003003\">\\n          검찰·법원\\n         </a>\\n        </li>\\n        <li>\\n         <a href=\"/section/001001004\">\\n          행정·지자체\\n         </a>\\n        </li>\\n        <li>\\n         <a href=\"/section/001004000\">\\n          교육\\n         </a>\\n        </li>\\n        <li>\\n         <a href=\"/section/001003006\">\\n          전국\\n         </a>\\n        </li>\\n       </ul>\\n      </dd>\\n     </dl>\\n     <dl>\\n      <dt>\\n       <a href=\"/section/001002000\">\\n        국제\\n       </a>\\n      </dt>\\n      <dd>\\n       <ul class=\"list_2depth\">\\n        <li>\\n         <a href=\"/section/001002002\">\\n          국제 경제\\n         </a>\\n        </li>\\n        <li>\\n         <a href=\"/section/001002003\">\\n          국제 정치\\n         </a>\\n        </li>\\n        <li>\\n         <a href=\"/section/001002004\">\\n          국제 사회\\n         </a>\\n        </li>\\n       </ul>\\n      </dd>\\n     </dl>\\n     <dl>\\n      <dt>\\n       <a href=\"/section/005000000\">\\n        라이프\\n       </a>\\n      </dt>\\n      <dd>\\n       <ul class=\"list_2depth\">\\n        <li>\\n         <a href=\"https://star.fnnews.com/\" target=\"_blank\">\\n          연예\\n         </a>\\n        </li>\\n        <li>\\n         <a href=\"/section/005001000\">\\n          패션/뷰티\\n         </a>\\n        </li>\\n        <li>\\n         <a href=\"/section/004002000\">\\n          스포츠\\n         </a>\\n        </li>\\n        <li>\\n         <a href=\"/section/005002000\">\\n          푸드·리빙\\n         </a>\\n        </li>\\n        <li>\\n         <a href=\"/section/005003000\">\\n          레저·문화\\n         </a>\\n        </li>\\n       </ul>\\n      </dd>\\n     </dl>\\n     <dl>\\n      <dt>\\n       <a href=\"/opinion\">\\n        오피니언\\n       </a>\\n      </dt>\\n      <dd>\\n       <ul class=\"list_2depth\">\\n        <li>\\n         <a href=\"/section/003001000\">\\n          사설/칼럼\\n         </a>\\n        </li>\\n        <li>\\n         <a href=\"/section/003002000\">\\n          사외 칼럼\\n         </a>\\n        </li>\\n       </ul>\\n      </dd>\\n     </dl>\\n     <dl>\\n      <dt>\\n       <a href=\"/special\">\\n        기획·연재\\n       </a>\\n      </dt>\\n      <dd>\\n       <ul class=\"list_2depth\">\\n        <li>\\n         <a href=\"/listicle\">\\n          fn파인더\\n         </a>\\n        </li>\\n        <li>\\n         <a href=\"/series\">\\n          fn시리즈\\n         </a>\\n        </li>\\n        <li>\\n         <a href=\"/hotissue\">\\n          핫이슈+\\n         </a>\\n        </li>\\n       </ul>\\n      </dd>\\n     </dl>\\n     <dl>\\n      <dt>\\n       <a href=\"/fnEdition\">\\n        fnEdition\\n       </a>\\n      </dt>\\n      <dd>\\n       <ul class=\"list_2depth\">\\n        <li>\\n         <a href=\"/photo\">\\n          포토\\n         </a>\\n        </li>\\n        <li>\\n         <a href=\"/newsletter\">\\n          뉴스레터\\n         </a>\\n        </li>\\n        <li>\\n         <a href=\"/reporteron\">\\n          기자ON\\n         </a>\\n        </li>\\n        <li>\\n         <a href=\"/fntv\">\\n          fntv\\n         </a>\\n        </li>\\n        <li>\\n         <a href=\"/todaypaper\">\\n          신문보기\\n         </a>\\n        </li>\\n        <li>\\n         <a href=\"/survey\">\\n          fnSurvey\\n         </a>\\n        </li>\\n       </ul>\\n      </dd>\\n     </dl>\\n     <dl>\\n      <dt>\\n       <a href=\"/election\">\\n        4·10 총선\\n       </a>\\n      </dt>\\n      <dd>\\n       <a href=\"http://info.nec.go.kr/main/showDocument.xhtml?electionId=0020240410&amp;topMenuId=CP\" target=\"_blank\">\\n        후보자\\n       </a>\\n      </dd>\\n      <dd>\\n       <a href=\"/election/localnews?search_region=21\">\\n        선거뉴스\\n       </a>\\n      </dd>\\n     </dl>\\n    </div>\\n   </div>\\n   <div class=\"footer\">\\n    <div class=\"inner_box\">\\n     <div class=\"ft_menu\">\\n      <ul class=\"list_ft_menu\">\\n       <li>\\n        <a href=\"/userinfo/greeting\">\\n         회사소개\\n        </a>\\n       </li>\\n       <li>\\n        <a href=\"/userinfo/partner\">\\n         광고문의\\n        </a>\\n       </li>\\n       <li>\\n        <a href=\"/userinfo/business\">\\n         제휴문의\\n        </a>\\n       </li>\\n       <li>\\n        <a href=\"/userinfo/policy\">\\n         개인정보취급방침\\n        </a>\\n       </li>\\n       <li>\\n        <a href=\"/userinfo/copyright\">\\n         저작권규약\\n        </a>\\n       </li>\\n       <li>\\n        <a href=\"/userinfo/noemail\">\\n         이메일주소무단수집거부\\n        </a>\\n       </li>\\n       <li>\\n        <a href=\"/userinfo/gudok\">\\n         구독신청\\n        </a>\\n       </li>\\n       <li>\\n        <a href=\"/userinfo/correction\">\\n         고충처리\\n        </a>\\n       </li>\\n       <li>\\n        <a href=\"/sitemap\">\\n         사이트맵\\n        </a>\\n       </li>\\n      </ul>\\n      <div class=\"fn_family\">\\n       <dl>\\n        <dt class=\"btn-family\">\\n         <button class=\"txt_blue\">\\n          fn family\\n         </button>\\n        </dt>\\n        <dd class=\"dropdown-family\">\\n         <ul>\\n          <li>\\n           <a href=\"https://busan.fnnews.com/\" target=\"_blank\">\\n            부산파이낸셜뉴스\\n           </a>\\n          </li>\\n          <li>\\n           <a href=\"https://blockpost.com/\" target=\"_blank\">\\n            팩트블록\\n           </a>\\n          </li>\\n          <li>\\n           <a href=\"https://fnnews.jp/\" target=\"_blank\">\\n            파이낸셜뉴스재팬\\n           </a>\\n          </li>\\n         </ul>\\n        </dd>\\n       </dl>\\n      </div>\\n     </div>\\n     <div class=\"ft_info\">\\n      <a class=\"ft_logo\" href=\"/\">\\n       <span class=\"blind\">\\n        Financial News\\n       </span>\\n      </a>\\n      <div class=\"wrap_ft_info\">\\n       <div class=\"row r-1\">\\n        <ul class=\"list_row\">\\n         <li>\\n          <p>\\n           주소 : 서울 서초구 강남대로 315\\n          </p>\\n         </li>\\n         <li class=\"parti\">\\n          <p>\\n           전화 : 02-2003-7114\\n          </p>\\n         </li>\\n         <li class=\"parti\">\\n          <p>\\n           인터넷신문 등록번호 : 서울 아04510\\n          </p>\\n         </li>\\n         <li class=\"parti\">\\n          <p>\\n           등록일자 : 2017.05.08\\n          </p>\\n         </li>\\n         <li class=\"parti\">\\n          <p>\\n           Copyright ⓒ파이낸셜뉴스. All rights reserved.\\n          </p>\\n         </li>\\n        </ul>\\n       </div>\\n       <div class=\"row r-2\">\\n        <ul class=\"list_row\">\\n         <li>\\n          <p>\\n           회장 : 전재호\\n          </p>\\n         </li>\\n         <li class=\"parti\">\\n          <p>\\n           부회장·발행인 : 전선익\\n          </p>\\n         </li>\\n         <li class=\"parti\">\\n          <p>\\n           사장·인쇄인·편집인 : 변동식\\n          </p>\\n         </li>\\n         <li class=\"parti\">\\n          <p>\\n           편집국장 : 양형욱\\n          </p>\\n         </li>\\n         <li class=\"parti\">\\n          <p>\\n           청소년보호정책 (책임자 : 이대율)\\n          </p>\\n         </li>\\n        </ul>\\n       </div>\\n      </div>\\n     </div>\\n    </div>\\n   </div>\\n  </footer>\\n  <script>\\n   /* When the user clicks on the button,\\n        toggle between hiding and showing the dropdown content */\\n        function snsFunction() {\\n            document.getElementById(\"snsShow\").classList.toggle(\"show\");\\n        }\\n        // Get the button:\\n        // Close the dropdown if the user clicks outside of it\\n        window.onclick = function(event) {\\n            if (!event.target.matches(\\'.showBtn\\')) {\\n                var dropdowns = document.getElementsByClassName(\"show-content\");\\n                var i;\\n                for (i = 0; i < dropdowns.length; i++) {\\n                    var openDropdown = dropdowns[i];\\n                    if (openDropdown.classList.contains(\\'show\\')) {\\n                        openDropdown.classList.remove(\\'show\\');\\n                    }\\n                }\\n            }\\n        }\\n        window.onscroll = function() {\\n            scrollFunctionSocial();\\n            scrollFunctionFooterView();\\n        };\\n        var navbar = document.getElementById(\"navbar\");\\n        var add_view_01 = document.getElementById(\"add_view_01\");\\n        var sticky = navbar.offsetTop;\\n        function scrollFunctionSocial() {\\n            console.log(\"sticky\")\\n            if (window.pageYOffset >= sticky) {\\n                navbar.classList.add(\"sticky\")\\n                add_view_01.classList.add(\"stickyAd\")\\n            } else {\\n                navbar.classList.remove(\"sticky\");\\n                add_view_01.classList.remove(\"stickyAd\");\\n            }\\n        }\\n\\n        // When the user scrolls down 20px from the top of the document, show the button\\n        // window.onscroll = function() {scrollFunctionFooter()};\\n         function scrollFunctionFooterView() {\\n\\n            if (document.body.scrollTop > 20 || document.documentElement.scrollTop > 20) {\\n                mybutton1.style.display = \"block\";\\n\\n            } else {\\n                mybutton1.style.display = \"none\";\\n\\n            }\\n        }\\n  </script>\\n </div>\\n <script type=\"text/javascript\">\\n  window._taboola = window._taboola || [];\\n    _taboola.push({flush: true});\\n </script>\\n <iframe src=\"https://aee2fe31a63b02c3f6a4a2237407ccbc.safeframe.googlesyndication.com/safeframe/1-0-40/html/container.html\" style=\"visibility: hidden; display: none;\">\\n </iframe>\\n <div>\\n  <iframe height=\"0\" src=\"https://google-bidout-d.openx.net/w/1.0/pd?plm=5\" style=\"display:none;\" width=\"0\">\\n  </iframe>\\n </div>\\n <iframe frameborder=\"0\" height=\"0\" sandbox=\"allow-scripts allow-same-origin\" src=\\'https://gum.criteo.com/syncframe?origin=publishertagids&amp;topUrl=www.fnnews.com#{\"lwid\":{\"origin\":0},\"bundle\":{\"origin\":0},\"optout\":{\"value\":false,\"origin\":0},\"tld\":\"fnnews.com\",\"topUrl\":\"www.fnnews.com\",\"version\":152,\"cw\":true,\"lsw\":true,\"origin\":\"publishertagids\",\"requestId\":\"0.9783597368419854\"}\\' style=\"border-width: 0px; margin: 0px; display: none;\" title=\"Criteo GUM iframe\" width=\"0\">\\n </iframe>\\n <div class=\"trc_related_container trc_spotlight_widget tbl-feed-container tbl-feed-frame-DIVIDER render-late-effect tbl-exm-desktop\" data-feed-container-num=\"1\" data-feed-main-container-id=\"tbl-explore-more-container\" data-parent-placement-name=\"Explore More\" data-pub-lang=\"ko\" id=\"tbl-explore-more-container\" observeid=\"tbl-observe-21\" tbl-data-mutation-observer=\"true\">\\n  <div class=\"tbl-title-and-pop-wrp\">\\n   <div id=\"tbl-explore-more-title\">\\n    계속 읽어보세요\\n   </div>\\n  </div>\\n  <div class=\"tbl-feed-header\">\\n   <div class=\"tbl-feed-header-logo\">\\n   </div>\\n  </div>\\n  <div class=\"trc_related_container trc_spotlight_widget tbl-feed-card tbl-feed-card tbl-feed-card tbl-feed-card trc_multi_widget\" data-batch-num=\"1\" data-card-index=\"1\" data-placement-name=\"Explore More | Card 1\" id=\"tbl-explore-more-container-pl1\" observeid=\"tbl-observe-22 tbl-observe-27\" style=\"padding: 0px;\" tbl-feed-card=\"\">\\n   <div class=\"trc_multi_widget_container\">\\n    <div class=\"trc_related_container trc_spotlight_widget trc_elastic trc_elastic_organic-rec-reel-01-x-delta\" style=\"flex: 66 1 0%; overflow: hidden; margin-right: 0.75em;\" widget-name=\"organic-rec-reel-01-x-delta\">\\n     <div class=\"trc_rbox_container tbl-reco-reel story-widget tbl-reco-reel-text-over story-widget-text-over tbl-reco-reel-desktop tbl-story-desktop\">\\n      <div>\\n       <div class=\"trc_rbox organic-rec-reel-01-x-delta trc-content-organic\" id=\"trc_wrapper_46827\" style=\"overflow: hidden; display: block;\">\\n        <div class=\"trc_rbox_header trc_rbox_border_elm\" id=\"trc_header_46827\">\\n         <div class=\"trc_header_ext\">\\n         </div>\\n         <span class=\"trc_rbox_header_span\">\\n         </span>\\n        </div>\\n        <div class=\"trc_rbox_outer\" id=\"outer_46827\">\\n         <div class=\"trc_rbox_div trc_rbox_border_elm\" id=\"rbox-t2v\">\\n          <div class=\"tbl-recommendation-reel\" id=\"internal_trc_46827\" observeid=\"tbl-observe-45\" style=\"height: 382.305px;\">\\n           <div class=\"videoCube trc_spotlight_item origin-undefined thumbnail_under textItem videoCube_1_child trc-first-recommendation trc-spotlight-first-recommendation trc_excludable\" data-item-id=\"~~V1~~-8222179079075817770~~-hAkJ9oIzNRcb3dT-8f_eQ\" data-item-syndicated=\"false\" data-item-thumb=\"https://image.fnnews.com/resource/media/image/2024/03/22/202403221832500929_l.jpg\" data-item-title=\"개혁신당 류호정\" observeid=\"tbl-observe-23\" style=\"top: 0px;\">\\n            <a attributionsrc=\"\" class=\"item-thumbnail-href\" href=\"https://www.fnnews.com/news/202403221651448335\" slot=\"thumbnail\" target=\"_parent\" title=\"\">\\n             <div class=\"thumbBlock_holder\">\\n              <div class=\"thumbBlock_placeholder\">\\n               <svg enable-background=\"new 0 0 100 100\" version=\"1.1\" viewbox=\"0 0 100 100\" x=\"0px\" xml:space=\"preserve\" xmlns=\"http://www.w3.org/2000/svg\" y=\"0px\">\\n                <rect fill=\"none\" height=\"50\" stroke=\"#fff\" stroke-width=\"4\" width=\"50\" x=\"25\" y=\"25\">\\n                 <animatetransform attributename=\"transform\" attributetype=\"XML\" begin=\"rectBox.end\" dur=\"0.5s\" from=\"0 50 50\" id=\"strokeBox\" to=\"180 50 50\" type=\"rotate\">\\n                 </animatetransform>\\n                </rect>\\n                <rect fill=\"#fff\" height=\"50\" width=\"46\" x=\"27\" y=\"27\">\\n                 <animate attributename=\"height\" attributetype=\"XML\" begin=\"0s;strokeBox.end\" dur=\"1.3s\" fill=\"freeze\" from=\"50\" id=\"rectBox\" to=\"0\">\\n                 </animate>\\n                </rect>\\n               </svg>\\n              </div>\\n              <span class=\"thumbBlock\" style=\\'background-image: url(\"https://images.taboola.com/taboola/image/fetch/f_jpg%2Cq_auto%2Ch_750%2Cw_1500%2Cc_fill%2Cg_faces:auto%2Ce_sharpen/https%3A//image.fnnews.com/resource/media/image/2024/03/22/202403221832500929_l.jpg\");\\'>\\n               <span class=\"thumbnail-overlay\">\\n               </span>\\n              </span>\\n              <div class=\"videoCube_aspect\">\\n              </div>\\n             </div>\\n            </a>\\n            <a attributionsrc=\"\" class=\"item-label-href tbl-text-over-container\" href=\"https://www.fnnews.com/news/202403221651448335\" target=\"_parent\" title=\"\">\\n             <span class=\"video-label-box trc-main-label tbl-text-over-align tbl-text-over-labels-left\">\\n              <span class=\"video-label video-title trc_ellipsis\" slot=\"title\" style=\"-webkit-line-clamp: 1;\">\\n               개혁신당 류호정\\n              </span>\\n              <span class=\"video-label video-description\" slot=\"description\" title=\\'\"Description: [파이낸셜뉴스]\\xa04·10 총선에서 개혁신당 경기 성남 분당갑 후보로 공천된 류호정 전 의원이 22일 불출마를 선언했다.류 전 의원은 이날 자신의 사회관계망서비스(SNS)에\"\\'>\\n               [파이낸셜뉴스]\\xa04·10 총선에서 개혁신당 경기 성남 분당갑 후보로 공천된 류호정 전 의원이 22일 불출마를 선언했다.류 전 의원은 이날 자신의 사회관계망서비스(SNS)에\\n              </span>\\n              <span class=\"branding\" slot=\"branding\">\\n               파이낸셜뉴스\\n              </span>\\n             </span>\\n             <span class=\"tbl-text-over\">\\n             </span>\\n             <div class=\"tbl-labels-arrow tbl-labels-arrow-right\">\\n              <!--?xml version=\"1.0\" encoding=\"UTF-8\"?-->\\n              <svg height=\"23px\" version=\"1.1\" viewbox=\"0 0 23 23\" width=\"23px\" xmlns=\"http://www.w3.org/2000/svg\" xmlns:xlink=\"http://www.w3.org/1999/xlink\">\\n               <title>\\n                Group 3\\n               </title>\\n               <g fill=\"none\" fill-rule=\"evenodd\" id=\"Page-1\" stroke=\"none\" stroke-linecap=\"round\" stroke-linejoin=\"round\" stroke-width=\"1\">\\n                <g id=\"Mobile-SC-CTA\" stroke=\"#FFFFFF\" transform=\"translate(-320.000000, -479.000000)\">\\n                 <g id=\"Group-3\" transform=\"translate(321.000000, 480.000000)\">\\n                  <polyline id=\"Path\" points=\"8.2173913 5.47826087 13.6956522 10.0434783 8.2173913 14.6086957\">\\n                  </polyline>\\n                  <circle cx=\"10.5\" cy=\"10.5\" id=\"Oval\" r=\"10.5\">\\n                  </circle>\\n                 </g>\\n                </g>\\n               </g>\\n              </svg>\\n             </div>\\n            </a>\\n            <div class=\"trc_user_exclude_btn\" title=\"아이템 삭제\">\\n            </div>\\n            <div class=\"trc_exclude_overlay trc_fade\">\\n            </div>\\n            <div class=\"trc_undo_btn\">\\n             돌아가기\\n            </div>\\n           </div>\\n           <div class=\"videoCube trc_spotlight_item origin-undefined thumbnail_under textItem videoCube_2_child trc_excludable\" data-item-id=\"~~V1~~-1418147528873713584~~Q1GpbfeuwM1r2h1VyrWGZA\" data-item-syndicated=\"false\" data-item-thumb=\"https://image.fnnews.com/resource/media/image/2024/03/11/202403110747164071_l.png\" data-item-title=\"&amp;#34;정부는 의사 이길 수 없다&amp;#34;던 그 의사, 11시간 조사받은 뒤 한 말은\" observeid=\"tbl-observe-24\" style=\"top: 0px;\">\\n            <a attributionsrc=\"\" class=\"item-thumbnail-href\" href=\"https://www.fnnews.com/news/202403110747192942\" slot=\"thumbnail\" target=\"_parent\" title=\"\">\\n             <div class=\"thumbBlock_holder\">\\n              <div class=\"thumbBlock_placeholder\">\\n               <svg enable-background=\"new 0 0 100 100\" version=\"1.1\" viewbox=\"0 0 100 100\" x=\"0px\" xml:space=\"preserve\" xmlns=\"http://www.w3.org/2000/svg\" y=\"0px\">\\n                <rect fill=\"none\" height=\"50\" stroke=\"#fff\" stroke-width=\"4\" width=\"50\" x=\"25\" y=\"25\">\\n                 <animatetransform attributename=\"transform\" attributetype=\"XML\" begin=\"rectBox.end\" dur=\"0.5s\" from=\"0 50 50\" id=\"strokeBox\" to=\"180 50 50\" type=\"rotate\">\\n                 </animatetransform>\\n                </rect>\\n                <rect fill=\"#fff\" height=\"50\" width=\"46\" x=\"27\" y=\"27\">\\n                 <animate attributename=\"height\" attributetype=\"XML\" begin=\"0s;strokeBox.end\" dur=\"1.3s\" fill=\"freeze\" from=\"50\" id=\"rectBox\" to=\"0\">\\n                 </animate>\\n                </rect>\\n               </svg>\\n              </div>\\n              <span class=\"thumbBlock\" style=\\'background-image: url(\"https://images.taboola.com/taboola/image/fetch/f_jpg%2Cq_auto%2Ch_750%2Cw_1500%2Cc_fill%2Cg_faces:auto%2Ce_sharpen/https%3A//image.fnnews.com/resource/media/image/2024/03/11/202403110747164071_l.png\");\\'>\\n               <span class=\"thumbnail-overlay\">\\n               </span>\\n              </span>\\n              <div class=\"videoCube_aspect\">\\n              </div>\\n             </div>\\n            </a>\\n            <a attributionsrc=\"\" class=\"item-label-href tbl-text-over-container\" href=\"https://www.fnnews.com/news/202403110747192942\" target=\"_parent\" title=\"\">\\n             <span class=\"video-label-box trc-main-label tbl-text-over-align tbl-text-over-labels-left\">\\n              <span class=\"video-label video-title trc_ellipsis\" slot=\"title\" style=\"-webkit-line-clamp: 1;\">\\n               \"정부는 의사 이길 수 없다\"던 그 의사, 11시간 조사받은 뒤 한 말은\\n              </span>\\n              <span class=\"video-label video-description\" slot=\"description\" title=\\'\"Description: [파이낸셜뉴스]\\xa0정부의 의대 증원에 반발해 전공의들의 집단행동을 부추긴 혐의 ..\"\\'>\\n               [파이낸셜뉴스]\\xa0정부의 의대 증원에 반발해 전공의들의 집단행동을 부추긴 혐의 ..\\n              </span>\\n              <span class=\"branding\" slot=\"branding\">\\n               파이낸셜뉴스\\n              </span>\\n             </span>\\n             <span class=\"tbl-text-over\">\\n             </span>\\n             <div class=\"tbl-labels-arrow tbl-labels-arrow-right\">\\n              <!--?xml version=\"1.0\" encoding=\"UTF-8\"?-->\\n              <svg height=\"23px\" version=\"1.1\" viewbox=\"0 0 23 23\" width=\"23px\" xmlns=\"http://www.w3.org/2000/svg\" xmlns:xlink=\"http://www.w3.org/1999/xlink\">\\n               <title>\\n                Group 3\\n               </title>\\n               <g fill=\"none\" fill-rule=\"evenodd\" id=\"Page-1\" stroke=\"none\" stroke-linecap=\"round\" stroke-linejoin=\"round\" stroke-width=\"1\">\\n                <g id=\"Mobile-SC-CTA\" stroke=\"#FFFFFF\" transform=\"translate(-320.000000, -479.000000)\">\\n                 <g id=\"Group-3\" transform=\"translate(321.000000, 480.000000)\">\\n                  <polyline id=\"Path\" points=\"8.2173913 5.47826087 13.6956522 10.0434783 8.2173913 14.6086957\">\\n                  </polyline>\\n                  <circle cx=\"10.5\" cy=\"10.5\" id=\"Oval\" r=\"10.5\">\\n                  </circle>\\n                 </g>\\n                </g>\\n               </g>\\n              </svg>\\n             </div>\\n            </a>\\n            <div class=\"trc_user_exclude_btn\" title=\"아이템 삭제\">\\n            </div>\\n            <div class=\"trc_exclude_overlay trc_fade\">\\n            </div>\\n            <div class=\"trc_undo_btn\">\\n             돌아가기\\n            </div>\\n           </div>\\n           <div class=\"videoCube trc_spotlight_item origin-undefined thumbnail_under textItem videoCube_3_child trc_excludable\" data-item-id=\"~~V1~~-4682192401806887813~~vR8cxXGVqJ4HooAyW92HNg\" data-item-syndicated=\"false\" data-item-thumb=\"https://image.fnnews.com/resource/media/image/2024/03/01/202403011832454140_l.png\" data-item-title=\"&amp;#39;사상자 14명&amp;#39; 낸 연신내역 &amp;#39;9중 추돌&amp;#39; 사고, CCTV 보니\" observeid=\"tbl-observe-25\" style=\"top: 0px;\">\\n            <a attributionsrc=\"\" class=\"item-thumbnail-href\" href=\"https://www.fnnews.com/news/202403011831489947\" slot=\"thumbnail\" target=\"_parent\" title=\"\">\\n             <div class=\"thumbBlock_holder\">\\n              <div class=\"thumbBlock_placeholder\">\\n               <svg enable-background=\"new 0 0 100 100\" version=\"1.1\" viewbox=\"0 0 100 100\" x=\"0px\" xml:space=\"preserve\" xmlns=\"http://www.w3.org/2000/svg\" y=\"0px\">\\n                <rect fill=\"none\" height=\"50\" stroke=\"#fff\" stroke-width=\"4\" width=\"50\" x=\"25\" y=\"25\">\\n                 <animatetransform attributename=\"transform\" attributetype=\"XML\" begin=\"rectBox.end\" dur=\"0.5s\" from=\"0 50 50\" id=\"strokeBox\" to=\"180 50 50\" type=\"rotate\">\\n                 </animatetransform>\\n                </rect>\\n                <rect fill=\"#fff\" height=\"50\" width=\"46\" x=\"27\" y=\"27\">\\n                 <animate attributename=\"height\" attributetype=\"XML\" begin=\"0s;strokeBox.end\" dur=\"1.3s\" fill=\"freeze\" from=\"50\" id=\"rectBox\" to=\"0\">\\n                 </animate>\\n                </rect>\\n               </svg>\\n              </div>\\n              <span class=\"thumbBlock\" style=\\'background-image: url(\"https://images.taboola.com/taboola/image/fetch/f_jpg%2Cq_auto%2Ch_750%2Cw_1500%2Cc_fill%2Cg_faces:auto%2Ce_sharpen/https%3A//image.fnnews.com/resource/media/image/2024/03/01/202403011832454140_l.png\");\\'>\\n               <span class=\"thumbnail-overlay\">\\n               </span>\\n              </span>\\n              <div class=\"videoCube_aspect\">\\n              </div>\\n             </div>\\n            </a>\\n            <a attributionsrc=\"\" class=\"item-label-href tbl-text-over-container\" href=\"https://www.fnnews.com/news/202403011831489947\" target=\"_parent\" title=\"\">\\n             <span class=\"video-label-box trc-main-label tbl-text-over-align tbl-text-over-labels-left\">\\n              <span class=\"video-label video-title trc_ellipsis\" slot=\"title\" style=\"-webkit-line-clamp: 1;\">\\n               \\'사상자 14명\\' 낸 연신내역 \\'9중 추돌\\' 사고, CCTV 보니\\n              </span>\\n              <span class=\"video-label video-description\" slot=\"description\" title=\\'\"Description: [파이낸셜뉴스] 서울 은평구에서 9중 추돌 사고가 일어나 14명의 사상자가 발생한 가..\"\\'>\\n               [파이낸셜뉴스] 서울 은평구에서 9중 추돌 사고가 일어나 14명의 사상자가 발생한 가..\\n              </span>\\n              <span class=\"branding\" slot=\"branding\">\\n               파이낸셜뉴스\\n              </span>\\n             </span>\\n             <span class=\"tbl-text-over\">\\n             </span>\\n             <div class=\"tbl-labels-arrow tbl-labels-arrow-right\">\\n              <!--?xml version=\"1.0\" encoding=\"UTF-8\"?-->\\n              <svg height=\"23px\" version=\"1.1\" viewbox=\"0 0 23 23\" width=\"23px\" xmlns=\"http://www.w3.org/2000/svg\" xmlns:xlink=\"http://www.w3.org/1999/xlink\">\\n               <title>\\n                Group 3\\n               </title>\\n               <g fill=\"none\" fill-rule=\"evenodd\" id=\"Page-1\" stroke=\"none\" stroke-linecap=\"round\" stroke-linejoin=\"round\" stroke-width=\"1\">\\n                <g id=\"Mobile-SC-CTA\" stroke=\"#FFFFFF\" transform=\"translate(-320.000000, -479.000000)\">\\n                 <g id=\"Group-3\" transform=\"translate(321.000000, 480.000000)\">\\n                  <polyline id=\"Path\" points=\"8.2173913 5.47826087 13.6956522 10.0434783 8.2173913 14.6086957\">\\n                  </polyline>\\n                  <circle cx=\"10.5\" cy=\"10.5\" id=\"Oval\" r=\"10.5\">\\n                  </circle>\\n                 </g>\\n                </g>\\n               </g>\\n              </svg>\\n             </div>\\n            </a>\\n            <div class=\"trc_user_exclude_btn\" title=\"아이템 삭제\">\\n            </div>\\n            <div class=\"trc_exclude_overlay trc_fade\">\\n            </div>\\n            <div class=\"trc_undo_btn\">\\n             돌아가기\\n            </div>\\n           </div>\\n           <div class=\"videoCube trc_spotlight_item origin-undefined thumbnail_under textItem videoCube_4_child trc_excludable\" data-item-id=\"~~V1~~2365312036015931262~~miNbZ10pSVC8jZpTK_dUcQ\" data-item-syndicated=\"false\" data-item-thumb=\"https://image.fnnews.com/resource/media/image/2024/03/22/202403221109093965_l.jpg\" data-item-title=\"여친 190번 찔러 살해한 동거남, 이름·신상공개됐다\" observeid=\"tbl-observe-26\" style=\"top: 0px;\">\\n            <a attributionsrc=\"\" class=\"item-thumbnail-href\" href=\"https://www.fnnews.com/news/202403221054498269\" slot=\"thumbnail\" target=\"_parent\" title=\"\">\\n             <div class=\"thumbBlock_holder\">\\n              <div class=\"thumbBlock_placeholder\">\\n               <svg enable-background=\"new 0 0 100 100\" version=\"1.1\" viewbox=\"0 0 100 100\" x=\"0px\" xml:space=\"preserve\" xmlns=\"http://www.w3.org/2000/svg\" y=\"0px\">\\n                <rect fill=\"none\" height=\"50\" stroke=\"#fff\" stroke-width=\"4\" width=\"50\" x=\"25\" y=\"25\">\\n                 <animatetransform attributename=\"transform\" attributetype=\"XML\" begin=\"rectBox.end\" dur=\"0.5s\" from=\"0 50 50\" id=\"strokeBox\" to=\"180 50 50\" type=\"rotate\">\\n                 </animatetransform>\\n                </rect>\\n                <rect fill=\"#fff\" height=\"50\" width=\"46\" x=\"27\" y=\"27\">\\n                 <animate attributename=\"height\" attributetype=\"XML\" begin=\"0s;strokeBox.end\" dur=\"1.3s\" fill=\"freeze\" from=\"50\" id=\"rectBox\" to=\"0\">\\n                 </animate>\\n                </rect>\\n               </svg>\\n              </div>\\n              <span class=\"thumbBlock\" style=\\'background-image: url(\"https://images.taboola.com/taboola/image/fetch/f_jpg%2Cq_auto%2Ch_750%2Cw_1500%2Cc_fill%2Cg_faces:auto%2Ce_sharpen/https%3A//image.fnnews.com/resource/media/image/2024/03/22/202403221109093965_l.jpg\");\\'>\\n               <span class=\"thumbnail-overlay\">\\n               </span>\\n              </span>\\n              <div class=\"videoCube_aspect\">\\n              </div>\\n             </div>\\n            </a>\\n            <a attributionsrc=\"\" class=\"item-label-href tbl-text-over-container\" href=\"https://www.fnnews.com/news/202403221054498269\" target=\"_parent\" title=\"\">\\n             <span class=\"video-label-box trc-main-label tbl-text-over-align tbl-text-over-labels-left\">\\n              <span class=\"video-label video-title trc_ellipsis\" slot=\"title\" style=\"-webkit-line-clamp: 1;\">\\n               여친 190번 찔러 살해한 동거남, 이름·신상공개됐다\\n              </span>\\n              <span class=\"video-label video-description\" slot=\"description\" title=\\'\"Description: [파이낸셜뉴스] \\xa0\"\\'>\\n               [파이낸셜뉴스]\\n              </span>\\n              <span class=\"branding\" slot=\"branding\">\\n               파이낸셜뉴스\\n              </span>\\n             </span>\\n             <span class=\"tbl-text-over\">\\n             </span>\\n             <div class=\"tbl-labels-arrow tbl-labels-arrow-right\">\\n              <!--?xml version=\"1.0\" encoding=\"UTF-8\"?-->\\n              <svg height=\"23px\" version=\"1.1\" viewbox=\"0 0 23 23\" width=\"23px\" xmlns=\"http://www.w3.org/2000/svg\" xmlns:xlink=\"http://www.w3.org/1999/xlink\">\\n               <title>\\n                Group 3\\n               </title>\\n               <g fill=\"none\" fill-rule=\"evenodd\" id=\"Page-1\" stroke=\"none\" stroke-linecap=\"round\" stroke-linejoin=\"round\" stroke-width=\"1\">\\n                <g id=\"Mobile-SC-CTA\" stroke=\"#FFFFFF\" transform=\"translate(-320.000000, -479.000000)\">\\n                 <g id=\"Group-3\" transform=\"translate(321.000000, 480.000000)\">\\n                  <polyline id=\"Path\" points=\"8.2173913 5.47826087 13.6956522 10.0434783 8.2173913 14.6086957\">\\n                  </polyline>\\n                  <circle cx=\"10.5\" cy=\"10.5\" id=\"Oval\" r=\"10.5\">\\n                  </circle>\\n                 </g>\\n                </g>\\n               </g>\\n              </svg>\\n             </div>\\n            </a>\\n            <div class=\"trc_user_exclude_btn\" title=\"아이템 삭제\">\\n            </div>\\n            <div class=\"trc_exclude_overlay trc_fade\">\\n            </div>\\n            <div class=\"trc_undo_btn\">\\n             돌아가기\\n            </div>\\n           </div>\\n          </div>\\n          <div class=\"tbl-story-progressBar-overflow-wrp tbl-reco-reel-progressBar-overflow-wrp\" style=\"top: 282.305px;\">\\n           <div class=\"tbl-reco-reel-progressBar-wrp tbl-story-progressBar-wrp tbl-reco-reel-progressBar-wrp-text-over tbl-story-progressBar-wrp-text-over\" style=\"top: 0px;\">\\n            <div class=\"tbl-reco-reel-progressBar tbl-story-progressBar\" data-progress-bar-index=\"0\" style=\"width: 23%\">\\n             <span class=\"tbl-progress-runner\">\\n             </span>\\n            </div>\\n            <div class=\"tbl-reco-reel-progressBar tbl-story-progressBar\" data-progress-bar-index=\"1\" style=\"width: 23%\">\\n             <span class=\"tbl-progress-runner\">\\n             </span>\\n            </div>\\n            <div class=\"tbl-reco-reel-progressBar tbl-story-progressBar\" data-progress-bar-index=\"2\" style=\"width: 23%\">\\n             <span class=\"tbl-progress-runner\">\\n             </span>\\n            </div>\\n            <div class=\"tbl-reco-reel-progressBar tbl-story-progressBar\" data-progress-bar-index=\"3\" style=\"width: 23%\">\\n             <span class=\"tbl-progress-runner\">\\n             </span>\\n            </div>\\n           </div>\\n          </div>\\n          <div class=\"tbl-arrow-btn tbl-arrow-left\" style=\"top: 163.152px;\">\\n           <svg height=\"29px\" version=\"1.1\" viewbox=\"0 0 17 29\" width=\"17px\" xmlns=\"http://www.w3.org/2000/svg\">\\n            <g fill=\"none\" fill-rule=\"evenodd\" id=\"Page-1\" stroke=\"none\" stroke-width=\"1\">\\n             <g fill=\"#FFFDFD\" fill-rule=\"nonzero\" id=\"Desktop-4-cards\" transform=\"translate(-1073.000000, -436.000000)\">\\n              <g id=\"Group\" transform=\"translate(1081.500000, 450.500000) scale(-1, 1) translate(-1081.500000, -450.500000) translate(1073.000000, 436.000000)\">\\n               <polygon id=\"Rectangle-5\" points=\"7.05498966 -1.37457069 9.68971053 -1.39537442 9.53368258 18.3650322 6.8989617 18.3858359\" transform=\"translate(8.294336, 8.495231) rotate(45.000000) translate(-8.294336, -8.495231) \">\\n               </polygon>\\n               <polygon id=\"Rectangle-5\" points=\"7.05498966 10.3880565 9.68971053 10.3672528 9.53368258 30.1276594 6.8989617 30.1484631\" transform=\"translate(8.294336, 20.257858) scale(1, -1) rotate(45.000000) translate(-8.294336, -20.257858) \">\\n               </polygon>\\n              </g>\\n              \\'\\n             </g>\\n             \\'\\n            </g>\\n            \\'\\n           </svg>\\n          </div>\\n          <div class=\"tbl-arrow-btn tbl-arrow-right\" style=\"top: 163.152px;\">\\n           <svg height=\"29px\" version=\"1.1\" viewbox=\"0 0 17 29\" width=\"17px\" xmlns=\"http://www.w3.org/2000/svg\">\\n            <g fill=\"none\" fill-rule=\"evenodd\" id=\"Page-1\" stroke=\"none\" stroke-width=\"1\">\\n             <g fill=\"#FFFDFD\" fill-rule=\"nonzero\" id=\"Desktop-4-cards\" transform=\"translate(-1073.000000, -436.000000)\">\\n              <g id=\"Group\" transform=\"translate(1081.500000, 450.500000) scale(-1, 1) translate(-1081.500000, -450.500000) translate(1073.000000, 436.000000)\">\\n               <polygon id=\"Rectangle-5\" points=\"7.05498966 -1.37457069 9.68971053 -1.39537442 9.53368258 18.3650322 6.8989617 18.3858359\" transform=\"translate(8.294336, 8.495231) rotate(45.000000) translate(-8.294336, -8.495231) \">\\n               </polygon>\\n               <polygon id=\"Rectangle-5\" points=\"7.05498966 10.3880565 9.68971053 10.3672528 9.53368258 30.1276594 6.8989617 30.1484631\" transform=\"translate(8.294336, 20.257858) scale(1, -1) rotate(45.000000) translate(-8.294336, -20.257858) \">\\n               </polygon>\\n              </g>\\n              \\'\\n             </g>\\n             \\'\\n            </g>\\n            \\'\\n           </svg>\\n          </div>\\n         </div>\\n        </div>\\n        <div class=\"trc_clearer\">\\n        </div>\\n       </div>\\n      </div>\\n     </div>\\n    </div>\\n    <div class=\"trc_related_container trc_spotlight_widget trc_elastic trc_elastic_organic-thumbs-feed-01-x-delta\" style=\"flex: 34 1 0%; overflow: hidden;\" widget-name=\"organic-thumbs-feed-01-x-delta\">\\n     <div class=\"trc_rbox_container\">\\n      <div>\\n       <div class=\"trc_rbox organic-thumbs-feed-01-x-delta trc-content-organic\" id=\"trc_wrapper_51651\" style=\"overflow: hidden; display: block;\">\\n        <div class=\"trc_rbox_header trc_rbox_border_elm\" id=\"trc_header_51651\">\\n         <div class=\"trc_header_ext\">\\n         </div>\\n         <span class=\"trc_rbox_header_span\">\\n         </span>\\n        </div>\\n        <div class=\"trc_rbox_outer\" id=\"outer_51651\">\\n         <div class=\"trc_rbox_div trc_rbox_border_elm\" id=\"rbox-t2v\">\\n          <div id=\"internal_trc_51651\">\\n           <div class=\"videoCube trc_spotlight_item origin-undefined thumbnail_top textItem videoCube_1_child trc-first-recommendation trc-spotlight-first-recommendation trc_excludable\" data-item-id=\"~~V1~~-4968428843559096118~~ZrVxEc98zOQMbivXRxOEIQ\" data-item-syndicated=\"false\" data-item-thumb=\"https://image.fnnews.com/resource/media/image/2024/03/03/202403031327001793_l.jpg\" data-item-title=\"&amp;#39;조폭응징&amp;#39; 유튜버, 보복 폭행했던 조직폭력배 숨진 채 발견\" observeid=\"tbl-observe-28\">\\n            <a attributionsrc=\"\" class=\"item-thumbnail-href\" href=\"https://www.fnnews.com/news/202403031326252103\" slot=\"thumbnail\" target=\"_parent\" title=\"\\'조폭응징\\' 유튜버, 보복 폭행했던 조직폭력배 숨진 채 발견\">\\n             <div class=\"thumbBlock_holder\">\\n              <span class=\"thumbBlock\" style=\\'background-image: url(\"https://images.taboola.com/taboola/image/fetch/f_jpg%2Cq_auto%2Ch_400%2Cw_800%2Cc_fill%2Cg_faces:auto%2Ce_sharpen/https%3A//image.fnnews.com/resource/media/image/2024/03/03/202403031327001793_l.jpg\");\\'>\\n               <span class=\"thumbnail-overlay\">\\n               </span>\\n              </span>\\n              <div class=\"videoCube_aspect\">\\n              </div>\\n             </div>\\n            </a>\\n            <a attributionsrc=\"\" class=\"item-label-href\" href=\"https://www.fnnews.com/news/202403031326252103\" target=\"_parent\" title=\"\\'조폭응징\\' 유튜버, 보복 폭행했던 조직폭력배 숨진 채 발견\">\\n             <span class=\"video-label-box trc-main-label\">\\n              <span class=\"video-label video-title trc_ellipsis\" slot=\"title\" style=\"-webkit-line-clamp: 2;\">\\n               \\'조폭응징\\' 유튜버, 보복 폭행했던 조직폭력배 숨진 채 발견\\n              </span>\\n              <span class=\"video-label video-description\" slot=\"description\" title=\\'\"Description: [파이낸셜뉴스] \\xa0조직폭력배를 저격하는 내용의 방송을 진행한 유튜버를 보복 폭..\"\\'>\\n               [파이낸셜뉴스] \\xa0조직폭력배를 저격하는 내용의 방송을 진행한 유튜버를 보복 폭..\\n              </span>\\n              <span class=\"branding\" slot=\"branding\">\\n               파이낸셜뉴스\\n              </span>\\n             </span>\\n            </a>\\n            <div class=\"trc_user_exclude_btn\" title=\"아이템 삭제\">\\n            </div>\\n            <div class=\"trc_exclude_overlay trc_fade\">\\n            </div>\\n            <div class=\"trc_undo_btn\">\\n             돌아가기\\n            </div>\\n           </div>\\n          </div>\\n         </div>\\n        </div>\\n        <div class=\"trc_clearer\">\\n        </div>\\n       </div>\\n      </div>\\n     </div>\\n    </div>\\n   </div>\\n  </div>\\n  <div class=\"trc_related_container trc_spotlight_widget trc_elastic trc_elastic_thumbs-feed-01-y-delta tbl-feed-card tbl-feed-card\" data-batch-num=\"1\" data-card-index=\"2\" data-placement-name=\"Explore More | Card 2\" id=\"tbl-explore-more-container-pl2\" observeid=\"tbl-observe-29\" style=\"padding: 0px;\" tbl-feed-card=\"\">\\n   <div class=\"trc_rbox_container\">\\n    <div>\\n     <div class=\"trc_rbox thumbs-feed-01-y-delta trc-content-sponsored\" id=\"trc_wrapper_37961\" style=\"overflow: hidden; display: block;\">\\n      <div class=\"trc_rbox_header trc_rbox_border_elm\" id=\"trc_header_37961\">\\n       <div class=\"trc_header_ext\">\\n       </div>\\n       <span class=\"trc_rbox_header_span\">\\n       </span>\\n      </div>\\n      <div class=\"trc_rbox_outer\" id=\"outer_37961\">\\n       <div class=\"trc_rbox_div trc_rbox_border_elm\" id=\"rbox-t2v\">\\n        <div id=\"internal_trc_37961\">\\n         <div class=\"videoCube trc_spotlight_item origin-default thumbnail_top syndicatedItem textItem videoCube_1_child trc-first-recommendation trc-spotlight-first-recommendation trc_excludable\" data-item-id=\"~~V1~~3638742468533390853~~43lFE6IlKGoksY430DZt5YSN-jyFrGCJZh3jJTLedoVw6cLzOYgYTH58zK8cIqqSMimiSNEhmdNXWfo7jHlSEdolzY_py-G0xja0sC3wHiaI2Kg8kAEaUrR1pWrvmhN9RdbgwlJdnqyroTPEQNNEn2q5Y_Ok952sR1Ylscn1tOA\" data-item-syndicated=\"true\" data-item-thumb=\"http://cdn.taboola.com/libtrc/static/thumbnails/a89a8c489238b6cfec45c5503a06fa2c.jpg\" data-item-title=\"해외 논문으로 검증된 아동 주의력결핍에 효과적인 1가지 방법 공개\" observeid=\"tbl-observe-30\">\\n          <a attributionsrc=\"\" class=\"item-thumbnail-href\" href=\"https://m.post.naver.com/viewer/postView.naver\" rel=\"nofollow noopener sponsored\" slot=\"thumbnail\" target=\"_blank\" title=\"해외 논문으로 검증된 아동 주의력결핍에 효과적인 1가지 방법 공개\">\\n           <div class=\"thumbBlock_holder\">\\n            <span class=\"thumbBlock\" style=\\'background-image: url(\"https://images.taboola.com/taboola/image/fetch/c_crop%2Cf_jpg%2Cq_auto%2Ce_sharpen%2Car_1.7778%2Cw_1000%2Cx_0%2Cy_26/c_fill%2Cw_1160%2Ch_645/http%3A//cdn.taboola.com/libtrc/static/thumbnails/a89a8c489238b6cfec45c5503a06fa2c.jpg\");\\'>\\n             <span class=\"thumbnail-overlay\">\\n             </span>\\n             <span class=\"branding\">\\n              울아들램사랑해\\n             </span>\\n             <span class=\"static-text top-right\">\\n             </span>\\n            </span>\\n            <div class=\"videoCube_aspect\">\\n            </div>\\n           </div>\\n          </a>\\n          <a attributionsrc=\"\" class=\"item-label-href video-cta-style\" href=\"https://m.post.naver.com/viewer/postView.naver\" rel=\"nofollow noopener sponsored\" target=\"_blank\" title=\"해외 논문으로 검증된 아동 주의력결핍에 효과적인 1가지 방법 공개\">\\n           <span class=\"video-label-box trc-main-label video-label-box-cta video-label-box-cta-non-ie\">\\n            <span class=\"video-label video-title video-label-flex-cta-item trc_ellipsis\" slot=\"title\" style=\"-webkit-line-clamp: 1;\">\\n             해외 논문으로 검증된 아동 주의력결핍에 효과적인 1가지 방법 공개\\n            </span>\\n            <span class=\"video-label video-description video-label-flex-cta-item\" slot=\"description\" title=\\'\"Description: \"\\'>\\n            </span>\\n            <span class=\"branding composite-branding video-branding-flex-cta-item\" slot=\"branding\">\\n             <span class=\"branding-inner\">\\n              울아들램사랑해\\n             </span>\\n             <span class=\"branding-separator\">\\n              |\\n             </span>\\n             <div class=\"logoDiv link-disclosure attribution-disclosure-link-sponsored align-disclosure-left\">\\n              <a class=\"trc_desktop_disclosure_link trc_attribution_position_after_branding\" href=\"https://popup.taboola.com/ko/?template=colorbox&amp;utm_source=financialnews-fnnews&amp;utm_medium=referral&amp;utm_content=thumbs-feed-01-y-delta:Explore More | Card 2:\" rel=\"nofollow sponsored noopener\" target=\"_blank\">\\n               <span>\\n                Sponsored\\n               </span>\\n              </a>\\n              <a class=\"trc_mobile_disclosure_link trc_attribution_position_after_branding\" href=\"https://popup.taboola.com/ko/?template=colorbox&amp;utm_source=financialnews-fnnews&amp;utm_medium=referral&amp;utm_content=thumbs-feed-01-y-delta:Explore More | Card 2:\" rel=\"nofollow sponsored noopener\" target=\"_blank\">\\n               <span>\\n                Sponsored\\n               </span>\\n              </a>\\n             </div>\\n            </span>\\n            <div class=\"video-cta-href\">\\n             <button class=\"video-cta-button video-cta-style\" style=\"border-color: rgb(0, 0, 0); font-weight: bold; font-family: Arial, Helvetica, sans-serif; color: rgb(0, 0, 0);\" type=\"button\">\\n              더 알아보기\\n             </button>\\n            </div>\\n           </span>\\n          </a>\\n          <div class=\"trc_user_exclude_btn\" title=\"아이템 삭제\">\\n          </div>\\n          <div class=\"trc_exclude_overlay trc_fade\">\\n          </div>\\n          <div class=\"trc_undo_btn\">\\n           돌아가기\\n          </div>\\n         </div>\\n         <div class=\"videoCube trc_spotlight_item origin-default thumbnail_top syndicatedItem textItem videoCube_2_child trc_excludable\" data-item-id=\"~~V1~~8459635831023392167~~_hhRdum3ciZD-TNo9yNSqnGlpH2PcXGnp7yFIupSL9FyNpbgedRdYuhjTdtdbeHkMimiSNEhmdNXWfo7jHlSEbeEE3Is-rzVxZWqa45wRGnnsYhAbm-NyBZgECWHJ463RdbgwlJdnqyroTPEQNNEn2q5Y_Ok952sR1Ylscn1tOA\" data-item-syndicated=\"true\" data-item-thumb=\"http://cdn.taboola.com/libtrc/static/thumbnails/6aa4240f1189281ccdc23ae6cf356c31.png\" data-item-title=\"임플란트 1개부터, 전체 임플란트!\" observeid=\"tbl-observe-31\">\\n          <a attributionsrc=\"\" class=\"item-thumbnail-href\" href=\"https://www.healdentalclinic.com/landing/landing_faceoffDR.php\" rel=\"nofollow noopener sponsored\" slot=\"thumbnail\" target=\"_blank\" title=\"임플란트 1개부터, 전체 임플란트!\">\\n           <div class=\"thumbBlock_holder\">\\n            <span class=\"thumbBlock\" style=\\'background-image: url(\"https://images.taboola.com/taboola/image/fetch/c_crop%2Cf_jpg%2Cq_auto%2Ce_sharpen%2Car_1.7778%2Cw_6000%2Cx_0%2Cy_776/c_fill%2Cw_1160%2Ch_645/http%3A//cdn.taboola.com/libtrc/static/thumbnails/6aa4240f1189281ccdc23ae6cf356c31.png\");\\'>\\n             <span class=\"thumbnail-overlay\">\\n             </span>\\n             <span class=\"branding\">\\n              연세힐치과의원\\n             </span>\\n             <span class=\"static-text top-right\">\\n             </span>\\n            </span>\\n            <div class=\"videoCube_aspect\">\\n            </div>\\n           </div>\\n          </a>\\n          <a attributionsrc=\"\" class=\"item-label-href\" href=\"https://www.healdentalclinic.com/landing/landing_faceoffDR.php\" rel=\"nofollow noopener sponsored\" target=\"_blank\" title=\"임플란트 1개부터, 전체 임플란트!\">\\n           <span class=\"video-label-box trc-main-label\">\\n            <span class=\"video-label video-title trc_ellipsis\" slot=\"title\" style=\"-webkit-line-clamp: 1;\">\\n             임플란트 1개부터, 전체 임플란트!\\n            </span>\\n            <span class=\"video-label video-description\" slot=\"description\" title=\\'\"Description: \"\\'>\\n            </span>\\n            <span class=\"branding composite-branding\" slot=\"branding\">\\n             <span class=\"branding-inner\">\\n              연세힐치과의원\\n             </span>\\n             <span class=\"branding-separator\">\\n              |\\n             </span>\\n             <div class=\"logoDiv link-disclosure attribution-disclosure-link-sponsored align-disclosure-left\">\\n              <a class=\"trc_desktop_disclosure_link trc_attribution_position_after_branding\" href=\"https://popup.taboola.com/ko/?template=colorbox&amp;utm_source=financialnews-fnnews&amp;utm_medium=referral&amp;utm_content=thumbs-feed-01-y-delta:Explore More | Card 2:\" rel=\"nofollow sponsored noopener\" target=\"_blank\">\\n               <span>\\n                Sponsored\\n               </span>\\n              </a>\\n              <a class=\"trc_mobile_disclosure_link trc_attribution_position_after_branding\" href=\"https://popup.taboola.com/ko/?template=colorbox&amp;utm_source=financialnews-fnnews&amp;utm_medium=referral&amp;utm_content=thumbs-feed-01-y-delta:Explore More | Card 2:\" rel=\"nofollow sponsored noopener\" target=\"_blank\">\\n               <span>\\n                Sponsored\\n               </span>\\n              </a>\\n             </div>\\n            </span>\\n           </span>\\n          </a>\\n          <div class=\"trc_user_exclude_btn\" title=\"아이템 삭제\">\\n          </div>\\n          <div class=\"trc_exclude_overlay trc_fade\">\\n          </div>\\n          <div class=\"trc_undo_btn\">\\n           돌아가기\\n          </div>\\n         </div>\\n        </div>\\n       </div>\\n      </div>\\n      <div class=\"trc_clearer\">\\n      </div>\\n     </div>\\n    </div>\\n   </div>\\n  </div>\\n  <div class=\"trc_related_container trc_spotlight_widget trc_elastic trc_elastic_organic-thumbs-feed-01-b-em-delta tbl-feed-card tbl-feed-card\" data-batch-num=\"1\" data-card-index=\"3\" data-placement-name=\"Explore More | Card 3\" id=\"tbl-explore-more-container-pl3\" observeid=\"tbl-observe-32\" style=\"padding: 0px;\" tbl-feed-card=\"\">\\n   <div class=\"trc_rbox_container\">\\n    <div>\\n     <div class=\"trc_rbox organic-thumbs-feed-01-b-em-delta trc-content-organic\" id=\"trc_wrapper_594\" style=\"overflow: hidden; display: block;\">\\n      <div class=\"trc_rbox_header trc_rbox_border_elm\" id=\"trc_header_594\">\\n       <div class=\"trc_header_ext\">\\n       </div>\\n       <span class=\"trc_rbox_header_span\">\\n       </span>\\n      </div>\\n      <div class=\"trc_rbox_outer\" id=\"outer_594\">\\n       <div class=\"trc_rbox_div trc_rbox_border_elm\" id=\"rbox-t2v\">\\n        <div id=\"internal_trc_594\">\\n         <div class=\"videoCube trc_spotlight_item origin-undefined thumbnail_top textItem videoCube_1_child trc-first-recommendation trc-spotlight-first-recommendation trc_excludable\" data-item-id=\"~~V1~~8161358996880819875~~-hAkJ9oIzNRcb3dT-8f_eQ\" data-item-syndicated=\"false\" data-item-thumb=\"https://image.fnnews.com/resource/media/image/2024/01/22/202401221005164490_l.jpg\" data-item-title=\"새미래 이석현, 강북을 출사표…\" observeid=\"tbl-observe-33\">\\n          <a attributionsrc=\"\" class=\"item-thumbnail-href\" href=\"https://www.fnnews.com/news/202403221650426782\" slot=\"thumbnail\" target=\"_parent\" title=\"새미래 이석현, 강북을 출사표…\">\\n           <div class=\"thumbBlock_holder\">\\n            <span class=\"thumbBlock\" style=\\'background-image: url(\"https://images.taboola.com/taboola/image/fetch/f_jpg%2Cq_auto%2Ch_423%2Cw_760%2Cc_fill%2Cg_faces:auto%2Ce_sharpen/https%3A//image.fnnews.com/resource/media/image/2024/01/22/202401221005164490_l.jpg\");\\'>\\n             <span class=\"thumbnail-overlay\">\\n             </span>\\n            </span>\\n            <div class=\"videoCube_aspect\">\\n            </div>\\n           </div>\\n          </a>\\n          <a attributionsrc=\"\" class=\"item-label-href\" href=\"https://www.fnnews.com/news/202403221650426782\" target=\"_parent\" title=\"새미래 이석현, 강북을 출사표…\">\\n           <span class=\"video-label-box trc-main-label\">\\n            <span class=\"video-label video-title trc_ellipsis\" slot=\"title\" style=\"-webkit-line-clamp: 1;\">\\n             새미래 이석현, 강북을 출사표…\\n            </span>\\n            <span class=\"video-label video-description\" slot=\"description\" title=\\'\"Description: [파이낸셜뉴스] 새로운미래 고문인 이석현 전 국회부의장이 22일\"\\'>\\n             [파이낸셜뉴스] 새로운미래 고문인 이석현 전 국회부의장이 22일\\n            </span>\\n            <span class=\"branding\" slot=\"branding\">\\n             파이낸셜뉴스\\n            </span>\\n           </span>\\n          </a>\\n          <div class=\"trc_user_exclude_btn\" title=\"아이템 삭제\">\\n          </div>\\n          <div class=\"trc_exclude_overlay trc_fade\">\\n          </div>\\n          <div class=\"trc_undo_btn\">\\n           돌아가기\\n          </div>\\n         </div>\\n         <div class=\"videoCube trc_spotlight_item origin-undefined thumbnail_top textItem videoCube_2_child trc_excludable\" data-item-id=\"~~V1~~-3692972787243016523~~Q1GpbfeuwM1r2h1VyrWGZA\" data-item-syndicated=\"false\" data-item-thumb=\"https://image.fnnews.com/resource/media/image/2024/03/22/202403221702194213_l.jpg\" data-item-title=\"&amp;#34;아름다운 동행&amp;#34;...대한항공 前여승무원동우회 KASA, 서울역서 급식 봉사 - 파이낸셜뉴스\" observeid=\"tbl-observe-34\">\\n          <a attributionsrc=\"\" class=\"item-thumbnail-href\" href=\"https://www.fnnews.com/news/202403221658051055\" slot=\"thumbnail\" target=\"_parent\" title=\\'\"아름다운 동행\"...대한항공 前여승무원동우회 KASA, 서울역서 급식 봉사 - 파이낸셜뉴스\\'>\\n           <div class=\"thumbBlock_holder\">\\n            <span class=\"thumbBlock\" style=\\'background-image: url(\"https://images.taboola.com/taboola/image/fetch/f_jpg%2Cq_auto%2Ch_423%2Cw_760%2Cc_fill%2Cg_faces:auto%2Ce_sharpen/https%3A//image.fnnews.com/resource/media/image/2024/03/22/202403221702194213_l.jpg\");\\'>\\n             <span class=\"thumbnail-overlay\">\\n             </span>\\n            </span>\\n            <div class=\"videoCube_aspect\">\\n            </div>\\n           </div>\\n          </a>\\n          <a attributionsrc=\"\" class=\"item-label-href\" href=\"https://www.fnnews.com/news/202403221658051055\" target=\"_parent\" title=\\'\"아름다운 동행\"...대한항공 前여승무원동우회 KASA, 서울역서 급식 봉사 - 파이낸셜뉴스\\'>\\n           <span class=\"video-label-box trc-main-label\">\\n            <span class=\"video-label video-title trc_ellipsis\" slot=\"title\" style=\"-webkit-line-clamp: 2;\">\\n             \"아름다운 동행\"...대한항공 前여승무원동우회 KASA, 서울역서 급식 봉사 - 파이낸셜뉴스\\n            </span>\\n            <span class=\"video-label video-description\" slot=\"description\" title=\\'\"Description: [파이낸셜뉴스] 대한항공 전직 여승무원 동우회인 카사(KASA)는 지난 21일 서울시 용산구 서울역 무료급식소인 &amp;#39;따스한채움터&amp;#39;에서 봉사활동을 펼쳤다고 22일 밝혔다.\\xa0취약계층 무료급식 제공을 위해 진행된 이날 봉사활동에서는 컵과일과 양말 등의 물품기부와 배식, 서빙 봉사 등도 함께 이뤄졌다.\\xa0봉사활동 중에는 8명의 회원들로 구성된 카..\"\\'>\\n             [파이낸셜뉴스] 대한항공 전직 여승무원 동우회인 카사(KASA)는 지난 21일 서울시 용산구 서울역 무료급식소인 \\'따스한채움터\\'에서 봉사활동을 펼쳤다고 22일 밝혔다.\\xa0취약계층 무료급식 제공을 위해 진행된 이날 봉사활동에서는 컵과일과 양말 등의 물품기부와 배식, 서빙 봉사 등도 함께 이뤄졌다.\\xa0봉사활동 중에는 8명의 회원들로 구성된 카..\\n            </span>\\n            <span class=\"branding\" slot=\"branding\">\\n             파이낸셜뉴스\\n            </span>\\n           </span>\\n          </a>\\n          <div class=\"trc_user_exclude_btn\" title=\"아이템 삭제\">\\n          </div>\\n          <div class=\"trc_exclude_overlay trc_fade\">\\n          </div>\\n          <div class=\"trc_undo_btn\">\\n           돌아가기\\n          </div>\\n         </div>\\n         <div class=\"videoCube trc_spotlight_item origin-undefined thumbnail_top textItem videoCube_3_child trc_excludable\" data-item-id=\"~~V1~~8878388483532518520~~vR8cxXGVqJ4HooAyW92HNg\" data-item-syndicated=\"false\" data-item-thumb=\"https://image.fnnews.com/resource/media/image/2024/03/22/202403221254191869_l.jpg\" data-item-title=\"&amp;#39;조수진 리스크’ 제거한 민주…박용진은 끝내 &amp;#39;비명횡사&amp;#39;[2024 총선]\" observeid=\"tbl-observe-35\">\\n          <a attributionsrc=\"\" class=\"item-thumbnail-href\" href=\"https://www.fnnews.com/news/202403221427092189\" slot=\"thumbnail\" target=\"_parent\" title=\"\\'조수진 리스크’ 제거한 민주…박용진은 끝내 \\'비명횡사\\'[2024 총선]\">\\n           <div class=\"thumbBlock_holder\">\\n            <span class=\"thumbBlock\" style=\\'background-image: url(\"https://images.taboola.com/taboola/image/fetch/f_jpg%2Cq_auto%2Ch_423%2Cw_760%2Cc_fill%2Cg_faces:auto%2Ce_sharpen/https%3A//image.fnnews.com/resource/media/image/2024/03/22/202403221254191869_l.jpg\");\\'>\\n             <span class=\"thumbnail-overlay\">\\n             </span>\\n            </span>\\n            <div class=\"videoCube_aspect\">\\n            </div>\\n           </div>\\n          </a>\\n          <a attributionsrc=\"\" class=\"item-label-href\" href=\"https://www.fnnews.com/news/202403221427092189\" target=\"_parent\" title=\"\\'조수진 리스크’ 제거한 민주…박용진은 끝내 \\'비명횡사\\'[2024 총선]\">\\n           <span class=\"video-label-box trc-main-label\">\\n            <span class=\"video-label video-title trc_ellipsis\" slot=\"title\" style=\"-webkit-line-clamp: 2;\">\\n             \\'조수진 리스크’ 제거한 민주…박용진은 끝내 \\'비명횡사\\'[2024 총선]\\n            </span>\\n            <span class=\"video-label video-description\" slot=\"description\" title=\\'\"Description: [파이낸셜뉴스] 성범죄자 변호 이력으로 논란이 됐던 조수진 변호사가 서울 강북을 후보에서 사퇴하면서 더불어민주당이 부담을 한결 내려놓게 됐다. 다시금 공석이 된 강북을에는 &amp;#39;친명계&amp;#39; 한민수 대변인이 공천됐다. 각종 우여곡절 끝에 민주당이 한 대변인을 공천했으나 일각에서는 사천 문제와 함께 총선 이후 갈등의 새로운 씨앗이 될 것이라는 예측..\"\\'>\\n             [파이낸셜뉴스] 성범죄자 변호 이력으로 논란이 됐던 조수진 변호사가 서울 강북을 후보에서 사퇴하면서 더불어민주당이 부담을 한결 내려놓게 됐다. 다시금 공석이 된 강북을에는 \\'친명계\\' 한민수 대변인이 공천됐다. 각종 우여곡절 끝에 민주당이 한 대변인을 공천했으나 일각에서는 사천 문제와 함께 총선 이후 갈등의 새로운 씨앗이 될 것이라는 예측..\\n            </span>\\n            <span class=\"branding\" slot=\"branding\">\\n             파이낸셜뉴스\\n            </span>\\n           </span>\\n          </a>\\n          <div class=\"trc_user_exclude_btn\" title=\"아이템 삭제\">\\n          </div>\\n          <div class=\"trc_exclude_overlay trc_fade\">\\n          </div>\\n          <div class=\"trc_undo_btn\">\\n           돌아가기\\n          </div>\\n         </div>\\n        </div>\\n       </div>\\n      </div>\\n      <div class=\"trc_clearer\">\\n      </div>\\n     </div>\\n    </div>\\n   </div>\\n  </div>\\n  <div class=\"trc_related_container trc_spotlight_widget trc_elastic trc_elastic_organic-thumbs-feed-y-em-delta tbl-feed-card tbl-feed-card\" data-batch-num=\"1\" data-card-index=\"4\" data-placement-name=\"Explore More | Card 4\" id=\"tbl-explore-more-container-pl4\" observeid=\"tbl-observe-36\" style=\"padding: 0px;\" tbl-feed-card=\"\">\\n   <div class=\"trc_rbox_container\">\\n    <div>\\n     <div class=\"trc_rbox organic-thumbs-feed-y-em-delta trc-content-organic\" id=\"trc_wrapper_97952\" style=\"overflow: hidden; display: block;\">\\n      <div class=\"trc_rbox_header trc_rbox_border_elm\" id=\"trc_header_97952\">\\n       <div class=\"trc_header_ext\">\\n       </div>\\n       <span class=\"trc_rbox_header_span\">\\n       </span>\\n      </div>\\n      <div class=\"trc_rbox_outer\" id=\"outer_97952\">\\n       <div class=\"trc_rbox_div trc_rbox_border_elm\" id=\"rbox-t2v\">\\n        <div id=\"internal_trc_97952\">\\n         <div class=\"videoCube trc_spotlight_item origin-undefined thumbnail_top textItem videoCube_1_child trc-first-recommendation trc-spotlight-first-recommendation trc_excludable\" data-item-id=\"~~V1~~110171720830957671~~-hAkJ9oIzNRcb3dT-8f_eQ\" data-item-syndicated=\"false\" data-item-thumb=\"https://image.fnnews.com/resource/media/image/2024/03/18/202403180633474243_l.jpg\" data-item-title=\"&amp;#39;7살 제자 일가족 몰살&amp;#39; 혐의 태권도 관장, 모든 것이 거짓 &amp;#34;아내도 당했다&amp;#34;\" observeid=\"tbl-observe-37\">\\n          <a attributionsrc=\"\" class=\"item-thumbnail-href\" href=\"https://www.fnnews.com/news/202403180627290994\" slot=\"thumbnail\" target=\"_parent\" title=\"\\'7살 제자 일가족 몰살\\' 혐의 태권도 관장, 모든 것이 거짓 &quot;아내도 당했다&quot;\">\\n           <div class=\"thumbBlock_holder\">\\n            <span class=\"thumbBlock\" style=\\'background-image: url(\"https://images.taboola.com/taboola/image/fetch/f_jpg%2Cq_auto%2Ch_645%2Cw_1160%2Cc_fill%2Cg_faces:auto%2Ce_sharpen/https%3A//image.fnnews.com/resource/media/image/2024/03/18/202403180633474243_l.jpg\");\\'>\\n             <span class=\"thumbnail-overlay\">\\n             </span>\\n            </span>\\n            <div class=\"videoCube_aspect\">\\n            </div>\\n           </div>\\n          </a>\\n          <a attributionsrc=\"\" class=\"item-label-href\" href=\"https://www.fnnews.com/news/202403180627290994\" target=\"_parent\" title=\"\\'7살 제자 일가족 몰살\\' 혐의 태권도 관장, 모든 것이 거짓 &quot;아내도 당했다&quot;\">\\n           <span class=\"video-label-box trc-main-label\">\\n            <span class=\"video-label video-title trc_ellipsis\" slot=\"title\" style=\"-webkit-line-clamp: 1;\">\\n             \\'7살 제자 일가족 몰살\\' 혐의 태권도 관장, 모든 것이 거짓 \"아내도 당했다\"\\n            </span>\\n            <span class=\"video-label video-description\" slot=\"description\" title=\\'\"Description: [파이낸셜뉴스] \\xa0지난달 호주 시드니에서 한인 일가족 3명을 살해한 혐의를 받는 태권도 관장의 만행이 드러났다. 17일 SBS ‘그것이 알고 싶다’에 따르면 지난달 20일 시드니 노스 파라마타 지역의 한 태권도장에 다니던 아이와 엄마가 태권도장에서 숨져 있었고, 아이의 아빠도 자기 집에서 사망한 채 발견됐다.용의자로 지목된 이는 아이가 다니..\"\\'>\\n             [파이낸셜뉴스] \\xa0지난달 호주 시드니에서 한인 일가족 3명을 살해한 혐의를 받는 태권도 관장의 만행이 드러났다. 17일 SBS ‘그것이 알고 싶다’에 따르면 지난달 20일 시드니 노스 파라마타 지역의 한 태권도장에 다니던 아이와 엄마가 태권도장에서 숨져 있었고, 아이의 아빠도 자기 집에서 사망한 채 발견됐다.용의자로 지목된 이는 아이가 다니..\\n            </span>\\n            <span class=\"branding\" slot=\"branding\">\\n             파이낸셜뉴스\\n            </span>\\n           </span>\\n          </a>\\n          <div class=\"trc_user_exclude_btn\" title=\"아이템 삭제\">\\n          </div>\\n          <div class=\"trc_exclude_overlay trc_fade\">\\n          </div>\\n          <div class=\"trc_undo_btn\">\\n           돌아가기\\n          </div>\\n         </div>\\n         <div class=\"videoCube trc_spotlight_item origin-undefined thumbnail_top textItem videoCube_2_child trc_excludable\" data-item-id=\"~~V1~~81380039386069818~~Q1GpbfeuwM1r2h1VyrWGZA\" data-item-syndicated=\"false\" data-item-thumb=\"https://image.fnnews.com/resource/media/image/2024/02/23/202402230954011978_l.jpg\" data-item-title=\"&amp;#34;수십명 달려들어 파냈지만&amp;#34;..플로리다 해변 모래더미에 묻힌 7세 소녀 - 파이낸셜뉴스\" observeid=\"tbl-observe-38\">\\n          <a attributionsrc=\"\" class=\"item-thumbnail-href\" href=\"https://www.fnnews.com/news/202402230951577306\" slot=\"thumbnail\" target=\"_parent\" title=\\'\"수십명 달려들어 파냈지만\"..플로리다 해변 모래더미에 묻힌 7세 소녀 - 파이낸셜뉴스\\'>\\n           <div class=\"thumbBlock_holder\">\\n            <span class=\"thumbBlock\" style=\\'background-image: url(\"https://images.taboola.com/taboola/image/fetch/f_jpg%2Cq_auto%2Ch_645%2Cw_1160%2Cc_fill%2Cg_faces:auto%2Ce_sharpen/https%3A//image.fnnews.com/resource/media/image/2024/02/23/202402230954011978_l.jpg\");\\'>\\n             <span class=\"thumbnail-overlay\">\\n             </span>\\n            </span>\\n            <div class=\"videoCube_aspect\">\\n            </div>\\n           </div>\\n          </a>\\n          <a attributionsrc=\"\" class=\"item-label-href\" href=\"https://www.fnnews.com/news/202402230951577306\" target=\"_parent\" title=\\'\"수십명 달려들어 파냈지만\"..플로리다 해변 모래더미에 묻힌 7세 소녀 - 파이낸셜뉴스\\'>\\n           <span class=\"video-label-box trc-main-label\">\\n            <span class=\"video-label video-title trc_ellipsis\" slot=\"title\" style=\"-webkit-line-clamp: 2;\">\\n             \"수십명 달려들어 파냈지만\"..플로리다 해변 모래더미에 묻힌 7세 소녀 - 파이낸셜뉴스\\n            </span>\\n            <span class=\"video-label video-description\" slot=\"description\" title=\\'\"Description: [파이낸셜뉴스] \\xa0가족과 함께 해변에서 모래놀이를 하던 7살 여자 어린이가 모래 구덩이에 갇혀 사망하는 사고가 발생했다. 22일(현지시간) 뉴욕포스트에 따르면 전날 오후 3시쯤 미국 플로리다주 해변에서 인디애나주 출신 살 7여아 슬론 매팅리와 9살 남아 매덕스 매팅리가 모래사장에서 구덩이를 파며 놀던 중 돌연 사라졌다.남매가 앉아 있던 바..\"\\'>\\n             [파이낸셜뉴스] \\xa0가족과 함께 해변에서 모래놀이를 하던 7살 여자 어린이가 모래 구덩이에 갇혀 사망하는 사고가 발생했다. 22일(현지시간) 뉴욕포스트에 따르면 전날 오후 3시쯤 미국 플로리다주 해변에서 인디애나주 출신 살 7여아 슬론 매팅리와 9살 남아 매덕스 매팅리가 모래사장에서 구덩이를 파며 놀던 중 돌연 사라졌다.남매가 앉아 있던 바..\\n            </span>\\n            <span class=\"branding\" slot=\"branding\">\\n             파이낸셜뉴스\\n            </span>\\n           </span>\\n          </a>\\n          <div class=\"trc_user_exclude_btn\" title=\"아이템 삭제\">\\n          </div>\\n          <div class=\"trc_exclude_overlay trc_fade\">\\n          </div>\\n          <div class=\"trc_undo_btn\">\\n           돌아가기\\n          </div>\\n         </div>\\n        </div>\\n       </div>\\n      </div>\\n      <div class=\"trc_clearer\">\\n      </div>\\n     </div>\\n    </div>\\n   </div>\\n  </div>\\n  <div class=\"trc_related_container trc_spotlight_widget trc_elastic trc_elastic_thumbs-feed-01-y-delta tbl-feed-card tbl-feed-card\" data-batch-num=\"1\" data-card-index=\"5\" data-placement-name=\"Explore More | Card 5\" id=\"tbl-explore-more-container-pl5\" observeid=\"tbl-observe-39\" style=\"padding: 0px;\" tbl-feed-card=\"\">\\n   <div class=\"trc_rbox_container\">\\n    <div>\\n     <div class=\"trc_rbox thumbs-feed-01-y-delta trc-content-sponsored\" id=\"trc_wrapper_62479\" style=\"overflow: hidden; display: block;\">\\n      <div class=\"trc_rbox_header trc_rbox_border_elm\" id=\"trc_header_62479\">\\n       <div class=\"trc_header_ext\">\\n       </div>\\n       <span class=\"trc_rbox_header_span\">\\n       </span>\\n      </div>\\n      <div class=\"trc_rbox_outer\" id=\"outer_62479\">\\n       <div class=\"trc_rbox_div trc_rbox_border_elm\" id=\"rbox-t2v\">\\n        <div id=\"internal_trc_62479\">\\n         <div class=\"videoCube trc_spotlight_item origin-default thumbnail_top syndicatedItem textItem videoCube_1_child trc-first-recommendation trc-spotlight-first-recommendation trc_excludable\" data-item-id=\"~~V1~~8709502561184723119~~MOfs8p17Y5nCbccRbo4DRlFbl96BVdt3FzZY9C1ByxYe79Ni-eBnd8iQ4KmvvX-QCoTT_IvWFG7RTbSa_z-XXku7an8VqkvnxTtX7NBUjMwED6po4OqRyl9AWilw8PDl432-dbVeVLYenjJ-8LThGAs3rXGKfffV3MMsy0VT_7XkrdMZj1q--yd78JvyUczW\" data-item-syndicated=\"true\" data-item-thumb=\"http://cdn.taboola.com/libtrc/static/thumbnails/c6d89a52c02b26ef1ad6b02c6f6f5aa7.png\" data-item-title=\"전체 임플란트 해야 하는데 부담된다면?\" observeid=\"tbl-observe-40\">\\n          <a attributionsrc=\"\" class=\"item-thumbnail-href\" href=\"https://www.healdentalclinic.com/landing/DRtab1/\" rel=\"nofollow noopener sponsored\" slot=\"thumbnail\" target=\"_blank\" title=\"전체 임플란트 해야 하는데 부담된다면?\">\\n           <div class=\"thumbBlock_holder\">\\n            <span class=\"thumbBlock\" style=\\'background-image: url(\"https://images.taboola.com/taboola/image/fetch/c_crop%2Cf_jpg%2Cq_auto%2Ce_sharpen%2Car_1.7778%2Cw_6000%2Cx_0%2Cy_773/c_fill%2Cw_1160%2Ch_645/http%3A//cdn.taboola.com/libtrc/static/thumbnails/c6d89a52c02b26ef1ad6b02c6f6f5aa7.png\");\\'>\\n             <span class=\"thumbnail-overlay\">\\n             </span>\\n             <span class=\"branding\">\\n              연세힐치과의원\\n             </span>\\n             <span class=\"static-text top-right\">\\n             </span>\\n            </span>\\n            <div class=\"videoCube_aspect\">\\n            </div>\\n           </div>\\n          </a>\\n          <a attributionsrc=\"\" class=\"item-label-href\" href=\"https://www.healdentalclinic.com/landing/DRtab1/\" rel=\"nofollow noopener sponsored\" target=\"_blank\" title=\"전체 임플란트 해야 하는데 부담된다면?\">\\n           <span class=\"video-label-box trc-main-label\">\\n            <span class=\"video-label video-title trc_ellipsis\" slot=\"title\" style=\"-webkit-line-clamp: 1;\">\\n             전체 임플란트 해야 하는데 부담된다면?\\n            </span>\\n            <span class=\"video-label video-description\" slot=\"description\" title=\\'\"Description: \"\\'>\\n            </span>\\n            <span class=\"branding composite-branding\" slot=\"branding\">\\n             <span class=\"branding-inner\">\\n              연세힐치과의원\\n             </span>\\n             <span class=\"branding-separator\">\\n              |\\n             </span>\\n             <div class=\"logoDiv link-disclosure attribution-disclosure-link-sponsored align-disclosure-left\">\\n              <a class=\"trc_desktop_disclosure_link trc_attribution_position_after_branding\" href=\"https://popup.taboola.com/ko/?template=colorbox&amp;utm_source=financialnews-fnnews&amp;utm_medium=referral&amp;utm_content=thumbs-feed-01-y-delta:Explore More | Card 5:\" rel=\"nofollow sponsored noopener\" target=\"_blank\">\\n               <span>\\n                Sponsored\\n               </span>\\n              </a>\\n              <a class=\"trc_mobile_disclosure_link trc_attribution_position_after_branding\" href=\"https://popup.taboola.com/ko/?template=colorbox&amp;utm_source=financialnews-fnnews&amp;utm_medium=referral&amp;utm_content=thumbs-feed-01-y-delta:Explore More | Card 5:\" rel=\"nofollow sponsored noopener\" target=\"_blank\">\\n               <span>\\n                Sponsored\\n               </span>\\n              </a>\\n             </div>\\n            </span>\\n           </span>\\n          </a>\\n          <div class=\"trc_user_exclude_btn\" title=\"아이템 삭제\">\\n          </div>\\n          <div class=\"trc_exclude_overlay trc_fade\">\\n          </div>\\n          <div class=\"trc_undo_btn\">\\n           돌아가기\\n          </div>\\n         </div>\\n         <div class=\"videoCube trc_spotlight_item origin-default thumbnail_top syndicatedItem textItem videoCube_2_child trc_excludable\" data-item-id=\"~~V1~~3175648558994477148~~lLGQnUF3FoAMg9_vThB1HROV_BbQVB1iHGmFtPliGjx9_9IWyVTZYEw3zPc60dwzHu_TYvngZ3fIkOCpr71_kD7VbyU9qGbFCk3G1JTsLXxLu2p_FapL58U7V-zQVIzMwEIA7VrxFnolFXc_eqxGG8yhcWaXFhQ8DfWQnv_fAGgLN61xin331dzDLMtFU_-15K3TGY9avvsne_Cb8lHM1g\" data-item-syndicated=\"true\" data-item-thumb=\"http://cdn.taboola.com/libtrc/static/thumbnails/aeae3fe4769589e7e6a9572902735287.png\" data-item-title=\"34kg 감량된 내 모습을보니 월 16만원이 전혀 아깝지 않았어요\" observeid=\"tbl-observe-41\">\\n          <a attributionsrc=\"\" class=\"item-thumbnail-href\" href=\"https://diet.juvis.co.kr/page/diet-story/interview/400119\" rel=\"nofollow noopener sponsored\" slot=\"thumbnail\" target=\"_blank\" title=\"34kg 감량된 내 모습을보니 월 16만원이 전혀 아깝지 않았어요\">\\n           <div class=\"thumbBlock_holder\">\\n            <span class=\"thumbBlock\" style=\\'background-image: url(\"https://images.taboola.com/taboola/image/fetch/f_jpg%2Cq_auto%2Ch_645%2Cw_1160%2Cc_fill%2Cg_faces:auto%2Ce_sharpen/http%3A//cdn.taboola.com/libtrc/static/thumbnails/aeae3fe4769589e7e6a9572902735287.png\");\\'>\\n             <span class=\"thumbnail-overlay\">\\n             </span>\\n             <span class=\"branding\">\\n              JUVIS\\n             </span>\\n             <span class=\"static-text top-right\">\\n             </span>\\n            </span>\\n            <div class=\"videoCube_aspect\">\\n            </div>\\n           </div>\\n          </a>\\n          <a attributionsrc=\"\" class=\"item-label-href\" href=\"https://diet.juvis.co.kr/page/diet-story/interview/400119\" rel=\"nofollow noopener sponsored\" target=\"_blank\" title=\"34kg 감량된 내 모습을보니 월 16만원이 전혀 아깝지 않았어요\">\\n           <span class=\"video-label-box trc-main-label\">\\n            <span class=\"video-label video-title trc_ellipsis\" slot=\"title\" style=\"-webkit-line-clamp: 1;\">\\n             34kg 감량된 내 모습을보니 월 16만원이 전혀 아깝지 않았어요\\n            </span>\\n            <span class=\"video-label video-description\" slot=\"description\" title=\\'\"Description: \"\\'>\\n            </span>\\n            <span class=\"branding composite-branding\" slot=\"branding\">\\n             <span class=\"branding-inner\">\\n              JUVIS\\n             </span>\\n             <span class=\"branding-separator\">\\n              |\\n             </span>\\n             <div class=\"logoDiv link-disclosure attribution-disclosure-link-sponsored align-disclosure-left\">\\n              <a class=\"trc_desktop_disclosure_link trc_attribution_position_after_branding\" href=\"https://popup.taboola.com/ko/?template=colorbox&amp;utm_source=financialnews-fnnews&amp;utm_medium=referral&amp;utm_content=thumbs-feed-01-y-delta:Explore More | Card 5:\" rel=\"nofollow sponsored noopener\" target=\"_blank\">\\n               <span>\\n                Sponsored\\n               </span>\\n              </a>\\n              <a class=\"trc_mobile_disclosure_link trc_attribution_position_after_branding\" href=\"https://popup.taboola.com/ko/?template=colorbox&amp;utm_source=financialnews-fnnews&amp;utm_medium=referral&amp;utm_content=thumbs-feed-01-y-delta:Explore More | Card 5:\" rel=\"nofollow sponsored noopener\" target=\"_blank\">\\n               <span>\\n                Sponsored\\n               </span>\\n              </a>\\n             </div>\\n            </span>\\n           </span>\\n          </a>\\n          <div class=\"trc_user_exclude_btn\" title=\"아이템 삭제\">\\n          </div>\\n          <div class=\"trc_exclude_overlay trc_fade\">\\n          </div>\\n          <div class=\"trc_undo_btn\">\\n           돌아가기\\n          </div>\\n         </div>\\n        </div>\\n       </div>\\n      </div>\\n      <div class=\"trc_clearer\">\\n      </div>\\n     </div>\\n    </div>\\n   </div>\\n  </div>\\n  <div class=\"trc_related_container trc_spotlight_widget trc_elastic trc_elastic_organic-thumbs-feed-y-em-delta tbl-feed-card tbl-feed-card\" data-batch-num=\"1\" data-card-index=\"6\" data-placement-name=\"Explore More | Card 6\" id=\"tbl-explore-more-container-pl6\" observeid=\"tbl-observe-42\" style=\"padding: 0px;\" tbl-feed-card=\"\">\\n   <div class=\"trc_rbox_container\">\\n    <div>\\n     <div class=\"trc_rbox organic-thumbs-feed-y-em-delta trc-content-organic\" id=\"trc_wrapper_96265\" style=\"overflow: hidden; display: block;\">\\n      <div class=\"trc_rbox_header trc_rbox_border_elm\" id=\"trc_header_96265\">\\n       <div class=\"trc_header_ext\">\\n       </div>\\n       <span class=\"trc_rbox_header_span\">\\n       </span>\\n      </div>\\n      <div class=\"trc_rbox_outer\" id=\"outer_96265\">\\n       <div class=\"trc_rbox_div trc_rbox_border_elm\" id=\"rbox-t2v\">\\n        <div id=\"internal_trc_96265\">\\n         <div class=\"videoCube trc_spotlight_item origin-undefined thumbnail_top textItem videoCube_1_child trc-first-recommendation trc-spotlight-first-recommendation trc_excludable\" data-item-id=\"~~V1~~-3809413378971922379~~-hAkJ9oIzNRcb3dT-8f_eQ\" data-item-syndicated=\"false\" data-item-thumb=\"https://image.fnnews.com/resource/media/image/2024/03/03/202403030852448611_l.jpg\" data-item-title=\"&amp;#34;밥맛 없다, 저리가라&amp;#34; 계양 식당서 욕먹은 원희룡·이천수가 한 말..\" observeid=\"tbl-observe-43\">\\n          <a attributionsrc=\"\" class=\"item-thumbnail-href\" href=\"https://www.fnnews.com/news/202403030850483771?amp_js_v=0.1\" slot=\"thumbnail\" target=\"_parent\" title=\\'\"밥맛 없다, 저리가라\" 계양 식당서 욕먹은 원희룡·이천수가 한 말..\\'>\\n           <div class=\"thumbBlock_holder\">\\n            <span class=\"thumbBlock\" style=\\'background-image: url(\"https://images.taboola.com/taboola/image/fetch/f_jpg%2Cq_auto%2Ch_645%2Cw_1160%2Cc_fill%2Cg_faces:auto%2Ce_sharpen/https%3A//image.fnnews.com/resource/media/image/2024/03/03/202403030852448611_l.jpg\");\\'>\\n             <span class=\"thumbnail-overlay\">\\n             </span>\\n            </span>\\n            <div class=\"videoCube_aspect\">\\n            </div>\\n           </div>\\n          </a>\\n          <a attributionsrc=\"\" class=\"item-label-href\" href=\"https://www.fnnews.com/news/202403030850483771?amp_js_v=0.1\" target=\"_parent\" title=\\'\"밥맛 없다, 저리가라\" 계양 식당서 욕먹은 원희룡·이천수가 한 말..\\'>\\n           <span class=\"video-label-box trc-main-label\">\\n            <span class=\"video-label video-title trc_ellipsis\" slot=\"title\" style=\"-webkit-line-clamp: 1;\">\\n             \"밥맛 없다, 저리가라\" 계양 식당서 욕먹은 원희룡·이천수가 한 말..\\n            </span>\\n            <span class=\"video-label video-description\" slot=\"description\" title=\\'\"Description: [파이낸셜뉴스] \\xa0국민의힘 인천 계양을 후보인 원희룡 전 국토교통부 장관이 선..\"\\'>\\n             [파이낸셜뉴스] \\xa0국민의힘 인천 계양을 후보인 원희룡 전 국토교통부 장관이 선..\\n            </span>\\n            <span class=\"branding\" slot=\"branding\">\\n             파이낸셜뉴스\\n            </span>\\n           </span>\\n          </a>\\n          <div class=\"trc_user_exclude_btn\" title=\"아이템 삭제\">\\n          </div>\\n          <div class=\"trc_exclude_overlay trc_fade\">\\n          </div>\\n          <div class=\"trc_undo_btn\">\\n           돌아가기\\n          </div>\\n         </div>\\n         <div class=\"videoCube trc_spotlight_item origin-undefined thumbnail_top textItem videoCube_2_child trc_excludable\" data-item-id=\"~~V1~~8231105086769541132~~Q1GpbfeuwM1r2h1VyrWGZA\" data-item-syndicated=\"false\" data-item-thumb=\"https://image.fnnews.com/resource/media/image/2024/03/22/202403221002230207_l.jpg\" data-item-title=\"새벽 공원 벤치서 웅크린 채 잠든 여학생...지켜본 시민의 행동 [따뜻했슈]\" observeid=\"tbl-observe-44\">\\n          <a attributionsrc=\"\" class=\"item-thumbnail-href\" href=\"https://www.fnnews.com/news/202403221000104630\" slot=\"thumbnail\" target=\"_parent\" title=\"새벽 공원 벤치서 웅크린 채 잠든 여학생...지켜본 시민의 행동 [따뜻했슈]\">\\n           <div class=\"thumbBlock_holder\">\\n            <span class=\"thumbBlock\" style=\\'background-image: url(\"https://images.taboola.com/taboola/image/fetch/f_jpg%2Cq_auto%2Ch_645%2Cw_1160%2Cc_fill%2Cg_faces:auto%2Ce_sharpen/https%3A//image.fnnews.com/resource/media/image/2024/03/22/202403221002230207_l.jpg\");\\'>\\n             <span class=\"thumbnail-overlay\">\\n             </span>\\n            </span>\\n            <div class=\"videoCube_aspect\">\\n            </div>\\n           </div>\\n          </a>\\n          <a attributionsrc=\"\" class=\"item-label-href\" href=\"https://www.fnnews.com/news/202403221000104630\" target=\"_parent\" title=\"새벽 공원 벤치서 웅크린 채 잠든 여학생...지켜본 시민의 행동 [따뜻했슈]\">\\n           <span class=\"video-label-box trc-main-label\">\\n            <span class=\"video-label video-title trc_ellipsis\" slot=\"title\" style=\"-webkit-line-clamp: 1;\">\\n             새벽 공원 벤치서 웅크린 채 잠든 여학생...지켜본 시민의 행동 [따뜻했슈]\\n            </span>\\n            <span class=\"video-label video-description\" slot=\"description\" title=\\'\"Description: [파이낸셜뉴스]\\xa0 늦은 밤 공원 벤치에서 잠든 여학생을 발견, 경찰에 신고한 뒤 멀리서 지켜본 시민의 선행이 알려져 화제다.A씨는 지난 21일 온라인 커뮤니티 &amp;#39;보배드림&amp;#39;을 통해 자신이 겪은 일을 전했다.그는\"\\'>\\n             [파이낸셜뉴스]\\xa0 늦은 밤 공원 벤치에서 잠든 여학생을 발견, 경찰에 신고한 뒤 멀리서 지켜본 시민의 선행이 알려져 화제다.A씨는 지난 21일 온라인 커뮤니티 \\'보배드림\\'을 통해 자신이 겪은 일을 전했다.그는\\n            </span>\\n            <span class=\"branding\" slot=\"branding\">\\n             파이낸셜뉴스\\n            </span>\\n           </span>\\n          </a>\\n          <div class=\"trc_user_exclude_btn\" title=\"아이템 삭제\">\\n          </div>\\n          <div class=\"trc_exclude_overlay trc_fade\">\\n          </div>\\n          <div class=\"trc_undo_btn\">\\n           돌아가기\\n          </div>\\n         </div>\\n        </div>\\n       </div>\\n      </div>\\n      <div class=\"trc_clearer\">\\n      </div>\\n     </div>\\n    </div>\\n   </div>\\n  </div>\\n  <div class=\"tbl-batch-anchor\" observeid=\"tbl-observe-47\">\\n  </div>\\n  <div class=\"tbl-hidden tbl-loading-spinner tbl-loading-cards-placeholder tbl-hidden\">\\n   <div class=\"tbl-placeholder-card\">\\n    <div class=\"tbl-first-row-pl tbl-masker\">\\n    </div>\\n    <div class=\"tbl-second-row-pl tbl-masker\">\\n    </div>\\n    <div class=\"tbl-third-row-pl tbl-masker\">\\n    </div>\\n    <div class=\"tbl-last-row-right-padding tbl-masker\">\\n    </div>\\n    <div class=\"tbl-img-top-padding tbl-masker\">\\n    </div>\\n    <div class=\"tbl-img-bottom-padding tbl-masker\">\\n    </div>\\n    <div class=\"tbl-first-col-padding tbl-masker\">\\n    </div>\\n    <div class=\"tbl-second-col-padding tbl-masker\">\\n    </div>\\n   </div>\\n   <div class=\"tbl-placeholder-card\">\\n    <div class=\"tbl-first-row-pl tbl-masker\">\\n    </div>\\n    <div class=\"tbl-second-row-pl tbl-masker\">\\n    </div>\\n    <div class=\"tbl-third-row-pl tbl-masker\">\\n    </div>\\n    <div class=\"tbl-last-row-right-padding tbl-masker\">\\n    </div>\\n    <div class=\"tbl-img-top-padding tbl-masker\">\\n    </div>\\n    <div class=\"tbl-img-bottom-padding tbl-masker\">\\n    </div>\\n    <div class=\"tbl-first-col-padding tbl-masker\">\\n    </div>\\n    <div class=\"tbl-second-col-padding tbl-masker\">\\n    </div>\\n   </div>\\n   <div class=\"tbl-placeholder-card\">\\n    <div class=\"tbl-first-row-pl tbl-masker\">\\n    </div>\\n    <div class=\"tbl-second-row-pl tbl-masker\">\\n    </div>\\n    <div class=\"tbl-third-row-pl tbl-masker\">\\n    </div>\\n    <div class=\"tbl-last-row-right-padding tbl-masker\">\\n    </div>\\n    <div class=\"tbl-img-top-padding tbl-masker\">\\n    </div>\\n    <div class=\"tbl-img-bottom-padding tbl-masker\">\\n    </div>\\n    <div class=\"tbl-first-col-padding tbl-masker\">\\n    </div>\\n    <div class=\"tbl-second-col-padding tbl-masker\">\\n    </div>\\n   </div>\\n  </div>\\n </div>\\n <iframe class=\"trc-hidden\" height=\"0px\" id=\"trc-pixel-iframe-1987\" name=\"trc-pixel-iframe-1987\" style=\"display: none;\" width=\"0px\">\\n </iframe>\\n <div class=\"trc_popover_aug_container\" id=\"tbl-aug-h249ra\">\\n  <div class=\"trc_popover_aug_container\" id=\"tbl-aug-j4f4jl\">\\n   <div class=\"trc_popover_aug_container\" id=\"tbl-aug-l3k1uz\">\\n    <div class=\"trc_popover trc_popover_fade trc_bottom\">\\n     <div class=\"trc_popover_arrow\">\\n     </div>\\n     <iframe frameborder=\"0\" scrolling=\"no\" src=\"javascript:void(0)\" style=\"width: 100%;\">\\n     </iframe>\\n    </div>\\n   </div>\\n  </div>\\n </div>\\n <iframe src=\"//imprhkmp.taboola.com/st?cijs=convusmp&amp;ttype=0&amp;cisd=convusmp&amp;cipid=66361655&amp;crid=-1&amp;dast=V9-voCABYDAMFSvu05V7D8BADBUr7tOVew_AUAAAAABgYA9AcAJObyGGeG0cwtGy6Ma9HEsVwLVw7bWmWaOWyjhWsznGyMAEBiLo9xZhjN3LLhwrgWTRzLtXDlsK1VppnDNlq4NsPJxgoAH8ZymQxqgYRl9vsOCsrp6TG7DKKi622xO5xmzxsAXNB0Onyue73u97vL7HaX73PX-N1-ucv3-UsGk81islgNZqPBYrVaDHdzAAAAAAB4APj___-HAAAAAACIAAAAAACQAAAAAACgAAioAPi3ABC4AAAAAADAAPj____XAAA45gBYKNfd53C7RX67zx8AAAAAACAAAAAAACQAAAdJhyUAACabxScA__________8xAAP0mTcyAP____83AAg9AAAPPgAAD0IAAAAAF0MAGgwFVI-61jlEAAAABktFAIwAAAAAAG7BlDWPACYBdAJABWBRBfD__99vBQBwBQAAEOBoNraNngWgOyjxFgYAAAAgMAawQA-L32922DV-t8sA_v_________NAP7PAP7RAIQsuFLSAIT6rxXUAH4BAQDWAH4BAQDYANQNAADgDUAADiDoAAhaMRisDiAgZgcAAAAAcAfw____rwcAAiuLxWNYWIajzWS18kwclt1gNtnsJsvNymFx-LYHIOeq5t4r_4nVBxAiLLPfd1BQTk-P2WUQFV1vi93hNHsO4oOGYTkZBPMDmLDFaDWZbJbD2XIxGQxHw9FofwADMdkMEGCChsPBYjdY7BaL4WQxGQ2WgwUCCMRgggAULRpMVqPRZDEZrkaT1Wy52O02CEDRqtVstBkMV7PJbLdbDQfD5WiEABO2GK0mk81yOFsuJoPhaDgaDREARjwr32A0mrlFjt1qLdosZ26FxzZbK1YLh3FhGHlGlpFb9PqYPjbfYGYxbRFAMMBmL5KnRTrRbUaDxWK08ThXrs1m4lg5ZqPhwrYxeWbLycxkm4glmpNFOpFd9oWVxeIxLCzD0WayWnkmDstuMJtsdpPlZuWwOHz7imflG4xGM7fIsVutRZvlzK3w2GZrxWrhMC4MI8_IMnKLXh_Tx-YbzCymfWO3WCwWo-FgtG_sFovFYjQcjPYdOsN39TkbxTHp02NTFlPfoO3mNChcBot3sj69xJ_pQRluzJw-1e3Y3Rn9fr_f7_f7_X6_36D1HMwGhW_8vKyfZZ_f-lJYHgeLIpYILtKJzGl32D1Oh9nu8n3eMrvd5ftcxBKl6SKd6OUu3-cvGUw2i8liNZiNBovVajHcTcQSwekinYhextNF_UcAhxhu5srZXDKYzBWr0SoBAAAAAAAAAAAsAWACyAS4CQAAAADACWBAu91qt1onwIGsNoPJaLVcAACKTnhdgJ_1xpwEYczWXQCQEgv3pOCZuGKAxgCPASjMaXfYPU6H2e7yfd4yu93l-1wZAICic50ZYDPAZwCCWKvVsgYAAAAQwAYAAAAI4AbQDcAbQCAWEwf4____HwcAAAAgIwdADwAAAEC_DwAUdaDQAzd6zQ9QEKvdaLB_AAABCrFWq9XtxlqtVkCAgewWq8VoAgH_____BAEAAAAAAAA9fAgBAttuQgA!&amp;cmcv=&amp;pix=undefined&amp;cb=1711114805038&amp;uv=3386&amp;tms=1711114805038&amp;abt=adxsub-out_vA!adxsub-out_vB!dfrc_vB!t45!ufm_vE&amp;ft=0&amp;su=6&amp;unm=FEED_MANAGER&amp;aure=false&amp;agl=1&amp;cirid=fec8f04f-68a8-4b19-8ea6-e4fa64a5382c&amp;excid=e22lLINE_ITEM_ID_WILL_BE_HERE_ON_SERVINGc&amp;tst=1&amp;docw=0&amp;cs=true&amp;cias=1\" style=\"display: none;\">\\n </iframe>\\n <iframe src=\"https://hk-match.taboola.com/sync?dast=V9-voCABYDAMFSvu05V7D8BADBUr7tOVew_AUAAAAABgYA9AcAJObyGGeG0cwtGy6Ma9HEsVwLVw7bWmWaOWyjhWsznGyMAEBiLo9xZhjN3LLhwrgWTRzLtXDlsK1VppnDNlq4NsPJxgoAH8ZymQxqgYRl9vsOCsrp6TG7DKKi622xO5xmzxsAXNB0Onyue73u97vL7HaX73PX-N1-ucv3-UsGk81islgNZqPBYrVaDHdzAAAAAAB4APj___-HAAAAAACIAAAAAACQAAAAAACgAAioAPi3ABC4AAAAAADAAPj____XAAA45gBYKNfd53C7RX67zx8AAAAAACAAAAAAACQAAAdJhyUAACabxScA__________8xAAP0mTcyAP____83AAg9AAAPPgAAD0IAAAAAF0MAGgwFVI-61jlEAAAABktFAIwAAAAAAG7BlDWPACYBdAJABWBRBfD__99vBQBwBQAAEOBoNraNngWgOyjxFgYAAAAgMAawQA-L32922DV-t8sA_v_________NAP7PAP7RAIQsuFLSAIT6rxXUAH4BAQDWAH4BAQDYANQNAADgDUAADiDoAAhaMRisDiAgZgcAAAAAcAfw____rwcAAiuLxWNYWIajzWS18kwclt1gNtnsJsvNymFx-LYHIOeq5t4r_4nVBxAiLLPfd1BQTk-P2WUQFV1vi93hNHsO4oOGYTkZBPMDmLDFaDWZbJbD2XIxGQxHw9FofwADMdkMEGCChsPBYjdY7BaL4WQxGQ2WgwUCCMRgggAULRpMVqPRZDEZrkaT1Wy52O02CEDRqtVstBkMV7PJbLdbDQfD5WiEABO2GK0mk81yOFsuJoPhaDgaDREARjwr32A0mrlFjt1qLdosZ26FxzZbK1YLh3FhGHlGlpFb9PqYPjbfYGYxbRFAMMBmL5KnRTrRbUaDxWK08ThXrs1m4lg5ZqPhwrYxeWbLycxkm4glmpNFOpFd9oWVxeIxLCzD0WayWnkmDstuMJtsdpPlZuWwOHz7imflG4xGM7fIsVutRZvlzK3w2GZrxWrhMC4MI8_IMnKLXh_Tx-YbzCymfWO3WCwWo-FgtG_sFovFYjQcjPYdOsN39TkbxTHp02NTFlPfoO3mNChcBot3sj69xJ_pQRluzJw-1e3Y3Rn9fr_f7_f7_X6_36D1HMwGhW_8vKyfZZ_f-lJYHgeLIpYILtKJzGl32D1Oh9nu8n3eMrvd5ftcxBKl6SKd6OUu3-cvGUw2i8liNZiNBovVajHcTcQSwekinYhextNF_UcAhxhu5srZXDKYzBWr0SoBAAAAAAAAAAAsAWACyAS4CQAAAADACWBAu91qt1onwIGsNoPJaLVcAACKTnhdgJ_1xpwEYczWXQCQEgv3pOCZuGKAxgCPASjMaXfYPU6H2e7yfd4yu93l-1wZAICic50ZYDPAZwCCWKvVsgYAAAAQwAYAAAAI4AbQDcAbQCAWEwf4____HwcAAAAgIwdADwAAAEC_DwAUdaDQAzd6zQ9QEKvdaLB_AAABCrFWq9XtxlqtVkCAgewWq8VoAgH_____BAEAAAAAAAA9fAgBAttuQgA!&amp;excid=22&amp;docw=0&amp;cijs=1&amp;nlb=false\" style=\"display: none;\">\\n </iframe>\\n <iframe height=\"0\" src=\"https://www.google.com/recaptcha/api2/aframe\" style=\"display: none;\" width=\"0\">\\n </iframe>\\n <iframe src=\"https://hk-match.taboola.com/sync?dast=V9-voCABYDAMFSvu05V7D8BADBUr7tOVew_AUAAAAABgYA9AcAJObyGGeG0cwtGy6Ma9HEsVwLVw7bWmWaOWyjhWsznGyMAEBiLo9xZhjN3LLhwrgWTRzLtXDlsK1VppnDNlq4NsPJxgoAH8ZymQxqgYRl9vsOCsrp6TG7DKKi622xO5xmzxsAXNB0Onyue73u97vL7HaX73PX-N1-ucv3-UsGk81islgNZqPBYrVaDHdzAAAAAAB4APj___-HAAAAAACIAAAAAACQAAAAAACgAAioAPi3ABC4AAAAAADAAPj____XAAA45gBYKNfd53C7RX67zx8AAAAAACAAAAAAACQAAAdJhyUAACabxScA__________8xAAP0mTcyAP____83AAg9AAAPPgAAD0IAAAAAF0MAGgwFVI-61jlEAAAABktFAIwAAAAAAG7BlDWPACYBdAJABWBRBfD__99vBQBwBQAAEOBoNraNngWgOyjxFgYAAAAgMAawQA-L32922DV-t8sA_v_________NAP7PAP7RAIQsuFLSAIT6rxXUAH4BAQDWAH4BAQDYANQNAADgDUAADiDoAAhaMRisDiAgZgcAAAAAcAfw____rwcAAiuLxWNYWIajzWS18kwclt1gNtnsJsvNymFx-LYHIOeq5t4r_4nVBxAiLLPfd1BQTk-P2WUQFV1vi93hNHsO4oOGYTkZBPMDmLDFaDWZbJbD2XIxGQxHw9FofwADMdkMEGCChsPBYjdY7BaL4WQxGQ2WgwUCCMRgggAULRpMVqPRZDEZrkaT1Wy52O02CEDRqtVstBkMV7PJbLdbDQfD5WiEABO2GK0mk81yOFsuJoPhaDgaDREARjwr32A0mrlFjt1qLdosZ26FxzZbK1YLh3FhGHlGlpFb9PqYPjbfYGYxbRFAMMBmL5KnRTrRbUaDxWK08ThXrs1m4lg5ZqPhwrYxeWbLycxkm4glmpNFOpFd9oWVxeIxLCzD0WayWnkmDstuMJtsdpPlZuWwOHz7imflG4xGM7fIsVutRZvlzK3w2GZrxWrhMC4MI8_IMnKLXh_Tx-YbzCymfWO3WCwWo-FgtG_sFovFYjQcjPYdOsN39TkbxTHp02NTFlPfoO3mNChcBot3sj69xJ_pQRluzJw-1e3Y3Rn9fr_f7_f7_X6_36D1HMwGhW_8vKyfZZ_f-lJYHgeLIpYILtKJzGl32D1Oh9nu8n3eMrvd5ftcxBKl6SKd6OUu3-cvGUw2i8liNZiNBovVajHcTcQSwekinYhextNF_UcAhxhu5srZXDKYzBWr0SoBAAAAAAAAAAAsAWACyAS4CQAAAADACWBAu91qt1onwIGsNoPJaLVcAACKTnhdgJ_1xpwEYczWXQCQEgv3pOCZuGKAxgCPASjMaXfYPU6H2e7yfd4yu93l-1wZAICic50ZYDPAZwCCWKvVsgYAAAAQwAYAAAAI4AbQDcAbQCAWEwf4____HwcAAAAgIwdADwAAAEC_DwAUdaDQAzd6zQ9QEKvdaLB_AAABCrFWq9XtxlqtVkCAgewWq8VoAgH_____BAEAAAAAAAA9fAgBAttuQgA!&amp;excid=22&amp;docw=0&amp;cijs=1&amp;nlb=false\" style=\"display: none;\">\\n </iframe>\\n <div class=\"_cm-communication-input\" data-unit-info=\"\">\\n </div>\\n <iframe src=\"https://hk-match.taboola.com/sync?dast=V9-voCABYDAMFSvu05V7D8BADBUr7tOVew_AUAAAAABgYA9AcAJObyGGeG0cwtGy6Ma9HEsVwLVw7bWmWaOWyjhWsznGyMAEBiLo9xZhjN3LLhwrgWTRzLtXDlsK1VppnDNlq4NsPJxgoAH8ZymQxqgYRl9vsOCsrp6TG7DKKi622xO5xmzxsAXNB0Onyue73u97vL7HaX73PX-N1-ucv3-UsGk81islgNZqPBYrVaDHdzAAAAAAB4APj___-HAAAAAACIAAAAAACQAAAAAACgAAioAPi3ABC4AAAAAADAAPj____XAAA45gBYKNfd53C7RX67zx8AAAAAACAAAAAAACQAAAdJhyUAACabxScA__________8xAAP0mTcyAP____83AAg9AAAPPgAAD0IAAAAAF0MAGgwFVI-61jlEAAAABktFAIwAAAAAAG7BlDWPACYBdAJABWBRBfD__99vBQBwBQAAEOBoNraNngWgOyjxFgYAAAAgMAawQA-L32922DV-t8sA_v_________NAP7PAP7RAIQsuFLSAIT6rxXUAH4BAQDWAH4BAQDYANQNAADgDUAADiDoAAhaMRisDiAgZgcAAAAAcAfw____rwcAAiuLxWNYWIajzWS18kwclt1gNtnsJsvNymFx-LYHIOeq5t4r_4nVBxAiLLPfd1BQTk-P2WUQFV1vi93hNHsO4oOGYTkZBPMDmLDFaDWZbJbD2XIxGQxHw9FofwADMdkMEGCChsPBYjdY7BaL4WQxGQ2WgwUCCMRgggAULRpMVqPRZDEZrkaT1Wy52O02CEDRqtVstBkMV7PJbLdbDQfD5WiEABO2GK0mk81yOFsuJoPhaDgaDREARjwr32A0mrlFjt1qLdosZ26FxzZbK1YLh3FhGHlGlpFb9PqYPjbfYGYxbRFAMMBmL5KnRTrRbUaDxWK08ThXrs1m4lg5ZqPhwrYxeWbLycxkm4glmpNFOpFd9oWVxeIxLCzD0WayWnkmDstuMJtsdpPlZuWwOHz7imflG4xGM7fIsVutRZvlzK3w2GZrxWrhMC4MI8_IMnKLXh_Tx-YbzCymfWO3WCwWo-FgtG_sFovFYjQcjPYdOsN39TkbxTHp02NTFlPfoO3mNChcBot3sj69xJ_pQRluzJw-1e3Y3Rn9fr_f7_f7_X6_36D1HMwGhW_8vKyfZZ_f-lJYHgeLIpYILtKJzGl32D1Oh9nu8n3eMrvd5ftcxBKl6SKd6OUu3-cvGUw2i8liNZiNBovVajHcTcQSwekinYhextNF_UcAhxhu5srZXDKYzBWr0SoBAAAAAAAAAAAsAWACyAS4CQAAAADACWBAu91qt1onwIGsNoPJaLVcAACKTnhdgJ_1xpwEYczWXQCQEgv3pOCZuGKAxgCPASjMaXfYPU6H2e7yfd4yu93l-1wZAICic50ZYDPAZwCCWKvVsgYAAAAQwAYAAAAI4AbQDcAbQCAWEwf4____HwcAAAAgIwdADwAAAEC_DwAUdaDQAzd6zQ9QEKvdaLB_AAABCrFWq9XtxlqtVkCAgewWq8VoAgH_____BAEAAAAAAAA9fAgBAttuQgA!&amp;excid=22&amp;docw=0&amp;cijs=1&amp;nlb=false\" style=\"display: none;\">\\n </iframe>\\n <div class=\"_cm-ad-feed-manager vpaid-player-container multi-vpaids\" id=\"_cm-css-reset\" style=\"width: 700px; height: 0px; position: absolute; top: 908px; left: 0px; z-index: 999 !important;\">\\n  <div class=\"_cm-ad-feed-manager vpaid-player-container multi-vpaids vpaid-handler\" id=\"0__cm-css-reset\" style=\"width: 700px; height: 0px; position: absolute; top: 0px; left: 0px; border: 0px; z-index: 999 !important;\">\\n  </div>\\n </div>\\n <div class=\"_cm-ad-feed-manager\" id=\"1711115325747\" style=\"width: 700px; height: 0px; position: absolute; top: 908px; left: 0px; z-index: 999 !important;\">\\n </div>\\n <iframe src=\"https://hk-match.taboola.com/sync?dast=V9-voCABYDAMFSvu05V7D8BADBUr7tOVew_AUAAAAABgYA9AcAJObyGGeG0cwtGy6Ma9HEsVwLVw7bWmWaOWyjhWsznGyMAEBiLo9xZhjN3LLhwrgWTRzLtXDlsK1VppnDNlq4NsPJxgoAH8ZymQxqgYRl9vsOCsrp6TG7DKKi622xO5xmzxsAXNB0Onyue73u97vL7HaX73PX-N1-ucv3-UsGk81islgNZqPBYrVaDHdzAAAAAAB4APj___-HAAAAAACIAAAAAACQAAAAAACgAAioAPi3ABC4AAAAAADAAPj____XAAA45gBYKNfd53C7RX67zx8AAAAAACAAAAAAACQAAAdJhyUAACabxScA__________8xAAP0mTcyAP____83AAg9AAAPPgAAD0IAAAAAF0MAGgwFVI-61jlEAAAABktFAIwAAAAAAG7BlDWPACYBdAJABWBRBfD__99vBQBwBQAAEOBoNraNngWgOyjxFgYAAAAgMAawQA-L32922DV-t8sA_v_________NAP7PAP7RAIQsuFLSAIT6rxXUAH4BAQDWAH4BAQDYANQNAADgDUAADiDoAAhaMRisDiAgZgcAAAAAcAfw____rwcAAiuLxWNYWIajzWS18kwclt1gNtnsJsvNymFx-LYHIOeq5t4r_4nVBxAiLLPfd1BQTk-P2WUQFV1vi93hNHsO4oOGYTkZBPMDmLDFaDWZbJbD2XIxGQxHw9FofwADMdkMEGCChsPBYjdY7BaL4WQxGQ2WgwUCCMRgggAULRpMVqPRZDEZrkaT1Wy52O02CEDRqtVstBkMV7PJbLdbDQfD5WiEABO2GK0mk81yOFsuJoPhaDgaDREARjwr32A0mrlFjt1qLdosZ26FxzZbK1YLh3FhGHlGlpFb9PqYPjbfYGYxbRFAMMBmL5KnRTrRbUaDxWK08ThXrs1m4lg5ZqPhwrYxeWbLycxkm4glmpNFOpFd9oWVxeIxLCzD0WayWnkmDstuMJtsdpPlZuWwOHz7imflG4xGM7fIsVutRZvlzK3w2GZrxWrhMC4MI8_IMnKLXh_Tx-YbzCymfWO3WCwWo-FgtG_sFovFYjQcjPYdOsN39TkbxTHp02NTFlPfoO3mNChcBot3sj69xJ_pQRluzJw-1e3Y3Rn9fr_f7_f7_X6_36D1HMwGhW_8vKyfZZ_f-lJYHgeLIpYILtKJzGl32D1Oh9nu8n3eMrvd5ftcxBKl6SKd6OUu3-cvGUw2i8liNZiNBovVajHcTcQSwekinYhextNF_UcAhxhu5srZXDKYzBWr0SoBAAAAAAAAAAAsAWACyAS4CQAAAADACWBAu91qt1onwIGsNoPJaLVcAACKTnhdgJ_1xpwEYczWXQCQEgv3pOCZuGKAxgCPASjMaXfYPU6H2e7yfd4yu93l-1wZAICic50ZYDPAZwCCWKvVsgYAAAAQwAYAAAAI4AbQDcAbQCAWEwf4____HwcAAAAgIwdADwAAAEC_DwAUdaDQAzd6zQ9QEKvdaLB_AAABCrFWq9XtxlqtVkCAgewWq8VoAgH_____BAEAAAAAAAA9fAgBAttuQgA!&amp;excid=22&amp;docw=0&amp;cijs=1&amp;nlb=false\" style=\"display: none;\">\\n </iframe>\\n</body>\\n'"
      ]
     },
     "execution_count": 141,
     "metadata": {},
     "output_type": "execute_result"
    }
   ],
   "source": [
    "res_bs.prettify()"
   ]
  },
  {
   "cell_type": "code",
   "execution_count": 126,
   "id": "023ea71c-d0fc-4e9c-8d33-d20fb2d117d8",
   "metadata": {
    "collapsed": true,
    "execution": {
     "iopub.execute_input": "2024-03-22T14:18:00.170526Z",
     "iopub.status.busy": "2024-03-22T14:18:00.153985Z",
     "iopub.status.idle": "2024-03-22T14:18:00.280804Z",
     "shell.execute_reply": "2024-03-22T14:18:00.280435Z",
     "shell.execute_reply.started": "2024-03-22T14:18:00.170491Z"
    },
    "jupyter": {
     "outputs_hidden": true
    },
    "scrolled": true
   },
   "outputs": [
    {
     "data": {
      "text/plain": [
       "'\\n\\n\\n\\n\\n\\n\\n\\n\\n\\n파이낸셜뉴스>\\n\\n\\n\\n전체메뉴\\n검색\\n\\n\\n\\n구독신청\\n\\n\\n\\n\\n\\n\\n\\n\\n\\n\\n금융·증권\\n\\n\\n금융\\n증권\\n\\n\\n\\n\\n부동산\\n\\n\\n정책\\n건설\\n철도·항공 ·선박\\n부동산 일반\\n\\n\\n\\n\\n산업·IT\\n\\n\\n산업\\n통신·방송\\n게임\\n인터넷\\n블록체인\\n의학·과학\\n\\n\\n\\n\\n경제\\n\\n\\n경제 일반\\n생활 경제\\n\\n\\n\\n\\n정치\\n\\n\\n대통령실\\n국회·정당\\n북한\\n외교·국방\\n\\n\\n\\n\\n사회\\n\\n\\n사건·사고\\n검찰·법원\\n행정·지자체\\n교육\\n전국\\n\\n\\n\\n\\n국제\\n\\n\\n국제 경제\\n국제 정치\\n국제 사회\\n\\n\\n\\n\\n라이프\\n\\n\\n연예\\n패션/뷰티\\n스포츠\\n푸드·리빙\\n레저·문화\\n\\n\\n\\n\\n오피니언\\n\\n\\n사설/칼럼\\n사외 칼럼\\n\\n\\n\\n\\n기획·연재\\n\\n\\nfn파인더\\nfn시리즈\\n핫이슈+\\n\\n\\n\\n\\nfnEdition\\n\\n\\n포토\\n뉴스레터\\n기자ON\\nfntv\\n신문보기\\nfnSurvey\\n\\n\\n\\n\\n\\n\\n                            4·10 총선\\n                        \\n\\n후보자\\n선거뉴스\\n\\n닫기\\n\\n\\n회사소개\\n광고문의\\n제휴문의\\n개인정보취급방침\\n저작권규약\\n이메일주소무단수집거부\\n구독신청\\n고충처리\\n\\n\\n\\n\\n\\n\\n\\n\\n\\n\\n\\n검색\\n\\n\\n\\n\\n\\n\\n\\n\\n\\n닫기\\n\\n\\n\\n\\n\\n\\n\\n\\n\\n\\n\\n\\n\\n\\n\\n\\n\\n공유하기\\n\\n공유\\n\\n\\n\\n카카오톡\\n페이스북\\n트위터\\n네이버블로그\\n주소복사\\n\\n\\n\\n\\n\\n\\n\\n                        사회\\n\\n\\n                        사건·사고\\n\\n길거리서 9살 초등생 성추행한 70대男, 아빠가 잡았다\\n\\n\\n\\n김수연 기자\\n\\n\\n파이낸셜뉴스\\n입력 2023.12.15 06:50\\n수정 2023.12.15 17:43\\n\\n\\n\\n\\n\\n\\n확대\\n\\n\\n\\n\\n축소\\n\\n\\n\\n\\n출력\\n\\n\\n\\n\\n\\n\\n\\n\\n\\n\\n\\n\\n\\n\\n\\n\\n\\n\\n\\n\\n  이준석 기자\\n \\n\\n[파이낸셜뉴스] 길거리에서 9살 초등학생을 성추행한 70대 남성이 경찰에 붙잡혔다. 이 남성은 피해 아동의 아버지에게 붙잡혀 현행범으로 체포됐다.\\n\\n14일 경찰에 따르면 서울경찰청 여성청소년범죄수사대는 전날 성폭력범죄의 처벌 등에 관한 특례법(성폭력처벌법) 위반 혐의로 70대 남성 A씨에 대한 구속영장을 신청했다고 밝혔다.\\n\\nA씨는 지난 12일 오후 8시30분께 서울 동작구의 한 길거리에서 9살 여자 초등학생을 불러 세운 뒤 신체 등을 만진 혐의를 받는다.\\n\\n피해 아동은 자신의 피해 사실을 아버지인 B씨에게 알렸다.\\n 이러한 사실을 알게 된 B씨는 직접 A씨를 붙잡은 것으로 전해졌다.\\n\\nB씨에게 붙잡힌 A씨는 출동한 경찰에 의해 현행범으로 체포됐다.\\n\\n경찰 관계자는 \"구체적인 내용은 확인이 어렵다\"면서도 \"(A씨에 대한) 구속영장을 신청한 건 맞다\"고 전했다.\\n\\nnewssu@fnnews.com 김수연 기자 \\n\\n\\n#초등학생 #아빠 #성추행 #길거리\\n\\n\\n\\n실시간핫클릭 이슈\\n\\n\\n\\n                \\'띠리릭\\' 20대 여성 집 도어록 열고 침입한 택배원, 알고보니...\\n        \\n\\n\\n\\n                \"남편과 이혼한 사실 숨기고 10년간..\" 공무원, 파렴치한 행동\\n        \\n\\n\\n\\n                시부모 재력가설에 입 연 김윤지 \"김구라 폭로 때문에...\"\\n        \\n\\n\\n\\n                \"34살 때부터...\" 미녀 개그우먼, 지인도 몰랐던 충격 근황\\n        \\n\\n\\n\\n                30대 공무원, 남양주서 숨진 채 발견...휴대전화 살펴보니\\n        \\n\\n\\n\\n\\n※  저작권자 ⓒ 파이낸셜뉴스, 무단전재-재배포 금지\\n\\n\\n\\n울아들램사랑해해외 논문으로 검증된 아동 주의력결핍에 효과적인 1가지 방법 공개울아들램사랑해|SponsoredSponsored더 알아보기돌아가기연세힐치과의원임플란트 1개부터, 전체 임플란트!연세힐치과의원|SponsoredSponsored돌아가기연세힐치과의원전체 임플란트 해야 하는데 부담된다면?연세힐치과의원|SponsoredSponsored돌아가기JUVIS34kg 감량된 내 모습을보니 월 16만원이 전혀 아깝지 않았어요JUVIS|SponsoredSponsored돌아가기울아들램사랑해ADHD 카페에서 난리난 ADHD 개선법 1가지울아들램사랑해|SponsoredSponsored더 알아보기돌아가기Rg3 더루트\"면역력, 혈압\" 결정짓는 \"이 성분\"을 가득 담아.. 카이스트 개발 화제!Rg3 더루트|SponsoredSponsored돌아가기강남애프터치과전체임플란트 필요하신 분이라면?대한치과의사협회 의료광고 심의필 제231127-중-28744호강남애프터치과|SponsoredSponsored가격 받기돌아가기원데이 임플란트빠진 치아가 많나요? 전체 임플란트로 치료하세요전체 임플란트, 의식하진정법 강남역 11번 출구, 원데이치과의원원데이 임플란트|SponsoredSponsored더 알아보기돌아가기임플란트국산 임플란트 개당 \"35만원\" 특가 이벤트!공중파 방송에서 인정한 의료진! 지르코니아+맞춤형지대주 포함 금액!임플란트|SponsoredSponsored더 알아보기돌아가기장덕한방병원어깨통증 수술없이 당일치료하세요30년 양한방 비수술 치료 노하우로 어깨통증 근본원인부터 해결합니다.장덕한방병원|SponsoredSponsored더 알아보기돌아가기신(新) 의료기술 등재 - 자가골수 줄기세포 치료\"자가골수 줄기세포\" 신 의료기술 등재! 수술없이 치료가능신(新) 의료기술 등재 - 자가골수 줄기세포 치료|SponsoredSponsored더 알아보기돌아가기Rg3 더루트\"혈액순환 잘되네요\" 손발저림까지 싹~\\'이것\\', 하루 1번이면 된다!카이스트 박사가 24년간 연구한 특이사포닌 Rg3 성분을 120배 담은 특허홍삼Rg3 더루트|SponsoredSponsored돌아가기82% 재구매율의 키성장 1위 20관왕15살 딸, 엄마 키 훌쩍 넘겨 167까지 쑥~ 키성장에 면역력까지 잡는 \\'이것\\'82%의 압도적인 재구매율, 79만 부모님들의 선택, 5년 연속 키성장 1위 수상 기념 이벤트 진행중82% 재구매율의 키성장 1위 20관왕|SponsoredSponsored더 알아보기돌아가기\\n\\n\\n\\n뉴스스탠드\\n\\n\\n\\n\\n\\n\\n\\n홍준표, 뜻밖의 예언 \"尹 대 조국 2차전 되면 국힘은...\"\\n\\n\\n\\n\"낮에는 교사, 밤에는...\" 13억 번 여성의 비결\\n고위공무원 재산 1위 김은혜, 남편 토지가 무려\\n\"일 너무 많아 스트레스\" 집배원의 황당 행보\\n\"31살까지 결혼자금 7000만원...\" 20대 女 고민\\n\\n\\n\\n\\n\\n\\n\"코인으로 집사고 8억 모으니 여친이...\"\\n\\n\\n\\n\\n\\n8500억원 기부한 여성, 이혼 위자료가...\\n\\n\\n\\n\\n\\n\"회사 후계 싸움서 밀리자 남편이...\"\\n\\n\\n\\n\\n\\n\"구준엽과 불륜\" 前남편에 서희원 반응은\\n\\n\\n\\n\\n일본 \\'독도는 우리땅\\' 교과서에..尹정부, 대사 초치 항의\\n\\n남양주서 30대 공무원 숨진 채 발견\\n국대 은퇴 질문에 \\'멈칫\\' 손흥민, 대답은?\\n평균 연봉 \\'1억4390만원\\' 신의 직장 어디?\\n박지원, 의미심장한 발언 \"尹 탄핵은...\"\\n\\n\\n\\n\\n\\n발아픈사람이야기족저근막염 극복한 딱 1가지 방법족저근막염 때문에 폐업까지 하게 된 남자가 이 방법을 알고 족저근막염을 극복하게 되는데...발아픈사람이야기|SponsoredSponsored더 알아보기돌아가기신(新) 의료기술 등재 - 자가골수 줄기세포 치료무릎통증 \"줄기세포\" 치료, 수술없이 당일 일상복귀가능신(新) 의료기술 등재 - 자가골수 줄기세포 치료|SponsoredSponsored더 알아보기돌아가기공동투자그룹(국내 트레이딩)주식\\xa0 매수, 매도 타이밍(전문 주식 트레이더 종목 선정 이번주만 무료)공동투자그룹(국내 트레이딩)|SponsoredSponsored더 알아보기돌아가기Navy.Quest마우스가 있다면 밤새워 즐기게 되는 게임. 설치 없이 바로 실행. 무료로 플레이.Navy.Quest|SponsoredSponsored돌아가기Mech Arena- Free to Play마우스 하나로 밤새는 게임!실시간 5대5 메카닉 대전Mech Arena- Free to Play|SponsoredSponsored다운로드돌아가기오직팩트만관절마다 붓고 아프다면 \"이것\" 결핍 의심알아야 건강할 수 있습니다.오직팩트만|SponsoredSponsored더 알아보기돌아가기새벽 공원 벤치서 웅크린 채 잠든 여학생...지켜본 시민의 행동 [따뜻했슈]파이낸셜뉴스돌아가기여친 190번 찔러 살해한 동거남, 이름·신상공개됐다파이낸셜뉴스돌아가기\\n\\n\\n\\n\\n\\n\\n\\n\\n\\n\\n\\n\\n\\n\\n\\n\\n\\n\\n\\n\\n\\n\\n\\n\\n\\n\\n\\n\\n\\n\\n\\n\\n\\n\\n\\n\\n\\n\\n\\n\\n\\n\\n많이 본 뉴스\\n\\n\\n종합\\n정치\\n경제\\n사회\\n\\n\\n\\n\\n김윤지, 시부모 이상해·김영임 재력 언급…\"돈 많은 줄 알았는데\" 솔직\\n\\n\\n\\'도어록\\' 열고 침입한 택배원…비밀번호 어떻게 알아냈나\\n\\n\\n홍준표 \"조국혁신당 돌풍, 꺾을 수 없어..빛바랜 건 한동훈, 이준석\"\\n\\n\\n[삶] \"내 아내 알몸 화상채팅, 생활비 벌려고 시켰는데 뭐가 문제냐\"\\n\\n\\n\"혹시 또 악성민원?\"..한달새 공무원 또 숨진 채 발견\\n\\n\\n‘코인’으로 30평 집사고 8억 모았는데 여친과 \\'파혼\\'..그냥 하지 말래요 [어떻게 생각하세요]\\n\\n\\n\\'노브라\\'로 학교 갔다 여교사에게 망신 당한 20대 엄마의 하소연 \"어쩔 수 없다\"\\n\\n\\n김은혜 前홍보수석 재산 257억원…한동훈 39억원 신고\\n\\n\\n홍준표 \"조국 등장으로 빛 바랜 건 한동훈 이준석…정치와 법조 차이\"\\n\\n\\n\"일본 가도 되나요\" 日 \\'치사율 30%\\' 전염병 공포\\n\\n\\n\\n\\n\\n\\n\\n홍준표 \"조국혁신당 돌풍, 꺾을 수 없어..빛바랜 건 한동훈, 이준석\"\\n\\n\\n\\n[삶] \"내 아내 알몸 화상채팅, 생활비 벌려고 시켰는데 뭐가 문제냐\"\\n\\n\\n\\n홍준표 \"조국 등장으로 빛 바랜 건 한동훈 이준석…정치와 법조 차이\"\\n\\n\\n\\n한동훈, 재산 39억 신고..장관 취임 때보다 4억 줄어\\n\\n\\n\\n박지원 \"범야권 \\'반윤\\' 200석 되면 尹대통령 탄핵 가능\"[2024 총선]\\n\\n\\n\\n이해찬, 추미애 향해 \"예쁜 아가씨, 얼굴이 하도 고와서 판사 같지 않아\"\\n\\n\\n\\n[속보]대통령실 \"尹-韓, 종북세력 준동 강력 응징 공감\"\\n\\n\\n\\n일본 교과서 “독도는 우리땅”..尹정부 “수용할 수 없다”\\n\\n\\n\\n박지원 \"범야권 200석 차지하면 尹대통령 탄핵도 가능\"\\n\\n\\n\\n[속보] 개혁신당 류호정, 22대 총선 불출마...\"제3지대 정치 실패\"\\n\\n\\n\\n\\n\\n\\n\"2경 시장될 것\"...\\'비트코인 ETF\\' 성공시킨 블랙록의 다음 목표는 [코인브리핑]\\n\\n\\n[특징주]파로스아이바이오, 엔비디아 신약발견 생성형 AI 공개..AI 신약 공동개발 참여↑\\n\\n\\n\"가장 블랙다운 블랙\"…새 옷 입은 \\'제네시스 G90 블랙\\' 출격\\n\\n\\n비트코인 현물 ETF, 3일 연속 자금 유출 [코인브리핑]\\n\\n\\n류준열 열애설 여파? 한소희, 광고 줄줄이 만료\\n\\n\\n직원 평균연봉 1억4390만원 \\'신의 직장\\'..어디길래\\n\\n\\n[특징주] 엠젠솔루션, 美 60대 환자 \\'유전자 변형\\' 돼지신장 이식↑…기술 부각\\n\\n\\n삼현, 수주잔고 1조 규모...세계최초 \\'3-in-1\\' 통합솔루션 기술 보유\\n\\n\\n위믹스, 한번에 4억개가 없어진다 \"7월1일에 소각\" [코인브리핑]\\n\\n\\n\"연봉 얼마 주면 입사할래?\"..신입 구직자의 희망 초봉은?\\n\\n\\n\\n\\n\\n\\n\\'도어록\\' 열고 침입한 택배원…비밀번호 어떻게 알아냈나\\n\\n\\n\"혹시 또 악성민원?\"..한달새 공무원 또 숨진 채 발견\\n\\n\\n‘코인’으로 30평 집사고 8억 모았는데 여친과 \\'파혼\\'..그냥 하지 말래요 [어떻게 생각하세요]\\n\\n\\n김은혜 前홍보수석 재산 257억원…한동훈 39억원 신고\\n\\n\\n\"31살까지 결혼자금 7000만원 괜찮나요\" 20대 女고민\\n\\n\\n\"일이 너무 많아 스트레스받는다\"..우편물 1만6000통 버린 집배원\\n\\n\\n남편, 회사 후계 싸움서 밀려나자 아내 탓…가출 뒤 생활비 끊고 이혼요구\\n\\n\\n남성 셋 다 속아 수억 넘겨…\\'네 자녀\\' 둔 40대 여성의 결혼 사기\\n\\n\\n\"수학 3등급도 의대 간다\"…사상 초유의 \\'지각변동\\'\\n\\n\\n여친 190번 찔러 살해한 동거남, 이름·신상공개됐다\\n\\n\\n\\n\\n\\n\\n\\n\\n\\n\\n\\n\\n\\n\\n한 컷 뉴스\\n\\n\\n\\n\\n\\n이성경, 검은 드레스 입고 뽐낸 글래머 몸매\\n\\n\\n\\n\\n\\n한소희·류준열 \\'악플 폭탄\\' 어쩌나\\n\\n\\n\\n\\n\\n박수홍 아내 \"난자 채취는..\"\\n\\n\\n\\n\\n\\n송하윤 \"박민영에 인사 안 하고 말도 안 섞어\"\\n\\n\\n\\n\\nfnSurvey\\n\\n\\n\\n여러분이 생각하는 4.10 총선 핵심 의제는?\\n\\n2024년 총선이 한 달도 채 남지 않았습니다.국회의원 선거는 단순한 정치적 이익을 넘어국민의 삶을 실질적으로 개선하는정책 공약의 경연장이 되어야 할 텐데요.이에 현실성 있고 효과적인 의제들이 더욱 많이 다뤄지길 바라는 유권자들의 목소리가 큽니다.그렇다면 여러분이 생각하기에 가장 중요하다고 생각되는 핵심 의제는 무엇인가요?\\n\\n투표기간 : 2024-03-18 ~ 2024-04-09\\n                                         \\n투표하러 가기\\n\\n\\n\\n\\n\\n\\n\\n\\n\\n헉스\\n\\n\\n\\n\\n\\n\\n\\n\\n                    MLB 개막적 열린 고척돔서 한 \\'프레임\\'에 잡힌 스타들 화제\\n            \\n\\n\\n\\n\\n\\n\\n\\n\\n                    김남주가 밝힌 특별한 인연 \"과거 이상민 결혼식에서...\"\\n            \\n\\n\\n\\n\\n\\n\\n\\n\\n                    이혜정, 고부 갈등 고백 \"요즘 제 며느리를 보면 제가...\"\\n            \\n\\n\\n\\n\\n\\n\\n\\n\\n                    명세빈 \"2~3년 전부터 나와 결혼한다는...\" 분노, 무슨 일?\\n            \\n\\n\\n\\n\\n\\n\\n\\n\\n                    \\'치매 투병\\' 브루스 윌리스 간호하는 유명 女배우 \"사랑해\"\\n            \\n\\n\\n\\n\\n\\n\\n\\nTop\\n\\n\\n\\n\\n\\n금융·증권\\n\\n\\n금융\\n증권\\n\\n\\n\\n\\n부동산\\n\\n\\n정책\\n건설\\n철도·항공 ·선박\\n부동산 일반\\n\\n\\n\\n\\n산업·IT\\n\\n\\n산업\\n통신·방송\\n게임\\n인터넷\\n블록체인\\n의학·과학\\n\\n\\n\\n\\n경제\\n\\n\\n경제 일반\\n생활 경제\\n\\n\\n\\n\\n정치\\n\\n\\n대통령실\\n국회·정당\\n북한\\n외교·국방\\n\\n\\n\\n\\n사회\\n\\n\\n사건·사고\\n검찰·법원\\n행정·지자체\\n교육\\n전국\\n\\n\\n\\n\\n국제\\n\\n\\n국제 경제\\n국제 정치\\n국제 사회\\n\\n\\n\\n\\n라이프\\n\\n\\n연예\\n패션/뷰티\\n스포츠\\n푸드·리빙\\n레저·문화\\n\\n\\n\\n\\n오피니언\\n\\n\\n사설/칼럼\\n사외 칼럼\\n\\n\\n\\n\\n기획·연재\\n\\n\\nfn파인더\\nfn시리즈\\n핫이슈+\\n\\n\\n\\n\\nfnEdition\\n\\n\\n포토\\n뉴스레터\\n기자ON\\nfntv\\n신문보기\\nfnSurvey\\n\\n\\n\\n\\n\\n\\n                            4·10 총선\\n                        \\n\\n후보자\\n선거뉴스\\n\\n\\n\\n\\n\\n\\n\\n회사소개\\n광고문의\\n제휴문의\\n개인정보취급방침\\n저작권규약\\n이메일주소무단수집거부\\n구독신청\\n고충처리\\n사이트맵\\n\\n\\n\\nfn family\\n\\n\\n부산파이낸셜뉴스\\n팩트블록\\n파이낸셜뉴스재팬\\n\\n\\n\\n\\n\\n\\nFinancial News\\n\\n\\n\\n주소 : 서울 서초구 강남대로 315\\n전화 : 02-2003-7114\\n인터넷신문 등록번호 : 서울 아04510\\n등록일자 : 2017.05.08\\nCopyright ⓒ파이낸셜뉴스. All rights reserved.\\n\\n\\n\\n\\n회장 : 전재호\\n부회장·발행인 : 전선익\\n사장·인쇄인·편집인 : 변동식\\n편집국장 : 양형욱\\n청소년보호정책 (책임자 : 이대율)\\n\\n\\n\\n\\n\\n\\n\\n\\n\\n\\n 계속 읽어보세요\\n\\n\\n\\n\\n\\n\\n개혁신당 류호정[파이낸셜뉴스]\\xa04·10 총선에서 개혁신당 경기 성남 분당갑 후보로 공천된 류호정 전 의원이 22일 불출마를 선언했다.류 전 의원은 이날 자신의 사회관계망서비스(SNS)에파이낸셜뉴스\\n\\n\\nGroup 3\\n\\n\\n\\n\\n\\n\\n\\n\\n\\n돌아가기\\n\\n\\n\\n\\n\\n\\n\"정부는 의사 이길 수 없다\"던 그 의사, 11시간 조사받은 뒤 한 말은[파이낸셜뉴스]\\xa0정부의 의대 증원에 반발해 전공의들의 집단행동을 부추긴 혐의 ..파이낸셜뉴스\\n\\n\\nGroup 3\\n\\n\\n\\n\\n\\n\\n\\n\\n\\n돌아가기\\n\\n\\n\\n\\n\\n\\n\\'사상자 14명\\' 낸 연신내역 \\'9중 추돌\\' 사고, CCTV 보니[파이낸셜뉴스] 서울 은평구에서 9중 추돌 사고가 일어나 14명의 사상자가 발생한 가..파이낸셜뉴스\\n\\n\\nGroup 3\\n\\n\\n\\n\\n\\n\\n\\n\\n\\n돌아가기\\n\\n\\n\\n\\n\\n\\n여친 190번 찔러 살해한 동거남, 이름·신상공개됐다[파이낸셜뉴스] \\xa0파이낸셜뉴스\\n\\n\\nGroup 3\\n\\n\\n\\n\\n\\n\\n\\n\\n\\n돌아가기\\n\\n\\n\\n\\n\\n\\n\\'\\n                           \\n\\'\\n                       \\n\\'\\n                   \\n\\n\\n\\n\\n\\n\\n\\'\\n                           \\n\\'\\n                       \\n\\'\\n                   \\'조폭응징\\' 유튜버, 보복 폭행했던 조직폭력배 숨진 채 발견[파이낸셜뉴스] \\xa0조직폭력배를 저격하는 내용의 방송을 진행한 유튜버를 보복 폭..파이낸셜뉴스돌아가기울아들램사랑해해외 논문으로 검증된 아동 주의력결핍에 효과적인 1가지 방법 공개울아들램사랑해|SponsoredSponsored더 알아보기돌아가기연세힐치과의원임플란트 1개부터, 전체 임플란트!연세힐치과의원|SponsoredSponsored돌아가기새미래 이석현, 강북을 출사표…[파이낸셜뉴스] 새로운미래 고문인 이석현 전 국회부의장이 22일파이낸셜뉴스돌아가기\"아름다운 동행\"...대한항공 前여승무원동우회 KASA, 서울역서 급식 봉사 - 파이낸셜뉴스[파이낸셜뉴스] 대한항공 전직 여승무원 동우회인 카사(KASA)는 지난 21일 서울시 용산구 서울역 무료급식소인 \\'따스한채움터\\'에서 봉사활동을 펼쳤다고 22일 밝혔다.\\xa0취약계층 무료급식 제공을 위해 진행된 이날 봉사활동에서는 컵과일과 양말 등의 물품기부와 배식, 서빙 봉사 등도 함께 이뤄졌다.\\xa0봉사활동 중에는 8명의 회원들로 구성된 카..파이낸셜뉴스돌아가기\\'조수진 리스크’ 제거한 민주…박용진은 끝내 \\'비명횡사\\'[2024 총선][파이낸셜뉴스] 성범죄자 변호 이력으로 논란이 됐던 조수진 변호사가 서울 강북을 후보에서 사퇴하면서 더불어민주당이 부담을 한결 내려놓게 됐다. 다시금 공석이 된 강북을에는 \\'친명계\\' 한민수 대변인이 공천됐다. 각종 우여곡절 끝에 민주당이 한 대변인을 공천했으나 일각에서는 사천 문제와 함께 총선 이후 갈등의 새로운 씨앗이 될 것이라는 예측..파이낸셜뉴스돌아가기\\'7살 제자 일가족 몰살\\' 혐의 태권도 관장, 모든 것이 거짓 \"아내도 당했다\"[파이낸셜뉴스] \\xa0지난달 호주 시드니에서 한인 일가족 3명을 살해한 혐의를 받는 태권도 관장의 만행이 드러났다. 17일 SBS ‘그것이 알고 싶다’에 따르면 지난달 20일 시드니 노스 파라마타 지역의 한 태권도장에 다니던 아이와 엄마가 태권도장에서 숨져 있었고, 아이의 아빠도 자기 집에서 사망한 채 발견됐다.용의자로 지목된 이는 아이가 다니..파이낸셜뉴스돌아가기\"수십명 달려들어 파냈지만\"..플로리다 해변 모래더미에 묻힌 7세 소녀 - 파이낸셜뉴스[파이낸셜뉴스] \\xa0가족과 함께 해변에서 모래놀이를 하던 7살 여자 어린이가 모래 구덩이에 갇혀 사망하는 사고가 발생했다. 22일(현지시간) 뉴욕포스트에 따르면 전날 오후 3시쯤 미국 플로리다주 해변에서 인디애나주 출신 살 7여아 슬론 매팅리와 9살 남아 매덕스 매팅리가 모래사장에서 구덩이를 파며 놀던 중 돌연 사라졌다.남매가 앉아 있던 바..파이낸셜뉴스돌아가기연세힐치과의원전체 임플란트 해야 하는데 부담된다면?연세힐치과의원|SponsoredSponsored돌아가기JUVIS34kg 감량된 내 모습을보니 월 16만원이 전혀 아깝지 않았어요JUVIS|SponsoredSponsored돌아가기\"밥맛 없다, 저리가라\" 계양 식당서 욕먹은 원희룡·이천수가 한 말..[파이낸셜뉴스] \\xa0국민의힘 인천 계양을 후보인 원희룡 전 국토교통부 장관이 선..파이낸셜뉴스돌아가기새벽 공원 벤치서 웅크린 채 잠든 여학생...지켜본 시민의 행동 [따뜻했슈][파이낸셜뉴스]\\xa0 늦은 밤 공원 벤치에서 잠든 여학생을 발견, 경찰에 신고한 뒤 멀리서 지켜본 시민의 선행이 알려져 화제다.A씨는 지난 21일 온라인 커뮤니티 \\'보배드림\\'을 통해 자신이 겪은 일을 전했다.그는파이낸셜뉴스돌아가기\\n\\n\\n\\n\\n\\n\\n\\n\\n\\n\\n\\n\\n\\n\\n\\n\\n\\n\\n\\n\\n\\n\\n\\n\\n\\n\\n\\n\\n\\n\\n'"
      ]
     },
     "execution_count": 126,
     "metadata": {},
     "output_type": "execute_result"
    }
   ],
   "source": [
    "res_bs.get_text()"
   ]
  },
  {
   "cell_type": "code",
   "execution_count": 127,
   "id": "b7b990e3-7fab-4025-b150-5a38fcb71df0",
   "metadata": {
    "execution": {
     "iopub.execute_input": "2024-03-22T14:18:38.615019Z",
     "iopub.status.busy": "2024-03-22T14:18:38.612900Z",
     "iopub.status.idle": "2024-03-22T14:18:38.653551Z",
     "shell.execute_reply": "2024-03-22T14:18:38.652156Z",
     "shell.execute_reply.started": "2024-03-22T14:18:38.614994Z"
    }
   },
   "outputs": [],
   "source": [
    "res_split = res_bs.get_text().split(\"\\n\\n\\n\")"
   ]
  },
  {
   "cell_type": "markdown",
   "id": "9a823c44-3c6e-491f-8e83-844d56acb4bc",
   "metadata": {},
   "source": [
    "#### sort"
   ]
  },
  {
   "cell_type": "code",
   "execution_count": 128,
   "id": "0f402b21-63f0-43e3-96c3-f128a8fec7b2",
   "metadata": {
    "execution": {
     "iopub.execute_input": "2024-03-22T14:18:50.824219Z",
     "iopub.status.busy": "2024-03-22T14:18:50.823174Z",
     "iopub.status.idle": "2024-03-22T14:18:50.832481Z",
     "shell.execute_reply": "2024-03-22T14:18:50.831234Z",
     "shell.execute_reply.started": "2024-03-22T14:18:50.824184Z"
    }
   },
   "outputs": [],
   "source": [
    "res_sort = sorted(res_split, key=len)"
   ]
  },
  {
   "cell_type": "code",
   "execution_count": 138,
   "id": "a89a79f4-3426-4825-8617-02196ddb50ab",
   "metadata": {
    "collapsed": true,
    "execution": {
     "iopub.execute_input": "2024-03-22T14:32:15.597045Z",
     "iopub.status.busy": "2024-03-22T14:32:15.596043Z",
     "iopub.status.idle": "2024-03-22T14:32:15.606867Z",
     "shell.execute_reply": "2024-03-22T14:32:15.606187Z",
     "shell.execute_reply.started": "2024-03-22T14:32:15.597016Z"
    },
    "jupyter": {
     "outputs_hidden": true
    },
    "scrolled": true
   },
   "outputs": [
    {
     "data": {
      "text/plain": [
       "'\\n\\'\\n                           \\n\\'\\n                       \\n\\'\\n                   \\'조폭응징\\' 유튜버, 보복 폭행했던 조직폭력배 숨진 채 발견[파이낸셜뉴스] \\xa0조직폭력배를 저격하는 내용의 방송을 진행한 유튜버를 보복 폭..파이낸셜뉴스돌아가기울아들램사랑해해외 논문으로 검증된 아동 주의력결핍에 효과적인 1가지 방법 공개울아들램사랑해|SponsoredSponsored더 알아보기돌아가기연세힐치과의원임플란트 1개부터, 전체 임플란트!연세힐치과의원|SponsoredSponsored돌아가기새미래 이석현, 강북을 출사표…[파이낸셜뉴스] 새로운미래 고문인 이석현 전 국회부의장이 22일파이낸셜뉴스돌아가기\"아름다운 동행\"...대한항공 前여승무원동우회 KASA, 서울역서 급식 봉사 - 파이낸셜뉴스[파이낸셜뉴스] 대한항공 전직 여승무원 동우회인 카사(KASA)는 지난 21일 서울시 용산구 서울역 무료급식소인 \\'따스한채움터\\'에서 봉사활동을 펼쳤다고 22일 밝혔다.\\xa0취약계층 무료급식 제공을 위해 진행된 이날 봉사활동에서는 컵과일과 양말 등의 물품기부와 배식, 서빙 봉사 등도 함께 이뤄졌다.\\xa0봉사활동 중에는 8명의 회원들로 구성된 카..파이낸셜뉴스돌아가기\\'조수진 리스크’ 제거한 민주…박용진은 끝내 \\'비명횡사\\'[2024 총선][파이낸셜뉴스] 성범죄자 변호 이력으로 논란이 됐던 조수진 변호사가 서울 강북을 후보에서 사퇴하면서 더불어민주당이 부담을 한결 내려놓게 됐다. 다시금 공석이 된 강북을에는 \\'친명계\\' 한민수 대변인이 공천됐다. 각종 우여곡절 끝에 민주당이 한 대변인을 공천했으나 일각에서는 사천 문제와 함께 총선 이후 갈등의 새로운 씨앗이 될 것이라는 예측..파이낸셜뉴스돌아가기\\'7살 제자 일가족 몰살\\' 혐의 태권도 관장, 모든 것이 거짓 \"아내도 당했다\"[파이낸셜뉴스] \\xa0지난달 호주 시드니에서 한인 일가족 3명을 살해한 혐의를 받는 태권도 관장의 만행이 드러났다. 17일 SBS ‘그것이 알고 싶다’에 따르면 지난달 20일 시드니 노스 파라마타 지역의 한 태권도장에 다니던 아이와 엄마가 태권도장에서 숨져 있었고, 아이의 아빠도 자기 집에서 사망한 채 발견됐다.용의자로 지목된 이는 아이가 다니..파이낸셜뉴스돌아가기\"수십명 달려들어 파냈지만\"..플로리다 해변 모래더미에 묻힌 7세 소녀 - 파이낸셜뉴스[파이낸셜뉴스] \\xa0가족과 함께 해변에서 모래놀이를 하던 7살 여자 어린이가 모래 구덩이에 갇혀 사망하는 사고가 발생했다. 22일(현지시간) 뉴욕포스트에 따르면 전날 오후 3시쯤 미국 플로리다주 해변에서 인디애나주 출신 살 7여아 슬론 매팅리와 9살 남아 매덕스 매팅리가 모래사장에서 구덩이를 파며 놀던 중 돌연 사라졌다.남매가 앉아 있던 바..파이낸셜뉴스돌아가기연세힐치과의원전체 임플란트 해야 하는데 부담된다면?연세힐치과의원|SponsoredSponsored돌아가기JUVIS34kg 감량된 내 모습을보니 월 16만원이 전혀 아깝지 않았어요JUVIS|SponsoredSponsored돌아가기\"밥맛 없다, 저리가라\" 계양 식당서 욕먹은 원희룡·이천수가 한 말..[파이낸셜뉴스] \\xa0국민의힘 인천 계양을 후보인 원희룡 전 국토교통부 장관이 선..파이낸셜뉴스돌아가기새벽 공원 벤치서 웅크린 채 잠든 여학생...지켜본 시민의 행동 [따뜻했슈][파이낸셜뉴스]\\xa0 늦은 밤 공원 벤치에서 잠든 여학생을 발견, 경찰에 신고한 뒤 멀리서 지켜본 시민의 선행이 알려져 화제다.A씨는 지난 21일 온라인 커뮤니티 \\'보배드림\\'을 통해 자신이 겪은 일을 전했다.그는파이낸셜뉴스돌아가기'"
      ]
     },
     "execution_count": 138,
     "metadata": {},
     "output_type": "execute_result"
    }
   ],
   "source": [
    "res_sort[-1]"
   ]
  },
  {
   "cell_type": "code",
   "execution_count": 137,
   "id": "dd5424c8-dc41-46d1-93b3-09226ee84c91",
   "metadata": {
    "execution": {
     "iopub.execute_input": "2024-03-22T14:32:10.780896Z",
     "iopub.status.busy": "2024-03-22T14:32:10.779362Z",
     "iopub.status.idle": "2024-03-22T14:32:10.831519Z",
     "shell.execute_reply": "2024-03-22T14:32:10.829801Z",
     "shell.execute_reply.started": "2024-03-22T14:32:10.780873Z"
    }
   },
   "outputs": [
    {
     "data": {
      "text/plain": [
       "'\\n울아들램사랑해해외 논문으로 검증된 아동 주의력결핍에 효과적인 1가지 방법 공개울아들램사랑해|SponsoredSponsored더 알아보기돌아가기연세힐치과의원임플란트 1개부터, 전체 임플란트!연세힐치과의원|SponsoredSponsored돌아가기연세힐치과의원전체 임플란트 해야 하는데 부담된다면?연세힐치과의원|SponsoredSponsored돌아가기JUVIS34kg 감량된 내 모습을보니 월 16만원이 전혀 아깝지 않았어요JUVIS|SponsoredSponsored돌아가기울아들램사랑해ADHD 카페에서 난리난 ADHD 개선법 1가지울아들램사랑해|SponsoredSponsored더 알아보기돌아가기Rg3 더루트\"면역력, 혈압\" 결정짓는 \"이 성분\"을 가득 담아.. 카이스트 개발 화제!Rg3 더루트|SponsoredSponsored돌아가기강남애프터치과전체임플란트 필요하신 분이라면?대한치과의사협회 의료광고 심의필 제231127-중-28744호강남애프터치과|SponsoredSponsored가격 받기돌아가기원데이 임플란트빠진 치아가 많나요? 전체 임플란트로 치료하세요전체 임플란트, 의식하진정법 강남역 11번 출구, 원데이치과의원원데이 임플란트|SponsoredSponsored더 알아보기돌아가기임플란트국산 임플란트 개당 \"35만원\" 특가 이벤트!공중파 방송에서 인정한 의료진! 지르코니아+맞춤형지대주 포함 금액!임플란트|SponsoredSponsored더 알아보기돌아가기장덕한방병원어깨통증 수술없이 당일치료하세요30년 양한방 비수술 치료 노하우로 어깨통증 근본원인부터 해결합니다.장덕한방병원|SponsoredSponsored더 알아보기돌아가기신(新) 의료기술 등재 - 자가골수 줄기세포 치료\"자가골수 줄기세포\" 신 의료기술 등재! 수술없이 치료가능신(新) 의료기술 등재 - 자가골수 줄기세포 치료|SponsoredSponsored더 알아보기돌아가기Rg3 더루트\"혈액순환 잘되네요\" 손발저림까지 싹~\\'이것\\', 하루 1번이면 된다!카이스트 박사가 24년간 연구한 특이사포닌 Rg3 성분을 120배 담은 특허홍삼Rg3 더루트|SponsoredSponsored돌아가기82% 재구매율의 키성장 1위 20관왕15살 딸, 엄마 키 훌쩍 넘겨 167까지 쑥~ 키성장에 면역력까지 잡는 \\'이것\\'82%의 압도적인 재구매율, 79만 부모님들의 선택, 5년 연속 키성장 1위 수상 기념 이벤트 진행중82% 재구매율의 키성장 1위 20관왕|SponsoredSponsored더 알아보기돌아가기'"
      ]
     },
     "execution_count": 137,
     "metadata": {},
     "output_type": "execute_result"
    }
   ],
   "source": [
    "res_sort[-2]"
   ]
  },
  {
   "cell_type": "code",
   "execution_count": 135,
   "id": "54fa2e07-c35d-490a-b32d-01f108be7aef",
   "metadata": {
    "collapsed": true,
    "execution": {
     "iopub.execute_input": "2024-03-22T14:22:52.901828Z",
     "iopub.status.busy": "2024-03-22T14:22:52.900353Z",
     "iopub.status.idle": "2024-03-22T14:22:52.915030Z",
     "shell.execute_reply": "2024-03-22T14:22:52.914319Z",
     "shell.execute_reply.started": "2024-03-22T14:22:52.901805Z"
    },
    "jupyter": {
     "outputs_hidden": true
    },
    "scrolled": true
   },
   "outputs": [
    {
     "data": {
      "text/plain": [
       "'발아픈사람이야기족저근막염 극복한 딱 1가지 방법족저근막염 때문에 폐업까지 하게 된 남자가 이 방법을 알고 족저근막염을 극복하게 되는데...발아픈사람이야기|SponsoredSponsored더 알아보기돌아가기신(新) 의료기술 등재 - 자가골수 줄기세포 치료무릎통증 \"줄기세포\" 치료, 수술없이 당일 일상복귀가능신(新) 의료기술 등재 - 자가골수 줄기세포 치료|SponsoredSponsored더 알아보기돌아가기공동투자그룹(국내 트레이딩)주식\\xa0 매수, 매도 타이밍(전문 주식 트레이더 종목 선정 이번주만 무료)공동투자그룹(국내 트레이딩)|SponsoredSponsored더 알아보기돌아가기Navy.Quest마우스가 있다면 밤새워 즐기게 되는 게임. 설치 없이 바로 실행. 무료로 플레이.Navy.Quest|SponsoredSponsored돌아가기Mech Arena- Free to Play마우스 하나로 밤새는 게임!실시간 5대5 메카닉 대전Mech Arena- Free to Play|SponsoredSponsored다운로드돌아가기오직팩트만관절마다 붓고 아프다면 \"이것\" 결핍 의심알아야 건강할 수 있습니다.오직팩트만|SponsoredSponsored더 알아보기돌아가기새벽 공원 벤치서 웅크린 채 잠든 여학생...지켜본 시민의 행동 [따뜻했슈]파이낸셜뉴스돌아가기여친 190번 찔러 살해한 동거남, 이름·신상공개됐다파이낸셜뉴스돌아가기'"
      ]
     },
     "execution_count": 135,
     "metadata": {},
     "output_type": "execute_result"
    }
   ],
   "source": [
    "res_sort[-3]"
   ]
  },
  {
   "cell_type": "code",
   "execution_count": 132,
   "id": "fee53405-a802-48b6-8468-1fdcf10d0089",
   "metadata": {
    "collapsed": true,
    "execution": {
     "iopub.execute_input": "2024-03-22T14:19:09.064312Z",
     "iopub.status.busy": "2024-03-22T14:19:09.061527Z",
     "iopub.status.idle": "2024-03-22T14:19:09.086527Z",
     "shell.execute_reply": "2024-03-22T14:19:09.086003Z",
     "shell.execute_reply.started": "2024-03-22T14:19:09.064288Z"
    },
    "jupyter": {
     "outputs_hidden": true
    },
    "scrolled": true
   },
   "outputs": [
    {
     "data": {
      "text/plain": [
       "'  이준석 기자\\n \\n\\n[파이낸셜뉴스] 길거리에서 9살 초등학생을 성추행한 70대 남성이 경찰에 붙잡혔다. 이 남성은 피해 아동의 아버지에게 붙잡혀 현행범으로 체포됐다.\\n\\n14일 경찰에 따르면 서울경찰청 여성청소년범죄수사대는 전날 성폭력범죄의 처벌 등에 관한 특례법(성폭력처벌법) 위반 혐의로 70대 남성 A씨에 대한 구속영장을 신청했다고 밝혔다.\\n\\nA씨는 지난 12일 오후 8시30분께 서울 동작구의 한 길거리에서 9살 여자 초등학생을 불러 세운 뒤 신체 등을 만진 혐의를 받는다.\\n\\n피해 아동은 자신의 피해 사실을 아버지인 B씨에게 알렸다.\\n 이러한 사실을 알게 된 B씨는 직접 A씨를 붙잡은 것으로 전해졌다.\\n\\nB씨에게 붙잡힌 A씨는 출동한 경찰에 의해 현행범으로 체포됐다.\\n\\n경찰 관계자는 \"구체적인 내용은 확인이 어렵다\"면서도 \"(A씨에 대한) 구속영장을 신청한 건 맞다\"고 전했다.\\n\\nnewssu@fnnews.com 김수연 기자 '"
      ]
     },
     "execution_count": 132,
     "metadata": {},
     "output_type": "execute_result"
    }
   ],
   "source": [
    "res_sort[-4]"
   ]
  },
  {
   "cell_type": "code",
   "execution_count": 139,
   "id": "9badc463-099c-43ff-a3c1-3b039a552c05",
   "metadata": {
    "collapsed": true,
    "execution": {
     "iopub.execute_input": "2024-03-22T14:32:27.342295Z",
     "iopub.status.busy": "2024-03-22T14:32:27.340826Z",
     "iopub.status.idle": "2024-03-22T14:32:27.361247Z",
     "shell.execute_reply": "2024-03-22T14:32:27.360476Z",
     "shell.execute_reply.started": "2024-03-22T14:32:27.342256Z"
    },
    "jupyter": {
     "outputs_hidden": true
    },
    "scrolled": true
   },
   "outputs": [
    {
     "data": {
      "text/plain": [
       "'\\n여러분이 생각하는 4.10 총선 핵심 의제는?\\n\\n2024년 총선이 한 달도 채 남지 않았습니다.국회의원 선거는 단순한 정치적 이익을 넘어국민의 삶을 실질적으로 개선하는정책 공약의 경연장이 되어야 할 텐데요.이에 현실성 있고 효과적인 의제들이 더욱 많이 다뤄지길 바라는 유권자들의 목소리가 큽니다.그렇다면 여러분이 생각하기에 가장 중요하다고 생각되는 핵심 의제는 무엇인가요?\\n\\n투표기간 : 2024-03-18 ~ 2024-04-09\\n                                         \\n투표하러 가기'"
      ]
     },
     "execution_count": 139,
     "metadata": {},
     "output_type": "execute_result"
    }
   ],
   "source": [
    "res_sort[-5]"
   ]
  },
  {
   "cell_type": "code",
   "execution_count": 111,
   "id": "2982b0be-f865-4f15-ac0e-40e4cdc5fe04",
   "metadata": {
    "execution": {
     "iopub.execute_input": "2024-03-22T14:09:41.748412Z",
     "iopub.status.busy": "2024-03-22T14:09:41.746021Z",
     "iopub.status.idle": "2024-03-22T14:09:41.850688Z",
     "shell.execute_reply": "2024-03-22T14:09:41.848764Z",
     "shell.execute_reply.started": "2024-03-22T14:09:41.748363Z"
    },
    "scrolled": true
   },
   "outputs": [],
   "source": [
    "res_filtered = longest_string_length(res_bs.get_text().split(\"\\n\\n\"))"
   ]
  },
  {
   "cell_type": "code",
   "execution_count": 112,
   "id": "e6fbe356-1eed-4809-809b-e2571849d1ce",
   "metadata": {
    "collapsed": true,
    "execution": {
     "iopub.execute_input": "2024-03-22T14:09:47.144542Z",
     "iopub.status.busy": "2024-03-22T14:09:47.143517Z",
     "iopub.status.idle": "2024-03-22T14:09:47.204482Z",
     "shell.execute_reply": "2024-03-22T14:09:47.203940Z",
     "shell.execute_reply.started": "2024-03-22T14:09:47.144516Z"
    },
    "jupyter": {
     "outputs_hidden": true
    },
    "scrolled": true
   },
   "outputs": [
    {
     "data": {
      "text/plain": [
       "'\\n\\'\\n                           \\n\\'\\n                       \\n\\'\\n                   \\'조폭응징\\' 유튜버, 보복 폭행했던 조직폭력배 숨진 채 발견[파이낸셜뉴스] \\xa0조직폭력배를 저격하는 내용의 방송을 진행한 유튜버를 보복 폭..파이낸셜뉴스돌아가기울아들램사랑해해외 논문으로 검증된 아동 주의력결핍에 효과적인 1가지 방법 공개울아들램사랑해|SponsoredSponsored더 알아보기돌아가기연세힐치과의원임플란트 1개부터, 전체 임플란트!연세힐치과의원|SponsoredSponsored돌아가기새미래 이석현, 강북을 출사표…[파이낸셜뉴스] 새로운미래 고문인 이석현 전 국회부의장이 22일파이낸셜뉴스돌아가기\"아름다운 동행\"...대한항공 前여승무원동우회 KASA, 서울역서 급식 봉사 - 파이낸셜뉴스[파이낸셜뉴스] 대한항공 전직 여승무원 동우회인 카사(KASA)는 지난 21일 서울시 용산구 서울역 무료급식소인 \\'따스한채움터\\'에서 봉사활동을 펼쳤다고 22일 밝혔다.\\xa0취약계층 무료급식 제공을 위해 진행된 이날 봉사활동에서는 컵과일과 양말 등의 물품기부와 배식, 서빙 봉사 등도 함께 이뤄졌다.\\xa0봉사활동 중에는 8명의 회원들로 구성된 카..파이낸셜뉴스돌아가기\\'조수진 리스크’ 제거한 민주…박용진은 끝내 \\'비명횡사\\'[2024 총선][파이낸셜뉴스] 성범죄자 변호 이력으로 논란이 됐던 조수진 변호사가 서울 강북을 후보에서 사퇴하면서 더불어민주당이 부담을 한결 내려놓게 됐다. 다시금 공석이 된 강북을에는 \\'친명계\\' 한민수 대변인이 공천됐다. 각종 우여곡절 끝에 민주당이 한 대변인을 공천했으나 일각에서는 사천 문제와 함께 총선 이후 갈등의 새로운 씨앗이 될 것이라는 예측..파이낸셜뉴스돌아가기\\'7살 제자 일가족 몰살\\' 혐의 태권도 관장, 모든 것이 거짓 \"아내도 당했다\"[파이낸셜뉴스] \\xa0지난달 호주 시드니에서 한인 일가족 3명을 살해한 혐의를 받는 태권도 관장의 만행이 드러났다. 17일 SBS ‘그것이 알고 싶다’에 따르면 지난달 20일 시드니 노스 파라마타 지역의 한 태권도장에 다니던 아이와 엄마가 태권도장에서 숨져 있었고, 아이의 아빠도 자기 집에서 사망한 채 발견됐다.용의자로 지목된 이는 아이가 다니..파이낸셜뉴스돌아가기\"수십명 달려들어 파냈지만\"..플로리다 해변 모래더미에 묻힌 7세 소녀 - 파이낸셜뉴스[파이낸셜뉴스] \\xa0가족과 함께 해변에서 모래놀이를 하던 7살 여자 어린이가 모래 구덩이에 갇혀 사망하는 사고가 발생했다. 22일(현지시간) 뉴욕포스트에 따르면 전날 오후 3시쯤 미국 플로리다주 해변에서 인디애나주 출신 살 7여아 슬론 매팅리와 9살 남아 매덕스 매팅리가 모래사장에서 구덩이를 파며 놀던 중 돌연 사라졌다.남매가 앉아 있던 바..파이낸셜뉴스돌아가기연세힐치과의원전체 임플란트 해야 하는데 부담된다면?연세힐치과의원|SponsoredSponsored돌아가기JUVIS34kg 감량된 내 모습을보니 월 16만원이 전혀 아깝지 않았어요JUVIS|SponsoredSponsored돌아가기\"밥맛 없다, 저리가라\" 계양 식당서 욕먹은 원희룡·이천수가 한 말..[파이낸셜뉴스] \\xa0국민의힘 인천 계양을 후보인 원희룡 전 국토교통부 장관이 선..파이낸셜뉴스돌아가기새벽 공원 벤치서 웅크린 채 잠든 여학생...지켜본 시민의 행동 [따뜻했슈][파이낸셜뉴스]\\xa0 늦은 밤 공원 벤치에서 잠든 여학생을 발견, 경찰에 신고한 뒤 멀리서 지켜본 시민의 선행이 알려져 화제다.A씨는 지난 21일 온라인 커뮤니티 \\'보배드림\\'을 통해 자신이 겪은 일을 전했다.그는파이낸셜뉴스돌아가기'"
      ]
     },
     "execution_count": 112,
     "metadata": {},
     "output_type": "execute_result"
    }
   ],
   "source": [
    "res_filtered"
   ]
  },
  {
   "cell_type": "code",
   "execution_count": 151,
   "id": "4a2a7d48-c544-417d-a1b8-eb0e065ccb73",
   "metadata": {},
   "outputs": [],
   "source": [
    "df.loc[index_list[3], \"content\"] = result"
   ]
  },
  {
   "cell_type": "markdown",
   "id": "9c1b4ab5-7371-4d78-b7fa-512081114159",
   "metadata": {},
   "source": [
    "#### scraping"
   ]
  },
  {
   "cell_type": "code",
   "execution_count": 17,
   "id": "e59b44d0-faf5-4b35-8669-a50004c2a5b7",
   "metadata": {
    "collapsed": true,
    "execution": {
     "iopub.execute_input": "2024-04-21T09:38:49.206843Z",
     "iopub.status.busy": "2024-04-21T09:38:49.205877Z",
     "iopub.status.idle": "2024-04-21T09:38:49.246789Z",
     "shell.execute_reply": "2024-04-21T09:38:49.246417Z",
     "shell.execute_reply.started": "2024-04-21T09:38:49.206806Z"
    },
    "jupyter": {
     "outputs_hidden": true
    },
    "scrolled": true
   },
   "outputs": [
    {
     "name": "stdout",
     "output_type": "stream",
     "text": [
      "<class 'pandas.core.frame.DataFrame'>\n",
      "RangeIndex: 27 entries, 0 to 26\n",
      "Data columns (total 16 columns):\n",
      " #   Column  Non-Null Count  Dtype  \n",
      "---  ------  --------------  -----  \n",
      " 0   범죄 유형   0 non-null      float64\n",
      " 1   지역      3 non-null      object \n",
      " 2   위도      0 non-null      float64\n",
      " 3   경도      0 non-null      float64\n",
      " 4   중복 여부   6 non-null      object \n",
      " 5   퀄리티     0 non-null      float64\n",
      " 6   제외 여부   0 non-null      float64\n",
      " 7   기사제목    27 non-null     object \n",
      " 8   사건 장소   27 non-null     object \n",
      " 9   수사 기관   27 non-null     object \n",
      " 10  본문      27 non-null     object \n",
      " 11  URL     27 non-null     object \n",
      " 12  일자      27 non-null     int64  \n",
      " 13  언론사     27 non-null     object \n",
      " 14  기고자     27 non-null     object \n",
      " 15  비고      0 non-null      float64\n",
      "dtypes: float64(6), int64(1), object(9)\n",
      "memory usage: 3.5+ KB\n"
     ]
    }
   ],
   "source": [
    "df.info()"
   ]
  },
  {
   "cell_type": "code",
   "execution_count": 189,
   "id": "1754cc83-7078-4423-8376-1c1b4dbf1ccf",
   "metadata": {
    "collapsed": true,
    "execution": {
     "iopub.execute_input": "2024-03-23T13:42:12.673867Z",
     "iopub.status.busy": "2024-03-23T13:42:12.672685Z",
     "iopub.status.idle": "2024-03-23T13:46:35.903961Z",
     "shell.execute_reply": "2024-03-23T13:46:35.900151Z",
     "shell.execute_reply.started": "2024-03-23T13:42:12.673847Z"
    },
    "jupyter": {
     "outputs_hidden": true
    },
    "scrolled": true
   },
   "outputs": [
    {
     "name": "stderr",
     "output_type": "stream",
     "text": [
      "  0%|                                                                                                                                                                                    | 0/38 [00:00<?, ?it/s]/var/folders/r0/w084nh2s0v3fstg3n70027500000gn/T/ipykernel_85786/1728345963.py:3: FutureWarning: Setting an item of incompatible dtype is deprecated and will raise in a future error of pandas. Value '<body>\n",
      "\t<div id=\"wrap\" class=\"view\">\n",
      "\n",
      "\t\t<!-- 스킵네비게이션 -->\n",
      "\t\t<div class=\"skip_navi\">\n",
      "\t\t\t<a href=\"#container\">본문 바로가기</a>\n",
      "\t\t</div>\n",
      "\t\t<!-- //스킵네비게이션 -->\n",
      "\n",
      "\t\t<header class=\"header-main ver2022\">\n",
      "            <div class=\"top-util-area\">\n",
      "\t<div class=\"top-util-inner\">\n",
      "\t\t<!-- <div class=\"util-items lt\">\n",
      "\t\t\t<div class=\"item today-info\"></div>\n",
      "\t\t\t<div class=\"item hk-slogan\"> 성공을 부르는 습관</div>\n",
      "\t\t</div> -->\n",
      "\t\t<div class=\"util-items rt\">\n",
      "\t\t\t<div class=\"item\">\n",
      "\t\t\t\t<div class=\"gnb-dropdown type-click\" tabindex=\"0\">\n",
      "\t\t\t\t\t<strong class=\"gnb-dropdown-toggle\"><span class=\"txt-en\">Family Site</span></strong>\n",
      "\t\t\t\t\t<div class=\"gnb-dropdown-menu\">\n",
      "\t\t\t\t\t\t<ul>\n",
      "\t\t\t\t\t\t\t<li><a href=\"http://www.wowtv.co.kr/\" target=\"_blank\" rel=\"nofollow\">한국경제<span class=\"txt-en\">TV</span></a></li>\n",
      "\t\t\t\t\t\t\t<li><a href=\"https://magazine.hankyung.com/\" target=\"_blank\" rel=\"nofollow\">한국경제매거진</a></li>\n",
      "\t\t\t\t\t\t\t<li><a href=\"https://bp.hankyung.com/\" target=\"_blank\" rel=\"nofollow\"><span class=\"txt-en\">BOOK</span></a></li>\n",
      "\t\t\t\t\t\t\t<li><a href=\"https://www.artetv.co.kr/\" target=\"_blank\" rel=\"nofollow\">한경<span class=\"txt-en\">arteTV</span></a></li>\n",
      "\t\t\t\t\t\t\t<li><a href=\"https://tenasia.hankyung.com/\" target=\"_blank\" rel=\"nofollow\">텐아시아</a></li>\n",
      "\t\t\t\t\t\t\t<li><a href=\"https://www.kedglobal.com/\" target=\"_blank\" rel=\"nofollow\"><span class=\"txt-en\">KED Global</span></a></li>\n",
      "\t\t\t\t\t\t</ul>\n",
      "\t\t\t\t\t</div>\n",
      "\t\t\t\t</div>\n",
      "\t\t\t</div>\n",
      "\t\t\t<div class=\"item\">\n",
      "\t\t\t\t<a href=\"https://members.hankyung.com/?utm_source=dotcom&amp;utm_medium=top&amp;utm_campaign=affiliate\" target=\"_blank\" rel=\"nofollow\">구독신청</a>\n",
      "\t\t\t</div>\n",
      "\t\t\t<!-- 로그인 전 -->\n",
      "\t\t\t<div class=\"item login_link\" style=\"\">\n",
      "\t\t\t\t<a href=\"https://member.hankyung.com/apps.frame/sso.join?url=https%3A//www.hankyung.com/article/2024022231661\" class=\"color-primary join-link\" rel=\"nofollow\">회원가입</a>\n",
      "\t\t\t</div>\n",
      "\t\t\t<div class=\"item login-area login_link\" style=\"\">\n",
      "\t\t\t\t<a href=\"https://member.hankyung.com/apps.frame/login?url=https%3A//www.hankyung.com/article/2024022231661\" class=\"login-link\" rel=\"nofollow\">\n",
      "\t\t\t\t\t<span class=\"txt\">로그인</span>\n",
      "\t\t\t\t</a>\n",
      "\t\t\t</div>\n",
      "\n",
      "\t\t\t<!-- 로그인 후 -->\n",
      "\t\t\t\n",
      "\t\t</div>\n",
      "\t</div>\n",
      "</div>\n",
      "\n",
      "<script>\n",
      "\n",
      "// 운영서버 및 개발서버 도메인 분기\n",
      "if( location.host != location.host.replace(\"stg-\", \"\") )\n",
      "{\n",
      "\tvar member_domain = 'https://stg-member.hankyung.com';\n",
      "}\n",
      "else\n",
      "{\n",
      "\tvar member_domain = 'https://member.hankyung.com';\n",
      "}\n",
      "\n",
      "var url = escape(document.location.href);\n",
      "\n",
      "// 회원가입 url 설정\n",
      "$(\".login_link .join-link\").attr('href', member_domain + '/apps.frame/sso.join?url=' + url);\n",
      "\n",
      "// 로그인 url 설정\n",
      "$(\".login_link .login-link\").attr('href', member_domain + '/apps.frame/login?url=' + url);\n",
      "\n",
      "// 로그아웃 url 설정\n",
      "$(\".login-area .btn-logout\").attr('href', member_domain + '/apps.frame/login.work.logout?url=' + url);\n",
      "\n",
      "// 개인정보 url 설정\n",
      "$(\".login-area .btn-account\").attr('href', member_domain + '/apps.frame/member.main?url=' + url);\n",
      "\n",
      "\n",
      "\n",
      "/**************************************************************************************************************/\n",
      "// [로그인 유지 기능 도입] 시작\n",
      "// by 현상은 on 2022-07-06\n",
      "/**************************************************************************************************************/\n",
      "\n",
      "// 통합회원 아이디\n",
      "const user_id = $.cookie('UserId');\n",
      "\n",
      "// 토큰 쿠키\n",
      "const tokenCookie = $.cookie('ssoToken');\n",
      "\n",
      "// 세션 체크 필요 여부\n",
      "let checkFlag = false;\n",
      "\n",
      "// 쿠키에 회원 아이디가 있는 경우\n",
      "if( user_id )\n",
      "{\n",
      "\t// 마지막 세션 체크 시간 쿠키\n",
      "\tconst checkTimeCookie = $.cookie('ssoTokenCheckTime');\n",
      "\n",
      "\tif( checkTimeCookie )\n",
      "\t{\n",
      "\t\tconst checkTime = new Date(checkTimeCookie);\n",
      "\n",
      "\t\tconst today = new Date();\n",
      "\n",
      "\t\t// 오늘 날짜와 마지막 세션 체크일의 차이를 구한다.\n",
      "\t\tconst betweenTimeDay = Math.floor((today.getTime() - checkTime.getTime()) / 1000 / 60 / 60 / 24);\n",
      "\n",
      "\t\t// 세션을 체크한지 1일이 경과한 경우 세션 체크 API를 호출한다.\n",
      "\t\tif( betweenTimeDay > 0 )\n",
      "\t\t{\n",
      "\t\t\tcheckFlag = true;\n",
      "\t\t}\n",
      "\t\telse\n",
      "\t\t{\n",
      "\t\t\tsetLogin(true);\n",
      "\t\t}\n",
      "\t}\n",
      "\telse\n",
      "\t{\n",
      "\t\t// 세션 체크 기록이 없으면 세션 체크 API를 호출한다.\n",
      "\t\tcheckFlag = true;\n",
      "\t}\n",
      "}\n",
      "else\n",
      "{\n",
      "\t// 토큰 쿠키가 있는 경우\n",
      "\tif( tokenCookie )\n",
      "\t{\n",
      "\t\tcheckFlag = true;\n",
      "\t}\n",
      "\t// 토큰 쿠키가 없는 경우\n",
      "\telse\n",
      "\t{\n",
      "\t\tsetLogin(false);\n",
      "\t}\n",
      "}\n",
      "\n",
      "\n",
      "// 세션 체크가 필요한 경우에만 API를 호출한다.\n",
      "if( checkFlag == true )\n",
      "{\n",
      "\t$.ajax({\n",
      "\t\ttype : \"POST\",\n",
      "\t\turl : member_domain + \"/apps.frame/sso.check.token\",\n",
      "\t\tcrossDomain: true,\n",
      "\t\tdataType: 'jsonp',\n",
      "\t\tjsonp: 'jsonp_callback',\n",
      "\t\tdata : {'token' : tokenCookie,\n",
      "\t\t\t\t'key' : \"a8bdf898783883b64503b8915deeb57767f935a24daf44150723299c01c8898a\",\n",
      "\t\t\t\t'fn' : \"setLogin\"\n",
      "\t\t}\n",
      "\t});\n",
      "}\n",
      "\n",
      "\n",
      "\n",
      "function setLogin(result)\n",
      "{\n",
      "\tif(result == true || result.result_code == \"0000\")\n",
      "\t{\n",
      "\t\t// 세션 체크 API 결과가 정상인 경우 현재 날짜를 세션 체크 쿠키에 셋팅한다.\n",
      "\t\tif( result.result_code == \"0000\" )\n",
      "\t\t{\n",
      "\t\t\t// 현재 날짜를 가져온다.\n",
      "\t\t\tconst now = new Date();\n",
      "\t\t\tconst year\t= now.getFullYear();\n",
      "\t\t\tconst month\t= ('0' + (now.getMonth() + 1)).slice(-2);\n",
      "\t\t\tconst day\t= ('0' + now.getDate()).slice(-2);\n",
      "\t\t\tconst dateString = year + '-' + month  + '-' + day;\n",
      "\n",
      "\t\t\t// 브라우저 종료시 만료되는 쿠키를 셋팅한다.\n",
      "\t\t\t$.cookie('ssoTokenCheckTime', dateString, { expires: null, path: '/', domain: 'hankyung.com'});\n",
      "\t\t}\n",
      "\n",
      "\t\t// 이름대신 통합회원ID 입력\n",
      "\t\t// $(\".login-info .user-name\").text($.cookie(\"SSOid\").split('@')[0]+'님');\n",
      "\t\t// $(\".login-info .user-info .account-info .email\").text($.cookie(\"SSOid\"));\n",
      "\t\t\n",
      "\t\t// $(\".login_link\").hide();\n",
      "\t\t// $(\".login-info\").show();\n",
      "\n",
      "\n",
      "\t\t// 이름대신 통합회원ID 입력\n",
      "\t\tvar iconLoginType = 'icon-mylogin-hk';\n",
      "\t\tif($.cookie(\"login_type\")){\n",
      "\t\t\ticonLoginType = 'icon-mylogin-'+$.cookie(\"login_type\");\n",
      "\t\t}\n",
      "\t\tvar textLoingTypes = {\n",
      "\t\t\t'icon-mylogin-hk':'한경으로 로그인',\n",
      "\t\t\t'icon-mylogin-email':'한경으로 로그인',\n",
      "\t\t\t'icon-mylogin-kakao':'카카오로 로그인',\n",
      "\t\t\t'icon-mylogin-naver':'네이버로 로그인',\n",
      "\t\t\t'icon-mylogin-google':'구글로 로그인',\n",
      "\t\t\t'icon-mylogin-apple':'애플로 로그인'\n",
      "\t\t}\n",
      "\n",
      "\t\tvar textLoingType = textLoingTypes[iconLoginType];\n",
      "\n",
      "\t\t$(\".login-info .user-info .account-info .email span.icon-mylogin\").addClass(iconLoginType).removeClass('icon-mylogin');\n",
      "\t\t$(\".login-info .user-info .account-info .email span.blind\").text(textLoingType);\n",
      "\n",
      "\t\t$(\".login-info .user-info .account-info .email .txt\").text($.cookie(\"SSOid\"));\n",
      "\t\t\n",
      "\t\t$(\".login_link\").remove();\n",
      "\t\t$(\".login-info\").show();\n",
      "\n",
      "\t}\n",
      "\telse\n",
      "\t{\n",
      "\t\t// $(\".login_link\").show();\n",
      "\t\t// $(\".login-info\").hide();\n",
      "\n",
      "\t\t$(\".login-info\").remove();\n",
      "\t\t$(\".login_link\").show();\n",
      "\t}\n",
      "}\n",
      "\n",
      "/**************************************************************************************************************/\n",
      "// [로그인 유지 기능 도입] 종료\n",
      "/**************************************************************************************************************/\n",
      "\n",
      "\n",
      "\n",
      "\n",
      "function getPaymentCheck(){\n",
      "\t$.ajax({\n",
      "\t\turl: 'https://www.hankyung.com/action/checkPayment'\n",
      "\t\t, async: false\n",
      "\t\t, type: 'POST'\n",
      "\t\t, data:{\n",
      "\t\t\tuserId: $.cookie('SSOid')\n",
      "\t\t\t, PayNews: $.cookie('PayNews')\n",
      "\t\t\t, PayNews_esg: $.cookie('PayNews_esg')\n",
      "\t\t}\n",
      "\t\t, success: function(result){\n",
      "\t\t\tconsole.log(result)\n",
      "\t\t\t$.each(result, function(idx, val){\n",
      "\t\t\t\tif(val == 'Y'){\n",
      "\t\t\t\t\t$(\".login-info .subscription-info dd.\"+idx+\" .badge-subscribing\").text(\"구독내역\");\n",
      "\t\t\t\t\t$(\".login-info .subscription-info dd.\"+idx+\" .badge-subscribing\").attr(\"href\", \"https://www.hankyung.com/\"+idx+\"/mypage/pay\");\n",
      "\t\t\t\t}else{\n",
      "\t\t\t\t\t$(\".login-info .subscription-info dd.\"+idx+\" .badge-subscribing\").text(\"구독신청\");\n",
      "\t\t\t\t\t$(\".login-info .subscription-info dd.\"+idx+\" .badge-subscribing\").attr(\"href\", \"https://www.hankyung.com/\"+idx+\"/guide\");\n",
      "\t\t\t\t}\n",
      "\t\t\t});\n",
      "\t\t}\n",
      "\t\t, error: function(xhr, status, responseTxt){\n",
      "\t\t\tconsole.log(xhr);\n",
      "\t\t}\n",
      "\t});\n",
      "}\n",
      "\n",
      "$(document).ready(function(){\n",
      "\t// 사용자명 클릭\n",
      "\t$('.user-name').on(\"click\", function(e){\n",
      "\t\te.preventDefault();\n",
      "\t\tgetPaymentCheck();\n",
      "\t\t$('.layer-my').toggleClass('active');\n",
      "\t});\n",
      "\n",
      "\t$(document).on('mouseup',function(e){\n",
      "\t\t// 사용자 정보 off\n",
      "\t\tif (!$(e.target).is('.layer-my') && !$(e.target).parents().is('.layer-my') && !$(e.target).is('.login-link') && !$(e.target).is('.icon-myinfo') && !$(e.target).is('.tool-user *')){\n",
      "\t\t\t$('.layer-my').removeClass('active');\n",
      "\t\t};\n",
      "\n",
      "\t\t// 전체메뉴창 off\n",
      "\t\tif (!$(e.target).hasClass('layer-allmenu') && !$(e.target).parents().hasClass('layer-allmenu') && !$(e.target).hasClass('btn-allmenu') && !$(e.target).parents().hasClass('btn-allmenu')) {\n",
      "\t\t\t$('.layer-allmenu').removeClass('active');\n",
      "\t\t\t$('body').removeClass(\"open-allmenu\");\n",
      "\t\t};\n",
      "\n",
      "\t\t// 검색창 off\n",
      "\t\tif (!$(e.target).is('.layer-search') && !$(e.target).parents().is('.layer-search')){\n",
      "\t\t\t$('.search-area').removeClass('active');\n",
      "\t\t};\n",
      "\n",
      "\t\t// 하위 서브메뉴 off(탑헤더, 메인 gnb)\n",
      "\t\tif (!$(e.target).is('.gnb-dropdown-menu') && !$(e.target).parents().is('.gnb-dropdown-menu') && !$(e.target).parents().is('.gnb-dropdown-menu, .gnb-dropdown-toggle')){\n",
      "\t\t\t$('.gnb-dropdown').removeClass('focus');\n",
      "\t\t\t$('.gnb-dropdown.type-click').removeClass('active');\n",
      "\t\t\t$('.gnb-dropdown.type-click .gnb-dropdown-menu').slideUp();\n",
      "\t\t};\n",
      "\t});\n",
      "\n",
      "\t// 오늘날짜 구하기\n",
      "\t// const weekDay = ['일', '월', '화', '수', '목', '금', '토'];\n",
      "\t// let topToday = new Date();\n",
      "\n",
      "\t// let topYear = topToday.getFullYear()\n",
      "\t// , topMonth = topToday.getMonth() + 1\n",
      "\t// , topDay = topToday.getDate();\n",
      "\n",
      "\t// if(topMonth < 10) topMonth = '0'+topMonth;\n",
      "\t// if(topDay < 10) topDay = '0'+topDay;\n",
      "\n",
      "\t// $(\".today-info\").html('<span class=\"txt-date\">'+topYear+'.'+topMonth+'.'+topDay+'</span> '+weekDay[topToday.getDay()]+'요일');\n",
      "\n",
      "\t// family site 클릭\n",
      "\t$('.gnb-section:not(.type-hover) .gnb-dropdown-toggle, .gnb-dropdown.type-click .gnb-dropdown-toggle').on(\"click\", function(e){\n",
      "\t\te.preventDefault();\n",
      "\t\tvar gnbDropdown = $(this).parents('.gnb-dropdown');\n",
      "\t\tif (gnbDropdown.hasClass('active')) {\n",
      "\t\t\tgnbDropdown.removeClass('active');\n",
      "\t\t\tgnbDropdown.find('.gnb-dropdown-menu').slideUp();\n",
      "\t\t}else {\n",
      "\t\t\t$('.gnb-dropdown.type-click').removeClass('active');\n",
      "\t\t\t$('.gnb-dropdown.type-click .gnb-dropdown-menu').slideUp();\n",
      "\t\t\tgnbDropdown.addClass('active');\n",
      "\t\t\tgnbDropdown.find('.gnb-dropdown-menu').slideDown();\n",
      "\t\t}\n",
      "\t\treturn false;\n",
      "\t});\n",
      "});\n",
      "</script>    \n",
      "            <div class=\"header-inner\">\n",
      "                <strong class=\"logo\">\n",
      "                    <a href=\"https://www.hankyung.com\" class=\"logo-hankyung\"><span class=\"blind\">한국경제</span></a>\n",
      "                    <span class=\"emblem\">\n",
      "                        <span class=\"blind\">한경 60년 미래를 봅니다 - since 1964</span>\n",
      "                    </span>\n",
      "                </strong>\n",
      "    \n",
      "                <div class=\"service-area\">\n",
      "                    <!-- service-banner -->\n",
      "                    <div class=\"gnb-etc promotion-nav-wrap\">\n",
      "    <div class=\"promotion-nav slick-initialized slick-slider slick-vertical\">\n",
      "        \n",
      "    \t\t\t\t<div aria-live=\"polite\" class=\"slick-list draggable\" style=\"height: 39px;\"><div class=\"slick-track\" style=\"opacity: 1; height: 351px; transform: translate3d(0px, -117px, 0px);\" role=\"listbox\"><div class=\"item slick-slide slick-cloned\" data-slick-index=\"-1\" aria-hidden=\"true\" style=\"width: 250px;\" tabindex=\"-1\">\t\t\t\t\t<a href=\"https://event.hankyung.com/nycconference2024\" target=\"_blank\" rel=\"nofollow\" tabindex=\"-1\">한경 글로벌마켓 콘퍼런스 NYC 2024</a>\t\t\t\t</div><div class=\"item slick-slide\" data-slick-index=\"0\" aria-hidden=\"true\" style=\"width: 250px;\" tabindex=\"-1\" role=\"option\" aria-describedby=\"slick-slide00\">\t\t\t\t\t<a href=\"https://www.hankyung.com/election2024\" tabindex=\"-1\">22대 총선</a>\t\t\t\t</div><div class=\"item slick-slide\" data-slick-index=\"1\" aria-hidden=\"true\" style=\"width: 250px;\" tabindex=\"-1\" role=\"option\" aria-describedby=\"slick-slide01\">\t\t\t\t\t<a href=\"https://www.arte.co.kr\" target=\"_blank\" rel=\"nofollow\" tabindex=\"-1\">클래식과 미술의 모든 것 아르떼</a>\t\t\t\t</div><div class=\"item slick-slide slick-current slick-active\" data-slick-index=\"2\" aria-hidden=\"false\" style=\"width: 250px;\" tabindex=\"-1\" role=\"option\" aria-describedby=\"slick-slide02\">\t\t\t\t\t<a href=\"https://bit.ly/43pm8s1\" target=\"_blank\" rel=\"nofollow\" tabindex=\"0\">주식투자 플랫폼! 한경유레카</a>\t\t\t\t</div><div class=\"item slick-slide\" data-slick-index=\"3\" aria-hidden=\"true\" style=\"width: 250px;\" tabindex=\"-1\" role=\"option\" aria-describedby=\"slick-slide03\">\t\t\t\t\t<a href=\"https://www.hankyung.com/hankyungpro\" tabindex=\"-1\">회원전용</a>\t\t\t\t</div><div class=\"item slick-slide\" data-slick-index=\"4\" aria-hidden=\"true\" style=\"width: 250px;\" tabindex=\"-1\" role=\"option\" aria-describedby=\"slick-slide04\">\t\t\t\t\t<a href=\"https://www.hankyung.com/ranking\" tabindex=\"-1\">랭킹뉴스</a>\t\t\t\t</div><div class=\"item slick-slide\" data-slick-index=\"5\" aria-hidden=\"true\" style=\"width: 250px;\" tabindex=\"-1\" role=\"option\" aria-describedby=\"slick-slide05\">\t\t\t\t\t<a href=\"https://members.hankyung.com/reprint/main\" target=\"_blank\" rel=\"nofollow\" tabindex=\"-1\">한경 기사액자 만들기</a>\t\t\t\t</div><div class=\"item slick-slide\" data-slick-index=\"6\" aria-hidden=\"true\" style=\"width: 250px;\" tabindex=\"-1\" role=\"option\" aria-describedby=\"slick-slide06\">\t\t\t\t\t<a href=\"https://event.hankyung.com/nycconference2024\" target=\"_blank\" rel=\"nofollow\" tabindex=\"-1\">한경 글로벌마켓 콘퍼런스 NYC 2024</a>\t\t\t\t</div><div class=\"item slick-slide slick-cloned\" data-slick-index=\"7\" aria-hidden=\"true\" style=\"width: 250px;\" tabindex=\"-1\">\t\t\t\t\t<a href=\"https://www.hankyung.com/election2024\" tabindex=\"-1\">22대 총선</a>\t\t\t\t</div></div></div>\t\t\t\t\t\t\t\t\t\t\t\t\t\t\t\t\t\t\t\t\t\t\t\t\t\t\t\t\t\t\t\t\t\t\t\t\t\t\t\t\t\t\t\t\t</div>\n",
      "    <div class=\"promotion-nav-all\">\n",
      "        <ul>\n",
      "            \n",
      "        <li><a href=\"https://www.hankyung.com/election2024\">22대 총선</a></li><li><a href=\"https://www.arte.co.kr\" target=\"_blank\" rel=\"nofollow\">클래식과 미술의 모든 것 아르떼</a></li><li><a href=\"https://bit.ly/43pm8s1\" target=\"_blank\" rel=\"nofollow\">주식투자 플랫폼! 한경유레카</a></li><li><a href=\"https://www.hankyung.com/hankyungpro\">회원전용</a></li><li><a href=\"https://www.hankyung.com/ranking\">랭킹뉴스</a></li><li><a href=\"https://members.hankyung.com/reprint/main\" target=\"_blank\" rel=\"nofollow\">한경 기사액자 만들기</a></li><li><a href=\"https://event.hankyung.com/nycconference2024\" target=\"_blank\" rel=\"nofollow\">한경 글로벌마켓 콘퍼런스 NYC 2024</a></li></ul>\n",
      "    </div>\n",
      "</div>  \n",
      "\n",
      "<script type=\"text/javascript\" src=\"/resource/js/w/promotion.js?v=20230921_1\"></script>\n",
      "                    <ul class=\"service-list\">\n",
      "                        <li class=\"mn-hktv\">\n",
      "                            <a href=\"https://www.wowtv.co.kr/\" target=\"_blank\" rel=\"nofollow\" class=\"hit\">\n",
      "                                <span class=\"txt\">한경<span class=\"txt-en\">TV</span></span>\n",
      "                            </a>\n",
      "                            <span class=\"badge-live\"><span class=\"blind\">LIVE</span></span>\n",
      "                        </li>\n",
      "                        <li class=\"mn-newspaper\">\n",
      "                            <a href=\"https://plus.hankyung.com/\" target=\"_blank\" rel=\"nofollow\" class=\"hit paper_link\">\n",
      "                                <span class=\"txt\">신문보기</span>\n",
      "                            </a>\n",
      "                        </li>\n",
      "                        <li class=\"mn-wsj\">\n",
      "                            <a href=\"https://plus.hankyung.com/apps/wsj.index\" target=\"_blank\" rel=\"nofollow\" class=\"hit paper_link\">\n",
      "                                <span class=\"txt\"><span class=\"txt-en\">WSJ</span>보기</span>\n",
      "                            </a>\n",
      "                        </li>\n",
      "                        <li class=\"mn-ked\">\n",
      "                            <a href=\"https://www.kedglobal.com/\" target=\"_blank\" rel=\"nofollow\" class=\"hit txt\">외국어뉴스</a>\n",
      "                        </li>\n",
      "    \n",
      "                        <li class=\"mn-search search-area\">\n",
      "                            <button class=\"hit btn-open-search\"><span class=\"txt\">검색</span></button>\n",
      "                            <div class=\"layer-search\" style=\"\">\n",
      "                                <form action=\"https://search.hankyung.com/search/total\" method=\"get\" target=\"_blank\" rel=\"nofollow\">\n",
      "                                    <fieldset>\n",
      "                                        <legend>통합검색</legend>\n",
      "                                        <input type=\"text\" name=\"query\" placeholder=\"뉴스 · 종목 검색\" title=\"검색어 입력\" class=\"inp-txt\" autocomplete=\"off\">\n",
      "                                        <button type=\"submit\" class=\"btn-search\"><span class=\"blind\">검색</span></button>\n",
      "                                        <div class=\"search-auto-wrap\">\n",
      "                                            <ul class=\"autocomplete-result\"></ul>\n",
      "                                        </div>\n",
      "                                    </fieldset>\n",
      "                                </form>\n",
      "                            </div>\n",
      "    \n",
      "                            <!-- <div class=\"tooltip\">\n",
      "                                <em class=\"msg\">뉴스 · 종목 검색</em>\n",
      "                                <button type=\"button\" class=\"btn-close-tooltip\"><span class=\"blind\">툴팁 닫힘</span></button>\n",
      "                            </div> -->\n",
      "    \n",
      "                            <script src=\"https://hkstatic.hankyung.com/js/www/w/search.js?v=202403221017\"></script>\n",
      "                        </li>\n",
      "                    </ul>\n",
      "                </div>\n",
      "            </div>\n",
      "    \n",
      "            <div class=\"gnb-wrap\">\n",
      "                <div class=\"gnb-wrap-inner\">\n",
      "                    <a href=\"https://www.hankyung.com/sitemap\" class=\"btn-allmenu\">\n",
      "                        <span class=\"blind\">전체메뉴</span>\n",
      "                    </a>\n",
      "    \n",
      "                    <!-- 전체메뉴 레이어 -->\n",
      "                    <div id=\"allmenu\" class=\"layer-allmenu\">\n",
      "\t<div class=\"allmenu-util-wrap\">\n",
      "\t\t<div class=\"allmenu-util\">\n",
      "\t\t\t<div class=\"util-menus\">\n",
      "\t\t\t\t<div class=\"util-sns\">\n",
      "\t\t\t\t\t<a href=\"https://media.naver.com/channel/promotion.nhn?oid=015\" target=\"_blank\" rel=\"nofollow\" class=\"btn-sns-naver\"><span class=\"blind\">네이버뉴스 구독</span></a>\n",
      "\t\t\t\t\t<a href=\"https://www.youtube.com/channel/UCWskYkV4c4S9D__rsfOl2JA\" target=\"_blank\" rel=\"nofollow\" class=\"btn-sns-youtube\"><span class=\"blind\">한경글로벌마켓 유튜브</span></a>\n",
      "\t\t\t\t\t<a href=\"https://www.facebook.com/hankyungmedia\" target=\"_blank\" rel=\"nofollow\" class=\"btn-sns-facebook\"><span class=\"blind\">페이스북</span></a>\n",
      "\t\t\t\t\t<a href=\"https://twitter.com/hankyungmedia\" target=\"_blank\" rel=\"nofollow\" class=\"btn-sns-twitter twitter-x\"><span class=\"blind\">엑스</span></a>\n",
      "\t\t\t\t\t<a href=\"https://news.google.com/publications/CAAqBwgKMNP_3Aow1IrQAQ?hl=ko&amp;gl=KR&amp;ceid=KR:ko\" target=\"_blank\" class=\"btn-sns-google\"><span class=\"blind\">구글 뉴스</span></a>\n",
      "\t\t\t\t</div>\n",
      "\t\t\t</div>\n",
      "\t\t\t<ul class=\"util-links\">\n",
      "\t\t\t\t<li><a href=\"https://www.hankyung.com/realtime\" target=\"_blank\" rel=\"nofollow\">실시간 속보창</a></li>\n",
      "\t\t\t</ul>\n",
      "\t\t</div>\n",
      "\t</div>\n",
      "\t<div class=\"allmenu-inner\">\n",
      "\t\t<div class=\"sitemap-wrap\">\n",
      "\t\t\t<div class=\"service-group service-hankyung\">\n",
      "\t\t\t\t<div class=\"service-cate\">\n",
      "\t\t\t\t\t<strong class=\"sv-tit\">\n",
      "\t\t\t\t\t\t<a href=\"https://www.hankyung.com/all-news\" class=\"sv-tit-in\">뉴스</a>\n",
      "\t\t\t\t\t</strong>\n",
      "\t\t\t\t\t<ul class=\"sv-list\">\n",
      "\t\t\t\t\t\t<li><a href=\"https://www.hankyung.com/all-news\">전체뉴스<span class=\"icon-membersonly2\">회원전용</span></a></li>\n",
      "\t\t\t\t\t\t<li><a href=\"https://www.hankyung.com/economy\">경제</a></li>\n",
      "\t\t\t\t\t\t<li><a href=\"https://www.hankyung.com/finance\">증권</a></li> \n",
      "                        <li><a href=\"https://www.hankyung.com/realestate\">부동산</a></li>\n",
      "\t\t\t\t\t\t<li><a href=\"https://www.hankyung.com/financial-market\">금융</a></li>\n",
      "\t\t\t\t\t\t<li><a href=\"https://www.hankyung.com/industry\">산업</a></li>\n",
      "\t\t\t\t\t\t<li><a href=\"https://www.hankyung.com/politics\">정치</a></li>\n",
      "\t\t\t\t\t\t<li><a href=\"https://www.hankyung.com/society\">사회</a></li>\n",
      "\t\t\t\t\t\t<li><a href=\"https://www.hankyung.com/international\">국제</a></li>\n",
      "\t\t\t\t\t\t<li><a href=\"https://www.hankyung.com/it\">IT·과학</a></li>\n",
      "\t\t\t\t\t\t<li><a href=\"https://www.hankyung.com/life\">라이프</a></li>\n",
      "\t\t\t\t\t\t<li><a href=\"https://www.hankyung.com/arte\">아르떼</a></li>\n",
      "\t\t\t\t\t\t<li><a href=\"https://www.hankyung.com/golf\">골프</a></li>\n",
      "\t\t\t\t\t\t<li><a href=\"https://www.hankyung.com/sports\">스포츠</a></li>\n",
      "\t\t\t\t\t\t<li><a href=\"https://www.hankyung.com/entertainment\">연예</a></li>\n",
      "\t\t\t\t\t</ul>\n",
      "\t\t\t\t</div>\n",
      "\t\t\t\t<div class=\"service-cate\">\n",
      "\t\t\t\t\t<strong class=\"sv-tit\">\n",
      "\t\t\t\t\t\t<a href=\"https://www.hankyung.com/opinion\" class=\"sv-tit-in\">오피니언</a>\n",
      "\t\t\t\t\t</strong>\n",
      "\t\t\t\t\t<ul class=\"sv-list\">\n",
      "\t\t\t\t\t\t<li><a href=\"https://www.hankyung.com/opinion/0001\">사설</a></li>\n",
      "\t\t\t\t\t\t<li><a href=\"https://www.hankyung.com/opinion/0002\">칼럼</a></li>\n",
      "\t\t\t\t\t\t<li><a href=\"https://www.hankyung.com/opinion/0003\">기고</a></li>\n",
      "\t\t\t\t\t\t<li><a href=\"https://www.hankyung.com/opinion/0000\">일반</a></li>\n",
      "\t\t\t\t\t</ul>\n",
      "\t\t\t\t</div>\n",
      "\t\t\t\t<div class=\"service-cate\">\n",
      "\t\t\t\t\t<strong class=\"sv-tit\">\n",
      "\t\t\t\t\t\t<a href=\"https://www.hankyung.com/koreamarket\" class=\"sv-tit-in\">한경코리아마켓</a>\n",
      "\t\t\t\t\t</strong>\n",
      "\t\t\t\t\t<ul class=\"sv-list\">\n",
      "\t\t\t\t\t\t<li><a href=\"https://www.hankyung.com/hankyungpro?category=코리아마켓PRO\">코리아마켓<span class=\"txt-en\">PRO</span><span class=\"icon-membersonly2\">회원전용</span></a></li>\n",
      "\t\t\t\t\t\t<li><a href=\"https://www.hankyung.com/koreamarket/news/all-news\">뉴스</a></li>\n",
      "\t\t\t\t\t\t<li><a href=\"https://markets.hankyung.com\">시장지표</a></li>\n",
      "\t\t\t\t\t\t<li><a href=\"https://datacenter.hankyung.com/kedi\">한경지수 <span class=\"txt-en\">KEDI</span></a></li>\n",
      "\t\t\t\t\t\t<li><a href=\"https://markets.hankyung.com/marketmap/kospi\">마켓<span class=\"txt-en\">MAP</span></a></li>\n",
      "\t\t\t\t\t\t<li><a href=\"https://markets.hankyung.com/hankyung-equities\">한경 종목+</a></li>\n",
      "\t\t\t\t\t\t<li><a href=\"https://www.hankyung.com/video\">코리아마켓<span class=\"txt-en\">TV</span></a></li>\n",
      "\t\t\t\t\t\t<li><a href=\"https://markets.hankyung.com/consensus\">컨센서스<span class=\"icon-membersonly2\">회원전용</span></a></li>\n",
      "\t\t\t\t\t\t<li><a href=\"https://www.hankyung.com/koreamarket/consensus\">컨센서스<span class=\"badge-beta\">beta</span></a></li>\n",
      "\t\t\t\t\t\t<li><a href=\"https://starwars.hankyung.com\">한경 스타워즈</a></li>\n",
      "\t\t\t\t\t\t<li><a href=\"https://www.hankyung.com/koreamarket/moneyapp\">한경 머니</a></li>\n",
      "\t\t\t\t\t\t<li><a href=\"https://www.hankyung.com/koreamarket/coin\">암호화폐</a></li>\n",
      "\t\t\t\t\t\t<li><a href=\"https://eureka.hankyung.com/\" target=\"_blank\" rel=\"nofollow\">한경 유레카</a></li>\n",
      "\t\t\t\t\t</ul>\n",
      "\t\t\t\t</div>\n",
      "\t\t\t\t<div class=\"service-cate\">\n",
      "\t\t\t\t\t<strong class=\"sv-tit\">\n",
      "\t\t\t\t\t\t<a href=\"https://www.hankyung.com/globalmarket\" class=\"sv-tit-in\">한경글로벌마켓</a>\n",
      "\t\t\t\t\t</strong>\n",
      "\t\t\t\t\t<ul class=\"sv-list\">\n",
      "\t\t\t\t\t\t<li><a href=\"https://www.hankyung.com/hankyungpro?category=글로벌마켓PRO\">글로벌마켓PRO<span class=\"icon-membersonly2\">회원전용</span></a></li>\n",
      "\t\t\t\t\t\t<li><a href=\"https://www.hankyung.com/globalmarket/news-globalmarket\">뉴스</a></li>\n",
      "\t\t\t\t\t\t<li><a href=\"https://www.hankyung.com/globalmarket/news-usa-earning\">로보뉴스<span class=\"icon-membersonly2\">회원전용</span></a></li>\n",
      "\t\t\t\t\t\t<li><a href=\"https://www.youtube.com/@hkglobalmarket\" target=\"_blank\" rel=\"nofollow\">글로벌마켓TV</a></li>\n",
      "\t\t\t\t\t\t<li><a href=\"https://www.hankyung.com/globalmarket/usa-marketmap-sp500\">마켓MAP</a></li>\n",
      "\t\t\t\t\t\t<li><a href=\"https://www.hankyung.com/globalmarket/usa-marketcap-nyse\">미국종목시세</a></li>\n",
      "\t\t\t\t\t\t<li><a href=\"https://www.hankyung.com/globalmarket/usa-opinion\">투자의견</a></li>\n",
      "\t\t\t\t\t\t<li><a href=\"https://www.hankyung.com/globalmarket/usa-earning\">예상실적</a></li>\n",
      "\t\t\t\t\t</ul>\n",
      "\t\t\t\t</div>\n",
      "\t\t\t\t<div class=\"service-cate\">\n",
      "\t\t\t\t\t<strong class=\"sv-tit\">\n",
      "\t\t\t\t\t\t<a href=\"https://www.hankyung.com/realestate\" class=\"sv-tit-in\">집코노미</a>\n",
      "\t\t\t\t\t</strong>\n",
      "\t\t\t\t\t<!-- 2024.01.29 집코노미 영역 수정 -->\n",
      "\t\t\t\t\t<ul class=\"sv-list\">\n",
      "\t\t\t\t\t\t<li>\n",
      "\t\t\t\t\t\t\t<a href=\"https://www.hankyung.com/hankyungpro?category=집코노미PRO\" target=\"\">집코노미<span class=\"txt-en\">PRO</span><span class=\"icon-membersonly2\">회원전용</span></a>\t\t\t\t\t\t\t\t\n",
      "\t\t\t\t\t\t</li>\n",
      "\t\t\t\t\t\t<li>\n",
      "\t\t\t\t\t\t\t<a href=\"https://www.hankyung.com/realestate/news/realestate-all\" target=\"\">뉴스</a>\t\t\t\t\t\t\t\t\n",
      "\t\t\t\t\t\t</li>\n",
      "\t\t\t\t\t\t<li>\n",
      "\t\t\t\t\t\t\t<a href=\"https://www.hankyung.com/video\" target=\"\">집코노미<span class=\"txt-en\">TV</span></a>\t\t\t\t\t\t\t\t\n",
      "\t\t\t\t\t\t</li>\n",
      "\t\t\t\t\t\t<li>\n",
      "\t\t\t\t\t\t\t<a href=\"https://www.hankyung.com/realestate/schedule\" target=\"\">분양일정</a>\t\t\t\t\t\t\t\t\n",
      "\t\t\t\t\t\t</li>\n",
      "\t\t\t\t\t\t<li>\n",
      "\t\t\t\t\t\t\t<a href=\"https://www.hankyung.com/realestate/news/realestate-info\" target=\"\">매물마당</a>\t\t\t\t\t\t\t\t\n",
      "\t\t\t\t\t\t</li>\n",
      "\t\t\t\t\t\t<li>\n",
      "\t\t\t\t\t\t\t<a href=\"https://www.hankyung.com/thepen/lifeist/#realestate\" target=\"\">칼럼</a>\t\t\t\t\t\t\t\t\n",
      "\t\t\t\t\t\t</li>\n",
      "\t\t\t\t\t\t<li>\n",
      "\t\t\t\t\t\t\t<a href=\"https://www.hankyung.com/jipconomy-house\" target=\"\">주민센터<span class=\"icon-membersonly2\">회원전용</span></a>\t\t\t\t\t\t\t\t\n",
      "\t\t\t\t\t\t</li>\n",
      "\t\t\t\t\t\t<li>\n",
      "\t\t\t\t\t\t\t<a href=\"https://realestate.hankyung.com\" target=\"_blank\" rel=\"nofollow\">매물정보</a>\t\t\t\t\t\t\t\t\n",
      "\t\t\t\t\t\t</li>\n",
      "\t\t\t\t\t\t<li>\n",
      "\t\t\t\t\t\t\t<a href=\"https://globalrealty.hankyung.com/ \" target=\"_blank\" rel=\"nofollow\">글로벌부동산<span class=\"badge-beta\">beta</span></a>\t\t\t\t\t\t\t\t\n",
      "\t\t\t\t\t\t</li>\n",
      "\t\t\t\t\t\t<li>\n",
      "\t\t\t\t\t\t\t<a href=\"https://landvalueup.hankyung.com/\" target=\"_blank\" rel=\"nofollow\">부동산밸류업센터</a>\t\t\t\t\t\t\t\t\n",
      "\t\t\t\t\t\t</li>\n",
      "\t\t\t\t\t\t<li>\n",
      "\t\t\t\t\t\t\t<a href=\"https://realestate.hankyung.com/mmc\" target=\"_blank\" rel=\"nofollow\">매물관리센터</a>\t\t\t\t\t\t\t\t\n",
      "\t\t\t\t\t\t</li>\n",
      "\t\t\t\t\t</ul>\n",
      "\t\t\t\t\t<!-- // 2024.01.29 집코노미 영역 수정 -->\n",
      "\t\t\t\t</div>\n",
      "\t\t\t\t<div class=\"service-cate\">\n",
      "\t\t\t\t\t<strong class=\"sv-tit\">\n",
      "\t\t\t\t\t\t<span class=\"sv-tit-in\">프리미엄 콘텐츠</span>\n",
      "\t\t\t\t\t</strong>\n",
      "\t\t\t\t\t<div class=\"cate-group\">\n",
      "\t\t\t\t\t\t<ul class=\"sv-list\">\n",
      "\t\t\t\t\t\t\t<!-- <li><a href=\"https://www.hankyung.com/marketpro\">한경 마켓<span class=\"txt-en\">PRO</span><span class=\"icon-membersonly2\">회원전용</span></a></li> -->\n",
      "\t\t\t\t\t\t\t<li><a href=\"https://www.hankyung.com/hankyungpro\">회원전용<span class=\"icon-membersonly2\">회원전용</span></a></li>\n",
      "\t\t\t\t\t\t\t<li><a href=\"https://www.hankyung.com/choinsight\">한경 <span class=\"txt-en\">CHO Insight</span></a></li>\n",
      "\t\t\t\t\t\t\t<li><a href=\"https://www.hankyung.com/geeks\">한경 <span class=\"txt-en\">Geeks</span></a></li>\n",
      "\t\t\t\t\t\t\t<li><a href=\"https://www.hankyung.com/video\">한경 <span class=\"txt-en\">VIDEO</span></a></li>\n",
      "\t\t\t\t\t\t\t<li><a href=\"https://www.hankyung.com/newsletter\">뉴스레터</a></li>\n",
      "\t\t\t\t\t\t\t<li><a href=\"https://www.hankyung.com/thepen/moneyist\"><span class=\"txt-en\">The Moneyist</span></a></li>\n",
      "\t\t\t\t\t\t\t<li><a href=\"https://www.hankyung.com/thepen/lifeist/\"><span class=\"txt-en\">The Lifeist</span></a></li>\n",
      "\t\t\t\t\t\t\t<li><a href=\"https://www.hankyung.com/journalist-series\">기자 코너</a></li>\n",
      "\t\t\t\t\t\t\t<li><a href=\"https://www.hankyung.com/press-release\">보도자료</a></li>\n",
      "\t\t\t\t\t\t</ul>\n",
      "\t\t\t\t\t\t<ul class=\"sv-list premium-menu-list\">\n",
      "\t\t\t\t\t\t\t<li><a href=\"https://marketinsight.hankyung.com/\" target=\"_blank\" rel=\"nofollow\">마켓인사이트</a><span class=\"icon-premium-pay\">Premium</span></li>\n",
      "\t\t\t\t\t\t\t<li><a href=\"https://www.hankyung.com/bioinsight\">한경 <span class=\"txt-en\">BIO Insight</span></a><span class=\"icon-premium-pay\">Premium</span></li>\n",
      "\t\t\t\t\t\t\t<li><a href=\"https://www.hankyung.com/esg\">한경ESG</a><span class=\"icon-premium-pay\">Premium</span></li>\n",
      "\t\t\t\t\t\t\t<li><a href=\"https://plus.hankyung.com/?utm_source=dotcom&amp;utm_medium=footer&amp;utm_campaign=affiliate\" target=\"_blank\" rel=\"nofollow\">신문보기</a><span class=\"icon-premium-pay\">Premium</span></li>\n",
      "\t\t\t\t\t\t\t<li><a href=\"https://plus.hankyung.com/apps/wsj.index?utm_source=dotcom&amp;utm_medium=footer&amp;utm_campaign=affiliate\" target=\"_blank\"><span class=\"txt-en\">WSJ</span>보기</a><span class=\"icon-premium-pay\">Premium</span></li>\n",
      "\t\t\t\t\t\t\t<li><a href=\"https://www.kedglobal.com/\" target=\"_blank\" rel=\"nofollow\"><span class=\"txt-en\">KED Global</span></a><span class=\"icon-premium-pay\">Premium</span></li>\n",
      "\t\t\t\t\t\t\t<li><a href=\"https://members.hankyung.com?utm_source=dotcom&amp;utm_medium=footer&amp;utm_campaign=affiliate\" target=\"_blank\" rel=\"nofollow\">한경멤버스</a><span class=\"icon-premium-pay\">Premium</span></li>\n",
      "\t\t\t\t\t\t</ul>\n",
      "\t\t\t\t\t</div>\n",
      "\t\t\t\t</div>\n",
      "\t\t\t\t<div class=\"service-cate\">\n",
      "\t\t\t\t\t<strong class=\"sv-tit\">\n",
      "\t\t\t\t\t\t<a href=\"https://datacenter.hankyung.com/\" class=\"sv-tit-in\">데이터센터</a>\n",
      "\t\t\t\t\t</strong>\n",
      "\t\t\t\t\t<ul class=\"sv-list\">\n",
      "\t\t\t\t\t\t<li><a href=\"https://datacenter.hankyung.com/kedi\">한경지수 <span class=\"txt-en\">KEDI</span></a></li>\n",
      "\t\t\t\t\t\t<li><a href=\"https://datacenter.hankyung.com/major-indices\">해외지수</a></li>\n",
      "\t\t\t\t\t\t<li><a href=\"https://datacenter.hankyung.com/currencies\">외환</a></li>\n",
      "\t\t\t\t\t\t<li><a href=\"https://datacenter.hankyung.com/commodities\">원자재</a></li>\n",
      "\t\t\t\t\t\t<li><a href=\"https://datacenter.hankyung.com/indicators\">국내경제지표</a></li>\n",
      "\t\t\t\t\t\t<li><a href=\"https://datacenter.hankyung.com/rates-bonds\">채권·금리</a></li>\n",
      "\t\t\t\t\t\t<li><a href=\"https://datacenter.hankyung.com/economic-calendar\">경제 캘린더</a></li>\n",
      "\t\t\t\t\t\t<li><a href=\"https://datacenter.hankyung.com/equities-all\">전종목 시세</a></li>\n",
      "\t\t\t\t\t</ul>\n",
      "\t\t\t\t</div>\n",
      "\t\t\t\t<!-- 2023-09-14 기획시리즈 추가 -->\n",
      "\t\t\t\t<div class=\"service-cate\">\n",
      "\t\t\t\t\t<strong class=\"sv-tit\">\n",
      "\t\t\t\t\t\t<a href=\"https://www.hankyung.com/special-reports\" class=\"sv-tit-in\">스페셜 리포트</a>\n",
      "\t\t\t\t\t</strong>\n",
      "\t\t\t\t\t<ul class=\"sv-list special-menu-list\">\n",
      "\t\t\t\t\t<li><a href=\"https://www.hankyung.com/special-reports/20240227235420I\">'출산율 1.0' 지금이 골든타임</a></li><li><a href=\"https://www.hankyung.com/special-reports/20130402175128I\">한경 밀레니엄포럼</a></li><li><a href=\"https://www.hankyung.com/special-reports/20240218183642I\">의사 기득권 이대론 안된다</a></li><li><a href=\"https://www.hankyung.com/special-reports/20240225234932I\">세계 도시는 문화전쟁 중</a></li><li><a href=\"https://www.hankyung.com/special-reports/20240311101208I\">창간 60주년 '미국 NASA를 가다'</a></li></ul>\n",
      "\t\t\t\t</div>\n",
      "\t\t\t\t<!-- // 2023-09-14 기획시리즈 추가 -->\n",
      "\t\t\t</div>\n",
      "\n",
      "\t\t\t<!-- 2023-09-14 한경 서비스 위치 이동 -->\n",
      "\t\t\t<div class=\"service-group service-hankyung-etc\">\n",
      "\t\t\t\t<div class=\"service-cate\">\n",
      "\t\t\t\t\t<strong class=\"sv-tit\">\n",
      "\t\t\t\t\t\t<span class=\"sv-tit-in\">한경 서비스</span>\n",
      "\t\t\t\t\t</strong>\n",
      "\t\t\t\t\t<ul class=\"sv-list\">\n",
      "\t\t\t\t\t\t<li><a href=\"https://www.hankyung.com/ranking\">랭킹뉴스</a></li>\n",
      "\t\t\t\t\t\t<li><a href=\"https://www.hankyung.com/people\">인사·부고</a></li>\n",
      "\t\t\t\t\t\t<li><a href=\"https://www.hankyung.com/newslabit\">뉴스래빗</a></li>\n",
      "\t\t\t\t\t\t<li><a href=\"https://dic.hankyung.com\">한경용어사전</a></li>\n",
      "\t\t\t\t\t\t<li><a href=\"https://event.hankyung.com/\">행사</a></li>\n",
      "\t\t\t\t\t\t<li><a href=\"https://www.hankyung.com/poll\"><span class=\"txt-en\">POLL</span></a></li>\n",
      "\t\t\t\t\t\t<li><a href=\"https://fortune.hankyung.com/\" target=\"_blank\">한경 운세</a></li>\n",
      "\t\t\t\t\t\t<li><a href=\"https://hk-gift.interparkb2b.co.kr/\" target=\"_blank\" rel=\"nofollow\">한경스토어</a></li> \n",
      "\t\t\t\t\t\t<li><a href=\"https://hk-rental.hankyung.com\" target=\"_blank\" rel=\"nofollow\">한경렌탈</a></li> \n",
      "\t\t\t\t\t</ul>\n",
      "\t\t\t\t</div>\n",
      "\t\t\t</div>\n",
      "\n",
      "\t\t\t<div class=\"service-group service-media\">\n",
      "\t\t\t\t<div class=\"service-cate\">\n",
      "\t\t\t\t\t<strong class=\"sv-tit\">한경 미디어그룹</strong>\n",
      "\t\t\t\t\t<ul class=\"sv-list\">\n",
      "\t\t\t\t\t\t<li><a href=\"https://www.wowtv.co.kr/\" target=\"_blank\" rel=\"nofollow\">한국경제<span class=\"txt-en\">TV</span></a></li>\n",
      "\t\t\t\t\t\t<li><a href=\"https://magazine.hankyung.com/\" target=\"_blank\" rel=\"nofollow\">한국경제매거진</a></li>\n",
      "\t\t\t\t\t\t<li><a href=\"https://bp.hankyung.com/\" target=\"_blank\" rel=\"nofollow\"><span class=\"txt-en\">BOOK</span></a></li>\n",
      "\t\t\t\t\t\t<li><a href=\"https://ac.hankyung.com/\" target=\"_blank\" rel=\"nofollow\">한경아카데미</a></li>\n",
      "\t\t\t\t\t\t<li><a href=\"https://tenasia.hankyung.com/\" target=\"_blank\" rel=\"nofollow\">텐아시아</a></li>\n",
      "\t\t\t\t\t\t<li><a href=\"https://sgsg.hankyung.com/\" target=\"_blank\" rel=\"nofollow\">생글생글</a></li>\n",
      "\t\t\t\t\t\t<li><a href=\"https://jrsgsg.hankyung.com/\" target=\"_blank\" rel=\"nofollow\">주니어 생글생글</a></li>\n",
      "\t\t\t\t\t\t<li><a href=\"https://www.tesat.or.kr/\" target=\"_blank\" rel=\"nofollow\"><span class=\"txt-en\">TESAT</span></a></li>\n",
      "\t\t\t\t\t\t<li><a href=\"https://www.29sfilm.com/\" target=\"_blank\" rel=\"nofollow\">29초영화제</a></li>\n",
      "\t\t\t\t\t\t<li><a href=\"https://itcampus.hankyung.com/\" target=\"_blank\" rel=\"nofollow\">교육센터</a></li>\n",
      "\t\t\t\t\t\t<li><a href=\"https://bloomingbit.io\" target=\"_blank\" rel=\"nofollow\">블루밍비트</a></li>\n",
      "\t\t\t\t\t</ul>\n",
      "\t\t\t\t</div>\n",
      "\t\t\t\t<div class=\"service-cate\">\n",
      "\t\t\t\t\t<strong class=\"sv-tit\">미디어 네트워크</strong>\n",
      "\t\t\t\t\t<ul class=\"sv-list\">\n",
      "\t\t\t\t\t\t<li><a href=\"http://autotimes.hankyung.com/\" target=\"_blank\" rel=\"nofollow\">오토타임즈</a></li>\n",
      "\t\t\t\t\t\t<li><a href=\"https://kizmom.hankyung.com/\" target=\"_blank\" rel=\"nofollow\">키즈맘</a></li>\n",
      "\t\t\t\t\t\t<li><a href=\"https://hankyungleaders.com/hankyungleaders/html/main/\" target=\"_blank\" rel=\"nofollow\">한경기업경영지원본부</a></li>\n",
      "\t\t\t\t\t\t<li><a href=\"https://www.hankyung.com/tag/PR-Newswire\"><span class=\"txt-en\">PR Newswire</span></a></li>\n",
      "\t\t\t\t\t</ul>\n",
      "\t\t\t\t</div>\n",
      "\t\t\t</div>\n",
      "\t\t</div>\n",
      "\t\t<button class=\"btn-close-allmenu\"><span class=\"blind\">전체메뉴 닫기</span></button>\n",
      "\t</div>\n",
      "</div>\n",
      "\n",
      "<script>\n",
      "// 전체메뉴 열기, 닫기\n",
      "/*\n",
      "$('.btn-allmenu, .btn-close-allmenu').on(\"click\", function(e){\n",
      "\te.preventDefault();\n",
      "\t$('.layer-allmenu').toggleClass('active');\n",
      "\t$(\"body\").toggleClass(\"open-allmenu\");\n",
      "});\n",
      "*/\n",
      "\n",
      "$(function(){\n",
      "\t// 전체메뉴 열기, 닫기\n",
      "\t$('.btn-allmenu, .btn-close-allmenu').on(\"click\", function(e){\n",
      "\t\te.preventDefault();\n",
      "\t\t$('.layer-allmenu').toggleClass('active');\n",
      "\t\t$(\"body\").toggleClass(\"open-allmenu\");\n",
      "\t});\n",
      "\n",
      "\t// 스크롤 메뉴바\n",
      "\tif($('.header-main').length > 0 && $('.view-top-wrap').length == 1){\n",
      "\t\tvar headlineTop = $('.view-top-wrap').offset().top;\n",
      "\t\tvar headlineH = $('.view-top-wrap').outerHeight();\n",
      "\t\t$(window).scroll(function() {\n",
      "\t\t\tvar winScr = $(this).scrollTop();\n",
      "\t\t\tif (winScr > headlineTop + headlineH) {\n",
      "\t\t\t\t$('html').addClass('isSticky');\n",
      "\t\t\t} else {\n",
      "\t\t\t\t$('html').removeClass('isSticky');\n",
      "\t\t\t}\n",
      "\t\t});\n",
      "\t}\n",
      "\telse if($('.header-main').length > 0 && $('.article-contents > .headline').length == 1){\n",
      "\t\tvar headlineTop = $('.article-contents > .headline').offset().top;\n",
      "\t\tvar headlineH = $('.article-contents > .headline').outerHeight();\n",
      "\t\t$(window).scroll(function() {\n",
      "\t\t\tvar winScr = $(this).scrollTop();\n",
      "\t\t\tif (winScr > headlineTop + headlineH) {\n",
      "\t\t\t\t$('html').addClass('isSticky');\n",
      "\t\t\t} else {\n",
      "\t\t\t\t$('html').removeClass('isSticky');\n",
      "\t\t\t}\n",
      "\t\t});\n",
      "\t}\n",
      "\telse if($('.header-main').length > 0){\n",
      "\t\tvar mainGnbTop = $('.header-main').offset().top;\n",
      "\t\tvar mainGnbH = $('.header-main').outerHeight();\n",
      "\t\t$(window).scroll(function() {\n",
      "\t\t\tvar winScr = $(this).scrollTop();\n",
      "\t\t\tif (winScr > mainGnbTop + mainGnbH) {\n",
      "\t\t\t\t$('html').addClass('isSticky');\n",
      "\t\t\t} else {\n",
      "\t\t\t\t$('html').removeClass('isSticky');\n",
      "\t\t\t}\n",
      "\t\t});\n",
      "\t}\n",
      "\n",
      "\t// 2023-09-14 기획시리즈 최신자 5개 데이터 호출\n",
      "\tlet currentDomain = window.location.hostname;\n",
      "\tlet specialReportUrl = 'https://www.hankyung.com/ext-api/special-reports';\n",
      "\tif(currentDomain.indexOf('stg-') != -1){\n",
      "\t\tspecialReportUrl = 'https://stg-www.hankyung.com/ext-api/special-reports';\n",
      "\t}\n",
      "\t$.ajax({\n",
      "\t\turl: specialReportUrl\n",
      "\t\t, success: function(data){\n",
      "\t\t\t$.each(data, function(idx, val){\n",
      "\t\t\t\t// 전체 GNB 메뉴\n",
      "\t\t\t\t$(\"#allmenu ul.special-menu-list\").append('<li><a href=\"'+val.url+'\">'+val.title+'</a></li>');\n",
      "\n",
      "\t\t\t\t// 메인, 기사뷰 상단 메뉴\n",
      "\t\t\t\tif($(\".gnb .gnb-dropdown-special-reports\").length > 0){\n",
      "\t\t\t\t\t$(\".gnb .gnb-dropdown-special-reports ul\").append('<li><a href=\"'+val.url+'\">'+val.title+'</a></li>');\n",
      "\t\t\t\t}\n",
      "\t\t\t});\n",
      "\t\t}\n",
      "\t\t, error: function(xhr, status, responseTxt){\n",
      "\t\t\tconsole.log(xhr);\n",
      "\t\t}\n",
      "\t});\n",
      "});\n",
      "// 2023-01-06 서비스 점검 공지\n",
      "if(getTodayDate() >= '2023-01-16 09' && getTodayDate() < '2023-01-29 00'){\n",
      "\t$(\"#allmenu .service-media\").after('\\\n",
      "\t\t<div class=\"service-notice\">\\\n",
      "\t\t\t<p><a href=\"https://event.hankyung.com/notice/298/?page=1&amp;category=all\" class=\"noti-msg\">1월 29일(日) 시스템 점검에 따른 서비스 일시 중단 안내</a></p>\\\n",
      "\t\t</div>\\\n",
      "\t');\n",
      "}\n",
      "\n",
      "function getTodayDate(){\n",
      "\tconst today = new Date();\n",
      "\n",
      "\tlet Year = today.getFullYear()\n",
      "\t, month = today.getMonth() + 1\n",
      "\t, day = today.getDate()\n",
      "\t, hour = today.getHours()\n",
      "\n",
      "\tif(month < 10) month = '0'+month;\n",
      "\tif(day < 10) day = '0'+day;\n",
      "\tif(hour < 10) hour = '0'+hour;\n",
      "\n",
      "\treturn Year+'-'+month+'-'+day+' '+hour;\n",
      "}\n",
      "</script>\n",
      "\n",
      "    \n",
      "                    <div class=\"gnb\">\n",
      "                        <ul>\n",
      "    <li class=\"gnb-dropdown\" tabindex=\"0\">\n",
      "        <a href=\"https://www.hankyung.com/all-news\" class=\"gnb-dropdown-toggle\">뉴스</a>\n",
      "        <div class=\"gnb-dropdown-menu\">\n",
      "            <ul>\n",
      "                <li><a href=\"https://www.hankyung.com/all-news\">전체뉴스<span class=\"icon-membersonly2\">회원전용</span></a></li>\n",
      "                <li><a href=\"https://www.hankyung.com/economy\">경제</a></li>\n",
      "                <li><a href=\"https://www.hankyung.com/finance\">증권</a></li>\n",
      "                <li><a href=\"https://www.hankyung.com/realestate\">부동산</a></li>\n",
      "                <li><a href=\"https://www.hankyung.com/financial-market\">금융</a></li>\n",
      "                <li><a href=\"https://www.hankyung.com/industry\">산업</a></li>\n",
      "                <li><a href=\"https://www.hankyung.com/politics\">정치</a></li>\n",
      "                <li><a href=\"https://www.hankyung.com/society\">사회</a></li>\n",
      "                <li><a href=\"https://www.hankyung.com/international\">국제</a></li>\n",
      "                <li><a href=\"https://www.hankyung.com/it\">IT·과학</a></li>\n",
      "                <li><a href=\"https://www.hankyung.com/life\">라이프</a></li>\n",
      "                <li><a href=\"https://www.hankyung.com/arte\">아르떼</a></li>\n",
      "                <li><a href=\"https://www.hankyung.com/golf\">골프</a></li>\n",
      "                <li><a href=\"https://www.hankyung.com/sports\">스포츠</a></li>\n",
      "                <li><a href=\"https://www.hankyung.com/entertainment\">연예</a></li>\n",
      "            </ul>\n",
      "        </div>\n",
      "    </li>\n",
      "    <li class=\"gnb-dropdown\" tabindex=\"0\">\n",
      "        <a href=\"https://www.hankyung.com/opinion\" class=\"gnb-dropdown-toggle\">오피니언</a>\n",
      "        <div class=\"gnb-dropdown-menu\">\n",
      "            <ul>\n",
      "                <li><a href=\"https://www.hankyung.com/opinion/0001\">사설</a></li>\n",
      "                <li><a href=\"https://www.hankyung.com/opinion/0002\">칼럼</a></li>\n",
      "                <li><a href=\"https://www.hankyung.com/opinion/0003\">기고</a></li>\n",
      "                <li><a href=\"https://www.hankyung.com/opinion/0000\">일반</a></li>\n",
      "            </ul>\n",
      "        </div>\n",
      "    </li>\n",
      "    <li class=\"gnb-dropdown\" tabindex=\"0\">\n",
      "        <a href=\"https://www.hankyung.com/koreamarket\" class=\"logo__koreamarket gnb-dropdown-toggle\"><span class=\"blind\">한경코리아마켓</span></a>\n",
      "        <div class=\"gnb-dropdown-menu\">\n",
      "            <ul>\n",
      "                <li><a href=\"https://markets.hankyung.com/marketmap/kospi\">마켓<span class=\"txt-en\">MAP</span></a></li> \n",
      "                <li><a href=\"https://www.hankyung.com/hankyungpro?category=코리아마켓PRO\">코리아마켓<span class=\"txt-en\">PRO</span><span class=\"icon-membersonly2\">회원전용</span></a></li>\n",
      "                <li><a href=\"https://www.hankyung.com/koreamarket/news/all-news\">뉴스</a></li>\n",
      "                <li><a href=\"https://markets.hankyung.com\">시장지표</a></li>\n",
      "                <li><a href=\"https://datacenter.hankyung.com/kedi\">한경지수 <span class=\"txt-en\">KEDI</span></a></li>\n",
      "                <li><a href=\"https://markets.hankyung.com/hankyung-equities\">한경 종목+</a></li>\n",
      "                <li><a href=\"https://www.hankyung.com/video\">코리아마켓<span class=\"txt-en\">TV</span></a></li>\n",
      "                <li><a href=\"https://markets.hankyung.com/consensus\">컨센서스<span class=\"icon-membersonly2\">회원전용</span></a></li> \n",
      "                <li><a href=\"https://www.hankyung.com/koreamarket/consensus\">컨센서스<span class=\"badge-beta\">beta</span></a></li>\n",
      "                <li><a href=\"https://starwars.hankyung.com\">한경 스타워즈</a></li>\n",
      "                <li><a href=\"https://www.hankyung.com/koreamarket/moneyapp\">머니</a></li>\n",
      "                <li><a href=\"https://www.hankyung.com/koreamarket/coin\">암호화폐</a></li>\n",
      "                <li><a href=\"https://eureka.hankyung.com/\" target=\"_blank\" rel=\"nofollow\">한경 유레카</a></li>\n",
      "            </ul>\n",
      "        </div>\n",
      "    </li>\n",
      "    <li class=\"gnb-dropdown\">\n",
      "        <a href=\"https://www.hankyung.com/globalmarket\" class=\"logo__globalmarket gnb-dropdown-toggle\"><span class=\"blind\">한경글로벌마켓</span></a>\n",
      "        <div class=\"gnb-dropdown-menu gnb-dropdown-menu-group\">\n",
      "            <ul>\n",
      "                <li>\n",
      "                    <a href=\"https://www.hankyung.com/globalmarket/news-globalmarket\">글로벌마켓 전체뉴스</a>\n",
      "                </li>\n",
      "                <li>\n",
      "                    <a href=\"https://www.hankyung.com/globalmarket/news-wallstreet-now\">김현석의 월스트리트나우<span class=\"icon-membersonly2\">회원전용</span></a>\n",
      "                </li>\n",
      "                <li>\n",
      "                    <a href=\"https://www.hankyung.com/globalmarket/news-market\">마켓 트렌드</a>\n",
      "                </li>\n",
      "                <li>\n",
      "                    <a href=\"https://www.hankyung.com/globalmarket/news-stock-focus\">종목 포커스</a>\n",
      "                </li>\n",
      "                <li>\n",
      "                    <a href=\"https://www.hankyung.com/globalmarket/news-global-stock\">글로벌 종목탐구<span class=\"icon-membersonly2\">회원전용</span></a>\n",
      "                </li>\n",
      "                <li>\n",
      "                    <a href=\"https://www.hankyung.com/globalmarket/news-portfolio\">대가들의 포트폴리오</a>\n",
      "                </li>\n",
      "                <li>\n",
      "                    <a href=\"https://www.hankyung.com/globalmarket/news-global-etf\">글로벌 <span class=\"txt-en\">ETF</span> 트렌드</a>\n",
      "                </li>                                                \n",
      "                <li>\n",
      "                    <a href=\"https://www.hankyung.com/globalmarket/news-global-macro\">글로벌 매크로</a>\n",
      "                </li>\n",
      "                <li>\n",
      "                    <a href=\"https://www.hankyung.com/globalmarket/news-global-issue\">글로벌 이슈</a>\n",
      "                </li>\n",
      "                <li>\n",
      "                    <a href=\"https://www.hankyung.com/globalmarket/news-global-report\">글로벌 리포트</a>\n",
      "                </li>\n",
      "                <li>\n",
      "                    <a href=\"https://www.hankyung.com/globalmarket/news-fed\"><span class=\"txt-en\">Fed</span> 워치</a>\n",
      "                </li>\n",
      "                <li>\n",
      "                    <a href=\"https://www.hankyung.com/globalmarket/news-wti\">오늘의 유가<span class=\"icon-membersonly2\">회원전용</span></a>\n",
      "                </li>\n",
      "                <li>\n",
      "                    <a href=\"https://www.hankyung.com/globalmarket/news-commodities-indices\">원자재 포커스<span class=\"icon-membersonly2\">회원전용</span></a>\n",
      "                </li>\n",
      "                <li>\n",
      "                    <a href=\"https://www.hankyung.com/globalmarket/news-forex\">외환</a>\n",
      "                </li>\n",
      "                <li>\n",
      "                    <a href=\"https://www.hankyung.com/globalmarket/news-bond\">채권</a>\n",
      "                </li>\n",
      "            </ul>\n",
      "            <ul class=\"sv-list\">\n",
      "                <li><a href=\"https://www.hankyung.com/hankyungpro?category=글로벌마켓PRO\">글로벌마켓<span class=\"txt-en\">PRO</span><span class=\"icon-membersonly2\">회원전용</span></a></li>\n",
      "                <li><a href=\"https://www.hankyung.com/globalmarket/news-usa-earning\">로보뉴스<span class=\"icon-membersonly2\">회원전용</span></a></li>\n",
      "                <li><a href=\"https://www.youtube.com/@hkglobalmarket\" target=\"_blank\" rel=\"nofollow\">글로벌마켓<span class=\"txt-en\">TV</span></a></li>\n",
      "                <li><a href=\"https://www.hankyung.com/globalmarket/usa-marketmap-sp500\">마켓<span class=\"txt-en\">MAP</span></a></li>\n",
      "                <li><a href=\"https://www.hankyung.com/globalmarket/usa-marketcap-nyse\">미국종목시세</a></li>\n",
      "                <li><a href=\"https://www.hankyung.com/globalmarket/usa-opinion\">투자의견</a></li>\n",
      "                <li><a href=\"https://www.hankyung.com/globalmarket/usa-earning\">예상실적</a></li>\n",
      "            </ul>\n",
      "        </div>\n",
      "    </li>\n",
      "    <li class=\"gnb-dropdown\" tabindex=\"0\">\n",
      "        <a href=\"https://www.hankyung.com/realestate\" class=\"logo__jipconomy gnb-dropdown-toggle\"><span class=\"blind\">집코노미</span></a>\n",
      "        <div class=\"gnb-dropdown-menu\">\n",
      "            <!-- 2024.01.29 집코노미 영역 수정 -->\n",
      "            <ul>\n",
      "                <li>\n",
      "                    <a href=\"https://www.hankyung.com/hankyungpro?category=집코노미PRO\" target=\"\">집코노미<span class=\"txt-en\">PRO</span><span class=\"icon-membersonly2\">회원전용</span></a>\t\t\t\t\t\t\t\t\n",
      "                </li>\n",
      "                <li>\n",
      "                    <a href=\"https://www.hankyung.com/realestate/news/realestate-all\" target=\"\">뉴스</a>\t\t\t\t\t\t\t\t\n",
      "                </li>\n",
      "                <li>\n",
      "                    <a href=\"https://www.hankyung.com/video\" target=\"\">집코노미<span class=\"txt-en\">TV</span></a>\t\t\t\t\t\t\t\t\n",
      "                </li>\n",
      "                <li>\n",
      "                    <a href=\"https://www.hankyung.com/realestate/schedule\" target=\"\">분양일정</a>\t\t\t\t\t\t\t\t\n",
      "                </li>\n",
      "                <li>\n",
      "                    <a href=\"https://www.hankyung.com/realestate/news/realestate-info\" target=\"\">매물마당</a>\t\t\t\t\t\t\t\t\n",
      "                </li>\n",
      "                <li>\n",
      "                    <a href=\"https://www.hankyung.com/thepen/lifeist/#realestate\" target=\"\">칼럼</a>\t\t\t\t\t\t\t\t\n",
      "                </li>\n",
      "                <li>\n",
      "                    <a href=\"https://www.hankyung.com/jipconomy-house\" target=\"\">주민센터<span class=\"icon-membersonly2\">회원전용</span></a>\t\t\t\t\t\t\t\t\n",
      "                </li>\n",
      "                <li>\n",
      "                    <a href=\"https://realestate.hankyung.com\" target=\"_blank\" rel=\"nofollow\">매물정보</a>\t\t\t\t\t\t\t\t\n",
      "                </li>\n",
      "                <li>\n",
      "                    <a href=\"https://globalrealty.hankyung.com/ \" target=\"_blank\" rel=\"nofollow\">글로벌부동산<span class=\"badge-beta\">beta</span></a>\t\t\t\t\t\t\t\t\n",
      "                </li>\n",
      "                <li>\n",
      "                    <a href=\"https://landvalueup.hankyung.com/\" target=\"_blank\" rel=\"nofollow\">부동산밸류업센터</a>\t\t\t\t\t\t\t\t\n",
      "                </li>\n",
      "                <li>\n",
      "                    <a href=\"https://realestate.hankyung.com/mmc\" target=\"_blank\" rel=\"nofollow\">매물관리센터</a>\t\t\t\t\t\t\t\t\n",
      "                </li>\n",
      "            </ul>\n",
      "            <!-- // 2024.01.29 집코노미 영역 수정 -->\n",
      "        </div>\n",
      "    </li>\n",
      "    <li class=\"gnb-dropdown\" tabindex=\"0\">\n",
      "        <span class=\"gnb-dropdown-toggle\">프리미엄 콘텐츠</span>\n",
      "        <div class=\"gnb-dropdown-menu gnb-dropdown-menu-group premium-menu-group\">\n",
      "            <ul>\n",
      "                <li><a href=\"https://www.hankyung.com/hankyungpro\">회원전용<span class=\"icon-membersonly2\">회원전용</span></a></li>\n",
      "                <li><a href=\"https://www.hankyung.com/choinsight\">한경 <span class=\"txt-en\">CHO Insight</span></a></li>\n",
      "                <li><a href=\"https://www.hankyung.com/geeks\">한경 <span class=\"txt-en\">Geeks</span></a></li>\n",
      "                <li><a href=\"https://www.hankyung.com/video\">한경 <span class=\"txt-en\">VIDEO</span></a></li>\n",
      "                <li><a href=\"https://www.hankyung.com/newsletter\">뉴스레터</a></li>\n",
      "                <li><a href=\"https://www.hankyung.com/thepen/moneyist\"><span class=\"txt-en\">The Moneyist</span></a></li>\n",
      "                <li><a href=\"https://www.hankyung.com/thepen/lifeist/\"><span class=\"txt-en\">The Lifeist</span></a></li>\n",
      "                <li><a href=\"https://www.hankyung.com/journalist-series\">기자 코너</a></li>\n",
      "                <li><a href=\"https://www.hankyung.com/press-release\">보도자료</a></li>\n",
      "            </ul>\n",
      "            <ul class=\"premium-menu-list\">\n",
      "                <li>\n",
      "                    <a href=\"http://marketinsight.hankyung.com/\" target=\"_blank\" rel=\"nofollow\">마켓인사이트</a>\n",
      "                    <span class=\"icon-premium-pay\">Premium</span>\n",
      "                </li>\n",
      "                <li>\n",
      "                    <a href=\"https://www.hankyung.com/bioinsight\">한경 <span class=\"txt-en\">BIO Insight</span></a>\n",
      "                    <span class=\"icon-premium-pay\">Premium</span>\n",
      "                </li>\n",
      "                <li>\n",
      "                    <a href=\"https://www.hankyung.com/esg\">한경ESG</a>\n",
      "                    <span class=\"icon-premium-pay\">Premium</span>\n",
      "                </li>\n",
      "                <li>\n",
      "                    <a href=\"https://plus.hankyung.com/apps/newspaper.view\" target=\"_blank\" rel=\"nofollow\">신문보기</a>\n",
      "                    <span class=\"icon-premium-pay\">Premium</span>\n",
      "                </li>\n",
      "                <li>\n",
      "                    <a href=\"https://plus.hankyung.com/apps/wsj.index\" target=\"_blank\" rel=\"nofollow\"><span class=\"txt-en\">WSJ</span>보기</a>\n",
      "                    <span class=\"icon-premium-pay\">Premium</span>\n",
      "                </li>\n",
      "                <li>\n",
      "                    <a href=\"https://www.kedglobal.com/\" target=\"_blank\" rel=\"nofollow\"><span class=\"txt-en\">KED Global</span></a>\n",
      "                    <span class=\"icon-premium-pay\">Premium</span>\n",
      "                </li>\n",
      "                <li>\n",
      "                    <a href=\"https://members.hankyung.com/\" target=\"_blank\" rel=\"nofollow\">한경멤버스</a>\n",
      "                    <span class=\"icon-premium-pay\">Premium</span>\n",
      "                </li>\n",
      "            </ul>\n",
      "        </div>\n",
      "    </li>\n",
      "    <li class=\"gnb-dropdown\" tabindex=\"0\">\n",
      "        <a href=\"https://datacenter.hankyung.com/\" class=\"gnb-dropdown-toggle\">데이터센터</a>\n",
      "        <div class=\"gnb-dropdown-menu\">\n",
      "            <ul>\n",
      "                <li><a href=\"https://datacenter.hankyung.com/kedi\">한경지수 <span class=\"txt-en\">KEDI</span></a></li>\n",
      "                <li><a href=\"https://datacenter.hankyung.com/major-indices\">해외지수</a></li>\n",
      "                <li><a href=\"https://datacenter.hankyung.com/currencies\">외환</a></li>\n",
      "                <li><a href=\"https://datacenter.hankyung.com/commodities\">원자재</a></li>\n",
      "                <li><a href=\"https://datacenter.hankyung.com/indicators\">국내경제지표</a></li>\n",
      "                <li><a href=\"https://datacenter.hankyung.com/rates-bonds\">채권·금리</a></li>\n",
      "                <li><a href=\"https://datacenter.hankyung.com/economic-calendar\">경제 캘린더</a></li>\n",
      "                <li><a href=\"https://datacenter.hankyung.com/equities-all\">전종목 시세</a></li>\n",
      "            </ul>\n",
      "        </div>\n",
      "    </li>\n",
      "    <!-- 2023-09-14 기획시리즈 추가 -->\n",
      "    <li class=\"gnb-dropdown\" tabindex=\"0\">\n",
      "        <a href=\"https://www.hankyung.com/special-reports\" class=\"gnb-dropdown-toggle\">스페셜 리포트</a>\n",
      "        <div class=\"gnb-dropdown-menu gnb-dropdown-special-reports\">\n",
      "            <ul>\n",
      "                \n",
      "            <li><a href=\"https://www.hankyung.com/special-reports/20240227235420I\">'출산율 1.0' 지금이 골든타임</a></li><li><a href=\"https://www.hankyung.com/special-reports/20130402175128I\">한경 밀레니엄포럼</a></li><li><a href=\"https://www.hankyung.com/special-reports/20240218183642I\">의사 기득권 이대론 안된다</a></li><li><a href=\"https://www.hankyung.com/special-reports/20240225234932I\">세계 도시는 문화전쟁 중</a></li><li><a href=\"https://www.hankyung.com/special-reports/20240311101208I\">창간 60주년 '미국 NASA를 가다'</a></li></ul>\n",
      "        </div>\n",
      "    </li>\n",
      "    <!-- // 2023-09-14 기획시리즈 추가 -->\n",
      "</ul>                    </div>\n",
      "                </div>\n",
      "            </div>\n",
      "\n",
      "            <div class=\"scroll-indicator\">\n",
      "                <div style=\"width:30%\"></div>\n",
      "            </div>\n",
      "        </header>\n",
      "\n",
      "\n",
      "\t\t<div class=\"ad-top ad_area\" style=\"height: 250px;\"><div class=\"ad-box\"><div id=\"div-gpt-ad-1658815907249-0\" style=\"min-width:728px; min-height:90px;\" data-google-query-id=\"CMPlg97BioUDFQqI6QUdPSQBbg\"><div id=\"google_ads_iframe_/3448900/hdvT01_leaderboardn_0__container__\" style=\"border: 0pt none; margin: auto; text-align: center; width: 970px; height: 250px;\"><iframe frameborder=\"0\" src=\"https://c90b1c83604ed271c402649acf7ab830.safeframe.googlesyndication.com/safeframe/1-0-40/html/container.html\" id=\"google_ads_iframe_/3448900/hdvT01_leaderboardn_0\" title=\"3rd party ad content\" name=\"\" scrolling=\"no\" marginwidth=\"0\" marginheight=\"0\" width=\"970\" height=\"250\" data-is-safeframe=\"true\" sandbox=\"allow-forms allow-popups allow-popups-to-escape-sandbox allow-same-origin allow-scripts allow-top-navigation-by-user-activation\" aria-label=\"Advertisement\" tabindex=\"0\" data-google-container-id=\"1\" style=\"border: 0px; vertical-align: bottom;\" data-load-complete=\"true\"></iframe></div></div></div></div>\n",
      "\n",
      "        <!-- container -->\n",
      "\t\t<div id=\"container\">\n",
      "            <div class=\"article-wrap\">\n",
      "                <div class=\"article-container v2\">\n",
      "                    <article class=\"article-contents\">\n",
      "\n",
      "                        <nav class=\"breadcrumb\">\n",
      "                            <a href=\"https://www.hankyung.com/arte\">아르떼</a>\n",
      "                        </nav>\n",
      "                        \n",
      "                        <h1 class=\"headline\">\n",
      "\t\t\t\t\t\t\t창 밖을 보는 하녀…캔버스 밖 '벨 에포크'는 아름답지 않았다\n",
      "                        </h1>\n",
      "\n",
      "                        <div class=\"content \">\n",
      "                            <div class=\"article\">\n",
      "                                <div class=\"article-byline-wrap\">\n",
      "                                    <!-- \n",
      " \n",
      "                                    -->\n",
      "\n",
      "\t\t\t\t\t\t\t\t</div>\n",
      "                                <div class=\"article-timestamp\">\n",
      "                                    <div class=\"datetime\">\n",
      "                                        <span class=\"item\">\n",
      "                                            입력<span class=\"txt-date\">2024.02.22 17:12</span>\n",
      "                                        </span>\n",
      "                                        <span class=\"item\">\n",
      "                                            수정<span class=\"txt-date\">2024.02.23 02:45</span>\n",
      "                                        </span>\n",
      "                                        <span class=\"item\">\n",
      "                                            지면<span class=\"txt-en\">A21</span>\n",
      "                                        </span>\n",
      "                                    </div>\n",
      "                                    <div class=\"article-tool\">\n",
      "                                        <button type=\"button\" class=\"btn-font\">\n",
      "                                            <svg x=\"0\" y=\"0\" width=\"31\" height=\"20\" viewBox=\"0 0 27 17\">\n",
      "                                                <path class=\"svg-icon\" d=\"M0.9,3.4H7c-0.4,3.9-2.7,6.9-7,9l1.1,1.5C6.8,11.1,9,6.7,9,1.8H0.9V3.4z M13.5,0h-2v17h2V8.3h2.6    V6.7h-2.6V0z M18.3,8.3h2.8c-0.3,2.5-1.7,4.4-4.4,5.8l0.7,1c3.6-1.8,5-4.6,5-7.7h-4.1V8.3z M25.3,10.4V6.2h-1.3V17h1.3v-5.5H27v-1    H25.3z\" fill=\"#121212\"></path>\n",
      "                                            </svg>\n",
      "                                            <span class=\"blind\">글자크기 조절</span>\n",
      "                                        </button>\n",
      "                                    </div>\n",
      "                                </div>\n",
      "\n",
      "                                \n",
      "                                <div class=\"utility\">\n",
      "                                    <div class=\"tools\">\n",
      "                                        <ul role=\"menu\">\n",
      "                                            <li role=\"menuitem\" class=\"not_personal_service\">\n",
      "                                                <button type=\"button\" class=\"tool login-tool-scrap btn-star-toggle\" onclick=\"clickScrap('2024022231661')\" data-check=\"N\"> \n",
      "                                                    <svg x=\"0\" y=\"0\" width=\"21\" height=\"20\" viewBox=\"0 0 21.35 20.45\">\n",
      "                                                        <path class=\"svg-star-fill\" d=\"M4.96,20.45c-0.29,0-0.59-0.09-0.84-0.27c-0.44-0.32-0.66-0.86-0.57-1.4l0.97-5.66L0.43,9.17  C0.04,8.79-0.1,8.23,0.07,7.71c0.17-0.52,0.61-0.89,1.15-0.97l5.68-0.83L9.4,0.8C9.64,0.31,10.13,0,10.68,0  c0.51,0,1.04,0.31,1.28,0.8l2.54,5.15l5.63,0.79c0.54,0.08,0.98,0.45,1.15,0.97c0.17,0.52,0.03,1.08-0.36,1.46l-4.11,4.01l0.99,5.6  c0.09,0.54-0.13,1.08-0.57,1.4c-0.44,0.32-1.02,0.36-1.5,0.11l-5.08-2.67l-5.02,2.67C5.42,20.39,5.19,20.45,4.96,20.45z\" fill=\"#ddd\"></path>\n",
      "                                                        <path class=\"svg-star\" d=\"M4.96,20.45c-0.29,0-0.59-0.09-0.84-0.27c-0.44-0.32-0.66-0.86-0.57-1.4l0.97-5.66L0.43,9.17  C0.04,8.79-0.1,8.23,0.07,7.71c0.17-0.52,0.61-0.89,1.15-0.97l5.68-0.83L9.4,0.8C9.64,0.31,10.13,0,10.68,0  c0.51,0,1.04,0.31,1.28,0.8l2.54,5.15l5.63,0.79c0.54,0.08,0.98,0.45,1.15,0.97c0.17,0.52,0.03,1.08-0.36,1.46l-4.11,4.01l0.99,5.6  c0.09,0.54-0.13,1.08-0.57,1.4c-0.44,0.32-1.02,0.36-1.5,0.11l-5.08-2.67l-5.02,2.67C5.42,20.39,5.19,20.45,4.96,20.45z   M10.68,16.12c0.23,0,0.46,0.05,0.67,0.16l4.96,2.6l-0.95-5.52c-0.08-0.46,0.07-0.94,0.41-1.27l4.01-3.91l-5.54-0.81  c-0.46-0.07-0.87-0.36-1.08-0.78l-2.5-5.07L8.2,6.61C7.99,7.03,7.59,7.32,7.12,7.39L1.58,8.2l4.01,3.91  c0.34,0.33,0.49,0.8,0.41,1.26l-0.95,5.52l4.96-2.6C10.22,16.17,10.45,16.12,10.68,16.12z M10.61,1.46L10.61,1.46L10.61,1.46  L10.61,1.46z\"></path>\n",
      "                                                    </svg>\n",
      "                                                    <span class=\"blind\">기사 스크랩</span>\n",
      "                                                </button>\n",
      "                                                <div class=\"hk__tooltip top\">\n",
      "                                                    기사 스크랩\n",
      "                                                </div>\n",
      "                                            </li>\n",
      "                                            <li role=\"menuitem\">\n",
      "                                                <button type=\"button\" class=\"tool share-tool btn-share-tool-more\">\n",
      "                                                    <svg x=\"0\" y=\"0\" width=\"22\" height=\"19\" viewBox=\"0 0 22.1 19.5\">\n",
      "                                                        <path class=\"svg-icon\" d=\"M0.1,19.5c-0.3-0.1,0-1.7,0-1.7c1.4-6.1,4.6-9.2,7-10.8c1.9-1.2,3.5-1.7,4.4-1.9V0.6  c0-0.5,0.6-0.8,1-0.5L21.9,8c0.3,0.3,0.3,0.7,0,1l-9.3,7.9c-0.4,0.3-1,0.1-1-0.5v-4.1c-1.8,0.5-6.2,1.9-10.2,6.3  C1.4,18.5,0.5,19.6,0.1,19.5z M13.1,2.5v3.8l-0.7,0.1c-0.3,0-7,0.9-10.1,9c4.9-4.2,9.6-4.9,9.9-4.9l0.8-0.1v4l7-6L13.1,2.5z\" fill=\"#121212\"></path>\n",
      "                                                    </svg>\n",
      "                                                    \n",
      "                                                    <span class=\"blind\">공유</span>\n",
      "                                                </button>\n",
      "                                                <div class=\"hk__tooltip top\">\n",
      "                                                    공유\n",
      "                                                </div>\n",
      "                                            </li>\n",
      "                                            <li role=\"menuitem\">\n",
      "                                                <a href=\"#commentsSector\" role=\"button\" class=\"tool login-tool-comment\">\n",
      "                                                    <svg x=\"0\" y=\"0\" width=\"20\" height=\"19\" viewBox=\"0 0 20 18.81\">\n",
      "                                                        <path class=\"svg-icon\" d=\"M12.5,8.93c0.83,0,1.5-0.66,1.5-1.47s-0.67-1.47-1.5-1.47c-0.83,0-1.5,0.66-1.5,1.47S11.67,8.93,12.5,8.93z    M7.5,8.93C8.33,8.93,9,8.28,9,7.46S8.33,5.99,7.5,5.99C6.67,5.99,6,6.65,6,7.46S6.67,8.93,7.5,8.93z M1.68,1.64v11.39h8.7   c0.19,0,0.37,0.06,0.52,0.16l4.3,2.94v-2.24c0-0.48,0.4-0.86,0.9-0.86h2.22V1.64H1.68z M0.86,0h18.27C19.61,0,20,0.37,20,0.83   v13.11c0,0.46-0.39,0.83-0.86,0.83h-1.27c-0.48,0-0.86,0.37-0.86,0.83v2.37c0,0.68-0.8,1.07-1.37,0.68l-5.41-3.72   c-0.15-0.1-0.32-0.16-0.5-0.16H0.86C0.39,14.77,0,14.4,0,13.94V0.83C0,0.37,0.39,0,0.86,0z\" fill=\"#121212\"></path>\n",
      "                                                    </svg>\n",
      "                                                    <span class=\"blind\">댓글</span>\n",
      "                                                    <span class=\"badge-num txt-num hk-comment-count\">0</span>\n",
      "                                                </a>\n",
      "                                                <div class=\"hk__tooltip top\">\n",
      "                                                    댓글\n",
      "                                                </div>\n",
      "                                            </li>\n",
      "                                            <li role=\"menuitem\">\n",
      "                                                <a role=\"button\" data-url=\"https://www.hankyung.com/article/2024022231661\" class=\"tool login-tool-cleanview btn_cleanview\">\n",
      "                                                    <svg x=\"0\" y=\"0\" width=\"20\" height=\"20\" viewBox=\"0 0 20 20\">\n",
      "                                                        <path class=\"svg-icon\" d=\"M10,0C4.5,0,0,4.5,0,10c0,5.5,4.5,10,10,10c5.5,0,10-4.5,10-10C20,4.5,15.5,0,10,0z M10,18.2    c-4.5,0-8.3-3.7-8.3-8.3c0-4.5,3.7-8.3,8.3-8.3c4.5,0,8.3,3.7,8.3,8.3C18.2,14.5,14.5,18.2,10,18.2z M12.2,8.8    c0.2,0.2,0.5,0.4,0.9,0.4c0.4,0,0.7-0.1,1-0.4c0.2-0.2,0.4-0.5,0.4-0.9c0-0.4-0.1-0.7-0.4-0.9c-0.2-0.2-0.5-0.4-0.9-0.4    c-0.4,0-0.7,0.1-1,0.4c-0.2,0.2-0.4,0.5-0.4,0.9C11.8,8.3,11.9,8.6,12.2,8.8z M6,8.8C6.2,9,6.5,9.2,6.9,9.2c0.4,0,0.7-0.1,0.9-0.4    c0.2-0.2,0.4-0.5,0.4-0.9c0-0.4-0.1-0.7-0.4-0.9C7.6,6.8,7.3,6.7,7,6.7C6.6,6.7,6.2,6.8,6,7C5.8,7.3,5.6,7.5,5.6,7.9    C5.6,8.3,5.7,8.6,6,8.8z M13.4,12.6c-0.2,0.3-0.4,0.4-0.7,0.6c-0.3,0.2-0.6,0.2-1,0.3c-0.4,0.1-0.9,0.1-1.4,0.1    c-0.5,0-0.9-0.1-1.3-0.1c-0.4,0-0.7-0.1-1-0.1c-0.5-0.2-0.9-0.3-1.3-0.6c-0.4-0.2-0.7-0.6-0.8-1L5.3,12C5.5,12.6,5.8,13,6,13.3    c0.3,0.4,0.7,0.7,1.3,0.9c0.3,0.1,0.7,0.3,1.2,0.4c0.5,0.1,1,0.1,1.6,0.1c0.5,0,1,0,1.3-0.1c0.4-0.1,0.7-0.2,1-0.3    c0.5-0.2,1-0.5,1.3-0.9c0.4-0.4,0.7-0.9,0.9-1.4L14,11.7C13.8,12,13.6,12.3,13.4,12.6z\" fill=\"#121212\"></path>\n",
      "                                                    </svg>\n",
      "                                                    <span class=\"blind\">클린뷰</span>\n",
      "                                                </a>\n",
      "                                                <div class=\"hk__tooltip top\">\n",
      "                                                    클린뷰\n",
      "                                                </div>\n",
      "                                            </li>\n",
      " \n",
      "                                            <li role=\"menuitem\">\n",
      "                                                <button type=\"button\" class=\"tool login-tool-print\" data-aid=\"2024022231661\">\n",
      "                                                    <svg x=\"0\" y=\"0\" width=\"20\" height=\"20\" viewBox=\"0 0 20.03 20\">\n",
      "                                                        <path class=\"svg-icon\" d=\"M20.03,4.77v9.62c0,0.33-0.27,0.6-0.6,0.6h-2.74v4.41c0,0.33-0.27,0.59-0.59,0.59H3.93  c-0.33,0-0.59-0.27-0.59-0.59V15H0.6C0.27,15,0,14.73,0,14.4V4.76c0-0.33,0.27-0.6,0.6-0.6h2.74V0.59C3.34,0.27,3.6,0,3.93,0H16.1  c0.33,0,0.6,0.27,0.6,0.59v3.57h2.73C19.76,4.17,20.03,4.44,20.03,4.77z M5.01,4.17h10.01V2.12c0-0.25-0.2-0.45-0.45-0.45H5.46  c-0.25,0-0.45,0.2-0.45,0.45V4.17z M14.57,12.5H5.46c-0.25,0-0.45,0.2-0.45,0.45v4.95c0,0.24,0.19,0.43,0.43,0.43h9.13  c0.25,0,0.45-0.2,0.45-0.45v-4.93C15.02,12.7,14.82,12.5,14.57,12.5z M17.89,5.83H2.12c-0.25,0-0.46,0.2-0.46,0.45v6.58  c0,0.25,0.21,0.46,0.46,0.46h1.21v-1.91c0-0.33,0.27-0.59,0.59-0.59H16.1c0.33,0,0.59,0.26,0.59,0.59v1.91h1.21  c0.26,0,0.46-0.21,0.46-0.46V6.3C18.36,6.04,18.15,5.83,17.89,5.83z\" fill=\"#121212\"></path>\n",
      "                                                    </svg>\n",
      "                                                    <span class=\"blind\">프린트</span>\n",
      "                                                </button>\n",
      "                                                <div class=\"hk__tooltip top\">\n",
      "                                                    프린트\n",
      "                                                </div>\n",
      "                                            </li>\n",
      "                                        </ul>\n",
      "                                    </div>\n",
      "                                </div>\n",
      "\n",
      "\n",
      "                                <div class=\"article-body-wrap\">\n",
      "                                \n",
      "                                    <div class=\"summary\">\n",
      "                                        벨 에포크<br>\n",
      "<br>\n",
      "인상주의 미술가들은<br>\n",
      "남편·가족과 행복해하는<br>\n",
      "부르주아 여성을 그려<br>\n",
      "<br>\n",
      "남자 없이 거니는 여성을<br>\n",
      "매춘부 취급하던 시절<br>\n",
      "<br>\n",
      "기자이자 소설가 미르보는<br>\n",
      "'어느 하녀 일기'를 통해<br>\n",
      "벨 에포크의 위선 담아내\n",
      "                                    </div>\n",
      "                                    <div class=\"article-body\" id=\"articletxt\" itemprop=\"articleBody\">\n",
      "                                        \n",
      "                            <figure class=\"article-figure\">\n",
      "                                <div class=\"figure-img\">\n",
      "                                    <img src=\"https://img.hankyung.com/photo/202402/AA.35902745.1.jpg\" alt=\"게오르그 아헨 ‘리슬런트 성의 꿈같은 창문’(1903년).  /아로스 오르후스 쿤스트뮤지엄 소장 \n",
      " \">\n",
      "                        \n",
      "                                </div>\n",
      "                                <figcaption class=\"figure-caption\" style=\"width:1071px;\">게오르그 아헨 ‘리슬런트 성의 꿈같은 창문’(1903년).  /아로스 오르후스 쿤스트뮤지엄 소장 \n",
      " </figcaption>\n",
      "                            </figure>‘어느 하녀의 일기’는 프랑스의 작가 옥타브 미르보(1850~1917)의 소설을 원작으로 한 영화다. 1900년 출간된 &lt;어느 하녀의 일기&gt;는 당시 엄청난 판매 부수를 기록했던 미르보의 대표작 중 하나다. 그는 신문기자로 일하면서 미술비평을 하기도 했다. 그는 자신의 소설을 통해서는 벨 에포크 시기 부르주아 계급의 위선을 폭로한 작가였다.<br><br class=\"paragraph\" data-index=\"1\">‘리슬런트 성의 꿈같은 창문’(1903)은 덴마크 출신 화가 게오르그 아헨(1860~1912)의 대표작 중 하나다. 아헨은 코펜하겐의 로열 아카데미에서 미술을 공부했고, 당대의 미술 중심지였던 프랑스 파리를 찾아 인상주의 미술을 학습했다. 인상주의풍의 야외 풍경화로 명성을 얻은 이후로는 인물이 있는 실내 풍경을 그리는 것에도 관심을 뒀다. 이 그림들은 따사로운 햇살이 들어오는 창문 옆에서 홀로 독서를 즐기거나 함께 바느질하면서 일상을 보내는 여성을 주제로 한 것이 대부분이다.\n",
      "                            <figure class=\"article-figure\">\n",
      "                                <div class=\"figure-img\">\n",
      "                                    <img src=\"https://img.hankyung.com/photo/202402/AA.35902760.1.jpg\" alt=\"에드가르 드가 ‘무대 위의 리허설’ (1874년). \n",
      " 뉴욕 메트로폴리탄 미술관 소장 \" loading=\"lazy\">\n",
      "                        \n",
      "                                </div>\n",
      "                                <figcaption class=\"figure-caption\" style=\"width:573px;\">에드가르 드가 ‘무대 위의 리허설’ (1874년). \n",
      " 뉴욕 메트로폴리탄 미술관 소장 </figcaption>\n",
      "                            </figure>‘리슬런트 성의 꿈같은 창문’은 홀로 창밖을 바라보고 있는 여성의 뒷모습을 포착한 작품이다. 창문 밖에는 꽃이 만발해 있고 봄 햇살처럼 느껴지는 온화한 빛이 창을 통해 실내로 비쳐들고 있다. 창밖을 바라보는 이 여성은 리슬런트 성에서 일하는 하녀다. 아침부터 저녁까지 온갖 집안일을 쉴 틈 없이 해내야 하는 그에게 창밖의 풍경을 바라보며 잠시 숨을 돌리는 이 순간은 꿈결처럼 달콤하게 느껴졌을 것이다.<br><br class=\"paragraph\" data-index=\"2\"><div class=\"ad-wrap\"><div class=\"ad-box\"><iframe width=\"660\" height=\"280\" scrolling=\"no\" frameborder=\"0\" style=\"display: block; margin: 12px auto;\"></iframe><div id=\"teads_slot\" style=\"text-align: center;\"><div class=\"teads-adCall\"></div></div></div></div>아헨의 이 작품은 비슷한 시기를 살았던 또 다른 하녀의 이야기를 다룬 프랑스 영화 ‘어느 하녀의 일기’를 떠올리게 한다. 영화의 주인공인 셀레스틴도 아헨의 그림 속 하녀처럼 검은색 드레스에 흰 앞치마를 두른 전형적인 하녀 복장을 주로 착용하고 있다. 옷차림은 단출하지만 셀레스틴은 미모가 뛰어난 데다 도도한 성격으로 어디에서나 인기가 많은 매력적인 여성이다. 영화가 시작되면 직업소개소에서 새로운 일자리를 소개받아 파리 근교의 새 일터로 향하는 셀레스틴이 등장한다. 영화의 초반부만 보면 주인공 셀레스틴은 비록 하녀로 일하지만 직업을 가진 독립적이고 현대적인 여성처럼 보인다. 그렇지만 그가 새로운 일터에 도착한 이후의 상황은 무척 다르다. 집주인은 그 집을 거쳐간 하녀들을 모두 추행하고 심지어 임신까지 시키는 일을 반복하는 후안무치한 인간이다. 그는 새로 온 하녀 셀레스틴을 보자마자 희롱하기 바쁘고, 그의 부인은 셀레스틴을 괴롭히는 것으로 남편에 대한 불만과 스트레스를 해소한다. 집주인의 추행 시도를 순간순간 모면하는 일과 안주인의 괴롭힘을 견디는 것이 하녀 셀레스틴의 일상인 것이다.<br><br class=\"paragraph\" data-index=\"3\">‘어느 하녀의 일기’는 프랑스 작가 옥타브 미르보(1850~1917)의 소설을 원작으로 한 영화다. 1900년 출간된 &lt;어느 하녀의 일기&gt;는 당시 엄청난 판매 부수를 기록한 미르보의 대표작 중 하나다. 그는 신문기자로 일하면서 미술비평도 많이 했는데, 특히 모네와 같은 인상주의 작가들과 친분을 유지하며 인상주의 미술에 대한 여러 비평을 남겼다. 인상주의는 벨 에포크 시기의 아름다움을 포착한 그림이 주를 이룬다. 미르보는 이런 인상주의 미술에 호의적인 비평을 하면서 동시에 자신의 소설을 통해서는 벨 에포크 시기 부르주아 계급의 위선을 폭로한 작가였다.\n",
      "                            <figure class=\"article-figure\">\n",
      "                                <div class=\"figure-img\">\n",
      "                                    <img src=\"https://img.hankyung.com/photo/202402/AA.35902727.1.jpg\" alt=\"창 밖을 보는 하녀…캔버스 밖 '벨 에포크'는 아름답지 않았다\" loading=\"lazy\">\n",
      "                        \n",
      "                                </div>\n",
      "                            </figure>미르보의 소설을 바탕으로 한 영화 ‘어느 하녀의 일기’도 하녀 셀레스틴의 시선을 통해 아름다운 시절이라고 불리던 벨 에포크의 추악한 이면을 적나라하게 드러낸다. 당시 직업을 갖고 경제활동을 영위하는 여성은 대부분 셀레스틴과 같은 하위 계층의 여성이었다. 부르주아 계급의 여성들은 돈을 벌기 위해 직업을 가질 필요가 없는 대신 사회적 활동 역시 제한적으로 이뤄졌다. 남편이나 아들과 같은 남성 가족과 동행하지 않은 채 혼자 외출하는 것도 금기시됐다. 이 때문에 남성 동행인 없이 홀로 파리 시내를 오가는 여성은 대부분 하위 계층 출신이었다. 부르주아 남성에게 이들은 함부로 다뤄도 되는 대상이자 돈벌이를 위해 매춘도 마다하지 않을 여성, 즉 매춘부와 다를 바 없는 존재로 인식됐다.<br><br class=\"paragraph\" data-index=\"4\">미르보보다 먼저 벨 에포크 시기 여성들의 이와 같은 위상을 적나라하게 그린 소설 &lt;여성&gt;을 집필한 것은 또 다른 프랑스 소설가 쥘 미슐레였다. 그는 이 소설에서 “독신 여성으로 지낸다는 것은 얼마나 성가신 일인가! 그녀는 저녁때 거의 밖으로 나갈 수 없다. 매춘부로 오해받을 수 있기 때문이다. 수많은 공공장소에는 남성들만 모인다”고 적고 있다. ‘어느 하녀의 일기’에서도 파리 시내를 혼자 걸어가는 셀레스틴을 갑자기 카페로 데려가 매춘부로 일할 생각이 없는지 묻는 포주가 등장한다. 남성 동행인 없이 홀로 공공장소를 활보하는 셀레스틴과 같은 여성이 대낮의 길거리에서 매춘부가 될 것을 제안받는 일은 당대엔 흔한 일이었던 셈이다.<br><br class=\"paragraph\" data-index=\"5\"><div class=\"ad-wrap col2-20-300\">\t\t\t\t\t\t\t\t\t\t\t\t\t<div class=\"ad-box\">\t\t\t\t\t\t\t\t\t\t\t\t\t\t<div id=\"div-gpt-ad-1656294096032-0\" style=\"min-width: 300px; min-height: 250px;\" data-google-query-id=\"CNLng97BioUDFaqa6QUdZGcIVA\"><div id=\"google_ads_iframe_/3448900/hdvI03_inarticle03_0__container__\" style=\"border: 0pt none; margin: auto; text-align: center; width: 300px; height: 250px;\"><iframe frameborder=\"0\" src=\"https://c90b1c83604ed271c402649acf7ab830.safeframe.googlesyndication.com/safeframe/1-0-40/html/container.html\" id=\"google_ads_iframe_/3448900/hdvI03_inarticle03_0\" title=\"3rd party ad content\" name=\"\" scrolling=\"no\" marginwidth=\"0\" marginheight=\"0\" width=\"300\" height=\"250\" data-is-safeframe=\"true\" sandbox=\"allow-forms allow-popups allow-popups-to-escape-sandbox allow-same-origin allow-scripts allow-top-navigation-by-user-activation\" aria-label=\"Advertisement\" tabindex=\"0\" data-google-container-id=\"2\" style=\"border: 0px; vertical-align: bottom;\" data-load-complete=\"true\"></iframe></div></div>\t\t\t\t\t\t\t\t\t\t\t\t\t</div>\t\t\t\t\t\t\t\t\t\t\t\t\t<div class=\"ad-box\">\t\t\t\t\t\t\t\t\t\t\t\t\t\t<div id=\"div-gpt-ad-1656294201269-0\" style=\"min-width: 300px; min-height: 250px;\" data-google-query-id=\"CKWIhN7BioUDFZKe6QUdAp0Grg\"><div id=\"google_ads_iframe_/3448900/hdvI04_inarticle04_0__container__\" style=\"border: 0pt none; margin: auto; text-align: center; width: 300px; height: 250px;\"><iframe frameborder=\"0\" src=\"https://c90b1c83604ed271c402649acf7ab830.safeframe.googlesyndication.com/safeframe/1-0-40/html/container.html\" id=\"google_ads_iframe_/3448900/hdvI04_inarticle04_0\" title=\"3rd party ad content\" name=\"\" scrolling=\"no\" marginwidth=\"0\" marginheight=\"0\" width=\"300\" height=\"250\" data-is-safeframe=\"true\" sandbox=\"allow-forms allow-popups allow-popups-to-escape-sandbox allow-same-origin allow-scripts allow-top-navigation-by-user-activation\" aria-label=\"Advertisement\" tabindex=\"0\" data-google-container-id=\"3\" data-load-complete=\"true\" style=\"border: 0px; vertical-align: bottom;\"></iframe></div></div>\t\t\t\t\t\t\t\t\t\t\t\t\t</div>\t\t\t\t\t\t\t\t\t\t\t\t</div>오늘날에는 전문직으로 여겨지는 가수, 발레리나 같은 직업을 가졌던 당대의 여성들도 이 시기에는 그저 돈벌이가 필요한 하위 계층 여성으로 인식됐다. 특히 발레 공연장의 경우 부르주아 남성들이 입장권과 함께 무용수들의 탈의실과 연습실에 들어갈 수 있는 통행증을 구입하는 것이 가능할 정도였다. 발레리나들의 일터는 여러 가지 의미에서 부르주아 남성들의 유희의 장소였던 것이다. 이 시기에 발레를 주제로 한 그림을 주로 그렸던 인상주의 미술가 에드가르 드가의 작품은 당시 발레리나들의 이와 같은 위상에 비춰보면 새롭게 볼 여지가 많다.<br><br class=\"paragraph\" data-index=\"6\">벨 에포크 시기를 살았던 모든 사람에게 이 시절이 아름답기만 한 것은 아니었다. 특히 하위 계층 여성은 돈벌이를 위해 고된 노동을 하면서 남성의 성적인 시선이나 희롱도 견뎌내야만 했다. 남성 동행인 없이는 대낮에 파리 시내를 산책조차 할 수 없었던 부르주아 여성의 삶도 답답하기는 마찬가지였다. 인상주의 미술가들이 남편이나 가족과 함께 행복한 일상을 영위하는 부르주아 여성의 모습을 통해 벨 에포크 시기의 아름다움을 보여줬다면, 미르보와 같은 당대의 소설가들은 아름다운 시절을 살았던 여성의 고된 삶을 드러내는 것에 관심을 뒀다. 인상주의 미술이 보여주는 아름다움과 미르보의 소설이 제시하는 시대의 위선을 모두 조합해 볼 때야 비로소 벨 에포크 시대의 전모를 이해할 수 있게 될 것이다.<br><br class=\"paragraph\" data-index=\"7\">전유신 국립현대미술관 학예연구사\n",
      "                                    </div>\n",
      "\n",
      "                                </div>\n",
      "\n",
      "\n",
      "                                <div class=\"utility\">\n",
      "                                    <div class=\"tools\">\n",
      "                                        <ul role=\"menu\">\n",
      "                                            <li role=\"menuitem\" class=\"not_personal_service\" onclick=\"clickScrap('2024022231661')\" data-check=\"N\">\n",
      "                                                <button type=\"button\" class=\"tool login-tool-scrap btn-star-toggle\">\n",
      "                                                    <svg x=\"0\" y=\"0\" width=\"21\" height=\"20\" viewBox=\"0 0 21.35 20.45\">\n",
      "                                                        <path class=\"svg-star-fill\" d=\"M4.96,20.45c-0.29,0-0.59-0.09-0.84-0.27c-0.44-0.32-0.66-0.86-0.57-1.4l0.97-5.66L0.43,9.17  C0.04,8.79-0.1,8.23,0.07,7.71c0.17-0.52,0.61-0.89,1.15-0.97l5.68-0.83L9.4,0.8C9.64,0.31,10.13,0,10.68,0  c0.51,0,1.04,0.31,1.28,0.8l2.54,5.15l5.63,0.79c0.54,0.08,0.98,0.45,1.15,0.97c0.17,0.52,0.03,1.08-0.36,1.46l-4.11,4.01l0.99,5.6  c0.09,0.54-0.13,1.08-0.57,1.4c-0.44,0.32-1.02,0.36-1.5,0.11l-5.08-2.67l-5.02,2.67C5.42,20.39,5.19,20.45,4.96,20.45z\" fill=\"#ddd\"></path>\n",
      "                                                        <path class=\"svg-star\" d=\"M4.96,20.45c-0.29,0-0.59-0.09-0.84-0.27c-0.44-0.32-0.66-0.86-0.57-1.4l0.97-5.66L0.43,9.17  C0.04,8.79-0.1,8.23,0.07,7.71c0.17-0.52,0.61-0.89,1.15-0.97l5.68-0.83L9.4,0.8C9.64,0.31,10.13,0,10.68,0  c0.51,0,1.04,0.31,1.28,0.8l2.54,5.15l5.63,0.79c0.54,0.08,0.98,0.45,1.15,0.97c0.17,0.52,0.03,1.08-0.36,1.46l-4.11,4.01l0.99,5.6  c0.09,0.54-0.13,1.08-0.57,1.4c-0.44,0.32-1.02,0.36-1.5,0.11l-5.08-2.67l-5.02,2.67C5.42,20.39,5.19,20.45,4.96,20.45z   M10.68,16.12c0.23,0,0.46,0.05,0.67,0.16l4.96,2.6l-0.95-5.52c-0.08-0.46,0.07-0.94,0.41-1.27l4.01-3.91l-5.54-0.81  c-0.46-0.07-0.87-0.36-1.08-0.78l-2.5-5.07L8.2,6.61C7.99,7.03,7.59,7.32,7.12,7.39L1.58,8.2l4.01,3.91  c0.34,0.33,0.49,0.8,0.41,1.26l-0.95,5.52l4.96-2.6C10.22,16.17,10.45,16.12,10.68,16.12z M10.61,1.46L10.61,1.46L10.61,1.46  L10.61,1.46z\"></path>\n",
      "                                                    </svg>\n",
      "                                                    <span class=\"blind\">기사 스크랩</span>\n",
      "                                                </button>\n",
      "                                                <div class=\"hk__tooltip top\">\n",
      "                                                    기사 스크랩\n",
      "                                                </div>\n",
      "                                            </li>\n",
      "                                            <li role=\"menuitem\">\n",
      "                                                <button type=\"button\" class=\"tool share-tool btn-share-tool-more\">\n",
      "                                                    <svg x=\"0\" y=\"0\" width=\"22\" height=\"19\" viewBox=\"0 0 22.1 19.5\">\n",
      "                                                        <path class=\"svg-icon\" d=\"M0.1,19.5c-0.3-0.1,0-1.7,0-1.7c1.4-6.1,4.6-9.2,7-10.8c1.9-1.2,3.5-1.7,4.4-1.9V0.6  c0-0.5,0.6-0.8,1-0.5L21.9,8c0.3,0.3,0.3,0.7,0,1l-9.3,7.9c-0.4,0.3-1,0.1-1-0.5v-4.1c-1.8,0.5-6.2,1.9-10.2,6.3  C1.4,18.5,0.5,19.6,0.1,19.5z M13.1,2.5v3.8l-0.7,0.1c-0.3,0-7,0.9-10.1,9c4.9-4.2,9.6-4.9,9.9-4.9l0.8-0.1v4l7-6L13.1,2.5z\" fill=\"#121212\"></path>\n",
      "                                                    </svg>\n",
      "                                                    \n",
      "                                                    <span class=\"blind\">공유</span>\n",
      "                                                </button>\n",
      "                                                <div class=\"hk__tooltip top\">\n",
      "                                                    공유\n",
      "                                                </div>\n",
      "                                            </li>\n",
      "                                            <li role=\"menuitem\">\n",
      "                                                <button type=\"button\" class=\"tool login-tool-print\" data-aid=\"2024022231661\">\n",
      "                                                    <svg x=\"0\" y=\"0\" width=\"20\" height=\"20\" viewBox=\"0 0 20.03 20\">\n",
      "                                                        <path class=\"st0\" d=\"M20.03,4.77v9.62c0,0.33-0.27,0.6-0.6,0.6h-2.74v4.41c0,0.33-0.27,0.59-0.59,0.59H3.93  c-0.33,0-0.59-0.27-0.59-0.59V15H0.6C0.27,15,0,14.73,0,14.4V4.76c0-0.33,0.27-0.6,0.6-0.6h2.74V0.59C3.34,0.27,3.6,0,3.93,0H16.1  c0.33,0,0.6,0.27,0.6,0.59v3.57h2.73C19.76,4.17,20.03,4.44,20.03,4.77z M5.01,4.17h10.01V2.12c0-0.25-0.2-0.45-0.45-0.45H5.46  c-0.25,0-0.45,0.2-0.45,0.45V4.17z M14.57,12.5H5.46c-0.25,0-0.45,0.2-0.45,0.45v4.95c0,0.24,0.19,0.43,0.43,0.43h9.13  c0.25,0,0.45-0.2,0.45-0.45v-4.93C15.02,12.7,14.82,12.5,14.57,12.5z M17.89,5.83H2.12c-0.25,0-0.46,0.2-0.46,0.45v6.58  c0,0.25,0.21,0.46,0.46,0.46h1.21v-1.91c0-0.33,0.27-0.59,0.59-0.59H16.1c0.33,0,0.59,0.26,0.59,0.59v1.91h1.21  c0.26,0,0.46-0.21,0.46-0.46V6.3C18.36,6.04,18.15,5.83,17.89,5.83z\" fill=\"#121212\"></path>\n",
      "                                                    </svg>\n",
      "                                                    <span class=\"blind\">프린트</span>\n",
      "                                                </button>\n",
      "                                                <div class=\"hk__tooltip top\">\n",
      "                                                    프린트\n",
      "                                                </div>\n",
      "                                            </li>\n",
      "                                        </ul>\n",
      "                                    </div>\n",
      "                                </div>\n",
      "\n",
      "\n",
      "                                <div class=\"empathy-wrap not_personal_service\">\n",
      "                                    <button type=\"button\" class=\"btn-like\" data-kind=\"1\" data-reaction=\"good\" onclick=\"clickReaction('2024022231661', 1, this)\">\n",
      "                                        <svg x=\"0\" y=\"0\" width=\"26\" height=\"28\" viewBox=\"0 0 25.3 25.5\">\n",
      "                                            <path class=\"svg-icon\" d=\"M24.7,11c-1-1.4-2.9-1.4-3.2-1.4h-4.9c-0.1,0-0.2-0.1-0.2-0.1c0-0.1-0.1-0.2,0-0.3c0.4-0.6,0.6-1.1,0.8-1.4    c0.5-1,2-4.4-0.3-6.7c-1-1-2.2-1.3-3.4-1c-0.8,0.2-1.4,0.7-1.9,1.4L6,9.6H1c-0.6,0-1,0.5-1,1v13.8c0,0.6,0.5,1,1,1h5.5h10.4    c0.7,0,1.3-0.1,2-0.4c1.3-0.5,2.3-1.5,2.9-2.8l0-0.1c0.7-1.5,2.3-4.9,3.1-7.2C25.5,13.4,25.4,12,24.7,11z M2.1,11.7h3.4v11.7H2.1    V11.7z M23,14.3c-0.7,2.1-2.3,5.5-3,7l0,0.1c-0.4,0.8-1,1.5-1.8,1.8c-0.4,0.2-0.9,0.3-1.3,0.3H7.5V11l5.7-8.3    c0.2-0.3,0.5-0.5,0.8-0.6C14.3,2,14.8,2,15.4,2.6c1.3,1.3,0.1,3.8-0.1,4.2c-0.1,0.3-0.4,0.7-0.7,1.4c-0.4,0.7-0.4,1.6,0,2.3    c0.4,0.7,1.2,1.2,2,1.2h5c0,0,0,0,0,0h0c0,0,1.1,0,1.5,0.6C23.4,12.8,23.2,13.7,23,14.3z\" fill=\"#1ec671\"></path>\n",
      "                                        </svg>\n",
      "                                        <span class=\"emotion-label\">좋아요</span>\n",
      "                                        <strong class=\"emotion-count\">0</strong>\n",
      "                                    </button>\n",
      "                                    <button type=\"button\" class=\"btn-hate\" data-kind=\"2\" data-reaction=\"bad\" onclick=\"clickReaction('2024022231661', 2, this)\">\n",
      "                                        <svg x=\"0\" y=\"0\" width=\"26\" height=\"28\" viewBox=\"0 0 25.3 25.5\">\n",
      "                                            <path class=\"svg-icon\" d=\"M24.3,0h-5.5H8.4c-0.7,0-1.3,0.1-2,0.4C5.1,0.9,4.1,1.9,3.5,3.2l0,0.1c-0.7,1.5-2.3,4.9-3.1,7.2    c-0.6,1.6-0.5,3,0.2,4c1,1.4,2.9,1.4,3.2,1.4h4.9c0.1,0,0.2,0.1,0.2,0.1C9,16,9,16.2,9,16.3c-0.2,0.4-0.6,1-0.8,1.4    c-0.5,1-2,4.4,0.3,6.7c0.7,0.7,1.6,1.1,2.5,1.1c0.3,0,0.6,0,0.9-0.1c0.8-0.2,1.4-0.7,1.9-1.4l5.6-8.1h4.9c0.6,0,1-0.5,1-1V1    C25.3,0.5,24.9,0,24.3,0z M12.1,22.8c-0.2,0.3-0.5,0.5-0.8,0.6c-0.3,0.1-0.8,0.1-1.4-0.5c-1.3-1.3-0.1-3.8,0.1-4.2    c0.2-0.3,0.4-0.8,0.7-1.4c0.4-0.7,0.4-1.6,0-2.3c-0.4-0.7-1.2-1.2-2-1.2h-5c0,0,0,0,0,0c0,0,0,0,0,0c0,0-1.1,0-1.5-0.6    c-0.4-0.5-0.2-1.4,0.1-2.1c0.7-2.1,2.3-5.5,3-7l0-0.1c0.4-0.8,1-1.5,1.8-1.8C7.6,2.1,8,2.1,8.4,2.1h9.4v12.4L12.1,22.8z     M23.3,13.8h-3.4V2.1h3.4V13.8z\" fill=\"#f95c84\"></path>\n",
      "                                        </svg>\n",
      "                                        <span class=\"emotion-label\">싫어요</span>\n",
      "                                        <strong class=\"emotion-count\">0</strong>\n",
      "                                    </button>\n",
      "                                    <button type=\"button\" class=\"btn-want\" data-kind=\"3\" data-reaction=\"want\" onclick=\"clickReaction('2024022231661', 3, this)\">\n",
      "                                        <svg x=\"0\" y=\"0\" width=\"28\" height=\"28\" viewBox=\"0 0 27.9 28\">\n",
      "                                            <path class=\"svg-icon\" d=\"M6.3,7.2L8,10.4h1.2V5.7H8.1v2.9L6.6,5.7H5.3v4.7h1.1V7.2z M15.6,10.4l0.7-3.1l0.6,3.1H18l1.2-4.7H18    l-0.6,3.2l-0.6-3.2h-1.2L15,8.9l-0.6-3.2h-1.2l1.1,4.7H15.6z M12.9,6.6v-1H10v4.7h3v-1h-1.9v-1h1.7V7.5h-1.7V6.6H12.9z M20.8,9.5    c-0.4,0-0.8-0.1-1.1-0.3l-0.1,0l-0.2,1l0,0c0.2,0.1,0.8,0.3,1.3,0.3c1.4,0,1.9-0.8,1.9-1.5c0-0.7-0.4-1.1-1.2-1.4    c-0.6-0.2-0.8-0.3-0.8-0.6c0-0.2,0.2-0.4,0.6-0.4c0.3,0,0.6,0.1,0.9,0.2l0.1,0l0.3-0.9l0,0c-0.3-0.2-0.7-0.2-1.2-0.2    c-1.1,0-1.8,0.6-1.8,1.4c0,0.6,0.4,1.1,1.3,1.4c0.5,0.2,0.7,0.3,0.7,0.6C21.5,9.3,21.2,9.5,20.8,9.5z M1.7,24.9    C1.7,24.9,1.7,24.9,1.7,24.9C1.6,24.8,1.6,24.8,1.7,24.9L0.3,26c-0.5,0.5-0.5,1.2,0,1.7C0.6,27.9,0.9,28,1.2,28    c0.3,0,0.6-0.1,0.8-0.3l1.3-1.3c-0.3-0.2-0.6-0.4-0.9-0.7C2.2,25.4,1.9,25.1,1.7,24.9z M27.5,26l-1.2-1.2l0,0c0,0-0.1,0.1-0.1,0.1    c-0.2,0.3-0.5,0.5-0.8,0.8c-0.3,0.2-0.6,0.5-0.9,0.7l1.3,1.3c0.2,0.2,0.5,0.3,0.8,0.3c0.1,0,0.3,0,0.4-0.1    c0.1-0.1,0.3-0.1,0.4-0.3c0.1-0.1,0.2-0.2,0.3-0.4c0.1-0.3,0.1-0.6,0-0.9C27.7,26.3,27.6,26.1,27.5,26z M24.7,24.7    c0.2-0.2,0.5-0.5,0.7-0.7c0,0,0.1-0.1,0.1-0.1c0,0,0,0,0,0c0,0,0,0,0,0c0,0,0,0,0,0c0,0,0,0,0,0h0c0-0.1,0.1-0.1,0.1-0.2    c0.1-0.2,0.2-0.4,0.3-0.6c0-0.1,0.1-0.1,0.1-0.2c0.2-0.3,0.3-0.7,0.4-1c0.8-0.2,1.3-0.8,1.3-1.7c0-0.8-0.6-1.5-1.3-1.7    c-0.1-0.3-0.2-0.5-0.3-0.8c0-0.1-0.1-0.2-0.1-0.3c-0.1-0.2-0.2-0.3-0.2-0.5c0-0.1-0.1-0.1-0.1-0.2c-0.2-0.3-0.3-0.5-0.5-0.7    c0,0,0-0.1-0.1-0.1c-0.1-0.1-0.3-0.3-0.4-0.4c0,0,0,0,0,0c0,0-0.1,0-0.1-0.1c-0.1-0.1-0.1-0.1-0.2-0.2c-0.1-0.1-0.3-0.2-0.4-0.3    c0,0,0,0,0,0c0,0,0,0,0,0C24,15,23.9,15,23.8,14.9c0,0-0.1,0-0.1-0.1c-0.1-0.1-0.3-0.1-0.4-0.2c-0.2-0.1-0.3-0.1-0.5-0.2    c-0.1,0-0.2-0.1-0.2-0.1c0,0-0.1,0-0.1-0.1c-0.1,0-0.3-0.1-0.4-0.1c-0.1,0-0.1,0-0.2,0c-0.1,0-0.2-0.1-0.3-0.1    c-0.3,0-0.6-0.1-0.9-0.1c-2.6,0-4.9,1.6-5.8,4.1c-0.3-0.1-0.6-0.2-0.9-0.2c-0.3,0-0.6,0.1-0.9,0.2c-0.2-0.6-0.5-1.2-0.9-1.7    c-0.4-0.5-0.8-0.9-1.3-1.3c-1-0.7-2.2-1.1-3.5-1.1c-0.3,0-0.6,0-0.9,0.1c-0.1,0-0.2,0-0.3,0.1c-0.2,0-0.4,0.1-0.6,0.1    c-0.1,0-0.3,0.1-0.4,0.1c-0.1,0.1-0.3,0.1-0.4,0.2c-0.1,0.1-0.3,0.1-0.4,0.2C4.1,14.9,4,15,3.8,15.1c-0.2,0.1-0.3,0.2-0.5,0.3    c-0.1,0-0.1,0.1-0.2,0.1c-0.6,0.5-1.1,1.1-1.4,1.8c0,0,0,0,0,0v0c-0.1,0.1-0.1,0.3-0.2,0.4c-0.1,0.2-0.2,0.5-0.3,0.7    c-0.2,0-0.4,0.1-0.5,0.2c-0.1,0.1-0.3,0.2-0.4,0.3c0,0,0,0,0,0c-0.2,0.3-0.4,0.6-0.4,1c0,0,0,0,0,0c0,0,0,0,0,0    c0,0.2,0,0.4,0.1,0.6c0.1,0.2,0.2,0.4,0.3,0.5c0,0,0,0,0,0c0,0,0,0,0,0c0.1,0.1,0.2,0.1,0.2,0.2c0,0,0.1,0.1,0.1,0.1    c0.2,0.1,0.3,0.2,0.5,0.2c0,0,0,0,0,0c0,0,0,0,0,0c0.1,0.4,0.2,0.7,0.4,1c0,0.1,0.1,0.1,0.1,0.2c0.1,0.1,0.2,0.3,0.3,0.4    c0.1,0.1,0.1,0.2,0.2,0.3c0,0,0,0,0,0c0,0.1,0.1,0.1,0.1,0.1c0,0,0,0,0,0c0.2,0.3,0.4,0.5,0.7,0.7c0,0,0,0,0,0c0,0,0,0,0,0    c0,0,0,0,0.1,0.1C3.4,25,3.7,25.2,4,25.4c0,0,0,0,0.1,0c0.2,0.1,0.4,0.3,0.7,0.4c0,0,0,0,0,0c0,0,0.1,0,0.1,0.1c0,0,0,0,0,0    c0.2,0.1,0.4,0.2,0.6,0.2c0.1,0,0.2,0.1,0.4,0.1c0,0,0,0,0,0h0c0,0,0,0,0,0c0.1,0,0.3,0.1,0.4,0.1c0,0,0.1,0,0.1,0    c0.3,0,0.6,0.1,0.9,0.1c0.3,0,0.6,0,0.9-0.1c0.2,0,0.4-0.1,0.5-0.1c0.1,0,0.2,0,0.3-0.1c0.2-0.1,0.5-0.2,0.7-0.3c0,0,0,0,0.1,0    c0.1-0.1,0.3-0.1,0.4-0.2c0.4-0.2,0.8-0.5,1.2-0.9c0,0,0,0,0,0c0,0,0.1-0.1,0.1-0.1c0,0,0,0,0.1-0.1c0.1-0.1,0.1-0.1,0.2-0.2    c0-0.1,0.1-0.1,0.1-0.2c0.2-0.2,0.3-0.4,0.5-0.6c0-0.1,0.1-0.1,0.1-0.2c0.2-0.3,0.3-0.5,0.4-0.8c0,0,0,0,0,0c0,0,0,0,0,0    c0.2-0.4,0.3-0.8,0.4-1.2c0-0.1,0.1-0.2,0.1-0.3c0.1-0.3,0.1-0.5,0.2-0.6c0.1-0.1,0.1-0.1,0.2-0.2c0.1,0,0.1-0.1,0.2-0.1    c0.3,0,0.4,0.2,0.7,1.2c0.1,0.4,0.2,0.8,0.4,1.2c0,0,0,0,0,0c0,0,0,0,0,0c0,0,0,0,0,0c0.2,0.4,0.3,0.7,0.5,1c0,0,0,0,0,0    c0.1,0.2,0.3,0.4,0.5,0.6c0.1,0.1,0.1,0.1,0.2,0.2c0,0,0.1,0.1,0.1,0.1c0,0,0,0,0,0c0,0,0,0,0,0c0.1,0.1,0.1,0.1,0.2,0.2    c0.1,0.1,0.2,0.2,0.4,0.3c0.2,0.1,0.3,0.2,0.5,0.3c0,0,0,0,0,0l0,0c0.1,0.1,0.2,0.2,0.4,0.2c0.1,0.1,0.2,0.1,0.4,0.2    c0,0,0.1,0,0.1,0c0,0,0.1,0,0.1,0c0.2,0.1,0.4,0.2,0.6,0.2c0.1,0,0.2,0,0.3,0.1c0.2,0,0.3,0.1,0.5,0.1c0,0,0.1,0,0.1,0    c0.3,0,0.6,0.1,0.9,0.1c0.3,0,0.6,0,0.9-0.1c0.2,0,0.3-0.1,0.5-0.1c0.1,0,0.2-0.1,0.4-0.1c0.2-0.1,0.4-0.1,0.6-0.2    c0,0,0.1,0,0.1-0.1c0.2-0.1,0.5-0.2,0.7-0.4l0,0v0c0.2-0.1,0.4-0.2,0.5-0.3C24.5,25,24.6,24.9,24.7,24.7    C24.7,24.7,24.7,24.7,24.7,24.7z M9,23.6c-0.5,0.3-1.1,0.5-1.8,0.5c-0.6,0-1.2-0.2-1.8-0.5c-1.2-0.6-2.1-1.9-2.1-3.4    c0-2.1,1.7-3.9,3.9-3.9c2.1,0,3.9,1.7,3.9,3.9C11.1,21.7,10.3,23,9,23.6z M22.4,23.6c-0.5,0.3-1.1,0.5-1.8,0.5    c-0.6,0-1.2-0.2-1.8-0.5c-1.2-0.6-2.1-1.9-2.1-3.4c0-2.1,1.7-3.9,3.9-3.9c2.1,0,3.9,1.7,3.9,3.9C24.5,21.7,23.6,23,22.4,23.6z     M24.4,0H3.5C1.6,0,0,1.6,0,3.6v11.5v1.4c0.5-0.9,1.1-1.7,1.8-2.4V3.4c0-0.9,0.7-1.6,1.6-1.6h21.1c0.9,0,1.6,0.7,1.6,1.6v10.8    c0.7,0.7,1.3,1.5,1.8,2.4v-13C27.9,1.6,26.3,0,24.4,0z\" fill=\"#a27ce7\"></path>\n",
      "                                        </svg>\n",
      "                                        <span class=\"emotion-label\">후속기사 원해요</span>\n",
      "                                        <strong class=\"emotion-count\">0</strong>\n",
      "                                    </button>\n",
      "                                </div>\n",
      "                                <!--  -->\n",
      "                                <div class=\"article-copyright\">\n",
      "                                    <p class=\"copyright\">ⓒ 한경닷컴, 무단전재 및 재배포 금지</p>\n",
      "                                    \n",
      "                                    <div class=\"hk-subscribe-link\">\n",
      "                                        <a href=\"https://members.hankyung.com/?utm_source=dotcom&amp;utm_medium=article&amp;utm_campaign=affiliate\" target=\"_blank\" rel=\"nofollow\">한국경제 구독신청</a>\n",
      "\t\t\t\t\t\t\t\t\t\t<a href=\"https://plus.hankyung.com/?utm_source=dotcom&amp;utm_medium=mobilememu&amp;utm_campaign=affiliate\" target=\"_blank\" rel=\"nofollow\">모바일한경 보기</a>\n",
      "                                    </div>\n",
      "                                    \n",
      "                                </div>\n",
      "                                <!--  -->\n",
      "\n",
      "                                <!--  -->\n",
      "\n",
      "                                <div class=\"article-recirculation\">\n",
      "                                    <!-- AD -->\n",
      "                                    <div class=\"ad-wrap col2-20-336 ad_area\">\n",
      "                                        <div class=\"ad-box byline_bottom_ad_left\" style=\"min-height: 250px;\"><div id=\"div-gpt-ad-1656034614557-0\" style=\"min-width: 300px; min-height: 250px; display: none;\" data-google-query-id=\"CILvg97BioUDFV2Q6QUdn1oODg\"><div id=\"google_ads_iframe_/3448900/hdv405_view_B_rec03_0__container__\" style=\"border: 0pt none; margin: auto; text-align: center; width: 300px; height: 0px;\"></div></div></div>\n",
      "                                        <div class=\"ad-box byline_bottom_ad_right\" style=\"min-height: 250px;\"><div id=\"div-gpt-ad-1656034826411-0\" style=\"min-width: 300px; min-height: 250px; display: none;\" data-google-query-id=\"CN3fhN7BioUDFaed6QUd8l4H3g\"><div id=\"google_ads_iframe_/3448900/News_Rec2_0__container__\" style=\"border: 0pt none; margin: auto; text-align: center; width: 300px; height: 0px;\"></div></div></div>\n",
      "                                    </div>\n",
      "                                    \n",
      "\n",
      "                                    <!-- 관련뉴스 -->\n",
      "                                    <div class=\"related-article\">\n",
      "                                        <div class=\"article-label\">\n",
      "                                            <strong>관련 뉴스</strong>\n",
      "                                        </div>\n",
      "                                        <ol class=\"article-list-module\">\n",
      "                                            <li>\n",
      "                                                <em class=\"num txt-num\">1</em>\n",
      "                                                <div class=\"news-item\">\n",
      "                                                    <div class=\"txt-cont\">\n",
      "                                                        <p class=\"news-tit\">\n",
      "                                                            <a href=\"https://www.hankyung.com/article/2024022231781\" data-pm=\"N\">\n",
      "                                                                전설의 음악가들이 명작 쏟아낸 곳, 런던\n",
      "                                                            </a>\n",
      "                                                        </p>\n",
      "                                                        <p class=\"lead\">\n",
      "                                                            “17세 때 생애 첫 음반을 녹음하기 위해 방문한 도시가 런던이었어요. 당시 런던 로열 앨버트홀에서 영국 명문 음악제인 BBC 프롬스가 열렸는데, 사람들이 마치 록 콘서트에 온 것처럼 모두 일어서서 클래식 음악을 즐기고 있었죠. (다른 도시에선 볼 수 없는 광경에) 너무나 놀란 기억이 있습니다. 연주자로 살면서 런던에만 70번은 족히 온 것 같아요.”그래미상, 그라모폰상, 에코클래식상 등 국제적 권위의 음반상을 전부 휩쓴 미국 출신 거장 바이올리니스트 조슈아 벨(57)이 뉴욕타임스와의 인터뷰에서 남긴 얘기다. 그의 말에서 짐작할 수 있듯, 영국의 수도 런던은 세계 최고 음악가와 오케스트라들이 너나 할 것 없이 찾는 ‘예술의 도시’다.브렉시트(영국의 유럽연합 탈퇴) 등의 영향으로 도시의 권위가 예전보다 덜하다고들 하지만 여전히 유럽 클래식 음악계에서 런던의 입지는 굳건하다. 영국으로 귀화한 헨델(독일)부터 하이든(오스트리아), 클레멘티(이탈리아), 멘델스존(독일) 등 전설적인 음악가들이 오래 머물며 수많은 명작을 쏟아낸 도시가 바로 런던.올해로 129년 된 세계 최대 규모의 클래식 음악 축제 BBC 프롬스가 열리는 도시라는 점도 그렇다. 영국 공영방송 BBC가 주최하는 이 축제는 화려한 아티스트 라인업과 믿기지 않는 저렴한 티켓 가격, 청중이 바닥에 앉거나 자리에 서서 편안하게 음악을 즐기도록 하는 혁신적인 공연 형식 등으로 ‘클래식 음악의 대중화’를 이끈 주역으로 평가받는다. 축제가 열리는 7월부터 9월까지 여름철 세계인의 귀를 매혹하는 게 BBC 프롬스라면, 사계절 내내 클래식 음악의 진수를 느낄 수 있는 런던의 명소들도 있다.음악가에게 ‘꿈의 무대’로 불리는 123년 역사의 명문 음악당 위그모어홀, 그리고 세계적인 명성을 자랑하는 런던 심포니 오케스트라의 상주 공연장 바비칸센터가 그 주인공이다. 영국 클래식 음악계의 자존심이라고 할 만한 두 공연장을 미리 가봤다. 올해 런던 위그모어홀과 바비칸센터에선 피아니스트 임윤찬·언드라시 시프·알렉상드르 캉토로프, 바이올리니스트 아네 조피 무터·힐러리 한·율리아 피셔 등 독보적인 권위를 자랑하는 음악가들의 연주가 이어진다.무대까지 단 세 뼘…550석 작은 음악당에 클래식 거장들 줄 선다123년 역사의 정통 클래식 무대, 위그모어홀영국 런던에 자리한 위그모어홀은 신예 음악가들이 세계적인 반열에 오르기 위해 꼭 거쳐야 하는 ‘관문’ 같은 장소로 통한다. “미국에 카네기홀이 있다면 유럽엔 위그모어홀이 있다”는 말이 있을 정도다. 공연이 열렸다 하면 웬만한 클래식 애호가, 연주자, 음악 기획자부터 내로라하는 유명 비평가까지 모두 이곳을 찾는다. 550석 규모의 작은 음악당이 수천 명을 수용하는 유명 콘서트홀과 어깨를 나란히 할 정도로 높은 명성을 자랑하는 데엔 이유가 있다. 123년의 긴 역사 속, 그야말로 ‘전설’이라고 할 만한 음악가들의 숨결이 녹아있는 장소라서다.위그모어홀이 세상에 모습을 드러낸 건 1901년 5월 31일. 이탈리아 피아니스트 겸 작곡가 페루치오 부소니, 벨기에 바이올리니스트 겸 작곡가 외젠 이자이 등 당대 엄청난 명성을 자랑한 거장들의 공연이 열리면서다. 이후 브람스에게 영감을 준 세기의 바이올리니스트 요제프 요아힘, 피아노의 명인 블라디미르 드 파흐만 등 수많은 연주자가 위그모어홀 무대에 올랐다. 라벨, 생상스, 포레 등 이름만 들어도 다 알 만한 유수 작곡가들도 위그모어홀을 직접 찾아 자신의 작품 연주를 자주 즐겼다고 기록돼 있다. 20세기를 대표하는 거장 피아니스트 아르투르 루빈스타인은 1976년 위그모어홀에서 그의 마지막 연주를 남기기도 했다.지금도 다르지 않다. 피아니스트 언드라시 시프, 다닐 트리포노프 등 현존하는 최고의 음악가들이 끊임없이 이 무대에 오르며 새로운 역사를 만들고 있다. 위그모어홀이 음악가들에게 ‘꿈의 무대’로 불리는 이유다. 실제로 피아니스트 임윤찬도 미국 밴 클라이번 콩쿠르에서 우승하기 전 한 인터뷰에서 “미국 카네기홀처럼 규모가 크지 않더라도, 정말 위대한 음악가들이 거쳐 간 그런 장소들을 좋아한다. (기회가 된다면) 어릴 때부터 항상 꿈꿔왔던 ‘위그모어홀’에 꼭 서보고 싶다”고 말한 바 있다.지금은 위그모어홀이란 명칭이 너무나 익숙하지만, 개관 당시 이름은 ‘벡스타인홀’이었다. 독일 피아노 제조업체 벡스타인이 자사 피아노 전시실 옆에 지은 홀이란 이유에서다. 제1차 세계대전 때 독일 기업 자산으로 압류돼 문을 닫았다가 1916년 데벤햄스그룹에 매각됐고 이듬해 다시 문을 열었다. 이때 홀이 자리한 거리의 이름을 따서 만들어진 정식 명칭이 지금의 ‘위그모어홀’이다.사보이호텔 등을 설계한 건축가 토머스 에드워드 콜컷이 르네상스 양식으로 지은 이 홀은 설립 초기 모습을 거의 그대로 보존하고 있다. 붉은색 대리석과 앨러배스터(설화석고)로 만들어진 오묘한 벽면과 긴 세월에 빛바랜 금색 가스등, 촛대 등은 고풍스러운 아름다움을 드러낸다.물론 누가 뭐라 해도 이 홀의 시그니처는 반원형 무대 위쪽에 있는 ‘음악의 영혼’ 천장화다. 화가 제럴드 모이라가 디자인한 이 천장화 중앙에는 ‘음악의 영혼’을 의미하는 무성(無性)의 존재가 황금빛으로 장식돼 있다. 그 양옆에 있는 연주자와 작곡가에겐 에로스의 연인 프시케가 영감을 불어넣고 있다.불필요한 울림은 용납되지 않는다…피아노와 나만 있는 '황홀경''피아노 거장' 레온 맥컬리 연주 리뷰“따르르르르릉. 따르르르르릉.”지난 7일 저녁 런던의 위그모어홀. 고전 영화 속 오래된 전화기가 요란하게 울릴 때나 들릴 법한 독특한 벨 소리가 공연장 전체에 쩌렁쩌렁 울렸다. 곧 연주가 시작된다는 신호였다. 마치 1900년대 음악가들이 활동하던 때로 시간 여행을 보내주듯, 123년 역사의 위그모어홀은 첫 만남부터 뇌리에 강렬한 인상을 남겼다.1~2분 정도 지났을까. 피아노 뒤 좁은 문을 열고 한 연주자가 등장했다. 프랑스 최고 음반상인 ‘디아파종 도르’, 그라모폰의 ‘에디터스 초이스’를 차지한 데 이어 영국 BBC 뮤직 매거진에서 별 5개 만점의 극찬을 받은 명피아니스트 레온 매컬리였다.연주가 시작되자마자 ‘와!’란 감탄사가 터져 나올 뻔했다. 위그모어홀의 음향은 그 명성대로 최고였다. 피아니스트의 터치 하나하나가 마치 섬세하게 빚어낸 유리알처럼 선명하게 튀어 올라 귀에 꽂혔다. 불필요한 울림은 용납하는 법이 없었다. 위그모어홀에서의 매컬리 연주는 마치 피아노와 듣는 이 두 존재만이 독대(獨對)하는 듯한 신비로운 경험을 선사했다. 소리의 초점이 완벽하게 모여드는 탄탄한 음향, 어느 한 선율도 해치지 않는 입체적인 음향은 단 3분도 안 돼 청중 모두를 황홀경에 빠지게 할 만큼 훌륭했다.물론 연주자의 기량이 원체 뛰어났기에 가능한 일이었다. 매컬리는 첫 곡인 하이든 피아노 소나타 D장조에서 건반을 깊게 누르기보단 반동에 의해 손이 하늘을 향해 떠오르도록 가볍게 툭툭 끊어 연주했다. 섬세하게 밀도를 조율하다가도 돌연 무게감 있는 터치로 뼈대가 되는 음을 명료히 강조하는 그의 연주는 하이든의 견고한 구조와 짜임새를 드러내기에 부족함이 없었다. 쇼팽 즉흥곡 1번은 담백했다. 따뜻한 색채와 우아한 서정을 부각하려는 요즘 피아니스트들의 연주와 비교하면 매컬리는 겉멋을 쫙 빼고 악보에 명시된 내용을 그때그때 충실히 수행하는 데 집중한 듯했다.마지막 작품은 슈베르트 4개의 즉흥곡 D.935. 네 곡이 일체를 이루도록 호흡을 길게 가져가면서도 건반을 치는 속도와 무게, 피아노의 배음과 잔음 등을 예민하게 조율하며 각 즉흥곡의 성격을 명징하게 들려줬다. 순식간에 고음에서 저음으로 쏟아지는 듯한 격렬한 아르페지오 연주로 폭발적인 에너지를 내뿜어냈다.“‘이 경이로운 홀’을 언제까지나 계속 지지해주십시오.” 전설의 피아니스트 아르투르 루빈스타인이 위그모어홀에서 자신의 마지막 연주를 올리며 남긴 말이다. 매컬리의 마음도 같은 것처럼 보였다.무대와 객석 간 최소 거리가 세 뼘 정도밖에 안 되는 이 작은 음악당에서 그는 단 한 음도 허투루 내지 않았고, 홀은 음악가들의 언어 하나하나를 아름답게 빚어내 청중에게 전했다. ‘왜 위그모어홀에서 꼭 연주를 들어봐야 하는가’에 대한 답이 될 만한 무대였다.&nbsp;거친 콘크리트 속에 감성 숨었네…런던 심포니 품은 '바비칸센터'공연부터 영화까지…유럽 최대 문화공간,&nbsp;바비칸 센터영국 바비칸센터는 ‘유럽 최대 복합예술문화센터’로 불리는 런던의 명소다. 외관부터 남다르다. 가공하지 않은 재료와 설비, 노출된 콘크리트 때문에 보는 순간 ‘어딘가 음산하고 거칠다’란 인상을 남긴다. 1950~1970년대 영국 건축계에서 유행한 ‘브루탈리즘(Brutalism)’ 양식으로 만들어진 영향이다. 브루탈리즘이란 우아한 아름다움을 추구하는 전통적인 서구 건축에 비해 다소 야수적인 건축을 지향하는 사조를 뜻한다. 제2차 세계대전 때 가장 폭격이 심했던 지역에서 도시 개발 프로젝트의 일환으로 설계된 바비칸센터는 10여 년의 공사를 거쳐 1982년 문을 열었다. 설계에는 건축가 체임벌린, 파월, 본이 참여했다. 독특한 외형 탓에 한때 BBC가 선정한 ‘가장 흉물스러운 건물 1위’로 뽑히기도 했지만, 지금은 세계에서 가장 훌륭한 건축물을 꼽을 때 늘 빠지지 않는다. 2001년엔 문화체육관광부로부터 2급 보존 건물로 지정되면서 가치를 인정받기도 했다.영국 런던의 금융 중심가에 자리한 바비칸센터에선 클래식 공연은 물론 전시, 연극, 영화 등 다양한 문화생활을 한 번에 즐길 수 있다. 2000석 규모의 바비칸 메인 홀과 1150석 규모의 바비칸 극장 앞은 언제나 공연을 기다리는 가족 단위의 인파로 북적이고, 2층에 대규모로 설계된 공공 도서관은 원하는 책과 음원을 찾으려는 사람들로 들끓는다. 이 도서관은 200만 개 이상의 클래식 음악 트랙과 3000개 이상의 클래식 음악 공연 비디오를 제공하는 것으로 잘 알려져 있다. 장미셸 바스키아, 리 크래스너 등 세계에서 주목받는 작가들의 작품을 볼 수 있는 아트 갤러리는 3층에 있다. 바비칸센터엔 1500종 이상의 식물을 기르고 있는 온실이 있는데, 여기선 조각가들이 설치한 예술품도 함께 관람할 수 있다. 야외 테라스에선 투박한 질감의 센터 외관과 녹색 빛깔의 신비로운 분수대를 가까이서 볼 수 있다.클래식 애호가 사이에서 바비칸센터는 세계적인 명문 악단 런던 심포니 오케스트라의 상주 공연장으로 더 유명하다. 런던 심포니는 주로 바비칸 홀에서 공연을 여는데, 클래식 전용 콘서트홀이 아닌 만큼 음향적으로는 아쉽다는 평가가 지배적이다.오래된 음향 때문에 거장 지휘자 사이먼 래틀이 런던 심포니 음악감독 재임 시절 런던시에 새로운 공연장 설립을 강하게 요구했단 건 잘 알려진 사실이다. 이에 런던시가 2억8800만파운드(약 4860억원)를 들여 새 공연장을 짓겠다는 계획을 밝히기도 했지만, 비용 등의 문제로 결국 무산됐다. 바비칸센터가 런던 심포니엔 애증의 공간인 셈이다.한음 한음 전해지는 감동에…점잖은 英 신사, 벌떡 일어나 \"브라보\"'유럽 명문' 런던 심포니 공연 리뷰“정말 경악할 만한 연주예요. 숨이 멎는 줄 알았다고요. 안 그런가요?”지난 8일 저녁 영국 런던 바비칸홀. 런던 심포니 오케스트라 단원들이 마침내 움직임을 멈추자 곧바로 자리에서 일어나 열렬히 박수를 치던 한 60대 신사가 건넨 말이다. 그 혼자만의 감정이 아니었다. 공연장을 가득 메운 2000명 규모의 청중은 이제야 비로소 숨을 내쉴 수 있겠다는 듯 일제히 큰 탄성을 내뱉었다. 그럴 만한 연주였다. 바비칸 홀을 뚫고 나오는 런던 심포니의 강렬한 음색과 응축된 소리의 움직임은 듣는 내내 온몸이 동아줄로 꽁꽁 묶였다 느껴질 정도로 아찔했다.출연진부터 범상치 않았다. 현재 여성 지휘자로는 유일하게 미국 주요 오케스트라의 수장을 맡는 마에스트라 나탈리 스튀츠망(애틀랜타 심포니 음악감독)이 지휘봉을 잡았고, 그라모폰상을 7차례나 거머쥔 노르웨이 출신인 피아노 거장 레이프 오베 안스네스가 협연자로 무대에 올랐다. 이들이 함께 들려준 작품은 모차르트 피아노 협주곡 22번. 안스네스의 연주는 잠시도 눈과 귀를 뗄 수 없을 만큼 생동감이 넘쳤다. 아티큘레이션(각 음을 분명하게 연주하는 기법), 음역에 따라 색채까지 바꿔가면서 풍부한 양감을 만들어내는 실력은 일품이었다. 모차르트가 악보에 써낸 음악적 언어, 견고한 구조, 짜임새가 더할나위 없이 선명하게 드러났다.하이라이트는 브루크너 교향곡 7번 연주였다. 브루크너 교향곡 1악장 초입은 차분하게 출발해 서서히 해가 떠오르듯 악상을 펼쳐내면서 극적인 발전을 이루는 게 백미인데, 스튀츠망이 이끄는 런던 심포니는 작품의 역동적 변화를 더없이 완벽하게 들려줬다. 현의 통일된 트레몰로(한 음을 빠르게 되풀이하는 연주) 위로 덧입혀진 호른과 첼로의 단단한 울림, 선율에 새로운 성부가 하나씩 더해지는 순간마다 강해지는 응집력, 모든 악기가 일사불란하게 움직이며 만들어내는 광활한 에너지는 마치 거대한 음(音)의 홍수가 머리 위로 쏟아지는 것 같은 압도적 경험을 선사했다.그저 각 음역만 채워내는 단순한 소리가 아닌, 작품을 완전히 꿰고 있을 때만 낼 수 있는 입체적이면서도 기승전결이 분명한 연주였다. 거대한 음향, 생동감 넘치는 리듬 표현, 폭넓은 다이내믹, 장대한 에너지로 마지막 한 음까지 빈틈없이 몰아붙이는 결말은 브루크너가 그린 ‘환희의 세계’ 그 자체였다. 한스 리히터, 클라우디오 아바도, 사이먼 래틀 등 세계적인 명장의 손을 거친 120년 전통의 오케스트라 연주는 여러모로 다른 차원이었다. ‘명불허전(名不虛傳).’ 이보다 더 정확히 이들의 연주를 표현할 단어가 또 있을까.런던=김수현 기자 ksoohyun@hankyung.com\n",
      "                                                        </p>\n",
      "                                                    </div>\n",
      "                                                    <div class=\"thumb\">\n",
      "                                                        <a href=\"https://www.hankyung.com/article/2024022231781\">\n",
      "                                                            <img src=\"https://img.hankyung.com/photo/202402/AA.35919062.3.jpg\" alt=\"전설의 음악가들이 명작 쏟아낸 곳, 런던\" loading=\"lazy\">\n",
      "                                                        </a>\n",
      "                                                    </div>\n",
      "                                                </div>\n",
      "                                            </li>\n",
      "                                            <li>\n",
      "                                                <em class=\"num txt-num\">2</em>\n",
      "                                                <div class=\"news-item\">\n",
      "                                                    <div class=\"txt-cont\">\n",
      "                                                        <p class=\"news-tit\">\n",
      "                                                            <a href=\"https://www.hankyung.com/article/202402223262i\" data-pm=\"N\">\n",
      "                                                                명검의 날은 단련 없이 서지 않는다 [고두현의 아침 시편]\n",
      "                                                            </a>\n",
      "                                                        </p>\n",
      "                                                        <p class=\"lead\">\n",
      "                                                            &nbsp; 희망가&nbsp;&nbsp; &nbsp; &nbsp; &nbsp; &nbsp; &nbsp; &nbsp; &nbsp; 문병란&nbsp;얼음장 밑에서도&nbsp;고기는 헤엄을 치고&nbsp;눈보라 속에서도&nbsp;매화는 꽃망울을 튼다.&nbsp;절망 속에서도&nbsp;삶의 끈기는 희망을 찾고&nbsp;사막의 고통 속에서도&nbsp;인간은 오아시스의 그늘을 찾는다.&nbsp;눈 덮인 겨울의 밭고랑에서도&nbsp;보리는 뿌리를 뻗고&nbsp;마늘은 빙점에서도&nbsp;그 매운 맛 향기를 지닌다.&nbsp;절망은 희망의 어머니&nbsp;고통은 행복의 스승&nbsp;시련 없이 성취는 오지 않고&nbsp;단련 없이 명검은 날이 서지 않는다.&nbsp;꿈꾸는 자여, 어둠 속에서&nbsp;멀리 반짝이는 별빛을 따라&nbsp;긴 고행길 멈추지 말라&nbsp;인생항로&nbsp;파도는 높고&nbsp;폭풍우 몰아쳐 배는 흔들려도&nbsp;한 고비 지나면&nbsp;구름 뒤 태양은 다시 뜨고&nbsp;고요한 뱃길 순항의 내일이 꼭 찾아온다.&nbsp;---------------------------------&nbsp;여기 드라마틱한 삶이 있습니다. 노숙자에서 억만장자가 된 남자 이야기입니다. 그는 1954년 미국 시카고 인근의 밀워키에서 태어났습니다. 4남매 중 막내였는데, 날마다 의붓아버지의 폭력에 시달렸습니다.&nbsp;여덟 살 때부터는 남의 집에 입양돼 여러 곳을 전전해야 했지요. 그나마 용기를 북돋워 주는 어머니와 삼촌들 덕분에 학업은 계속할 수 있었습니다. 우수한 성적으로 고등학교를 졸업했지만, 형편이 어려워 대학 진학은 포기할 수밖에 없었습니다.&nbsp;해군에 입대했다가 제대한 뒤 샌프란시스코에서 가정을 꾸린 그는 의료기 세일즈맨으로 겨우 생계를 유지했지요. 하지만 의료기 영업은 부진했고, 빈곤 속에서 아내와의 관계도 삐거덕거렸습니다.&nbsp;&nbsp;극심한 생활고에 시달리던 그는 우연히 만난 주식중개인의 추천으로 주식중개에 뛰어들었지만, 얼마 지나지 않아 학력 때문에 해고당했습니다. 설상가상으로 주차비를 못 내 구치소 신세까지 져야 했죠. 풀려나서 보니 집도 아내도 없고 세 살배기 아들만 남아있었습니다.&nbsp;오갈 데가 없어진 그는 낮에 날품을 팔고, 밤에는 아들을 재울 노숙자 쉼터를 찾아 헤맸습니다. 쉼터가 다 찬 날은 바깥에서 잘 수밖에 없었습니다. 아들을 데리고 지하철역이나 공중화장실에서 밤을 지새우기도 했죠. 갑작스레 문을 두드리는 소리에 무서워 떨다가 눈물을 흘리기도 했습니다.&nbsp;한 회사의 인턴십 프로그램에 합격했지만, 무급이나 다름없는 인턴 수입으로는 목에 풀칠도 하기 어려웠습니다. 어쩔 수 없이 노숙자 쉼터의 수프로 끼니를 때우고 화장실 세면대에서 아들을 목욕시켜야 했지요.&nbsp;그 절박한 상황에서도 그는 어려움을 내색하지 않고 밤새 독학했습니다. 마침내 기회가 왔습니다. 그의 성실함을 알아본 대형 투자회사의 샌프란시스코 본부장이 그를 스카우트했지요. 이때 그의 나이는 스물여덟. 이후 그는 월스트리트에서 가장 성공한 투자사에서 최고의 열정과 노력으로 자신의 인생을 펼치기 시작합니다.&nbsp;그리고 각고의 노력 끝에 자신의 이름을 내건 투자사를 설립하고 억만장자로 성공했습니다. 노숙자에서 일약 스타가 된 그는 어려웠던 시절을 잊지 않고 수많은 자선단체에 기부금을 내며 절망에 빠진 사람들에게 희망을 선물하기 시작했습니다.&nbsp;그의 이름은 크리스 가드너. 그의 얘기는 TV ‘20/20’에 15분짜리 다큐멘터리로 소개됐습니다. 나중엔 오프라 윈프리 쇼에도 등장해 전 미국인의 콧등을 찡하게 했지요. TV를 보고 다음 날 아침 그에게 전화를 걸어 온 영화 기획자 마크 클레이먼에 의해 영화로 만들어지기까지 했습니다. 그 영화가 바로 국내에서도 개봉된 ‘행복을 찾아서’입니다.&nbsp;&nbsp;영화와 함께 출간된 그의 자서전 &lt;행복을 찾아서&gt;(The Pursuit of Happyness) 또한 뉴욕타임스 베스트셀러를 장식했지요. 우리나라에도 번역 출간된 이 책에서 그는 “나는 안되는구나, 하고 포기하고 싶을 때가 있다. 그때 지금 그 자리에서 다시 시작하라. 세상에서 가장 큰 선물은 자기 자신에게 기회를 주는 삶이다”라고 강조했습니다.&nbsp;그가 자주 들려주던 또 다른 말도 감동적입니다. “나는 노숙자(homeless)지만 희망이 없는 것(hopeless)은 아니야.”■ 고두현 시인 : 1993년 중앙일보 신춘문예 당선. 시집 『늦게 온 소포』, 『물미해안에서 보내는 편지』, 『달의 뒷면을 보다』 등 출간. 유심작품상, 김만중문학상, 시와시학 젊은시인상 등 수상.&nbsp;\n",
      "                                                        </p>\n",
      "                                                    </div>\n",
      "                                                    <div class=\"thumb\">\n",
      "                                                        <a href=\"https://www.hankyung.com/article/202402223262i\">\n",
      "                                                            <img src=\"https://img.hankyung.com/photo/202402/01.35919315.3.jpg\" alt=\"명검의 날은 단련 없이 서지 않는다 [고두현의 아침 시편]\" loading=\"lazy\">\n",
      "                                                        </a>\n",
      "                                                    </div>\n",
      "                                                </div>\n",
      "                                            </li>\n",
      "                                            <li>\n",
      "                                                <em class=\"num txt-num\">3</em>\n",
      "                                                <div class=\"news-item\">\n",
      "                                                    <div class=\"txt-cont\">\n",
      "                                                        <p class=\"news-tit\">\n",
      "                                                            <a href=\"https://www.hankyung.com/article/2024022231601\" data-pm=\"N\">\n",
      "                                                                샤넬과 발레의 만남…'전설의 무용수' 자하로바가 춘다\n",
      "                                                            </a>\n",
      "                                                        </p>\n",
      "                                                        <p class=\"lead\">\n",
      "                                                            럭셔리는 편안해야 한다.&nbsp;그렇지 않으면 럭셔리가 아니다.- 가브리엘 샤넬“육체의 자유보다 아름다운 것은 없다.”가브리엘 샤넬의 옷은 ‘해방의 패션’이었다. 그는 편안하지만 우아한 여성복을 세상에 내놓아 거추장스럽고 무거운 옷으로부터 여성을 해방했다. 그 시작은 모자였다. 1900년대 초반 유행한 여성 모자는 꽃과 레이스 등 각종 장신구로 화려하게 꾸며져 무겁고 불편했다. 27세의 샤넬은 이런 유행을 정면으로 거슬렀다. 작고 가벼워 활동성이 좋은 여성 모자를 선보인 그는 단숨에 파리 패션계의 이목을 사로잡았다.샤넬은 거추장스럽고 불편한 여성복에 과감히 칼질하며 패션 혁명을 이끌었다. 땅에 질질 끌리던 치마 대신 무릎 아래로 살짝 내려오는 ‘샤넬 라인’ 스커트, 가벼운 소재의 저지 원피스, 남성복에만 쓰이던 검은색을 사용한 드레스를 내놓았다. 코르셋으로 옥죄이던 여성의 몸을 해방한 샤넬은 남성 중심 패션계의 벽을 허물고 여성 패션의 전설이 됐다.그로부터 100여 년이 지나 세계적인 명품 브랜드로 자리매김한 샤넬이 또 다른 벽을 넘어섰다. 장르를 초월해 발레와 만난 것. 패션과 무용계의 이목을 동시에 집중시킨 ‘모댄스’가 오는 4월 한국에 온다.&nbsp;샤넬과 발레가 만나다모댄스(MODANSE)는 ‘패션’을 의미하는 프랑스어 ‘모드(Mode)’에 ‘춤’을 의미하는 ‘당스(Danse)’를 합친 말이다. 발레에 패션을 접목한 이 작품은 2019년 6월 러시아 모스크바의 볼쇼이 극장에서 처음으로 선보였다. 두 편의 단막 발레 ‘숨결처럼’과 ‘가브리엘 샤넬’로 이뤄진 더블 빌 작품으로 몇 개의 장면이 단편 드라마처럼 펼쳐진다. 샤넬의 상징적인 드레스만큼이나 모던하고 미니멀한 무대가 특징이다.첫 번째 발레 ‘숨결처럼’은 구조적이고 절제된 바로크 음악에 맞춘 신체의 움직임을 보여주는 작품이다. 헨델의 음악 위로 코르셋을 연상시키는 의상을 입은 두 명의 무용수가 2인무를 펼친다.두 번째 작품 ‘가브리엘 샤넬’은 고전 복식에서 여성의 몸을 해방한 가브리엘 샤넬의 일대기를 그린다. 앞서 ‘숨결처럼’의 무용수들이 코르셋을 입었다면 ‘가브리엘 샤넬’ 무대에서는 코르셋을 없애는 데 앞장선 샤넬의 옷을 몸에 두르고 춤춘다. 샤넬이 카바레에서 공연하던 시절과 아틀리에에서 수련하던 모습, 모자 디자인으로 시작한 패션계 데뷔, 승마와 골프 등 사교 클럽에서 패션쇼 무대까지 아우른다. 샤넬의 인생에서 가장 중요했던 두 남자, 에티엔 발장과 아서 카펠도 등장한다.무대 의상은 샤넬과 협업해 만들었다. 샤넬 패션하우스의 크리에이티브 디렉터 버지니 비아르가 의상 디자인에 참여해 80여 벌의 무대 의상을 선보인다. 샤넬을 상징하는 흰색 모자와 트위드 재킷을 착용한 무용수들이 가브리엘 샤넬이 패션을 통해 불우한 환경, 시대의 가치관과 싸워나가는 이야기를 몸짓으로 펼쳐낸다. 샤넬의 의상과 발레의 움직임이 ‘자유’라는 샤넬의 철학을 통해 어우러지는 작품이다.&nbsp;살아있는 전설 스베틀라나 자하로바무대의 절정은 볼쇼이발레단에서도 ‘살아있는 전설’로 불리는 세계 최정상 발레리나 스베틀라나 자하로바다. ‘자하로바의 밤’이라는 공연 부제에 나타나듯 모댄스는 자하로바 없인 불가능한 공연이기도 하다. 나이 40을 넘긴 지금도 화려한 기교를 뽐내는 자하로바는 173㎝의 큰 키와 긴 팔다리, 작은 얼굴로 ‘신이 내린 몸’이라는 극찬을 받는 무용수.그는 1976년 소비에트연방(현 우크라이나)의 작은 도시 루츠크에서 태어났다. 열 살이 되던 해 키예프(키이우) 안무학교에 입학해 15세에 바가노바 프리 콩쿠르에서 최연소 2위에 올랐다. 이를 계기로 명문 발레 교육기관인 바가노바아카데미에 월반 기록을 세우며 편입했다. 17세에 졸업과 동시에 키로프발레단(현 마린스키발레단)에 입단한 그는 1년 후 프리마 발레리나로 승급했다. 10대에 전막 발레를 이끄는 주역 무용수로 비상한 자하로바는 수많은 발레 레퍼토리를 섭렵했다.무용계의 아카데미상 ‘브누아 드 라 당스’를 두 번이나 수상한 그는 ‘프리마 발레리나 아솔루타’로 불린다. 시대를 대표하는 발레리나에게만 주어지는 칭호다. 4년 만에 한국을 찾는 자하로바는 볼쇼이발레단의 주역 무용수들과 함께 샤넬의 명작을 입고 춤을 출 예정. 현재 이탈리아 라스칼라발레단의 에투알이자 볼쇼이발레단의 프리마 발레리나로 활동하고 있다. 모댄스는 오는 4월 17일 첫 공연을 시작으로 19일부터 21일까지 서울 예술의전당 오페라극장에서 열린다.구교범 기자 gugyobeom@hankyung.com\n",
      "                                                        </p>\n",
      "                                                    </div>\n",
      "                                                    <div class=\"thumb\">\n",
      "                                                        <a href=\"https://www.hankyung.com/article/2024022231601\">\n",
      "                                                            <img src=\"https://img.hankyung.com/photo/202402/AA.35916081.3.jpg\" alt=\"샤넬과 발레의 만남…'전설의 무용수' 자하로바가 춘다\" loading=\"lazy\">\n",
      "                                                        </a>\n",
      "                                                    </div>\n",
      "                                                </div>\n",
      "                                            </li>\n",
      "                                        </ol>\n",
      "                                    </div>\n",
      "\n",
      "                                    <!-- 댓글 -->\n",
      "                                    <div id=\"commentsSector-hk\" class=\"comments-sector-hk\">\n",
      "                                        <div id=\"hk-comment-container\"><iframe src=\"//comment.hankyung.com/view?domain=hk&amp;pagetype=news&amp;pageid=2024022231661&amp;title=%EC%B0%BD%20%EB%B0%96%EC%9D%84%20%EB%B3%B4%EB%8A%94%20%ED%95%98%EB%85%80%E2%80%A6%EC%BA%94%EB%B2%84%EC%8A%A4%20%EB%B0%96%20'%EB%B2%A8%20%EC%97%90%ED%8F%AC%ED%81%AC'%EB%8A%94%20%EC%95%84%EB%A6%84%EB%8B%B5%EC%A7%80%20%EC%95%8A%EC%95%98%EB%8B%A4&amp;url=https%3A%2F%2Fwww.hankyung.com%2Farticle%2F2024022231661&amp;limit=5&amp;section=arte&amp;date=20240222\" id=\"hk-comment-client\" scrolling=\"no\" title=\"comment\" style=\"min-width: 100%; width: 100%; height: 266px; overflow: hidden; border: 0px;\"></iframe></div>\n",
      "                                        <script type=\"text/javascript\">\n",
      "                                            window.hkCommentOptions = {domain:\"hk\",type:\"news\",pageid:\"2024022231661\",limit:5};\n",
      "                                            /******/\n",
      "                                            (function(d, s) {\n",
      "                                                var j, e = d.getElementsByTagName(s)[0];\n",
      "                                                if (typeof HKCommentClient === 'object') { return; }\n",
      "                                                j = d.createElement(s);\n",
      "                                                j.src = 'https://comment.hankyung.com/js/embed.js?v=20230517';\n",
      "                                                j.async = true;\n",
      "                                                e.parentNode.insertBefore(j, e);\n",
      "                                            })(document, 'script');\n",
      "                                        </script>\n",
      "                                    </div>\n",
      "                                    \n",
      "                                    <!-- AD -->\n",
      "                                    <!-- 2022.11.04 임시종료-->\n",
      "                                    <!-- <div class=\"ad-wrap ad_area\">\n",
      "                                        <div class=\"ad-box\">\n",
      "                                            <div id=\"taboola-desktop-below-article-1\"></div>\n",
      "                                        </div>\n",
      "                                    </div> -->\n",
      "\n",
      "                                    <!-- <script type=\"text/javascript\" src=\"https://d1cykymlllue3h.cloudfront.net/js/hankyung_admaru_icv_01.js\"></script>\n",
      "                                    <div id=\"admaru_osv\" style='position:relative;width:300px;height:250px;margin:0 auto;display:none;'>\n",
      "                                        <script type=\"text/javascript\" src=\"https://imasdk.googleapis.com/js/sdkloader/ima3.js\"></script>\n",
      "                                        <script type=\"text/javascript\">var _c = new Date().getTime();document.write('<script src=\"https://ads.admaru.com/js/hankyung_admaru_incontentvideo.js?t='+_c+'\"><\\/script>');</script>\n",
      "                                    </div> -->\n",
      "\n",
      "                                    <!-- 2022.11.07 추가 -->\n",
      "                                    <div class=\"ad-wrap col2-20-300 ad_area\">\n",
      "                                        <div class=\"ad-box comment_bottom_ad_left\" style=\"min-height: 270px;\"><div id=\"div-gpt-ad-1667781807615-0\" style=\"min-width: 300px; min-height: 250px;\" data-google-query-id=\"CP6_hN7BioUDFYKV6QUdrXYDKg\"><div id=\"google_ads_iframe_/3448900/News_Rec1_0__container__\" style=\"border: 0pt none; margin: auto; text-align: center; width: 300px; height: 250px;\"><iframe frameborder=\"0\" src=\"https://c90b1c83604ed271c402649acf7ab830.safeframe.googlesyndication.com/safeframe/1-0-40/html/container.html\" id=\"google_ads_iframe_/3448900/News_Rec1_0\" title=\"3rd party ad content\" name=\"\" scrolling=\"no\" marginwidth=\"0\" marginheight=\"0\" width=\"300\" height=\"250\" data-is-safeframe=\"true\" sandbox=\"allow-forms allow-popups allow-popups-to-escape-sandbox allow-same-origin allow-scripts allow-top-navigation-by-user-activation\" aria-label=\"Advertisement\" tabindex=\"0\" data-google-container-id=\"a\" data-load-complete=\"true\" style=\"border: 0px; vertical-align: bottom;\"></iframe></div></div></div>\n",
      "                                        <div class=\"ad-box comment_bottom_ad_right\" style=\"min-height: 270px;\"><div id=\"div-gpt-ad-1667781875960-0\" style=\"min-width: 300px; min-height: 250px;\" data-google-query-id=\"CMPy6N7BioUDFS2V6QUd3qICXQ\"><div id=\"google_ads_iframe_/3448900/hdvB04_rectangle04_0__container__\" style=\"border: 0pt none; margin: auto; text-align: center; width: 300px; height: 250px;\"><iframe frameborder=\"0\" src=\"https://c90b1c83604ed271c402649acf7ab830.safeframe.googlesyndication.com/safeframe/1-0-40/html/container.html\" id=\"google_ads_iframe_/3448900/hdvB04_rectangle04_0\" title=\"3rd party ad content\" name=\"\" scrolling=\"no\" marginwidth=\"0\" marginheight=\"0\" width=\"300\" height=\"250\" data-is-safeframe=\"true\" sandbox=\"allow-forms allow-popups allow-popups-to-escape-sandbox allow-same-origin allow-scripts allow-top-navigation-by-user-activation\" aria-label=\"Advertisement\" tabindex=\"0\" data-google-container-id=\"b\" style=\"border: 0px; vertical-align: bottom;\" data-load-complete=\"true\"></iframe></div></div></div>\n",
      "                                    </div>\n",
      "\n",
      "                                    <!-- AD -->\n",
      "                                    <div class=\"ad-wrap comment_bottom_highlight_ad ad_area\"><div class=\"ad-box\"><iframe width=\"100%\" height=\"120\" src=\"//ad.reople.co.kr/cgi-bin/PelicanC.dll?impr?pageid=0Dbi&amp;out=iframe\" allowtransparency=\"true\" marginwidth=\"0\" marginheight=\"0\" hspace=\"0\" vspace=\"0\" frameborder=\"0\" scrolling=\"no\" sandbox=\"allow-same-origin allow-scripts allow-forms allow-top-navigation allow-popups allow-modals\"></iframe></div></div>\n",
      "\n",
      "                                    <div class=\"ad-wrap col2-20-300 ad_area\">\n",
      "                                        <div class=\"ad-box highlight_bottom_ad_left\" style=\"min-height: 270px;\">\n",
      "                                        <div id=\"div-gpt-ad-1669599078252-0\" style=\"min-width: 300px; min-height: 250px;\" data-google-query-id=\"CLeRht7BioUDFRCG6QUdJ3ALcg\"><div id=\"google_ads_iframe_/3448900/hdvb05_rectangle05_0__container__\" style=\"border: 0pt none; margin: auto; text-align: center; width: 300px; height: 250px;\"><iframe frameborder=\"0\" src=\"https://c90b1c83604ed271c402649acf7ab830.safeframe.googlesyndication.com/safeframe/1-0-40/html/container.html\" id=\"google_ads_iframe_/3448900/hdvb05_rectangle05_0\" title=\"3rd party ad content\" name=\"\" scrolling=\"no\" marginwidth=\"0\" marginheight=\"0\" width=\"300\" height=\"250\" data-is-safeframe=\"true\" sandbox=\"allow-forms allow-popups allow-popups-to-escape-sandbox allow-same-origin allow-scripts allow-top-navigation-by-user-activation\" aria-label=\"Advertisement\" tabindex=\"0\" data-google-container-id=\"c\" style=\"border: 0px; vertical-align: bottom;\" data-load-complete=\"true\"></iframe></div></div></div>\n",
      "                                        <div class=\"ad-box highlight_bottom_ad_right\" style=\"min-height: 270px;\">\n",
      "                                        <div id=\"div-gpt-ad-1669599041632-0\" style=\"min-width: 300px; min-height: 250px;\" data-google-query-id=\"CKiIh97BioUDFVGf6QUdvB4CFw\"><div id=\"google_ads_iframe_/3448900/hdvb06_rectangle06_0__container__\" style=\"border: 0pt none; margin: auto; text-align: center; width: 300px; height: 250px;\"><iframe frameborder=\"0\" src=\"https://c90b1c83604ed271c402649acf7ab830.safeframe.googlesyndication.com/safeframe/1-0-40/html/container.html\" id=\"google_ads_iframe_/3448900/hdvb06_rectangle06_0\" title=\"3rd party ad content\" name=\"\" scrolling=\"no\" marginwidth=\"0\" marginheight=\"0\" width=\"300\" height=\"250\" data-is-safeframe=\"true\" sandbox=\"allow-forms allow-popups allow-popups-to-escape-sandbox allow-same-origin allow-scripts allow-top-navigation-by-user-activation\" aria-label=\"Advertisement\" tabindex=\"0\" data-google-container-id=\"d\" data-load-complete=\"true\" style=\"border: 0px; vertical-align: bottom;\"></iframe></div></div></div>\n",
      "                                    </div>\n",
      "\n",
      "                                    <!-- 2022.11.04 임시종료-->\n",
      "                                    <!-- <div class=\"ad-wrap ad_area\">\n",
      "                                        <div class=\"ad-box\">\n",
      "                                            <div id=\"taboola-desktop-below-article-2\"></div>\n",
      "                                        </div>\n",
      "                                    </div> -->\n",
      "                                    \n",
      "                                    <!-- AD -->\n",
      "                                    <!-- <div class=\"ad-wrap col2-20-300 ad_area\">\n",
      "                                        <div class=\"ad-box\">\n",
      "                                            <img src=\"https://dummyimage.com/300x250/f3f3f3/222.png&amp;text=AD 300x250\" alt=\"\">\n",
      "                                        </div>\n",
      "                                        <div class=\"ad-box\">\n",
      "                                            <img src=\"https://dummyimage.com/300x250/f3f3f3/222.png&amp;text=AD 300x250\" alt=\"\">\n",
      "                                        </div>\n",
      "                                    </div> -->\n",
      "                                </div>\n",
      "                            </div>\n",
      "\n",
      "                            <aside class=\"aside\">\n",
      "                                <div class=\"aside-inner\">\n",
      "                                    <div class=\"aside-component\">\n",
      "                                        <div class=\"aside-tit-wrap\">\n",
      "                                            <strong class=\"aside-tit\">\n",
      "                                                오늘의 주요뉴스\n",
      "                                            </strong>\n",
      "                                        </div>\n",
      "                                        <ul class=\"aside-list-thumb\">\n",
      "                                            <li>\n",
      "                                                <div class=\"news-item type-thumb-lt\">\n",
      "                                                    <div class=\"txt-cont\">\n",
      "                                                        <p class=\"news-tit\">\n",
      "                                                            <a href=\"https://www.hankyung.com/article/202403229759g\" data-pm=\"N\">\n",
      "                                                                美 보란 듯 '당당하게'…中 화웨이 5G폰 또 내놓는다 \n",
      "                                                            </a>\n",
      "                                                        </p>\n",
      "                                                    </div>\n",
      "                                                    <div class=\"thumb\">\n",
      "                                                        <a href=\"https://www.hankyung.com/article/202403229759g\">\n",
      "                                                            <img src=\"https://img.hankyung.com/data/service/edit_img/202403/bcc61665e9365e832bafcd6c5a1f3662.jpg\" alt=\"美 보란 듯 '당당하게'…中 화웨이 5G폰 또 내놓는다 \" loading=\"lazy\">\n",
      "                                                        </a>\n",
      "                                                    </div>\n",
      "                                                </div>\n",
      "                                            </li>\n",
      "                                            <li>\n",
      "                                                <div class=\"news-item type-thumb-lt\">\n",
      "                                                    <div class=\"txt-cont\">\n",
      "                                                        <p class=\"news-tit\">\n",
      "                                                            <a href=\"https://www.hankyung.com/article/2024032314257\" data-pm=\"N\">\n",
      "                                                                \"의료 봉사 활동도 못 해\"…전공의 면허 정지 임박\n",
      "                                                            </a>\n",
      "                                                        </p>\n",
      "                                                    </div>\n",
      "                                                    <div class=\"thumb\">\n",
      "                                                        <a href=\"https://www.hankyung.com/article/2024032314257\">\n",
      "                                                            <img src=\"https://img.hankyung.com/photo/202403/ZA.35965048.3.jpg\" alt=\"&quot;의료 봉사 활동도 못 해&quot;…전공의 면허 정지 임박\" loading=\"lazy\">\n",
      "                                                        </a>\n",
      "                                                    </div>\n",
      "                                                </div>\n",
      "                                            </li>\n",
      "                                            <li>\n",
      "                                                <div class=\"news-item type-thumb-lt\">\n",
      "                                                    <div class=\"txt-cont\">\n",
      "                                                        <p class=\"news-tit\">\n",
      "                                                            <a href=\"https://www.hankyung.com/article/2024032202037\" data-pm=\"N\">\n",
      "                                                                작년부터 중국에서 조용히 사들이더니…사상 최고가 찍었다\n",
      "                                                            </a>\n",
      "                                                        </p>\n",
      "                                                    </div>\n",
      "                                                    <div class=\"thumb\">\n",
      "                                                        <a href=\"https://www.hankyung.com/article/2024032202037\">\n",
      "                                                            <img src=\"https://img.hankyung.com/photo/202403/ZN.36089828.3.jpg\" alt=\"작년부터 중국에서 조용히 사들이더니…사상 최고가 찍었다\" loading=\"lazy\">\n",
      "                                                        </a>\n",
      "                                                    </div>\n",
      "                                                </div>\n",
      "                                            </li>\n",
      "                                            <li>\n",
      "                                                <div class=\"news-item type-thumb-lt\">\n",
      "                                                    <div class=\"txt-cont\">\n",
      "                                                        <p class=\"news-tit\">\n",
      "                                                            <a href=\"https://www.hankyung.com/article/202403220068i\" data-pm=\"N\">\n",
      "                                                                \"누군 몇십억 벌었다더라\"…비트코인, 지금 들어가도 될까\n",
      "                                                            </a>\n",
      "                                                        </p>\n",
      "                                                    </div>\n",
      "                                                    <div class=\"thumb\">\n",
      "                                                        <a href=\"https://www.hankyung.com/article/202403220068i\">\n",
      "                                                            <img src=\"https://img.hankyung.com/data/service/edit_img/202403/bad75297b6234127c36d4b65146bc68f.jpg\" alt=\"&quot;누군 몇십억 벌었다더라&quot;…비트코인, 지금 들어가도 될까\" loading=\"lazy\">\n",
      "                                                        </a>\n",
      "                                                    </div>\n",
      "                                                </div>\n",
      "                                            </li>\n",
      "                                            <li>\n",
      "                                                <div class=\"news-item type-thumb-lt\">\n",
      "                                                    <div class=\"txt-cont\">\n",
      "                                                        <p class=\"news-tit\">\n",
      "                                                            <a href=\"https://www.hankyung.com/article/2024031359956\" data-pm=\"N\">\n",
      "                                                                \"기업에 확실한 보상줘야\" <font color=\"#436f91\">한국증시 2.0: K프리미엄으로⑥</font>\n",
      "                                                            </a>\n",
      "                                                        </p>\n",
      "                                                    </div>\n",
      "                                                    <div class=\"thumb\">\n",
      "                                                        <a href=\"https://www.hankyung.com/article/2024031359956\">\n",
      "                                                            <img src=\"https://img.hankyung.com/photo/202403/01.36116782.3.jpg\" alt=\"&quot;기업에 확실한 보상줘야&quot; <font color=&quot;#436f91&quot;>한국증시 2.0: K프리미엄으로⑥</font>\" loading=\"lazy\">\n",
      "                                                        </a>\n",
      "                                                    </div>\n",
      "                                                </div>\n",
      "                                            </li>\n",
      "                                        </ul>\n",
      "                                    </div>\n",
      "\n",
      "                                    <div class=\"aside-component aside-ad ad_area\" style=\"min-height: 600px;\"><div id=\"div-gpt-ad-1656033439479-0\" style=\"min-width:300px; min-height:250px;\" data-google-query-id=\"CL7ahN7BioUDFcWQ6QUdXo0NLA\"><div id=\"google_ads_iframe_/3448900/hdvS01_rectangle01_300_250_0__container__\" style=\"border: 0pt none; margin: auto; text-align: center; width: 300px; height: 600px;\"><iframe frameborder=\"0\" src=\"https://c90b1c83604ed271c402649acf7ab830.safeframe.googlesyndication.com/safeframe/1-0-40/html/container.html\" id=\"google_ads_iframe_/3448900/hdvS01_rectangle01_300_250_0\" title=\"3rd party ad content\" name=\"\" scrolling=\"no\" marginwidth=\"0\" marginheight=\"0\" width=\"300\" height=\"600\" data-is-safeframe=\"true\" sandbox=\"allow-forms allow-popups allow-popups-to-escape-sandbox allow-same-origin allow-scripts allow-top-navigation-by-user-activation\" aria-label=\"Advertisement\" tabindex=\"0\" data-google-container-id=\"7\" data-load-complete=\"true\" style=\"border: 0px; vertical-align: bottom;\"></iframe></div></div></div>\n",
      "\n",
      "                                    <div class=\"aside-component aside-ad-component ad_area\">\n",
      "                                        <div class=\"aside-tit-wrap\">\n",
      "                                            <strong class=\"aside-tit\">\n",
      "                                                이 시각 관심정보\n",
      "                                                <span class=\"ad-label txt-en\">AD</span>\n",
      "                                            </strong>\n",
      "                                        </div>\n",
      "\n",
      "                                    <iframe src=\"//io1.innorame.com/imp/yje7qAPqyxdD.iframe\" width=\"100%\" height=\"112\" allowtransparency=\"true\" marginwidth=\"0\" marginheight=\"0\" hspace=\"0\" vspace=\"0\" frameborder=\"0\" scrolling=\"no\" style=\"width:280px;min-width:100%;position:relative;\"></iframe><iframe src=\"//adv.imadrep.co.kr/9291_01.html\" width=\"100%\" height=\"113\" border=\"0\" frameborder=\"0\" framemargin=\"0\" leftmargin=\"0\" topmargin=\"0\" marginheight=\"0\" marginwidth=\"0\" scrolling=\"no\"></iframe></div>\n",
      "\n",
      "                                    <!-- <div id=\"taboola-desktop-article-stream\" class=\"aside-component aside-ad ad_area ad_common\"></div> -->\n",
      "                                    <!-- Begin Dable 우측_리스트 -->\n",
      "                                    <div id=\"dablewidget_goB94r2X\" data-widget_id=\"goB94r2X\" class=\"aside-component aside-ad ad_area ad_common\" style=\"min-height: 400px; height: auto; overflow: visible;\"><iframe width=\"100%\" height=\"399\" title=\"추천뉴스\" frameborder=\"0\" scrolling=\"no\" name=\"dableframe-0.10905798964383706\" style=\"border: 0px;\" src=\"https://api.dable.io/widgets/id/goB94r2X/users/34836038.1711201335223?from=https%3A%2F%2Fwww.hankyung.com%2Farticle%2F2024022231661&amp;url=https%3A%2F%2Fwww.hankyung.com%2Farticle%2F2024022231661&amp;ref=&amp;cid=34836038.1711201335223&amp;uid=34836038.1711201335223&amp;site=news.hankyung.com&amp;gdpr=0&amp;service_id=42&amp;service_type=news&amp;country=KR&amp;client_id=17&amp;lazyload_widget_ids=%5B%2257wBYAo8%22%2C%22AlmA5kl1%22%2C%22goP0NYoQ%22%5D&amp;randomStr=fbe1d9b5-d775-4f92-ac44-ff98b02ea405&amp;id=dablewidget_goB94r2X&amp;category1=%EA%B3%B5%EC%97%B0%2F%EC%A0%84%EC%8B%9C&amp;category2=%EC%8B%A0%EB%AC%B8(%EA%B0%95%ED%8C%90)&amp;category3=1107&amp;author=%ED%95%9C%EA%B5%AD%EA%B2%BD%EC%A0%9C&amp;item_id=2024022231661&amp;item_pub_date=2024-02-22T17%3A12%3A45%2B09%3A00&amp;pixel_ratio=2&amp;ua=Mozilla%2F5.0%20(Macintosh%3B%20Intel%20Mac%20OS%20X%2014.0.0)%20AppleWebKit%2F537.36%20(KHTML%2C%20like%20Gecko)%20Chrome%2F123.0.6312.59%20Safari%2F537.36&amp;client_width=300&amp;network=non-wifi&amp;lang=en&amp;is_top_win=1&amp;top_win_accessible=1&amp;is_lazyload=0\" data-ready=\"1\"></iframe></div>\n",
      "                                        <!-- End 우측_리스트-->\n",
      "\n",
      "\t\t\t\t\t\t\t\t\t<div class=\"aside-component aside-ad ad_area\" style=\"min-height: 250px;\"><div id=\"div-gpt-ad-1656033509742-0\" style=\"min-width:300px; min-height:250px;\" data-google-query-id=\"CN-4hN7BioUDFaGS6QUdV84COg\"><div id=\"google_ads_iframe_/3448900/hdvS02_rectangle02_300_250_0__container__\" style=\"border: 0pt none; margin: auto; text-align: center; width: 300px; height: 250px;\"><iframe frameborder=\"0\" src=\"https://c90b1c83604ed271c402649acf7ab830.safeframe.googlesyndication.com/safeframe/1-0-40/html/container.html\" id=\"google_ads_iframe_/3448900/hdvS02_rectangle02_300_250_0\" title=\"3rd party ad content\" name=\"\" scrolling=\"no\" marginwidth=\"0\" marginheight=\"0\" width=\"300\" height=\"250\" data-is-safeframe=\"true\" sandbox=\"allow-forms allow-popups allow-popups-to-escape-sandbox allow-same-origin allow-scripts allow-top-navigation-by-user-activation\" aria-label=\"Advertisement\" tabindex=\"0\" data-google-container-id=\"8\" style=\"border: 0px; vertical-align: bottom;\" data-load-complete=\"true\"></iframe></div></div></div>\n",
      "\n",
      "                                    <div class=\"aside-component aside-ad-component ad_area\" style=\"min-height: 255px;\"><div class=\"aside-tit-wrap\">\t\t\t\t\t\t\t\t\t\t\t\t\t\t\t\t<strong class=\"aside-tit\">\t\t\t\t\t\t\t\t\t\t\t\t\t\t\t\t\t인기정보\t\t\t\t\t\t\t\t\t\t\t\t\t\t\t\t\t<span class=\"ad-label txt-en\">AD</span>\t\t\t\t\t\t\t\t\t\t\t\t\t\t\t\t</strong>\t\t\t\t\t\t\t\t\t\t\t\t\t\t\t</div>\t\t\t\t\t\t\t\t\t\t\t\t\t\t\t<iframe src=\"//io1.innorame.com/imp/Aa2gYyPqyxdD.iframe\" width=\"100%\" height=\"112\" allowtransparency=\"true\" marginwidth=\"0\" marginheight=\"0\" hspace=\"0\" vspace=\"0\" frameborder=\"0\" scrolling=\"no\" style=\"width:280px;min-width:100%;position:relative;\"></iframe>\n",
      "                                        <script src=\"//plugin.adplex.co.kr/script/2beonAdScript.js\" charset=\"UTF-8\"></script>\n",
      "                                        <script>adtiveDrawAD('UPFFFFFP','YXRLLLLF');</script><div id=\"_2BEONYXRLLLLF\" class=\"_2beonBnFrm _2beonOpt_wide\" style=\"position: relative; min-width: 100%; width: 1px; height: 112px; background: rgb(255, 255, 255); display: block; border: 0px dashed rgb(221, 221, 221); max-width: 1200px; overflow: hidden;\"><div class=\"_2beonBnMask\" style=\"min-width: 300px; width: 300px; height: 112px; overflow: hidden; padding: 0px !important;\"><div class=\"_2beonPanFrm\" style=\"min-width:300px;width:300px;height:112px;\"><div class=\"_2beonPan\" style=\"width:300px; height:112px;\"><div class=\"_2beonSlotRecord\"><a href=\"https://log.adplex.co.kr/adt_connect.php?u=aHR0cHM6Ly9mdXR1cmUtbmV3cy5jby5rci9hZHR2Lz9hZHB4X2JlX2NkPTUzXzIwNzI3XzUxNTJfMTM2NjQx&amp;v=eyJtZF91aWQiOiJhZTJhMzM2ZDY5Mjc5YjRjNzI0ZWRkOGU1NThhNjdmMCIsIm1kX3ZlciI6IjEuMy42IiwiZXhwaXJlIjoxNzQyNzM3MzM0MzE1fQ==&amp;d=YWUyYTMzNmQ2OTI3OWI0YzcyNGVkZDhlNTU4YTY3ZjB8fGh0dHBzOi8vZnV0dXJlLW5ld3MuY28ua3IvYWR0di8%2FYWRweF9iZV9jZD01M18yMDcyN181MTUyXzEzNjY0MXx8aHR0cHM6Ly93d3cuaGFua3l1bmcuY29tL2FydGljbGUvMjAyNDAyMjIzMTY2MXx8\" class=\"_2beonSlotWrap\" rel=\"external\" target=\"_blank\" style=\"width: 300px;\"><div class=\"_2beonSlot\" style=\"width: 100%; height: 28px;\"><div class=\"_2beon_material\"><div class=\"_2beon_matTextBox\" style=\"height:28px !important; \"><div class=\"_2beon_matTextWrap\" style=\"text-align: left; margin-top: 5px;\"><span><!--for ellipsis fix--></span><span class=\"_2beon_matText\" style=\"text-decoration:none;font:normal 15px /18px malgun gothic,Helvetica,AppleSDGothicNeo-Light,TmpFont,Gulim !important; color:#222222;\">충격! 로또용지 찢지마세요! 사람들 모르는 3가지</span></div></div></div></div></a></div><div class=\"_2beonSlotRecord\"><a href=\"https://log.adplex.co.kr/adt_connect.php?u=aHR0cHM6Ly9uZXdzLnRhcmdldHZpZXcuY29tL2dvb2QxMDA0X2Vhcl9oZWFsaW5nTjI/YWRweF9iZV9jZD01M18yMDcyN18xNTU5XzEzNjk4Nw==&amp;v=eyJtZF91aWQiOiJhZTJhMzM2ZDY5Mjc5YjRjNzI0ZWRkOGU1NThhNjdmMCIsIm1kX3ZlciI6IjEuMy42IiwiZXhwaXJlIjoxNzQyNzM3MzM0MzE1fQ==&amp;d=YWUyYTMzNmQ2OTI3OWI0YzcyNGVkZDhlNTU4YTY3ZjB8fGh0dHBzOi8vbmV3cy50YXJnZXR2aWV3LmNvbS9nb29kMTAwNF9lYXJfaGVhbGluZ04yP2FkcHhfYmVfY2Q9NTNfMjA3MjdfMTU1OV8xMzY5ODd8fGh0dHBzOi8vd3d3Lmhhbmt5dW5nLmNvbS9hcnRpY2xlLzIwMjQwMjIyMzE2NjF8fA%3D%3D\" class=\"_2beonSlotWrap\" rel=\"external\" target=\"_blank\" style=\"width: 300px;\"><div class=\"_2beonSlot\" style=\"width: 100%; height: 28px;\"><div class=\"_2beon_material\"><div class=\"_2beon_matTextBox\" style=\"height:28px !important; \"><div class=\"_2beon_matTextWrap\" style=\"text-align: left; margin-top: 5px;\"><span><!--for ellipsis fix--></span><span class=\"_2beon_matText\" style=\"text-decoration:none;font:normal 15px /18px malgun gothic,Helvetica,AppleSDGothicNeo-Light,TmpFont,Gulim !important; color:#222222;\">\"이명 난청\" 잡는 \"민간요법\" 등장에..업계발칵!!!</span></div></div></div></div></a></div><div class=\"_2beonSlotRecord\"><a href=\"https://log.adplex.co.kr/adt_connect.php?u=aHR0cDovL2tleS10bi5jby5rci9uZXdzbS9pbmRleF9ibi5odG1sP3BpZD0wNCZhZHB4X2JlX2NkPTUzXzIwNzI3XzE3MDhfMTM3MDI1&amp;v=eyJtZF91aWQiOiJhZTJhMzM2ZDY5Mjc5YjRjNzI0ZWRkOGU1NThhNjdmMCIsIm1kX3ZlciI6IjEuMy42IiwiZXhwaXJlIjoxNzQyNzM3MzM0MzE1fQ==&amp;d=YWUyYTMzNmQ2OTI3OWI0YzcyNGVkZDhlNTU4YTY3ZjB8fGh0dHA6Ly9rZXktdG4uY28ua3IvbmV3c20vaW5kZXhfYm4uaHRtbD9waWQ9MDQmYWRweF9iZV9jZD01M18yMDcyN18xNzA4XzEzNzAyNXx8aHR0cHM6Ly93d3cuaGFua3l1bmcuY29tL2FydGljbGUvMjAyNDAyMjIzMTY2MXx8\" class=\"_2beonSlotWrap\" rel=\"external\" target=\"_blank\" style=\"width: 300px;\"><div class=\"_2beonSlot\" style=\"width: 100%; height: 28px;\"><div class=\"_2beon_material\"><div class=\"_2beon_matTextBox\" style=\"height:28px !important; \"><div class=\"_2beon_matTextWrap\" style=\"text-align: left; margin-top: 5px;\"><span><!--for ellipsis fix--></span><span class=\"_2beon_matText\" style=\"text-decoration:none;font:normal 15px /18px malgun gothic,Helvetica,AppleSDGothicNeo-Light,TmpFont,Gulim !important; color:#222222;\">아이 키\"10cm\"더 키우는 \"新물질\" 한국기업 화제!</span></div></div></div></div></a></div><div class=\"_2beonSlotRecord\"><a href=\"https://log.adplex.co.kr/adt_connect.php?u=aHR0cDovL3d3dy50aGV0b3BpYy5jby5rci9jYW1wL3dvbWFuL21fYS9hZG5ldF85Lmh0bWw/dXJsR3VidW49YWR0aXZlX21fY3BtOCZhZHB4X2JlX2NkPTUzXzIwNzI3XzUzMzZfMTM2NTE0&amp;v=eyJtZF91aWQiOiJhZTJhMzM2ZDY5Mjc5YjRjNzI0ZWRkOGU1NThhNjdmMCIsIm1kX3ZlciI6IjEuMy42IiwiZXhwaXJlIjoxNzQyNzM3MzM0MzE1fQ==&amp;d=YWUyYTMzNmQ2OTI3OWI0YzcyNGVkZDhlNTU4YTY3ZjB8fGh0dHA6Ly93d3cudGhldG9waWMuY28ua3IvY2FtcC93b21hbi9tX2EvYWRuZXRfOS5odG1sP3VybEd1YnVuPWFkdGl2ZV9tX2NwbTgmYWRweF9iZV9jZD01M18yMDcyN181MzM2XzEzNjUxNHx8aHR0cHM6Ly93d3cuaGFua3l1bmcuY29tL2FydGljbGUvMjAyNDAyMjIzMTY2MXx8\" class=\"_2beonSlotWrap\" rel=\"external\" target=\"_blank\" style=\"width: 300px;\"><div class=\"_2beonSlot\" style=\"width: 100%; height: 28px;\"><div class=\"_2beon_material\"><div class=\"_2beon_matTextBox\" style=\"height:28px !important; \"><div class=\"_2beon_matTextWrap\" style=\"text-align: left; margin-top: 5px;\"><span><!--for ellipsis fix--></span><span class=\"_2beon_matText\" style=\"text-decoration:none;font:normal 15px /18px malgun gothic,Helvetica,AppleSDGothicNeo-Light,TmpFont,Gulim !important; color:#222222;\">수술없이 '여성고민' 집에서 10분 만에 해결!</span></div></div></div></div></a></div></div></div></div></div>    \n",
      "                                    </div>\n",
      "\n",
      "                                    <div class=\"aside-component aside-ad ad_area\" style=\"min-height: 600px;\"><div id=\"div-gpt-ad-1656033569914-0\" style=\"min-width:300px; min-height:250px;\" data-google-query-id=\"CLPyxt7BioUDFSmb6QUdXHAJbw\"><div id=\"google_ads_iframe_/3448900/hdvS10_Skyscraper_0__container__\" style=\"border: 0pt none; margin: auto; text-align: center;\"><iframe id=\"google_ads_iframe_/3448900/hdvS10_Skyscraper_0\" name=\"google_ads_iframe_/3448900/hdvS10_Skyscraper_0\" title=\"3rd party ad content\" width=\"300\" height=\"600\" scrolling=\"no\" marginwidth=\"0\" marginheight=\"0\" frameborder=\"0\" aria-label=\"Advertisement\" tabindex=\"0\" style=\"border: 0px; vertical-align: bottom;\" data-load-complete=\"true\" data-google-container-id=\"9\"></iframe></div></div></div>\n",
      "                                </div>\n",
      "                            </aside>\n",
      "                        </div>\n",
      "                    </article>\n",
      "                </div>\n",
      "            </div>\n",
      "\n",
      "            <!-- 분야별 주요뉴스 -->\n",
      "            <section class=\"section-topnews\">\n",
      "                <div class=\"layout-inner\">\n",
      "                    <div class=\"section-tit-wrap\">\n",
      "                        <strong class=\"section-tit\">분야별 주요뉴스</strong>\n",
      "                    </div>\n",
      "                    <div class=\"section-topnews-slider hover-slide slick-initialized slick-slider\"><button type=\"button\" data-role=\"none\" class=\"slick-prev slick-arrow\" aria-label=\"Previous\" role=\"button\" style=\"display: block;\">Previous</button>\n",
      "                        <div aria-live=\"polite\" class=\"slick-list draggable\"><div class=\"slick-track\" style=\"opacity: 1; width: 6000px; transform: translate3d(-1200px, 0px, 0px);\" role=\"listbox\"><div class=\"item slick-slide slick-cloned\" data-slick-index=\"-4\" aria-hidden=\"true\" style=\"width: 280px;\" tabindex=\"-1\">\n",
      "                            <div class=\"thumb\">\n",
      "                                <a href=\"https://www.hankyung.com/article/2024032203271\" tabindex=\"-1\">\n",
      "                                    <img src=\"https://timg.hankyung.com/t/560x0/data/service/edit_img/202403/7d0ffb272cc6bbf840b5d9d4f9e8ff6c.jpg\" alt=\"상사에 체크카드 상납까지…46년 만에 '악순환' 끊겠다지만\" loading=\"lazy\">\n",
      "                                </a>\n",
      "                            </div>\n",
      "                            <p class=\"news-tit\">\n",
      "                                <a href=\"https://www.hankyung.com/article/2024032203271\" data-pm=\"N\" tabindex=\"-1\">\n",
      "                                    상사에 체크카드 상납까지…46년 만에 '악순환' 끊겠다지만\n",
      "                                </a>\n",
      "                            </p>\n",
      "                        </div><div class=\"item slick-slide slick-cloned\" data-slick-index=\"-3\" aria-hidden=\"true\" style=\"width: 280px;\" tabindex=\"-1\">\n",
      "                            <div class=\"thumb\">\n",
      "                                <a href=\"https://www.hankyung.com/article/2024032203701\" tabindex=\"-1\">\n",
      "                                    <img src=\"https://timg.hankyung.com/t/560x0/data/service/edit_img/202403/f6ded75d4d13d87cf61c409474a30390.jpg\" alt=\"10여년 만에 '親원전 유턴' … &quot;가장 저렴한 넷제로 달성법&quot;\" loading=\"lazy\">\n",
      "                                </a>\n",
      "                            </div>\n",
      "                            <p class=\"news-tit\">\n",
      "                                <a href=\"https://www.hankyung.com/article/2024032203701\" data-pm=\"N\" tabindex=\"-1\">\n",
      "                                    10여년 만에 '親원전 유턴' … \"가장 저렴한 넷제로 달성법\"\n",
      "                                </a>\n",
      "                            </p>\n",
      "                        </div><div class=\"item slick-slide slick-cloned\" data-slick-index=\"-2\" aria-hidden=\"true\" style=\"width: 280px;\" tabindex=\"-1\">\n",
      "                            <div class=\"thumb\">\n",
      "                                <a href=\"https://www.hankyung.com/article/202403191337i\" tabindex=\"-1\">\n",
      "                                    <img src=\"https://timg.hankyung.com/t/560x0/photo/202403/01.36205227.3.jpg\" alt=\"'구스' 입기 시작한 중국인에 초비상…'패딩 대란' 온다\" loading=\"lazy\">\n",
      "                                </a>\n",
      "                            </div>\n",
      "                            <p class=\"news-tit\">\n",
      "                                <a href=\"https://www.hankyung.com/article/202403191337i\" data-pm=\"N\" tabindex=\"-1\">\n",
      "                                    '구스' 입기 시작한 중국인에 초비상…'패딩 대란' 온다\n",
      "                                </a>\n",
      "                            </p>\n",
      "                        </div><div class=\"item slick-slide slick-cloned\" data-slick-index=\"-1\" aria-hidden=\"true\" style=\"width: 280px;\" tabindex=\"-1\">\n",
      "                            <div class=\"thumb\">\n",
      "                                <a href=\"https://www.hankyung.com/article/202403231328i\" tabindex=\"-1\">\n",
      "                                    <img src=\"https://timg.hankyung.com/t/560x0/photo/202403/01.36212858.3.jpg\" alt=\"&quot;손 치료해야&quot;…피아니스트 임윤찬, 보름간 해외 공연 일정 취소\" loading=\"lazy\">\n",
      "                                </a>\n",
      "                            </div>\n",
      "                            <p class=\"news-tit\">\n",
      "                                <a href=\"https://www.hankyung.com/article/202403231328i\" data-pm=\"N\" tabindex=\"-1\">\n",
      "                                    \"손 치료해야\"…피아니스트 임윤찬, 보름간 해외 공연 일정 취소\n",
      "                                </a>\n",
      "                            </p>\n",
      "                        </div><div class=\"item slick-slide slick-current slick-active\" data-slick-index=\"0\" aria-hidden=\"false\" style=\"width: 280px;\" tabindex=\"-1\" role=\"option\" aria-describedby=\"slick-slide10\">\n",
      "                            <div class=\"thumb\">\n",
      "                                <a href=\"https://www.hankyung.com/article/2024032204021\" tabindex=\"0\">\n",
      "                                    <img src=\"https://timg.hankyung.com/t/560x0/photo/202403/AA.36204401.1.jpg\" alt=\"'충당금 덫'에 걸린 저축銀, 9년 만에 적자\" loading=\"lazy\">\n",
      "                                </a>\n",
      "                            </div>\n",
      "                            <p class=\"news-tit\">\n",
      "                                <a href=\"https://www.hankyung.com/article/2024032204021\" data-pm=\"N\" tabindex=\"0\">\n",
      "                                    '충당금 덫'에 걸린 저축銀, 9년 만에 적자\n",
      "                                </a>\n",
      "                            </p>\n",
      "                        </div><div class=\"item slick-slide slick-active\" data-slick-index=\"1\" aria-hidden=\"false\" style=\"width: 280px;\" tabindex=\"-1\" role=\"option\" aria-describedby=\"slick-slide11\">\n",
      "                            <div class=\"thumb\">\n",
      "                                <a href=\"https://www.hankyung.com/article/202403175345i\" tabindex=\"0\">\n",
      "                                    <img src=\"https://timg.hankyung.com/t/560x0/data/service/edit_img/202403/79933a43c18b8128256964823d750371.jpg\" alt=\"&quot;이 종목 대체 뭐예요?&quot;…매일 6000만원 버는 회사의 정체\" loading=\"lazy\">\n",
      "                                </a>\n",
      "                            </div>\n",
      "                            <p class=\"news-tit\">\n",
      "                                <a href=\"https://www.hankyung.com/article/202403175345i\" data-pm=\"N\" tabindex=\"0\">\n",
      "                                    \"이 종목 대체 뭐예요?\"…매일 6000만원 버는 회사의 정체\n",
      "                                </a>\n",
      "                            </p>\n",
      "                        </div><div class=\"item slick-slide slick-active\" data-slick-index=\"2\" aria-hidden=\"false\" style=\"width: 280px;\" tabindex=\"-1\" role=\"option\" aria-describedby=\"slick-slide12\">\n",
      "                            <div class=\"thumb\">\n",
      "                                <a href=\"https://www.hankyung.com/article/2024032309865\" tabindex=\"0\">\n",
      "                                    <img src=\"https://timg.hankyung.com/t/560x0/photo/202403/B20240323063705017.jpg\" alt=\"뉴욕증시, 고점 부담에 혼조세…나스닥 최고치 경신\" loading=\"lazy\">\n",
      "                                </a>\n",
      "                            </div>\n",
      "                            <p class=\"news-tit\">\n",
      "                                <a href=\"https://www.hankyung.com/article/2024032309865\" data-pm=\"N\" tabindex=\"0\">\n",
      "                                    뉴욕증시, 고점 부담에 혼조세…나스닥 최고치 경신\n",
      "                                </a>\n",
      "                            </p>\n",
      "                        </div><div class=\"item slick-slide slick-active\" data-slick-index=\"3\" aria-hidden=\"false\" style=\"width: 280px;\" tabindex=\"-1\" role=\"option\" aria-describedby=\"slick-slide13\">\n",
      "                            <div class=\"thumb\">\n",
      "                                <a href=\"https://www.hankyung.com/article/2024032174681\" tabindex=\"0\">\n",
      "                                    <img src=\"https://timg.hankyung.com/t/560x0/photo/202403/AA.36194729.1.jpg\" alt=\"16주 만에…서울 아파트값 하락세 멈췄다\" loading=\"lazy\">\n",
      "                                </a>\n",
      "                            </div>\n",
      "                            <p class=\"news-tit\">\n",
      "                                <a href=\"https://www.hankyung.com/article/2024032174681\" data-pm=\"N\" tabindex=\"0\">\n",
      "                                    16주 만에…서울 아파트값 하락세 멈췄다\n",
      "                                </a>\n",
      "                            </p>\n",
      "                        </div><div class=\"item slick-slide\" data-slick-index=\"4\" aria-hidden=\"true\" style=\"width: 280px;\" tabindex=\"-1\" role=\"option\" aria-describedby=\"slick-slide14\">\n",
      "                            <div class=\"thumb\">\n",
      "                                <a href=\"https://www.hankyung.com/article/2024032176541\" tabindex=\"-1\">\n",
      "                                    <img src=\"https://timg.hankyung.com/t/560x0/photo/202403/AA.36194184.3.jpg\" alt=\"금융-건설사 갈등에…이복현 &quot;PF 금리·수수료 공정한지 점검&quot;\" loading=\"lazy\">\n",
      "                                </a>\n",
      "                            </div>\n",
      "                            <p class=\"news-tit\">\n",
      "                                <a href=\"https://www.hankyung.com/article/2024032176541\" data-pm=\"N\" tabindex=\"-1\">\n",
      "                                    금융-건설사 갈등에…이복현 \"PF 금리·수수료 공정한지 점검\"\n",
      "                                </a>\n",
      "                            </p>\n",
      "                        </div><div class=\"item slick-slide\" data-slick-index=\"5\" aria-hidden=\"true\" style=\"width: 280px;\" tabindex=\"-1\" role=\"option\" aria-describedby=\"slick-slide15\">\n",
      "                            <div class=\"thumb\">\n",
      "                                <a href=\"https://www.hankyung.com/article/2024032207561\" tabindex=\"-1\">\n",
      "                                    <img src=\"https://timg.hankyung.com/t/560x0/data/service/edit_img/202403/8070c9b49ec29edcbf880a4c2ae399b2.jpg\" alt=\"한미약품-OCI그룹 통합 '빨간불' 켜졌다\" loading=\"lazy\">\n",
      "                                </a>\n",
      "                            </div>\n",
      "                            <p class=\"news-tit\">\n",
      "                                <a href=\"https://www.hankyung.com/article/2024032207561\" data-pm=\"N\" tabindex=\"-1\">\n",
      "                                    한미약품-OCI그룹 통합 '빨간불' 켜졌다\n",
      "                                </a>\n",
      "                            </p>\n",
      "                        </div><div class=\"item slick-slide\" data-slick-index=\"6\" aria-hidden=\"true\" style=\"width: 280px;\" tabindex=\"-1\" role=\"option\" aria-describedby=\"slick-slide16\">\n",
      "                            <div class=\"thumb\">\n",
      "                                <a href=\"https://www.hankyung.com/article/2024032175271\" tabindex=\"-1\">\n",
      "                                    <img src=\"https://timg.hankyung.com/t/560x0/data/service/edit_img/202403/37935460bb2dffbb81211dc3e53e2c3f.jpg\" alt=\"네카오 직원 연봉 '뚝'…경영진은 '억소리' 여전\" loading=\"lazy\">\n",
      "                                </a>\n",
      "                            </div>\n",
      "                            <p class=\"news-tit\">\n",
      "                                <a href=\"https://www.hankyung.com/article/2024032175271\" data-pm=\"N\" tabindex=\"-1\">\n",
      "                                    네카오 직원 연봉 '뚝'…경영진은 '억소리' 여전\n",
      "                                </a>\n",
      "                            </p>\n",
      "                        </div><div class=\"item slick-slide\" data-slick-index=\"7\" aria-hidden=\"true\" style=\"width: 280px;\" tabindex=\"-1\" role=\"option\" aria-describedby=\"slick-slide17\">\n",
      "                            <div class=\"thumb\">\n",
      "                                <a href=\"https://www.hankyung.com/article/2024032204321\" tabindex=\"-1\">\n",
      "                                    <img src=\"https://timg.hankyung.com/t/560x0/data/service/edit_img/202403/533155be42e33760307a961a3252e676.jpg\" alt=\"쇄신한다더니…청년 후보 5.6%, 여성 13.8%\" loading=\"lazy\">\n",
      "                                </a>\n",
      "                            </div>\n",
      "                            <p class=\"news-tit\">\n",
      "                                <a href=\"https://www.hankyung.com/article/2024032204321\" data-pm=\"N\" tabindex=\"-1\">\n",
      "                                    쇄신한다더니…청년 후보 5.6%, 여성 13.8%\n",
      "                                </a>\n",
      "                            </p>\n",
      "                        </div><div class=\"item slick-slide\" data-slick-index=\"8\" aria-hidden=\"true\" style=\"width: 280px;\" tabindex=\"-1\" role=\"option\" aria-describedby=\"slick-slide18\">\n",
      "                            <div class=\"thumb\">\n",
      "                                <a href=\"https://www.hankyung.com/article/2024032203271\" tabindex=\"-1\">\n",
      "                                    <img src=\"https://timg.hankyung.com/t/560x0/data/service/edit_img/202403/7d0ffb272cc6bbf840b5d9d4f9e8ff6c.jpg\" alt=\"상사에 체크카드 상납까지…46년 만에 '악순환' 끊겠다지만\" loading=\"lazy\">\n",
      "                                </a>\n",
      "                            </div>\n",
      "                            <p class=\"news-tit\">\n",
      "                                <a href=\"https://www.hankyung.com/article/2024032203271\" data-pm=\"N\" tabindex=\"-1\">\n",
      "                                    상사에 체크카드 상납까지…46년 만에 '악순환' 끊겠다지만\n",
      "                                </a>\n",
      "                            </p>\n",
      "                        </div><div class=\"item slick-slide\" data-slick-index=\"9\" aria-hidden=\"true\" style=\"width: 280px;\" tabindex=\"-1\" role=\"option\" aria-describedby=\"slick-slide19\">\n",
      "                            <div class=\"thumb\">\n",
      "                                <a href=\"https://www.hankyung.com/article/2024032203701\" tabindex=\"-1\">\n",
      "                                    <img src=\"https://timg.hankyung.com/t/560x0/data/service/edit_img/202403/f6ded75d4d13d87cf61c409474a30390.jpg\" alt=\"10여년 만에 '親원전 유턴' … &quot;가장 저렴한 넷제로 달성법&quot;\" loading=\"lazy\">\n",
      "                                </a>\n",
      "                            </div>\n",
      "                            <p class=\"news-tit\">\n",
      "                                <a href=\"https://www.hankyung.com/article/2024032203701\" data-pm=\"N\" tabindex=\"-1\">\n",
      "                                    10여년 만에 '親원전 유턴' … \"가장 저렴한 넷제로 달성법\"\n",
      "                                </a>\n",
      "                            </p>\n",
      "                        </div><div class=\"item slick-slide\" data-slick-index=\"10\" aria-hidden=\"true\" style=\"width: 280px;\" tabindex=\"-1\" role=\"option\" aria-describedby=\"slick-slide110\">\n",
      "                            <div class=\"thumb\">\n",
      "                                <a href=\"https://www.hankyung.com/article/202403191337i\" tabindex=\"-1\">\n",
      "                                    <img src=\"https://timg.hankyung.com/t/560x0/photo/202403/01.36205227.3.jpg\" alt=\"'구스' 입기 시작한 중국인에 초비상…'패딩 대란' 온다\" loading=\"lazy\">\n",
      "                                </a>\n",
      "                            </div>\n",
      "                            <p class=\"news-tit\">\n",
      "                                <a href=\"https://www.hankyung.com/article/202403191337i\" data-pm=\"N\" tabindex=\"-1\">\n",
      "                                    '구스' 입기 시작한 중국인에 초비상…'패딩 대란' 온다\n",
      "                                </a>\n",
      "                            </p>\n",
      "                        </div><div class=\"item slick-slide\" data-slick-index=\"11\" aria-hidden=\"true\" style=\"width: 280px;\" tabindex=\"-1\" role=\"option\" aria-describedby=\"slick-slide111\">\n",
      "                            <div class=\"thumb\">\n",
      "                                <a href=\"https://www.hankyung.com/article/202403231328i\" tabindex=\"-1\">\n",
      "                                    <img src=\"https://timg.hankyung.com/t/560x0/photo/202403/01.36212858.3.jpg\" alt=\"&quot;손 치료해야&quot;…피아니스트 임윤찬, 보름간 해외 공연 일정 취소\" loading=\"lazy\">\n",
      "                                </a>\n",
      "                            </div>\n",
      "                            <p class=\"news-tit\">\n",
      "                                <a href=\"https://www.hankyung.com/article/202403231328i\" data-pm=\"N\" tabindex=\"-1\">\n",
      "                                    \"손 치료해야\"…피아니스트 임윤찬, 보름간 해외 공연 일정 취소\n",
      "                                </a>\n",
      "                            </p>\n",
      "                        </div><div class=\"item slick-slide slick-cloned\" data-slick-index=\"12\" aria-hidden=\"true\" style=\"width: 280px;\" tabindex=\"-1\">\n",
      "                            <div class=\"thumb\">\n",
      "                                <a href=\"https://www.hankyung.com/article/2024032204021\" tabindex=\"-1\">\n",
      "                                    <img src=\"https://timg.hankyung.com/t/560x0/photo/202403/AA.36204401.1.jpg\" alt=\"'충당금 덫'에 걸린 저축銀, 9년 만에 적자\" loading=\"lazy\">\n",
      "                                </a>\n",
      "                            </div>\n",
      "                            <p class=\"news-tit\">\n",
      "                                <a href=\"https://www.hankyung.com/article/2024032204021\" data-pm=\"N\" tabindex=\"-1\">\n",
      "                                    '충당금 덫'에 걸린 저축銀, 9년 만에 적자\n",
      "                                </a>\n",
      "                            </p>\n",
      "                        </div><div class=\"item slick-slide slick-cloned\" data-slick-index=\"13\" aria-hidden=\"true\" style=\"width: 280px;\" tabindex=\"-1\">\n",
      "                            <div class=\"thumb\">\n",
      "                                <a href=\"https://www.hankyung.com/article/202403175345i\" tabindex=\"-1\">\n",
      "                                    <img src=\"https://timg.hankyung.com/t/560x0/data/service/edit_img/202403/79933a43c18b8128256964823d750371.jpg\" alt=\"&quot;이 종목 대체 뭐예요?&quot;…매일 6000만원 버는 회사의 정체\" loading=\"lazy\">\n",
      "                                </a>\n",
      "                            </div>\n",
      "                            <p class=\"news-tit\">\n",
      "                                <a href=\"https://www.hankyung.com/article/202403175345i\" data-pm=\"N\" tabindex=\"-1\">\n",
      "                                    \"이 종목 대체 뭐예요?\"…매일 6000만원 버는 회사의 정체\n",
      "                                </a>\n",
      "                            </p>\n",
      "                        </div><div class=\"item slick-slide slick-cloned\" data-slick-index=\"14\" aria-hidden=\"true\" style=\"width: 280px;\" tabindex=\"-1\">\n",
      "                            <div class=\"thumb\">\n",
      "                                <a href=\"https://www.hankyung.com/article/2024032309865\" tabindex=\"-1\">\n",
      "                                    <img src=\"https://timg.hankyung.com/t/560x0/photo/202403/B20240323063705017.jpg\" alt=\"뉴욕증시, 고점 부담에 혼조세…나스닥 최고치 경신\" loading=\"lazy\">\n",
      "                                </a>\n",
      "                            </div>\n",
      "                            <p class=\"news-tit\">\n",
      "                                <a href=\"https://www.hankyung.com/article/2024032309865\" data-pm=\"N\" tabindex=\"-1\">\n",
      "                                    뉴욕증시, 고점 부담에 혼조세…나스닥 최고치 경신\n",
      "                                </a>\n",
      "                            </p>\n",
      "                        </div><div class=\"item slick-slide slick-cloned\" data-slick-index=\"15\" aria-hidden=\"true\" style=\"width: 280px;\" tabindex=\"-1\">\n",
      "                            <div class=\"thumb\">\n",
      "                                <a href=\"https://www.hankyung.com/article/2024032174681\" tabindex=\"-1\">\n",
      "                                    <img src=\"https://timg.hankyung.com/t/560x0/photo/202403/AA.36194729.1.jpg\" alt=\"16주 만에…서울 아파트값 하락세 멈췄다\" loading=\"lazy\">\n",
      "                                </a>\n",
      "                            </div>\n",
      "                            <p class=\"news-tit\">\n",
      "                                <a href=\"https://www.hankyung.com/article/2024032174681\" data-pm=\"N\" tabindex=\"-1\">\n",
      "                                    16주 만에…서울 아파트값 하락세 멈췄다\n",
      "                                </a>\n",
      "                            </p>\n",
      "                        </div></div></div>\n",
      "                        \n",
      "                        \n",
      "                        \n",
      "                        \n",
      "                        \n",
      "                        \n",
      "                        \n",
      "                        \n",
      "                        \n",
      "                        \n",
      "                        \n",
      "                    <button type=\"button\" data-role=\"none\" class=\"slick-next slick-arrow\" aria-label=\"Next\" role=\"button\" style=\"display: block;\">Next</button></div>\n",
      "                </div>\n",
      "            </section>\n",
      "        </div>\n",
      "\t\t<!-- //container -->\n",
      "\n",
      "\n",
      "\n",
      "\t\t<!-- [팝업] 공통 하단 알림창 -->\n",
      "\t\t<div class=\"hk__toast\" role=\"alert\">\n",
      "\t\t\t<!-- 스크랩 일때: 스크랩  -->\n",
      "\t\t\t<div class=\"toast__body\">\n",
      "\t\t\t\t<svg class=\"toast__icon\" x=\"0\" y=\"0\" width=\"30\" height=\"30\" viewBox=\"0 0 29.8 29.8\">\n",
      "\t\t\t\t\t<path class=\"svg-icon\" d=\"M14.9,2.5c6.8,0,12.4,5.6,12.4,12.4c0,6.8-5.6,12.4-12.4,12.4C8,27.3,2.5,21.7,2.5,14.9C2.5,8,8,2.5,14.9,2.5z   M14.9,0C6.7,0,0,6.7,0,14.9c0,8.2,6.7,14.9,14.9,14.9c8.2,0,14.9-6.7,14.9-14.9C29.8,6.7,23.1,0,14.9,0z M20.3,9.3l-7,7.2l-3.3-3.1  l-2.3,2.3l5.6,5.4l9.3-9.5L20.3,9.3z\" fill=\"#ff761b\"></path>\n",
      "\t\t\t\t</svg>\n",
      "\t\t\t\t<div class=\"mgs\">\n",
      "\t\t\t\t</div>\n",
      "\t\t\t</div>\n",
      "\n",
      "\t\t\t<button type=\"button\" class=\"toast__btn-close\">\n",
      "\t\t\t\t<i class=\"hk__icon-x\"></i>\n",
      "\t\t\t\t<span class=\"blind\">팝업 닫기</span>\n",
      "\t\t\t</button>\n",
      "\t\t</div>\n",
      "\n",
      "\t\t<!-- [팝업] 이미지크게보기 -->\n",
      "\t\t<div class=\"hk-modal modal-photoviewer\">\n",
      "\t\t\t<div class=\"hk-modal-inner\">\n",
      "\t\t\t\t<figure class=\"article-figure\">\n",
      "\t\t\t\t\t<div class=\"figure-img\">\n",
      "\t\t\t\t\t\t<img src=\"\" alt=\"\">\n",
      "\t\t\t\t\t</div>\n",
      "\t\t\t\t\t<figcaption class=\"figure-caption\"></figcaption>\n",
      "\t\t\t\t</figure>\n",
      "\t\t\t\t<button type=\"button\" class=\"modal-btn-close\">\n",
      "\t\t\t\t\t<i class=\"hk__icon-x\"></i>\n",
      "\t\t\t\t\t<span class=\"blind\">팝업 닫기</span>\n",
      "\t\t\t\t</button>\n",
      "\t\t\t</div>\n",
      "\t\t</div>\n",
      "\n",
      "\t\t<!-- [팝업] 글자크기,행간 조절 -->\n",
      "\t\t<div class=\"hk-modal modal-font\">\n",
      "\t\t\t<div class=\"hk-modal-inner\">\n",
      "\t\t\t\t<dl class=\"font-control\">\n",
      "\t\t\t\t\t<dt>글자크기</dt>\n",
      "\t\t\t\t\t<dd>\n",
      "\t\t\t\t\t\t<div id=\"fontRangeSlider\" class=\"rangeSlider ui-slider ui-corner-all ui-slider-horizontal ui-widget ui-widget-content\" data-min=\"1\" data-max=\"5\" data-start=\"3\" data-step=\"1\"><span tabindex=\"0\" class=\"ui-slider-handle ui-corner-all ui-state-default\" style=\"left: 50%;\"></span></div>\n",
      "\t\t\t\t\t\t<ul class=\"font-control-list\">\n",
      "\t\t\t\t\t\t\t<li>\n",
      "\t\t\t\t\t\t\t\t<span class=\"blind\">1단계</span>\n",
      "\t\t\t\t\t\t\t</li>\n",
      "\t\t\t\t\t\t\t<li>\n",
      "\t\t\t\t\t\t\t\t<span class=\"blind\">2단계</span>\n",
      "\t\t\t\t\t\t\t</li>\n",
      "\t\t\t\t\t\t\t<li>\n",
      "\t\t\t\t\t\t\t\t<span class=\"blind\">3단계</span>\n",
      "\t\t\t\t\t\t\t</li>\n",
      "\t\t\t\t\t\t\t<li>\n",
      "\t\t\t\t\t\t\t\t<span class=\"blind\">4단계</span>\n",
      "\t\t\t\t\t\t\t</li>\n",
      "\t\t\t\t\t\t\t<li>\n",
      "\t\t\t\t\t\t\t\t<span class=\"blind\">5단계</span>\n",
      "\t\t\t\t\t\t\t</li>\n",
      "\t\t\t\t\t\t</ul>\n",
      "\t\t\t\t\t</dd>\n",
      "\t\t\t\t</dl>\n",
      "\t\t\t\t<dl class=\"font-control\">\n",
      "\t\t\t\t\t<dt>글자행간</dt>\n",
      "\t\t\t\t\t<dd>\n",
      "\t\t\t\t\t\t<div id=\"lineRangeSlider\" class=\"rangeSlider ui-slider ui-corner-all ui-slider-horizontal ui-widget ui-widget-content\" data-min=\"1\" data-max=\"3\" data-start=\"2\" data-step=\"1\"><span tabindex=\"0\" class=\"ui-slider-handle ui-corner-all ui-state-default\" style=\"left: 50%;\"></span></div>\n",
      "\t\t\t\t\t\t<ul class=\"font-control-list\">\n",
      "\t\t\t\t\t\t\t<li>\n",
      "\t\t\t\t\t\t\t\t<span class=\"blind\">1단계</span>\n",
      "\t\t\t\t\t\t\t</li>\n",
      "\t\t\t\t\t\t\t<li>\n",
      "\t\t\t\t\t\t\t\t<span class=\"blind\">2단계</span>\n",
      "\t\t\t\t\t\t\t</li>\n",
      "\t\t\t\t\t\t\t<li>\n",
      "\t\t\t\t\t\t\t\t<span class=\"blind\">3단계</span>\n",
      "\t\t\t\t\t\t\t</li>\n",
      "\t\t\t\t\t\t</ul>\n",
      "\t\t\t\t\t</dd>\n",
      "\t\t\t\t</dl>\n",
      "\t\t\t\t<button type=\"button\" class=\"modal-btn-close\">\n",
      "\t\t\t\t\t<i class=\"hk__icon-x\"></i>\n",
      "\t\t\t\t\t<span class=\"blind\">팝업 닫기</span>\n",
      "\t\t\t\t</button>\n",
      "\t\t\t</div>\n",
      "\t\t</div>\n",
      "\n",
      "\t\t<!-- [팝업] 공유레이어 -->\n",
      "\t\t<div class=\"hk-modal modal-share\">\n",
      "\t\t\t<div class=\"hk-modal-inner\">\n",
      "\t\t\t\t<ul class=\"view-share-list\">\n",
      "\t\t\t\t\t<li>\n",
      "\t\t\t\t\t\t<button type=\"button\" class=\"btn-share-kakao\" onclick=\"sendLinkKakao();\" data-platform=\"kakao\">\n",
      "\t\t\t\t\t\t\t<span class=\"txt\">카카오톡</span>\n",
      "\t\t\t\t\t\t</button> \n",
      "\t\t\t\t\t</li>\n",
      "\t\t\t\t\t<li>\n",
      "\t\t\t\t\t\t<button type=\"button\" class=\"btn-share-facebook\" onclick=\"openSNS('facebook','https://www.hankyung.com/article/2024022231661','');\" data-platform=\"facebook\">\n",
      "\t\t\t\t\t\t\t<span class=\"txt\">페이스북</span>\n",
      "\t\t\t\t\t\t</button>\n",
      "\t\t\t\t\t</li>\n",
      "\t\t\t\t\t<li>\n",
      "\t\t\t\t\t\t<button type=\"button\" class=\"btn-share-twitter twitter-x\" onclick=\"openSNS('twitter','https://www.hankyung.com/article/2024022231661','');\" data-platform=\"twitter\">\n",
      "\t\t\t\t\t\t\t<span class=\"txt\">엑스</span>\n",
      "\t\t\t\t\t\t</button>\n",
      "\t\t\t\t\t</li>\n",
      "\t\t\t\t\t<li>\n",
      "\t\t\t\t\t\t<button type=\"button\" class=\"btn-share-url\" id=\"clipboardUrl\" data-clipboard-text=\"https://www.hankyung.com/article/2024022231661\">\n",
      "\t\t\t\t\t\t\t<span class=\"txt\">URL복사</span>\n",
      "\t\t\t\t\t\t</button>\n",
      "\t\t\t\t\t</li>\n",
      "\t\t\t\t\t<li>\n",
      "\t\t\t\t\t\t<button type=\"button\" class=\"btn-share-naver\" onclick=\"openSNS('navershare','https://www.hankyung.com/article/2024022231661','');\" data-platform=\"naver\">\n",
      "\t\t\t\t\t\t\t<span class=\"txt\">네이버</span>\n",
      "\t\t\t\t\t\t</button>\n",
      "\t\t\t\t\t</li>\n",
      "\t\t\t\t\t<li>\n",
      "\t\t\t\t\t\t<button type=\"button\" class=\"btn-share-band\" onclick=\"openSNS('naverband','https://www.hankyung.com/article/2024022231661','');\" data-platform=\"naverband\">\n",
      "\t\t\t\t\t\t\t<span class=\"txt\">밴드</span>\n",
      "\t\t\t\t\t\t</button>\n",
      "\t\t\t\t\t</li>\n",
      "\t\t\t\t\t<li>\n",
      "\t\t\t\t\t\t<button type=\"button\" class=\"btn-share-mail btn-email\" data-aid=\"2024022231661\" title=\"메일보내기\" data-platform=\"email\">\n",
      "\t\t\t\t\t\t\t<span class=\"txt\">메일</span>\n",
      "\t\t\t\t\t\t</button>\n",
      "\t\t\t\t\t</li>\n",
      "\t\t\t\t</ul>\n",
      "\t\t\t\t<button type=\"button\" class=\"modal-btn-close\">\n",
      "\t\t\t\t\t<i class=\"hk__icon-x\"></i>\n",
      "\t\t\t\t\t<span class=\"blind\">팝업 닫기</span>\n",
      "\t\t\t\t</button>\n",
      "\t\t\t</div>\n",
      "\t\t</div>\n",
      "\n",
      "\t\t<div class=\"hk-modal modal-alert common_alert\">\n",
      "\t\t\t<div class=\"hk-modal-inner\">\n",
      "\t\t\t\t<div class=\"hk-modal-body\">\n",
      "\t\t\t\t\t<p class=\"msg\">\n",
      "\t\t\t\t\t\t로그인이 필요한 서비스 입니다.<br>\n",
      "\t\t\t\t\t\t로그인 하시겠습니까?\n",
      "\t\t\t\t\t</p>\n",
      "\t\t\t\t</div>\n",
      "                <div class=\"hk-modal-footer\">\n",
      "                    <a role=\"button\" class=\"modal-btn-cancel\">아니오</a>\n",
      "\t\t\t\t\t<a role=\"button\" id=\"go_login_page\" class=\"modal-btn-confirm\">예</a>\n",
      "                </div> \n",
      "\t\t\t</div>\n",
      "\t\t</div>\n",
      "\n",
      "        <div class=\"hk-modal modal-alert reporter_cancel\">\n",
      "            <div class=\"hk-modal-inner\">\n",
      "                <div class=\"hk-modal-body\">\n",
      "                    <p class=\"msg\">\n",
      "                    </p>\n",
      "                </div>\n",
      "                <div class=\"hk-modal-footer\">\n",
      "                    <button type=\"button\" class=\"modal-btn-cancel alert_cancel\">취소</button>\n",
      "                    <button type=\"button\" class=\"modal-btn-confirm\" onclick=\"deleteMyReporter(this)\">확인</button>\n",
      "                </div>\n",
      "            </div>\n",
      "        </div>\n",
      "\n",
      "        <div class=\"hk-modal modal-alert scrap_cancel\">\n",
      "            <div class=\"hk-modal-inner\">\n",
      "                <div class=\"hk-modal-body\">\n",
      "                    <p class=\"msg\">\n",
      "                        스크랩한 기사를 삭제 하시겠습니까?\n",
      "                    </p>\n",
      "                </div>\n",
      "                <div class=\"hk-modal-footer\">\n",
      "                    <button type=\"button\" class=\"modal-btn-cancel alert_cancel\">취소</button>\n",
      "                    <button type=\"button\" class=\"modal-btn-confirm\" onclick=\"deleteMyScrapArticle(this)\">확인</button>\n",
      "                </div>\n",
      "            </div>\n",
      "        </div>\n",
      "\n",
      "\n",
      "\t\t<!-- ad: bottom -->\n",
      "\t\t<div class=\"ad-bottom ad_area\" style=\"min-height:250px;\"><div id=\"div-gpt-ad-1656034495206-0\" style=\"min-width:728px; min-height:90px;\" data-google-query-id=\"COvDhN7BioUDFfyi6QUdif0O7A\"><div id=\"google_ads_iframe_/3448900/News_Leaderboard2_0__container__\" style=\"border: 0pt none; margin: auto; text-align: center;\"><iframe id=\"google_ads_iframe_/3448900/News_Leaderboard2_0\" name=\"google_ads_iframe_/3448900/News_Leaderboard2_0\" title=\"3rd party ad content\" width=\"970\" height=\"250\" scrolling=\"no\" marginwidth=\"0\" marginheight=\"0\" frameborder=\"0\" aria-label=\"Advertisement\" tabindex=\"0\" style=\"border: 0px; vertical-align: bottom;\" data-load-complete=\"true\" data-google-container-id=\"6\"></iframe></div></div></div>\n",
      "\n",
      "\t\t<!-- footer -->\n",
      "\t\t<footer class=\"footer-module\">\n",
      "\t<!-- 협찬사 로고-->\n",
      "\t<div class=\"footer-sponsor\">\n",
      "\t\t<div class=\"foot-inner\">\n",
      "\t\t\t<div class=\"footer-sponsor-list\">\n",
      "\t\t\t\t<a href=\"https://www.samsung.com\" target=\"_blank\" rel=\"nofollow\" class=\"f-sponsor-samsung\"><span class=\"blind\">삼성</span></a>\n",
      "\t\t\t\t<a href=\"https://www.wooribank.com\" target=\"_blank\" rel=\"nofollow\" class=\"f-sponsor-wooribank\"><span class=\"blind\">우리은행</span></a>\n",
      "\t\t\t\t<a href=\"https://www.kbstar.com\" target=\"_blank\" rel=\"nofollow\" class=\"f-sponsor-kbstar\"><span class=\"blind\">국민은행</span></a>\n",
      "\t\t\t</div>\n",
      "\t\t</div>\n",
      "\t</div>\n",
      "\t<!-- // 협찬사 로고-->\n",
      "\t\n",
      "\t<!-- 사이트맵 -->\n",
      "\t<div class=\"footer-sitemap\">\n",
      "\t\t<div class=\"foot-inner\">\n",
      "\t<ul class=\"service-list\">\n",
      "\t\t<li>\n",
      "\t\t\t<a href=\"https://www.hankyung.com/economy\">경제</a>\n",
      "\t\t</li>\n",
      "\t\t<li>\n",
      "\t\t\t<a href=\"https://www.hankyung.com/finance\">증권</a>\n",
      "\t\t</li> \n",
      "\t\t<li>\n",
      "\t\t\t<a href=\"https://www.hankyung.com/realestate\">부동산</a>\n",
      "\t\t</li> \n",
      "\t\t<li>\n",
      "\t\t\t<a href=\"https://www.hankyung.com/financial-market\">금융</a>\n",
      "\t\t</li>\n",
      "\t\t<li>\n",
      "\t\t\t<a href=\"https://www.hankyung.com/industry\">산업</a>\n",
      "\t\t</li>\n",
      "\t\t<li>\n",
      "\t\t\t<a href=\"https://www.hankyung.com/politics\">정치</a>\n",
      "\t\t</li>\n",
      "\t\t<li>\n",
      "\t\t\t<a href=\"https://www.hankyung.com/society\">사회</a>\n",
      "\t\t</li>\n",
      "\t\t<li>\n",
      "\t\t\t<a href=\"https://www.hankyung.com/international\">국제</a>\n",
      "\t\t</li>\n",
      "\t\t<li>\n",
      "\t\t\t<a href=\"https://www.hankyung.com/it\">IT·과학</a>\n",
      "\t\t</li>\n",
      "\t\t<li>\n",
      "\t\t\t<a href=\"https://www.hankyung.com/life\">라이프</a>\n",
      "\t\t</li>\n",
      "\t\t<li>\n",
      "\t\t\t<a href=\"https://www.hankyung.com/arte\">아르떼</a>\n",
      "\t\t</li>\n",
      "\t\t<li>\n",
      "\t\t\t<a href=\"https://www.hankyung.com/golf\">골프</a>\n",
      "\t\t</li>\n",
      "\t\t<li>\n",
      "\t\t\t<a href=\"https://www.hankyung.com/sports\">스포츠</a>\n",
      "\t\t</li>\n",
      "\t\t<li>\n",
      "\t\t\t<a href=\"https://www.hankyung.com/entertainment\">연예</a>\n",
      "\t\t</li>\n",
      "\t\t<li>\n",
      "\t\t\t<a href=\"https://www.hankyung.com/opinion\">오피니언</a>\n",
      "\t\t</li>\n",
      "\t</ul>\n",
      "\t<ul class=\"service-list\">\n",
      "\t\t<li>\n",
      "\t\t\t<a href=\"https://www.hankyung.com/koreamarket/\">한경코리아마켓</a>\n",
      "\t\t</li>\n",
      "\t\t<li>\n",
      "\t\t\t<a href=\"https://www.hankyung.com/globalmarket/\">한경글로벌마켓</a>\n",
      "\t\t</li>\n",
      "\t\t<li>\n",
      "\t\t\t<a href=\"https://www.hankyung.com/realestate\">집코노미</a>\n",
      "\t\t</li>\n",
      "\t\t<li>\n",
      "\t\t\t<a href=\"https://www.hankyung.com/\">회원전용</a>\n",
      "\t\t</li>\n",
      "\t\t<li>\n",
      "\t\t\t<a href=\"https://www.hankyung.com/choinsight\">한경 <span class=\"txt-en\">CHO Insight</span></a>\n",
      "\t\t</li>\n",
      "\t\t<li>\n",
      "\t\t\t<a href=\"https://www.hankyung.com/geeks\">한경 <span class=\"txt-en\">Geeks</span></a>\n",
      "\t\t</li>\n",
      "\t\t<li>\n",
      "\t\t\t<a href=\"https://www.hankyung.com/bioinsight\">한경 <span class=\"txt-en\">BIO Insight</span></a>\n",
      "\t\t</li>\n",
      "\t\t<li>\n",
      "\t\t\t<a href=\"https://www.hankyung.com/esg\">한경<span class=\"txt-en\">ESG</span></a>\n",
      "\t\t</li>\n",
      "\t\t<li>\n",
      "\t\t\t<a href=\"https://www.hankyung.com/thepen/moneyist\"><span class=\"txt-en\">The Moneyist</span></a>\n",
      "\t\t</li>\n",
      "\t\t<li>\n",
      "\t\t\t<a href=\"https://www.hankyung.com/thepen/lifeist\"><span class=\"txt-en\">The Lifeist</span></a>\n",
      "\t\t</li>\n",
      "\t\t<li>\n",
      "\t\t\t<a href=\"https://datacenter.hankyung.com\">데이터센터</a>\n",
      "\t\t</li>\n",
      "\t\t<li>\n",
      "\t\t\t<a href=\"https://www.hankyung.com/special-reports\">스페셜 리포트</a> \n",
      "\t\t</li>\n",
      "\t</ul>\n",
      "</div>   \n",
      "\t</div>\n",
      "\t<!-- // 사이트맵 -->\n",
      "\t\n",
      "\t<!-- 회사소개 -->\n",
      "\t<div class=\"footer-infomation\">\n",
      "\t\t<div class=\"foot-inner\">\n",
      "\t<div class=\"f-row\">\n",
      "\t\t<dl class=\"f-define hk\">\n",
      "\t\t\t<dt>한국경제신문</dt>\n",
      "\t\t\t<dd>\n",
      "\t\t\t\t<a href=\"https://company.hankyung.com/ked/\" target=\"_blank\" rel=\"nofollow\" class=\"item\">회사소개</a>\n",
      "\t\t\t\t<!-- <a href=\"https://members.hankyung.com/?utm_source=dotcom&utm_medium=footer&utm_campaign=affiliate\" target=\"_blank\" rel=\"nofollow\" class=\"item\">모바일한경 구독신청</a> -->\n",
      "\t\t\t\t<a href=\"https://members.hankyung.com/?utm_source=dotcom&amp;utm_medium=footer&amp;utm_campaign=affiliate\" target=\"_blank\" rel=\"nofollow\" class=\"item\">구독신청</a>\n",
      "\t\t\t\t<a href=\"https://company.hankyung.com/ked/kor/ombudsman\" target=\"_blank\" rel=\"nofollow\" class=\"item\">고충처리</a>\n",
      "\t\t\t\t<a href=\"https://company.hankyung.com/ked/kor/ad\" target=\"_blank\" rel=\"nofollow\" class=\"item\">광고안내</a>\n",
      "\t\t\t\t<a href=\"http://bus.hankyung.com/\" target=\"_blank\" rel=\"nofollow\" class=\"item\">블루애드</a>\n",
      "\t\t\t\t<span class=\"item\">대표번호 : <span class=\"txt-num\">02-3604-114</span></span>\n",
      "\t\t\t</dd>\n",
      "\t\t</dl>\n",
      "\t</div>\n",
      "\t<div class=\"f-row\">\n",
      "\t\t<dl class=\"f-define hk-dotcom\">\n",
      "\t\t\t<dt>한경닷컴</dt>\n",
      "\t\t\t<dd>\n",
      "\t\t\t\t<a href=\"https://company.hankyung.com/dotcom/\" target=\"_blank\" rel=\"nofollow\" class=\"item\">회사소개</a>\n",
      "\t\t\t\t<span class=\"item\"><a href=\"https://company.hankyung.com/dotcom/partnership/business/\" target=\"_blank\" rel=\"nofollow\">제휴</a> / <a href=\"https://company.hankyung.com/dotcom/partnership/contents/\" target=\"_blank\" rel=\"nofollow\">콘텐츠구입</a></span>\n",
      "\t\t\t\t<a href=\"https://company.hankyung.com/dotcom/partnership/advertising/\" target=\"_blank\" rel=\"nofollow\" class=\"item\">광고안내</a>\n",
      "\t\t\t\t<a href=\"https://www.hankyung.com/sitemap.html\" target=\"_blank\" class=\"item\">사이트맵</a>\n",
      "\t\t\t\t<a href=\"https://www.hankyung.com/help\" target=\"_blank\" class=\"item\"><strong>고객센터</strong></a>\n",
      "\t\t\t\t<a href=\"https://www.hankyung.com/help/qna\" target=\"_blank\" class=\"item\"><strong>1:1 문의</strong></a>\n",
      "\t\t\t\t<a href=\"https://www.hankyung.com/feed\" target=\"_blank\" class=\"item\">RSS</a>\n",
      "\t\t\t\t<a href=\"https://id.hankyung.com/user/selectAuthAgree.do\" target=\"_blank\" rel=\"nofollow\" class=\"item\">이용약관</a>\n",
      "\t\t\t\t<a href=\"https://id.hankyung.com/user/selectPrivacy.do\" target=\"_blank\" rel=\"nofollow\" class=\"item\"><strong>개인정보처리방침</strong></a>\n",
      "\t\t\t\t<a href=\"https://id.hankyung.com/user/selectYouthProtection.do\" target=\"_blank\" rel=\"nofollow\" class=\"item\">청소년보호정책</a>\n",
      "\t\t\t</dd>\n",
      "\t\t\t<dd>\n",
      "\t\t\t\t<address class=\"item\">서울시 중구 청파로 <span class=\"txt-num\">463</span> 한국경제신문사</address>\n",
      "\t\t\t\t<span class=\"item\">대표번호 : <span class=\"txt-num\">02-3277-9900</span></span>\n",
      "\t\t\t</dd>\n",
      "\t\t\t<dd>\n",
      "\t\t\t\t<span class=\"item\">사업자번호 : <span class=\"txt-num\">104-81-47984</span></span>\n",
      "\t\t\t\t<span class=\"item\">통신판매번호 : 중구<span class=\"txt-num\">00606</span></span>\n",
      "\t\t\t\t<span class=\"item\">인터넷신문등록번호 : 서울 아<span class=\"txt-num\">01035</span></span>\n",
      "\t\t\t\t<span class=\"item\">등록(발행)일자 : <span class=\"txt-num\">2009.11.23</span></span>\n",
      "\t\t\t\t<span class=\"item\">발행·편집인 : 정종태</span>\n",
      "\t\t\t</dd>\n",
      "\t\t</dl>\n",
      "\t</div>\n",
      "\t<div class=\"f-row\">\n",
      "\t\t<p class=\"copyright\"><span class=\"txt-en\">Copyright 1999-2024.</span> 한경닷컴 <span class=\"txt-en\">All rights reserved.</span></p>\n",
      "\n",
      "\t\t<dl class=\"hk-family type-row\">\n",
      "\t\t\t<dt>한국경제 패밀리</dt>\n",
      "\t\t\t<dd>\n",
      "\t\t\t\t<a href=\"https://www.wowtv.co.kr/\" target=\"_blank\" rel=\"nofollow\" class=\"item\">한국경제<span class=\"txt-en\">TV</span></a>\n",
      "\t\t\t\t<a href=\"https://www.kedglobal.com/\" target=\"_blank\" rel=\"nofollow\" class=\"item\"><span class=\"txt-en\">KED Global</span></a>\n",
      "\t\t\t\t<a href=\"https://marketinsight.hankyung.com/\" target=\"_blank\" rel=\"nofollow\" class=\"item\">마켓인사이트</a>\n",
      "\t\t\t\t<a href=\"https://magazine.hankyung.com/\" target=\"_blank\" rel=\"nofollow\" class=\"item\">한국경제매거진</a>\n",
      "\t\t\t\t<a href=\"https://bp.hankyung.com/\" target=\"_blank\" rel=\"nofollow\" class=\"item\"><span class=\"txt-en\">BOOK</span></a>\n",
      "\t\t\t\t<a href=\"https://ac.hankyung.com/\" target=\"_blank\" rel=\"nofollow\" class=\"item\">한경아카데미</a>\n",
      "\t\t\t\t<a href=\"https://tenasia.hankyung.com/\" target=\"_blank\" rel=\"nofollow\" class=\"item\">텐아시아</a>\n",
      "\t\t\t\t<a href=\"https://sgsg.hankyung.com/\" target=\"_blank\" rel=\"nofollow\" class=\"item\">생글생글</a>\n",
      "\t\t\t\t<a href=\"https://jrsgsg.hankyung.com/\" target=\"_blank\" rel=\"nofollow\" class=\"item\">주니어 생글생글</a>\n",
      "\t\t\t\t<a href=\"https://www.tesat.or.kr/\" target=\"_blank\" rel=\"nofollow\" class=\"item\"><span class=\"txt-en\">TESAT</span></a>\n",
      "\t\t\t\t<a href=\"https://www.29sfilm.com/\" target=\"_blank\" rel=\"nofollow\" class=\"item\">29초영화제</a>\n",
      "\t\t\t\t<a href=\"https://itcampus.hankyung.com/\" target=\"_blank\" rel=\"nofollow\" class=\"item\">교육센터</a>\n",
      "\t\t\t\t<a href=\"https://bloomingbit.io\" target=\"_blank\" rel=\"nofollow\" class=\"item\">블루밍비트</a>\n",
      "\t\t\t\t<a href=\"http://autotimes.hankyung.com/\" target=\"_blank\" rel=\"nofollow\" class=\"item\">오토타임즈</a>\n",
      "\t\t\t\t<a href=\"https://kizmom.hankyung.com/\" target=\"_blank\" rel=\"nofollow\" class=\"item\">키즈맘</a>\n",
      "\t\t\t\t<a href=\"https://hankyungleaders.com/hankyungleaders/html/main/\" target=\"_blank\" rel=\"nofollow\" class=\"item\">한경기업경영지원본부</a>\n",
      "\t\t\t\t<a href=\"https://www.hankyung.com/tag/PR-Newswire\" class=\"item\"><span class=\"txt-en\">PR Newswire</span></a>\n",
      "\t\t\t</dd>\n",
      "\t\t</dl>\n",
      "\t</div>\n",
      "</div> \n",
      "\t</div>\n",
      "\t<!-- // 회사소개 -->\n",
      "</footer>\t\t<!-- //footer -->\n",
      "\n",
      "\t\t<!-- 상단 바로가기 버튼 -->\n",
      "\t\t<div class=\"btn-top-wrap\">\n",
      "\t\t\t<div class=\"btn-position\">\n",
      "\t\t\t\t<a href=\"#wrap\" class=\"btn-top\"><span class=\"blind\">상단 바로가기</span></a>\n",
      "\t\t\t</div>\n",
      "\t\t</div>\n",
      "\n",
      "\t\t<script>\n",
      "\t\t// 위로가기 버튼\n",
      "\t\t$('.btn-top').on(\"click\", function(){\n",
      "\t\t\t$('html, body').animate( { scrollTop : 0 }, 300 );\n",
      "\t\t\treturn false;\n",
      "\t\t});\n",
      "\t\t</script>\n",
      "\t</div>\n",
      "\n",
      "<!-- <script async type=\"text/javascript\" src=\"https://www.hankyung.com/resource/js/w/view.gtmet.js?v=202403221017\"></script> -->\n",
      "\n",
      "<script defer=\"\" src=\"https://t1.kakaocdn.net/kakao_js_sdk/v1/kakao.min.js\"></script>\n",
      "<script defer=\"\" type=\"text/javascript\" src=\"https://hkstatic.hankyung.com/plugin/clipboard.min.js\"></script>\n",
      "<script defer=\"\" type=\"text/javascript\" src=\"https://hkstatic.hankyung.com/resource/www/view/js/w/view.latest.js?v=202403221017\"></script>\n",
      "\n",
      "<!-- 개인화 서비스 -->\n",
      "<script async=\"\" type=\"text/javascript\" src=\"https://hkstatic.hankyung.com/resource/www/view/js/w/my.scrap.js?v=202403221017\"></script>\n",
      "<script async=\"\" type=\"text/javascript\" src=\"https://hkstatic.hankyung.com/resource/www/view/js/w/my.reporter.js?v=202403221017\"></script>\n",
      "<script async=\"\" type=\"text/javascript\" src=\"https://hkstatic.hankyung.com/resource/www/view/js/w/my.reaction.js?v=202403221017\"></script>\n",
      "<!-- // 개인화 서비스-->\n",
      "\n",
      "\n",
      "<script>\n",
      "\n",
      "var paragraph = 1;\n",
      "\n",
      "$(function(){\n",
      "    /******/\n",
      "\n",
      "    $('.hk_sub_headline').before('<br style=\"display:none;\"/><br style=\"display:none;\"/>');\n",
      "\n",
      "    function checkParagraph(element){\n",
      "        if(typeof element.localName != 'string' || element.localName.toLowerCase() != 'br') return false;\n",
      "        if(element.previousSibling == null || typeof element.previousSibling.localName != 'string' || element.previousSibling.localName.toLowerCase() != 'br') return false;\n",
      "        if(element.nextSibling != null && element.previousSibling.localName == 'string' && element.nextSibling.localName.toLowerCase() == 'br') return false;\n",
      "\n",
      "        return true;\n",
      "    }\n",
      "\n",
      "    var constents = $('#articletxt').contents();\n",
      "    var constentsLength = constents.length;\n",
      "    for(i = 0; i < constentsLength; i++){\n",
      "\n",
      "        if(checkParagraph(constents[i])){\n",
      "            $(constents[i]).addClass('paragraph').attr('data-index',paragraph);\n",
      "            paragraph++;\n",
      "        }\n",
      "\n",
      "        if(constents[i].localName == 'div' || constents[i].localName == 'p'){\n",
      "            var innerConstents = $(constents[i]).contents();\n",
      "            var innerConstentsLength = innerConstents.length;\n",
      "            for(k = 0; k < innerConstentsLength; k++){\n",
      "                if(checkParagraph(innerConstents[k])){\n",
      "                    $(innerConstents[k]).addClass('paragraph').attr('data-index',paragraph);\n",
      "                    paragraph++;\n",
      "                }\n",
      "            }\n",
      "        }\n",
      "    }\n",
      "});\n",
      "\n",
      "</script>\n",
      "\n",
      "<script type=\"text/javascript\" async=\"false\" src=\"https://hkstatic.hankyung.com/resource/www/view/js/w/view.ads.js?v=202403221017\"></script>\n",
      "    <script src=\"//cdn.targetpush.co.kr/adtivessp/d.js\"></script>\n",
      "    <script>try{adtiveSSP('BTMMMMM4')}catch(e){console.log(e)}</script>\n",
      "<!-- 2024.01.05 아이커버 by jun-->\n",
      "<script src=\"//www.mediacategory.com/js/common/HawkEyesMaker.js\"></script> \n",
      "<script type=\"text/javascript\">\n",
      "    new HawkEyes({\"type\":\"mediation\",\"platform\":\"W\",\"scriptCode\":\"8595\",\"settings\":{}});\n",
      "</script><script src=\"//www.mediacategory.com/servlet/adMediation?from=&amp;location=https%3A//www.hankyung.com/article/2024022231661&amp;s=8595&amp;platform=W&amp;au_id=f1ed29926afe7df6-5a6f466718e669fce85-20eb&amp;usehawk=Y&amp;uaInfo=bWFjT1NfXzE0LjAuMF8xMjMuMC42MzEyLjU5X2ZhbHNlX0Nocm9taXVtLE5vdDpBLUJyYW5kLEdvb2dsZUNocm9tZSw=\"></script>\n",
      "\n",
      "\n",
      "<script src=\"//a.teads.tv/page/84080/tag\" async=\"true\"></script><script async=\"\" id=\"AV6303de647918cd4c1966fa0b\" type=\"text/javascript\" src=\"https://tg1.aniview.com/api/adserver/spt?AV_TAGID=6303de647918cd4c1966fa0b&amp;AV_PUBLISHERID=6303d537c518f52a57550f64\"></script><div id=\"adtSSP10613370142371232785\" class=\"adtssp-active\"><iframe width=\"100%\" height=\"100%\" frameborder=\"0\" scrolling=\"no\"></iframe><div class=\"adtssp-btn-show adtssp-closeTab adtssp-closeTab-rt\">광고삭제</div></div><iframe name=\"googlefcPresent\" style=\"display: none; width: 0px; height: 0px; border: none; z-index: -1000; left: -1000px; top: -1000px;\"></iframe><img src=\"https://cm.g.doubleclick.net/pixel?google_nid=dable&amp;google_cm\" alt=\"\" width=\"1\" height=\"1\" style=\"position:absolute;top:-9999px;left:-9999px;\"><img src=\"https://cm-exchange.toast.com/pixel?cm_mid=1440080439&amp;cm_muid=34836038.1711201335223&amp;toast_push\" alt=\"\" width=\"1\" height=\"1\" style=\"position:absolute;top:-9999px;left:-9999px;\"><img src=\"https://cs.gssprt.jp/yie/ld/cs?dspid=dable&amp;uid=34836038.1711201335223\" alt=\"\" width=\"1\" height=\"1\" style=\"position:absolute;top:-9999px;left:-9999px;\"><img src=\"https://analytics.ad.daum.net/match?d=111&amp;uid=34836038.1711201335223\" alt=\"\" width=\"1\" height=\"1\" style=\"position:absolute;top:-9999px;left:-9999px;\"><img src=\"https://dable-api.scupio.com/dable/v1/exc/?did=34836038.1711201335223\" alt=\"\" width=\"1\" height=\"1\" style=\"position:absolute;top:-9999px;left:-9999px;\"><img src=\"https://ib.adnxs.com/setuid?entity=563&amp;code=34836038.1711201335223\" alt=\"\" width=\"1\" height=\"1\" style=\"position:absolute;top:-9999px;left:-9999px;\"><iframe src=\"https://ads.pubmatic.com/AdServer/js/user_sync.html?p=164250&amp;userIdMacro=(PM_UID)&amp;predirect=https%3A%2F%2Fadx.dable.io%2Fpixel%3Fdsp_id%3D46%26uid%3D(PM_UID)%26dable_uid%3D34836038.1711201335223\" title=\"iframe_cookie_sync\" width=\"1\" height=\"1\" style=\"position:absolute;top:-9999px;left:-9999px;\"></iframe><iframe allow=\"autoplay; attribution-reporting 'src' https://cm.teads.tv\" scrolling=\"no\" title=\"user-sync\" frameborder=\"0\" id=\"teadsusersync\" src=\"https://sync.teads.tv/iframe?pid=90973&amp;gdprIab={&quot;reason&quot;:220,&quot;status&quot;:22,&quot;consent&quot;:&quot;&quot;,&quot;apiVersion&quot;:null,&quot;cmpId&quot;:null}&amp;fromFormat=true&amp;env=js-web&amp;auctid=973725cd-bce9-449e-87d7-e67fdd66b1d4&amp;vid=e3362925-34fd-437e-b079-4b99a5eeb73b&amp;1711201335266\" style=\"margin: 0px !important; padding: 0px !important; width: 0px !important; height: 0px !important; border: 0px !important; overflow: hidden !important; float: none !important; display: none;\"></iframe><div class=\"AV6303de647918cd4c1966fa0b\" style=\"width: 100%; margin: 0px auto; max-width: 400px;\"><div id=\"aniBox\" style=\"overflow: hidden; transition: height 1s ease 0s; width: 400px; height: 1px; opacity: 0;\"><div id=\"aniplayer_AV6303de647918cd4c1966fa0b-1711201335312\" style=\"z-index: 10000001; position: fixed; bottom: 0px; left: 0px; transform: scale(1); transform-origin: left bottom; visibility: hidden;\"><style type=\"text/css\" id=\"av_css_id\">#nonl-container *{display:block}#av-caption #av-close-btn:hover,#av-container #av-inner #gui #av-close-btn:hover,#av-container.av-desktop #av-inner #gui #close-btn:hover,#av-container.av-desktop #av-inner #gui #skip-btn:hover{background-color:#000;background-color:rgba(0,0,0,.7);cursor:pointer}#av-caption #av-close-btn,#av-container #av-inner #gui #av-close-btn,#av-container #av-inner #gui #close-btn{background-color:#323232;background-color:rgba(0,0,0,.4);background-image:url(\"data:image/svg+xml;charset=utf-8,%3Csvg xmlns=%27http://www.w3.org/2000/svg%27 xml:space=%27preserve%27 width=%2723%27 height=%2723%27 viewBox=%270 0 22.677 22.677%27%3E%3Cpath fill=%27%23fff%27 fill-rule=%27evenodd%27 d=%27m19.346 5.421-2.09-2.089-5.918 5.918L5.42 3.332 3.332 5.421l5.918 5.917-5.918 5.919 2.088 2.088 5.918-5.918 5.918 5.918 2.09-2.088-5.918-5.919z%27 clip-rule=%27evenodd%27/%3E%3C/svg%3E\");background-position:50%;background-repeat:no-repeat;background-size:60%;border-color:#fff;border-style:solid;border-width:0 1px 1px 0;height:28px;left:0;position:absolute;top:0;-webkit-transition:all .15s ease-in-out;-moz-transition:all .15s ease-in-out;-o-transition:all .15s ease-in-out;transition:all .15s ease-in-out;width:28px;z-index:9999999}#av-caption #av-close-btn,#av-container #av-inner #gui #av-close-btn{border:none;height:18px;position:static;width:18px}#av-caption{line-height:18px;position:relative;text-align:center}#av-caption #av-close-btn-overlay{display:inline-block;position:relative;vertical-align:top;z-index:9999999}#av-label{color:#bbb;display:inline-block;font-family:Helvetica,Arial,fallback,sans-serif;font-size:9px;line-height:10px;margin:0;padding:4px;text-align:center;text-transform:uppercase;vertical-align:top;z-index:83}#av-container{height:360px;margin:0;overflow:hidden;pointer-events:auto;position:relative;text-align:initial;width:640px}#av-container ::-webkit-media-controls-panel{-webkit-appearance:none;display:none!important}#av-container ::--webkit-media-controls-play-button{-webkit-appearance:none;display:none!important}#av-container ::-webkit-media-controls-start-playback-button{-webkit-appearance:none;display:none!important}#av-container div{position:static}#av-container #av-inner{height:100%;left:0;position:absolute;top:0;width:100%}#av-container #av-inner #slot{-webkit-box-shadow:inset 0 0 0 1px rgba(0,0,0,.1);-moz-box-shadow:inset 0 0 0 1px rgba(0,0,0,.1);box-shadow:inset 0 0 0 1px rgba(0,0,0,.1);height:100%;position:absolute;width:100%}#av-container #av-inner #slot #preloader{bottom:0;height:0;left:0;margin:auto;outline:none;position:absolute;right:0;top:0;width:0}#av-container #av-inner #slot #preloader svg{left:50%;position:absolute;top:50%}#av-container #av-inner #slot #preloader svg.avicon{fill:#fff;height:50px;margin-left:-25px;margin-top:-25px;width:50px}#av-container #av-inner #slot #preloader svg.avcircle{fill:transparent;stroke:hsla(0,0%,100%,.2);stroke-width:3;height:70px;margin-left:-35px;margin-top:-35px;width:70px}#av-container #av-inner #slot #preloader svg.avcircle.active{stroke:#fff;stroke-linecap:round;animation:av-loading-dash 2s ease infinite,av-loading-rotate 2.5s linear infinite;color:red}#av-container #av-inner #slot #videoslot{bottom:0;filter:alpha(opacity=0);left:0;object-fit:fill;opacity:0;position:absolute;right:0;text-align:left;top:50%;-webkit-transform:translateY(-50%);-ms-transform:translateY(-50%);transform:translateY(-50%);width:100%}#av-container #av-inner #slot #videoslot.loaded{-webkit-animation:fade-in .5s ease;-moz-animation:fade-in .5s ease;-o-animation:fade-in .5s ease;animation:fade-in .5s ease;filter:alpha(opacity=100);opacity:1}#av-container #av-inner #slot #videoslot div{all:initial;background:initial;position:static;z-index:auto}#av-container #av-inner #gui:before{background:-webkit-linear-gradient(top,transparent,rgba(0,0,0,.5));background:-moz-linear-gradient(top,transparent 0,rgba(0,0,0,.5) 100%);background:linear-gradient(180deg,transparent 0,rgba(0,0,0,.5));bottom:0;content:\"\";filter:progid:DXImageTransform.Microsoft.gradient(startColorstr=\"#00000000\",endColorstr=\"#80000000\",GradientType=0);height:15%;left:0;pointer-events:none;width:100%}#av-container #av-inner #gui #timeline,#av-container #av-inner #gui:before{position:absolute;-webkit-transition:all .15s ease-in-out;-moz-transition:all .15s ease-in-out;-o-transition:all .15s ease-in-out;transition:all .15s ease-in-out}#av-container #av-inner #gui #timeline{cursor:pointer;height:10px;overflow:hidden}#av-container #av-inner #gui #timeline #timeline-buffer,#av-container #av-inner #gui #timeline #timeline-moveto,#av-container #av-inner #gui #timeline #timeline-progress,#av-container #av-inner #gui #timeline:before{height:2px;left:0;position:absolute}#av-container #av-inner #gui #timeline:before{background:#646464;background:hsla(0,0%,100%,.3);content:\"\";width:100%}#av-container #av-inner #gui #timeline #timeline-buffer,#av-container #av-inner #gui #timeline:before{-webkit-box-shadow:0 0 3px 0 rgba(0,0,0,.1);-moz-box-shadow:0 0 3px 0 rgba(0,0,0,.1);box-shadow:0 0 3px 0 rgba(0,0,0,.1)}#av-container #av-inner #gui #timeline #timeline-buffer{background:#b4b4b4;background:hsla(0,0%,100%,.5);width:0}#av-container #av-inner #gui #timeline #timeline-moveto{background:#fff;background:hsla(0,0%,100%,.8);opacity:0;width:0}#av-container #av-inner #gui #timeline #timeline-progress{background:red;width:0}#av-container #av-inner #gui #timeline.av-overlay{bottom:41px;left:10px;right:10px}#av-container #av-inner #gui #timeline.av-overlay #timeline-buffer,#av-container #av-inner #gui #timeline.av-overlay #timeline-moveto,#av-container #av-inner #gui #timeline.av-overlay #timeline-progress,#av-container #av-inner #gui #timeline.av-overlay:before{margin-top:-1px;top:50%}#av-container #av-inner #gui #timeline.av-bottom{bottom:0;left:0;right:0}#av-container #av-inner #gui #timeline.av-bottom #timeline-buffer,#av-container #av-inner #gui #timeline.av-bottom #timeline-moveto,#av-container #av-inner #gui #timeline.av-bottom #timeline-progress,#av-container #av-inner #gui #timeline.av-bottom:before{bottom:0;top:auto}#av-container #av-inner #gui #timeline.av-top{left:0;right:0;top:0}#av-container #av-inner #gui #timeline.av-top #timeline-buffer,#av-container #av-inner #gui #timeline.av-top #timeline-moveto,#av-container #av-inner #gui #timeline.av-top #timeline-progress,#av-container #av-inner #gui #timeline.av-top:before{bottom:auto;top:0}#av-container #av-inner #gui #timeline.av-top~#skip-btn{top:2px}#av-container #av-inner #gui #timeline.av-top~#aniview-credit{top:4px}#av-container #av-inner #gui #timeline.av-none{display:none!important;opacity:0!important}#av-container #av-inner #gui #buttons{bottom:0;display:flex;justify-content:space-between;left:0;padding:0 13px 11px;position:absolute;right:0;-webkit-transition:all .15s ease-in-out;-moz-transition:all .15s ease-in-out;-o-transition:all .15s ease-in-out;transition:all .15s ease-in-out}#av-container #av-inner #gui #buttons.av-left{justify-content:flex-start}#av-container #av-inner #gui #buttons.av-left #play-pause{margin-right:0}#av-container #av-inner #gui #buttons #play-pause:after,#av-container #av-inner #gui #buttons #sound:after{bottom:-10px;content:\"\";left:-10px;position:absolute;right:-10px;top:-10px}#av-container #av-inner #gui #buttons #fullscreen,#av-container #av-inner #gui #buttons #phone,#av-container #av-inner #gui #buttons #play-pause,#av-container #av-inner #gui #buttons #share,#av-container #av-inner #gui #buttons #sound{background-repeat:no-repeat;background-size:cover;height:24px;width:24px}#av-container #av-inner #gui #buttons #left,#av-container #av-inner #gui #buttons #right{height:24px}#av-container #av-inner #gui #buttons #left>div{float:left;margin-right:14px;position:relative}#av-container #av-inner #gui #buttons #left #play-pause.play{background-image:url(\"data:image/svg+xml;charset=utf-8,%3Csvg xmlns=%27http://www.w3.org/2000/svg%27 xml:space=%27preserve%27 width=%2723%27 height=%2723%27 viewBox=%270 0 22.677 22.677%27%3E%3Cpath fill=%27%23fff%27 d=%27M19.343 11.251c-.035-.439-.334-.874-.902-1.207L7.536 3.641c-1.211-.712-2.203-.138-2.203 1.275v7.463c5.85-2.36 13.783-1.163 14.01-1.128zM5.333 17v.762c0 1.412.992 1.985 2.203 1.273l10.904-6.402c.643-.377.941-.882.902-1.379-8.65.696-12.404 3.614-14.009 5.746z%27/%3E%3C/svg%3E\")}#av-container #av-inner #gui #buttons #left #play-pause.pause{background-image:url(\"data:image/svg+xml;charset=utf-8,%3Csvg xmlns=%27http://www.w3.org/2000/svg%27 xml:space=%27preserve%27 width=%2723%27 height=%2723%27 viewBox=%270 0 22.677 22.677%27%3E%3Cpath fill=%27%23fff%27 d=%27M4.338 19.339h5v-16h-5v16zm9.001-16.001v16h5v-16h-5z%27/%3E%3C/svg%3E\")}#av-container #av-inner #gui #buttons #left #play-pause.replay{background-image:url(\"data:image/svg+xml;charset=utf-8,%3Csvg xmlns=%27http://www.w3.org/2000/svg%27 xml:space=%27preserve%27 width=%2723%27 height=%2723%27 viewBox=%270 0 22.677 22.677%27%3E%3Cpath fill=%27%23fff%27 d=%27M16.672 11.339a5.334 5.334 0 0 1-10.668 0 5.334 5.334 0 0 1 5.326-5.333v2.336l7.016-3.503-7.016-3.503V3.34a8 8 0 0 0 .008 15.999 8 8 0 0 0 8-8h-2.666z%27/%3E%3C/svg%3E\")}#av-container #av-inner #gui #buttons #left #phone{font-size:0;width:auto}#av-container #av-inner #gui #buttons #left #phone .avicon{background-image:url(\"data:image/svg+xml;charset=utf-8,%3Csvg xmlns=%27http://www.w3.org/2000/svg%27 xml:space=%27preserve%27 width=%2723%27 height=%2723%27 viewBox=%270 0 22.677 22.677%27%3E%3Cpath fill=%27%23fff%27 fill-rule=%27evenodd%27 d=%27M20.154 17.236c.299-.298.254-.921-.236-1.188-.492-.267-4.518-2.602-4.982-2.138-.463.465-1.447 1.498-2.135 1.188s-2.289-1.816-2.846-2.375c-.559-.557-2.064-2.159-2.377-2.847-.31-.687.725-1.67 1.188-2.134.464-.465-1.87-4.491-2.137-4.982-.266-.489-.889-.534-1.188-.237s-2.18 2.176-2.85 2.847c-.671.671-.279 5.415 4.514 10.202 4.787 4.792 9.531 5.185 10.203 4.514.671-.671 2.549-2.551 2.846-2.85z%27 clip-rule=%27evenodd%27/%3E%3C/svg%3E\");background-repeat:no-repeat;background-size:cover;display:inline-block;height:24px;vertical-align:top;width:24px}#av-container #av-inner #gui #buttons #left #phone #phone-num{color:#fff;display:inline-block;font-family:Helvetica,Arial,fallback,sans-serif;font-size:12px;font-weight:400;height:24px;line-height:24px;margin-left:4px}#av-container #av-inner #gui #buttons #right>div{float:right;margin-left:14px;position:relative}#av-container #av-inner #gui #buttons #right #sound{background-image:url(\"data:image/svg+xml;charset=utf-8,%3Csvg xmlns=%27http://www.w3.org/2000/svg%27 xml:space=%27preserve%27 width=%2723%27 height=%2723%27 viewBox=%270 0 22.68 22.68%27%3E%3Cpath fill=%27%23fff%27 fill-rule=%27evenodd%27 d=%27M7.247 7.34H1.761v8h5.486l5.496 4.006V3.334z%27 clip-rule=%27evenodd%27/%3E%3C/svg%3E\")}#av-container #av-inner #gui #buttons #right #sound div{background-repeat:no-repeat;background-size:cover;height:100%;left:0;position:absolute;top:0;width:100%}#av-container #av-inner #gui #buttons #right #sound div.on{background-image:url(\"data:image/svg+xml;charset=utf-8,%3Csvg xmlns=%27http://www.w3.org/2000/svg%27 xml:space=%27preserve%27 width=%2723%27 height=%2723%27 viewBox=%270 0 22.677 22.677%27%3E%3Cpath fill=%27%23fff%27 d=%27m17.808 4.757-1.705 1.881c1.357 1.146 2.221 2.824 2.221 4.7s-.863 3.556-2.221 4.701l1.705 1.881c1.902-1.605 3.109-3.955 3.109-6.582 0-2.626-1.207-4.975-3.109-6.581z%27/%3E%3C/svg%3E\")}#av-container #av-inner #gui #buttons #right #sound div.off{background-image:url(\"data:image/svg+xml;charset=utf-8,%3Csvg xmlns=%27http://www.w3.org/2000/svg%27 xml:space=%27preserve%27 width=%2723%27 height=%2723%27 viewBox=%270 0 22.677 22.677%27%3E%3Cpath fill=%27red%27 fill-rule=%27evenodd%27 d=%27m20.009 11.337 2.662-2.663-1.328-1.329-2.664 2.662-2.664-2.662-1.33 1.329 2.664 2.663-2.668 2.666 1.334 1.328 2.664-2.665 2.664 2.665 1.334-1.328z%27 clip-rule=%27evenodd%27/%3E%3C/svg%3E\")}#av-container #av-inner #gui #buttons #right #share{background-image:url(\"data:image/svg+xml;charset=utf-8,%3Csvg xmlns=%27http://www.w3.org/2000/svg%27 xml:space=%27preserve%27 width=%2723%27 height=%2723%27 viewBox=%270 0 22.677 22.677%27%3E%3Cpath fill=%27%23fff%27 fill-rule=%27evenodd%27 d=%27M17.338 14.339a2.97 2.97 0 0 0-1.838.645l-7.17-3.567c0-.026.008-.051.008-.078 0-.026-.008-.052-.008-.078l7.17-3.566c.51.397 1.143.645 1.838.645a3 3 0 1 0-3-3c0 .188.023.372.057.552L7.531 9.304a2.982 2.982 0 0 0-2.193-.966 3 3 0 0 0 0 6c.869 0 1.645-.375 2.193-.965l6.863 3.412a3.05 3.05 0 0 0-.057.553 3.001 3.001 0 0 0 6 0 3 3 0 0 0-2.999-2.999z%27 clip-rule=%27evenodd%27/%3E%3C/svg%3E\")}#av-container #av-inner #gui #buttons #right #fullscreen.off{background-image:url(\"data:image/svg+xml;charset=utf-8,%3Csvg xmlns=%27http://www.w3.org/2000/svg%27 xml:space=%27preserve%27 width=%2723%27 height=%2723%27 viewBox=%270 0 22.677 22.677%27%3E%3Cpath fill=%27%23fff%27 d=%27M4.339 15.339h-2v5h5v-2h-3v-3zm-2-8.001h2v-3h3v-2h-5v5zm13-5v2h3v3h2v-5h-5zm3 16.001h-3v2h5v-5h-2v3z%27/%3E%3C/svg%3E\")}#av-container #av-inner #gui #buttons #right #fullscreen.on{background-image:url(\"data:image/svg+xml;charset=utf-8,%3Csvg xmlns=%27http://www.w3.org/2000/svg%27 xml:space=%27preserve%27 width=%2723%27 height=%2723%27 viewBox=%270 0 22.677 22.677%27%3E%3Cpath fill=%27%23fff%27 d=%27M6.338 6.338h-3v2h5v-5h-2v3zm-3 10.001h3v3h2v-5h-5v2zm11 3h2v-3h3v-2h-5v5zm2-13.001v-3h-2v5h5v-2h-3z%27/%3E%3C/svg%3E\")}#av-container #av-inner #gui #big-play{background-color:#323232;background-color:rgba(0,0,0,.4);background-image:url(\"data:image/svg+xml;charset=utf-8,%3Csvg xmlns=%27http://www.w3.org/2000/svg%27 xml:space=%27preserve%27 width=%2723%27 height=%2723%27 viewBox=%270 0 22.677 22.677%27%3E%3Cpath fill=%27%23fff%27 d=%27M19.343 11.251c-.035-.439-.334-.874-.902-1.207L7.536 3.641c-1.211-.712-2.203-.138-2.203 1.275v7.463c5.85-2.36 13.783-1.163 14.01-1.128zM5.333 17v.762c0 1.412.992 1.985 2.203 1.273l10.904-6.402c.643-.377.941-.882.902-1.379-8.65.696-12.404 3.614-14.009 5.746z%27/%3E%3C/svg%3E\");background-position:16px;background-repeat:no-repeat;background-size:62% 64%;border:3px solid #fff;border-radius:50%;display:none;height:68px;left:50%;margin-left:-34px;margin-top:-34px;position:absolute;top:50%;-webkit-transition:all .15s ease-in-out;-moz-transition:all .15s ease-in-out;-o-transition:all .15s ease-in-out;transition:all .15s ease-in-out;width:68px}#av-container #av-inner #gui #timer{background-color:#000;background-color:rgba(0,0,0,.7);border-color:#fff;border-style:solid;border-width:0 1px 1px 0;font-size:12px;height:28px;left:0;line-height:28px;top:0;width:28px}#av-container #av-inner #gui #skip-btn,#av-container #av-inner #gui #timer{color:#fff;font-family:Helvetica,Arial,fallback,sans-serif;position:absolute;text-align:center;-webkit-transition:all .15s ease-in-out;-moz-transition:all .15s ease-in-out;-o-transition:all .15s ease-in-out;transition:all .15s ease-in-out}#av-container #av-inner #gui #skip-btn{background-color:#323232;background-color:rgba(0,0,0,.4);border:1px solid #fff;border-right-width:0;bottom:60px;font-size:14px;height:32px;line-height:32px;padding:0 12px;right:0;text-transform:uppercase}#av-container #av-inner #gui #aniview-credit{color:#fff;font-family:Helvetica,Arial,fallback,sans-serif;font-size:11px;font-weight:500;height:24px;line-height:24px;position:absolute;right:2px;top:2px}#av-container #av-inner #gui #aniview-credit span{background-image:url(\"data:image/svg+xml;charset=utf-8,%3Csvg xmlns=%27http://www.w3.org/2000/svg%27 xml:space=%27preserve%27 width=%2723%27 height=%2723%27 viewBox=%270 0 22.677 22.677%27%3E%3Cpath fill=%27red%27 d=%27M19.343 11.251c-.035-.439-.334-.874-.902-1.207L7.536 3.641c-1.211-.712-2.203-.138-2.203 1.275v7.463c5.85-2.36 13.783-1.163 14.01-1.128zM5.333 17v.762c0 1.412.992 1.985 2.203 1.273l10.904-6.402c.643-.377.941-.882.902-1.379-8.65.696-12.404 3.614-14.009 5.746z%27/%3E%3C/svg%3E\");background-repeat:no-repeat;background-size:cover;display:inline-block;height:24px;vertical-align:top;width:24px}#av-container.av-desktop #av-inner #gui #big-play{border-color:#ccc}#av-container.av-desktop #gui:before{bottom:-15%}#av-container.av-desktop #gui #buttons,#av-container.av-desktop #gui #timeline,#av-container.av-desktop #gui:before{filter:alpha(opacity=0);opacity:0}#av-container.av-desktop:hover #av-inner #gui #big-play{background-color:#000;background-color:rgba(0,0,0,.7);border-color:#fff}#av-container.av-desktop:hover #gui:before{bottom:0}#av-container.av-desktop #av-inner #gui #timeline:hover #timeline-moveto,#av-container.av-desktop:hover #gui #buttons,#av-container.av-desktop:hover #gui #timeline,#av-container.av-desktop:hover #gui:before{filter:alpha(opacity=100);opacity:1}#av-container.av-responsive{height:520px;width:100%}#av-container.hide-controls #av-inner #gui:before,#av-container.hide-controls #buttons,#av-container.hide-controls #timeline{display:none}#av-container.buttons-below #av-inner #slot #videoslot{top:0;-webkit-transform:none;transform:none}#av-container #videoslot video{max-width:none}#av-container #slot video{object-fit:contain}@-webkit-keyframes \"fade-in\"{0%{filter:alpha(opacity=0);opacity:0}to{filter:alpha(opacity=100);opacity:1}}@-moz-keyframes \"fade-in\"{0%{filter:alpha(opacity=0);opacity:0}to{filter:alpha(opacity=100);opacity:1}}@-o-keyframes fade-in{0%{filter:alpha(opacity=0);opacity:0}to{filter:alpha(opacity=100);opacity:1}}@keyframes \"fade-in\"{0%{filter:alpha(opacity=0);opacity:0}to{filter:alpha(opacity=100);opacity:1}}@-webkit-keyframes \"av-loading-dash\"{0%{stroke-dasharray:1,210;stroke-dashoffset:0}50%{stroke-dasharray:130,220;stroke-dashoffset:-50}to{stroke-dasharray:170,220;stroke-dashoffset:-210}}@-moz-keyframes \"av-loading-dash\"{0%{stroke-dasharray:1,210;stroke-dashoffset:0}50%{stroke-dasharray:130,220;stroke-dashoffset:-50}to{stroke-dasharray:170,220;stroke-dashoffset:-210}}@-o-keyframes av-loading-dash{0%{stroke-dasharray:1,210;stroke-dashoffset:0}50%{stroke-dasharray:130,220;stroke-dashoffset:-50}to{stroke-dasharray:170,220;stroke-dashoffset:-210}}@keyframes \"av-loading-dash\"{0%{stroke-dasharray:1,210;stroke-dashoffset:0}50%{stroke-dasharray:130,220;stroke-dashoffset:-50}to{stroke-dasharray:170,220;stroke-dashoffset:-210}}@-webkit-keyframes \"av-loading-rotate\"{0%{stroke:#fff;-webkit-transform:rotate(0deg);transform:rotate(0deg)}to{stroke:currentColor;-webkit-transform:rotate(1turn);transform:rotate(1turn)}}@-moz-keyframes \"av-loading-rotate\"{0%{stroke:#fff;-webkit-transform:rotate(0deg);transform:rotate(0deg)}to{stroke:currentColor;-webkit-transform:rotate(1turn);transform:rotate(1turn)}}@-o-keyframes av-loading-rotate{0%{stroke:#fff;-webkit-transform:rotate(0deg);transform:rotate(0deg)}to{stroke:currentColor;-webkit-transform:rotate(1turn);transform:rotate(1turn)}}@keyframes \"av-loading-rotate\"{0%{stroke:#fff;-webkit-transform:rotate(0deg);transform:rotate(0deg)}to{stroke:currentColor;-webkit-transform:rotate(1turn);transform:rotate(1turn)}} </style><div id=\"aniplayer_AV6303de647918cd4c1966fa0b-1711201335312gui\"><div id=\"av-caption\" style=\"width: 400px;\"><div id=\"av-close-btn-overlay\" class=\"av-pos-top-right\" style=\"padding: 30px; margin: -30px; float: right;\"><div id=\"av-close-btn\"></div></div></div><div id=\"av-container\" class=\" av-desktop hide-controls\" style=\"width: 400px; height: 225px;\"><div id=\"av-inner\"><div id=\"slot\"><div id=\"imgpreloader\"></div><div id=\"preloader\" style=\"display: block;\"><svg class=\"avicon\" version=\"1.1\" xmlns=\"http://www.w3.org/2000/svg\" xmlns:xlink=\"http://www.w3.org/1999/xlink\" x=\"0px\" y=\"0px\" viewBox=\"0 0 30 30\" xml:space=\"preserve\"><g><path d=\"M23.3,14.9c0-0.4-0.3-0.9-0.8-1.2l-10-6.4c-1.1-0.7-2-0.1-2,1.3v7.5C15.8,13.7,23.1,14.9,23.3,14.9z M23.3,15 c-7.9,0.6-11.4,3.5-12.8,5.7v0.8c0,1.4,0.9,2,2,1.3l10-6.4C23.1,16,23.4,15.5,23.3,15z\"></path></g></svg><svg class=\"avcircle\" width=\"70\" height=\"70\" version=\"1.1\" xmlns=\"http://www.w3.org/2000/svg\"><circle cx=\"35\" cy=\"35\" r=\"32\"></circle></svg><svg class=\"avcircle active\" width=\"70\" height=\"70\" version=\"1.1\" xmlns=\"http://www.w3.org/2000/svg\"><circle cx=\"35\" cy=\"35\" r=\"32\"></circle></svg></div><div id=\"videoslot\" style=\"background-color: rgb(0, 0, 0); width: 400px; height: 225px;\" class=\"loaded\"></div></div><div id=\"gui\"><div id=\"timeline\" class=\" av-bottom\"><div id=\"timeline-buffer\" style=\"width: 0%;\"></div><div id=\"timeline-moveto\"></div><div id=\"timeline-progress\" style=\"width: 0%;\"></div></div><div id=\"buttons\"><div id=\"left\"><div id=\"play-pause\" class=\"pause\" style=\"display: none;\"></div><div id=\"phone\" style=\"display: none;\"><div class=\"avicon\"></div><div id=\"phone-num\"></div></div></div><div id=\"right\"><div id=\"fullscreen\" class=\"off\" style=\"display: none;\"></div><div id=\"share\" style=\"display: none;\"></div><div id=\"sound\" style=\"display: none;\"><div class=\"off\"></div></div></div></div><div id=\"big-play\" style=\"display: none;\"></div><div id=\"timer\" style=\"display: none;\"></div><div id=\"skip-btn\" style=\"display: none;\">Skip</div><div id=\"aniview-credit\" style=\"top: 5px; right: 2px; cursor: pointer; display: inline;\"><span style=\"height: 27px; width: 35px; background-image: url(&quot;https://admaru.com/images/admaru_logo_white.png&quot;);\"></span></div><div id=\"ad-icon\"></div></div></div></div></div></div></div></div><script src=\"https://player.aniview.com/script/6.1/player.js\" async=\"\"></script><script>//<!--주군 아이커버-->\n",
      "var mobonMdScript = document.createElement('script');\n",
      "mobonMdScript.src = \"https://dsp.mobwithad.com/v2/cover/icover?zone=10884078&output=html&auid=f1ed29926afe7df6-5a6f466718e669fce85-20eb\";\n",
      "document.head.appendChild(mobonMdScript);\n",
      "mobonMdScript.onload = function () {\n",
      "    if (ad_data.ad_exist === true) {\n",
      "        var fq = 300;\n",
      "        var ico_drc = ad_data.click_url;\n",
      "        var r = window.open(ico_drc + \"&fq=\" + fq, \"_blank\", \"width=1024,height=768,scrollbars=yes,menubar=yes,location=yes,toolbar=yes,resizable=yes\");\n",
      "        if (r != null) {\n",
      "            //iSendChk쿠키 생성\n",
      "            var httpRequest = new XMLHttpRequest();\n",
      "            httpRequest.open('GET', 'https://www.mediacategory.com/servlet/iSendChkAdd?fq='+fq+\"&au_id=f1ed29926afe7df6-5a6f466718e669fce85-20eb\");\n",
      "            httpRequest.send();\n",
      "\n",
      "            var tmp = window.open('about:blank');\n",
      "            tmp.focus();\n",
      "            tmp.close();\n",
      "            setTimeout(function () {\n",
      "                try {\n",
      "                    tmp = window.open('about:blank');\n",
      "                    tmp.focus();\n",
      "                    tmp.close();\n",
      "                } catch (e) {\n",
      "                }\n",
      "            }, 500);\n",
      "        }\n",
      "    } else {\n",
      "        var httpRequest = new XMLHttpRequest();\n",
      "        httpRequest.open('GET', 'https://www.mediacategory.com/servlet/adMediation?s=8595&platform=W&au_id=f1ed29926afe7df6-5a6f466718e669fce85-20eb&endPassbackURL=&passback=jugon_mdno');\n",
      "        httpRequest.send();\n",
      "        httpRequest.onreadystatechange = function() {\n",
      "            if (httpRequest.readyState === XMLHttpRequest.DONE) {\n",
      "                if (httpRequest.status === 200) {\n",
      "                    var mdScrt = document.createElement(\"script\");\n",
      "                    mdScrt.text = httpRequest.response;\n",
      "                    document.body.appendChild(mdScrt);\n",
      "                }\n",
      "            }\n",
      "        };\n",
      "    }\n",
      "};\n",
      "</script><iframe src=\"https://c90b1c83604ed271c402649acf7ab830.safeframe.googlesyndication.com/safeframe/1-0-40/html/container.html\" style=\"visibility: hidden; display: none;\"></iframe><iframe name=\"__uspapiLocator\" src=\"about:blank\" style=\"display: none; width: 0px; height: 0px; border: none; z-index: -1000; left: -1000px; top: -1000px;\"></iframe><iframe name=\"__gppLocator\" src=\"about:blank\" style=\"display: none; width: 0px; height: 0px; border: none; z-index: -1000; left: -1000px; top: -1000px;\"></iframe><iframe name=\"googlefcInactive\" src=\"about:blank\" style=\"display: none; width: 0px; height: 0px; border: none; z-index: -1000; left: -1000px; top: -1000px;\"></iframe><iframe name=\"googlefcLoaded\" src=\"about:blank\" style=\"display: none; width: 0px; height: 0px; border: none; z-index: -1000; left: -1000px; top: -1000px;\"></iframe><iframe name=\"google_ads_top_frame\" id=\"google_ads_top_frame\" style=\"display: none; position: fixed; left: -999px; top: -999px; width: 0px; height: 0px;\"></iframe><script>//<!--아크로스 아이커버-->\n",
      "var mobonMdScript = document.createElement('script');\n",
      "mobonMdScript.src = \"https://kn.acrosspf.com/delivery_icover_js.ad?pi=40120873&m=R\";\n",
      "document.head.appendChild(mobonMdScript);\n",
      "mobonMdScript.onload = function () {\n",
      "    if (across_adn_ad_data.ad_exist === true) {\n",
      "        var fq = 300;\n",
      "        var ico_drc = decodeURIComponent(across_adn_ad_data.click_url);\n",
      "        var r = window.open(ico_drc + \"&fq=\" + fq, \"_blank\", \"width=1024,height=768,scrollbars=yes,menubar=yes,location=yes,toolbar=yes,resizable=yes\");\n",
      "        if (r != null) {\n",
      "            //iSendChk쿠키 생성\n",
      "            var httpRequest = new XMLHttpRequest();\n",
      "            httpRequest.open('GET', 'https://www.mediacategory.com/servlet/iSendChkAdd?fq='+fq+\"&au_id=f1ed29926afe7df6-5a6f466718e669fce85-20eb\");\n",
      "            httpRequest.send();\n",
      "\n",
      "            var tmp = window.open('about:blank');\n",
      "            tmp.focus();\n",
      "            tmp.close();\n",
      "            setTimeout(function () {\n",
      "                try {\n",
      "                    tmp = window.open('about:blank');\n",
      "                    tmp.focus();\n",
      "                    tmp.close();\n",
      "                } catch (e) {\n",
      "                }\n",
      "            }, 500);\n",
      "        }\n",
      "    } else {\n",
      "        var httpRequest = new XMLHttpRequest();\n",
      "        httpRequest.open('GET', 'https://www.mediacategory.com/servlet/adMediation?s=8595&platform=W&au_id=f1ed29926afe7df6-5a6f466718e669fce85-20eb&endPassbackURL=&passback=across_mdno');\n",
      "        httpRequest.send();\n",
      "        httpRequest.onreadystatechange = function() {\n",
      "            if (httpRequest.readyState === XMLHttpRequest.DONE) {\n",
      "                if (httpRequest.status === 200) {\n",
      "                    var mdScrt = document.createElement(\"script\");\n",
      "                    mdScrt.text = httpRequest.response;\n",
      "                    document.body.appendChild(mdScrt);\n",
      "                }\n",
      "            }\n",
      "        };\n",
      "    }\n",
      "};\n",
      "</script><iframe id=\"AVLoaderaniplayer_AV6303de647918cd4c1966fa0b-1711201335312\" src=\"about:blank\" style=\"display: none;\"></iframe><script></script><iframe src=\"https://tpc.googlesyndication.com/sodar/sodar2/225/runner.html\" width=\"0\" height=\"0\" style=\"display: none;\"></iframe><iframe src=\"https://www.google.com/recaptcha/api2/aframe\" width=\"0\" height=\"0\" style=\"display: none;\"></iframe></body>' has dtype incompatible with float64, please explicitly cast to a compatible dtype first.\n",
      "  df.loc[index, \"selenium_html\"] = result\n",
      " 18%|███████████████████████████████▋                                                                                                                                            | 7/38 [00:31<01:45,  3.41s/it]"
     ]
    },
    {
     "name": "stdout",
     "output_type": "stream",
     "text": [
      "Invalid argument exception: Message: invalid argument\n",
      "  (Session info: chrome=123.0.6312.59)\n",
      "Stacktrace:\n",
      "0   chromedriver                        0x0000000102b483e8 chromedriver + 4326376\n",
      "1   chromedriver                        0x0000000102b408b0 chromedriver + 4294832\n",
      "2   chromedriver                        0x000000010276beec chromedriver + 278252\n",
      "3   chromedriver                        0x0000000102755748 chromedriver + 186184\n",
      "4   chromedriver                        0x0000000102753e9c chromedriver + 179868\n",
      "5   chromedriver                        0x00000001027547fc chromedriver + 182268\n",
      "6   chromedriver                        0x000000010276e620 chromedriver + 288288\n",
      "7   chromedriver                        0x00000001027e7b14 chromedriver + 785172\n",
      "8   chromedriver                        0x00000001027e74f8 chromedriver + 783608\n",
      "9   chromedriver                        0x00000001027a34e4 chromedriver + 505060\n",
      "10  chromedriver                        0x00000001027a3f5c chromedriver + 507740\n",
      "11  chromedriver                        0x0000000102b0b984 chromedriver + 4077956\n",
      "12  chromedriver                        0x0000000102b1073c chromedriver + 4097852\n",
      "13  chromedriver                        0x0000000102af2528 chromedriver + 3974440\n",
      "14  chromedriver                        0x0000000102b11054 chromedriver + 4100180\n",
      "15  chromedriver                        0x0000000102ae3b18 chromedriver + 3914520\n",
      "16  chromedriver                        0x0000000102b3165c chromedriver + 4232796\n",
      "17  chromedriver                        0x0000000102b317d8 chromedriver + 4233176\n",
      "18  chromedriver                        0x0000000102b40524 chromedriver + 4293924\n",
      "19  libsystem_pthread.dylib             0x00000001837bf034 _pthread_start + 136\n",
      "20  libsystem_pthread.dylib             0x00000001837b9e3c thread_start + 8\n",
      "\n"
     ]
    },
    {
     "name": "stderr",
     "output_type": "stream",
     "text": [
      " 29%|█████████████████████████████████████████████████▌                                                                                                                         | 11/38 [00:33<00:33,  1.26s/it]"
     ]
    },
    {
     "name": "stdout",
     "output_type": "stream",
     "text": [
      "Invalid argument exception: Message: invalid argument\n",
      "  (Session info: chrome=123.0.6312.59)\n",
      "Stacktrace:\n",
      "0   chromedriver                        0x0000000102b483e8 chromedriver + 4326376\n",
      "1   chromedriver                        0x0000000102b408b0 chromedriver + 4294832\n",
      "2   chromedriver                        0x000000010276beec chromedriver + 278252\n",
      "3   chromedriver                        0x0000000102755748 chromedriver + 186184\n",
      "4   chromedriver                        0x0000000102753e9c chromedriver + 179868\n",
      "5   chromedriver                        0x00000001027547fc chromedriver + 182268\n",
      "6   chromedriver                        0x000000010276e620 chromedriver + 288288\n",
      "7   chromedriver                        0x00000001027e7b14 chromedriver + 785172\n",
      "8   chromedriver                        0x00000001027e74f8 chromedriver + 783608\n",
      "9   chromedriver                        0x00000001027a34e4 chromedriver + 505060\n",
      "10  chromedriver                        0x00000001027a3f5c chromedriver + 507740\n",
      "11  chromedriver                        0x0000000102b0b984 chromedriver + 4077956\n",
      "12  chromedriver                        0x0000000102b1073c chromedriver + 4097852\n",
      "13  chromedriver                        0x0000000102af2528 chromedriver + 3974440\n",
      "14  chromedriver                        0x0000000102b11054 chromedriver + 4100180\n",
      "15  chromedriver                        0x0000000102ae3b18 chromedriver + 3914520\n",
      "16  chromedriver                        0x0000000102b3165c chromedriver + 4232796\n",
      "17  chromedriver                        0x0000000102b317d8 chromedriver + 4233176\n",
      "18  chromedriver                        0x0000000102b40524 chromedriver + 4293924\n",
      "19  libsystem_pthread.dylib             0x00000001837bf034 _pthread_start + 136\n",
      "20  libsystem_pthread.dylib             0x00000001837b9e3c thread_start + 8\n",
      "\n"
     ]
    },
    {
     "name": "stderr",
     "output_type": "stream",
     "text": [
      " 50%|█████████████████████████████████████████████████████████████████████████████████████▌                                                                                     | 19/38 [00:58<00:45,  2.42s/it]"
     ]
    },
    {
     "name": "stdout",
     "output_type": "stream",
     "text": [
      "Invalid argument exception: Message: invalid argument: missing command parameters\n",
      "Stacktrace:\n",
      "0   chromedriver                        0x0000000102b483e8 chromedriver + 4326376\n",
      "1   chromedriver                        0x0000000102b408b0 chromedriver + 4294832\n",
      "2   chromedriver                        0x000000010276c088 chromedriver + 278664\n",
      "3   chromedriver                        0x00000001027c7478 chromedriver + 652408\n",
      "4   chromedriver                        0x00000001027c6a7c chromedriver + 649852\n",
      "5   chromedriver                        0x000000010273e1dc chromedriver + 90588\n",
      "6   chromedriver                        0x0000000102b0b984 chromedriver + 4077956\n",
      "7   chromedriver                        0x0000000102b1073c chromedriver + 4097852\n",
      "8   chromedriver                        0x0000000102af2528 chromedriver + 3974440\n",
      "9   chromedriver                        0x0000000102b11054 chromedriver + 4100180\n",
      "10  chromedriver                        0x0000000102ae3b18 chromedriver + 3914520\n",
      "11  chromedriver                        0x000000010273ce5c chromedriver + 85596\n",
      "12  dyld                                0x0000000183445058 start + 2224\n",
      "\n"
     ]
    },
    {
     "name": "stderr",
     "output_type": "stream",
     "text": [
      " 66%|████████████████████████████████████████████████████████████████████████████████████████████████████████████████▌                                                          | 25/38 [01:25<00:48,  3.73s/it]"
     ]
    },
    {
     "name": "stdout",
     "output_type": "stream",
     "text": [
      "Invalid argument exception: Message: invalid argument\n",
      "  (Session info: chrome=123.0.6312.59)\n",
      "Stacktrace:\n",
      "0   chromedriver                        0x0000000102b483e8 chromedriver + 4326376\n",
      "1   chromedriver                        0x0000000102b408b0 chromedriver + 4294832\n",
      "2   chromedriver                        0x000000010276beec chromedriver + 278252\n",
      "3   chromedriver                        0x0000000102755748 chromedriver + 186184\n",
      "4   chromedriver                        0x0000000102753e9c chromedriver + 179868\n",
      "5   chromedriver                        0x00000001027547fc chromedriver + 182268\n",
      "6   chromedriver                        0x000000010276e620 chromedriver + 288288\n",
      "7   chromedriver                        0x00000001027e7b14 chromedriver + 785172\n",
      "8   chromedriver                        0x00000001027e74f8 chromedriver + 783608\n",
      "9   chromedriver                        0x00000001027a34e4 chromedriver + 505060\n",
      "10  chromedriver                        0x00000001027a3f5c chromedriver + 507740\n",
      "11  chromedriver                        0x0000000102b0b984 chromedriver + 4077956\n",
      "12  chromedriver                        0x0000000102b1073c chromedriver + 4097852\n",
      "13  chromedriver                        0x0000000102af2528 chromedriver + 3974440\n",
      "14  chromedriver                        0x0000000102b11054 chromedriver + 4100180\n",
      "15  chromedriver                        0x0000000102ae3b18 chromedriver + 3914520\n",
      "16  chromedriver                        0x0000000102b3165c chromedriver + 4232796\n",
      "17  chromedriver                        0x0000000102b317d8 chromedriver + 4233176\n",
      "18  chromedriver                        0x0000000102b40524 chromedriver + 4293924\n",
      "19  libsystem_pthread.dylib             0x00000001837bf034 _pthread_start + 136\n",
      "20  libsystem_pthread.dylib             0x00000001837b9e3c thread_start + 8\n",
      "\n"
     ]
    },
    {
     "name": "stderr",
     "output_type": "stream",
     "text": [
      " 74%|██████████████████████████████████████████████████████████████████████████████████████████████████████████████████████████████                                             | 28/38 [02:44<03:25, 20.52s/it]"
     ]
    },
    {
     "name": "stdout",
     "output_type": "stream",
     "text": [
      "Invalid argument exception: Message: invalid argument\n",
      "  (Session info: chrome=123.0.6312.59)\n",
      "Stacktrace:\n",
      "0   chromedriver                        0x0000000102b483e8 chromedriver + 4326376\n",
      "1   chromedriver                        0x0000000102b408b0 chromedriver + 4294832\n",
      "2   chromedriver                        0x000000010276beec chromedriver + 278252\n",
      "3   chromedriver                        0x0000000102755748 chromedriver + 186184\n",
      "4   chromedriver                        0x0000000102753e9c chromedriver + 179868\n",
      "5   chromedriver                        0x00000001027547fc chromedriver + 182268\n",
      "6   chromedriver                        0x000000010276e620 chromedriver + 288288\n",
      "7   chromedriver                        0x00000001027e7b14 chromedriver + 785172\n",
      "8   chromedriver                        0x00000001027e74f8 chromedriver + 783608\n",
      "9   chromedriver                        0x00000001027a34e4 chromedriver + 505060\n",
      "10  chromedriver                        0x00000001027a3f5c chromedriver + 507740\n",
      "11  chromedriver                        0x0000000102b0b984 chromedriver + 4077956\n",
      "12  chromedriver                        0x0000000102b1073c chromedriver + 4097852\n",
      "13  chromedriver                        0x0000000102af2528 chromedriver + 3974440\n",
      "14  chromedriver                        0x0000000102b11054 chromedriver + 4100180\n",
      "15  chromedriver                        0x0000000102ae3b18 chromedriver + 3914520\n",
      "16  chromedriver                        0x0000000102b3165c chromedriver + 4232796\n",
      "17  chromedriver                        0x0000000102b317d8 chromedriver + 4233176\n",
      "18  chromedriver                        0x0000000102b40524 chromedriver + 4293924\n",
      "19  libsystem_pthread.dylib             0x00000001837bf034 _pthread_start + 136\n",
      "20  libsystem_pthread.dylib             0x00000001837b9e3c thread_start + 8\n",
      "\n"
     ]
    },
    {
     "name": "stderr",
     "output_type": "stream",
     "text": [
      " 79%|███████████████████████████████████████████████████████████████████████████████████████████████████████████████████████████████████████                                    | 30/38 [02:48<01:42, 12.86s/it]"
     ]
    },
    {
     "name": "stdout",
     "output_type": "stream",
     "text": [
      "Invalid argument exception: Message: invalid argument\n",
      "  (Session info: chrome=123.0.6312.59)\n",
      "Stacktrace:\n",
      "0   chromedriver                        0x0000000102b483e8 chromedriver + 4326376\n",
      "1   chromedriver                        0x0000000102b408b0 chromedriver + 4294832\n",
      "2   chromedriver                        0x000000010276beec chromedriver + 278252\n",
      "3   chromedriver                        0x0000000102755748 chromedriver + 186184\n",
      "4   chromedriver                        0x0000000102753e9c chromedriver + 179868\n",
      "5   chromedriver                        0x00000001027547fc chromedriver + 182268\n",
      "6   chromedriver                        0x000000010276e620 chromedriver + 288288\n",
      "7   chromedriver                        0x00000001027e7b14 chromedriver + 785172\n",
      "8   chromedriver                        0x00000001027e74f8 chromedriver + 783608\n",
      "9   chromedriver                        0x00000001027a34e4 chromedriver + 505060\n",
      "10  chromedriver                        0x00000001027a3f5c chromedriver + 507740\n",
      "11  chromedriver                        0x0000000102b0b984 chromedriver + 4077956\n",
      "12  chromedriver                        0x0000000102b1073c chromedriver + 4097852\n",
      "13  chromedriver                        0x0000000102af2528 chromedriver + 3974440\n",
      "14  chromedriver                        0x0000000102b11054 chromedriver + 4100180\n",
      "15  chromedriver                        0x0000000102ae3b18 chromedriver + 3914520\n",
      "16  chromedriver                        0x0000000102b3165c chromedriver + 4232796\n",
      "17  chromedriver                        0x0000000102b317d8 chromedriver + 4233176\n",
      "18  chromedriver                        0x0000000102b40524 chromedriver + 4293924\n",
      "19  libsystem_pthread.dylib             0x00000001837bf034 _pthread_start + 136\n",
      "20  libsystem_pthread.dylib             0x00000001837b9e3c thread_start + 8\n",
      "\n"
     ]
    },
    {
     "name": "stderr",
     "output_type": "stream",
     "text": [
      "100%|███████████████████████████████████████████████████████████████████████████████████████████████████████████████████████████████████████████████████████████████████████████| 38/38 [04:23<00:00,  6.93s/it]\n"
     ]
    }
   ],
   "source": [
    "for index in tqdm(index_list):\n",
    "    result = get_html_selenium(url=df.loc[index, \"URL\"])\n",
    "    df.loc[index, \"selenium_html\"] = result"
   ]
  },
  {
   "cell_type": "code",
   "execution_count": 16,
   "id": "a670d1c7-bd3e-4a63-be3d-7bdd7dbdac46",
   "metadata": {
    "execution": {
     "iopub.execute_input": "2024-04-21T09:38:17.528335Z",
     "iopub.status.busy": "2024-04-21T09:38:17.527932Z",
     "iopub.status.idle": "2024-04-21T09:38:17.533185Z",
     "shell.execute_reply": "2024-04-21T09:38:17.532517Z",
     "shell.execute_reply.started": "2024-04-21T09:38:17.528312Z"
    }
   },
   "outputs": [],
   "source": [
    "df_len = len(df[\"URL\"])"
   ]
  },
  {
   "cell_type": "code",
   "execution_count": 21,
   "id": "d7497a85-7e51-4cf7-9ca0-68bc39b3416b",
   "metadata": {
    "collapsed": true,
    "execution": {
     "iopub.execute_input": "2024-04-21T09:44:02.158649Z",
     "iopub.status.busy": "2024-04-21T09:44:02.157728Z",
     "iopub.status.idle": "2024-04-21T09:44:46.564352Z",
     "shell.execute_reply": "2024-04-21T09:44:46.563878Z",
     "shell.execute_reply.started": "2024-04-21T09:44:02.158613Z"
    },
    "jupyter": {
     "outputs_hidden": true
    },
    "scrolled": true
   },
   "outputs": [
    {
     "name": "stderr",
     "output_type": "stream",
     "text": [
      "  0%|                                                                                                                               | 0/27 [00:00<?, ?it/s]/var/folders/r0/w084nh2s0v3fstg3n70027500000gn/T/ipykernel_43935/2939051705.py:5: FutureWarning: Setting an item of incompatible dtype is deprecated and will raise in a future error of pandas. Value '사건 당시 폐쇄회로(CC)TV에 담긴 폭행 영상. /사진= SBS '그것이 알고싶다' 캡처\n",
      "일면식 없는 여성을 크게 다치게 한 혐의로 징역형을 선고받고 복역 중인 30대 남성이 피해자에 보복할 계획을 언급했다는 증언이 나왔다.\n",
      "\n",
      "지난 8일 SBS '그것이 알고싶다'는 '사라진 7분 - 부산 돌려차기 사건의 진실'이라는 제목의 영상을 공개하고, 지난해 5월 22일 발생한 '부산 돌려차기 사건'을 재조명했다.\n",
      "\n",
      "해당 사건은 부산의 한 오피스텔 공동현관 앞에서 벌어졌다. 20대 여성 A씨가 1층 엘리베이터 버튼을 누르고 기다리던 순간, 이를 뒤따라간 30대 남성 B씨가 돌려차기로 A씨의 후두부를 세게 가격했다.\n",
      "\n",
      "이에 A씨는 건물 벽면에 머리를 세게 부딪히고 바닥으로 쓰려졌다. B씨는 주먹으로 A씨를 가격하려다 멈칫하더니, A씨가 꿈틀거리자 여러 차례 발길질했고, 결국 A씨는 의식을 잃고 몸이 굳은 채 기절했다.\n",
      "\n",
      "이 사건으로 A씨는 8주 이상의 치료가 필요한 외상성 두개내출혈과 뇌 손상, 영구장애가 우려되는 다리 마비 등 심각한 상해를 입었다.\n",
      "가해 남성이 기절한 여성을 어깨에 둘러멘 뒤, CCTV 사각지대로 사라지는 모습. /사진= JTBC '사건반장' 유튜브 영상 캡처\n",
      "당시 상황이 담긴 폐쇄회로(CC)TV 영상에는 B씨가 A씨의 목덜미 부근을 잡고 끌다가 어깨에 둘러메고 CCTV가 없는 엘리베이터 옆 복도로 사라지는 장면도 담겼다. 이후 B씨는 약 7분간 그곳에 머물다 오피스텔을 빠져나갔다.\n",
      "\n",
      "7분이라는 시간 동안 성폭행이 있었을 것으로 의심된다는 게 A씨의 판단이다. A씨가 쓰러졌을 당시 병원에 온 그의 언니는 병원에서 동생의 바지를 벗겼을 때 속옷이 없었고, 오른쪽 종아리 한쪽에만 걸쳐져 있었다고 증언했다. 의료진들 역시 성폭행 가능성이 있다는 소견을 냈다.\n",
      "\n",
      "다만 피해자가 사건 당시 기절하고 기억을 잃은 데다, 경찰과 피해자 모두 사건발생일이 한참 지난 뒤에야 성폭행 가능성을 의심한 상황이라 이를 입증할 증거를 확보하지 못했다.\n",
      "\n",
      "B씨는 사건 발생 사흘 뒤 부산의 한 모텔에서 검거됐다. 경찰 조사에서 그는 길거리에서 우연히 마주친 A씨가 시비를 거는 것 같아 화가 나 우발적으로 폭행했다는 취지의 주장을 펼쳤다. 성폭행 혐의에 대해서는 \"절대 아니다\"라며 \"여자친구도 있는데 그 상태에서 성행위가 일어나는 게 말이 안 되지 않느냐\"고 해명했다.\n",
      "\n",
      "이 가운데 B씨가 전혀 반성의 기미를 보이지 않고 있다는 주변인들의 증언이 공개된 것. B씨와 함께 구치소 생활을 했다는 한 제보자는 \"(B씨는) '언제든지 틈만 보이면 탈옥할 거다', '나가면 피해자를 찾아갈 거다', '죽여버리고 싶다. 그때 맞은 것 배로 때려 주겠다'라고 했다\"며 \"피해자 주민등록번호, 이름, 집 주소를 알고 있었고, 피해자에게 이 사실을 알려주고 싶었다\"고 전했다.\n",
      "\n",
      "그러면서 \"(B씨는) 전혀 반성하지 않고 있고, 반성하는 사람이 그런 식으로 말할 수가 없다\"며 \"본인은 억울하다며 '재판부 쓰레기다', '걔들도 다 죽어야 한다'고 이렇게 얘기한다\"고 말했다.\n",
      "\n",
      "한편 전직 경호업체 직원인 B씨는 강도상해죄로 6년을 복역한 뒤 공동주거침입으로 또다시 2년을 복역하고 나와 재차 범죄를 저지른 것으로 경찰은 파악했다.\n",
      "\n",
      "현재 B씨는 이번 사건과 관련, 살인미수 혐의로 1심에서 12년형을 선고받고 복역 중이며, 형량이 과도하다는 취지로 항소했다. B씨는 항소이유서에 \"이 정도 폭행이 왜 살인미수냐\"라며 \"형량 12년은 너무하다\"고 밝혔다.\n",
      "\n",
      "김세린 한경닷컴 기자 celine@hankyung.com' has dtype incompatible with float64, please explicitly cast to a compatible dtype first.\n",
      "  df.loc[index, \"text\"] = result\n",
      "100%|██████████████████████████████████████████████████████████████████████████████████████████████████████████████████████| 27/27 [00:44<00:00,  1.64s/it]\n"
     ]
    }
   ],
   "source": [
    "for index in tqdm(range(df_len)):\n",
    "    # print(index)\n",
    "    # result = get_html_selenium(url=df.loc[index, \"URL\"])\n",
    "    result = get_article_text(url=df.loc[index, \"URL\"], driver=driver)\n",
    "    df.loc[index, \"text\"] = result"
   ]
  },
  {
   "cell_type": "code",
   "execution_count": 22,
   "id": "54c08326-d999-4c73-91c6-81bae1287e85",
   "metadata": {
    "collapsed": true,
    "execution": {
     "iopub.execute_input": "2024-04-21T09:44:57.716729Z",
     "iopub.status.busy": "2024-04-21T09:44:57.715640Z",
     "iopub.status.idle": "2024-04-21T09:44:57.754969Z",
     "shell.execute_reply": "2024-04-21T09:44:57.754614Z",
     "shell.execute_reply.started": "2024-04-21T09:44:57.716665Z"
    },
    "jupyter": {
     "outputs_hidden": true
    }
   },
   "outputs": [
    {
     "name": "stdout",
     "output_type": "stream",
     "text": [
      "<class 'pandas.core.frame.DataFrame'>\n",
      "RangeIndex: 27 entries, 0 to 26\n",
      "Data columns (total 17 columns):\n",
      " #   Column  Non-Null Count  Dtype  \n",
      "---  ------  --------------  -----  \n",
      " 0   범죄 유형   0 non-null      float64\n",
      " 1   지역      3 non-null      object \n",
      " 2   위도      0 non-null      float64\n",
      " 3   경도      0 non-null      float64\n",
      " 4   중복 여부   6 non-null      object \n",
      " 5   퀄리티     0 non-null      float64\n",
      " 6   제외 여부   0 non-null      float64\n",
      " 7   기사제목    27 non-null     object \n",
      " 8   사건 장소   27 non-null     object \n",
      " 9   수사 기관   27 non-null     object \n",
      " 10  본문      27 non-null     object \n",
      " 11  URL     27 non-null     object \n",
      " 12  일자      27 non-null     int64  \n",
      " 13  언론사     27 non-null     object \n",
      " 14  기고자     27 non-null     object \n",
      " 15  비고      0 non-null      float64\n",
      " 16  text    27 non-null     object \n",
      "dtypes: float64(6), int64(1), object(10)\n",
      "memory usage: 3.7+ KB\n"
     ]
    }
   ],
   "source": [
    "df.info()"
   ]
  },
  {
   "cell_type": "code",
   "execution_count": 25,
   "id": "8429e446-a7d6-4617-82e9-588b77dddcfe",
   "metadata": {
    "execution": {
     "iopub.execute_input": "2024-04-21T09:50:44.067312Z",
     "iopub.status.busy": "2024-04-21T09:50:44.066879Z",
     "iopub.status.idle": "2024-04-21T09:50:44.073541Z",
     "shell.execute_reply": "2024-04-21T09:50:44.072752Z",
     "shell.execute_reply.started": "2024-04-21T09:50:44.067286Z"
    }
   },
   "outputs": [
    {
     "data": {
      "text/plain": [
       "'/사진=게티이미지뱅크\\n일면식도 없는 여성의 집에 무단 침입해 주먹을 휘두른 60대 남성이 경찰에 붙잡혔다.\\n\\n전북 김제경찰서는 여성 집에 무단으로 들어가 폭력을 행사한 혐의(주거침입 등)로 60대 A씨에 대해 구속영장을 신청했다고 13일 밝혔다.\\n\\n경찰에 따르면 A씨는 지난 11일 오후 2시께 김제시의 한 아파트에 침입해 60대 여성 B씨를 주먹으로 여러 차례 때린 혐의를 받고 있다.\\n\\nA씨에게 폭행당한 B씨는 소리를 지르며 아파트 복도로 뛰어나왔고, 이를 목격한 아파트 동장이 A씨를 붙잡아 경찰에 신고했다.\\n\\n경찰 조사 결과 A씨는 B씨와 일면식이 없는 사이로, 문이 열려 있는 피해자의 집 현관에 여성 신발만 놓여있자 범행한 것으로 파악됐다.\\n\\n경찰 조사에서 A씨는 \"여자 혼자 있는 것 같아서 이야기 좀 하려고 그랬다\"고 진술한 것으로 알려졌다.\\n\\n경찰은 성범죄 등 다른 피해는 없었지만, 죄질이 나빠 A씨에 대해 구속영장을 신청했고, 구체적인 범행 동기 등을 조사한다는 방침이다.\\n\\n이보배 한경닷컴 객원기자 newsinfo@hankyung.com'"
      ]
     },
     "execution_count": 25,
     "metadata": {},
     "output_type": "execute_result"
    }
   ],
   "source": [
    "df.iloc[1][\"text\"]"
   ]
  },
  {
   "cell_type": "code",
   "execution_count": 23,
   "id": "4cd1c9cb-f800-406e-9d28-1ecb5bd5cc17",
   "metadata": {
    "execution": {
     "iopub.execute_input": "2024-04-21T09:50:09.781674Z",
     "iopub.status.busy": "2024-04-21T09:50:09.780215Z",
     "iopub.status.idle": "2024-04-21T09:50:09.800073Z",
     "shell.execute_reply": "2024-04-21T09:50:09.799554Z",
     "shell.execute_reply.started": "2024-04-21T09:50:09.781184Z"
    }
   },
   "outputs": [],
   "source": [
    "save_var(df, \"df_hk_text\")"
   ]
  },
  {
   "cell_type": "code",
   "execution_count": 136,
   "id": "b3364b47-d084-43e7-b38b-22e2ac7fd944",
   "metadata": {
    "collapsed": true,
    "jupyter": {
     "outputs_hidden": true
    },
    "scrolled": true
   },
   "outputs": [
    {
     "ename": "InvalidArgumentException",
     "evalue": "Message: invalid argument\n  (Session info: chrome=122.0.6261.112)\nStacktrace:\n0   chromedriver                        0x0000000103084508 chromedriver + 3966216\n1   chromedriver                        0x000000010307ca94 chromedriver + 3934868\n2   chromedriver                        0x0000000102cffbf4 chromedriver + 277492\n3   chromedriver                        0x0000000102ce994c chromedriver + 186700\n4   chromedriver                        0x0000000102ce7d2c chromedriver + 179500\n5   chromedriver                        0x0000000102ce86f8 chromedriver + 182008\n6   chromedriver                        0x0000000102d021b8 chromedriver + 287160\n7   chromedriver                        0x0000000102d7b20c chromedriver + 782860\n8   chromedriver                        0x0000000102d7abf0 chromedriver + 781296\n9   chromedriver                        0x0000000102d36fb0 chromedriver + 503728\n10  chromedriver                        0x0000000102d37a28 chromedriver + 506408\n11  chromedriver                        0x00000001030496f0 chromedriver + 3725040\n12  chromedriver                        0x000000010304dbe4 chromedriver + 3742692\n13  chromedriver                        0x00000001030321d8 chromedriver + 3629528\n14  chromedriver                        0x000000010304e6e0 chromedriver + 3745504\n15  chromedriver                        0x0000000103025550 chromedriver + 3577168\n16  chromedriver                        0x000000010306cf40 chromedriver + 3870528\n17  chromedriver                        0x000000010306d0e4 chromedriver + 3870948\n18  chromedriver                        0x000000010307c704 chromedriver + 3933956\n19  libsystem_pthread.dylib             0x00000001852cf034 _pthread_start + 136\n20  libsystem_pthread.dylib             0x00000001852c9e3c thread_start + 8\n",
     "output_type": "error",
     "traceback": [
      "\u001b[0;31m---------------------------------------------------------------------------\u001b[0m",
      "\u001b[0;31mInvalidArgumentException\u001b[0m                  Traceback (most recent call last)",
      "Cell \u001b[0;32mIn[136], line 1\u001b[0m\n\u001b[0;32m----> 1\u001b[0m df[\u001b[38;5;124m\"\u001b[39m\u001b[38;5;124mcontent\u001b[39m\u001b[38;5;124m\"\u001b[39m] \u001b[38;5;241m=\u001b[39m \u001b[43mdf\u001b[49m\u001b[43m[\u001b[49m\u001b[43mdf\u001b[49m\u001b[43m[\u001b[49m\u001b[38;5;124;43m\"\u001b[39;49m\u001b[38;5;124;43mcontent\u001b[39;49m\u001b[38;5;124;43m\"\u001b[39;49m\u001b[43m]\u001b[49m\u001b[43m \u001b[49m\u001b[38;5;241;43m==\u001b[39;49m\u001b[43m \u001b[49m\u001b[38;5;124;43m\"\u001b[39;49m\u001b[38;5;124;43m\"\u001b[39;49m\u001b[43m]\u001b[49m\u001b[43m[\u001b[49m\u001b[38;5;124;43m\"\u001b[39;49m\u001b[38;5;124;43mURL\u001b[39;49m\u001b[38;5;124;43m\"\u001b[39;49m\u001b[43m]\u001b[49m\u001b[38;5;241;43m.\u001b[39;49m\u001b[43mapply\u001b[49m\u001b[43m(\u001b[49m\u001b[43mget_html_selenium\u001b[49m\u001b[43m)\u001b[49m\n",
      "File \u001b[0;32m~/.pyenv/versions/3.11.0/envs/pml/lib/python3.11/site-packages/pandas/core/series.py:4760\u001b[0m, in \u001b[0;36mSeries.apply\u001b[0;34m(self, func, convert_dtype, args, by_row, **kwargs)\u001b[0m\n\u001b[1;32m   4625\u001b[0m \u001b[38;5;28;01mdef\u001b[39;00m \u001b[38;5;21mapply\u001b[39m(\n\u001b[1;32m   4626\u001b[0m     \u001b[38;5;28mself\u001b[39m,\n\u001b[1;32m   4627\u001b[0m     func: AggFuncType,\n\u001b[0;32m   (...)\u001b[0m\n\u001b[1;32m   4632\u001b[0m     \u001b[38;5;241m*\u001b[39m\u001b[38;5;241m*\u001b[39mkwargs,\n\u001b[1;32m   4633\u001b[0m ) \u001b[38;5;241m-\u001b[39m\u001b[38;5;241m>\u001b[39m DataFrame \u001b[38;5;241m|\u001b[39m Series:\n\u001b[1;32m   4634\u001b[0m \u001b[38;5;250m    \u001b[39m\u001b[38;5;124;03m\"\"\"\u001b[39;00m\n\u001b[1;32m   4635\u001b[0m \u001b[38;5;124;03m    Invoke function on values of Series.\u001b[39;00m\n\u001b[1;32m   4636\u001b[0m \n\u001b[0;32m   (...)\u001b[0m\n\u001b[1;32m   4751\u001b[0m \u001b[38;5;124;03m    dtype: float64\u001b[39;00m\n\u001b[1;32m   4752\u001b[0m \u001b[38;5;124;03m    \"\"\"\u001b[39;00m\n\u001b[1;32m   4753\u001b[0m     \u001b[38;5;28;01mreturn\u001b[39;00m \u001b[43mSeriesApply\u001b[49m\u001b[43m(\u001b[49m\n\u001b[1;32m   4754\u001b[0m \u001b[43m        \u001b[49m\u001b[38;5;28;43mself\u001b[39;49m\u001b[43m,\u001b[49m\n\u001b[1;32m   4755\u001b[0m \u001b[43m        \u001b[49m\u001b[43mfunc\u001b[49m\u001b[43m,\u001b[49m\n\u001b[1;32m   4756\u001b[0m \u001b[43m        \u001b[49m\u001b[43mconvert_dtype\u001b[49m\u001b[38;5;241;43m=\u001b[39;49m\u001b[43mconvert_dtype\u001b[49m\u001b[43m,\u001b[49m\n\u001b[1;32m   4757\u001b[0m \u001b[43m        \u001b[49m\u001b[43mby_row\u001b[49m\u001b[38;5;241;43m=\u001b[39;49m\u001b[43mby_row\u001b[49m\u001b[43m,\u001b[49m\n\u001b[1;32m   4758\u001b[0m \u001b[43m        \u001b[49m\u001b[43margs\u001b[49m\u001b[38;5;241;43m=\u001b[39;49m\u001b[43margs\u001b[49m\u001b[43m,\u001b[49m\n\u001b[1;32m   4759\u001b[0m \u001b[43m        \u001b[49m\u001b[43mkwargs\u001b[49m\u001b[38;5;241;43m=\u001b[39;49m\u001b[43mkwargs\u001b[49m\u001b[43m,\u001b[49m\n\u001b[0;32m-> 4760\u001b[0m \u001b[43m    \u001b[49m\u001b[43m)\u001b[49m\u001b[38;5;241;43m.\u001b[39;49m\u001b[43mapply\u001b[49m\u001b[43m(\u001b[49m\u001b[43m)\u001b[49m\n",
      "File \u001b[0;32m~/.pyenv/versions/3.11.0/envs/pml/lib/python3.11/site-packages/pandas/core/apply.py:1207\u001b[0m, in \u001b[0;36mSeriesApply.apply\u001b[0;34m(self)\u001b[0m\n\u001b[1;32m   1204\u001b[0m     \u001b[38;5;28;01mreturn\u001b[39;00m \u001b[38;5;28mself\u001b[39m\u001b[38;5;241m.\u001b[39mapply_compat()\n\u001b[1;32m   1206\u001b[0m \u001b[38;5;66;03m# self.func is Callable\u001b[39;00m\n\u001b[0;32m-> 1207\u001b[0m \u001b[38;5;28;01mreturn\u001b[39;00m \u001b[38;5;28;43mself\u001b[39;49m\u001b[38;5;241;43m.\u001b[39;49m\u001b[43mapply_standard\u001b[49m\u001b[43m(\u001b[49m\u001b[43m)\u001b[49m\n",
      "File \u001b[0;32m~/.pyenv/versions/3.11.0/envs/pml/lib/python3.11/site-packages/pandas/core/apply.py:1287\u001b[0m, in \u001b[0;36mSeriesApply.apply_standard\u001b[0;34m(self)\u001b[0m\n\u001b[1;32m   1281\u001b[0m \u001b[38;5;66;03m# row-wise access\u001b[39;00m\n\u001b[1;32m   1282\u001b[0m \u001b[38;5;66;03m# apply doesn't have a `na_action` keyword and for backward compat reasons\u001b[39;00m\n\u001b[1;32m   1283\u001b[0m \u001b[38;5;66;03m# we need to give `na_action=\"ignore\"` for categorical data.\u001b[39;00m\n\u001b[1;32m   1284\u001b[0m \u001b[38;5;66;03m# TODO: remove the `na_action=\"ignore\"` when that default has been changed in\u001b[39;00m\n\u001b[1;32m   1285\u001b[0m \u001b[38;5;66;03m#  Categorical (GH51645).\u001b[39;00m\n\u001b[1;32m   1286\u001b[0m action \u001b[38;5;241m=\u001b[39m \u001b[38;5;124m\"\u001b[39m\u001b[38;5;124mignore\u001b[39m\u001b[38;5;124m\"\u001b[39m \u001b[38;5;28;01mif\u001b[39;00m \u001b[38;5;28misinstance\u001b[39m(obj\u001b[38;5;241m.\u001b[39mdtype, CategoricalDtype) \u001b[38;5;28;01melse\u001b[39;00m \u001b[38;5;28;01mNone\u001b[39;00m\n\u001b[0;32m-> 1287\u001b[0m mapped \u001b[38;5;241m=\u001b[39m \u001b[43mobj\u001b[49m\u001b[38;5;241;43m.\u001b[39;49m\u001b[43m_map_values\u001b[49m\u001b[43m(\u001b[49m\n\u001b[1;32m   1288\u001b[0m \u001b[43m    \u001b[49m\u001b[43mmapper\u001b[49m\u001b[38;5;241;43m=\u001b[39;49m\u001b[43mcurried\u001b[49m\u001b[43m,\u001b[49m\u001b[43m \u001b[49m\u001b[43mna_action\u001b[49m\u001b[38;5;241;43m=\u001b[39;49m\u001b[43maction\u001b[49m\u001b[43m,\u001b[49m\u001b[43m \u001b[49m\u001b[43mconvert\u001b[49m\u001b[38;5;241;43m=\u001b[39;49m\u001b[38;5;28;43mself\u001b[39;49m\u001b[38;5;241;43m.\u001b[39;49m\u001b[43mconvert_dtype\u001b[49m\n\u001b[1;32m   1289\u001b[0m \u001b[43m\u001b[49m\u001b[43m)\u001b[49m\n\u001b[1;32m   1291\u001b[0m \u001b[38;5;28;01mif\u001b[39;00m \u001b[38;5;28mlen\u001b[39m(mapped) \u001b[38;5;129;01mand\u001b[39;00m \u001b[38;5;28misinstance\u001b[39m(mapped[\u001b[38;5;241m0\u001b[39m], ABCSeries):\n\u001b[1;32m   1292\u001b[0m     \u001b[38;5;66;03m# GH#43986 Need to do list(mapped) in order to get treated as nested\u001b[39;00m\n\u001b[1;32m   1293\u001b[0m     \u001b[38;5;66;03m#  See also GH#25959 regarding EA support\u001b[39;00m\n\u001b[1;32m   1294\u001b[0m     \u001b[38;5;28;01mreturn\u001b[39;00m obj\u001b[38;5;241m.\u001b[39m_constructor_expanddim(\u001b[38;5;28mlist\u001b[39m(mapped), index\u001b[38;5;241m=\u001b[39mobj\u001b[38;5;241m.\u001b[39mindex)\n",
      "File \u001b[0;32m~/.pyenv/versions/3.11.0/envs/pml/lib/python3.11/site-packages/pandas/core/base.py:921\u001b[0m, in \u001b[0;36mIndexOpsMixin._map_values\u001b[0;34m(self, mapper, na_action, convert)\u001b[0m\n\u001b[1;32m    918\u001b[0m \u001b[38;5;28;01mif\u001b[39;00m \u001b[38;5;28misinstance\u001b[39m(arr, ExtensionArray):\n\u001b[1;32m    919\u001b[0m     \u001b[38;5;28;01mreturn\u001b[39;00m arr\u001b[38;5;241m.\u001b[39mmap(mapper, na_action\u001b[38;5;241m=\u001b[39mna_action)\n\u001b[0;32m--> 921\u001b[0m \u001b[38;5;28;01mreturn\u001b[39;00m \u001b[43malgorithms\u001b[49m\u001b[38;5;241;43m.\u001b[39;49m\u001b[43mmap_array\u001b[49m\u001b[43m(\u001b[49m\u001b[43marr\u001b[49m\u001b[43m,\u001b[49m\u001b[43m \u001b[49m\u001b[43mmapper\u001b[49m\u001b[43m,\u001b[49m\u001b[43m \u001b[49m\u001b[43mna_action\u001b[49m\u001b[38;5;241;43m=\u001b[39;49m\u001b[43mna_action\u001b[49m\u001b[43m,\u001b[49m\u001b[43m \u001b[49m\u001b[43mconvert\u001b[49m\u001b[38;5;241;43m=\u001b[39;49m\u001b[43mconvert\u001b[49m\u001b[43m)\u001b[49m\n",
      "File \u001b[0;32m~/.pyenv/versions/3.11.0/envs/pml/lib/python3.11/site-packages/pandas/core/algorithms.py:1814\u001b[0m, in \u001b[0;36mmap_array\u001b[0;34m(arr, mapper, na_action, convert)\u001b[0m\n\u001b[1;32m   1812\u001b[0m values \u001b[38;5;241m=\u001b[39m arr\u001b[38;5;241m.\u001b[39mastype(\u001b[38;5;28mobject\u001b[39m, copy\u001b[38;5;241m=\u001b[39m\u001b[38;5;28;01mFalse\u001b[39;00m)\n\u001b[1;32m   1813\u001b[0m \u001b[38;5;28;01mif\u001b[39;00m na_action \u001b[38;5;129;01mis\u001b[39;00m \u001b[38;5;28;01mNone\u001b[39;00m:\n\u001b[0;32m-> 1814\u001b[0m     \u001b[38;5;28;01mreturn\u001b[39;00m \u001b[43mlib\u001b[49m\u001b[38;5;241;43m.\u001b[39;49m\u001b[43mmap_infer\u001b[49m\u001b[43m(\u001b[49m\u001b[43mvalues\u001b[49m\u001b[43m,\u001b[49m\u001b[43m \u001b[49m\u001b[43mmapper\u001b[49m\u001b[43m,\u001b[49m\u001b[43m \u001b[49m\u001b[43mconvert\u001b[49m\u001b[38;5;241;43m=\u001b[39;49m\u001b[43mconvert\u001b[49m\u001b[43m)\u001b[49m\n\u001b[1;32m   1815\u001b[0m \u001b[38;5;28;01melse\u001b[39;00m:\n\u001b[1;32m   1816\u001b[0m     \u001b[38;5;28;01mreturn\u001b[39;00m lib\u001b[38;5;241m.\u001b[39mmap_infer_mask(\n\u001b[1;32m   1817\u001b[0m         values, mapper, mask\u001b[38;5;241m=\u001b[39misna(values)\u001b[38;5;241m.\u001b[39mview(np\u001b[38;5;241m.\u001b[39muint8), convert\u001b[38;5;241m=\u001b[39mconvert\n\u001b[1;32m   1818\u001b[0m     )\n",
      "File \u001b[0;32mlib.pyx:2917\u001b[0m, in \u001b[0;36mpandas._libs.lib.map_infer\u001b[0;34m()\u001b[0m\n",
      "Cell \u001b[0;32mIn[130], line 2\u001b[0m, in \u001b[0;36mget_html_selenium\u001b[0;34m(url)\u001b[0m\n\u001b[1;32m      1\u001b[0m \u001b[38;5;28;01mdef\u001b[39;00m \u001b[38;5;21mget_html_selenium\u001b[39m(url: \u001b[38;5;28mstr\u001b[39m) \u001b[38;5;241m-\u001b[39m\u001b[38;5;241m>\u001b[39m \u001b[38;5;28mstr\u001b[39m:\n\u001b[0;32m----> 2\u001b[0m     \u001b[43mdriver\u001b[49m\u001b[38;5;241;43m.\u001b[39;49m\u001b[43mget\u001b[49m\u001b[43m(\u001b[49m\u001b[43murl\u001b[49m\u001b[38;5;241;43m=\u001b[39;49m\u001b[43murl\u001b[49m\u001b[43m)\u001b[49m\n\u001b[1;32m      3\u001b[0m     body \u001b[38;5;241m=\u001b[39m driver\u001b[38;5;241m.\u001b[39mfind_element(by\u001b[38;5;241m=\u001b[39mBy\u001b[38;5;241m.\u001b[39mTAG_NAME, value\u001b[38;5;241m=\u001b[39m\u001b[38;5;124m\"\u001b[39m\u001b[38;5;124mbody\u001b[39m\u001b[38;5;124m\"\u001b[39m)\n\u001b[1;32m      4\u001b[0m     \u001b[38;5;28;01mreturn\u001b[39;00m clean_text(clean_text(body\u001b[38;5;241m.\u001b[39mtext\u001b[38;5;241m.\u001b[39mreplace(\u001b[38;5;124m\"\u001b[39m\u001b[38;5;130;01m\\n\u001b[39;00m\u001b[38;5;124m\"\u001b[39m, \u001b[38;5;124m\"\u001b[39m\u001b[38;5;124m \u001b[39m\u001b[38;5;124m\"\u001b[39m)))\n",
      "File \u001b[0;32m~/.pyenv/versions/3.11.0/envs/pml/lib/python3.11/site-packages/selenium/webdriver/remote/webdriver.py:356\u001b[0m, in \u001b[0;36mWebDriver.get\u001b[0;34m(self, url)\u001b[0m\n\u001b[1;32m    354\u001b[0m \u001b[38;5;28;01mdef\u001b[39;00m \u001b[38;5;21mget\u001b[39m(\u001b[38;5;28mself\u001b[39m, url: \u001b[38;5;28mstr\u001b[39m) \u001b[38;5;241m-\u001b[39m\u001b[38;5;241m>\u001b[39m \u001b[38;5;28;01mNone\u001b[39;00m:\n\u001b[1;32m    355\u001b[0m \u001b[38;5;250m    \u001b[39m\u001b[38;5;124;03m\"\"\"Loads a web page in the current browser session.\"\"\"\u001b[39;00m\n\u001b[0;32m--> 356\u001b[0m     \u001b[38;5;28;43mself\u001b[39;49m\u001b[38;5;241;43m.\u001b[39;49m\u001b[43mexecute\u001b[49m\u001b[43m(\u001b[49m\u001b[43mCommand\u001b[49m\u001b[38;5;241;43m.\u001b[39;49m\u001b[43mGET\u001b[49m\u001b[43m,\u001b[49m\u001b[43m \u001b[49m\u001b[43m{\u001b[49m\u001b[38;5;124;43m\"\u001b[39;49m\u001b[38;5;124;43murl\u001b[39;49m\u001b[38;5;124;43m\"\u001b[39;49m\u001b[43m:\u001b[49m\u001b[43m \u001b[49m\u001b[43murl\u001b[49m\u001b[43m}\u001b[49m\u001b[43m)\u001b[49m\n",
      "File \u001b[0;32m~/.pyenv/versions/3.11.0/envs/pml/lib/python3.11/site-packages/selenium/webdriver/remote/webdriver.py:347\u001b[0m, in \u001b[0;36mWebDriver.execute\u001b[0;34m(self, driver_command, params)\u001b[0m\n\u001b[1;32m    345\u001b[0m response \u001b[38;5;241m=\u001b[39m \u001b[38;5;28mself\u001b[39m\u001b[38;5;241m.\u001b[39mcommand_executor\u001b[38;5;241m.\u001b[39mexecute(driver_command, params)\n\u001b[1;32m    346\u001b[0m \u001b[38;5;28;01mif\u001b[39;00m response:\n\u001b[0;32m--> 347\u001b[0m     \u001b[38;5;28;43mself\u001b[39;49m\u001b[38;5;241;43m.\u001b[39;49m\u001b[43merror_handler\u001b[49m\u001b[38;5;241;43m.\u001b[39;49m\u001b[43mcheck_response\u001b[49m\u001b[43m(\u001b[49m\u001b[43mresponse\u001b[49m\u001b[43m)\u001b[49m\n\u001b[1;32m    348\u001b[0m     response[\u001b[38;5;124m\"\u001b[39m\u001b[38;5;124mvalue\u001b[39m\u001b[38;5;124m\"\u001b[39m] \u001b[38;5;241m=\u001b[39m \u001b[38;5;28mself\u001b[39m\u001b[38;5;241m.\u001b[39m_unwrap_value(response\u001b[38;5;241m.\u001b[39mget(\u001b[38;5;124m\"\u001b[39m\u001b[38;5;124mvalue\u001b[39m\u001b[38;5;124m\"\u001b[39m, \u001b[38;5;28;01mNone\u001b[39;00m))\n\u001b[1;32m    349\u001b[0m     \u001b[38;5;28;01mreturn\u001b[39;00m response\n",
      "File \u001b[0;32m~/.pyenv/versions/3.11.0/envs/pml/lib/python3.11/site-packages/selenium/webdriver/remote/errorhandler.py:229\u001b[0m, in \u001b[0;36mErrorHandler.check_response\u001b[0;34m(self, response)\u001b[0m\n\u001b[1;32m    227\u001b[0m         alert_text \u001b[38;5;241m=\u001b[39m value[\u001b[38;5;124m\"\u001b[39m\u001b[38;5;124malert\u001b[39m\u001b[38;5;124m\"\u001b[39m]\u001b[38;5;241m.\u001b[39mget(\u001b[38;5;124m\"\u001b[39m\u001b[38;5;124mtext\u001b[39m\u001b[38;5;124m\"\u001b[39m)\n\u001b[1;32m    228\u001b[0m     \u001b[38;5;28;01mraise\u001b[39;00m exception_class(message, screen, stacktrace, alert_text)  \u001b[38;5;66;03m# type: ignore[call-arg]  # mypy is not smart enough here\u001b[39;00m\n\u001b[0;32m--> 229\u001b[0m \u001b[38;5;28;01mraise\u001b[39;00m exception_class(message, screen, stacktrace)\n",
      "\u001b[0;31mInvalidArgumentException\u001b[0m: Message: invalid argument\n  (Session info: chrome=122.0.6261.112)\nStacktrace:\n0   chromedriver                        0x0000000103084508 chromedriver + 3966216\n1   chromedriver                        0x000000010307ca94 chromedriver + 3934868\n2   chromedriver                        0x0000000102cffbf4 chromedriver + 277492\n3   chromedriver                        0x0000000102ce994c chromedriver + 186700\n4   chromedriver                        0x0000000102ce7d2c chromedriver + 179500\n5   chromedriver                        0x0000000102ce86f8 chromedriver + 182008\n6   chromedriver                        0x0000000102d021b8 chromedriver + 287160\n7   chromedriver                        0x0000000102d7b20c chromedriver + 782860\n8   chromedriver                        0x0000000102d7abf0 chromedriver + 781296\n9   chromedriver                        0x0000000102d36fb0 chromedriver + 503728\n10  chromedriver                        0x0000000102d37a28 chromedriver + 506408\n11  chromedriver                        0x00000001030496f0 chromedriver + 3725040\n12  chromedriver                        0x000000010304dbe4 chromedriver + 3742692\n13  chromedriver                        0x00000001030321d8 chromedriver + 3629528\n14  chromedriver                        0x000000010304e6e0 chromedriver + 3745504\n15  chromedriver                        0x0000000103025550 chromedriver + 3577168\n16  chromedriver                        0x000000010306cf40 chromedriver + 3870528\n17  chromedriver                        0x000000010306d0e4 chromedriver + 3870948\n18  chromedriver                        0x000000010307c704 chromedriver + 3933956\n19  libsystem_pthread.dylib             0x00000001852cf034 _pthread_start + 136\n20  libsystem_pthread.dylib             0x00000001852c9e3c thread_start + 8\n"
     ]
    }
   ],
   "source": [
    "df[\"content\"] = df[df[\"content\"] == \"\"][\"URL\"].apply(get_html_selenium)"
   ]
  },
  {
   "cell_type": "markdown",
   "id": "f46d5a18-8152-4017-a479-546edcc94444",
   "metadata": {},
   "source": [
    "#### driver close"
   ]
  },
  {
   "cell_type": "code",
   "execution_count": 156,
   "id": "593ddfcf-2007-43be-9aa9-a8da92c1513c",
   "metadata": {},
   "outputs": [],
   "source": [
    "driver.close()\n",
    "driver.quit()"
   ]
  },
  {
   "cell_type": "markdown",
   "id": "b2947117-4788-432f-972c-2051efb54c44",
   "metadata": {},
   "source": [
    "#### content inspection"
   ]
  },
  {
   "cell_type": "code",
   "execution_count": 158,
   "id": "6211c52c-3673-47b0-a594-8df3e770cdd1",
   "metadata": {
    "scrolled": true
   },
   "outputs": [
    {
     "data": {
      "text/html": [
       "<div>\n",
       "<style scoped>\n",
       "    .dataframe tbody tr th:only-of-type {\n",
       "        vertical-align: middle;\n",
       "    }\n",
       "\n",
       "    .dataframe tbody tr th {\n",
       "        vertical-align: top;\n",
       "    }\n",
       "\n",
       "    .dataframe thead th {\n",
       "        text-align: right;\n",
       "    }\n",
       "</style>\n",
       "<table border=\"1\" class=\"dataframe\">\n",
       "  <thead>\n",
       "    <tr style=\"text-align: right;\">\n",
       "      <th></th>\n",
       "      <th>범죄 유형</th>\n",
       "      <th>지역</th>\n",
       "      <th>위도</th>\n",
       "      <th>경도</th>\n",
       "      <th>중복 여부</th>\n",
       "      <th>퀄리티</th>\n",
       "      <th>제외 여부</th>\n",
       "      <th>기사제목</th>\n",
       "      <th>사건 장소</th>\n",
       "      <th>수사 기관</th>\n",
       "      <th>본문</th>\n",
       "      <th>URL</th>\n",
       "      <th>일자</th>\n",
       "      <th>언론사</th>\n",
       "      <th>기고자</th>\n",
       "      <th>비고</th>\n",
       "      <th>content</th>\n",
       "    </tr>\n",
       "  </thead>\n",
       "  <tbody>\n",
       "    <tr>\n",
       "      <th>62</th>\n",
       "      <td>헌팅</td>\n",
       "      <td>NaN</td>\n",
       "      <td>NaN</td>\n",
       "      <td>NaN</td>\n",
       "      <td>미중복</td>\n",
       "      <td>NaN</td>\n",
       "      <td>제외</td>\n",
       "      <td>기강해이 해경, 국감서 주요 이슈로 '눈총'</td>\n",
       "      <td>고흥,광주갑,강,경기,장흥ㆍ,전남</td>\n",
       "      <td>해경,해경청,해양경찰청장,더불어민주당,중부해경청,해양경찰청</td>\n",
       "      <td>해경의 무너진 공직기강이 국정감사의 주요 이슈가 됐다. \\n\\n22일 소병훈(더불어...</td>\n",
       "      <td>www.joongboo.com/news/articleView.html?idxno=3...</td>\n",
       "      <td>20231022</td>\n",
       "      <td>중부일보</td>\n",
       "      <td>김상윤</td>\n",
       "      <td>NaN</td>\n",
       "      <td></td>\n",
       "    </tr>\n",
       "    <tr>\n",
       "      <th>92</th>\n",
       "      <td>헌팅</td>\n",
       "      <td>NaN</td>\n",
       "      <td>NaN</td>\n",
       "      <td>NaN</td>\n",
       "      <td>중복</td>\n",
       "      <td>NaN</td>\n",
       "      <td>포함</td>\n",
       "      <td>음주운전 적발 후 모르는 10대 여성 추행 혐의 40대 징역 1년 선고</td>\n",
       "      <td>-</td>\n",
       "      <td>원주시,원주,검찰,춘천지법,원주지원,형사1단독</td>\n",
       "      <td>음주단속에 걸린지 1시간 30여분 만에 길거리에서 마주친 일면식도 없는 10대 여성...</td>\n",
       "      <td>www.kado.net/news/articleView.html?idxno=1202880</td>\n",
       "      <td>20230910</td>\n",
       "      <td>강원도민일보</td>\n",
       "      <td>신정은</td>\n",
       "      <td>NaN</td>\n",
       "      <td></td>\n",
       "    </tr>\n",
       "    <tr>\n",
       "      <th>162</th>\n",
       "      <td>폭행</td>\n",
       "      <td>제주시</td>\n",
       "      <td>NaN</td>\n",
       "      <td>NaN</td>\n",
       "      <td>미중복</td>\n",
       "      <td>NaN</td>\n",
       "      <td>제외</td>\n",
       "      <td>끊이지 않는 중국인 범죄 노동절 어쩌나</td>\n",
       "      <td>제주시,중국,제주</td>\n",
       "      <td>연동,경찰,경찰서,제주경찰청</td>\n",
       "      <td>제주에서 중국인이 저지르는 5대 범죄가 끊이지 않고 있어 근본적인 대책 마련이 요구...</td>\n",
       "      <td>NaN</td>\n",
       "      <td>20230428</td>\n",
       "      <td>제민일보</td>\n",
       "      <td>김재연</td>\n",
       "      <td>NaN</td>\n",
       "      <td></td>\n",
       "    </tr>\n",
       "    <tr>\n",
       "      <th>208</th>\n",
       "      <td>미행</td>\n",
       "      <td>NaN</td>\n",
       "      <td>NaN</td>\n",
       "      <td>NaN</td>\n",
       "      <td>NaN</td>\n",
       "      <td>NaN</td>\n",
       "      <td>제외</td>\n",
       "      <td>'진천형 여성친화도시' 조성 기반 구축에 208억원 투입</td>\n",
       "      <td>진천,중부매일,진,진천군</td>\n",
       "      <td>진천군,여성단체협의회</td>\n",
       "      <td>［중부매일 송창희 기자］ 진천군이 여성친화도시 지정 4년 차를 맞아 '민ㆍ관이 공감...</td>\n",
       "      <td>www.jbnews.com/news/articleView.html?idxno=142...</td>\n",
       "      <td>20240221</td>\n",
       "      <td>중부매일</td>\n",
       "      <td>송창희 기자</td>\n",
       "      <td>NaN</td>\n",
       "      <td></td>\n",
       "    </tr>\n",
       "    <tr>\n",
       "      <th>237</th>\n",
       "      <td>미행</td>\n",
       "      <td>NaN</td>\n",
       "      <td>NaN</td>\n",
       "      <td>NaN</td>\n",
       "      <td>NaN</td>\n",
       "      <td>NaN</td>\n",
       "      <td>제외</td>\n",
       "      <td>진천군, 여성친화도시 조성 제3기 군민참여단 모집</td>\n",
       "      <td>충북,중부매일,진천군,군민참여단원,단원</td>\n",
       "      <td>가족,진천군,군청,진천군청,군민참여단,여성복</td>\n",
       "      <td>［중부매일 송창희 기자］ 진천군이 오는 28일까지 여성친화도시 조성을 위한 제3기 ...</td>\n",
       "      <td>www.jbnews.com/news/articleView.html?idxno=142...</td>\n",
       "      <td>20240201</td>\n",
       "      <td>중부매일</td>\n",
       "      <td>송창희 기자</td>\n",
       "      <td>NaN</td>\n",
       "      <td></td>\n",
       "    </tr>\n",
       "    <tr>\n",
       "      <th>243</th>\n",
       "      <td>미행</td>\n",
       "      <td>NaN</td>\n",
       "      <td>NaN</td>\n",
       "      <td>NaN</td>\n",
       "      <td>NaN</td>\n",
       "      <td>NaN</td>\n",
       "      <td>제외</td>\n",
       "      <td>인천 계양구, '여성친화도시' 조성 박차</td>\n",
       "      <td>서울,인천,계양구,인천시</td>\n",
       "      <td>계양구,여성가족부</td>\n",
       "      <td>인천시 계양구가 지난 23일 서울 포스트타워에서 여성가족부와 여성친화도시 신규 지정...</td>\n",
       "      <td>www.joongboo.com/news/articleView.html?idxno=3...</td>\n",
       "      <td>20240124</td>\n",
       "      <td>중부일보</td>\n",
       "      <td>김상윤</td>\n",
       "      <td>NaN</td>\n",
       "      <td></td>\n",
       "    </tr>\n",
       "  </tbody>\n",
       "</table>\n",
       "</div>"
      ],
      "text/plain": [
       "    범죄 유형   지역  위도  경도 중복 여부  퀄리티 제외 여부  \\\n",
       "62     헌팅  NaN NaN NaN   미중복  NaN    제외   \n",
       "92     헌팅  NaN NaN NaN    중복  NaN    포함   \n",
       "162    폭행  제주시 NaN NaN   미중복  NaN    제외   \n",
       "208    미행  NaN NaN NaN   NaN  NaN    제외   \n",
       "237    미행  NaN NaN NaN   NaN  NaN    제외   \n",
       "243    미행  NaN NaN NaN   NaN  NaN    제외   \n",
       "\n",
       "                                        기사제목                  사건 장소  \\\n",
       "62                  기강해이 해경, 국감서 주요 이슈로 '눈총'     고흥,광주갑,강,경기,장흥ㆍ,전남   \n",
       "92   음주운전 적발 후 모르는 10대 여성 추행 혐의 40대 징역 1년 선고                      -   \n",
       "162                    끊이지 않는 중국인 범죄 노동절 어쩌나              제주시,중국,제주   \n",
       "208          '진천형 여성친화도시' 조성 기반 구축에 208억원 투입          진천,중부매일,진,진천군   \n",
       "237              진천군, 여성친화도시 조성 제3기 군민참여단 모집  충북,중부매일,진천군,군민참여단원,단원   \n",
       "243                   인천 계양구, '여성친화도시' 조성 박차          서울,인천,계양구,인천시   \n",
       "\n",
       "                                수사 기관  \\\n",
       "62   해경,해경청,해양경찰청장,더불어민주당,중부해경청,해양경찰청   \n",
       "92          원주시,원주,검찰,춘천지법,원주지원,형사1단독   \n",
       "162                   연동,경찰,경찰서,제주경찰청   \n",
       "208                       진천군,여성단체협의회   \n",
       "237          가족,진천군,군청,진천군청,군민참여단,여성복   \n",
       "243                         계양구,여성가족부   \n",
       "\n",
       "                                                    본문  \\\n",
       "62   해경의 무너진 공직기강이 국정감사의 주요 이슈가 됐다. \\n\\n22일 소병훈(더불어...   \n",
       "92   음주단속에 걸린지 1시간 30여분 만에 길거리에서 마주친 일면식도 없는 10대 여성...   \n",
       "162  제주에서 중국인이 저지르는 5대 범죄가 끊이지 않고 있어 근본적인 대책 마련이 요구...   \n",
       "208  ［중부매일 송창희 기자］ 진천군이 여성친화도시 지정 4년 차를 맞아 '민ㆍ관이 공감...   \n",
       "237  ［중부매일 송창희 기자］ 진천군이 오는 28일까지 여성친화도시 조성을 위한 제3기 ...   \n",
       "243  인천시 계양구가 지난 23일 서울 포스트타워에서 여성가족부와 여성친화도시 신규 지정...   \n",
       "\n",
       "                                                   URL        일자     언론사  \\\n",
       "62   www.joongboo.com/news/articleView.html?idxno=3...  20231022    중부일보   \n",
       "92    www.kado.net/news/articleView.html?idxno=1202880  20230910  강원도민일보   \n",
       "162                                                NaN  20230428    제민일보   \n",
       "208  www.jbnews.com/news/articleView.html?idxno=142...  20240221    중부매일   \n",
       "237  www.jbnews.com/news/articleView.html?idxno=142...  20240201    중부매일   \n",
       "243  www.joongboo.com/news/articleView.html?idxno=3...  20240124    중부일보   \n",
       "\n",
       "        기고자   비고 content  \n",
       "62      김상윤  NaN          \n",
       "92      신정은  NaN          \n",
       "162     김재연  NaN          \n",
       "208  송창희 기자  NaN          \n",
       "237  송창희 기자  NaN          \n",
       "243     김상윤  NaN          "
      ]
     },
     "execution_count": 158,
     "metadata": {},
     "output_type": "execute_result"
    }
   ],
   "source": [
    "df[df[\"content\"] == \"\"]"
   ]
  },
  {
   "cell_type": "code",
   "execution_count": 159,
   "id": "d6146e6c-b085-46b3-9acc-adce3595fcc8",
   "metadata": {},
   "outputs": [
    {
     "data": {
      "text/plain": [
       "Index([  0,  17,  28,  48,  62,  92, 109, 117, 127, 133, 162, 166, 178, 202,\n",
       "       208, 237, 243, 254, 260, 276, 290],\n",
       "      dtype='int64')"
      ]
     },
     "execution_count": 159,
     "metadata": {},
     "output_type": "execute_result"
    }
   ],
   "source": [
    "index_list"
   ]
  },
  {
   "cell_type": "markdown",
   "id": "c4d4078d-3f0d-4e61-a27e-04680ae15753",
   "metadata": {},
   "source": [
    "#### InvalidArgumentException"
   ]
  },
  {
   "cell_type": "code",
   "execution_count": 162,
   "id": "eb43bc74-9ebb-4bdd-91ca-7c58dd27508b",
   "metadata": {
    "collapsed": true,
    "jupyter": {
     "outputs_hidden": true
    },
    "scrolled": true
   },
   "outputs": [
    {
     "name": "stdout",
     "output_type": "stream",
     "text": [
      "Invalid argument exception: Message: invalid argument\n",
      "  (Session info: chrome=122.0.6261.112)\n",
      "Stacktrace:\n",
      "0   chromedriver                        0x00000001026b8508 chromedriver + 3966216\n",
      "1   chromedriver                        0x00000001026b0a94 chromedriver + 3934868\n",
      "2   chromedriver                        0x0000000102333bf4 chromedriver + 277492\n",
      "3   chromedriver                        0x000000010231d94c chromedriver + 186700\n",
      "4   chromedriver                        0x000000010231bd2c chromedriver + 179500\n",
      "5   chromedriver                        0x000000010231c6f8 chromedriver + 182008\n",
      "6   chromedriver                        0x00000001023361b8 chromedriver + 287160\n",
      "7   chromedriver                        0x00000001023af20c chromedriver + 782860\n",
      "8   chromedriver                        0x00000001023aebf0 chromedriver + 781296\n",
      "9   chromedriver                        0x000000010236afb0 chromedriver + 503728\n",
      "10  chromedriver                        0x000000010236ba28 chromedriver + 506408\n",
      "11  chromedriver                        0x000000010267d6f0 chromedriver + 3725040\n",
      "12  chromedriver                        0x0000000102681be4 chromedriver + 3742692\n",
      "13  chromedriver                        0x00000001026661d8 chromedriver + 3629528\n",
      "14  chromedriver                        0x00000001026826e0 chromedriver + 3745504\n",
      "15  chromedriver                        0x0000000102659550 chromedriver + 3577168\n",
      "16  chromedriver                        0x00000001026a0f40 chromedriver + 3870528\n",
      "17  chromedriver                        0x00000001026a10e4 chromedriver + 3870948\n",
      "18  chromedriver                        0x00000001026b0704 chromedriver + 3933956\n",
      "19  libsystem_pthread.dylib             0x00000001852cf034 _pthread_start + 136\n",
      "20  libsystem_pthread.dylib             0x00000001852c9e3c thread_start + 8\n",
      "\n"
     ]
    }
   ],
   "source": [
    "driver = webdriver.Chrome()"
   ]
  },
  {
   "cell_type": "code",
   "execution_count": 164,
   "id": "2d4c768d-e9b8-4334-9360-34741050b7db",
   "metadata": {},
   "outputs": [
    {
     "name": "stdout",
     "output_type": "stream",
     "text": [
      "www.joongboo.com/news/articleView.html?idxno=363616727\n"
     ]
    }
   ],
   "source": [
    "url = df.loc[62, \"URL\"]\n",
    "print(url)\n",
    "# result = get_html_selenium(url=url)\n",
    "# df.loc[index, \"content\"] = result"
   ]
  },
  {
   "cell_type": "markdown",
   "id": "f468cbbf-0b39-4864-90dd-292c61de4678",
   "metadata": {},
   "source": [
    "ah... there's no https:// in url"
   ]
  },
  {
   "cell_type": "code",
   "execution_count": 169,
   "id": "9702fc16-269c-46e0-8b34-aacead1644df",
   "metadata": {},
   "outputs": [
    {
     "data": {
      "text/plain": [
       "'https://www.hankyung.com/article/2024022231661'"
      ]
     },
     "execution_count": 169,
     "metadata": {},
     "output_type": "execute_result"
    }
   ],
   "source": [
    "df.loc[0, \"URL\"]"
   ]
  },
  {
   "cell_type": "code",
   "execution_count": 172,
   "id": "33fad4b0-c316-4976-b069-9b95fec38da4",
   "metadata": {},
   "outputs": [
    {
     "data": {
      "text/html": [
       "<div>\n",
       "<style scoped>\n",
       "    .dataframe tbody tr th:only-of-type {\n",
       "        vertical-align: middle;\n",
       "    }\n",
       "\n",
       "    .dataframe tbody tr th {\n",
       "        vertical-align: top;\n",
       "    }\n",
       "\n",
       "    .dataframe thead th {\n",
       "        text-align: right;\n",
       "    }\n",
       "</style>\n",
       "<table border=\"1\" class=\"dataframe\">\n",
       "  <thead>\n",
       "    <tr style=\"text-align: right;\">\n",
       "      <th></th>\n",
       "      <th>범죄 유형</th>\n",
       "      <th>지역</th>\n",
       "      <th>위도</th>\n",
       "      <th>경도</th>\n",
       "      <th>중복 여부</th>\n",
       "      <th>퀄리티</th>\n",
       "      <th>제외 여부</th>\n",
       "      <th>기사제목</th>\n",
       "      <th>사건 장소</th>\n",
       "      <th>수사 기관</th>\n",
       "      <th>본문</th>\n",
       "      <th>URL</th>\n",
       "      <th>일자</th>\n",
       "      <th>언론사</th>\n",
       "      <th>기고자</th>\n",
       "      <th>비고</th>\n",
       "      <th>content</th>\n",
       "    </tr>\n",
       "  </thead>\n",
       "  <tbody>\n",
       "  </tbody>\n",
       "</table>\n",
       "</div>"
      ],
      "text/plain": [
       "Empty DataFrame\n",
       "Columns: [범죄 유형, 지역, 위도, 경도, 중복 여부, 퀄리티, 제외 여부, 기사제목, 사건 장소, 수사 기관, 본문, URL, 일자, 언론사, 기고자, 비고, content]\n",
       "Index: []"
      ]
     },
     "execution_count": 172,
     "metadata": {},
     "output_type": "execute_result"
    }
   ],
   "source": [
    "df[df[\"URL\"].str.split(\".\").str[0] == \"www\"]"
   ]
  },
  {
   "cell_type": "code",
   "execution_count": 171,
   "id": "22308f53-a0d3-4821-a366-70f3dd0e5e55",
   "metadata": {},
   "outputs": [],
   "source": [
    "df[\"URL\"] = df[df[\"URL\"].str.split(\".\").str[0] == \"www\"][\"URL\"].apply(lambda x: \"https://\" + x)\n"
   ]
  },
  {
   "cell_type": "code",
   "execution_count": 176,
   "id": "cd6b739e-66fd-4261-896a-fb97ccefecc6",
   "metadata": {},
   "outputs": [
    {
     "data": {
      "text/plain": [
       "Index([62, 92, 162, 208, 237, 243], dtype='int64')"
      ]
     },
     "execution_count": 176,
     "metadata": {},
     "output_type": "execute_result"
    }
   ],
   "source": [
    "df_https = df[df[\"content\"] == \"\"]\n",
    "index_list = df_https.index\n",
    "index_list"
   ]
  },
  {
   "cell_type": "code",
   "execution_count": 177,
   "id": "ed0cb83c-c817-49ac-8850-afe570a42eff",
   "metadata": {
    "scrolled": true
   },
   "outputs": [
    {
     "name": "stderr",
     "output_type": "stream",
     "text": [
      " 33%|███▎      | 2/6 [00:09<00:19,  4.92s/it]"
     ]
    },
    {
     "name": "stdout",
     "output_type": "stream",
     "text": [
      "Invalid argument exception: Message: invalid argument: missing command parameters\n",
      "Stacktrace:\n",
      "0   chromedriver                        0x00000001026b8508 chromedriver + 3966216\n",
      "1   chromedriver                        0x00000001026b0a94 chromedriver + 3934868\n",
      "2   chromedriver                        0x0000000102333da0 chromedriver + 277920\n",
      "3   chromedriver                        0x000000010238ee90 chromedriver + 650896\n",
      "4   chromedriver                        0x000000010238e350 chromedriver + 648016\n",
      "5   chromedriver                        0x0000000102306368 chromedriver + 90984\n",
      "6   chromedriver                        0x000000010267d6f0 chromedriver + 3725040\n",
      "7   chromedriver                        0x0000000102681be4 chromedriver + 3742692\n",
      "8   chromedriver                        0x00000001026661d8 chromedriver + 3629528\n",
      "9   chromedriver                        0x00000001026826e0 chromedriver + 3745504\n",
      "10  chromedriver                        0x0000000102659550 chromedriver + 3577168\n",
      "11  chromedriver                        0x0000000102304f80 chromedriver + 85888\n",
      "12  dyld                                0x0000000184f55058 start + 2224\n",
      "\n"
     ]
    },
    {
     "name": "stderr",
     "output_type": "stream",
     "text": [
      "100%|██████████| 6/6 [00:17<00:00,  2.90s/it]\n"
     ]
    }
   ],
   "source": [
    "for index in tqdm(index_list):\n",
    "    result = get_html_selenium(url=df.loc[index, \"URL\"])\n",
    "    df.loc[index, \"content\"] = result"
   ]
  },
  {
   "cell_type": "code",
   "execution_count": 179,
   "id": "103ed39e-3fe7-40e6-a106-b147e5ab59de",
   "metadata": {},
   "outputs": [],
   "source": [
    "driver.close()\n",
    "driver.quit()"
   ]
  },
  {
   "cell_type": "code",
   "execution_count": 178,
   "id": "f3074a76-7585-4f2a-bfc8-7b5bb34d20c0",
   "metadata": {},
   "outputs": [
    {
     "data": {
      "text/html": [
       "<div>\n",
       "<style scoped>\n",
       "    .dataframe tbody tr th:only-of-type {\n",
       "        vertical-align: middle;\n",
       "    }\n",
       "\n",
       "    .dataframe tbody tr th {\n",
       "        vertical-align: top;\n",
       "    }\n",
       "\n",
       "    .dataframe thead th {\n",
       "        text-align: right;\n",
       "    }\n",
       "</style>\n",
       "<table border=\"1\" class=\"dataframe\">\n",
       "  <thead>\n",
       "    <tr style=\"text-align: right;\">\n",
       "      <th></th>\n",
       "      <th>범죄 유형</th>\n",
       "      <th>지역</th>\n",
       "      <th>위도</th>\n",
       "      <th>경도</th>\n",
       "      <th>중복 여부</th>\n",
       "      <th>퀄리티</th>\n",
       "      <th>제외 여부</th>\n",
       "      <th>기사제목</th>\n",
       "      <th>사건 장소</th>\n",
       "      <th>수사 기관</th>\n",
       "      <th>본문</th>\n",
       "      <th>URL</th>\n",
       "      <th>일자</th>\n",
       "      <th>언론사</th>\n",
       "      <th>기고자</th>\n",
       "      <th>비고</th>\n",
       "      <th>content</th>\n",
       "    </tr>\n",
       "  </thead>\n",
       "  <tbody>\n",
       "    <tr>\n",
       "      <th>162</th>\n",
       "      <td>폭행</td>\n",
       "      <td>제주시</td>\n",
       "      <td>NaN</td>\n",
       "      <td>NaN</td>\n",
       "      <td>미중복</td>\n",
       "      <td>NaN</td>\n",
       "      <td>제외</td>\n",
       "      <td>끊이지 않는 중국인 범죄 노동절 어쩌나</td>\n",
       "      <td>제주시,중국,제주</td>\n",
       "      <td>연동,경찰,경찰서,제주경찰청</td>\n",
       "      <td>제주에서 중국인이 저지르는 5대 범죄가 끊이지 않고 있어 근본적인 대책 마련이 요구...</td>\n",
       "      <td>NaN</td>\n",
       "      <td>20230428</td>\n",
       "      <td>제민일보</td>\n",
       "      <td>김재연</td>\n",
       "      <td>NaN</td>\n",
       "      <td></td>\n",
       "    </tr>\n",
       "  </tbody>\n",
       "</table>\n",
       "</div>"
      ],
      "text/plain": [
       "    범죄 유형   지역  위도  경도 중복 여부  퀄리티 제외 여부                   기사제목      사건 장소  \\\n",
       "162    폭행  제주시 NaN NaN   미중복  NaN    제외  끊이지 않는 중국인 범죄 노동절 어쩌나  제주시,중국,제주   \n",
       "\n",
       "               수사 기관                                                 본문  URL  \\\n",
       "162  연동,경찰,경찰서,제주경찰청  제주에서 중국인이 저지르는 5대 범죄가 끊이지 않고 있어 근본적인 대책 마련이 요구...  NaN   \n",
       "\n",
       "           일자   언론사  기고자   비고 content  \n",
       "162  20230428  제민일보  김재연  NaN          "
      ]
     },
     "execution_count": 178,
     "metadata": {},
     "output_type": "execute_result"
    }
   ],
   "source": [
    "df[df[\"content\"] == \"\"]"
   ]
  },
  {
   "cell_type": "markdown",
   "id": "a66c7789-3886-44ff-815e-108352cc7c32",
   "metadata": {},
   "source": [
    "#### save a text to a Markdown file"
   ]
  },
  {
   "cell_type": "code",
   "execution_count": 26,
   "id": "6c8a7b6d-1d6d-4fcd-9ddb-a9839c444a91",
   "metadata": {
    "execution": {
     "iopub.execute_input": "2024-04-07T07:51:29.354174Z",
     "iopub.status.busy": "2024-04-07T07:51:29.351993Z",
     "iopub.status.idle": "2024-04-07T07:51:29.369437Z",
     "shell.execute_reply": "2024-04-07T07:51:29.368430Z",
     "shell.execute_reply.started": "2024-04-07T07:51:29.354128Z"
    }
   },
   "outputs": [],
   "source": [
    "def save_to_markdown(content, file_path):\n",
    "    \"\"\"\n",
    "    Save content to a Markdown file.\n",
    "\n",
    "    Parameters:\n",
    "    - content (str): The content to be saved.\n",
    "    - file_path (str): The path to the Markdown file.\n",
    "    \"\"\"\n",
    "    with open(file_path, 'w', encoding='utf-8') as file:\n",
    "        file.write(content)"
   ]
  },
  {
   "cell_type": "code",
   "execution_count": 8,
   "id": "2677c988-5dbc-4d08-9f11-ef516ee396fd",
   "metadata": {
    "execution": {
     "iopub.execute_input": "2024-03-22T06:58:04.472917Z",
     "iopub.status.busy": "2024-03-22T06:58:04.471591Z",
     "iopub.status.idle": "2024-03-22T06:58:04.495309Z",
     "shell.execute_reply": "2024-03-22T06:58:04.492698Z",
     "shell.execute_reply.started": "2024-03-22T06:58:04.472866Z"
    }
   },
   "outputs": [
    {
     "data": {
      "text/plain": [
       "'http://news.moneytoday.co.kr/view/mtview.php?no=2024020518521145825&type=2'"
      ]
     },
     "execution_count": 8,
     "metadata": {},
     "output_type": "execute_result"
    }
   ],
   "source": [
    "df.iloc[4][\"URL\"]"
   ]
  },
  {
   "cell_type": "code",
   "execution_count": 63,
   "id": "8c4df3aa-eba0-4f15-ad14-b43d4cf0b37b",
   "metadata": {
    "collapsed": true,
    "execution": {
     "iopub.execute_input": "2024-03-22T08:46:57.842674Z",
     "iopub.status.busy": "2024-03-22T08:46:57.820315Z",
     "iopub.status.idle": "2024-03-22T08:46:57.938809Z",
     "shell.execute_reply": "2024-03-22T08:46:57.938394Z",
     "shell.execute_reply.started": "2024-03-22T08:46:57.842601Z"
    },
    "jupyter": {
     "outputs_hidden": true
    },
    "scrolled": true
   },
   "outputs": [
    {
     "data": {
      "text/plain": [
       "'\\n\\n\\n\\'묻지마 폭행\\'에 행인 중태…20대男 구속영장 2회 기각, 왜? - 머니투데이\\n\\n\\n\\n\\n\\n\\n\\n\\n\\n\\n\\n\\n\\n\\n\\n\\n\\n\\n\\n\\n\\n\\n\\n\\n\\n\\n\\n\\n\\n\\n\\n\\n\\n\\n\\n\\n\\n\\n\\n\\n\\n\\n\\n\\n\\n\\n\\n\\n\\n\\n\\n\\n\\n\\n\\n\\n\\n\\n\\n\\n\\n\\n\\n\\n\\n\\n\\n\\n\\n\\n\\n\\n\\n\\n\\n\\n\\n\\n\\n\\n\\n\\n\\n\\n\\n\\n\\n\\n\\n\\n\\n\\n\\n\\n\\n\\n\\n\\n\\n\\n\\n\\n\\n\\n\\n\\n\\n\\n\\n\\n\\n\\n\\n\\n\\n\\n\\n\\n\\n\\n\\n본문영역 바로가기\\n\\n\\n\\n\\n\\n\\n\\n\\n\\n\\n\\n\\n\\n\\n\\n\\n\\n\\n\\n\\n로그인\\n\\n\\n\\n\\n\\n \\n\\n\\n\\n\\n\\n\\n머니투데이\\n\\n\\n\\n\\n\\n\\n\\n\\n\\n\\n\\n\\n\\n\\n\\n전체\\n\\n\\n\\n뉴스\\n\\n\\n경제정책\\n\\n\\n증권\\n\\n\\n정치\\n\\n\\n부동산\\n\\n\\n국제경제\\n\\n\\n사회\\n\\n\\n산업\\n\\n\\nIT\\n\\n\\n금융\\n\\n\\n벤처·스타트업\\n\\n\\n블록체인\\n\\n\\n문화\\n\\n\\n포토\\n\\n포토\\n\\n\\n더차트\\n\\n\\n더그래픽\\n\\n\\n\\n\\n영상\\n\\n\\nMT 영상\\n\\n\\n더영상\\n\\n\\n\\n\\n전체기사\\n\\n\\n\\n\\n\\n증권\\n\\n\\n뉴스\\n\\n\\n시세/공시\\n\\n코스피\\n\\n코스닥\\n\\n코넥스\\n\\n상승/하락\\n\\n상하한가\\n\\n시가총액\\n\\n거래량상위\\n\\n신규상장\\n\\n주요공시\\n\\n\\n\\n\\n포인트&전략\\n\\n\\n펀드\\n\\n펀드IR\\n\\n국내펀드\\n\\n해외펀드\\n\\n유형종합\\n\\n\\n\\n\\n종목대해부\\n\\n\\n베스트리포트\\n\\n\\nMY스톡\\n\\n\\n\\n\\n\\n정치\\n\\n\\n\\n법률\\n\\n\\n\\n유니콘팩토리\\n\\n\\n\\n\\n헬스·바이오\\n\\n\\n최신기사\\n\\n\\n\\n\\n\\n칼럼\\n\\n\\n데스크칼럼\\n\\n\\n사내칼럼\\n\\n\\n현장리포트\\n\\n\\n사외칼럼\\n\\n\\nSUCCESS\\n\\n\\n\\n\\n\\n\\n\\n\\n\\n\\n연예\\n\\n\\n연예\\n\\n\\n스포츠\\n\\n\\n\\n\\n\\n이슈\\n\\n\\n핫이슈\\n\\n\\n전체핫이슈\\n\\n\\n이슈키워드\\n\\n\\n뉴스 속 오늘\\n\\n\\n연중기획\\n\\n\\n\\n\\n실시간급상승\\n\\n\\n베스트클릭\\n\\n\\n사람&\\n\\n피플\\n\\nMT초대석\\n\\n인터뷰\\n\\n대표선배\\n\\n인사\\n\\n부고\\n\\n\\n\\n\\n\\n\\n\\nMT리포트\\n\\n\\n\\n\\n\\n\\n\\n\\n\\n\\n뉴스\\n\\n\\n경제정책\\n증권\\n정치\\n부동산\\n국제경제\\n사회\\n산업\\nIT\\n금융\\n벤처·스타트업\\n블록체인\\n문화\\n포토\\n영상\\n전체기사\\n\\n\\n\\n\\n\\n\\n증권\\n뉴스\\n시세/공시\\n포인트&전략\\n펀드\\n종목대해부\\n베스트리포트\\n\\nMY스톡\\n\\n\\n\\n\\n헬스·바이오\\n최신기사\\n\\n\\n\\n\\n칼럼\\n데스크칼럼\\n사내칼럼\\n현장리포트\\n사외칼럼\\nSUCCESS\\n\\n\\n\\n\\n\\n연예\\n연예\\n스포츠\\n\\n\\n\\n\\n이슈\\n핫이슈\\n실시간급상승\\n베스트클릭\\n사람&\\n\\n\\n\\n\\nMT리포트\\n\\n\\n\\n\\nVIP\\nVIP Only\\nVIP Story\\nT.O.M\\n투자디렉터\\n런치리포트\\nthe L\\nICT & Tech\\nCulture\\nFULL TEXT\\n초판/e-신문보기\\n서비스 신청\\n\\n\\n\\n\\n정치\\n벤처·스타트업\\n기술·트렌드·혁신\\n법률\\n패션·연예\\n국제시사·문예\\n매거진\\n\\n전체보기 닫기\\n\\n\\n속보\\n\\n\\n안랩, 정부 SaaS 육성사업 \\'MSP 지원기업\\' 선정\\n마트에서 산 황도 통조림에서 세균이…\"먹지 말고 반품하세요\"\\nAI로 만드는 안전한 세상...인텔리빅스, \\'AI 통합관제시스템\\' 선봬\\n오늘은 쉬어간 코스피… 개인 \\'팔자\\' 행렬, 외국인은 계속 \\'줍줍\\'\\n공수처 \"당분간 소환 조사 어렵다\"…이종섭 측 \"납득 어렵다\"(종합)\\n파인헬스케어, 환자사진 관리·보호 위한 \\'피콤\\' 출시...특허 취득\\n[신간] 국일미디어,맨발걷기학 개론\\n\\'스마트 맨홀\\' SDT, 日 이어 필리핀 실증 성공…\"해외진출가속\"\\n금융감독원, \\'뻥튀기 상장\\' 파두 관련 거래소 참고인 조사\\n금감원, 공인회계사 시험 1차 합격자 발표… 총 3022명\\n\\n\\n\\n\\n\\n안랩, 정부 SaaS 육성사업 \\'MSP 지원기업\\' 선정\\n마트에서 산 황도 통조림에서 세균이…\"먹지 말고 반품하세요\"\\nAI로 만드는 안전한 세상...인텔리빅스, \\'AI 통합관제시스템\\' 선봬\\n오늘은 쉬어간 코스피… 개인 \\'팔자\\' 행렬, 외국인은 계속 \\'줍줍\\'\\n공수처 \"당분간 소환 조사 어렵다\"…이종섭 측 \"납득 어렵다\"(종합)\\n파인헬스케어, 환자사진 관리·보호 위한 \\'피콤\\' 출시...특허 취득\\n[신간] 국일미디어,맨발걷기학 개론\\n\\'스마트 맨홀\\' SDT, 日 이어 필리핀 실증 성공…\"해외진출가속\"\\n금융감독원, \\'뻥튀기 상장\\' 파두 관련 거래소 참고인 조사\\n금감원, 공인회계사 시험 1차 합격자 발표… 총 3022명\\n\\n\\n\\n\\n\\n\\n\\n\\n\\n\\n검색창 열기\\n\\n\\n\\n\\n\\n\\n\\n\\n\\n\\n\\n통합검색\\n검색\\n\\n닫기\\n\\n\\n\\n\\n\\n\\n\\n\\n\\n\\n\\n\\n\\n\\n\\n\\n\\n\\n머니투데이\\n\\n\\n\\n\\n\\n\\n\\n\\n\\n\\n\\n\\n\\n\\n\\n전체\\n\\n\\n\\n\\n\\n\\n뉴스\\n\\n\\n경제정책\\n증권\\n정치\\n부동산\\n국제경제\\n사회\\n산업\\nIT\\n금융\\n벤처·스타트업\\n블록체인\\n문화\\n포토\\n영상\\n전체기사\\n\\n\\n\\n\\n\\n\\n증권\\n뉴스\\n시세/공시\\n포인트&전략\\n펀드\\n종목대해부\\n베스트리포트\\n\\nMY스톡\\n\\n\\n\\n\\n헬스·바이오\\n최신기사\\n\\n\\n\\n\\n칼럼\\n데스크칼럼\\n사내칼럼\\n현장리포트\\n사외칼럼\\nSUCCESS\\n\\n\\n\\n\\n\\n연예\\n연예\\n스포츠\\n\\n\\n\\n\\n이슈\\n핫이슈\\n실시간급상승\\n베스트클릭\\n사람&\\n\\n\\n\\n\\nMT리포트\\n\\n\\n\\n\\nVIP\\nVIP Only\\nVIP Story\\nT.O.M\\n투자디렉터\\n런치리포트\\nthe L\\nICT & Tech\\nCulture\\nFULL TEXT\\n초판/e-신문보기\\n서비스 신청\\n\\n\\n\\n\\n정치\\n벤처·스타트업\\n기술·트렌드·혁신\\n법률\\n패션·연예\\n국제시사·문예\\n매거진\\n\\n전체보기 닫기\\n\\n\\n\\n\\'묻지마 폭행\\'에 행인 중태…20대男 구속영장 2회 기각, 왜?\\n\\n\\n\\n\\n\\n\\n\\n\\n\\n\\nsns공유 더보기\\n\\n\\n\\n\\n\\n\\n\\n\\n\\n\\n\\n\\n\\n\\n\\n\\nD\\n-\\n1\\n9\\n\\n\\n\\n\\n\\n\\n\\'묻지마 폭행\\'에 행인 중태…20대男 구속영장 2회 기각, 왜?\\n\\n\\n머니투데이\\n\\n\\n\\n박상혁 기자 \\n\\n기자 더보기\\n\\n\\n\\n\\n\\n\\n\\n\\n\\n\\n\\n\\n\\n\\n\\n\\n\\n\\n\\n\\nsns공유 더보기\\n\\n\\n\\n\\n\\n\\n\\n\\n\\n\\n\\n\\n\\n\\n\\n\\n\\n\\n\\n2024.02.05 19:48\\n\\n\\n\\n\\n문서\\n\\n\\n프린트\\n\\n\\n글자크기\\n\\n\\n\\n\\n글자크기조절\\n\\n\\n\\n가나다라마\\n\\n\\n\\n가나다라마\\n\\n\\n\\n가나다라마\\n\\n\\n\\n가나다라마\\n\\n\\n\\n가나다라마\\n\\n\\n\\n\\n\\n\\n\\n\\n\\n\\n\\n\\n\\n\\n\\n\\n\\n\\n\\n \\n\\n술에 취해 아무런 이유 없이 행인들을 폭행해 1명을 중태에 빠뜨리고 여성을 추행한 20대 남성이 재판에 넘겨졌다. \\n\\r\\n5일 뉴시스에 따르면  부산지검 형사3부(부장검사 서효원)은 중상해 및 강제추행 혐의를 받는 20대 남성 A씨를 불구속 기소했다. \\n\\r\\n지난해 10월18일 오후 9시30분쯤 A씨는 부산 중구의 한 길거리에서 만취한 상태로 행인에게 시비를 걸고 폭행한 혐의를 받고 있다. \\n\\r\\nA씨는 자신을 말리던 행인 2명도 폭행했고 이 과정에서 60대 남성 B씨를 의식불명 상태에 빠뜨린 것으로 전해졌다. 이어 자신을 경찰에 신고하려던 20대 여성 C씨도 뒤에서 껴안아 추행한 혐의도 받고 있다. \\n\\r\\n검찰은 A씨에 대해 두 차례나 법원에 구속영장을 청구했으나 법원은 받아들이지 않았다. A씨가 폭행 피해자 2명과 합의했고 초범이라는 이유 때문인 것으로 전해졌다. \\n\\r\\n검찰 관계자는 \"A씨에게 죄에 상응하는 형이 선고될 수 있도록 공소 유지에 최선을 다하고, 현재 의식불명 상태인 피해자에 대한 지원에도 소홀함이 없도록 하겠다\"고 했다.                                    \\n\\n\\n\\n\\n\\n\\n\\n\\n\\n                                            <저작권자 © ‘돈이 보이는 리얼타임 뉴스’ 머니투데이, 무단전재 및 재배포 금지>\\n                                        \\n\\n\\n\\n\\n\\n\\n공감\\n                                                    0%\\n\\n\\n비공감\\n                                                    0%\\n\\n\\n\\n\\n\\n\\n\\n\\n\\n\\n\\n\\n\\n\\n\\n\\n\\n\\n\\n\\n\\n\\n\\n\\n\\n\\n\\n\\n\\n\\n\\n\\n\\n\\n\\n\\n\\n\\n\\n\\n\\n\\n\\n\\n\\n\\n\\n\\n\\n\\n\\n\\n\\n\\n\\n\\n\\n\\n\\n\\n\\n\\n머니투데이 주요뉴스\\n\\n오늘은 쉬어간 코스피… 개인 \\'팔자\\' 행렬, 외인은 \\'줍줍\\'\\n\\n\\n\\n\\n\\n\"왜 이렇게 싸?\"… 마트서 사과·귤 대신 \\'이 과일들\\' 담았다\\n\\n\\n\\t\\t\\t\\t\\t\\t오렌지·바나나 등 외국 과일 관세 인하수입량 2배 이상 늘고 판매량도 증가세금(金)사과라는 말이 나올 정도로 과일 가격이 급등하면서 소비자들이 비싸진 사과 배 등 국산 과일을 대체할 외국 과일로 눈을 돌리고 있다. 오렌지 바나나 등의 수입물량이 크게 늘었고 실제 판매량도 증가 추세다.22일 관세청 수출입무역통계에 따르면 올해 1~2월 오렌지 수입량은 9964.2톤(t)으로, 지난해 동기(4339t) 대비 129.6% 늘어났다. 수입액도 883만7000달러에서 2103만4000달러로 138% 급등했다. 아직 연초 기준이지만 수입량과 ...\\t\\t\\t\\t\\t\\n\\n\\n\\n\\n\\n\"돌아온 연기금, \\'이 종목\\' 폭풍매수\"…4943억어치 사들였다\\n\"호국 영웅 확실히 예우\"…尹대통령, 2년 연속 울었다\\n유재석·송은이 팔 걷었다…\"사랑하는 팬들, 알바비·퇴직금 날려\"\\n\"독도는 일본땅, 한국이 불법 점거\" 日교과서 왜곡…정부 \"강력 항의\"\\n우리은행, 4월부터 홍콩ELS 자율배상금 지급…20~60% 범위\\n\"필수의료 패키지 안착 못하면 \\'의료붕괴\\' 올 것…\\'큰 병원\\' 구조조정 불가피\"\\n\\n\\n\\n\\n\\n\\n\\n오재원 마약, 여사친이 신고…\"다른 여성과 스킨십 보고 분노\"\\n\\n\\n\\n\\n\\n\"101위 태국과 무승부라니…\" 축구팬들 뿔났다\\n\\n\\n\\n\\n\\n\\'몸값 1조원\\' 오타니가 쓰는 헤드셋…가격 \\'깜짝\\'\\n\\n\\n\\n\\n\\n\\n\\n\\n\\n\\n\\n\\n\\n\\n\\n\\n\\n\\n\\n\\n\\n\\n\\n\\n\\n\\n\\n\\n\\n\\n\\n\\n\\n\\n\\n\\n\\n\\n\\n\\n\\n\\n\\n\\n\\n\\n\\n\\n\\n\\n\\n\\n\\n\\n\\n\\n\\n\\n실시간 급상승\\n\\n        9.9\\n    \\n\\n\\n\\n\\n\\n\\n\\n\\n\\n\\n\\n\\n\\n\\n\\n\\n\\n\\n베스트클릭\\n\\n\\n종합\\n사회\\n\\n\\n\\n\\n\\n\\n\\n\\n\\nEXID 하니 \\'하객룩\\' 어땠길래…\"신경 좀 써\" vs \"깔끔하기만 한데\"\\n\\n\\n\\n\\n\\n\\n\\n\"남편, 여직원과 10시간 동행 싫다\" 아내 속앓이…누리꾼들 남편 걱정\\n\\n\\n\\n\\n\\n\\n\\n오재원, \\'마약 주사기\\' 태우고 겨드랑이털 제모…치밀했던 증거인멸\\n\\n\\n\\n\\n\\n\\n\\n[단독]경계현 삼성전자 사장 출국, 美 28일 반도체 보조금 발표 유력\\n\\n\\n\\n\\n\\n\\n\\n정은채, 열애 인정하자…두차례 \\'유부남과 불륜 스캔들\\' 재소환\\n\\n\\n\\n\\n\\n\\n\\n\\n\\n\"여보, 조합장 해봐\"…매달 500만원 따박따박, \\'12억\\' 성과급 잔치\\n\\n\\n\\n\\n\\n\\n\\n북극곰 살리자던 류준열이 골프광? \"후원 취소\"…그린피스에 불똥\\n\\n\\n\\n\\n\\n\\n\\n류준열 \\'골프광\\' 논란에 그린피스도 손절?…\"홍보대사 검토\"\\n\\n\\n\\n\\n\\n\\n\\n\"돌아온 연기금, \\'이 종목\\' 폭풍매수\"…4943억어치 사들였다\\n\\n\\n\\n\\n\\n\\n\\n\"5000만원 적금 타고 60억 벌었다\"…6년 만에 조기 은퇴한 비결\\n\\n\\n\\n\\n\\n\\n이전\\n\\n다음\\n\\n\\n\\n\\n\\n\\n\\n\\n\\n침묵하던 류준열, \\'♥한소희\\'와 열애 인정…\"혜리와 결별 후 만나\"\\n\\n\\n\\n\\n\\n\\n\\n\\'난치병\\' 굽은 허리 이봉주에 전 국민 충격…꼿꼿이 다시 선 근황\\n\\n\\n\\n\\n\\n\\n\\n\"매력이 뭐길래?\" 전성기 \\'한소희, 혜리\\'까지 푹 빠진 류준열\\n\\n\\n\\n\\n\\n\\n\\n아이돌이 소속사 여대표 상의 벗기고 성추행?…CCTV 영상 공개\\n\\n\\n\\n\\n\\n\\n\\n\"류준열이 환승연애 거짓말?\"…혜리와 같은 폰 케이스 \\'구설\\'\\n\\n\\n\\n\\n\\n\\n\\n\\n\\n혜리 \"결별기사 난 뒤 더 얘기해보자고 대화 나눴는데…\"\\n\\n\\n\\n\\n\\n\\n\\nEXID 하니 \\'하객룩\\' 어땠길래…\"신경 좀 써\" vs \"깔끔하기만 한데\"\\n\\n\\n\\n\\n\\n\\n\\n\"남편, 여직원과 10시간 동행 싫다\" 아내 속앓이…누리꾼들 남편 걱정\\n\\n\\n\\n\\n\\n\\n\\n성우 이우리, 24살 나이로 세상 떠나…\\'명탐정코난\\' 그 목소리\\n\\n\\n\\n\\n\\n\\n\\n시부모님과 신혼여행 온 기분…영상통화 고집하는 효자 남편\\n\\n\\n\\n\\n\\n\\n이전\\n\\n다음\\n\\n\\n\\n\\n\\n\\n\\n\\n\\n\\n\\n\\n\\n\\n\\n\\n\\n\\n\\n\\nMT리포트\\n\\n\\n\\n\\n\\n\"OLED를? 투자 지나쳐\" 그 말 틀렸다…삼성D \\'대박\\', 독주의 비결\\n\\n\\n\\n \\n\\n\\n\\n\\n\\n\\n\\n\\n\\n\\n\\n\\n\\n\\n\\n이슈패키지\\n\\n\\n\\n\\n2024 키플랫폼\\n\\n신냉전 최대 변수 \\'美 대선\\',  글로벌 전문가들이 말하는 韓 대응책\\n\"디지털 전환, \\'디지털 네이티브\\' MZ에게 배워라\"\\n\"글로벌 동맹 흔드는 트럼프…한미일 협력은 건들지 않을 것\"\\n\\n\\n\\n\\n\\n\\n선임기자가 판다\\n\\nLG사위 윤관, \"나는 한국 거주자가 아니다\" 주장하는 이유\\n상속소송 1년 LG家 모녀의 몫은 얼마일까?\\n이재용 회장도 줄서는 \\'ASML\\'의 알파에서 오메가까지\\n\\n\\n\\n\\n\\n\\nPADO\\n\\n새로운 도시국가를 건설하는 실리콘밸리 억만장자들 [PADO]\\n촘촘한 FTA망으로 미국 무역 패권에 도전하는 중국 [PADO]\\n해설과 함께 읽는 이번 주 국제정세 [PADO]\\n\\n\\n\\n\\n\\n이전\\n\\n다음\\n\\n\\n\\n\\n\\n\\n\\n\\n\\n\\n\\n\\n\\n\\n\\n\\n\\n\\n\\n\\n\\n\\n\\n\\n\\n\\n\\n\\n\\n\\n\\n최신뉴스\\n\\n\\n사회\\n마켓\\n\\n\\n\\n\\nWATER KOREA, 상하수도 시설·물기업 이해 높이기 위한 견학 프로그램 진행\\n공수처 \"당분간 소환 조사 어렵다\"…이종섭 측 \"납득 어렵다\"(종합)\\nBAT 사천공장, 임직원 모여 \\'세계 물의 날\\' 맞아 플로깅 펼쳐\\n검찰, \\'민주노총 탈퇴 종용\\' SPC 대표 구속 기소\\n유재석·송은이 팔 걷었다…\"사랑하는 팬들, \\'피싱\\'에 알바비·퇴직금 날려\"\\n\\n\\n\\n\\n[스팟]코스닥 0.31포인트(0.03%) 내린 903.98 마감\\n[스팟]코스피 6.30포인트(0.23%) 내린 2748.56 마감\\n거래소, 자본시장 유관기관·경제단체와 밸류업 간담회 개최\\n\"쏜애플 \\'한낮\\' 투자하고 굿즈 받자\" 뮤직카우, 옥션 이벤트 진행\\n유안타증권, 금융센터인천본부점서 투자설명회 개최\\n\\n\\n\\n\\n\\n\\n\\n\\n\\n\\n\\n\\n\\n\\n\\n\\n\\n\\n\\n\\n\\n\\n\\n\\n\\n\\n\\n\\n오늘의 꿀팁\\n\\n\\n\\n\\n\\n\\n\\n\\n\\n\\n\\n\\n\\n\\n\\n\\n\\n\\n\\n\\n\\n\\n\\n\\n\\n\\n\\n\\n\\n많이 본 뉴스\\n\\n\\n일주일\\n1개월\\n6개월\\n1년\\n\\n\\n\\n\\n\\n\\n\\n\\n\\n이찬원 \"장윤정, 도경완과 이혼 후 나랑 재혼한다고\"…가짜뉴스 고충\\n\\n\\n\\n\\n\\n\\n\\n\\n\\n이혜정 \"며느리 말대꾸, 지적하자 또 받아쳐…화나 펄펄 뛰었다\"\\n\\n\\n\\n\\n\\n\\n\\n\\n\\n\"이혼 못해\" 버티는 이범수…아내 이윤진 저격에 \\'외도설\\'까지\\n\\n\\n\\n\\n\\n\\n\\n\\n\\n공감\\n시부모님과 신혼여행 온 기분…영상통화 고집하는 효자 남편\\n\\n\\n\\n\\n\\n\\n\\n\\n\\n비공감\\n\"매력이 뭐길래?\" 전성기 \\'한소희, 혜리\\'까지 푹 빠진 류준열\\n\\n\\n\\n\\n\\n\\n\\n\\n\\n\\n\\n\\n\\n김호중 건강상태 심각…\"못 걸을 수도, 당장 수술해야\" 무슨 일\\n\\n\\n\\n\\n\\n\\n\\n\\n\\n부부싸움 후 시어머니방에 간 남편, 알고보니…\"엄마 가슴 만지며 자\"\\n\\n\\n\\n\\n\\n\\n\\n\\n\\n정동원, 안타까운 가정사…\"아버지, 여친 명의로 아들 카페 개관\"\\n\\n\\n\\n\\n\\n\\n\\n\\n\\n공감\\n김창옥 \"오은영 상담 프로 섭외 와서 거절…\\'날 대체 뭐로 보고?\\'\"\\n\\n\\n\\n\\n\\n\\n\\n\\n\\n비공감\\n선우은숙 \"♥유영재, 설에 시댁 안 가 서운하다고…갈 마음 없었다\"\\n\\n\\n\\n\\n\\n\\n\\n\\n\\n\\n\\n\\n\\n故이선균 협박녀 얼굴 공개됐다…\"95년생 미혼모\" 신상공개한 유튜버\\n\\n\\n\\n\\n\\n\\n\\n\\n\\n\"자승 스님 몸에서도 돌이…\" 불교계 미스터리 \\'사리\\'는 어떻게 생기나\\n\\n\\n\\n\\n\\n\\n\\n\\n\\n\"남편은 재벌3세\" 남현희, 15살 연하와 재혼…이혼 두달 만\\n\\n\\n\\n\\n\\n\\n\\n\\n\\n공감\\n[영상]\"이강인, 손흥민에 패스 안 해 실점\"…요르단전 이 장면 \\'시끌\\'\\n\\n\\n\\n\\n\\n\\n\\n\\n\\n비공감\\n\"피의자가 국가대표 해도 되나요\"…황의조 출전에 비판 잇따라\\n\\n\\n\\n\\n\\n\\n\\n\\n\\n\\n\\n\\n\\n김학래, 4억 빚이 100억으로…투자실패·빚보증 덤터기까지\\n\\n\\n\\n\\n\\n\\n\\n\\n\\n박수홍 아내에 법인 돈 6769만원이…\"친형이 보냈다\", 왜\\n\\n\\n\\n\\n\\n\\n\\n\\n\\n조폭 출신 유튜버 억달이형, 자택서 숨진 채 발견\\n\\n\\n\\n\\n\\n\\n\\n\\n\\n공감\\n서초 교사 사망이 오은영 탓? … 소아정신과 박사, \\'금쪽이\\' 방송 저격\\n\\n\\n\\n\\n\\n\\n\\n\\n\\n비공감\\n불륜·혼외자로 이혼한 유명 트로트가수…\"전처와 또 두집살림\"\\n\\n\\n\\n\\n\\n\\n\\n\\n\\n\\n\\n\\n\\n\\n오피니언\\n\\n\\n\\n\\n\\n\\n 상장 후 실적쇼크 후폭풍\\n\\n\\n 우리가 보는 세상 \\n\\n\\n\\n\\n\\n\\n\\n\\n\\n알리의 \\'1000원 딸기\\'가 두려운 이유\\n\\n\\n 기자수첩 \\n\\n\\n\\n\\n\\n\\n\\n\\n\\n유권자는 지쳤다…비방으로 변질된 미국 대선 \\n\\n\\n 기자수첩 \\n\\n\\n\\n\\n\\n\\n\\n\\n\\n\\n\\n\\n\\nPADO\\n\\n\\n젊은 남성과 여성이 점점 더 멀어지고 있다\\n\\n\\n스타뉴스\\n\\n\\n천만 앞둔 \\'파묘\\' 겹경사..브뤼셀 판타스틱 영화제 공식 초청\\n\\n\\nIZE\\n\\n\\n진입장벽 하나둘 넘을수록 배가되는 재미와 몰입도, \\'...\\n\\n\\nthe300\\n\\n\\n\"독도는 일본땅, 한국이 불법 점거\" 日교과서 왜곡…정부 \"강력 항의\"\\n\\n\\n유니콘팩토리\\n\\n\\n배터리 패러다임 바꾸는 EU…주목할 韓 스타트업은\\n\\n\\n티타임즈\\n\\n\\n설계에서 생산까지~ 미국의 반도체 굴기가 시작됐다\\n\\n\\nthe L\\n\\n\\n대법 \"매출 감소 없었다면 불법파업 손해액에서 제외해야\"\\n\\n\\n스타일M\\n\\n\\n한혜진, 복근+각선미 뽐낸 민트빛 패션…모델과 같은 옷 다른 느낌\\n\\n\\n더리더\\n\\n\\n\\'중부내륙시대\\' 발돋움…김영환 지사가 그리는 \\'중심(中心) 충북\\'\\n\\n\\n\\n\\n\\n\\n\\n\\n\\n\\n\\n\\n\\n\\n\\n\\n\\n\\n\\n\\n\\n\\n\\n\\n\\n\\n\\n\\n\\n\\n\\n\\n\\n\\n\\n\\n\\n\\n\\n\\n\\n\\n\\n\\n\\n\\n\\n\\n\\n포토 / 영상\\n\\n\\n\\n\\n\\n\\n\\n11\\n한미 연합 통합화력훈련 실시\\n\\n\\n\\n\\n\\n\\n\\n7\\n\\'제21회 대한민국 IB대상\\' 개최\\n\\n\\n\\n\\n\\n\\n\\n3\\n안국진 감독 \\'댓글부대, 믿고 보세요\\'\\n\\n\\n\\n\\n\\n\\n\\n4\\n손석구 \\'매력 폭발\\'\\n\\n\\n\\n\\n\\n\\n\\n\\n\\n\\n롯데월드, 하루 빌리는데 얼마나 들까?\\n\\n\\n\\n\\n\\n\\n\\n\\n결혼식에 목숨 건 인도 억만장자 가문\\n\\n\\n\\n\\n\\n\\n\\n\\n알리, 테무가  한국 쇼핑몰에 비해 저렴한 진짜 이유\\n\\n\\n\\n\\n\\n\\n\\n\\n클린스만 경질 위약금만 100억인데..  축구 협회는 어떻게 돈을 벌까?\\n\\n\\n\\n\\n\\n\\n\\n\\n\\n\\n\\n11\\n2024 갑진년 새해\\n\\n\\n\\n\\n\\n\\n\\n7\\n\\'제6회 대한민국 법무대상\\' 개최\\n\\n\\n\\n\\n\\n\\n\\n16\\n\\'유명인 사칭 온라인 피싱범죄 해결 촉구\\'\\n\\n\\n\\n\\n\\n\\n\\n12\\n소디엑 \\'대체불가 매력남\\'\\n\\n\\n\\n\\n\\n\\n\\n\\n\\n\\n가격은 올랐는데 소주 도수는 내리는 업계의 꼼수\\n\\n\\n\\n\\n\\n\\n\\n\\n한국 장악한 중국 게임, 이순신 장군 욕보였던 그 회사\\n\\n\\n\\n\\n\\n\\n\\n\\n설날 누워있기만 해도 30만원 벌 수 있는 꿀팁\\n\\n\\n\\n\\n\\n\\n\\n\\n기후동행카드 vs K 패스, 뭐가 저렴한지 계산해드림\\n\\n\\n\\n\\n\\n\\n\\n\\n\\n\\n\\n17\\n2023 대한민국 펀드대상\\n\\n\\n\\n\\n\\n\\n\\n31\\n\\'2023 대한민국 최우수 법률상 및 국감 스코어보드 대상\\'\\n\\n\\n\\n\\n\\n\\n\\n6\\n블랙핑크 지수 \\'예쁜눈이 반짝!\\'\\n\\n\\n\\n\\n\\n\\n\\n5\\n이종석 \\'누구에게 보내는 하트?\\'\\n\\n\\n\\n\\n\\n\\n\\n\\n\\n\\n14억 중국에서 왜 축구스타가 안 나올까\\n\\n\\n\\n\\n\\n\\n\\n\\n계속된 지방인구 감소.. 섬나라 \\'진도\\'가 제시한 이 해법은?\\n\\n\\n\\n\\n\\n\\n\\n\\n광고계 복귀한 이효리가 반년만에 번 충격적인 수입;;\\n\\n\\n\\n\\n\\n\\n\\n\\n만원으로 20억 벌기, 다이아가 널려있는 이 곳의 정체\\n\\n\\n\\n\\n\\n\\n\\n이전\\n\\n다음\\n\\n\\n\\n\\n\\n\\n\\n\\n\\n\\n\\n\\n\\n뉴스\\n\\n\\n경제정책\\n증권\\n정치\\n부동산\\n국제경제\\n사회\\n산업\\nIT\\n\\n\\n\\n\\n금융\\n벤처·스타트업\\n블록체인\\n문화\\n포토\\n영상\\n전체기사\\n\\n\\n\\n\\n\\n\\n증권\\n\\n뉴스\\n\\n시세/공시\\n포인트&전략\\n펀드\\n종목대해부\\n베스트리포트\\nMY스톡\\n\\n\\n\\n\\n헬스·바이오\\n최신기사\\n\\n\\n\\n\\n칼럼\\n데스크칼럼\\n사내칼럼\\n현장리포트\\n사외칼럼\\nSUCCESS\\nSCIENCE\\n\\n\\n\\n\\n연예\\n연예\\n\\n\\n스포츠\\n\\n\\n\\n\\n\\n이슈\\n핫이슈\\n실시간급상승\\n베스트클릭\\n사람&\\n\\n\\n\\n\\nMT리포트\\nMT리포트\\n시세판\\n시세판\\n속보창\\n속보창\\n\\n\\n\\n\\n\\n\\n\\n\\n\\n전문지·서비스\\nVIP 머니투데이\\n스타뉴스\\n스타일M\\n스포탈코리아\\nOSEN\\n키플랫폼\\n티타임즈\\nMT해양\\n\\n\\n\\n\\n전문지·서비스\\nthe300\\nthebell\\ntheL\\n유니콘팩토리\\nPADO\\nMTN\\n노트펫\\n앱어워드\\n이로운넷\\n\\n\\n\\n\\n전문지·서비스\\nPIXTA\\n\\n\\n\\n\\n매거진\\n머니S\\n더리더\\n대학경제\\n로피시엘\\n레옹\\nIZE\\n\\n\\n\\n\\n캠페인\\nU클린\\n쿨머니\\n\\n\\n\\n\\n\\n머니투데이 공식 SNS 채널\\n\\n\\n\\nSNS\\nMT 페이스북\\nMT 인스타그램\\nMT 트위터\\nMT 틱톡\\nMT 네이버포스트\\n\\n\\n\\n\\nSNS\\nMT 유튜브\\n싱글파이어 유튜브\\n부릿지 유튜브\\n부꾸미 유튜브\\n\\n\\n\\n\\n\\n\\n\\n\\n\\n\\n\\n\\n머니투데이\\n회사소개\\n구독신청\\n개인정보처리방침\\n청소년보호정책\\n이용약관\\n광고안내\\n제휴안내\\n저작권규약\\n기사제보\\n고충처리\\n\\n\\n주소\\xa0서울특별시 종로구 청계천로 11 청계한국빌딩 (서린동)\\xa0\\xa0\\xa0제호\\xa0머니투데이\\xa0\\xa0\\xa0등록번호\\xa0서울 아 01084\\xa0\\xa0\\xa0등록일\\xa02009.12.24사업자등록번호\\xa0762-86-02890\\xa0\\xa0\\xa0발행일\\xa02000.01.01\\xa0\\xa0\\xa0ISSN\\xa02636-0055대표이사/발행인/편집인\\xa0정희경\\xa0\\xa0\\xa0대표번호\\xa002-724-7700\\xa0\\xa0\\xa0청소년 보호책임자\\xa0신택균\\n머니투데이의 모든 기사(콘텐츠)는 저작권법의 보호를 받으며, 무단 전재 복사 배포 등을 금지합니다.COPYRIGHT © MONEYTODAY ALL RIGHTS RESERVED.\\n\\n\\n\\n\\n\\n\\n\\n\\n\\n\\n\\n\\n\\n\\n\\n\\n\\n\\n\\n\\n\\n\\n\\n\\n\\n\\n\\n\\n\\n\\n\\n\\n\\n\\n\\n\\n'"
      ]
     },
     "execution_count": 63,
     "metadata": {},
     "output_type": "execute_result"
    }
   ],
   "source": [
    "df.iloc[4][\"content\"]"
   ]
  },
  {
   "cell_type": "code",
   "execution_count": 61,
   "id": "4e620bd7-7c04-48c2-8d8e-8f3fc90283a5",
   "metadata": {
    "execution": {
     "iopub.execute_input": "2024-03-22T08:20:03.677009Z",
     "iopub.status.busy": "2024-03-22T08:20:03.675073Z",
     "iopub.status.idle": "2024-03-22T08:20:03.702811Z",
     "shell.execute_reply": "2024-03-22T08:20:03.701458Z",
     "shell.execute_reply.started": "2024-03-22T08:20:03.676961Z"
    }
   },
   "outputs": [],
   "source": [
    "def get_markdown(index):\n",
    "    content = df.iloc[index][\"content_filtered\"]\n",
    "    title = f'{df.iloc[index][\"일자\"]}_{df.iloc[index][\"언론사\"]}'\n",
    "    save_to_markdown(content=content, file_path=f\"./{title}.md\")"
   ]
  },
  {
   "cell_type": "code",
   "execution_count": 62,
   "id": "958d1c57-a006-44ed-9fbb-e061a7bb1820",
   "metadata": {
    "execution": {
     "iopub.execute_input": "2024-03-22T08:20:04.801722Z",
     "iopub.status.busy": "2024-03-22T08:20:04.800863Z",
     "iopub.status.idle": "2024-03-22T08:20:04.817772Z",
     "shell.execute_reply": "2024-03-22T08:20:04.816911Z",
     "shell.execute_reply.started": "2024-03-22T08:20:04.801694Z"
    }
   },
   "outputs": [],
   "source": [
    "get_markdown(4)"
   ]
  },
  {
   "cell_type": "code",
   "execution_count": 28,
   "id": "1843e461-b355-4655-b9a0-500513f782ad",
   "metadata": {
    "execution": {
     "iopub.execute_input": "2024-04-07T07:52:44.630520Z",
     "iopub.status.busy": "2024-04-07T07:52:44.629677Z",
     "iopub.status.idle": "2024-04-07T07:52:44.643399Z",
     "shell.execute_reply": "2024-04-07T07:52:44.642881Z",
     "shell.execute_reply.started": "2024-04-07T07:52:44.630491Z"
    },
    "scrolled": true
   },
   "outputs": [],
   "source": [
    "save_to_markdown(text, \"hk_test.md\")"
   ]
  },
  {
   "cell_type": "markdown",
   "id": "4a258ae1-5f1e-412b-b388-1e1a0329c881",
   "metadata": {},
   "source": [
    "### to CSV"
   ]
  },
  {
   "cell_type": "code",
   "execution_count": 190,
   "id": "3482d747-7e3c-4289-8842-e36b954bf1ed",
   "metadata": {
    "execution": {
     "iopub.execute_input": "2024-03-23T13:46:53.619837Z",
     "iopub.status.busy": "2024-03-23T13:46:53.617124Z",
     "iopub.status.idle": "2024-03-23T13:46:54.920575Z",
     "shell.execute_reply": "2024-03-23T13:46:54.917125Z",
     "shell.execute_reply.started": "2024-03-23T13:46:53.619804Z"
    }
   },
   "outputs": [],
   "source": [
    "df.to_csv(\"./hunting_content.csv\")"
   ]
  },
  {
   "cell_type": "code",
   "execution_count": 2,
   "id": "b84d1098-895d-48bc-880e-c7e2be7c4e4d",
   "metadata": {
    "execution": {
     "iopub.execute_input": "2024-03-22T06:55:54.304130Z",
     "iopub.status.busy": "2024-03-22T06:55:54.285349Z",
     "iopub.status.idle": "2024-03-22T06:55:54.373499Z",
     "shell.execute_reply": "2024-03-22T06:55:54.373171Z",
     "shell.execute_reply.started": "2024-03-22T06:55:54.304071Z"
    }
   },
   "outputs": [],
   "source": [
    "import pandas as pd\n",
    "\n",
    "df = pd.read_csv(\"./hunting_content.csv\")"
   ]
  },
  {
   "cell_type": "markdown",
   "id": "12f21154-10ea-418c-8689-8dae0be0ba29",
   "metadata": {},
   "source": [
    "## Location Information"
   ]
  },
  {
   "cell_type": "code",
   "execution_count": 3,
   "id": "8ed2961a-11b4-4a48-ad4b-6ae6c3a3916a",
   "metadata": {
    "execution": {
     "iopub.execute_input": "2024-03-22T06:56:03.370899Z",
     "iopub.status.busy": "2024-03-22T06:56:03.366949Z",
     "iopub.status.idle": "2024-03-22T06:56:03.383952Z",
     "shell.execute_reply": "2024-03-22T06:56:03.382769Z",
     "shell.execute_reply.started": "2024-03-22T06:56:03.370706Z"
    }
   },
   "outputs": [],
   "source": [
    "import numpy as np"
   ]
  },
  {
   "cell_type": "code",
   "execution_count": 4,
   "id": "acb752b2-08cb-4f49-a0b5-04a8e396ea7b",
   "metadata": {
    "execution": {
     "iopub.execute_input": "2024-03-22T06:56:07.432280Z",
     "iopub.status.busy": "2024-03-22T06:56:07.431367Z",
     "iopub.status.idle": "2024-03-22T06:56:07.450822Z",
     "shell.execute_reply": "2024-03-22T06:56:07.450080Z",
     "shell.execute_reply.started": "2024-03-22T06:56:07.432231Z"
    }
   },
   "outputs": [],
   "source": [
    "df_loc = df[np.isnan(df[\"위도\"]) == False][[\"지역\", \"위도\", \"경도\"]]"
   ]
  },
  {
   "cell_type": "code",
   "execution_count": 5,
   "id": "f9a9036b-730e-4f2f-8242-051f2b2093e2",
   "metadata": {
    "execution": {
     "iopub.execute_input": "2024-03-22T06:56:09.468269Z",
     "iopub.status.busy": "2024-03-22T06:56:09.467786Z",
     "iopub.status.idle": "2024-03-22T06:56:09.471985Z",
     "shell.execute_reply": "2024-03-22T06:56:09.471550Z",
     "shell.execute_reply.started": "2024-03-22T06:56:09.468254Z"
    }
   },
   "outputs": [
    {
     "name": "stdout",
     "output_type": "stream",
     "text": [
      "'서구 초장동', '중구 대청동1가', '종로구 인의동', '동작구 노량진동', '남양주시 금곡동', '부천시 중동', '부산진구 부암동', '강남구 삼성동', '북구 풍향동', '서초구서초동', '강남구 삼성동', '경기 성남시 삼평동', '원주시 무실동', '울산 남구 신정동', '제주 서귀포시 서흥동', '광주 서구 치평동', '제주시 연동', '경기 의왕시 의천동', '서울시 노원구 공릉동', '서울시', '부산시 동구', '경기도 고양시 덕양구', '대구시 동구', '인천시 부평구', '부산시', '대구시', '대구광역시청 동인청사', '부산 중구청', '대구', '부산 서구 구청', '부산\n",
      "(부산광역시 \n",
      "부산진구 서면\n",
      "(부전동) \n",
      "한 오피스텔 \n",
      "공동현관)', '부산', '논산\n",
      "논산중앙초등학교 (충청남도 논산시)', '논산', '논산', "
     ]
    }
   ],
   "source": [
    "for item in df_loc[\"지역\"]:\n",
    "    print(f\"\\'{item}\\'\", end=\", \")"
   ]
  },
  {
   "cell_type": "markdown",
   "id": "4057bd0d-5dcd-4558-951a-218bdb925303",
   "metadata": {},
   "source": [
    "## Restoring URL "
   ]
  },
  {
   "cell_type": "code",
   "execution_count": 219,
   "id": "d123e58c-1c0f-489e-8d13-bf4384b8121e",
   "metadata": {},
   "outputs": [],
   "source": [
    "df_org = pd.read_csv(\"./hunting.csv\")"
   ]
  },
  {
   "cell_type": "code",
   "execution_count": 220,
   "id": "bed54e9c-6b99-4b05-b266-b8843db837d2",
   "metadata": {},
   "outputs": [],
   "source": [
    "df[\"URL\"] = df_org[\"URL\"]"
   ]
  },
  {
   "cell_type": "code",
   "execution_count": 221,
   "id": "44d4745c-b7ac-435b-a800-0951980740d3",
   "metadata": {},
   "outputs": [
    {
     "data": {
      "text/plain": [
       "'http://news.moneytoday.co.kr/view/mtview.php?no=2024020518521145825&type=2'"
      ]
     },
     "execution_count": 221,
     "metadata": {},
     "output_type": "execute_result"
    }
   ],
   "source": [
    "df.iloc[4][\"URL\"]"
   ]
  },
  {
   "cell_type": "markdown",
   "id": "d338c494-c22c-41aa-aea9-7c94a1d1a71f",
   "metadata": {},
   "source": [
    "## Process"
   ]
  },
  {
   "cell_type": "markdown",
   "id": "52fbb4af-7ecd-481d-a72b-d2bd561146e0",
   "metadata": {},
   "source": [
    "### import"
   ]
  },
  {
   "cell_type": "code",
   "execution_count": 109,
   "id": "987a6068-ad58-46de-b3d6-46345102bb57",
   "metadata": {
    "execution": {
     "iopub.execute_input": "2024-05-18T13:23:11.277309Z",
     "iopub.status.busy": "2024-05-18T13:23:11.275625Z",
     "iopub.status.idle": "2024-05-18T13:23:11.358106Z",
     "shell.execute_reply": "2024-05-18T13:23:11.357701Z",
     "shell.execute_reply.started": "2024-05-18T13:23:11.277278Z"
    }
   },
   "outputs": [],
   "source": [
    "import pandas as pd \n",
    "import numpy as np\n",
    "import math\n",
    "import re\n",
    "\n",
    "from icecream import ic\n",
    "from tqdm.notebook import tqdm \n",
    "\n",
    "from utils.custom_utils import load_var, save_var"
   ]
  },
  {
   "cell_type": "code",
   "execution_count": 41,
   "id": "2a2e76f0-4737-435b-a951-7c5e49dd647a",
   "metadata": {
    "execution": {
     "iopub.execute_input": "2024-05-18T12:29:12.805582Z",
     "iopub.status.busy": "2024-05-18T12:29:12.804526Z",
     "iopub.status.idle": "2024-05-18T12:29:12.824265Z",
     "shell.execute_reply": "2024-05-18T12:29:12.823104Z",
     "shell.execute_reply.started": "2024-05-18T12:29:12.805549Z"
    }
   },
   "outputs": [],
   "source": [
    "from selenium import webdriver \n",
    "from selenium.webdriver.common.action_chains import ActionChains \n",
    "from selenium.webdriver.common.by import By\n",
    "from selenium.webdriver.common.keys import Keys\n",
    "from selenium.common.exceptions import InvalidArgumentException, WebDriverException\n",
    "\n",
    "from time import sleep\n",
    "from tqdm import tqdm\n",
    "\n",
    "import pandas as pd"
   ]
  },
  {
   "cell_type": "code",
   "execution_count": 30,
   "id": "0b8dd9b2-2870-4d33-9dfb-237d0c9ff691",
   "metadata": {
    "execution": {
     "iopub.execute_input": "2024-05-18T12:11:53.318744Z",
     "iopub.status.busy": "2024-05-18T12:11:53.317156Z",
     "iopub.status.idle": "2024-05-18T12:11:56.529257Z",
     "shell.execute_reply": "2024-05-18T12:11:56.524893Z",
     "shell.execute_reply.started": "2024-05-18T12:11:53.318721Z"
    }
   },
   "outputs": [],
   "source": [
    "driver = webdriver.Chrome()"
   ]
  },
  {
   "cell_type": "code",
   "execution_count": 31,
   "id": "9c4c87ee-27e0-4fb7-8ce7-b53660b7ac0a",
   "metadata": {
    "execution": {
     "iopub.execute_input": "2024-05-18T12:12:20.775301Z",
     "iopub.status.busy": "2024-05-18T12:12:20.774142Z",
     "iopub.status.idle": "2024-05-18T12:12:20.784696Z",
     "shell.execute_reply": "2024-05-18T12:12:20.784313Z",
     "shell.execute_reply.started": "2024-05-18T12:12:20.775266Z"
    }
   },
   "outputs": [
    {
     "data": {
      "text/plain": [
       "selenium.webdriver.chrome.webdriver.WebDriver"
      ]
     },
     "execution_count": 31,
     "metadata": {},
     "output_type": "execute_result"
    }
   ],
   "source": [
    "type(driver)"
   ]
  },
  {
   "cell_type": "markdown",
   "id": "94f2eb0d-f5a4-4ec0-89af-1d6d088c9e76",
   "metadata": {},
   "source": [
    "### def: get_html_selenium()"
   ]
  },
  {
   "cell_type": "code",
   "execution_count": 39,
   "id": "d3c0f4f3-5588-4190-9f7d-568954da6efb",
   "metadata": {
    "execution": {
     "iopub.execute_input": "2024-05-18T12:23:37.946741Z",
     "iopub.status.busy": "2024-05-18T12:23:37.945789Z",
     "iopub.status.idle": "2024-05-18T12:23:37.961582Z",
     "shell.execute_reply": "2024-05-18T12:23:37.960658Z",
     "shell.execute_reply.started": "2024-05-18T12:23:37.946667Z"
    }
   },
   "outputs": [],
   "source": [
    "def get_html_selenium(\n",
    "    url: str,\n",
    "    driver: webdriver.chrome.webdriver.WebDriver\n",
    ") -> str:\n",
    "    try:\n",
    "        driver.get(url=url)\n",
    "        body = driver.find_element(by=By.TAG_NAME, value=\"body\")\n",
    "        # return clean_text(clean_text(body.text.replace(\"\\n\", \" \")))\n",
    "        return body.get_attribute('outerHTML')\n",
    "    \n",
    "    except InvalidArgumentException as e:\n",
    "        print(f\"Invalid argument exception: {e}\")\n",
    "        return \"\"\n",
    "\n",
    "    except WebDriverException as e:\n",
    "        print(f\"WebDriverException: {e}\")\n",
    "        return \"\"\n"
   ]
  },
  {
   "cell_type": "markdown",
   "id": "d40f7e60-f264-4b02-a693-c6ede30f8591",
   "metadata": {},
   "source": [
    "### def: get_article_text()"
   ]
  },
  {
   "cell_type": "code",
   "execution_count": 34,
   "id": "597b7644-a1c4-4b73-89fe-367c73431be1",
   "metadata": {
    "execution": {
     "iopub.execute_input": "2024-05-18T12:13:34.247477Z",
     "iopub.status.busy": "2024-05-18T12:13:34.245233Z",
     "iopub.status.idle": "2024-05-18T12:13:34.313269Z",
     "shell.execute_reply": "2024-05-18T12:13:34.271880Z",
     "shell.execute_reply.started": "2024-05-18T12:13:34.247446Z"
    }
   },
   "outputs": [],
   "source": [
    "def get_article_text(\n",
    "    url, \n",
    "    driver: webdriver.chrome.webdriver.WebDriver\n",
    "):\n",
    "    driver.get(url=url)\n",
    "    res_src = driver.page_source\n",
    "    article_body = driver.find_element(by=By.CLASS_NAME, value=\"article-body\")\n",
    "    text = article_body.text\n",
    "    return text"
   ]
  },
  {
   "cell_type": "markdown",
   "id": "cf7a0f72-3c4c-4276-b388-b3877ef88e0b",
   "metadata": {},
   "source": [
    "### data"
   ]
  },
  {
   "cell_type": "code",
   "execution_count": 7,
   "id": "4d7412af-cc00-4ae7-bcbd-d7c8dfd564a8",
   "metadata": {
    "execution": {
     "iopub.execute_input": "2024-05-18T11:58:31.903269Z",
     "iopub.status.busy": "2024-05-18T11:58:31.902605Z",
     "iopub.status.idle": "2024-05-18T11:58:32.209876Z",
     "shell.execute_reply": "2024-05-18T11:58:32.209424Z",
     "shell.execute_reply.started": "2024-05-18T11:58:31.903230Z"
    }
   },
   "outputs": [],
   "source": [
    "df = pd.read_excel(\"./dataframe/EDITED_1_바바리맨_자연어_한국경제_2013.1.1~2022.3.7 (1).xlsx\")"
   ]
  },
  {
   "cell_type": "markdown",
   "id": "d8d4acb1-c235-4139-ad74-c481b07e3abe",
   "metadata": {},
   "source": [
    "#### inspection"
   ]
  },
  {
   "cell_type": "code",
   "execution_count": 8,
   "id": "039b0aec-6f37-42e9-a6d9-f0091071ea30",
   "metadata": {
    "collapsed": true,
    "execution": {
     "iopub.execute_input": "2024-05-18T11:58:49.898648Z",
     "iopub.status.busy": "2024-05-18T11:58:49.896546Z",
     "iopub.status.idle": "2024-05-18T11:58:49.938904Z",
     "shell.execute_reply": "2024-05-18T11:58:49.938540Z",
     "shell.execute_reply.started": "2024-05-18T11:58:49.898597Z"
    },
    "jupyter": {
     "outputs_hidden": true
    },
    "scrolled": true
   },
   "outputs": [
    {
     "name": "stdout",
     "output_type": "stream",
     "text": [
      "<class 'pandas.core.frame.DataFrame'>\n",
      "RangeIndex: 377 entries, 0 to 376\n",
      "Data columns (total 16 columns):\n",
      " #   Column  Non-Null Count  Dtype  \n",
      "---  ------  --------------  -----  \n",
      " 0   범죄 유형   0 non-null      float64\n",
      " 1   지역      0 non-null      float64\n",
      " 2   위도      0 non-null      float64\n",
      " 3   경도      0 non-null      float64\n",
      " 4   중복 여부   0 non-null      float64\n",
      " 5   퀄리티     0 non-null      float64\n",
      " 6   제외 여부   0 non-null      float64\n",
      " 7   기사제목    377 non-null    object \n",
      " 8   사건 장소   328 non-null    object \n",
      " 9   수사 기관   377 non-null    object \n",
      " 10  본문      377 non-null    object \n",
      " 11  URL     209 non-null    object \n",
      " 12  일자      377 non-null    int64  \n",
      " 13  언론사     377 non-null    object \n",
      " 14  기고자     286 non-null    object \n",
      " 15  비고      0 non-null      float64\n",
      "dtypes: float64(8), int64(1), object(7)\n",
      "memory usage: 47.2+ KB\n"
     ]
    }
   ],
   "source": [
    "df.info()"
   ]
  },
  {
   "cell_type": "markdown",
   "id": "95012b9c-976f-4d4a-9c7f-e32346db0f87",
   "metadata": {
    "jp-MarkdownHeadingCollapsed": true
   },
   "source": [
    "#### features not having URL"
   ]
  },
  {
   "cell_type": "code",
   "execution_count": 13,
   "id": "e5cf7406-fd31-4162-a4bb-0aa17a37e399",
   "metadata": {
    "execution": {
     "iopub.execute_input": "2024-05-18T12:00:23.440388Z",
     "iopub.status.busy": "2024-05-18T12:00:23.439091Z",
     "iopub.status.idle": "2024-05-18T12:00:23.446988Z",
     "shell.execute_reply": "2024-05-18T12:00:23.446328Z",
     "shell.execute_reply.started": "2024-05-18T12:00:23.440334Z"
    }
   },
   "outputs": [
    {
     "name": "stdout",
     "output_type": "stream",
     "text": [
      "['범죄 유형', '지역', '위도', '경도', '중복 여부', '퀄리티', '제외 여부', '기사제목', '사건 장소', '수사 기관', '본문', 'URL', '일자', '언론사', '기고자', '비고']\n"
     ]
    }
   ],
   "source": [
    "df_columns = list(df.columns)\n",
    "print(df_columns)"
   ]
  },
  {
   "cell_type": "code",
   "execution_count": 17,
   "id": "a5c9f47f-85f9-47f4-ad7f-70cd309b9091",
   "metadata": {
    "execution": {
     "iopub.execute_input": "2024-05-18T12:01:33.878060Z",
     "iopub.status.busy": "2024-05-18T12:01:33.876337Z",
     "iopub.status.idle": "2024-05-18T12:01:33.900110Z",
     "shell.execute_reply": "2024-05-18T12:01:33.899294Z",
     "shell.execute_reply.started": "2024-05-18T12:01:33.878010Z"
    }
   },
   "outputs": [
    {
     "data": {
      "text/plain": [
       "['기사제목', 'URL']"
      ]
     },
     "execution_count": 17,
     "metadata": {},
     "output_type": "execute_result"
    }
   ],
   "source": [
    "column_filter = [df_columns[7], df_columns[11]]\n",
    "column_filter"
   ]
  },
  {
   "cell_type": "code",
   "execution_count": 22,
   "id": "34f0f2ad-34c2-4e04-bea4-318768c02cbf",
   "metadata": {
    "execution": {
     "iopub.execute_input": "2024-05-18T12:04:12.115957Z",
     "iopub.status.busy": "2024-05-18T12:04:12.113926Z",
     "iopub.status.idle": "2024-05-18T12:04:12.223635Z",
     "shell.execute_reply": "2024-05-18T12:04:12.223041Z",
     "shell.execute_reply.started": "2024-05-18T12:04:12.115918Z"
    }
   },
   "outputs": [],
   "source": [
    "# df[df[df_columns[7]].isna() == False && df_columns[11].isna() == True]\n",
    "\n",
    "df_filtered = df[(df[df_columns[7]].notna()) & (df[df_columns[11]].isna())]"
   ]
  },
  {
   "cell_type": "code",
   "execution_count": 23,
   "id": "1b8fc613-fd11-4088-b607-7d1c1ce32bdf",
   "metadata": {
    "collapsed": true,
    "execution": {
     "iopub.execute_input": "2024-05-18T12:04:24.781500Z",
     "iopub.status.busy": "2024-05-18T12:04:24.780128Z",
     "iopub.status.idle": "2024-05-18T12:04:24.823756Z",
     "shell.execute_reply": "2024-05-18T12:04:24.823434Z",
     "shell.execute_reply.started": "2024-05-18T12:04:24.781461Z"
    },
    "jupyter": {
     "outputs_hidden": true
    },
    "scrolled": true
   },
   "outputs": [
    {
     "name": "stdout",
     "output_type": "stream",
     "text": [
      "<class 'pandas.core.frame.DataFrame'>\n",
      "Index: 168 entries, 198 to 376\n",
      "Data columns (total 16 columns):\n",
      " #   Column  Non-Null Count  Dtype  \n",
      "---  ------  --------------  -----  \n",
      " 0   범죄 유형   0 non-null      float64\n",
      " 1   지역      0 non-null      float64\n",
      " 2   위도      0 non-null      float64\n",
      " 3   경도      0 non-null      float64\n",
      " 4   중복 여부   0 non-null      float64\n",
      " 5   퀄리티     0 non-null      float64\n",
      " 6   제외 여부   0 non-null      float64\n",
      " 7   기사제목    168 non-null    object \n",
      " 8   사건 장소   150 non-null    object \n",
      " 9   수사 기관   168 non-null    object \n",
      " 10  본문      168 non-null    object \n",
      " 11  URL     0 non-null      object \n",
      " 12  일자      168 non-null    int64  \n",
      " 13  언론사     168 non-null    object \n",
      " 14  기고자     82 non-null     object \n",
      " 15  비고      0 non-null      float64\n",
      "dtypes: float64(8), int64(1), object(7)\n",
      "memory usage: 22.3+ KB\n"
     ]
    }
   ],
   "source": [
    "df_filtered.info()"
   ]
  },
  {
   "cell_type": "code",
   "execution_count": 24,
   "id": "7a3961d9-5db4-40fa-930d-ac2b29497c7a",
   "metadata": {
    "collapsed": true,
    "execution": {
     "iopub.execute_input": "2024-05-18T12:04:42.136955Z",
     "iopub.status.busy": "2024-05-18T12:04:42.134211Z",
     "iopub.status.idle": "2024-05-18T12:04:42.172347Z",
     "shell.execute_reply": "2024-05-18T12:04:42.171923Z",
     "shell.execute_reply.started": "2024-05-18T12:04:42.136849Z"
    },
    "jupyter": {
     "outputs_hidden": true
    },
    "scrolled": true
   },
   "outputs": [
    {
     "data": {
      "text/html": [
       "<div>\n",
       "<style scoped>\n",
       "    .dataframe tbody tr th:only-of-type {\n",
       "        vertical-align: middle;\n",
       "    }\n",
       "\n",
       "    .dataframe tbody tr th {\n",
       "        vertical-align: top;\n",
       "    }\n",
       "\n",
       "    .dataframe thead th {\n",
       "        text-align: right;\n",
       "    }\n",
       "</style>\n",
       "<table border=\"1\" class=\"dataframe\">\n",
       "  <thead>\n",
       "    <tr style=\"text-align: right;\">\n",
       "      <th></th>\n",
       "      <th>범죄 유형</th>\n",
       "      <th>지역</th>\n",
       "      <th>위도</th>\n",
       "      <th>경도</th>\n",
       "      <th>중복 여부</th>\n",
       "      <th>퀄리티</th>\n",
       "      <th>제외 여부</th>\n",
       "      <th>기사제목</th>\n",
       "      <th>사건 장소</th>\n",
       "      <th>수사 기관</th>\n",
       "      <th>본문</th>\n",
       "      <th>URL</th>\n",
       "      <th>일자</th>\n",
       "      <th>언론사</th>\n",
       "      <th>기고자</th>\n",
       "      <th>비고</th>\n",
       "    </tr>\n",
       "  </thead>\n",
       "  <tbody>\n",
       "    <tr>\n",
       "      <th>198</th>\n",
       "      <td>NaN</td>\n",
       "      <td>NaN</td>\n",
       "      <td>NaN</td>\n",
       "      <td>NaN</td>\n",
       "      <td>NaN</td>\n",
       "      <td>NaN</td>\n",
       "      <td>NaN</td>\n",
       "      <td>인천초등생살인사건, 주범이 공범보다 형량이 낮은 이유는?</td>\n",
       "      <td>인천초,김양,고구려,청원,인천초등생,인천초등,인천</td>\n",
       "      <td>서울고등법원,정부,청와대,검찰,한경닷컴</td>\n",
       "      <td>지난 15일 서울고등법원에서 지난해 온 국민을 충격으로 빠뜨린 사건 인천초등\\n학생...</td>\n",
       "      <td>NaN</td>\n",
       "      <td>20180126</td>\n",
       "      <td>한국경제</td>\n",
       "      <td>NaN</td>\n",
       "      <td>NaN</td>\n",
       "    </tr>\n",
       "    <tr>\n",
       "      <th>199</th>\n",
       "      <td>NaN</td>\n",
       "      <td>NaN</td>\n",
       "      <td>NaN</td>\n",
       "      <td>NaN</td>\n",
       "      <td>NaN</td>\n",
       "      <td>NaN</td>\n",
       "      <td>NaN</td>\n",
       "      <td>논란 '인천 여고생 폭행' 가해자 4명 이름-사진까지 노출 신상 털기 '확산'</td>\n",
       "      <td>인천시</td>\n",
       "      <td>정보통신,한경닷컴,경찰,남동구</td>\n",
       "      <td>네티즌들의 공분을 일으킨 ‘여고생 집단 폭행사건’과 관련, 가해자\\n 4명의 신상이...</td>\n",
       "      <td>NaN</td>\n",
       "      <td>20180109</td>\n",
       "      <td>한국경제</td>\n",
       "      <td>NaN</td>\n",
       "      <td>NaN</td>\n",
       "    </tr>\n",
       "    <tr>\n",
       "      <th>200</th>\n",
       "      <td>NaN</td>\n",
       "      <td>NaN</td>\n",
       "      <td>NaN</td>\n",
       "      <td>NaN</td>\n",
       "      <td>NaN</td>\n",
       "      <td>NaN</td>\n",
       "      <td>NaN</td>\n",
       "      <td>'인천여고생 집단폭행에 성매매 강요' 가해자 전원 체포 구출 도운 성매수男 처벌은?</td>\n",
       "      <td>오산휴게소,부산,삭제,인천,봉담,인천시,수도권</td>\n",
       "      <td>남동경찰서,인천지방경찰청,한경닷컴,경찰,남동구,A씨,정보통신,방송</td>\n",
       "      <td>인천 여고생을 집단폭행하고 성매매를 강요했던 가해자 4명이 경찰에 잡혔다. \\n\\n...</td>\n",
       "      <td>NaN</td>\n",
       "      <td>20180109</td>\n",
       "      <td>한국경제</td>\n",
       "      <td>NaN</td>\n",
       "      <td>NaN</td>\n",
       "    </tr>\n",
       "    <tr>\n",
       "      <th>201</th>\n",
       "      <td>NaN</td>\n",
       "      <td>NaN</td>\n",
       "      <td>NaN</td>\n",
       "      <td>NaN</td>\n",
       "      <td>NaN</td>\n",
       "      <td>NaN</td>\n",
       "      <td>NaN</td>\n",
       "      <td>‘인천 여고생’ 집단 폭행, 성매매 강요 가해자들.. 휴게소서 체포</td>\n",
       "      <td>오산,인천,남동구,남동,부산</td>\n",
       "      <td>경찰서,한경닷컴,간석동,경찰,고속도로순찰대</td>\n",
       "      <td>인천에서 여고생을 감금 및 집단 폭행하고 성매매까지 강요한 가해자들이 붙잡\\n혔다....</td>\n",
       "      <td>NaN</td>\n",
       "      <td>20180108</td>\n",
       "      <td>한국경제</td>\n",
       "      <td>NaN</td>\n",
       "      <td>NaN</td>\n",
       "    </tr>\n",
       "    <tr>\n",
       "      <th>202</th>\n",
       "      <td>NaN</td>\n",
       "      <td>NaN</td>\n",
       "      <td>NaN</td>\n",
       "      <td>NaN</td>\n",
       "      <td>NaN</td>\n",
       "      <td>NaN</td>\n",
       "      <td>NaN</td>\n",
       "      <td>인천 여고생 집단폭행, 성매매도 강요 가해자 카톡 보니 '섬뜩'</td>\n",
       "      <td>인천,당하</td>\n",
       "      <td>안면,한경닷컴,경찰</td>\n",
       "      <td>인천에서 10대 여고생이 집단 폭행을 당하고 성매매를 강요당해 경찰이 수사에\\n 나...</td>\n",
       "      <td>NaN</td>\n",
       "      <td>20180108</td>\n",
       "      <td>한국경제</td>\n",
       "      <td>NaN</td>\n",
       "      <td>NaN</td>\n",
       "    </tr>\n",
       "  </tbody>\n",
       "</table>\n",
       "</div>"
      ],
      "text/plain": [
       "     범죄 유형  지역  위도  경도  중복 여부  퀄리티  제외 여부  \\\n",
       "198    NaN NaN NaN NaN    NaN  NaN    NaN   \n",
       "199    NaN NaN NaN NaN    NaN  NaN    NaN   \n",
       "200    NaN NaN NaN NaN    NaN  NaN    NaN   \n",
       "201    NaN NaN NaN NaN    NaN  NaN    NaN   \n",
       "202    NaN NaN NaN NaN    NaN  NaN    NaN   \n",
       "\n",
       "                                               기사제목  \\\n",
       "198                 인천초등생살인사건, 주범이 공범보다 형량이 낮은 이유는?   \n",
       "199     논란 '인천 여고생 폭행' 가해자 4명 이름-사진까지 노출 신상 털기 '확산'   \n",
       "200  '인천여고생 집단폭행에 성매매 강요' 가해자 전원 체포 구출 도운 성매수男 처벌은?   \n",
       "201           ‘인천 여고생’ 집단 폭행, 성매매 강요 가해자들.. 휴게소서 체포   \n",
       "202             인천 여고생 집단폭행, 성매매도 강요 가해자 카톡 보니 '섬뜩'   \n",
       "\n",
       "                           사건 장소                                 수사 기관  \\\n",
       "198  인천초,김양,고구려,청원,인천초등생,인천초등,인천                 서울고등법원,정부,청와대,검찰,한경닷컴   \n",
       "199                          인천시                      정보통신,한경닷컴,경찰,남동구   \n",
       "200    오산휴게소,부산,삭제,인천,봉담,인천시,수도권  남동경찰서,인천지방경찰청,한경닷컴,경찰,남동구,A씨,정보통신,방송   \n",
       "201              오산,인천,남동구,남동,부산               경찰서,한경닷컴,간석동,경찰,고속도로순찰대   \n",
       "202                        인천,당하                            안면,한경닷컴,경찰   \n",
       "\n",
       "                                                    본문  URL        일자   언론사  \\\n",
       "198  지난 15일 서울고등법원에서 지난해 온 국민을 충격으로 빠뜨린 사건 인천초등\\n학생...  NaN  20180126  한국경제   \n",
       "199  네티즌들의 공분을 일으킨 ‘여고생 집단 폭행사건’과 관련, 가해자\\n 4명의 신상이...  NaN  20180109  한국경제   \n",
       "200  인천 여고생을 집단폭행하고 성매매를 강요했던 가해자 4명이 경찰에 잡혔다. \\n\\n...  NaN  20180109  한국경제   \n",
       "201  인천에서 여고생을 감금 및 집단 폭행하고 성매매까지 강요한 가해자들이 붙잡\\n혔다....  NaN  20180108  한국경제   \n",
       "202  인천에서 10대 여고생이 집단 폭행을 당하고 성매매를 강요당해 경찰이 수사에\\n 나...  NaN  20180108  한국경제   \n",
       "\n",
       "     기고자  비고  \n",
       "198  NaN NaN  \n",
       "199  NaN NaN  \n",
       "200  NaN NaN  \n",
       "201  NaN NaN  \n",
       "202  NaN NaN  "
      ]
     },
     "execution_count": 24,
     "metadata": {},
     "output_type": "execute_result"
    }
   ],
   "source": [
    "df_filtered.head()"
   ]
  },
  {
   "cell_type": "markdown",
   "id": "0ecd7606-02f7-4f5b-99f4-bf12c9f1eeb2",
   "metadata": {},
   "source": [
    "#### features having URL"
   ]
  },
  {
   "cell_type": "code",
   "execution_count": 25,
   "id": "d17a7311-4bcb-41a6-9958-baa02d9d0917",
   "metadata": {
    "execution": {
     "iopub.execute_input": "2024-05-18T12:07:57.481925Z",
     "iopub.status.busy": "2024-05-18T12:07:57.479806Z",
     "iopub.status.idle": "2024-05-18T12:07:57.514398Z",
     "shell.execute_reply": "2024-05-18T12:07:57.514019Z",
     "shell.execute_reply.started": "2024-05-18T12:07:57.481828Z"
    }
   },
   "outputs": [],
   "source": [
    "df_filtered = df[df[df_columns[11]].isna() == False]"
   ]
  },
  {
   "cell_type": "code",
   "execution_count": 26,
   "id": "383105da-ce7d-44c7-8faa-ead08298d26f",
   "metadata": {
    "collapsed": true,
    "execution": {
     "iopub.execute_input": "2024-05-18T12:08:04.142945Z",
     "iopub.status.busy": "2024-05-18T12:08:04.142276Z",
     "iopub.status.idle": "2024-05-18T12:08:04.164963Z",
     "shell.execute_reply": "2024-05-18T12:08:04.164492Z",
     "shell.execute_reply.started": "2024-05-18T12:08:04.142921Z"
    },
    "jupyter": {
     "outputs_hidden": true
    },
    "scrolled": true
   },
   "outputs": [
    {
     "name": "stdout",
     "output_type": "stream",
     "text": [
      "<class 'pandas.core.frame.DataFrame'>\n",
      "Index: 209 entries, 0 to 271\n",
      "Data columns (total 16 columns):\n",
      " #   Column  Non-Null Count  Dtype  \n",
      "---  ------  --------------  -----  \n",
      " 0   범죄 유형   0 non-null      float64\n",
      " 1   지역      0 non-null      float64\n",
      " 2   위도      0 non-null      float64\n",
      " 3   경도      0 non-null      float64\n",
      " 4   중복 여부   0 non-null      float64\n",
      " 5   퀄리티     0 non-null      float64\n",
      " 6   제외 여부   0 non-null      float64\n",
      " 7   기사제목    209 non-null    object \n",
      " 8   사건 장소   178 non-null    object \n",
      " 9   수사 기관   209 non-null    object \n",
      " 10  본문      209 non-null    object \n",
      " 11  URL     209 non-null    object \n",
      " 12  일자      209 non-null    int64  \n",
      " 13  언론사     209 non-null    object \n",
      " 14  기고자     204 non-null    object \n",
      " 15  비고      0 non-null      float64\n",
      "dtypes: float64(8), int64(1), object(7)\n",
      "memory usage: 27.8+ KB\n"
     ]
    }
   ],
   "source": [
    "df_filtered.info()"
   ]
  },
  {
   "cell_type": "code",
   "execution_count": 28,
   "id": "97e9f135-2e32-4381-b77b-51d53602026b",
   "metadata": {
    "execution": {
     "iopub.execute_input": "2024-05-18T12:09:47.524314Z",
     "iopub.status.busy": "2024-05-18T12:09:47.522110Z",
     "iopub.status.idle": "2024-05-18T12:09:47.538351Z",
     "shell.execute_reply": "2024-05-18T12:09:47.537230Z",
     "shell.execute_reply.started": "2024-05-18T12:09:47.524287Z"
    }
   },
   "outputs": [],
   "source": [
    "index_list = df_filtered.index"
   ]
  },
  {
   "cell_type": "markdown",
   "id": "f283a515-71a6-4939-9c85-137de60a376e",
   "metadata": {
    "jp-MarkdownHeadingCollapsed": true
   },
   "source": [
    "### web scraping"
   ]
  },
  {
   "cell_type": "code",
   "execution_count": 43,
   "id": "a34b700c-9c5c-4322-83fb-d50d29facd91",
   "metadata": {
    "collapsed": true,
    "execution": {
     "iopub.execute_input": "2024-05-18T12:29:48.852733Z",
     "iopub.status.busy": "2024-05-18T12:29:48.851210Z",
     "iopub.status.idle": "2024-05-18T12:30:12.652398Z",
     "shell.execute_reply": "2024-05-18T12:30:12.651043Z",
     "shell.execute_reply.started": "2024-05-18T12:29:48.852693Z"
    },
    "jupyter": {
     "outputs_hidden": true
    },
    "scrolled": true
   },
   "outputs": [
    {
     "name": "stderr",
     "output_type": "stream",
     "text": [
      "\n",
      "  0%|                                                                                                                               | 0/72 [00:00<?, ?it/s]\u001b[A\n",
      "  1%|█▋                                                                                                                     | 1/72 [00:00<00:27,  2.59it/s]\u001b[A\n",
      "  6%|██████▌                                                                                                                | 4/72 [00:00<00:07,  9.36it/s]\u001b[A"
     ]
    },
    {
     "name": "stdout",
     "output_type": "stream",
     "text": [
      "WebDriverException: Message: unknown error: net::ERR_NAME_NOT_RESOLVED\n",
      "  (Session info: chrome=124.0.6367.208)\n",
      "Stacktrace:\n",
      "0   chromedriver                        0x0000000102f26940 chromedriver + 4368704\n",
      "1   chromedriver                        0x0000000102f1edd4 chromedriver + 4337108\n",
      "2   chromedriver                        0x0000000102b42c04 chromedriver + 289796\n",
      "3   chromedriver                        0x0000000102b3baf8 chromedriver + 260856\n",
      "4   chromedriver                        0x0000000102b2d5e0 chromedriver + 202208\n",
      "5   chromedriver                        0x0000000102b2e8d4 chromedriver + 207060\n",
      "6   chromedriver                        0x0000000102b2d8fc chromedriver + 203004\n",
      "7   chromedriver                        0x0000000102b2d294 chromedriver + 201364\n",
      "8   chromedriver                        0x0000000102b2cf5c chromedriver + 200540\n",
      "9   chromedriver                        0x0000000102b2ad20 chromedriver + 191776\n",
      "10  chromedriver                        0x0000000102b2b6bc chromedriver + 194236\n",
      "11  chromedriver                        0x0000000102b4516c chromedriver + 299372\n",
      "12  chromedriver                        0x0000000102bbdc08 chromedriver + 793608\n",
      "13  chromedriver                        0x0000000102bbd5ec chromedriver + 792044\n",
      "14  chromedriver                        0x0000000102b79ab4 chromedriver + 514740\n",
      "15  chromedriver                        0x0000000102b7a50c chromedriver + 517388\n",
      "16  chromedriver                        0x0000000102eeae5c chromedriver + 4124252\n",
      "17  chromedriver                        0x0000000102eefc4c chromedriver + 4144204\n",
      "18  chromedriver                        0x0000000102ed0824 chromedriver + 4016164\n",
      "19  chromedriver                        0x0000000102ef057c chromedriver + 4146556\n",
      "20  chromedriver                        0x0000000102ec22d8 chromedriver + 3957464\n",
      "21  chromedriver                        0x0000000102f0fec4 chromedriver + 4275908\n",
      "22  chromedriver                        0x0000000102f10040 chromedriver + 4276288\n",
      "23  chromedriver                        0x0000000102f1ea34 chromedriver + 4336180\n",
      "24  libsystem_pthread.dylib             0x00000001905df034 _pthread_start + 136\n",
      "25  libsystem_pthread.dylib             0x00000001905d9e3c thread_start + 8\n",
      "\n",
      "WebDriverException: Message: unknown error: net::ERR_NAME_NOT_RESOLVED\n",
      "  (Session info: chrome=124.0.6367.208)\n",
      "Stacktrace:\n",
      "0   chromedriver                        0x0000000102f26940 chromedriver + 4368704\n",
      "1   chromedriver                        0x0000000102f1edd4 chromedriver + 4337108\n",
      "2   chromedriver                        0x0000000102b42c04 chromedriver + 289796\n",
      "3   chromedriver                        0x0000000102b3baf8 chromedriver + 260856\n",
      "4   chromedriver                        0x0000000102b2d5e0 chromedriver + 202208\n",
      "5   chromedriver                        0x0000000102b2e8d4 chromedriver + 207060\n",
      "6   chromedriver                        0x0000000102b2d8fc chromedriver + 203004\n",
      "7   chromedriver                        0x0000000102b2d294 chromedriver + 201364\n",
      "8   chromedriver                        0x0000000102b2cf5c chromedriver + 200540\n",
      "9   chromedriver                        0x0000000102b2ad20 chromedriver + 191776\n",
      "10  chromedriver                        0x0000000102b2b6bc chromedriver + 194236\n",
      "11  chromedriver                        0x0000000102b4516c chromedriver + 299372\n",
      "12  chromedriver                        0x0000000102bbdc08 chromedriver + 793608\n",
      "13  chromedriver                        0x0000000102bbd5ec chromedriver + 792044\n",
      "14  chromedriver                        0x0000000102b79ab4 chromedriver + 514740\n",
      "15  chromedriver                        0x0000000102b7a50c chromedriver + 517388\n",
      "16  chromedriver                        0x0000000102eeae5c chromedriver + 4124252\n",
      "17  chromedriver                        0x0000000102eefc4c chromedriver + 4144204\n",
      "18  chromedriver                        0x0000000102ed0824 chromedriver + 4016164\n",
      "19  chromedriver                        0x0000000102ef057c chromedriver + 4146556\n",
      "20  chromedriver                        0x0000000102ec22d8 chromedriver + 3957464\n",
      "21  chromedriver                        0x0000000102f0fec4 chromedriver + 4275908\n",
      "22  chromedriver                        0x0000000102f10040 chromedriver + 4276288\n",
      "23  chromedriver                        0x0000000102f1ea34 chromedriver + 4336180\n",
      "24  libsystem_pthread.dylib             0x00000001905df034 _pthread_start + 136\n",
      "25  libsystem_pthread.dylib             0x00000001905d9e3c thread_start + 8\n",
      "\n",
      "WebDriverException: Message: unknown error: net::ERR_NAME_NOT_RESOLVED\n",
      "  (Session info: chrome=124.0.6367.208)\n",
      "Stacktrace:\n",
      "0   chromedriver                        0x0000000102f26940 chromedriver + 4368704\n",
      "1   chromedriver                        0x0000000102f1edd4 chromedriver + 4337108\n",
      "2   chromedriver                        0x0000000102b42c04 chromedriver + 289796\n",
      "3   chromedriver                        0x0000000102b3baf8 chromedriver + 260856\n",
      "4   chromedriver                        0x0000000102b2d5e0 chromedriver + 202208\n",
      "5   chromedriver                        0x0000000102b2e8d4 chromedriver + 207060\n",
      "6   chromedriver                        0x0000000102b2d8fc chromedriver + 203004\n",
      "7   chromedriver                        0x0000000102b2d294 chromedriver + 201364\n",
      "8   chromedriver                        0x0000000102b2cf5c chromedriver + 200540\n",
      "9   chromedriver                        0x0000000102b2ad20 chromedriver + 191776\n",
      "10  chromedriver                        0x0000000102b2b6bc chromedriver + 194236\n",
      "11  chromedriver                        0x0000000102b4516c chromedriver + 299372\n",
      "12  chromedriver                        0x0000000102bbdc08 chromedriver + 793608\n",
      "13  chromedriver                        0x0000000102bbd5ec chromedriver + 792044\n",
      "14  chromedriver                        0x0000000102b79ab4 chromedriver + 514740\n",
      "15  chromedriver                        0x0000000102b7a50c chromedriver + 517388\n",
      "16  chromedriver                        0x0000000102eeae5c chromedriver + 4124252\n",
      "17  chromedriver                        0x0000000102eefc4c chromedriver + 4144204\n",
      "18  chromedriver                        0x0000000102ed0824 chromedriver + 4016164\n",
      "19  chromedriver                        0x0000000102ef057c chromedriver + 4146556\n",
      "20  chromedriver                        0x0000000102ec22d8 chromedriver + 3957464\n",
      "21  chromedriver                        0x0000000102f0fec4 chromedriver + 4275908\n",
      "22  chromedriver                        0x0000000102f10040 chromedriver + 4276288\n",
      "23  chromedriver                        0x0000000102f1ea34 chromedriver + 4336180\n",
      "24  libsystem_pthread.dylib             0x00000001905df034 _pthread_start + 136\n",
      "25  libsystem_pthread.dylib             0x00000001905d9e3c thread_start + 8\n",
      "\n",
      "WebDriverException: Message: unknown error: net::ERR_NAME_NOT_RESOLVED\n",
      "  (Session info: chrome=124.0.6367.208)\n",
      "Stacktrace:\n",
      "0   chromedriver                        0x0000000102f26940 chromedriver + 4368704\n",
      "1   chromedriver                        0x0000000102f1edd4 chromedriver + 4337108\n",
      "2   chromedriver                        0x0000000102b42c04 chromedriver + 289796\n",
      "3   chromedriver                        0x0000000102b3baf8 chromedriver + 260856\n",
      "4   chromedriver                        0x0000000102b2d5e0 chromedriver + 202208\n",
      "5   chromedriver                        0x0000000102b2e8d4 chromedriver + 207060\n",
      "6   chromedriver                        0x0000000102b2d8fc chromedriver + 203004\n",
      "7   chromedriver                        0x0000000102b2d294 chromedriver + 201364\n",
      "8   chromedriver                        0x0000000102b2cf5c chromedriver + 200540\n",
      "9   chromedriver                        0x0000000102b2ad20 chromedriver + 191776\n",
      "10  chromedriver                        0x0000000102b2b6bc chromedriver + 194236\n",
      "11  chromedriver                        0x0000000102b4516c chromedriver + 299372\n",
      "12  chromedriver                        0x0000000102bbdc08 chromedriver + 793608\n",
      "13  chromedriver                        0x0000000102bbd5ec chromedriver + 792044\n",
      "14  chromedriver                        0x0000000102b79ab4 chromedriver + 514740\n",
      "15  chromedriver                        0x0000000102b7a50c chromedriver + 517388\n",
      "16  chromedriver                        0x0000000102eeae5c chromedriver + 4124252\n",
      "17  chromedriver                        0x0000000102eefc4c chromedriver + 4144204\n",
      "18  chromedriver                        0x0000000102ed0824 chromedriver + 4016164\n",
      "19  chromedriver                        0x0000000102ef057c chromedriver + 4146556\n",
      "20  chromedriver                        0x0000000102ec22d8 chromedriver + 3957464\n",
      "21  chromedriver                        0x0000000102f0fec4 chromedriver + 4275908\n",
      "22  chromedriver                        0x0000000102f10040 chromedriver + 4276288\n",
      "23  chromedriver                        0x0000000102f1ea34 chromedriver + 4336180\n",
      "24  libsystem_pthread.dylib             0x00000001905df034 _pthread_start + 136\n",
      "25  libsystem_pthread.dylib             0x00000001905d9e3c thread_start + 8\n",
      "\n",
      "WebDriverException: Message: unknown error: net::ERR_NAME_NOT_RESOLVED\n",
      "  (Session info: chrome=124.0.6367.208)\n",
      "Stacktrace:\n",
      "0   chromedriver                        0x0000000102f26940 chromedriver + 4368704\n",
      "1   chromedriver                        0x0000000102f1edd4 chromedriver + 4337108\n",
      "2   chromedriver                        0x0000000102b42c04 chromedriver + 289796\n",
      "3   chromedriver                        0x0000000102b3baf8 chromedriver + 260856\n",
      "4   chromedriver                        0x0000000102b2d5e0 chromedriver + 202208\n",
      "5   chromedriver                        0x0000000102b2e8d4 chromedriver + 207060\n",
      "6   chromedriver                        0x0000000102b2d8fc chromedriver + 203004\n",
      "7   chromedriver                        0x0000000102b2d294 chromedriver + 201364\n",
      "8   chromedriver                        0x0000000102b2cf5c chromedriver + 200540\n",
      "9   chromedriver                        0x0000000102b2ad20 chromedriver + 191776\n",
      "10  chromedriver                        0x0000000102b2b6bc chromedriver + 194236\n",
      "11  chromedriver                        0x0000000102b4516c chromedriver + 299372\n",
      "12  chromedriver                        0x0000000102bbdc08 chromedriver + 793608\n",
      "13  chromedriver                        0x0000000102bbd5ec chromedriver + 792044\n",
      "14  chromedriver                        0x0000000102b79ab4 chromedriver + 514740\n",
      "15  chromedriver                        0x0000000102b7a50c chromedriver + 517388\n",
      "16  chromedriver                        0x0000000102eeae5c chromedriver + 4124252\n",
      "17  chromedriver                        0x0000000102eefc4c chromedriver + 4144204\n",
      "18  chromedriver                        0x0000000102ed0824 chromedriver + 4016164\n",
      "19  chromedriver                        0x0000000102ef057c chromedriver + 4146556\n",
      "20  chromedriver                        0x0000000102ec22d8 chromedriver + 3957464\n",
      "21  chromedriver                        0x0000000102f0fec4 chromedriver + 4275908\n",
      "22  chromedriver                        0x0000000102f10040 chromedriver + 4276288\n",
      "23  chromedriver                        0x0000000102f1ea34 chromedriver + 4336180\n",
      "24  libsystem_pthread.dylib             0x00000001905df034 _pthread_start + 136\n",
      "25  libsystem_pthread.dylib             0x00000001905d9e3c thread_start + 8\n",
      "\n"
     ]
    },
    {
     "name": "stderr",
     "output_type": "stream",
     "text": [
      "\n",
      " 10%|███████████▌                                                                                                           | 7/72 [00:00<00:04, 13.18it/s]\u001b[A\n",
      " 14%|████████████████▍                                                                                                     | 10/72 [00:00<00:03, 15.97it/s]\u001b[A"
     ]
    },
    {
     "name": "stdout",
     "output_type": "stream",
     "text": [
      "WebDriverException: Message: unknown error: net::ERR_NAME_NOT_RESOLVED\n",
      "  (Session info: chrome=124.0.6367.208)\n",
      "Stacktrace:\n",
      "0   chromedriver                        0x0000000102f26940 chromedriver + 4368704\n",
      "1   chromedriver                        0x0000000102f1edd4 chromedriver + 4337108\n",
      "2   chromedriver                        0x0000000102b42c04 chromedriver + 289796\n",
      "3   chromedriver                        0x0000000102b3baf8 chromedriver + 260856\n",
      "4   chromedriver                        0x0000000102b2d5e0 chromedriver + 202208\n",
      "5   chromedriver                        0x0000000102b2e8d4 chromedriver + 207060\n",
      "6   chromedriver                        0x0000000102b2d8fc chromedriver + 203004\n",
      "7   chromedriver                        0x0000000102b2d294 chromedriver + 201364\n",
      "8   chromedriver                        0x0000000102b2cf5c chromedriver + 200540\n",
      "9   chromedriver                        0x0000000102b2ad20 chromedriver + 191776\n",
      "10  chromedriver                        0x0000000102b2b6bc chromedriver + 194236\n",
      "11  chromedriver                        0x0000000102b4516c chromedriver + 299372\n",
      "12  chromedriver                        0x0000000102bbdc08 chromedriver + 793608\n",
      "13  chromedriver                        0x0000000102bbd5ec chromedriver + 792044\n",
      "14  chromedriver                        0x0000000102b79ab4 chromedriver + 514740\n",
      "15  chromedriver                        0x0000000102b7a50c chromedriver + 517388\n",
      "16  chromedriver                        0x0000000102eeae5c chromedriver + 4124252\n",
      "17  chromedriver                        0x0000000102eefc4c chromedriver + 4144204\n",
      "18  chromedriver                        0x0000000102ed0824 chromedriver + 4016164\n",
      "19  chromedriver                        0x0000000102ef057c chromedriver + 4146556\n",
      "20  chromedriver                        0x0000000102ec22d8 chromedriver + 3957464\n",
      "21  chromedriver                        0x0000000102f0fec4 chromedriver + 4275908\n",
      "22  chromedriver                        0x0000000102f10040 chromedriver + 4276288\n",
      "23  chromedriver                        0x0000000102f1ea34 chromedriver + 4336180\n",
      "24  libsystem_pthread.dylib             0x00000001905df034 _pthread_start + 136\n",
      "25  libsystem_pthread.dylib             0x00000001905d9e3c thread_start + 8\n",
      "\n",
      "WebDriverException: Message: unknown error: net::ERR_NAME_NOT_RESOLVED\n",
      "  (Session info: chrome=124.0.6367.208)\n",
      "Stacktrace:\n",
      "0   chromedriver                        0x0000000102f26940 chromedriver + 4368704\n",
      "1   chromedriver                        0x0000000102f1edd4 chromedriver + 4337108\n",
      "2   chromedriver                        0x0000000102b42c04 chromedriver + 289796\n",
      "3   chromedriver                        0x0000000102b3baf8 chromedriver + 260856\n",
      "4   chromedriver                        0x0000000102b2d5e0 chromedriver + 202208\n",
      "5   chromedriver                        0x0000000102b2e8d4 chromedriver + 207060\n",
      "6   chromedriver                        0x0000000102b2d8fc chromedriver + 203004\n",
      "7   chromedriver                        0x0000000102b2d294 chromedriver + 201364\n",
      "8   chromedriver                        0x0000000102b2cf5c chromedriver + 200540\n",
      "9   chromedriver                        0x0000000102b2ad20 chromedriver + 191776\n",
      "10  chromedriver                        0x0000000102b2b6bc chromedriver + 194236\n",
      "11  chromedriver                        0x0000000102b4516c chromedriver + 299372\n",
      "12  chromedriver                        0x0000000102bbdc08 chromedriver + 793608\n",
      "13  chromedriver                        0x0000000102bbd5ec chromedriver + 792044\n",
      "14  chromedriver                        0x0000000102b79ab4 chromedriver + 514740\n",
      "15  chromedriver                        0x0000000102b7a50c chromedriver + 517388\n",
      "16  chromedriver                        0x0000000102eeae5c chromedriver + 4124252\n",
      "17  chromedriver                        0x0000000102eefc4c chromedriver + 4144204\n",
      "18  chromedriver                        0x0000000102ed0824 chromedriver + 4016164\n",
      "19  chromedriver                        0x0000000102ef057c chromedriver + 4146556\n",
      "20  chromedriver                        0x0000000102ec22d8 chromedriver + 3957464\n",
      "21  chromedriver                        0x0000000102f0fec4 chromedriver + 4275908\n",
      "22  chromedriver                        0x0000000102f10040 chromedriver + 4276288\n",
      "23  chromedriver                        0x0000000102f1ea34 chromedriver + 4336180\n",
      "24  libsystem_pthread.dylib             0x00000001905df034 _pthread_start + 136\n",
      "25  libsystem_pthread.dylib             0x00000001905d9e3c thread_start + 8\n",
      "\n",
      "WebDriverException: Message: unknown error: net::ERR_NAME_NOT_RESOLVED\n",
      "  (Session info: chrome=124.0.6367.208)\n",
      "Stacktrace:\n",
      "0   chromedriver                        0x0000000102f26940 chromedriver + 4368704\n",
      "1   chromedriver                        0x0000000102f1edd4 chromedriver + 4337108\n",
      "2   chromedriver                        0x0000000102b42c04 chromedriver + 289796\n",
      "3   chromedriver                        0x0000000102b3baf8 chromedriver + 260856\n",
      "4   chromedriver                        0x0000000102b2d5e0 chromedriver + 202208\n",
      "5   chromedriver                        0x0000000102b2e8d4 chromedriver + 207060\n",
      "6   chromedriver                        0x0000000102b2d8fc chromedriver + 203004\n",
      "7   chromedriver                        0x0000000102b2d294 chromedriver + 201364\n",
      "8   chromedriver                        0x0000000102b2cf5c chromedriver + 200540\n",
      "9   chromedriver                        0x0000000102b2ad20 chromedriver + 191776\n",
      "10  chromedriver                        0x0000000102b2b6bc chromedriver + 194236\n",
      "11  chromedriver                        0x0000000102b4516c chromedriver + 299372\n",
      "12  chromedriver                        0x0000000102bbdc08 chromedriver + 793608\n",
      "13  chromedriver                        0x0000000102bbd5ec chromedriver + 792044\n",
      "14  chromedriver                        0x0000000102b79ab4 chromedriver + 514740\n",
      "15  chromedriver                        0x0000000102b7a50c chromedriver + 517388\n",
      "16  chromedriver                        0x0000000102eeae5c chromedriver + 4124252\n",
      "17  chromedriver                        0x0000000102eefc4c chromedriver + 4144204\n",
      "18  chromedriver                        0x0000000102ed0824 chromedriver + 4016164\n",
      "19  chromedriver                        0x0000000102ef057c chromedriver + 4146556\n",
      "20  chromedriver                        0x0000000102ec22d8 chromedriver + 3957464\n",
      "21  chromedriver                        0x0000000102f0fec4 chromedriver + 4275908\n",
      "22  chromedriver                        0x0000000102f10040 chromedriver + 4276288\n",
      "23  chromedriver                        0x0000000102f1ea34 chromedriver + 4336180\n",
      "24  libsystem_pthread.dylib             0x00000001905df034 _pthread_start + 136\n",
      "25  libsystem_pthread.dylib             0x00000001905d9e3c thread_start + 8\n",
      "\n",
      "WebDriverException: Message: unknown error: net::ERR_NAME_NOT_RESOLVED\n",
      "  (Session info: chrome=124.0.6367.208)\n",
      "Stacktrace:\n",
      "0   chromedriver                        0x0000000102f26940 chromedriver + 4368704\n",
      "1   chromedriver                        0x0000000102f1edd4 chromedriver + 4337108\n",
      "2   chromedriver                        0x0000000102b42c04 chromedriver + 289796\n",
      "3   chromedriver                        0x0000000102b3baf8 chromedriver + 260856\n",
      "4   chromedriver                        0x0000000102b2d5e0 chromedriver + 202208\n",
      "5   chromedriver                        0x0000000102b2e8d4 chromedriver + 207060\n",
      "6   chromedriver                        0x0000000102b2d8fc chromedriver + 203004\n",
      "7   chromedriver                        0x0000000102b2d294 chromedriver + 201364\n",
      "8   chromedriver                        0x0000000102b2cf5c chromedriver + 200540\n",
      "9   chromedriver                        0x0000000102b2ad20 chromedriver + 191776\n",
      "10  chromedriver                        0x0000000102b2b6bc chromedriver + 194236\n",
      "11  chromedriver                        0x0000000102b4516c chromedriver + 299372\n",
      "12  chromedriver                        0x0000000102bbdc08 chromedriver + 793608\n",
      "13  chromedriver                        0x0000000102bbd5ec chromedriver + 792044\n",
      "14  chromedriver                        0x0000000102b79ab4 chromedriver + 514740\n",
      "15  chromedriver                        0x0000000102b7a50c chromedriver + 517388\n",
      "16  chromedriver                        0x0000000102eeae5c chromedriver + 4124252\n",
      "17  chromedriver                        0x0000000102eefc4c chromedriver + 4144204\n",
      "18  chromedriver                        0x0000000102ed0824 chromedriver + 4016164\n",
      "19  chromedriver                        0x0000000102ef057c chromedriver + 4146556\n",
      "20  chromedriver                        0x0000000102ec22d8 chromedriver + 3957464\n",
      "21  chromedriver                        0x0000000102f0fec4 chromedriver + 4275908\n",
      "22  chromedriver                        0x0000000102f10040 chromedriver + 4276288\n",
      "23  chromedriver                        0x0000000102f1ea34 chromedriver + 4336180\n",
      "24  libsystem_pthread.dylib             0x00000001905df034 _pthread_start + 136\n",
      "25  libsystem_pthread.dylib             0x00000001905d9e3c thread_start + 8\n",
      "\n",
      "WebDriverException: Message: unknown error: net::ERR_NAME_NOT_RESOLVED\n",
      "  (Session info: chrome=124.0.6367.208)\n",
      "Stacktrace:\n",
      "0   chromedriver                        0x0000000102f26940 chromedriver + 4368704\n",
      "1   chromedriver                        0x0000000102f1edd4 chromedriver + 4337108\n",
      "2   chromedriver                        0x0000000102b42c04 chromedriver + 289796\n",
      "3   chromedriver                        0x0000000102b3baf8 chromedriver + 260856\n",
      "4   chromedriver                        0x0000000102b2d5e0 chromedriver + 202208\n",
      "5   chromedriver                        0x0000000102b2e8d4 chromedriver + 207060\n",
      "6   chromedriver                        0x0000000102b2d8fc chromedriver + 203004\n",
      "7   chromedriver                        0x0000000102b2d294 chromedriver + 201364\n",
      "8   chromedriver                        0x0000000102b2cf5c chromedriver + 200540\n",
      "9   chromedriver                        0x0000000102b2ad20 chromedriver + 191776\n",
      "10  chromedriver                        0x0000000102b2b6bc chromedriver + 194236\n",
      "11  chromedriver                        0x0000000102b4516c chromedriver + 299372\n",
      "12  chromedriver                        0x0000000102bbdc08 chromedriver + 793608\n",
      "13  chromedriver                        0x0000000102bbd5ec chromedriver + 792044\n",
      "14  chromedriver                        0x0000000102b79ab4 chromedriver + 514740\n",
      "15  chromedriver                        0x0000000102b7a50c chromedriver + 517388\n",
      "16  chromedriver                        0x0000000102eeae5c chromedriver + 4124252\n",
      "17  chromedriver                        0x0000000102eefc4c chromedriver + 4144204\n",
      "18  chromedriver                        0x0000000102ed0824 chromedriver + 4016164\n",
      "19  chromedriver                        0x0000000102ef057c chromedriver + 4146556\n",
      "20  chromedriver                        0x0000000102ec22d8 chromedriver + 3957464\n",
      "21  chromedriver                        0x0000000102f0fec4 chromedriver + 4275908\n",
      "22  chromedriver                        0x0000000102f10040 chromedriver + 4276288\n",
      "23  chromedriver                        0x0000000102f1ea34 chromedriver + 4336180\n",
      "24  libsystem_pthread.dylib             0x00000001905df034 _pthread_start + 136\n",
      "25  libsystem_pthread.dylib             0x00000001905d9e3c thread_start + 8\n",
      "\n"
     ]
    },
    {
     "name": "stderr",
     "output_type": "stream",
     "text": [
      "\n",
      " 17%|███████████████████▋                                                                                                  | 12/72 [00:00<00:03, 16.96it/s]\u001b[A\n",
      " 19%|██████████████████████▉                                                                                               | 14/72 [00:01<00:03, 17.45it/s]\u001b[A"
     ]
    },
    {
     "name": "stdout",
     "output_type": "stream",
     "text": [
      "WebDriverException: Message: unknown error: net::ERR_NAME_NOT_RESOLVED\n",
      "  (Session info: chrome=124.0.6367.208)\n",
      "Stacktrace:\n",
      "0   chromedriver                        0x0000000102f26940 chromedriver + 4368704\n",
      "1   chromedriver                        0x0000000102f1edd4 chromedriver + 4337108\n",
      "2   chromedriver                        0x0000000102b42c04 chromedriver + 289796\n",
      "3   chromedriver                        0x0000000102b3baf8 chromedriver + 260856\n",
      "4   chromedriver                        0x0000000102b2d5e0 chromedriver + 202208\n",
      "5   chromedriver                        0x0000000102b2e8d4 chromedriver + 207060\n",
      "6   chromedriver                        0x0000000102b2d8fc chromedriver + 203004\n",
      "7   chromedriver                        0x0000000102b2d294 chromedriver + 201364\n",
      "8   chromedriver                        0x0000000102b2cf5c chromedriver + 200540\n",
      "9   chromedriver                        0x0000000102b2ad20 chromedriver + 191776\n",
      "10  chromedriver                        0x0000000102b2b6bc chromedriver + 194236\n",
      "11  chromedriver                        0x0000000102b4516c chromedriver + 299372\n",
      "12  chromedriver                        0x0000000102bbdc08 chromedriver + 793608\n",
      "13  chromedriver                        0x0000000102bbd5ec chromedriver + 792044\n",
      "14  chromedriver                        0x0000000102b79ab4 chromedriver + 514740\n",
      "15  chromedriver                        0x0000000102b7a50c chromedriver + 517388\n",
      "16  chromedriver                        0x0000000102eeae5c chromedriver + 4124252\n",
      "17  chromedriver                        0x0000000102eefc4c chromedriver + 4144204\n",
      "18  chromedriver                        0x0000000102ed0824 chromedriver + 4016164\n",
      "19  chromedriver                        0x0000000102ef057c chromedriver + 4146556\n",
      "20  chromedriver                        0x0000000102ec22d8 chromedriver + 3957464\n",
      "21  chromedriver                        0x0000000102f0fec4 chromedriver + 4275908\n",
      "22  chromedriver                        0x0000000102f10040 chromedriver + 4276288\n",
      "23  chromedriver                        0x0000000102f1ea34 chromedriver + 4336180\n",
      "24  libsystem_pthread.dylib             0x00000001905df034 _pthread_start + 136\n",
      "25  libsystem_pthread.dylib             0x00000001905d9e3c thread_start + 8\n",
      "\n",
      "WebDriverException: Message: unknown error: net::ERR_NAME_NOT_RESOLVED\n",
      "  (Session info: chrome=124.0.6367.208)\n",
      "Stacktrace:\n",
      "0   chromedriver                        0x0000000102f26940 chromedriver + 4368704\n",
      "1   chromedriver                        0x0000000102f1edd4 chromedriver + 4337108\n",
      "2   chromedriver                        0x0000000102b42c04 chromedriver + 289796\n",
      "3   chromedriver                        0x0000000102b3baf8 chromedriver + 260856\n",
      "4   chromedriver                        0x0000000102b2d5e0 chromedriver + 202208\n",
      "5   chromedriver                        0x0000000102b2e8d4 chromedriver + 207060\n",
      "6   chromedriver                        0x0000000102b2d8fc chromedriver + 203004\n",
      "7   chromedriver                        0x0000000102b2d294 chromedriver + 201364\n",
      "8   chromedriver                        0x0000000102b2cf5c chromedriver + 200540\n",
      "9   chromedriver                        0x0000000102b2ad20 chromedriver + 191776\n",
      "10  chromedriver                        0x0000000102b2b6bc chromedriver + 194236\n",
      "11  chromedriver                        0x0000000102b4516c chromedriver + 299372\n",
      "12  chromedriver                        0x0000000102bbdc08 chromedriver + 793608\n",
      "13  chromedriver                        0x0000000102bbd5ec chromedriver + 792044\n",
      "14  chromedriver                        0x0000000102b79ab4 chromedriver + 514740\n",
      "15  chromedriver                        0x0000000102b7a50c chromedriver + 517388\n",
      "16  chromedriver                        0x0000000102eeae5c chromedriver + 4124252\n",
      "17  chromedriver                        0x0000000102eefc4c chromedriver + 4144204\n",
      "18  chromedriver                        0x0000000102ed0824 chromedriver + 4016164\n",
      "19  chromedriver                        0x0000000102ef057c chromedriver + 4146556\n",
      "20  chromedriver                        0x0000000102ec22d8 chromedriver + 3957464\n",
      "21  chromedriver                        0x0000000102f0fec4 chromedriver + 4275908\n",
      "22  chromedriver                        0x0000000102f10040 chromedriver + 4276288\n",
      "23  chromedriver                        0x0000000102f1ea34 chromedriver + 4336180\n",
      "24  libsystem_pthread.dylib             0x00000001905df034 _pthread_start + 136\n",
      "25  libsystem_pthread.dylib             0x00000001905d9e3c thread_start + 8\n",
      "\n",
      "WebDriverException: Message: unknown error: net::ERR_NAME_NOT_RESOLVED\n",
      "  (Session info: chrome=124.0.6367.208)\n",
      "Stacktrace:\n",
      "0   chromedriver                        0x0000000102f26940 chromedriver + 4368704\n",
      "1   chromedriver                        0x0000000102f1edd4 chromedriver + 4337108\n",
      "2   chromedriver                        0x0000000102b42c04 chromedriver + 289796\n",
      "3   chromedriver                        0x0000000102b3baf8 chromedriver + 260856\n",
      "4   chromedriver                        0x0000000102b2d5e0 chromedriver + 202208\n",
      "5   chromedriver                        0x0000000102b2e8d4 chromedriver + 207060\n",
      "6   chromedriver                        0x0000000102b2d8fc chromedriver + 203004\n",
      "7   chromedriver                        0x0000000102b2d294 chromedriver + 201364\n",
      "8   chromedriver                        0x0000000102b2cf5c chromedriver + 200540\n",
      "9   chromedriver                        0x0000000102b2ad20 chromedriver + 191776\n",
      "10  chromedriver                        0x0000000102b2b6bc chromedriver + 194236\n",
      "11  chromedriver                        0x0000000102b4516c chromedriver + 299372\n",
      "12  chromedriver                        0x0000000102bbdc08 chromedriver + 793608\n",
      "13  chromedriver                        0x0000000102bbd5ec chromedriver + 792044\n",
      "14  chromedriver                        0x0000000102b79ab4 chromedriver + 514740\n",
      "15  chromedriver                        0x0000000102b7a50c chromedriver + 517388\n",
      "16  chromedriver                        0x0000000102eeae5c chromedriver + 4124252\n",
      "17  chromedriver                        0x0000000102eefc4c chromedriver + 4144204\n",
      "18  chromedriver                        0x0000000102ed0824 chromedriver + 4016164\n",
      "19  chromedriver                        0x0000000102ef057c chromedriver + 4146556\n",
      "20  chromedriver                        0x0000000102ec22d8 chromedriver + 3957464\n",
      "21  chromedriver                        0x0000000102f0fec4 chromedriver + 4275908\n",
      "22  chromedriver                        0x0000000102f10040 chromedriver + 4276288\n",
      "23  chromedriver                        0x0000000102f1ea34 chromedriver + 4336180\n",
      "24  libsystem_pthread.dylib             0x00000001905df034 _pthread_start + 136\n",
      "25  libsystem_pthread.dylib             0x00000001905d9e3c thread_start + 8\n",
      "\n",
      "WebDriverException: Message: unknown error: net::ERR_NAME_NOT_RESOLVED\n",
      "  (Session info: chrome=124.0.6367.208)\n",
      "Stacktrace:\n",
      "0   chromedriver                        0x0000000102f26940 chromedriver + 4368704\n",
      "1   chromedriver                        0x0000000102f1edd4 chromedriver + 4337108\n",
      "2   chromedriver                        0x0000000102b42c04 chromedriver + 289796\n",
      "3   chromedriver                        0x0000000102b3baf8 chromedriver + 260856\n",
      "4   chromedriver                        0x0000000102b2d5e0 chromedriver + 202208\n",
      "5   chromedriver                        0x0000000102b2e8d4 chromedriver + 207060\n",
      "6   chromedriver                        0x0000000102b2d8fc chromedriver + 203004\n",
      "7   chromedriver                        0x0000000102b2d294 chromedriver + 201364\n",
      "8   chromedriver                        0x0000000102b2cf5c chromedriver + 200540\n",
      "9   chromedriver                        0x0000000102b2ad20 chromedriver + 191776\n",
      "10  chromedriver                        0x0000000102b2b6bc chromedriver + 194236\n",
      "11  chromedriver                        0x0000000102b4516c chromedriver + 299372\n",
      "12  chromedriver                        0x0000000102bbdc08 chromedriver + 793608\n",
      "13  chromedriver                        0x0000000102bbd5ec chromedriver + 792044\n",
      "14  chromedriver                        0x0000000102b79ab4 chromedriver + 514740\n",
      "15  chromedriver                        0x0000000102b7a50c chromedriver + 517388\n",
      "16  chromedriver                        0x0000000102eeae5c chromedriver + 4124252\n",
      "17  chromedriver                        0x0000000102eefc4c chromedriver + 4144204\n",
      "18  chromedriver                        0x0000000102ed0824 chromedriver + 4016164\n",
      "19  chromedriver                        0x0000000102ef057c chromedriver + 4146556\n",
      "20  chromedriver                        0x0000000102ec22d8 chromedriver + 3957464\n",
      "21  chromedriver                        0x0000000102f0fec4 chromedriver + 4275908\n",
      "22  chromedriver                        0x0000000102f10040 chromedriver + 4276288\n",
      "23  chromedriver                        0x0000000102f1ea34 chromedriver + 4336180\n",
      "24  libsystem_pthread.dylib             0x00000001905df034 _pthread_start + 136\n",
      "25  libsystem_pthread.dylib             0x00000001905d9e3c thread_start + 8\n",
      "\n",
      "WebDriverException: Message: unknown error: net::ERR_NAME_NOT_RESOLVED\n",
      "  (Session info: chrome=124.0.6367.208)\n",
      "Stacktrace:\n",
      "0   chromedriver                        0x0000000102f26940 chromedriver + 4368704\n",
      "1   chromedriver                        0x0000000102f1edd4 chromedriver + 4337108\n",
      "2   chromedriver                        0x0000000102b42c04 chromedriver + 289796\n",
      "3   chromedriver                        0x0000000102b3baf8 chromedriver + 260856\n",
      "4   chromedriver                        0x0000000102b2d5e0 chromedriver + 202208\n",
      "5   chromedriver                        0x0000000102b2e8d4 chromedriver + 207060\n",
      "6   chromedriver                        0x0000000102b2d8fc chromedriver + 203004\n",
      "7   chromedriver                        0x0000000102b2d294 chromedriver + 201364\n",
      "8   chromedriver                        0x0000000102b2cf5c chromedriver + 200540\n",
      "9   chromedriver                        0x0000000102b2ad20 chromedriver + 191776\n",
      "10  chromedriver                        0x0000000102b2b6bc chromedriver + 194236\n",
      "11  chromedriver                        0x0000000102b4516c chromedriver + 299372\n",
      "12  chromedriver                        0x0000000102bbdc08 chromedriver + 793608\n",
      "13  chromedriver                        0x0000000102bbd5ec chromedriver + 792044\n",
      "14  chromedriver                        0x0000000102b79ab4 chromedriver + 514740\n",
      "15  chromedriver                        0x0000000102b7a50c chromedriver + 517388\n",
      "16  chromedriver                        0x0000000102eeae5c chromedriver + 4124252\n",
      "17  chromedriver                        0x0000000102eefc4c chromedriver + 4144204\n",
      "18  chromedriver                        0x0000000102ed0824 chromedriver + 4016164\n",
      "19  chromedriver                        0x0000000102ef057c chromedriver + 4146556\n",
      "20  chromedriver                        0x0000000102ec22d8 chromedriver + 3957464\n",
      "21  chromedriver                        0x0000000102f0fec4 chromedriver + 4275908\n",
      "22  chromedriver                        0x0000000102f10040 chromedriver + 4276288\n",
      "23  chromedriver                        0x0000000102f1ea34 chromedriver + 4336180\n",
      "24  libsystem_pthread.dylib             0x00000001905df034 _pthread_start + 136\n",
      "25  libsystem_pthread.dylib             0x00000001905d9e3c thread_start + 8\n",
      "\n"
     ]
    },
    {
     "name": "stderr",
     "output_type": "stream",
     "text": [
      "\n",
      " 24%|███████████████████████████▊                                                                                          | 17/72 [00:01<00:02, 19.32it/s]\u001b[A\n",
      " 28%|████████████████████████████████▊                                                                                     | 20/72 [00:01<00:02, 19.53it/s]\u001b[A"
     ]
    },
    {
     "name": "stdout",
     "output_type": "stream",
     "text": [
      "WebDriverException: Message: unknown error: net::ERR_NAME_NOT_RESOLVED\n",
      "  (Session info: chrome=124.0.6367.208)\n",
      "Stacktrace:\n",
      "0   chromedriver                        0x0000000102f26940 chromedriver + 4368704\n",
      "1   chromedriver                        0x0000000102f1edd4 chromedriver + 4337108\n",
      "2   chromedriver                        0x0000000102b42c04 chromedriver + 289796\n",
      "3   chromedriver                        0x0000000102b3baf8 chromedriver + 260856\n",
      "4   chromedriver                        0x0000000102b2d5e0 chromedriver + 202208\n",
      "5   chromedriver                        0x0000000102b2e8d4 chromedriver + 207060\n",
      "6   chromedriver                        0x0000000102b2d8fc chromedriver + 203004\n",
      "7   chromedriver                        0x0000000102b2d294 chromedriver + 201364\n",
      "8   chromedriver                        0x0000000102b2cf5c chromedriver + 200540\n",
      "9   chromedriver                        0x0000000102b2ad20 chromedriver + 191776\n",
      "10  chromedriver                        0x0000000102b2b6bc chromedriver + 194236\n",
      "11  chromedriver                        0x0000000102b4516c chromedriver + 299372\n",
      "12  chromedriver                        0x0000000102bbdc08 chromedriver + 793608\n",
      "13  chromedriver                        0x0000000102bbd5ec chromedriver + 792044\n",
      "14  chromedriver                        0x0000000102b79ab4 chromedriver + 514740\n",
      "15  chromedriver                        0x0000000102b7a50c chromedriver + 517388\n",
      "16  chromedriver                        0x0000000102eeae5c chromedriver + 4124252\n",
      "17  chromedriver                        0x0000000102eefc4c chromedriver + 4144204\n",
      "18  chromedriver                        0x0000000102ed0824 chromedriver + 4016164\n",
      "19  chromedriver                        0x0000000102ef057c chromedriver + 4146556\n",
      "20  chromedriver                        0x0000000102ec22d8 chromedriver + 3957464\n",
      "21  chromedriver                        0x0000000102f0fec4 chromedriver + 4275908\n",
      "22  chromedriver                        0x0000000102f10040 chromedriver + 4276288\n",
      "23  chromedriver                        0x0000000102f1ea34 chromedriver + 4336180\n",
      "24  libsystem_pthread.dylib             0x00000001905df034 _pthread_start + 136\n",
      "25  libsystem_pthread.dylib             0x00000001905d9e3c thread_start + 8\n",
      "\n",
      "WebDriverException: Message: unknown error: net::ERR_NAME_NOT_RESOLVED\n",
      "  (Session info: chrome=124.0.6367.208)\n",
      "Stacktrace:\n",
      "0   chromedriver                        0x0000000102f26940 chromedriver + 4368704\n",
      "1   chromedriver                        0x0000000102f1edd4 chromedriver + 4337108\n",
      "2   chromedriver                        0x0000000102b42c04 chromedriver + 289796\n",
      "3   chromedriver                        0x0000000102b3baf8 chromedriver + 260856\n",
      "4   chromedriver                        0x0000000102b2d5e0 chromedriver + 202208\n",
      "5   chromedriver                        0x0000000102b2e8d4 chromedriver + 207060\n",
      "6   chromedriver                        0x0000000102b2d8fc chromedriver + 203004\n",
      "7   chromedriver                        0x0000000102b2d294 chromedriver + 201364\n",
      "8   chromedriver                        0x0000000102b2cf5c chromedriver + 200540\n",
      "9   chromedriver                        0x0000000102b2ad20 chromedriver + 191776\n",
      "10  chromedriver                        0x0000000102b2b6bc chromedriver + 194236\n",
      "11  chromedriver                        0x0000000102b4516c chromedriver + 299372\n",
      "12  chromedriver                        0x0000000102bbdc08 chromedriver + 793608\n",
      "13  chromedriver                        0x0000000102bbd5ec chromedriver + 792044\n",
      "14  chromedriver                        0x0000000102b79ab4 chromedriver + 514740\n",
      "15  chromedriver                        0x0000000102b7a50c chromedriver + 517388\n",
      "16  chromedriver                        0x0000000102eeae5c chromedriver + 4124252\n",
      "17  chromedriver                        0x0000000102eefc4c chromedriver + 4144204\n",
      "18  chromedriver                        0x0000000102ed0824 chromedriver + 4016164\n",
      "19  chromedriver                        0x0000000102ef057c chromedriver + 4146556\n",
      "20  chromedriver                        0x0000000102ec22d8 chromedriver + 3957464\n",
      "21  chromedriver                        0x0000000102f0fec4 chromedriver + 4275908\n",
      "22  chromedriver                        0x0000000102f10040 chromedriver + 4276288\n",
      "23  chromedriver                        0x0000000102f1ea34 chromedriver + 4336180\n",
      "24  libsystem_pthread.dylib             0x00000001905df034 _pthread_start + 136\n",
      "25  libsystem_pthread.dylib             0x00000001905d9e3c thread_start + 8\n",
      "\n",
      "WebDriverException: Message: unknown error: net::ERR_NAME_NOT_RESOLVED\n",
      "  (Session info: chrome=124.0.6367.208)\n",
      "Stacktrace:\n",
      "0   chromedriver                        0x0000000102f26940 chromedriver + 4368704\n",
      "1   chromedriver                        0x0000000102f1edd4 chromedriver + 4337108\n",
      "2   chromedriver                        0x0000000102b42c04 chromedriver + 289796\n",
      "3   chromedriver                        0x0000000102b3baf8 chromedriver + 260856\n",
      "4   chromedriver                        0x0000000102b2d5e0 chromedriver + 202208\n",
      "5   chromedriver                        0x0000000102b2e8d4 chromedriver + 207060\n",
      "6   chromedriver                        0x0000000102b2d8fc chromedriver + 203004\n",
      "7   chromedriver                        0x0000000102b2d294 chromedriver + 201364\n",
      "8   chromedriver                        0x0000000102b2cf5c chromedriver + 200540\n",
      "9   chromedriver                        0x0000000102b2ad20 chromedriver + 191776\n",
      "10  chromedriver                        0x0000000102b2b6bc chromedriver + 194236\n",
      "11  chromedriver                        0x0000000102b4516c chromedriver + 299372\n",
      "12  chromedriver                        0x0000000102bbdc08 chromedriver + 793608\n",
      "13  chromedriver                        0x0000000102bbd5ec chromedriver + 792044\n",
      "14  chromedriver                        0x0000000102b79ab4 chromedriver + 514740\n",
      "15  chromedriver                        0x0000000102b7a50c chromedriver + 517388\n",
      "16  chromedriver                        0x0000000102eeae5c chromedriver + 4124252\n",
      "17  chromedriver                        0x0000000102eefc4c chromedriver + 4144204\n",
      "18  chromedriver                        0x0000000102ed0824 chromedriver + 4016164\n",
      "19  chromedriver                        0x0000000102ef057c chromedriver + 4146556\n",
      "20  chromedriver                        0x0000000102ec22d8 chromedriver + 3957464\n",
      "21  chromedriver                        0x0000000102f0fec4 chromedriver + 4275908\n",
      "22  chromedriver                        0x0000000102f10040 chromedriver + 4276288\n",
      "23  chromedriver                        0x0000000102f1ea34 chromedriver + 4336180\n",
      "24  libsystem_pthread.dylib             0x00000001905df034 _pthread_start + 136\n",
      "25  libsystem_pthread.dylib             0x00000001905d9e3c thread_start + 8\n",
      "\n",
      "WebDriverException: Message: unknown error: net::ERR_NAME_NOT_RESOLVED\n",
      "  (Session info: chrome=124.0.6367.208)\n",
      "Stacktrace:\n",
      "0   chromedriver                        0x0000000102f26940 chromedriver + 4368704\n",
      "1   chromedriver                        0x0000000102f1edd4 chromedriver + 4337108\n",
      "2   chromedriver                        0x0000000102b42c04 chromedriver + 289796\n",
      "3   chromedriver                        0x0000000102b3baf8 chromedriver + 260856\n",
      "4   chromedriver                        0x0000000102b2d5e0 chromedriver + 202208\n",
      "5   chromedriver                        0x0000000102b2e8d4 chromedriver + 207060\n",
      "6   chromedriver                        0x0000000102b2d8fc chromedriver + 203004\n",
      "7   chromedriver                        0x0000000102b2d294 chromedriver + 201364\n",
      "8   chromedriver                        0x0000000102b2cf5c chromedriver + 200540\n",
      "9   chromedriver                        0x0000000102b2ad20 chromedriver + 191776\n",
      "10  chromedriver                        0x0000000102b2b6bc chromedriver + 194236\n",
      "11  chromedriver                        0x0000000102b4516c chromedriver + 299372\n",
      "12  chromedriver                        0x0000000102bbdc08 chromedriver + 793608\n",
      "13  chromedriver                        0x0000000102bbd5ec chromedriver + 792044\n",
      "14  chromedriver                        0x0000000102b79ab4 chromedriver + 514740\n",
      "15  chromedriver                        0x0000000102b7a50c chromedriver + 517388\n",
      "16  chromedriver                        0x0000000102eeae5c chromedriver + 4124252\n",
      "17  chromedriver                        0x0000000102eefc4c chromedriver + 4144204\n",
      "18  chromedriver                        0x0000000102ed0824 chromedriver + 4016164\n",
      "19  chromedriver                        0x0000000102ef057c chromedriver + 4146556\n",
      "20  chromedriver                        0x0000000102ec22d8 chromedriver + 3957464\n",
      "21  chromedriver                        0x0000000102f0fec4 chromedriver + 4275908\n",
      "22  chromedriver                        0x0000000102f10040 chromedriver + 4276288\n",
      "23  chromedriver                        0x0000000102f1ea34 chromedriver + 4336180\n",
      "24  libsystem_pthread.dylib             0x00000001905df034 _pthread_start + 136\n",
      "25  libsystem_pthread.dylib             0x00000001905d9e3c thread_start + 8\n",
      "\n",
      "WebDriverException: Message: unknown error: net::ERR_NAME_NOT_RESOLVED\n",
      "  (Session info: chrome=124.0.6367.208)\n",
      "Stacktrace:\n",
      "0   chromedriver                        0x0000000102f26940 chromedriver + 4368704\n",
      "1   chromedriver                        0x0000000102f1edd4 chromedriver + 4337108\n",
      "2   chromedriver                        0x0000000102b42c04 chromedriver + 289796\n",
      "3   chromedriver                        0x0000000102b3baf8 chromedriver + 260856\n",
      "4   chromedriver                        0x0000000102b2d5e0 chromedriver + 202208\n",
      "5   chromedriver                        0x0000000102b2e8d4 chromedriver + 207060\n",
      "6   chromedriver                        0x0000000102b2d8fc chromedriver + 203004\n",
      "7   chromedriver                        0x0000000102b2d294 chromedriver + 201364\n",
      "8   chromedriver                        0x0000000102b2cf5c chromedriver + 200540\n",
      "9   chromedriver                        0x0000000102b2ad20 chromedriver + 191776\n",
      "10  chromedriver                        0x0000000102b2b6bc chromedriver + 194236\n",
      "11  chromedriver                        0x0000000102b4516c chromedriver + 299372\n",
      "12  chromedriver                        0x0000000102bbdc08 chromedriver + 793608\n",
      "13  chromedriver                        0x0000000102bbd5ec chromedriver + 792044\n",
      "14  chromedriver                        0x0000000102b79ab4 chromedriver + 514740\n",
      "15  chromedriver                        0x0000000102b7a50c chromedriver + 517388\n",
      "16  chromedriver                        0x0000000102eeae5c chromedriver + 4124252\n",
      "17  chromedriver                        0x0000000102eefc4c chromedriver + 4144204\n",
      "18  chromedriver                        0x0000000102ed0824 chromedriver + 4016164\n",
      "19  chromedriver                        0x0000000102ef057c chromedriver + 4146556\n",
      "20  chromedriver                        0x0000000102ec22d8 chromedriver + 3957464\n",
      "21  chromedriver                        0x0000000102f0fec4 chromedriver + 4275908\n",
      "22  chromedriver                        0x0000000102f10040 chromedriver + 4276288\n",
      "23  chromedriver                        0x0000000102f1ea34 chromedriver + 4336180\n",
      "24  libsystem_pthread.dylib             0x00000001905df034 _pthread_start + 136\n",
      "25  libsystem_pthread.dylib             0x00000001905d9e3c thread_start + 8\n",
      "\n"
     ]
    },
    {
     "name": "stderr",
     "output_type": "stream",
     "text": [
      "\n",
      " 32%|█████████████████████████████████████▋                                                                                | 23/72 [00:01<00:02, 19.97it/s]\u001b[A\n"
     ]
    },
    {
     "name": "stdout",
     "output_type": "stream",
     "text": [
      "WebDriverException: Message: unknown error: net::ERR_NAME_NOT_RESOLVED\n",
      "  (Session info: chrome=124.0.6367.208)\n",
      "Stacktrace:\n",
      "0   chromedriver                        0x0000000102f26940 chromedriver + 4368704\n",
      "1   chromedriver                        0x0000000102f1edd4 chromedriver + 4337108\n",
      "2   chromedriver                        0x0000000102b42c04 chromedriver + 289796\n",
      "3   chromedriver                        0x0000000102b3baf8 chromedriver + 260856\n",
      "4   chromedriver                        0x0000000102b2d5e0 chromedriver + 202208\n",
      "5   chromedriver                        0x0000000102b2e8d4 chromedriver + 207060\n",
      "6   chromedriver                        0x0000000102b2d8fc chromedriver + 203004\n",
      "7   chromedriver                        0x0000000102b2d294 chromedriver + 201364\n",
      "8   chromedriver                        0x0000000102b2cf5c chromedriver + 200540\n",
      "9   chromedriver                        0x0000000102b2ad20 chromedriver + 191776\n",
      "10  chromedriver                        0x0000000102b2b6bc chromedriver + 194236\n",
      "11  chromedriver                        0x0000000102b4516c chromedriver + 299372\n",
      "12  chromedriver                        0x0000000102bbdc08 chromedriver + 793608\n",
      "13  chromedriver                        0x0000000102bbd5ec chromedriver + 792044\n",
      "14  chromedriver                        0x0000000102b79ab4 chromedriver + 514740\n",
      "15  chromedriver                        0x0000000102b7a50c chromedriver + 517388\n",
      "16  chromedriver                        0x0000000102eeae5c chromedriver + 4124252\n",
      "17  chromedriver                        0x0000000102eefc4c chromedriver + 4144204\n",
      "18  chromedriver                        0x0000000102ed0824 chromedriver + 4016164\n",
      "19  chromedriver                        0x0000000102ef057c chromedriver + 4146556\n",
      "20  chromedriver                        0x0000000102ec22d8 chromedriver + 3957464\n",
      "21  chromedriver                        0x0000000102f0fec4 chromedriver + 4275908\n",
      "22  chromedriver                        0x0000000102f10040 chromedriver + 4276288\n",
      "23  chromedriver                        0x0000000102f1ea34 chromedriver + 4336180\n",
      "24  libsystem_pthread.dylib             0x00000001905df034 _pthread_start + 136\n",
      "25  libsystem_pthread.dylib             0x00000001905d9e3c thread_start + 8\n",
      "\n",
      "WebDriverException: Message: unknown error: net::ERR_NAME_NOT_RESOLVED\n",
      "  (Session info: chrome=124.0.6367.208)\n",
      "Stacktrace:\n",
      "0   chromedriver                        0x0000000102f26940 chromedriver + 4368704\n",
      "1   chromedriver                        0x0000000102f1edd4 chromedriver + 4337108\n",
      "2   chromedriver                        0x0000000102b42c04 chromedriver + 289796\n",
      "3   chromedriver                        0x0000000102b3baf8 chromedriver + 260856\n",
      "4   chromedriver                        0x0000000102b2d5e0 chromedriver + 202208\n",
      "5   chromedriver                        0x0000000102b2e8d4 chromedriver + 207060\n",
      "6   chromedriver                        0x0000000102b2d8fc chromedriver + 203004\n",
      "7   chromedriver                        0x0000000102b2d294 chromedriver + 201364\n",
      "8   chromedriver                        0x0000000102b2cf5c chromedriver + 200540\n",
      "9   chromedriver                        0x0000000102b2ad20 chromedriver + 191776\n",
      "10  chromedriver                        0x0000000102b2b6bc chromedriver + 194236\n",
      "11  chromedriver                        0x0000000102b4516c chromedriver + 299372\n",
      "12  chromedriver                        0x0000000102bbdc08 chromedriver + 793608\n",
      "13  chromedriver                        0x0000000102bbd5ec chromedriver + 792044\n",
      "14  chromedriver                        0x0000000102b79ab4 chromedriver + 514740\n",
      "15  chromedriver                        0x0000000102b7a50c chromedriver + 517388\n",
      "16  chromedriver                        0x0000000102eeae5c chromedriver + 4124252\n",
      "17  chromedriver                        0x0000000102eefc4c chromedriver + 4144204\n",
      "18  chromedriver                        0x0000000102ed0824 chromedriver + 4016164\n",
      "19  chromedriver                        0x0000000102ef057c chromedriver + 4146556\n",
      "20  chromedriver                        0x0000000102ec22d8 chromedriver + 3957464\n",
      "21  chromedriver                        0x0000000102f0fec4 chromedriver + 4275908\n",
      "22  chromedriver                        0x0000000102f10040 chromedriver + 4276288\n",
      "23  chromedriver                        0x0000000102f1ea34 chromedriver + 4336180\n",
      "24  libsystem_pthread.dylib             0x00000001905df034 _pthread_start + 136\n",
      "25  libsystem_pthread.dylib             0x00000001905d9e3c thread_start + 8\n",
      "\n",
      "WebDriverException: Message: unknown error: net::ERR_NAME_NOT_RESOLVED\n",
      "  (Session info: chrome=124.0.6367.208)\n",
      "Stacktrace:\n",
      "0   chromedriver                        0x0000000102f26940 chromedriver + 4368704\n",
      "1   chromedriver                        0x0000000102f1edd4 chromedriver + 4337108\n",
      "2   chromedriver                        0x0000000102b42c04 chromedriver + 289796\n",
      "3   chromedriver                        0x0000000102b3baf8 chromedriver + 260856\n",
      "4   chromedriver                        0x0000000102b2d5e0 chromedriver + 202208\n",
      "5   chromedriver                        0x0000000102b2e8d4 chromedriver + 207060\n",
      "6   chromedriver                        0x0000000102b2d8fc chromedriver + 203004\n",
      "7   chromedriver                        0x0000000102b2d294 chromedriver + 201364\n",
      "8   chromedriver                        0x0000000102b2cf5c chromedriver + 200540\n",
      "9   chromedriver                        0x0000000102b2ad20 chromedriver + 191776\n",
      "10  chromedriver                        0x0000000102b2b6bc chromedriver + 194236\n",
      "11  chromedriver                        0x0000000102b4516c chromedriver + 299372\n",
      "12  chromedriver                        0x0000000102bbdc08 chromedriver + 793608\n",
      "13  chromedriver                        0x0000000102bbd5ec chromedriver + 792044\n",
      "14  chromedriver                        0x0000000102b79ab4 chromedriver + 514740\n",
      "15  chromedriver                        0x0000000102b7a50c chromedriver + 517388\n",
      "16  chromedriver                        0x0000000102eeae5c chromedriver + 4124252\n",
      "17  chromedriver                        0x0000000102eefc4c chromedriver + 4144204\n",
      "18  chromedriver                        0x0000000102ed0824 chromedriver + 4016164\n",
      "19  chromedriver                        0x0000000102ef057c chromedriver + 4146556\n",
      "20  chromedriver                        0x0000000102ec22d8 chromedriver + 3957464\n",
      "21  chromedriver                        0x0000000102f0fec4 chromedriver + 4275908\n",
      "22  chromedriver                        0x0000000102f10040 chromedriver + 4276288\n",
      "23  chromedriver                        0x0000000102f1ea34 chromedriver + 4336180\n",
      "24  libsystem_pthread.dylib             0x00000001905df034 _pthread_start + 136\n",
      "25  libsystem_pthread.dylib             0x00000001905d9e3c thread_start + 8\n",
      "\n",
      "WebDriverException: Message: unknown error: net::ERR_NAME_NOT_RESOLVED\n",
      "  (Session info: chrome=124.0.6367.208)\n",
      "Stacktrace:\n",
      "0   chromedriver                        0x0000000102f26940 chromedriver + 4368704\n",
      "1   chromedriver                        0x0000000102f1edd4 chromedriver + 4337108\n",
      "2   chromedriver                        0x0000000102b42c04 chromedriver + 289796\n",
      "3   chromedriver                        0x0000000102b3baf8 chromedriver + 260856\n",
      "4   chromedriver                        0x0000000102b2d5e0 chromedriver + 202208\n",
      "5   chromedriver                        0x0000000102b2e8d4 chromedriver + 207060\n",
      "6   chromedriver                        0x0000000102b2d8fc chromedriver + 203004\n",
      "7   chromedriver                        0x0000000102b2d294 chromedriver + 201364\n",
      "8   chromedriver                        0x0000000102b2cf5c chromedriver + 200540\n",
      "9   chromedriver                        0x0000000102b2ad20 chromedriver + 191776\n",
      "10  chromedriver                        0x0000000102b2b6bc chromedriver + 194236\n",
      "11  chromedriver                        0x0000000102b4516c chromedriver + 299372\n",
      "12  chromedriver                        0x0000000102bbdc08 chromedriver + 793608\n",
      "13  chromedriver                        0x0000000102bbd5ec chromedriver + 792044\n",
      "14  chromedriver                        0x0000000102b79ab4 chromedriver + 514740\n",
      "15  chromedriver                        0x0000000102b7a50c chromedriver + 517388\n",
      "16  chromedriver                        0x0000000102eeae5c chromedriver + 4124252\n",
      "17  chromedriver                        0x0000000102eefc4c chromedriver + 4144204\n",
      "18  chromedriver                        0x0000000102ed0824 chromedriver + 4016164\n",
      "19  chromedriver                        0x0000000102ef057c chromedriver + 4146556\n",
      "20  chromedriver                        0x0000000102ec22d8 chromedriver + 3957464\n",
      "21  chromedriver                        0x0000000102f0fec4 chromedriver + 4275908\n",
      "22  chromedriver                        0x0000000102f10040 chromedriver + 4276288\n",
      "23  chromedriver                        0x0000000102f1ea34 chromedriver + 4336180\n",
      "24  libsystem_pthread.dylib             0x00000001905df034 _pthread_start + 136\n",
      "25  libsystem_pthread.dylib             0x00000001905d9e3c thread_start + 8\n",
      "\n",
      "WebDriverException: Message: unknown error: net::ERR_NAME_NOT_RESOLVED\n",
      "  (Session info: chrome=124.0.6367.208)\n",
      "Stacktrace:\n",
      "0   chromedriver                        0x0000000102f26940 chromedriver + 4368704\n",
      "1   chromedriver                        0x0000000102f1edd4 chromedriver + 4337108\n",
      "2   chromedriver                        0x0000000102b42c04 chromedriver + 289796\n",
      "3   chromedriver                        0x0000000102b3baf8 chromedriver + 260856\n",
      "4   chromedriver                        0x0000000102b2d5e0 chromedriver + 202208\n",
      "5   chromedriver                        0x0000000102b2e8d4 chromedriver + 207060\n",
      "6   chromedriver                        0x0000000102b2d8fc chromedriver + 203004\n",
      "7   chromedriver                        0x0000000102b2d294 chromedriver + 201364\n",
      "8   chromedriver                        0x0000000102b2cf5c chromedriver + 200540\n",
      "9   chromedriver                        0x0000000102b2ad20 chromedriver + 191776\n",
      "10  chromedriver                        0x0000000102b2b6bc chromedriver + 194236\n",
      "11  chromedriver                        0x0000000102b4516c chromedriver + 299372\n",
      "12  chromedriver                        0x0000000102bbdc08 chromedriver + 793608\n",
      "13  chromedriver                        0x0000000102bbd5ec chromedriver + 792044\n",
      "14  chromedriver                        0x0000000102b79ab4 chromedriver + 514740\n",
      "15  chromedriver                        0x0000000102b7a50c chromedriver + 517388\n",
      "16  chromedriver                        0x0000000102eeae5c chromedriver + 4124252\n",
      "17  chromedriver                        0x0000000102eefc4c chromedriver + 4144204\n",
      "18  chromedriver                        0x0000000102ed0824 chromedriver + 4016164\n",
      "19  chromedriver                        0x0000000102ef057c chromedriver + 4146556\n",
      "20  chromedriver                        0x0000000102ec22d8 chromedriver + 3957464\n",
      "21  chromedriver                        0x0000000102f0fec4 chromedriver + 4275908\n",
      "22  chromedriver                        0x0000000102f10040 chromedriver + 4276288\n",
      "23  chromedriver                        0x0000000102f1ea34 chromedriver + 4336180\n",
      "24  libsystem_pthread.dylib             0x00000001905df034 _pthread_start + 136\n",
      "25  libsystem_pthread.dylib             0x00000001905d9e3c thread_start + 8\n",
      "\n",
      "WebDriverException: Message: unknown error: net::ERR_NAME_NOT_RESOLVED\n",
      "  (Session info: chrome=124.0.6367.208)\n",
      "Stacktrace:\n",
      "0   chromedriver                        0x0000000102f26940 chromedriver + 4368704\n",
      "1   chromedriver                        0x0000000102f1edd4 chromedriver + 4337108\n",
      "2   chromedriver                        0x0000000102b42c04 chromedriver + 289796\n",
      "3   chromedriver                        0x0000000102b3baf8 chromedriver + 260856\n",
      "4   chromedriver                        0x0000000102b2d5e0 chromedriver + 202208\n",
      "5   chromedriver                        0x0000000102b2e8d4 chromedriver + 207060\n",
      "6   chromedriver                        0x0000000102b2d8fc chromedriver + 203004\n",
      "7   chromedriver                        0x0000000102b2d294 chromedriver + 201364\n",
      "8   chromedriver                        0x0000000102b2cf5c chromedriver + 200540\n",
      "9   chromedriver                        0x0000000102b2ad20 chromedriver + 191776\n",
      "10  chromedriver                        0x0000000102b2b6bc chromedriver + 194236\n",
      "11  chromedriver                        0x0000000102b4516c chromedriver + 299372\n",
      "12  chromedriver                        0x0000000102bbdc08 chromedriver + 793608\n",
      "13  chromedriver                        0x0000000102bbd5ec chromedriver + 792044\n",
      "14  chromedriver                        0x0000000102b79ab4 chromedriver + 514740\n",
      "15  chromedriver                        0x0000000102b7a50c chromedriver + 517388\n",
      "16  chromedriver                        0x0000000102eeae5c chromedriver + 4124252\n",
      "17  chromedriver                        0x0000000102eefc4c chromedriver + 4144204\n",
      "18  chromedriver                        0x0000000102ed0824 chromedriver + 4016164\n",
      "19  chromedriver                        0x0000000102ef057c chromedriver + 4146556\n",
      "20  chromedriver                        0x0000000102ec22d8 chromedriver + 3957464\n",
      "21  chromedriver                        0x0000000102f0fec4 chromedriver + 4275908\n",
      "22  chromedriver                        0x0000000102f10040 chromedriver + 4276288\n",
      "23  chromedriver                        0x0000000102f1ea34 chromedriver + 4336180\n",
      "24  libsystem_pthread.dylib             0x00000001905df034 _pthread_start + 136\n",
      "25  libsystem_pthread.dylib             0x00000001905d9e3c thread_start + 8\n",
      "\n"
     ]
    },
    {
     "name": "stderr",
     "output_type": "stream",
     "text": [
      " 36%|██████████████████████████████████████████▌                                                                           | 26/72 [00:01<00:02, 20.59it/s]\u001b[A\n",
      " 40%|███████████████████████████████████████████████▌                                                                      | 29/72 [00:01<00:02, 21.16it/s]\u001b[A"
     ]
    },
    {
     "name": "stdout",
     "output_type": "stream",
     "text": [
      "WebDriverException: Message: unknown error: net::ERR_NAME_NOT_RESOLVED\n",
      "  (Session info: chrome=124.0.6367.208)\n",
      "Stacktrace:\n",
      "0   chromedriver                        0x0000000102f26940 chromedriver + 4368704\n",
      "1   chromedriver                        0x0000000102f1edd4 chromedriver + 4337108\n",
      "2   chromedriver                        0x0000000102b42c04 chromedriver + 289796\n",
      "3   chromedriver                        0x0000000102b3baf8 chromedriver + 260856\n",
      "4   chromedriver                        0x0000000102b2d5e0 chromedriver + 202208\n",
      "5   chromedriver                        0x0000000102b2e8d4 chromedriver + 207060\n",
      "6   chromedriver                        0x0000000102b2d8fc chromedriver + 203004\n",
      "7   chromedriver                        0x0000000102b2d294 chromedriver + 201364\n",
      "8   chromedriver                        0x0000000102b2cf5c chromedriver + 200540\n",
      "9   chromedriver                        0x0000000102b2ad20 chromedriver + 191776\n",
      "10  chromedriver                        0x0000000102b2b6bc chromedriver + 194236\n",
      "11  chromedriver                        0x0000000102b4516c chromedriver + 299372\n",
      "12  chromedriver                        0x0000000102bbdc08 chromedriver + 793608\n",
      "13  chromedriver                        0x0000000102bbd5ec chromedriver + 792044\n",
      "14  chromedriver                        0x0000000102b79ab4 chromedriver + 514740\n",
      "15  chromedriver                        0x0000000102b7a50c chromedriver + 517388\n",
      "16  chromedriver                        0x0000000102eeae5c chromedriver + 4124252\n",
      "17  chromedriver                        0x0000000102eefc4c chromedriver + 4144204\n",
      "18  chromedriver                        0x0000000102ed0824 chromedriver + 4016164\n",
      "19  chromedriver                        0x0000000102ef057c chromedriver + 4146556\n",
      "20  chromedriver                        0x0000000102ec22d8 chromedriver + 3957464\n",
      "21  chromedriver                        0x0000000102f0fec4 chromedriver + 4275908\n",
      "22  chromedriver                        0x0000000102f10040 chromedriver + 4276288\n",
      "23  chromedriver                        0x0000000102f1ea34 chromedriver + 4336180\n",
      "24  libsystem_pthread.dylib             0x00000001905df034 _pthread_start + 136\n",
      "25  libsystem_pthread.dylib             0x00000001905d9e3c thread_start + 8\n",
      "\n",
      "WebDriverException: Message: unknown error: net::ERR_NAME_NOT_RESOLVED\n",
      "  (Session info: chrome=124.0.6367.208)\n",
      "Stacktrace:\n",
      "0   chromedriver                        0x0000000102f26940 chromedriver + 4368704\n",
      "1   chromedriver                        0x0000000102f1edd4 chromedriver + 4337108\n",
      "2   chromedriver                        0x0000000102b42c04 chromedriver + 289796\n",
      "3   chromedriver                        0x0000000102b3baf8 chromedriver + 260856\n",
      "4   chromedriver                        0x0000000102b2d5e0 chromedriver + 202208\n",
      "5   chromedriver                        0x0000000102b2e8d4 chromedriver + 207060\n",
      "6   chromedriver                        0x0000000102b2d8fc chromedriver + 203004\n",
      "7   chromedriver                        0x0000000102b2d294 chromedriver + 201364\n",
      "8   chromedriver                        0x0000000102b2cf5c chromedriver + 200540\n",
      "9   chromedriver                        0x0000000102b2ad20 chromedriver + 191776\n",
      "10  chromedriver                        0x0000000102b2b6bc chromedriver + 194236\n",
      "11  chromedriver                        0x0000000102b4516c chromedriver + 299372\n",
      "12  chromedriver                        0x0000000102bbdc08 chromedriver + 793608\n",
      "13  chromedriver                        0x0000000102bbd5ec chromedriver + 792044\n",
      "14  chromedriver                        0x0000000102b79ab4 chromedriver + 514740\n",
      "15  chromedriver                        0x0000000102b7a50c chromedriver + 517388\n",
      "16  chromedriver                        0x0000000102eeae5c chromedriver + 4124252\n",
      "17  chromedriver                        0x0000000102eefc4c chromedriver + 4144204\n",
      "18  chromedriver                        0x0000000102ed0824 chromedriver + 4016164\n",
      "19  chromedriver                        0x0000000102ef057c chromedriver + 4146556\n",
      "20  chromedriver                        0x0000000102ec22d8 chromedriver + 3957464\n",
      "21  chromedriver                        0x0000000102f0fec4 chromedriver + 4275908\n",
      "22  chromedriver                        0x0000000102f10040 chromedriver + 4276288\n",
      "23  chromedriver                        0x0000000102f1ea34 chromedriver + 4336180\n",
      "24  libsystem_pthread.dylib             0x00000001905df034 _pthread_start + 136\n",
      "25  libsystem_pthread.dylib             0x00000001905d9e3c thread_start + 8\n",
      "\n",
      "WebDriverException: Message: unknown error: net::ERR_NAME_NOT_RESOLVED\n",
      "  (Session info: chrome=124.0.6367.208)\n",
      "Stacktrace:\n",
      "0   chromedriver                        0x0000000102f26940 chromedriver + 4368704\n",
      "1   chromedriver                        0x0000000102f1edd4 chromedriver + 4337108\n",
      "2   chromedriver                        0x0000000102b42c04 chromedriver + 289796\n",
      "3   chromedriver                        0x0000000102b3baf8 chromedriver + 260856\n",
      "4   chromedriver                        0x0000000102b2d5e0 chromedriver + 202208\n",
      "5   chromedriver                        0x0000000102b2e8d4 chromedriver + 207060\n",
      "6   chromedriver                        0x0000000102b2d8fc chromedriver + 203004\n",
      "7   chromedriver                        0x0000000102b2d294 chromedriver + 201364\n",
      "8   chromedriver                        0x0000000102b2cf5c chromedriver + 200540\n",
      "9   chromedriver                        0x0000000102b2ad20 chromedriver + 191776\n",
      "10  chromedriver                        0x0000000102b2b6bc chromedriver + 194236\n",
      "11  chromedriver                        0x0000000102b4516c chromedriver + 299372\n",
      "12  chromedriver                        0x0000000102bbdc08 chromedriver + 793608\n",
      "13  chromedriver                        0x0000000102bbd5ec chromedriver + 792044\n",
      "14  chromedriver                        0x0000000102b79ab4 chromedriver + 514740\n",
      "15  chromedriver                        0x0000000102b7a50c chromedriver + 517388\n",
      "16  chromedriver                        0x0000000102eeae5c chromedriver + 4124252\n",
      "17  chromedriver                        0x0000000102eefc4c chromedriver + 4144204\n",
      "18  chromedriver                        0x0000000102ed0824 chromedriver + 4016164\n",
      "19  chromedriver                        0x0000000102ef057c chromedriver + 4146556\n",
      "20  chromedriver                        0x0000000102ec22d8 chromedriver + 3957464\n",
      "21  chromedriver                        0x0000000102f0fec4 chromedriver + 4275908\n",
      "22  chromedriver                        0x0000000102f10040 chromedriver + 4276288\n",
      "23  chromedriver                        0x0000000102f1ea34 chromedriver + 4336180\n",
      "24  libsystem_pthread.dylib             0x00000001905df034 _pthread_start + 136\n",
      "25  libsystem_pthread.dylib             0x00000001905d9e3c thread_start + 8\n",
      "\n",
      "WebDriverException: Message: unknown error: net::ERR_NAME_NOT_RESOLVED\n",
      "  (Session info: chrome=124.0.6367.208)\n",
      "Stacktrace:\n",
      "0   chromedriver                        0x0000000102f26940 chromedriver + 4368704\n",
      "1   chromedriver                        0x0000000102f1edd4 chromedriver + 4337108\n",
      "2   chromedriver                        0x0000000102b42c04 chromedriver + 289796\n",
      "3   chromedriver                        0x0000000102b3baf8 chromedriver + 260856\n",
      "4   chromedriver                        0x0000000102b2d5e0 chromedriver + 202208\n",
      "5   chromedriver                        0x0000000102b2e8d4 chromedriver + 207060\n",
      "6   chromedriver                        0x0000000102b2d8fc chromedriver + 203004\n",
      "7   chromedriver                        0x0000000102b2d294 chromedriver + 201364\n",
      "8   chromedriver                        0x0000000102b2cf5c chromedriver + 200540\n",
      "9   chromedriver                        0x0000000102b2ad20 chromedriver + 191776\n",
      "10  chromedriver                        0x0000000102b2b6bc chromedriver + 194236\n",
      "11  chromedriver                        0x0000000102b4516c chromedriver + 299372\n",
      "12  chromedriver                        0x0000000102bbdc08 chromedriver + 793608\n",
      "13  chromedriver                        0x0000000102bbd5ec chromedriver + 792044\n",
      "14  chromedriver                        0x0000000102b79ab4 chromedriver + 514740\n",
      "15  chromedriver                        0x0000000102b7a50c chromedriver + 517388\n",
      "16  chromedriver                        0x0000000102eeae5c chromedriver + 4124252\n",
      "17  chromedriver                        0x0000000102eefc4c chromedriver + 4144204\n",
      "18  chromedriver                        0x0000000102ed0824 chromedriver + 4016164\n",
      "19  chromedriver                        0x0000000102ef057c chromedriver + 4146556\n",
      "20  chromedriver                        0x0000000102ec22d8 chromedriver + 3957464\n",
      "21  chromedriver                        0x0000000102f0fec4 chromedriver + 4275908\n",
      "22  chromedriver                        0x0000000102f10040 chromedriver + 4276288\n",
      "23  chromedriver                        0x0000000102f1ea34 chromedriver + 4336180\n",
      "24  libsystem_pthread.dylib             0x00000001905df034 _pthread_start + 136\n",
      "25  libsystem_pthread.dylib             0x00000001905d9e3c thread_start + 8\n",
      "\n",
      "WebDriverException: Message: unknown error: net::ERR_NAME_NOT_RESOLVED\n",
      "  (Session info: chrome=124.0.6367.208)\n",
      "Stacktrace:\n",
      "0   chromedriver                        0x0000000102f26940 chromedriver + 4368704\n",
      "1   chromedriver                        0x0000000102f1edd4 chromedriver + 4337108\n",
      "2   chromedriver                        0x0000000102b42c04 chromedriver + 289796\n",
      "3   chromedriver                        0x0000000102b3baf8 chromedriver + 260856\n",
      "4   chromedriver                        0x0000000102b2d5e0 chromedriver + 202208\n",
      "5   chromedriver                        0x0000000102b2e8d4 chromedriver + 207060\n",
      "6   chromedriver                        0x0000000102b2d8fc chromedriver + 203004\n",
      "7   chromedriver                        0x0000000102b2d294 chromedriver + 201364\n",
      "8   chromedriver                        0x0000000102b2cf5c chromedriver + 200540\n",
      "9   chromedriver                        0x0000000102b2ad20 chromedriver + 191776\n",
      "10  chromedriver                        0x0000000102b2b6bc chromedriver + 194236\n",
      "11  chromedriver                        0x0000000102b4516c chromedriver + 299372\n",
      "12  chromedriver                        0x0000000102bbdc08 chromedriver + 793608\n",
      "13  chromedriver                        0x0000000102bbd5ec chromedriver + 792044\n",
      "14  chromedriver                        0x0000000102b79ab4 chromedriver + 514740\n",
      "15  chromedriver                        0x0000000102b7a50c chromedriver + 517388\n",
      "16  chromedriver                        0x0000000102eeae5c chromedriver + 4124252\n",
      "17  chromedriver                        0x0000000102eefc4c chromedriver + 4144204\n",
      "18  chromedriver                        0x0000000102ed0824 chromedriver + 4016164\n",
      "19  chromedriver                        0x0000000102ef057c chromedriver + 4146556\n",
      "20  chromedriver                        0x0000000102ec22d8 chromedriver + 3957464\n",
      "21  chromedriver                        0x0000000102f0fec4 chromedriver + 4275908\n",
      "22  chromedriver                        0x0000000102f10040 chromedriver + 4276288\n",
      "23  chromedriver                        0x0000000102f1ea34 chromedriver + 4336180\n",
      "24  libsystem_pthread.dylib             0x00000001905df034 _pthread_start + 136\n",
      "25  libsystem_pthread.dylib             0x00000001905d9e3c thread_start + 8\n",
      "\n"
     ]
    },
    {
     "name": "stderr",
     "output_type": "stream",
     "text": [
      "\n",
      " 44%|████████████████████████████████████████████████████▍                                                                 | 32/72 [00:01<00:01, 20.72it/s]\u001b[A\n",
      " 49%|█████████████████████████████████████████████████████████▎                                                            | 35/72 [00:01<00:01, 20.97it/s]\u001b[A"
     ]
    },
    {
     "name": "stdout",
     "output_type": "stream",
     "text": [
      "WebDriverException: Message: unknown error: net::ERR_NAME_NOT_RESOLVED\n",
      "  (Session info: chrome=124.0.6367.208)\n",
      "Stacktrace:\n",
      "0   chromedriver                        0x0000000102f26940 chromedriver + 4368704\n",
      "1   chromedriver                        0x0000000102f1edd4 chromedriver + 4337108\n",
      "2   chromedriver                        0x0000000102b42c04 chromedriver + 289796\n",
      "3   chromedriver                        0x0000000102b3baf8 chromedriver + 260856\n",
      "4   chromedriver                        0x0000000102b2d5e0 chromedriver + 202208\n",
      "5   chromedriver                        0x0000000102b2e8d4 chromedriver + 207060\n",
      "6   chromedriver                        0x0000000102b2d8fc chromedriver + 203004\n",
      "7   chromedriver                        0x0000000102b2d294 chromedriver + 201364\n",
      "8   chromedriver                        0x0000000102b2cf5c chromedriver + 200540\n",
      "9   chromedriver                        0x0000000102b2ad20 chromedriver + 191776\n",
      "10  chromedriver                        0x0000000102b2b6bc chromedriver + 194236\n",
      "11  chromedriver                        0x0000000102b4516c chromedriver + 299372\n",
      "12  chromedriver                        0x0000000102bbdc08 chromedriver + 793608\n",
      "13  chromedriver                        0x0000000102bbd5ec chromedriver + 792044\n",
      "14  chromedriver                        0x0000000102b79ab4 chromedriver + 514740\n",
      "15  chromedriver                        0x0000000102b7a50c chromedriver + 517388\n",
      "16  chromedriver                        0x0000000102eeae5c chromedriver + 4124252\n",
      "17  chromedriver                        0x0000000102eefc4c chromedriver + 4144204\n",
      "18  chromedriver                        0x0000000102ed0824 chromedriver + 4016164\n",
      "19  chromedriver                        0x0000000102ef057c chromedriver + 4146556\n",
      "20  chromedriver                        0x0000000102ec22d8 chromedriver + 3957464\n",
      "21  chromedriver                        0x0000000102f0fec4 chromedriver + 4275908\n",
      "22  chromedriver                        0x0000000102f10040 chromedriver + 4276288\n",
      "23  chromedriver                        0x0000000102f1ea34 chromedriver + 4336180\n",
      "24  libsystem_pthread.dylib             0x00000001905df034 _pthread_start + 136\n",
      "25  libsystem_pthread.dylib             0x00000001905d9e3c thread_start + 8\n",
      "\n",
      "WebDriverException: Message: unknown error: net::ERR_NAME_NOT_RESOLVED\n",
      "  (Session info: chrome=124.0.6367.208)\n",
      "Stacktrace:\n",
      "0   chromedriver                        0x0000000102f26940 chromedriver + 4368704\n",
      "1   chromedriver                        0x0000000102f1edd4 chromedriver + 4337108\n",
      "2   chromedriver                        0x0000000102b42c04 chromedriver + 289796\n",
      "3   chromedriver                        0x0000000102b3baf8 chromedriver + 260856\n",
      "4   chromedriver                        0x0000000102b2d5e0 chromedriver + 202208\n",
      "5   chromedriver                        0x0000000102b2e8d4 chromedriver + 207060\n",
      "6   chromedriver                        0x0000000102b2d8fc chromedriver + 203004\n",
      "7   chromedriver                        0x0000000102b2d294 chromedriver + 201364\n",
      "8   chromedriver                        0x0000000102b2cf5c chromedriver + 200540\n",
      "9   chromedriver                        0x0000000102b2ad20 chromedriver + 191776\n",
      "10  chromedriver                        0x0000000102b2b6bc chromedriver + 194236\n",
      "11  chromedriver                        0x0000000102b4516c chromedriver + 299372\n",
      "12  chromedriver                        0x0000000102bbdc08 chromedriver + 793608\n",
      "13  chromedriver                        0x0000000102bbd5ec chromedriver + 792044\n",
      "14  chromedriver                        0x0000000102b79ab4 chromedriver + 514740\n",
      "15  chromedriver                        0x0000000102b7a50c chromedriver + 517388\n",
      "16  chromedriver                        0x0000000102eeae5c chromedriver + 4124252\n",
      "17  chromedriver                        0x0000000102eefc4c chromedriver + 4144204\n",
      "18  chromedriver                        0x0000000102ed0824 chromedriver + 4016164\n",
      "19  chromedriver                        0x0000000102ef057c chromedriver + 4146556\n",
      "20  chromedriver                        0x0000000102ec22d8 chromedriver + 3957464\n",
      "21  chromedriver                        0x0000000102f0fec4 chromedriver + 4275908\n",
      "22  chromedriver                        0x0000000102f10040 chromedriver + 4276288\n",
      "23  chromedriver                        0x0000000102f1ea34 chromedriver + 4336180\n",
      "24  libsystem_pthread.dylib             0x00000001905df034 _pthread_start + 136\n",
      "25  libsystem_pthread.dylib             0x00000001905d9e3c thread_start + 8\n",
      "\n",
      "WebDriverException: Message: unknown error: net::ERR_NAME_NOT_RESOLVED\n",
      "  (Session info: chrome=124.0.6367.208)\n",
      "Stacktrace:\n",
      "0   chromedriver                        0x0000000102f26940 chromedriver + 4368704\n",
      "1   chromedriver                        0x0000000102f1edd4 chromedriver + 4337108\n",
      "2   chromedriver                        0x0000000102b42c04 chromedriver + 289796\n",
      "3   chromedriver                        0x0000000102b3baf8 chromedriver + 260856\n",
      "4   chromedriver                        0x0000000102b2d5e0 chromedriver + 202208\n",
      "5   chromedriver                        0x0000000102b2e8d4 chromedriver + 207060\n",
      "6   chromedriver                        0x0000000102b2d8fc chromedriver + 203004\n",
      "7   chromedriver                        0x0000000102b2d294 chromedriver + 201364\n",
      "8   chromedriver                        0x0000000102b2cf5c chromedriver + 200540\n",
      "9   chromedriver                        0x0000000102b2ad20 chromedriver + 191776\n",
      "10  chromedriver                        0x0000000102b2b6bc chromedriver + 194236\n",
      "11  chromedriver                        0x0000000102b4516c chromedriver + 299372\n",
      "12  chromedriver                        0x0000000102bbdc08 chromedriver + 793608\n",
      "13  chromedriver                        0x0000000102bbd5ec chromedriver + 792044\n",
      "14  chromedriver                        0x0000000102b79ab4 chromedriver + 514740\n",
      "15  chromedriver                        0x0000000102b7a50c chromedriver + 517388\n",
      "16  chromedriver                        0x0000000102eeae5c chromedriver + 4124252\n",
      "17  chromedriver                        0x0000000102eefc4c chromedriver + 4144204\n",
      "18  chromedriver                        0x0000000102ed0824 chromedriver + 4016164\n",
      "19  chromedriver                        0x0000000102ef057c chromedriver + 4146556\n",
      "20  chromedriver                        0x0000000102ec22d8 chromedriver + 3957464\n",
      "21  chromedriver                        0x0000000102f0fec4 chromedriver + 4275908\n",
      "22  chromedriver                        0x0000000102f10040 chromedriver + 4276288\n",
      "23  chromedriver                        0x0000000102f1ea34 chromedriver + 4336180\n",
      "24  libsystem_pthread.dylib             0x00000001905df034 _pthread_start + 136\n",
      "25  libsystem_pthread.dylib             0x00000001905d9e3c thread_start + 8\n",
      "\n",
      "WebDriverException: Message: unknown error: net::ERR_NAME_NOT_RESOLVED\n",
      "  (Session info: chrome=124.0.6367.208)\n",
      "Stacktrace:\n",
      "0   chromedriver                        0x0000000102f26940 chromedriver + 4368704\n",
      "1   chromedriver                        0x0000000102f1edd4 chromedriver + 4337108\n",
      "2   chromedriver                        0x0000000102b42c04 chromedriver + 289796\n",
      "3   chromedriver                        0x0000000102b3baf8 chromedriver + 260856\n",
      "4   chromedriver                        0x0000000102b2d5e0 chromedriver + 202208\n",
      "5   chromedriver                        0x0000000102b2e8d4 chromedriver + 207060\n",
      "6   chromedriver                        0x0000000102b2d8fc chromedriver + 203004\n",
      "7   chromedriver                        0x0000000102b2d294 chromedriver + 201364\n",
      "8   chromedriver                        0x0000000102b2cf5c chromedriver + 200540\n",
      "9   chromedriver                        0x0000000102b2ad20 chromedriver + 191776\n",
      "10  chromedriver                        0x0000000102b2b6bc chromedriver + 194236\n",
      "11  chromedriver                        0x0000000102b4516c chromedriver + 299372\n",
      "12  chromedriver                        0x0000000102bbdc08 chromedriver + 793608\n",
      "13  chromedriver                        0x0000000102bbd5ec chromedriver + 792044\n",
      "14  chromedriver                        0x0000000102b79ab4 chromedriver + 514740\n",
      "15  chromedriver                        0x0000000102b7a50c chromedriver + 517388\n",
      "16  chromedriver                        0x0000000102eeae5c chromedriver + 4124252\n",
      "17  chromedriver                        0x0000000102eefc4c chromedriver + 4144204\n",
      "18  chromedriver                        0x0000000102ed0824 chromedriver + 4016164\n",
      "19  chromedriver                        0x0000000102ef057c chromedriver + 4146556\n",
      "20  chromedriver                        0x0000000102ec22d8 chromedriver + 3957464\n",
      "21  chromedriver                        0x0000000102f0fec4 chromedriver + 4275908\n",
      "22  chromedriver                        0x0000000102f10040 chromedriver + 4276288\n",
      "23  chromedriver                        0x0000000102f1ea34 chromedriver + 4336180\n",
      "24  libsystem_pthread.dylib             0x00000001905df034 _pthread_start + 136\n",
      "25  libsystem_pthread.dylib             0x00000001905d9e3c thread_start + 8\n",
      "\n",
      "WebDriverException: Message: unknown error: net::ERR_NAME_NOT_RESOLVED\n",
      "  (Session info: chrome=124.0.6367.208)\n",
      "Stacktrace:\n",
      "0   chromedriver                        0x0000000102f26940 chromedriver + 4368704\n",
      "1   chromedriver                        0x0000000102f1edd4 chromedriver + 4337108\n",
      "2   chromedriver                        0x0000000102b42c04 chromedriver + 289796\n",
      "3   chromedriver                        0x0000000102b3baf8 chromedriver + 260856\n",
      "4   chromedriver                        0x0000000102b2d5e0 chromedriver + 202208\n",
      "5   chromedriver                        0x0000000102b2e8d4 chromedriver + 207060\n",
      "6   chromedriver                        0x0000000102b2d8fc chromedriver + 203004\n",
      "7   chromedriver                        0x0000000102b2d294 chromedriver + 201364\n",
      "8   chromedriver                        0x0000000102b2cf5c chromedriver + 200540\n",
      "9   chromedriver                        0x0000000102b2ad20 chromedriver + 191776\n",
      "10  chromedriver                        0x0000000102b2b6bc chromedriver + 194236\n",
      "11  chromedriver                        0x0000000102b4516c chromedriver + 299372\n",
      "12  chromedriver                        0x0000000102bbdc08 chromedriver + 793608\n",
      "13  chromedriver                        0x0000000102bbd5ec chromedriver + 792044\n",
      "14  chromedriver                        0x0000000102b79ab4 chromedriver + 514740\n",
      "15  chromedriver                        0x0000000102b7a50c chromedriver + 517388\n",
      "16  chromedriver                        0x0000000102eeae5c chromedriver + 4124252\n",
      "17  chromedriver                        0x0000000102eefc4c chromedriver + 4144204\n",
      "18  chromedriver                        0x0000000102ed0824 chromedriver + 4016164\n",
      "19  chromedriver                        0x0000000102ef057c chromedriver + 4146556\n",
      "20  chromedriver                        0x0000000102ec22d8 chromedriver + 3957464\n",
      "21  chromedriver                        0x0000000102f0fec4 chromedriver + 4275908\n",
      "22  chromedriver                        0x0000000102f10040 chromedriver + 4276288\n",
      "23  chromedriver                        0x0000000102f1ea34 chromedriver + 4336180\n",
      "24  libsystem_pthread.dylib             0x00000001905df034 _pthread_start + 136\n",
      "25  libsystem_pthread.dylib             0x00000001905d9e3c thread_start + 8\n",
      "\n"
     ]
    },
    {
     "name": "stderr",
     "output_type": "stream",
     "text": [
      "\n",
      " 53%|██████████████████████████████████████████████████████████████▎                                                       | 38/72 [00:02<00:01, 20.93it/s]\u001b[A\n",
      " 57%|███████████████████████████████████████████████████████████████████▏                                                  | 41/72 [00:02<00:01, 21.45it/s]\u001b[A"
     ]
    },
    {
     "name": "stdout",
     "output_type": "stream",
     "text": [
      "WebDriverException: Message: unknown error: net::ERR_NAME_NOT_RESOLVED\n",
      "  (Session info: chrome=124.0.6367.208)\n",
      "Stacktrace:\n",
      "0   chromedriver                        0x0000000102f26940 chromedriver + 4368704\n",
      "1   chromedriver                        0x0000000102f1edd4 chromedriver + 4337108\n",
      "2   chromedriver                        0x0000000102b42c04 chromedriver + 289796\n",
      "3   chromedriver                        0x0000000102b3baf8 chromedriver + 260856\n",
      "4   chromedriver                        0x0000000102b2d5e0 chromedriver + 202208\n",
      "5   chromedriver                        0x0000000102b2e8d4 chromedriver + 207060\n",
      "6   chromedriver                        0x0000000102b2d8fc chromedriver + 203004\n",
      "7   chromedriver                        0x0000000102b2d294 chromedriver + 201364\n",
      "8   chromedriver                        0x0000000102b2cf5c chromedriver + 200540\n",
      "9   chromedriver                        0x0000000102b2ad20 chromedriver + 191776\n",
      "10  chromedriver                        0x0000000102b2b6bc chromedriver + 194236\n",
      "11  chromedriver                        0x0000000102b4516c chromedriver + 299372\n",
      "12  chromedriver                        0x0000000102bbdc08 chromedriver + 793608\n",
      "13  chromedriver                        0x0000000102bbd5ec chromedriver + 792044\n",
      "14  chromedriver                        0x0000000102b79ab4 chromedriver + 514740\n",
      "15  chromedriver                        0x0000000102b7a50c chromedriver + 517388\n",
      "16  chromedriver                        0x0000000102eeae5c chromedriver + 4124252\n",
      "17  chromedriver                        0x0000000102eefc4c chromedriver + 4144204\n",
      "18  chromedriver                        0x0000000102ed0824 chromedriver + 4016164\n",
      "19  chromedriver                        0x0000000102ef057c chromedriver + 4146556\n",
      "20  chromedriver                        0x0000000102ec22d8 chromedriver + 3957464\n",
      "21  chromedriver                        0x0000000102f0fec4 chromedriver + 4275908\n",
      "22  chromedriver                        0x0000000102f10040 chromedriver + 4276288\n",
      "23  chromedriver                        0x0000000102f1ea34 chromedriver + 4336180\n",
      "24  libsystem_pthread.dylib             0x00000001905df034 _pthread_start + 136\n",
      "25  libsystem_pthread.dylib             0x00000001905d9e3c thread_start + 8\n",
      "\n",
      "WebDriverException: Message: unknown error: net::ERR_NAME_NOT_RESOLVED\n",
      "  (Session info: chrome=124.0.6367.208)\n",
      "Stacktrace:\n",
      "0   chromedriver                        0x0000000102f26940 chromedriver + 4368704\n",
      "1   chromedriver                        0x0000000102f1edd4 chromedriver + 4337108\n",
      "2   chromedriver                        0x0000000102b42c04 chromedriver + 289796\n",
      "3   chromedriver                        0x0000000102b3baf8 chromedriver + 260856\n",
      "4   chromedriver                        0x0000000102b2d5e0 chromedriver + 202208\n",
      "5   chromedriver                        0x0000000102b2e8d4 chromedriver + 207060\n",
      "6   chromedriver                        0x0000000102b2d8fc chromedriver + 203004\n",
      "7   chromedriver                        0x0000000102b2d294 chromedriver + 201364\n",
      "8   chromedriver                        0x0000000102b2cf5c chromedriver + 200540\n",
      "9   chromedriver                        0x0000000102b2ad20 chromedriver + 191776\n",
      "10  chromedriver                        0x0000000102b2b6bc chromedriver + 194236\n",
      "11  chromedriver                        0x0000000102b4516c chromedriver + 299372\n",
      "12  chromedriver                        0x0000000102bbdc08 chromedriver + 793608\n",
      "13  chromedriver                        0x0000000102bbd5ec chromedriver + 792044\n",
      "14  chromedriver                        0x0000000102b79ab4 chromedriver + 514740\n",
      "15  chromedriver                        0x0000000102b7a50c chromedriver + 517388\n",
      "16  chromedriver                        0x0000000102eeae5c chromedriver + 4124252\n",
      "17  chromedriver                        0x0000000102eefc4c chromedriver + 4144204\n",
      "18  chromedriver                        0x0000000102ed0824 chromedriver + 4016164\n",
      "19  chromedriver                        0x0000000102ef057c chromedriver + 4146556\n",
      "20  chromedriver                        0x0000000102ec22d8 chromedriver + 3957464\n",
      "21  chromedriver                        0x0000000102f0fec4 chromedriver + 4275908\n",
      "22  chromedriver                        0x0000000102f10040 chromedriver + 4276288\n",
      "23  chromedriver                        0x0000000102f1ea34 chromedriver + 4336180\n",
      "24  libsystem_pthread.dylib             0x00000001905df034 _pthread_start + 136\n",
      "25  libsystem_pthread.dylib             0x00000001905d9e3c thread_start + 8\n",
      "\n",
      "WebDriverException: Message: unknown error: net::ERR_NAME_NOT_RESOLVED\n",
      "  (Session info: chrome=124.0.6367.208)\n",
      "Stacktrace:\n",
      "0   chromedriver                        0x0000000102f26940 chromedriver + 4368704\n",
      "1   chromedriver                        0x0000000102f1edd4 chromedriver + 4337108\n",
      "2   chromedriver                        0x0000000102b42c04 chromedriver + 289796\n",
      "3   chromedriver                        0x0000000102b3baf8 chromedriver + 260856\n",
      "4   chromedriver                        0x0000000102b2d5e0 chromedriver + 202208\n",
      "5   chromedriver                        0x0000000102b2e8d4 chromedriver + 207060\n",
      "6   chromedriver                        0x0000000102b2d8fc chromedriver + 203004\n",
      "7   chromedriver                        0x0000000102b2d294 chromedriver + 201364\n",
      "8   chromedriver                        0x0000000102b2cf5c chromedriver + 200540\n",
      "9   chromedriver                        0x0000000102b2ad20 chromedriver + 191776\n",
      "10  chromedriver                        0x0000000102b2b6bc chromedriver + 194236\n",
      "11  chromedriver                        0x0000000102b4516c chromedriver + 299372\n",
      "12  chromedriver                        0x0000000102bbdc08 chromedriver + 793608\n",
      "13  chromedriver                        0x0000000102bbd5ec chromedriver + 792044\n",
      "14  chromedriver                        0x0000000102b79ab4 chromedriver + 514740\n",
      "15  chromedriver                        0x0000000102b7a50c chromedriver + 517388\n",
      "16  chromedriver                        0x0000000102eeae5c chromedriver + 4124252\n",
      "17  chromedriver                        0x0000000102eefc4c chromedriver + 4144204\n",
      "18  chromedriver                        0x0000000102ed0824 chromedriver + 4016164\n",
      "19  chromedriver                        0x0000000102ef057c chromedriver + 4146556\n",
      "20  chromedriver                        0x0000000102ec22d8 chromedriver + 3957464\n",
      "21  chromedriver                        0x0000000102f0fec4 chromedriver + 4275908\n",
      "22  chromedriver                        0x0000000102f10040 chromedriver + 4276288\n",
      "23  chromedriver                        0x0000000102f1ea34 chromedriver + 4336180\n",
      "24  libsystem_pthread.dylib             0x00000001905df034 _pthread_start + 136\n",
      "25  libsystem_pthread.dylib             0x00000001905d9e3c thread_start + 8\n",
      "\n",
      "WebDriverException: Message: unknown error: net::ERR_NAME_NOT_RESOLVED\n",
      "  (Session info: chrome=124.0.6367.208)\n",
      "Stacktrace:\n",
      "0   chromedriver                        0x0000000102f26940 chromedriver + 4368704\n",
      "1   chromedriver                        0x0000000102f1edd4 chromedriver + 4337108\n",
      "2   chromedriver                        0x0000000102b42c04 chromedriver + 289796\n",
      "3   chromedriver                        0x0000000102b3baf8 chromedriver + 260856\n",
      "4   chromedriver                        0x0000000102b2d5e0 chromedriver + 202208\n",
      "5   chromedriver                        0x0000000102b2e8d4 chromedriver + 207060\n",
      "6   chromedriver                        0x0000000102b2d8fc chromedriver + 203004\n",
      "7   chromedriver                        0x0000000102b2d294 chromedriver + 201364\n",
      "8   chromedriver                        0x0000000102b2cf5c chromedriver + 200540\n",
      "9   chromedriver                        0x0000000102b2ad20 chromedriver + 191776\n",
      "10  chromedriver                        0x0000000102b2b6bc chromedriver + 194236\n",
      "11  chromedriver                        0x0000000102b4516c chromedriver + 299372\n",
      "12  chromedriver                        0x0000000102bbdc08 chromedriver + 793608\n",
      "13  chromedriver                        0x0000000102bbd5ec chromedriver + 792044\n",
      "14  chromedriver                        0x0000000102b79ab4 chromedriver + 514740\n",
      "15  chromedriver                        0x0000000102b7a50c chromedriver + 517388\n",
      "16  chromedriver                        0x0000000102eeae5c chromedriver + 4124252\n",
      "17  chromedriver                        0x0000000102eefc4c chromedriver + 4144204\n",
      "18  chromedriver                        0x0000000102ed0824 chromedriver + 4016164\n",
      "19  chromedriver                        0x0000000102ef057c chromedriver + 4146556\n",
      "20  chromedriver                        0x0000000102ec22d8 chromedriver + 3957464\n",
      "21  chromedriver                        0x0000000102f0fec4 chromedriver + 4275908\n",
      "22  chromedriver                        0x0000000102f10040 chromedriver + 4276288\n",
      "23  chromedriver                        0x0000000102f1ea34 chromedriver + 4336180\n",
      "24  libsystem_pthread.dylib             0x00000001905df034 _pthread_start + 136\n",
      "25  libsystem_pthread.dylib             0x00000001905d9e3c thread_start + 8\n",
      "\n",
      "WebDriverException: Message: unknown error: net::ERR_NAME_NOT_RESOLVED\n",
      "  (Session info: chrome=124.0.6367.208)\n",
      "Stacktrace:\n",
      "0   chromedriver                        0x0000000102f26940 chromedriver + 4368704\n",
      "1   chromedriver                        0x0000000102f1edd4 chromedriver + 4337108\n",
      "2   chromedriver                        0x0000000102b42c04 chromedriver + 289796\n",
      "3   chromedriver                        0x0000000102b3baf8 chromedriver + 260856\n",
      "4   chromedriver                        0x0000000102b2d5e0 chromedriver + 202208\n",
      "5   chromedriver                        0x0000000102b2e8d4 chromedriver + 207060\n",
      "6   chromedriver                        0x0000000102b2d8fc chromedriver + 203004\n",
      "7   chromedriver                        0x0000000102b2d294 chromedriver + 201364\n",
      "8   chromedriver                        0x0000000102b2cf5c chromedriver + 200540\n",
      "9   chromedriver                        0x0000000102b2ad20 chromedriver + 191776\n",
      "10  chromedriver                        0x0000000102b2b6bc chromedriver + 194236\n",
      "11  chromedriver                        0x0000000102b4516c chromedriver + 299372\n",
      "12  chromedriver                        0x0000000102bbdc08 chromedriver + 793608\n",
      "13  chromedriver                        0x0000000102bbd5ec chromedriver + 792044\n",
      "14  chromedriver                        0x0000000102b79ab4 chromedriver + 514740\n",
      "15  chromedriver                        0x0000000102b7a50c chromedriver + 517388\n",
      "16  chromedriver                        0x0000000102eeae5c chromedriver + 4124252\n",
      "17  chromedriver                        0x0000000102eefc4c chromedriver + 4144204\n",
      "18  chromedriver                        0x0000000102ed0824 chromedriver + 4016164\n",
      "19  chromedriver                        0x0000000102ef057c chromedriver + 4146556\n",
      "20  chromedriver                        0x0000000102ec22d8 chromedriver + 3957464\n",
      "21  chromedriver                        0x0000000102f0fec4 chromedriver + 4275908\n",
      "22  chromedriver                        0x0000000102f10040 chromedriver + 4276288\n",
      "23  chromedriver                        0x0000000102f1ea34 chromedriver + 4336180\n",
      "24  libsystem_pthread.dylib             0x00000001905df034 _pthread_start + 136\n",
      "25  libsystem_pthread.dylib             0x00000001905d9e3c thread_start + 8\n",
      "\n"
     ]
    },
    {
     "name": "stderr",
     "output_type": "stream",
     "text": [
      "\n",
      " 61%|████████████████████████████████████████████████████████████████████████                                              | 44/72 [00:02<00:01, 21.06it/s]\u001b[A"
     ]
    },
    {
     "name": "stdout",
     "output_type": "stream",
     "text": [
      "WebDriverException: Message: unknown error: net::ERR_NAME_NOT_RESOLVED\n",
      "  (Session info: chrome=124.0.6367.208)\n",
      "Stacktrace:\n",
      "0   chromedriver                        0x0000000102f26940 chromedriver + 4368704\n",
      "1   chromedriver                        0x0000000102f1edd4 chromedriver + 4337108\n",
      "2   chromedriver                        0x0000000102b42c04 chromedriver + 289796\n",
      "3   chromedriver                        0x0000000102b3baf8 chromedriver + 260856\n",
      "4   chromedriver                        0x0000000102b2d5e0 chromedriver + 202208\n",
      "5   chromedriver                        0x0000000102b2e8d4 chromedriver + 207060\n",
      "6   chromedriver                        0x0000000102b2d8fc chromedriver + 203004\n",
      "7   chromedriver                        0x0000000102b2d294 chromedriver + 201364\n",
      "8   chromedriver                        0x0000000102b2cf5c chromedriver + 200540\n",
      "9   chromedriver                        0x0000000102b2ad20 chromedriver + 191776\n",
      "10  chromedriver                        0x0000000102b2b6bc chromedriver + 194236\n",
      "11  chromedriver                        0x0000000102b4516c chromedriver + 299372\n",
      "12  chromedriver                        0x0000000102bbdc08 chromedriver + 793608\n",
      "13  chromedriver                        0x0000000102bbd5ec chromedriver + 792044\n",
      "14  chromedriver                        0x0000000102b79ab4 chromedriver + 514740\n",
      "15  chromedriver                        0x0000000102b7a50c chromedriver + 517388\n",
      "16  chromedriver                        0x0000000102eeae5c chromedriver + 4124252\n",
      "17  chromedriver                        0x0000000102eefc4c chromedriver + 4144204\n",
      "18  chromedriver                        0x0000000102ed0824 chromedriver + 4016164\n",
      "19  chromedriver                        0x0000000102ef057c chromedriver + 4146556\n",
      "20  chromedriver                        0x0000000102ec22d8 chromedriver + 3957464\n",
      "21  chromedriver                        0x0000000102f0fec4 chromedriver + 4275908\n",
      "22  chromedriver                        0x0000000102f10040 chromedriver + 4276288\n",
      "23  chromedriver                        0x0000000102f1ea34 chromedriver + 4336180\n",
      "24  libsystem_pthread.dylib             0x00000001905df034 _pthread_start + 136\n",
      "25  libsystem_pthread.dylib             0x00000001905d9e3c thread_start + 8\n",
      "\n",
      "WebDriverException: Message: unknown error: net::ERR_NAME_NOT_RESOLVED\n",
      "  (Session info: chrome=124.0.6367.208)\n",
      "Stacktrace:\n",
      "0   chromedriver                        0x0000000102f26940 chromedriver + 4368704\n",
      "1   chromedriver                        0x0000000102f1edd4 chromedriver + 4337108\n",
      "2   chromedriver                        0x0000000102b42c04 chromedriver + 289796\n",
      "3   chromedriver                        0x0000000102b3baf8 chromedriver + 260856\n",
      "4   chromedriver                        0x0000000102b2d5e0 chromedriver + 202208\n",
      "5   chromedriver                        0x0000000102b2e8d4 chromedriver + 207060\n",
      "6   chromedriver                        0x0000000102b2d8fc chromedriver + 203004\n",
      "7   chromedriver                        0x0000000102b2d294 chromedriver + 201364\n",
      "8   chromedriver                        0x0000000102b2cf5c chromedriver + 200540\n",
      "9   chromedriver                        0x0000000102b2ad20 chromedriver + 191776\n",
      "10  chromedriver                        0x0000000102b2b6bc chromedriver + 194236\n",
      "11  chromedriver                        0x0000000102b4516c chromedriver + 299372\n",
      "12  chromedriver                        0x0000000102bbdc08 chromedriver + 793608\n",
      "13  chromedriver                        0x0000000102bbd5ec chromedriver + 792044\n",
      "14  chromedriver                        0x0000000102b79ab4 chromedriver + 514740\n",
      "15  chromedriver                        0x0000000102b7a50c chromedriver + 517388\n",
      "16  chromedriver                        0x0000000102eeae5c chromedriver + 4124252\n",
      "17  chromedriver                        0x0000000102eefc4c chromedriver + 4144204\n",
      "18  chromedriver                        0x0000000102ed0824 chromedriver + 4016164\n",
      "19  chromedriver                        0x0000000102ef057c chromedriver + 4146556\n",
      "20  chromedriver                        0x0000000102ec22d8 chromedriver + 3957464\n",
      "21  chromedriver                        0x0000000102f0fec4 chromedriver + 4275908\n",
      "22  chromedriver                        0x0000000102f10040 chromedriver + 4276288\n",
      "23  chromedriver                        0x0000000102f1ea34 chromedriver + 4336180\n",
      "24  libsystem_pthread.dylib             0x00000001905df034 _pthread_start + 136\n",
      "25  libsystem_pthread.dylib             0x00000001905d9e3c thread_start + 8\n",
      "\n",
      "WebDriverException: Message: unknown error: net::ERR_NAME_NOT_RESOLVED\n",
      "  (Session info: chrome=124.0.6367.208)\n",
      "Stacktrace:\n",
      "0   chromedriver                        0x0000000102f26940 chromedriver + 4368704\n",
      "1   chromedriver                        0x0000000102f1edd4 chromedriver + 4337108\n",
      "2   chromedriver                        0x0000000102b42c04 chromedriver + 289796\n",
      "3   chromedriver                        0x0000000102b3baf8 chromedriver + 260856\n",
      "4   chromedriver                        0x0000000102b2d5e0 chromedriver + 202208\n",
      "5   chromedriver                        0x0000000102b2e8d4 chromedriver + 207060\n",
      "6   chromedriver                        0x0000000102b2d8fc chromedriver + 203004\n",
      "7   chromedriver                        0x0000000102b2d294 chromedriver + 201364\n",
      "8   chromedriver                        0x0000000102b2cf5c chromedriver + 200540\n",
      "9   chromedriver                        0x0000000102b2ad20 chromedriver + 191776\n",
      "10  chromedriver                        0x0000000102b2b6bc chromedriver + 194236\n",
      "11  chromedriver                        0x0000000102b4516c chromedriver + 299372\n",
      "12  chromedriver                        0x0000000102bbdc08 chromedriver + 793608\n",
      "13  chromedriver                        0x0000000102bbd5ec chromedriver + 792044\n",
      "14  chromedriver                        0x0000000102b79ab4 chromedriver + 514740\n",
      "15  chromedriver                        0x0000000102b7a50c chromedriver + 517388\n",
      "16  chromedriver                        0x0000000102eeae5c chromedriver + 4124252\n",
      "17  chromedriver                        0x0000000102eefc4c chromedriver + 4144204\n",
      "18  chromedriver                        0x0000000102ed0824 chromedriver + 4016164\n",
      "19  chromedriver                        0x0000000102ef057c chromedriver + 4146556\n",
      "20  chromedriver                        0x0000000102ec22d8 chromedriver + 3957464\n",
      "21  chromedriver                        0x0000000102f0fec4 chromedriver + 4275908\n",
      "22  chromedriver                        0x0000000102f10040 chromedriver + 4276288\n",
      "23  chromedriver                        0x0000000102f1ea34 chromedriver + 4336180\n",
      "24  libsystem_pthread.dylib             0x00000001905df034 _pthread_start + 136\n",
      "25  libsystem_pthread.dylib             0x00000001905d9e3c thread_start + 8\n",
      "\n",
      "WebDriverException: Message: unknown error: net::ERR_NAME_NOT_RESOLVED\n",
      "  (Session info: chrome=124.0.6367.208)\n",
      "Stacktrace:\n",
      "0   chromedriver                        0x0000000102f26940 chromedriver + 4368704\n",
      "1   chromedriver                        0x0000000102f1edd4 chromedriver + 4337108\n",
      "2   chromedriver                        0x0000000102b42c04 chromedriver + 289796\n",
      "3   chromedriver                        0x0000000102b3baf8 chromedriver + 260856\n",
      "4   chromedriver                        0x0000000102b2d5e0 chromedriver + 202208\n",
      "5   chromedriver                        0x0000000102b2e8d4 chromedriver + 207060\n",
      "6   chromedriver                        0x0000000102b2d8fc chromedriver + 203004\n",
      "7   chromedriver                        0x0000000102b2d294 chromedriver + 201364\n",
      "8   chromedriver                        0x0000000102b2cf5c chromedriver + 200540\n",
      "9   chromedriver                        0x0000000102b2ad20 chromedriver + 191776\n",
      "10  chromedriver                        0x0000000102b2b6bc chromedriver + 194236\n",
      "11  chromedriver                        0x0000000102b4516c chromedriver + 299372\n",
      "12  chromedriver                        0x0000000102bbdc08 chromedriver + 793608\n",
      "13  chromedriver                        0x0000000102bbd5ec chromedriver + 792044\n",
      "14  chromedriver                        0x0000000102b79ab4 chromedriver + 514740\n",
      "15  chromedriver                        0x0000000102b7a50c chromedriver + 517388\n",
      "16  chromedriver                        0x0000000102eeae5c chromedriver + 4124252\n",
      "17  chromedriver                        0x0000000102eefc4c chromedriver + 4144204\n",
      "18  chromedriver                        0x0000000102ed0824 chromedriver + 4016164\n",
      "19  chromedriver                        0x0000000102ef057c chromedriver + 4146556\n",
      "20  chromedriver                        0x0000000102ec22d8 chromedriver + 3957464\n",
      "21  chromedriver                        0x0000000102f0fec4 chromedriver + 4275908\n",
      "22  chromedriver                        0x0000000102f10040 chromedriver + 4276288\n",
      "23  chromedriver                        0x0000000102f1ea34 chromedriver + 4336180\n",
      "24  libsystem_pthread.dylib             0x00000001905df034 _pthread_start + 136\n",
      "25  libsystem_pthread.dylib             0x00000001905d9e3c thread_start + 8\n",
      "\n",
      "WebDriverException: Message: unknown error: net::ERR_NAME_NOT_RESOLVED\n",
      "  (Session info: chrome=124.0.6367.208)\n",
      "Stacktrace:\n",
      "0   chromedriver                        0x0000000102f26940 chromedriver + 4368704\n",
      "1   chromedriver                        0x0000000102f1edd4 chromedriver + 4337108\n",
      "2   chromedriver                        0x0000000102b42c04 chromedriver + 289796\n",
      "3   chromedriver                        0x0000000102b3baf8 chromedriver + 260856\n",
      "4   chromedriver                        0x0000000102b2d5e0 chromedriver + 202208\n",
      "5   chromedriver                        0x0000000102b2e8d4 chromedriver + 207060\n",
      "6   chromedriver                        0x0000000102b2d8fc chromedriver + 203004\n",
      "7   chromedriver                        0x0000000102b2d294 chromedriver + 201364\n",
      "8   chromedriver                        0x0000000102b2cf5c chromedriver + 200540\n",
      "9   chromedriver                        0x0000000102b2ad20 chromedriver + 191776\n",
      "10  chromedriver                        0x0000000102b2b6bc chromedriver + 194236\n",
      "11  chromedriver                        0x0000000102b4516c chromedriver + 299372\n",
      "12  chromedriver                        0x0000000102bbdc08 chromedriver + 793608\n",
      "13  chromedriver                        0x0000000102bbd5ec chromedriver + 792044\n",
      "14  chromedriver                        0x0000000102b79ab4 chromedriver + 514740\n",
      "15  chromedriver                        0x0000000102b7a50c chromedriver + 517388\n",
      "16  chromedriver                        0x0000000102eeae5c chromedriver + 4124252\n",
      "17  chromedriver                        0x0000000102eefc4c chromedriver + 4144204\n",
      "18  chromedriver                        0x0000000102ed0824 chromedriver + 4016164\n",
      "19  chromedriver                        0x0000000102ef057c chromedriver + 4146556\n",
      "20  chromedriver                        0x0000000102ec22d8 chromedriver + 3957464\n",
      "21  chromedriver                        0x0000000102f0fec4 chromedriver + 4275908\n",
      "22  chromedriver                        0x0000000102f10040 chromedriver + 4276288\n",
      "23  chromedriver                        0x0000000102f1ea34 chromedriver + 4336180\n",
      "24  libsystem_pthread.dylib             0x00000001905df034 _pthread_start + 136\n",
      "25  libsystem_pthread.dylib             0x00000001905d9e3c thread_start + 8\n",
      "\n"
     ]
    },
    {
     "name": "stderr",
     "output_type": "stream",
     "text": [
      "\n",
      " 65%|█████████████████████████████████████████████████████████████████████████████                                         | 47/72 [00:02<00:01, 21.39it/s]\u001b[A\n",
      " 69%|█████████████████████████████████████████████████████████████████████████████████▉                                    | 50/72 [00:02<00:01, 21.58it/s]\u001b[A"
     ]
    },
    {
     "name": "stdout",
     "output_type": "stream",
     "text": [
      "WebDriverException: Message: unknown error: net::ERR_NAME_NOT_RESOLVED\n",
      "  (Session info: chrome=124.0.6367.208)\n",
      "Stacktrace:\n",
      "0   chromedriver                        0x0000000102f26940 chromedriver + 4368704\n",
      "1   chromedriver                        0x0000000102f1edd4 chromedriver + 4337108\n",
      "2   chromedriver                        0x0000000102b42c04 chromedriver + 289796\n",
      "3   chromedriver                        0x0000000102b3baf8 chromedriver + 260856\n",
      "4   chromedriver                        0x0000000102b2d5e0 chromedriver + 202208\n",
      "5   chromedriver                        0x0000000102b2e8d4 chromedriver + 207060\n",
      "6   chromedriver                        0x0000000102b2d8fc chromedriver + 203004\n",
      "7   chromedriver                        0x0000000102b2d294 chromedriver + 201364\n",
      "8   chromedriver                        0x0000000102b2cf5c chromedriver + 200540\n",
      "9   chromedriver                        0x0000000102b2ad20 chromedriver + 191776\n",
      "10  chromedriver                        0x0000000102b2b6bc chromedriver + 194236\n",
      "11  chromedriver                        0x0000000102b4516c chromedriver + 299372\n",
      "12  chromedriver                        0x0000000102bbdc08 chromedriver + 793608\n",
      "13  chromedriver                        0x0000000102bbd5ec chromedriver + 792044\n",
      "14  chromedriver                        0x0000000102b79ab4 chromedriver + 514740\n",
      "15  chromedriver                        0x0000000102b7a50c chromedriver + 517388\n",
      "16  chromedriver                        0x0000000102eeae5c chromedriver + 4124252\n",
      "17  chromedriver                        0x0000000102eefc4c chromedriver + 4144204\n",
      "18  chromedriver                        0x0000000102ed0824 chromedriver + 4016164\n",
      "19  chromedriver                        0x0000000102ef057c chromedriver + 4146556\n",
      "20  chromedriver                        0x0000000102ec22d8 chromedriver + 3957464\n",
      "21  chromedriver                        0x0000000102f0fec4 chromedriver + 4275908\n",
      "22  chromedriver                        0x0000000102f10040 chromedriver + 4276288\n",
      "23  chromedriver                        0x0000000102f1ea34 chromedriver + 4336180\n",
      "24  libsystem_pthread.dylib             0x00000001905df034 _pthread_start + 136\n",
      "25  libsystem_pthread.dylib             0x00000001905d9e3c thread_start + 8\n",
      "\n",
      "WebDriverException: Message: unknown error: net::ERR_NAME_NOT_RESOLVED\n",
      "  (Session info: chrome=124.0.6367.208)\n",
      "Stacktrace:\n",
      "0   chromedriver                        0x0000000102f26940 chromedriver + 4368704\n",
      "1   chromedriver                        0x0000000102f1edd4 chromedriver + 4337108\n",
      "2   chromedriver                        0x0000000102b42c04 chromedriver + 289796\n",
      "3   chromedriver                        0x0000000102b3baf8 chromedriver + 260856\n",
      "4   chromedriver                        0x0000000102b2d5e0 chromedriver + 202208\n",
      "5   chromedriver                        0x0000000102b2e8d4 chromedriver + 207060\n",
      "6   chromedriver                        0x0000000102b2d8fc chromedriver + 203004\n",
      "7   chromedriver                        0x0000000102b2d294 chromedriver + 201364\n",
      "8   chromedriver                        0x0000000102b2cf5c chromedriver + 200540\n",
      "9   chromedriver                        0x0000000102b2ad20 chromedriver + 191776\n",
      "10  chromedriver                        0x0000000102b2b6bc chromedriver + 194236\n",
      "11  chromedriver                        0x0000000102b4516c chromedriver + 299372\n",
      "12  chromedriver                        0x0000000102bbdc08 chromedriver + 793608\n",
      "13  chromedriver                        0x0000000102bbd5ec chromedriver + 792044\n",
      "14  chromedriver                        0x0000000102b79ab4 chromedriver + 514740\n",
      "15  chromedriver                        0x0000000102b7a50c chromedriver + 517388\n",
      "16  chromedriver                        0x0000000102eeae5c chromedriver + 4124252\n",
      "17  chromedriver                        0x0000000102eefc4c chromedriver + 4144204\n",
      "18  chromedriver                        0x0000000102ed0824 chromedriver + 4016164\n",
      "19  chromedriver                        0x0000000102ef057c chromedriver + 4146556\n",
      "20  chromedriver                        0x0000000102ec22d8 chromedriver + 3957464\n",
      "21  chromedriver                        0x0000000102f0fec4 chromedriver + 4275908\n",
      "22  chromedriver                        0x0000000102f10040 chromedriver + 4276288\n",
      "23  chromedriver                        0x0000000102f1ea34 chromedriver + 4336180\n",
      "24  libsystem_pthread.dylib             0x00000001905df034 _pthread_start + 136\n",
      "25  libsystem_pthread.dylib             0x00000001905d9e3c thread_start + 8\n",
      "\n",
      "WebDriverException: Message: unknown error: net::ERR_NAME_NOT_RESOLVED\n",
      "  (Session info: chrome=124.0.6367.208)\n",
      "Stacktrace:\n",
      "0   chromedriver                        0x0000000102f26940 chromedriver + 4368704\n",
      "1   chromedriver                        0x0000000102f1edd4 chromedriver + 4337108\n",
      "2   chromedriver                        0x0000000102b42c04 chromedriver + 289796\n",
      "3   chromedriver                        0x0000000102b3baf8 chromedriver + 260856\n",
      "4   chromedriver                        0x0000000102b2d5e0 chromedriver + 202208\n",
      "5   chromedriver                        0x0000000102b2e8d4 chromedriver + 207060\n",
      "6   chromedriver                        0x0000000102b2d8fc chromedriver + 203004\n",
      "7   chromedriver                        0x0000000102b2d294 chromedriver + 201364\n",
      "8   chromedriver                        0x0000000102b2cf5c chromedriver + 200540\n",
      "9   chromedriver                        0x0000000102b2ad20 chromedriver + 191776\n",
      "10  chromedriver                        0x0000000102b2b6bc chromedriver + 194236\n",
      "11  chromedriver                        0x0000000102b4516c chromedriver + 299372\n",
      "12  chromedriver                        0x0000000102bbdc08 chromedriver + 793608\n",
      "13  chromedriver                        0x0000000102bbd5ec chromedriver + 792044\n",
      "14  chromedriver                        0x0000000102b79ab4 chromedriver + 514740\n",
      "15  chromedriver                        0x0000000102b7a50c chromedriver + 517388\n",
      "16  chromedriver                        0x0000000102eeae5c chromedriver + 4124252\n",
      "17  chromedriver                        0x0000000102eefc4c chromedriver + 4144204\n",
      "18  chromedriver                        0x0000000102ed0824 chromedriver + 4016164\n",
      "19  chromedriver                        0x0000000102ef057c chromedriver + 4146556\n",
      "20  chromedriver                        0x0000000102ec22d8 chromedriver + 3957464\n",
      "21  chromedriver                        0x0000000102f0fec4 chromedriver + 4275908\n",
      "22  chromedriver                        0x0000000102f10040 chromedriver + 4276288\n",
      "23  chromedriver                        0x0000000102f1ea34 chromedriver + 4336180\n",
      "24  libsystem_pthread.dylib             0x00000001905df034 _pthread_start + 136\n",
      "25  libsystem_pthread.dylib             0x00000001905d9e3c thread_start + 8\n",
      "\n",
      "WebDriverException: Message: unknown error: net::ERR_NAME_NOT_RESOLVED\n",
      "  (Session info: chrome=124.0.6367.208)\n",
      "Stacktrace:\n",
      "0   chromedriver                        0x0000000102f26940 chromedriver + 4368704\n",
      "1   chromedriver                        0x0000000102f1edd4 chromedriver + 4337108\n",
      "2   chromedriver                        0x0000000102b42c04 chromedriver + 289796\n",
      "3   chromedriver                        0x0000000102b3baf8 chromedriver + 260856\n",
      "4   chromedriver                        0x0000000102b2d5e0 chromedriver + 202208\n",
      "5   chromedriver                        0x0000000102b2e8d4 chromedriver + 207060\n",
      "6   chromedriver                        0x0000000102b2d8fc chromedriver + 203004\n",
      "7   chromedriver                        0x0000000102b2d294 chromedriver + 201364\n",
      "8   chromedriver                        0x0000000102b2cf5c chromedriver + 200540\n",
      "9   chromedriver                        0x0000000102b2ad20 chromedriver + 191776\n",
      "10  chromedriver                        0x0000000102b2b6bc chromedriver + 194236\n",
      "11  chromedriver                        0x0000000102b4516c chromedriver + 299372\n",
      "12  chromedriver                        0x0000000102bbdc08 chromedriver + 793608\n",
      "13  chromedriver                        0x0000000102bbd5ec chromedriver + 792044\n",
      "14  chromedriver                        0x0000000102b79ab4 chromedriver + 514740\n",
      "15  chromedriver                        0x0000000102b7a50c chromedriver + 517388\n",
      "16  chromedriver                        0x0000000102eeae5c chromedriver + 4124252\n",
      "17  chromedriver                        0x0000000102eefc4c chromedriver + 4144204\n",
      "18  chromedriver                        0x0000000102ed0824 chromedriver + 4016164\n",
      "19  chromedriver                        0x0000000102ef057c chromedriver + 4146556\n",
      "20  chromedriver                        0x0000000102ec22d8 chromedriver + 3957464\n",
      "21  chromedriver                        0x0000000102f0fec4 chromedriver + 4275908\n",
      "22  chromedriver                        0x0000000102f10040 chromedriver + 4276288\n",
      "23  chromedriver                        0x0000000102f1ea34 chromedriver + 4336180\n",
      "24  libsystem_pthread.dylib             0x00000001905df034 _pthread_start + 136\n",
      "25  libsystem_pthread.dylib             0x00000001905d9e3c thread_start + 8\n",
      "\n",
      "WebDriverException: Message: unknown error: net::ERR_NAME_NOT_RESOLVED\n",
      "  (Session info: chrome=124.0.6367.208)\n",
      "Stacktrace:\n",
      "0   chromedriver                        0x0000000102f26940 chromedriver + 4368704\n",
      "1   chromedriver                        0x0000000102f1edd4 chromedriver + 4337108\n",
      "2   chromedriver                        0x0000000102b42c04 chromedriver + 289796\n",
      "3   chromedriver                        0x0000000102b3baf8 chromedriver + 260856\n",
      "4   chromedriver                        0x0000000102b2d5e0 chromedriver + 202208\n",
      "5   chromedriver                        0x0000000102b2e8d4 chromedriver + 207060\n",
      "6   chromedriver                        0x0000000102b2d8fc chromedriver + 203004\n",
      "7   chromedriver                        0x0000000102b2d294 chromedriver + 201364\n",
      "8   chromedriver                        0x0000000102b2cf5c chromedriver + 200540\n",
      "9   chromedriver                        0x0000000102b2ad20 chromedriver + 191776\n",
      "10  chromedriver                        0x0000000102b2b6bc chromedriver + 194236\n",
      "11  chromedriver                        0x0000000102b4516c chromedriver + 299372\n",
      "12  chromedriver                        0x0000000102bbdc08 chromedriver + 793608\n",
      "13  chromedriver                        0x0000000102bbd5ec chromedriver + 792044\n",
      "14  chromedriver                        0x0000000102b79ab4 chromedriver + 514740\n",
      "15  chromedriver                        0x0000000102b7a50c chromedriver + 517388\n",
      "16  chromedriver                        0x0000000102eeae5c chromedriver + 4124252\n",
      "17  chromedriver                        0x0000000102eefc4c chromedriver + 4144204\n",
      "18  chromedriver                        0x0000000102ed0824 chromedriver + 4016164\n",
      "19  chromedriver                        0x0000000102ef057c chromedriver + 4146556\n",
      "20  chromedriver                        0x0000000102ec22d8 chromedriver + 3957464\n",
      "21  chromedriver                        0x0000000102f0fec4 chromedriver + 4275908\n",
      "22  chromedriver                        0x0000000102f10040 chromedriver + 4276288\n",
      "23  chromedriver                        0x0000000102f1ea34 chromedriver + 4336180\n",
      "24  libsystem_pthread.dylib             0x00000001905df034 _pthread_start + 136\n",
      "25  libsystem_pthread.dylib             0x00000001905d9e3c thread_start + 8\n",
      "\n"
     ]
    },
    {
     "name": "stderr",
     "output_type": "stream",
     "text": [
      "\n",
      " 74%|██████████████████████████████████████████████████████████████████████████████████████▊                               | 53/72 [00:02<00:00, 21.68it/s]\u001b[A\n",
      " 78%|███████████████████████████████████████████████████████████████████████████████████████████▊                          | 56/72 [00:02<00:00, 21.46it/s]\u001b[A"
     ]
    },
    {
     "name": "stdout",
     "output_type": "stream",
     "text": [
      "WebDriverException: Message: unknown error: net::ERR_NAME_NOT_RESOLVED\n",
      "  (Session info: chrome=124.0.6367.208)\n",
      "Stacktrace:\n",
      "0   chromedriver                        0x0000000102f26940 chromedriver + 4368704\n",
      "1   chromedriver                        0x0000000102f1edd4 chromedriver + 4337108\n",
      "2   chromedriver                        0x0000000102b42c04 chromedriver + 289796\n",
      "3   chromedriver                        0x0000000102b3baf8 chromedriver + 260856\n",
      "4   chromedriver                        0x0000000102b2d5e0 chromedriver + 202208\n",
      "5   chromedriver                        0x0000000102b2e8d4 chromedriver + 207060\n",
      "6   chromedriver                        0x0000000102b2d8fc chromedriver + 203004\n",
      "7   chromedriver                        0x0000000102b2d294 chromedriver + 201364\n",
      "8   chromedriver                        0x0000000102b2cf5c chromedriver + 200540\n",
      "9   chromedriver                        0x0000000102b2ad20 chromedriver + 191776\n",
      "10  chromedriver                        0x0000000102b2b6bc chromedriver + 194236\n",
      "11  chromedriver                        0x0000000102b4516c chromedriver + 299372\n",
      "12  chromedriver                        0x0000000102bbdc08 chromedriver + 793608\n",
      "13  chromedriver                        0x0000000102bbd5ec chromedriver + 792044\n",
      "14  chromedriver                        0x0000000102b79ab4 chromedriver + 514740\n",
      "15  chromedriver                        0x0000000102b7a50c chromedriver + 517388\n",
      "16  chromedriver                        0x0000000102eeae5c chromedriver + 4124252\n",
      "17  chromedriver                        0x0000000102eefc4c chromedriver + 4144204\n",
      "18  chromedriver                        0x0000000102ed0824 chromedriver + 4016164\n",
      "19  chromedriver                        0x0000000102ef057c chromedriver + 4146556\n",
      "20  chromedriver                        0x0000000102ec22d8 chromedriver + 3957464\n",
      "21  chromedriver                        0x0000000102f0fec4 chromedriver + 4275908\n",
      "22  chromedriver                        0x0000000102f10040 chromedriver + 4276288\n",
      "23  chromedriver                        0x0000000102f1ea34 chromedriver + 4336180\n",
      "24  libsystem_pthread.dylib             0x00000001905df034 _pthread_start + 136\n",
      "25  libsystem_pthread.dylib             0x00000001905d9e3c thread_start + 8\n",
      "\n",
      "WebDriverException: Message: unknown error: net::ERR_NAME_NOT_RESOLVED\n",
      "  (Session info: chrome=124.0.6367.208)\n",
      "Stacktrace:\n",
      "0   chromedriver                        0x0000000102f26940 chromedriver + 4368704\n",
      "1   chromedriver                        0x0000000102f1edd4 chromedriver + 4337108\n",
      "2   chromedriver                        0x0000000102b42c04 chromedriver + 289796\n",
      "3   chromedriver                        0x0000000102b3baf8 chromedriver + 260856\n",
      "4   chromedriver                        0x0000000102b2d5e0 chromedriver + 202208\n",
      "5   chromedriver                        0x0000000102b2e8d4 chromedriver + 207060\n",
      "6   chromedriver                        0x0000000102b2d8fc chromedriver + 203004\n",
      "7   chromedriver                        0x0000000102b2d294 chromedriver + 201364\n",
      "8   chromedriver                        0x0000000102b2cf5c chromedriver + 200540\n",
      "9   chromedriver                        0x0000000102b2ad20 chromedriver + 191776\n",
      "10  chromedriver                        0x0000000102b2b6bc chromedriver + 194236\n",
      "11  chromedriver                        0x0000000102b4516c chromedriver + 299372\n",
      "12  chromedriver                        0x0000000102bbdc08 chromedriver + 793608\n",
      "13  chromedriver                        0x0000000102bbd5ec chromedriver + 792044\n",
      "14  chromedriver                        0x0000000102b79ab4 chromedriver + 514740\n",
      "15  chromedriver                        0x0000000102b7a50c chromedriver + 517388\n",
      "16  chromedriver                        0x0000000102eeae5c chromedriver + 4124252\n",
      "17  chromedriver                        0x0000000102eefc4c chromedriver + 4144204\n",
      "18  chromedriver                        0x0000000102ed0824 chromedriver + 4016164\n",
      "19  chromedriver                        0x0000000102ef057c chromedriver + 4146556\n",
      "20  chromedriver                        0x0000000102ec22d8 chromedriver + 3957464\n",
      "21  chromedriver                        0x0000000102f0fec4 chromedriver + 4275908\n",
      "22  chromedriver                        0x0000000102f10040 chromedriver + 4276288\n",
      "23  chromedriver                        0x0000000102f1ea34 chromedriver + 4336180\n",
      "24  libsystem_pthread.dylib             0x00000001905df034 _pthread_start + 136\n",
      "25  libsystem_pthread.dylib             0x00000001905d9e3c thread_start + 8\n",
      "\n",
      "WebDriverException: Message: unknown error: net::ERR_NAME_NOT_RESOLVED\n",
      "  (Session info: chrome=124.0.6367.208)\n",
      "Stacktrace:\n",
      "0   chromedriver                        0x0000000102f26940 chromedriver + 4368704\n",
      "1   chromedriver                        0x0000000102f1edd4 chromedriver + 4337108\n",
      "2   chromedriver                        0x0000000102b42c04 chromedriver + 289796\n",
      "3   chromedriver                        0x0000000102b3baf8 chromedriver + 260856\n",
      "4   chromedriver                        0x0000000102b2d5e0 chromedriver + 202208\n",
      "5   chromedriver                        0x0000000102b2e8d4 chromedriver + 207060\n",
      "6   chromedriver                        0x0000000102b2d8fc chromedriver + 203004\n",
      "7   chromedriver                        0x0000000102b2d294 chromedriver + 201364\n",
      "8   chromedriver                        0x0000000102b2cf5c chromedriver + 200540\n",
      "9   chromedriver                        0x0000000102b2ad20 chromedriver + 191776\n",
      "10  chromedriver                        0x0000000102b2b6bc chromedriver + 194236\n",
      "11  chromedriver                        0x0000000102b4516c chromedriver + 299372\n",
      "12  chromedriver                        0x0000000102bbdc08 chromedriver + 793608\n",
      "13  chromedriver                        0x0000000102bbd5ec chromedriver + 792044\n",
      "14  chromedriver                        0x0000000102b79ab4 chromedriver + 514740\n",
      "15  chromedriver                        0x0000000102b7a50c chromedriver + 517388\n",
      "16  chromedriver                        0x0000000102eeae5c chromedriver + 4124252\n",
      "17  chromedriver                        0x0000000102eefc4c chromedriver + 4144204\n",
      "18  chromedriver                        0x0000000102ed0824 chromedriver + 4016164\n",
      "19  chromedriver                        0x0000000102ef057c chromedriver + 4146556\n",
      "20  chromedriver                        0x0000000102ec22d8 chromedriver + 3957464\n",
      "21  chromedriver                        0x0000000102f0fec4 chromedriver + 4275908\n",
      "22  chromedriver                        0x0000000102f10040 chromedriver + 4276288\n",
      "23  chromedriver                        0x0000000102f1ea34 chromedriver + 4336180\n",
      "24  libsystem_pthread.dylib             0x00000001905df034 _pthread_start + 136\n",
      "25  libsystem_pthread.dylib             0x00000001905d9e3c thread_start + 8\n",
      "\n",
      "WebDriverException: Message: unknown error: net::ERR_NAME_NOT_RESOLVED\n",
      "  (Session info: chrome=124.0.6367.208)\n",
      "Stacktrace:\n",
      "0   chromedriver                        0x0000000102f26940 chromedriver + 4368704\n",
      "1   chromedriver                        0x0000000102f1edd4 chromedriver + 4337108\n",
      "2   chromedriver                        0x0000000102b42c04 chromedriver + 289796\n",
      "3   chromedriver                        0x0000000102b3baf8 chromedriver + 260856\n",
      "4   chromedriver                        0x0000000102b2d5e0 chromedriver + 202208\n",
      "5   chromedriver                        0x0000000102b2e8d4 chromedriver + 207060\n",
      "6   chromedriver                        0x0000000102b2d8fc chromedriver + 203004\n",
      "7   chromedriver                        0x0000000102b2d294 chromedriver + 201364\n",
      "8   chromedriver                        0x0000000102b2cf5c chromedriver + 200540\n",
      "9   chromedriver                        0x0000000102b2ad20 chromedriver + 191776\n",
      "10  chromedriver                        0x0000000102b2b6bc chromedriver + 194236\n",
      "11  chromedriver                        0x0000000102b4516c chromedriver + 299372\n",
      "12  chromedriver                        0x0000000102bbdc08 chromedriver + 793608\n",
      "13  chromedriver                        0x0000000102bbd5ec chromedriver + 792044\n",
      "14  chromedriver                        0x0000000102b79ab4 chromedriver + 514740\n",
      "15  chromedriver                        0x0000000102b7a50c chromedriver + 517388\n",
      "16  chromedriver                        0x0000000102eeae5c chromedriver + 4124252\n",
      "17  chromedriver                        0x0000000102eefc4c chromedriver + 4144204\n",
      "18  chromedriver                        0x0000000102ed0824 chromedriver + 4016164\n",
      "19  chromedriver                        0x0000000102ef057c chromedriver + 4146556\n",
      "20  chromedriver                        0x0000000102ec22d8 chromedriver + 3957464\n",
      "21  chromedriver                        0x0000000102f0fec4 chromedriver + 4275908\n",
      "22  chromedriver                        0x0000000102f10040 chromedriver + 4276288\n",
      "23  chromedriver                        0x0000000102f1ea34 chromedriver + 4336180\n",
      "24  libsystem_pthread.dylib             0x00000001905df034 _pthread_start + 136\n",
      "25  libsystem_pthread.dylib             0x00000001905d9e3c thread_start + 8\n",
      "\n",
      "WebDriverException: Message: unknown error: net::ERR_NAME_NOT_RESOLVED\n",
      "  (Session info: chrome=124.0.6367.208)\n",
      "Stacktrace:\n",
      "0   chromedriver                        0x0000000102f26940 chromedriver + 4368704\n",
      "1   chromedriver                        0x0000000102f1edd4 chromedriver + 4337108\n",
      "2   chromedriver                        0x0000000102b42c04 chromedriver + 289796\n",
      "3   chromedriver                        0x0000000102b3baf8 chromedriver + 260856\n",
      "4   chromedriver                        0x0000000102b2d5e0 chromedriver + 202208\n",
      "5   chromedriver                        0x0000000102b2e8d4 chromedriver + 207060\n",
      "6   chromedriver                        0x0000000102b2d8fc chromedriver + 203004\n",
      "7   chromedriver                        0x0000000102b2d294 chromedriver + 201364\n",
      "8   chromedriver                        0x0000000102b2cf5c chromedriver + 200540\n",
      "9   chromedriver                        0x0000000102b2ad20 chromedriver + 191776\n",
      "10  chromedriver                        0x0000000102b2b6bc chromedriver + 194236\n",
      "11  chromedriver                        0x0000000102b4516c chromedriver + 299372\n",
      "12  chromedriver                        0x0000000102bbdc08 chromedriver + 793608\n",
      "13  chromedriver                        0x0000000102bbd5ec chromedriver + 792044\n",
      "14  chromedriver                        0x0000000102b79ab4 chromedriver + 514740\n",
      "15  chromedriver                        0x0000000102b7a50c chromedriver + 517388\n",
      "16  chromedriver                        0x0000000102eeae5c chromedriver + 4124252\n",
      "17  chromedriver                        0x0000000102eefc4c chromedriver + 4144204\n",
      "18  chromedriver                        0x0000000102ed0824 chromedriver + 4016164\n",
      "19  chromedriver                        0x0000000102ef057c chromedriver + 4146556\n",
      "20  chromedriver                        0x0000000102ec22d8 chromedriver + 3957464\n",
      "21  chromedriver                        0x0000000102f0fec4 chromedriver + 4275908\n",
      "22  chromedriver                        0x0000000102f10040 chromedriver + 4276288\n",
      "23  chromedriver                        0x0000000102f1ea34 chromedriver + 4336180\n",
      "24  libsystem_pthread.dylib             0x00000001905df034 _pthread_start + 136\n",
      "25  libsystem_pthread.dylib             0x00000001905d9e3c thread_start + 8\n",
      "\n"
     ]
    },
    {
     "name": "stderr",
     "output_type": "stream",
     "text": [
      "\n",
      " 82%|████████████████████████████████████████████████████████████████████████████████████████████████▋                     | 59/72 [00:03<00:00, 20.91it/s]\u001b[A"
     ]
    },
    {
     "name": "stdout",
     "output_type": "stream",
     "text": [
      "WebDriverException: Message: unknown error: net::ERR_NAME_NOT_RESOLVED\n",
      "  (Session info: chrome=124.0.6367.208)\n",
      "Stacktrace:\n",
      "0   chromedriver                        0x0000000102f26940 chromedriver + 4368704\n",
      "1   chromedriver                        0x0000000102f1edd4 chromedriver + 4337108\n",
      "2   chromedriver                        0x0000000102b42c04 chromedriver + 289796\n",
      "3   chromedriver                        0x0000000102b3baf8 chromedriver + 260856\n",
      "4   chromedriver                        0x0000000102b2d5e0 chromedriver + 202208\n",
      "5   chromedriver                        0x0000000102b2e8d4 chromedriver + 207060\n",
      "6   chromedriver                        0x0000000102b2d8fc chromedriver + 203004\n",
      "7   chromedriver                        0x0000000102b2d294 chromedriver + 201364\n",
      "8   chromedriver                        0x0000000102b2cf5c chromedriver + 200540\n",
      "9   chromedriver                        0x0000000102b2ad20 chromedriver + 191776\n",
      "10  chromedriver                        0x0000000102b2b6bc chromedriver + 194236\n",
      "11  chromedriver                        0x0000000102b4516c chromedriver + 299372\n",
      "12  chromedriver                        0x0000000102bbdc08 chromedriver + 793608\n",
      "13  chromedriver                        0x0000000102bbd5ec chromedriver + 792044\n",
      "14  chromedriver                        0x0000000102b79ab4 chromedriver + 514740\n",
      "15  chromedriver                        0x0000000102b7a50c chromedriver + 517388\n",
      "16  chromedriver                        0x0000000102eeae5c chromedriver + 4124252\n",
      "17  chromedriver                        0x0000000102eefc4c chromedriver + 4144204\n",
      "18  chromedriver                        0x0000000102ed0824 chromedriver + 4016164\n",
      "19  chromedriver                        0x0000000102ef057c chromedriver + 4146556\n",
      "20  chromedriver                        0x0000000102ec22d8 chromedriver + 3957464\n",
      "21  chromedriver                        0x0000000102f0fec4 chromedriver + 4275908\n",
      "22  chromedriver                        0x0000000102f10040 chromedriver + 4276288\n",
      "23  chromedriver                        0x0000000102f1ea34 chromedriver + 4336180\n",
      "24  libsystem_pthread.dylib             0x00000001905df034 _pthread_start + 136\n",
      "25  libsystem_pthread.dylib             0x00000001905d9e3c thread_start + 8\n",
      "\n",
      "WebDriverException: Message: unknown error: net::ERR_NAME_NOT_RESOLVED\n",
      "  (Session info: chrome=124.0.6367.208)\n",
      "Stacktrace:\n",
      "0   chromedriver                        0x0000000102f26940 chromedriver + 4368704\n",
      "1   chromedriver                        0x0000000102f1edd4 chromedriver + 4337108\n",
      "2   chromedriver                        0x0000000102b42c04 chromedriver + 289796\n",
      "3   chromedriver                        0x0000000102b3baf8 chromedriver + 260856\n",
      "4   chromedriver                        0x0000000102b2d5e0 chromedriver + 202208\n",
      "5   chromedriver                        0x0000000102b2e8d4 chromedriver + 207060\n",
      "6   chromedriver                        0x0000000102b2d8fc chromedriver + 203004\n",
      "7   chromedriver                        0x0000000102b2d294 chromedriver + 201364\n",
      "8   chromedriver                        0x0000000102b2cf5c chromedriver + 200540\n",
      "9   chromedriver                        0x0000000102b2ad20 chromedriver + 191776\n",
      "10  chromedriver                        0x0000000102b2b6bc chromedriver + 194236\n",
      "11  chromedriver                        0x0000000102b4516c chromedriver + 299372\n",
      "12  chromedriver                        0x0000000102bbdc08 chromedriver + 793608\n",
      "13  chromedriver                        0x0000000102bbd5ec chromedriver + 792044\n",
      "14  chromedriver                        0x0000000102b79ab4 chromedriver + 514740\n",
      "15  chromedriver                        0x0000000102b7a50c chromedriver + 517388\n",
      "16  chromedriver                        0x0000000102eeae5c chromedriver + 4124252\n",
      "17  chromedriver                        0x0000000102eefc4c chromedriver + 4144204\n",
      "18  chromedriver                        0x0000000102ed0824 chromedriver + 4016164\n",
      "19  chromedriver                        0x0000000102ef057c chromedriver + 4146556\n",
      "20  chromedriver                        0x0000000102ec22d8 chromedriver + 3957464\n",
      "21  chromedriver                        0x0000000102f0fec4 chromedriver + 4275908\n",
      "22  chromedriver                        0x0000000102f10040 chromedriver + 4276288\n",
      "23  chromedriver                        0x0000000102f1ea34 chromedriver + 4336180\n",
      "24  libsystem_pthread.dylib             0x00000001905df034 _pthread_start + 136\n",
      "25  libsystem_pthread.dylib             0x00000001905d9e3c thread_start + 8\n",
      "\n",
      "WebDriverException: Message: unknown error: net::ERR_NAME_NOT_RESOLVED\n",
      "  (Session info: chrome=124.0.6367.208)\n",
      "Stacktrace:\n",
      "0   chromedriver                        0x0000000102f26940 chromedriver + 4368704\n",
      "1   chromedriver                        0x0000000102f1edd4 chromedriver + 4337108\n",
      "2   chromedriver                        0x0000000102b42c04 chromedriver + 289796\n",
      "3   chromedriver                        0x0000000102b3baf8 chromedriver + 260856\n",
      "4   chromedriver                        0x0000000102b2d5e0 chromedriver + 202208\n",
      "5   chromedriver                        0x0000000102b2e8d4 chromedriver + 207060\n",
      "6   chromedriver                        0x0000000102b2d8fc chromedriver + 203004\n",
      "7   chromedriver                        0x0000000102b2d294 chromedriver + 201364\n",
      "8   chromedriver                        0x0000000102b2cf5c chromedriver + 200540\n",
      "9   chromedriver                        0x0000000102b2ad20 chromedriver + 191776\n",
      "10  chromedriver                        0x0000000102b2b6bc chromedriver + 194236\n",
      "11  chromedriver                        0x0000000102b4516c chromedriver + 299372\n",
      "12  chromedriver                        0x0000000102bbdc08 chromedriver + 793608\n",
      "13  chromedriver                        0x0000000102bbd5ec chromedriver + 792044\n",
      "14  chromedriver                        0x0000000102b79ab4 chromedriver + 514740\n",
      "15  chromedriver                        0x0000000102b7a50c chromedriver + 517388\n",
      "16  chromedriver                        0x0000000102eeae5c chromedriver + 4124252\n",
      "17  chromedriver                        0x0000000102eefc4c chromedriver + 4144204\n",
      "18  chromedriver                        0x0000000102ed0824 chromedriver + 4016164\n",
      "19  chromedriver                        0x0000000102ef057c chromedriver + 4146556\n",
      "20  chromedriver                        0x0000000102ec22d8 chromedriver + 3957464\n",
      "21  chromedriver                        0x0000000102f0fec4 chromedriver + 4275908\n",
      "22  chromedriver                        0x0000000102f10040 chromedriver + 4276288\n",
      "23  chromedriver                        0x0000000102f1ea34 chromedriver + 4336180\n",
      "24  libsystem_pthread.dylib             0x00000001905df034 _pthread_start + 136\n",
      "25  libsystem_pthread.dylib             0x00000001905d9e3c thread_start + 8\n",
      "\n",
      "WebDriverException: Message: unknown error: net::ERR_NAME_NOT_RESOLVED\n",
      "  (Session info: chrome=124.0.6367.208)\n",
      "Stacktrace:\n",
      "0   chromedriver                        0x0000000102f26940 chromedriver + 4368704\n",
      "1   chromedriver                        0x0000000102f1edd4 chromedriver + 4337108\n",
      "2   chromedriver                        0x0000000102b42c04 chromedriver + 289796\n",
      "3   chromedriver                        0x0000000102b3baf8 chromedriver + 260856\n",
      "4   chromedriver                        0x0000000102b2d5e0 chromedriver + 202208\n",
      "5   chromedriver                        0x0000000102b2e8d4 chromedriver + 207060\n",
      "6   chromedriver                        0x0000000102b2d8fc chromedriver + 203004\n",
      "7   chromedriver                        0x0000000102b2d294 chromedriver + 201364\n",
      "8   chromedriver                        0x0000000102b2cf5c chromedriver + 200540\n",
      "9   chromedriver                        0x0000000102b2ad20 chromedriver + 191776\n",
      "10  chromedriver                        0x0000000102b2b6bc chromedriver + 194236\n",
      "11  chromedriver                        0x0000000102b4516c chromedriver + 299372\n",
      "12  chromedriver                        0x0000000102bbdc08 chromedriver + 793608\n",
      "13  chromedriver                        0x0000000102bbd5ec chromedriver + 792044\n",
      "14  chromedriver                        0x0000000102b79ab4 chromedriver + 514740\n",
      "15  chromedriver                        0x0000000102b7a50c chromedriver + 517388\n",
      "16  chromedriver                        0x0000000102eeae5c chromedriver + 4124252\n",
      "17  chromedriver                        0x0000000102eefc4c chromedriver + 4144204\n",
      "18  chromedriver                        0x0000000102ed0824 chromedriver + 4016164\n",
      "19  chromedriver                        0x0000000102ef057c chromedriver + 4146556\n",
      "20  chromedriver                        0x0000000102ec22d8 chromedriver + 3957464\n",
      "21  chromedriver                        0x0000000102f0fec4 chromedriver + 4275908\n",
      "22  chromedriver                        0x0000000102f10040 chromedriver + 4276288\n",
      "23  chromedriver                        0x0000000102f1ea34 chromedriver + 4336180\n",
      "24  libsystem_pthread.dylib             0x00000001905df034 _pthread_start + 136\n",
      "25  libsystem_pthread.dylib             0x00000001905d9e3c thread_start + 8\n",
      "\n",
      "WebDriverException: Message: unknown error: net::ERR_NAME_NOT_RESOLVED\n",
      "  (Session info: chrome=124.0.6367.208)\n",
      "Stacktrace:\n",
      "0   chromedriver                        0x0000000102f26940 chromedriver + 4368704\n",
      "1   chromedriver                        0x0000000102f1edd4 chromedriver + 4337108\n",
      "2   chromedriver                        0x0000000102b42c04 chromedriver + 289796\n",
      "3   chromedriver                        0x0000000102b3baf8 chromedriver + 260856\n",
      "4   chromedriver                        0x0000000102b2d5e0 chromedriver + 202208\n",
      "5   chromedriver                        0x0000000102b2e8d4 chromedriver + 207060\n",
      "6   chromedriver                        0x0000000102b2d8fc chromedriver + 203004\n",
      "7   chromedriver                        0x0000000102b2d294 chromedriver + 201364\n",
      "8   chromedriver                        0x0000000102b2cf5c chromedriver + 200540\n",
      "9   chromedriver                        0x0000000102b2ad20 chromedriver + 191776\n",
      "10  chromedriver                        0x0000000102b2b6bc chromedriver + 194236\n",
      "11  chromedriver                        0x0000000102b4516c chromedriver + 299372\n",
      "12  chromedriver                        0x0000000102bbdc08 chromedriver + 793608\n",
      "13  chromedriver                        0x0000000102bbd5ec chromedriver + 792044\n",
      "14  chromedriver                        0x0000000102b79ab4 chromedriver + 514740\n",
      "15  chromedriver                        0x0000000102b7a50c chromedriver + 517388\n",
      "16  chromedriver                        0x0000000102eeae5c chromedriver + 4124252\n",
      "17  chromedriver                        0x0000000102eefc4c chromedriver + 4144204\n",
      "18  chromedriver                        0x0000000102ed0824 chromedriver + 4016164\n",
      "19  chromedriver                        0x0000000102ef057c chromedriver + 4146556\n",
      "20  chromedriver                        0x0000000102ec22d8 chromedriver + 3957464\n",
      "21  chromedriver                        0x0000000102f0fec4 chromedriver + 4275908\n",
      "22  chromedriver                        0x0000000102f10040 chromedriver + 4276288\n",
      "23  chromedriver                        0x0000000102f1ea34 chromedriver + 4336180\n",
      "24  libsystem_pthread.dylib             0x00000001905df034 _pthread_start + 136\n",
      "25  libsystem_pthread.dylib             0x00000001905d9e3c thread_start + 8\n",
      "\n"
     ]
    },
    {
     "name": "stderr",
     "output_type": "stream",
     "text": [
      "\n",
      " 86%|█████████████████████████████████████████████████████████████████████████████████████████████████████▌                | 62/72 [00:06<00:03,  2.88it/s]\u001b[A\n",
      " 89%|████████████████████████████████████████████████████████████████████████████████████████████████████████▉             | 64/72 [00:08<00:03,  2.09it/s]\u001b[A\n",
      " 92%|████████████████████████████████████████████████████████████████████████████████████████████████████████████▏         | 66/72 [00:14<00:06,  1.16s/it]\u001b[A\n",
      " 93%|█████████████████████████████████████████████████████████████████████████████████████████████████████████████▊        | 67/72 [00:16<00:06,  1.25s/it]\u001b[A\n",
      " 94%|███████████████████████████████████████████████████████████████████████████████████████████████████████████████▍      | 68/72 [00:17<00:04,  1.24s/it]\u001b[A\n",
      " 96%|█████████████████████████████████████████████████████████████████████████████████████████████████████████████████     | 69/72 [00:19<00:03,  1.32s/it]\u001b[A\n",
      " 97%|██████████████████████████████████████████████████████████████████████████████████████████████████████████████████▋   | 70/72 [00:21<00:02,  1.44s/it]\u001b[A\n",
      " 99%|████████████████████████████████████████████████████████████████████████████████████████████████████████████████████▎ | 71/72 [00:22<00:01,  1.36s/it]\u001b[A\n",
      "100%|██████████████████████████████████████████████████████████████████████████████████████████████████████████████████████| 72/72 [00:23<00:00,  3.03it/s]\u001b[A\n"
     ]
    }
   ],
   "source": [
    "for index in tqdm(index_list[137:]):\n",
    "    result = get_html_selenium(url=df.loc[index, \"URL\"], driver=driver)\n",
    "    df.loc[index, \"selenium_html\"] = result"
   ]
  },
  {
   "cell_type": "code",
   "execution_count": 42,
   "id": "6646e80e-b7ff-4ec6-ac49-d2a0d4c05227",
   "metadata": {
    "collapsed": true,
    "execution": {
     "iopub.execute_input": "2024-05-18T12:29:19.806168Z",
     "iopub.status.busy": "2024-05-18T12:29:19.804774Z",
     "iopub.status.idle": "2024-05-18T12:29:20.259882Z",
     "shell.execute_reply": "2024-05-18T12:29:20.259553Z",
     "shell.execute_reply.started": "2024-05-18T12:29:19.806094Z"
    },
    "jupyter": {
     "outputs_hidden": true
    },
    "scrolled": true
   },
   "outputs": [
    {
     "name": "stdout",
     "output_type": "stream",
     "text": [
      "WebDriverException: Message: unknown error: net::ERR_NAME_NOT_RESOLVED\n",
      "  (Session info: chrome=124.0.6367.208)\n",
      "Stacktrace:\n",
      "0   chromedriver                        0x0000000102f26940 chromedriver + 4368704\n",
      "1   chromedriver                        0x0000000102f1edd4 chromedriver + 4337108\n",
      "2   chromedriver                        0x0000000102b42c04 chromedriver + 289796\n",
      "3   chromedriver                        0x0000000102b3baf8 chromedriver + 260856\n",
      "4   chromedriver                        0x0000000102b2d5e0 chromedriver + 202208\n",
      "5   chromedriver                        0x0000000102b2e8d4 chromedriver + 207060\n",
      "6   chromedriver                        0x0000000102b2d8fc chromedriver + 203004\n",
      "7   chromedriver                        0x0000000102b2d294 chromedriver + 201364\n",
      "8   chromedriver                        0x0000000102b2cf5c chromedriver + 200540\n",
      "9   chromedriver                        0x0000000102b2ad20 chromedriver + 191776\n",
      "10  chromedriver                        0x0000000102b2b6bc chromedriver + 194236\n",
      "11  chromedriver                        0x0000000102b4516c chromedriver + 299372\n",
      "12  chromedriver                        0x0000000102bbdc08 chromedriver + 793608\n",
      "13  chromedriver                        0x0000000102bbd5ec chromedriver + 792044\n",
      "14  chromedriver                        0x0000000102b79ab4 chromedriver + 514740\n",
      "15  chromedriver                        0x0000000102b7a50c chromedriver + 517388\n",
      "16  chromedriver                        0x0000000102eeae5c chromedriver + 4124252\n",
      "17  chromedriver                        0x0000000102eefc4c chromedriver + 4144204\n",
      "18  chromedriver                        0x0000000102ed0824 chromedriver + 4016164\n",
      "19  chromedriver                        0x0000000102ef057c chromedriver + 4146556\n",
      "20  chromedriver                        0x0000000102ec22d8 chromedriver + 3957464\n",
      "21  chromedriver                        0x0000000102f0fec4 chromedriver + 4275908\n",
      "22  chromedriver                        0x0000000102f10040 chromedriver + 4276288\n",
      "23  chromedriver                        0x0000000102f1ea34 chromedriver + 4336180\n",
      "24  libsystem_pthread.dylib             0x00000001905df034 _pthread_start + 136\n",
      "25  libsystem_pthread.dylib             0x00000001905d9e3c thread_start + 8\n",
      "\n"
     ]
    }
   ],
   "source": [
    "result = get_html_selenium(url=df.loc[137, \"URL\"], driver=driver)"
   ]
  },
  {
   "cell_type": "code",
   "execution_count": 61,
   "id": "f901f284-6fc2-4de8-94cf-9da60d8f39ac",
   "metadata": {
    "execution": {
     "iopub.execute_input": "2024-05-18T12:59:54.622379Z",
     "iopub.status.busy": "2024-05-18T12:59:54.621385Z",
     "iopub.status.idle": "2024-05-18T12:59:54.631255Z",
     "shell.execute_reply": "2024-05-18T12:59:54.630694Z",
     "shell.execute_reply.started": "2024-05-18T12:59:54.622329Z"
    }
   },
   "outputs": [
    {
     "data": {
      "text/plain": [
       "377"
      ]
     },
     "execution_count": 61,
     "metadata": {},
     "output_type": "execute_result"
    }
   ],
   "source": [
    "url_length = len(df[\"URL\"])\n",
    "url_length"
   ]
  },
  {
   "cell_type": "code",
   "execution_count": 62,
   "id": "78f3226c-cebc-4bc7-b2a9-cd4074557b42",
   "metadata": {
    "execution": {
     "iopub.execute_input": "2024-05-18T12:59:59.972860Z",
     "iopub.status.busy": "2024-05-18T12:59:59.971497Z",
     "iopub.status.idle": "2024-05-18T12:59:59.993192Z",
     "shell.execute_reply": "2024-05-18T12:59:59.992662Z",
     "shell.execute_reply.started": "2024-05-18T12:59:59.972803Z"
    }
   },
   "outputs": [
    {
     "data": {
      "text/plain": [
       "377"
      ]
     },
     "execution_count": 62,
     "metadata": {},
     "output_type": "execute_result"
    }
   ],
   "source": [
    "html_length = len(df[\"selenium_html\"])\n",
    "html_length"
   ]
  },
  {
   "cell_type": "code",
   "execution_count": 47,
   "id": "05218da6-4560-47a8-bd91-70f45d6664c9",
   "metadata": {
    "collapsed": true,
    "execution": {
     "iopub.execute_input": "2024-05-18T12:33:14.292004Z",
     "iopub.status.busy": "2024-05-18T12:33:14.290815Z",
     "iopub.status.idle": "2024-05-18T12:33:14.369345Z",
     "shell.execute_reply": "2024-05-18T12:33:14.368017Z",
     "shell.execute_reply.started": "2024-05-18T12:33:14.291976Z"
    },
    "jupyter": {
     "outputs_hidden": true
    },
    "scrolled": true
   },
   "outputs": [
    {
     "data": {
      "text/html": [
       "<div>\n",
       "<style scoped>\n",
       "    .dataframe tbody tr th:only-of-type {\n",
       "        vertical-align: middle;\n",
       "    }\n",
       "\n",
       "    .dataframe tbody tr th {\n",
       "        vertical-align: top;\n",
       "    }\n",
       "\n",
       "    .dataframe thead th {\n",
       "        text-align: right;\n",
       "    }\n",
       "</style>\n",
       "<table border=\"1\" class=\"dataframe\">\n",
       "  <thead>\n",
       "    <tr style=\"text-align: right;\">\n",
       "      <th></th>\n",
       "      <th>범죄 유형</th>\n",
       "      <th>지역</th>\n",
       "      <th>위도</th>\n",
       "      <th>경도</th>\n",
       "      <th>중복 여부</th>\n",
       "      <th>퀄리티</th>\n",
       "      <th>제외 여부</th>\n",
       "      <th>기사제목</th>\n",
       "      <th>사건 장소</th>\n",
       "      <th>수사 기관</th>\n",
       "      <th>본문</th>\n",
       "      <th>URL</th>\n",
       "      <th>일자</th>\n",
       "      <th>언론사</th>\n",
       "      <th>기고자</th>\n",
       "      <th>비고</th>\n",
       "      <th>selenium_html</th>\n",
       "    </tr>\n",
       "  </thead>\n",
       "  <tbody>\n",
       "    <tr>\n",
       "      <th>0</th>\n",
       "      <td>NaN</td>\n",
       "      <td>NaN</td>\n",
       "      <td>NaN</td>\n",
       "      <td>NaN</td>\n",
       "      <td>NaN</td>\n",
       "      <td>NaN</td>\n",
       "      <td>NaN</td>\n",
       "      <td>\"같이 살자\" 2억 뜯어낸 채팅녀 알고 보니 20대 남자였다</td>\n",
       "      <td>2억여원</td>\n",
       "      <td>이대,검찰,한경닷컴 객원,서울서부지법,재판부,법원,형사항</td>\n",
       "      <td>채팅앱에서 만난 남성들에게 자신을 여성이라고 속인 뒤 2억여원을 가로챈 20대 남성...</td>\n",
       "      <td>https://www.hankyung.com/society/article/20220...</td>\n",
       "      <td>20220207</td>\n",
       "      <td>한국경제</td>\n",
       "      <td>이보배</td>\n",
       "      <td>NaN</td>\n",
       "      <td>&lt;body&gt;\\n\\t&lt;div id=\"wrap\" class=\"view\"&gt;\\n\\n\\t\\t...</td>\n",
       "    </tr>\n",
       "  </tbody>\n",
       "</table>\n",
       "</div>"
      ],
      "text/plain": [
       "   범죄 유형  지역  위도  경도  중복 여부  퀄리티  제외 여부                               기사제목  \\\n",
       "0    NaN NaN NaN NaN    NaN  NaN    NaN  \"같이 살자\" 2억 뜯어낸 채팅녀 알고 보니 20대 남자였다   \n",
       "\n",
       "  사건 장소                            수사 기관  \\\n",
       "0  2억여원  이대,검찰,한경닷컴 객원,서울서부지법,재판부,법원,형사항   \n",
       "\n",
       "                                                  본문  \\\n",
       "0  채팅앱에서 만난 남성들에게 자신을 여성이라고 속인 뒤 2억여원을 가로챈 20대 남성...   \n",
       "\n",
       "                                                 URL        일자   언론사  기고자  비고  \\\n",
       "0  https://www.hankyung.com/society/article/20220...  20220207  한국경제  이보배 NaN   \n",
       "\n",
       "                                       selenium_html  \n",
       "0  <body>\\n\\t<div id=\"wrap\" class=\"view\">\\n\\n\\t\\t...  "
      ]
     },
     "execution_count": 47,
     "metadata": {},
     "output_type": "execute_result"
    }
   ],
   "source": [
    "df.head(1)"
   ]
  },
  {
   "cell_type": "code",
   "execution_count": 50,
   "id": "398d3147-c587-404e-b41d-7b9e95cba715",
   "metadata": {
    "execution": {
     "iopub.execute_input": "2024-05-18T12:40:24.630348Z",
     "iopub.status.busy": "2024-05-18T12:40:24.629047Z",
     "iopub.status.idle": "2024-05-18T12:40:26.521796Z",
     "shell.execute_reply": "2024-05-18T12:40:26.521446Z",
     "shell.execute_reply.started": "2024-05-18T12:40:24.630309Z"
    }
   },
   "outputs": [],
   "source": [
    "driver.close()\n",
    "driver.quit()"
   ]
  },
  {
   "cell_type": "markdown",
   "id": "afb18a2d-f8e3-46ec-9a35-24c4cb774f71",
   "metadata": {
    "jp-MarkdownHeadingCollapsed": true
   },
   "source": [
    "### html parsing"
   ]
  },
  {
   "cell_type": "code",
   "execution_count": 51,
   "id": "724371a1-6bae-435d-ac8a-0a9d71039cf0",
   "metadata": {
    "execution": {
     "iopub.execute_input": "2024-05-18T12:42:14.326376Z",
     "iopub.status.busy": "2024-05-18T12:42:14.324804Z",
     "iopub.status.idle": "2024-05-18T12:42:14.339654Z",
     "shell.execute_reply": "2024-05-18T12:42:14.339164Z",
     "shell.execute_reply.started": "2024-05-18T12:42:14.326339Z"
    }
   },
   "outputs": [],
   "source": [
    "html = df.loc[0, 'selenium_html']"
   ]
  },
  {
   "cell_type": "code",
   "execution_count": 53,
   "id": "4929d77a-9432-4443-9225-dba937b3aaf3",
   "metadata": {
    "execution": {
     "iopub.execute_input": "2024-05-18T12:43:36.954201Z",
     "iopub.status.busy": "2024-05-18T12:43:36.953235Z",
     "iopub.status.idle": "2024-05-18T12:43:36.961838Z",
     "shell.execute_reply": "2024-05-18T12:43:36.961504Z",
     "shell.execute_reply.started": "2024-05-18T12:43:36.954173Z"
    }
   },
   "outputs": [],
   "source": [
    "def save_to_markdown(content, file_path):\n",
    "    \"\"\"\n",
    "    Save content to a Markdown file.\n",
    "\n",
    "    Parameters:\n",
    "    - content (str): The content to be saved.\n",
    "    - file_path (str): The path to the Markdown file.\n",
    "    \"\"\"\n",
    "    with open(file_path, 'w', encoding='utf-8') as file:\n",
    "        file.write(content)"
   ]
  },
  {
   "cell_type": "code",
   "execution_count": 54,
   "id": "c4913c6c-37ab-4b35-b663-35fef3c08c7e",
   "metadata": {
    "execution": {
     "iopub.execute_input": "2024-05-18T12:44:08.327115Z",
     "iopub.status.busy": "2024-05-18T12:44:08.326336Z",
     "iopub.status.idle": "2024-05-18T12:44:08.343655Z",
     "shell.execute_reply": "2024-05-18T12:44:08.342221Z",
     "shell.execute_reply.started": "2024-05-18T12:44:08.327056Z"
    },
    "scrolled": true
   },
   "outputs": [],
   "source": [
    "save_to_markdown(html, './test_html.md')"
   ]
  },
  {
   "cell_type": "code",
   "execution_count": 49,
   "id": "4435fdbc-f46d-4cdf-be11-70092b580072",
   "metadata": {
    "execution": {
     "iopub.execute_input": "2024-05-18T12:38:13.321355Z",
     "iopub.status.busy": "2024-05-18T12:38:13.320244Z",
     "iopub.status.idle": "2024-05-18T12:38:13.361807Z",
     "shell.execute_reply": "2024-05-18T12:38:13.360630Z",
     "shell.execute_reply.started": "2024-05-18T12:38:13.321322Z"
    }
   },
   "outputs": [],
   "source": [
    "from bs4 import BeautifulSoup\n",
    "\n",
    "soup = BeautifulSoup(html, 'html.parser')"
   ]
  },
  {
   "cell_type": "code",
   "execution_count": 103,
   "id": "4528a739-306b-4487-b1fb-4a0a2e1fae87",
   "metadata": {
    "execution": {
     "iopub.execute_input": "2024-05-18T13:21:19.197449Z",
     "iopub.status.busy": "2024-05-18T13:21:19.195180Z",
     "iopub.status.idle": "2024-05-18T13:21:19.210629Z",
     "shell.execute_reply": "2024-05-18T13:21:19.210187Z",
     "shell.execute_reply.started": "2024-05-18T13:21:19.197349Z"
    },
    "scrolled": true
   },
   "outputs": [],
   "source": [
    "article_body = soup.find_all(\"div\", class_=\"article-body\")"
   ]
  },
  {
   "cell_type": "code",
   "execution_count": 104,
   "id": "5a586f5d-6a59-4735-a2ef-824dd86edf36",
   "metadata": {
    "execution": {
     "iopub.execute_input": "2024-05-18T13:21:20.811941Z",
     "iopub.status.busy": "2024-05-18T13:21:20.811093Z",
     "iopub.status.idle": "2024-05-18T13:21:20.819751Z",
     "shell.execute_reply": "2024-05-18T13:21:20.818874Z",
     "shell.execute_reply.started": "2024-05-18T13:21:20.811886Z"
    }
   },
   "outputs": [
    {
     "data": {
      "text/plain": [
       "bs4.element.ResultSet"
      ]
     },
     "execution_count": 104,
     "metadata": {},
     "output_type": "execute_result"
    }
   ],
   "source": [
    "type(article_body)"
   ]
  },
  {
   "cell_type": "code",
   "execution_count": 106,
   "id": "2c6c1f45-4552-4059-bc7c-589eddc960da",
   "metadata": {
    "collapsed": true,
    "execution": {
     "iopub.execute_input": "2024-05-18T13:21:33.759913Z",
     "iopub.status.busy": "2024-05-18T13:21:33.758800Z",
     "iopub.status.idle": "2024-05-18T13:21:33.765701Z",
     "shell.execute_reply": "2024-05-18T13:21:33.765220Z",
     "shell.execute_reply.started": "2024-05-18T13:21:33.759886Z"
    },
    "jupyter": {
     "outputs_hidden": true
    },
    "scrolled": true
   },
   "outputs": [
    {
     "data": {
      "text/plain": [
       "'\\n\\n\\n\\n\\nA씨는 2020년 초부터 수 개월간 채팅앱에서 만난 남성들에게 자신을 23살 여성이라고 소개한 뒤 함께 살자고 접근해 생활비 등의 명목으로 돈을 뜯어냈다. 사진은 기사와 무관함. /사진=게티이미지뱅크 \\n채팅앱에서 만난 남성들에게 자신을 여성이라고 속인 뒤 2억여원을 가로챈 20대 남성이 항소심에서도 실형을 선고받았다. 7일 법조계에 따르면 서울서부지법 형사항소2부(부상준 부장판사)는 사기·공갈·절도·여신전문금융업법 위반·컴퓨터등사용사기 등 혐의로 재판에 넘겨진 A씨(24)에게 1심과 같은 징역 5년을 선고했다.        A씨는 2020년 초부터 수 개월간 채팅앱에서 만난 남성들에게 자신을 23살 여성이라고 소개했다. 그는 남성들에게 교제를 하자거나 함께 살자고 접근해 생활비 등의 명목으로 돈을 뜯어낸 혐의로 재판에 넘겨졌다. A씨는 피해자 B씨에게 \"같이 살 집을 구하자. 보증금, 살림살이를 구입하는데 필요한 돈은 내가 관리하겠다\"고 속여 2주 만에 3260만원을 편취했다. 또 다른 피해자 C씨에게는 \"사귀자\"고 접근해 돈을 빌리고, 계좌번호와 비밀번호 등 개인정보를 건네 받아 은행에서 대신 대출받는 방식으로 총 1730만원을 빼앗았다.        피해자 D씨에게는 음란행위 영상을 받은 뒤 \"네가 일하는 곳에 영상을 뿌리겠다\"고 협박해 410만원을 갈취하고, 수백만원을 대출받아 빼돌리기도 했다. 1심 재판부는 \"범행 수법과 방법 등이 상당히 불량하고, 사회적 비난의 여지가 큰 점 등을 불리한 정상으로 참작한다\"면서 징역 5년을 선고했다. 이후 A씨는 형이 너무 무겁다며, 검창른 너무 가볍다며 각각 항소했지만 항소심 재판부의 판단도 다르지 않았다.        항소심 재판부는 \"피해자가 수십 명이고, 피해액 합계가 2억4000만원에 이르는데도 피해 회복을 위해 별다른 노력을 하지 않았다\"고 지적했다. 이어 \"절도 등으로 여러 차례 소년보호처분을 받은 전력이 있고, 재판 중에도 다른 미결수용자를 폭행하는 등 규율위반 행위로 금치 30일 처분을 받기도 했다\"면서 \"다만 잘못을 모두 인정하고 반성하는 점, 불우한 성장 과정이 범행에 어느 정도 영향을 미친 것으로 보이는 점을 참작했다\"며 1심과 같은 징역 5년을 선고했다. A씨는 법원에 상소포기서를 제출했고, 검찰 역시 상고하지 않아 형은 이대로 확정됐다. 이보배 한경닷컴 객원기자 newsinfo@hankyung.com\\n                                    '"
      ]
     },
     "execution_count": 106,
     "metadata": {},
     "output_type": "execute_result"
    }
   ],
   "source": [
    "article_body[0].get_text()"
   ]
  },
  {
   "cell_type": "code",
   "execution_count": 84,
   "id": "e25034ed-3458-446a-912a-da0eabd88180",
   "metadata": {
    "execution": {
     "iopub.execute_input": "2024-05-18T13:10:57.809443Z",
     "iopub.status.busy": "2024-05-18T13:10:57.808749Z",
     "iopub.status.idle": "2024-05-18T13:10:57.819656Z",
     "shell.execute_reply": "2024-05-18T13:10:57.819120Z",
     "shell.execute_reply.started": "2024-05-18T13:10:57.809415Z"
    }
   },
   "outputs": [
    {
     "data": {
      "text/plain": [
       "0"
      ]
     },
     "execution_count": 84,
     "metadata": {},
     "output_type": "execute_result"
    }
   ],
   "source": [
    "len(article_body)"
   ]
  },
  {
   "cell_type": "markdown",
   "id": "24f4c735-6356-455c-b6d8-4bf0f67fe068",
   "metadata": {
    "jp-MarkdownHeadingCollapsed": true
   },
   "source": [
    "#### def: get_article_text()"
   ]
  },
  {
   "cell_type": "code",
   "execution_count": 107,
   "id": "676c0d61-d76c-442c-a439-9a888df5f884",
   "metadata": {
    "execution": {
     "iopub.execute_input": "2024-05-18T13:21:41.523836Z",
     "iopub.status.busy": "2024-05-18T13:21:41.521998Z",
     "iopub.status.idle": "2024-05-18T13:21:41.531302Z",
     "shell.execute_reply": "2024-05-18T13:21:41.530850Z",
     "shell.execute_reply.started": "2024-05-18T13:21:41.523812Z"
    }
   },
   "outputs": [],
   "source": [
    "from bs4 import BeautifulSoup\n",
    "\n",
    "def get_article_text(html:str) -> str:\n",
    "    soup = BeautifulSoup(html, 'html.parser')\n",
    "    article_body = soup.find_all(\"div\", class_=\"article-body\")\n",
    "    if len(article_body) != 0:\n",
    "        return article_body[0].get_text()\n",
    "    else:\n",
    "        return \"\""
   ]
  },
  {
   "cell_type": "code",
   "execution_count": 70,
   "id": "4cadcb36-4bef-4b46-bc25-7167d871caf2",
   "metadata": {
    "collapsed": true,
    "execution": {
     "iopub.execute_input": "2024-05-18T13:04:19.352394Z",
     "iopub.status.busy": "2024-05-18T13:04:19.351494Z",
     "iopub.status.idle": "2024-05-18T13:04:19.400338Z",
     "shell.execute_reply": "2024-05-18T13:04:19.400050Z",
     "shell.execute_reply.started": "2024-05-18T13:04:19.352364Z"
    },
    "jupyter": {
     "outputs_hidden": true
    },
    "scrolled": true
   },
   "outputs": [
    {
     "data": {
      "text/html": [
       "<div>\n",
       "<style scoped>\n",
       "    .dataframe tbody tr th:only-of-type {\n",
       "        vertical-align: middle;\n",
       "    }\n",
       "\n",
       "    .dataframe tbody tr th {\n",
       "        vertical-align: top;\n",
       "    }\n",
       "\n",
       "    .dataframe thead th {\n",
       "        text-align: right;\n",
       "    }\n",
       "</style>\n",
       "<table border=\"1\" class=\"dataframe\">\n",
       "  <thead>\n",
       "    <tr style=\"text-align: right;\">\n",
       "      <th></th>\n",
       "      <th>범죄 유형</th>\n",
       "      <th>지역</th>\n",
       "      <th>위도</th>\n",
       "      <th>경도</th>\n",
       "      <th>중복 여부</th>\n",
       "      <th>퀄리티</th>\n",
       "      <th>제외 여부</th>\n",
       "      <th>기사제목</th>\n",
       "      <th>사건 장소</th>\n",
       "      <th>수사 기관</th>\n",
       "      <th>본문</th>\n",
       "      <th>URL</th>\n",
       "      <th>일자</th>\n",
       "      <th>언론사</th>\n",
       "      <th>기고자</th>\n",
       "      <th>비고</th>\n",
       "      <th>selenium_html</th>\n",
       "    </tr>\n",
       "  </thead>\n",
       "  <tbody>\n",
       "    <tr>\n",
       "      <th>0</th>\n",
       "      <td>NaN</td>\n",
       "      <td>NaN</td>\n",
       "      <td>NaN</td>\n",
       "      <td>NaN</td>\n",
       "      <td>NaN</td>\n",
       "      <td>NaN</td>\n",
       "      <td>NaN</td>\n",
       "      <td>\"같이 살자\" 2억 뜯어낸 채팅녀 알고 보니 20대 남자였다</td>\n",
       "      <td>2억여원</td>\n",
       "      <td>이대,검찰,한경닷컴 객원,서울서부지법,재판부,법원,형사항</td>\n",
       "      <td>채팅앱에서 만난 남성들에게 자신을 여성이라고 속인 뒤 2억여원을 가로챈 20대 남성...</td>\n",
       "      <td>https://www.hankyung.com/society/article/20220...</td>\n",
       "      <td>20220207</td>\n",
       "      <td>한국경제</td>\n",
       "      <td>이보배</td>\n",
       "      <td>NaN</td>\n",
       "      <td>&lt;body&gt;\\n\\t&lt;div id=\"wrap\" class=\"view\"&gt;\\n\\n\\t\\t...</td>\n",
       "    </tr>\n",
       "    <tr>\n",
       "      <th>1</th>\n",
       "      <td>NaN</td>\n",
       "      <td>NaN</td>\n",
       "      <td>NaN</td>\n",
       "      <td>NaN</td>\n",
       "      <td>NaN</td>\n",
       "      <td>NaN</td>\n",
       "      <td>NaN</td>\n",
       "      <td>'군인비하' 여고생 위문편지도 봉사활동 인정될까?</td>\n",
       "      <td>서울,서울강서양천교육지원청,여고</td>\n",
       "      <td>국민신문고,서울시교육청,사나,국군,특,서울강서양천교육지원청,별시,교육청</td>\n",
       "      <td>지난달 초 서울 모 여고에서 군인에게 위문 편지를 보내는 과정에서 군인 비하 문구를...</td>\n",
       "      <td>https://www.hankyung.com/society/article/20220...</td>\n",
       "      <td>20220204</td>\n",
       "      <td>한국경제</td>\n",
       "      <td>이미나</td>\n",
       "      <td>NaN</td>\n",
       "      <td>&lt;body&gt;\\n\\t&lt;div id=\"wrap\" class=\"view\"&gt;\\n\\n\\t\\t...</td>\n",
       "    </tr>\n",
       "    <tr>\n",
       "      <th>2</th>\n",
       "      <td>NaN</td>\n",
       "      <td>NaN</td>\n",
       "      <td>NaN</td>\n",
       "      <td>NaN</td>\n",
       "      <td>NaN</td>\n",
       "      <td>NaN</td>\n",
       "      <td>NaN</td>\n",
       "      <td>여고생 등에 '몰래 소변' 30대男 무죄→벌금형 뒤집혔다</td>\n",
       "      <td>충남</td>\n",
       "      <td>한경닷컴 객원,형사항소,당하,재판부,대법원,대전지법</td>\n",
       "      <td>10대 여학생 뒤에서 몰래 소변을 본 30대 남성이 1 2심에서 추행 혐의 무죄 판...</td>\n",
       "      <td>https://www.hankyung.com/society/article/20220...</td>\n",
       "      <td>20220126</td>\n",
       "      <td>한국경제</td>\n",
       "      <td>이보배</td>\n",
       "      <td>NaN</td>\n",
       "      <td>&lt;body&gt;\\n\\t&lt;div id=\"wrap\" class=\"view\"&gt;\\n\\n\\t\\t...</td>\n",
       "    </tr>\n",
       "    <tr>\n",
       "      <th>3</th>\n",
       "      <td>NaN</td>\n",
       "      <td>NaN</td>\n",
       "      <td>NaN</td>\n",
       "      <td>NaN</td>\n",
       "      <td>NaN</td>\n",
       "      <td>NaN</td>\n",
       "      <td>NaN</td>\n",
       "      <td>\"'승무원 룩북' 유튜버, 입던 속옷 돈 받고 팔려고 \" 폭로</td>\n",
       "      <td>적나라,아프리카,룩북</td>\n",
       "      <td>미국,유튜브,청구,정보통신,유튜버,대한항공,VVIP</td>\n",
       "      <td>'승무원 룩북' 영상으로 논란이 불거진 유튜버가 자신이 입던 속옷을 나눠준다는 이벤...</td>\n",
       "      <td>https://www.hankyung.com/life/article/20211222...</td>\n",
       "      <td>20211222</td>\n",
       "      <td>한국경제</td>\n",
       "      <td>김소연</td>\n",
       "      <td>NaN</td>\n",
       "      <td>&lt;body&gt;\\n\\t&lt;div id=\"wrap\" class=\"view\"&gt;\\n\\n\\t\\t...</td>\n",
       "    </tr>\n",
       "    <tr>\n",
       "      <th>4</th>\n",
       "      <td>NaN</td>\n",
       "      <td>NaN</td>\n",
       "      <td>NaN</td>\n",
       "      <td>NaN</td>\n",
       "      <td>NaN</td>\n",
       "      <td>NaN</td>\n",
       "      <td>NaN</td>\n",
       "      <td>가출 여고생 '성매매' 강요 20대男 공범 여친 몰래 '성폭행' 하기도</td>\n",
       "      <td>아동청소년의성보호에관한법률,경기,인천,북구,포항지원</td>\n",
       "      <td>애플,한경닷컴 객원,대구지방법원,재판부,제1형사부,포항시</td>\n",
       "      <td>가출 여고생에게 숙식을 제공하며 성매매를 강요한 일당이 실형을 선고받았다. 이들 중...</td>\n",
       "      <td>https://www.hankyung.com/society/article/20211...</td>\n",
       "      <td>20211219</td>\n",
       "      <td>한국경제</td>\n",
       "      <td>이보배</td>\n",
       "      <td>NaN</td>\n",
       "      <td>&lt;body&gt;\\n\\t&lt;div id=\"wrap\" class=\"view\"&gt;\\n\\n\\t\\t...</td>\n",
       "    </tr>\n",
       "    <tr>\n",
       "      <th>...</th>\n",
       "      <td>...</td>\n",
       "      <td>...</td>\n",
       "      <td>...</td>\n",
       "      <td>...</td>\n",
       "      <td>...</td>\n",
       "      <td>...</td>\n",
       "      <td>...</td>\n",
       "      <td>...</td>\n",
       "      <td>...</td>\n",
       "      <td>...</td>\n",
       "      <td>...</td>\n",
       "      <td>...</td>\n",
       "      <td>...</td>\n",
       "      <td>...</td>\n",
       "      <td>...</td>\n",
       "      <td>...</td>\n",
       "      <td>...</td>\n",
       "    </tr>\n",
       "    <tr>\n",
       "      <th>267</th>\n",
       "      <td>NaN</td>\n",
       "      <td>NaN</td>\n",
       "      <td>NaN</td>\n",
       "      <td>NaN</td>\n",
       "      <td>NaN</td>\n",
       "      <td>NaN</td>\n",
       "      <td>NaN</td>\n",
       "      <td>'부평 묻지마 폭행' 영상 확산 17세 女고생도 가담 '충격'</td>\n",
       "      <td>부평,인천시</td>\n",
       "      <td>한경닷컴,부평구,인천부평경찰서</td>\n",
       "      <td>부평 묻지마 폭행 \\n \\n부평 묻지마 폭행 사건 피의자 가운데 여고생도 포함된 것...</td>\n",
       "      <td>https://www.hankyung.com/society/article/20150...</td>\n",
       "      <td>20150924</td>\n",
       "      <td>한국경제</td>\n",
       "      <td>한예진</td>\n",
       "      <td>NaN</td>\n",
       "      <td>&lt;body&gt;\\n\\t&lt;div id=\"wrap\" class=\"view\"&gt;\\n\\n\\t\\t...</td>\n",
       "    </tr>\n",
       "    <tr>\n",
       "      <th>268</th>\n",
       "      <td>NaN</td>\n",
       "      <td>NaN</td>\n",
       "      <td>NaN</td>\n",
       "      <td>NaN</td>\n",
       "      <td>NaN</td>\n",
       "      <td>NaN</td>\n",
       "      <td>NaN</td>\n",
       "      <td>'부평 묻지마 폭행' 사건, 男女 커플 갑자기 폭행 당해 당시 동영상 보니 '충격'</td>\n",
       "      <td>인천,부평,인천시</td>\n",
       "      <td>한경닷컴,부평경찰서,부평구</td>\n",
       "      <td>'부평 묻지마 폭행' 사건에 여고생이 포함된 것으로 확인됐다. \\n \\n'부평 묻지...</td>\n",
       "      <td>https://www.hankyung.com/entertainment/article...</td>\n",
       "      <td>20150924</td>\n",
       "      <td>한국경제</td>\n",
       "      <td>한예진</td>\n",
       "      <td>NaN</td>\n",
       "      <td>&lt;body&gt;\\n\\t&lt;div id=\"wrap\" class=\"view\"&gt;\\n\\n\\t\\t...</td>\n",
       "    </tr>\n",
       "    <tr>\n",
       "      <th>269</th>\n",
       "      <td>NaN</td>\n",
       "      <td>NaN</td>\n",
       "      <td>NaN</td>\n",
       "      <td>NaN</td>\n",
       "      <td>NaN</td>\n",
       "      <td>NaN</td>\n",
       "      <td>NaN</td>\n",
       "      <td>부평 묻지마 폭행 가해자, 신상 강제 공개 네티즌 분노 유발한 글 보니 '충격'</td>\n",
       "      <td>인천,부평,인천시</td>\n",
       "      <td>부평구,한경닷컴,부평경찰서,경찰</td>\n",
       "      <td>부평 묻지마 폭행 가해자, 신상 강제 공개 네티즌 분노 유발한 글 보니 \\n \\n ...</td>\n",
       "      <td>https://www.hankyung.com/entertainment/article...</td>\n",
       "      <td>20150924</td>\n",
       "      <td>한국경제</td>\n",
       "      <td>김예랑</td>\n",
       "      <td>NaN</td>\n",
       "      <td>&lt;body&gt;\\n\\t&lt;div id=\"wrap\" class=\"view\"&gt;\\n\\n\\t\\t...</td>\n",
       "    </tr>\n",
       "    <tr>\n",
       "      <th>270</th>\n",
       "      <td>NaN</td>\n",
       "      <td>NaN</td>\n",
       "      <td>NaN</td>\n",
       "      <td>NaN</td>\n",
       "      <td>NaN</td>\n",
       "      <td>NaN</td>\n",
       "      <td>NaN</td>\n",
       "      <td>'부평 묻지마 폭행' 사건에 17살 女고생도 가담 당시 동영상 보니 '충격'</td>\n",
       "      <td>인천,부평,인천시</td>\n",
       "      <td>한경닷컴,부평경찰서,부평구</td>\n",
       "      <td>부평 묻지마 폭행 \\n \\n'부평 묻지마 폭행' 사건에 여고생이 포함된 것으로 확인...</td>\n",
       "      <td>https://www.hankyung.com/society/article/20150...</td>\n",
       "      <td>20150924</td>\n",
       "      <td>한국경제</td>\n",
       "      <td>한예진</td>\n",
       "      <td>NaN</td>\n",
       "      <td>&lt;body&gt;\\n\\t&lt;div id=\"wrap\" class=\"view\"&gt;\\n\\n\\t\\t...</td>\n",
       "    </tr>\n",
       "    <tr>\n",
       "      <th>271</th>\n",
       "      <td>NaN</td>\n",
       "      <td>NaN</td>\n",
       "      <td>NaN</td>\n",
       "      <td>NaN</td>\n",
       "      <td>NaN</td>\n",
       "      <td>NaN</td>\n",
       "      <td>NaN</td>\n",
       "      <td>부평 묻지마 폭행 사건, 17세 女고생도 가담 동영상 보니 '충격'</td>\n",
       "      <td>인천,부평,인천시</td>\n",
       "      <td>한경닷컴,부평경찰서,부평구</td>\n",
       "      <td>'부평 묻지마 폭행' 사건에 여고생이 포함된 것으로 확인됐다. \\n \\n'부평 묻지...</td>\n",
       "      <td>https://www.hankyung.com/entertainment/article...</td>\n",
       "      <td>20150923</td>\n",
       "      <td>한국경제</td>\n",
       "      <td>한예진</td>\n",
       "      <td>NaN</td>\n",
       "      <td>&lt;body&gt;\\n\\t&lt;div id=\"wrap\" class=\"view\"&gt;\\n\\n\\t\\t...</td>\n",
       "    </tr>\n",
       "  </tbody>\n",
       "</table>\n",
       "<p>209 rows × 17 columns</p>\n",
       "</div>"
      ],
      "text/plain": [
       "     범죄 유형  지역  위도  경도  중복 여부  퀄리티  제외 여부  \\\n",
       "0      NaN NaN NaN NaN    NaN  NaN    NaN   \n",
       "1      NaN NaN NaN NaN    NaN  NaN    NaN   \n",
       "2      NaN NaN NaN NaN    NaN  NaN    NaN   \n",
       "3      NaN NaN NaN NaN    NaN  NaN    NaN   \n",
       "4      NaN NaN NaN NaN    NaN  NaN    NaN   \n",
       "..     ...  ..  ..  ..    ...  ...    ...   \n",
       "267    NaN NaN NaN NaN    NaN  NaN    NaN   \n",
       "268    NaN NaN NaN NaN    NaN  NaN    NaN   \n",
       "269    NaN NaN NaN NaN    NaN  NaN    NaN   \n",
       "270    NaN NaN NaN NaN    NaN  NaN    NaN   \n",
       "271    NaN NaN NaN NaN    NaN  NaN    NaN   \n",
       "\n",
       "                                               기사제목  \\\n",
       "0                 \"같이 살자\" 2억 뜯어낸 채팅녀 알고 보니 20대 남자였다   \n",
       "1                       '군인비하' 여고생 위문편지도 봉사활동 인정될까?   \n",
       "2                   여고생 등에 '몰래 소변' 30대男 무죄→벌금형 뒤집혔다   \n",
       "3                \"'승무원 룩북' 유튜버, 입던 속옷 돈 받고 팔려고 \" 폭로   \n",
       "4           가출 여고생 '성매매' 강요 20대男 공범 여친 몰래 '성폭행' 하기도   \n",
       "..                                              ...   \n",
       "267              '부평 묻지마 폭행' 영상 확산 17세 女고생도 가담 '충격'   \n",
       "268  '부평 묻지마 폭행' 사건, 男女 커플 갑자기 폭행 당해 당시 동영상 보니 '충격'   \n",
       "269    부평 묻지마 폭행 가해자, 신상 강제 공개 네티즌 분노 유발한 글 보니 '충격'   \n",
       "270      '부평 묻지마 폭행' 사건에 17살 女고생도 가담 당시 동영상 보니 '충격'   \n",
       "271           부평 묻지마 폭행 사건, 17세 女고생도 가담 동영상 보니 '충격'   \n",
       "\n",
       "                            사건 장소                                    수사 기관  \\\n",
       "0                            2억여원          이대,검찰,한경닷컴 객원,서울서부지법,재판부,법원,형사항   \n",
       "1               서울,서울강서양천교육지원청,여고  국민신문고,서울시교육청,사나,국군,특,서울강서양천교육지원청,별시,교육청   \n",
       "2                              충남             한경닷컴 객원,형사항소,당하,재판부,대법원,대전지법   \n",
       "3                     적나라,아프리카,룩북             미국,유튜브,청구,정보통신,유튜버,대한항공,VVIP   \n",
       "4    아동청소년의성보호에관한법률,경기,인천,북구,포항지원          애플,한경닷컴 객원,대구지방법원,재판부,제1형사부,포항시   \n",
       "..                            ...                                      ...   \n",
       "267                        부평,인천시                         한경닷컴,부평구,인천부평경찰서   \n",
       "268                     인천,부평,인천시                           한경닷컴,부평경찰서,부평구   \n",
       "269                     인천,부평,인천시                        부평구,한경닷컴,부평경찰서,경찰   \n",
       "270                     인천,부평,인천시                           한경닷컴,부평경찰서,부평구   \n",
       "271                     인천,부평,인천시                           한경닷컴,부평경찰서,부평구   \n",
       "\n",
       "                                                    본문  \\\n",
       "0    채팅앱에서 만난 남성들에게 자신을 여성이라고 속인 뒤 2억여원을 가로챈 20대 남성...   \n",
       "1    지난달 초 서울 모 여고에서 군인에게 위문 편지를 보내는 과정에서 군인 비하 문구를...   \n",
       "2    10대 여학생 뒤에서 몰래 소변을 본 30대 남성이 1 2심에서 추행 혐의 무죄 판...   \n",
       "3    '승무원 룩북' 영상으로 논란이 불거진 유튜버가 자신이 입던 속옷을 나눠준다는 이벤...   \n",
       "4    가출 여고생에게 숙식을 제공하며 성매매를 강요한 일당이 실형을 선고받았다. 이들 중...   \n",
       "..                                                 ...   \n",
       "267  부평 묻지마 폭행 \\n \\n부평 묻지마 폭행 사건 피의자 가운데 여고생도 포함된 것...   \n",
       "268  '부평 묻지마 폭행' 사건에 여고생이 포함된 것으로 확인됐다. \\n \\n'부평 묻지...   \n",
       "269  부평 묻지마 폭행 가해자, 신상 강제 공개 네티즌 분노 유발한 글 보니 \\n \\n ...   \n",
       "270  부평 묻지마 폭행 \\n \\n'부평 묻지마 폭행' 사건에 여고생이 포함된 것으로 확인...   \n",
       "271  '부평 묻지마 폭행' 사건에 여고생이 포함된 것으로 확인됐다. \\n \\n'부평 묻지...   \n",
       "\n",
       "                                                   URL        일자   언론사  기고자  \\\n",
       "0    https://www.hankyung.com/society/article/20220...  20220207  한국경제  이보배   \n",
       "1    https://www.hankyung.com/society/article/20220...  20220204  한국경제  이미나   \n",
       "2    https://www.hankyung.com/society/article/20220...  20220126  한국경제  이보배   \n",
       "3    https://www.hankyung.com/life/article/20211222...  20211222  한국경제  김소연   \n",
       "4    https://www.hankyung.com/society/article/20211...  20211219  한국경제  이보배   \n",
       "..                                                 ...       ...   ...  ...   \n",
       "267  https://www.hankyung.com/society/article/20150...  20150924  한국경제  한예진   \n",
       "268  https://www.hankyung.com/entertainment/article...  20150924  한국경제  한예진   \n",
       "269  https://www.hankyung.com/entertainment/article...  20150924  한국경제  김예랑   \n",
       "270  https://www.hankyung.com/society/article/20150...  20150924  한국경제  한예진   \n",
       "271  https://www.hankyung.com/entertainment/article...  20150923  한국경제  한예진   \n",
       "\n",
       "     비고                                      selenium_html  \n",
       "0   NaN  <body>\\n\\t<div id=\"wrap\" class=\"view\">\\n\\n\\t\\t...  \n",
       "1   NaN  <body>\\n\\t<div id=\"wrap\" class=\"view\">\\n\\n\\t\\t...  \n",
       "2   NaN  <body>\\n\\t<div id=\"wrap\" class=\"view\">\\n\\n\\t\\t...  \n",
       "3   NaN  <body>\\n\\t<div id=\"wrap\" class=\"view\">\\n\\n\\t\\t...  \n",
       "4   NaN  <body>\\n\\t<div id=\"wrap\" class=\"view\">\\n\\n\\t\\t...  \n",
       "..   ..                                                ...  \n",
       "267 NaN  <body>\\n\\t<div id=\"wrap\" class=\"view\">\\n\\n\\t\\t...  \n",
       "268 NaN  <body>\\n\\t<div id=\"wrap\" class=\"view\">\\n\\n\\t\\t...  \n",
       "269 NaN  <body>\\n\\t<div id=\"wrap\" class=\"view\">\\n\\n\\t\\t...  \n",
       "270 NaN  <body>\\n\\t<div id=\"wrap\" class=\"view\">\\n\\n\\t\\t...  \n",
       "271 NaN  <body>\\n\\t<div id=\"wrap\" class=\"view\">\\n\\n\\t\\t...  \n",
       "\n",
       "[209 rows x 17 columns]"
      ]
     },
     "execution_count": 70,
     "metadata": {},
     "output_type": "execute_result"
    }
   ],
   "source": [
    "df[df['selenium_html'].notna()]"
   ]
  },
  {
   "cell_type": "code",
   "execution_count": 72,
   "id": "a28c53bc-621c-46db-8643-441370b28307",
   "metadata": {
    "execution": {
     "iopub.execute_input": "2024-05-18T13:06:16.886945Z",
     "iopub.status.busy": "2024-05-18T13:06:16.885823Z",
     "iopub.status.idle": "2024-05-18T13:06:16.910091Z",
     "shell.execute_reply": "2024-05-18T13:06:16.909713Z",
     "shell.execute_reply.started": "2024-05-18T13:06:16.886911Z"
    },
    "scrolled": true
   },
   "outputs": [],
   "source": [
    "# df_html = df[(\n",
    "#     df[df['selenium_html'].notna()]\n",
    "# ) & (\n",
    "#     df[df['selenium_html'] != \"\"]\n",
    "# )]\n",
    "\n",
    "df_html = df[\n",
    "    df['selenium_html'].notna() & \n",
    "    (df['selenium_html'] != \"\")\n",
    "]\n"
   ]
  },
  {
   "cell_type": "code",
   "execution_count": 73,
   "id": "bffe8696-5c7e-4c78-b357-6e43055bc0a9",
   "metadata": {
    "collapsed": true,
    "execution": {
     "iopub.execute_input": "2024-05-18T13:06:50.745512Z",
     "iopub.status.busy": "2024-05-18T13:06:50.742018Z",
     "iopub.status.idle": "2024-05-18T13:06:50.784716Z",
     "shell.execute_reply": "2024-05-18T13:06:50.784237Z",
     "shell.execute_reply.started": "2024-05-18T13:06:50.745322Z"
    },
    "jupyter": {
     "outputs_hidden": true
    },
    "scrolled": true
   },
   "outputs": [
    {
     "name": "stdout",
     "output_type": "stream",
     "text": [
      "<class 'pandas.core.frame.DataFrame'>\n",
      "Index: 148 entries, 0 to 271\n",
      "Data columns (total 17 columns):\n",
      " #   Column         Non-Null Count  Dtype  \n",
      "---  ------         --------------  -----  \n",
      " 0   범죄 유형          0 non-null      float64\n",
      " 1   지역             0 non-null      float64\n",
      " 2   위도             0 non-null      float64\n",
      " 3   경도             0 non-null      float64\n",
      " 4   중복 여부          0 non-null      float64\n",
      " 5   퀄리티            0 non-null      float64\n",
      " 6   제외 여부          0 non-null      float64\n",
      " 7   기사제목           148 non-null    object \n",
      " 8   사건 장소          125 non-null    object \n",
      " 9   수사 기관          148 non-null    object \n",
      " 10  본문             148 non-null    object \n",
      " 11  URL            148 non-null    object \n",
      " 12  일자             148 non-null    int64  \n",
      " 13  언론사            148 non-null    object \n",
      " 14  기고자            144 non-null    object \n",
      " 15  비고             0 non-null      float64\n",
      " 16  selenium_html  148 non-null    object \n",
      "dtypes: float64(8), int64(1), object(8)\n",
      "memory usage: 20.8+ KB\n"
     ]
    }
   ],
   "source": [
    "df_html.info()"
   ]
  },
  {
   "cell_type": "code",
   "execution_count": 87,
   "id": "b6270804-6e72-4b05-9a07-4e3fc15739bd",
   "metadata": {
    "execution": {
     "iopub.execute_input": "2024-05-18T13:12:17.861086Z",
     "iopub.status.busy": "2024-05-18T13:12:17.858339Z",
     "iopub.status.idle": "2024-05-18T13:12:17.873992Z",
     "shell.execute_reply": "2024-05-18T13:12:17.873540Z",
     "shell.execute_reply.started": "2024-05-18T13:12:17.861041Z"
    }
   },
   "outputs": [
    {
     "data": {
      "text/plain": [
       "Index([  0,   1,   2,   3,   4,   5,   6,   7,   8,   9,\n",
       "       ...\n",
       "       262, 263, 264, 265, 266, 267, 268, 269, 270, 271],\n",
       "      dtype='int64', length=148)"
      ]
     },
     "execution_count": 87,
     "metadata": {},
     "output_type": "execute_result"
    }
   ],
   "source": [
    "index_list = df_html.index\n",
    "index_list"
   ]
  },
  {
   "cell_type": "code",
   "execution_count": 110,
   "id": "64b1f794-a3a5-413d-bbbf-c9bf416c68f5",
   "metadata": {
    "execution": {
     "iopub.execute_input": "2024-05-18T13:23:20.113540Z",
     "iopub.status.busy": "2024-05-18T13:23:20.112393Z",
     "iopub.status.idle": "2024-05-18T13:23:24.141156Z",
     "shell.execute_reply": "2024-05-18T13:23:24.140828Z",
     "shell.execute_reply.started": "2024-05-18T13:23:20.113502Z"
    }
   },
   "outputs": [
    {
     "data": {
      "application/vnd.jupyter.widget-view+json": {
       "model_id": "99c394005a864409910e8684a0e5a11e",
       "version_major": 2,
       "version_minor": 0
      },
      "text/plain": [
       "  0%|          | 0/148 [00:00<?, ?it/s]"
      ]
     },
     "metadata": {},
     "output_type": "display_data"
    }
   ],
   "source": [
    "for index in tqdm(index_list):\n",
    "    result = get_article_text(html=df.loc[index, \"selenium_html\"])\n",
    "    df.loc[index, \"content\"] = result"
   ]
  },
  {
   "cell_type": "code",
   "execution_count": 91,
   "id": "7b66aedd-8eca-42c2-8fce-dc65511ead7f",
   "metadata": {
    "execution": {
     "iopub.execute_input": "2024-05-18T13:15:51.040817Z",
     "iopub.status.busy": "2024-05-18T13:15:51.036288Z",
     "iopub.status.idle": "2024-05-18T13:15:51.060245Z",
     "shell.execute_reply": "2024-05-18T13:15:51.059567Z",
     "shell.execute_reply.started": "2024-05-18T13:15:51.040748Z"
    }
   },
   "outputs": [
    {
     "name": "stdout",
     "output_type": "stream",
     "text": [
      "0\n",
      "<class 'numpy.int64'>\n"
     ]
    }
   ],
   "source": [
    "print(index_list[0])\n",
    "print(type(index_list[0]))"
   ]
  },
  {
   "cell_type": "code",
   "execution_count": 94,
   "id": "4a2bfbe2-b3cf-47b5-ba1f-155913160987",
   "metadata": {
    "execution": {
     "iopub.execute_input": "2024-05-18T13:17:09.128843Z",
     "iopub.status.busy": "2024-05-18T13:17:09.127677Z",
     "iopub.status.idle": "2024-05-18T13:17:09.144219Z",
     "shell.execute_reply": "2024-05-18T13:17:09.143860Z",
     "shell.execute_reply.started": "2024-05-18T13:17:09.128802Z"
    }
   },
   "outputs": [],
   "source": [
    "df.loc[int(index_list[0]), \"content\"] = \"\""
   ]
  },
  {
   "cell_type": "code",
   "execution_count": 93,
   "id": "caca7799-0c8b-43cf-b654-a43986a37f9d",
   "metadata": {
    "execution": {
     "iopub.execute_input": "2024-05-18T13:16:21.263084Z",
     "iopub.status.busy": "2024-05-18T13:16:21.260845Z",
     "iopub.status.idle": "2024-05-18T13:16:21.280786Z",
     "shell.execute_reply": "2024-05-18T13:16:21.280415Z",
     "shell.execute_reply.started": "2024-05-18T13:16:21.263003Z"
    }
   },
   "outputs": [],
   "source": [
    "df.loc[0, \"content\"] = \"\""
   ]
  },
  {
   "cell_type": "code",
   "execution_count": 96,
   "id": "067eb175-fe12-421d-be1d-cc9168a47d56",
   "metadata": {
    "execution": {
     "iopub.execute_input": "2024-05-18T13:18:33.435148Z",
     "iopub.status.busy": "2024-05-18T13:18:33.433436Z",
     "iopub.status.idle": "2024-05-18T13:18:33.571491Z",
     "shell.execute_reply": "2024-05-18T13:18:33.570781Z",
     "shell.execute_reply.started": "2024-05-18T13:18:33.435111Z"
    }
   },
   "outputs": [],
   "source": [
    "result = get_article_text(html=df.loc[0, \"selenium_html\"])"
   ]
  },
  {
   "cell_type": "code",
   "execution_count": 98,
   "id": "370dad04-5dc0-4e18-962f-2408bdee9737",
   "metadata": {
    "collapsed": true,
    "execution": {
     "iopub.execute_input": "2024-05-18T13:19:37.229728Z",
     "iopub.status.busy": "2024-05-18T13:19:37.228182Z",
     "iopub.status.idle": "2024-05-18T13:19:37.249883Z",
     "shell.execute_reply": "2024-05-18T13:19:37.248148Z",
     "shell.execute_reply.started": "2024-05-18T13:19:37.229695Z"
    },
    "jupyter": {
     "outputs_hidden": true
    },
    "scrolled": true
   },
   "outputs": [
    {
     "data": {
      "text/plain": [
       "'\\n\\n\\n\\n\\nA씨는 2020년 초부터 수 개월간 채팅앱에서 만난 남성들에게 자신을 23살 여성이라고 소개한 뒤 함께 살자고 접근해 생활비 등의 명목으로 돈을 뜯어냈다. 사진은 기사와 무관함. /사진=게티이미지뱅크 \\n채팅앱에서 만난 남성들에게 자신을 여성이라고 속인 뒤 2억여원을 가로챈 20대 남성이 항소심에서도 실형을 선고받았다. 7일 법조계에 따르면 서울서부지법 형사항소2부(부상준 부장판사)는 사기·공갈·절도·여신전문금융업법 위반·컴퓨터등사용사기 등 혐의로 재판에 넘겨진 A씨(24)에게 1심과 같은 징역 5년을 선고했다.        A씨는 2020년 초부터 수 개월간 채팅앱에서 만난 남성들에게 자신을 23살 여성이라고 소개했다. 그는 남성들에게 교제를 하자거나 함께 살자고 접근해 생활비 등의 명목으로 돈을 뜯어낸 혐의로 재판에 넘겨졌다. A씨는 피해자 B씨에게 \"같이 살 집을 구하자. 보증금, 살림살이를 구입하는데 필요한 돈은 내가 관리하겠다\"고 속여 2주 만에 3260만원을 편취했다. 또 다른 피해자 C씨에게는 \"사귀자\"고 접근해 돈을 빌리고, 계좌번호와 비밀번호 등 개인정보를 건네 받아 은행에서 대신 대출받는 방식으로 총 1730만원을 빼앗았다.        피해자 D씨에게는 음란행위 영상을 받은 뒤 \"네가 일하는 곳에 영상을 뿌리겠다\"고 협박해 410만원을 갈취하고, 수백만원을 대출받아 빼돌리기도 했다. 1심 재판부는 \"범행 수법과 방법 등이 상당히 불량하고, 사회적 비난의 여지가 큰 점 등을 불리한 정상으로 참작한다\"면서 징역 5년을 선고했다. 이후 A씨는 형이 너무 무겁다며, 검창른 너무 가볍다며 각각 항소했지만 항소심 재판부의 판단도 다르지 않았다.        항소심 재판부는 \"피해자가 수십 명이고, 피해액 합계가 2억4000만원에 이르는데도 피해 회복을 위해 별다른 노력을 하지 않았다\"고 지적했다. 이어 \"절도 등으로 여러 차례 소년보호처분을 받은 전력이 있고, 재판 중에도 다른 미결수용자를 폭행하는 등 규율위반 행위로 금치 30일 처분을 받기도 했다\"면서 \"다만 잘못을 모두 인정하고 반성하는 점, 불우한 성장 과정이 범행에 어느 정도 영향을 미친 것으로 보이는 점을 참작했다\"며 1심과 같은 징역 5년을 선고했다. A씨는 법원에 상소포기서를 제출했고, 검찰 역시 상고하지 않아 형은 이대로 확정됐다. 이보배 한경닷컴 객원기자 newsinfo@hankyung.com\\n                                    '"
      ]
     },
     "execution_count": 98,
     "metadata": {},
     "output_type": "execute_result"
    }
   ],
   "source": [
    "result.get_text()"
   ]
  },
  {
   "cell_type": "markdown",
   "id": "2eb6cd06-afce-4c8e-ba38-75e49acae91f",
   "metadata": {},
   "source": [
    "#### inspection"
   ]
  },
  {
   "cell_type": "code",
   "execution_count": 112,
   "id": "60414df2-f583-405d-a100-0898bdc13ef7",
   "metadata": {
    "collapsed": true,
    "execution": {
     "iopub.execute_input": "2024-05-18T13:24:49.692452Z",
     "iopub.status.busy": "2024-05-18T13:24:49.690670Z",
     "iopub.status.idle": "2024-05-18T13:24:49.704854Z",
     "shell.execute_reply": "2024-05-18T13:24:49.704515Z",
     "shell.execute_reply.started": "2024-05-18T13:24:49.692408Z"
    },
    "jupyter": {
     "outputs_hidden": true
    },
    "scrolled": true
   },
   "outputs": [
    {
     "data": {
      "text/plain": [
       "'\\n\\n\\n\\n\\nA씨는 2020년 초부터 수 개월간 채팅앱에서 만난 남성들에게 자신을 23살 여성이라고 소개한 뒤 함께 살자고 접근해 생활비 등의 명목으로 돈을 뜯어냈다. 사진은 기사와 무관함. /사진=게티이미지뱅크 \\n채팅앱에서 만난 남성들에게 자신을 여성이라고 속인 뒤 2억여원을 가로챈 20대 남성이 항소심에서도 실형을 선고받았다. 7일 법조계에 따르면 서울서부지법 형사항소2부(부상준 부장판사)는 사기·공갈·절도·여신전문금융업법 위반·컴퓨터등사용사기 등 혐의로 재판에 넘겨진 A씨(24)에게 1심과 같은 징역 5년을 선고했다.        A씨는 2020년 초부터 수 개월간 채팅앱에서 만난 남성들에게 자신을 23살 여성이라고 소개했다. 그는 남성들에게 교제를 하자거나 함께 살자고 접근해 생활비 등의 명목으로 돈을 뜯어낸 혐의로 재판에 넘겨졌다. A씨는 피해자 B씨에게 \"같이 살 집을 구하자. 보증금, 살림살이를 구입하는데 필요한 돈은 내가 관리하겠다\"고 속여 2주 만에 3260만원을 편취했다. 또 다른 피해자 C씨에게는 \"사귀자\"고 접근해 돈을 빌리고, 계좌번호와 비밀번호 등 개인정보를 건네 받아 은행에서 대신 대출받는 방식으로 총 1730만원을 빼앗았다.        피해자 D씨에게는 음란행위 영상을 받은 뒤 \"네가 일하는 곳에 영상을 뿌리겠다\"고 협박해 410만원을 갈취하고, 수백만원을 대출받아 빼돌리기도 했다. 1심 재판부는 \"범행 수법과 방법 등이 상당히 불량하고, 사회적 비난의 여지가 큰 점 등을 불리한 정상으로 참작한다\"면서 징역 5년을 선고했다. 이후 A씨는 형이 너무 무겁다며, 검창른 너무 가볍다며 각각 항소했지만 항소심 재판부의 판단도 다르지 않았다.        항소심 재판부는 \"피해자가 수십 명이고, 피해액 합계가 2억4000만원에 이르는데도 피해 회복을 위해 별다른 노력을 하지 않았다\"고 지적했다. 이어 \"절도 등으로 여러 차례 소년보호처분을 받은 전력이 있고, 재판 중에도 다른 미결수용자를 폭행하는 등 규율위반 행위로 금치 30일 처분을 받기도 했다\"면서 \"다만 잘못을 모두 인정하고 반성하는 점, 불우한 성장 과정이 범행에 어느 정도 영향을 미친 것으로 보이는 점을 참작했다\"며 1심과 같은 징역 5년을 선고했다. A씨는 법원에 상소포기서를 제출했고, 검찰 역시 상고하지 않아 형은 이대로 확정됐다. 이보배 한경닷컴 객원기자 newsinfo@hankyung.com\\n                                    '"
      ]
     },
     "execution_count": 112,
     "metadata": {},
     "output_type": "execute_result"
    }
   ],
   "source": [
    "df.loc[0, 'content']"
   ]
  },
  {
   "cell_type": "markdown",
   "id": "5caac6bd-4d9a-41da-8edb-add29d189b14",
   "metadata": {
    "jp-MarkdownHeadingCollapsed": true
   },
   "source": [
    "### save"
   ]
  },
  {
   "cell_type": "code",
   "execution_count": 113,
   "id": "fdb6c8a6-1a87-4593-b28b-a6ee8f93a79b",
   "metadata": {
    "execution": {
     "iopub.execute_input": "2024-05-18T13:29:14.801604Z",
     "iopub.status.busy": "2024-05-18T13:29:14.800256Z",
     "iopub.status.idle": "2024-05-18T13:29:15.445409Z",
     "shell.execute_reply": "2024-05-18T13:29:15.445127Z",
     "shell.execute_reply.started": "2024-05-18T13:29:14.801517Z"
    }
   },
   "outputs": [],
   "source": [
    "df.to_parquet(\n",
    "    './dataframe/flasher_hk_20130101_20220307.gzip',\n",
    "    compression='gzip')"
   ]
  },
  {
   "cell_type": "markdown",
   "id": "8e4c0abb-f6d4-4abd-b45b-f4607973495d",
   "metadata": {},
   "source": [
    "### class"
   ]
  },
  {
   "cell_type": "code",
   "execution_count": 1,
   "id": "8cb04611-db26-4b3e-be31-7c2d3a801491",
   "metadata": {
    "execution": {
     "iopub.execute_input": "2024-05-18T14:56:57.268761Z",
     "iopub.status.busy": "2024-05-18T14:56:57.268580Z",
     "iopub.status.idle": "2024-05-18T14:56:57.970057Z",
     "shell.execute_reply": "2024-05-18T14:56:57.969734Z",
     "shell.execute_reply.started": "2024-05-18T14:56:57.268745Z"
    }
   },
   "outputs": [],
   "source": [
    "import pandas as pd \n",
    "import numpy as np\n",
    "import math\n",
    "import re\n",
    "\n",
    "from icecream import ic\n",
    "from tqdm.notebook import tqdm \n",
    "\n",
    "from utils.custom_utils import load_var, save_var, get_current_time\n",
    "from utils.webscraping import ArticleScraper"
   ]
  },
  {
   "cell_type": "code",
   "execution_count": 2,
   "id": "f599afe9-a018-4c0a-93b4-dd6839823bbf",
   "metadata": {
    "execution": {
     "iopub.execute_input": "2024-05-18T14:56:57.971260Z",
     "iopub.status.busy": "2024-05-18T14:56:57.971112Z",
     "iopub.status.idle": "2024-05-18T14:56:58.186263Z",
     "shell.execute_reply": "2024-05-18T14:56:58.185979Z",
     "shell.execute_reply.started": "2024-05-18T14:56:57.971251Z"
    }
   },
   "outputs": [],
   "source": [
    "df = pd.read_excel(\"./dataframe/EDITED_1_바바리맨_자연어_한국경제_2013.1.1~2022.3.7 (1).xlsx\")\n",
    "df_test = df.iloc[:2]"
   ]
  },
  {
   "cell_type": "code",
   "execution_count": 5,
   "id": "2da35f80-fb78-4b64-a976-8545420bbc6b",
   "metadata": {
    "execution": {
     "iopub.execute_input": "2024-05-18T14:58:07.597564Z",
     "iopub.status.busy": "2024-05-18T14:58:07.596444Z",
     "iopub.status.idle": "2024-05-18T14:58:07.608760Z",
     "shell.execute_reply": "2024-05-18T14:58:07.608210Z",
     "shell.execute_reply.started": "2024-05-18T14:58:07.597499Z"
    }
   },
   "outputs": [],
   "source": [
    "scr = ArticleScraper(df)"
   ]
  },
  {
   "cell_type": "code",
   "execution_count": 6,
   "id": "de726151-6ac0-4299-b16b-816a0429673c",
   "metadata": {
    "execution": {
     "iopub.execute_input": "2024-05-18T14:58:07.610357Z",
     "iopub.status.busy": "2024-05-18T14:58:07.610214Z",
     "iopub.status.idle": "2024-05-18T14:59:02.083648Z",
     "shell.execute_reply": "2024-05-18T14:59:02.082318Z",
     "shell.execute_reply.started": "2024-05-18T14:58:07.610345Z"
    },
    "scrolled": true
   },
   "outputs": [
    {
     "data": {
      "application/vnd.jupyter.widget-view+json": {
       "model_id": "b84ea5a8f28d420d8f0481ec7af78533",
       "version_major": 2,
       "version_minor": 0
      },
      "text/plain": [
       "  0%|          | 0/209 [00:00<?, ?it/s]"
      ]
     },
     "metadata": {},
     "output_type": "display_data"
    },
    {
     "ename": "KeyboardInterrupt",
     "evalue": "",
     "output_type": "error",
     "traceback": [
      "\u001b[0;31m---------------------------------------------------------------------------\u001b[0m",
      "\u001b[0;31mKeyboardInterrupt\u001b[0m                         Traceback (most recent call last)",
      "Cell \u001b[0;32mIn[6], line 1\u001b[0m\n\u001b[0;32m----> 1\u001b[0m \u001b[43mscr\u001b[49m\u001b[38;5;241;43m.\u001b[39;49m\u001b[43mprocess\u001b[49m\u001b[43m(\u001b[49m\u001b[43m)\u001b[49m\n",
      "File \u001b[0;32m~/Workspace/scrape/geopy/utils/webscraping.py:111\u001b[0m, in \u001b[0;36mArticleScraper.process\u001b[0;34m(self)\u001b[0m\n\u001b[1;32m    110\u001b[0m \u001b[38;5;28;01mdef\u001b[39;00m \u001b[38;5;21mprocess\u001b[39m(\u001b[38;5;28mself\u001b[39m):\n\u001b[0;32m--> 111\u001b[0m     \u001b[38;5;28;43mself\u001b[39;49m\u001b[38;5;241;43m.\u001b[39;49m\u001b[43mscrape_by_selenium\u001b[49m\u001b[43m(\u001b[49m\u001b[43m)\u001b[49m\n",
      "File \u001b[0;32m~/Workspace/scrape/geopy/utils/webscraping.py:80\u001b[0m, in \u001b[0;36mArticleScraper.scrape_by_selenium\u001b[0;34m(self)\u001b[0m\n\u001b[1;32m     78\u001b[0m \u001b[38;5;28;01mfor\u001b[39;00m index \u001b[38;5;129;01min\u001b[39;00m tqdm(\u001b[38;5;28mself\u001b[39m\u001b[38;5;241m.\u001b[39mindex_url):\n\u001b[1;32m     79\u001b[0m     url \u001b[38;5;241m=\u001b[39m df\u001b[38;5;241m.\u001b[39mloc[index, \u001b[38;5;124m\"\u001b[39m\u001b[38;5;124mURL\u001b[39m\u001b[38;5;124m\"\u001b[39m]\n\u001b[0;32m---> 80\u001b[0m     result \u001b[38;5;241m=\u001b[39m \u001b[38;5;28;43mself\u001b[39;49m\u001b[38;5;241;43m.\u001b[39;49m\u001b[43mget_html_selenium\u001b[49m\u001b[43m(\u001b[49m\u001b[43murl\u001b[49m\u001b[38;5;241;43m=\u001b[39;49m\u001b[43murl\u001b[49m\u001b[43m,\u001b[49m\u001b[43m \u001b[49m\u001b[43mdriver\u001b[49m\u001b[38;5;241;43m=\u001b[39;49m\u001b[43mdriver\u001b[49m\u001b[43m)\u001b[49m\n\u001b[1;32m     81\u001b[0m     df\u001b[38;5;241m.\u001b[39mloc[\u001b[38;5;28mint\u001b[39m(index), new_column_name] \u001b[38;5;241m=\u001b[39m \u001b[38;5;28mstr\u001b[39m(result)\n\u001b[1;32m     82\u001b[0m \u001b[38;5;28mself\u001b[39m\u001b[38;5;241m.\u001b[39mdf \u001b[38;5;241m=\u001b[39m df\u001b[38;5;241m.\u001b[39mcopy()\n",
      "File \u001b[0;32m~/Workspace/scrape/geopy/utils/webscraping.py:32\u001b[0m, in \u001b[0;36mArticleScraper.get_html_selenium\u001b[0;34m(self, url, driver)\u001b[0m\n\u001b[1;32m     26\u001b[0m \u001b[38;5;28;01mdef\u001b[39;00m \u001b[38;5;21mget_html_selenium\u001b[39m(\n\u001b[1;32m     27\u001b[0m     \u001b[38;5;28mself\u001b[39m,\n\u001b[1;32m     28\u001b[0m     url: \u001b[38;5;28mstr\u001b[39m,\n\u001b[1;32m     29\u001b[0m     driver: webdriver\u001b[38;5;241m.\u001b[39mchrome\u001b[38;5;241m.\u001b[39mwebdriver\u001b[38;5;241m.\u001b[39mWebDriver\n\u001b[1;32m     30\u001b[0m ) \u001b[38;5;241m-\u001b[39m\u001b[38;5;241m>\u001b[39m \u001b[38;5;28mstr\u001b[39m:\n\u001b[1;32m     31\u001b[0m     \u001b[38;5;28;01mtry\u001b[39;00m:\n\u001b[0;32m---> 32\u001b[0m         \u001b[43mdriver\u001b[49m\u001b[38;5;241;43m.\u001b[39;49m\u001b[43mget\u001b[49m\u001b[43m(\u001b[49m\u001b[43murl\u001b[49m\u001b[38;5;241;43m=\u001b[39;49m\u001b[43murl\u001b[49m\u001b[43m)\u001b[49m\n\u001b[1;32m     33\u001b[0m         body \u001b[38;5;241m=\u001b[39m driver\u001b[38;5;241m.\u001b[39mfind_element(by\u001b[38;5;241m=\u001b[39mBy\u001b[38;5;241m.\u001b[39mTAG_NAME, value\u001b[38;5;241m=\u001b[39m\u001b[38;5;124m\"\u001b[39m\u001b[38;5;124mbody\u001b[39m\u001b[38;5;124m\"\u001b[39m)\n\u001b[1;32m     34\u001b[0m         html \u001b[38;5;241m=\u001b[39m body\u001b[38;5;241m.\u001b[39mget_attribute(\u001b[38;5;124m'\u001b[39m\u001b[38;5;124mouterHTML\u001b[39m\u001b[38;5;124m'\u001b[39m)\n",
      "File \u001b[0;32m~/.pyenv/versions/pml/lib/python3.11/site-packages/selenium/webdriver/remote/webdriver.py:356\u001b[0m, in \u001b[0;36mWebDriver.get\u001b[0;34m(self, url)\u001b[0m\n\u001b[1;32m    354\u001b[0m \u001b[38;5;28;01mdef\u001b[39;00m \u001b[38;5;21mget\u001b[39m(\u001b[38;5;28mself\u001b[39m, url: \u001b[38;5;28mstr\u001b[39m) \u001b[38;5;241m-\u001b[39m\u001b[38;5;241m>\u001b[39m \u001b[38;5;28;01mNone\u001b[39;00m:\n\u001b[1;32m    355\u001b[0m \u001b[38;5;250m    \u001b[39m\u001b[38;5;124;03m\"\"\"Loads a web page in the current browser session.\"\"\"\u001b[39;00m\n\u001b[0;32m--> 356\u001b[0m     \u001b[38;5;28;43mself\u001b[39;49m\u001b[38;5;241;43m.\u001b[39;49m\u001b[43mexecute\u001b[49m\u001b[43m(\u001b[49m\u001b[43mCommand\u001b[49m\u001b[38;5;241;43m.\u001b[39;49m\u001b[43mGET\u001b[49m\u001b[43m,\u001b[49m\u001b[43m \u001b[49m\u001b[43m{\u001b[49m\u001b[38;5;124;43m\"\u001b[39;49m\u001b[38;5;124;43murl\u001b[39;49m\u001b[38;5;124;43m\"\u001b[39;49m\u001b[43m:\u001b[49m\u001b[43m \u001b[49m\u001b[43murl\u001b[49m\u001b[43m}\u001b[49m\u001b[43m)\u001b[49m\n",
      "File \u001b[0;32m~/.pyenv/versions/pml/lib/python3.11/site-packages/selenium/webdriver/remote/webdriver.py:345\u001b[0m, in \u001b[0;36mWebDriver.execute\u001b[0;34m(self, driver_command, params)\u001b[0m\n\u001b[1;32m    342\u001b[0m     \u001b[38;5;28;01melif\u001b[39;00m \u001b[38;5;124m\"\u001b[39m\u001b[38;5;124msessionId\u001b[39m\u001b[38;5;124m\"\u001b[39m \u001b[38;5;129;01mnot\u001b[39;00m \u001b[38;5;129;01min\u001b[39;00m params:\n\u001b[1;32m    343\u001b[0m         params[\u001b[38;5;124m\"\u001b[39m\u001b[38;5;124msessionId\u001b[39m\u001b[38;5;124m\"\u001b[39m] \u001b[38;5;241m=\u001b[39m \u001b[38;5;28mself\u001b[39m\u001b[38;5;241m.\u001b[39msession_id\n\u001b[0;32m--> 345\u001b[0m response \u001b[38;5;241m=\u001b[39m \u001b[38;5;28;43mself\u001b[39;49m\u001b[38;5;241;43m.\u001b[39;49m\u001b[43mcommand_executor\u001b[49m\u001b[38;5;241;43m.\u001b[39;49m\u001b[43mexecute\u001b[49m\u001b[43m(\u001b[49m\u001b[43mdriver_command\u001b[49m\u001b[43m,\u001b[49m\u001b[43m \u001b[49m\u001b[43mparams\u001b[49m\u001b[43m)\u001b[49m\n\u001b[1;32m    346\u001b[0m \u001b[38;5;28;01mif\u001b[39;00m response:\n\u001b[1;32m    347\u001b[0m     \u001b[38;5;28mself\u001b[39m\u001b[38;5;241m.\u001b[39merror_handler\u001b[38;5;241m.\u001b[39mcheck_response(response)\n",
      "File \u001b[0;32m~/.pyenv/versions/pml/lib/python3.11/site-packages/selenium/webdriver/remote/remote_connection.py:302\u001b[0m, in \u001b[0;36mRemoteConnection.execute\u001b[0;34m(self, command, params)\u001b[0m\n\u001b[1;32m    300\u001b[0m trimmed \u001b[38;5;241m=\u001b[39m \u001b[38;5;28mself\u001b[39m\u001b[38;5;241m.\u001b[39m_trim_large_entries(params)\n\u001b[1;32m    301\u001b[0m LOGGER\u001b[38;5;241m.\u001b[39mdebug(\u001b[38;5;124m\"\u001b[39m\u001b[38;5;132;01m%s\u001b[39;00m\u001b[38;5;124m \u001b[39m\u001b[38;5;132;01m%s\u001b[39;00m\u001b[38;5;124m \u001b[39m\u001b[38;5;132;01m%s\u001b[39;00m\u001b[38;5;124m\"\u001b[39m, command_info[\u001b[38;5;241m0\u001b[39m], url, \u001b[38;5;28mstr\u001b[39m(trimmed))\n\u001b[0;32m--> 302\u001b[0m \u001b[38;5;28;01mreturn\u001b[39;00m \u001b[38;5;28;43mself\u001b[39;49m\u001b[38;5;241;43m.\u001b[39;49m\u001b[43m_request\u001b[49m\u001b[43m(\u001b[49m\u001b[43mcommand_info\u001b[49m\u001b[43m[\u001b[49m\u001b[38;5;241;43m0\u001b[39;49m\u001b[43m]\u001b[49m\u001b[43m,\u001b[49m\u001b[43m \u001b[49m\u001b[43murl\u001b[49m\u001b[43m,\u001b[49m\u001b[43m \u001b[49m\u001b[43mbody\u001b[49m\u001b[38;5;241;43m=\u001b[39;49m\u001b[43mdata\u001b[49m\u001b[43m)\u001b[49m\n",
      "File \u001b[0;32m~/.pyenv/versions/pml/lib/python3.11/site-packages/selenium/webdriver/remote/remote_connection.py:322\u001b[0m, in \u001b[0;36mRemoteConnection._request\u001b[0;34m(self, method, url, body)\u001b[0m\n\u001b[1;32m    319\u001b[0m     body \u001b[38;5;241m=\u001b[39m \u001b[38;5;28;01mNone\u001b[39;00m\n\u001b[1;32m    321\u001b[0m \u001b[38;5;28;01mif\u001b[39;00m \u001b[38;5;28mself\u001b[39m\u001b[38;5;241m.\u001b[39mkeep_alive:\n\u001b[0;32m--> 322\u001b[0m     response \u001b[38;5;241m=\u001b[39m \u001b[38;5;28;43mself\u001b[39;49m\u001b[38;5;241;43m.\u001b[39;49m\u001b[43m_conn\u001b[49m\u001b[38;5;241;43m.\u001b[39;49m\u001b[43mrequest\u001b[49m\u001b[43m(\u001b[49m\u001b[43mmethod\u001b[49m\u001b[43m,\u001b[49m\u001b[43m \u001b[49m\u001b[43murl\u001b[49m\u001b[43m,\u001b[49m\u001b[43m \u001b[49m\u001b[43mbody\u001b[49m\u001b[38;5;241;43m=\u001b[39;49m\u001b[43mbody\u001b[49m\u001b[43m,\u001b[49m\u001b[43m \u001b[49m\u001b[43mheaders\u001b[49m\u001b[38;5;241;43m=\u001b[39;49m\u001b[43mheaders\u001b[49m\u001b[43m)\u001b[49m\n\u001b[1;32m    323\u001b[0m     statuscode \u001b[38;5;241m=\u001b[39m response\u001b[38;5;241m.\u001b[39mstatus\n\u001b[1;32m    324\u001b[0m \u001b[38;5;28;01melse\u001b[39;00m:\n",
      "File \u001b[0;32m~/.pyenv/versions/pml/lib/python3.11/site-packages/urllib3/request.py:81\u001b[0m, in \u001b[0;36mRequestMethods.request\u001b[0;34m(self, method, url, fields, headers, **urlopen_kw)\u001b[0m\n\u001b[1;32m     77\u001b[0m     \u001b[38;5;28;01mreturn\u001b[39;00m \u001b[38;5;28mself\u001b[39m\u001b[38;5;241m.\u001b[39mrequest_encode_url(\n\u001b[1;32m     78\u001b[0m         method, url, fields\u001b[38;5;241m=\u001b[39mfields, headers\u001b[38;5;241m=\u001b[39mheaders, \u001b[38;5;241m*\u001b[39m\u001b[38;5;241m*\u001b[39murlopen_kw\n\u001b[1;32m     79\u001b[0m     )\n\u001b[1;32m     80\u001b[0m \u001b[38;5;28;01melse\u001b[39;00m:\n\u001b[0;32m---> 81\u001b[0m     \u001b[38;5;28;01mreturn\u001b[39;00m \u001b[38;5;28;43mself\u001b[39;49m\u001b[38;5;241;43m.\u001b[39;49m\u001b[43mrequest_encode_body\u001b[49m\u001b[43m(\u001b[49m\n\u001b[1;32m     82\u001b[0m \u001b[43m        \u001b[49m\u001b[43mmethod\u001b[49m\u001b[43m,\u001b[49m\u001b[43m \u001b[49m\u001b[43murl\u001b[49m\u001b[43m,\u001b[49m\u001b[43m \u001b[49m\u001b[43mfields\u001b[49m\u001b[38;5;241;43m=\u001b[39;49m\u001b[43mfields\u001b[49m\u001b[43m,\u001b[49m\u001b[43m \u001b[49m\u001b[43mheaders\u001b[49m\u001b[38;5;241;43m=\u001b[39;49m\u001b[43mheaders\u001b[49m\u001b[43m,\u001b[49m\u001b[43m \u001b[49m\u001b[38;5;241;43m*\u001b[39;49m\u001b[38;5;241;43m*\u001b[39;49m\u001b[43murlopen_kw\u001b[49m\n\u001b[1;32m     83\u001b[0m \u001b[43m    \u001b[49m\u001b[43m)\u001b[49m\n",
      "File \u001b[0;32m~/.pyenv/versions/pml/lib/python3.11/site-packages/urllib3/request.py:173\u001b[0m, in \u001b[0;36mRequestMethods.request_encode_body\u001b[0;34m(self, method, url, fields, headers, encode_multipart, multipart_boundary, **urlopen_kw)\u001b[0m\n\u001b[1;32m    170\u001b[0m extra_kw[\u001b[38;5;124m\"\u001b[39m\u001b[38;5;124mheaders\u001b[39m\u001b[38;5;124m\"\u001b[39m]\u001b[38;5;241m.\u001b[39mupdate(headers)\n\u001b[1;32m    171\u001b[0m extra_kw\u001b[38;5;241m.\u001b[39mupdate(urlopen_kw)\n\u001b[0;32m--> 173\u001b[0m \u001b[38;5;28;01mreturn\u001b[39;00m \u001b[38;5;28;43mself\u001b[39;49m\u001b[38;5;241;43m.\u001b[39;49m\u001b[43murlopen\u001b[49m\u001b[43m(\u001b[49m\u001b[43mmethod\u001b[49m\u001b[43m,\u001b[49m\u001b[43m \u001b[49m\u001b[43murl\u001b[49m\u001b[43m,\u001b[49m\u001b[43m \u001b[49m\u001b[38;5;241;43m*\u001b[39;49m\u001b[38;5;241;43m*\u001b[39;49m\u001b[43mextra_kw\u001b[49m\u001b[43m)\u001b[49m\n",
      "File \u001b[0;32m~/.pyenv/versions/pml/lib/python3.11/site-packages/urllib3/poolmanager.py:376\u001b[0m, in \u001b[0;36mPoolManager.urlopen\u001b[0;34m(self, method, url, redirect, **kw)\u001b[0m\n\u001b[1;32m    374\u001b[0m     response \u001b[38;5;241m=\u001b[39m conn\u001b[38;5;241m.\u001b[39murlopen(method, url, \u001b[38;5;241m*\u001b[39m\u001b[38;5;241m*\u001b[39mkw)\n\u001b[1;32m    375\u001b[0m \u001b[38;5;28;01melse\u001b[39;00m:\n\u001b[0;32m--> 376\u001b[0m     response \u001b[38;5;241m=\u001b[39m \u001b[43mconn\u001b[49m\u001b[38;5;241;43m.\u001b[39;49m\u001b[43murlopen\u001b[49m\u001b[43m(\u001b[49m\u001b[43mmethod\u001b[49m\u001b[43m,\u001b[49m\u001b[43m \u001b[49m\u001b[43mu\u001b[49m\u001b[38;5;241;43m.\u001b[39;49m\u001b[43mrequest_uri\u001b[49m\u001b[43m,\u001b[49m\u001b[43m \u001b[49m\u001b[38;5;241;43m*\u001b[39;49m\u001b[38;5;241;43m*\u001b[39;49m\u001b[43mkw\u001b[49m\u001b[43m)\u001b[49m\n\u001b[1;32m    378\u001b[0m redirect_location \u001b[38;5;241m=\u001b[39m redirect \u001b[38;5;129;01mand\u001b[39;00m response\u001b[38;5;241m.\u001b[39mget_redirect_location()\n\u001b[1;32m    379\u001b[0m \u001b[38;5;28;01mif\u001b[39;00m \u001b[38;5;129;01mnot\u001b[39;00m redirect_location:\n",
      "File \u001b[0;32m~/.pyenv/versions/pml/lib/python3.11/site-packages/urllib3/connectionpool.py:715\u001b[0m, in \u001b[0;36mHTTPConnectionPool.urlopen\u001b[0;34m(self, method, url, body, headers, retries, redirect, assert_same_host, timeout, pool_timeout, release_conn, chunked, body_pos, **response_kw)\u001b[0m\n\u001b[1;32m    712\u001b[0m     \u001b[38;5;28mself\u001b[39m\u001b[38;5;241m.\u001b[39m_prepare_proxy(conn)\n\u001b[1;32m    714\u001b[0m \u001b[38;5;66;03m# Make the request on the httplib connection object.\u001b[39;00m\n\u001b[0;32m--> 715\u001b[0m httplib_response \u001b[38;5;241m=\u001b[39m \u001b[38;5;28;43mself\u001b[39;49m\u001b[38;5;241;43m.\u001b[39;49m\u001b[43m_make_request\u001b[49m\u001b[43m(\u001b[49m\n\u001b[1;32m    716\u001b[0m \u001b[43m    \u001b[49m\u001b[43mconn\u001b[49m\u001b[43m,\u001b[49m\n\u001b[1;32m    717\u001b[0m \u001b[43m    \u001b[49m\u001b[43mmethod\u001b[49m\u001b[43m,\u001b[49m\n\u001b[1;32m    718\u001b[0m \u001b[43m    \u001b[49m\u001b[43murl\u001b[49m\u001b[43m,\u001b[49m\n\u001b[1;32m    719\u001b[0m \u001b[43m    \u001b[49m\u001b[43mtimeout\u001b[49m\u001b[38;5;241;43m=\u001b[39;49m\u001b[43mtimeout_obj\u001b[49m\u001b[43m,\u001b[49m\n\u001b[1;32m    720\u001b[0m \u001b[43m    \u001b[49m\u001b[43mbody\u001b[49m\u001b[38;5;241;43m=\u001b[39;49m\u001b[43mbody\u001b[49m\u001b[43m,\u001b[49m\n\u001b[1;32m    721\u001b[0m \u001b[43m    \u001b[49m\u001b[43mheaders\u001b[49m\u001b[38;5;241;43m=\u001b[39;49m\u001b[43mheaders\u001b[49m\u001b[43m,\u001b[49m\n\u001b[1;32m    722\u001b[0m \u001b[43m    \u001b[49m\u001b[43mchunked\u001b[49m\u001b[38;5;241;43m=\u001b[39;49m\u001b[43mchunked\u001b[49m\u001b[43m,\u001b[49m\n\u001b[1;32m    723\u001b[0m \u001b[43m\u001b[49m\u001b[43m)\u001b[49m\n\u001b[1;32m    725\u001b[0m \u001b[38;5;66;03m# If we're going to release the connection in ``finally:``, then\u001b[39;00m\n\u001b[1;32m    726\u001b[0m \u001b[38;5;66;03m# the response doesn't need to know about the connection. Otherwise\u001b[39;00m\n\u001b[1;32m    727\u001b[0m \u001b[38;5;66;03m# it will also try to release it and we'll have a double-release\u001b[39;00m\n\u001b[1;32m    728\u001b[0m \u001b[38;5;66;03m# mess.\u001b[39;00m\n\u001b[1;32m    729\u001b[0m response_conn \u001b[38;5;241m=\u001b[39m conn \u001b[38;5;28;01mif\u001b[39;00m \u001b[38;5;129;01mnot\u001b[39;00m release_conn \u001b[38;5;28;01melse\u001b[39;00m \u001b[38;5;28;01mNone\u001b[39;00m\n",
      "File \u001b[0;32m~/.pyenv/versions/pml/lib/python3.11/site-packages/urllib3/connectionpool.py:467\u001b[0m, in \u001b[0;36mHTTPConnectionPool._make_request\u001b[0;34m(self, conn, method, url, timeout, chunked, **httplib_request_kw)\u001b[0m\n\u001b[1;32m    462\u001b[0m             httplib_response \u001b[38;5;241m=\u001b[39m conn\u001b[38;5;241m.\u001b[39mgetresponse()\n\u001b[1;32m    463\u001b[0m         \u001b[38;5;28;01mexcept\u001b[39;00m \u001b[38;5;167;01mBaseException\u001b[39;00m \u001b[38;5;28;01mas\u001b[39;00m e:\n\u001b[1;32m    464\u001b[0m             \u001b[38;5;66;03m# Remove the TypeError from the exception chain in\u001b[39;00m\n\u001b[1;32m    465\u001b[0m             \u001b[38;5;66;03m# Python 3 (including for exceptions like SystemExit).\u001b[39;00m\n\u001b[1;32m    466\u001b[0m             \u001b[38;5;66;03m# Otherwise it looks like a bug in the code.\u001b[39;00m\n\u001b[0;32m--> 467\u001b[0m             \u001b[43msix\u001b[49m\u001b[38;5;241;43m.\u001b[39;49m\u001b[43mraise_from\u001b[49m\u001b[43m(\u001b[49m\u001b[43me\u001b[49m\u001b[43m,\u001b[49m\u001b[43m \u001b[49m\u001b[38;5;28;43;01mNone\u001b[39;49;00m\u001b[43m)\u001b[49m\n\u001b[1;32m    468\u001b[0m \u001b[38;5;28;01mexcept\u001b[39;00m (SocketTimeout, BaseSSLError, SocketError) \u001b[38;5;28;01mas\u001b[39;00m e:\n\u001b[1;32m    469\u001b[0m     \u001b[38;5;28mself\u001b[39m\u001b[38;5;241m.\u001b[39m_raise_timeout(err\u001b[38;5;241m=\u001b[39me, url\u001b[38;5;241m=\u001b[39murl, timeout_value\u001b[38;5;241m=\u001b[39mread_timeout)\n",
      "File \u001b[0;32m<string>:3\u001b[0m, in \u001b[0;36mraise_from\u001b[0;34m(value, from_value)\u001b[0m\n",
      "File \u001b[0;32m~/.pyenv/versions/pml/lib/python3.11/site-packages/urllib3/connectionpool.py:462\u001b[0m, in \u001b[0;36mHTTPConnectionPool._make_request\u001b[0;34m(self, conn, method, url, timeout, chunked, **httplib_request_kw)\u001b[0m\n\u001b[1;32m    459\u001b[0m \u001b[38;5;28;01mexcept\u001b[39;00m \u001b[38;5;167;01mTypeError\u001b[39;00m:\n\u001b[1;32m    460\u001b[0m     \u001b[38;5;66;03m# Python 3\u001b[39;00m\n\u001b[1;32m    461\u001b[0m     \u001b[38;5;28;01mtry\u001b[39;00m:\n\u001b[0;32m--> 462\u001b[0m         httplib_response \u001b[38;5;241m=\u001b[39m \u001b[43mconn\u001b[49m\u001b[38;5;241;43m.\u001b[39;49m\u001b[43mgetresponse\u001b[49m\u001b[43m(\u001b[49m\u001b[43m)\u001b[49m\n\u001b[1;32m    463\u001b[0m     \u001b[38;5;28;01mexcept\u001b[39;00m \u001b[38;5;167;01mBaseException\u001b[39;00m \u001b[38;5;28;01mas\u001b[39;00m e:\n\u001b[1;32m    464\u001b[0m         \u001b[38;5;66;03m# Remove the TypeError from the exception chain in\u001b[39;00m\n\u001b[1;32m    465\u001b[0m         \u001b[38;5;66;03m# Python 3 (including for exceptions like SystemExit).\u001b[39;00m\n\u001b[1;32m    466\u001b[0m         \u001b[38;5;66;03m# Otherwise it looks like a bug in the code.\u001b[39;00m\n\u001b[1;32m    467\u001b[0m         six\u001b[38;5;241m.\u001b[39mraise_from(e, \u001b[38;5;28;01mNone\u001b[39;00m)\n",
      "File \u001b[0;32m~/.pyenv/versions/3.11.0/lib/python3.11/http/client.py:1374\u001b[0m, in \u001b[0;36mHTTPConnection.getresponse\u001b[0;34m(self)\u001b[0m\n\u001b[1;32m   1372\u001b[0m \u001b[38;5;28;01mtry\u001b[39;00m:\n\u001b[1;32m   1373\u001b[0m     \u001b[38;5;28;01mtry\u001b[39;00m:\n\u001b[0;32m-> 1374\u001b[0m         \u001b[43mresponse\u001b[49m\u001b[38;5;241;43m.\u001b[39;49m\u001b[43mbegin\u001b[49m\u001b[43m(\u001b[49m\u001b[43m)\u001b[49m\n\u001b[1;32m   1375\u001b[0m     \u001b[38;5;28;01mexcept\u001b[39;00m \u001b[38;5;167;01mConnectionError\u001b[39;00m:\n\u001b[1;32m   1376\u001b[0m         \u001b[38;5;28mself\u001b[39m\u001b[38;5;241m.\u001b[39mclose()\n",
      "File \u001b[0;32m~/.pyenv/versions/3.11.0/lib/python3.11/http/client.py:318\u001b[0m, in \u001b[0;36mHTTPResponse.begin\u001b[0;34m(self)\u001b[0m\n\u001b[1;32m    316\u001b[0m \u001b[38;5;66;03m# read until we get a non-100 response\u001b[39;00m\n\u001b[1;32m    317\u001b[0m \u001b[38;5;28;01mwhile\u001b[39;00m \u001b[38;5;28;01mTrue\u001b[39;00m:\n\u001b[0;32m--> 318\u001b[0m     version, status, reason \u001b[38;5;241m=\u001b[39m \u001b[38;5;28;43mself\u001b[39;49m\u001b[38;5;241;43m.\u001b[39;49m\u001b[43m_read_status\u001b[49m\u001b[43m(\u001b[49m\u001b[43m)\u001b[49m\n\u001b[1;32m    319\u001b[0m     \u001b[38;5;28;01mif\u001b[39;00m status \u001b[38;5;241m!=\u001b[39m CONTINUE:\n\u001b[1;32m    320\u001b[0m         \u001b[38;5;28;01mbreak\u001b[39;00m\n",
      "File \u001b[0;32m~/.pyenv/versions/3.11.0/lib/python3.11/http/client.py:279\u001b[0m, in \u001b[0;36mHTTPResponse._read_status\u001b[0;34m(self)\u001b[0m\n\u001b[1;32m    278\u001b[0m \u001b[38;5;28;01mdef\u001b[39;00m \u001b[38;5;21m_read_status\u001b[39m(\u001b[38;5;28mself\u001b[39m):\n\u001b[0;32m--> 279\u001b[0m     line \u001b[38;5;241m=\u001b[39m \u001b[38;5;28mstr\u001b[39m(\u001b[38;5;28mself\u001b[39m\u001b[38;5;241m.\u001b[39mfp\u001b[38;5;241m.\u001b[39mreadline(_MAXLINE \u001b[38;5;241m+\u001b[39m \u001b[38;5;241m1\u001b[39m), \u001b[38;5;124m\"\u001b[39m\u001b[38;5;124miso-8859-1\u001b[39m\u001b[38;5;124m\"\u001b[39m)\n\u001b[1;32m    280\u001b[0m     \u001b[38;5;28;01mif\u001b[39;00m \u001b[38;5;28mlen\u001b[39m(line) \u001b[38;5;241m>\u001b[39m _MAXLINE:\n\u001b[1;32m    281\u001b[0m         \u001b[38;5;28;01mraise\u001b[39;00m LineTooLong(\u001b[38;5;124m\"\u001b[39m\u001b[38;5;124mstatus line\u001b[39m\u001b[38;5;124m\"\u001b[39m)\n",
      "File \u001b[0;32m~/.pyenv/versions/3.11.0/lib/python3.11/socket.py:705\u001b[0m, in \u001b[0;36mSocketIO.readinto\u001b[0;34m(self, b)\u001b[0m\n\u001b[1;32m    703\u001b[0m \u001b[38;5;28;01mwhile\u001b[39;00m \u001b[38;5;28;01mTrue\u001b[39;00m:\n\u001b[1;32m    704\u001b[0m     \u001b[38;5;28;01mtry\u001b[39;00m:\n\u001b[0;32m--> 705\u001b[0m         \u001b[38;5;28;01mreturn\u001b[39;00m \u001b[38;5;28;43mself\u001b[39;49m\u001b[38;5;241;43m.\u001b[39;49m\u001b[43m_sock\u001b[49m\u001b[38;5;241;43m.\u001b[39;49m\u001b[43mrecv_into\u001b[49m\u001b[43m(\u001b[49m\u001b[43mb\u001b[49m\u001b[43m)\u001b[49m\n\u001b[1;32m    706\u001b[0m     \u001b[38;5;28;01mexcept\u001b[39;00m timeout:\n\u001b[1;32m    707\u001b[0m         \u001b[38;5;28mself\u001b[39m\u001b[38;5;241m.\u001b[39m_timeout_occurred \u001b[38;5;241m=\u001b[39m \u001b[38;5;28;01mTrue\u001b[39;00m\n",
      "\u001b[0;31mKeyboardInterrupt\u001b[0m: "
     ]
    }
   ],
   "source": [
    "scr.process()"
   ]
  },
  {
   "cell_type": "markdown",
   "id": "08a027ae-09d3-40b8-97d1-abd822052775",
   "metadata": {},
   "source": [
    "#### SettingWithCopyWarning"
   ]
  },
  {
   "cell_type": "code",
   "execution_count": 5,
   "id": "8cc667ab-d0c0-479b-86db-a2e952ad96b5",
   "metadata": {
    "execution": {
     "iopub.execute_input": "2024-05-18T14:46:54.092538Z",
     "iopub.status.busy": "2024-05-18T14:46:54.091578Z",
     "iopub.status.idle": "2024-05-18T14:46:54.131233Z",
     "shell.execute_reply": "2024-05-18T14:46:54.130915Z",
     "shell.execute_reply.started": "2024-05-18T14:46:54.092506Z"
    }
   },
   "outputs": [
    {
     "name": "stdout",
     "output_type": "stream",
     "text": [
      "   some_column         content\n",
      "0            1  sample content\n",
      "1            2  sample content\n",
      "2            3  sample content\n"
     ]
    }
   ],
   "source": [
    "import pandas as pd\n",
    "\n",
    "# Sample DataFrame\n",
    "data = {'some_column': [1, 2, 3]}\n",
    "df = pd.DataFrame(data)\n",
    "\n",
    "# Initialize the new column with an empty string\n",
    "new_column_name = 'content'\n",
    "df.loc[:, new_column_name] = ''\n",
    "\n",
    "# Example indexes\n",
    "indexes = [0, 1, 2]\n",
    "\n",
    "# Example function to get content\n",
    "def get_content():\n",
    "    return \"sample content\"\n",
    "\n",
    "# Update the DataFrame with new content\n",
    "for index in indexes:\n",
    "    result = get_content()\n",
    "    df.loc[int(index), new_column_name] = str(result)\n",
    "\n",
    "print(df)"
   ]
  },
  {
   "cell_type": "markdown",
   "id": "d91e1e0e-3f49-4b24-9d73-90f75528154a",
   "metadata": {},
   "source": [
    "# YTN"
   ]
  },
  {
   "cell_type": "code",
   "execution_count": 1,
   "id": "3de43c99-5838-434e-8c7e-0cd2b936680f",
   "metadata": {
    "execution": {
     "iopub.execute_input": "2024-05-26T08:03:38.180094Z",
     "iopub.status.busy": "2024-05-26T08:03:38.177093Z",
     "iopub.status.idle": "2024-05-26T08:03:38.985196Z",
     "shell.execute_reply": "2024-05-26T08:03:38.984784Z",
     "shell.execute_reply.started": "2024-05-26T08:03:38.179865Z"
    }
   },
   "outputs": [],
   "source": [
    "import pandas as pd \n",
    "import numpy as np\n",
    "import math\n",
    "import re\n",
    "\n",
    "from icecream import ic\n",
    "from tqdm.notebook import tqdm \n",
    "\n",
    "from utils.custom_utils import load_var, save_var, get_current_time\n",
    "from utils.webscraping import ArticleScraper"
   ]
  },
  {
   "cell_type": "code",
   "execution_count": 2,
   "id": "b938acc9-79ea-42d9-9d41-e726113093de",
   "metadata": {
    "execution": {
     "iopub.execute_input": "2024-05-26T08:03:58.938577Z",
     "iopub.status.busy": "2024-05-26T08:03:58.937377Z",
     "iopub.status.idle": "2024-05-26T08:03:59.178969Z",
     "shell.execute_reply": "2024-05-26T08:03:59.178686Z",
     "shell.execute_reply.started": "2024-05-26T08:03:58.938540Z"
    }
   },
   "outputs": [],
   "source": [
    "df = pd.read_excel(\"./dataframe/EDITED_2_헌팅+미행_자연어_한국경제_2013.1.1~2022.3.7.xlsx\")"
   ]
  },
  {
   "cell_type": "code",
   "execution_count": 3,
   "id": "113c8d09-3c4b-4e2b-8363-03e48777b6e0",
   "metadata": {
    "execution": {
     "iopub.execute_input": "2024-05-26T08:04:54.816276Z",
     "iopub.status.busy": "2024-05-26T08:04:54.815609Z",
     "iopub.status.idle": "2024-05-26T08:04:54.822000Z",
     "shell.execute_reply": "2024-05-26T08:04:54.821269Z",
     "shell.execute_reply.started": "2024-05-26T08:04:54.816236Z"
    }
   },
   "outputs": [],
   "source": [
    "df_test = df.iloc[:2]"
   ]
  },
  {
   "cell_type": "code",
   "execution_count": 4,
   "id": "f4764e40-6633-43ce-9775-dc3a80b7dce6",
   "metadata": {
    "execution": {
     "iopub.execute_input": "2024-05-26T08:05:08.477987Z",
     "iopub.status.busy": "2024-05-26T08:05:08.477419Z",
     "iopub.status.idle": "2024-05-26T08:05:08.485640Z",
     "shell.execute_reply": "2024-05-26T08:05:08.484947Z",
     "shell.execute_reply.started": "2024-05-26T08:05:08.477952Z"
    }
   },
   "outputs": [],
   "source": [
    "scr = ArticleScraper(df)"
   ]
  },
  {
   "cell_type": "code",
   "execution_count": 5,
   "id": "4e27e45d-d8db-4d48-94f3-e618a0100eff",
   "metadata": {
    "execution": {
     "iopub.execute_input": "2024-05-26T08:05:38.582265Z",
     "iopub.status.busy": "2024-05-26T08:05:38.580929Z",
     "iopub.status.idle": "2024-05-26T08:18:29.331828Z",
     "shell.execute_reply": "2024-05-26T08:18:29.331234Z",
     "shell.execute_reply.started": "2024-05-26T08:05:38.582173Z"
    },
    "scrolled": true
   },
   "outputs": [
    {
     "data": {
      "application/vnd.jupyter.widget-view+json": {
       "model_id": "d82ac1d5abbd4bd5910f813aebbf4172",
       "version_major": 2,
       "version_minor": 0
      },
      "text/plain": [
       "  0%|          | 0/101 [00:00<?, ?it/s]"
      ]
     },
     "metadata": {},
     "output_type": "display_data"
    },
    {
     "ename": "KeyboardInterrupt",
     "evalue": "",
     "output_type": "error",
     "traceback": [
      "\u001b[0;31m---------------------------------------------------------------------------\u001b[0m",
      "\u001b[0;31mKeyboardInterrupt\u001b[0m                         Traceback (most recent call last)",
      "Cell \u001b[0;32mIn[5], line 1\u001b[0m\n\u001b[0;32m----> 1\u001b[0m \u001b[43mscr\u001b[49m\u001b[38;5;241;43m.\u001b[39;49m\u001b[43mprocess\u001b[49m\u001b[43m(\u001b[49m\u001b[43m)\u001b[49m\n",
      "File \u001b[0;32m~/Workspace/scrape/geopy/utils/webscraping.py:111\u001b[0m, in \u001b[0;36mArticleScraper.process\u001b[0;34m(self)\u001b[0m\n\u001b[1;32m    110\u001b[0m \u001b[38;5;28;01mdef\u001b[39;00m \u001b[38;5;21mprocess\u001b[39m(\u001b[38;5;28mself\u001b[39m):\n\u001b[0;32m--> 111\u001b[0m     \u001b[38;5;28;43mself\u001b[39;49m\u001b[38;5;241;43m.\u001b[39;49m\u001b[43mscrape_by_selenium\u001b[49m\u001b[43m(\u001b[49m\u001b[43m)\u001b[49m\n",
      "File \u001b[0;32m~/Workspace/scrape/geopy/utils/webscraping.py:80\u001b[0m, in \u001b[0;36mArticleScraper.scrape_by_selenium\u001b[0;34m(self)\u001b[0m\n\u001b[1;32m     78\u001b[0m \u001b[38;5;28;01mfor\u001b[39;00m index \u001b[38;5;129;01min\u001b[39;00m tqdm(\u001b[38;5;28mself\u001b[39m\u001b[38;5;241m.\u001b[39mindex_url):\n\u001b[1;32m     79\u001b[0m     url \u001b[38;5;241m=\u001b[39m df\u001b[38;5;241m.\u001b[39mloc[index, \u001b[38;5;124m\"\u001b[39m\u001b[38;5;124mURL\u001b[39m\u001b[38;5;124m\"\u001b[39m]\n\u001b[0;32m---> 80\u001b[0m     result \u001b[38;5;241m=\u001b[39m \u001b[38;5;28;43mself\u001b[39;49m\u001b[38;5;241;43m.\u001b[39;49m\u001b[43mget_html_selenium\u001b[49m\u001b[43m(\u001b[49m\u001b[43murl\u001b[49m\u001b[38;5;241;43m=\u001b[39;49m\u001b[43murl\u001b[49m\u001b[43m,\u001b[49m\u001b[43m \u001b[49m\u001b[43mdriver\u001b[49m\u001b[38;5;241;43m=\u001b[39;49m\u001b[43mdriver\u001b[49m\u001b[43m)\u001b[49m\n\u001b[1;32m     81\u001b[0m     df\u001b[38;5;241m.\u001b[39mloc[\u001b[38;5;28mint\u001b[39m(index), new_column_name] \u001b[38;5;241m=\u001b[39m \u001b[38;5;28mstr\u001b[39m(result)\n\u001b[1;32m     82\u001b[0m \u001b[38;5;28mself\u001b[39m\u001b[38;5;241m.\u001b[39mdf \u001b[38;5;241m=\u001b[39m df\u001b[38;5;241m.\u001b[39mcopy()\n",
      "File \u001b[0;32m~/Workspace/scrape/geopy/utils/webscraping.py:32\u001b[0m, in \u001b[0;36mArticleScraper.get_html_selenium\u001b[0;34m(self, url, driver)\u001b[0m\n\u001b[1;32m     26\u001b[0m \u001b[38;5;28;01mdef\u001b[39;00m \u001b[38;5;21mget_html_selenium\u001b[39m(\n\u001b[1;32m     27\u001b[0m     \u001b[38;5;28mself\u001b[39m,\n\u001b[1;32m     28\u001b[0m     url: \u001b[38;5;28mstr\u001b[39m,\n\u001b[1;32m     29\u001b[0m     driver: webdriver\u001b[38;5;241m.\u001b[39mchrome\u001b[38;5;241m.\u001b[39mwebdriver\u001b[38;5;241m.\u001b[39mWebDriver\n\u001b[1;32m     30\u001b[0m ) \u001b[38;5;241m-\u001b[39m\u001b[38;5;241m>\u001b[39m \u001b[38;5;28mstr\u001b[39m:\n\u001b[1;32m     31\u001b[0m     \u001b[38;5;28;01mtry\u001b[39;00m:\n\u001b[0;32m---> 32\u001b[0m         \u001b[43mdriver\u001b[49m\u001b[38;5;241;43m.\u001b[39;49m\u001b[43mget\u001b[49m\u001b[43m(\u001b[49m\u001b[43murl\u001b[49m\u001b[38;5;241;43m=\u001b[39;49m\u001b[43murl\u001b[49m\u001b[43m)\u001b[49m\n\u001b[1;32m     33\u001b[0m         body \u001b[38;5;241m=\u001b[39m driver\u001b[38;5;241m.\u001b[39mfind_element(by\u001b[38;5;241m=\u001b[39mBy\u001b[38;5;241m.\u001b[39mTAG_NAME, value\u001b[38;5;241m=\u001b[39m\u001b[38;5;124m\"\u001b[39m\u001b[38;5;124mbody\u001b[39m\u001b[38;5;124m\"\u001b[39m)\n\u001b[1;32m     34\u001b[0m         html \u001b[38;5;241m=\u001b[39m body\u001b[38;5;241m.\u001b[39mget_attribute(\u001b[38;5;124m'\u001b[39m\u001b[38;5;124mouterHTML\u001b[39m\u001b[38;5;124m'\u001b[39m)\n",
      "File \u001b[0;32m~/.pyenv/versions/pml/lib/python3.11/site-packages/selenium/webdriver/remote/webdriver.py:356\u001b[0m, in \u001b[0;36mWebDriver.get\u001b[0;34m(self, url)\u001b[0m\n\u001b[1;32m    354\u001b[0m \u001b[38;5;28;01mdef\u001b[39;00m \u001b[38;5;21mget\u001b[39m(\u001b[38;5;28mself\u001b[39m, url: \u001b[38;5;28mstr\u001b[39m) \u001b[38;5;241m-\u001b[39m\u001b[38;5;241m>\u001b[39m \u001b[38;5;28;01mNone\u001b[39;00m:\n\u001b[1;32m    355\u001b[0m \u001b[38;5;250m    \u001b[39m\u001b[38;5;124;03m\"\"\"Loads a web page in the current browser session.\"\"\"\u001b[39;00m\n\u001b[0;32m--> 356\u001b[0m     \u001b[38;5;28;43mself\u001b[39;49m\u001b[38;5;241;43m.\u001b[39;49m\u001b[43mexecute\u001b[49m\u001b[43m(\u001b[49m\u001b[43mCommand\u001b[49m\u001b[38;5;241;43m.\u001b[39;49m\u001b[43mGET\u001b[49m\u001b[43m,\u001b[49m\u001b[43m \u001b[49m\u001b[43m{\u001b[49m\u001b[38;5;124;43m\"\u001b[39;49m\u001b[38;5;124;43murl\u001b[39;49m\u001b[38;5;124;43m\"\u001b[39;49m\u001b[43m:\u001b[49m\u001b[43m \u001b[49m\u001b[43murl\u001b[49m\u001b[43m}\u001b[49m\u001b[43m)\u001b[49m\n",
      "File \u001b[0;32m~/.pyenv/versions/pml/lib/python3.11/site-packages/selenium/webdriver/remote/webdriver.py:345\u001b[0m, in \u001b[0;36mWebDriver.execute\u001b[0;34m(self, driver_command, params)\u001b[0m\n\u001b[1;32m    342\u001b[0m     \u001b[38;5;28;01melif\u001b[39;00m \u001b[38;5;124m\"\u001b[39m\u001b[38;5;124msessionId\u001b[39m\u001b[38;5;124m\"\u001b[39m \u001b[38;5;129;01mnot\u001b[39;00m \u001b[38;5;129;01min\u001b[39;00m params:\n\u001b[1;32m    343\u001b[0m         params[\u001b[38;5;124m\"\u001b[39m\u001b[38;5;124msessionId\u001b[39m\u001b[38;5;124m\"\u001b[39m] \u001b[38;5;241m=\u001b[39m \u001b[38;5;28mself\u001b[39m\u001b[38;5;241m.\u001b[39msession_id\n\u001b[0;32m--> 345\u001b[0m response \u001b[38;5;241m=\u001b[39m \u001b[38;5;28;43mself\u001b[39;49m\u001b[38;5;241;43m.\u001b[39;49m\u001b[43mcommand_executor\u001b[49m\u001b[38;5;241;43m.\u001b[39;49m\u001b[43mexecute\u001b[49m\u001b[43m(\u001b[49m\u001b[43mdriver_command\u001b[49m\u001b[43m,\u001b[49m\u001b[43m \u001b[49m\u001b[43mparams\u001b[49m\u001b[43m)\u001b[49m\n\u001b[1;32m    346\u001b[0m \u001b[38;5;28;01mif\u001b[39;00m response:\n\u001b[1;32m    347\u001b[0m     \u001b[38;5;28mself\u001b[39m\u001b[38;5;241m.\u001b[39merror_handler\u001b[38;5;241m.\u001b[39mcheck_response(response)\n",
      "File \u001b[0;32m~/.pyenv/versions/pml/lib/python3.11/site-packages/selenium/webdriver/remote/remote_connection.py:302\u001b[0m, in \u001b[0;36mRemoteConnection.execute\u001b[0;34m(self, command, params)\u001b[0m\n\u001b[1;32m    300\u001b[0m trimmed \u001b[38;5;241m=\u001b[39m \u001b[38;5;28mself\u001b[39m\u001b[38;5;241m.\u001b[39m_trim_large_entries(params)\n\u001b[1;32m    301\u001b[0m LOGGER\u001b[38;5;241m.\u001b[39mdebug(\u001b[38;5;124m\"\u001b[39m\u001b[38;5;132;01m%s\u001b[39;00m\u001b[38;5;124m \u001b[39m\u001b[38;5;132;01m%s\u001b[39;00m\u001b[38;5;124m \u001b[39m\u001b[38;5;132;01m%s\u001b[39;00m\u001b[38;5;124m\"\u001b[39m, command_info[\u001b[38;5;241m0\u001b[39m], url, \u001b[38;5;28mstr\u001b[39m(trimmed))\n\u001b[0;32m--> 302\u001b[0m \u001b[38;5;28;01mreturn\u001b[39;00m \u001b[38;5;28;43mself\u001b[39;49m\u001b[38;5;241;43m.\u001b[39;49m\u001b[43m_request\u001b[49m\u001b[43m(\u001b[49m\u001b[43mcommand_info\u001b[49m\u001b[43m[\u001b[49m\u001b[38;5;241;43m0\u001b[39;49m\u001b[43m]\u001b[49m\u001b[43m,\u001b[49m\u001b[43m \u001b[49m\u001b[43murl\u001b[49m\u001b[43m,\u001b[49m\u001b[43m \u001b[49m\u001b[43mbody\u001b[49m\u001b[38;5;241;43m=\u001b[39;49m\u001b[43mdata\u001b[49m\u001b[43m)\u001b[49m\n",
      "File \u001b[0;32m~/.pyenv/versions/pml/lib/python3.11/site-packages/selenium/webdriver/remote/remote_connection.py:322\u001b[0m, in \u001b[0;36mRemoteConnection._request\u001b[0;34m(self, method, url, body)\u001b[0m\n\u001b[1;32m    319\u001b[0m     body \u001b[38;5;241m=\u001b[39m \u001b[38;5;28;01mNone\u001b[39;00m\n\u001b[1;32m    321\u001b[0m \u001b[38;5;28;01mif\u001b[39;00m \u001b[38;5;28mself\u001b[39m\u001b[38;5;241m.\u001b[39mkeep_alive:\n\u001b[0;32m--> 322\u001b[0m     response \u001b[38;5;241m=\u001b[39m \u001b[38;5;28;43mself\u001b[39;49m\u001b[38;5;241;43m.\u001b[39;49m\u001b[43m_conn\u001b[49m\u001b[38;5;241;43m.\u001b[39;49m\u001b[43mrequest\u001b[49m\u001b[43m(\u001b[49m\u001b[43mmethod\u001b[49m\u001b[43m,\u001b[49m\u001b[43m \u001b[49m\u001b[43murl\u001b[49m\u001b[43m,\u001b[49m\u001b[43m \u001b[49m\u001b[43mbody\u001b[49m\u001b[38;5;241;43m=\u001b[39;49m\u001b[43mbody\u001b[49m\u001b[43m,\u001b[49m\u001b[43m \u001b[49m\u001b[43mheaders\u001b[49m\u001b[38;5;241;43m=\u001b[39;49m\u001b[43mheaders\u001b[49m\u001b[43m)\u001b[49m\n\u001b[1;32m    323\u001b[0m     statuscode \u001b[38;5;241m=\u001b[39m response\u001b[38;5;241m.\u001b[39mstatus\n\u001b[1;32m    324\u001b[0m \u001b[38;5;28;01melse\u001b[39;00m:\n",
      "File \u001b[0;32m~/.pyenv/versions/pml/lib/python3.11/site-packages/urllib3/request.py:81\u001b[0m, in \u001b[0;36mRequestMethods.request\u001b[0;34m(self, method, url, fields, headers, **urlopen_kw)\u001b[0m\n\u001b[1;32m     77\u001b[0m     \u001b[38;5;28;01mreturn\u001b[39;00m \u001b[38;5;28mself\u001b[39m\u001b[38;5;241m.\u001b[39mrequest_encode_url(\n\u001b[1;32m     78\u001b[0m         method, url, fields\u001b[38;5;241m=\u001b[39mfields, headers\u001b[38;5;241m=\u001b[39mheaders, \u001b[38;5;241m*\u001b[39m\u001b[38;5;241m*\u001b[39murlopen_kw\n\u001b[1;32m     79\u001b[0m     )\n\u001b[1;32m     80\u001b[0m \u001b[38;5;28;01melse\u001b[39;00m:\n\u001b[0;32m---> 81\u001b[0m     \u001b[38;5;28;01mreturn\u001b[39;00m \u001b[38;5;28;43mself\u001b[39;49m\u001b[38;5;241;43m.\u001b[39;49m\u001b[43mrequest_encode_body\u001b[49m\u001b[43m(\u001b[49m\n\u001b[1;32m     82\u001b[0m \u001b[43m        \u001b[49m\u001b[43mmethod\u001b[49m\u001b[43m,\u001b[49m\u001b[43m \u001b[49m\u001b[43murl\u001b[49m\u001b[43m,\u001b[49m\u001b[43m \u001b[49m\u001b[43mfields\u001b[49m\u001b[38;5;241;43m=\u001b[39;49m\u001b[43mfields\u001b[49m\u001b[43m,\u001b[49m\u001b[43m \u001b[49m\u001b[43mheaders\u001b[49m\u001b[38;5;241;43m=\u001b[39;49m\u001b[43mheaders\u001b[49m\u001b[43m,\u001b[49m\u001b[43m \u001b[49m\u001b[38;5;241;43m*\u001b[39;49m\u001b[38;5;241;43m*\u001b[39;49m\u001b[43murlopen_kw\u001b[49m\n\u001b[1;32m     83\u001b[0m \u001b[43m    \u001b[49m\u001b[43m)\u001b[49m\n",
      "File \u001b[0;32m~/.pyenv/versions/pml/lib/python3.11/site-packages/urllib3/request.py:173\u001b[0m, in \u001b[0;36mRequestMethods.request_encode_body\u001b[0;34m(self, method, url, fields, headers, encode_multipart, multipart_boundary, **urlopen_kw)\u001b[0m\n\u001b[1;32m    170\u001b[0m extra_kw[\u001b[38;5;124m\"\u001b[39m\u001b[38;5;124mheaders\u001b[39m\u001b[38;5;124m\"\u001b[39m]\u001b[38;5;241m.\u001b[39mupdate(headers)\n\u001b[1;32m    171\u001b[0m extra_kw\u001b[38;5;241m.\u001b[39mupdate(urlopen_kw)\n\u001b[0;32m--> 173\u001b[0m \u001b[38;5;28;01mreturn\u001b[39;00m \u001b[38;5;28;43mself\u001b[39;49m\u001b[38;5;241;43m.\u001b[39;49m\u001b[43murlopen\u001b[49m\u001b[43m(\u001b[49m\u001b[43mmethod\u001b[49m\u001b[43m,\u001b[49m\u001b[43m \u001b[49m\u001b[43murl\u001b[49m\u001b[43m,\u001b[49m\u001b[43m \u001b[49m\u001b[38;5;241;43m*\u001b[39;49m\u001b[38;5;241;43m*\u001b[39;49m\u001b[43mextra_kw\u001b[49m\u001b[43m)\u001b[49m\n",
      "File \u001b[0;32m~/.pyenv/versions/pml/lib/python3.11/site-packages/urllib3/poolmanager.py:376\u001b[0m, in \u001b[0;36mPoolManager.urlopen\u001b[0;34m(self, method, url, redirect, **kw)\u001b[0m\n\u001b[1;32m    374\u001b[0m     response \u001b[38;5;241m=\u001b[39m conn\u001b[38;5;241m.\u001b[39murlopen(method, url, \u001b[38;5;241m*\u001b[39m\u001b[38;5;241m*\u001b[39mkw)\n\u001b[1;32m    375\u001b[0m \u001b[38;5;28;01melse\u001b[39;00m:\n\u001b[0;32m--> 376\u001b[0m     response \u001b[38;5;241m=\u001b[39m \u001b[43mconn\u001b[49m\u001b[38;5;241;43m.\u001b[39;49m\u001b[43murlopen\u001b[49m\u001b[43m(\u001b[49m\u001b[43mmethod\u001b[49m\u001b[43m,\u001b[49m\u001b[43m \u001b[49m\u001b[43mu\u001b[49m\u001b[38;5;241;43m.\u001b[39;49m\u001b[43mrequest_uri\u001b[49m\u001b[43m,\u001b[49m\u001b[43m \u001b[49m\u001b[38;5;241;43m*\u001b[39;49m\u001b[38;5;241;43m*\u001b[39;49m\u001b[43mkw\u001b[49m\u001b[43m)\u001b[49m\n\u001b[1;32m    378\u001b[0m redirect_location \u001b[38;5;241m=\u001b[39m redirect \u001b[38;5;129;01mand\u001b[39;00m response\u001b[38;5;241m.\u001b[39mget_redirect_location()\n\u001b[1;32m    379\u001b[0m \u001b[38;5;28;01mif\u001b[39;00m \u001b[38;5;129;01mnot\u001b[39;00m redirect_location:\n",
      "File \u001b[0;32m~/.pyenv/versions/pml/lib/python3.11/site-packages/urllib3/connectionpool.py:715\u001b[0m, in \u001b[0;36mHTTPConnectionPool.urlopen\u001b[0;34m(self, method, url, body, headers, retries, redirect, assert_same_host, timeout, pool_timeout, release_conn, chunked, body_pos, **response_kw)\u001b[0m\n\u001b[1;32m    712\u001b[0m     \u001b[38;5;28mself\u001b[39m\u001b[38;5;241m.\u001b[39m_prepare_proxy(conn)\n\u001b[1;32m    714\u001b[0m \u001b[38;5;66;03m# Make the request on the httplib connection object.\u001b[39;00m\n\u001b[0;32m--> 715\u001b[0m httplib_response \u001b[38;5;241m=\u001b[39m \u001b[38;5;28;43mself\u001b[39;49m\u001b[38;5;241;43m.\u001b[39;49m\u001b[43m_make_request\u001b[49m\u001b[43m(\u001b[49m\n\u001b[1;32m    716\u001b[0m \u001b[43m    \u001b[49m\u001b[43mconn\u001b[49m\u001b[43m,\u001b[49m\n\u001b[1;32m    717\u001b[0m \u001b[43m    \u001b[49m\u001b[43mmethod\u001b[49m\u001b[43m,\u001b[49m\n\u001b[1;32m    718\u001b[0m \u001b[43m    \u001b[49m\u001b[43murl\u001b[49m\u001b[43m,\u001b[49m\n\u001b[1;32m    719\u001b[0m \u001b[43m    \u001b[49m\u001b[43mtimeout\u001b[49m\u001b[38;5;241;43m=\u001b[39;49m\u001b[43mtimeout_obj\u001b[49m\u001b[43m,\u001b[49m\n\u001b[1;32m    720\u001b[0m \u001b[43m    \u001b[49m\u001b[43mbody\u001b[49m\u001b[38;5;241;43m=\u001b[39;49m\u001b[43mbody\u001b[49m\u001b[43m,\u001b[49m\n\u001b[1;32m    721\u001b[0m \u001b[43m    \u001b[49m\u001b[43mheaders\u001b[49m\u001b[38;5;241;43m=\u001b[39;49m\u001b[43mheaders\u001b[49m\u001b[43m,\u001b[49m\n\u001b[1;32m    722\u001b[0m \u001b[43m    \u001b[49m\u001b[43mchunked\u001b[49m\u001b[38;5;241;43m=\u001b[39;49m\u001b[43mchunked\u001b[49m\u001b[43m,\u001b[49m\n\u001b[1;32m    723\u001b[0m \u001b[43m\u001b[49m\u001b[43m)\u001b[49m\n\u001b[1;32m    725\u001b[0m \u001b[38;5;66;03m# If we're going to release the connection in ``finally:``, then\u001b[39;00m\n\u001b[1;32m    726\u001b[0m \u001b[38;5;66;03m# the response doesn't need to know about the connection. Otherwise\u001b[39;00m\n\u001b[1;32m    727\u001b[0m \u001b[38;5;66;03m# it will also try to release it and we'll have a double-release\u001b[39;00m\n\u001b[1;32m    728\u001b[0m \u001b[38;5;66;03m# mess.\u001b[39;00m\n\u001b[1;32m    729\u001b[0m response_conn \u001b[38;5;241m=\u001b[39m conn \u001b[38;5;28;01mif\u001b[39;00m \u001b[38;5;129;01mnot\u001b[39;00m release_conn \u001b[38;5;28;01melse\u001b[39;00m \u001b[38;5;28;01mNone\u001b[39;00m\n",
      "File \u001b[0;32m~/.pyenv/versions/pml/lib/python3.11/site-packages/urllib3/connectionpool.py:467\u001b[0m, in \u001b[0;36mHTTPConnectionPool._make_request\u001b[0;34m(self, conn, method, url, timeout, chunked, **httplib_request_kw)\u001b[0m\n\u001b[1;32m    462\u001b[0m             httplib_response \u001b[38;5;241m=\u001b[39m conn\u001b[38;5;241m.\u001b[39mgetresponse()\n\u001b[1;32m    463\u001b[0m         \u001b[38;5;28;01mexcept\u001b[39;00m \u001b[38;5;167;01mBaseException\u001b[39;00m \u001b[38;5;28;01mas\u001b[39;00m e:\n\u001b[1;32m    464\u001b[0m             \u001b[38;5;66;03m# Remove the TypeError from the exception chain in\u001b[39;00m\n\u001b[1;32m    465\u001b[0m             \u001b[38;5;66;03m# Python 3 (including for exceptions like SystemExit).\u001b[39;00m\n\u001b[1;32m    466\u001b[0m             \u001b[38;5;66;03m# Otherwise it looks like a bug in the code.\u001b[39;00m\n\u001b[0;32m--> 467\u001b[0m             \u001b[43msix\u001b[49m\u001b[38;5;241;43m.\u001b[39;49m\u001b[43mraise_from\u001b[49m\u001b[43m(\u001b[49m\u001b[43me\u001b[49m\u001b[43m,\u001b[49m\u001b[43m \u001b[49m\u001b[38;5;28;43;01mNone\u001b[39;49;00m\u001b[43m)\u001b[49m\n\u001b[1;32m    468\u001b[0m \u001b[38;5;28;01mexcept\u001b[39;00m (SocketTimeout, BaseSSLError, SocketError) \u001b[38;5;28;01mas\u001b[39;00m e:\n\u001b[1;32m    469\u001b[0m     \u001b[38;5;28mself\u001b[39m\u001b[38;5;241m.\u001b[39m_raise_timeout(err\u001b[38;5;241m=\u001b[39me, url\u001b[38;5;241m=\u001b[39murl, timeout_value\u001b[38;5;241m=\u001b[39mread_timeout)\n",
      "File \u001b[0;32m<string>:3\u001b[0m, in \u001b[0;36mraise_from\u001b[0;34m(value, from_value)\u001b[0m\n",
      "File \u001b[0;32m~/.pyenv/versions/pml/lib/python3.11/site-packages/urllib3/connectionpool.py:462\u001b[0m, in \u001b[0;36mHTTPConnectionPool._make_request\u001b[0;34m(self, conn, method, url, timeout, chunked, **httplib_request_kw)\u001b[0m\n\u001b[1;32m    459\u001b[0m \u001b[38;5;28;01mexcept\u001b[39;00m \u001b[38;5;167;01mTypeError\u001b[39;00m:\n\u001b[1;32m    460\u001b[0m     \u001b[38;5;66;03m# Python 3\u001b[39;00m\n\u001b[1;32m    461\u001b[0m     \u001b[38;5;28;01mtry\u001b[39;00m:\n\u001b[0;32m--> 462\u001b[0m         httplib_response \u001b[38;5;241m=\u001b[39m \u001b[43mconn\u001b[49m\u001b[38;5;241;43m.\u001b[39;49m\u001b[43mgetresponse\u001b[49m\u001b[43m(\u001b[49m\u001b[43m)\u001b[49m\n\u001b[1;32m    463\u001b[0m     \u001b[38;5;28;01mexcept\u001b[39;00m \u001b[38;5;167;01mBaseException\u001b[39;00m \u001b[38;5;28;01mas\u001b[39;00m e:\n\u001b[1;32m    464\u001b[0m         \u001b[38;5;66;03m# Remove the TypeError from the exception chain in\u001b[39;00m\n\u001b[1;32m    465\u001b[0m         \u001b[38;5;66;03m# Python 3 (including for exceptions like SystemExit).\u001b[39;00m\n\u001b[1;32m    466\u001b[0m         \u001b[38;5;66;03m# Otherwise it looks like a bug in the code.\u001b[39;00m\n\u001b[1;32m    467\u001b[0m         six\u001b[38;5;241m.\u001b[39mraise_from(e, \u001b[38;5;28;01mNone\u001b[39;00m)\n",
      "File \u001b[0;32m~/.pyenv/versions/3.11.0/lib/python3.11/http/client.py:1374\u001b[0m, in \u001b[0;36mHTTPConnection.getresponse\u001b[0;34m(self)\u001b[0m\n\u001b[1;32m   1372\u001b[0m \u001b[38;5;28;01mtry\u001b[39;00m:\n\u001b[1;32m   1373\u001b[0m     \u001b[38;5;28;01mtry\u001b[39;00m:\n\u001b[0;32m-> 1374\u001b[0m         \u001b[43mresponse\u001b[49m\u001b[38;5;241;43m.\u001b[39;49m\u001b[43mbegin\u001b[49m\u001b[43m(\u001b[49m\u001b[43m)\u001b[49m\n\u001b[1;32m   1375\u001b[0m     \u001b[38;5;28;01mexcept\u001b[39;00m \u001b[38;5;167;01mConnectionError\u001b[39;00m:\n\u001b[1;32m   1376\u001b[0m         \u001b[38;5;28mself\u001b[39m\u001b[38;5;241m.\u001b[39mclose()\n",
      "File \u001b[0;32m~/.pyenv/versions/3.11.0/lib/python3.11/http/client.py:318\u001b[0m, in \u001b[0;36mHTTPResponse.begin\u001b[0;34m(self)\u001b[0m\n\u001b[1;32m    316\u001b[0m \u001b[38;5;66;03m# read until we get a non-100 response\u001b[39;00m\n\u001b[1;32m    317\u001b[0m \u001b[38;5;28;01mwhile\u001b[39;00m \u001b[38;5;28;01mTrue\u001b[39;00m:\n\u001b[0;32m--> 318\u001b[0m     version, status, reason \u001b[38;5;241m=\u001b[39m \u001b[38;5;28;43mself\u001b[39;49m\u001b[38;5;241;43m.\u001b[39;49m\u001b[43m_read_status\u001b[49m\u001b[43m(\u001b[49m\u001b[43m)\u001b[49m\n\u001b[1;32m    319\u001b[0m     \u001b[38;5;28;01mif\u001b[39;00m status \u001b[38;5;241m!=\u001b[39m CONTINUE:\n\u001b[1;32m    320\u001b[0m         \u001b[38;5;28;01mbreak\u001b[39;00m\n",
      "File \u001b[0;32m~/.pyenv/versions/3.11.0/lib/python3.11/http/client.py:279\u001b[0m, in \u001b[0;36mHTTPResponse._read_status\u001b[0;34m(self)\u001b[0m\n\u001b[1;32m    278\u001b[0m \u001b[38;5;28;01mdef\u001b[39;00m \u001b[38;5;21m_read_status\u001b[39m(\u001b[38;5;28mself\u001b[39m):\n\u001b[0;32m--> 279\u001b[0m     line \u001b[38;5;241m=\u001b[39m \u001b[38;5;28mstr\u001b[39m(\u001b[38;5;28mself\u001b[39m\u001b[38;5;241m.\u001b[39mfp\u001b[38;5;241m.\u001b[39mreadline(_MAXLINE \u001b[38;5;241m+\u001b[39m \u001b[38;5;241m1\u001b[39m), \u001b[38;5;124m\"\u001b[39m\u001b[38;5;124miso-8859-1\u001b[39m\u001b[38;5;124m\"\u001b[39m)\n\u001b[1;32m    280\u001b[0m     \u001b[38;5;28;01mif\u001b[39;00m \u001b[38;5;28mlen\u001b[39m(line) \u001b[38;5;241m>\u001b[39m _MAXLINE:\n\u001b[1;32m    281\u001b[0m         \u001b[38;5;28;01mraise\u001b[39;00m LineTooLong(\u001b[38;5;124m\"\u001b[39m\u001b[38;5;124mstatus line\u001b[39m\u001b[38;5;124m\"\u001b[39m)\n",
      "File \u001b[0;32m~/.pyenv/versions/3.11.0/lib/python3.11/socket.py:705\u001b[0m, in \u001b[0;36mSocketIO.readinto\u001b[0;34m(self, b)\u001b[0m\n\u001b[1;32m    703\u001b[0m \u001b[38;5;28;01mwhile\u001b[39;00m \u001b[38;5;28;01mTrue\u001b[39;00m:\n\u001b[1;32m    704\u001b[0m     \u001b[38;5;28;01mtry\u001b[39;00m:\n\u001b[0;32m--> 705\u001b[0m         \u001b[38;5;28;01mreturn\u001b[39;00m \u001b[38;5;28;43mself\u001b[39;49m\u001b[38;5;241;43m.\u001b[39;49m\u001b[43m_sock\u001b[49m\u001b[38;5;241;43m.\u001b[39;49m\u001b[43mrecv_into\u001b[49m\u001b[43m(\u001b[49m\u001b[43mb\u001b[49m\u001b[43m)\u001b[49m\n\u001b[1;32m    706\u001b[0m     \u001b[38;5;28;01mexcept\u001b[39;00m timeout:\n\u001b[1;32m    707\u001b[0m         \u001b[38;5;28mself\u001b[39m\u001b[38;5;241m.\u001b[39m_timeout_occurred \u001b[38;5;241m=\u001b[39m \u001b[38;5;28;01mTrue\u001b[39;00m\n",
      "\u001b[0;31mKeyboardInterrupt\u001b[0m: "
     ]
    }
   ],
   "source": [
    "scr.process()"
   ]
  },
  {
   "cell_type": "markdown",
   "id": "d2e56d97-9aa5-461c-8d1e-840988bc1598",
   "metadata": {},
   "source": [
    "86/101"
   ]
  },
  {
   "cell_type": "markdown",
   "id": "e50b6094-83b8-4bd0-913f-4a52f64e9b81",
   "metadata": {},
   "source": [
    "#### timeout"
   ]
  },
  {
   "cell_type": "code",
   "execution_count": 18,
   "id": "9aa41f4c-013a-46fe-b950-35212c31a6d0",
   "metadata": {
    "execution": {
     "iopub.execute_input": "2024-05-26T08:32:25.876191Z",
     "iopub.status.busy": "2024-05-26T08:32:25.875636Z",
     "iopub.status.idle": "2024-05-26T08:32:25.886035Z",
     "shell.execute_reply": "2024-05-26T08:32:25.885142Z",
     "shell.execute_reply.started": "2024-05-26T08:32:25.876163Z"
    },
    "scrolled": true
   },
   "outputs": [],
   "source": [
    "import concurrent.futures\n",
    "import time\n",
    "\n",
    "def get_count():\n",
    "    # Simulate a function that may take a long time to process\n",
    "    sleep(3)  # Sleep for 65 seconds to simulate a long-running process\n",
    "    return \"Count done\"\n",
    "\n",
    "# counts = [1, 2, 3, 4, 5]\n",
    "counts = [1, 2]\n",
    "\n",
    "# Define a function to run with a timeout\n",
    "def run_with_timeout(fn, timeout):\n",
    "    with concurrent.futures.ThreadPoolExecutor() as executor:\n",
    "        future = executor.submit(fn)\n",
    "        try:\n",
    "            result = future.result(timeout=timeout)\n",
    "            return result\n",
    "        except concurrent.futures.TimeoutError:\n",
    "            return None"
   ]
  },
  {
   "cell_type": "code",
   "execution_count": 19,
   "id": "48036024-abd0-47d4-ab64-427f45f62ad9",
   "metadata": {
    "execution": {
     "iopub.execute_input": "2024-05-26T08:32:27.866214Z",
     "iopub.status.busy": "2024-05-26T08:32:27.865814Z",
     "iopub.status.idle": "2024-05-26T08:32:33.884667Z",
     "shell.execute_reply": "2024-05-26T08:32:33.883262Z",
     "shell.execute_reply.started": "2024-05-26T08:32:27.866191Z"
    },
    "scrolled": true
   },
   "outputs": [
    {
     "name": "stdout",
     "output_type": "stream",
     "text": [
      "Processing count 1\n",
      "Skipped count 1 due to timeout\n",
      "Processing count 2\n",
      "Skipped count 2 due to timeout\n",
      "6.011352062225342\n"
     ]
    }
   ],
   "source": [
    "from time import time, sleep\n",
    "\n",
    "start = time()\n",
    "\n",
    "for count in counts:\n",
    "    print(f\"Processing count {count}\")\n",
    "    result = run_with_timeout(get_count, 2)\n",
    "    if result is None:\n",
    "        print(f\"Skipped count {count} due to timeout\")\n",
    "    else:\n",
    "        print(result)\n",
    "\n",
    "end = time()\n",
    "\n",
    "print(end - start)"
   ]
  },
  {
   "cell_type": "code",
   "execution_count": 21,
   "id": "55a369ae-3440-4aec-a024-c6664cf3e48b",
   "metadata": {
    "execution": {
     "iopub.execute_input": "2024-05-26T08:34:31.432919Z",
     "iopub.status.busy": "2024-05-26T08:34:31.432569Z",
     "iopub.status.idle": "2024-05-26T08:34:31.441836Z",
     "shell.execute_reply": "2024-05-26T08:34:31.441115Z",
     "shell.execute_reply.started": "2024-05-26T08:34:31.432895Z"
    }
   },
   "outputs": [],
   "source": [
    "import time\n",
    "import random\n",
    "import datetime\n",
    "\n",
    "class TimeoutException(Exception):\n",
    "    def __init__(self, *args, **kwargs):\n",
    "        Exception.__init__(self, *args, **kwargs)\n",
    "\n",
    "def busy_work():\n",
    "\n",
    "    # Pretend to do something useful\n",
    "    time.sleep(random.uniform(0.3, 0.6))\n",
    "\n",
    "def train_loadbatch_from_lists(batch_size, timeout_sec):\n",
    "\n",
    "    time_start = datetime.datetime.now()\n",
    "    batch_xs = []\n",
    "    batch_ys = []\n",
    "\n",
    "    for i in range(0, batch_size+1):\n",
    "        busy_work()\n",
    "        batch_xs.append(i)\n",
    "        batch_ys.append(i)\n",
    "\n",
    "        time_elapsed = datetime.datetime.now() - time_start\n",
    "        print ('Elapsed:', time_elapsed)\n",
    "        if time_elapsed > timeout_sec:\n",
    "            raise TimeoutException()\n",
    "\n",
    "    return batch_xs, batch_ys"
   ]
  },
  {
   "cell_type": "code",
   "execution_count": 24,
   "id": "2f97a097-6520-4aa7-b7fd-567bc3eea294",
   "metadata": {
    "execution": {
     "iopub.execute_input": "2024-05-26T08:35:06.551850Z",
     "iopub.status.busy": "2024-05-26T08:35:06.550606Z",
     "iopub.status.idle": "2024-05-26T08:35:11.764022Z",
     "shell.execute_reply": "2024-05-26T08:35:11.762973Z",
     "shell.execute_reply.started": "2024-05-26T08:35:06.551794Z"
    }
   },
   "outputs": [
    {
     "name": "stdout",
     "output_type": "stream",
     "text": [
      "Processing batch\n",
      "Elapsed: 0:00:00.498515\n",
      "Elapsed: 0:00:00.836707\n",
      "Elapsed: 0:00:01.315385\n",
      "Elapsed: 0:00:01.811561\n",
      "Elapsed: 0:00:02.329363\n",
      "Elapsed: 0:00:02.769212\n",
      "Elapsed: 0:00:03.332679\n",
      "Elapsed: 0:00:03.716981\n",
      "Elapsed: 0:00:04.180623\n",
      "Elapsed: 0:00:04.745530\n",
      "Elapsed: 0:00:05.202885\n",
      "Timeout after processing N records\n"
     ]
    }
   ],
   "source": [
    "timeout_sec = datetime.timedelta(seconds=5)\n",
    "batch_size = 10\n",
    "try:\n",
    "    print ('Processing batch')\n",
    "    batch_xs, batch_ys = train_loadbatch_from_lists(batch_size, timeout_sec)\n",
    "    print ('Completed successfully')\n",
    "    print (batch_xs, batch_ys)\n",
    "except TimeoutException as e:\n",
    "    print ('Timeout after processing N records')"
   ]
  },
  {
   "cell_type": "code",
   "execution_count": 31,
   "id": "a44435df-3242-41bd-94ff-83cf0e4952d1",
   "metadata": {
    "execution": {
     "iopub.execute_input": "2024-05-26T08:45:29.509311Z",
     "iopub.status.busy": "2024-05-26T08:45:29.508332Z",
     "iopub.status.idle": "2024-05-26T08:45:29.519405Z",
     "shell.execute_reply": "2024-05-26T08:45:29.518623Z",
     "shell.execute_reply.started": "2024-05-26T08:45:29.509260Z"
    }
   },
   "outputs": [],
   "source": [
    "import signal\n",
    "import time\n",
    "\n",
    "def timeout_handler(num, stack):\n",
    "    print(\"Received SIGALRM\")\n",
    "    raise Exception(\"FUBAR\")\n",
    "\n",
    "def long_function():\n",
    "    print(\"HEAVYYYYYYY WWWWWWWWORKING!!!\")\n",
    "    time.sleep(15)\n",
    "\n",
    "def set_alarm(duration: int):\n",
    "    signal.signal(signal.SIGALRM, timeout_handler)\n",
    "    signal.alarm(duration)"
   ]
  },
  {
   "cell_type": "code",
   "execution_count": 32,
   "id": "9a4aa09c-c3a6-426d-b779-ba2fc9632254",
   "metadata": {
    "execution": {
     "iopub.execute_input": "2024-05-26T08:45:30.573335Z",
     "iopub.status.busy": "2024-05-26T08:45:30.572817Z",
     "iopub.status.idle": "2024-05-26T08:45:33.581328Z",
     "shell.execute_reply": "2024-05-26T08:45:33.579934Z",
     "shell.execute_reply.started": "2024-05-26T08:45:30.573298Z"
    }
   },
   "outputs": [
    {
     "name": "stdout",
     "output_type": "stream",
     "text": [
      "Before: 45:30\n",
      "HEAVYYYYYYY WWWWWWWWORKING!!!\n",
      "Received SIGALRM\n",
      "FUBAR\n",
      "After: 45:33\n"
     ]
    }
   ],
   "source": [
    "try:\n",
    "    set_alarm(3)\n",
    "    print(\"Before: %s\" % time.strftime(\"%M:%S\"))\n",
    "    long_function()\n",
    "except Exception as ex:\n",
    "    print(ex)\n",
    "finally:\n",
    "    signal.alarm(0)\n",
    "    print(\"After: %s\" % time.strftime(\"%M:%S\"))"
   ]
  },
  {
   "cell_type": "markdown",
   "id": "863d893a-8989-47b8-bb60-dcf2255f89bd",
   "metadata": {},
   "source": [
    "#### apply"
   ]
  },
  {
   "cell_type": "code",
   "execution_count": 33,
   "id": "3ed72797-c35e-4672-8d7f-94cdbb6bd114",
   "metadata": {
    "execution": {
     "iopub.execute_input": "2024-05-26T08:52:26.835421Z",
     "iopub.status.busy": "2024-05-26T08:52:26.834210Z",
     "iopub.status.idle": "2024-05-26T08:55:12.377270Z",
     "shell.execute_reply": "2024-05-26T08:55:12.375935Z",
     "shell.execute_reply.started": "2024-05-26T08:52:26.835367Z"
    },
    "scrolled": true
   },
   "outputs": [
    {
     "data": {
      "application/vnd.jupyter.widget-view+json": {
       "model_id": "5386439a00d54387a8b47c1d13e0070e",
       "version_major": 2,
       "version_minor": 0
      },
      "text/plain": [
       "  0%|          | 0/101 [00:00<?, ?it/s]"
      ]
     },
     "metadata": {},
     "output_type": "display_data"
    },
    {
     "name": "stdout",
     "output_type": "stream",
     "text": [
      "WebDriverException: Message: unknown error: net::ERR_CONNECTION_RESET\n",
      "  (Session info: chrome=125.0.6422.77)\n",
      "Stacktrace:\n",
      "0   chromedriver                        0x0000000102856510 chromedriver + 4302096\n",
      "1   chromedriver                        0x000000010284ee58 chromedriver + 4271704\n",
      "2   chromedriver                        0x000000010248019c chromedriver + 278940\n",
      "3   chromedriver                        0x0000000102479510 chromedriver + 251152\n",
      "4   chromedriver                        0x000000010246b120 chromedriver + 192800\n",
      "5   chromedriver                        0x000000010246c480 chromedriver + 197760\n",
      "6   chromedriver                        0x000000010246b43c chromedriver + 193596\n",
      "7   chromedriver                        0x000000010246aad0 chromedriver + 191184\n",
      "8   chromedriver                        0x000000010246aa7c chromedriver + 191100\n",
      "9   chromedriver                        0x000000010246885c chromedriver + 182364\n",
      "10  chromedriver                        0x00000001024691dc chromedriver + 184796\n",
      "11  chromedriver                        0x0000000102482730 chromedriver + 288560\n",
      "12  chromedriver                        0x00000001024fb400 chromedriver + 783360\n",
      "13  chromedriver                        0x00000001024fac5c chromedriver + 781404\n",
      "14  chromedriver                        0x00000001024b7004 chromedriver + 503812\n",
      "15  chromedriver                        0x00000001024b79ec chromedriver + 506348\n",
      "16  chromedriver                        0x000000010281e558 chromedriver + 4072792\n",
      "17  chromedriver                        0x0000000102823004 chromedriver + 4091908\n",
      "18  chromedriver                        0x000000010280579c chromedriver + 3970972\n",
      "19  chromedriver                        0x00000001028238ec chromedriver + 4094188\n",
      "20  chromedriver                        0x00000001027f871c chromedriver + 3917596\n",
      "21  chromedriver                        0x0000000102840b50 chromedriver + 4213584\n",
      "22  chromedriver                        0x0000000102840ccc chromedriver + 4213964\n",
      "23  chromedriver                        0x000000010284ea50 chromedriver + 4270672\n",
      "24  libsystem_pthread.dylib             0x000000018c497034 _pthread_start + 136\n",
      "25  libsystem_pthread.dylib             0x000000018c491e3c thread_start + 8\n",
      "\n",
      "WebDriverException: Message: unknown error: net::ERR_NAME_NOT_RESOLVED\n",
      "  (Session info: chrome=125.0.6422.77)\n",
      "Stacktrace:\n",
      "0   chromedriver                        0x0000000102856510 chromedriver + 4302096\n",
      "1   chromedriver                        0x000000010284ee58 chromedriver + 4271704\n",
      "2   chromedriver                        0x000000010248019c chromedriver + 278940\n",
      "3   chromedriver                        0x0000000102479510 chromedriver + 251152\n",
      "4   chromedriver                        0x000000010246b120 chromedriver + 192800\n",
      "5   chromedriver                        0x000000010246c480 chromedriver + 197760\n",
      "6   chromedriver                        0x000000010246b43c chromedriver + 193596\n",
      "7   chromedriver                        0x000000010246aad0 chromedriver + 191184\n",
      "8   chromedriver                        0x000000010246aa7c chromedriver + 191100\n",
      "9   chromedriver                        0x000000010246885c chromedriver + 182364\n",
      "10  chromedriver                        0x00000001024691dc chromedriver + 184796\n",
      "11  chromedriver                        0x0000000102482730 chromedriver + 288560\n",
      "12  chromedriver                        0x00000001024fb400 chromedriver + 783360\n",
      "13  chromedriver                        0x00000001024fac5c chromedriver + 781404\n",
      "14  chromedriver                        0x00000001024b7004 chromedriver + 503812\n",
      "15  chromedriver                        0x00000001024b79ec chromedriver + 506348\n",
      "16  chromedriver                        0x000000010281e558 chromedriver + 4072792\n",
      "17  chromedriver                        0x0000000102823004 chromedriver + 4091908\n",
      "18  chromedriver                        0x000000010280579c chromedriver + 3970972\n",
      "19  chromedriver                        0x00000001028238ec chromedriver + 4094188\n",
      "20  chromedriver                        0x00000001027f871c chromedriver + 3917596\n",
      "21  chromedriver                        0x0000000102840b50 chromedriver + 4213584\n",
      "22  chromedriver                        0x0000000102840ccc chromedriver + 4213964\n",
      "23  chromedriver                        0x000000010284ea50 chromedriver + 4270672\n",
      "24  libsystem_pthread.dylib             0x000000018c497034 _pthread_start + 136\n",
      "25  libsystem_pthread.dylib             0x000000018c491e3c thread_start + 8\n",
      "\n",
      "WebDriverException: Message: unknown error: net::ERR_NAME_NOT_RESOLVED\n",
      "  (Session info: chrome=125.0.6422.77)\n",
      "Stacktrace:\n",
      "0   chromedriver                        0x0000000102856510 chromedriver + 4302096\n",
      "1   chromedriver                        0x000000010284ee58 chromedriver + 4271704\n",
      "2   chromedriver                        0x000000010248019c chromedriver + 278940\n",
      "3   chromedriver                        0x0000000102479510 chromedriver + 251152\n",
      "4   chromedriver                        0x000000010246b120 chromedriver + 192800\n",
      "5   chromedriver                        0x000000010246c480 chromedriver + 197760\n",
      "6   chromedriver                        0x000000010246b43c chromedriver + 193596\n",
      "7   chromedriver                        0x000000010246aad0 chromedriver + 191184\n",
      "8   chromedriver                        0x000000010246aa7c chromedriver + 191100\n",
      "9   chromedriver                        0x000000010246885c chromedriver + 182364\n",
      "10  chromedriver                        0x00000001024691dc chromedriver + 184796\n",
      "11  chromedriver                        0x0000000102482730 chromedriver + 288560\n",
      "12  chromedriver                        0x00000001024fb400 chromedriver + 783360\n",
      "13  chromedriver                        0x00000001024fac5c chromedriver + 781404\n",
      "14  chromedriver                        0x00000001024b7004 chromedriver + 503812\n",
      "15  chromedriver                        0x00000001024b79ec chromedriver + 506348\n",
      "16  chromedriver                        0x000000010281e558 chromedriver + 4072792\n",
      "17  chromedriver                        0x0000000102823004 chromedriver + 4091908\n",
      "18  chromedriver                        0x000000010280579c chromedriver + 3970972\n",
      "19  chromedriver                        0x00000001028238ec chromedriver + 4094188\n",
      "20  chromedriver                        0x00000001027f871c chromedriver + 3917596\n",
      "21  chromedriver                        0x0000000102840b50 chromedriver + 4213584\n",
      "22  chromedriver                        0x0000000102840ccc chromedriver + 4213964\n",
      "23  chromedriver                        0x000000010284ea50 chromedriver + 4270672\n",
      "24  libsystem_pthread.dylib             0x000000018c497034 _pthread_start + 136\n",
      "25  libsystem_pthread.dylib             0x000000018c491e3c thread_start + 8\n",
      "\n",
      "WebDriverException: Message: unknown error: net::ERR_NAME_NOT_RESOLVED\n",
      "  (Session info: chrome=125.0.6422.77)\n",
      "Stacktrace:\n",
      "0   chromedriver                        0x0000000102856510 chromedriver + 4302096\n",
      "1   chromedriver                        0x000000010284ee58 chromedriver + 4271704\n",
      "2   chromedriver                        0x000000010248019c chromedriver + 278940\n",
      "3   chromedriver                        0x0000000102479510 chromedriver + 251152\n",
      "4   chromedriver                        0x000000010246b120 chromedriver + 192800\n",
      "5   chromedriver                        0x000000010246c480 chromedriver + 197760\n",
      "6   chromedriver                        0x000000010246b43c chromedriver + 193596\n",
      "7   chromedriver                        0x000000010246aad0 chromedriver + 191184\n",
      "8   chromedriver                        0x000000010246aa7c chromedriver + 191100\n",
      "9   chromedriver                        0x000000010246885c chromedriver + 182364\n",
      "10  chromedriver                        0x00000001024691dc chromedriver + 184796\n",
      "11  chromedriver                        0x0000000102482730 chromedriver + 288560\n",
      "12  chromedriver                        0x00000001024fb400 chromedriver + 783360\n",
      "13  chromedriver                        0x00000001024fac5c chromedriver + 781404\n",
      "14  chromedriver                        0x00000001024b7004 chromedriver + 503812\n",
      "15  chromedriver                        0x00000001024b79ec chromedriver + 506348\n",
      "16  chromedriver                        0x000000010281e558 chromedriver + 4072792\n",
      "17  chromedriver                        0x0000000102823004 chromedriver + 4091908\n",
      "18  chromedriver                        0x000000010280579c chromedriver + 3970972\n",
      "19  chromedriver                        0x00000001028238ec chromedriver + 4094188\n",
      "20  chromedriver                        0x00000001027f871c chromedriver + 3917596\n",
      "21  chromedriver                        0x0000000102840b50 chromedriver + 4213584\n",
      "22  chromedriver                        0x0000000102840ccc chromedriver + 4213964\n",
      "23  chromedriver                        0x000000010284ea50 chromedriver + 4270672\n",
      "24  libsystem_pthread.dylib             0x000000018c497034 _pthread_start + 136\n",
      "25  libsystem_pthread.dylib             0x000000018c491e3c thread_start + 8\n",
      "\n",
      "WebDriverException: Message: unknown error: net::ERR_NAME_NOT_RESOLVED\n",
      "  (Session info: chrome=125.0.6422.77)\n",
      "Stacktrace:\n",
      "0   chromedriver                        0x0000000102856510 chromedriver + 4302096\n",
      "1   chromedriver                        0x000000010284ee58 chromedriver + 4271704\n",
      "2   chromedriver                        0x000000010248019c chromedriver + 278940\n",
      "3   chromedriver                        0x0000000102479510 chromedriver + 251152\n",
      "4   chromedriver                        0x000000010246b120 chromedriver + 192800\n",
      "5   chromedriver                        0x000000010246c480 chromedriver + 197760\n",
      "6   chromedriver                        0x000000010246b43c chromedriver + 193596\n",
      "7   chromedriver                        0x000000010246aad0 chromedriver + 191184\n",
      "8   chromedriver                        0x000000010246aa7c chromedriver + 191100\n",
      "9   chromedriver                        0x000000010246885c chromedriver + 182364\n",
      "10  chromedriver                        0x00000001024691dc chromedriver + 184796\n",
      "11  chromedriver                        0x0000000102482730 chromedriver + 288560\n",
      "12  chromedriver                        0x00000001024fb400 chromedriver + 783360\n",
      "13  chromedriver                        0x00000001024fac5c chromedriver + 781404\n",
      "14  chromedriver                        0x00000001024b7004 chromedriver + 503812\n",
      "15  chromedriver                        0x00000001024b79ec chromedriver + 506348\n",
      "16  chromedriver                        0x000000010281e558 chromedriver + 4072792\n",
      "17  chromedriver                        0x0000000102823004 chromedriver + 4091908\n",
      "18  chromedriver                        0x000000010280579c chromedriver + 3970972\n",
      "19  chromedriver                        0x00000001028238ec chromedriver + 4094188\n",
      "20  chromedriver                        0x00000001027f871c chromedriver + 3917596\n",
      "21  chromedriver                        0x0000000102840b50 chromedriver + 4213584\n",
      "22  chromedriver                        0x0000000102840ccc chromedriver + 4213964\n",
      "23  chromedriver                        0x000000010284ea50 chromedriver + 4270672\n",
      "24  libsystem_pthread.dylib             0x000000018c497034 _pthread_start + 136\n",
      "25  libsystem_pthread.dylib             0x000000018c491e3c thread_start + 8\n",
      "\n",
      "WebDriverException: Message: unknown error: net::ERR_NAME_NOT_RESOLVED\n",
      "  (Session info: chrome=125.0.6422.77)\n",
      "Stacktrace:\n",
      "0   chromedriver                        0x0000000102856510 chromedriver + 4302096\n",
      "1   chromedriver                        0x000000010284ee58 chromedriver + 4271704\n",
      "2   chromedriver                        0x000000010248019c chromedriver + 278940\n",
      "3   chromedriver                        0x0000000102479510 chromedriver + 251152\n",
      "4   chromedriver                        0x000000010246b120 chromedriver + 192800\n",
      "5   chromedriver                        0x000000010246c480 chromedriver + 197760\n",
      "6   chromedriver                        0x000000010246b43c chromedriver + 193596\n",
      "7   chromedriver                        0x000000010246aad0 chromedriver + 191184\n",
      "8   chromedriver                        0x000000010246aa7c chromedriver + 191100\n",
      "9   chromedriver                        0x000000010246885c chromedriver + 182364\n",
      "10  chromedriver                        0x00000001024691dc chromedriver + 184796\n",
      "11  chromedriver                        0x0000000102482730 chromedriver + 288560\n",
      "12  chromedriver                        0x00000001024fb400 chromedriver + 783360\n",
      "13  chromedriver                        0x00000001024fac5c chromedriver + 781404\n",
      "14  chromedriver                        0x00000001024b7004 chromedriver + 503812\n",
      "15  chromedriver                        0x00000001024b79ec chromedriver + 506348\n",
      "16  chromedriver                        0x000000010281e558 chromedriver + 4072792\n",
      "17  chromedriver                        0x0000000102823004 chromedriver + 4091908\n",
      "18  chromedriver                        0x000000010280579c chromedriver + 3970972\n",
      "19  chromedriver                        0x00000001028238ec chromedriver + 4094188\n",
      "20  chromedriver                        0x00000001027f871c chromedriver + 3917596\n",
      "21  chromedriver                        0x0000000102840b50 chromedriver + 4213584\n",
      "22  chromedriver                        0x0000000102840ccc chromedriver + 4213964\n",
      "23  chromedriver                        0x000000010284ea50 chromedriver + 4270672\n",
      "24  libsystem_pthread.dylib             0x000000018c497034 _pthread_start + 136\n",
      "25  libsystem_pthread.dylib             0x000000018c491e3c thread_start + 8\n",
      "\n",
      "WebDriverException: Message: unknown error: net::ERR_NAME_NOT_RESOLVED\n",
      "  (Session info: chrome=125.0.6422.77)\n",
      "Stacktrace:\n",
      "0   chromedriver                        0x0000000102856510 chromedriver + 4302096\n",
      "1   chromedriver                        0x000000010284ee58 chromedriver + 4271704\n",
      "2   chromedriver                        0x000000010248019c chromedriver + 278940\n",
      "3   chromedriver                        0x0000000102479510 chromedriver + 251152\n",
      "4   chromedriver                        0x000000010246b120 chromedriver + 192800\n",
      "5   chromedriver                        0x000000010246c480 chromedriver + 197760\n",
      "6   chromedriver                        0x000000010246b43c chromedriver + 193596\n",
      "7   chromedriver                        0x000000010246aad0 chromedriver + 191184\n",
      "8   chromedriver                        0x000000010246aa7c chromedriver + 191100\n",
      "9   chromedriver                        0x000000010246885c chromedriver + 182364\n",
      "10  chromedriver                        0x00000001024691dc chromedriver + 184796\n",
      "11  chromedriver                        0x0000000102482730 chromedriver + 288560\n",
      "12  chromedriver                        0x00000001024fb400 chromedriver + 783360\n",
      "13  chromedriver                        0x00000001024fac5c chromedriver + 781404\n",
      "14  chromedriver                        0x00000001024b7004 chromedriver + 503812\n",
      "15  chromedriver                        0x00000001024b79ec chromedriver + 506348\n",
      "16  chromedriver                        0x000000010281e558 chromedriver + 4072792\n",
      "17  chromedriver                        0x0000000102823004 chromedriver + 4091908\n",
      "18  chromedriver                        0x000000010280579c chromedriver + 3970972\n",
      "19  chromedriver                        0x00000001028238ec chromedriver + 4094188\n",
      "20  chromedriver                        0x00000001027f871c chromedriver + 3917596\n",
      "21  chromedriver                        0x0000000102840b50 chromedriver + 4213584\n",
      "22  chromedriver                        0x0000000102840ccc chromedriver + 4213964\n",
      "23  chromedriver                        0x000000010284ea50 chromedriver + 4270672\n",
      "24  libsystem_pthread.dylib             0x000000018c497034 _pthread_start + 136\n",
      "25  libsystem_pthread.dylib             0x000000018c491e3c thread_start + 8\n",
      "\n",
      "WebDriverException: Message: unknown error: net::ERR_NAME_NOT_RESOLVED\n",
      "  (Session info: chrome=125.0.6422.77)\n",
      "Stacktrace:\n",
      "0   chromedriver                        0x0000000102856510 chromedriver + 4302096\n",
      "1   chromedriver                        0x000000010284ee58 chromedriver + 4271704\n",
      "2   chromedriver                        0x000000010248019c chromedriver + 278940\n",
      "3   chromedriver                        0x0000000102479510 chromedriver + 251152\n",
      "4   chromedriver                        0x000000010246b120 chromedriver + 192800\n",
      "5   chromedriver                        0x000000010246c480 chromedriver + 197760\n",
      "6   chromedriver                        0x000000010246b43c chromedriver + 193596\n",
      "7   chromedriver                        0x000000010246aad0 chromedriver + 191184\n",
      "8   chromedriver                        0x000000010246aa7c chromedriver + 191100\n",
      "9   chromedriver                        0x000000010246885c chromedriver + 182364\n",
      "10  chromedriver                        0x00000001024691dc chromedriver + 184796\n",
      "11  chromedriver                        0x0000000102482730 chromedriver + 288560\n",
      "12  chromedriver                        0x00000001024fb400 chromedriver + 783360\n",
      "13  chromedriver                        0x00000001024fac5c chromedriver + 781404\n",
      "14  chromedriver                        0x00000001024b7004 chromedriver + 503812\n",
      "15  chromedriver                        0x00000001024b79ec chromedriver + 506348\n",
      "16  chromedriver                        0x000000010281e558 chromedriver + 4072792\n",
      "17  chromedriver                        0x0000000102823004 chromedriver + 4091908\n",
      "18  chromedriver                        0x000000010280579c chromedriver + 3970972\n",
      "19  chromedriver                        0x00000001028238ec chromedriver + 4094188\n",
      "20  chromedriver                        0x00000001027f871c chromedriver + 3917596\n",
      "21  chromedriver                        0x0000000102840b50 chromedriver + 4213584\n",
      "22  chromedriver                        0x0000000102840ccc chromedriver + 4213964\n",
      "23  chromedriver                        0x000000010284ea50 chromedriver + 4270672\n",
      "24  libsystem_pthread.dylib             0x000000018c497034 _pthread_start + 136\n",
      "25  libsystem_pthread.dylib             0x000000018c491e3c thread_start + 8\n",
      "\n",
      "WebDriverException: Message: unknown error: net::ERR_NAME_NOT_RESOLVED\n",
      "  (Session info: chrome=125.0.6422.77)\n",
      "Stacktrace:\n",
      "0   chromedriver                        0x0000000102856510 chromedriver + 4302096\n",
      "1   chromedriver                        0x000000010284ee58 chromedriver + 4271704\n",
      "2   chromedriver                        0x000000010248019c chromedriver + 278940\n",
      "3   chromedriver                        0x0000000102479510 chromedriver + 251152\n",
      "4   chromedriver                        0x000000010246b120 chromedriver + 192800\n",
      "5   chromedriver                        0x000000010246c480 chromedriver + 197760\n",
      "6   chromedriver                        0x000000010246b43c chromedriver + 193596\n",
      "7   chromedriver                        0x000000010246aad0 chromedriver + 191184\n",
      "8   chromedriver                        0x000000010246aa7c chromedriver + 191100\n",
      "9   chromedriver                        0x000000010246885c chromedriver + 182364\n",
      "10  chromedriver                        0x00000001024691dc chromedriver + 184796\n",
      "11  chromedriver                        0x0000000102482730 chromedriver + 288560\n",
      "12  chromedriver                        0x00000001024fb400 chromedriver + 783360\n",
      "13  chromedriver                        0x00000001024fac5c chromedriver + 781404\n",
      "14  chromedriver                        0x00000001024b7004 chromedriver + 503812\n",
      "15  chromedriver                        0x00000001024b79ec chromedriver + 506348\n",
      "16  chromedriver                        0x000000010281e558 chromedriver + 4072792\n",
      "17  chromedriver                        0x0000000102823004 chromedriver + 4091908\n",
      "18  chromedriver                        0x000000010280579c chromedriver + 3970972\n",
      "19  chromedriver                        0x00000001028238ec chromedriver + 4094188\n",
      "20  chromedriver                        0x00000001027f871c chromedriver + 3917596\n",
      "21  chromedriver                        0x0000000102840b50 chromedriver + 4213584\n",
      "22  chromedriver                        0x0000000102840ccc chromedriver + 4213964\n",
      "23  chromedriver                        0x000000010284ea50 chromedriver + 4270672\n",
      "24  libsystem_pthread.dylib             0x000000018c497034 _pthread_start + 136\n",
      "25  libsystem_pthread.dylib             0x000000018c491e3c thread_start + 8\n",
      "\n",
      "WebDriverException: Message: unknown error: net::ERR_NAME_NOT_RESOLVED\n",
      "  (Session info: chrome=125.0.6422.77)\n",
      "Stacktrace:\n",
      "0   chromedriver                        0x0000000102856510 chromedriver + 4302096\n",
      "1   chromedriver                        0x000000010284ee58 chromedriver + 4271704\n",
      "2   chromedriver                        0x000000010248019c chromedriver + 278940\n",
      "3   chromedriver                        0x0000000102479510 chromedriver + 251152\n",
      "4   chromedriver                        0x000000010246b120 chromedriver + 192800\n",
      "5   chromedriver                        0x000000010246c480 chromedriver + 197760\n",
      "6   chromedriver                        0x000000010246b43c chromedriver + 193596\n",
      "7   chromedriver                        0x000000010246aad0 chromedriver + 191184\n",
      "8   chromedriver                        0x000000010246aa7c chromedriver + 191100\n",
      "9   chromedriver                        0x000000010246885c chromedriver + 182364\n",
      "10  chromedriver                        0x00000001024691dc chromedriver + 184796\n",
      "11  chromedriver                        0x0000000102482730 chromedriver + 288560\n",
      "12  chromedriver                        0x00000001024fb400 chromedriver + 783360\n",
      "13  chromedriver                        0x00000001024fac5c chromedriver + 781404\n",
      "14  chromedriver                        0x00000001024b7004 chromedriver + 503812\n",
      "15  chromedriver                        0x00000001024b79ec chromedriver + 506348\n",
      "16  chromedriver                        0x000000010281e558 chromedriver + 4072792\n",
      "17  chromedriver                        0x0000000102823004 chromedriver + 4091908\n",
      "18  chromedriver                        0x000000010280579c chromedriver + 3970972\n",
      "19  chromedriver                        0x00000001028238ec chromedriver + 4094188\n",
      "20  chromedriver                        0x00000001027f871c chromedriver + 3917596\n",
      "21  chromedriver                        0x0000000102840b50 chromedriver + 4213584\n",
      "22  chromedriver                        0x0000000102840ccc chromedriver + 4213964\n",
      "23  chromedriver                        0x000000010284ea50 chromedriver + 4270672\n",
      "24  libsystem_pthread.dylib             0x000000018c497034 _pthread_start + 136\n",
      "25  libsystem_pthread.dylib             0x000000018c491e3c thread_start + 8\n",
      "\n",
      "WebDriverException: Message: unknown error: net::ERR_NAME_NOT_RESOLVED\n",
      "  (Session info: chrome=125.0.6422.77)\n",
      "Stacktrace:\n",
      "0   chromedriver                        0x0000000102856510 chromedriver + 4302096\n",
      "1   chromedriver                        0x000000010284ee58 chromedriver + 4271704\n",
      "2   chromedriver                        0x000000010248019c chromedriver + 278940\n",
      "3   chromedriver                        0x0000000102479510 chromedriver + 251152\n",
      "4   chromedriver                        0x000000010246b120 chromedriver + 192800\n",
      "5   chromedriver                        0x000000010246c480 chromedriver + 197760\n",
      "6   chromedriver                        0x000000010246b43c chromedriver + 193596\n",
      "7   chromedriver                        0x000000010246aad0 chromedriver + 191184\n",
      "8   chromedriver                        0x000000010246aa7c chromedriver + 191100\n",
      "9   chromedriver                        0x000000010246885c chromedriver + 182364\n",
      "10  chromedriver                        0x00000001024691dc chromedriver + 184796\n",
      "11  chromedriver                        0x0000000102482730 chromedriver + 288560\n",
      "12  chromedriver                        0x00000001024fb400 chromedriver + 783360\n",
      "13  chromedriver                        0x00000001024fac5c chromedriver + 781404\n",
      "14  chromedriver                        0x00000001024b7004 chromedriver + 503812\n",
      "15  chromedriver                        0x00000001024b79ec chromedriver + 506348\n",
      "16  chromedriver                        0x000000010281e558 chromedriver + 4072792\n",
      "17  chromedriver                        0x0000000102823004 chromedriver + 4091908\n",
      "18  chromedriver                        0x000000010280579c chromedriver + 3970972\n",
      "19  chromedriver                        0x00000001028238ec chromedriver + 4094188\n",
      "20  chromedriver                        0x00000001027f871c chromedriver + 3917596\n",
      "21  chromedriver                        0x0000000102840b50 chromedriver + 4213584\n",
      "22  chromedriver                        0x0000000102840ccc chromedriver + 4213964\n",
      "23  chromedriver                        0x000000010284ea50 chromedriver + 4270672\n",
      "24  libsystem_pthread.dylib             0x000000018c497034 _pthread_start + 136\n",
      "25  libsystem_pthread.dylib             0x000000018c491e3c thread_start + 8\n",
      "\n",
      "WebDriverException: Message: unknown error: net::ERR_NAME_NOT_RESOLVED\n",
      "  (Session info: chrome=125.0.6422.77)\n",
      "Stacktrace:\n",
      "0   chromedriver                        0x0000000102856510 chromedriver + 4302096\n",
      "1   chromedriver                        0x000000010284ee58 chromedriver + 4271704\n",
      "2   chromedriver                        0x000000010248019c chromedriver + 278940\n",
      "3   chromedriver                        0x0000000102479510 chromedriver + 251152\n",
      "4   chromedriver                        0x000000010246b120 chromedriver + 192800\n",
      "5   chromedriver                        0x000000010246c480 chromedriver + 197760\n",
      "6   chromedriver                        0x000000010246b43c chromedriver + 193596\n",
      "7   chromedriver                        0x000000010246aad0 chromedriver + 191184\n",
      "8   chromedriver                        0x000000010246aa7c chromedriver + 191100\n",
      "9   chromedriver                        0x000000010246885c chromedriver + 182364\n",
      "10  chromedriver                        0x00000001024691dc chromedriver + 184796\n",
      "11  chromedriver                        0x0000000102482730 chromedriver + 288560\n",
      "12  chromedriver                        0x00000001024fb400 chromedriver + 783360\n",
      "13  chromedriver                        0x00000001024fac5c chromedriver + 781404\n",
      "14  chromedriver                        0x00000001024b7004 chromedriver + 503812\n",
      "15  chromedriver                        0x00000001024b79ec chromedriver + 506348\n",
      "16  chromedriver                        0x000000010281e558 chromedriver + 4072792\n",
      "17  chromedriver                        0x0000000102823004 chromedriver + 4091908\n",
      "18  chromedriver                        0x000000010280579c chromedriver + 3970972\n",
      "19  chromedriver                        0x00000001028238ec chromedriver + 4094188\n",
      "20  chromedriver                        0x00000001027f871c chromedriver + 3917596\n",
      "21  chromedriver                        0x0000000102840b50 chromedriver + 4213584\n",
      "22  chromedriver                        0x0000000102840ccc chromedriver + 4213964\n",
      "23  chromedriver                        0x000000010284ea50 chromedriver + 4270672\n",
      "24  libsystem_pthread.dylib             0x000000018c497034 _pthread_start + 136\n",
      "25  libsystem_pthread.dylib             0x000000018c491e3c thread_start + 8\n",
      "\n",
      "WebDriverException: Message: unknown error: net::ERR_NAME_NOT_RESOLVED\n",
      "  (Session info: chrome=125.0.6422.77)\n",
      "Stacktrace:\n",
      "0   chromedriver                        0x0000000102856510 chromedriver + 4302096\n",
      "1   chromedriver                        0x000000010284ee58 chromedriver + 4271704\n",
      "2   chromedriver                        0x000000010248019c chromedriver + 278940\n",
      "3   chromedriver                        0x0000000102479510 chromedriver + 251152\n",
      "4   chromedriver                        0x000000010246b120 chromedriver + 192800\n",
      "5   chromedriver                        0x000000010246c480 chromedriver + 197760\n",
      "6   chromedriver                        0x000000010246b43c chromedriver + 193596\n",
      "7   chromedriver                        0x000000010246aad0 chromedriver + 191184\n",
      "8   chromedriver                        0x000000010246aa7c chromedriver + 191100\n",
      "9   chromedriver                        0x000000010246885c chromedriver + 182364\n",
      "10  chromedriver                        0x00000001024691dc chromedriver + 184796\n",
      "11  chromedriver                        0x0000000102482730 chromedriver + 288560\n",
      "12  chromedriver                        0x00000001024fb400 chromedriver + 783360\n",
      "13  chromedriver                        0x00000001024fac5c chromedriver + 781404\n",
      "14  chromedriver                        0x00000001024b7004 chromedriver + 503812\n",
      "15  chromedriver                        0x00000001024b79ec chromedriver + 506348\n",
      "16  chromedriver                        0x000000010281e558 chromedriver + 4072792\n",
      "17  chromedriver                        0x0000000102823004 chromedriver + 4091908\n",
      "18  chromedriver                        0x000000010280579c chromedriver + 3970972\n",
      "19  chromedriver                        0x00000001028238ec chromedriver + 4094188\n",
      "20  chromedriver                        0x00000001027f871c chromedriver + 3917596\n",
      "21  chromedriver                        0x0000000102840b50 chromedriver + 4213584\n",
      "22  chromedriver                        0x0000000102840ccc chromedriver + 4213964\n",
      "23  chromedriver                        0x000000010284ea50 chromedriver + 4270672\n",
      "24  libsystem_pthread.dylib             0x000000018c497034 _pthread_start + 136\n",
      "25  libsystem_pthread.dylib             0x000000018c491e3c thread_start + 8\n",
      "\n",
      "WebDriverException: Message: unknown error: net::ERR_NAME_NOT_RESOLVED\n",
      "  (Session info: chrome=125.0.6422.77)\n",
      "Stacktrace:\n",
      "0   chromedriver                        0x0000000102856510 chromedriver + 4302096\n",
      "1   chromedriver                        0x000000010284ee58 chromedriver + 4271704\n",
      "2   chromedriver                        0x000000010248019c chromedriver + 278940\n",
      "3   chromedriver                        0x0000000102479510 chromedriver + 251152\n",
      "4   chromedriver                        0x000000010246b120 chromedriver + 192800\n",
      "5   chromedriver                        0x000000010246c480 chromedriver + 197760\n",
      "6   chromedriver                        0x000000010246b43c chromedriver + 193596\n",
      "7   chromedriver                        0x000000010246aad0 chromedriver + 191184\n",
      "8   chromedriver                        0x000000010246aa7c chromedriver + 191100\n",
      "9   chromedriver                        0x000000010246885c chromedriver + 182364\n",
      "10  chromedriver                        0x00000001024691dc chromedriver + 184796\n",
      "11  chromedriver                        0x0000000102482730 chromedriver + 288560\n",
      "12  chromedriver                        0x00000001024fb400 chromedriver + 783360\n",
      "13  chromedriver                        0x00000001024fac5c chromedriver + 781404\n",
      "14  chromedriver                        0x00000001024b7004 chromedriver + 503812\n",
      "15  chromedriver                        0x00000001024b79ec chromedriver + 506348\n",
      "16  chromedriver                        0x000000010281e558 chromedriver + 4072792\n",
      "17  chromedriver                        0x0000000102823004 chromedriver + 4091908\n",
      "18  chromedriver                        0x000000010280579c chromedriver + 3970972\n",
      "19  chromedriver                        0x00000001028238ec chromedriver + 4094188\n",
      "20  chromedriver                        0x00000001027f871c chromedriver + 3917596\n",
      "21  chromedriver                        0x0000000102840b50 chromedriver + 4213584\n",
      "22  chromedriver                        0x0000000102840ccc chromedriver + 4213964\n",
      "23  chromedriver                        0x000000010284ea50 chromedriver + 4270672\n",
      "24  libsystem_pthread.dylib             0x000000018c497034 _pthread_start + 136\n",
      "25  libsystem_pthread.dylib             0x000000018c491e3c thread_start + 8\n",
      "\n"
     ]
    }
   ],
   "source": [
    "scr.process()"
   ]
  },
  {
   "cell_type": "code",
   "execution_count": 34,
   "id": "ff249c86-0fae-468e-923a-51dbe5255b0a",
   "metadata": {
    "execution": {
     "iopub.execute_input": "2024-05-26T09:00:31.156953Z",
     "iopub.status.busy": "2024-05-26T09:00:31.156245Z",
     "iopub.status.idle": "2024-05-26T09:00:31.184018Z",
     "shell.execute_reply": "2024-05-26T09:00:31.183708Z",
     "shell.execute_reply.started": "2024-05-26T09:00:31.156909Z"
    }
   },
   "outputs": [
    {
     "name": "stdout",
     "output_type": "stream",
     "text": [
      "<class 'pandas.core.frame.DataFrame'>\n",
      "RangeIndex: 137 entries, 0 to 136\n",
      "Data columns (total 17 columns):\n",
      " #   Column         Non-Null Count  Dtype  \n",
      "---  ------         --------------  -----  \n",
      " 0   범죄 유형          0 non-null      float64\n",
      " 1   지역             0 non-null      float64\n",
      " 2   위도             0 non-null      float64\n",
      " 3   경도             0 non-null      float64\n",
      " 4   중복 여부          0 non-null      float64\n",
      " 5   퀄리티            0 non-null      float64\n",
      " 6   제외 여부          0 non-null      float64\n",
      " 7   기사제목           137 non-null    object \n",
      " 8   사건 장소          119 non-null    object \n",
      " 9   수사 기관          137 non-null    object \n",
      " 10  본문             137 non-null    object \n",
      " 11  URL            101 non-null    object \n",
      " 12  일자             137 non-null    int64  \n",
      " 13  언론사            137 non-null    object \n",
      " 14  기고자            111 non-null    object \n",
      " 15  비고             0 non-null      float64\n",
      " 16  selenium_html  137 non-null    object \n",
      "dtypes: float64(8), int64(1), object(8)\n",
      "memory usage: 18.3+ KB\n"
     ]
    }
   ],
   "source": [
    "scr.df.info()"
   ]
  },
  {
   "cell_type": "code",
   "execution_count": null,
   "id": "7b30e98b-c40e-4a1a-8dc2-7799877bad16",
   "metadata": {},
   "outputs": [],
   "source": []
  },
  {
   "cell_type": "code",
   "execution_count": null,
   "id": "acc24f7a-cfc1-4b7d-b45c-6ab4465b08a6",
   "metadata": {},
   "outputs": [],
   "source": []
  },
  {
   "cell_type": "code",
   "execution_count": null,
   "id": "7768672b-7c59-49c8-93ea-7c193bb4df3a",
   "metadata": {},
   "outputs": [],
   "source": []
  },
  {
   "cell_type": "code",
   "execution_count": null,
   "id": "4b77a498-4fd5-4d03-b556-1e4cffdd0131",
   "metadata": {},
   "outputs": [],
   "source": []
  },
  {
   "cell_type": "code",
   "execution_count": null,
   "id": "fd177f25-b893-4662-b2f7-23a0726f0f83",
   "metadata": {},
   "outputs": [],
   "source": []
  },
  {
   "cell_type": "markdown",
   "id": "613e0d65-75ec-4681-b70e-64576b87fda4",
   "metadata": {},
   "source": [
    "# end"
   ]
  }
 ],
 "metadata": {
  "kernelspec": {
   "display_name": "Python 3 (ipykernel)",
   "language": "python",
   "name": "python3"
  },
  "language_info": {
   "codemirror_mode": {
    "name": "ipython",
    "version": 3
   },
   "file_extension": ".py",
   "mimetype": "text/x-python",
   "name": "python",
   "nbconvert_exporter": "python",
   "pygments_lexer": "ipython3",
   "version": "3.11.0"
  }
 },
 "nbformat": 4,
 "nbformat_minor": 5
}
