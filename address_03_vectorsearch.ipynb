{
 "cells": [
  {
   "cell_type": "code",
   "execution_count": null,
   "id": "150fa709-dbd1-494d-a75f-71b85b630357",
   "metadata": {},
   "outputs": [],
   "source": []
  },
  {
   "cell_type": "markdown",
   "id": "35108a72-970d-4654-bad2-c06bc46d6abb",
   "metadata": {},
   "source": [
    "## Vector Search"
   ]
  },
  {
   "cell_type": "markdown",
   "id": "005b1e0d-bfca-4ac9-aeae-6a1ec9d99881",
   "metadata": {},
   "source": [
    "### all-MiniLM-L6-v2"
   ]
  },
  {
   "cell_type": "code",
   "execution_count": 18,
   "id": "c531f6a0-00ff-46fc-9347-9629955852d1",
   "metadata": {
    "execution": {
     "iopub.execute_input": "2024-04-07T07:40:50.152497Z",
     "iopub.status.busy": "2024-04-07T07:40:50.151593Z",
     "iopub.status.idle": "2024-04-07T07:40:50.732542Z",
     "shell.execute_reply": "2024-04-07T07:40:50.732129Z",
     "shell.execute_reply.started": "2024-04-07T07:40:50.152466Z"
    }
   },
   "outputs": [],
   "source": [
    "from langchain import FAISS\n",
    "import pandas as pd\n",
    "import numpy as np\n",
    "import os\n",
    "import time\n",
    "import pickle"
   ]
  },
  {
   "cell_type": "code",
   "execution_count": 19,
   "id": "20ba5c67-388a-483e-aaa7-3029d7d0fc92",
   "metadata": {
    "collapsed": true,
    "execution": {
     "iopub.execute_input": "2024-04-07T07:40:54.107756Z",
     "iopub.status.busy": "2024-04-07T07:40:54.107109Z",
     "iopub.status.idle": "2024-04-07T07:41:34.581858Z",
     "shell.execute_reply": "2024-04-07T07:41:34.579239Z",
     "shell.execute_reply.started": "2024-04-07T07:40:54.107709Z"
    },
    "jupyter": {
     "outputs_hidden": true
    },
    "scrolled": true
   },
   "outputs": [
    {
     "data": {
      "application/vnd.jupyter.widget-view+json": {
       "model_id": "988582211c024111a5c3aa97d2b0c93f",
       "version_major": 2,
       "version_minor": 0
      },
      "text/plain": [
       "modules.json:   0%|          | 0.00/349 [00:00<?, ?B/s]"
      ]
     },
     "metadata": {},
     "output_type": "display_data"
    },
    {
     "data": {
      "application/vnd.jupyter.widget-view+json": {
       "model_id": "c20b1883d67b4ed0bfd86af1d200194a",
       "version_major": 2,
       "version_minor": 0
      },
      "text/plain": [
       "config_sentence_transformers.json:   0%|          | 0.00/116 [00:00<?, ?B/s]"
      ]
     },
     "metadata": {},
     "output_type": "display_data"
    },
    {
     "data": {
      "application/vnd.jupyter.widget-view+json": {
       "model_id": "5a32e934d2964b9f921b1bd98c039af5",
       "version_major": 2,
       "version_minor": 0
      },
      "text/plain": [
       "README.md:   0%|          | 0.00/10.7k [00:00<?, ?B/s]"
      ]
     },
     "metadata": {},
     "output_type": "display_data"
    },
    {
     "data": {
      "application/vnd.jupyter.widget-view+json": {
       "model_id": "172181f2b4c64bab92837cd28bfd315e",
       "version_major": 2,
       "version_minor": 0
      },
      "text/plain": [
       "sentence_bert_config.json:   0%|          | 0.00/53.0 [00:00<?, ?B/s]"
      ]
     },
     "metadata": {},
     "output_type": "display_data"
    },
    {
     "data": {
      "application/vnd.jupyter.widget-view+json": {
       "model_id": "ed16ee68236c491a89176916d17cbae3",
       "version_major": 2,
       "version_minor": 0
      },
      "text/plain": [
       "config.json:   0%|          | 0.00/612 [00:00<?, ?B/s]"
      ]
     },
     "metadata": {},
     "output_type": "display_data"
    },
    {
     "data": {
      "application/vnd.jupyter.widget-view+json": {
       "model_id": "e9309c8ef73d4d66acf90812fccbe72d",
       "version_major": 2,
       "version_minor": 0
      },
      "text/plain": [
       "model.safetensors:   0%|          | 0.00/90.9M [00:00<?, ?B/s]"
      ]
     },
     "metadata": {},
     "output_type": "display_data"
    },
    {
     "data": {
      "application/vnd.jupyter.widget-view+json": {
       "model_id": "7dec2806a42b46aca96c7a49fcb634e2",
       "version_major": 2,
       "version_minor": 0
      },
      "text/plain": [
       "tokenizer_config.json:   0%|          | 0.00/350 [00:00<?, ?B/s]"
      ]
     },
     "metadata": {},
     "output_type": "display_data"
    },
    {
     "data": {
      "application/vnd.jupyter.widget-view+json": {
       "model_id": "b7ee226a0208414eb63fc4fc34204a27",
       "version_major": 2,
       "version_minor": 0
      },
      "text/plain": [
       "vocab.txt:   0%|          | 0.00/232k [00:00<?, ?B/s]"
      ]
     },
     "metadata": {},
     "output_type": "display_data"
    },
    {
     "data": {
      "application/vnd.jupyter.widget-view+json": {
       "model_id": "c0366c124e0f4d80b1fa1cb11680e3d0",
       "version_major": 2,
       "version_minor": 0
      },
      "text/plain": [
       "tokenizer.json:   0%|          | 0.00/466k [00:00<?, ?B/s]"
      ]
     },
     "metadata": {},
     "output_type": "display_data"
    },
    {
     "data": {
      "application/vnd.jupyter.widget-view+json": {
       "model_id": "77f0aec8194d407fac8730b9ef8a39b8",
       "version_major": 2,
       "version_minor": 0
      },
      "text/plain": [
       "special_tokens_map.json:   0%|          | 0.00/112 [00:00<?, ?B/s]"
      ]
     },
     "metadata": {},
     "output_type": "display_data"
    },
    {
     "data": {
      "application/vnd.jupyter.widget-view+json": {
       "model_id": "6d092ab4b04841a2805cad5be3a1d2d6",
       "version_major": 2,
       "version_minor": 0
      },
      "text/plain": [
       "1_Pooling/config.json:   0%|          | 0.00/190 [00:00<?, ?B/s]"
      ]
     },
     "metadata": {},
     "output_type": "display_data"
    }
   ],
   "source": [
    "from langchain.embeddings import SentenceTransformerEmbeddings\n",
    "embedding_function = SentenceTransformerEmbeddings(model_name=\"all-MiniLM-L6-v2\")"
   ]
  },
  {
   "cell_type": "code",
   "execution_count": 23,
   "id": "c46a6869-5652-4dd1-a259-1dd3e5c7fde0",
   "metadata": {
    "execution": {
     "iopub.execute_input": "2024-04-07T07:42:54.327925Z",
     "iopub.status.busy": "2024-04-07T07:42:54.323116Z",
     "iopub.status.idle": "2024-04-07T07:42:54.343651Z",
     "shell.execute_reply": "2024-04-07T07:42:54.342856Z",
     "shell.execute_reply.started": "2024-04-07T07:42:54.327468Z"
    }
   },
   "outputs": [],
   "source": [
    "from langchain_community.embeddings import OllamaEmbeddings\n",
    "embeddings = OllamaEmbeddings(model=\"gemma:2b\")"
   ]
  },
  {
   "cell_type": "code",
   "execution_count": 177,
   "id": "19953c39-2331-4d9d-84c6-c286cb920743",
   "metadata": {
    "collapsed": true,
    "execution": {
     "iopub.execute_input": "2024-03-23T13:20:26.441049Z",
     "iopub.status.busy": "2024-03-23T13:20:26.439426Z",
     "iopub.status.idle": "2024-03-23T13:20:26.453921Z",
     "shell.execute_reply": "2024-03-23T13:20:26.452987Z",
     "shell.execute_reply.started": "2024-03-23T13:20:26.441013Z"
    },
    "jupyter": {
     "outputs_hidden": true
    },
    "scrolled": true
   },
   "outputs": [
    {
     "name": "stdout",
     "output_type": "stream",
     "text": [
      " 0\n",
      "\n",
      "여러분이 생각하는 4.10 총선 핵심 의제는?\n",
      "\n",
      "2024년 총선이 한 달도 채 남지 않았습니다.국회의원 선거는 단순한 정치적 이익을 넘어국민의 삶을 실질적으로 개선하는정책 공약의 경연장이 되어야 할 텐데요.이에 현실성 있고 효과적인 의제들이 더욱 많이 다뤄지길 바라는 유권자들의 목소리가 큽니다.그렇다면 여러분이 생각하기에 가장 중요하다고 생각되는 핵심 의제는 무엇인가요?\n",
      "\n",
      "투표기간 : 2024-03-18 ~ 2024-04-09\n",
      "                                         \n",
      "투표하러 가기\n",
      " 1\n",
      "  이준석 기자\n",
      " \n",
      "\n",
      "[파이낸셜뉴스] 길거리에서 9살 초등학생을 성추행한 70대 남성이 경찰에 붙잡혔다. 이 남성은 피해 아동의 아버지에게 붙잡혀 현행범으로 체포됐다.\n",
      "\n",
      "14일 경찰에 따르면 서울경찰청 여성청소년범죄수사대는 전날 성폭력범죄의 처벌 등에 관한 특례법(성폭력처벌법) 위반 혐의로 70대 남성 A씨에 대한 구속영장을 신청했다고 밝혔다.\n",
      "\n",
      "A씨는 지난 12일 오후 8시30분께 서울 동작구의 한 길거리에서 9살 여자 초등학생을 불러 세운 뒤 신체 등을 만진 혐의를 받는다.\n",
      "\n",
      "피해 아동은 자신의 피해 사실을 아버지인 B씨에게 알렸다.\n",
      " 이러한 사실을 알게 된 B씨는 직접 A씨를 붙잡은 것으로 전해졌다.\n",
      "\n",
      "B씨에게 붙잡힌 A씨는 출동한 경찰에 의해 현행범으로 체포됐다.\n",
      "\n",
      "경찰 관계자는 \"구체적인 내용은 확인이 어렵다\"면서도 \"(A씨에 대한) 구속영장을 신청한 건 맞다\"고 전했다.\n",
      "\n",
      "newssu@fnnews.com 김수연 기자 \n",
      " 2\n",
      "발아픈사람이야기족저근막염 극복한 딱 1가지 방법족저근막염 때문에 폐업까지 하게 된 남자가 이 방법을 알고 족저근막염을 극복하게 되는데...발아픈사람이야기|SponsoredSponsored더 알아보기돌아가기신(新) 의료기술 등재 - 자가골수 줄기세포 치료무릎통증 \"줄기세포\" 치료, 수술없이 당일 일상복귀가능신(新) 의료기술 등재 - 자가골수 줄기세포 치료|SponsoredSponsored더 알아보기돌아가기공동투자그룹(국내 트레이딩)주식  매수, 매도 타이밍(전문 주식 트레이더 종목 선정 이번주만 무료)공동투자그룹(국내 트레이딩)|SponsoredSponsored더 알아보기돌아가기Navy.Quest마우스가 있다면 밤새워 즐기게 되는 게임. 설치 없이 바로 실행. 무료로 플레이.Navy.Quest|SponsoredSponsored돌아가기Mech Arena- Free to Play마우스 하나로 밤새는 게임!실시간 5대5 메카닉 대전Mech Arena- Free to Play|SponsoredSponsored다운로드돌아가기오직팩트만관절마다 붓고 아프다면 \"이것\" 결핍 의심알아야 건강할 수 있습니다.오직팩트만|SponsoredSponsored더 알아보기돌아가기새벽 공원 벤치서 웅크린 채 잠든 여학생...지켜본 시민의 행동 [따뜻했슈]파이낸셜뉴스돌아가기여친 190번 찔러 살해한 동거남, 이름·신상공개됐다파이낸셜뉴스돌아가기\n",
      " 3\n",
      "\n",
      "울아들램사랑해해외 논문으로 검증된 아동 주의력결핍에 효과적인 1가지 방법 공개울아들램사랑해|SponsoredSponsored더 알아보기돌아가기연세힐치과의원임플란트 1개부터, 전체 임플란트!연세힐치과의원|SponsoredSponsored돌아가기연세힐치과의원전체 임플란트 해야 하는데 부담된다면?연세힐치과의원|SponsoredSponsored돌아가기JUVIS34kg 감량된 내 모습을보니 월 16만원이 전혀 아깝지 않았어요JUVIS|SponsoredSponsored돌아가기울아들램사랑해ADHD 카페에서 난리난 ADHD 개선법 1가지울아들램사랑해|SponsoredSponsored더 알아보기돌아가기Rg3 더루트\"면역력, 혈압\" 결정짓는 \"이 성분\"을 가득 담아.. 카이스트 개발 화제!Rg3 더루트|SponsoredSponsored돌아가기강남애프터치과전체임플란트 필요하신 분이라면?대한치과의사협회 의료광고 심의필 제231127-중-28744호강남애프터치과|SponsoredSponsored가격 받기돌아가기원데이 임플란트빠진 치아가 많나요? 전체 임플란트로 치료하세요전체 임플란트, 의식하진정법 강남역 11번 출구, 원데이치과의원원데이 임플란트|SponsoredSponsored더 알아보기돌아가기임플란트국산 임플란트 개당 \"35만원\" 특가 이벤트!공중파 방송에서 인정한 의료진! 지르코니아+맞춤형지대주 포함 금액!임플란트|SponsoredSponsored더 알아보기돌아가기장덕한방병원어깨통증 수술없이 당일치료하세요30년 양한방 비수술 치료 노하우로 어깨통증 근본원인부터 해결합니다.장덕한방병원|SponsoredSponsored더 알아보기돌아가기신(新) 의료기술 등재 - 자가골수 줄기세포 치료\"자가골수 줄기세포\" 신 의료기술 등재! 수술없이 치료가능신(新) 의료기술 등재 - 자가골수 줄기세포 치료|SponsoredSponsored더 알아보기돌아가기Rg3 더루트\"혈액순환 잘되네요\" 손발저림까지 싹~'이것', 하루 1번이면 된다!카이스트 박사가 24년간 연구한 특이사포닌 Rg3 성분을 120배 담은 특허홍삼Rg3 더루트|SponsoredSponsored돌아가기82% 재구매율의 키성장 1위 20관왕15살 딸, 엄마 키 훌쩍 넘겨 167까지 쑥~ 키성장에 면역력까지 잡는 '이것'82%의 압도적인 재구매율, 79만 부모님들의 선택, 5년 연속 키성장 1위 수상 기념 이벤트 진행중82% 재구매율의 키성장 1위 20관왕|SponsoredSponsored더 알아보기돌아가기\n",
      " 4\n",
      "\n",
      "'\n",
      "                           \n",
      "'\n",
      "                       \n",
      "'\n",
      "                   '조폭응징' 유튜버, 보복 폭행했던 조직폭력배 숨진 채 발견[파이낸셜뉴스]  조직폭력배를 저격하는 내용의 방송을 진행한 유튜버를 보복 폭..파이낸셜뉴스돌아가기울아들램사랑해해외 논문으로 검증된 아동 주의력결핍에 효과적인 1가지 방법 공개울아들램사랑해|SponsoredSponsored더 알아보기돌아가기연세힐치과의원임플란트 1개부터, 전체 임플란트!연세힐치과의원|SponsoredSponsored돌아가기새미래 이석현, 강북을 출사표…[파이낸셜뉴스] 새로운미래 고문인 이석현 전 국회부의장이 22일파이낸셜뉴스돌아가기\"아름다운 동행\"...대한항공 前여승무원동우회 KASA, 서울역서 급식 봉사 - 파이낸셜뉴스[파이낸셜뉴스] 대한항공 전직 여승무원 동우회인 카사(KASA)는 지난 21일 서울시 용산구 서울역 무료급식소인 '따스한채움터'에서 봉사활동을 펼쳤다고 22일 밝혔다. 취약계층 무료급식 제공을 위해 진행된 이날 봉사활동에서는 컵과일과 양말 등의 물품기부와 배식, 서빙 봉사 등도 함께 이뤄졌다. 봉사활동 중에는 8명의 회원들로 구성된 카..파이낸셜뉴스돌아가기'조수진 리스크’ 제거한 민주…박용진은 끝내 '비명횡사'[2024 총선][파이낸셜뉴스] 성범죄자 변호 이력으로 논란이 됐던 조수진 변호사가 서울 강북을 후보에서 사퇴하면서 더불어민주당이 부담을 한결 내려놓게 됐다. 다시금 공석이 된 강북을에는 '친명계' 한민수 대변인이 공천됐다. 각종 우여곡절 끝에 민주당이 한 대변인을 공천했으나 일각에서는 사천 문제와 함께 총선 이후 갈등의 새로운 씨앗이 될 것이라는 예측..파이낸셜뉴스돌아가기'7살 제자 일가족 몰살' 혐의 태권도 관장, 모든 것이 거짓 \"아내도 당했다\"[파이낸셜뉴스]  지난달 호주 시드니에서 한인 일가족 3명을 살해한 혐의를 받는 태권도 관장의 만행이 드러났다. 17일 SBS ‘그것이 알고 싶다’에 따르면 지난달 20일 시드니 노스 파라마타 지역의 한 태권도장에 다니던 아이와 엄마가 태권도장에서 숨져 있었고, 아이의 아빠도 자기 집에서 사망한 채 발견됐다.용의자로 지목된 이는 아이가 다니..파이낸셜뉴스돌아가기\"수십명 달려들어 파냈지만\"..플로리다 해변 모래더미에 묻힌 7세 소녀 - 파이낸셜뉴스[파이낸셜뉴스]  가족과 함께 해변에서 모래놀이를 하던 7살 여자 어린이가 모래 구덩이에 갇혀 사망하는 사고가 발생했다. 22일(현지시간) 뉴욕포스트에 따르면 전날 오후 3시쯤 미국 플로리다주 해변에서 인디애나주 출신 살 7여아 슬론 매팅리와 9살 남아 매덕스 매팅리가 모래사장에서 구덩이를 파며 놀던 중 돌연 사라졌다.남매가 앉아 있던 바..파이낸셜뉴스돌아가기연세힐치과의원전체 임플란트 해야 하는데 부담된다면?연세힐치과의원|SponsoredSponsored돌아가기JUVIS34kg 감량된 내 모습을보니 월 16만원이 전혀 아깝지 않았어요JUVIS|SponsoredSponsored돌아가기\"밥맛 없다, 저리가라\" 계양 식당서 욕먹은 원희룡·이천수가 한 말..[파이낸셜뉴스]  국민의힘 인천 계양을 후보인 원희룡 전 국토교통부 장관이 선..파이낸셜뉴스돌아가기새벽 공원 벤치서 웅크린 채 잠든 여학생...지켜본 시민의 행동 [따뜻했슈][파이낸셜뉴스]  늦은 밤 공원 벤치에서 잠든 여학생을 발견, 경찰에 신고한 뒤 멀리서 지켜본 시민의 선행이 알려져 화제다.A씨는 지난 21일 온라인 커뮤니티 '보배드림'을 통해 자신이 겪은 일을 전했다.그는파이낸셜뉴스돌아가기\n"
     ]
    }
   ],
   "source": [
    "for index, item in enumerate(res_sort[-5:]):\n",
    "    print(f'{index:2}\\n{item}')"
   ]
  },
  {
   "cell_type": "code",
   "execution_count": 178,
   "id": "c371fdc9-8c10-4947-8de7-b3af832778f9",
   "metadata": {
    "execution": {
     "iopub.execute_input": "2024-03-23T13:21:42.416490Z",
     "iopub.status.busy": "2024-03-23T13:21:42.413450Z",
     "iopub.status.idle": "2024-03-23T13:21:42.439862Z",
     "shell.execute_reply": "2024-03-23T13:21:42.439182Z",
     "shell.execute_reply.started": "2024-03-23T13:21:42.416465Z"
    }
   },
   "outputs": [],
   "source": [
    "docs = res_sort[-5:]"
   ]
  },
  {
   "cell_type": "code",
   "execution_count": 174,
   "id": "988a20d9-6af6-432a-b286-d14fd6152bd2",
   "metadata": {
    "execution": {
     "iopub.execute_input": "2024-03-23T13:18:27.183285Z",
     "iopub.status.busy": "2024-03-23T13:18:27.178546Z",
     "iopub.status.idle": "2024-03-23T13:18:27.205179Z",
     "shell.execute_reply": "2024-03-23T13:18:27.204836Z",
     "shell.execute_reply.started": "2024-03-23T13:18:27.183246Z"
    }
   },
   "outputs": [],
   "source": [
    "start=time.time()\n",
    "metadatas = []\n",
    "for index, row in enumerate(docs):\n",
    "    doc_meta = {\n",
    "        \"id\": index,\n",
    "        \"text\": row\n",
    "    }\n",
    "    metadatas.append(doc_meta)"
   ]
  },
  {
   "cell_type": "markdown",
   "id": "4e91649a-93db-4baa-93a4-1ea5b6b817aa",
   "metadata": {},
   "source": [
    "#### faiss from texts"
   ]
  },
  {
   "cell_type": "code",
   "execution_count": 179,
   "id": "ac969110-41dc-4d16-a98e-2817a6c1068a",
   "metadata": {
    "execution": {
     "iopub.execute_input": "2024-03-23T13:22:04.147084Z",
     "iopub.status.busy": "2024-03-23T13:22:04.145449Z",
     "iopub.status.idle": "2024-03-23T13:22:04.698915Z",
     "shell.execute_reply": "2024-03-23T13:22:04.698442Z",
     "shell.execute_reply.started": "2024-03-23T13:22:04.147056Z"
    },
    "scrolled": true
   },
   "outputs": [
    {
     "name": "stdout",
     "output_type": "stream",
     "text": [
      "Time Taken -->  217.49275588989258\n"
     ]
    }
   ],
   "source": [
    "faiss = FAISS.from_texts(docs, embedding_function, metadatas)\n",
    "# faiss = FAISS.from_texts(res_sort, embeddings, metadatas)\n",
    "print(\"Time Taken --> \", time.time()-start) "
   ]
  },
  {
   "cell_type": "code",
   "execution_count": 180,
   "id": "7eebb0c1-cc71-4143-955a-0a1b8d238e32",
   "metadata": {
    "execution": {
     "iopub.execute_input": "2024-03-23T13:22:07.787512Z",
     "iopub.status.busy": "2024-03-23T13:22:07.785217Z",
     "iopub.status.idle": "2024-03-23T13:22:07.794559Z",
     "shell.execute_reply": "2024-03-23T13:22:07.793667Z",
     "shell.execute_reply.started": "2024-03-23T13:22:07.787484Z"
    }
   },
   "outputs": [],
   "source": [
    "faiss_dirname = \"./langchain_faiss\"\n",
    "faiss_filename = \"default_na_content_index3\"\n",
    "# faiss_filename = \"gemma_2b_na_content_index3\""
   ]
  },
  {
   "cell_type": "code",
   "execution_count": 181,
   "id": "8e731d60-2b91-4920-a596-d709e309c7ac",
   "metadata": {
    "execution": {
     "iopub.execute_input": "2024-03-23T13:22:09.892418Z",
     "iopub.status.busy": "2024-03-23T13:22:09.891131Z",
     "iopub.status.idle": "2024-03-23T13:22:09.972536Z",
     "shell.execute_reply": "2024-03-23T13:22:09.971645Z",
     "shell.execute_reply.started": "2024-03-23T13:22:09.892390Z"
    }
   },
   "outputs": [],
   "source": [
    "faiss.save_local(faiss_dirname, faiss_filename)\n",
    "loaded_faiss = faiss.load_local(faiss_dirname, embedding_function, faiss_filename)"
   ]
  },
  {
   "cell_type": "code",
   "execution_count": 186,
   "id": "b67fbb61-bf39-4032-ab70-9a5db60be097",
   "metadata": {
    "execution": {
     "iopub.execute_input": "2024-03-23T13:24:34.285382Z",
     "iopub.status.busy": "2024-03-23T13:24:34.284164Z",
     "iopub.status.idle": "2024-03-23T13:24:34.295664Z",
     "shell.execute_reply": "2024-03-23T13:24:34.294980Z",
     "shell.execute_reply.started": "2024-03-23T13:24:34.285345Z"
    }
   },
   "outputs": [
    {
     "data": {
      "text/plain": [
       "'길거리서 9살 초등생 성추행한 70대男, 아빠가 잡았다 - 파이낸셜뉴스'"
      ]
     },
     "execution_count": 186,
     "metadata": {},
     "output_type": "execute_result"
    }
   ],
   "source": [
    "res_title"
   ]
  },
  {
   "cell_type": "markdown",
   "id": "74151e68-8f4e-41a1-a754-09524f9087ee",
   "metadata": {},
   "source": [
    "#### faiss from text"
   ]
  },
  {
   "cell_type": "code",
   "execution_count": 24,
   "id": "c3035d16-1736-4875-be94-1f4ebcd9382a",
   "metadata": {
    "execution": {
     "iopub.execute_input": "2024-04-07T07:44:19.957341Z",
     "iopub.status.busy": "2024-04-07T07:44:19.953362Z",
     "iopub.status.idle": "2024-04-07T07:44:24.775668Z",
     "shell.execute_reply": "2024-04-07T07:44:24.775145Z",
     "shell.execute_reply.started": "2024-04-07T07:44:19.957259Z"
    }
   },
   "outputs": [],
   "source": [
    "faiss = FAISS.from_texts(text, embedding_function)"
   ]
  },
  {
   "cell_type": "code",
   "execution_count": 25,
   "id": "4bc64577-30e6-4e25-97a4-5b1502e12265",
   "metadata": {
    "execution": {
     "iopub.execute_input": "2024-04-07T07:45:00.843181Z",
     "iopub.status.busy": "2024-04-07T07:45:00.837432Z",
     "iopub.status.idle": "2024-04-07T07:45:00.855775Z",
     "shell.execute_reply": "2024-04-07T07:45:00.854953Z",
     "shell.execute_reply.started": "2024-04-07T07:45:00.843125Z"
    }
   },
   "outputs": [],
   "source": [
    "faiss_dirname = \"./langchain_faiss\"\n",
    "faiss_filename = \"default_na_content_index3\""
   ]
  },
  {
   "cell_type": "markdown",
   "id": "19d19a57-b0b5-4ec5-8b7f-8cecead810f0",
   "metadata": {},
   "source": [
    "#### similarity search with score"
   ]
  },
  {
   "cell_type": "code",
   "execution_count": 184,
   "id": "cb6835ca-86ee-4870-a055-336a363d16f0",
   "metadata": {
    "execution": {
     "iopub.execute_input": "2024-03-23T13:23:34.022542Z",
     "iopub.status.busy": "2024-03-23T13:23:34.020949Z",
     "iopub.status.idle": "2024-03-23T13:23:34.181209Z",
     "shell.execute_reply": "2024-03-23T13:23:34.180866Z",
     "shell.execute_reply.started": "2024-03-23T13:23:34.022516Z"
    },
    "scrolled": true
   },
   "outputs": [],
   "source": [
    "start=time.time()\n",
    "res_score = loaded_faiss.similarity_search_with_score(res_title, 3)"
   ]
  },
  {
   "cell_type": "code",
   "execution_count": 185,
   "id": "169cc1e3-03a7-41e9-8ac0-53479ff5b2b5",
   "metadata": {
    "execution": {
     "iopub.execute_input": "2024-03-23T13:23:41.387414Z",
     "iopub.status.busy": "2024-03-23T13:23:41.384661Z",
     "iopub.status.idle": "2024-03-23T13:23:41.446547Z",
     "shell.execute_reply": "2024-03-23T13:23:41.445759Z",
     "shell.execute_reply.started": "2024-03-23T13:23:41.387360Z"
    },
    "scrolled": true
   },
   "outputs": [
    {
     "data": {
      "text/plain": [
       "[(Document(page_content='\\n여러분이 생각하는 4.10 총선 핵심 의제는?\\n\\n2024년 총선이 한 달도 채 남지 않았습니다.국회의원 선거는 단순한 정치적 이익을 넘어국민의 삶을 실질적으로 개선하는정책 공약의 경연장이 되어야 할 텐데요.이에 현실성 있고 효과적인 의제들이 더욱 많이 다뤄지길 바라는 유권자들의 목소리가 큽니다.그렇다면 여러분이 생각하기에 가장 중요하다고 생각되는 핵심 의제는 무엇인가요?\\n\\n투표기간 : 2024-03-18 ~ 2024-04-09\\n                                         \\n투표하러 가기', metadata={'id': 0, 'text': '\\n여러분이 생각하는 4.10 총선 핵심 의제는?\\n\\n2024년 총선이 한 달도 채 남지 않았습니다.국회의원 선거는 단순한 정치적 이익을 넘어국민의 삶을 실질적으로 개선하는정책 공약의 경연장이 되어야 할 텐데요.이에 현실성 있고 효과적인 의제들이 더욱 많이 다뤄지길 바라는 유권자들의 목소리가 큽니다.그렇다면 여러분이 생각하기에 가장 중요하다고 생각되는 핵심 의제는 무엇인가요?\\n\\n투표기간 : 2024-03-18 ~ 2024-04-09\\n                                         \\n투표하러 가기'}),\n",
       "  1.1096843),\n",
       " (Document(page_content='  이준석 기자\\n \\n\\n[파이낸셜뉴스] 길거리에서 9살 초등학생을 성추행한 70대 남성이 경찰에 붙잡혔다. 이 남성은 피해 아동의 아버지에게 붙잡혀 현행범으로 체포됐다.\\n\\n14일 경찰에 따르면 서울경찰청 여성청소년범죄수사대는 전날 성폭력범죄의 처벌 등에 관한 특례법(성폭력처벌법) 위반 혐의로 70대 남성 A씨에 대한 구속영장을 신청했다고 밝혔다.\\n\\nA씨는 지난 12일 오후 8시30분께 서울 동작구의 한 길거리에서 9살 여자 초등학생을 불러 세운 뒤 신체 등을 만진 혐의를 받는다.\\n\\n피해 아동은 자신의 피해 사실을 아버지인 B씨에게 알렸다.\\n 이러한 사실을 알게 된 B씨는 직접 A씨를 붙잡은 것으로 전해졌다.\\n\\nB씨에게 붙잡힌 A씨는 출동한 경찰에 의해 현행범으로 체포됐다.\\n\\n경찰 관계자는 \"구체적인 내용은 확인이 어렵다\"면서도 \"(A씨에 대한) 구속영장을 신청한 건 맞다\"고 전했다.\\n\\nnewssu@fnnews.com 김수연 기자 ', metadata={'id': 1, 'text': '  이준석 기자\\n \\n\\n[파이낸셜뉴스] 길거리에서 9살 초등학생을 성추행한 70대 남성이 경찰에 붙잡혔다. 이 남성은 피해 아동의 아버지에게 붙잡혀 현행범으로 체포됐다.\\n\\n14일 경찰에 따르면 서울경찰청 여성청소년범죄수사대는 전날 성폭력범죄의 처벌 등에 관한 특례법(성폭력처벌법) 위반 혐의로 70대 남성 A씨에 대한 구속영장을 신청했다고 밝혔다.\\n\\nA씨는 지난 12일 오후 8시30분께 서울 동작구의 한 길거리에서 9살 여자 초등학생을 불러 세운 뒤 신체 등을 만진 혐의를 받는다.\\n\\n피해 아동은 자신의 피해 사실을 아버지인 B씨에게 알렸다.\\n 이러한 사실을 알게 된 B씨는 직접 A씨를 붙잡은 것으로 전해졌다.\\n\\nB씨에게 붙잡힌 A씨는 출동한 경찰에 의해 현행범으로 체포됐다.\\n\\n경찰 관계자는 \"구체적인 내용은 확인이 어렵다\"면서도 \"(A씨에 대한) 구속영장을 신청한 건 맞다\"고 전했다.\\n\\nnewssu@fnnews.com 김수연 기자 '}),\n",
       "  1.2283344),\n",
       " (Document(page_content='\\n\\'\\n                           \\n\\'\\n                       \\n\\'\\n                   \\'조폭응징\\' 유튜버, 보복 폭행했던 조직폭력배 숨진 채 발견[파이낸셜뉴스] \\xa0조직폭력배를 저격하는 내용의 방송을 진행한 유튜버를 보복 폭..파이낸셜뉴스돌아가기울아들램사랑해해외 논문으로 검증된 아동 주의력결핍에 효과적인 1가지 방법 공개울아들램사랑해|SponsoredSponsored더 알아보기돌아가기연세힐치과의원임플란트 1개부터, 전체 임플란트!연세힐치과의원|SponsoredSponsored돌아가기새미래 이석현, 강북을 출사표…[파이낸셜뉴스] 새로운미래 고문인 이석현 전 국회부의장이 22일파이낸셜뉴스돌아가기\"아름다운 동행\"...대한항공 前여승무원동우회 KASA, 서울역서 급식 봉사 - 파이낸셜뉴스[파이낸셜뉴스] 대한항공 전직 여승무원 동우회인 카사(KASA)는 지난 21일 서울시 용산구 서울역 무료급식소인 \\'따스한채움터\\'에서 봉사활동을 펼쳤다고 22일 밝혔다.\\xa0취약계층 무료급식 제공을 위해 진행된 이날 봉사활동에서는 컵과일과 양말 등의 물품기부와 배식, 서빙 봉사 등도 함께 이뤄졌다.\\xa0봉사활동 중에는 8명의 회원들로 구성된 카..파이낸셜뉴스돌아가기\\'조수진 리스크’ 제거한 민주…박용진은 끝내 \\'비명횡사\\'[2024 총선][파이낸셜뉴스] 성범죄자 변호 이력으로 논란이 됐던 조수진 변호사가 서울 강북을 후보에서 사퇴하면서 더불어민주당이 부담을 한결 내려놓게 됐다. 다시금 공석이 된 강북을에는 \\'친명계\\' 한민수 대변인이 공천됐다. 각종 우여곡절 끝에 민주당이 한 대변인을 공천했으나 일각에서는 사천 문제와 함께 총선 이후 갈등의 새로운 씨앗이 될 것이라는 예측..파이낸셜뉴스돌아가기\\'7살 제자 일가족 몰살\\' 혐의 태권도 관장, 모든 것이 거짓 \"아내도 당했다\"[파이낸셜뉴스] \\xa0지난달 호주 시드니에서 한인 일가족 3명을 살해한 혐의를 받는 태권도 관장의 만행이 드러났다. 17일 SBS ‘그것이 알고 싶다’에 따르면 지난달 20일 시드니 노스 파라마타 지역의 한 태권도장에 다니던 아이와 엄마가 태권도장에서 숨져 있었고, 아이의 아빠도 자기 집에서 사망한 채 발견됐다.용의자로 지목된 이는 아이가 다니..파이낸셜뉴스돌아가기\"수십명 달려들어 파냈지만\"..플로리다 해변 모래더미에 묻힌 7세 소녀 - 파이낸셜뉴스[파이낸셜뉴스] \\xa0가족과 함께 해변에서 모래놀이를 하던 7살 여자 어린이가 모래 구덩이에 갇혀 사망하는 사고가 발생했다. 22일(현지시간) 뉴욕포스트에 따르면 전날 오후 3시쯤 미국 플로리다주 해변에서 인디애나주 출신 살 7여아 슬론 매팅리와 9살 남아 매덕스 매팅리가 모래사장에서 구덩이를 파며 놀던 중 돌연 사라졌다.남매가 앉아 있던 바..파이낸셜뉴스돌아가기연세힐치과의원전체 임플란트 해야 하는데 부담된다면?연세힐치과의원|SponsoredSponsored돌아가기JUVIS34kg 감량된 내 모습을보니 월 16만원이 전혀 아깝지 않았어요JUVIS|SponsoredSponsored돌아가기\"밥맛 없다, 저리가라\" 계양 식당서 욕먹은 원희룡·이천수가 한 말..[파이낸셜뉴스] \\xa0국민의힘 인천 계양을 후보인 원희룡 전 국토교통부 장관이 선..파이낸셜뉴스돌아가기새벽 공원 벤치서 웅크린 채 잠든 여학생...지켜본 시민의 행동 [따뜻했슈][파이낸셜뉴스]\\xa0 늦은 밤 공원 벤치에서 잠든 여학생을 발견, 경찰에 신고한 뒤 멀리서 지켜본 시민의 선행이 알려져 화제다.A씨는 지난 21일 온라인 커뮤니티 \\'보배드림\\'을 통해 자신이 겪은 일을 전했다.그는파이낸셜뉴스돌아가기', metadata={'id': 4, 'text': '\\n\\'\\n                           \\n\\'\\n                       \\n\\'\\n                   \\'조폭응징\\' 유튜버, 보복 폭행했던 조직폭력배 숨진 채 발견[파이낸셜뉴스] \\xa0조직폭력배를 저격하는 내용의 방송을 진행한 유튜버를 보복 폭..파이낸셜뉴스돌아가기울아들램사랑해해외 논문으로 검증된 아동 주의력결핍에 효과적인 1가지 방법 공개울아들램사랑해|SponsoredSponsored더 알아보기돌아가기연세힐치과의원임플란트 1개부터, 전체 임플란트!연세힐치과의원|SponsoredSponsored돌아가기새미래 이석현, 강북을 출사표…[파이낸셜뉴스] 새로운미래 고문인 이석현 전 국회부의장이 22일파이낸셜뉴스돌아가기\"아름다운 동행\"...대한항공 前여승무원동우회 KASA, 서울역서 급식 봉사 - 파이낸셜뉴스[파이낸셜뉴스] 대한항공 전직 여승무원 동우회인 카사(KASA)는 지난 21일 서울시 용산구 서울역 무료급식소인 \\'따스한채움터\\'에서 봉사활동을 펼쳤다고 22일 밝혔다.\\xa0취약계층 무료급식 제공을 위해 진행된 이날 봉사활동에서는 컵과일과 양말 등의 물품기부와 배식, 서빙 봉사 등도 함께 이뤄졌다.\\xa0봉사활동 중에는 8명의 회원들로 구성된 카..파이낸셜뉴스돌아가기\\'조수진 리스크’ 제거한 민주…박용진은 끝내 \\'비명횡사\\'[2024 총선][파이낸셜뉴스] 성범죄자 변호 이력으로 논란이 됐던 조수진 변호사가 서울 강북을 후보에서 사퇴하면서 더불어민주당이 부담을 한결 내려놓게 됐다. 다시금 공석이 된 강북을에는 \\'친명계\\' 한민수 대변인이 공천됐다. 각종 우여곡절 끝에 민주당이 한 대변인을 공천했으나 일각에서는 사천 문제와 함께 총선 이후 갈등의 새로운 씨앗이 될 것이라는 예측..파이낸셜뉴스돌아가기\\'7살 제자 일가족 몰살\\' 혐의 태권도 관장, 모든 것이 거짓 \"아내도 당했다\"[파이낸셜뉴스] \\xa0지난달 호주 시드니에서 한인 일가족 3명을 살해한 혐의를 받는 태권도 관장의 만행이 드러났다. 17일 SBS ‘그것이 알고 싶다’에 따르면 지난달 20일 시드니 노스 파라마타 지역의 한 태권도장에 다니던 아이와 엄마가 태권도장에서 숨져 있었고, 아이의 아빠도 자기 집에서 사망한 채 발견됐다.용의자로 지목된 이는 아이가 다니..파이낸셜뉴스돌아가기\"수십명 달려들어 파냈지만\"..플로리다 해변 모래더미에 묻힌 7세 소녀 - 파이낸셜뉴스[파이낸셜뉴스] \\xa0가족과 함께 해변에서 모래놀이를 하던 7살 여자 어린이가 모래 구덩이에 갇혀 사망하는 사고가 발생했다. 22일(현지시간) 뉴욕포스트에 따르면 전날 오후 3시쯤 미국 플로리다주 해변에서 인디애나주 출신 살 7여아 슬론 매팅리와 9살 남아 매덕스 매팅리가 모래사장에서 구덩이를 파며 놀던 중 돌연 사라졌다.남매가 앉아 있던 바..파이낸셜뉴스돌아가기연세힐치과의원전체 임플란트 해야 하는데 부담된다면?연세힐치과의원|SponsoredSponsored돌아가기JUVIS34kg 감량된 내 모습을보니 월 16만원이 전혀 아깝지 않았어요JUVIS|SponsoredSponsored돌아가기\"밥맛 없다, 저리가라\" 계양 식당서 욕먹은 원희룡·이천수가 한 말..[파이낸셜뉴스] \\xa0국민의힘 인천 계양을 후보인 원희룡 전 국토교통부 장관이 선..파이낸셜뉴스돌아가기새벽 공원 벤치서 웅크린 채 잠든 여학생...지켜본 시민의 행동 [따뜻했슈][파이낸셜뉴스]\\xa0 늦은 밤 공원 벤치에서 잠든 여학생을 발견, 경찰에 신고한 뒤 멀리서 지켜본 시민의 선행이 알려져 화제다.A씨는 지난 21일 온라인 커뮤니티 \\'보배드림\\'을 통해 자신이 겪은 일을 전했다.그는파이낸셜뉴스돌아가기'}),\n",
       "  1.340748)]"
      ]
     },
     "execution_count": 185,
     "metadata": {},
     "output_type": "execute_result"
    }
   ],
   "source": [
    "res_score"
   ]
  },
  {
   "cell_type": "markdown",
   "id": "eb618f01-3de2-48c5-a508-b882b9ef3e53",
   "metadata": {},
   "source": [
    "### Semantic Search"
   ]
  },
  {
   "cell_type": "code",
   "execution_count": null,
   "id": "f1f19e6f-1b46-4362-a52a-88c146f538af",
   "metadata": {},
   "outputs": [],
   "source": []
  }
 ],
 "metadata": {
  "kernelspec": {
   "display_name": "Python 3 (ipykernel)",
   "language": "python",
   "name": "python3"
  },
  "language_info": {
   "codemirror_mode": {
    "name": "ipython",
    "version": 3
   },
   "file_extension": ".py",
   "mimetype": "text/x-python",
   "name": "python",
   "nbconvert_exporter": "python",
   "pygments_lexer": "ipython3",
   "version": "3.11.0"
  }
 },
 "nbformat": 4,
 "nbformat_minor": 5
}
