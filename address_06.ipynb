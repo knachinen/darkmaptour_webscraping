{
 "cells": [
  {
   "cell_type": "markdown",
   "id": "7c08c6e9-fb72-470c-8c95-065872572500",
   "metadata": {},
   "source": [
    "### import"
   ]
  },
  {
   "cell_type": "code",
   "execution_count": 2,
   "id": "25c4d0be-8008-4731-964a-abef7083324f",
   "metadata": {
    "execution": {
     "iopub.execute_input": "2024-05-17T08:11:28.718617Z",
     "iopub.status.busy": "2024-05-17T08:11:28.717541Z",
     "iopub.status.idle": "2024-05-17T08:11:28.735666Z",
     "shell.execute_reply": "2024-05-17T08:11:28.734997Z",
     "shell.execute_reply.started": "2024-05-17T08:11:28.718556Z"
    }
   },
   "outputs": [],
   "source": [
    "import pandas as pd \n",
    "import numpy as np\n",
    "import math\n",
    "import re\n",
    "\n",
    "from icecream import ic\n",
    "from tqdm import tqdm \n",
    "\n",
    "from utils.custom_utils import load_var, save_var\n",
    "# from utils.search_address import RetrieveAddress, get_lat_long"
   ]
  },
  {
   "cell_type": "code",
   "execution_count": 3,
   "id": "0c0ab67a-a18f-478e-b8a4-112b56e7428a",
   "metadata": {
    "execution": {
     "iopub.execute_input": "2024-05-17T08:11:32.328019Z",
     "iopub.status.busy": "2024-05-17T08:11:32.326948Z",
     "iopub.status.idle": "2024-05-17T08:11:32.511076Z",
     "shell.execute_reply": "2024-05-17T08:11:32.510799Z",
     "shell.execute_reply.started": "2024-05-17T08:11:32.327972Z"
    }
   },
   "outputs": [],
   "source": [
    "df_hk_json = load_var(\"df_hk_json\")\n",
    "df_where = df_hk_json['where']\n",
    "# df_addr = pd.read_csv('./address/address.csv')\n",
    "df_addr = pd.read_parquet('./address/df_addr.parquet.gzip')"
   ]
  },
  {
   "cell_type": "code",
   "execution_count": 4,
   "id": "d457be05-73e4-4b1b-bbb0-a7bc303b17d2",
   "metadata": {
    "execution": {
     "iopub.execute_input": "2024-05-17T08:11:33.790709Z",
     "iopub.status.busy": "2024-05-17T08:11:33.790537Z",
     "iopub.status.idle": "2024-05-17T08:11:33.794068Z",
     "shell.execute_reply": "2024-05-17T08:11:33.793374Z",
     "shell.execute_reply.started": "2024-05-17T08:11:33.790698Z"
    }
   },
   "outputs": [],
   "source": [
    "texts = df_hk_json.iloc[:]['text']"
   ]
  },
  {
   "cell_type": "code",
   "execution_count": 14,
   "id": "8e29301a-600d-43d2-9759-a0da650346bf",
   "metadata": {
    "execution": {
     "iopub.execute_input": "2024-05-16T12:47:23.791093Z",
     "iopub.status.busy": "2024-05-16T12:47:23.790144Z",
     "iopub.status.idle": "2024-05-16T12:47:23.796552Z",
     "shell.execute_reply": "2024-05-16T12:47:23.796255Z",
     "shell.execute_reply.started": "2024-05-16T12:47:23.791051Z"
    }
   },
   "outputs": [],
   "source": [
    "ra = RetrieveAddress(df_addr)"
   ]
  },
  {
   "cell_type": "markdown",
   "id": "cf6a8f9b-30b8-4ff4-ac59-b492e36eb945",
   "metadata": {
    "jp-MarkdownHeadingCollapsed": true
   },
   "source": [
    "## Finding address in a target text"
   ]
  },
  {
   "cell_type": "markdown",
   "id": "f6a04c97-b053-404a-8b3f-60d7f30f2d1c",
   "metadata": {
    "jp-MarkdownHeadingCollapsed": true
   },
   "source": [
    "#### dataframe: df_filtered"
   ]
  },
  {
   "cell_type": "code",
   "execution_count": 5,
   "id": "d6892684-5a34-4e22-9bac-8b439edc4481",
   "metadata": {
    "execution": {
     "iopub.execute_input": "2024-05-17T08:11:54.766923Z",
     "iopub.status.busy": "2024-05-17T08:11:54.764116Z",
     "iopub.status.idle": "2024-05-17T08:11:56.777252Z",
     "shell.execute_reply": "2024-05-17T08:11:56.776599Z",
     "shell.execute_reply.started": "2024-05-17T08:11:54.766890Z"
    }
   },
   "outputs": [],
   "source": [
    "mask = df_addr.map(\n",
    "    lambda x: bool(\n",
    "        re.search(\n",
    "            r'\\b{}'.format(str(x)),\n",
    "            texts[2],\n",
    "            re.IGNORECASE)))\n",
    "df_filtered = df_addr[mask.any(axis=1)]\n",
    "# df_level = df_addr[mask[f'lv3']]"
   ]
  },
  {
   "cell_type": "markdown",
   "id": "e4e17dfa-904e-4edb-8aa7-e8a0af563d3c",
   "metadata": {},
   "source": [
    "1. 불필요한 열이 포함됨.\n",
    "이렇게 모든 열에서 찾으면,  \n",
    "'서울', '관악구' 처럼 1단계 2단계가 들어간 모든 열이 포함된다.  \n",
    "\n",
    "2. 검색을 2번 함.\n",
    "아래에서 추려진 이름으로 다시 한번 검색하는데,  \n",
    "이것 역시 중복된 작업이다.  \n",
    "\n",
    ".\n",
    "\n",
    "당장은 해결하지 않더라도,  \n",
    "퍼포먼스를 끌어 올리려면 수정해야 할 것이다.  "
   ]
  },
  {
   "cell_type": "markdown",
   "id": "7e0f06a2-f991-4b73-bf5a-028ad06431f3",
   "metadata": {
    "jp-MarkdownHeadingCollapsed": true
   },
   "source": [
    "### TODO: making a set from the retrieved address"
   ]
  },
  {
   "cell_type": "markdown",
   "id": "03cad353-a51d-409c-a785-5ccdeef1b772",
   "metadata": {
    "jp-MarkdownHeadingCollapsed": true
   },
   "source": [
    "#### def: get_set_from_columns()"
   ]
  },
  {
   "cell_type": "code",
   "execution_count": 121,
   "id": "f010d398-44f2-4bff-84df-852e1aff0abb",
   "metadata": {
    "execution": {
     "iopub.execute_input": "2024-05-17T03:06:47.641982Z",
     "iopub.status.busy": "2024-05-17T03:06:47.640890Z",
     "iopub.status.idle": "2024-05-17T03:06:47.654114Z",
     "shell.execute_reply": "2024-05-17T03:06:47.653176Z",
     "shell.execute_reply.started": "2024-05-17T03:06:47.641942Z"
    }
   },
   "outputs": [],
   "source": [
    "def get_set_from_columns(df:pd.DataFrame):\n",
    "    result_set = set([])\n",
    "    \n",
    "    for index, row in df.iterrows():\n",
    "        for value in row.values:\n",
    "            if isinstance(value, str):\n",
    "                if value not in result_set:\n",
    "                    result_set.add(value)\n",
    "    return result_set "
   ]
  },
  {
   "cell_type": "code",
   "execution_count": 122,
   "id": "86a86428-b5df-4a70-a423-75c22886e361",
   "metadata": {
    "execution": {
     "iopub.execute_input": "2024-05-17T03:06:55.003043Z",
     "iopub.status.busy": "2024-05-17T03:06:54.999815Z",
     "iopub.status.idle": "2024-05-17T03:06:55.087161Z",
     "shell.execute_reply": "2024-05-17T03:06:55.086329Z",
     "shell.execute_reply.started": "2024-05-17T03:06:55.002981Z"
    },
    "scrolled": true
   },
   "outputs": [
    {
     "data": {
      "text/plain": [
       "{'가락동',\n",
       " '가리봉동',\n",
       " '가산동',\n",
       " '가양동',\n",
       " '가회동',\n",
       " '갈월동',\n",
       " '갈현동',\n",
       " '강남구',\n",
       " '강동구',\n",
       " '강동동',\n",
       " '강북구',\n",
       " '강서구',\n",
       " '강일동',\n",
       " '개봉동',\n",
       " '개포동',\n",
       " '개화동',\n",
       " '거여동',\n",
       " '견지동',\n",
       " '경동',\n",
       " '경운동',\n",
       " '계동',\n",
       " '계산동1가',\n",
       " '계산동2가',\n",
       " '고덕동',\n",
       " '고척동',\n",
       " '공덕동',\n",
       " '공릉동',\n",
       " '공평동',\n",
       " '공항동',\n",
       " '과해동',\n",
       " '관동1가',\n",
       " '관동2가',\n",
       " '관동3가',\n",
       " '관수동',\n",
       " '관악구',\n",
       " '관철동',\n",
       " '관훈동',\n",
       " '광복동1가',\n",
       " '광복동2가',\n",
       " '광복동3가',\n",
       " '광장동',\n",
       " '광진구',\n",
       " '광희동1가',\n",
       " '광희동2가',\n",
       " '교남동',\n",
       " '교동',\n",
       " '교북동',\n",
       " '구기동',\n",
       " '구랑동',\n",
       " '구로구',\n",
       " '구로동',\n",
       " '구산동',\n",
       " '구수동',\n",
       " '구완동',\n",
       " '구의동',\n",
       " '군자동',\n",
       " '궁동',\n",
       " '궁정동',\n",
       " '권농동',\n",
       " '금동',\n",
       " '금천구',\n",
       " '금호동1가',\n",
       " '금호동2가',\n",
       " '금호동3가',\n",
       " '금호동4가',\n",
       " '길동',\n",
       " '길음동',\n",
       " '낙원동',\n",
       " '남가좌동',\n",
       " '남대문로1가',\n",
       " '남대문로2가',\n",
       " '남대문로3가',\n",
       " '남대문로4가',\n",
       " '남대문로5가',\n",
       " '남북동',\n",
       " '남산동',\n",
       " '남산동1가',\n",
       " '남산동2가',\n",
       " '남산동3가',\n",
       " '남성로',\n",
       " '남영동',\n",
       " '남외동',\n",
       " '남일동',\n",
       " '남창동',\n",
       " '남포동1가',\n",
       " '남포동2가',\n",
       " '남포동3가',\n",
       " '남포동4가',\n",
       " '남포동5가',\n",
       " '남포동6가',\n",
       " '남학동',\n",
       " '남현동',\n",
       " '내곡동',\n",
       " '내동',\n",
       " '내발산동',\n",
       " '내수동',\n",
       " '내자동',\n",
       " '냉천동',\n",
       " '노고산동',\n",
       " '노량진동',\n",
       " '노원구',\n",
       " '녹번동',\n",
       " '녹산동',\n",
       " '논현동',\n",
       " '누상동',\n",
       " '누하동',\n",
       " '눌차동',\n",
       " '능동',\n",
       " '다동',\n",
       " '다운동',\n",
       " '달성동',\n",
       " '답동',\n",
       " '답십리동',\n",
       " '당산동',\n",
       " '당산동1가',\n",
       " '당산동2가',\n",
       " '당산동3가',\n",
       " '당산동4가',\n",
       " '당산동5가',\n",
       " '당산동6가',\n",
       " '당인동',\n",
       " '당주동',\n",
       " '대림동',\n",
       " '대방동',\n",
       " '대봉동',\n",
       " '대사동',\n",
       " '대신동',\n",
       " '대안동',\n",
       " '대저1동',\n",
       " '대저2동',\n",
       " '대조동',\n",
       " '대창동1가',\n",
       " '대창동2가',\n",
       " '대청동1가',\n",
       " '대청동2가',\n",
       " '대청동3가',\n",
       " '대청동4가',\n",
       " '대치동',\n",
       " '대항동',\n",
       " '대현동',\n",
       " '대흥동',\n",
       " '덕교동',\n",
       " '덕산동',\n",
       " '도곡동',\n",
       " '도렴동',\n",
       " '도림동',\n",
       " '도봉구',\n",
       " '도봉동',\n",
       " '도선동',\n",
       " '도원동',\n",
       " '도화동',\n",
       " '독산동',\n",
       " '돈암동',\n",
       " '돈의동',\n",
       " '동광동1가',\n",
       " '동광동2가',\n",
       " '동광동3가',\n",
       " '동광동4가',\n",
       " '동광동5가',\n",
       " '동교동',\n",
       " '동대문구',\n",
       " '동동',\n",
       " '동문동',\n",
       " '동빙고동',\n",
       " '동산동',\n",
       " '동선동',\n",
       " '동선동1가',\n",
       " '동선동2가',\n",
       " '동선동3가',\n",
       " '동선동4가',\n",
       " '동선동5가',\n",
       " '동성로1가',\n",
       " '동성로2가',\n",
       " '동성로3가',\n",
       " '동소문동1가',\n",
       " '동소문동2가',\n",
       " '동소문동3가',\n",
       " '동소문동4가',\n",
       " '동소문동5가',\n",
       " '동소문동6가',\n",
       " '동소문동7가',\n",
       " '동숭동',\n",
       " '동인동1가',\n",
       " '동인동2가',\n",
       " '동인동3가',\n",
       " '동인동4가',\n",
       " '동일동',\n",
       " '동자동',\n",
       " '동작구',\n",
       " '동작동',\n",
       " '둔촌동',\n",
       " '등촌동',\n",
       " '마곡동',\n",
       " '마장동',\n",
       " '마천동',\n",
       " '마포구',\n",
       " '마포동',\n",
       " '만리동1가',\n",
       " '만리동2가',\n",
       " '망우동',\n",
       " '망원동',\n",
       " '면목동',\n",
       " '명동1가',\n",
       " '명동2가',\n",
       " '명륜1가',\n",
       " '명륜2가',\n",
       " '명륜3가',\n",
       " '명륜4가',\n",
       " '명일동',\n",
       " '명지동',\n",
       " '목달동',\n",
       " '목동',\n",
       " '묘동',\n",
       " '무교동',\n",
       " '무수동',\n",
       " '무악동',\n",
       " '무의동',\n",
       " '무학동',\n",
       " '묵동',\n",
       " '묵정동',\n",
       " '문래동1가',\n",
       " '문래동2가',\n",
       " '문래동3가',\n",
       " '문래동4가',\n",
       " '문래동5가',\n",
       " '문래동6가',\n",
       " '문배동',\n",
       " '문정동',\n",
       " '문창동',\n",
       " '문화동',\n",
       " '미근동',\n",
       " '미아동',\n",
       " '미음동',\n",
       " '반구동',\n",
       " '반포동',\n",
       " '방배동',\n",
       " '방산동',\n",
       " '방이동',\n",
       " '방학동',\n",
       " '방화동',\n",
       " '번동',\n",
       " '범방동',\n",
       " '보광동',\n",
       " '보문동1가',\n",
       " '보문동2가',\n",
       " '보문동3가',\n",
       " '보문동4가',\n",
       " '보문동5가',\n",
       " '보문동6가',\n",
       " '보문동7가',\n",
       " '보수동1가',\n",
       " '보수동2가',\n",
       " '보수동3가',\n",
       " '복산동',\n",
       " '본동',\n",
       " '봉래동1가',\n",
       " '봉래동2가',\n",
       " '봉림동',\n",
       " '봉산동',\n",
       " '봉원동',\n",
       " '봉익동',\n",
       " '봉천동',\n",
       " '부사동',\n",
       " '부암동',\n",
       " '부평동1가',\n",
       " '부평동2가',\n",
       " '부평동3가',\n",
       " '부평동4가',\n",
       " '북가좌동',\n",
       " '북내동',\n",
       " '북성동1가',\n",
       " '북성동2가',\n",
       " '북성동3가',\n",
       " '북성로1가',\n",
       " '북성로2가',\n",
       " '북아현동',\n",
       " '북정동',\n",
       " '북창동',\n",
       " '불광동',\n",
       " '사간동',\n",
       " '사근동',\n",
       " '사당동',\n",
       " '사동',\n",
       " '사일동',\n",
       " '사정동',\n",
       " '사직동',\n",
       " '산림동',\n",
       " '산성동',\n",
       " '산천동',\n",
       " '삼각동',\n",
       " '삼덕동1가',\n",
       " '삼덕동2가',\n",
       " '삼덕동3가',\n",
       " '삼선동1가',\n",
       " '삼선동2가',\n",
       " '삼선동3가',\n",
       " '삼선동4가',\n",
       " '삼선동5가',\n",
       " '삼성동',\n",
       " '삼전동',\n",
       " '삼청동',\n",
       " '상계동',\n",
       " '상덕동',\n",
       " '상도1동',\n",
       " '상도동',\n",
       " '상봉동',\n",
       " '상서동',\n",
       " '상수동',\n",
       " '상암동',\n",
       " '상왕십리동',\n",
       " '상월곡동',\n",
       " '상일동',\n",
       " '생곡동',\n",
       " '서계동',\n",
       " '서교동',\n",
       " '서내동',\n",
       " '서대문구',\n",
       " '서동',\n",
       " '서린동',\n",
       " '서문로1가',\n",
       " '서문로2가',\n",
       " '서빙고동',\n",
       " '서성로1가',\n",
       " '서성로2가',\n",
       " '서소문동',\n",
       " '서야동',\n",
       " '서울',\n",
       " '서울특별시',\n",
       " '서초구',\n",
       " '서초동',\n",
       " '석관동',\n",
       " '석교동',\n",
       " '석촌동',\n",
       " '선린동',\n",
       " '선화동',\n",
       " '성남동',\n",
       " '성내동',\n",
       " '성동구',\n",
       " '성북구',\n",
       " '성북동',\n",
       " '성북동1가',\n",
       " '성산동',\n",
       " '성수동1가',\n",
       " '성수동2가',\n",
       " '성안동',\n",
       " '세곡동',\n",
       " '세종로',\n",
       " '소격동',\n",
       " '소공동',\n",
       " '송월동',\n",
       " '송월동1가',\n",
       " '송월동2가',\n",
       " '송월동3가',\n",
       " '송정동',\n",
       " '송파구',\n",
       " '송파동',\n",
       " '송학동1가',\n",
       " '송학동2가',\n",
       " '송학동3가',\n",
       " '송현동',\n",
       " '수동',\n",
       " '수색동',\n",
       " '수서동',\n",
       " '수송동',\n",
       " '수유동',\n",
       " '수창동',\n",
       " '수표동',\n",
       " '수하동',\n",
       " '순천시',\n",
       " '순화동',\n",
       " '숭인동',\n",
       " '시장북로',\n",
       " '시흥동',\n",
       " '식만동',\n",
       " '신계동',\n",
       " '신공덕동',\n",
       " '신교동',\n",
       " '신길동',\n",
       " '신내동',\n",
       " '신당동',\n",
       " '신대방동',\n",
       " '신도림동',\n",
       " '신림동',\n",
       " '신문로1가',\n",
       " '신문로2가',\n",
       " '신사동',\n",
       " '신생동',\n",
       " '신설동',\n",
       " '신수동',\n",
       " '신영동',\n",
       " '신원동',\n",
       " '신월동',\n",
       " '신정동',\n",
       " '신창동',\n",
       " '신창동1가',\n",
       " '신창동2가',\n",
       " '신창동3가',\n",
       " '신창동4가',\n",
       " '신천동',\n",
       " '신촌동',\n",
       " '신포동',\n",
       " '신호동',\n",
       " '신흥동1가',\n",
       " '신흥동2가',\n",
       " '신흥동3가',\n",
       " '쌍림동',\n",
       " '쌍문동',\n",
       " '아현동',\n",
       " '안국동',\n",
       " '안암동1가',\n",
       " '안암동2가',\n",
       " '안암동3가',\n",
       " '안암동4가',\n",
       " '안암동5가',\n",
       " '안영동',\n",
       " '암사동',\n",
       " '압구정동',\n",
       " '약사동',\n",
       " '양재동',\n",
       " '양천구',\n",
       " '양평동',\n",
       " '양평동1가',\n",
       " '양평동2가',\n",
       " '양평동3가',\n",
       " '양평동4가',\n",
       " '양평동5가',\n",
       " '양평동6가',\n",
       " '양화동',\n",
       " '어남동',\n",
       " '여의도동',\n",
       " '역삼동',\n",
       " '역촌동',\n",
       " '연건동',\n",
       " '연남동',\n",
       " '연지동',\n",
       " '연희동',\n",
       " '염곡동',\n",
       " '염리동',\n",
       " '염창동',\n",
       " '영등포구',\n",
       " '영등포동',\n",
       " '영등포동1가',\n",
       " '영등포동2가',\n",
       " '영등포동3가',\n",
       " '영등포동4가',\n",
       " '영등포동5가',\n",
       " '영등포동6가',\n",
       " '영등포동7가',\n",
       " '영등포동8가',\n",
       " '영주동',\n",
       " '영천동',\n",
       " '예관동',\n",
       " '예장동',\n",
       " '예지동',\n",
       " '오곡동',\n",
       " '오금동',\n",
       " '오류동',\n",
       " '오쇠동',\n",
       " '오장동',\n",
       " '옥계동',\n",
       " '옥교동',\n",
       " '옥수동',\n",
       " '옥인동',\n",
       " '옥천동',\n",
       " '온수동',\n",
       " '와룡동',\n",
       " '완전동',\n",
       " '외발산동',\n",
       " '용강동',\n",
       " '용답동',\n",
       " '용덕동',\n",
       " '용동',\n",
       " '용두동',\n",
       " '용문동',\n",
       " '용산구',\n",
       " '용산동1가',\n",
       " '용산동2가',\n",
       " '용산동3가',\n",
       " '용산동4가',\n",
       " '용산동5가',\n",
       " '용산동6가',\n",
       " '우면동',\n",
       " '우이동',\n",
       " '우정동',\n",
       " '운남동',\n",
       " '운니동',\n",
       " '운북동',\n",
       " '운서동',\n",
       " '원남동',\n",
       " '원서동',\n",
       " '원지동',\n",
       " '원효로1가',\n",
       " '원효로2가',\n",
       " '원효로3가',\n",
       " '원효로4가',\n",
       " '월계동',\n",
       " '유곡동',\n",
       " '유동',\n",
       " '유천동',\n",
       " '율목동',\n",
       " '율현동',\n",
       " '은평구',\n",
       " '은행동',\n",
       " '을왕동',\n",
       " '을지로1가',\n",
       " '을지로2가',\n",
       " '을지로3가',\n",
       " '을지로4가',\n",
       " '을지로5가',\n",
       " '을지로6가',\n",
       " '을지로7가',\n",
       " '응봉동',\n",
       " '응암동',\n",
       " '의주로1가',\n",
       " '의주로2가',\n",
       " '이문동',\n",
       " '이촌동',\n",
       " '이태원동',\n",
       " '이화동',\n",
       " '익선동',\n",
       " '인교동',\n",
       " '인사동',\n",
       " '인의동',\n",
       " '인현동',\n",
       " '인현동1가',\n",
       " '인현동2가',\n",
       " '일원동',\n",
       " '입정동',\n",
       " '자곡동',\n",
       " '자양동',\n",
       " '잠실동',\n",
       " '잠원동',\n",
       " '장관동',\n",
       " '장교동',\n",
       " '장사동',\n",
       " '장안동',\n",
       " '장위동',\n",
       " '장지동',\n",
       " '장충동1가',\n",
       " '장충동2가',\n",
       " '장현동',\n",
       " '재동',\n",
       " '저동1가',\n",
       " '저동2가',\n",
       " '적선동',\n",
       " '전남',\n",
       " '전농동',\n",
       " '전동',\n",
       " '전라남도',\n",
       " '정동',\n",
       " '정릉동',\n",
       " '정생동',\n",
       " '제기동',\n",
       " '종로1가',\n",
       " '종로2가',\n",
       " '종로3가',\n",
       " '종로4가',\n",
       " '종로5가',\n",
       " '종로6가',\n",
       " '종로구',\n",
       " '종암동',\n",
       " '주교동',\n",
       " '주성동',\n",
       " '주자동',\n",
       " '죽동동',\n",
       " '죽림동',\n",
       " '중계동',\n",
       " '중곡동',\n",
       " '중구',\n",
       " '중동',\n",
       " '중랑구',\n",
       " '중림동',\n",
       " '중산동',\n",
       " '중앙동1가',\n",
       " '중앙동2가',\n",
       " '중앙동3가',\n",
       " '중앙동4가',\n",
       " '중앙동5가',\n",
       " '중앙동6가',\n",
       " '중앙동7가',\n",
       " '중촌동',\n",
       " '중학동',\n",
       " '중화동',\n",
       " '증산동',\n",
       " '지사동',\n",
       " '진관동',\n",
       " '창동',\n",
       " '창선동1가',\n",
       " '창선동2가',\n",
       " '창성동',\n",
       " '창신동',\n",
       " '창전동',\n",
       " '창천동',\n",
       " '천성동',\n",
       " '천연동',\n",
       " '천왕동',\n",
       " '천호동',\n",
       " '청담동',\n",
       " '청량리동',\n",
       " '청암동',\n",
       " '청운동',\n",
       " '청진동',\n",
       " '청파동1가',\n",
       " '청파동2가',\n",
       " '청파동3가',\n",
       " '체부동',\n",
       " '초동',\n",
       " '충무로1가',\n",
       " '충무로2가',\n",
       " '충무로3가',\n",
       " '충무로4가',\n",
       " '충무로5가',\n",
       " '충신동',\n",
       " '충정로1가',\n",
       " '충정로2가',\n",
       " '충정로3가',\n",
       " '침산동',\n",
       " '태평동',\n",
       " '태평로1가',\n",
       " '태평로2가',\n",
       " '태평로3가',\n",
       " '태화동',\n",
       " '토정동',\n",
       " '통의동',\n",
       " '통인동',\n",
       " '팔판동',\n",
       " '평동',\n",
       " '평창동',\n",
       " '포정동',\n",
       " '풍납동',\n",
       " '필동1가',\n",
       " '필동2가',\n",
       " '필동3가',\n",
       " '필운동',\n",
       " '하계동',\n",
       " '하서동',\n",
       " '하왕십리동',\n",
       " '하월곡동',\n",
       " '하중동',\n",
       " '학산동',\n",
       " '학성동',\n",
       " '한강로1가',\n",
       " '한강로2가',\n",
       " '한강로3가',\n",
       " '한남동',\n",
       " '합동',\n",
       " '합정동',\n",
       " '항동',\n",
       " '항동1가',\n",
       " '항동2가',\n",
       " '항동3가',\n",
       " '항동4가',\n",
       " '항동5가',\n",
       " '항동6가',\n",
       " '항동7가',\n",
       " '해안동1가',\n",
       " '해안동2가',\n",
       " '해안동3가',\n",
       " '해안동4가',\n",
       " '행당동',\n",
       " '행동',\n",
       " '행촌동',\n",
       " '향촌동',\n",
       " '현석동',\n",
       " '현저동',\n",
       " '혜화동',\n",
       " '호동',\n",
       " '홍은동',\n",
       " '홍익동',\n",
       " '홍제동',\n",
       " '홍지동',\n",
       " '홍파동',\n",
       " '화곡동',\n",
       " '화동',\n",
       " '화양동',\n",
       " '화전동',\n",
       " '황학동',\n",
       " '회기동',\n",
       " '회현동1가',\n",
       " '회현동2가',\n",
       " '회현동3가',\n",
       " '효자동',\n",
       " '효제동',\n",
       " '효창동',\n",
       " '후암동',\n",
       " '훈정동',\n",
       " '휘경동',\n",
       " '흑석동',\n",
       " '흥인동'}"
      ]
     },
     "execution_count": 122,
     "metadata": {},
     "output_type": "execute_result"
    }
   ],
   "source": [
    "addr_name_set = get_set_from_columns(df_filtered)\n",
    "addr_name_set"
   ]
  },
  {
   "cell_type": "code",
   "execution_count": 10,
   "id": "ff9dcee5-8d45-47bf-9d46-823316519dd4",
   "metadata": {
    "execution": {
     "iopub.execute_input": "2024-05-16T12:45:04.538824Z",
     "iopub.status.busy": "2024-05-16T12:45:04.537082Z",
     "iopub.status.idle": "2024-05-16T12:45:04.549464Z",
     "shell.execute_reply": "2024-05-16T12:45:04.549177Z",
     "shell.execute_reply.started": "2024-05-16T12:45:04.538797Z"
    }
   },
   "outputs": [
    {
     "data": {
      "text/plain": [
       "8"
      ]
     },
     "execution_count": 10,
     "metadata": {},
     "output_type": "execute_result"
    }
   ],
   "source": [
    "len(addr_name_set)"
   ]
  },
  {
   "cell_type": "markdown",
   "id": "a0802a2c-6e24-4c6c-899f-fc7ccc8cfb7e",
   "metadata": {
    "execution": {
     "iopub.execute_input": "2024-05-16T15:05:53.860279Z",
     "iopub.status.busy": "2024-05-16T15:05:53.856399Z",
     "iopub.status.idle": "2024-05-16T15:05:53.872942Z",
     "shell.execute_reply": "2024-05-16T15:05:53.872068Z",
     "shell.execute_reply.started": "2024-05-16T15:05:53.860248Z"
    },
    "jp-MarkdownHeadingCollapsed": true
   },
   "source": [
    "#### issue: '서울' is not found "
   ]
  },
  {
   "cell_type": "markdown",
   "id": "8601ab66-d34f-4eee-8e2b-02a18512fd5f",
   "metadata": {},
   "source": [
    "'서울' 은 왜 없지?"
   ]
  },
  {
   "cell_type": "markdown",
   "id": "9e7bebc4-71ba-436d-8171-6b0fd6a230ca",
   "metadata": {
    "jp-MarkdownHeadingCollapsed": true
   },
   "source": [
    "#### fix: lv0"
   ]
  },
  {
   "cell_type": "code",
   "execution_count": 12,
   "id": "f3f2db23-23ec-435c-9202-070b0c777a90",
   "metadata": {
    "execution": {
     "iopub.execute_input": "2024-05-16T12:46:21.317014Z",
     "iopub.status.busy": "2024-05-16T12:46:21.311790Z",
     "iopub.status.idle": "2024-05-16T12:46:21.352344Z",
     "shell.execute_reply": "2024-05-16T12:46:21.351979Z",
     "shell.execute_reply.started": "2024-05-16T12:46:21.316968Z"
    }
   },
   "outputs": [
    {
     "data": {
      "text/html": [
       "<div>\n",
       "<style scoped>\n",
       "    .dataframe tbody tr th:only-of-type {\n",
       "        vertical-align: middle;\n",
       "    }\n",
       "\n",
       "    .dataframe tbody tr th {\n",
       "        vertical-align: top;\n",
       "    }\n",
       "\n",
       "    .dataframe thead th {\n",
       "        text-align: right;\n",
       "    }\n",
       "</style>\n",
       "<table border=\"1\" class=\"dataframe\">\n",
       "  <thead>\n",
       "    <tr style=\"text-align: right;\">\n",
       "      <th></th>\n",
       "      <th>lv1</th>\n",
       "      <th>lv2</th>\n",
       "      <th>lv3</th>\n",
       "      <th>lv4</th>\n",
       "      <th>lv5</th>\n",
       "    </tr>\n",
       "  </thead>\n",
       "  <tbody>\n",
       "    <tr>\n",
       "      <th>0</th>\n",
       "      <td>충청남도</td>\n",
       "      <td>천안시 동남구</td>\n",
       "      <td>대흥동</td>\n",
       "      <td>NaN</td>\n",
       "      <td>NaN</td>\n",
       "    </tr>\n",
       "  </tbody>\n",
       "</table>\n",
       "</div>"
      ],
      "text/plain": [
       "    lv1      lv2  lv3  lv4  lv5\n",
       "0  충청남도  천안시 동남구  대흥동  NaN  NaN"
      ]
     },
     "execution_count": 12,
     "metadata": {},
     "output_type": "execute_result"
    }
   ],
   "source": [
    "df_addr.head(1)"
   ]
  },
  {
   "cell_type": "markdown",
   "id": "26d6df40-872c-420c-b0a1-e33f9370427b",
   "metadata": {},
   "source": [
    "`df_addr = pd.read_parquet('./address/df_addr.parquet.gzip')`\n",
    "\n",
    "이렇게 불러오지 않았다. "
   ]
  },
  {
   "cell_type": "code",
   "execution_count": 17,
   "id": "82de5d66-0d02-41f7-86d9-182873089526",
   "metadata": {
    "execution": {
     "iopub.execute_input": "2024-05-16T12:47:49.969088Z",
     "iopub.status.busy": "2024-05-16T12:47:49.968019Z",
     "iopub.status.idle": "2024-05-16T12:47:49.978020Z",
     "shell.execute_reply": "2024-05-16T12:47:49.977019Z",
     "shell.execute_reply.started": "2024-05-16T12:47:49.969050Z"
    }
   },
   "outputs": [
    {
     "data": {
      "text/plain": [
       "689"
      ]
     },
     "execution_count": 17,
     "metadata": {},
     "output_type": "execute_result"
    }
   ],
   "source": [
    "len(addr_name_set)"
   ]
  },
  {
   "cell_type": "markdown",
   "id": "a39cd166-6471-4647-8fa5-97289ca96a39",
   "metadata": {},
   "source": [
    "그러니까 안 바꾸면 700여개씩이나 처리해야 됨."
   ]
  },
  {
   "cell_type": "markdown",
   "id": "5dc722e7-054f-4b38-a763-447a28a41103",
   "metadata": {
    "jp-MarkdownHeadingCollapsed": true
   },
   "source": [
    "### TODO: Counting the found address"
   ]
  },
  {
   "cell_type": "code",
   "execution_count": 18,
   "id": "dbfc7403-0187-41a7-98dd-93b3af4332ff",
   "metadata": {
    "execution": {
     "iopub.execute_input": "2024-05-16T12:49:30.928746Z",
     "iopub.status.busy": "2024-05-16T12:49:30.927590Z",
     "iopub.status.idle": "2024-05-16T12:49:30.955944Z",
     "shell.execute_reply": "2024-05-16T12:49:30.955622Z",
     "shell.execute_reply.started": "2024-05-16T12:49:30.928714Z"
    },
    "scrolled": true
   },
   "outputs": [],
   "source": [
    "keyword_counts = {keyword: 0 for keyword in addr_name_set}\n",
    "\n",
    "for keyword in addr_name_set:\n",
    "    pattern = r'\\b{}'.format(re.escape(keyword))\n",
    "    count = len(re.findall(pattern, texts[2], re.IGNORECASE))\n",
    "    keyword_counts[keyword] += count"
   ]
  },
  {
   "cell_type": "code",
   "execution_count": 19,
   "id": "9469997d-e6d0-4010-8917-7fbed63734e8",
   "metadata": {
    "execution": {
     "iopub.execute_input": "2024-05-16T12:49:32.167288Z",
     "iopub.status.busy": "2024-05-16T12:49:32.166370Z",
     "iopub.status.idle": "2024-05-16T12:49:32.190397Z",
     "shell.execute_reply": "2024-05-16T12:49:32.189635Z",
     "shell.execute_reply.started": "2024-05-16T12:49:32.167163Z"
    }
   },
   "outputs": [],
   "source": [
    "df_keyword_counts = pd.DataFrame.from_dict(keyword_counts, orient='index', columns=['count'])"
   ]
  },
  {
   "cell_type": "code",
   "execution_count": 20,
   "id": "41e77e2d-a523-4881-8750-bfa72ecfe68a",
   "metadata": {
    "execution": {
     "iopub.execute_input": "2024-05-16T12:49:33.167359Z",
     "iopub.status.busy": "2024-05-16T12:49:33.166757Z",
     "iopub.status.idle": "2024-05-16T12:49:33.204216Z",
     "shell.execute_reply": "2024-05-16T12:49:33.191010Z",
     "shell.execute_reply.started": "2024-05-16T12:49:33.167321Z"
    }
   },
   "outputs": [
    {
     "data": {
      "text/html": [
       "<div>\n",
       "<style scoped>\n",
       "    .dataframe tbody tr th:only-of-type {\n",
       "        vertical-align: middle;\n",
       "    }\n",
       "\n",
       "    .dataframe tbody tr th {\n",
       "        vertical-align: top;\n",
       "    }\n",
       "\n",
       "    .dataframe thead th {\n",
       "        text-align: right;\n",
       "    }\n",
       "</style>\n",
       "<table border=\"1\" class=\"dataframe\">\n",
       "  <thead>\n",
       "    <tr style=\"text-align: right;\">\n",
       "      <th></th>\n",
       "      <th>count</th>\n",
       "    </tr>\n",
       "  </thead>\n",
       "  <tbody>\n",
       "    <tr>\n",
       "      <th>서울</th>\n",
       "      <td>4</td>\n",
       "    </tr>\n",
       "    <tr>\n",
       "      <th>관악구</th>\n",
       "      <td>1</td>\n",
       "    </tr>\n",
       "    <tr>\n",
       "      <th>행동</th>\n",
       "      <td>1</td>\n",
       "    </tr>\n",
       "  </tbody>\n",
       "</table>\n",
       "</div>"
      ],
      "text/plain": [
       "     count\n",
       "서울       4\n",
       "관악구      1\n",
       "행동       1"
      ]
     },
     "execution_count": 20,
     "metadata": {},
     "output_type": "execute_result"
    }
   ],
   "source": [
    "df_keyword_counts[df_keyword_counts['count'] > 0]"
   ]
  },
  {
   "cell_type": "markdown",
   "id": "322dc604-f2ec-4a80-a885-f487ef844cab",
   "metadata": {},
   "source": [
    "- 관악구는 서울에 포함된다.\n",
    "- '행동'의 윗단계는 없다.\n",
    "- '서울' 4번, '관악구'가 1번 나왔다는 뜻은,  \n",
    "  '서울 관악구' 일 경우가 전남 '행동' 일 경우보다 크다는 것."
   ]
  },
  {
   "cell_type": "markdown",
   "id": "a4988911-be16-469b-81f7-1121a64a97c3",
   "metadata": {
    "jp-MarkdownHeadingCollapsed": true
   },
   "source": [
    "#### get_keyword_counts()"
   ]
  },
  {
   "cell_type": "code",
   "execution_count": 6,
   "id": "bf3e6d1c-dbe8-4779-9244-8e8e9d233eae",
   "metadata": {
    "execution": {
     "iopub.execute_input": "2024-05-17T08:30:31.454903Z",
     "iopub.status.busy": "2024-05-17T08:30:31.448933Z",
     "iopub.status.idle": "2024-05-17T08:30:31.493223Z",
     "shell.execute_reply": "2024-05-17T08:30:31.491511Z",
     "shell.execute_reply.started": "2024-05-17T08:30:31.454822Z"
    }
   },
   "outputs": [],
   "source": [
    "def get_keyword_counts(address_set):\n",
    "\n",
    "    keyword_counts = {keyword: 0 for keyword in address_set}\n",
    "    \n",
    "    for keyword in address_set:\n",
    "        pattern = r'\\b{}'.format(re.escape(keyword))\n",
    "        count = len(re.findall(pattern, texts[2], re.IGNORECASE))\n",
    "        keyword_counts[keyword] += count\n",
    "        \n",
    "    return keyword_counts"
   ]
  },
  {
   "cell_type": "markdown",
   "id": "063a7716-44d4-4e37-b304-2072104cad98",
   "metadata": {
    "jp-MarkdownHeadingCollapsed": true
   },
   "source": [
    "## 윗단계 인식하기"
   ]
  },
  {
   "cell_type": "markdown",
   "id": "e8e71b7d-e184-49ab-b343-73904285e42b",
   "metadata": {},
   "source": [
    "### TODO: Retrieving non-zero values"
   ]
  },
  {
   "cell_type": "code",
   "execution_count": 29,
   "id": "89b85cfc-415d-4ce1-adb4-927c55971eb7",
   "metadata": {
    "execution": {
     "iopub.execute_input": "2024-05-16T13:00:04.450412Z",
     "iopub.status.busy": "2024-05-16T13:00:04.448459Z",
     "iopub.status.idle": "2024-05-16T13:00:04.461016Z",
     "shell.execute_reply": "2024-05-16T13:00:04.460466Z",
     "shell.execute_reply.started": "2024-05-16T13:00:04.450378Z"
    }
   },
   "outputs": [
    {
     "data": {
      "text/plain": [
       "0"
      ]
     },
     "execution_count": 29,
     "metadata": {},
     "output_type": "execute_result"
    }
   ],
   "source": [
    "keyword_counts.get(next(iter(keyword_counts)))"
   ]
  },
  {
   "cell_type": "markdown",
   "id": "1fc9382d-8fd1-4401-ac83-6548c7840e57",
   "metadata": {
    "jp-MarkdownHeadingCollapsed": true
   },
   "source": [
    "#### dict: filtered_dict"
   ]
  },
  {
   "cell_type": "code",
   "execution_count": 30,
   "id": "fc87820d-08a8-4874-a3f3-cd6bfdfccb1c",
   "metadata": {
    "execution": {
     "iopub.execute_input": "2024-05-16T13:05:38.405642Z",
     "iopub.status.busy": "2024-05-16T13:05:38.400065Z",
     "iopub.status.idle": "2024-05-16T13:05:38.424464Z",
     "shell.execute_reply": "2024-05-16T13:05:38.424161Z",
     "shell.execute_reply.started": "2024-05-16T13:05:38.405590Z"
    },
    "scrolled": true
   },
   "outputs": [],
   "source": [
    "# [item if item.value > 0 for item in keyword_counts]\n",
    "\n",
    "filtered_dict = {key: value for key, value in keyword_counts.items() if value > 0}"
   ]
  },
  {
   "cell_type": "code",
   "execution_count": 31,
   "id": "336348aa-9331-4f8d-8002-77bc78823c90",
   "metadata": {
    "execution": {
     "iopub.execute_input": "2024-05-16T13:05:43.606370Z",
     "iopub.status.busy": "2024-05-16T13:05:43.604467Z",
     "iopub.status.idle": "2024-05-16T13:05:43.617239Z",
     "shell.execute_reply": "2024-05-16T13:05:43.616893Z",
     "shell.execute_reply.started": "2024-05-16T13:05:43.606338Z"
    }
   },
   "outputs": [
    {
     "data": {
      "text/plain": [
       "{'서울': 4, '관악구': 1, '행동': 1}"
      ]
     },
     "execution_count": 31,
     "metadata": {},
     "output_type": "execute_result"
    }
   ],
   "source": [
    "filtered_dict"
   ]
  },
  {
   "cell_type": "markdown",
   "id": "dd73098e-701b-44aa-a043-c1e9537b71a0",
   "metadata": {},
   "source": [
    "### TODO: which level is it?"
   ]
  },
  {
   "cell_type": "markdown",
   "id": "0fb1de29-a810-46dd-b133-4da689ee7942",
   "metadata": {
    "jp-MarkdownHeadingCollapsed": true
   },
   "source": [
    "#### def: filter_address()"
   ]
  },
  {
   "cell_type": "code",
   "execution_count": 88,
   "id": "f108851b-4d71-491c-8754-d4911342c733",
   "metadata": {
    "execution": {
     "iopub.execute_input": "2024-05-16T14:15:47.217463Z",
     "iopub.status.busy": "2024-05-16T14:15:47.216779Z",
     "iopub.status.idle": "2024-05-16T14:15:47.223324Z",
     "shell.execute_reply": "2024-05-16T14:15:47.222929Z",
     "shell.execute_reply.started": "2024-05-16T14:15:47.217435Z"
    }
   },
   "outputs": [],
   "source": [
    "def filter_address(keyword:str, df_addr:pd.DataFrame):\n",
    "    mask = df_addr.map(\n",
    "        lambda x: bool(\n",
    "            re.search(\n",
    "                r'\\b{}'.format(str(x)),\n",
    "                keyword,\n",
    "                re.IGNORECASE)))\n",
    "    df_filtered = df_addr[mask.any(axis=1)]\n",
    "    return df_filtered"
   ]
  },
  {
   "cell_type": "code",
   "execution_count": 36,
   "id": "0da170bb-00f7-418f-ba29-ccea5e309999",
   "metadata": {
    "execution": {
     "iopub.execute_input": "2024-05-16T13:18:26.966885Z",
     "iopub.status.busy": "2024-05-16T13:18:26.966159Z",
     "iopub.status.idle": "2024-05-16T13:18:27.356705Z",
     "shell.execute_reply": "2024-05-16T13:18:27.356382Z",
     "shell.execute_reply.started": "2024-05-16T13:18:26.966857Z"
    }
   },
   "outputs": [],
   "source": [
    "df_fltr = filter_address('서울', df_addr)"
   ]
  },
  {
   "cell_type": "code",
   "execution_count": 37,
   "id": "a97aa321-384b-40f6-a1b2-6a972c4b1698",
   "metadata": {
    "execution": {
     "iopub.execute_input": "2024-05-16T13:18:33.783165Z",
     "iopub.status.busy": "2024-05-16T13:18:33.781242Z",
     "iopub.status.idle": "2024-05-16T13:18:33.860846Z",
     "shell.execute_reply": "2024-05-16T13:18:33.860305Z",
     "shell.execute_reply.started": "2024-05-16T13:18:33.783051Z"
    }
   },
   "outputs": [
    {
     "name": "stdout",
     "output_type": "stream",
     "text": [
      "<class 'pandas.core.frame.DataFrame'>\n",
      "Index: 683 entries, 27516 to 28198\n",
      "Data columns (total 6 columns):\n",
      " #   Column  Non-Null Count  Dtype  \n",
      "---  ------  --------------  -----  \n",
      " 0   lv0     683 non-null    object \n",
      " 1   lv1     683 non-null    object \n",
      " 2   lv2     683 non-null    object \n",
      " 3   lv3     683 non-null    object \n",
      " 4   lv4     0 non-null      object \n",
      " 5   lv5     0 non-null      float64\n",
      "dtypes: float64(1), object(5)\n",
      "memory usage: 37.4+ KB\n"
     ]
    }
   ],
   "source": [
    "df_fltr.info()"
   ]
  },
  {
   "cell_type": "code",
   "execution_count": 38,
   "id": "5d4153ba-d37d-4aec-86db-29a756025acd",
   "metadata": {
    "execution": {
     "iopub.execute_input": "2024-05-16T13:18:43.236040Z",
     "iopub.status.busy": "2024-05-16T13:18:43.232623Z",
     "iopub.status.idle": "2024-05-16T13:18:43.272135Z",
     "shell.execute_reply": "2024-05-16T13:18:43.271798Z",
     "shell.execute_reply.started": "2024-05-16T13:18:43.235946Z"
    }
   },
   "outputs": [
    {
     "data": {
      "text/html": [
       "<div>\n",
       "<style scoped>\n",
       "    .dataframe tbody tr th:only-of-type {\n",
       "        vertical-align: middle;\n",
       "    }\n",
       "\n",
       "    .dataframe tbody tr th {\n",
       "        vertical-align: top;\n",
       "    }\n",
       "\n",
       "    .dataframe thead th {\n",
       "        text-align: right;\n",
       "    }\n",
       "</style>\n",
       "<table border=\"1\" class=\"dataframe\">\n",
       "  <thead>\n",
       "    <tr style=\"text-align: right;\">\n",
       "      <th></th>\n",
       "      <th>lv0</th>\n",
       "      <th>lv1</th>\n",
       "      <th>lv2</th>\n",
       "      <th>lv3</th>\n",
       "      <th>lv4</th>\n",
       "      <th>lv5</th>\n",
       "    </tr>\n",
       "  </thead>\n",
       "  <tbody>\n",
       "    <tr>\n",
       "      <th>27516</th>\n",
       "      <td>서울</td>\n",
       "      <td>서울특별시</td>\n",
       "      <td>종로구</td>\n",
       "      <td>청운동</td>\n",
       "      <td>None</td>\n",
       "      <td>NaN</td>\n",
       "    </tr>\n",
       "    <tr>\n",
       "      <th>27517</th>\n",
       "      <td>서울</td>\n",
       "      <td>서울특별시</td>\n",
       "      <td>종로구</td>\n",
       "      <td>신교동</td>\n",
       "      <td>None</td>\n",
       "      <td>NaN</td>\n",
       "    </tr>\n",
       "    <tr>\n",
       "      <th>27518</th>\n",
       "      <td>서울</td>\n",
       "      <td>서울특별시</td>\n",
       "      <td>종로구</td>\n",
       "      <td>궁정동</td>\n",
       "      <td>None</td>\n",
       "      <td>NaN</td>\n",
       "    </tr>\n",
       "    <tr>\n",
       "      <th>27519</th>\n",
       "      <td>서울</td>\n",
       "      <td>서울특별시</td>\n",
       "      <td>종로구</td>\n",
       "      <td>효자동</td>\n",
       "      <td>None</td>\n",
       "      <td>NaN</td>\n",
       "    </tr>\n",
       "    <tr>\n",
       "      <th>27520</th>\n",
       "      <td>서울</td>\n",
       "      <td>서울특별시</td>\n",
       "      <td>종로구</td>\n",
       "      <td>창성동</td>\n",
       "      <td>None</td>\n",
       "      <td>NaN</td>\n",
       "    </tr>\n",
       "  </tbody>\n",
       "</table>\n",
       "</div>"
      ],
      "text/plain": [
       "      lv0    lv1  lv2  lv3   lv4  lv5\n",
       "27516  서울  서울특별시  종로구  청운동  None  NaN\n",
       "27517  서울  서울특별시  종로구  신교동  None  NaN\n",
       "27518  서울  서울특별시  종로구  궁정동  None  NaN\n",
       "27519  서울  서울특별시  종로구  효자동  None  NaN\n",
       "27520  서울  서울특별시  종로구  창성동  None  NaN"
      ]
     },
     "execution_count": 38,
     "metadata": {},
     "output_type": "execute_result"
    }
   ],
   "source": [
    "df_fltr.head()"
   ]
  },
  {
   "cell_type": "markdown",
   "id": "cbb50499-69e4-48ec-9665-7a8a09b7292e",
   "metadata": {
    "jp-MarkdownHeadingCollapsed": true
   },
   "source": [
    "#### ask: how to know a column name of a keyword"
   ]
  },
  {
   "cell_type": "code",
   "execution_count": 42,
   "id": "7e13d402-5a4d-468b-9f82-b5052a973fed",
   "metadata": {
    "execution": {
     "iopub.execute_input": "2024-05-14T03:03:48.822718Z",
     "iopub.status.busy": "2024-05-14T03:03:48.812960Z",
     "iopub.status.idle": "2024-05-14T03:03:48.898530Z",
     "shell.execute_reply": "2024-05-14T03:03:48.897988Z",
     "shell.execute_reply.started": "2024-05-14T03:03:48.822678Z"
    }
   },
   "outputs": [],
   "source": [
    "food = {\n",
    "    'item': ['apple', 'banana', 'cherry', 'onion', 'garlic', 'flour'],\n",
    "    'stock': [10, 5, 7, 8, 12, 5]\n",
    "}\n",
    "df_food = pd.DataFrame(food)\n"
   ]
  },
  {
   "cell_type": "code",
   "execution_count": 43,
   "id": "c2e08d97-3b03-4abd-8802-7a02ba4ae71d",
   "metadata": {
    "execution": {
     "iopub.execute_input": "2024-05-14T03:03:56.851536Z",
     "iopub.status.busy": "2024-05-14T03:03:56.850762Z",
     "iopub.status.idle": "2024-05-14T03:03:56.901565Z",
     "shell.execute_reply": "2024-05-14T03:03:56.901178Z",
     "shell.execute_reply.started": "2024-05-14T03:03:56.851515Z"
    }
   },
   "outputs": [
    {
     "name": "stdout",
     "output_type": "stream",
     "text": [
      "     item  stock       code\n",
      "0   apple     10      fruit\n",
      "1  banana      5      fruit\n",
      "2  cherry      7      fruit\n",
      "3   onion      8  vegetable\n",
      "4  garlic     12  vegetable\n",
      "5   flour      5      grain\n"
     ]
    }
   ],
   "source": [
    "# Define conditions and choices for the 'code' column\n",
    "conditions = [\n",
    "    df_food['item'].isin(['apple', 'banana', 'cherry']),\n",
    "    df_food['item'].isin(['onion', 'garlic']),\n",
    "    df_food['item'].isin(['flour'])\n",
    "]\n",
    "choices = ['fruit', 'vegetable', 'grain']\n",
    "\n",
    "# Create the 'code' column based on conditions\n",
    "df_food['code'] = np.select(conditions, choices, default='')\n",
    "\n",
    "print(df_food)"
   ]
  },
  {
   "cell_type": "code",
   "execution_count": 39,
   "id": "c80cb157-2465-454c-ba94-4fc6bd11cd72",
   "metadata": {
    "execution": {
     "iopub.execute_input": "2024-05-16T13:31:52.777016Z",
     "iopub.status.busy": "2024-05-16T13:31:52.774361Z",
     "iopub.status.idle": "2024-05-16T13:31:52.834992Z",
     "shell.execute_reply": "2024-05-16T13:31:52.833008Z",
     "shell.execute_reply.started": "2024-05-16T13:31:52.776972Z"
    }
   },
   "outputs": [
    {
     "name": "stdout",
     "output_type": "stream",
     "text": [
      "item\n"
     ]
    }
   ],
   "source": [
    "import pandas as pd\n",
    "\n",
    "# Step 1: Create a DataFrame\n",
    "data = {\n",
    "    'item': ['apple', 'banana', 'cherry', 'onion', 'garlic', 'flour'],\n",
    "    'stock': [10, 5, 7, 8, 12, 5],\n",
    "    'code': ['fruit', 'fruit', 'fruit', 'vegetable', 'vegetable', 'grain']\n",
    "}\n",
    "\n",
    "df = pd.DataFrame(data)\n",
    "\n",
    "# Step 2: Find the column where 'onion' is located\n",
    "column_name = None\n",
    "for col in df.columns:\n",
    "    if 'onion' in df[col].values:\n",
    "        column_name = col\n",
    "        break\n",
    "\n",
    "# Step 3: Print the column name\n",
    "print(column_name)"
   ]
  },
  {
   "cell_type": "markdown",
   "id": "5d6710c6-33bd-4dc9-a1e5-65d6abde14d8",
   "metadata": {
    "jp-MarkdownHeadingCollapsed": true
   },
   "source": [
    "#### apply."
   ]
  },
  {
   "cell_type": "code",
   "execution_count": 41,
   "id": "a7273b25-97d9-4729-95fd-17813fead317",
   "metadata": {
    "execution": {
     "iopub.execute_input": "2024-05-16T13:36:55.956667Z",
     "iopub.status.busy": "2024-05-16T13:36:55.952581Z",
     "iopub.status.idle": "2024-05-16T13:36:55.975429Z",
     "shell.execute_reply": "2024-05-16T13:36:55.975014Z",
     "shell.execute_reply.started": "2024-05-16T13:36:55.956608Z"
    },
    "scrolled": true
   },
   "outputs": [],
   "source": [
    "found_set = set([])\n",
    "for col in df_fltr.columns:\n",
    "    if '서울' in df_fltr[col].values:\n",
    "        if col not in found_set:\n",
    "            found_set.add(col)"
   ]
  },
  {
   "cell_type": "code",
   "execution_count": 42,
   "id": "78d3e873-fa79-48f5-9680-3e505a3b8ecf",
   "metadata": {
    "execution": {
     "iopub.execute_input": "2024-05-16T13:37:06.081361Z",
     "iopub.status.busy": "2024-05-16T13:37:06.080000Z",
     "iopub.status.idle": "2024-05-16T13:37:06.091225Z",
     "shell.execute_reply": "2024-05-16T13:37:06.090527Z",
     "shell.execute_reply.started": "2024-05-16T13:37:06.081303Z"
    }
   },
   "outputs": [
    {
     "data": {
      "text/plain": [
       "{'lv0'}"
      ]
     },
     "execution_count": 42,
     "metadata": {},
     "output_type": "execute_result"
    }
   ],
   "source": [
    "found_set"
   ]
  },
  {
   "cell_type": "markdown",
   "id": "4e43e020-652f-4e9d-b3c2-9ed7804ad861",
   "metadata": {
    "jp-MarkdownHeadingCollapsed": true
   },
   "source": [
    "#### def: get_level()"
   ]
  },
  {
   "cell_type": "code",
   "execution_count": 87,
   "id": "2d8d8cc1-0508-4626-b50e-f28d60dbbbd5",
   "metadata": {
    "execution": {
     "iopub.execute_input": "2024-05-16T14:15:22.534330Z",
     "iopub.status.busy": "2024-05-16T14:15:22.529713Z",
     "iopub.status.idle": "2024-05-16T14:15:22.556738Z",
     "shell.execute_reply": "2024-05-16T14:15:22.555156Z",
     "shell.execute_reply.started": "2024-05-16T14:15:22.534193Z"
    }
   },
   "outputs": [],
   "source": [
    "def get_level(keyword:str, df_fltr:pd.DataFrame):\n",
    "    found_set = set([])\n",
    "    for col in df_fltr.columns:\n",
    "        if keyword in df_fltr[col].values:\n",
    "            if col not in found_set:\n",
    "                found_set.add(col)\n",
    "                \n",
    "    if len(found_set) > 0:\n",
    "        return found_set\n",
    "    else:\n",
    "        return None"
   ]
  },
  {
   "cell_type": "code",
   "execution_count": 59,
   "id": "b7ca1120-9c00-48ae-ba40-6455a6f47cb9",
   "metadata": {
    "execution": {
     "iopub.execute_input": "2024-05-16T13:56:47.605260Z",
     "iopub.status.busy": "2024-05-16T13:56:47.602716Z",
     "iopub.status.idle": "2024-05-16T13:56:47.657837Z",
     "shell.execute_reply": "2024-05-16T13:56:47.657135Z",
     "shell.execute_reply.started": "2024-05-16T13:56:47.605196Z"
    }
   },
   "outputs": [
    {
     "name": "stdout",
     "output_type": "stream",
     "text": [
      "서울(4): lv0\n",
      "관악구(1): lv2\n"
     ]
    }
   ],
   "source": [
    "for key, value in filtered_dict.items():\n",
    "    res = get_level(key)\n",
    "    if res:\n",
    "        if len(res) == 1:\n",
    "            print(f'{key}({value}): {next(iter(res))}')\n",
    "        else:\n",
    "            print(f'{key}({value}): {res}')\n",
    "            "
   ]
  },
  {
   "cell_type": "code",
   "execution_count": 60,
   "id": "c5d616af-6b3f-491a-8389-d9762fffc258",
   "metadata": {
    "execution": {
     "iopub.execute_input": "2024-05-16T13:57:00.844072Z",
     "iopub.status.busy": "2024-05-16T13:57:00.842660Z",
     "iopub.status.idle": "2024-05-16T13:57:00.852634Z",
     "shell.execute_reply": "2024-05-16T13:57:00.850881Z",
     "shell.execute_reply.started": "2024-05-16T13:57:00.844025Z"
    }
   },
   "outputs": [],
   "source": [
    "res = get_level(next(iter(filtered_dict)))"
   ]
  },
  {
   "cell_type": "code",
   "execution_count": 65,
   "id": "853c5a2b-829a-4d9c-a564-72d9090b94ba",
   "metadata": {
    "execution": {
     "iopub.execute_input": "2024-05-16T14:01:11.384898Z",
     "iopub.status.busy": "2024-05-16T14:01:11.383707Z",
     "iopub.status.idle": "2024-05-16T14:01:11.394105Z",
     "shell.execute_reply": "2024-05-16T14:01:11.393630Z",
     "shell.execute_reply.started": "2024-05-16T14:01:11.384853Z"
    }
   },
   "outputs": [
    {
     "data": {
      "text/plain": [
       "'lv0'"
      ]
     },
     "execution_count": 65,
     "metadata": {},
     "output_type": "execute_result"
    }
   ],
   "source": [
    "res_iter = iter(res)\n",
    "next(res_iter)"
   ]
  },
  {
   "cell_type": "markdown",
   "id": "0339b28e-3b32-48d4-828e-94c70bd74b37",
   "metadata": {},
   "source": [
    "근데...  \n",
    "왜 '행동'이 lv3 이라고 나오지 않았지?  "
   ]
  },
  {
   "cell_type": "markdown",
   "id": "f747597f-9093-4b7a-8114-fe17a5f44e7e",
   "metadata": {
    "jp-MarkdownHeadingCollapsed": true
   },
   "source": [
    "#### issue: not found '행동' in lv3"
   ]
  },
  {
   "cell_type": "code",
   "execution_count": 75,
   "id": "363046ff-a815-48a7-bbcf-17627d468d45",
   "metadata": {
    "execution": {
     "iopub.execute_input": "2024-05-16T14:03:15.098147Z",
     "iopub.status.busy": "2024-05-16T14:03:15.096783Z",
     "iopub.status.idle": "2024-05-16T14:03:15.104218Z",
     "shell.execute_reply": "2024-05-16T14:03:15.103562Z",
     "shell.execute_reply.started": "2024-05-16T14:03:15.098110Z"
    }
   },
   "outputs": [],
   "source": [
    "fltr_iter = iter(filtered_dict)"
   ]
  },
  {
   "cell_type": "code",
   "execution_count": 78,
   "id": "31105985-17f7-4099-814a-ae5bb13b43ad",
   "metadata": {
    "execution": {
     "iopub.execute_input": "2024-05-16T14:03:51.086875Z",
     "iopub.status.busy": "2024-05-16T14:03:51.086365Z",
     "iopub.status.idle": "2024-05-16T14:03:51.092743Z",
     "shell.execute_reply": "2024-05-16T14:03:51.091869Z",
     "shell.execute_reply.started": "2024-05-16T14:03:51.086849Z"
    }
   },
   "outputs": [
    {
     "data": {
      "text/plain": [
       "'행동'"
      ]
     },
     "execution_count": 78,
     "metadata": {},
     "output_type": "execute_result"
    }
   ],
   "source": [
    "next_item = next(fltr_iter)\n",
    "next_item"
   ]
  },
  {
   "cell_type": "code",
   "execution_count": 79,
   "id": "7a08d998-bf2e-426e-8635-b042179addb2",
   "metadata": {
    "execution": {
     "iopub.execute_input": "2024-05-16T14:03:59.500942Z",
     "iopub.status.busy": "2024-05-16T14:03:59.499279Z",
     "iopub.status.idle": "2024-05-16T14:03:59.516462Z",
     "shell.execute_reply": "2024-05-16T14:03:59.516026Z",
     "shell.execute_reply.started": "2024-05-16T14:03:59.500895Z"
    }
   },
   "outputs": [],
   "source": [
    "res = get_level(next_item)\n",
    "res"
   ]
  },
  {
   "cell_type": "code",
   "execution_count": 83,
   "id": "13ac48d7-c711-46c4-b97b-0dec28a9d05d",
   "metadata": {
    "execution": {
     "iopub.execute_input": "2024-05-16T14:06:23.686718Z",
     "iopub.status.busy": "2024-05-16T14:06:23.684747Z",
     "iopub.status.idle": "2024-05-16T14:06:23.992415Z",
     "shell.execute_reply": "2024-05-16T14:06:23.991554Z",
     "shell.execute_reply.started": "2024-05-16T14:06:23.686667Z"
    }
   },
   "outputs": [
    {
     "name": "stderr",
     "output_type": "stream",
     "text": [
      "ic| col: 'lv0'\n",
      "ic| col: 'lv1'\n",
      "ic| col: 'lv2'\n",
      "ic| col: 'lv3'\n",
      "ic| col: 'lv4'\n",
      "ic| col: 'lv5'\n"
     ]
    }
   ],
   "source": [
    "for col in df_fltr.columns:\n",
    "    ic(col)\n",
    "    if next_item in df_fltr[col].values:\n",
    "        ic(col)"
   ]
  },
  {
   "cell_type": "code",
   "execution_count": 84,
   "id": "63e37d27-d87e-4e76-a89b-ecdaf6637bf1",
   "metadata": {
    "execution": {
     "iopub.execute_input": "2024-05-16T14:11:29.802584Z",
     "iopub.status.busy": "2024-05-16T14:11:29.801473Z",
     "iopub.status.idle": "2024-05-16T14:11:29.855257Z",
     "shell.execute_reply": "2024-05-16T14:11:29.854527Z",
     "shell.execute_reply.started": "2024-05-16T14:11:29.802552Z"
    }
   },
   "outputs": [
    {
     "name": "stdout",
     "output_type": "stream",
     "text": [
      "<class 'pandas.core.frame.DataFrame'>\n",
      "Index: 683 entries, 27516 to 28198\n",
      "Data columns (total 6 columns):\n",
      " #   Column  Non-Null Count  Dtype  \n",
      "---  ------  --------------  -----  \n",
      " 0   lv0     683 non-null    object \n",
      " 1   lv1     683 non-null    object \n",
      " 2   lv2     683 non-null    object \n",
      " 3   lv3     683 non-null    object \n",
      " 4   lv4     0 non-null      object \n",
      " 5   lv5     0 non-null      float64\n",
      "dtypes: float64(1), object(5)\n",
      "memory usage: 37.4+ KB\n"
     ]
    }
   ],
   "source": [
    "df_fltr.info()"
   ]
  },
  {
   "cell_type": "code",
   "execution_count": 85,
   "id": "503f05aa-3ca1-4258-8758-49a7dac151d9",
   "metadata": {
    "execution": {
     "iopub.execute_input": "2024-05-16T14:13:08.875358Z",
     "iopub.status.busy": "2024-05-16T14:13:08.874304Z",
     "iopub.status.idle": "2024-05-16T14:13:08.890783Z",
     "shell.execute_reply": "2024-05-16T14:13:08.890331Z",
     "shell.execute_reply.started": "2024-05-16T14:13:08.875326Z"
    }
   },
   "outputs": [],
   "source": [
    "if next_item in df_fltr['lv3'].values:\n",
    "    ic(next_item)"
   ]
  },
  {
   "cell_type": "code",
   "execution_count": 86,
   "id": "3dc935c2-cf7c-4da6-8a34-2b0efa4b0577",
   "metadata": {
    "execution": {
     "iopub.execute_input": "2024-05-16T14:13:23.745792Z",
     "iopub.status.busy": "2024-05-16T14:13:23.743776Z",
     "iopub.status.idle": "2024-05-16T14:13:23.764364Z",
     "shell.execute_reply": "2024-05-16T14:13:23.763534Z",
     "shell.execute_reply.started": "2024-05-16T14:13:23.745719Z"
    },
    "scrolled": true
   },
   "outputs": [
    {
     "data": {
      "text/plain": [
       "array(['청운동', '신교동', '궁정동', '효자동', '창성동', '통의동', '적선동', '통인동', '누상동',\n",
       "       '누하동', '옥인동', '체부동', '필운동', '내자동', '사직동', '도렴동', '당주동', '내수동',\n",
       "       '세종로', '신문로1가', '신문로2가', '청진동', '서린동', '수송동', '중학동', '종로1가', '공평동',\n",
       "       '관훈동', '견지동', '와룡동', '권농동', '운니동', '익선동', '경운동', '관철동', '인사동',\n",
       "       '낙원동', '종로2가', '팔판동', '삼청동', '안국동', '소격동', '화동', '사간동', '송현동',\n",
       "       '가회동', '재동', '계동', '원서동', '훈정동', '묘동', '봉익동', '돈의동', '장사동', '관수동',\n",
       "       '종로3가', '인의동', '예지동', '원남동', '연지동', '종로4가', '효제동', '종로5가', '종로6가',\n",
       "       '이화동', '연건동', '충신동', '동숭동', '혜화동', '명륜1가', '명륜2가', '명륜4가', '명륜3가',\n",
       "       '창신동', '숭인동', '교남동', '평동', '송월동', '홍파동', '교북동', '행촌동', '구기동',\n",
       "       '평창동', '부암동', '홍지동', '신영동', '무악동', '무교동', '다동', '태평로1가', '을지로1가',\n",
       "       '을지로2가', '남대문로1가', '삼각동', '수하동', '장교동', '수표동', '소공동', '남창동', '북창동',\n",
       "       '태평로2가', '남대문로2가', '남대문로3가', '남대문로4가', '남대문로5가', '봉래동1가', '봉래동2가',\n",
       "       '회현동1가', '회현동2가', '회현동3가', '충무로1가', '충무로2가', '명동1가', '명동2가',\n",
       "       '남산동1가', '남산동2가', '남산동3가', '저동1가', '충무로4가', '충무로5가', '인현동2가',\n",
       "       '예관동', '묵정동', '필동1가', '필동2가', '필동3가', '남학동', '주자동', '예장동', '장충동1가',\n",
       "       '장충동2가', '광희동1가', '광희동2가', '쌍림동', '을지로6가', '을지로7가', '을지로4가',\n",
       "       '을지로5가', '주교동', '방산동', '오장동', '을지로3가', '입정동', '산림동', '충무로3가', '초동',\n",
       "       '인현동1가', '저동2가', '신당동', '흥인동', '무학동', '황학동', '서소문동', '정동', '순화동',\n",
       "       '의주로1가', '충정로1가', '중림동', '의주로2가', '만리동1가', '만리동2가', '영주동', '대창동1가',\n",
       "       '대창동2가', '중앙동1가', '중앙동2가', '중앙동3가', '중앙동4가', '중앙동5가', '중앙동6가',\n",
       "       '중앙동7가', '동광동1가', '동광동2가', '동광동3가', '동광동4가', '동광동5가', '대청동1가',\n",
       "       '대청동2가', '대청동3가', '대청동4가', '보수동1가', '보수동2가', '보수동3가', '부평동1가',\n",
       "       '부평동2가', '부평동3가', '부평동4가', '신창동1가', '신창동2가', '신창동3가', '신창동4가',\n",
       "       '창선동1가', '창선동2가', '광복동1가', '광복동2가', '광복동3가', '남포동1가', '남포동2가',\n",
       "       '남포동3가', '남포동4가', '남포동5가', '남포동6가', '동인동1가', '동인동2가', '동인동3가',\n",
       "       '동인동4가', '삼덕동1가', '삼덕동2가', '삼덕동3가', '봉산동', '장관동', '상서동', '수동',\n",
       "       '덕산동', '종로1가', '종로2가', '사일동', '동일동', '남일동', '전동', '동성로3가', '동문동',\n",
       "       '문화동', '공평동', '동성로2가', '태평로1가', '교동', '용덕동', '상덕동', '완전동', '도원동',\n",
       "       '수창동', '태평로3가', '인교동', '서야동', '서성로1가', '시장북로', '하서동', '남성로',\n",
       "       '계산동1가', '계산동2가', '동산동', '서문로2가', '서성로2가', '포정동', '서문로1가', '서내동',\n",
       "       '북성로2가', '대안동', '동성로1가', '태평로2가', '북성로1가', '화전동', '향촌동', '북내동',\n",
       "       '대신동', '달성동', '남산동', '대봉동', '중앙동1가', '중앙동2가', '중앙동3가', '중앙동4가',\n",
       "       '해안동1가', '해안동2가', '해안동3가', '해안동4가', '관동1가', '관동2가', '관동3가', '항동1가',\n",
       "       '항동2가', '항동3가', '항동4가', '항동5가', '항동6가', '항동7가', '송학동1가', '송학동2가',\n",
       "       '송학동3가', '사동', '신생동', '신포동', '답동', '신흥동1가', '신흥동2가', '신흥동3가',\n",
       "       '선화동', '유동', '율목동', '도원동', '내동', '경동', '용동', '인현동', '전동', '북성동1가',\n",
       "       '북성동2가', '북성동3가', '선린동', '송월동1가', '송월동2가', '송월동3가', '중산동', '운남동',\n",
       "       '운서동', '운북동', '을왕동', '남북동', '덕교동', '무의동', '은행동', '선화동', '목동',\n",
       "       '중촌동', '대흥동', '문창동', '석교동', '호동', '옥계동', '대사동', '부사동', '용두동',\n",
       "       '오류동', '태평동', '유천동', '문화동', '산성동', '사정동', '안영동', '무수동', '구완동',\n",
       "       '침산동', '목달동', '정생동', '어남동', '금동', '학성동', '학산동', '복산동', '북정동',\n",
       "       '옥교동', '성남동', '교동', '우정동', '성안동', '유곡동', '태화동', '다운동', '동동', '서동',\n",
       "       '남외동', '장현동', '약사동', '반구동', '후암동', '용산동2가', '용산동4가', '갈월동', '남영동',\n",
       "       '용산동1가', '동자동', '서계동', '청파동1가', '청파동2가', '청파동3가', '원효로1가', '원효로2가',\n",
       "       '신창동', '산천동', '청암동', '원효로3가', '원효로4가', '효창동', '도원동', '용문동', '문배동',\n",
       "       '신계동', '한강로1가', '한강로2가', '용산동3가', '용산동5가', '한강로3가', '이촌동', '이태원동',\n",
       "       '한남동', '동빙고동', '서빙고동', '주성동', '용산동6가', '보광동', '상왕십리동', '하왕십리동',\n",
       "       '홍익동', '도선동', '마장동', '사근동', '행당동', '응봉동', '금호동1가', '금호동2가',\n",
       "       '금호동3가', '금호동4가', '옥수동', '성수동1가', '성수동2가', '송정동', '용답동', '중곡동',\n",
       "       '능동', '구의동', '광장동', '자양동', '화양동', '군자동', '신설동', '용두동', '제기동',\n",
       "       '전농동', '답십리동', '장안동', '청량리동', '회기동', '휘경동', '이문동', '면목동', '상봉동',\n",
       "       '중화동', '묵동', '망우동', '신내동', '성북동', '성북동1가', '돈암동', '동소문동1가',\n",
       "       '동소문동2가', '동소문동3가', '동소문동4가', '동소문동5가', '동소문동6가', '동소문동7가',\n",
       "       '삼선동1가', '삼선동2가', '삼선동3가', '삼선동4가', '삼선동5가', '동선동1가', '동선동2가',\n",
       "       '동선동3가', '동선동4가', '동선동5가', '안암동1가', '안암동2가', '안암동3가', '안암동4가',\n",
       "       '안암동5가', '보문동4가', '보문동5가', '보문동6가', '보문동7가', '보문동1가', '보문동2가',\n",
       "       '보문동3가', '정릉동', '길음동', '종암동', '하월곡동', '상월곡동', '장위동', '석관동', '미아동',\n",
       "       '번동', '수유동', '우이동', '쌍문동', '방학동', '창동', '도봉동', '월계동', '공릉동', '하계동',\n",
       "       '상계동', '중계동', '수색동', '녹번동', '불광동', '갈현동', '구산동', '대조동', '응암동',\n",
       "       '역촌동', '신사동', '증산동', '진관동', '충정로2가', '충정로3가', '합동', '미근동', '냉천동',\n",
       "       '천연동', '옥천동', '영천동', '현저동', '북아현동', '홍제동', '대현동', '대신동', '신촌동',\n",
       "       '봉원동', '창천동', '연희동', '홍은동', '북가좌동', '남가좌동', '아현동', '공덕동', '신공덕동',\n",
       "       '도화동', '용강동', '토정동', '마포동', '대흥동', '염리동', '노고산동', '신수동', '현석동',\n",
       "       '구수동', '창전동', '상수동', '하중동', '신정동', '당인동', '서교동', '동교동', '합정동',\n",
       "       '망원동', '연남동', '성산동', '중동', '상암동', '신정동', '목동', '신월동', '염창동', '등촌동',\n",
       "       '화곡동', '가양동', '마곡동', '내발산동', '외발산동', '공항동', '방화동', '개화동', '과해동',\n",
       "       '오곡동', '오쇠동', '대저1동', '대저2동', '강동동', '명지동', '죽림동', '식만동', '죽동동',\n",
       "       '봉림동', '송정동', '화전동', '녹산동', '생곡동', '구랑동', '지사동', '미음동', '범방동',\n",
       "       '신호동', '동선동', '성북동', '눌차동', '천성동', '대항동', '신도림동', '구로동', '가리봉동',\n",
       "       '고척동', '개봉동', '오류동', '궁동', '온수동', '천왕동', '항동', '가산동', '독산동', '시흥동',\n",
       "       '영등포동', '영등포동1가', '영등포동2가', '영등포동3가', '영등포동4가', '영등포동5가', '영등포동6가',\n",
       "       '영등포동7가', '영등포동8가', '여의도동', '당산동1가', '당산동2가', '당산동3가', '당산동4가',\n",
       "       '당산동5가', '당산동6가', '당산동', '도림동', '문래동1가', '문래동2가', '문래동3가', '문래동4가',\n",
       "       '문래동5가', '문래동6가', '양평동1가', '양평동2가', '양평동3가', '양평동4가', '양평동5가',\n",
       "       '양평동6가', '양화동', '신길동', '대림동', '양평동', '노량진동', '상도동', '상도1동', '본동',\n",
       "       '흑석동', '동작동', '사당동', '대방동', '신대방동', '봉천동', '신림동', '남현동', '방배동',\n",
       "       '양재동', '우면동', '원지동', '잠원동', '반포동', '서초동', '내곡동', '염곡동', '신원동',\n",
       "       '역삼동', '개포동', '청담동', '삼성동', '대치동', '신사동', '논현동', '압구정동', '세곡동',\n",
       "       '자곡동', '율현동', '일원동', '수서동', '도곡동', '잠실동', '신천동', '풍납동', '송파동',\n",
       "       '석촌동', '삼전동', '가락동', '문정동', '장지동', '방이동', '오금동', '거여동', '마천동',\n",
       "       '명일동', '고덕동', '상일동', '길동', '둔촌동', '암사동', '성내동', '천호동', '강일동'],\n",
       "      dtype=object)"
      ]
     },
     "execution_count": 86,
     "metadata": {},
     "output_type": "execute_result"
    }
   ],
   "source": [
    "df_fltr['lv3'].values"
   ]
  },
  {
   "cell_type": "code",
   "execution_count": 89,
   "id": "45a77863-e6d3-4775-9452-421f2cfde32e",
   "metadata": {
    "execution": {
     "iopub.execute_input": "2024-05-16T14:17:09.357445Z",
     "iopub.status.busy": "2024-05-16T14:17:09.356653Z",
     "iopub.status.idle": "2024-05-16T14:17:09.386638Z",
     "shell.execute_reply": "2024-05-16T14:17:09.386308Z",
     "shell.execute_reply.started": "2024-05-16T14:17:09.357414Z"
    }
   },
   "outputs": [
    {
     "data": {
      "text/plain": [
       "{'lv3'}"
      ]
     },
     "execution_count": 89,
     "metadata": {},
     "output_type": "execute_result"
    }
   ],
   "source": [
    "get_level(next_item, df_filtered)"
   ]
  },
  {
   "cell_type": "markdown",
   "id": "1b7626b7-5e10-46b6-b455-c04b3157483a",
   "metadata": {},
   "source": [
    "df_filtered 를 안쓰고,  \n",
    "'서울' 필터링된 df_fltr 을 써서 그랬음.  "
   ]
  },
  {
   "cell_type": "markdown",
   "id": "4041b65c-9099-4efc-9699-4922bd03376b",
   "metadata": {
    "jp-MarkdownHeadingCollapsed": true
   },
   "source": [
    "#### def: which_level()"
   ]
  },
  {
   "cell_type": "code",
   "execution_count": 238,
   "id": "147a6431-9a09-4f02-94df-8d6ec05e2474",
   "metadata": {
    "execution": {
     "iopub.execute_input": "2024-05-17T07:16:31.115637Z",
     "iopub.status.busy": "2024-05-17T07:16:31.109718Z",
     "iopub.status.idle": "2024-05-17T07:16:31.168758Z",
     "shell.execute_reply": "2024-05-17T07:16:31.168325Z",
     "shell.execute_reply.started": "2024-05-17T07:16:31.115545Z"
    }
   },
   "outputs": [],
   "source": [
    "def which_level(df_filtered:pd.DataFrame, filtered_dict:dict) -> dict:\n",
    "    results = {}\n",
    "    for key, value in filtered_dict.items():\n",
    "        res = get_level(key, df_filtered)\n",
    "        if res:\n",
    "            results[key] = {\n",
    "                'count': value,\n",
    "                'level': list(res)\n",
    "            }\n",
    "    return results"
   ]
  },
  {
   "cell_type": "code",
   "execution_count": 247,
   "id": "a55b1f88-5526-4ff9-9a7b-3a386ed60a77",
   "metadata": {
    "execution": {
     "iopub.execute_input": "2024-05-17T07:23:34.051850Z",
     "iopub.status.busy": "2024-05-17T07:23:34.050854Z",
     "iopub.status.idle": "2024-05-17T07:23:34.068241Z",
     "shell.execute_reply": "2024-05-17T07:23:34.067890Z",
     "shell.execute_reply.started": "2024-05-17T07:23:34.051819Z"
    }
   },
   "outputs": [
    {
     "data": {
      "text/plain": [
       "{'서울': {'count': 4, 'level': ['lv0']},\n",
       " '관악구': {'count': 1, 'level': ['lv2']},\n",
       " '행동': {'count': 1, 'level': ['lv3']}}"
      ]
     },
     "execution_count": 247,
     "metadata": {},
     "output_type": "execute_result"
    }
   ],
   "source": [
    "which_level(df_filtered, filtered_dict)"
   ]
  },
  {
   "cell_type": "markdown",
   "id": "289b5f83-4c28-42fa-987c-b60ee6ac4a03",
   "metadata": {
    "jp-MarkdownHeadingCollapsed": true
   },
   "source": [
    "### TODO: checking upper level"
   ]
  },
  {
   "cell_type": "markdown",
   "id": "65d97138-1198-40fd-bcad-a780c96d265c",
   "metadata": {},
   "source": [
    "lv3, lv2 의 상위 레벨은 무엇이고,  \n",
    "찾은 결과에 그 레벨이 있는지 확인하기.  "
   ]
  },
  {
   "cell_type": "code",
   "execution_count": 92,
   "id": "22517c69-84cc-49e2-ae46-c6ee5f32ab4e",
   "metadata": {
    "execution": {
     "iopub.execute_input": "2024-05-16T15:08:39.525551Z",
     "iopub.status.busy": "2024-05-16T15:08:39.520641Z",
     "iopub.status.idle": "2024-05-16T15:08:39.548583Z",
     "shell.execute_reply": "2024-05-16T15:08:39.547933Z",
     "shell.execute_reply.started": "2024-05-16T15:08:39.525463Z"
    }
   },
   "outputs": [
    {
     "data": {
      "text/plain": [
       "{'서울': 4, '관악구': 1, '행동': 1}"
      ]
     },
     "execution_count": 92,
     "metadata": {},
     "output_type": "execute_result"
    }
   ],
   "source": [
    "filtered_dict"
   ]
  },
  {
   "cell_type": "code",
   "execution_count": 94,
   "id": "f31f4806-beee-4ed6-8010-2215314d37aa",
   "metadata": {
    "execution": {
     "iopub.execute_input": "2024-05-16T15:08:58.379879Z",
     "iopub.status.busy": "2024-05-16T15:08:58.379176Z",
     "iopub.status.idle": "2024-05-16T15:08:58.516267Z",
     "shell.execute_reply": "2024-05-16T15:08:58.515851Z",
     "shell.execute_reply.started": "2024-05-16T15:08:58.379857Z"
    }
   },
   "outputs": [
    {
     "data": {
      "text/html": [
       "<div>\n",
       "<style scoped>\n",
       "    .dataframe tbody tr th:only-of-type {\n",
       "        vertical-align: middle;\n",
       "    }\n",
       "\n",
       "    .dataframe tbody tr th {\n",
       "        vertical-align: top;\n",
       "    }\n",
       "\n",
       "    .dataframe thead th {\n",
       "        text-align: right;\n",
       "    }\n",
       "</style>\n",
       "<table border=\"1\" class=\"dataframe\">\n",
       "  <thead>\n",
       "    <tr style=\"text-align: right;\">\n",
       "      <th></th>\n",
       "      <th>lv0</th>\n",
       "      <th>lv1</th>\n",
       "      <th>lv2</th>\n",
       "      <th>lv3</th>\n",
       "      <th>lv4</th>\n",
       "      <th>lv5</th>\n",
       "    </tr>\n",
       "  </thead>\n",
       "  <tbody>\n",
       "    <tr>\n",
       "      <th>11913</th>\n",
       "      <td>전남</td>\n",
       "      <td>전라남도</td>\n",
       "      <td>순천시</td>\n",
       "      <td>행동</td>\n",
       "      <td>None</td>\n",
       "      <td>NaN</td>\n",
       "    </tr>\n",
       "    <tr>\n",
       "      <th>27516</th>\n",
       "      <td>서울</td>\n",
       "      <td>서울특별시</td>\n",
       "      <td>종로구</td>\n",
       "      <td>청운동</td>\n",
       "      <td>None</td>\n",
       "      <td>NaN</td>\n",
       "    </tr>\n",
       "  </tbody>\n",
       "</table>\n",
       "</div>"
      ],
      "text/plain": [
       "      lv0    lv1  lv2  lv3   lv4  lv5\n",
       "11913  전남   전라남도  순천시   행동  None  NaN\n",
       "27516  서울  서울특별시  종로구  청운동  None  NaN"
      ]
     },
     "execution_count": 94,
     "metadata": {},
     "output_type": "execute_result"
    }
   ],
   "source": [
    "df_filtered.head(2)"
   ]
  },
  {
   "cell_type": "code",
   "execution_count": null,
   "id": "18e1d5a9-a2da-4da9-9732-bfbdf6f506f4",
   "metadata": {
    "execution": {
     "iopub.execute_input": "2024-05-17T02:12:54.152498Z",
     "iopub.status.busy": "2024-05-17T02:12:54.148735Z",
     "iopub.status.idle": "2024-05-17T02:12:54.487614Z",
     "shell.execute_reply": "2024-05-17T02:12:54.486602Z",
     "shell.execute_reply.started": "2024-05-17T02:12:54.152462Z"
    }
   },
   "outputs": [],
   "source": [
    "got_level = which_level()"
   ]
  },
  {
   "cell_type": "code",
   "execution_count": 109,
   "id": "3329fb63-9162-48ee-ae99-353ca7a36c85",
   "metadata": {
    "execution": {
     "iopub.execute_input": "2024-05-17T02:20:49.123988Z",
     "iopub.status.busy": "2024-05-17T02:20:49.110198Z",
     "iopub.status.idle": "2024-05-17T02:20:49.243561Z",
     "shell.execute_reply": "2024-05-17T02:20:49.242983Z",
     "shell.execute_reply.started": "2024-05-17T02:20:49.123904Z"
    }
   },
   "outputs": [
    {
     "name": "stderr",
     "output_type": "stream",
     "text": [
      "ic| key: '서울', value: {'count': 4, 'level': ['lv0']}\n",
      "ic| key: '관악구', value: {'count': 1, 'level': ['lv2']}\n",
      "ic| lv: 'lv2'\n",
      "ic| key: '행동', value: {'count': 1, 'level': ['lv3']}\n",
      "ic| lv: 'lv3'\n"
     ]
    }
   ],
   "source": [
    "for key, value in got_level.items():\n",
    "    # level = got_level[item]['level']\n",
    "    ic(key, value)\n",
    "    for lv in value['level']:\n",
    "        if lv != 'lv0' and lv != 'lv1':\n",
    "            ic(lv)"
   ]
  },
  {
   "cell_type": "markdown",
   "id": "fbb5a0ba-7799-43fd-9c75-069d97068bb2",
   "metadata": {
    "jp-MarkdownHeadingCollapsed": true
   },
   "source": [
    "#### def: upper_address()"
   ]
  },
  {
   "cell_type": "code",
   "execution_count": 110,
   "id": "6d48276e-3768-4eb3-89ec-c7fd5d6df997",
   "metadata": {
    "execution": {
     "iopub.execute_input": "2024-05-17T02:40:23.128425Z",
     "iopub.status.busy": "2024-05-17T02:40:23.124273Z",
     "iopub.status.idle": "2024-05-17T02:40:23.189011Z",
     "shell.execute_reply": "2024-05-17T02:40:23.188377Z",
     "shell.execute_reply.started": "2024-05-17T02:40:23.128390Z"
    }
   },
   "outputs": [],
   "source": [
    "def upper_address(df_address:pd.DataFrame, keyword:str, level:str):\n",
    "    mask = df_address.map(\n",
    "        lambda x: bool(\n",
    "            re.search(\n",
    "                r'\\b{}'.format(str(x)),\n",
    "                keyword,\n",
    "                re.IGNORECASE)))\n",
    "    # df_filtered = df_address[mask.any(axis=1)]\n",
    "    df_filtered = df_address[mask[level]]\n",
    "    return df_filtered"
   ]
  },
  {
   "cell_type": "markdown",
   "id": "a7abeaf8-1932-459c-9fd0-9a2a6a99d877",
   "metadata": {
    "jp-MarkdownHeadingCollapsed": true
   },
   "source": [
    "#### dict: level_int"
   ]
  },
  {
   "cell_type": "code",
   "execution_count": 113,
   "id": "c09f22f7-41d9-4577-aa15-1733c004ec02",
   "metadata": {
    "execution": {
     "iopub.execute_input": "2024-05-17T02:48:50.854416Z",
     "iopub.status.busy": "2024-05-17T02:48:50.851244Z",
     "iopub.status.idle": "2024-05-17T02:48:50.875117Z",
     "shell.execute_reply": "2024-05-17T02:48:50.874709Z",
     "shell.execute_reply.started": "2024-05-17T02:48:50.854349Z"
    }
   },
   "outputs": [],
   "source": [
    "level_int = {\n",
    "    'lv0': 0,\n",
    "    'lv1': 1, \n",
    "    'lv2': 2, \n",
    "    'lv3': 3\n",
    "}"
   ]
  },
  {
   "cell_type": "markdown",
   "id": "159dafcb-a8bc-42f9-bc9a-1df2e0fe0538",
   "metadata": {
    "jp-MarkdownHeadingCollapsed": true
   },
   "source": [
    "#### def: get_set_from_columns()"
   ]
  },
  {
   "cell_type": "code",
   "execution_count": 158,
   "id": "560f4793-8b4b-4e91-be8b-d4641e9ee0ac",
   "metadata": {
    "execution": {
     "iopub.execute_input": "2024-05-17T03:34:14.476456Z",
     "iopub.status.busy": "2024-05-17T03:34:14.475791Z",
     "iopub.status.idle": "2024-05-17T03:34:14.483215Z",
     "shell.execute_reply": "2024-05-17T03:34:14.482648Z",
     "shell.execute_reply.started": "2024-05-17T03:34:14.476434Z"
    }
   },
   "outputs": [],
   "source": [
    "def get_set_from_columns(df:pd.DataFrame):\n",
    "    result_set = set([])\n",
    "    \n",
    "    for index, row in df.iterrows():\n",
    "        for col, value in row.items():\n",
    "            # ic(col, value)\n",
    "            if isinstance(value, str):\n",
    "                if value not in result_set:\n",
    "                    result_set.add(value)\n",
    "                    \n",
    "    return result_set "
   ]
  },
  {
   "cell_type": "code",
   "execution_count": 157,
   "id": "4995183b-4194-42c2-a6eb-d8e8e147c78e",
   "metadata": {
    "execution": {
     "iopub.execute_input": "2024-05-17T03:33:54.526746Z",
     "iopub.status.busy": "2024-05-17T03:33:54.525399Z",
     "iopub.status.idle": "2024-05-17T03:33:55.530822Z",
     "shell.execute_reply": "2024-05-17T03:33:55.530484Z",
     "shell.execute_reply.started": "2024-05-17T03:33:54.526702Z"
    }
   },
   "outputs": [
    {
     "name": "stderr",
     "output_type": "stream",
     "text": [
      "ic| key: '서울', value: {'count': 4, 'level': ['lv0']}\n",
      "ic| key: '관악구', value: {'count': 1, 'level': ['lv2']}\n",
      "ic| result_set: {'관악구', '신림동', '서울', '봉천동', '서울특별시', '남현동'}\n",
      "ic| key: '행동', value: {'count': 1, 'level': ['lv3']}\n",
      "ic| result_set: {'순천시', '행동', '전남', '전라남도'}\n"
     ]
    }
   ],
   "source": [
    "for key, value in got_level.items():\n",
    "    # level = got_level[item]['level']\n",
    "    ic(key, value)\n",
    "    for lv in value['level']:\n",
    "        if lv != 'lv0' and lv != 'lv1':\n",
    "            df_upper = upper_address(df_addr, key, lv)\n",
    "            result_set = get_set_from_columns(df_upper)\n",
    "            ic(result_set)"
   ]
  },
  {
   "cell_type": "markdown",
   "id": "12d40dd9-407c-4b25-9a99-2313b0617bcc",
   "metadata": {},
   "source": [
    "상위 레벨 주소가 무엇인지 확인하기.  \n",
    "- 결과의 모든 레벨 컬럼의 내용을 리스트로 만든다.  \n",
    "- 현재 주소의 한단계 위의 주소가 무엇인지 확인한다.  "
   ]
  },
  {
   "cell_type": "code",
   "execution_count": 146,
   "id": "415de440-f245-4641-81f3-369e70e81db6",
   "metadata": {
    "execution": {
     "iopub.execute_input": "2024-05-17T03:24:31.220890Z",
     "iopub.status.busy": "2024-05-17T03:24:31.219567Z",
     "iopub.status.idle": "2024-05-17T03:24:31.236844Z",
     "shell.execute_reply": "2024-05-17T03:24:31.235925Z",
     "shell.execute_reply.started": "2024-05-17T03:24:31.220763Z"
    }
   },
   "outputs": [],
   "source": [
    "result_set = set([])\n",
    "result_dict = {}"
   ]
  },
  {
   "cell_type": "markdown",
   "id": "714954e3-4f0d-4810-a85c-d8cd2c99d317",
   "metadata": {},
   "source": [
    "Series — pandas 2.2.2 documentation (pydata.org) | [Link](https://pandas.pydata.org/pandas-docs/stable/reference/series.html#series) | `w21.2024-05-17.Friday, 12:25:09`"
   ]
  },
  {
   "cell_type": "code",
   "execution_count": 147,
   "id": "70c2d127-04e1-4f8a-9724-b2aa528ef4c4",
   "metadata": {
    "execution": {
     "iopub.execute_input": "2024-05-17T03:24:31.944383Z",
     "iopub.status.busy": "2024-05-17T03:24:31.943308Z",
     "iopub.status.idle": "2024-05-17T03:24:31.959538Z",
     "shell.execute_reply": "2024-05-17T03:24:31.958774Z",
     "shell.execute_reply.started": "2024-05-17T03:24:31.944342Z"
    }
   },
   "outputs": [],
   "source": [
    "for index, row in df_upper.iterrows():\n",
    "    for col, value in row.items():\n",
    "        # ic(col, value)\n",
    "        if isinstance(value, str):\n",
    "            if value not in result_set:\n",
    "                result_set.add(value)\n",
    "                result_dict[value] = col"
   ]
  },
  {
   "cell_type": "code",
   "execution_count": 149,
   "id": "864a6f52-b359-4c11-acaf-7c7dc32288a3",
   "metadata": {
    "execution": {
     "iopub.execute_input": "2024-05-17T03:24:52.741632Z",
     "iopub.status.busy": "2024-05-17T03:24:52.741021Z",
     "iopub.status.idle": "2024-05-17T03:24:52.831156Z",
     "shell.execute_reply": "2024-05-17T03:24:52.830856Z",
     "shell.execute_reply.started": "2024-05-17T03:24:52.741605Z"
    }
   },
   "outputs": [
    {
     "name": "stderr",
     "output_type": "stream",
     "text": [
      "ic| result_set: {'순천시', '행동', '전남', '전라남도'}\n",
      "ic| result_dict: {'순천시': 'lv2', '전남': 'lv0', '전라남도': 'lv1', '행동': 'lv3'}\n"
     ]
    },
    {
     "data": {
      "text/plain": [
       "{'전남': 'lv0', '전라남도': 'lv1', '순천시': 'lv2', '행동': 'lv3'}"
      ]
     },
     "execution_count": 149,
     "metadata": {},
     "output_type": "execute_result"
    }
   ],
   "source": [
    "ic(result_set)\n",
    "ic(result_dict)"
   ]
  },
  {
   "cell_type": "markdown",
   "id": "e02b6086-d879-4a61-9667-a1fa26bc22c0",
   "metadata": {
    "jp-MarkdownHeadingCollapsed": true
   },
   "source": [
    "#### def: get_dict_from_columns"
   ]
  },
  {
   "cell_type": "code",
   "execution_count": 182,
   "id": "4450bd8e-1395-48f3-9be4-b4b46052c89f",
   "metadata": {
    "execution": {
     "iopub.execute_input": "2024-05-17T06:15:45.091533Z",
     "iopub.status.busy": "2024-05-17T06:15:45.090238Z",
     "iopub.status.idle": "2024-05-17T06:15:45.100900Z",
     "shell.execute_reply": "2024-05-17T06:15:45.100105Z",
     "shell.execute_reply.started": "2024-05-17T06:15:45.091495Z"
    }
   },
   "outputs": [],
   "source": [
    "def get_dict_from_columns(df:pd.DataFrame):\n",
    "    result_set = set([])\n",
    "    result_dict = {}\n",
    "    \n",
    "    for index, row in df.iterrows():\n",
    "        for col, value in row.items():\n",
    "            # ic(col, value)\n",
    "            if isinstance(value, str):\n",
    "                if value not in result_set:\n",
    "                    result_set.add(value)\n",
    "                    result_dict[value] = col\n",
    "                    \n",
    "    return result_dict "
   ]
  },
  {
   "cell_type": "code",
   "execution_count": 155,
   "id": "d260aa3c-0852-453f-bcfb-66e4c3a95fda",
   "metadata": {
    "execution": {
     "iopub.execute_input": "2024-05-17T03:31:18.958532Z",
     "iopub.status.busy": "2024-05-17T03:31:18.956269Z",
     "iopub.status.idle": "2024-05-17T03:31:18.976913Z",
     "shell.execute_reply": "2024-05-17T03:31:18.975089Z",
     "shell.execute_reply.started": "2024-05-17T03:31:18.958205Z"
    }
   },
   "outputs": [
    {
     "data": {
      "text/plain": [
       "{'전남': 'lv0', '전라남도': 'lv1', '순천시': 'lv2', '행동': 'lv3'}"
      ]
     },
     "execution_count": 155,
     "metadata": {},
     "output_type": "execute_result"
    }
   ],
   "source": [
    "get_set_from_columns(df_upper)"
   ]
  },
  {
   "cell_type": "markdown",
   "id": "0efeb9f9-949f-42da-8177-efdde6f72b6f",
   "metadata": {},
   "source": [
    "이렇게 하면 안되네?  \n",
    "\n",
    "- '행동' 을 함수에 넣는다.\n",
    "- '행동' 의 한단계 위의 주소를 건네준다."
   ]
  },
  {
   "cell_type": "markdown",
   "id": "9b5adb77-ecc6-4cc7-bd3f-445ec9e7b615",
   "metadata": {
    "jp-MarkdownHeadingCollapsed": true
   },
   "source": [
    "#### solution 1"
   ]
  },
  {
   "cell_type": "code",
   "execution_count": 159,
   "id": "a898a0b8-d0c3-432a-81ee-ee205f19a5c1",
   "metadata": {
    "execution": {
     "iopub.execute_input": "2024-05-17T05:45:56.198193Z",
     "iopub.status.busy": "2024-05-17T05:45:56.196333Z",
     "iopub.status.idle": "2024-05-17T05:45:56.253633Z",
     "shell.execute_reply": "2024-05-17T05:45:56.252645Z",
     "shell.execute_reply.started": "2024-05-17T05:45:56.198134Z"
    }
   },
   "outputs": [
    {
     "data": {
      "text/html": [
       "<div>\n",
       "<style scoped>\n",
       "    .dataframe tbody tr th:only-of-type {\n",
       "        vertical-align: middle;\n",
       "    }\n",
       "\n",
       "    .dataframe tbody tr th {\n",
       "        vertical-align: top;\n",
       "    }\n",
       "\n",
       "    .dataframe thead th {\n",
       "        text-align: right;\n",
       "    }\n",
       "</style>\n",
       "<table border=\"1\" class=\"dataframe\">\n",
       "  <thead>\n",
       "    <tr style=\"text-align: right;\">\n",
       "      <th></th>\n",
       "      <th>lv0</th>\n",
       "      <th>lv1</th>\n",
       "      <th>lv2</th>\n",
       "      <th>lv3</th>\n",
       "      <th>lv4</th>\n",
       "      <th>lv5</th>\n",
       "    </tr>\n",
       "  </thead>\n",
       "  <tbody>\n",
       "    <tr>\n",
       "      <th>11913</th>\n",
       "      <td>전남</td>\n",
       "      <td>전라남도</td>\n",
       "      <td>순천시</td>\n",
       "      <td>행동</td>\n",
       "      <td>None</td>\n",
       "      <td>NaN</td>\n",
       "    </tr>\n",
       "    <tr>\n",
       "      <th>27516</th>\n",
       "      <td>서울</td>\n",
       "      <td>서울특별시</td>\n",
       "      <td>종로구</td>\n",
       "      <td>청운동</td>\n",
       "      <td>None</td>\n",
       "      <td>NaN</td>\n",
       "    </tr>\n",
       "  </tbody>\n",
       "</table>\n",
       "</div>"
      ],
      "text/plain": [
       "      lv0    lv1  lv2  lv3   lv4  lv5\n",
       "11913  전남   전라남도  순천시   행동  None  NaN\n",
       "27516  서울  서울특별시  종로구  청운동  None  NaN"
      ]
     },
     "execution_count": 159,
     "metadata": {},
     "output_type": "execute_result"
    }
   ],
   "source": [
    "df_filtered.head(2)"
   ]
  },
  {
   "cell_type": "code",
   "execution_count": 162,
   "id": "39cb0abb-18eb-41b5-930a-4b59d6d54f15",
   "metadata": {
    "execution": {
     "iopub.execute_input": "2024-05-17T06:05:55.996111Z",
     "iopub.status.busy": "2024-05-17T06:05:55.995203Z",
     "iopub.status.idle": "2024-05-17T06:05:56.003901Z",
     "shell.execute_reply": "2024-05-17T06:05:56.003161Z",
     "shell.execute_reply.started": "2024-05-17T06:05:55.996082Z"
    }
   },
   "outputs": [],
   "source": [
    "next_item = iter(filtered_dict)"
   ]
  },
  {
   "cell_type": "code",
   "execution_count": 163,
   "id": "a6d14cb2-1ae5-4d28-bc52-4660b16fed00",
   "metadata": {
    "execution": {
     "iopub.execute_input": "2024-05-17T06:06:00.971838Z",
     "iopub.status.busy": "2024-05-17T06:06:00.970152Z",
     "iopub.status.idle": "2024-05-17T06:06:00.985747Z",
     "shell.execute_reply": "2024-05-17T06:06:00.984021Z",
     "shell.execute_reply.started": "2024-05-17T06:06:00.971762Z"
    }
   },
   "outputs": [],
   "source": [
    "item = next(next_item)"
   ]
  },
  {
   "cell_type": "code",
   "execution_count": 168,
   "id": "9b1b6925-a6e9-4cf3-92e0-4159c4f908d8",
   "metadata": {
    "execution": {
     "iopub.execute_input": "2024-05-17T06:08:46.831640Z",
     "iopub.status.busy": "2024-05-17T06:08:46.829960Z",
     "iopub.status.idle": "2024-05-17T06:08:46.839638Z",
     "shell.execute_reply": "2024-05-17T06:08:46.838958Z",
     "shell.execute_reply.started": "2024-05-17T06:08:46.831605Z"
    }
   },
   "outputs": [],
   "source": [
    "addrs = [key for key, value in filtered_dict.items()]"
   ]
  },
  {
   "cell_type": "code",
   "execution_count": 169,
   "id": "7f016497-bd07-4548-8fd4-4e1fcfe0e440",
   "metadata": {
    "execution": {
     "iopub.execute_input": "2024-05-17T06:08:55.314065Z",
     "iopub.status.busy": "2024-05-17T06:08:55.312902Z",
     "iopub.status.idle": "2024-05-17T06:08:55.321420Z",
     "shell.execute_reply": "2024-05-17T06:08:55.320799Z",
     "shell.execute_reply.started": "2024-05-17T06:08:55.314018Z"
    }
   },
   "outputs": [
    {
     "data": {
      "text/plain": [
       "'서울'"
      ]
     },
     "execution_count": 169,
     "metadata": {},
     "output_type": "execute_result"
    }
   ],
   "source": [
    "addrs[0]"
   ]
  },
  {
   "cell_type": "code",
   "execution_count": 208,
   "id": "12f5e5c0-e66e-410e-8f54-e5ecc241f0e3",
   "metadata": {
    "execution": {
     "iopub.execute_input": "2024-05-17T06:40:38.804330Z",
     "iopub.status.busy": "2024-05-17T06:40:38.803968Z",
     "iopub.status.idle": "2024-05-17T06:40:38.811429Z",
     "shell.execute_reply": "2024-05-17T06:40:38.810436Z",
     "shell.execute_reply.started": "2024-05-17T06:40:38.804304Z"
    }
   },
   "outputs": [
    {
     "data": {
      "text/plain": [
       "'관악구'"
      ]
     },
     "execution_count": 208,
     "metadata": {},
     "output_type": "execute_result"
    }
   ],
   "source": [
    "item_curr = addrs[1]\n",
    "item_curr"
   ]
  },
  {
   "cell_type": "code",
   "execution_count": 212,
   "id": "9c406e74-e067-489b-a68a-47daf2a1a90f",
   "metadata": {
    "execution": {
     "iopub.execute_input": "2024-05-17T06:41:59.285766Z",
     "iopub.status.busy": "2024-05-17T06:41:59.283669Z",
     "iopub.status.idle": "2024-05-17T06:41:59.696683Z",
     "shell.execute_reply": "2024-05-17T06:41:59.696380Z",
     "shell.execute_reply.started": "2024-05-17T06:41:59.285715Z"
    }
   },
   "outputs": [],
   "source": [
    "df_item = filter_address(item_curr, df_addr)"
   ]
  },
  {
   "cell_type": "code",
   "execution_count": 213,
   "id": "fa0aa6c2-f730-468d-b0bd-69ceedcc7c1c",
   "metadata": {
    "execution": {
     "iopub.execute_input": "2024-05-17T06:42:00.288498Z",
     "iopub.status.busy": "2024-05-17T06:42:00.287875Z",
     "iopub.status.idle": "2024-05-17T06:42:00.320820Z",
     "shell.execute_reply": "2024-05-17T06:42:00.319098Z",
     "shell.execute_reply.started": "2024-05-17T06:42:00.288454Z"
    }
   },
   "outputs": [
    {
     "name": "stdout",
     "output_type": "stream",
     "text": [
      "<class 'pandas.core.frame.DataFrame'>\n",
      "Index: 3 entries, 28150 to 28152\n",
      "Data columns (total 6 columns):\n",
      " #   Column  Non-Null Count  Dtype  \n",
      "---  ------  --------------  -----  \n",
      " 0   lv0     3 non-null      object \n",
      " 1   lv1     3 non-null      object \n",
      " 2   lv2     3 non-null      object \n",
      " 3   lv3     3 non-null      object \n",
      " 4   lv4     0 non-null      object \n",
      " 5   lv5     0 non-null      float64\n",
      "dtypes: float64(1), object(5)\n",
      "memory usage: 168.0+ bytes\n"
     ]
    }
   ],
   "source": [
    "df_item.info()"
   ]
  },
  {
   "cell_type": "code",
   "execution_count": 214,
   "id": "ff939f6f-eaf8-4bb8-a5b9-18a764be8751",
   "metadata": {
    "execution": {
     "iopub.execute_input": "2024-05-17T06:42:02.789193Z",
     "iopub.status.busy": "2024-05-17T06:42:02.786580Z",
     "iopub.status.idle": "2024-05-17T06:42:02.824953Z",
     "shell.execute_reply": "2024-05-17T06:42:02.824567Z",
     "shell.execute_reply.started": "2024-05-17T06:42:02.788935Z"
    }
   },
   "outputs": [
    {
     "data": {
      "text/html": [
       "<div>\n",
       "<style scoped>\n",
       "    .dataframe tbody tr th:only-of-type {\n",
       "        vertical-align: middle;\n",
       "    }\n",
       "\n",
       "    .dataframe tbody tr th {\n",
       "        vertical-align: top;\n",
       "    }\n",
       "\n",
       "    .dataframe thead th {\n",
       "        text-align: right;\n",
       "    }\n",
       "</style>\n",
       "<table border=\"1\" class=\"dataframe\">\n",
       "  <thead>\n",
       "    <tr style=\"text-align: right;\">\n",
       "      <th></th>\n",
       "      <th>lv0</th>\n",
       "      <th>lv1</th>\n",
       "      <th>lv2</th>\n",
       "      <th>lv3</th>\n",
       "      <th>lv4</th>\n",
       "      <th>lv5</th>\n",
       "    </tr>\n",
       "  </thead>\n",
       "  <tbody>\n",
       "    <tr>\n",
       "      <th>28150</th>\n",
       "      <td>서울</td>\n",
       "      <td>서울특별시</td>\n",
       "      <td>관악구</td>\n",
       "      <td>봉천동</td>\n",
       "      <td>None</td>\n",
       "      <td>NaN</td>\n",
       "    </tr>\n",
       "    <tr>\n",
       "      <th>28151</th>\n",
       "      <td>서울</td>\n",
       "      <td>서울특별시</td>\n",
       "      <td>관악구</td>\n",
       "      <td>신림동</td>\n",
       "      <td>None</td>\n",
       "      <td>NaN</td>\n",
       "    </tr>\n",
       "    <tr>\n",
       "      <th>28152</th>\n",
       "      <td>서울</td>\n",
       "      <td>서울특별시</td>\n",
       "      <td>관악구</td>\n",
       "      <td>남현동</td>\n",
       "      <td>None</td>\n",
       "      <td>NaN</td>\n",
       "    </tr>\n",
       "  </tbody>\n",
       "</table>\n",
       "</div>"
      ],
      "text/plain": [
       "      lv0    lv1  lv2  lv3   lv4  lv5\n",
       "28150  서울  서울특별시  관악구  봉천동  None  NaN\n",
       "28151  서울  서울특별시  관악구  신림동  None  NaN\n",
       "28152  서울  서울특별시  관악구  남현동  None  NaN"
      ]
     },
     "execution_count": 214,
     "metadata": {},
     "output_type": "execute_result"
    }
   ],
   "source": [
    "df_item.head()"
   ]
  },
  {
   "cell_type": "code",
   "execution_count": 215,
   "id": "232516c6-3627-4ead-98c1-c3924d6d4869",
   "metadata": {
    "execution": {
     "iopub.execute_input": "2024-05-17T06:42:06.770450Z",
     "iopub.status.busy": "2024-05-17T06:42:06.769559Z",
     "iopub.status.idle": "2024-05-17T06:42:06.780897Z",
     "shell.execute_reply": "2024-05-17T06:42:06.780238Z",
     "shell.execute_reply.started": "2024-05-17T06:42:06.770417Z"
    }
   },
   "outputs": [
    {
     "data": {
      "text/plain": [
       "{'서울': {'count': 4, 'level': ['lv0']},\n",
       " '관악구': {'count': 1, 'level': ['lv2']},\n",
       " '행동': {'count': 1, 'level': ['lv3']}}"
      ]
     },
     "execution_count": 215,
     "metadata": {},
     "output_type": "execute_result"
    }
   ],
   "source": [
    "item_levels = which_level()\n",
    "item_levels"
   ]
  },
  {
   "cell_type": "code",
   "execution_count": 216,
   "id": "a533ef41-134c-4d41-85aa-e5ecea349244",
   "metadata": {
    "execution": {
     "iopub.execute_input": "2024-05-17T06:42:07.914070Z",
     "iopub.status.busy": "2024-05-17T06:42:07.913342Z",
     "iopub.status.idle": "2024-05-17T06:42:07.922097Z",
     "shell.execute_reply": "2024-05-17T06:42:07.921221Z",
     "shell.execute_reply.started": "2024-05-17T06:42:07.914020Z"
    }
   },
   "outputs": [
    {
     "data": {
      "text/plain": [
       "'lv2'"
      ]
     },
     "execution_count": 216,
     "metadata": {},
     "output_type": "execute_result"
    }
   ],
   "source": [
    "item_lv = item_levels[item_curr]['level'][0]\n",
    "item_lv"
   ]
  },
  {
   "cell_type": "code",
   "execution_count": 217,
   "id": "d51e0b91-065b-4038-bfe9-aeeb61ab9e91",
   "metadata": {
    "execution": {
     "iopub.execute_input": "2024-05-17T06:42:08.859625Z",
     "iopub.status.busy": "2024-05-17T06:42:08.858954Z",
     "iopub.status.idle": "2024-05-17T06:42:08.876666Z",
     "shell.execute_reply": "2024-05-17T06:42:08.876041Z",
     "shell.execute_reply.started": "2024-05-17T06:42:08.859573Z"
    }
   },
   "outputs": [
    {
     "data": {
      "text/plain": [
       "{'서울': 'lv0',\n",
       " '서울특별시': 'lv1',\n",
       " '관악구': 'lv2',\n",
       " '봉천동': 'lv3',\n",
       " '신림동': 'lv3',\n",
       " '남현동': 'lv3'}"
      ]
     },
     "execution_count": 217,
     "metadata": {},
     "output_type": "execute_result"
    }
   ],
   "source": [
    "item_col = get_dict_from_columns(df_item)\n",
    "item_col"
   ]
  },
  {
   "cell_type": "code",
   "execution_count": 218,
   "id": "f8b42123-db9d-4bc2-8ac6-8a07339beadf",
   "metadata": {
    "execution": {
     "iopub.execute_input": "2024-05-17T06:42:19.098305Z",
     "iopub.status.busy": "2024-05-17T06:42:19.092126Z",
     "iopub.status.idle": "2024-05-17T06:42:19.120663Z",
     "shell.execute_reply": "2024-05-17T06:42:19.119620Z",
     "shell.execute_reply.started": "2024-05-17T06:42:19.098231Z"
    }
   },
   "outputs": [
    {
     "data": {
      "text/plain": [
       "{'lv0': '서울', 'lv1': '서울특별시', 'lv2': '관악구', 'lv3': '남현동'}"
      ]
     },
     "execution_count": 218,
     "metadata": {},
     "output_type": "execute_result"
    }
   ],
   "source": [
    "item_reversed = {value: key for key, value in item_col.items()}\n",
    "item_reversed"
   ]
  },
  {
   "cell_type": "code",
   "execution_count": 220,
   "id": "ad9cff0c-fc7d-45e6-8535-267fc3c67741",
   "metadata": {
    "execution": {
     "iopub.execute_input": "2024-05-17T06:44:03.183989Z",
     "iopub.status.busy": "2024-05-17T06:44:03.182715Z",
     "iopub.status.idle": "2024-05-17T06:44:03.230662Z",
     "shell.execute_reply": "2024-05-17T06:44:03.229847Z",
     "shell.execute_reply.started": "2024-05-17T06:44:03.183942Z"
    }
   },
   "outputs": [
    {
     "name": "stderr",
     "output_type": "stream",
     "text": [
      "ic| v: '서울'\n"
     ]
    }
   ],
   "source": [
    "for key in filtered_dict.keys():\n",
    "    for k, v in item_reversed.items():\n",
    "        if k != item_lv:\n",
    "            if key == v:\n",
    "                ic(v)"
   ]
  },
  {
   "cell_type": "markdown",
   "id": "d1ec51d6-48b5-4ee0-80a5-1215399e630e",
   "metadata": {},
   "source": [
    "됐다!!!  \n",
    "이제 함수로 만들면 된다.  "
   ]
  },
  {
   "cell_type": "markdown",
   "id": "d257328e-c891-4967-8a2b-b0022dcfabc3",
   "metadata": {
    "jp-MarkdownHeadingCollapsed": true
   },
   "source": [
    "#### def: isexistance_upper()"
   ]
  },
  {
   "cell_type": "code",
   "execution_count": 241,
   "id": "3d373eee-d6a1-45f9-9f99-f5a66a6b6473",
   "metadata": {
    "execution": {
     "iopub.execute_input": "2024-05-17T07:18:27.700602Z",
     "iopub.status.busy": "2024-05-17T07:18:27.693764Z",
     "iopub.status.idle": "2024-05-17T07:18:27.714091Z",
     "shell.execute_reply": "2024-05-17T07:18:27.713399Z",
     "shell.execute_reply.started": "2024-05-17T07:18:27.700524Z"
    }
   },
   "outputs": [],
   "source": [
    "def isexistance_upper(\n",
    "    keyword:str,\n",
    "    df_address:pd.DataFrame,\n",
    "    filtered_dict:dict,\n",
    "    verbose=False\n",
    "):\n",
    "    if verbose: ic(keyword)\n",
    "\n",
    "    existance = False\n",
    "\n",
    "    df_item = filter_address(keyword, df_addr)\n",
    "    item_col = get_dict_from_columns(df_item)\n",
    "    item_reversed = {value: key for key, value in item_col.items()}\n",
    "    if verbose: ic(item_reversed)\n",
    "    \n",
    "    item_levels = which_level(df_filtered=df_filtered, filtered_dict=filtered_dict)\n",
    "    item_lv = item_levels[keyword]['level'][0]\n",
    "    if verbose: ic(item_lv)\n",
    "\n",
    "    for key in filtered_dict.keys():\n",
    "        for k, v in item_reversed.items():\n",
    "            if k != item_lv or k == 'lv0':\n",
    "                if key == v:\n",
    "                    existance = True\n",
    "                    if verbose: ic(v)\n",
    "                \n",
    "    return existance"
   ]
  },
  {
   "cell_type": "code",
   "execution_count": 242,
   "id": "34568ecb-54d2-41b3-b978-094207b49cac",
   "metadata": {
    "execution": {
     "iopub.execute_input": "2024-05-17T07:18:36.435423Z",
     "iopub.status.busy": "2024-05-17T07:18:36.432259Z",
     "iopub.status.idle": "2024-05-17T07:18:36.834490Z",
     "shell.execute_reply": "2024-05-17T07:18:36.834257Z",
     "shell.execute_reply.started": "2024-05-17T07:18:36.435352Z"
    }
   },
   "outputs": [
    {
     "name": "stderr",
     "output_type": "stream",
     "text": [
      "ic| keyword: '행동'\n",
      "ic| item_reversed: {'lv0': '전남', 'lv1': '전라남도', 'lv2': '순천시', 'lv3': '행동'}\n",
      "ic| item_lv: 'lv3'\n"
     ]
    },
    {
     "data": {
      "text/plain": [
       "False"
      ]
     },
     "execution_count": 242,
     "metadata": {},
     "output_type": "execute_result"
    }
   ],
   "source": [
    "isexistance_upper(addrs[2], df_addr, filtered_dict, verbose=True)"
   ]
  },
  {
   "cell_type": "markdown",
   "id": "63e9ab36-6218-4b7e-9c57-2b6825f93c44",
   "metadata": {},
   "source": [
    "### TODO: verifying an existance of each address"
   ]
  },
  {
   "cell_type": "markdown",
   "id": "74449de7-1d98-4667-b260-ebf36e908176",
   "metadata": {},
   "source": [
    "이제 비교.  \n",
    "filtered_dict 아이템 하나씩 비교.  \n",
    "isexistance_upper() 로 비교.  "
   ]
  },
  {
   "cell_type": "markdown",
   "id": "ce9183b1-4385-4aa8-a83a-8036bc5a0a3e",
   "metadata": {
    "jp-MarkdownHeadingCollapsed": true
   },
   "source": [
    "#### try: filtered_dict with isexistance_upper()"
   ]
  },
  {
   "cell_type": "code",
   "execution_count": 243,
   "id": "5d268b8d-1751-4b00-825b-3cb3548547de",
   "metadata": {
    "execution": {
     "iopub.execute_input": "2024-05-17T07:18:46.341869Z",
     "iopub.status.busy": "2024-05-17T07:18:46.341042Z",
     "iopub.status.idle": "2024-05-17T07:18:47.456384Z",
     "shell.execute_reply": "2024-05-17T07:18:47.455746Z",
     "shell.execute_reply.started": "2024-05-17T07:18:46.341838Z"
    }
   },
   "outputs": [
    {
     "name": "stderr",
     "output_type": "stream",
     "text": [
      "ic| keyword: '서울'\n",
      "ic| item_reversed: {'lv0': '서울', 'lv1': '서울특별시', 'lv2': '강동구', 'lv3': '강일동'}\n",
      "ic| item_lv: 'lv0'\n",
      "ic| v: '서울'\n",
      "ic| keyword: '관악구'\n",
      "ic| item_reversed: {'lv0': '서울', 'lv1': '서울특별시', 'lv2': '관악구', 'lv3': '남현동'}\n",
      "ic| item_lv: 'lv2'\n",
      "ic| v: '서울'\n",
      "ic| keyword: '행동'\n",
      "ic| item_reversed: {'lv0': '전남', 'lv1': '전라남도', 'lv2': '순천시', 'lv3': '행동'}\n",
      "ic| item_lv: 'lv3'\n"
     ]
    }
   ],
   "source": [
    "results = []\n",
    "for key, value in filtered_dict.items():\n",
    "    if isexistance_upper(key, df_addr, filtered_dict, verbose=True):\n",
    "        results.append(key)"
   ]
  },
  {
   "cell_type": "code",
   "execution_count": 244,
   "id": "0e84b2ab-fb26-4230-9e05-2bb44987d669",
   "metadata": {
    "execution": {
     "iopub.execute_input": "2024-05-17T07:18:49.425900Z",
     "iopub.status.busy": "2024-05-17T07:18:49.424696Z",
     "iopub.status.idle": "2024-05-17T07:18:49.439646Z",
     "shell.execute_reply": "2024-05-17T07:18:49.439225Z",
     "shell.execute_reply.started": "2024-05-17T07:18:49.425846Z"
    }
   },
   "outputs": [
    {
     "data": {
      "text/plain": [
       "['서울', '관악구']"
      ]
     },
     "execution_count": 244,
     "metadata": {},
     "output_type": "execute_result"
    }
   ],
   "source": [
    "results"
   ]
  },
  {
   "cell_type": "code",
   "execution_count": 246,
   "id": "d2c26c00-df19-41d8-88d4-0db5a1ccc3f0",
   "metadata": {
    "execution": {
     "iopub.execute_input": "2024-05-17T07:20:27.645913Z",
     "iopub.status.busy": "2024-05-17T07:20:27.644989Z",
     "iopub.status.idle": "2024-05-17T07:20:27.666246Z",
     "shell.execute_reply": "2024-05-17T07:20:27.665010Z",
     "shell.execute_reply.started": "2024-05-17T07:20:27.645881Z"
    }
   },
   "outputs": [
    {
     "data": {
      "text/plain": [
       "{'서울': {'count': 4, 'level': ['lv0']},\n",
       " '관악구': {'count': 1, 'level': ['lv2']},\n",
       " '행동': {'count': 1, 'level': ['lv3']}}"
      ]
     },
     "execution_count": 246,
     "metadata": {},
     "output_type": "execute_result"
    }
   ],
   "source": [
    "levels = which_level(df_filtered=df_filtered, filtered_dict=filtered_dict)\n",
    "levels"
   ]
  },
  {
   "cell_type": "markdown",
   "id": "f32b1ff4-bcce-404e-abcc-924db0a2610f",
   "metadata": {
    "jp-MarkdownHeadingCollapsed": true
   },
   "source": [
    "#### def: get_existance()"
   ]
  },
  {
   "cell_type": "code",
   "execution_count": 280,
   "id": "a1363224-47bc-4ea9-b081-7f01bd445556",
   "metadata": {
    "execution": {
     "iopub.execute_input": "2024-05-17T07:57:24.380015Z",
     "iopub.status.busy": "2024-05-17T07:57:24.376934Z",
     "iopub.status.idle": "2024-05-17T07:57:24.392431Z",
     "shell.execute_reply": "2024-05-17T07:57:24.391528Z",
     "shell.execute_reply.started": "2024-05-17T07:57:24.379824Z"
    }
   },
   "outputs": [],
   "source": [
    "def get_existance(\n",
    "    df_address:pd.DataFrame,\n",
    "    filtered_dict:dict,\n",
    "    verbose=False\n",
    "):\n",
    "    results = []\n",
    "    for key, value in filtered_dict.items():\n",
    "        if isexistance_upper(key, df_address, filtered_dict, verbose=verbose):\n",
    "            results.append(key)\n",
    "            \n",
    "    return results"
   ]
  },
  {
   "cell_type": "code",
   "execution_count": 281,
   "id": "ab893131-1be7-4ec3-ad29-75177495d3d7",
   "metadata": {
    "execution": {
     "iopub.execute_input": "2024-05-17T07:57:25.966752Z",
     "iopub.status.busy": "2024-05-17T07:57:25.966298Z",
     "iopub.status.idle": "2024-05-17T07:57:27.074406Z",
     "shell.execute_reply": "2024-05-17T07:57:27.074110Z",
     "shell.execute_reply.started": "2024-05-17T07:57:25.966736Z"
    }
   },
   "outputs": [
    {
     "name": "stderr",
     "output_type": "stream",
     "text": [
      "ic| keyword: '서울'\n",
      "ic| item_reversed: {'lv0': '서울', 'lv1': '서울특별시', 'lv2': '강동구', 'lv3': '강일동'}\n",
      "ic| item_lv: 'lv0'\n",
      "ic| v: '서울'\n",
      "ic| keyword: '관악구'\n",
      "ic| item_reversed: {'lv0': '서울', 'lv1': '서울특별시', 'lv2': '관악구', 'lv3': '남현동'}\n",
      "ic| item_lv: 'lv2'\n",
      "ic| v: '서울'\n",
      "ic| keyword: '행동'\n",
      "ic| item_reversed: {'lv0': '전남', 'lv1': '전라남도', 'lv2': '순천시', 'lv3': '행동'}\n",
      "ic| item_lv: 'lv3'\n"
     ]
    }
   ],
   "source": [
    "existances = get_existance(df_addr, filtered_dict, verbose=True)"
   ]
  },
  {
   "cell_type": "code",
   "execution_count": 282,
   "id": "3f00137e-9d60-435c-9ef7-a8ef586f9ff8",
   "metadata": {
    "execution": {
     "iopub.execute_input": "2024-05-17T07:57:28.316507Z",
     "iopub.status.busy": "2024-05-17T07:57:28.316090Z",
     "iopub.status.idle": "2024-05-17T07:57:28.320544Z",
     "shell.execute_reply": "2024-05-17T07:57:28.320110Z",
     "shell.execute_reply.started": "2024-05-17T07:57:28.316489Z"
    }
   },
   "outputs": [
    {
     "data": {
      "text/plain": [
       "['서울', '관악구']"
      ]
     },
     "execution_count": 282,
     "metadata": {},
     "output_type": "execute_result"
    }
   ],
   "source": [
    "existances"
   ]
  },
  {
   "cell_type": "markdown",
   "id": "e0b5d916-2b8d-42bb-bffe-425c9ab7debe",
   "metadata": {
    "jp-MarkdownHeadingCollapsed": true
   },
   "source": [
    "#### dict: existed_levels"
   ]
  },
  {
   "cell_type": "code",
   "execution_count": 250,
   "id": "d2d6607a-890d-4f11-975b-78d5214b9e10",
   "metadata": {
    "execution": {
     "iopub.execute_input": "2024-05-17T07:29:15.878301Z",
     "iopub.status.busy": "2024-05-17T07:29:15.877508Z",
     "iopub.status.idle": "2024-05-17T07:29:16.128512Z",
     "shell.execute_reply": "2024-05-17T07:29:16.127749Z",
     "shell.execute_reply.started": "2024-05-17T07:29:15.878271Z"
    }
   },
   "outputs": [
    {
     "name": "stderr",
     "output_type": "stream",
     "text": [
      "ic| lv_int: 0\n",
      "ic| lv_int: 2\n"
     ]
    },
    {
     "data": {
      "text/plain": [
       "{'서울': 0, '관악구': 2}"
      ]
     },
     "execution_count": 250,
     "metadata": {},
     "output_type": "execute_result"
    }
   ],
   "source": [
    "existed_levels = {}\n",
    "for item in results:\n",
    "    lv = levels[item]['level']\n",
    "    if len(lv) == 1:\n",
    "        lv_int = level_int[lv[0]]\n",
    "        ic(lv_int)\n",
    "        existed_levels[item] = lv_int\n",
    "existed_levels"
   ]
  },
  {
   "cell_type": "code",
   "execution_count": 257,
   "id": "e5be60f0-1a2c-4a4d-8ceb-c7e862bf0316",
   "metadata": {
    "execution": {
     "iopub.execute_input": "2024-05-17T07:37:14.491913Z",
     "iopub.status.busy": "2024-05-17T07:37:14.490790Z",
     "iopub.status.idle": "2024-05-17T07:37:14.542927Z",
     "shell.execute_reply": "2024-05-17T07:37:14.542251Z",
     "shell.execute_reply.started": "2024-05-17T07:37:14.491890Z"
    }
   },
   "outputs": [
    {
     "name": "stderr",
     "output_type": "stream",
     "text": [
      "ic| sorted_level: [{'서울': 0}]\n",
      "ic| sorted_level: [{'관악구': 2}, {'서울': 0}]\n"
     ]
    }
   ],
   "source": [
    "max_level = -1\n",
    "sorted_level = []\n",
    "for key, value in existed_levels.items():\n",
    "    item = {key: value}\n",
    "    if value > max_level:\n",
    "        max_level = value\n",
    "        sorted_level.insert(0, item)\n",
    "        ic(sorted_level)\n",
    "    else:\n",
    "        sorted_level.append(item)"
   ]
  },
  {
   "cell_type": "code",
   "execution_count": 258,
   "id": "8dadc82d-610f-4723-9bc8-9e6f3e402278",
   "metadata": {
    "execution": {
     "iopub.execute_input": "2024-05-17T07:37:16.716618Z",
     "iopub.status.busy": "2024-05-17T07:37:16.715351Z",
     "iopub.status.idle": "2024-05-17T07:37:16.724905Z",
     "shell.execute_reply": "2024-05-17T07:37:16.724517Z",
     "shell.execute_reply.started": "2024-05-17T07:37:16.716524Z"
    }
   },
   "outputs": [
    {
     "data": {
      "text/plain": [
       "[{'관악구': 2}, {'서울': 0}]"
      ]
     },
     "execution_count": 258,
     "metadata": {},
     "output_type": "execute_result"
    }
   ],
   "source": [
    "sorted_level"
   ]
  },
  {
   "cell_type": "code",
   "execution_count": 268,
   "id": "9256dd58-b1b7-439c-89de-c8eb16009722",
   "metadata": {
    "execution": {
     "iopub.execute_input": "2024-05-17T07:41:31.165108Z",
     "iopub.status.busy": "2024-05-17T07:41:31.163922Z",
     "iopub.status.idle": "2024-05-17T07:41:31.181323Z",
     "shell.execute_reply": "2024-05-17T07:41:31.180854Z",
     "shell.execute_reply.started": "2024-05-17T07:41:31.165061Z"
    }
   },
   "outputs": [
    {
     "data": {
      "text/plain": [
       "'관악구'"
      ]
     },
     "execution_count": 268,
     "metadata": {},
     "output_type": "execute_result"
    }
   ],
   "source": [
    "list(sorted_level[0].keys())[0]"
   ]
  },
  {
   "cell_type": "markdown",
   "id": "dfa8a520-5147-4479-b743-7d6e934f3cf4",
   "metadata": {
    "jp-MarkdownHeadingCollapsed": true
   },
   "source": [
    "#### def: get_existed_levels()"
   ]
  },
  {
   "cell_type": "code",
   "execution_count": 289,
   "id": "53f4df0c-3c8e-42a3-9ada-2173a7120017",
   "metadata": {
    "execution": {
     "iopub.execute_input": "2024-05-17T07:59:34.494093Z",
     "iopub.status.busy": "2024-05-17T07:59:34.492739Z",
     "iopub.status.idle": "2024-05-17T07:59:34.510645Z",
     "shell.execute_reply": "2024-05-17T07:59:34.510162Z",
     "shell.execute_reply.started": "2024-05-17T07:59:34.494045Z"
    }
   },
   "outputs": [],
   "source": [
    "def get_existed_levels(existances:dict, level_int:dict):\n",
    "    existed_levels = {}\n",
    "    for item in existances:\n",
    "        lv = levels[item]['level']\n",
    "        if len(lv) == 1:\n",
    "            lv_int = level_int[lv[0]]\n",
    "            # ic(lv_int)\n",
    "            existed_levels[item] = lv_int\n",
    "    return existed_levels"
   ]
  },
  {
   "cell_type": "code",
   "execution_count": 290,
   "id": "2f87fec8-9f50-4d83-99a1-90cb80bc92cd",
   "metadata": {
    "execution": {
     "iopub.execute_input": "2024-05-17T07:59:35.446418Z",
     "iopub.status.busy": "2024-05-17T07:59:35.445493Z",
     "iopub.status.idle": "2024-05-17T07:59:35.457613Z",
     "shell.execute_reply": "2024-05-17T07:59:35.456517Z",
     "shell.execute_reply.started": "2024-05-17T07:59:35.446399Z"
    }
   },
   "outputs": [],
   "source": [
    "existed_levels = get_existed_levels(existances, level_int)"
   ]
  },
  {
   "cell_type": "code",
   "execution_count": 291,
   "id": "759b6c7f-246d-499a-a7d4-fc4541e54ba4",
   "metadata": {
    "execution": {
     "iopub.execute_input": "2024-05-17T07:59:36.285104Z",
     "iopub.status.busy": "2024-05-17T07:59:36.284400Z",
     "iopub.status.idle": "2024-05-17T07:59:36.293481Z",
     "shell.execute_reply": "2024-05-17T07:59:36.292673Z",
     "shell.execute_reply.started": "2024-05-17T07:59:36.285060Z"
    }
   },
   "outputs": [
    {
     "data": {
      "text/plain": [
       "{'서울': 0, '관악구': 2}"
      ]
     },
     "execution_count": 291,
     "metadata": {},
     "output_type": "execute_result"
    }
   ],
   "source": [
    "existed_levels"
   ]
  },
  {
   "cell_type": "markdown",
   "id": "cb4aac65-f852-47de-a5f6-5d90a14e08f7",
   "metadata": {
    "jp-MarkdownHeadingCollapsed": true
   },
   "source": [
    "#### def: max_address()"
   ]
  },
  {
   "cell_type": "code",
   "execution_count": 296,
   "id": "9d3d1dc2-33db-4c33-a7ed-b3f9e623e76a",
   "metadata": {
    "execution": {
     "iopub.execute_input": "2024-05-17T08:00:42.880061Z",
     "iopub.status.busy": "2024-05-17T08:00:42.877000Z",
     "iopub.status.idle": "2024-05-17T08:00:42.888803Z",
     "shell.execute_reply": "2024-05-17T08:00:42.887942Z",
     "shell.execute_reply.started": "2024-05-17T08:00:42.880013Z"
    }
   },
   "outputs": [],
   "source": [
    "def top_address(existed_levels:dict):\n",
    "\n",
    "    max_level = -1\n",
    "    sorted_level = []\n",
    "    for key, value in existed_levels.items():\n",
    "        item = {key: value}\n",
    "        if value > max_level:\n",
    "            max_level = value\n",
    "            sorted_level.insert(0, item)\n",
    "            # ic(sorted_level)\n",
    "        else:\n",
    "            sorted_level.append(item)\n",
    "            \n",
    "    return list(sorted_level[0].keys())[0]"
   ]
  },
  {
   "cell_type": "code",
   "execution_count": 297,
   "id": "d54b5bf9-bd7d-46ba-84d3-90b1f5ec230b",
   "metadata": {
    "execution": {
     "iopub.execute_input": "2024-05-17T08:00:43.893133Z",
     "iopub.status.busy": "2024-05-17T08:00:43.892635Z",
     "iopub.status.idle": "2024-05-17T08:00:43.897881Z",
     "shell.execute_reply": "2024-05-17T08:00:43.897244Z",
     "shell.execute_reply.started": "2024-05-17T08:00:43.893113Z"
    }
   },
   "outputs": [
    {
     "data": {
      "text/plain": [
       "'관악구'"
      ]
     },
     "execution_count": 297,
     "metadata": {},
     "output_type": "execute_result"
    }
   ],
   "source": [
    "top_address(existed_levels)"
   ]
  },
  {
   "cell_type": "markdown",
   "id": "dd900b6f-7b05-44c2-abed-c5d77995573f",
   "metadata": {},
   "source": [
    "## Process"
   ]
  },
  {
   "cell_type": "markdown",
   "id": "885d8176-c8b3-4479-88ad-aca2705d0a83",
   "metadata": {},
   "source": [
    "- df_addr\n",
    "- df_filtered <-- df_addr\n",
    "- get_keyword_counts() <-- get_set_from_columns()\n",
    "- filtered_dict <-- keyword_counts\n",
    "    - get_keyword_counts()\n",
    "- `addrs = [key for key, value in filtered_dict.items()]`\n",
    "- get_set_from_columns() <-- df_filtered\n",
    "- keyword_counts <-- get_set_from_columns()\n",
    "- filter_address(keyword:str, df_addr:pd.DataFrame)\n",
    "- df_fltr\n",
    "    - filter_address(keyword:str, df_addr:pd.DataFrame)\n",
    "- get_level(keyword:str, df_fltr:pd.DataFrame)\n",
    "- which_level()\n",
    "    - get_level(key, df_filtered)\n",
    "- get_dict_from_columns()\n",
    "- filter_address()\n",
    "- is_existance_upper() <-- addrs[], df_addr, filtered_dict\n",
    "    - filter_address()\n",
    "    - get_dict_from_columns()\n",
    "    - which_level(df_filtered, filtered_dict)\n",
    "- get_existance() <-- df_addr, filtered_dict\n",
    "    - is_existance_upper()\n",
    "- existance <-- get_existance()\n",
    "- level_int <-- dict\n",
    "- get_existed_levels() <-- existance, level_int\n",
    "- existed_levels <-- get_existed_levels()\n",
    "- top_address() <-- existed_levels"
   ]
  },
  {
   "cell_type": "code",
   "execution_count": 1,
   "id": "fb368a66-273a-4fab-943f-53fa970b30f1",
   "metadata": {
    "execution": {
     "iopub.execute_input": "2024-05-17T13:04:19.004422Z",
     "iopub.status.busy": "2024-05-17T13:04:19.003004Z",
     "iopub.status.idle": "2024-05-17T13:04:19.697772Z",
     "shell.execute_reply": "2024-05-17T13:04:19.697511Z",
     "shell.execute_reply.started": "2024-05-17T13:04:19.004340Z"
    }
   },
   "outputs": [],
   "source": [
    "import pandas as pd \n",
    "import numpy as np\n",
    "import math\n",
    "import re\n",
    "\n",
    "from icecream import ic\n",
    "from tqdm import tqdm \n",
    "\n",
    "from utils.custom_utils import load_var, save_var\n",
    "# from utils.search_address import RetrieveAddress, get_lat_long\n",
    "\n",
    "df_hk_json = load_var(\"df_hk_json\")\n",
    "df_where = df_hk_json['where']\n",
    "# df_addr = pd.read_csv('./address/address.csv')\n",
    "df_addr = pd.read_parquet('./address/df_addr.parquet.gzip')\n",
    "\n",
    "texts = df_hk_json.iloc[:]['text']"
   ]
  },
  {
   "cell_type": "code",
   "execution_count": 2,
   "id": "cdd7e4fb-49ed-4372-887f-bfea97a964e4",
   "metadata": {
    "execution": {
     "iopub.execute_input": "2024-05-17T13:04:19.698624Z",
     "iopub.status.busy": "2024-05-17T13:04:19.698501Z",
     "iopub.status.idle": "2024-05-17T13:04:19.700249Z",
     "shell.execute_reply": "2024-05-17T13:04:19.700013Z",
     "shell.execute_reply.started": "2024-05-17T13:04:19.698614Z"
    }
   },
   "outputs": [],
   "source": [
    "text = texts[2]"
   ]
  },
  {
   "cell_type": "code",
   "execution_count": 3,
   "id": "9ae136bc-b851-4f32-8b60-b056abc22b27",
   "metadata": {
    "execution": {
     "iopub.execute_input": "2024-05-17T13:04:30.810195Z",
     "iopub.status.busy": "2024-05-17T13:04:30.808806Z",
     "iopub.status.idle": "2024-05-17T13:04:30.817411Z",
     "shell.execute_reply": "2024-05-17T13:04:30.816691Z",
     "shell.execute_reply.started": "2024-05-17T13:04:30.810134Z"
    }
   },
   "outputs": [],
   "source": [
    "def get_filtered(df_address:pd.DataFrame, text):\n",
    "    mask = df_address.map(\n",
    "        lambda x: bool(\n",
    "            re.search(\n",
    "                r'\\b{}'.format(str(x)),\n",
    "                text,\n",
    "                re.IGNORECASE)))\n",
    "    df_filtered = df_address[mask.any(axis=1)]\n",
    "    return df_filtered"
   ]
  },
  {
   "cell_type": "code",
   "execution_count": 4,
   "id": "3a54fc3c-193c-4730-9790-beba762e942d",
   "metadata": {
    "execution": {
     "iopub.execute_input": "2024-05-17T13:04:30.819841Z",
     "iopub.status.busy": "2024-05-17T13:04:30.819571Z",
     "iopub.status.idle": "2024-05-17T13:04:32.497668Z",
     "shell.execute_reply": "2024-05-17T13:04:32.497345Z",
     "shell.execute_reply.started": "2024-05-17T13:04:30.819821Z"
    }
   },
   "outputs": [],
   "source": [
    "df_filtered = get_filtered(df_addr, text)"
   ]
  },
  {
   "cell_type": "code",
   "execution_count": 5,
   "id": "7a5716eb-a839-433f-9c4f-99fa2eb5dcde",
   "metadata": {
    "execution": {
     "iopub.execute_input": "2024-05-17T13:04:37.219125Z",
     "iopub.status.busy": "2024-05-17T13:04:37.214525Z",
     "iopub.status.idle": "2024-05-17T13:04:37.225801Z",
     "shell.execute_reply": "2024-05-17T13:04:37.224904Z",
     "shell.execute_reply.started": "2024-05-17T13:04:37.219063Z"
    }
   },
   "outputs": [],
   "source": [
    "def get_set_from_columns(df:pd.DataFrame):\n",
    "    result_set = set([])\n",
    "    \n",
    "    for index, row in df.iterrows():\n",
    "        for value in row.values:\n",
    "            if isinstance(value, str):\n",
    "                if value not in result_set:\n",
    "                    result_set.add(value)\n",
    "    return result_set "
   ]
  },
  {
   "cell_type": "code",
   "execution_count": 6,
   "id": "2cd54a73-3bf6-4a0e-a903-97f08ecdf93a",
   "metadata": {
    "execution": {
     "iopub.execute_input": "2024-05-17T13:04:37.227262Z",
     "iopub.status.busy": "2024-05-17T13:04:37.227100Z",
     "iopub.status.idle": "2024-05-17T13:04:37.256038Z",
     "shell.execute_reply": "2024-05-17T13:04:37.255391Z",
     "shell.execute_reply.started": "2024-05-17T13:04:37.227250Z"
    }
   },
   "outputs": [],
   "source": [
    "address_set = get_set_from_columns(df_filtered)"
   ]
  },
  {
   "cell_type": "code",
   "execution_count": 7,
   "id": "b8b66d67-750b-4226-b063-be63f1414a44",
   "metadata": {
    "execution": {
     "iopub.execute_input": "2024-05-17T13:04:45.468721Z",
     "iopub.status.busy": "2024-05-17T13:04:45.462669Z",
     "iopub.status.idle": "2024-05-17T13:04:45.482441Z",
     "shell.execute_reply": "2024-05-17T13:04:45.481301Z",
     "shell.execute_reply.started": "2024-05-17T13:04:45.468520Z"
    }
   },
   "outputs": [],
   "source": [
    "def get_keyword_counts(address_set: set, text: str):\n",
    "    # Initialize the dictionary with keywords and their counts set to 0\n",
    "    keyword_counts = {keyword: 0 for keyword in address_set}\n",
    "\n",
    "    # Iterate through each keyword in the set\n",
    "    for keyword in address_set:\n",
    "        # Create a regex pattern with word boundaries\n",
    "        pattern = r'\\b{}'.format(re.escape(keyword))\n",
    "        # Find all matches of the pattern in the text (case-insensitive)\n",
    "        regex_result = re.findall(pattern, text, flags=re.IGNORECASE)\n",
    "        # Count the number of matches\n",
    "        count = len(regex_result)\n",
    "        # Update the count for the keyword in the dictionary\n",
    "        keyword_counts[keyword] += count\n",
    "\n",
    "    return keyword_counts"
   ]
  },
  {
   "cell_type": "code",
   "execution_count": null,
   "id": "ac61476c-4eae-492c-a702-3af25f3fe33d",
   "metadata": {
    "execution": {
     "iopub.execute_input": "2024-05-17T13:04:45.485449Z",
     "iopub.status.busy": "2024-05-17T13:04:45.484465Z",
     "iopub.status.idle": "2024-05-17T13:04:45.522638Z",
     "shell.execute_reply": "2024-05-17T13:04:45.521692Z",
     "shell.execute_reply.started": "2024-05-17T13:04:45.485424Z"
    },
    "scrolled": true
   },
   "outputs": [],
   "source": [
    "keyword_counts = get_keyword_counts(address_set=address_set, text=text)\n",
    "filtered_dict = {key: value for key, value in keyword_counts.items() if value > 0}"
   ]
  },
  {
   "cell_type": "code",
   "execution_count": 10,
   "id": "17c6d8e4-8e5e-4c19-9161-373874e1e743",
   "metadata": {
    "execution": {
     "iopub.execute_input": "2024-05-17T13:05:48.589558Z",
     "iopub.status.busy": "2024-05-17T13:05:48.588172Z",
     "iopub.status.idle": "2024-05-17T13:05:48.603382Z",
     "shell.execute_reply": "2024-05-17T13:05:48.602925Z",
     "shell.execute_reply.started": "2024-05-17T13:05:48.589509Z"
    }
   },
   "outputs": [],
   "source": [
    "def get_level(keyword:str, df_fltr:pd.DataFrame):\n",
    "    found_set = set([])\n",
    "    for col in df_fltr.columns:\n",
    "        if keyword in df_fltr[col].values:\n",
    "            if col not in found_set:\n",
    "                found_set.add(col)\n",
    "                \n",
    "    if len(found_set) > 0:\n",
    "        return found_set\n",
    "    else:\n",
    "        return None"
   ]
  },
  {
   "cell_type": "code",
   "execution_count": 11,
   "id": "7678bf7e-bffd-4dae-b618-87a4265266e4",
   "metadata": {
    "execution": {
     "iopub.execute_input": "2024-05-17T13:05:48.604689Z",
     "iopub.status.busy": "2024-05-17T13:05:48.604589Z",
     "iopub.status.idle": "2024-05-17T13:05:48.607547Z",
     "shell.execute_reply": "2024-05-17T13:05:48.606977Z",
     "shell.execute_reply.started": "2024-05-17T13:05:48.604681Z"
    }
   },
   "outputs": [],
   "source": [
    "def which_level(df_filtered:pd.DataFrame, filtered_dict:dict) -> dict:\n",
    "    results = {}\n",
    "    for key, value in filtered_dict.items():\n",
    "        res = get_level(key, df_filtered)\n",
    "        if res:\n",
    "            results[key] = {\n",
    "                'count': value,\n",
    "                'level': list(res)\n",
    "            }\n",
    "    return results"
   ]
  },
  {
   "cell_type": "code",
   "execution_count": 12,
   "id": "6242a389-5dc5-4928-bd45-7690d98a4ae9",
   "metadata": {
    "execution": {
     "iopub.execute_input": "2024-05-17T13:06:06.824965Z",
     "iopub.status.busy": "2024-05-17T13:06:06.823759Z",
     "iopub.status.idle": "2024-05-17T13:06:06.844504Z",
     "shell.execute_reply": "2024-05-17T13:06:06.844025Z",
     "shell.execute_reply.started": "2024-05-17T13:06:06.824898Z"
    }
   },
   "outputs": [],
   "source": [
    "levels = which_level(df_filtered=df_filtered, filtered_dict=filtered_dict)"
   ]
  },
  {
   "cell_type": "code",
   "execution_count": 13,
   "id": "e7cbe4a1-32db-4cc4-a7ba-e8477003643c",
   "metadata": {
    "execution": {
     "iopub.execute_input": "2024-05-17T13:06:11.871253Z",
     "iopub.status.busy": "2024-05-17T13:06:11.868879Z",
     "iopub.status.idle": "2024-05-17T13:06:11.878057Z",
     "shell.execute_reply": "2024-05-17T13:06:11.877431Z",
     "shell.execute_reply.started": "2024-05-17T13:06:11.871206Z"
    }
   },
   "outputs": [],
   "source": [
    "def filter_address(keyword:str, df_addr:pd.DataFrame):\n",
    "    mask = df_addr.map(\n",
    "        lambda x: bool(\n",
    "            re.search(\n",
    "                r'\\b{}'.format(str(x)),\n",
    "                keyword,\n",
    "                re.IGNORECASE)))\n",
    "    df_filtered = df_addr[mask.any(axis=1)]\n",
    "    return df_filtered"
   ]
  },
  {
   "cell_type": "code",
   "execution_count": 14,
   "id": "7e13e302-0502-4beb-a0db-6856a0686f50",
   "metadata": {
    "execution": {
     "iopub.execute_input": "2024-05-17T13:06:11.880222Z",
     "iopub.status.busy": "2024-05-17T13:06:11.879913Z",
     "iopub.status.idle": "2024-05-17T13:06:11.884957Z",
     "shell.execute_reply": "2024-05-17T13:06:11.884600Z",
     "shell.execute_reply.started": "2024-05-17T13:06:11.880209Z"
    }
   },
   "outputs": [],
   "source": [
    "def get_dict_from_columns(df:pd.DataFrame):\n",
    "    result_set = set([])\n",
    "    result_dict = {}\n",
    "    \n",
    "    for index, row in df.iterrows():\n",
    "        for col, value in row.items():\n",
    "            # ic(col, value)\n",
    "            if isinstance(value, str):\n",
    "                if value not in result_set:\n",
    "                    result_set.add(value)\n",
    "                    result_dict[value] = col\n",
    "                    \n",
    "    return result_dict "
   ]
  },
  {
   "cell_type": "code",
   "execution_count": 15,
   "id": "7aa352c5-b6f7-4c59-8f31-aa0ee0f14b6f",
   "metadata": {
    "execution": {
     "iopub.execute_input": "2024-05-17T13:07:00.674929Z",
     "iopub.status.busy": "2024-05-17T13:07:00.673544Z",
     "iopub.status.idle": "2024-05-17T13:07:00.685669Z",
     "shell.execute_reply": "2024-05-17T13:07:00.685079Z",
     "shell.execute_reply.started": "2024-05-17T13:07:00.674897Z"
    }
   },
   "outputs": [],
   "source": [
    "def isexistance_upper(\n",
    "    keyword:str,\n",
    "    df_address:pd.DataFrame,\n",
    "    filtered_dict:dict,\n",
    "    levels:dict,\n",
    "    verbose=False\n",
    "):\n",
    "    if verbose: ic(keyword)\n",
    "\n",
    "    existance = False\n",
    "\n",
    "    df_item = filter_address(keyword, df_addr)\n",
    "    item_col = get_dict_from_columns(df_item)\n",
    "    item_reversed = {value: key for key, value in item_col.items()}\n",
    "    if verbose: ic(item_reversed)\n",
    "    \n",
    "    item_lv = levels[keyword]['level'][0]\n",
    "    if verbose: ic(item_lv)\n",
    "\n",
    "    for key in filtered_dict.keys():\n",
    "        for k, v in item_reversed.items():\n",
    "            if k != item_lv or k == 'lv0':\n",
    "                if key == v:\n",
    "                    existance = True\n",
    "                    if verbose: ic(v)\n",
    "                \n",
    "    return existance"
   ]
  },
  {
   "cell_type": "code",
   "execution_count": 16,
   "id": "b6e5d7e4-99e6-499a-9fff-4f15360f7d24",
   "metadata": {
    "execution": {
     "iopub.execute_input": "2024-05-17T13:07:55.694126Z",
     "iopub.status.busy": "2024-05-17T13:07:55.693075Z",
     "iopub.status.idle": "2024-05-17T13:07:55.716498Z",
     "shell.execute_reply": "2024-05-17T13:07:55.715130Z",
     "shell.execute_reply.started": "2024-05-17T13:07:55.694080Z"
    }
   },
   "outputs": [],
   "source": [
    "def get_existance(\n",
    "    df_address:pd.DataFrame,\n",
    "    filtered_dict:dict,\n",
    "    levels:dict,\n",
    "    verbose=False\n",
    "):\n",
    "    results = []\n",
    "    for key, value in filtered_dict.items():\n",
    "        if isexistance_upper(key, df_address, filtered_dict, levels=levels, verbose=verbose):\n",
    "            results.append(key)\n",
    "            \n",
    "    return results"
   ]
  },
  {
   "cell_type": "code",
   "execution_count": 17,
   "id": "71edeaad-2450-4ad0-9fcf-162c7a1d760c",
   "metadata": {
    "execution": {
     "iopub.execute_input": "2024-05-17T13:07:59.268543Z",
     "iopub.status.busy": "2024-05-17T13:07:59.266931Z",
     "iopub.status.idle": "2024-05-17T13:08:00.280427Z",
     "shell.execute_reply": "2024-05-17T13:08:00.279924Z",
     "shell.execute_reply.started": "2024-05-17T13:07:59.268361Z"
    },
    "scrolled": true
   },
   "outputs": [],
   "source": [
    "existances = get_existance(df_addr, filtered_dict, levels)"
   ]
  },
  {
   "cell_type": "code",
   "execution_count": 18,
   "id": "e61a9f38-fe67-43c4-8cae-8bc4d51d9297",
   "metadata": {
    "execution": {
     "iopub.execute_input": "2024-05-17T13:08:03.843876Z",
     "iopub.status.busy": "2024-05-17T13:08:03.841996Z",
     "iopub.status.idle": "2024-05-17T13:08:03.866356Z",
     "shell.execute_reply": "2024-05-17T13:08:03.865589Z",
     "shell.execute_reply.started": "2024-05-17T13:08:03.843837Z"
    }
   },
   "outputs": [],
   "source": [
    "level_int = {\n",
    "    'lv0': 0,\n",
    "    'lv1': 1, \n",
    "    'lv2': 2, \n",
    "    'lv3': 3\n",
    "}"
   ]
  },
  {
   "cell_type": "code",
   "execution_count": 19,
   "id": "9c61c274-0665-4968-9016-8ad6a9a6563b",
   "metadata": {
    "execution": {
     "iopub.execute_input": "2024-05-17T13:08:08.511452Z",
     "iopub.status.busy": "2024-05-17T13:08:08.510802Z",
     "iopub.status.idle": "2024-05-17T13:08:08.518350Z",
     "shell.execute_reply": "2024-05-17T13:08:08.517080Z",
     "shell.execute_reply.started": "2024-05-17T13:08:08.511426Z"
    }
   },
   "outputs": [],
   "source": [
    "def get_existed_levels(existances:dict, level_int:dict, levels:dict):\n",
    "    existed_levels = {}\n",
    "    for item in existances:\n",
    "        lv = levels[item]['level']\n",
    "        if len(lv) == 1:\n",
    "            lv_int = level_int[lv[0]]\n",
    "            # ic(lv_int)\n",
    "            existed_levels[item] = lv_int\n",
    "    return existed_levels"
   ]
  },
  {
   "cell_type": "code",
   "execution_count": 20,
   "id": "6e5e5196-8464-44f8-8e29-bba0a65dd6bc",
   "metadata": {
    "execution": {
     "iopub.execute_input": "2024-05-17T13:08:09.494741Z",
     "iopub.status.busy": "2024-05-17T13:08:09.494183Z",
     "iopub.status.idle": "2024-05-17T13:08:09.503803Z",
     "shell.execute_reply": "2024-05-17T13:08:09.502960Z",
     "shell.execute_reply.started": "2024-05-17T13:08:09.494716Z"
    }
   },
   "outputs": [],
   "source": [
    "existed_levels = get_existed_levels(existances, level_int, levels)"
   ]
  },
  {
   "cell_type": "code",
   "execution_count": 21,
   "id": "140ac829-7b2b-4919-b325-336bee71de79",
   "metadata": {
    "execution": {
     "iopub.execute_input": "2024-05-17T13:08:11.227852Z",
     "iopub.status.busy": "2024-05-17T13:08:11.226416Z",
     "iopub.status.idle": "2024-05-17T13:08:11.246157Z",
     "shell.execute_reply": "2024-05-17T13:08:11.245323Z",
     "shell.execute_reply.started": "2024-05-17T13:08:11.227786Z"
    }
   },
   "outputs": [],
   "source": [
    "def top_address(existed_levels:dict):\n",
    "\n",
    "    max_level = -1\n",
    "    sorted_level = []\n",
    "    for key, value in existed_levels.items():\n",
    "        item = {key: value}\n",
    "        if value > max_level:\n",
    "            max_level = value\n",
    "            sorted_level.insert(0, item)\n",
    "            # ic(sorted_level)\n",
    "        else:\n",
    "            sorted_level.append(item)\n",
    "            \n",
    "    return list(sorted_level[0].keys())[0]"
   ]
  },
  {
   "cell_type": "code",
   "execution_count": 22,
   "id": "38b60bbb-2dda-488d-b1d1-e4eeed03674f",
   "metadata": {
    "execution": {
     "iopub.execute_input": "2024-05-17T13:08:12.555873Z",
     "iopub.status.busy": "2024-05-17T13:08:12.555581Z",
     "iopub.status.idle": "2024-05-17T13:08:12.566053Z",
     "shell.execute_reply": "2024-05-17T13:08:12.565059Z",
     "shell.execute_reply.started": "2024-05-17T13:08:12.555852Z"
    }
   },
   "outputs": [
    {
     "data": {
      "text/plain": [
       "'관악구'"
      ]
     },
     "execution_count": 22,
     "metadata": {},
     "output_type": "execute_result"
    }
   ],
   "source": [
    "top_address(existed_levels)"
   ]
  },
  {
   "cell_type": "markdown",
   "id": "396dcd3c-1368-4ea9-aada-8f9b79918a52",
   "metadata": {},
   "source": [
    "## Test - CheckAddressLevels"
   ]
  },
  {
   "cell_type": "code",
   "execution_count": 1,
   "id": "9204f9b7-0fed-4299-91db-d6e19d46e69a",
   "metadata": {
    "execution": {
     "iopub.execute_input": "2024-05-17T14:06:33.832970Z",
     "iopub.status.busy": "2024-05-17T14:06:33.832776Z",
     "iopub.status.idle": "2024-05-17T14:06:34.573739Z",
     "shell.execute_reply": "2024-05-17T14:06:34.573449Z",
     "shell.execute_reply.started": "2024-05-17T14:06:33.832950Z"
    }
   },
   "outputs": [],
   "source": [
    "import pandas as pd \n",
    "import numpy as np\n",
    "import math\n",
    "import re\n",
    "\n",
    "from icecream import ic\n",
    "from tqdm import tqdm \n",
    "\n",
    "from utils.custom_utils import load_var, save_var\n",
    "from utils.search_address import RetrieveAddress, get_lat_long, CheckAddressLevels\n",
    "\n",
    "df_hk_json = load_var(\"df_hk_json\")\n",
    "df_where = df_hk_json['where']\n",
    "# df_addr = pd.read_csv('./address/address.csv')\n",
    "df_addr = pd.read_parquet('./address/df_addr.parquet.gzip')\n",
    "\n",
    "texts = df_hk_json.iloc[:]['text']"
   ]
  },
  {
   "cell_type": "code",
   "execution_count": 16,
   "id": "dac6a07b-1e62-4451-b95d-a888cd4cfae6",
   "metadata": {
    "execution": {
     "iopub.execute_input": "2024-05-17T14:09:52.161690Z",
     "iopub.status.busy": "2024-05-17T14:09:52.160894Z",
     "iopub.status.idle": "2024-05-17T14:09:52.171039Z",
     "shell.execute_reply": "2024-05-17T14:09:52.170226Z",
     "shell.execute_reply.started": "2024-05-17T14:09:52.161659Z"
    },
    "scrolled": true
   },
   "outputs": [
    {
     "data": {
      "text/plain": [
       "'강남역의 \\'헌팅 포차\\' 거리 한 술집에 야외 테이블까지 사람들이 가득 차 있는 모습. /사진=김세린 기자\\n23일 저녁, \\'헌팅포차\\'가 밀집한 서울 강남역 인근의 거리는 젊은 남녀들로 북적였다. 지난 11일 정부가 3년 4개월 만에 사실상 \\'코로나19 엔데믹(풍토병으로 굳어진 감염병)\\'을 선언한 가운데, 서울 강남 인근에서 이른바 \\'헌팅 메카\\'로 불리는 곳들은 술을 마시고 즐기려는 인파가 가득했다.\\n\\n\"헌팅 술집은 원래 자연스럽게 다른 분들이랑 합석해서 즐기는 분위기잖아요. 모르는 사람들이랑 술 마시고 얘기하는 것 자체가 재미있고, 마음에 드는 이성을 찾을 수도 있어서 좋죠\"\\n\\n코로나19 팬데믹 이후 오랜만에 \\'헌팅포차\\'를 찾게 됐다는 대학생 김모 씨(22)는 \"작년까지만 해도 실내 마스크도 착용해야 하고 해서 굳이 이 거리를 오지 않았다\"면서도 \"평일 밤인데도 사람이 많아서 북적이는 분위기가 좋다\"며 이같이 말했다.\\n\\n\\n화요일에도 뜨거운 밤의 열기…헌팅 술집 \\'만석\\'\\n강남역의 한 클럽 앞에 사람들이 입장을 위해 대기줄을 서 있는 모습. /사진=김세린 기자\\n몇몇 헌팅포차 앞에는 손님 수십명이 줄지어 입장을 대기하고 있었다. 야외 테라스석을 포함한 모든 자리가 만석인 탓이다. 오랜 시간 이곳을 대기하던 사람들은 지나가는 다른 무리를 붙잡고 \"함께 술집에 들어가자\"고 즉석 헌팅을 하기도 했다. 이 헌팅포차 직원은 \"30~40분은 대기해야 입장할 수 있다\"며 \"다른 테이블과 합석하면 더 빠른 입장이 가능하다\"고 안내했다.\\n\\n인근의 다른 술집도 마찬가지였다. 코로나 기간 한창 공사 중이었던 한 유명 클럽도 젊은 층이 모여 다시 활기를 띠고 있었다. 해당 클럽 앞 관계자는 \"오픈한지 50분도 안 지났는데 벌써 50명이 넘게 안에 모여있다\"며 \"시간이 지나면 더 들어올 것 같은데, 클럽 안에 관계자라든지 아는 분 계시면 더 빠른 입장이 가능하다\"고 전했다.\\n\\n자정이 가까워오자 헌팅 술집과 클럽 인근 거리에서 본격적인 \\'헌팅 분위기\\'가 가열됐다. 길거리에서도 헌팅을 제안하고 거절하기를 수없이 반복하는 젊은 남녀의 모습을 쉽게 발견할 수 있었다. 상대방 무리가 거절해도 끝없는 요청을 하며 가는 길을 따라가거나, 앉아있던 테이블에 말없이 합석해 술잔을 기울이는 이들도 여럿이었다.\\n\\n한 남성 2명이 술을 마시고 귀가하는 여성 2명의 손을 붙잡더니 \"조금만 같이 마시다 가자\"고 조르다가 여성들의 거절 끝에 발걸음을 돌리는 장면도 목격됐다. 이곳에서 생방송을 하고 있던 한 비제이(BJ)는 여성 무리의 발걸음을 따라가며 즉석에서 남성들을 매칭해주는 프로그램을 진행하기도 했다.\\n\\n이 거리를 지나가던 인근 주민 이모 씨(26)는 \"요즘은 주말 뿐 아니라 평일에도 사람이 엄청 많다\"며 \"일이 늦게 끝나서 항상 이 거리를 지나서 집으로 가야 하는데, 가끔 보면 눈살이 찌푸려지는 장면들도 보인다. 그래서 이 거리를 걸을 때는 최대한 빠른 발걸음으로 지나가 버린다\"고 말했다.\\n\\n\\'압구정 펀치남\\' 논란 그 후…압구정 헌팅 거리 가보니\\n압구정로데오에서 사람이 몰리기로 유명한 \\'헌팅 포차\\'가 비교적 한산한 모습. /사진=김세린 기자\\n강남역 거리와 함께 대표적인 헌팅 거리로 불렸던 압구정로데오의 분위기는 사뭇 달랐다. 엔데믹 이후 이 시간대만 되면 춤추고 술을 마시는 사람들로 붐볐던 유명 라운지 바들도 썰렁한 분위기였다. 하루아침에 달라진 분위기에 일각에서는 \"\\'압구정 펀치남\\' 논란 때문이 아니겠냐\"는 의견이 나오고 있다.\\n\\n얼마 전 이곳에서는 \"번호를 알려달라\"는 헌팅 요구를 거절했다는 이유로 한 남성이 일면식 없는 여성을 폭행한 사건이 발생해 논란이 일었다. 일명 \\'압구정 펀치남\\' 사건이다. 당시 A 씨 등 남성 일행 3명은 B 씨에게 다가가 연락처를 알려달라고 요구했으나, B 씨는 거절했다. 이후 A 씨가 B 씨에 달려들어 주먹 쥔 팔을 크게 휘둘러 얼굴을 가격했다. B 씨는 그대로 바닥에 쓰러졌고, 얼굴 뼈 곳곳이 부러지고 이마가 튀어나오는 등 안와골절이라는 중상을 입었다.\\n\\n이 사건은 SBS \\'궁금한 이야기 Y\\'에 소개되면서 공분을 자아냈다. 이에 A 씨는 \"B 씨가 일행을 향해 담배꽁초를 던져서 그런 것\"이라고 반박했고, 해당 CCTV 영상이 공개돼 누리꾼들 사이 갑론을박이 이어졌다. 이에 B 씨는 \"나는 길가에 던졌지, 가해자 친구에게 던지지 않았다\"며 \"그리고 만에 하나 그랬다 한들 가해자가 나를 폭행한 사실은 바뀌지 않으며 정당화시킬 수도 없다\"고 해명했다.\\n\\'헌팅 메카\\'로 유명한 압구정로데오의 한 라운지바 앞이 한산한 모습. /사진=김세린 기자\\n논란 이후 몇몇 사람들은 헌팅 뿐 아니라 모르는 이성과 마주치는 것에도 두려움을 호소하는 반응을 보였다. 압구정로데오의 유명 헌팅 포차 앞에서 만난 직장인 박모 씨(30)는 \"사람들이랑 어울리고 즐겨 마시는 걸 좋아해서 헌팅을 나쁘게 생각하지는 않는다\"면서도 \"작년까지만 해도 제대로 못 즐겨서 오랜만에 북적이는 분위기가 좋지만, 굳이 사건에 휘말리고 싶지는 않다\"고 말했다.\\n\\n대학생 정모 씨(24)는 \"원래 헌팅 제안을 받으면 \\'죄송하다\\'고 하고 거절하는데, 거절해도 끝없이 따라오는 사람들이 종종 있다\"면서도 \"이제는 혹여나 괜히 일이 생길까 봐 무섭기도 해서 헌팅 거리 인근을 지나갈 때는 뛰어서 도망가버리거나, 아예 그곳을 안가거나 하는 게 나은 것 같다\"고 말했다.\\n\\n김세린 한경닷컴 기자 celine@hankyung.com'"
      ]
     },
     "execution_count": 16,
     "metadata": {},
     "output_type": "execute_result"
    }
   ],
   "source": [
    "text = texts[5]\n",
    "text"
   ]
  },
  {
   "cell_type": "code",
   "execution_count": 17,
   "id": "6431fa33-8f39-4b4e-b07c-e65d5ea2c5c9",
   "metadata": {
    "execution": {
     "iopub.execute_input": "2024-05-17T14:09:56.918096Z",
     "iopub.status.busy": "2024-05-17T14:09:56.917878Z",
     "iopub.status.idle": "2024-05-17T14:09:56.921309Z",
     "shell.execute_reply": "2024-05-17T14:09:56.920809Z",
     "shell.execute_reply.started": "2024-05-17T14:09:56.918077Z"
    }
   },
   "outputs": [],
   "source": [
    "cal = CheckAddressLevels(df_address=df_addr, text=text)"
   ]
  },
  {
   "cell_type": "code",
   "execution_count": 20,
   "id": "b8ee99c5-a2a1-44c2-bc7d-e7d159315f1c",
   "metadata": {
    "execution": {
     "iopub.execute_input": "2024-05-17T14:15:54.516457Z",
     "iopub.status.busy": "2024-05-17T14:15:54.514601Z",
     "iopub.status.idle": "2024-05-17T14:16:01.294555Z",
     "shell.execute_reply": "2024-05-17T14:16:01.294232Z",
     "shell.execute_reply.started": "2024-05-17T14:15:54.516334Z"
    }
   },
   "outputs": [
    {
     "data": {
      "text/plain": [
       "'서울'"
      ]
     },
     "execution_count": 20,
     "metadata": {},
     "output_type": "execute_result"
    }
   ],
   "source": [
    "addr = cal.process()\n",
    "addr"
   ]
  },
  {
   "cell_type": "code",
   "execution_count": 11,
   "id": "6c554557-b25b-4b41-87a0-daf8335a201c",
   "metadata": {
    "execution": {
     "iopub.execute_input": "2024-05-17T14:08:31.305068Z",
     "iopub.status.busy": "2024-05-17T14:08:31.303489Z",
     "iopub.status.idle": "2024-05-17T14:08:32.313906Z",
     "shell.execute_reply": "2024-05-17T14:08:32.312697Z",
     "shell.execute_reply.started": "2024-05-17T14:08:31.305016Z"
    }
   },
   "outputs": [
    {
     "data": {
      "text/plain": [
       "(37.5300432, 127.0313346)"
      ]
     },
     "execution_count": 11,
     "metadata": {},
     "output_type": "execute_result"
    }
   ],
   "source": [
    "get_lat_long(addr)"
   ]
  },
  {
   "cell_type": "markdown",
   "id": "33ca6231-e4bb-480b-add2-2decf8fdf40b",
   "metadata": {},
   "source": [
    "> 강남역, 압구정, 압구정로데오 ...\n",
    "\n",
    "주소는 아니지만 자주쓰이는 위치정보인데, 미처 생각하지 못했다.  \n",
    "정확한 주소명으로 찾아내는 방식은 이런 한계점이 있다.  \n",
    "그렇다고 전철역, 기차역을 다 넣어야하나...  "
   ]
  },
  {
   "cell_type": "markdown",
   "id": "61245e17-b835-4203-a8f9-8fd8475d6a59",
   "metadata": {},
   "source": [
    "> '거리'\n",
    "\n",
    "이건 또 무슨 ... ㅋㅋㅋ  "
   ]
  },
  {
   "cell_type": "markdown",
   "id": "eefd73eb-6a91-474f-b0c9-48d870c788ce",
   "metadata": {},
   "source": [
    "## Blogging"
   ]
  },
  {
   "cell_type": "code",
   "execution_count": 23,
   "id": "fc2af7bc-8b0f-4cb7-be26-491a8ff22dbb",
   "metadata": {
    "execution": {
     "iopub.execute_input": "2024-05-17T14:37:29.774618Z",
     "iopub.status.busy": "2024-05-17T14:37:29.771710Z",
     "iopub.status.idle": "2024-05-17T14:37:29.952156Z",
     "shell.execute_reply": "2024-05-17T14:37:29.951711Z",
     "shell.execute_reply.started": "2024-05-17T14:37:29.774575Z"
    }
   },
   "outputs": [],
   "source": [
    "import pandas as pd \n",
    "import numpy as np\n",
    "import math\n",
    "import re\n",
    "\n",
    "from icecream import ic\n",
    "from tqdm import tqdm \n",
    "\n",
    "from utils.custom_utils import load_var, save_var\n",
    "# from utils.search_address import RetrieveAddress, get_lat_long\n",
    "\n",
    "df_hk_json = load_var(\"df_hk_json\")\n",
    "df_where = df_hk_json['where']\n",
    "# df_addr = pd.read_csv('./address/address.csv')\n",
    "df_addr = pd.read_parquet('./address/df_addr.parquet.gzip')\n",
    "\n",
    "texts = df_hk_json.iloc[:]['text']"
   ]
  },
  {
   "cell_type": "code",
   "execution_count": 24,
   "id": "a670a81c-8f63-4f4f-b02e-9c294511eff0",
   "metadata": {
    "execution": {
     "iopub.execute_input": "2024-05-17T14:37:56.337163Z",
     "iopub.status.busy": "2024-05-17T14:37:56.335916Z",
     "iopub.status.idle": "2024-05-17T14:37:56.360488Z",
     "shell.execute_reply": "2024-05-17T14:37:56.359691Z",
     "shell.execute_reply.started": "2024-05-17T14:37:56.337104Z"
    },
    "scrolled": true
   },
   "outputs": [
    {
     "data": {
      "text/plain": [
       "'/사진=유튜브 채널 \\'서울경찰\\' 영상 캡처\\n출근길 \\'묻지마 폭행\\'을 저지른 남성이 현행범으로 체포되는 모습이 공개됐다.\\n\\n18일 서울경찰청 공식 유튜브 채널에 \\'출근길 묻지마 폭행범 검거 현장\\'이라는 제목으로 지난 3월 서울 관악구 골목길에서 난동을 부렸던 남성의 모습이 담긴 영상이 게재됐다.\\n\\n이 남성은 상의를 벗어 문신이 그려진 몸으로 길을 걷던 한 여성을 향해 달려갔다. 갑자기 돌진하는 남성을 보며 놀란 여성이 횡단보도로 뛰어가며 도망쳤지만, 남성은 그 뒤를 쫓아갔다.\\n\\n다른 행인들이 남성을 말렸음에도 난동은 이어졌다. 신고받고 현장에 출동한 경찰은 폭행 및 공무집행방해 등 혐의로 현장에서 체포했다.\\n/사진=유튜브 채널 \\'서울경찰\\' 영상 캡처\\n경찰의 등장에도 남성은 침을 뱉고, 욕을 하는 등 폭력적인 행동을 이어갔다. 결국 경찰은 남성을 힘으로 제압해 압송했다.\\n\\n경찰에 따르면 이 남성과 여성은 일면식도 없는 사이였다. 경찰은 \"마약사범으로 의심했으나 마약 성분은 검출되지 않았다\"며 \"관제센터와의 공조, 시민들의 도움으로 빠르게 찾아낸 덕에 2차 피해를 막을 수 있었다\"고 전했다.\\n\\n김소연 한경닷컴 기자 sue123@hankyung.com'"
      ]
     },
     "execution_count": 24,
     "metadata": {},
     "output_type": "execute_result"
    }
   ],
   "source": [
    "text = texts[2]\n",
    "text"
   ]
  },
  {
   "cell_type": "code",
   "execution_count": 25,
   "id": "543785c0-d8c3-4750-af04-a62f26d37a23",
   "metadata": {
    "execution": {
     "iopub.execute_input": "2024-05-17T14:38:00.975473Z",
     "iopub.status.busy": "2024-05-17T14:38:00.975249Z",
     "iopub.status.idle": "2024-05-17T14:38:00.978584Z",
     "shell.execute_reply": "2024-05-17T14:38:00.978101Z",
     "shell.execute_reply.started": "2024-05-17T14:38:00.975457Z"
    }
   },
   "outputs": [],
   "source": [
    "cal = CheckAddressLevels(df_address=df_addr, text=text)"
   ]
  },
  {
   "cell_type": "code",
   "execution_count": 28,
   "id": "d0e0c64f-311e-442b-ac22-b12a0ce953b4",
   "metadata": {
    "execution": {
     "iopub.execute_input": "2024-05-17T14:38:07.319038Z",
     "iopub.status.busy": "2024-05-17T14:38:07.318339Z",
     "iopub.status.idle": "2024-05-17T14:38:07.334897Z",
     "shell.execute_reply": "2024-05-17T14:38:07.333941Z",
     "shell.execute_reply.started": "2024-05-17T14:38:07.318988Z"
    }
   },
   "outputs": [
    {
     "data": {
      "text/html": [
       "<div>\n",
       "<style scoped>\n",
       "    .dataframe tbody tr th:only-of-type {\n",
       "        vertical-align: middle;\n",
       "    }\n",
       "\n",
       "    .dataframe tbody tr th {\n",
       "        vertical-align: top;\n",
       "    }\n",
       "\n",
       "    .dataframe thead th {\n",
       "        text-align: right;\n",
       "    }\n",
       "</style>\n",
       "<table border=\"1\" class=\"dataframe\">\n",
       "  <thead>\n",
       "    <tr style=\"text-align: right;\">\n",
       "      <th></th>\n",
       "      <th>lv0</th>\n",
       "      <th>lv1</th>\n",
       "      <th>lv2</th>\n",
       "      <th>lv3</th>\n",
       "      <th>lv4</th>\n",
       "      <th>lv5</th>\n",
       "    </tr>\n",
       "  </thead>\n",
       "  <tbody>\n",
       "    <tr>\n",
       "      <th>11913</th>\n",
       "      <td>전남</td>\n",
       "      <td>전라남도</td>\n",
       "      <td>순천시</td>\n",
       "      <td>행동</td>\n",
       "      <td>None</td>\n",
       "      <td>NaN</td>\n",
       "    </tr>\n",
       "    <tr>\n",
       "      <th>27516</th>\n",
       "      <td>서울</td>\n",
       "      <td>서울특별시</td>\n",
       "      <td>종로구</td>\n",
       "      <td>청운동</td>\n",
       "      <td>None</td>\n",
       "      <td>NaN</td>\n",
       "    </tr>\n",
       "    <tr>\n",
       "      <th>27517</th>\n",
       "      <td>서울</td>\n",
       "      <td>서울특별시</td>\n",
       "      <td>종로구</td>\n",
       "      <td>신교동</td>\n",
       "      <td>None</td>\n",
       "      <td>NaN</td>\n",
       "    </tr>\n",
       "    <tr>\n",
       "      <th>27518</th>\n",
       "      <td>서울</td>\n",
       "      <td>서울특별시</td>\n",
       "      <td>종로구</td>\n",
       "      <td>궁정동</td>\n",
       "      <td>None</td>\n",
       "      <td>NaN</td>\n",
       "    </tr>\n",
       "    <tr>\n",
       "      <th>27519</th>\n",
       "      <td>서울</td>\n",
       "      <td>서울특별시</td>\n",
       "      <td>종로구</td>\n",
       "      <td>효자동</td>\n",
       "      <td>None</td>\n",
       "      <td>NaN</td>\n",
       "    </tr>\n",
       "  </tbody>\n",
       "</table>\n",
       "</div>"
      ],
      "text/plain": [
       "      lv0    lv1  lv2  lv3   lv4  lv5\n",
       "11913  전남   전라남도  순천시   행동  None  NaN\n",
       "27516  서울  서울특별시  종로구  청운동  None  NaN\n",
       "27517  서울  서울특별시  종로구  신교동  None  NaN\n",
       "27518  서울  서울특별시  종로구  궁정동  None  NaN\n",
       "27519  서울  서울특별시  종로구  효자동  None  NaN"
      ]
     },
     "execution_count": 28,
     "metadata": {},
     "output_type": "execute_result"
    }
   ],
   "source": [
    "cal.df_filtered.head()"
   ]
  },
  {
   "cell_type": "code",
   "execution_count": 29,
   "id": "d87e01d1-c482-4b5e-af45-2de91feec2af",
   "metadata": {
    "collapsed": true,
    "execution": {
     "iopub.execute_input": "2024-05-17T14:47:12.830149Z",
     "iopub.status.busy": "2024-05-17T14:47:12.829656Z",
     "iopub.status.idle": "2024-05-17T14:47:12.850305Z",
     "shell.execute_reply": "2024-05-17T14:47:12.849697Z",
     "shell.execute_reply.started": "2024-05-17T14:47:12.830123Z"
    },
    "jupyter": {
     "outputs_hidden": true
    },
    "scrolled": true
   },
   "outputs": [
    {
     "data": {
      "text/plain": [
       "{'가락동',\n",
       " '가리봉동',\n",
       " '가산동',\n",
       " '가양동',\n",
       " '가회동',\n",
       " '갈월동',\n",
       " '갈현동',\n",
       " '강남구',\n",
       " '강동구',\n",
       " '강동동',\n",
       " '강북구',\n",
       " '강서구',\n",
       " '강일동',\n",
       " '개봉동',\n",
       " '개포동',\n",
       " '개화동',\n",
       " '거여동',\n",
       " '견지동',\n",
       " '경동',\n",
       " '경운동',\n",
       " '계동',\n",
       " '계산동1가',\n",
       " '계산동2가',\n",
       " '고덕동',\n",
       " '고척동',\n",
       " '공덕동',\n",
       " '공릉동',\n",
       " '공평동',\n",
       " '공항동',\n",
       " '과해동',\n",
       " '관동1가',\n",
       " '관동2가',\n",
       " '관동3가',\n",
       " '관수동',\n",
       " '관악구',\n",
       " '관철동',\n",
       " '관훈동',\n",
       " '광복동1가',\n",
       " '광복동2가',\n",
       " '광복동3가',\n",
       " '광장동',\n",
       " '광진구',\n",
       " '광희동1가',\n",
       " '광희동2가',\n",
       " '교남동',\n",
       " '교동',\n",
       " '교북동',\n",
       " '구기동',\n",
       " '구랑동',\n",
       " '구로구',\n",
       " '구로동',\n",
       " '구산동',\n",
       " '구수동',\n",
       " '구완동',\n",
       " '구의동',\n",
       " '군자동',\n",
       " '궁동',\n",
       " '궁정동',\n",
       " '권농동',\n",
       " '금동',\n",
       " '금천구',\n",
       " '금호동1가',\n",
       " '금호동2가',\n",
       " '금호동3가',\n",
       " '금호동4가',\n",
       " '길동',\n",
       " '길음동',\n",
       " '낙원동',\n",
       " '남가좌동',\n",
       " '남대문로1가',\n",
       " '남대문로2가',\n",
       " '남대문로3가',\n",
       " '남대문로4가',\n",
       " '남대문로5가',\n",
       " '남북동',\n",
       " '남산동',\n",
       " '남산동1가',\n",
       " '남산동2가',\n",
       " '남산동3가',\n",
       " '남성로',\n",
       " '남영동',\n",
       " '남외동',\n",
       " '남일동',\n",
       " '남창동',\n",
       " '남포동1가',\n",
       " '남포동2가',\n",
       " '남포동3가',\n",
       " '남포동4가',\n",
       " '남포동5가',\n",
       " '남포동6가',\n",
       " '남학동',\n",
       " '남현동',\n",
       " '내곡동',\n",
       " '내동',\n",
       " '내발산동',\n",
       " '내수동',\n",
       " '내자동',\n",
       " '냉천동',\n",
       " '노고산동',\n",
       " '노량진동',\n",
       " '노원구',\n",
       " '녹번동',\n",
       " '녹산동',\n",
       " '논현동',\n",
       " '누상동',\n",
       " '누하동',\n",
       " '눌차동',\n",
       " '능동',\n",
       " '다동',\n",
       " '다운동',\n",
       " '달성동',\n",
       " '답동',\n",
       " '답십리동',\n",
       " '당산동',\n",
       " '당산동1가',\n",
       " '당산동2가',\n",
       " '당산동3가',\n",
       " '당산동4가',\n",
       " '당산동5가',\n",
       " '당산동6가',\n",
       " '당인동',\n",
       " '당주동',\n",
       " '대림동',\n",
       " '대방동',\n",
       " '대봉동',\n",
       " '대사동',\n",
       " '대신동',\n",
       " '대안동',\n",
       " '대저1동',\n",
       " '대저2동',\n",
       " '대조동',\n",
       " '대창동1가',\n",
       " '대창동2가',\n",
       " '대청동1가',\n",
       " '대청동2가',\n",
       " '대청동3가',\n",
       " '대청동4가',\n",
       " '대치동',\n",
       " '대항동',\n",
       " '대현동',\n",
       " '대흥동',\n",
       " '덕교동',\n",
       " '덕산동',\n",
       " '도곡동',\n",
       " '도렴동',\n",
       " '도림동',\n",
       " '도봉구',\n",
       " '도봉동',\n",
       " '도선동',\n",
       " '도원동',\n",
       " '도화동',\n",
       " '독산동',\n",
       " '돈암동',\n",
       " '돈의동',\n",
       " '동광동1가',\n",
       " '동광동2가',\n",
       " '동광동3가',\n",
       " '동광동4가',\n",
       " '동광동5가',\n",
       " '동교동',\n",
       " '동대문구',\n",
       " '동동',\n",
       " '동문동',\n",
       " '동빙고동',\n",
       " '동산동',\n",
       " '동선동',\n",
       " '동선동1가',\n",
       " '동선동2가',\n",
       " '동선동3가',\n",
       " '동선동4가',\n",
       " '동선동5가',\n",
       " '동성로1가',\n",
       " '동성로2가',\n",
       " '동성로3가',\n",
       " '동소문동1가',\n",
       " '동소문동2가',\n",
       " '동소문동3가',\n",
       " '동소문동4가',\n",
       " '동소문동5가',\n",
       " '동소문동6가',\n",
       " '동소문동7가',\n",
       " '동숭동',\n",
       " '동인동1가',\n",
       " '동인동2가',\n",
       " '동인동3가',\n",
       " '동인동4가',\n",
       " '동일동',\n",
       " '동자동',\n",
       " '동작구',\n",
       " '동작동',\n",
       " '둔촌동',\n",
       " '등촌동',\n",
       " '마곡동',\n",
       " '마장동',\n",
       " '마천동',\n",
       " '마포구',\n",
       " '마포동',\n",
       " '만리동1가',\n",
       " '만리동2가',\n",
       " '망우동',\n",
       " '망원동',\n",
       " '면목동',\n",
       " '명동1가',\n",
       " '명동2가',\n",
       " '명륜1가',\n",
       " '명륜2가',\n",
       " '명륜3가',\n",
       " '명륜4가',\n",
       " '명일동',\n",
       " '명지동',\n",
       " '목달동',\n",
       " '목동',\n",
       " '묘동',\n",
       " '무교동',\n",
       " '무수동',\n",
       " '무악동',\n",
       " '무의동',\n",
       " '무학동',\n",
       " '묵동',\n",
       " '묵정동',\n",
       " '문래동1가',\n",
       " '문래동2가',\n",
       " '문래동3가',\n",
       " '문래동4가',\n",
       " '문래동5가',\n",
       " '문래동6가',\n",
       " '문배동',\n",
       " '문정동',\n",
       " '문창동',\n",
       " '문화동',\n",
       " '미근동',\n",
       " '미아동',\n",
       " '미음동',\n",
       " '반구동',\n",
       " '반포동',\n",
       " '방배동',\n",
       " '방산동',\n",
       " '방이동',\n",
       " '방학동',\n",
       " '방화동',\n",
       " '번동',\n",
       " '범방동',\n",
       " '보광동',\n",
       " '보문동1가',\n",
       " '보문동2가',\n",
       " '보문동3가',\n",
       " '보문동4가',\n",
       " '보문동5가',\n",
       " '보문동6가',\n",
       " '보문동7가',\n",
       " '보수동1가',\n",
       " '보수동2가',\n",
       " '보수동3가',\n",
       " '복산동',\n",
       " '본동',\n",
       " '봉래동1가',\n",
       " '봉래동2가',\n",
       " '봉림동',\n",
       " '봉산동',\n",
       " '봉원동',\n",
       " '봉익동',\n",
       " '봉천동',\n",
       " '부사동',\n",
       " '부암동',\n",
       " '부평동1가',\n",
       " '부평동2가',\n",
       " '부평동3가',\n",
       " '부평동4가',\n",
       " '북가좌동',\n",
       " '북내동',\n",
       " '북성동1가',\n",
       " '북성동2가',\n",
       " '북성동3가',\n",
       " '북성로1가',\n",
       " '북성로2가',\n",
       " '북아현동',\n",
       " '북정동',\n",
       " '북창동',\n",
       " '불광동',\n",
       " '사간동',\n",
       " '사근동',\n",
       " '사당동',\n",
       " '사동',\n",
       " '사일동',\n",
       " '사정동',\n",
       " '사직동',\n",
       " '산림동',\n",
       " '산성동',\n",
       " '산천동',\n",
       " '삼각동',\n",
       " '삼덕동1가',\n",
       " '삼덕동2가',\n",
       " '삼덕동3가',\n",
       " '삼선동1가',\n",
       " '삼선동2가',\n",
       " '삼선동3가',\n",
       " '삼선동4가',\n",
       " '삼선동5가',\n",
       " '삼성동',\n",
       " '삼전동',\n",
       " '삼청동',\n",
       " '상계동',\n",
       " '상덕동',\n",
       " '상도1동',\n",
       " '상도동',\n",
       " '상봉동',\n",
       " '상서동',\n",
       " '상수동',\n",
       " '상암동',\n",
       " '상왕십리동',\n",
       " '상월곡동',\n",
       " '상일동',\n",
       " '생곡동',\n",
       " '서계동',\n",
       " '서교동',\n",
       " '서내동',\n",
       " '서대문구',\n",
       " '서동',\n",
       " '서린동',\n",
       " '서문로1가',\n",
       " '서문로2가',\n",
       " '서빙고동',\n",
       " '서성로1가',\n",
       " '서성로2가',\n",
       " '서소문동',\n",
       " '서야동',\n",
       " '서울',\n",
       " '서울특별시',\n",
       " '서초구',\n",
       " '서초동',\n",
       " '석관동',\n",
       " '석교동',\n",
       " '석촌동',\n",
       " '선린동',\n",
       " '선화동',\n",
       " '성남동',\n",
       " '성내동',\n",
       " '성동구',\n",
       " '성북구',\n",
       " '성북동',\n",
       " '성북동1가',\n",
       " '성산동',\n",
       " '성수동1가',\n",
       " '성수동2가',\n",
       " '성안동',\n",
       " '세곡동',\n",
       " '세종로',\n",
       " '소격동',\n",
       " '소공동',\n",
       " '송월동',\n",
       " '송월동1가',\n",
       " '송월동2가',\n",
       " '송월동3가',\n",
       " '송정동',\n",
       " '송파구',\n",
       " '송파동',\n",
       " '송학동1가',\n",
       " '송학동2가',\n",
       " '송학동3가',\n",
       " '송현동',\n",
       " '수동',\n",
       " '수색동',\n",
       " '수서동',\n",
       " '수송동',\n",
       " '수유동',\n",
       " '수창동',\n",
       " '수표동',\n",
       " '수하동',\n",
       " '순천시',\n",
       " '순화동',\n",
       " '숭인동',\n",
       " '시장북로',\n",
       " '시흥동',\n",
       " '식만동',\n",
       " '신계동',\n",
       " '신공덕동',\n",
       " '신교동',\n",
       " '신길동',\n",
       " '신내동',\n",
       " '신당동',\n",
       " '신대방동',\n",
       " '신도림동',\n",
       " '신림동',\n",
       " '신문로1가',\n",
       " '신문로2가',\n",
       " '신사동',\n",
       " '신생동',\n",
       " '신설동',\n",
       " '신수동',\n",
       " '신영동',\n",
       " '신원동',\n",
       " '신월동',\n",
       " '신정동',\n",
       " '신창동',\n",
       " '신창동1가',\n",
       " '신창동2가',\n",
       " '신창동3가',\n",
       " '신창동4가',\n",
       " '신천동',\n",
       " '신촌동',\n",
       " '신포동',\n",
       " '신호동',\n",
       " '신흥동1가',\n",
       " '신흥동2가',\n",
       " '신흥동3가',\n",
       " '쌍림동',\n",
       " '쌍문동',\n",
       " '아현동',\n",
       " '안국동',\n",
       " '안암동1가',\n",
       " '안암동2가',\n",
       " '안암동3가',\n",
       " '안암동4가',\n",
       " '안암동5가',\n",
       " '안영동',\n",
       " '암사동',\n",
       " '압구정동',\n",
       " '약사동',\n",
       " '양재동',\n",
       " '양천구',\n",
       " '양평동',\n",
       " '양평동1가',\n",
       " '양평동2가',\n",
       " '양평동3가',\n",
       " '양평동4가',\n",
       " '양평동5가',\n",
       " '양평동6가',\n",
       " '양화동',\n",
       " '어남동',\n",
       " '여의도동',\n",
       " '역삼동',\n",
       " '역촌동',\n",
       " '연건동',\n",
       " '연남동',\n",
       " '연지동',\n",
       " '연희동',\n",
       " '염곡동',\n",
       " '염리동',\n",
       " '염창동',\n",
       " '영등포구',\n",
       " '영등포동',\n",
       " '영등포동1가',\n",
       " '영등포동2가',\n",
       " '영등포동3가',\n",
       " '영등포동4가',\n",
       " '영등포동5가',\n",
       " '영등포동6가',\n",
       " '영등포동7가',\n",
       " '영등포동8가',\n",
       " '영주동',\n",
       " '영천동',\n",
       " '예관동',\n",
       " '예장동',\n",
       " '예지동',\n",
       " '오곡동',\n",
       " '오금동',\n",
       " '오류동',\n",
       " '오쇠동',\n",
       " '오장동',\n",
       " '옥계동',\n",
       " '옥교동',\n",
       " '옥수동',\n",
       " '옥인동',\n",
       " '옥천동',\n",
       " '온수동',\n",
       " '와룡동',\n",
       " '완전동',\n",
       " '외발산동',\n",
       " '용강동',\n",
       " '용답동',\n",
       " '용덕동',\n",
       " '용동',\n",
       " '용두동',\n",
       " '용문동',\n",
       " '용산구',\n",
       " '용산동1가',\n",
       " '용산동2가',\n",
       " '용산동3가',\n",
       " '용산동4가',\n",
       " '용산동5가',\n",
       " '용산동6가',\n",
       " '우면동',\n",
       " '우이동',\n",
       " '우정동',\n",
       " '운남동',\n",
       " '운니동',\n",
       " '운북동',\n",
       " '운서동',\n",
       " '원남동',\n",
       " '원서동',\n",
       " '원지동',\n",
       " '원효로1가',\n",
       " '원효로2가',\n",
       " '원효로3가',\n",
       " '원효로4가',\n",
       " '월계동',\n",
       " '유곡동',\n",
       " '유동',\n",
       " '유천동',\n",
       " '율목동',\n",
       " '율현동',\n",
       " '은평구',\n",
       " '은행동',\n",
       " '을왕동',\n",
       " '을지로1가',\n",
       " '을지로2가',\n",
       " '을지로3가',\n",
       " '을지로4가',\n",
       " '을지로5가',\n",
       " '을지로6가',\n",
       " '을지로7가',\n",
       " '응봉동',\n",
       " '응암동',\n",
       " '의주로1가',\n",
       " '의주로2가',\n",
       " '이문동',\n",
       " '이촌동',\n",
       " '이태원동',\n",
       " '이화동',\n",
       " '익선동',\n",
       " '인교동',\n",
       " '인사동',\n",
       " '인의동',\n",
       " '인현동',\n",
       " '인현동1가',\n",
       " '인현동2가',\n",
       " '일원동',\n",
       " '입정동',\n",
       " '자곡동',\n",
       " '자양동',\n",
       " '잠실동',\n",
       " '잠원동',\n",
       " '장관동',\n",
       " '장교동',\n",
       " '장사동',\n",
       " '장안동',\n",
       " '장위동',\n",
       " '장지동',\n",
       " '장충동1가',\n",
       " '장충동2가',\n",
       " '장현동',\n",
       " '재동',\n",
       " '저동1가',\n",
       " '저동2가',\n",
       " '적선동',\n",
       " '전남',\n",
       " '전농동',\n",
       " '전동',\n",
       " '전라남도',\n",
       " '정동',\n",
       " '정릉동',\n",
       " '정생동',\n",
       " '제기동',\n",
       " '종로1가',\n",
       " '종로2가',\n",
       " '종로3가',\n",
       " '종로4가',\n",
       " '종로5가',\n",
       " '종로6가',\n",
       " '종로구',\n",
       " '종암동',\n",
       " '주교동',\n",
       " '주성동',\n",
       " '주자동',\n",
       " '죽동동',\n",
       " '죽림동',\n",
       " '중계동',\n",
       " '중곡동',\n",
       " '중구',\n",
       " '중동',\n",
       " '중랑구',\n",
       " '중림동',\n",
       " '중산동',\n",
       " '중앙동1가',\n",
       " '중앙동2가',\n",
       " '중앙동3가',\n",
       " '중앙동4가',\n",
       " '중앙동5가',\n",
       " '중앙동6가',\n",
       " '중앙동7가',\n",
       " '중촌동',\n",
       " '중학동',\n",
       " '중화동',\n",
       " '증산동',\n",
       " '지사동',\n",
       " '진관동',\n",
       " '창동',\n",
       " '창선동1가',\n",
       " '창선동2가',\n",
       " '창성동',\n",
       " '창신동',\n",
       " '창전동',\n",
       " '창천동',\n",
       " '천성동',\n",
       " '천연동',\n",
       " '천왕동',\n",
       " '천호동',\n",
       " '청담동',\n",
       " '청량리동',\n",
       " '청암동',\n",
       " '청운동',\n",
       " '청진동',\n",
       " '청파동1가',\n",
       " '청파동2가',\n",
       " '청파동3가',\n",
       " '체부동',\n",
       " '초동',\n",
       " '충무로1가',\n",
       " '충무로2가',\n",
       " '충무로3가',\n",
       " '충무로4가',\n",
       " '충무로5가',\n",
       " '충신동',\n",
       " '충정로1가',\n",
       " '충정로2가',\n",
       " '충정로3가',\n",
       " '침산동',\n",
       " '태평동',\n",
       " '태평로1가',\n",
       " '태평로2가',\n",
       " '태평로3가',\n",
       " '태화동',\n",
       " '토정동',\n",
       " '통의동',\n",
       " '통인동',\n",
       " '팔판동',\n",
       " '평동',\n",
       " '평창동',\n",
       " '포정동',\n",
       " '풍납동',\n",
       " '필동1가',\n",
       " '필동2가',\n",
       " '필동3가',\n",
       " '필운동',\n",
       " '하계동',\n",
       " '하서동',\n",
       " '하왕십리동',\n",
       " '하월곡동',\n",
       " '하중동',\n",
       " '학산동',\n",
       " '학성동',\n",
       " '한강로1가',\n",
       " '한강로2가',\n",
       " '한강로3가',\n",
       " '한남동',\n",
       " '합동',\n",
       " '합정동',\n",
       " '항동',\n",
       " '항동1가',\n",
       " '항동2가',\n",
       " '항동3가',\n",
       " '항동4가',\n",
       " '항동5가',\n",
       " '항동6가',\n",
       " '항동7가',\n",
       " '해안동1가',\n",
       " '해안동2가',\n",
       " '해안동3가',\n",
       " '해안동4가',\n",
       " '행당동',\n",
       " '행동',\n",
       " '행촌동',\n",
       " '향촌동',\n",
       " '현석동',\n",
       " '현저동',\n",
       " '혜화동',\n",
       " '호동',\n",
       " '홍은동',\n",
       " '홍익동',\n",
       " '홍제동',\n",
       " '홍지동',\n",
       " '홍파동',\n",
       " '화곡동',\n",
       " '화동',\n",
       " '화양동',\n",
       " '화전동',\n",
       " '황학동',\n",
       " '회기동',\n",
       " '회현동1가',\n",
       " '회현동2가',\n",
       " '회현동3가',\n",
       " '효자동',\n",
       " '효제동',\n",
       " '효창동',\n",
       " '후암동',\n",
       " '훈정동',\n",
       " '휘경동',\n",
       " '흑석동',\n",
       " '흥인동'}"
      ]
     },
     "execution_count": 29,
     "metadata": {},
     "output_type": "execute_result"
    }
   ],
   "source": [
    "cal.address_set"
   ]
  },
  {
   "cell_type": "code",
   "execution_count": 31,
   "id": "93317443-afdc-4613-a4d2-5973b3e2f5bd",
   "metadata": {
    "execution": {
     "iopub.execute_input": "2024-05-17T14:49:20.084618Z",
     "iopub.status.busy": "2024-05-17T14:49:20.082940Z",
     "iopub.status.idle": "2024-05-17T14:49:20.094261Z",
     "shell.execute_reply": "2024-05-17T14:49:20.093500Z",
     "shell.execute_reply.started": "2024-05-17T14:49:20.084588Z"
    }
   },
   "outputs": [
    {
     "data": {
      "text/plain": [
       "{'서울': 4, '행동': 1, '관악구': 1}"
      ]
     },
     "execution_count": 31,
     "metadata": {},
     "output_type": "execute_result"
    }
   ],
   "source": [
    "cal.filtered_dict"
   ]
  },
  {
   "cell_type": "code",
   "execution_count": 32,
   "id": "72deedad-8851-491f-86c7-86d6236c4a7a",
   "metadata": {
    "execution": {
     "iopub.execute_input": "2024-05-17T14:49:36.411447Z",
     "iopub.status.busy": "2024-05-17T14:49:36.410463Z",
     "iopub.status.idle": "2024-05-17T14:49:36.420592Z",
     "shell.execute_reply": "2024-05-17T14:49:36.420092Z",
     "shell.execute_reply.started": "2024-05-17T14:49:36.411396Z"
    }
   },
   "outputs": [
    {
     "data": {
      "text/plain": [
       "{'서울': {'count': 4, 'level': ['lv0']},\n",
       " '행동': {'count': 1, 'level': ['lv3']},\n",
       " '관악구': {'count': 1, 'level': ['lv2']}}"
      ]
     },
     "execution_count": 32,
     "metadata": {},
     "output_type": "execute_result"
    }
   ],
   "source": [
    "cal.levels"
   ]
  },
  {
   "cell_type": "code",
   "execution_count": 33,
   "id": "04c52e02-aa71-40c7-ad40-a87147709088",
   "metadata": {
    "execution": {
     "iopub.execute_input": "2024-05-17T14:49:48.165722Z",
     "iopub.status.busy": "2024-05-17T14:49:48.165166Z",
     "iopub.status.idle": "2024-05-17T14:49:48.176758Z",
     "shell.execute_reply": "2024-05-17T14:49:48.175942Z",
     "shell.execute_reply.started": "2024-05-17T14:49:48.165693Z"
    }
   },
   "outputs": [
    {
     "data": {
      "text/plain": [
       "['서울', '관악구']"
      ]
     },
     "execution_count": 33,
     "metadata": {},
     "output_type": "execute_result"
    }
   ],
   "source": [
    "cal.existances"
   ]
  },
  {
   "cell_type": "code",
   "execution_count": 34,
   "id": "930709b5-0f43-4c33-8d92-9b52a1254f6c",
   "metadata": {
    "execution": {
     "iopub.execute_input": "2024-05-17T14:49:59.897022Z",
     "iopub.status.busy": "2024-05-17T14:49:59.896322Z",
     "iopub.status.idle": "2024-05-17T14:49:59.905112Z",
     "shell.execute_reply": "2024-05-17T14:49:59.903749Z",
     "shell.execute_reply.started": "2024-05-17T14:49:59.896989Z"
    }
   },
   "outputs": [
    {
     "data": {
      "text/plain": [
       "{'서울': 0, '관악구': 2}"
      ]
     },
     "execution_count": 34,
     "metadata": {},
     "output_type": "execute_result"
    }
   ],
   "source": [
    "cal.existed_levels"
   ]
  },
  {
   "cell_type": "code",
   "execution_count": 26,
   "id": "488d8117-a607-40dd-8e70-f31d7fca2884",
   "metadata": {
    "execution": {
     "iopub.execute_input": "2024-05-17T14:38:00.979423Z",
     "iopub.status.busy": "2024-05-17T14:38:00.979298Z",
     "iopub.status.idle": "2024-05-17T14:38:03.397006Z",
     "shell.execute_reply": "2024-05-17T14:38:03.396738Z",
     "shell.execute_reply.started": "2024-05-17T14:38:00.979413Z"
    }
   },
   "outputs": [
    {
     "data": {
      "text/plain": [
       "'관악구'"
      ]
     },
     "execution_count": 26,
     "metadata": {},
     "output_type": "execute_result"
    }
   ],
   "source": [
    "addr = cal.process()\n",
    "addr"
   ]
  },
  {
   "cell_type": "code",
   "execution_count": 27,
   "id": "1337b407-66fa-4b15-b010-38d1c9bf6d01",
   "metadata": {
    "execution": {
     "iopub.execute_input": "2024-05-17T14:38:03.397484Z",
     "iopub.status.busy": "2024-05-17T14:38:03.397410Z",
     "iopub.status.idle": "2024-05-17T14:38:05.055132Z",
     "shell.execute_reply": "2024-05-17T14:38:05.054597Z",
     "shell.execute_reply.started": "2024-05-17T14:38:03.397477Z"
    }
   },
   "outputs": [
    {
     "data": {
      "text/plain": [
       "(37.4782, 126.9518)"
      ]
     },
     "execution_count": 27,
     "metadata": {},
     "output_type": "execute_result"
    }
   ],
   "source": [
    "get_lat_long(addr)"
   ]
  },
  {
   "cell_type": "markdown",
   "id": "2c6b5b47-1c3d-49db-8eca-94c5877aa247",
   "metadata": {},
   "source": [
    "## Test - Results Inspection"
   ]
  },
  {
   "cell_type": "markdown",
   "id": "77df0271-9609-43d5-82c3-24a4ceb05464",
   "metadata": {},
   "source": [
    "### import"
   ]
  },
  {
   "cell_type": "code",
   "execution_count": 29,
   "id": "388d0699-5072-4761-9b3a-bda1df483164",
   "metadata": {
    "execution": {
     "iopub.execute_input": "2024-05-19T02:21:12.430043Z",
     "iopub.status.busy": "2024-05-19T02:21:12.429117Z",
     "iopub.status.idle": "2024-05-19T02:21:12.437549Z",
     "shell.execute_reply": "2024-05-19T02:21:12.436817Z",
     "shell.execute_reply.started": "2024-05-19T02:21:12.430005Z"
    }
   },
   "outputs": [],
   "source": [
    "import pandas as pd \n",
    "import numpy as np\n",
    "import math\n",
    "import re\n",
    "\n",
    "from icecream import ic\n",
    "from tqdm.notebook import tqdm \n",
    "\n",
    "from utils.custom_utils import load_var, save_var\n",
    "from utils.search_address import RetrieveAddress, get_lat_long, CheckAddressLevels\n",
    "from utils.webscraping import ArticleScraper"
   ]
  },
  {
   "cell_type": "code",
   "execution_count": 30,
   "id": "d0f0ce89-f17c-43e6-be93-1bc7032d1c40",
   "metadata": {
    "execution": {
     "iopub.execute_input": "2024-05-19T02:21:13.328873Z",
     "iopub.status.busy": "2024-05-19T02:21:13.328433Z",
     "iopub.status.idle": "2024-05-19T02:21:13.334709Z",
     "shell.execute_reply": "2024-05-19T02:21:13.333294Z",
     "shell.execute_reply.started": "2024-05-19T02:21:13.328848Z"
    }
   },
   "outputs": [],
   "source": [
    "from importlib import reload"
   ]
  },
  {
   "cell_type": "code",
   "execution_count": 2,
   "id": "800a88a8-baf0-498e-aa5d-8a1106895106",
   "metadata": {
    "execution": {
     "iopub.execute_input": "2024-05-18T15:03:49.180998Z",
     "iopub.status.busy": "2024-05-18T15:03:49.179406Z",
     "iopub.status.idle": "2024-05-18T15:03:49.595081Z",
     "shell.execute_reply": "2024-05-18T15:03:49.594785Z",
     "shell.execute_reply.started": "2024-05-18T15:03:49.180917Z"
    }
   },
   "outputs": [],
   "source": [
    "df_addr = pd.read_parquet('./address/df_addr.parquet.gzip')\n",
    "df_text = pd.read_parquet('./dataframe/flasher_hk_20130101_20220307.gzip')"
   ]
  },
  {
   "cell_type": "markdown",
   "id": "341d3e48-7538-4903-99b9-0442df1a6dcd",
   "metadata": {},
   "source": [
    "### todo: extracting address with the class"
   ]
  },
  {
   "cell_type": "markdown",
   "id": "4452cde1-7147-4562-9c2e-40e40a48382d",
   "metadata": {
    "jp-MarkdownHeadingCollapsed": true
   },
   "source": [
    "#### filtering empty contents"
   ]
  },
  {
   "cell_type": "code",
   "execution_count": 13,
   "id": "5e4a703e-2cdb-4f9b-ab0d-fa81fd9c17da",
   "metadata": {
    "execution": {
     "iopub.execute_input": "2024-05-18T15:15:49.864314Z",
     "iopub.status.busy": "2024-05-18T15:15:49.862927Z",
     "iopub.status.idle": "2024-05-18T15:15:49.880429Z",
     "shell.execute_reply": "2024-05-18T15:15:49.879644Z",
     "shell.execute_reply.started": "2024-05-18T15:15:49.864245Z"
    }
   },
   "outputs": [],
   "source": [
    "df_filtered = df_text[df_text['content'].notna()]"
   ]
  },
  {
   "cell_type": "code",
   "execution_count": 14,
   "id": "13abe3a9-4c03-4c60-b3b1-71d4418404c2",
   "metadata": {
    "collapsed": true,
    "execution": {
     "iopub.execute_input": "2024-05-18T15:15:56.478710Z",
     "iopub.status.busy": "2024-05-18T15:15:56.478100Z",
     "iopub.status.idle": "2024-05-18T15:15:56.498778Z",
     "shell.execute_reply": "2024-05-18T15:15:56.498264Z",
     "shell.execute_reply.started": "2024-05-18T15:15:56.478670Z"
    },
    "jupyter": {
     "outputs_hidden": true
    },
    "scrolled": true
   },
   "outputs": [
    {
     "name": "stdout",
     "output_type": "stream",
     "text": [
      "<class 'pandas.core.frame.DataFrame'>\n",
      "Index: 148 entries, 0 to 271\n",
      "Data columns (total 18 columns):\n",
      " #   Column         Non-Null Count  Dtype  \n",
      "---  ------         --------------  -----  \n",
      " 0   범죄 유형          0 non-null      float64\n",
      " 1   지역             0 non-null      float64\n",
      " 2   위도             0 non-null      float64\n",
      " 3   경도             0 non-null      float64\n",
      " 4   중복 여부          0 non-null      float64\n",
      " 5   퀄리티            0 non-null      float64\n",
      " 6   제외 여부          0 non-null      float64\n",
      " 7   기사제목           148 non-null    object \n",
      " 8   사건 장소          125 non-null    object \n",
      " 9   수사 기관          148 non-null    object \n",
      " 10  본문             148 non-null    object \n",
      " 11  URL            148 non-null    object \n",
      " 12  일자             148 non-null    int64  \n",
      " 13  언론사            148 non-null    object \n",
      " 14  기고자            144 non-null    object \n",
      " 15  비고             0 non-null      float64\n",
      " 16  selenium_html  148 non-null    object \n",
      " 17  content        148 non-null    object \n",
      "dtypes: float64(8), int64(1), object(9)\n",
      "memory usage: 22.0+ KB\n"
     ]
    }
   ],
   "source": [
    "df_filtered.info()"
   ]
  },
  {
   "cell_type": "code",
   "execution_count": null,
   "id": "27bcec56-7183-4149-ae6c-0d17caeac6c1",
   "metadata": {
    "execution": {
     "iopub.execute_input": "2024-05-18T15:18:45.576374Z",
     "iopub.status.busy": "2024-05-18T15:18:45.573823Z",
     "iopub.status.idle": "2024-05-18T15:18:45.583914Z",
     "shell.execute_reply": "2024-05-18T15:18:45.583443Z",
     "shell.execute_reply.started": "2024-05-18T15:18:45.576245Z"
    }
   },
   "outputs": [],
   "source": [
    "columns = list(df_text.columns)"
   ]
  },
  {
   "cell_type": "code",
   "execution_count": 20,
   "id": "860062c3-7678-4dcd-bdef-26d7b0209927",
   "metadata": {
    "execution": {
     "iopub.execute_input": "2024-05-18T15:18:58.879148Z",
     "iopub.status.busy": "2024-05-18T15:18:58.878282Z",
     "iopub.status.idle": "2024-05-18T15:18:58.886719Z",
     "shell.execute_reply": "2024-05-18T15:18:58.885913Z",
     "shell.execute_reply.started": "2024-05-18T15:18:58.879100Z"
    }
   },
   "outputs": [
    {
     "data": {
      "text/plain": [
       "'지역'"
      ]
     },
     "execution_count": 20,
     "metadata": {},
     "output_type": "execute_result"
    }
   ],
   "source": [
    "columns[1]"
   ]
  },
  {
   "cell_type": "code",
   "execution_count": 15,
   "id": "08c39b57-7a0e-4f33-bb48-24aa9872ab17",
   "metadata": {
    "execution": {
     "iopub.execute_input": "2024-05-18T15:16:23.415800Z",
     "iopub.status.busy": "2024-05-18T15:16:23.414004Z",
     "iopub.status.idle": "2024-05-18T15:16:23.423350Z",
     "shell.execute_reply": "2024-05-18T15:16:23.422486Z",
     "shell.execute_reply.started": "2024-05-18T15:16:23.415735Z"
    }
   },
   "outputs": [],
   "source": [
    "index_filtered = df_filtered.index"
   ]
  },
  {
   "cell_type": "code",
   "execution_count": 23,
   "id": "ea988ccc-14e8-45fa-b69e-2fde01ac7cdf",
   "metadata": {
    "execution": {
     "iopub.execute_input": "2024-05-18T15:20:31.553308Z",
     "iopub.status.busy": "2024-05-18T15:20:31.552174Z",
     "iopub.status.idle": "2024-05-18T15:20:31.561413Z",
     "shell.execute_reply": "2024-05-18T15:20:31.560792Z",
     "shell.execute_reply.started": "2024-05-18T15:20:31.553264Z"
    }
   },
   "outputs": [],
   "source": [
    "df_text.loc[:, columns[1]] = ''"
   ]
  },
  {
   "cell_type": "markdown",
   "id": "24e9736d-48c7-42c0-a6db-5283d6c236d7",
   "metadata": {
    "jp-MarkdownHeadingCollapsed": true
   },
   "source": [
    "#### reload for debugging"
   ]
  },
  {
   "cell_type": "code",
   "execution_count": 31,
   "id": "54925b9b-bdbe-4b45-9cec-8b0980049afe",
   "metadata": {
    "collapsed": true,
    "execution": {
     "iopub.execute_input": "2024-05-19T02:21:18.948775Z",
     "iopub.status.busy": "2024-05-19T02:21:18.946866Z",
     "iopub.status.idle": "2024-05-19T02:21:19.005026Z",
     "shell.execute_reply": "2024-05-19T02:21:19.002906Z",
     "shell.execute_reply.started": "2024-05-19T02:21:18.948736Z"
    },
    "jupyter": {
     "outputs_hidden": true
    },
    "scrolled": true
   },
   "outputs": [
    {
     "ename": "ImportError",
     "evalue": "module CheckAddressLevels not in sys.modules",
     "output_type": "error",
     "traceback": [
      "\u001b[0;31m---------------------------------------------------------------------------\u001b[0m",
      "\u001b[0;31mImportError\u001b[0m                               Traceback (most recent call last)",
      "Cell \u001b[0;32mIn[31], line 1\u001b[0m\n\u001b[0;32m----> 1\u001b[0m \u001b[43mreload\u001b[49m\u001b[43m(\u001b[49m\u001b[43mCheckAddressLevels\u001b[49m\u001b[43m)\u001b[49m\n",
      "File \u001b[0;32m~/.pyenv/versions/3.11.0/lib/python3.11/importlib/__init__.py:148\u001b[0m, in \u001b[0;36mreload\u001b[0;34m(module)\u001b[0m\n\u001b[1;32m    146\u001b[0m \u001b[38;5;28;01mif\u001b[39;00m sys\u001b[38;5;241m.\u001b[39mmodules\u001b[38;5;241m.\u001b[39mget(name) \u001b[38;5;129;01mis\u001b[39;00m \u001b[38;5;129;01mnot\u001b[39;00m module:\n\u001b[1;32m    147\u001b[0m     msg \u001b[38;5;241m=\u001b[39m \u001b[38;5;124m\"\u001b[39m\u001b[38;5;124mmodule \u001b[39m\u001b[38;5;132;01m{}\u001b[39;00m\u001b[38;5;124m not in sys.modules\u001b[39m\u001b[38;5;124m\"\u001b[39m\n\u001b[0;32m--> 148\u001b[0m     \u001b[38;5;28;01mraise\u001b[39;00m \u001b[38;5;167;01mImportError\u001b[39;00m(msg\u001b[38;5;241m.\u001b[39mformat(name), name\u001b[38;5;241m=\u001b[39mname)\n\u001b[1;32m    149\u001b[0m \u001b[38;5;28;01mif\u001b[39;00m name \u001b[38;5;129;01min\u001b[39;00m _RELOADING:\n\u001b[1;32m    150\u001b[0m     \u001b[38;5;28;01mreturn\u001b[39;00m _RELOADING[name]\n",
      "\u001b[0;31mImportError\u001b[0m: module CheckAddressLevels not in sys.modules"
     ]
    }
   ],
   "source": [
    "reload(CheckAddressLevels)"
   ]
  },
  {
   "cell_type": "markdown",
   "id": "7f125ffc-621f-42c9-8658-a15195d1e475",
   "metadata": {
    "jp-MarkdownHeadingCollapsed": true
   },
   "source": [
    "#### autoreload"
   ]
  },
  {
   "cell_type": "code",
   "execution_count": 35,
   "id": "6092cf93-4a28-4a3c-8ad6-3fba2ced79e8",
   "metadata": {
    "execution": {
     "iopub.execute_input": "2024-05-19T02:29:58.801621Z",
     "iopub.status.busy": "2024-05-19T02:29:58.800439Z",
     "iopub.status.idle": "2024-05-19T02:29:58.815343Z",
     "shell.execute_reply": "2024-05-19T02:29:58.814574Z",
     "shell.execute_reply.started": "2024-05-19T02:29:58.801570Z"
    }
   },
   "outputs": [
    {
     "name": "stdout",
     "output_type": "stream",
     "text": [
      "The autoreload extension is already loaded. To reload it, use:\n",
      "  %reload_ext autoreload\n"
     ]
    }
   ],
   "source": [
    "%load_ext autoreload"
   ]
  },
  {
   "cell_type": "code",
   "execution_count": 34,
   "id": "5a2bd3e7-f939-436c-8675-76bcf267546f",
   "metadata": {
    "collapsed": true,
    "execution": {
     "iopub.execute_input": "2024-05-19T02:29:21.387399Z",
     "iopub.status.busy": "2024-05-19T02:29:21.385886Z",
     "iopub.status.idle": "2024-05-19T02:29:21.549858Z",
     "shell.execute_reply": "2024-05-19T02:29:21.517696Z",
     "shell.execute_reply.started": "2024-05-19T02:29:21.387326Z"
    },
    "jupyter": {
     "outputs_hidden": true
    },
    "scrolled": true
   },
   "outputs": [
    {
     "ename": "ModuleNotFoundError",
     "evalue": "No module named 'utils.search_address.CheckAddressLevels'; 'utils.search_address' is not a package",
     "output_type": "error",
     "traceback": [
      "\u001b[0;31m---------------------------------------------------------------------------\u001b[0m",
      "\u001b[0;31mModuleNotFoundError\u001b[0m                       Traceback (most recent call last)",
      "Cell \u001b[0;32mIn[34], line 1\u001b[0m\n\u001b[0;32m----> 1\u001b[0m \u001b[43mget_ipython\u001b[49m\u001b[43m(\u001b[49m\u001b[43m)\u001b[49m\u001b[38;5;241;43m.\u001b[39;49m\u001b[43mrun_line_magic\u001b[49m\u001b[43m(\u001b[49m\u001b[38;5;124;43m'\u001b[39;49m\u001b[38;5;124;43maimport\u001b[39;49m\u001b[38;5;124;43m'\u001b[39;49m\u001b[43m,\u001b[49m\u001b[43m \u001b[49m\u001b[38;5;124;43m'\u001b[39;49m\u001b[38;5;124;43mutils.search_address.CheckAddressLevels\u001b[39;49m\u001b[38;5;124;43m'\u001b[39;49m\u001b[43m)\u001b[49m\n",
      "File \u001b[0;32m~/.pyenv/versions/pml/lib/python3.11/site-packages/IPython/core/interactiveshell.py:2432\u001b[0m, in \u001b[0;36mInteractiveShell.run_line_magic\u001b[0;34m(self, magic_name, line, _stack_depth)\u001b[0m\n\u001b[1;32m   2430\u001b[0m     kwargs[\u001b[38;5;124m'\u001b[39m\u001b[38;5;124mlocal_ns\u001b[39m\u001b[38;5;124m'\u001b[39m] \u001b[38;5;241m=\u001b[39m \u001b[38;5;28mself\u001b[39m\u001b[38;5;241m.\u001b[39mget_local_scope(stack_depth)\n\u001b[1;32m   2431\u001b[0m \u001b[38;5;28;01mwith\u001b[39;00m \u001b[38;5;28mself\u001b[39m\u001b[38;5;241m.\u001b[39mbuiltin_trap:\n\u001b[0;32m-> 2432\u001b[0m     result \u001b[38;5;241m=\u001b[39m \u001b[43mfn\u001b[49m\u001b[43m(\u001b[49m\u001b[38;5;241;43m*\u001b[39;49m\u001b[43margs\u001b[49m\u001b[43m,\u001b[49m\u001b[43m \u001b[49m\u001b[38;5;241;43m*\u001b[39;49m\u001b[38;5;241;43m*\u001b[39;49m\u001b[43mkwargs\u001b[49m\u001b[43m)\u001b[49m\n\u001b[1;32m   2434\u001b[0m \u001b[38;5;66;03m# The code below prevents the output from being displayed\u001b[39;00m\n\u001b[1;32m   2435\u001b[0m \u001b[38;5;66;03m# when using magics with decorator @output_can_be_silenced\u001b[39;00m\n\u001b[1;32m   2436\u001b[0m \u001b[38;5;66;03m# when the last Python token in the expression is a ';'.\u001b[39;00m\n\u001b[1;32m   2437\u001b[0m \u001b[38;5;28;01mif\u001b[39;00m \u001b[38;5;28mgetattr\u001b[39m(fn, magic\u001b[38;5;241m.\u001b[39mMAGIC_OUTPUT_CAN_BE_SILENCED, \u001b[38;5;28;01mFalse\u001b[39;00m):\n",
      "File \u001b[0;32m~/.pyenv/versions/pml/lib/python3.11/site-packages/IPython/extensions/autoreload.py:699\u001b[0m, in \u001b[0;36mAutoreloadMagics.aimport\u001b[0;34m(self, parameter_s, stream)\u001b[0m\n\u001b[1;32m    697\u001b[0m     \u001b[38;5;28mself\u001b[39m\u001b[38;5;241m.\u001b[39m_reloader\u001b[38;5;241m.\u001b[39mmark_module_skipped(_module)\n\u001b[1;32m    698\u001b[0m \u001b[38;5;28;01melse\u001b[39;00m:\n\u001b[0;32m--> 699\u001b[0m     top_module, top_name \u001b[38;5;241m=\u001b[39m \u001b[38;5;28;43mself\u001b[39;49m\u001b[38;5;241;43m.\u001b[39;49m\u001b[43m_reloader\u001b[49m\u001b[38;5;241;43m.\u001b[39;49m\u001b[43maimport_module\u001b[49m\u001b[43m(\u001b[49m\u001b[43m_module\u001b[49m\u001b[43m)\u001b[49m\n\u001b[1;32m    701\u001b[0m     \u001b[38;5;66;03m# Inject module to user namespace\u001b[39;00m\n\u001b[1;32m    702\u001b[0m     \u001b[38;5;28mself\u001b[39m\u001b[38;5;241m.\u001b[39mshell\u001b[38;5;241m.\u001b[39mpush({top_name: top_module})\n",
      "File \u001b[0;32m~/.pyenv/versions/pml/lib/python3.11/site-packages/IPython/extensions/autoreload.py:205\u001b[0m, in \u001b[0;36mModuleReloader.aimport_module\u001b[0;34m(self, module_name)\u001b[0m\n\u001b[1;32m    193\u001b[0m \u001b[38;5;250m\u001b[39m\u001b[38;5;124;03m\"\"\"Import a module, and mark it reloadable\u001b[39;00m\n\u001b[1;32m    194\u001b[0m \n\u001b[1;32m    195\u001b[0m \u001b[38;5;124;03mReturns\u001b[39;00m\n\u001b[0;32m   (...)\u001b[0m\n\u001b[1;32m    201\u001b[0m \n\u001b[1;32m    202\u001b[0m \u001b[38;5;124;03m\"\"\"\u001b[39;00m\n\u001b[1;32m    203\u001b[0m \u001b[38;5;28mself\u001b[39m\u001b[38;5;241m.\u001b[39mmark_module_reloadable(module_name)\n\u001b[0;32m--> 205\u001b[0m \u001b[43mimport_module\u001b[49m\u001b[43m(\u001b[49m\u001b[43mmodule_name\u001b[49m\u001b[43m)\u001b[49m\n\u001b[1;32m    206\u001b[0m top_name \u001b[38;5;241m=\u001b[39m module_name\u001b[38;5;241m.\u001b[39msplit(\u001b[38;5;124m\"\u001b[39m\u001b[38;5;124m.\u001b[39m\u001b[38;5;124m\"\u001b[39m)[\u001b[38;5;241m0\u001b[39m]\n\u001b[1;32m    207\u001b[0m top_module \u001b[38;5;241m=\u001b[39m sys\u001b[38;5;241m.\u001b[39mmodules[top_name]\n",
      "File \u001b[0;32m~/.pyenv/versions/3.11.0/lib/python3.11/importlib/__init__.py:126\u001b[0m, in \u001b[0;36mimport_module\u001b[0;34m(name, package)\u001b[0m\n\u001b[1;32m    124\u001b[0m             \u001b[38;5;28;01mbreak\u001b[39;00m\n\u001b[1;32m    125\u001b[0m         level \u001b[38;5;241m+\u001b[39m\u001b[38;5;241m=\u001b[39m \u001b[38;5;241m1\u001b[39m\n\u001b[0;32m--> 126\u001b[0m \u001b[38;5;28;01mreturn\u001b[39;00m \u001b[43m_bootstrap\u001b[49m\u001b[38;5;241;43m.\u001b[39;49m\u001b[43m_gcd_import\u001b[49m\u001b[43m(\u001b[49m\u001b[43mname\u001b[49m\u001b[43m[\u001b[49m\u001b[43mlevel\u001b[49m\u001b[43m:\u001b[49m\u001b[43m]\u001b[49m\u001b[43m,\u001b[49m\u001b[43m \u001b[49m\u001b[43mpackage\u001b[49m\u001b[43m,\u001b[49m\u001b[43m \u001b[49m\u001b[43mlevel\u001b[49m\u001b[43m)\u001b[49m\n",
      "File \u001b[0;32m<frozen importlib._bootstrap>:1206\u001b[0m, in \u001b[0;36m_gcd_import\u001b[0;34m(name, package, level)\u001b[0m\n",
      "File \u001b[0;32m<frozen importlib._bootstrap>:1178\u001b[0m, in \u001b[0;36m_find_and_load\u001b[0;34m(name, import_)\u001b[0m\n",
      "File \u001b[0;32m<frozen importlib._bootstrap>:1137\u001b[0m, in \u001b[0;36m_find_and_load_unlocked\u001b[0;34m(name, import_)\u001b[0m\n",
      "\u001b[0;31mModuleNotFoundError\u001b[0m: No module named 'utils.search_address.CheckAddressLevels'; 'utils.search_address' is not a package"
     ]
    }
   ],
   "source": [
    "%aimport utils.search_address.CheckAddressLevels"
   ]
  },
  {
   "cell_type": "code",
   "execution_count": 36,
   "id": "40f3b01e-5212-44f6-89ac-31263c2700a0",
   "metadata": {
    "execution": {
     "iopub.execute_input": "2024-05-19T02:30:25.258991Z",
     "iopub.status.busy": "2024-05-19T02:30:25.257375Z",
     "iopub.status.idle": "2024-05-19T02:30:25.288413Z",
     "shell.execute_reply": "2024-05-19T02:30:25.287711Z",
     "shell.execute_reply.started": "2024-05-19T02:30:25.258940Z"
    }
   },
   "outputs": [],
   "source": [
    "from utils.search_address import CheckAddressLevels"
   ]
  },
  {
   "cell_type": "code",
   "execution_count": 38,
   "id": "7fa28dee-e7a3-4dae-8faa-8a3f09d0bee8",
   "metadata": {
    "execution": {
     "iopub.execute_input": "2024-05-19T02:32:53.153441Z",
     "iopub.status.busy": "2024-05-19T02:32:53.151344Z",
     "iopub.status.idle": "2024-05-19T02:32:53.176573Z",
     "shell.execute_reply": "2024-05-19T02:32:53.174822Z",
     "shell.execute_reply.started": "2024-05-19T02:32:53.153395Z"
    }
   },
   "outputs": [],
   "source": [
    "%autoreload 2"
   ]
  },
  {
   "cell_type": "code",
   "execution_count": 47,
   "id": "286de3a7-32ff-4c3d-b87a-b0c92ef09fa8",
   "metadata": {
    "execution": {
     "iopub.execute_input": "2024-05-19T02:46:28.040661Z",
     "iopub.status.busy": "2024-05-19T02:46:28.039682Z",
     "iopub.status.idle": "2024-05-19T02:54:59.547289Z",
     "shell.execute_reply": "2024-05-19T02:54:59.546149Z",
     "shell.execute_reply.started": "2024-05-19T02:46:28.040626Z"
    }
   },
   "outputs": [
    {
     "data": {
      "application/vnd.jupyter.widget-view+json": {
       "model_id": "f7bf7e92f00e47089d06a219e31435c6",
       "version_major": 2,
       "version_minor": 0
      },
      "text/plain": [
       "  0%|          | 0/141 [00:00<?, ?it/s]"
      ]
     },
     "metadata": {},
     "output_type": "display_data"
    }
   ],
   "source": [
    "for index in tqdm(index_filtered[7:]):\n",
    "    text = df_filtered.loc[index, 'content']\n",
    "    cal = CheckAddressLevels(df_address=df_addr, text=text)\n",
    "    addr = cal.process()\n",
    "    df_text.loc[index, columns[1]] = str(addr)"
   ]
  },
  {
   "cell_type": "markdown",
   "id": "e7ed9dc7-f2a8-4179-82bd-cda4424b9146",
   "metadata": {},
   "source": [
    "150개에 8분.  \n",
    "100개에 2분40초. --> 대략 3분.  \n",
    "\n",
    "개당 3~5초.  \n",
    "10개 40초.  \n",
    "100개 400초. -->   6분40초. 7분.  "
   ]
  },
  {
   "cell_type": "markdown",
   "id": "7d1d1c9b-1005-48a0-8385-51091989bee6",
   "metadata": {
    "jp-MarkdownHeadingCollapsed": true
   },
   "source": [
    "#### issue: empty data"
   ]
  },
  {
   "cell_type": "code",
   "execution_count": 44,
   "id": "2c1f403c-1a56-454f-b355-f84dd82e04b6",
   "metadata": {
    "collapsed": true,
    "execution": {
     "iopub.execute_input": "2024-05-19T02:39:18.821337Z",
     "iopub.status.busy": "2024-05-19T02:39:18.820628Z",
     "iopub.status.idle": "2024-05-19T02:39:18.848573Z",
     "shell.execute_reply": "2024-05-19T02:39:18.848042Z",
     "shell.execute_reply.started": "2024-05-19T02:39:18.821317Z"
    },
    "jupyter": {
     "outputs_hidden": true
    }
   },
   "outputs": [
    {
     "data": {
      "text/plain": [
       "'\\n\\n\\n\\n\\n/사진=유튜브 승무원 룩북 영상 캡처\\n\\'승무원 룩북\\' 영상으로 논란이 불거진 유튜버가 자신이 입던 속옷을 나눠준다는 이벤트를 벌였다는 주장이 나왔다. 최근 온라인 커뮤니티에 \\'승무원 룩북\\' 동영상을 자신의 유튜브 채널에 게재했던 유튜버 A 씨가 미국의 아프리카 TV로 불리는 페트리온 유료 회원들을 대상으로 \\'속옷 나눔 이벤트\\'를 진행했다고 주장하는 글이 게재됐다. 작성자는 A 씨의 속옷 사진을 올리면서 \"이벤트 형식으로 구독자에게 입던 속옷과 스타킹을 나눔하려 했고, 이후에는 판매하려고 했다\"고 전했다. A 씨는 유튜브 채널에서 속옷 차림으로 등장해 옷을 갈아 입는 동영상을 게재해 왔다. 하지만 해당 콘텐츠 상세보기 페이지를 통해 페트리온 접속 주소를 홍보했고, 해당 페이지를 통해 10달러(약 1만2000원)에서 600달러(약 72만 원)까지 후원 금액에 따라 노출 영상을 차등 공개해 왔다. 특히 가장 많은 후원금을 내는 VVIP 회원에게는 수위가 적나라한 노출 동영상을 공개한 것으로 알려졌다.        승무원 룩북 영상을 게재한 후 특정 직업군 성상품화 논란에 휩싸였던 A 씨는 \"채널에 게시한 영상 중 일부가 무단으로 캡처되어 특정 커뮤니티의 게시판에 악의적인 제목 및 내용으로 게시된 사실을 인지하였고, 해당 게시글에 달린 수천여 개의 댓글 중 욕설을 포함한 모욕적인 표현 등이 담긴 악성 댓글을 작성한 100여 명을 명예훼손죄, 모욕죄 등의 혐의로 고소하는 절차를 진행하고 있다\"고 밝혔다. 하지만 이후 유튜버 구제역은 21일 자신의 유튜브 채널을 통해 A 씨가 패트리온 영상을 홍보하고 있다고 주장하면서 \"A 씨가 현재 하는 행동은 성 상품화가 맞다. 남녀노소가 보는 유튜브에서까지 자신의 성적인 영상을 홍보하는 건 잘못됐다\"면서 성매매특별법과 정보통신망법 위반 혐의로 고발했다고 밝혔다. 정보통신망법 44조7항에 따르면 정보통신망을 통해 음란한 부호, 문언, 음향, 화상 또는 영상을 배포, 판매, 임대하거나 전시하면 1년 이하 징역 또는 1000만 원 이하 벌금형에 처하도록 한다.       A 씨가 승무원 룩북에서 착용한 의상이 대한항공 유니폼과 유사하다는 점에서 대한항공 노동조합도 고발에 나섰다. 노조는 A 씨를 성폭력범죄의 처벌 등에 관한 특례법 위반·정보통신망법상 모욕·명예훼손 혐의로 고소했다고 밝히면서 \"승무원 제복을 입고 음란행위를 하는 A 씨의 모습에 성상품화의 대상이 된 승무원들이 좌절감을 느끼고 있다\"고 밝혔다. 대한항공 역시 고발장을 경찰에 제출하고, 추후 A 씨를 상대로 민사상 손해배상 청구와 영상에 대한 가처분 신청도 할 계획이다.김소연 한경닷컴 기자 sue123@hankyung.com\\n                                    '"
      ]
     },
     "execution_count": 44,
     "metadata": {},
     "output_type": "execute_result"
    }
   ],
   "source": [
    "text"
   ]
  },
  {
   "cell_type": "code",
   "execution_count": 43,
   "id": "f0f2711f-7879-4302-bd2e-e126a23915c4",
   "metadata": {
    "execution": {
     "iopub.execute_input": "2024-05-19T02:38:57.643293Z",
     "iopub.status.busy": "2024-05-19T02:38:57.642866Z",
     "iopub.status.idle": "2024-05-19T02:38:57.698277Z",
     "shell.execute_reply": "2024-05-19T02:38:57.698004Z",
     "shell.execute_reply.started": "2024-05-19T02:38:57.643264Z"
    }
   },
   "outputs": [
    {
     "data": {
      "text/html": [
       "<div>\n",
       "<style scoped>\n",
       "    .dataframe tbody tr th:only-of-type {\n",
       "        vertical-align: middle;\n",
       "    }\n",
       "\n",
       "    .dataframe tbody tr th {\n",
       "        vertical-align: top;\n",
       "    }\n",
       "\n",
       "    .dataframe thead th {\n",
       "        text-align: right;\n",
       "    }\n",
       "</style>\n",
       "<table border=\"1\" class=\"dataframe\">\n",
       "  <thead>\n",
       "    <tr style=\"text-align: right;\">\n",
       "      <th></th>\n",
       "      <th>lv0</th>\n",
       "      <th>lv1</th>\n",
       "      <th>lv2</th>\n",
       "      <th>lv3</th>\n",
       "      <th>lv4</th>\n",
       "      <th>lv5</th>\n",
       "    </tr>\n",
       "  </thead>\n",
       "  <tbody>\n",
       "    <tr>\n",
       "      <th>11913</th>\n",
       "      <td>전남</td>\n",
       "      <td>전라남도</td>\n",
       "      <td>순천시</td>\n",
       "      <td>행동</td>\n",
       "      <td>None</td>\n",
       "      <td>NaN</td>\n",
       "    </tr>\n",
       "  </tbody>\n",
       "</table>\n",
       "</div>"
      ],
      "text/plain": [
       "      lv0   lv1  lv2 lv3   lv4  lv5\n",
       "11913  전남  전라남도  순천시  행동  None  NaN"
      ]
     },
     "execution_count": 43,
     "metadata": {},
     "output_type": "execute_result"
    }
   ],
   "source": [
    "cal.df_filtered"
   ]
  },
  {
   "cell_type": "markdown",
   "id": "d479a83a-43fb-4a63-8dd3-c52d2f946fe8",
   "metadata": {},
   "source": [
    "주소명이 없을 때는 프로세스를 멈추고, None 리턴"
   ]
  },
  {
   "cell_type": "markdown",
   "id": "4ee93ee3-16bd-44df-89cf-e76744c57334",
   "metadata": {
    "jp-MarkdownHeadingCollapsed": true
   },
   "source": [
    "#### inspection: result"
   ]
  },
  {
   "cell_type": "code",
   "execution_count": 61,
   "id": "b07c50cf-23a9-4d4b-9d83-f3cabd808a7b",
   "metadata": {
    "execution": {
     "iopub.execute_input": "2024-05-19T03:03:20.233287Z",
     "iopub.status.busy": "2024-05-19T03:03:20.231585Z",
     "iopub.status.idle": "2024-05-19T03:03:20.375079Z",
     "shell.execute_reply": "2024-05-19T03:03:20.374191Z",
     "shell.execute_reply.started": "2024-05-19T03:03:20.233243Z"
    }
   },
   "outputs": [],
   "source": [
    "df_res = df_text[df_text[columns[1]].notna() & (df_text[columns[1]] != None) & (df_text[columns[1]] != \"\") & (df_res[columns[1]] != 'None')]"
   ]
  },
  {
   "cell_type": "code",
   "execution_count": 62,
   "id": "699e77d2-b13f-4d5b-89ac-b8bbd2cfda38",
   "metadata": {
    "collapsed": true,
    "execution": {
     "iopub.execute_input": "2024-05-19T03:03:21.386949Z",
     "iopub.status.busy": "2024-05-19T03:03:21.385412Z",
     "iopub.status.idle": "2024-05-19T03:03:21.451986Z",
     "shell.execute_reply": "2024-05-19T03:03:21.451680Z",
     "shell.execute_reply.started": "2024-05-19T03:03:21.386896Z"
    },
    "jupyter": {
     "outputs_hidden": true
    },
    "scrolled": true
   },
   "outputs": [
    {
     "name": "stdout",
     "output_type": "stream",
     "text": [
      "<class 'pandas.core.frame.DataFrame'>\n",
      "Index: 92 entries, 0 to 271\n",
      "Data columns (total 18 columns):\n",
      " #   Column         Non-Null Count  Dtype  \n",
      "---  ------         --------------  -----  \n",
      " 0   범죄 유형          0 non-null      float64\n",
      " 1   지역             92 non-null     object \n",
      " 2   위도             0 non-null      float64\n",
      " 3   경도             0 non-null      float64\n",
      " 4   중복 여부          0 non-null      float64\n",
      " 5   퀄리티            0 non-null      float64\n",
      " 6   제외 여부          0 non-null      float64\n",
      " 7   기사제목           92 non-null     object \n",
      " 8   사건 장소          82 non-null     object \n",
      " 9   수사 기관          92 non-null     object \n",
      " 10  본문             92 non-null     object \n",
      " 11  URL            92 non-null     object \n",
      " 12  일자             92 non-null     int64  \n",
      " 13  언론사            92 non-null     object \n",
      " 14  기고자            88 non-null     object \n",
      " 15  비고             0 non-null      float64\n",
      " 16  selenium_html  92 non-null     object \n",
      " 17  content        92 non-null     object \n",
      "dtypes: float64(7), int64(1), object(10)\n",
      "memory usage: 13.7+ KB\n"
     ]
    }
   ],
   "source": [
    "df_res.info()"
   ]
  },
  {
   "cell_type": "code",
   "execution_count": 67,
   "id": "0346f51f-9c3b-4b8c-978b-401b00f7ae02",
   "metadata": {
    "execution": {
     "iopub.execute_input": "2024-05-19T03:05:39.039510Z",
     "iopub.status.busy": "2024-05-19T03:05:39.038299Z",
     "iopub.status.idle": "2024-05-19T03:05:39.082771Z",
     "shell.execute_reply": "2024-05-19T03:05:39.082380Z",
     "shell.execute_reply.started": "2024-05-19T03:05:39.039462Z"
    },
    "scrolled": true
   },
   "outputs": [
    {
     "name": "stdout",
     "output_type": "stream",
     "text": [
      "0 서울\n",
      "1 서울특별시\n",
      "2 대전\n",
      "4 관리\n",
      "5 경기\n",
      "7 대구\n",
      "8 서울\n",
      "9 제주\n",
      "10 강원\n",
      "11 부평구\n",
      "12 서울\n",
      "13 서울\n",
      "14 제주\n",
      "16 부평구\n",
      "17 경북\n",
      "18 서울\n",
      "22 부산\n",
      "23 경기\n",
      "24 대덕구\n",
      "25 부평구\n",
      "26 충남\n",
      "27 서울\n",
      "28 부평구\n",
      "29 부평구\n",
      "30 서울\n",
      "31 옥련동\n",
      "32 부평구\n",
      "33 관악구\n",
      "34 제주시\n",
      "35 광산구\n",
      "36 광주\n",
      "37 서울\n",
      "40 서울\n",
      "44 경북\n",
      "45 중계동\n",
      "46 노원구\n",
      "52 하남시\n",
      "53 경기\n",
      "54 서울\n",
      "56 김제시\n",
      "57 용산구\n",
      "58 서울\n",
      "60 경기\n",
      "61 서울\n",
      "64 인천\n",
      "68 부산\n",
      "69 서울\n",
      "70 인천\n",
      "71 서울\n",
      "74 대전\n",
      "75 인천\n",
      "77 서울\n",
      "78 서울\n",
      "80 인천\n",
      "81 인천\n",
      "84 서울\n",
      "86 화성시\n",
      "87 화성시\n",
      "88 수원시 장안구\n",
      "89 경북\n",
      "90 안성시\n",
      "91 안성시\n",
      "93 부산\n",
      "94 서울\n",
      "96 서울\n",
      "97 서울\n",
      "99 대전\n",
      "100 삼산동\n",
      "102 서울\n",
      "103 남구\n",
      "106 화성시\n",
      "109 처리\n",
      "110 경기\n",
      "111 경기\n",
      "112 복대동\n",
      "113 경기\n",
      "114 경기\n",
      "119 연남동\n",
      "133 서산시\n",
      "134 전남\n",
      "135 광진구\n",
      "261 부평구\n",
      "262 부평구\n",
      "263 부평구\n",
      "264 부평구\n",
      "265 인천\n",
      "266 부평동\n",
      "267 부평구\n",
      "268 부평구\n",
      "269 부평구\n",
      "270 부평구\n",
      "271 부평구\n"
     ]
    }
   ],
   "source": [
    "for index in df_res.index:\n",
    "    print(index, df_res.loc[index, columns[1]])"
   ]
  },
  {
   "cell_type": "markdown",
   "id": "91301884-0cc8-4e9c-ba03-4aff134a5d12",
   "metadata": {
    "jp-MarkdownHeadingCollapsed": true
   },
   "source": [
    "#### issue: not full content in Series "
   ]
  },
  {
   "cell_type": "code",
   "execution_count": 109,
   "id": "4983b4aa-160a-4637-8fa5-3754cdc2087c",
   "metadata": {
    "collapsed": true,
    "execution": {
     "iopub.execute_input": "2024-05-19T03:31:46.006048Z",
     "iopub.status.busy": "2024-05-19T03:31:46.005266Z",
     "iopub.status.idle": "2024-05-19T03:31:46.052313Z",
     "shell.execute_reply": "2024-05-19T03:31:46.051968Z",
     "shell.execute_reply.started": "2024-05-19T03:31:46.006017Z"
    },
    "jupyter": {
     "outputs_hidden": true
    },
    "scrolled": true
   },
   "outputs": [
    {
     "data": {
      "text/plain": [
       "'\\n\\n\\n\\n\\n가출 여고생에게 숙식을 제공하며 성매매를 강요한 일당이 실형을 선고받았다. 이들 중 한 명은 공범 몰래 여고생을 성폭행하기도 했다. 사진은 기사와 무관함. /사진=게티이미지뱅크 \\n가출 여고생에게 숙식을 제공하며 성매매를 강요한 일당이 실형을 선고받았다. 이들 중 한 명은 공범 몰래 여고생을 성폭행하기도 했다. 대구지방법원 포항지원 제1형사부(권순향 재판장)는 아동청소년의성보호에관한법률위반(강요행위) 등의 혐의로 기소된 A씨(22), B씨(25), C씨(22·여)에게 각각 징역 6년, 징역 5년, 징역 4년을 선고했다고 19일 밝혔다.         재판부는 이들에게 80시간의 성폭력 치료프로그램 이수와 7년간 아동·청소년·장애인 취업 제한도 함께 명령했다. A씨 등은 2019년 11월부터 2020년 9월까지 고향 후배인 D양(17)에게 숙식을 제공하면서 성매매를 강요한 혐의를 받고 있다. 이들은 월 평균 25회, 하루 3~4회에 걸쳐 휴대폰 애플리케이션 등으로 성매수남을 모집해 D양에게 성매매를 강제했다. 또 D양이 성매매 대가로 받아돈 금액 중 70%를 갈취했다.        연인 관계인 A씨와 C씨는 2020년 8월 D양이 경기 인천으로 도망치자 \"전화를 받지 않으면 아버지에게 이야기하겠다\"고 협박했고, 협박에 돌아온 D양을 포항시 북구 한 모텔에 한 달 동안 감금한 혐의도 받고 있다. 이들은 당시 D양이 도망치지 못하도록 휴대폰에 위치추적 앱까지 설치해 관리했고, A씨는 연인인 C씨 몰래 D양을 4회에 걸쳐 성폭행한 혐의도 받는다.  C씨의 친오빠인 B씨는 2020년 3월 범행에 가담한 뒤 성매매를 거부하는 D양을 주먹과 발로 폭행하고, D양 핸드폰을 파손했다.        재판부는 \"피해 청소년으로 하여금 성매매를 하게 하고, 그 수입을 지급받는 등 피해자를 경제적 이익 추구의 수단으로 삼았다는 점에서 그 죄책이 매우 무겁다\"면서 \"A씨는 위력으로 D양을 간음하는 범행까지 저질렀다\"고 지적했다. 다만, \"피고인들이 범행을 모두 인정하고, 반성하는 모습을 보이고 있다. A씨는 D양과 합의했고, D양도 피고인의 처벌을 원하지 않고 있는 점 등을 종합했다\"고 양형 이유를 설명했다. 이보배 한경닷컴 객원기자 newsinfo@hankyung.com\\n                                    '"
      ]
     },
     "execution_count": 109,
     "metadata": {},
     "output_type": "execute_result"
    }
   ],
   "source": [
    "df_res.iloc[3]['content']"
   ]
  },
  {
   "cell_type": "code",
   "execution_count": 111,
   "id": "165d96c3-dbf6-42c7-a7f2-7af55343ae21",
   "metadata": {
    "execution": {
     "iopub.execute_input": "2024-05-19T03:32:42.676972Z",
     "iopub.status.busy": "2024-05-19T03:32:42.675644Z",
     "iopub.status.idle": "2024-05-19T03:32:42.719112Z",
     "shell.execute_reply": "2024-05-19T03:32:42.718826Z",
     "shell.execute_reply.started": "2024-05-19T03:32:42.676924Z"
    }
   },
   "outputs": [
    {
     "data": {
      "text/plain": [
       "4    \\n\\n\\n\\n\\n가출 여고생에게 숙식을 제공하며 성매매를 강요한 일당이 실형을 선...\n",
       "Name: content, dtype: object"
      ]
     },
     "execution_count": 111,
     "metadata": {},
     "output_type": "execute_result"
    }
   ],
   "source": [
    "df_res[df_res.index == 4]['content']"
   ]
  },
  {
   "cell_type": "markdown",
   "id": "1a861e93-701a-4fde-90b0-06f5ed883cc6",
   "metadata": {},
   "source": [
    "이거 신기하네...  "
   ]
  },
  {
   "cell_type": "code",
   "execution_count": 112,
   "id": "d5236a8e-fce3-4c97-a60d-c5897bfee6a0",
   "metadata": {
    "collapsed": true,
    "execution": {
     "iopub.execute_input": "2024-05-19T03:33:49.569447Z",
     "iopub.status.busy": "2024-05-19T03:33:49.567095Z",
     "iopub.status.idle": "2024-05-19T03:33:49.657138Z",
     "shell.execute_reply": "2024-05-19T03:33:49.656250Z",
     "shell.execute_reply.started": "2024-05-19T03:33:49.569401Z"
    },
    "jupyter": {
     "outputs_hidden": true
    }
   },
   "outputs": [
    {
     "data": {
      "text/plain": [
       "'\\n\\n\\n\\n\\n가출 여고생에게 숙식을 제공하며 성매매를 강요한 일당이 실형을 선고받았다. 이들 중 한 명은 공범 몰래 여고생을 성폭행하기도 했다. 사진은 기사와 무관함. /사진=게티이미지뱅크 \\n가출 여고생에게 숙식을 제공하며 성매매를 강요한 일당이 실형을 선고받았다. 이들 중 한 명은 공범 몰래 여고생을 성폭행하기도 했다. 대구지방법원 포항지원 제1형사부(권순향 재판장)는 아동청소년의성보호에관한법률위반(강요행위) 등의 혐의로 기소된 A씨(22), B씨(25), C씨(22·여)에게 각각 징역 6년, 징역 5년, 징역 4년을 선고했다고 19일 밝혔다.         재판부는 이들에게 80시간의 성폭력 치료프로그램 이수와 7년간 아동·청소년·장애인 취업 제한도 함께 명령했다. A씨 등은 2019년 11월부터 2020년 9월까지 고향 후배인 D양(17)에게 숙식을 제공하면서 성매매를 강요한 혐의를 받고 있다. 이들은 월 평균 25회, 하루 3~4회에 걸쳐 휴대폰 애플리케이션 등으로 성매수남을 모집해 D양에게 성매매를 강제했다. 또 D양이 성매매 대가로 받아돈 금액 중 70%를 갈취했다.        연인 관계인 A씨와 C씨는 2020년 8월 D양이 경기 인천으로 도망치자 \"전화를 받지 않으면 아버지에게 이야기하겠다\"고 협박했고, 협박에 돌아온 D양을 포항시 북구 한 모텔에 한 달 동안 감금한 혐의도 받고 있다. 이들은 당시 D양이 도망치지 못하도록 휴대폰에 위치추적 앱까지 설치해 관리했고, A씨는 연인인 C씨 몰래 D양을 4회에 걸쳐 성폭행한 혐의도 받는다.  C씨의 친오빠인 B씨는 2020년 3월 범행에 가담한 뒤 성매매를 거부하는 D양을 주먹과 발로 폭행하고, D양 핸드폰을 파손했다.        재판부는 \"피해 청소년으로 하여금 성매매를 하게 하고, 그 수입을 지급받는 등 피해자를 경제적 이익 추구의 수단으로 삼았다는 점에서 그 죄책이 매우 무겁다\"면서 \"A씨는 위력으로 D양을 간음하는 범행까지 저질렀다\"고 지적했다. 다만, \"피고인들이 범행을 모두 인정하고, 반성하는 모습을 보이고 있다. A씨는 D양과 합의했고, D양도 피고인의 처벌을 원하지 않고 있는 점 등을 종합했다\"고 양형 이유를 설명했다. 이보배 한경닷컴 객원기자 newsinfo@hankyung.com\\n                                    '"
      ]
     },
     "execution_count": 112,
     "metadata": {},
     "output_type": "execute_result"
    }
   ],
   "source": [
    "df_res[df_res.index == 4].iloc[0]['content']"
   ]
  },
  {
   "cell_type": "markdown",
   "id": "0249724f-c8b1-44a5-aa2b-6334d4775b6e",
   "metadata": {},
   "source": [
    "이러니까 다 나오네...  "
   ]
  },
  {
   "cell_type": "markdown",
   "id": "2253aa55-65ce-4b5d-8b4d-de944ebd62ac",
   "metadata": {
    "jp-MarkdownHeadingCollapsed": true
   },
   "source": [
    "#### inspection: continue"
   ]
  },
  {
   "cell_type": "code",
   "execution_count": 138,
   "id": "b6d093ef-1ae4-4d85-b748-1c6a50b8c278",
   "metadata": {
    "execution": {
     "iopub.execute_input": "2024-05-19T03:51:14.308589Z",
     "iopub.status.busy": "2024-05-19T03:51:14.307155Z",
     "iopub.status.idle": "2024-05-19T03:51:14.353247Z",
     "shell.execute_reply": "2024-05-19T03:51:14.352906Z",
     "shell.execute_reply.started": "2024-05-19T03:51:14.308550Z"
    }
   },
   "outputs": [],
   "source": [
    "import re\n",
    "\n",
    "def mark_keyword(text, keyword):\n",
    "    # Define the pattern to search for the keyword, with word boundaries to match whole words only\n",
    "    pattern = r'\\b{}'.format(re.escape(keyword))\n",
    "\n",
    "    # Use re.sub to replace the keyword with the keyword surrounded by parentheses\n",
    "    marked_text = re.sub(pattern, r'🔺\\g<0>🔻', text, flags=re.IGNORECASE)\n",
    "\n",
    "    return marked_text"
   ]
  },
  {
   "cell_type": "code",
   "execution_count": 116,
   "id": "6bbf7545-7cdc-449d-aae5-f5e284322b44",
   "metadata": {
    "collapsed": true,
    "execution": {
     "iopub.execute_input": "2024-05-19T03:35:08.435367Z",
     "iopub.status.busy": "2024-05-19T03:35:08.434080Z",
     "iopub.status.idle": "2024-05-19T03:35:08.481262Z",
     "shell.execute_reply": "2024-05-19T03:35:08.480960Z",
     "shell.execute_reply.started": "2024-05-19T03:35:08.435327Z"
    },
    "jupyter": {
     "outputs_hidden": true,
     "source_hidden": true
    }
   },
   "outputs": [
    {
     "data": {
      "text/plain": [
       "<re.Match object; span=(217, 220), match='옥련동'>"
      ]
     },
     "execution_count": 116,
     "metadata": {},
     "output_type": "execute_result"
    }
   ],
   "source": [
    "search = re.search(\n",
    "    r'\\b{}'.format(keyword),\n",
    "    text,\n",
    "    re.IGNORECASE)\n",
    "search"
   ]
  },
  {
   "cell_type": "code",
   "execution_count": 118,
   "id": "4885cb3e-60a9-479a-8618-6837c6b1a9e0",
   "metadata": {
    "collapsed": true,
    "execution": {
     "iopub.execute_input": "2024-05-19T03:36:11.611328Z",
     "iopub.status.busy": "2024-05-19T03:36:11.609821Z",
     "iopub.status.idle": "2024-05-19T03:36:11.657137Z",
     "shell.execute_reply": "2024-05-19T03:36:11.656842Z",
     "shell.execute_reply.started": "2024-05-19T03:36:11.611280Z"
    },
    "jupyter": {
     "outputs_hidden": true,
     "source_hidden": true
    }
   },
   "outputs": [
    {
     "data": {
      "text/plain": [
       "(217, 220)"
      ]
     },
     "execution_count": 118,
     "metadata": {},
     "output_type": "execute_result"
    }
   ],
   "source": [
    "search.span()"
   ]
  },
  {
   "cell_type": "code",
   "execution_count": 143,
   "id": "446b2e7a-bd9f-46ff-acbc-b5f83f1fd640",
   "metadata": {
    "execution": {
     "iopub.execute_input": "2024-05-19T03:53:06.426304Z",
     "iopub.status.busy": "2024-05-19T03:53:06.425232Z",
     "iopub.status.idle": "2024-05-19T03:53:06.469795Z",
     "shell.execute_reply": "2024-05-19T03:53:06.469422Z",
     "shell.execute_reply.started": "2024-05-19T03:53:06.426241Z"
    }
   },
   "outputs": [
    {
     "name": "stdout",
     "output_type": "stream",
     "text": [
      "복대동\n"
     ]
    }
   ],
   "source": [
    "idx = 112\n",
    "row = df_res[df_res.index == idx]\n",
    "\n",
    "# text = df_res[df_res.index == idx]['content'].to_string(index=False)\n",
    "text = row.iloc[0]['content']\n",
    "# print(text)\n",
    "\n",
    "keyword = row.iloc[0][columns[1]]\n",
    "print(keyword)"
   ]
  },
  {
   "cell_type": "code",
   "execution_count": 144,
   "id": "2289024b-6a08-4b38-aa63-ab4fecd430b4",
   "metadata": {
    "execution": {
     "iopub.execute_input": "2024-05-19T03:53:23.161156Z",
     "iopub.status.busy": "2024-05-19T03:53:23.160081Z",
     "iopub.status.idle": "2024-05-19T03:53:23.218086Z",
     "shell.execute_reply": "2024-05-19T03:53:23.217639Z",
     "shell.execute_reply.started": "2024-05-19T03:53:23.161132Z"
    },
    "scrolled": true
   },
   "outputs": [
    {
     "name": "stdout",
     "output_type": "stream",
     "text": [
      "\n",
      "\n",
      "\n",
      "\n",
      "\n",
      "화성연쇄살인 용의자 이춘재/사진=연합뉴스\n",
      "화성연쇄살인사건의 유력한 용의자 이춘재(56)가 청주시와 수원시에서도 살인사건을 저질렀다고 자백했다.6일 경찰 등에 따르면 이춘재는 14건의 살인사건에 대한 자백을 내놨다. 화성사건은 8차 사건을 포함하면 모두 10건이다. 나머지 4건의 살인사건은 충북 청주와 수원에서 벌인 것으로 추정된다. 다만 이춘재의 자백에 대한 경찰의 신빙성 검증작업 병행이 필요할 전망이다.       우선 이춘재가 자백한 청주 살인사건은 2건이다. 그는 1991년 1월 27일 청주시 가경동 택지조성공사 현장 콘크리트관 속에서 속옷으로 입이 틀어막히고 양손을 뒤로 묶인 상태로 숨진 채 발견된 박모(17) 양 사건을 자신이 범행했다고 시인했다.당시 경찰은 박 양이 괴한에게 성폭행·살해당한 것으로 보고 3개월의 수사 끝에 박모(19) 군을 유력 용의자로 체포했지만, 증거 부족 등을 이유로 법원에서 무죄판결을 받으면서 이 사건은 미제로 남았다.1992년 6월 24일 🔺복대동🔻에서 발생한 가정주부 이모(28) 씨 피살사건도 이춘재의 범행으로 추정된다. 경찰은 당시 20대 초반으로 추정되는 남성이 사건 현장에서 나갔다는 목격자의 진술을 확보해 피해자와 남편 등 주변인을 중심으로 수사를 폈지만 끝내 사건을 해결하지 못했다.       1988∼1989년 연이어 터진 수원 여고생 살인사건도 이춘재의 소행으로 여겨진다. 수원 여고생 살인사건은 1987년 12월 24일 여고생이 어머니와 다투고 외출한 뒤 실종됐다가 열흘가량 뒤인 1988년 1월 4일 수원에서 숨진 채 발견된 사건이다. 6차와 7차 화성사건 사이에 벌어졌고 속옷으로 재갈이 물린 채 손이 결박된 상태로 발견돼 화성 사건과 유사성이 높다.\n",
      "\n",
      "\n",
      "\n",
      "\n",
      "화성연쇄살인 용의자 이춘재/사진=연합뉴스\n",
      "이듬해인 1989년 7월 3일 또 다른 여고생이 수원시 권선구 오목천동 야산 밑 농수로에서 흉기에 찔려 숨진 채 발견된 사건도 이 씨가 자백한 범행 중 1건으로 꼽힌다. 발생지역이 화성이 아니고 피해자의 손발이 묶이지 않은 점 때문에 화성사건에 포함되지 않았으나, 시기적·지리적으로 이춘재와 연관성이 높다.경찰은 수사를 통해 이춘재의 자백 신빙성을 검증하는 중이라는 이유로 그가 자백한 사건들이 무엇인지 정확히 밝히지는 않고 있다.한편 이춘재는 최근 이들 살인사건과 함께 성폭행과 성폭행 미수 등 30여건의 성범죄를 저질렀다고 자백했다. 그는 화성사건 이후인 1994년 1월 충북 청주 자택에서 처제를 성폭행하고 살해한 혐의로 부산교도소에서 무기수로 복역 중이다.한경닷컴 뉴스룸 open@hankyung.com\n",
      "\n"
     ]
    }
   ],
   "source": [
    "result = mark_keyword(text, keyword)\n",
    "print(result)"
   ]
  },
  {
   "cell_type": "markdown",
   "id": "de26fdf5-dc8f-4753-a286-96fbf701c544",
   "metadata": {
    "jp-MarkdownHeadingCollapsed": true
   },
   "source": [
    "### todo: extract sentences"
   ]
  },
  {
   "cell_type": "code",
   "execution_count": null,
   "id": "91c74bfb-aecc-4480-88ae-e241433ba184",
   "metadata": {
    "execution": {
     "iopub.execute_input": "2024-05-19T05:16:49.545931Z",
     "iopub.status.busy": "2024-05-19T05:16:49.542918Z",
     "iopub.status.idle": "2024-05-19T05:16:49.782158Z",
     "shell.execute_reply": "2024-05-19T05:16:49.781693Z",
     "shell.execute_reply.started": "2024-05-19T05:16:49.545875Z"
    }
   },
   "outputs": [],
   "source": [
    "# import re\n",
    "\n",
    "# def mark_keyword(text, keyword):\n",
    "#     # Define the pattern to search for the keyword, with word boundaries to match whole words only\n",
    "#     pattern = r'\\b{}\\b'.format(re.escape(keyword))\n",
    "\n",
    "#     # Use re.sub to replace the keyword with the keyword surrounded by parentheses\n",
    "#     marked_text = re.sub(pattern, r'(\\g<0>)', text, flags=re.IGNORECASE)\n",
    "\n",
    "#     return marked_text"
   ]
  },
  {
   "cell_type": "code",
   "execution_count": 147,
   "id": "b4faa981-c643-488a-89f5-852c067fb8ad",
   "metadata": {
    "execution": {
     "iopub.execute_input": "2024-05-19T05:19:54.001949Z",
     "iopub.status.busy": "2024-05-19T05:19:54.000235Z",
     "iopub.status.idle": "2024-05-19T05:19:54.065409Z",
     "shell.execute_reply": "2024-05-19T05:19:54.063854Z",
     "shell.execute_reply.started": "2024-05-19T05:19:54.001896Z"
    }
   },
   "outputs": [],
   "source": [
    "import re\n",
    "\n",
    "def mark_keyword(text, keyword):\n",
    "    # Define the pattern to search for the keyword, with word boundaries to match whole words only\n",
    "    pattern = r'\\b{}'.format(re.escape(keyword))\n",
    "\n",
    "    # Use re.sub to replace the keyword with the keyword surrounded by parentheses\n",
    "    marked_text = re.sub(pattern, r'🔺\\g<0>🔻', text, flags=re.IGNORECASE)\n",
    "\n",
    "    return marked_text"
   ]
  },
  {
   "cell_type": "code",
   "execution_count": 183,
   "id": "cd2f82a0-7608-4eb4-93aa-8c77468708ca",
   "metadata": {
    "execution": {
     "iopub.execute_input": "2024-05-19T05:52:46.667759Z",
     "iopub.status.busy": "2024-05-19T05:52:46.660945Z",
     "iopub.status.idle": "2024-05-19T05:52:46.706740Z",
     "shell.execute_reply": "2024-05-19T05:52:46.706244Z",
     "shell.execute_reply.started": "2024-05-19T05:52:46.667707Z"
    }
   },
   "outputs": [],
   "source": [
    "def extract_sentences_with_keyword(text, keyword):\n",
    "    # Mark the keyword in the text\n",
    "    marked_text = mark_keyword(text, keyword)\n",
    "\n",
    "    # Split the text into sentences\n",
    "    sentences = re.split(r'(?<=[.!?])+', marked_text)\n",
    "    # sentences = re.split(r'(?<=[.!?]) +', marked_text)\n",
    "    # sentences = re.split(r'🔺?<=[.!?]🔻 +', marked_text)\n",
    "    o = [remove_linefeed(sentence).strip() for sentence in sentences]\n",
    "    ic(o)\n",
    "\n",
    "    # Filter the sentences that contain the marked keyword\n",
    "    keyword_pattern = re.escape(f'🔺{keyword}🔻')\n",
    "    keyword_sentences = [sentence for sentence in sentences if re.search(keyword_pattern, sentence, re.IGNORECASE)]\n",
    "\n",
    "    return keyword_sentences"
   ]
  },
  {
   "cell_type": "code",
   "execution_count": 146,
   "id": "0c41b11c-f56e-4b75-a80e-5289116481bb",
   "metadata": {
    "collapsed": true,
    "execution": {
     "iopub.execute_input": "2024-05-19T05:18:40.989691Z",
     "iopub.status.busy": "2024-05-19T05:18:40.988575Z",
     "iopub.status.idle": "2024-05-19T05:18:41.090175Z",
     "shell.execute_reply": "2024-05-19T05:18:41.089028Z",
     "shell.execute_reply.started": "2024-05-19T05:18:40.989661Z"
    },
    "jupyter": {
     "outputs_hidden": true,
     "source_hidden": true
    }
   },
   "outputs": [
    {
     "name": "stdout",
     "output_type": "stream",
     "text": [
      "(Bananas) are here, and they are yellow.\n",
      "I love (bananas).\n"
     ]
    }
   ],
   "source": [
    "# Example usage\n",
    "text = 'Blueberries are here, and they are purple. I love blueberry. Bananas are here, and they are yellow. I love bananas. Apples are here, and they are red. I love apples.'\n",
    "keyword = 'bananas'\n",
    "\n",
    "# Extract sentences containing the keyword\n",
    "sentences_with_keyword = extract_sentences_with_keyword(text, keyword)\n",
    "\n",
    "# Print the result\n",
    "for sentence in sentences_with_keyword:\n",
    "    print(sentence)"
   ]
  },
  {
   "cell_type": "code",
   "execution_count": 161,
   "id": "80968fa0-408c-4eed-9bab-7bdad243941f",
   "metadata": {
    "execution": {
     "iopub.execute_input": "2024-05-19T05:32:40.366465Z",
     "iopub.status.busy": "2024-05-19T05:32:40.364805Z",
     "iopub.status.idle": "2024-05-19T05:32:40.403322Z",
     "shell.execute_reply": "2024-05-19T05:32:40.402546Z",
     "shell.execute_reply.started": "2024-05-19T05:32:40.366417Z"
    }
   },
   "outputs": [],
   "source": [
    "def isexists_space(text:str) -> bool:\n",
    "    return True if '  ' in text else False\n",
    "\n",
    "def isexists_linefeed(text:str) -> bool:\n",
    "    return True if '\\n\\n' in text else False"
   ]
  },
  {
   "cell_type": "code",
   "execution_count": 172,
   "id": "43c2eb21-51fd-4a28-b4b4-289e0fcb5a4e",
   "metadata": {
    "execution": {
     "iopub.execute_input": "2024-05-19T05:43:04.820276Z",
     "iopub.status.busy": "2024-05-19T05:43:04.818697Z",
     "iopub.status.idle": "2024-05-19T05:43:04.875594Z",
     "shell.execute_reply": "2024-05-19T05:43:04.875181Z",
     "shell.execute_reply.started": "2024-05-19T05:43:04.820204Z"
    }
   },
   "outputs": [],
   "source": [
    "def remove_linefeed(text:str) -> str:\n",
    "    return text.replace('\\n', '')"
   ]
  },
  {
   "cell_type": "code",
   "execution_count": 189,
   "id": "58814424-ef90-4363-99c6-43d53c0cfc23",
   "metadata": {
    "execution": {
     "iopub.execute_input": "2024-05-20T07:28:36.018034Z",
     "iopub.status.busy": "2024-05-20T07:28:36.016867Z",
     "iopub.status.idle": "2024-05-20T07:28:36.139900Z",
     "shell.execute_reply": "2024-05-20T07:28:36.138185Z",
     "shell.execute_reply.started": "2024-05-20T07:28:36.017993Z"
    }
   },
   "outputs": [],
   "source": [
    "def clean_text(text:str) -> str:\n",
    "    flag = True\n",
    "    while flag:\n",
    "        flag_space = True if '  ' in text else False\n",
    "        flag_linefeed = True if '\\n\\n' in text else False\n",
    "        if flag_space or flag_linefeed: \n",
    "            if flag_space:\n",
    "                text = text.replace('  ', ' ')\n",
    "            if flag_linefeed:\n",
    "                text = text.replace('\\n\\n', '\\n')\n",
    "        else:\n",
    "            flag = False\n",
    "    return text"
   ]
  },
  {
   "cell_type": "code",
   "execution_count": 168,
   "id": "174247cb-216a-4033-9e02-b009e8529a2d",
   "metadata": {
    "execution": {
     "iopub.execute_input": "2024-05-19T05:40:50.463586Z",
     "iopub.status.busy": "2024-05-19T05:40:50.463153Z",
     "iopub.status.idle": "2024-05-19T05:40:50.503489Z",
     "shell.execute_reply": "2024-05-19T05:40:50.501689Z",
     "shell.execute_reply.started": "2024-05-19T05:40:50.463559Z"
    }
   },
   "outputs": [
    {
     "name": "stdout",
     "output_type": "stream",
     "text": [
      "복대동\n"
     ]
    }
   ],
   "source": [
    "idx = 112\n",
    "row = df_res[df_res.index == idx]\n",
    "\n",
    "# text = df_res[df_res.index == idx]['content'].to_string(index=False)\n",
    "text = row.iloc[0]['content']\n",
    "# print(text)\n",
    "text = clean_text(text)\n",
    "\n",
    "keyword = row.iloc[0][columns[1]]\n",
    "print(keyword)"
   ]
  },
  {
   "cell_type": "code",
   "execution_count": 185,
   "id": "bd43a7e9-1b83-44b0-9bb3-ea01d624d104",
   "metadata": {
    "execution": {
     "iopub.execute_input": "2024-05-19T05:53:05.856619Z",
     "iopub.status.busy": "2024-05-19T05:53:05.855252Z",
     "iopub.status.idle": "2024-05-19T05:53:05.909502Z",
     "shell.execute_reply": "2024-05-19T05:53:05.908863Z",
     "shell.execute_reply.started": "2024-05-19T05:53:05.856561Z"
    },
    "scrolled": true
   },
   "outputs": [
    {
     "data": {
      "text/plain": [
       "'\\n화성연쇄살인 용의자 이춘재/사진=연합뉴스\\n화성연쇄살인사건의 유력한 용의자 이춘재(56)가 청주시와 수원시에서도 살인사건을 저질렀다고 자백했다.6일 경찰 등에 따르면 이춘재는 14건의 살인사건에 대한 자백을 내놨다. 화성사건은 8차 사건을 포함하면 모두 10건이다. 나머지 4건의 살인사건은 충북 청주와 수원에서 벌인 것으로 추정된다. 다만 이춘재의 자백에 대한 경찰의 신빙성 검증작업 병행이 필요할 전망이다. 우선 이춘재가 자백한 청주 살인사건은 2건이다. 그는 1991년 1월 27일 청주시 가경동 택지조성공사 현장 콘크리트관 속에서 속옷으로 입이 틀어막히고 양손을 뒤로 묶인 상태로 숨진 채 발견된 박모(17) 양 사건을 자신이 범행했다고 시인했다.당시 경찰은 박 양이 괴한에게 성폭행·살해당한 것으로 보고 3개월의 수사 끝에 박모(19) 군을 유력 용의자로 체포했지만, 증거 부족 등을 이유로 법원에서 무죄판결을 받으면서 이 사건은 미제로 남았다.1992년 6월 24일 복대동에서 발생한 가정주부 이모(28) 씨 피살사건도 이춘재의 범행으로 추정된다. 경찰은 당시 20대 초반으로 추정되는 남성이 사건 현장에서 나갔다는 목격자의 진술을 확보해 피해자와 남편 등 주변인을 중심으로 수사를 폈지만 끝내 사건을 해결하지 못했다. 1988∼1989년 연이어 터진 수원 여고생 살인사건도 이춘재의 소행으로 여겨진다. 수원 여고생 살인사건은 1987년 12월 24일 여고생이 어머니와 다투고 외출한 뒤 실종됐다가 열흘가량 뒤인 1988년 1월 4일 수원에서 숨진 채 발견된 사건이다. 6차와 7차 화성사건 사이에 벌어졌고 속옷으로 재갈이 물린 채 손이 결박된 상태로 발견돼 화성 사건과 유사성이 높다.\\n화성연쇄살인 용의자 이춘재/사진=연합뉴스\\n이듬해인 1989년 7월 3일 또 다른 여고생이 수원시 권선구 오목천동 야산 밑 농수로에서 흉기에 찔려 숨진 채 발견된 사건도 이 씨가 자백한 범행 중 1건으로 꼽힌다. 발생지역이 화성이 아니고 피해자의 손발이 묶이지 않은 점 때문에 화성사건에 포함되지 않았으나, 시기적·지리적으로 이춘재와 연관성이 높다.경찰은 수사를 통해 이춘재의 자백 신빙성을 검증하는 중이라는 이유로 그가 자백한 사건들이 무엇인지 정확히 밝히지는 않고 있다.한편 이춘재는 최근 이들 살인사건과 함께 성폭행과 성폭행 미수 등 30여건의 성범죄를 저질렀다고 자백했다. 그는 화성사건 이후인 1994년 1월 충북 청주 자택에서 처제를 성폭행하고 살해한 혐의로 부산교도소에서 무기수로 복역 중이다.한경닷컴 뉴스룸 open@hankyung.com\\n'"
      ]
     },
     "execution_count": 185,
     "metadata": {},
     "output_type": "execute_result"
    }
   ],
   "source": [
    "text"
   ]
  },
  {
   "cell_type": "code",
   "execution_count": 184,
   "id": "83f9f251-270e-443a-b147-ecc91990ac4c",
   "metadata": {
    "execution": {
     "iopub.execute_input": "2024-05-19T05:52:52.756999Z",
     "iopub.status.busy": "2024-05-19T05:52:52.755319Z",
     "iopub.status.idle": "2024-05-19T05:52:52.976997Z",
     "shell.execute_reply": "2024-05-19T05:52:52.976573Z",
     "shell.execute_reply.started": "2024-05-19T05:52:52.756918Z"
    },
    "scrolled": true
   },
   "outputs": [
    {
     "name": "stderr",
     "output_type": "stream",
     "text": [
      "ic| o: ['화성연쇄살인 용의자 이춘재/사진=연합뉴스화성연쇄살인사건의 유력한 용의자 이춘재(56)가 청주시와 수원시에서도 살인사건을 저질렀다고 '\n",
      "        '자백했다.',\n",
      "        '6일 경찰 등에 따르면 이춘재는 14건의 살인사건에 대한 자백을 내놨다.',\n",
      "        '화성사건은 8차 사건을 포함하면 모두 10건이다.',\n",
      "        '나머지 4건의 살인사건은 충북 청주와 수원에서 벌인 것으로 추정된다.',\n",
      "        '다만 이춘재의 자백에 대한 경찰의 신빙성 검증작업 병행이 필요할 전망이다.',\n",
      "        '우선 이춘재가 자백한 청주 살인사건은 2건이다.',\n",
      "        '그는 1991년 1월 27일 청주시 가경동 택지조성공사 현장 콘크리트관 속에서 속옷으로 입이 틀어막히고 양손을 뒤로 묶인 상태로 숨진 채 '\n",
      "        '발견된 박모(17) 양 사건을 자신이 범행했다고 시인했다.',\n",
      "        '당시 경찰은 박 양이 괴한에게 성폭행·살해당한 것으로 보고 3개월의 수사 끝에 박모(19) 군을 유력 용의자로 체포했지만, 증거 부족 '\n",
      "        '등을 이유로 법원에서 무죄판결을 받으면서 이 사건은 미제로 남았다.',\n",
      "        '1992년 6월 24일 🔺복대동🔻에서 발생한 가정주부 이모(28) 씨 피살사건도 이춘재의 범행으로 추정된다.',\n",
      "        '경찰은 당시 20대 초반으로 추정되는 남성이 사건 현장에서 나갔다는 목격자의 진술을 확보해 피해자와 남편 등 주변인을 중심으로 수사를 '\n",
      "        '폈지만 끝내 사건을 해결하지 못했다.',\n",
      "        '1988∼1989년 연이어 터진 수원 여고생 살인사건도 이춘재의 소행으로 여겨진다.',\n",
      "        '수원 여고생 살인사건은 1987년 12월 24일 여고생이 어머니와 다투고 외출한 뒤 실종됐다가 열흘가량 뒤인 1988년 1월 4일 '\n",
      "        '수원에서 숨진 채 발견된 사건이다.',\n",
      "        '6차와 7차 화성사건 사이에 벌어졌고 속옷으로 재갈이 물린 채 손이 결박된 상태로 발견돼 화성 사건과 유사성이 높다.',\n",
      "        '화성연쇄살인 용의자 이춘재/사진=연합뉴스이듬해인 1989년 7월 3일 또 다른 여고생이 수원시 권선구 오목천동 야산 밑 농수로에서 흉기에 '\n",
      "        '찔려 숨진 채 발견된 사건도 이 씨가 자백한 범행 중 1건으로 꼽힌다.',\n",
      "        '발생지역이 화성이 아니고 피해자의 손발이 묶이지 않은 점 때문에 화성사건에 포함되지 않았으나, 시기적·지리적으로 이춘재와 연관성이 높다.',\n",
      "        '경찰은 수사를 통해 이춘재의 자백 신빙성을 검증하는 중이라는 이유로 그가 자백한 사건들이 무엇인지 정확히 밝히지는 않고 있다.',\n",
      "        '한편 이춘재는 최근 이들 살인사건과 함께 성폭행과 성폭행 미수 등 30여건의 성범죄를 저질렀다고 자백했다.',\n",
      "        '그는 화성사건 이후인 1994년 1월 충북 청주 자택에서 처제를 성폭행하고 살해한 혐의로 부산교도소에서 무기수로 복역 중이다.',\n",
      "        '한경닷컴 뉴스룸 open@hankyung.',\n",
      "        'com']\n"
     ]
    },
    {
     "name": "stdout",
     "output_type": "stream",
     "text": [
      "['1992년 6월 24일 🔺복대동🔻에서 발생한 가정주부 이모(28) 씨 피살사건도 이춘재의 범행으로 추정된다.']\n"
     ]
    }
   ],
   "source": [
    "result = extract_sentences_with_keyword(text, keyword)\n",
    "print(result)"
   ]
  },
  {
   "cell_type": "markdown",
   "id": "ec54a1f2-3015-4c3f-8e5a-31cb75f85ee6",
   "metadata": {},
   "source": [
    "## Test - 3"
   ]
  },
  {
   "cell_type": "code",
   "execution_count": 1,
   "id": "1e49941b-f2d2-477e-9f51-d8c52af516c2",
   "metadata": {
    "execution": {
     "iopub.execute_input": "2024-05-20T08:07:46.267807Z",
     "iopub.status.busy": "2024-05-20T08:07:46.266466Z",
     "iopub.status.idle": "2024-05-20T08:07:46.313790Z",
     "shell.execute_reply": "2024-05-20T08:07:46.312459Z",
     "shell.execute_reply.started": "2024-05-20T08:07:46.267739Z"
    }
   },
   "outputs": [],
   "source": [
    "%load_ext autoreload"
   ]
  },
  {
   "cell_type": "code",
   "execution_count": 46,
   "id": "558368fe-32c1-4355-be81-4afcc4a788a1",
   "metadata": {
    "execution": {
     "iopub.execute_input": "2024-05-20T08:49:53.832558Z",
     "iopub.status.busy": "2024-05-20T08:49:53.830952Z",
     "iopub.status.idle": "2024-05-20T08:49:53.867865Z",
     "shell.execute_reply": "2024-05-20T08:49:53.866399Z",
     "shell.execute_reply.started": "2024-05-20T08:49:53.832498Z"
    },
    "scrolled": true
   },
   "outputs": [],
   "source": [
    "%aimport utils.search_address"
   ]
  },
  {
   "cell_type": "code",
   "execution_count": 47,
   "id": "c4594c50-0242-42bb-afab-49804b654913",
   "metadata": {
    "execution": {
     "iopub.execute_input": "2024-05-20T08:49:53.870796Z",
     "iopub.status.busy": "2024-05-20T08:49:53.870254Z",
     "iopub.status.idle": "2024-05-20T08:49:54.049797Z",
     "shell.execute_reply": "2024-05-20T08:49:54.049493Z",
     "shell.execute_reply.started": "2024-05-20T08:49:53.870784Z"
    }
   },
   "outputs": [],
   "source": [
    "import pandas as pd \n",
    "import numpy as np\n",
    "import math\n",
    "import re\n",
    "\n",
    "from icecream import ic\n",
    "from tqdm.notebook import tqdm \n",
    "\n",
    "from utils.custom_utils import load_var, save_var\n",
    "from utils.search_address import RetrieveAddress, get_lat_long, CheckAddressLevels\n",
    "from utils.webscraping import ArticleScraper\n",
    "from utils.search_address import clean_text, extract_sentences_with_keyword, mark_keyword\n",
    "\n",
    "from importlib import reload\n",
    "\n",
    "df_addr = pd.read_parquet('./address/df_addr.parquet.gzip')\n",
    "df_text = pd.read_parquet('./dataframe/flasher_hk_20130101_20220307.gzip')\n"
   ]
  },
  {
   "cell_type": "code",
   "execution_count": 48,
   "id": "cb52fc4e-fc5c-4ba6-8d00-e5e489487a27",
   "metadata": {
    "execution": {
     "iopub.execute_input": "2024-05-20T08:49:54.050388Z",
     "iopub.status.busy": "2024-05-20T08:49:54.050259Z",
     "iopub.status.idle": "2024-05-20T08:49:54.089361Z",
     "shell.execute_reply": "2024-05-20T08:49:54.063736Z",
     "shell.execute_reply.started": "2024-05-20T08:49:54.050379Z"
    }
   },
   "outputs": [],
   "source": [
    "%autoreload 2"
   ]
  },
  {
   "cell_type": "markdown",
   "id": "a39459f9-533c-422c-b30f-bc1bcc80442a",
   "metadata": {
    "jp-MarkdownHeadingCollapsed": true
   },
   "source": [
    "### warming-up"
   ]
  },
  {
   "cell_type": "code",
   "execution_count": 6,
   "id": "5eedc85f-7ab4-4c81-b030-57e1f59a6f4c",
   "metadata": {
    "execution": {
     "iopub.execute_input": "2024-05-20T08:08:14.590579Z",
     "iopub.status.busy": "2024-05-20T08:08:14.589664Z",
     "iopub.status.idle": "2024-05-20T08:08:14.657551Z",
     "shell.execute_reply": "2024-05-20T08:08:14.657261Z",
     "shell.execute_reply.started": "2024-05-20T08:08:14.590528Z"
    },
    "scrolled": true
   },
   "outputs": [
    {
     "data": {
      "text/html": [
       "<div>\n",
       "<style scoped>\n",
       "    .dataframe tbody tr th:only-of-type {\n",
       "        vertical-align: middle;\n",
       "    }\n",
       "\n",
       "    .dataframe tbody tr th {\n",
       "        vertical-align: top;\n",
       "    }\n",
       "\n",
       "    .dataframe thead th {\n",
       "        text-align: right;\n",
       "    }\n",
       "</style>\n",
       "<table border=\"1\" class=\"dataframe\">\n",
       "  <thead>\n",
       "    <tr style=\"text-align: right;\">\n",
       "      <th></th>\n",
       "      <th>범죄 유형</th>\n",
       "      <th>지역</th>\n",
       "      <th>위도</th>\n",
       "      <th>경도</th>\n",
       "      <th>중복 여부</th>\n",
       "      <th>퀄리티</th>\n",
       "      <th>제외 여부</th>\n",
       "      <th>기사제목</th>\n",
       "      <th>사건 장소</th>\n",
       "      <th>수사 기관</th>\n",
       "      <th>본문</th>\n",
       "      <th>URL</th>\n",
       "      <th>일자</th>\n",
       "      <th>언론사</th>\n",
       "      <th>기고자</th>\n",
       "      <th>비고</th>\n",
       "      <th>selenium_html</th>\n",
       "      <th>content</th>\n",
       "    </tr>\n",
       "  </thead>\n",
       "  <tbody>\n",
       "    <tr>\n",
       "      <th>0</th>\n",
       "      <td>NaN</td>\n",
       "      <td>NaN</td>\n",
       "      <td>NaN</td>\n",
       "      <td>NaN</td>\n",
       "      <td>NaN</td>\n",
       "      <td>NaN</td>\n",
       "      <td>NaN</td>\n",
       "      <td>\"같이 살자\" 2억 뜯어낸 채팅녀 알고 보니 20대 남자였다</td>\n",
       "      <td>2억여원</td>\n",
       "      <td>이대,검찰,한경닷컴 객원,서울서부지법,재판부,법원,형사항</td>\n",
       "      <td>채팅앱에서 만난 남성들에게 자신을 여성이라고 속인 뒤 2억여원을 가로챈 20대 남성...</td>\n",
       "      <td>https://www.hankyung.com/society/article/20220...</td>\n",
       "      <td>20220207</td>\n",
       "      <td>한국경제</td>\n",
       "      <td>이보배</td>\n",
       "      <td>NaN</td>\n",
       "      <td>&lt;body&gt;\\n\\t&lt;div id=\"wrap\" class=\"view\"&gt;\\n\\n\\t\\t...</td>\n",
       "      <td>\\n\\n\\n\\n\\nA씨는 2020년 초부터 수 개월간 채팅앱에서 만난 남성들에게 자...</td>\n",
       "    </tr>\n",
       "  </tbody>\n",
       "</table>\n",
       "</div>"
      ],
      "text/plain": [
       "   범죄 유형  지역  위도  경도  중복 여부  퀄리티  제외 여부                               기사제목  \\\n",
       "0    NaN NaN NaN NaN    NaN  NaN    NaN  \"같이 살자\" 2억 뜯어낸 채팅녀 알고 보니 20대 남자였다   \n",
       "\n",
       "  사건 장소                            수사 기관  \\\n",
       "0  2억여원  이대,검찰,한경닷컴 객원,서울서부지법,재판부,법원,형사항   \n",
       "\n",
       "                                                  본문  \\\n",
       "0  채팅앱에서 만난 남성들에게 자신을 여성이라고 속인 뒤 2억여원을 가로챈 20대 남성...   \n",
       "\n",
       "                                                 URL        일자   언론사  기고자  비고  \\\n",
       "0  https://www.hankyung.com/society/article/20220...  20220207  한국경제  이보배 NaN   \n",
       "\n",
       "                                       selenium_html  \\\n",
       "0  <body>\\n\\t<div id=\"wrap\" class=\"view\">\\n\\n\\t\\t...   \n",
       "\n",
       "                                             content  \n",
       "0  \\n\\n\\n\\n\\nA씨는 2020년 초부터 수 개월간 채팅앱에서 만난 남성들에게 자...  "
      ]
     },
     "execution_count": 6,
     "metadata": {},
     "output_type": "execute_result"
    }
   ],
   "source": [
    "df_text.head(1)"
   ]
  },
  {
   "cell_type": "code",
   "execution_count": 7,
   "id": "8c0c858a-eb0a-48cd-811f-908b0117963d",
   "metadata": {
    "execution": {
     "iopub.execute_input": "2024-05-20T08:08:17.457880Z",
     "iopub.status.busy": "2024-05-20T08:08:17.454384Z",
     "iopub.status.idle": "2024-05-20T08:08:17.503870Z",
     "shell.execute_reply": "2024-05-20T08:08:17.503465Z",
     "shell.execute_reply.started": "2024-05-20T08:08:17.457741Z"
    }
   },
   "outputs": [
    {
     "data": {
      "text/html": [
       "<div>\n",
       "<style scoped>\n",
       "    .dataframe tbody tr th:only-of-type {\n",
       "        vertical-align: middle;\n",
       "    }\n",
       "\n",
       "    .dataframe tbody tr th {\n",
       "        vertical-align: top;\n",
       "    }\n",
       "\n",
       "    .dataframe thead th {\n",
       "        text-align: right;\n",
       "    }\n",
       "</style>\n",
       "<table border=\"1\" class=\"dataframe\">\n",
       "  <thead>\n",
       "    <tr style=\"text-align: right;\">\n",
       "      <th></th>\n",
       "      <th>lv0</th>\n",
       "      <th>lv1</th>\n",
       "      <th>lv2</th>\n",
       "      <th>lv3</th>\n",
       "      <th>lv4</th>\n",
       "      <th>lv5</th>\n",
       "    </tr>\n",
       "  </thead>\n",
       "  <tbody>\n",
       "    <tr>\n",
       "      <th>0</th>\n",
       "      <td>충남</td>\n",
       "      <td>충청남도</td>\n",
       "      <td>천안시 동남구</td>\n",
       "      <td>대흥동</td>\n",
       "      <td>None</td>\n",
       "      <td>NaN</td>\n",
       "    </tr>\n",
       "  </tbody>\n",
       "</table>\n",
       "</div>"
      ],
      "text/plain": [
       "  lv0   lv1      lv2  lv3   lv4  lv5\n",
       "0  충남  충청남도  천안시 동남구  대흥동  None  NaN"
      ]
     },
     "execution_count": 7,
     "metadata": {},
     "output_type": "execute_result"
    }
   ],
   "source": [
    "df_addr.head(1)"
   ]
  },
  {
   "cell_type": "code",
   "execution_count": null,
   "id": "79a32378-5eea-4a8f-8f98-3da00807e299",
   "metadata": {
    "execution": {
     "iopub.execute_input": "2024-05-20T08:17:31.261887Z",
     "iopub.status.busy": "2024-05-20T08:17:31.260775Z",
     "iopub.status.idle": "2024-05-20T08:17:31.516705Z",
     "shell.execute_reply": "2024-05-20T08:17:31.516316Z",
     "shell.execute_reply.started": "2024-05-20T08:17:31.261852Z"
    }
   },
   "outputs": [],
   "source": [
    "text = df_text.iloc[0]['content']\n",
    "text = ut.clean_text(text)"
   ]
  },
  {
   "cell_type": "code",
   "execution_count": 54,
   "id": "1ce18fed-e2b7-4b78-9fed-ae81a5549e5c",
   "metadata": {
    "execution": {
     "iopub.execute_input": "2024-05-20T08:53:04.264165Z",
     "iopub.status.busy": "2024-05-20T08:53:04.263356Z",
     "iopub.status.idle": "2024-05-20T08:53:04.300810Z",
     "shell.execute_reply": "2024-05-20T08:53:04.300501Z",
     "shell.execute_reply.started": "2024-05-20T08:53:04.264134Z"
    },
    "scrolled": true
   },
   "outputs": [
    {
     "name": "stdout",
     "output_type": "stream",
     "text": [
      "A씨는 2020년 초부터 수 개월간 채팅앱에서 만난 남성들에게 자신을 23살 여성이라고 소개한 뒤 함께 살자고 접근해 생활비 등의 명목으로 돈을 뜯어냈다.\n",
      " 사진은 기사와 무관함.\n",
      " /사진=게티이미지뱅크 \n",
      "채팅앱에서 만난 남성들에게 자신을 여성이라고 속인 뒤 2억여원을 가로챈 20대 남성이 항소심에서도 실형을 선고받았다.\n",
      " 7일 법조계에 따르면 서울서부지법 형사항소2부(부상준 부장판사)는 사기·공갈·절도·여신전문금융업법 위반·컴퓨터등사용사기 등 혐의로 재판에 넘겨진 A씨(24)에게 1심과 같은 징역 5년을 선고했다.\n",
      " A씨는 2020년 초부터 수 개월간 채팅앱에서 만난 남성들에게 자신을 23살 여성이라고 소개했다.\n",
      " 그는 남성들에게 교제를 하자거나 함께 살자고 접근해 생활비 등의 명목으로 돈을 뜯어낸 혐의로 재판에 넘겨졌다.\n",
      " A씨는 피해자 B씨에게 \"같이 살 집을 구하자.\n",
      " 보증금, 살림살이를 구입하는데 필요한 돈은 내가 관리하겠다\"고 속여 2주 만에 3260만원을 편취했다.\n",
      " 또 다른 피해자 C씨에게는 \"사귀자\"고 접근해 돈을 빌리고, 계좌번호와 비밀번호 등 개인정보를 건네 받아 은행에서 대신 대출받는 방식으로 총 1730만원을 빼앗았다.\n",
      " 피해자 D씨에게는 음란행위 영상을 받은 뒤 \"네가 일하는 곳에 영상을 뿌리겠다\"고 협박해 410만원을 갈취하고, 수백만원을 대출받아 빼돌리기도 했다.\n",
      " 1심 재판부는 \"범행 수법과 방법 등이 상당히 불량하고, 사회적 비난의 여지가 큰 점 등을 불리한 정상으로 참작한다\"면서 징역 5년을 선고했다.\n",
      " 이후 A씨는 형이 너무 무겁다며, 검창른 너무 가볍다며 각각 항소했지만 항소심 재판부의 판단도 다르지 않았다.\n",
      " 항소심 재판부는 \"피해자가 수십 명이고, 피해액 합계가 2억4000만원에 이르는데도 피해 회복을 위해 별다른 노력을 하지 않았다\"고 지적했다.\n",
      " 이어 \"절도 등으로 여러 차례 소년보호처분을 받은 전력이 있고, 재판 중에도 다른 미결수용자를 폭행하는 등 규율위반 행위로 금치 30일 처분을 받기도 했다\"면서 \"다만 잘못을 모두 인정하고 반성하는 점, 불우한 성장 과정이 범행에 어느 정도 영향을 미친 것으로 보이는 점을 참작했다\"며 1심과 같은 징역 5년을 선고했다.\n",
      " A씨는 법원에 상소포기서를 제출했고, 검찰 역시 상고하지 않아 형은 이대로 확정됐다.\n",
      " 이보배 한경닷컴 객원기자 newsinfo@hankyung.\n",
      "com\n"
     ]
    }
   ],
   "source": [
    "print(text.replace(\".\", \".\\n\"))"
   ]
  },
  {
   "cell_type": "code",
   "execution_count": 78,
   "id": "976876dc-eec8-4acc-8411-1fd91f5e9c87",
   "metadata": {
    "execution": {
     "iopub.execute_input": "2024-05-20T12:03:59.114549Z",
     "iopub.status.busy": "2024-05-20T12:03:59.113260Z",
     "iopub.status.idle": "2024-05-20T12:04:08.752626Z",
     "shell.execute_reply": "2024-05-20T12:04:08.752221Z",
     "shell.execute_reply.started": "2024-05-20T12:03:59.114507Z"
    }
   },
   "outputs": [
    {
     "name": "stderr",
     "output_type": "stream",
     "text": [
      "ic| key: '서울', v: '서울'\n",
      "ic| key: '관리', v: '관리'\n",
      "ic| key: '서울', v: '서울'\n"
     ]
    },
    {
     "data": {
      "text/plain": [
       "'관리'"
      ]
     },
     "execution_count": 78,
     "metadata": {},
     "output_type": "execute_result"
    }
   ],
   "source": [
    "cal = CheckAddressLevels(df_address=df_addr, text=text)\n",
    "result = cal.process()\n",
    "result"
   ]
  },
  {
   "cell_type": "code",
   "execution_count": 63,
   "id": "bf183cb8-18d6-4248-9e93-b9482cbd6195",
   "metadata": {
    "execution": {
     "iopub.execute_input": "2024-05-20T11:52:18.602323Z",
     "iopub.status.busy": "2024-05-20T11:52:18.601021Z",
     "iopub.status.idle": "2024-05-20T11:52:19.350769Z",
     "shell.execute_reply": "2024-05-20T11:52:19.350456Z",
     "shell.execute_reply.started": "2024-05-20T11:52:18.602241Z"
    }
   },
   "outputs": [
    {
     "data": {
      "text/plain": [
       "['보증금, 살림살이를 구입하는데 필요한 돈은 내가 🔺관리🔻하겠다\"고 속여 2주 만에 3260만원을 편취했다.']"
      ]
     },
     "execution_count": 63,
     "metadata": {},
     "output_type": "execute_result"
    }
   ],
   "source": [
    "extract_sentences_with_keyword(text=text, keyword=result.split(\" \")[-1])"
   ]
  },
  {
   "cell_type": "markdown",
   "id": "b14b29fd-6c06-4a46-8be6-963175101b2e",
   "metadata": {
    "jp-MarkdownHeadingCollapsed": true
   },
   "source": [
    "### step by step"
   ]
  },
  {
   "cell_type": "code",
   "execution_count": 67,
   "id": "1f9f8541-f059-4a50-90a6-abba2b68b1d8",
   "metadata": {
    "execution": {
     "iopub.execute_input": "2024-05-20T11:59:02.657246Z",
     "iopub.status.busy": "2024-05-20T11:59:02.656262Z",
     "iopub.status.idle": "2024-05-20T11:59:02.721223Z",
     "shell.execute_reply": "2024-05-20T11:59:02.720913Z",
     "shell.execute_reply.started": "2024-05-20T11:59:02.657190Z"
    }
   },
   "outputs": [
    {
     "name": "stdout",
     "output_type": "stream",
     "text": [
      "<class 'pandas.core.frame.DataFrame'>\n",
      "Index: 693 entries, 2047 to 28198\n",
      "Data columns (total 6 columns):\n",
      " #   Column  Non-Null Count  Dtype  \n",
      "---  ------  --------------  -----  \n",
      " 0   lv0     693 non-null    object \n",
      " 1   lv1     693 non-null    object \n",
      " 2   lv2     693 non-null    object \n",
      " 3   lv3     693 non-null    object \n",
      " 4   lv4     10 non-null     object \n",
      " 5   lv5     0 non-null      float64\n",
      "dtypes: float64(1), object(5)\n",
      "memory usage: 37.9+ KB\n"
     ]
    }
   ],
   "source": [
    "cal.df_filtered.info()"
   ]
  },
  {
   "cell_type": "code",
   "execution_count": 88,
   "id": "bf2d2e4f-6b7e-48be-820d-b7c2f1a4c884",
   "metadata": {
    "execution": {
     "iopub.execute_input": "2024-05-20T13:15:07.813546Z",
     "iopub.status.busy": "2024-05-20T13:15:07.812753Z",
     "iopub.status.idle": "2024-05-20T13:15:12.077842Z",
     "shell.execute_reply": "2024-05-20T13:15:12.077419Z",
     "shell.execute_reply.started": "2024-05-20T13:15:07.813481Z"
    }
   },
   "outputs": [
    {
     "data": {
      "text/plain": [
       "'관리'"
      ]
     },
     "execution_count": 88,
     "metadata": {},
     "output_type": "execute_result"
    }
   ],
   "source": [
    "cal = CheckAddressLevels(df_address=df_addr, text=text)\n",
    "result = cal.process()\n",
    "result"
   ]
  },
  {
   "cell_type": "code",
   "execution_count": 94,
   "id": "9b4b1b76-ebfa-4f64-80d8-581d833b386e",
   "metadata": {
    "execution": {
     "iopub.execute_input": "2024-05-20T13:19:24.630653Z",
     "iopub.status.busy": "2024-05-20T13:19:24.630222Z",
     "iopub.status.idle": "2024-05-20T13:19:26.941178Z",
     "shell.execute_reply": "2024-05-20T13:19:26.940499Z",
     "shell.execute_reply.started": "2024-05-20T13:19:24.630613Z"
    }
   },
   "outputs": [
    {
     "name": "stderr",
     "output_type": "stream",
     "text": [
      "ic| '>>> get_existance: ', key: '관리', value: 1\n"
     ]
    },
    {
     "name": "stdout",
     "output_type": "stream",
     "text": [
      "================================================================================\n"
     ]
    },
    {
     "name": "stderr",
     "output_type": "stream",
     "text": [
      "ic| key: '관리'\n",
      "ic| k: 'lv0', v: '서울', item_lv: 'lv4'\n",
      "ic| k: 'lv1', v: '서울특별시', item_lv: 'lv4'\n",
      "ic| k: 'lv2', v: '강동구', item_lv: 'lv4'\n",
      "ic| k: 'lv3', v: '강일동', item_lv: 'lv4'\n",
      "ic| k: 'lv4', v: '관리', item_lv: 'lv4'\n"
     ]
    },
    {
     "name": "stdout",
     "output_type": "stream",
     "text": [
      "................................................................................ \n",
      "\n"
     ]
    },
    {
     "name": "stderr",
     "output_type": "stream",
     "text": [
      "ic| key: '서울'\n",
      "ic| k: 'lv0', v: '서울', item_lv: 'lv4'\n",
      "ic| 'key == v:', key: '서울', v: '서울'\n",
      "ic| k: 'lv1', v: '서울특별시', item_lv: 'lv4'\n",
      "ic| k: 'lv2', v: '강동구', item_lv: 'lv4'\n",
      "ic| k: 'lv3', v: '강일동', item_lv: 'lv4'\n",
      "ic| k: 'lv4', v: '관리', item_lv: 'lv4'\n"
     ]
    },
    {
     "name": "stdout",
     "output_type": "stream",
     "text": [
      "................................................................................ \n",
      "\n",
      "-------------------------------------------------------------------------------- \n",
      "\n"
     ]
    },
    {
     "name": "stderr",
     "output_type": "stream",
     "text": [
      "ic| '>>> get_existance: ', key: '서울', value: 1\n"
     ]
    },
    {
     "name": "stdout",
     "output_type": "stream",
     "text": [
      "================================================================================\n"
     ]
    },
    {
     "name": "stderr",
     "output_type": "stream",
     "text": [
      "ic| key: '관리'\n",
      "ic| k: 'lv0', v: '서울', item_lv: 'lv0'\n",
      "ic| k: 'lv1', v: '서울특별시', item_lv: 'lv0'\n",
      "ic| k: 'lv2', v: '강동구', item_lv: 'lv0'\n",
      "ic| k: 'lv3', v: '강일동', item_lv: 'lv0'\n",
      "ic| k: 'lv4', v: '관리', item_lv: 'lv0'\n",
      "ic| 'key == v:', key: '관리', v: '관리'\n"
     ]
    },
    {
     "name": "stdout",
     "output_type": "stream",
     "text": [
      "................................................................................ \n",
      "\n"
     ]
    },
    {
     "name": "stderr",
     "output_type": "stream",
     "text": [
      "ic| key: '서울'\n",
      "ic| k: 'lv0', v: '서울', item_lv: 'lv0'\n",
      "ic| 'key == v:', key: '서울', v: '서울'\n",
      "ic| k: 'lv1', v: '서울특별시', item_lv: 'lv0'\n",
      "ic| k: 'lv2', v: '강동구', item_lv: 'lv0'\n",
      "ic| k: 'lv3', v: '강일동', item_lv: 'lv0'\n",
      "ic| k: 'lv4', v: '관리', item_lv: 'lv0'\n"
     ]
    },
    {
     "name": "stdout",
     "output_type": "stream",
     "text": [
      "................................................................................ \n",
      "\n",
      "-------------------------------------------------------------------------------- \n",
      "\n"
     ]
    },
    {
     "data": {
      "text/plain": [
       "['관리', '서울']"
      ]
     },
     "execution_count": 94,
     "metadata": {},
     "output_type": "execute_result"
    }
   ],
   "source": [
    "cal.get_existance(verbose=True)"
   ]
  },
  {
   "cell_type": "code",
   "execution_count": 72,
   "id": "97795e74-10b5-4ccd-afe3-bd762313134c",
   "metadata": {
    "execution": {
     "iopub.execute_input": "2024-05-20T11:59:36.019516Z",
     "iopub.status.busy": "2024-05-20T11:59:36.018022Z",
     "iopub.status.idle": "2024-05-20T11:59:36.060959Z",
     "shell.execute_reply": "2024-05-20T11:59:36.060172Z",
     "shell.execute_reply.started": "2024-05-20T11:59:36.019442Z"
    }
   },
   "outputs": [
    {
     "data": {
      "text/plain": [
       "717"
      ]
     },
     "execution_count": 72,
     "metadata": {},
     "output_type": "execute_result"
    }
   ],
   "source": [
    "len(cal.address_set)"
   ]
  },
  {
   "cell_type": "code",
   "execution_count": 74,
   "id": "59a0b476-0720-4df8-ab45-3ccc566ec288",
   "metadata": {
    "execution": {
     "iopub.execute_input": "2024-05-20T11:59:43.378605Z",
     "iopub.status.busy": "2024-05-20T11:59:43.376663Z",
     "iopub.status.idle": "2024-05-20T11:59:43.432962Z",
     "shell.execute_reply": "2024-05-20T11:59:43.432630Z",
     "shell.execute_reply.started": "2024-05-20T11:59:43.378509Z"
    }
   },
   "outputs": [
    {
     "data": {
      "text/plain": [
       "{'관리': 1, '서울': 1}"
      ]
     },
     "execution_count": 74,
     "metadata": {},
     "output_type": "execute_result"
    }
   ],
   "source": [
    "cal.filtered_dict"
   ]
  },
  {
   "cell_type": "code",
   "execution_count": 75,
   "id": "8cb65bbd-0655-48a9-b30d-b834e3df0a3b",
   "metadata": {
    "execution": {
     "iopub.execute_input": "2024-05-20T11:59:49.544412Z",
     "iopub.status.busy": "2024-05-20T11:59:49.542111Z",
     "iopub.status.idle": "2024-05-20T11:59:49.595095Z",
     "shell.execute_reply": "2024-05-20T11:59:49.594748Z",
     "shell.execute_reply.started": "2024-05-20T11:59:49.544352Z"
    }
   },
   "outputs": [
    {
     "data": {
      "text/plain": [
       "{'관리': {'count': 1, 'level': ['lv4']}, '서울': {'count': 1, 'level': ['lv0']}}"
      ]
     },
     "execution_count": 75,
     "metadata": {},
     "output_type": "execute_result"
    }
   ],
   "source": [
    "cal.levels"
   ]
  },
  {
   "cell_type": "code",
   "execution_count": 76,
   "id": "c8003c3b-39aa-453b-b83b-7369621225f1",
   "metadata": {
    "execution": {
     "iopub.execute_input": "2024-05-20T11:59:53.129722Z",
     "iopub.status.busy": "2024-05-20T11:59:53.128274Z",
     "iopub.status.idle": "2024-05-20T11:59:53.188173Z",
     "shell.execute_reply": "2024-05-20T11:59:53.187597Z",
     "shell.execute_reply.started": "2024-05-20T11:59:53.129657Z"
    }
   },
   "outputs": [
    {
     "data": {
      "text/plain": [
       "['관리', '서울']"
      ]
     },
     "execution_count": 76,
     "metadata": {},
     "output_type": "execute_result"
    }
   ],
   "source": [
    "cal.existances"
   ]
  },
  {
   "cell_type": "code",
   "execution_count": 77,
   "id": "1e42e8f4-c4da-40e1-a8e1-f78b7b97ee05",
   "metadata": {
    "execution": {
     "iopub.execute_input": "2024-05-20T12:01:13.759750Z",
     "iopub.status.busy": "2024-05-20T12:01:13.759528Z",
     "iopub.status.idle": "2024-05-20T12:01:13.792730Z",
     "shell.execute_reply": "2024-05-20T12:01:13.792290Z",
     "shell.execute_reply.started": "2024-05-20T12:01:13.759728Z"
    }
   },
   "outputs": [
    {
     "data": {
      "text/plain": [
       "{'관리': 4, '서울': 0}"
      ]
     },
     "execution_count": 77,
     "metadata": {},
     "output_type": "execute_result"
    }
   ],
   "source": [
    "cal.existed_levels"
   ]
  },
  {
   "cell_type": "markdown",
   "id": "060560b4-9abe-46a2-9c61-f5675564e927",
   "metadata": {
    "jp-MarkdownHeadingCollapsed": true
   },
   "source": [
    "### todo: modify counting and leveling"
   ]
  },
  {
   "cell_type": "code",
   "execution_count": 100,
   "id": "b6e87dfa-130e-4fb1-8493-9f55315a4512",
   "metadata": {
    "execution": {
     "iopub.execute_input": "2024-05-20T13:30:48.382361Z",
     "iopub.status.busy": "2024-05-20T13:30:48.381676Z",
     "iopub.status.idle": "2024-05-20T13:30:48.439273Z",
     "shell.execute_reply": "2024-05-20T13:30:48.438921Z",
     "shell.execute_reply.started": "2024-05-20T13:30:48.382330Z"
    }
   },
   "outputs": [
    {
     "data": {
      "text/html": [
       "<div>\n",
       "<style scoped>\n",
       "    .dataframe tbody tr th:only-of-type {\n",
       "        vertical-align: middle;\n",
       "    }\n",
       "\n",
       "    .dataframe tbody tr th {\n",
       "        vertical-align: top;\n",
       "    }\n",
       "\n",
       "    .dataframe thead th {\n",
       "        text-align: right;\n",
       "    }\n",
       "</style>\n",
       "<table border=\"1\" class=\"dataframe\">\n",
       "  <thead>\n",
       "    <tr style=\"text-align: right;\">\n",
       "      <th></th>\n",
       "      <th>city</th>\n",
       "      <th>count</th>\n",
       "    </tr>\n",
       "  </thead>\n",
       "  <tbody>\n",
       "    <tr>\n",
       "      <th>0</th>\n",
       "      <td>관리</td>\n",
       "      <td>1</td>\n",
       "    </tr>\n",
       "    <tr>\n",
       "      <th>1</th>\n",
       "      <td>서울</td>\n",
       "      <td>1</td>\n",
       "    </tr>\n",
       "  </tbody>\n",
       "</table>\n",
       "</div>"
      ],
      "text/plain": [
       "  city  count\n",
       "0   관리      1\n",
       "1   서울      1"
      ]
     },
     "execution_count": 100,
     "metadata": {},
     "output_type": "execute_result"
    }
   ],
   "source": [
    "worktable = {\n",
    "    \"city\": [],\n",
    "    \"count\": [],\n",
    "}\n",
    "\n",
    "for key, value in cal.filtered_dict.items():\n",
    "    worktable['city'].append(key)\n",
    "    worktable['count'].append(value)\n",
    "\n",
    "df_worktable = pd.DataFrame(worktable)\n",
    "df_worktable"
   ]
  },
  {
   "cell_type": "code",
   "execution_count": 127,
   "id": "379ecdcd-23b1-45e6-9b0b-5b59216e53f5",
   "metadata": {
    "execution": {
     "iopub.execute_input": "2024-05-20T14:23:11.333832Z",
     "iopub.status.busy": "2024-05-20T14:23:11.332601Z",
     "iopub.status.idle": "2024-05-20T14:23:11.542318Z",
     "shell.execute_reply": "2024-05-20T14:23:11.542097Z",
     "shell.execute_reply.started": "2024-05-20T14:23:11.333774Z"
    }
   },
   "outputs": [
    {
     "name": "stderr",
     "output_type": "stream",
     "text": [
      "ic| index: 0\n",
      "    row: city     관리\n",
      "         count     1\n",
      "         Name: 0, dtype: object\n",
      "ic| column: 'city', value: '관리'\n",
      "ic| column: 'count', value: 1\n",
      "ic| index: 1\n",
      "    row: city     서울\n",
      "         count     1\n",
      "         Name: 1, dtype: object\n",
      "ic| column: 'city', value: '서울'\n",
      "ic| column: 'count', value: 1\n"
     ]
    }
   ],
   "source": [
    "for index, row in df_worktable.iterrows():\n",
    "    ic(index, row)\n",
    "    for column, value in row.items():\n",
    "        ic(column, value)"
   ]
  },
  {
   "cell_type": "markdown",
   "id": "ebb3c26d-d649-4f2e-b20f-5fdacb38e593",
   "metadata": {
    "jp-MarkdownHeadingCollapsed": true
   },
   "source": [
    "#### count"
   ]
  },
  {
   "cell_type": "code",
   "execution_count": 104,
   "id": "83505968-88bb-4289-b6bf-3f8eb371b509",
   "metadata": {
    "execution": {
     "iopub.execute_input": "2024-05-20T13:49:50.519490Z",
     "iopub.status.busy": "2024-05-20T13:49:50.515871Z",
     "iopub.status.idle": "2024-05-20T13:49:50.739750Z",
     "shell.execute_reply": "2024-05-20T13:49:50.738984Z",
     "shell.execute_reply.started": "2024-05-20T13:49:50.519300Z"
    }
   },
   "outputs": [],
   "source": [
    "import utils.search_address as sa"
   ]
  },
  {
   "cell_type": "code",
   "execution_count": 105,
   "id": "d0dc27f9-f642-4b65-b9bd-94fb93e6dcee",
   "metadata": {
    "execution": {
     "iopub.execute_input": "2024-05-20T13:50:13.265743Z",
     "iopub.status.busy": "2024-05-20T13:50:13.257492Z",
     "iopub.status.idle": "2024-05-20T13:50:13.325033Z",
     "shell.execute_reply": "2024-05-20T13:50:13.323573Z",
     "shell.execute_reply.started": "2024-05-20T13:50:13.265562Z"
    }
   },
   "outputs": [],
   "source": [
    "def make_address_from_columns(df:pd.DataFrame):\n",
    "    address_set = set([])\n",
    "    address_dict = {}\n",
    "    for index, row in df.iterrows():\n",
    "        for col, value in row.items():\n",
    "            if isinstance(value, str):\n",
    "                if value not in address_set:\n",
    "                    address_set.add(value)\n",
    "                    address_dict[value] = col\n",
    "    return (address_set, address_dict)"
   ]
  },
  {
   "cell_type": "code",
   "execution_count": 106,
   "id": "af4c811d-28c2-4b97-9331-41cf12c90879",
   "metadata": {
    "execution": {
     "iopub.execute_input": "2024-05-20T13:50:39.007224Z",
     "iopub.status.busy": "2024-05-20T13:50:39.006844Z",
     "iopub.status.idle": "2024-05-20T13:50:39.089961Z",
     "shell.execute_reply": "2024-05-20T13:50:39.089469Z",
     "shell.execute_reply.started": "2024-05-20T13:50:39.007195Z"
    }
   },
   "outputs": [],
   "source": [
    "addr_set, addr_dict = make_address_from_columns(cal.df_filtered)"
   ]
  },
  {
   "cell_type": "code",
   "execution_count": 107,
   "id": "d0168777-a705-4cd8-8806-3d3470774c7d",
   "metadata": {
    "execution": {
     "iopub.execute_input": "2024-05-20T13:51:07.808570Z",
     "iopub.status.busy": "2024-05-20T13:51:07.802343Z",
     "iopub.status.idle": "2024-05-20T13:51:07.927759Z",
     "shell.execute_reply": "2024-05-20T13:51:07.927175Z",
     "shell.execute_reply.started": "2024-05-20T13:51:07.808530Z"
    }
   },
   "outputs": [],
   "source": [
    "# Initialize the dictionary with keywords and their counts set to 0\n",
    "keyword_counts = {keyword: 0 for keyword in addr_set}\n",
    "\n",
    "# Iterate through each keyword in the set\n",
    "for keyword in addr_set:\n",
    "    # Count the number of matches\n",
    "    count = len(sa.re_findall(keyword, text))\n",
    "    # Update the count for the keyword in the dictionary\n",
    "    keyword_counts[keyword] += count"
   ]
  },
  {
   "cell_type": "code",
   "execution_count": 108,
   "id": "a31604ec-d56c-4e0e-b7c5-9f7ef343e3d1",
   "metadata": {
    "execution": {
     "iopub.execute_input": "2024-05-20T13:51:13.711815Z",
     "iopub.status.busy": "2024-05-20T13:51:13.708650Z",
     "iopub.status.idle": "2024-05-20T13:51:13.837158Z",
     "shell.execute_reply": "2024-05-20T13:51:13.835394Z",
     "shell.execute_reply.started": "2024-05-20T13:51:13.711744Z"
    }
   },
   "outputs": [
    {
     "data": {
      "text/plain": [
       "717"
      ]
     },
     "execution_count": 108,
     "metadata": {},
     "output_type": "execute_result"
    }
   ],
   "source": [
    "len(keyword_counts)"
   ]
  },
  {
   "cell_type": "code",
   "execution_count": 109,
   "id": "3725d48e-99a7-4b8b-b176-4e71222f6a7b",
   "metadata": {
    "execution": {
     "iopub.execute_input": "2024-05-20T13:51:59.099244Z",
     "iopub.status.busy": "2024-05-20T13:51:59.098097Z",
     "iopub.status.idle": "2024-05-20T13:51:59.143298Z",
     "shell.execute_reply": "2024-05-20T13:51:59.142852Z",
     "shell.execute_reply.started": "2024-05-20T13:51:59.099193Z"
    }
   },
   "outputs": [
    {
     "data": {
      "text/plain": [
       "{'관리': 1, '서울': 1}"
      ]
     },
     "execution_count": 109,
     "metadata": {},
     "output_type": "execute_result"
    }
   ],
   "source": [
    "filtered_dict = {key: value for key, value in keyword_counts.items() if value > 0}\n",
    "filtered_dict"
   ]
  },
  {
   "cell_type": "code",
   "execution_count": 110,
   "id": "6f4b2322-fcf4-4aea-8098-c7c1a29e681d",
   "metadata": {
    "execution": {
     "iopub.execute_input": "2024-05-20T13:53:44.624878Z",
     "iopub.status.busy": "2024-05-20T13:53:44.622011Z",
     "iopub.status.idle": "2024-05-20T13:53:44.712804Z",
     "shell.execute_reply": "2024-05-20T13:53:44.712418Z",
     "shell.execute_reply.started": "2024-05-20T13:53:44.624840Z"
    }
   },
   "outputs": [],
   "source": [
    "df = cal.df_filtered.copy()"
   ]
  },
  {
   "cell_type": "markdown",
   "id": "3aa959f0-b23f-4c10-8d11-3f508dd10f35",
   "metadata": {
    "jp-MarkdownHeadingCollapsed": true
   },
   "source": [
    "#### count - table"
   ]
  },
  {
   "cell_type": "code",
   "execution_count": 146,
   "id": "e39d97d0-0dd7-4936-8f3b-3ccc3111a7de",
   "metadata": {
    "execution": {
     "iopub.execute_input": "2024-05-20T14:42:34.300564Z",
     "iopub.status.busy": "2024-05-20T14:42:34.299350Z",
     "iopub.status.idle": "2024-05-20T14:42:34.508905Z",
     "shell.execute_reply": "2024-05-20T14:42:34.508489Z",
     "shell.execute_reply.started": "2024-05-20T14:42:34.300516Z"
    }
   },
   "outputs": [],
   "source": [
    "df.loc[:, 'count'] = 0\n",
    "df.loc[:, 'found'] = ''\n",
    "df.loc[:, 'found_lv'] = ''\n",
    "# for index, row in df.iloc[:3].iterrows():\n",
    "for index, row in df.iterrows():\n",
    "    for column, value in row.items():\n",
    "        if isinstance(value, str) and len(value) > 0:\n",
    "            found = sa.re_findall(value, text)\n",
    "            count = len(found)\n",
    "            # ic(found, count)\n",
    "            if count > 0:\n",
    "                df.loc[index, 'count'] += count\n",
    "                existed_value = df.loc[index, 'found']\n",
    "                # df.loc[index, 'found'] = ','.join(found) if len(existed_value) == 0 else f\"{existed_value},{','.join(found)}\"\n",
    "                df.loc[index, 'found'] = ','.join(found)\n",
    "                df.loc[index, 'found_lv'] = cal.level_int[column]"
   ]
  },
  {
   "cell_type": "code",
   "execution_count": 138,
   "id": "5d78069b-e275-4458-ae06-07a667b8a287",
   "metadata": {
    "execution": {
     "iopub.execute_input": "2024-05-20T14:35:40.266751Z",
     "iopub.status.busy": "2024-05-20T14:35:40.265675Z",
     "iopub.status.idle": "2024-05-20T14:35:40.314909Z",
     "shell.execute_reply": "2024-05-20T14:35:40.314483Z",
     "shell.execute_reply.started": "2024-05-20T14:35:40.266711Z"
    }
   },
   "outputs": [
    {
     "data": {
      "text/plain": [
       "''"
      ]
     },
     "execution_count": 138,
     "metadata": {},
     "output_type": "execute_result"
    }
   ],
   "source": [
    "found = sa.re_findall(\"a\", \"bababa ba tototo to\")\n",
    "result = \",\".join(found)\n",
    "result"
   ]
  },
  {
   "cell_type": "code",
   "execution_count": 147,
   "id": "0cdf75c2-0cc0-49db-af09-e53fdf528de8",
   "metadata": {
    "execution": {
     "iopub.execute_input": "2024-05-20T14:42:36.418084Z",
     "iopub.status.busy": "2024-05-20T14:42:36.417430Z",
     "iopub.status.idle": "2024-05-20T14:42:36.474184Z",
     "shell.execute_reply": "2024-05-20T14:42:36.473717Z",
     "shell.execute_reply.started": "2024-05-20T14:42:36.418055Z"
    },
    "scrolled": true
   },
   "outputs": [
    {
     "data": {
      "text/html": [
       "<div>\n",
       "<style scoped>\n",
       "    .dataframe tbody tr th:only-of-type {\n",
       "        vertical-align: middle;\n",
       "    }\n",
       "\n",
       "    .dataframe tbody tr th {\n",
       "        vertical-align: top;\n",
       "    }\n",
       "\n",
       "    .dataframe thead th {\n",
       "        text-align: right;\n",
       "    }\n",
       "</style>\n",
       "<table border=\"1\" class=\"dataframe\">\n",
       "  <thead>\n",
       "    <tr style=\"text-align: right;\">\n",
       "      <th></th>\n",
       "      <th>lv0</th>\n",
       "      <th>lv1</th>\n",
       "      <th>lv2</th>\n",
       "      <th>lv3</th>\n",
       "      <th>lv4</th>\n",
       "      <th>lv5</th>\n",
       "      <th>count</th>\n",
       "      <th>found</th>\n",
       "      <th>found_lv</th>\n",
       "    </tr>\n",
       "  </thead>\n",
       "  <tbody>\n",
       "    <tr>\n",
       "      <th>2047</th>\n",
       "      <td>충남</td>\n",
       "      <td>충청남도</td>\n",
       "      <td>서천군</td>\n",
       "      <td>비인면</td>\n",
       "      <td>관리</td>\n",
       "      <td>NaN</td>\n",
       "      <td>1</td>\n",
       "      <td>관리</td>\n",
       "      <td>4</td>\n",
       "    </tr>\n",
       "    <tr>\n",
       "      <th>2838</th>\n",
       "      <td>충남</td>\n",
       "      <td>충청남도</td>\n",
       "      <td>태안군</td>\n",
       "      <td>이원면</td>\n",
       "      <td>관리</td>\n",
       "      <td>NaN</td>\n",
       "      <td>1</td>\n",
       "      <td>관리</td>\n",
       "      <td>4</td>\n",
       "    </tr>\n",
       "    <tr>\n",
       "      <th>4404</th>\n",
       "      <td>충북</td>\n",
       "      <td>충청북도</td>\n",
       "      <td>옥천군</td>\n",
       "      <td>이원면</td>\n",
       "      <td>관리</td>\n",
       "      <td>NaN</td>\n",
       "      <td>1</td>\n",
       "      <td>관리</td>\n",
       "      <td>4</td>\n",
       "    </tr>\n",
       "    <tr>\n",
       "      <th>4543</th>\n",
       "      <td>충북</td>\n",
       "      <td>충청북도</td>\n",
       "      <td>영동군</td>\n",
       "      <td>추풍령면</td>\n",
       "      <td>관리</td>\n",
       "      <td>NaN</td>\n",
       "      <td>1</td>\n",
       "      <td>관리</td>\n",
       "      <td>4</td>\n",
       "    </tr>\n",
       "    <tr>\n",
       "      <th>7732</th>\n",
       "      <td>경남</td>\n",
       "      <td>경상남도</td>\n",
       "      <td>하동군</td>\n",
       "      <td>적량면</td>\n",
       "      <td>관리</td>\n",
       "      <td>NaN</td>\n",
       "      <td>1</td>\n",
       "      <td>관리</td>\n",
       "      <td>4</td>\n",
       "    </tr>\n",
       "    <tr>\n",
       "      <th>...</th>\n",
       "      <td>...</td>\n",
       "      <td>...</td>\n",
       "      <td>...</td>\n",
       "      <td>...</td>\n",
       "      <td>...</td>\n",
       "      <td>...</td>\n",
       "      <td>...</td>\n",
       "      <td>...</td>\n",
       "      <td>...</td>\n",
       "    </tr>\n",
       "    <tr>\n",
       "      <th>28194</th>\n",
       "      <td>서울</td>\n",
       "      <td>서울특별시</td>\n",
       "      <td>강동구</td>\n",
       "      <td>둔촌동</td>\n",
       "      <td>None</td>\n",
       "      <td>NaN</td>\n",
       "      <td>1</td>\n",
       "      <td>서울</td>\n",
       "      <td>0</td>\n",
       "    </tr>\n",
       "    <tr>\n",
       "      <th>28195</th>\n",
       "      <td>서울</td>\n",
       "      <td>서울특별시</td>\n",
       "      <td>강동구</td>\n",
       "      <td>암사동</td>\n",
       "      <td>None</td>\n",
       "      <td>NaN</td>\n",
       "      <td>1</td>\n",
       "      <td>서울</td>\n",
       "      <td>0</td>\n",
       "    </tr>\n",
       "    <tr>\n",
       "      <th>28196</th>\n",
       "      <td>서울</td>\n",
       "      <td>서울특별시</td>\n",
       "      <td>강동구</td>\n",
       "      <td>성내동</td>\n",
       "      <td>None</td>\n",
       "      <td>NaN</td>\n",
       "      <td>1</td>\n",
       "      <td>서울</td>\n",
       "      <td>0</td>\n",
       "    </tr>\n",
       "    <tr>\n",
       "      <th>28197</th>\n",
       "      <td>서울</td>\n",
       "      <td>서울특별시</td>\n",
       "      <td>강동구</td>\n",
       "      <td>천호동</td>\n",
       "      <td>None</td>\n",
       "      <td>NaN</td>\n",
       "      <td>1</td>\n",
       "      <td>서울</td>\n",
       "      <td>0</td>\n",
       "    </tr>\n",
       "    <tr>\n",
       "      <th>28198</th>\n",
       "      <td>서울</td>\n",
       "      <td>서울특별시</td>\n",
       "      <td>강동구</td>\n",
       "      <td>강일동</td>\n",
       "      <td>None</td>\n",
       "      <td>NaN</td>\n",
       "      <td>1</td>\n",
       "      <td>서울</td>\n",
       "      <td>0</td>\n",
       "    </tr>\n",
       "  </tbody>\n",
       "</table>\n",
       "<p>693 rows × 9 columns</p>\n",
       "</div>"
      ],
      "text/plain": [
       "      lv0    lv1  lv2   lv3   lv4  lv5  count found found_lv\n",
       "2047   충남   충청남도  서천군   비인면    관리  NaN      1    관리        4\n",
       "2838   충남   충청남도  태안군   이원면    관리  NaN      1    관리        4\n",
       "4404   충북   충청북도  옥천군   이원면    관리  NaN      1    관리        4\n",
       "4543   충북   충청북도  영동군  추풍령면    관리  NaN      1    관리        4\n",
       "7732   경남   경상남도  하동군   적량면    관리  NaN      1    관리        4\n",
       "...    ..    ...  ...   ...   ...  ...    ...   ...      ...\n",
       "28194  서울  서울특별시  강동구   둔촌동  None  NaN      1    서울        0\n",
       "28195  서울  서울특별시  강동구   암사동  None  NaN      1    서울        0\n",
       "28196  서울  서울특별시  강동구   성내동  None  NaN      1    서울        0\n",
       "28197  서울  서울특별시  강동구   천호동  None  NaN      1    서울        0\n",
       "28198  서울  서울특별시  강동구   강일동  None  NaN      1    서울        0\n",
       "\n",
       "[693 rows x 9 columns]"
      ]
     },
     "execution_count": 147,
     "metadata": {},
     "output_type": "execute_result"
    }
   ],
   "source": [
    "df[df['count'] > 0]"
   ]
  },
  {
   "cell_type": "code",
   "execution_count": 115,
   "id": "0d352797-8503-45b8-b2d1-9a792df29aa7",
   "metadata": {
    "execution": {
     "iopub.execute_input": "2024-05-20T14:01:43.839941Z",
     "iopub.status.busy": "2024-05-20T14:01:43.837440Z",
     "iopub.status.idle": "2024-05-20T14:01:43.868561Z",
     "shell.execute_reply": "2024-05-20T14:01:43.868290Z",
     "shell.execute_reply.started": "2024-05-20T14:01:43.839904Z"
    }
   },
   "outputs": [
    {
     "data": {
      "text/html": [
       "<div>\n",
       "<style scoped>\n",
       "    .dataframe tbody tr th:only-of-type {\n",
       "        vertical-align: middle;\n",
       "    }\n",
       "\n",
       "    .dataframe tbody tr th {\n",
       "        vertical-align: top;\n",
       "    }\n",
       "\n",
       "    .dataframe thead th {\n",
       "        text-align: right;\n",
       "    }\n",
       "</style>\n",
       "<table border=\"1\" class=\"dataframe\">\n",
       "  <thead>\n",
       "    <tr style=\"text-align: right;\">\n",
       "      <th></th>\n",
       "      <th>lv0</th>\n",
       "      <th>lv1</th>\n",
       "      <th>lv2</th>\n",
       "      <th>lv3</th>\n",
       "      <th>lv4</th>\n",
       "      <th>lv5</th>\n",
       "    </tr>\n",
       "  </thead>\n",
       "  <tbody>\n",
       "    <tr>\n",
       "      <th>2047</th>\n",
       "      <td>충남</td>\n",
       "      <td>충청남도</td>\n",
       "      <td>서천군</td>\n",
       "      <td>비인면</td>\n",
       "      <td>관리</td>\n",
       "      <td>NaN</td>\n",
       "    </tr>\n",
       "    <tr>\n",
       "      <th>2838</th>\n",
       "      <td>충남</td>\n",
       "      <td>충청남도</td>\n",
       "      <td>태안군</td>\n",
       "      <td>이원면</td>\n",
       "      <td>관리</td>\n",
       "      <td>NaN</td>\n",
       "    </tr>\n",
       "    <tr>\n",
       "      <th>4404</th>\n",
       "      <td>충북</td>\n",
       "      <td>충청북도</td>\n",
       "      <td>옥천군</td>\n",
       "      <td>이원면</td>\n",
       "      <td>관리</td>\n",
       "      <td>NaN</td>\n",
       "    </tr>\n",
       "    <tr>\n",
       "      <th>4543</th>\n",
       "      <td>충북</td>\n",
       "      <td>충청북도</td>\n",
       "      <td>영동군</td>\n",
       "      <td>추풍령면</td>\n",
       "      <td>관리</td>\n",
       "      <td>NaN</td>\n",
       "    </tr>\n",
       "  </tbody>\n",
       "</table>\n",
       "</div>"
      ],
      "text/plain": [
       "     lv0   lv1  lv2   lv3 lv4  lv5\n",
       "2047  충남  충청남도  서천군   비인면  관리  NaN\n",
       "2838  충남  충청남도  태안군   이원면  관리  NaN\n",
       "4404  충북  충청북도  옥천군   이원면  관리  NaN\n",
       "4543  충북  충청북도  영동군  추풍령면  관리  NaN"
      ]
     },
     "execution_count": 115,
     "metadata": {},
     "output_type": "execute_result"
    }
   ],
   "source": [
    "df_addr.iloc[[2047, 2838, 4404, 4543]]"
   ]
  },
  {
   "cell_type": "markdown",
   "id": "cf60db8c-90ed-43c3-abfb-37d5fcf0f6c7",
   "metadata": {},
   "source": [
    "같은 동네 이름이 왜 이렇게 많아?  \n",
    "'관리'는 도대체 뭐야?  "
   ]
  },
  {
   "cell_type": "code",
   "execution_count": 150,
   "id": "0c8a9993-5ac6-43ad-a1a5-95139e61d56a",
   "metadata": {
    "execution": {
     "iopub.execute_input": "2024-05-20T14:51:27.355583Z",
     "iopub.status.busy": "2024-05-20T14:51:27.354479Z",
     "iopub.status.idle": "2024-05-20T14:51:27.881888Z",
     "shell.execute_reply": "2024-05-20T14:51:27.881445Z",
     "shell.execute_reply.started": "2024-05-20T14:51:27.355537Z"
    }
   },
   "outputs": [],
   "source": [
    "cal.make_count_table()"
   ]
  },
  {
   "cell_type": "code",
   "execution_count": 153,
   "id": "c129b8f6-3c30-49a5-8e2a-3769d912d802",
   "metadata": {
    "execution": {
     "iopub.execute_input": "2024-05-21T02:00:01.208624Z",
     "iopub.status.busy": "2024-05-21T02:00:01.206877Z",
     "iopub.status.idle": "2024-05-21T02:00:01.257847Z",
     "shell.execute_reply": "2024-05-21T02:00:01.257384Z",
     "shell.execute_reply.started": "2024-05-21T02:00:01.208583Z"
    }
   },
   "outputs": [],
   "source": [
    "df = cal.df_filtered.copy()"
   ]
  },
  {
   "cell_type": "code",
   "execution_count": 155,
   "id": "0cc1c499-d52b-49f7-8fb2-4e2e776c2e05",
   "metadata": {
    "execution": {
     "iopub.execute_input": "2024-05-21T02:16:30.879968Z",
     "iopub.status.busy": "2024-05-21T02:16:30.878138Z",
     "iopub.status.idle": "2024-05-21T02:16:31.072249Z",
     "shell.execute_reply": "2024-05-21T02:16:31.071924Z",
     "shell.execute_reply.started": "2024-05-21T02:16:30.879940Z"
    },
    "scrolled": true
   },
   "outputs": [
    {
     "data": {
      "text/html": [
       "<div>\n",
       "<style scoped>\n",
       "    .dataframe tbody tr th:only-of-type {\n",
       "        vertical-align: middle;\n",
       "    }\n",
       "\n",
       "    .dataframe tbody tr th {\n",
       "        vertical-align: top;\n",
       "    }\n",
       "\n",
       "    .dataframe thead th {\n",
       "        text-align: right;\n",
       "    }\n",
       "</style>\n",
       "<table border=\"1\" class=\"dataframe\">\n",
       "  <thead>\n",
       "    <tr style=\"text-align: right;\">\n",
       "      <th></th>\n",
       "      <th>lv0</th>\n",
       "      <th>lv1</th>\n",
       "      <th>lv2</th>\n",
       "      <th>lv3</th>\n",
       "      <th>lv4</th>\n",
       "      <th>lv5</th>\n",
       "      <th>count</th>\n",
       "      <th>found</th>\n",
       "      <th>found_lv</th>\n",
       "    </tr>\n",
       "  </thead>\n",
       "  <tbody>\n",
       "    <tr>\n",
       "      <th>2047</th>\n",
       "      <td>충남</td>\n",
       "      <td>충청남도</td>\n",
       "      <td>서천군</td>\n",
       "      <td>비인면</td>\n",
       "      <td>관리</td>\n",
       "      <td>NaN</td>\n",
       "      <td>1</td>\n",
       "      <td>관리</td>\n",
       "      <td>4</td>\n",
       "    </tr>\n",
       "    <tr>\n",
       "      <th>2838</th>\n",
       "      <td>충남</td>\n",
       "      <td>충청남도</td>\n",
       "      <td>태안군</td>\n",
       "      <td>이원면</td>\n",
       "      <td>관리</td>\n",
       "      <td>NaN</td>\n",
       "      <td>1</td>\n",
       "      <td>관리</td>\n",
       "      <td>4</td>\n",
       "    </tr>\n",
       "    <tr>\n",
       "      <th>4404</th>\n",
       "      <td>충북</td>\n",
       "      <td>충청북도</td>\n",
       "      <td>옥천군</td>\n",
       "      <td>이원면</td>\n",
       "      <td>관리</td>\n",
       "      <td>NaN</td>\n",
       "      <td>1</td>\n",
       "      <td>관리</td>\n",
       "      <td>4</td>\n",
       "    </tr>\n",
       "    <tr>\n",
       "      <th>4543</th>\n",
       "      <td>충북</td>\n",
       "      <td>충청북도</td>\n",
       "      <td>영동군</td>\n",
       "      <td>추풍령면</td>\n",
       "      <td>관리</td>\n",
       "      <td>NaN</td>\n",
       "      <td>1</td>\n",
       "      <td>관리</td>\n",
       "      <td>4</td>\n",
       "    </tr>\n",
       "    <tr>\n",
       "      <th>7732</th>\n",
       "      <td>경남</td>\n",
       "      <td>경상남도</td>\n",
       "      <td>하동군</td>\n",
       "      <td>적량면</td>\n",
       "      <td>관리</td>\n",
       "      <td>NaN</td>\n",
       "      <td>1</td>\n",
       "      <td>관리</td>\n",
       "      <td>4</td>\n",
       "    </tr>\n",
       "    <tr>\n",
       "      <th>12963</th>\n",
       "      <td>전남</td>\n",
       "      <td>전라남도</td>\n",
       "      <td>고흥군</td>\n",
       "      <td>도양읍</td>\n",
       "      <td>관리</td>\n",
       "      <td>NaN</td>\n",
       "      <td>1</td>\n",
       "      <td>관리</td>\n",
       "      <td>4</td>\n",
       "    </tr>\n",
       "    <tr>\n",
       "      <th>17778</th>\n",
       "      <td>경북</td>\n",
       "      <td>경상북도</td>\n",
       "      <td>영천시</td>\n",
       "      <td>북안면</td>\n",
       "      <td>관리</td>\n",
       "      <td>NaN</td>\n",
       "      <td>1</td>\n",
       "      <td>관리</td>\n",
       "      <td>4</td>\n",
       "    </tr>\n",
       "    <tr>\n",
       "      <th>18743</th>\n",
       "      <td>경북</td>\n",
       "      <td>경상북도</td>\n",
       "      <td>청송군</td>\n",
       "      <td>파천면</td>\n",
       "      <td>관리</td>\n",
       "      <td>NaN</td>\n",
       "      <td>1</td>\n",
       "      <td>관리</td>\n",
       "      <td>4</td>\n",
       "    </tr>\n",
       "    <tr>\n",
       "      <th>25954</th>\n",
       "      <td>경기</td>\n",
       "      <td>경기도</td>\n",
       "      <td>이천시</td>\n",
       "      <td>마장면</td>\n",
       "      <td>관리</td>\n",
       "      <td>NaN</td>\n",
       "      <td>1</td>\n",
       "      <td>관리</td>\n",
       "      <td>4</td>\n",
       "    </tr>\n",
       "    <tr>\n",
       "      <th>26366</th>\n",
       "      <td>경기</td>\n",
       "      <td>경기도</td>\n",
       "      <td>화성시</td>\n",
       "      <td>향남읍</td>\n",
       "      <td>관리</td>\n",
       "      <td>NaN</td>\n",
       "      <td>1</td>\n",
       "      <td>관리</td>\n",
       "      <td>4</td>\n",
       "    </tr>\n",
       "  </tbody>\n",
       "</table>\n",
       "</div>"
      ],
      "text/plain": [
       "      lv0   lv1  lv2   lv3 lv4  lv5  count found found_lv\n",
       "2047   충남  충청남도  서천군   비인면  관리  NaN      1    관리        4\n",
       "2838   충남  충청남도  태안군   이원면  관리  NaN      1    관리        4\n",
       "4404   충북  충청북도  옥천군   이원면  관리  NaN      1    관리        4\n",
       "4543   충북  충청북도  영동군  추풍령면  관리  NaN      1    관리        4\n",
       "7732   경남  경상남도  하동군   적량면  관리  NaN      1    관리        4\n",
       "12963  전남  전라남도  고흥군   도양읍  관리  NaN      1    관리        4\n",
       "17778  경북  경상북도  영천시   북안면  관리  NaN      1    관리        4\n",
       "18743  경북  경상북도  청송군   파천면  관리  NaN      1    관리        4\n",
       "25954  경기   경기도  이천시   마장면  관리  NaN      1    관리        4\n",
       "26366  경기   경기도  화성시   향남읍  관리  NaN      1    관리        4"
      ]
     },
     "execution_count": 155,
     "metadata": {},
     "output_type": "execute_result"
    }
   ],
   "source": [
    "df[df['found_lv'] > 2]"
   ]
  },
  {
   "cell_type": "markdown",
   "id": "dd6344e3-f6f6-488a-9279-4feca73966ef",
   "metadata": {},
   "source": [
    "### todo: checking upper levels"
   ]
  },
  {
   "cell_type": "code",
   "execution_count": 1,
   "id": "d85af349-e71d-4102-bcfb-bf350f926117",
   "metadata": {
    "execution": {
     "iopub.execute_input": "2024-05-23T06:08:11.708554Z",
     "iopub.status.busy": "2024-05-23T06:08:11.706236Z",
     "iopub.status.idle": "2024-05-23T06:08:11.757882Z",
     "shell.execute_reply": "2024-05-23T06:08:11.757538Z",
     "shell.execute_reply.started": "2024-05-23T06:08:11.708496Z"
    }
   },
   "outputs": [],
   "source": [
    "%load_ext autoreload"
   ]
  },
  {
   "cell_type": "code",
   "execution_count": 19,
   "id": "384fccc8-5576-40e0-aa4f-a2b4c8eca0f7",
   "metadata": {
    "execution": {
     "iopub.execute_input": "2024-05-23T06:42:53.407882Z",
     "iopub.status.busy": "2024-05-23T06:42:53.406190Z",
     "iopub.status.idle": "2024-05-23T06:42:53.579813Z",
     "shell.execute_reply": "2024-05-23T06:42:53.579511Z",
     "shell.execute_reply.started": "2024-05-23T06:42:53.407830Z"
    },
    "scrolled": true
   },
   "outputs": [],
   "source": [
    "%aimport utils.search_address"
   ]
  },
  {
   "cell_type": "code",
   "execution_count": 20,
   "id": "f81d42d4-e7ef-4f34-8ffd-2be011b31fe6",
   "metadata": {
    "execution": {
     "iopub.execute_input": "2024-05-23T06:42:53.580941Z",
     "iopub.status.busy": "2024-05-23T06:42:53.580842Z",
     "iopub.status.idle": "2024-05-23T06:42:54.077520Z",
     "shell.execute_reply": "2024-05-23T06:42:54.076934Z",
     "shell.execute_reply.started": "2024-05-23T06:42:53.580934Z"
    }
   },
   "outputs": [],
   "source": [
    "import pandas as pd \n",
    "import numpy as np\n",
    "import math\n",
    "import re\n",
    "\n",
    "from icecream import ic\n",
    "from tqdm.notebook import tqdm \n",
    "\n",
    "from utils.custom_utils import load_var, save_var\n",
    "from utils.webscraping import ArticleScraper\n",
    "from utils.search_address import CheckAddressLevels\n",
    "# from utils.search_address import clean_text, extract_sentences_with_keyword, mark_keyword\n",
    "import utils.search_address as sa\n",
    "\n",
    "from importlib import reload\n",
    "\n",
    "df_addr = pd.read_parquet('./address/df_addr.parquet.gzip')\n",
    "df_text = pd.read_parquet('./dataframe/flasher_hk_20130101_20220307.gzip')\n"
   ]
  },
  {
   "cell_type": "code",
   "execution_count": 21,
   "id": "206c6f01-08b0-47a9-b19a-4ad60bc9d3ac",
   "metadata": {
    "execution": {
     "iopub.execute_input": "2024-05-23T06:42:54.078687Z",
     "iopub.status.busy": "2024-05-23T06:42:54.078481Z",
     "iopub.status.idle": "2024-05-23T06:42:54.096306Z",
     "shell.execute_reply": "2024-05-23T06:42:54.095939Z",
     "shell.execute_reply.started": "2024-05-23T06:42:54.078674Z"
    }
   },
   "outputs": [],
   "source": [
    "%autoreload 2"
   ]
  },
  {
   "cell_type": "code",
   "execution_count": 5,
   "id": "1611c43a-7921-4904-a07d-03e4a8a8e00d",
   "metadata": {
    "execution": {
     "iopub.execute_input": "2024-05-23T06:01:19.103745Z",
     "iopub.status.busy": "2024-05-23T06:01:19.103586Z",
     "iopub.status.idle": "2024-05-23T06:01:19.118771Z",
     "shell.execute_reply": "2024-05-23T06:01:19.118384Z",
     "shell.execute_reply.started": "2024-05-23T06:01:19.103735Z"
    }
   },
   "outputs": [],
   "source": [
    "text = df_text.iloc[2]['content']\n",
    "text = sa.clean_text(text)"
   ]
  },
  {
   "cell_type": "markdown",
   "id": "54ea5aaa-e592-4176-beb8-0b1b7480c56a",
   "metadata": {
    "jp-MarkdownHeadingCollapsed": true
   },
   "source": [
    "#### warming-up"
   ]
  },
  {
   "cell_type": "code",
   "execution_count": 158,
   "id": "5d5a82b7-43a0-4a19-81c6-3d7f8cb8710c",
   "metadata": {
    "execution": {
     "iopub.execute_input": "2024-05-21T02:24:12.016365Z",
     "iopub.status.busy": "2024-05-21T02:24:12.014827Z",
     "iopub.status.idle": "2024-05-21T02:24:12.134976Z",
     "shell.execute_reply": "2024-05-21T02:24:12.134135Z",
     "shell.execute_reply.started": "2024-05-21T02:24:12.016315Z"
    }
   },
   "outputs": [
    {
     "data": {
      "text/html": [
       "<div>\n",
       "<style scoped>\n",
       "    .dataframe tbody tr th:only-of-type {\n",
       "        vertical-align: middle;\n",
       "    }\n",
       "\n",
       "    .dataframe tbody tr th {\n",
       "        vertical-align: top;\n",
       "    }\n",
       "\n",
       "    .dataframe thead th {\n",
       "        text-align: right;\n",
       "    }\n",
       "</style>\n",
       "<table border=\"1\" class=\"dataframe\">\n",
       "  <thead>\n",
       "    <tr style=\"text-align: right;\">\n",
       "      <th></th>\n",
       "      <th>name</th>\n",
       "      <th>level</th>\n",
       "      <th>count</th>\n",
       "    </tr>\n",
       "  </thead>\n",
       "  <tbody>\n",
       "  </tbody>\n",
       "</table>\n",
       "</div>"
      ],
      "text/plain": [
       "Empty DataFrame\n",
       "Columns: [name, level, count]\n",
       "Index: []"
      ]
     },
     "execution_count": 158,
     "metadata": {},
     "output_type": "execute_result"
    }
   ],
   "source": [
    "df_test = pd.DataFrame({'name':[], 'level':[], 'count':[]})\n",
    "df_test"
   ]
  },
  {
   "cell_type": "code",
   "execution_count": 164,
   "id": "7b5826b8-f42d-4036-bba7-4faa03bc8df9",
   "metadata": {
    "execution": {
     "iopub.execute_input": "2024-05-21T02:27:28.644737Z",
     "iopub.status.busy": "2024-05-21T02:27:28.643782Z",
     "iopub.status.idle": "2024-05-21T02:27:28.704856Z",
     "shell.execute_reply": "2024-05-21T02:27:28.704445Z",
     "shell.execute_reply.started": "2024-05-21T02:27:28.644700Z"
    }
   },
   "outputs": [
    {
     "data": {
      "text/html": [
       "<div>\n",
       "<style scoped>\n",
       "    .dataframe tbody tr th:only-of-type {\n",
       "        vertical-align: middle;\n",
       "    }\n",
       "\n",
       "    .dataframe tbody tr th {\n",
       "        vertical-align: top;\n",
       "    }\n",
       "\n",
       "    .dataframe thead th {\n",
       "        text-align: right;\n",
       "    }\n",
       "</style>\n",
       "<table border=\"1\" class=\"dataframe\">\n",
       "  <thead>\n",
       "    <tr style=\"text-align: right;\">\n",
       "      <th></th>\n",
       "      <th>name</th>\n",
       "      <th>level</th>\n",
       "      <th>count</th>\n",
       "    </tr>\n",
       "  </thead>\n",
       "  <tbody>\n",
       "  </tbody>\n",
       "</table>\n",
       "</div>"
      ],
      "text/plain": [
       "Empty DataFrame\n",
       "Columns: [name, level, count]\n",
       "Index: []"
      ]
     },
     "execution_count": 164,
     "metadata": {},
     "output_type": "execute_result"
    }
   ],
   "source": [
    "df_test.loc[:, list(df_test.columns)] = ''\n",
    "df_test"
   ]
  },
  {
   "cell_type": "code",
   "execution_count": 167,
   "id": "e6f70d19-e41c-4919-ae2d-ccb91e1e1dc5",
   "metadata": {
    "execution": {
     "iopub.execute_input": "2024-05-21T02:31:01.357821Z",
     "iopub.status.busy": "2024-05-21T02:31:01.356228Z",
     "iopub.status.idle": "2024-05-21T02:31:01.413713Z",
     "shell.execute_reply": "2024-05-21T02:31:01.412491Z",
     "shell.execute_reply.started": "2024-05-21T02:31:01.357763Z"
    }
   },
   "outputs": [
    {
     "data": {
      "text/html": [
       "<div>\n",
       "<style scoped>\n",
       "    .dataframe tbody tr th:only-of-type {\n",
       "        vertical-align: middle;\n",
       "    }\n",
       "\n",
       "    .dataframe tbody tr th {\n",
       "        vertical-align: top;\n",
       "    }\n",
       "\n",
       "    .dataframe thead th {\n",
       "        text-align: right;\n",
       "    }\n",
       "</style>\n",
       "<table border=\"1\" class=\"dataframe\">\n",
       "  <thead>\n",
       "    <tr style=\"text-align: right;\">\n",
       "      <th></th>\n",
       "      <th>name</th>\n",
       "      <th>level</th>\n",
       "      <th>count</th>\n",
       "    </tr>\n",
       "  </thead>\n",
       "  <tbody>\n",
       "    <tr>\n",
       "      <th>0</th>\n",
       "      <td>test</td>\n",
       "      <td>0</td>\n",
       "      <td>1</td>\n",
       "    </tr>\n",
       "    <tr>\n",
       "      <th>1</th>\n",
       "      <td>test</td>\n",
       "      <td>0</td>\n",
       "      <td>1</td>\n",
       "    </tr>\n",
       "  </tbody>\n",
       "</table>\n",
       "</div>"
      ],
      "text/plain": [
       "   name  level  count\n",
       "0  test      0      1\n",
       "1  test      0      1"
      ]
     },
     "execution_count": 167,
     "metadata": {},
     "output_type": "execute_result"
    }
   ],
   "source": [
    "df_test.loc[len(df_test.index)] = ['test', 0, 1]\n",
    "df_test"
   ]
  },
  {
   "cell_type": "code",
   "execution_count": 29,
   "id": "c803b44e-95fb-49fa-a9ef-27aeb8205e59",
   "metadata": {
    "execution": {
     "iopub.execute_input": "2024-05-21T03:03:03.734430Z",
     "iopub.status.busy": "2024-05-21T03:03:03.733150Z",
     "iopub.status.idle": "2024-05-21T03:03:03.797276Z",
     "shell.execute_reply": "2024-05-21T03:03:03.793917Z",
     "shell.execute_reply.started": "2024-05-21T03:03:03.734384Z"
    }
   },
   "outputs": [],
   "source": [
    "text = df_text.iloc[0]['content']\n",
    "text = sa.clean_text(text)"
   ]
  },
  {
   "cell_type": "code",
   "execution_count": 11,
   "id": "2d1e9591-b26a-442c-8717-5d7fcb7afeda",
   "metadata": {
    "execution": {
     "iopub.execute_input": "2024-05-21T02:43:45.464064Z",
     "iopub.status.busy": "2024-05-21T02:43:45.463534Z",
     "iopub.status.idle": "2024-05-21T02:43:48.540121Z",
     "shell.execute_reply": "2024-05-21T02:43:48.539590Z",
     "shell.execute_reply.started": "2024-05-21T02:43:45.464039Z"
    }
   },
   "outputs": [],
   "source": [
    "cal = CheckAddressLevels(df_address=df_addr, text=text)\n",
    "cal.process()"
   ]
  },
  {
   "cell_type": "code",
   "execution_count": 12,
   "id": "298a5344-2c0b-4c51-9ebc-8ee8a874f104",
   "metadata": {
    "execution": {
     "iopub.execute_input": "2024-05-21T02:43:55.692642Z",
     "iopub.status.busy": "2024-05-21T02:43:55.692374Z",
     "iopub.status.idle": "2024-05-21T02:43:55.747959Z",
     "shell.execute_reply": "2024-05-21T02:43:55.747630Z",
     "shell.execute_reply.started": "2024-05-21T02:43:55.692618Z"
    }
   },
   "outputs": [
    {
     "data": {
      "text/html": [
       "<div>\n",
       "<style scoped>\n",
       "    .dataframe tbody tr th:only-of-type {\n",
       "        vertical-align: middle;\n",
       "    }\n",
       "\n",
       "    .dataframe tbody tr th {\n",
       "        vertical-align: top;\n",
       "    }\n",
       "\n",
       "    .dataframe thead th {\n",
       "        text-align: right;\n",
       "    }\n",
       "</style>\n",
       "<table border=\"1\" class=\"dataframe\">\n",
       "  <thead>\n",
       "    <tr style=\"text-align: right;\">\n",
       "      <th></th>\n",
       "      <th>name</th>\n",
       "      <th>level</th>\n",
       "      <th>count</th>\n",
       "    </tr>\n",
       "  </thead>\n",
       "  <tbody>\n",
       "    <tr>\n",
       "      <th>0</th>\n",
       "      <td>관리</td>\n",
       "      <td>4</td>\n",
       "      <td>1</td>\n",
       "    </tr>\n",
       "    <tr>\n",
       "      <th>1</th>\n",
       "      <td>서울</td>\n",
       "      <td>0</td>\n",
       "      <td>1</td>\n",
       "    </tr>\n",
       "  </tbody>\n",
       "</table>\n",
       "</div>"
      ],
      "text/plain": [
       "  name  level  count\n",
       "0   관리      4      1\n",
       "1   서울      0      1"
      ]
     },
     "execution_count": 12,
     "metadata": {},
     "output_type": "execute_result"
    }
   ],
   "source": [
    "cal.df_brief"
   ]
  },
  {
   "cell_type": "markdown",
   "id": "aef647e2-ad23-4aae-80b9-7dc6806d5485",
   "metadata": {
    "jp-MarkdownHeadingCollapsed": true
   },
   "source": [
    "#### ask: count table"
   ]
  },
  {
   "cell_type": "code",
   "execution_count": 13,
   "id": "7aa8889e-d162-49c1-b9cb-b5c3617db759",
   "metadata": {
    "execution": {
     "iopub.execute_input": "2024-05-21T02:46:58.014354Z",
     "iopub.status.busy": "2024-05-21T02:46:58.012414Z",
     "iopub.status.idle": "2024-05-21T02:46:58.091313Z",
     "shell.execute_reply": "2024-05-21T02:46:58.090647Z",
     "shell.execute_reply.started": "2024-05-21T02:46:58.014315Z"
    }
   },
   "outputs": [],
   "source": [
    "import pandas as pd\n",
    "import numpy as np\n",
    "import re\n",
    "\n",
    "class DataProcessor:\n",
    "    def __init__(self, df_filtered, text, level_int):\n",
    "        self.df_filtered = df_filtered\n",
    "        self.text = text\n",
    "        self.level_int = level_int\n",
    "        self.address_set = set()\n",
    "        self.df_brief = pd.DataFrame(columns=['name', 'level', 'count'])\n",
    "    \n",
    "    def make_count_table(self):\n",
    "        df = self.df_filtered.copy()\n",
    "        df['count'] = 0\n",
    "        df[['found', 'found_lv']] = ''\n",
    "\n",
    "        new_rows = []\n",
    "\n",
    "        for index, row in df.iterrows():\n",
    "            for column, value in row.items():\n",
    "                if isinstance(value, str) and value:\n",
    "                    found = re.findall(value, self.text)\n",
    "                    count = len(found)\n",
    "                    if count > 0:\n",
    "                        df.at[index, 'count'] += count\n",
    "                        df.at[index, 'found'] = ','.join(found)\n",
    "                        df.at[index, 'found_lv'] = self.level_int[column]\n",
    "                        \n",
    "                        for item in found:\n",
    "                            if item not in self.address_set:\n",
    "                                self.address_set.add(item)\n",
    "                                new_rows.append([item, self.level_int[column], count])\n",
    "        \n",
    "        self.df_brief = pd.concat([self.df_brief, pd.DataFrame(new_rows, columns=['name', 'level', 'count'])], ignore_index=True)\n",
    "        self.df_filtered = df"
   ]
  },
  {
   "cell_type": "code",
   "execution_count": 15,
   "id": "15d1ee69-4a8d-4368-b79b-425af3a6c4bf",
   "metadata": {
    "execution": {
     "iopub.execute_input": "2024-05-21T02:50:50.375000Z",
     "iopub.status.busy": "2024-05-21T02:50:50.372135Z",
     "iopub.status.idle": "2024-05-21T02:50:50.610541Z",
     "shell.execute_reply": "2024-05-21T02:50:50.610284Z",
     "shell.execute_reply.started": "2024-05-21T02:50:50.374959Z"
    }
   },
   "outputs": [
    {
     "name": "stdout",
     "output_type": "stream",
     "text": [
      "          A         B  count              found found_lv\n",
      "0  pattern1                1           pattern1        1\n",
      "1  pattern2  pattern2      4  pattern2,pattern2        2\n",
      "2            pattern3      1           pattern3        2\n",
      "3  pattern4                1           pattern4        1\n",
      "................................................................................\n",
      "       name level count\n",
      "0  pattern1     1     1\n",
      "1  pattern2     1     2\n",
      "2  pattern3     2     1\n",
      "3  pattern4     1     1\n"
     ]
    }
   ],
   "source": [
    "# Example usage\n",
    "df_filtered = pd.DataFrame({\n",
    "    'A': ['pattern1', 'pattern2', '', 'pattern4'],\n",
    "    'B': ['', 'pattern2', 'pattern3', '']\n",
    "})\n",
    "text = 'pattern1 pattern2 pattern2 pattern3 pattern4'\n",
    "level_int = {'A': 1, 'B': 2}\n",
    "\n",
    "processor = DataProcessor(df_filtered, text, level_int)\n",
    "processor.make_count_table()\n",
    "\n",
    "print(processor.df_filtered)\n",
    "print(\".\" * 80)\n",
    "print(processor.df_brief)"
   ]
  },
  {
   "cell_type": "markdown",
   "id": "c8a86fee-9d6f-4b6f-ae13-6ee1d07d6f65",
   "metadata": {
    "jp-MarkdownHeadingCollapsed": true
   },
   "source": [
    "#### apply"
   ]
  },
  {
   "cell_type": "code",
   "execution_count": 28,
   "id": "ccd027cc-ce7a-48aa-be02-f117221effa1",
   "metadata": {
    "execution": {
     "iopub.execute_input": "2024-05-21T03:02:48.035073Z",
     "iopub.status.busy": "2024-05-21T03:02:48.033343Z",
     "iopub.status.idle": "2024-05-21T03:02:48.074786Z",
     "shell.execute_reply": "2024-05-21T03:02:48.074495Z",
     "shell.execute_reply.started": "2024-05-21T03:02:48.034995Z"
    }
   },
   "outputs": [
    {
     "data": {
      "text/plain": [
       "'pattern1 pattern2 pattern2 pattern3 pattern4'"
      ]
     },
     "execution_count": 28,
     "metadata": {},
     "output_type": "execute_result"
    }
   ],
   "source": [
    "text"
   ]
  },
  {
   "cell_type": "code",
   "execution_count": 30,
   "id": "fac1e463-d54d-4592-a0c0-9f0ba841b4d6",
   "metadata": {
    "execution": {
     "iopub.execute_input": "2024-05-21T03:03:20.093017Z",
     "iopub.status.busy": "2024-05-21T03:03:20.092106Z",
     "iopub.status.idle": "2024-05-21T03:03:23.236070Z",
     "shell.execute_reply": "2024-05-21T03:03:23.235743Z",
     "shell.execute_reply.started": "2024-05-21T03:03:20.092879Z"
    }
   },
   "outputs": [
    {
     "name": "stderr",
     "output_type": "stream",
     "text": [
      "ic| item: '관리'\n",
      "ic| item: '서울'\n"
     ]
    }
   ],
   "source": [
    "cal = CheckAddressLevels(df_address=df_addr, text=text)\n",
    "cal.process()"
   ]
  },
  {
   "cell_type": "code",
   "execution_count": 31,
   "id": "2ba92167-b409-4578-98ae-d1c715f81405",
   "metadata": {
    "execution": {
     "iopub.execute_input": "2024-05-21T03:03:24.534612Z",
     "iopub.status.busy": "2024-05-21T03:03:24.533891Z",
     "iopub.status.idle": "2024-05-21T03:03:24.577457Z",
     "shell.execute_reply": "2024-05-21T03:03:24.577130Z",
     "shell.execute_reply.started": "2024-05-21T03:03:24.534561Z"
    }
   },
   "outputs": [
    {
     "data": {
      "text/html": [
       "<div>\n",
       "<style scoped>\n",
       "    .dataframe tbody tr th:only-of-type {\n",
       "        vertical-align: middle;\n",
       "    }\n",
       "\n",
       "    .dataframe tbody tr th {\n",
       "        vertical-align: top;\n",
       "    }\n",
       "\n",
       "    .dataframe thead th {\n",
       "        text-align: right;\n",
       "    }\n",
       "</style>\n",
       "<table border=\"1\" class=\"dataframe\">\n",
       "  <thead>\n",
       "    <tr style=\"text-align: right;\">\n",
       "      <th></th>\n",
       "      <th>name</th>\n",
       "      <th>level</th>\n",
       "      <th>count</th>\n",
       "    </tr>\n",
       "  </thead>\n",
       "  <tbody>\n",
       "    <tr>\n",
       "      <th>0</th>\n",
       "      <td>관리</td>\n",
       "      <td>4</td>\n",
       "      <td>1</td>\n",
       "    </tr>\n",
       "    <tr>\n",
       "      <th>1</th>\n",
       "      <td>서울</td>\n",
       "      <td>0</td>\n",
       "      <td>1</td>\n",
       "    </tr>\n",
       "  </tbody>\n",
       "</table>\n",
       "</div>"
      ],
      "text/plain": [
       "  name level count\n",
       "0   관리     4     1\n",
       "1   서울     0     1"
      ]
     },
     "execution_count": 31,
     "metadata": {},
     "output_type": "execute_result"
    }
   ],
   "source": [
    "cal.df_brief"
   ]
  },
  {
   "cell_type": "markdown",
   "id": "fb52563c-3cbb-425a-9eef-d5cfaf31e498",
   "metadata": {
    "jp-MarkdownHeadingCollapsed": true
   },
   "source": [
    "#### get upper levels"
   ]
  },
  {
   "cell_type": "code",
   "execution_count": 34,
   "id": "e3351793-6832-4944-9244-4fdabd4d835c",
   "metadata": {
    "execution": {
     "iopub.execute_input": "2024-05-21T03:25:18.799379Z",
     "iopub.status.busy": "2024-05-21T03:25:18.797973Z",
     "iopub.status.idle": "2024-05-21T03:25:18.852874Z",
     "shell.execute_reply": "2024-05-21T03:25:18.852471Z",
     "shell.execute_reply.started": "2024-05-21T03:25:18.799301Z"
    }
   },
   "outputs": [
    {
     "data": {
      "text/plain": [
       "'name,level,count'"
      ]
     },
     "execution_count": 34,
     "metadata": {},
     "output_type": "execute_result"
    }
   ],
   "source": [
    "','.join(cal.df_brief.columns)"
   ]
  },
  {
   "cell_type": "code",
   "execution_count": 38,
   "id": "72545e4c-2c7a-49e1-8fde-c8451d34adc1",
   "metadata": {
    "execution": {
     "iopub.execute_input": "2024-05-21T03:29:47.599042Z",
     "iopub.status.busy": "2024-05-21T03:29:47.597864Z",
     "iopub.status.idle": "2024-05-21T03:29:47.659001Z",
     "shell.execute_reply": "2024-05-21T03:29:47.658695Z",
     "shell.execute_reply.started": "2024-05-21T03:29:47.598998Z"
    }
   },
   "outputs": [
    {
     "data": {
      "text/html": [
       "<div>\n",
       "<style scoped>\n",
       "    .dataframe tbody tr th:only-of-type {\n",
       "        vertical-align: middle;\n",
       "    }\n",
       "\n",
       "    .dataframe tbody tr th {\n",
       "        vertical-align: top;\n",
       "    }\n",
       "\n",
       "    .dataframe thead th {\n",
       "        text-align: right;\n",
       "    }\n",
       "</style>\n",
       "<table border=\"1\" class=\"dataframe\">\n",
       "  <thead>\n",
       "    <tr style=\"text-align: right;\">\n",
       "      <th></th>\n",
       "      <th>name</th>\n",
       "      <th>level</th>\n",
       "      <th>count</th>\n",
       "    </tr>\n",
       "  </thead>\n",
       "  <tbody>\n",
       "    <tr>\n",
       "      <th>0</th>\n",
       "      <td>관리</td>\n",
       "      <td>4</td>\n",
       "      <td>1</td>\n",
       "    </tr>\n",
       "  </tbody>\n",
       "</table>\n",
       "</div>"
      ],
      "text/plain": [
       "  name level count\n",
       "0   관리     4     1"
      ]
     },
     "execution_count": 38,
     "metadata": {},
     "output_type": "execute_result"
    }
   ],
   "source": [
    "df_upper = cal.df_brief[cal.df_brief['name'] == '관리']\n",
    "df_upper"
   ]
  },
  {
   "cell_type": "code",
   "execution_count": 43,
   "id": "4000a117-3608-4802-b132-1aecffe36fbf",
   "metadata": {
    "execution": {
     "iopub.execute_input": "2024-05-21T03:31:26.283837Z",
     "iopub.status.busy": "2024-05-21T03:31:26.282466Z",
     "iopub.status.idle": "2024-05-21T03:31:26.337013Z",
     "shell.execute_reply": "2024-05-21T03:31:26.336241Z",
     "shell.execute_reply.started": "2024-05-21T03:31:26.283774Z"
    }
   },
   "outputs": [
    {
     "data": {
      "text/html": [
       "<div>\n",
       "<style scoped>\n",
       "    .dataframe tbody tr th:only-of-type {\n",
       "        vertical-align: middle;\n",
       "    }\n",
       "\n",
       "    .dataframe tbody tr th {\n",
       "        vertical-align: top;\n",
       "    }\n",
       "\n",
       "    .dataframe thead th {\n",
       "        text-align: right;\n",
       "    }\n",
       "</style>\n",
       "<table border=\"1\" class=\"dataframe\">\n",
       "  <thead>\n",
       "    <tr style=\"text-align: right;\">\n",
       "      <th></th>\n",
       "      <th>name</th>\n",
       "      <th>level</th>\n",
       "      <th>count</th>\n",
       "    </tr>\n",
       "  </thead>\n",
       "  <tbody>\n",
       "    <tr>\n",
       "      <th>0</th>\n",
       "      <td>관리</td>\n",
       "      <td>4</td>\n",
       "      <td>2</td>\n",
       "    </tr>\n",
       "  </tbody>\n",
       "</table>\n",
       "</div>"
      ],
      "text/plain": [
       "  name level  count\n",
       "0   관리     4      2"
      ]
     },
     "execution_count": 43,
     "metadata": {},
     "output_type": "execute_result"
    }
   ],
   "source": [
    "df_upper.loc[:, 'count'] = 2\n",
    "df_upper"
   ]
  },
  {
   "cell_type": "code",
   "execution_count": 44,
   "id": "23b436b1-5efc-45c4-873b-9da2e5674e06",
   "metadata": {
    "execution": {
     "iopub.execute_input": "2024-05-21T03:31:48.544588Z",
     "iopub.status.busy": "2024-05-21T03:31:48.544038Z",
     "iopub.status.idle": "2024-05-21T03:31:48.601033Z",
     "shell.execute_reply": "2024-05-21T03:31:48.600762Z",
     "shell.execute_reply.started": "2024-05-21T03:31:48.544565Z"
    }
   },
   "outputs": [
    {
     "data": {
      "text/html": [
       "<div>\n",
       "<style scoped>\n",
       "    .dataframe tbody tr th:only-of-type {\n",
       "        vertical-align: middle;\n",
       "    }\n",
       "\n",
       "    .dataframe tbody tr th {\n",
       "        vertical-align: top;\n",
       "    }\n",
       "\n",
       "    .dataframe thead th {\n",
       "        text-align: right;\n",
       "    }\n",
       "</style>\n",
       "<table border=\"1\" class=\"dataframe\">\n",
       "  <thead>\n",
       "    <tr style=\"text-align: right;\">\n",
       "      <th></th>\n",
       "      <th>name</th>\n",
       "      <th>level</th>\n",
       "      <th>count</th>\n",
       "    </tr>\n",
       "  </thead>\n",
       "  <tbody>\n",
       "    <tr>\n",
       "      <th>0</th>\n",
       "      <td>관리</td>\n",
       "      <td>4</td>\n",
       "      <td>2</td>\n",
       "    </tr>\n",
       "  </tbody>\n",
       "</table>\n",
       "</div>"
      ],
      "text/plain": [
       "  name level  count\n",
       "0   관리     4      2"
      ]
     },
     "execution_count": 44,
     "metadata": {},
     "output_type": "execute_result"
    }
   ],
   "source": [
    "cal.df_brief = df_upper\n",
    "cal.df_brief"
   ]
  },
  {
   "cell_type": "code",
   "execution_count": 45,
   "id": "afe136c9-55d2-4856-ae3a-7144d42f4632",
   "metadata": {
    "execution": {
     "iopub.execute_input": "2024-05-21T03:33:32.838584Z",
     "iopub.status.busy": "2024-05-21T03:33:32.837125Z",
     "iopub.status.idle": "2024-05-21T03:33:36.155329Z",
     "shell.execute_reply": "2024-05-21T03:33:36.154790Z",
     "shell.execute_reply.started": "2024-05-21T03:33:32.838540Z"
    },
    "scrolled": true
   },
   "outputs": [
    {
     "name": "stderr",
     "output_type": "stream",
     "text": [
      "ic| item: '관리'\n"
     ]
    },
    {
     "ename": "AttributeError",
     "evalue": "'Series' object has no attribute 'columns'",
     "output_type": "error",
     "traceback": [
      "\u001b[0;31m---------------------------------------------------------------------------\u001b[0m",
      "\u001b[0;31mAttributeError\u001b[0m                            Traceback (most recent call last)",
      "\u001b[0;32m/var/folders/r0/w084nh2s0v3fstg3n70027500000gn/T/ipykernel_12461/1748505146.py\u001b[0m in \u001b[0;36m?\u001b[0;34m()\u001b[0m\n\u001b[1;32m      1\u001b[0m \u001b[0mcal\u001b[0m \u001b[0;34m=\u001b[0m \u001b[0mCheckAddressLevels\u001b[0m\u001b[0;34m(\u001b[0m\u001b[0mdf_address\u001b[0m\u001b[0;34m=\u001b[0m\u001b[0mdf_addr\u001b[0m\u001b[0;34m,\u001b[0m \u001b[0mtext\u001b[0m\u001b[0;34m=\u001b[0m\u001b[0mtext\u001b[0m\u001b[0;34m)\u001b[0m\u001b[0;34m\u001b[0m\u001b[0;34m\u001b[0m\u001b[0m\n\u001b[0;32m----> 2\u001b[0;31m \u001b[0mcal\u001b[0m\u001b[0;34m.\u001b[0m\u001b[0mprocess\u001b[0m\u001b[0;34m(\u001b[0m\u001b[0;34m)\u001b[0m\u001b[0;34m\u001b[0m\u001b[0;34m\u001b[0m\u001b[0m\n\u001b[0m",
      "\u001b[0;32m~/Workspace/scrape/geopy/utils/search_address.py\u001b[0m in \u001b[0;36m?\u001b[0;34m(self)\u001b[0m\n\u001b[1;32m    205\u001b[0m     \u001b[0;32mdef\u001b[0m \u001b[0mprocess\u001b[0m\u001b[0;34m(\u001b[0m\u001b[0mself\u001b[0m\u001b[0;34m)\u001b[0m\u001b[0;34m:\u001b[0m\u001b[0;34m\u001b[0m\u001b[0;34m\u001b[0m\u001b[0m\n\u001b[1;32m    206\u001b[0m         \u001b[0mself\u001b[0m\u001b[0;34m.\u001b[0m\u001b[0mdf_filtered\u001b[0m \u001b[0;34m=\u001b[0m \u001b[0mself\u001b[0m\u001b[0;34m.\u001b[0m\u001b[0mfilter_keyword\u001b[0m\u001b[0;34m(\u001b[0m\u001b[0mkeyword\u001b[0m\u001b[0;34m=\u001b[0m\u001b[0mself\u001b[0m\u001b[0;34m.\u001b[0m\u001b[0mtext\u001b[0m\u001b[0;34m)\u001b[0m\u001b[0;34m\u001b[0m\u001b[0;34m\u001b[0m\u001b[0m\n\u001b[0;32m--> 207\u001b[0;31m         \u001b[0mself\u001b[0m\u001b[0;34m.\u001b[0m\u001b[0mmake_count_table\u001b[0m\u001b[0;34m(\u001b[0m\u001b[0;34m)\u001b[0m\u001b[0;34m\u001b[0m\u001b[0;34m\u001b[0m\u001b[0m\n\u001b[0m\u001b[1;32m    208\u001b[0m         \u001b[0;31m# self.make_address_from_columns(self.df_filtered)\u001b[0m\u001b[0;34m\u001b[0m\u001b[0;34m\u001b[0m\u001b[0m\n\u001b[1;32m    209\u001b[0m         \u001b[0;31m# self.make_keyword_counts(address_set=self.address_set, text=self.text)\u001b[0m\u001b[0;34m\u001b[0m\u001b[0;34m\u001b[0m\u001b[0m\n\u001b[1;32m    210\u001b[0m         \u001b[0;31m# self.filtered_dict = {key: value for key, value in self.keyword_counts.items() if value > 0}\u001b[0m\u001b[0;34m\u001b[0m\u001b[0;34m\u001b[0m\u001b[0m\n",
      "\u001b[0;32m~/Workspace/scrape/geopy/utils/search_address.py\u001b[0m in \u001b[0;36m?\u001b[0;34m(self)\u001b[0m\n\u001b[1;32m     58\u001b[0m                                 \u001b[0mic\u001b[0m\u001b[0;34m(\u001b[0m\u001b[0mitem\u001b[0m\u001b[0;34m)\u001b[0m\u001b[0;34m\u001b[0m\u001b[0;34m\u001b[0m\u001b[0m\n\u001b[1;32m     59\u001b[0m                                 \u001b[0mself\u001b[0m\u001b[0;34m.\u001b[0m\u001b[0maddress_set\u001b[0m\u001b[0;34m.\u001b[0m\u001b[0madd\u001b[0m\u001b[0;34m(\u001b[0m\u001b[0mitem\u001b[0m\u001b[0;34m)\u001b[0m\u001b[0;34m\u001b[0m\u001b[0;34m\u001b[0m\u001b[0m\n\u001b[1;32m     60\u001b[0m                                 new_rows.append([\n\u001b[1;32m     61\u001b[0m                                     \u001b[0mitem\u001b[0m\u001b[0;34m,\u001b[0m \u001b[0mself\u001b[0m\u001b[0;34m.\u001b[0m\u001b[0mlevel_int\u001b[0m\u001b[0;34m[\u001b[0m\u001b[0mcolumn\u001b[0m\u001b[0;34m]\u001b[0m\u001b[0;34m,\u001b[0m \u001b[0mcount\u001b[0m\u001b[0;34m,\u001b[0m\u001b[0;34m\u001b[0m\u001b[0;34m\u001b[0m\u001b[0m\n\u001b[0;32m---> 62\u001b[0;31m                                     \u001b[0;34m','\u001b[0m\u001b[0;34m.\u001b[0m\u001b[0mjoin\u001b[0m\u001b[0;34m(\u001b[0m\u001b[0mrow\u001b[0m\u001b[0;34m.\u001b[0m\u001b[0mcolumns\u001b[0m\u001b[0;34m)\u001b[0m\u001b[0;34m\u001b[0m\u001b[0;34m\u001b[0m\u001b[0m\n\u001b[0m\u001b[1;32m     63\u001b[0m                                 ])\n\u001b[1;32m     64\u001b[0m                             \u001b[0;32melse\u001b[0m\u001b[0;34m:\u001b[0m\u001b[0;34m\u001b[0m\u001b[0;34m\u001b[0m\u001b[0m\n\u001b[1;32m     65\u001b[0m                                 \u001b[0mdf_upper\u001b[0m \u001b[0;34m=\u001b[0m \u001b[0mself\u001b[0m\u001b[0;34m.\u001b[0m\u001b[0mdf_brief\u001b[0m\u001b[0;34m[\u001b[0m\u001b[0mself\u001b[0m\u001b[0;34m.\u001b[0m\u001b[0mdf_brief\u001b[0m\u001b[0;34m[\u001b[0m\u001b[0;34m'name'\u001b[0m\u001b[0;34m]\u001b[0m \u001b[0;34m==\u001b[0m \u001b[0mitem\u001b[0m\u001b[0;34m]\u001b[0m\u001b[0;34m\u001b[0m\u001b[0;34m\u001b[0m\u001b[0m\n",
      "\u001b[0;32m~/.pyenv/versions/pml/lib/python3.11/site-packages/pandas/core/generic.py\u001b[0m in \u001b[0;36m?\u001b[0;34m(self, name)\u001b[0m\n\u001b[1;32m   6200\u001b[0m             \u001b[0;32mand\u001b[0m \u001b[0mname\u001b[0m \u001b[0;32mnot\u001b[0m \u001b[0;32min\u001b[0m \u001b[0mself\u001b[0m\u001b[0;34m.\u001b[0m\u001b[0m_accessors\u001b[0m\u001b[0;34m\u001b[0m\u001b[0;34m\u001b[0m\u001b[0m\n\u001b[1;32m   6201\u001b[0m             \u001b[0;32mand\u001b[0m \u001b[0mself\u001b[0m\u001b[0;34m.\u001b[0m\u001b[0m_info_axis\u001b[0m\u001b[0;34m.\u001b[0m\u001b[0m_can_hold_identifiers_and_holds_name\u001b[0m\u001b[0;34m(\u001b[0m\u001b[0mname\u001b[0m\u001b[0;34m)\u001b[0m\u001b[0;34m\u001b[0m\u001b[0;34m\u001b[0m\u001b[0m\n\u001b[1;32m   6202\u001b[0m         ):\n\u001b[1;32m   6203\u001b[0m             \u001b[0;32mreturn\u001b[0m \u001b[0mself\u001b[0m\u001b[0;34m[\u001b[0m\u001b[0mname\u001b[0m\u001b[0;34m]\u001b[0m\u001b[0;34m\u001b[0m\u001b[0;34m\u001b[0m\u001b[0m\n\u001b[0;32m-> 6204\u001b[0;31m         \u001b[0;32mreturn\u001b[0m \u001b[0mobject\u001b[0m\u001b[0;34m.\u001b[0m\u001b[0m__getattribute__\u001b[0m\u001b[0;34m(\u001b[0m\u001b[0mself\u001b[0m\u001b[0;34m,\u001b[0m \u001b[0mname\u001b[0m\u001b[0;34m)\u001b[0m\u001b[0;34m\u001b[0m\u001b[0;34m\u001b[0m\u001b[0m\n\u001b[0m",
      "\u001b[0;31mAttributeError\u001b[0m: 'Series' object has no attribute 'columns'"
     ]
    }
   ],
   "source": [
    "cal = CheckAddressLevels(df_address=df_addr, text=text)\n",
    "cal.process()"
   ]
  },
  {
   "cell_type": "markdown",
   "id": "9aa0b7a4-06b2-437a-8c1e-e46bf93ac809",
   "metadata": {},
   "source": [
    "Series 에서 컬럼 이름을 어떻게 알 수 있지?"
   ]
  },
  {
   "cell_type": "code",
   "execution_count": 48,
   "id": "fb84bc8c-d8e2-4358-9db3-8aca7fedf8f7",
   "metadata": {
    "execution": {
     "iopub.execute_input": "2024-05-21T03:37:53.432572Z",
     "iopub.status.busy": "2024-05-21T03:37:53.431695Z",
     "iopub.status.idle": "2024-05-21T03:37:53.496701Z",
     "shell.execute_reply": "2024-05-21T03:37:53.495990Z",
     "shell.execute_reply.started": "2024-05-21T03:37:53.432501Z"
    }
   },
   "outputs": [
    {
     "data": {
      "text/plain": [
       "Index(['name', 'level', 'count'], dtype='object')"
      ]
     },
     "execution_count": 48,
     "metadata": {},
     "output_type": "execute_result"
    }
   ],
   "source": [
    "df_upper.iloc[0].index"
   ]
  },
  {
   "cell_type": "code",
   "execution_count": 54,
   "id": "db7ccb6f-3906-43bd-903f-241b0c3fed01",
   "metadata": {
    "execution": {
     "iopub.execute_input": "2024-05-21T03:39:37.685408Z",
     "iopub.status.busy": "2024-05-21T03:39:37.684357Z",
     "iopub.status.idle": "2024-05-21T03:39:41.340842Z",
     "shell.execute_reply": "2024-05-21T03:39:41.340387Z",
     "shell.execute_reply.started": "2024-05-21T03:39:37.685364Z"
    }
   },
   "outputs": [
    {
     "name": "stderr",
     "output_type": "stream",
     "text": [
      "ic| item: '관리'\n",
      "ic| item: '서울'\n"
     ]
    }
   ],
   "source": [
    "cal = CheckAddressLevels(df_address=df_addr, text=text)\n",
    "cal.process()"
   ]
  },
  {
   "cell_type": "code",
   "execution_count": 56,
   "id": "a80edf7a-df64-490a-9ef3-51fb9303e390",
   "metadata": {
    "execution": {
     "iopub.execute_input": "2024-05-21T03:40:10.886466Z",
     "iopub.status.busy": "2024-05-21T03:40:10.885246Z",
     "iopub.status.idle": "2024-05-21T03:40:10.978594Z",
     "shell.execute_reply": "2024-05-21T03:40:10.978069Z",
     "shell.execute_reply.started": "2024-05-21T03:40:10.886425Z"
    }
   },
   "outputs": [
    {
     "data": {
      "text/html": [
       "<div>\n",
       "<style scoped>\n",
       "    .dataframe tbody tr th:only-of-type {\n",
       "        vertical-align: middle;\n",
       "    }\n",
       "\n",
       "    .dataframe tbody tr th {\n",
       "        vertical-align: top;\n",
       "    }\n",
       "\n",
       "    .dataframe thead th {\n",
       "        text-align: right;\n",
       "    }\n",
       "</style>\n",
       "<table border=\"1\" class=\"dataframe\">\n",
       "  <thead>\n",
       "    <tr style=\"text-align: right;\">\n",
       "      <th></th>\n",
       "      <th>name</th>\n",
       "      <th>level</th>\n",
       "      <th>count</th>\n",
       "      <th>upper</th>\n",
       "    </tr>\n",
       "  </thead>\n",
       "  <tbody>\n",
       "    <tr>\n",
       "      <th>0</th>\n",
       "      <td>관리</td>\n",
       "      <td>4</td>\n",
       "      <td>1</td>\n",
       "      <td>lv0,lv1,lv2,lv3,lv4,lv5,count,found,found_lv</td>\n",
       "    </tr>\n",
       "    <tr>\n",
       "      <th>1</th>\n",
       "      <td>서울</td>\n",
       "      <td>0</td>\n",
       "      <td>1</td>\n",
       "      <td>lv0,lv1,lv2,lv3,lv4,lv5,count,found,found_lv</td>\n",
       "    </tr>\n",
       "  </tbody>\n",
       "</table>\n",
       "</div>"
      ],
      "text/plain": [
       "  name level count                                         upper\n",
       "0   관리     4     1  lv0,lv1,lv2,lv3,lv4,lv5,count,found,found_lv\n",
       "1   서울     0     1  lv0,lv1,lv2,lv3,lv4,lv5,count,found,found_lv"
      ]
     },
     "execution_count": 56,
     "metadata": {},
     "output_type": "execute_result"
    }
   ],
   "source": [
    "cal.df_brief"
   ]
  },
  {
   "cell_type": "markdown",
   "id": "a5763aa3-91aa-4dfd-aae9-93d0aabd0236",
   "metadata": {},
   "source": [
    "아, 컬럼 이름이 아니지.  \n",
    "컬럼 값이구나.  "
   ]
  },
  {
   "cell_type": "code",
   "execution_count": 57,
   "id": "277b76e4-212a-4075-8431-ee9fad0a5563",
   "metadata": {
    "execution": {
     "iopub.execute_input": "2024-05-21T03:40:51.199519Z",
     "iopub.status.busy": "2024-05-21T03:40:51.197800Z",
     "iopub.status.idle": "2024-05-21T03:40:51.245807Z",
     "shell.execute_reply": "2024-05-21T03:40:51.245515Z",
     "shell.execute_reply.started": "2024-05-21T03:40:51.199464Z"
    }
   },
   "outputs": [
    {
     "data": {
      "text/plain": [
       "array(['관리', 4, 2], dtype=object)"
      ]
     },
     "execution_count": 57,
     "metadata": {},
     "output_type": "execute_result"
    }
   ],
   "source": [
    "df_upper.iloc[0].values"
   ]
  },
  {
   "cell_type": "code",
   "execution_count": 58,
   "id": "d50e64d5-2858-4083-824b-f048a0f3b609",
   "metadata": {
    "execution": {
     "iopub.execute_input": "2024-05-21T03:43:14.775581Z",
     "iopub.status.busy": "2024-05-21T03:43:14.773102Z",
     "iopub.status.idle": "2024-05-21T03:43:15.161787Z",
     "shell.execute_reply": "2024-05-21T03:43:15.160619Z",
     "shell.execute_reply.started": "2024-05-21T03:43:14.775537Z"
    }
   },
   "outputs": [
    {
     "data": {
      "text/plain": [
       "{2, 4, '관리'}"
      ]
     },
     "execution_count": 58,
     "metadata": {},
     "output_type": "execute_result"
    }
   ],
   "source": [
    "values_set = set(df_upper.iloc[0].values)\n",
    "values_set"
   ]
  },
  {
   "cell_type": "code",
   "execution_count": 62,
   "id": "3fae4369-6681-4ddc-a5fe-2da0592d3993",
   "metadata": {
    "execution": {
     "iopub.execute_input": "2024-05-21T03:44:15.968205Z",
     "iopub.status.busy": "2024-05-21T03:44:15.965556Z",
     "iopub.status.idle": "2024-05-21T03:44:16.026837Z",
     "shell.execute_reply": "2024-05-21T03:44:16.026528Z",
     "shell.execute_reply.started": "2024-05-21T03:44:15.967782Z"
    }
   },
   "outputs": [
    {
     "data": {
      "text/plain": [
       "{2, 4, '관리'}"
      ]
     },
     "execution_count": 62,
     "metadata": {},
     "output_type": "execute_result"
    }
   ],
   "source": [
    "values_set.update([2, 4, 2, 4])\n",
    "values_set"
   ]
  },
  {
   "cell_type": "code",
   "execution_count": 65,
   "id": "0937bf30-99df-4fa2-9ff6-e1ce7dddfd49",
   "metadata": {
    "execution": {
     "iopub.execute_input": "2024-05-21T03:46:01.712597Z",
     "iopub.status.busy": "2024-05-21T03:46:01.711371Z",
     "iopub.status.idle": "2024-05-21T03:46:01.760287Z",
     "shell.execute_reply": "2024-05-21T03:46:01.759937Z",
     "shell.execute_reply.started": "2024-05-21T03:46:01.712540Z"
    }
   },
   "outputs": [
    {
     "data": {
      "text/plain": [
       "array([['관리', 4, 1, 'lv0,lv1,lv2,lv3,lv4,lv5,count,found,found_lv']],\n",
       "      dtype=object)"
      ]
     },
     "execution_count": 65,
     "metadata": {},
     "output_type": "execute_result"
    }
   ],
   "source": [
    "cal.df_brief[cal.df_brief['name'] == '관리'].values"
   ]
  },
  {
   "cell_type": "code",
   "execution_count": 68,
   "id": "d1c9d81c-5cfc-426a-a247-1c309b1d4aa3",
   "metadata": {
    "execution": {
     "iopub.execute_input": "2024-05-21T03:49:09.012383Z",
     "iopub.status.busy": "2024-05-21T03:49:09.010200Z",
     "iopub.status.idle": "2024-05-21T03:49:09.061066Z",
     "shell.execute_reply": "2024-05-21T03:49:09.059222Z",
     "shell.execute_reply.started": "2024-05-21T03:49:09.012343Z"
    }
   },
   "outputs": [
    {
     "data": {
      "text/plain": [
       "['관리', '2', '4']"
      ]
     },
     "execution_count": 68,
     "metadata": {},
     "output_type": "execute_result"
    }
   ],
   "source": [
    "[item if isinstance(item, str) else str(item) for item in values_set]"
   ]
  },
  {
   "cell_type": "markdown",
   "id": "ed97b403-4d71-4d1b-998a-99df1e275e17",
   "metadata": {
    "jp-MarkdownHeadingCollapsed": true
   },
   "source": [
    "#### dataframe: df_brief"
   ]
  },
  {
   "cell_type": "code",
   "execution_count": 6,
   "id": "24eb2048-0dab-4075-ba85-215bdd5addef",
   "metadata": {
    "execution": {
     "iopub.execute_input": "2024-05-21T05:21:59.539367Z",
     "iopub.status.busy": "2024-05-21T05:21:59.538283Z",
     "iopub.status.idle": "2024-05-21T05:21:59.589280Z",
     "shell.execute_reply": "2024-05-21T05:21:59.588959Z",
     "shell.execute_reply.started": "2024-05-21T05:21:59.539331Z"
    }
   },
   "outputs": [],
   "source": [
    "text = df_text.iloc[0]['content']\n",
    "text = sa.clean_text(text)"
   ]
  },
  {
   "cell_type": "code",
   "execution_count": 7,
   "id": "6d5f33da-1a0b-4f3d-af7c-ba6f54580e18",
   "metadata": {
    "execution": {
     "iopub.execute_input": "2024-05-21T05:22:00.422855Z",
     "iopub.status.busy": "2024-05-21T05:22:00.417322Z",
     "iopub.status.idle": "2024-05-21T05:22:03.675351Z",
     "shell.execute_reply": "2024-05-21T05:22:03.674769Z",
     "shell.execute_reply.started": "2024-05-21T05:22:00.422613Z"
    },
    "scrolled": true
   },
   "outputs": [],
   "source": [
    "self = CheckAddressLevels(df_address=df_addr, text=text)\n",
    "self.process()"
   ]
  },
  {
   "cell_type": "code",
   "execution_count": 8,
   "id": "e44db09e-0b85-49be-ae30-f725cdea3179",
   "metadata": {
    "execution": {
     "iopub.execute_input": "2024-05-21T05:22:16.262010Z",
     "iopub.status.busy": "2024-05-21T05:22:16.260565Z",
     "iopub.status.idle": "2024-05-21T05:22:16.320339Z",
     "shell.execute_reply": "2024-05-21T05:22:16.320037Z",
     "shell.execute_reply.started": "2024-05-21T05:22:16.261953Z"
    }
   },
   "outputs": [
    {
     "data": {
      "text/html": [
       "<div>\n",
       "<style scoped>\n",
       "    .dataframe tbody tr th:only-of-type {\n",
       "        vertical-align: middle;\n",
       "    }\n",
       "\n",
       "    .dataframe tbody tr th {\n",
       "        vertical-align: top;\n",
       "    }\n",
       "\n",
       "    .dataframe thead th {\n",
       "        text-align: right;\n",
       "    }\n",
       "</style>\n",
       "<table border=\"1\" class=\"dataframe\">\n",
       "  <thead>\n",
       "    <tr style=\"text-align: right;\">\n",
       "      <th></th>\n",
       "      <th>name</th>\n",
       "      <th>level</th>\n",
       "      <th>count</th>\n",
       "      <th>upper</th>\n",
       "    </tr>\n",
       "  </thead>\n",
       "  <tbody>\n",
       "    <tr>\n",
       "      <th>0</th>\n",
       "      <td>관리</td>\n",
       "      <td>4</td>\n",
       "      <td>1</td>\n",
       "      <td>북안면,적량면,영천시,청송군,충북,충청남도,경기도,경상남도,이원면,태안군,전라남도,...</td>\n",
       "    </tr>\n",
       "    <tr>\n",
       "      <th>1</th>\n",
       "      <td>서울</td>\n",
       "      <td>0</td>\n",
       "      <td>1</td>\n",
       "      <td>현석동,삼선동2가,당산동3가,구완동,의주로2가,천호동,시흥동,북창동,신흥동2가,동숭...</td>\n",
       "    </tr>\n",
       "  </tbody>\n",
       "</table>\n",
       "</div>"
      ],
      "text/plain": [
       "  name level count                                              upper\n",
       "0   관리     4     1  북안면,적량면,영천시,청송군,충북,충청남도,경기도,경상남도,이원면,태안군,전라남도,...\n",
       "1   서울     0     1  현석동,삼선동2가,당산동3가,구완동,의주로2가,천호동,시흥동,북창동,신흥동2가,동숭..."
      ]
     },
     "execution_count": 8,
     "metadata": {},
     "output_type": "execute_result"
    }
   ],
   "source": [
    "self.df_brief"
   ]
  },
  {
   "cell_type": "code",
   "execution_count": 11,
   "id": "81a53c85-a7b2-41b9-a4d0-d3de06582932",
   "metadata": {
    "execution": {
     "iopub.execute_input": "2024-05-21T05:23:27.758208Z",
     "iopub.status.busy": "2024-05-21T05:23:27.757120Z",
     "iopub.status.idle": "2024-05-21T05:23:27.807663Z",
     "shell.execute_reply": "2024-05-21T05:23:27.806953Z",
     "shell.execute_reply.started": "2024-05-21T05:23:27.758165Z"
    }
   },
   "outputs": [
    {
     "data": {
      "text/plain": [
       "'북안면,적량면,영천시,청송군,충북,충청남도,경기도,경상남도,이원면,태안군,전라남도,옥천군,충청북도,전남,향남읍,비인면,추풍령면,경남,도양읍,영동군,하동군,충남,이천시,마장면,파천면,경상북도,경북,화성시,서천군,고흥군,관리,경기'"
      ]
     },
     "execution_count": 11,
     "metadata": {},
     "output_type": "execute_result"
    }
   ],
   "source": [
    "self.df_brief.loc[0, 'upper']"
   ]
  },
  {
   "cell_type": "code",
   "execution_count": 12,
   "id": "a0fe2c29-6f6a-42ca-b8ee-d46d7fce781f",
   "metadata": {
    "execution": {
     "iopub.execute_input": "2024-05-21T05:23:51.930221Z",
     "iopub.status.busy": "2024-05-21T05:23:51.927291Z",
     "iopub.status.idle": "2024-05-21T05:23:52.040137Z",
     "shell.execute_reply": "2024-05-21T05:23:52.021689Z",
     "shell.execute_reply.started": "2024-05-21T05:23:51.930117Z"
    },
    "scrolled": true
   },
   "outputs": [
    {
     "data": {
      "text/plain": [
       "'현석동,삼선동2가,당산동3가,구완동,의주로2가,천호동,시흥동,북창동,신흥동2가,동숭동,을지로7가,남포동1가,상월곡동,정릉동,해안동3가,눌차동,양평동3가,구수동,홍파동,명륜1가,누하동,도봉동,주교동,남대문로2가,해안동1가,양화동,율목동,부평동4가,개봉동,갈월동,금호동3가,녹번동,서울특별시,신공덕동,천왕동,대림동,문래동5가,동산동,서대문구,일원동,필운동,교북동,동선동1가,상계동,수동,동광동1가,계산동2가,충정로2가,중동,원효로1가,부평동1가,북가좌동,창선동2가,대조동,동작구,역삼동,미음동,영등포동2가,우이동,명동2가,동소문동1가,가리봉동,저동1가,구의동,효자동,용동,명륜4가,양평동2가,운북동,통의동,제기동,회현동3가,미근동,마천동,명동1가,갈현동,목달동,항동,남포동4가,석관동,잠원동,이화동,생곡동,상암동,동자동,당산동6가,을지로5가,오쇠동,다운동,문래동2가,하월곡동,궁동,통인동,부사동,혜화동,오장동,충무로2가,대신동,호동,송월동3가,영등포동3가,안영동,소격동,송학동3가,이태원동,행당동,도원동,중구,시장북로,충무로1가,신대방동,면목동,문배동,광진구,성안동,성수동2가,항동1가,미아동,암사동,신계동,서계동,도렴동,구산동,무학동,문래동6가,송파동,순화동,길동,경운동,중림동,회현동2가,종로구,동소문동5가,도화동,어남동,수송동,사당동,종로2가,도선동,동소문동2가,양평동6가,수유동,서야동,삼성동,익선동,송월동,답동,영등포동8가,용산동3가,중앙동3가,을지로1가,신생동,장사동,신수동,용산동4가,양평동1가,적선동,서울,동문동,인사동,보문동2가,염리동,등촌동,석촌동,동소문동7가,보수동3가,원효로4가,송월동1가,구랑동,을지로4가,신길동,태화동,원효로2가,청암동,삼덕동1가,종로6가,성남동,대창동2가,북성동1가,은평구,연건동,삼선동1가,문래동3가,홍익동,대창동1가,번동,신창동,안암동2가,태평동,장충동1가,남창동,유천동,신창동1가,옥교동,옥천동,공항동,삼선동4가,관수동,서초동,항동2가,오곡동,누상동,필동3가,청파동1가,용덕동,북정동,방산동,남대문로3가,장교동,한남동,소공동,광장동,안암동5가,본동,남현동,망우동,증산동,완전동,금호동1가,보문동1가,논현동,성동구,봉래동1가,영등포동7가,동소문동6가,남대문로4가,남산동,사일동,송학동1가,토정동,문화동,냉천동,무악동,신교동,신월동,영등포구,청운동,남포동2가,남포동6가,청파동3가,도림동,남대문로1가,중랑구,태평로1가,송월동2가,상도동,무수동,견지동,삼선동3가,보문동6가,동선동,방학동,강북구,신촌동,풍납동,무교동,상덕동,연남동,궁정동,서동,용산동6가,종로3가,중앙동2가,광희동2가,대청동2가,충무로4가,죽림동,남외동,대방동,동성로2가,충정로3가,관동1가,신당동,영주동,당산동5가,오류동,청파동2가,양천구,봉원동,홍은동,황학동,동광동2가,문정동,봉래동2가,가산동,효창동,쌍림동,만리동1가,동인동3가,유동,상도1동,동광동5가,서내동,능동,동소문동3가,자양동,종암동,항동5가,용강동,덕산동,침산동,불광동,도곡동,권농동,봉림동,화동,명륜2가,운서동,수서동,동일동,종로5가,남대문로5가,서문로1가,달성동,강동구,운남동,연지동,흥인동,방화동,중촌동,망원동,신창동2가,충무로3가,개화동,후암동,당산동,금동,성산동,당인동,창신동,서소문동,대청동4가,아현동,묵동,신정동,원지동,청담동,이촌동,삼덕동2가,신포동,명륜3가,항동4가,남성로,동인동2가,장충동2가,천성동,동인동4가,인현동,보수동1가,공평동,노고산동,용산동1가,계산동1가,신호동,송학동2가,인현동2가,산천동,팔판동,인교동,안암동1가,원효로3가,낙원동,삼각동,우정동,평창동,동성로3가,안국동,효제동,수창동,용두동,전동,사동,옥수동,북성로2가,북내동,예장동,염곡동,창동,교남동,안암동3가,방이동,금호동2가,상봉동,신천동,학산동,청량리동,역촌동,예지동,을지로2가,충신동,상일동,삼선동5가,원남동,노원구,서성로2가,강남구,동선동4가,관훈동,정생동,한강로3가,남영동,양평동5가,남가좌동,장지동,중앙동4가,답십리동,삼전동,내동,장안동,신창동4가,주자동,옥계동,가양동,한강로1가,광희동1가,관동3가,마포동,재동,무의동,봉산동,동광동4가,원서동,신도림동,신문로1가,신창동3가,남북동,중학동,운니동,대청동3가,용산동5가,관악구,수하동,광복동2가,남포동5가,식만동,계동,홍지동,신흥동1가,압구정동,선화동,우면동,하중동,휘경동,녹산동,태평로3가,신문로2가,사근동,보문동7가,행촌동,중산동,반구동,중앙동7가,상왕십리동,을왕동,항동7가,동교동,경동,대저1동,동성로1가,삼청동,영등포동5가,상서동,태평로2가,필동2가,신림동,입정동,해안동4가,응봉동,둔촌동,양평동4가,종로1가,구기동,을지로3가,서빙고동,문래동1가,서성로1가,청진동,봉익동,쌍문동,성북구,송파구,오금동,중앙동6가,고척동,반포동,남산동1가,광복동3가,부암동,대안동,성내동,남학동,구로구,약사동,보광동,덕교동,중곡동,대봉동,만리동2가,상수동,보문동5가,내발산동,명지동,동소문동4가,죽동동,영천동,내자동,염창동,산성동,영등포동6가,북성동3가,향촌동,북성동2가,항동3가,송현동,산림동,포정동,대항동,명일동,장위동,숭인동,동작동,신흥동3가,문창동,복산동,필동1가,훈정동,충정로1가,회기동,도봉구,해안동2가,학성동,중계동,동동,문래동4가,사간동,한강로2가,성수동1가,창천동,송정동,중앙동1가,대흥동,사직동,영등포동,고덕동,인의동,중화동,방배동,종로4가,율현동,창성동,영등포동4가,충무로5가,돈암동,돈의동,대현동,부평동3가,초동,신내동,목동,예관동,범방동,용산구,저동2가,과해동,묵정동,개포동,전농동,양평동,온수동,동인동1가,공덕동,강일동,동광동3가,옥인동,신사동,외발산동,수색동,거여동,자곡동,봉천동,흑석동,부평동2가,마곡동,하왕십리동,와룡동,응암동,현저동,유곡동,당주동,중앙동5가,대사동,서교동,창선동1가,합동,월계동,신원동,은행동,가회동,용문동,석교동,마장동,정동,의주로1가,내곡동,서문로2가,보수동2가,창전동,항동6가,화전동,수표동,강서구,금천구,용답동,내수동,교동,대치동,평동,당산동4가,공릉동,당산동1가,선린동,성북동1가,북아현동,홍제동,구로동,노량진동,잠실동,당산동2가,동대문구,마포구,보문동3가,천연동,강동동,장현동,을지로6가,북성로1가,세종로,신설동,회현동1가,독산동,하계동,합정동,화곡동,신영동,삼덕동3가,광복동1가,사정동,동빙고동,군자동,동선동3가,인현동1가,주성동,이문동,연희동,동선동2가,체부동,양재동,대청동1가,성북동,서린동,관동2가,서초구,장관동,용산동2가,남산동2가,안암동4가,대저2동,영등포동1가,금호동4가,동선동5가,하서동,진관동,지사동,여의도동,세곡동,남일동,남산동3가,묘동,남포동3가,다동,길음동,화양동,관철동,보문동4가,가락동'"
      ]
     },
     "execution_count": 12,
     "metadata": {},
     "output_type": "execute_result"
    }
   ],
   "source": [
    "self.df_brief.loc[1, 'upper']"
   ]
  },
  {
   "cell_type": "markdown",
   "id": "e028151f-4ed7-4df6-b9f8-8ad5566df3eb",
   "metadata": {
    "jp-MarkdownHeadingCollapsed": true
   },
   "source": [
    "#### only upper levels"
   ]
  },
  {
   "cell_type": "code",
   "execution_count": 13,
   "id": "0973c0d4-126f-4eb9-9278-d4ede99367b7",
   "metadata": {
    "execution": {
     "iopub.execute_input": "2024-05-21T05:32:05.171584Z",
     "iopub.status.busy": "2024-05-21T05:32:05.167055Z",
     "iopub.status.idle": "2024-05-21T05:32:05.393995Z",
     "shell.execute_reply": "2024-05-21T05:32:05.393723Z",
     "shell.execute_reply.started": "2024-05-21T05:32:05.171494Z"
    }
   },
   "outputs": [
    {
     "data": {
      "text/html": [
       "<div>\n",
       "<style scoped>\n",
       "    .dataframe tbody tr th:only-of-type {\n",
       "        vertical-align: middle;\n",
       "    }\n",
       "\n",
       "    .dataframe tbody tr th {\n",
       "        vertical-align: top;\n",
       "    }\n",
       "\n",
       "    .dataframe thead th {\n",
       "        text-align: right;\n",
       "    }\n",
       "</style>\n",
       "<table border=\"1\" class=\"dataframe\">\n",
       "  <thead>\n",
       "    <tr style=\"text-align: right;\">\n",
       "      <th></th>\n",
       "      <th>name</th>\n",
       "      <th>level</th>\n",
       "      <th>count</th>\n",
       "      <th>upper</th>\n",
       "    </tr>\n",
       "  </thead>\n",
       "  <tbody>\n",
       "    <tr>\n",
       "      <th>0</th>\n",
       "      <td>관리</td>\n",
       "      <td>4</td>\n",
       "      <td>1</td>\n",
       "      <td>북안면,적량면,영천시,청송군,충북,충청남도,경기도,경상남도,이원면,태안군,전라남도,...</td>\n",
       "    </tr>\n",
       "    <tr>\n",
       "      <th>1</th>\n",
       "      <td>서울</td>\n",
       "      <td>0</td>\n",
       "      <td>1</td>\n",
       "      <td>현석동,삼선동2가,당산동3가,구완동,의주로2가,천호동,시흥동,북창동,신흥동2가,동숭...</td>\n",
       "    </tr>\n",
       "  </tbody>\n",
       "</table>\n",
       "</div>"
      ],
      "text/plain": [
       "  name level count                                              upper\n",
       "0   관리     4     1  북안면,적량면,영천시,청송군,충북,충청남도,경기도,경상남도,이원면,태안군,전라남도,...\n",
       "1   서울     0     1  현석동,삼선동2가,당산동3가,구완동,의주로2가,천호동,시흥동,북창동,신흥동2가,동숭..."
      ]
     },
     "execution_count": 13,
     "metadata": {},
     "output_type": "execute_result"
    }
   ],
   "source": [
    "df_brief = self.df_brief.copy()\n",
    "df_brief"
   ]
  },
  {
   "cell_type": "code",
   "execution_count": 21,
   "id": "213ecdb2-62d1-4426-bbfc-07b46132473d",
   "metadata": {
    "execution": {
     "iopub.execute_input": "2024-05-21T06:41:00.432282Z",
     "iopub.status.busy": "2024-05-21T06:41:00.427247Z",
     "iopub.status.idle": "2024-05-21T06:41:00.486806Z",
     "shell.execute_reply": "2024-05-21T06:41:00.486574Z",
     "shell.execute_reply.started": "2024-05-21T06:41:00.432109Z"
    }
   },
   "outputs": [
    {
     "name": "stderr",
     "output_type": "stream",
     "text": [
      "ic| list(row.values): ['관리',\n",
      "                       4,\n",
      "                       1,\n",
      "                       '북안면,적량면,영천시,청송군,충북,충청남도,경기도,경상남도,이원면,태안군,전라남도,옥천군,충청북도,전남,향남읍,비인면,추풍령면,경남,도양읍,영동군,하동군,충남,이천시,마장면,파천면,경상북도,경북,화성시,서천군,고흥군,관리,경기']\n"
     ]
    }
   ],
   "source": [
    "for index, row in df_brief[:1].iterrows():\n",
    "    ic(list(row.values))\n",
    "    # for column, value in row.items():"
   ]
  },
  {
   "cell_type": "code",
   "execution_count": 28,
   "id": "709ce4f1-32e9-4443-b70f-7e71ef6ea816",
   "metadata": {
    "execution": {
     "iopub.execute_input": "2024-05-21T06:46:50.629697Z",
     "iopub.status.busy": "2024-05-21T06:46:50.622489Z",
     "iopub.status.idle": "2024-05-21T06:46:54.220211Z",
     "shell.execute_reply": "2024-05-21T06:46:54.218525Z",
     "shell.execute_reply.started": "2024-05-21T06:46:50.628758Z"
    }
   },
   "outputs": [
    {
     "name": "stderr",
     "output_type": "stream",
     "text": [
      "ic| self.level_int[column]: 4\n",
      "ic| row.values[:self.level_int[column]]: array(['충남', '충청남도', '서천군', '비인면'], dtype=object)\n",
      "ic| self.level_int[column]: 0\n",
      "ic| row.values[:self.level_int[column]]: array([], dtype=object)\n"
     ]
    }
   ],
   "source": [
    "self = CheckAddressLevels(df_address=df_addr, text=text)\n",
    "self.process()"
   ]
  },
  {
   "cell_type": "code",
   "execution_count": 29,
   "id": "76d1b786-16ea-4add-9294-feafcf47650a",
   "metadata": {
    "execution": {
     "iopub.execute_input": "2024-05-21T06:46:57.013982Z",
     "iopub.status.busy": "2024-05-21T06:46:57.012532Z",
     "iopub.status.idle": "2024-05-21T06:46:57.077033Z",
     "shell.execute_reply": "2024-05-21T06:46:57.076414Z",
     "shell.execute_reply.started": "2024-05-21T06:46:57.013934Z"
    }
   },
   "outputs": [
    {
     "data": {
      "text/html": [
       "<div>\n",
       "<style scoped>\n",
       "    .dataframe tbody tr th:only-of-type {\n",
       "        vertical-align: middle;\n",
       "    }\n",
       "\n",
       "    .dataframe tbody tr th {\n",
       "        vertical-align: top;\n",
       "    }\n",
       "\n",
       "    .dataframe thead th {\n",
       "        text-align: right;\n",
       "    }\n",
       "</style>\n",
       "<table border=\"1\" class=\"dataframe\">\n",
       "  <thead>\n",
       "    <tr style=\"text-align: right;\">\n",
       "      <th></th>\n",
       "      <th>name</th>\n",
       "      <th>level</th>\n",
       "      <th>count</th>\n",
       "      <th>upper</th>\n",
       "    </tr>\n",
       "  </thead>\n",
       "  <tbody>\n",
       "    <tr>\n",
       "      <th>0</th>\n",
       "      <td>관리</td>\n",
       "      <td>4</td>\n",
       "      <td>1</td>\n",
       "      <td>북안면,적량면,영천시,청송군,충북,충청남도,경기도,경상남도,이원면,태안군,전라남도,...</td>\n",
       "    </tr>\n",
       "    <tr>\n",
       "      <th>1</th>\n",
       "      <td>서울</td>\n",
       "      <td>0</td>\n",
       "      <td>1</td>\n",
       "      <td></td>\n",
       "    </tr>\n",
       "  </tbody>\n",
       "</table>\n",
       "</div>"
      ],
      "text/plain": [
       "  name level count                                              upper\n",
       "0   관리     4     1  북안면,적량면,영천시,청송군,충북,충청남도,경기도,경상남도,이원면,태안군,전라남도,...\n",
       "1   서울     0     1                                                   "
      ]
     },
     "execution_count": 29,
     "metadata": {},
     "output_type": "execute_result"
    }
   ],
   "source": [
    "df_brief = self.df_brief.copy()\n",
    "df_brief"
   ]
  },
  {
   "cell_type": "code",
   "execution_count": 30,
   "id": "39fdc172-784d-4296-8359-c3c09ba1f2d5",
   "metadata": {
    "execution": {
     "iopub.execute_input": "2024-05-21T06:47:22.345115Z",
     "iopub.status.busy": "2024-05-21T06:47:22.344138Z",
     "iopub.status.idle": "2024-05-21T06:47:22.393529Z",
     "shell.execute_reply": "2024-05-21T06:47:22.393216Z",
     "shell.execute_reply.started": "2024-05-21T06:47:22.345088Z"
    }
   },
   "outputs": [
    {
     "data": {
      "text/plain": [
       "'북안면,적량면,영천시,청송군,충북,충청남도,경기도,경상남도,이원면,태안군,전라남도,옥천군,충청북도,전남,향남읍,비인면,추풍령면,경남,도양읍,영동군,하동군,충남,이천시,마장면,파천면,경상북도,경북,화성시,서천군,고흥군,경기'"
      ]
     },
     "execution_count": 30,
     "metadata": {},
     "output_type": "execute_result"
    }
   ],
   "source": [
    "df_brief.loc[0, 'upper']"
   ]
  },
  {
   "cell_type": "markdown",
   "id": "a78ec092-8267-4d7b-801d-64e4c8e1a05c",
   "metadata": {
    "jp-MarkdownHeadingCollapsed": true
   },
   "source": [
    "#### ask: separating functions or simplifying expressions"
   ]
  },
  {
   "cell_type": "code",
   "execution_count": 31,
   "id": "f47cb958-2ba1-4167-9435-b42b94c2c5b3",
   "metadata": {
    "execution": {
     "iopub.execute_input": "2024-05-21T06:50:20.550797Z",
     "iopub.status.busy": "2024-05-21T06:50:20.548666Z",
     "iopub.status.idle": "2024-05-21T06:50:20.600894Z",
     "shell.execute_reply": "2024-05-21T06:50:20.600580Z",
     "shell.execute_reply.started": "2024-05-21T06:50:20.550754Z"
    }
   },
   "outputs": [],
   "source": [
    "import pandas as pd\n",
    "import re\n",
    "\n",
    "class DataProcessor:\n",
    "    def __init__(self, df_filtered, text, level_int):\n",
    "        self.df_filtered = df_filtered\n",
    "        self.text = text\n",
    "        self.level_int = level_int\n",
    "        self.address_set = set()\n",
    "        self.df_brief = pd.DataFrame(columns=['name', 'level', 'count', 'upper_levels'])\n",
    "    \n",
    "    def set_to_list_string_only(self, data: set) -> list:\n",
    "        return [item for item in data if isinstance(item, str)]\n",
    "    \n",
    "    def find_and_count(self, value, text):\n",
    "        found = re.findall(value, text)\n",
    "        return found, len(found)\n",
    "    \n",
    "    def update_brief(self, found_items, column_level, row_values):\n",
    "        new_rows = []\n",
    "        for item in found_items:\n",
    "            if item not in self.address_set:\n",
    "                self.address_set.add(item)\n",
    "                upper_levels = ','.join(self.set_to_list_string_only(row_values[:column_level]))\n",
    "                new_rows.append([item, column_level, 1, upper_levels])\n",
    "            else:\n",
    "                for brief_row in new_rows:\n",
    "                    if brief_row[0] == item:\n",
    "                        values_set = set(brief_row[-1].split(','))\n",
    "                        values_set.update(row_values[:column_level])\n",
    "                        brief_row[-1] = ','.join(self.set_to_list_string_only(values_set))\n",
    "        return new_rows\n",
    "    \n",
    "    def make_count_table(self):\n",
    "        df = self.df_filtered.copy()\n",
    "        df['count'] = 0\n",
    "        df[['found', 'found_lv']] = ''\n",
    "\n",
    "        all_new_rows = []\n",
    "\n",
    "        for index, row in df.iterrows():\n",
    "            for column, value in row.items():\n",
    "                if isinstance(value, str) and value:\n",
    "                    found_items, count = self.find_and_count(value, self.text)\n",
    "                    if count > 0:\n",
    "                        df.at[index, 'count'] += count\n",
    "                        df.at[index, 'found'] = ','.join(found_items)\n",
    "                        df.at[index, 'found_lv'] = self.level_int[column]\n",
    "                        new_rows = self.update_brief(found_items, self.level_int[column], row.values)\n",
    "                        all_new_rows.extend(new_rows)\n",
    "        \n",
    "        self.df_brief = pd.concat([\n",
    "            self.df_brief,\n",
    "            pd.DataFrame(\n",
    "                all_new_rows,\n",
    "                columns=['name', 'level', 'count', 'upper_levels']\n",
    "            )], ignore_index=True)\n",
    "        self.df_filtered = df"
   ]
  },
  {
   "cell_type": "code",
   "execution_count": 32,
   "id": "283602aa-66ae-4404-a0cd-585f4edc46e5",
   "metadata": {
    "collapsed": true,
    "execution": {
     "iopub.execute_input": "2024-05-21T06:50:22.225327Z",
     "iopub.status.busy": "2024-05-21T06:50:22.223269Z",
     "iopub.status.idle": "2024-05-21T06:50:22.334517Z",
     "shell.execute_reply": "2024-05-21T06:50:22.334031Z",
     "shell.execute_reply.started": "2024-05-21T06:50:22.225251Z"
    },
    "jupyter": {
     "outputs_hidden": true,
     "source_hidden": true
    },
    "scrolled": true
   },
   "outputs": [
    {
     "name": "stdout",
     "output_type": "stream",
     "text": [
      "          A         B  count              found found_lv\n",
      "0  pattern1                1           pattern1        1\n",
      "1  pattern2  pattern2      4  pattern2,pattern2        2\n",
      "2            pattern3      1           pattern3        2\n",
      "3  pattern4                1           pattern4        1\n",
      "       name level count upper_levels\n",
      "0  pattern1     1     1     pattern1\n",
      "1  pattern2     1     1     pattern2\n",
      "2  pattern3     2     1    ,pattern3\n",
      "3  pattern4     1     1     pattern4\n"
     ]
    }
   ],
   "source": [
    "# Example usage\n",
    "df_filtered = pd.DataFrame({\n",
    "    'A': ['pattern1', 'pattern2', '', 'pattern4'],\n",
    "    'B': ['', 'pattern2', 'pattern3', '']\n",
    "})\n",
    "text = 'pattern1 pattern2 pattern2 pattern3 pattern4'\n",
    "level_int = {'A': 1, 'B': 2}\n",
    "\n",
    "processor = DataProcessor(df_filtered, text, level_int)\n",
    "processor.make_count_table()\n",
    "\n",
    "print(processor.df_filtered)\n",
    "print(processor.df_brief)"
   ]
  },
  {
   "cell_type": "markdown",
   "id": "48d2b417-e8ee-434b-a726-96fce29a6c2b",
   "metadata": {
    "jp-MarkdownHeadingCollapsed": true
   },
   "source": [
    "#### apply: "
   ]
  },
  {
   "cell_type": "code",
   "execution_count": 5,
   "id": "f6da3bb7-9d07-4e22-bc65-49e791dc0574",
   "metadata": {
    "execution": {
     "iopub.execute_input": "2024-05-21T08:34:19.641995Z",
     "iopub.status.busy": "2024-05-21T08:34:19.640723Z",
     "iopub.status.idle": "2024-05-21T08:34:19.699250Z",
     "shell.execute_reply": "2024-05-21T08:34:19.698860Z",
     "shell.execute_reply.started": "2024-05-21T08:34:19.641932Z"
    }
   },
   "outputs": [],
   "source": [
    "text = df_text.iloc[16]['content']\n",
    "text = sa.clean_text(text)"
   ]
  },
  {
   "cell_type": "code",
   "execution_count": 114,
   "id": "db3b2431-5fde-4d86-90eb-0f5b663ca730",
   "metadata": {
    "execution": {
     "iopub.execute_input": "2024-05-21T08:13:09.440988Z",
     "iopub.status.busy": "2024-05-21T08:13:09.439599Z",
     "iopub.status.idle": "2024-05-21T08:13:09.494235Z",
     "shell.execute_reply": "2024-05-21T08:13:09.493898Z",
     "shell.execute_reply.started": "2024-05-21T08:13:09.440953Z"
    }
   },
   "outputs": [],
   "source": [
    "text_iter = iter(zip(df_text.index[10:], df_text.loc[10:, 'content']))"
   ]
  },
  {
   "cell_type": "code",
   "execution_count": null,
   "id": "1fa5a848-a06b-4d8e-8403-6ac21fa0b307",
   "metadata": {
    "execution": {
     "iopub.execute_input": "2024-05-21T08:16:42.038795Z",
     "iopub.status.busy": "2024-05-21T08:16:42.037747Z",
     "iopub.status.idle": "2024-05-21T08:16:44.420771Z",
     "shell.execute_reply": "2024-05-21T08:16:44.420310Z",
     "shell.execute_reply.started": "2024-05-21T08:16:42.038749Z"
    }
   },
   "outputs": [],
   "source": [
    "index, text = next(text_iter)\n",
    "text = sa.clean_text(text)"
   ]
  },
  {
   "cell_type": "code",
   "execution_count": 11,
   "id": "6615b5f8-9e74-4f61-9c8a-6456d09d1f29",
   "metadata": {
    "execution": {
     "iopub.execute_input": "2024-05-21T08:40:08.617026Z",
     "iopub.status.busy": "2024-05-21T08:40:08.616850Z",
     "iopub.status.idle": "2024-05-21T08:40:11.491581Z",
     "shell.execute_reply": "2024-05-21T08:40:11.490784Z",
     "shell.execute_reply.started": "2024-05-21T08:40:08.617007Z"
    }
   },
   "outputs": [
    {
     "name": "stderr",
     "output_type": "stream",
     "text": [
      "ic| row_values: array(['인천', '인천광역시', '미추홀구', '숭의동', None, nan, 0, '', ''], dtype=object)\n",
      "ic| o: ['인천', '인천광역시']\n",
      "ic| found_items: ['미추홀구']\n",
      "ic| upper_levels: []\n"
     ]
    },
    {
     "name": "stdout",
     "output_type": "stream",
     "text": [
      "   name level count upper\n",
      "0    인천     0     5      \n",
      "1  미추홀구     2     1      \n",
      "2   부평구     2     1      \n"
     ]
    }
   ],
   "source": [
    "self = CheckAddressLevels(df_address=df_addr, text=text)\n",
    "self.process()\n",
    "\n",
    "df_brief = self.df_brief.copy()\n",
    "print(df_brief)\n",
    "\n",
    "for item in df_brief['name'].values:\n",
    "    text = sa.re_sub(item, text)"
   ]
  },
  {
   "cell_type": "code",
   "execution_count": 7,
   "id": "21fc111b-def3-4fe6-a834-92a69976dd14",
   "metadata": {
    "execution": {
     "iopub.execute_input": "2024-05-21T08:32:36.799137Z",
     "iopub.status.busy": "2024-05-21T08:32:36.797214Z",
     "iopub.status.idle": "2024-05-21T08:32:36.830289Z",
     "shell.execute_reply": "2024-05-21T08:32:36.829262Z",
     "shell.execute_reply.started": "2024-05-21T08:32:36.799006Z"
    }
   },
   "outputs": [
    {
     "name": "stdout",
     "output_type": "stream",
     "text": [
      "지적장애가 있는 여고생을 모텔에서 집단 폭행한 혐의를 받는 10대 A양과 B양이 지난 6월 28일 구속 전 피의자 심문(영장실질심사)을 받기 위해 🔺인천🔻시 🔺미추홀구🔻 🔺인천🔻지방법원에 들어서고 있다. /사진=연합뉴스\n",
      "지적장애 3급 여고생을 모텔에서 집단 폭행하고 가학적인 행위를 일삼은 10대 청소년 등 5명에게 검찰이 징역형을 구형했다.🔺인천🔻지검은 26일 🔺인천🔻지법 형사9단독 결심 공판에서 폭력행위 등 처벌에 관한 법률 위반(공동상해) 등 혐의로 구속기소 된 A(17)양에게 징역 장기 5년, 단기 3년을 구형했다. 함께 피해자를 폭행하거나 방조한 혐의를 받는 다른 10대 남녀 2명에게는 단기 1년·장기 2년을, 함께 기소된 20대 남성에게는 징역 2년 형을 선고해달라고 재판부에 요청했다.이날 검찰은 \"이들은 피해자를 옷을 벗겨 오물을 묻히는 등 가학적인 행위를 했으며, 같은 범죄 전력이 있는 가해자도 있다\"며 \"큰 충격을 받은 피해자와 그 가족이 엄벌을 원하고 있다\"고 밝혔다.A 양 등은 지난 6월 16일 🔺인천🔻시 🔺부평구🔻 모텔에서 지적장애 3급인 16살 피해자를 폭행해 얼굴 등을 크게 다치게 한 혐의로 기소됐다. 당시 딸과 연락이 닿지 않자 휴대전화 애플리케이션으로 위치를 확인하고 모텔로 찾아간 피해자 어머니는 알몸 상태로 오물을 뒤집어쓴 딸을 발견해 경찰에 신고했다.A 양 등은 경찰 조사에서 \"피해자가 자신들의 험담을 하고 다닌다고 생각해 범행했다\"고 진술한 것으로 알려졌다.이날 A양 등은 최후 진술을 통해 \"피해자와 그의 가족에게 상처를 줘 죄송하다\"며 말했다. 한편, 이들의 선고 공판은 9월 중 열릴 예정이다.김정호 한경닷컴 객원기자 newsinfo@hankyung.com\n"
     ]
    }
   ],
   "source": [
    "# print(f'\\nindex: {index}\\n')\n",
    "print(text)"
   ]
  },
  {
   "cell_type": "code",
   "execution_count": 16,
   "id": "14b34d1b-9a11-47cf-9414-b9703f8eb1f9",
   "metadata": {
    "execution": {
     "iopub.execute_input": "2024-05-22T01:50:13.645367Z",
     "iopub.status.busy": "2024-05-22T01:50:13.644107Z",
     "iopub.status.idle": "2024-05-22T01:50:13.748813Z",
     "shell.execute_reply": "2024-05-22T01:50:13.748260Z",
     "shell.execute_reply.started": "2024-05-22T01:50:13.645319Z"
    }
   },
   "outputs": [],
   "source": [
    "text_iter = iter(zip(df_text.index[17:], df_text.loc[17:, 'content']))"
   ]
  },
  {
   "cell_type": "code",
   "execution_count": 22,
   "id": "b06ea6fe-958a-4f9c-ad1a-c2bbbdefc230",
   "metadata": {
    "execution": {
     "iopub.execute_input": "2024-05-22T01:55:33.257582Z",
     "iopub.status.busy": "2024-05-22T01:55:33.256321Z",
     "iopub.status.idle": "2024-05-22T01:55:35.717993Z",
     "shell.execute_reply": "2024-05-22T01:55:35.717470Z",
     "shell.execute_reply.started": "2024-05-22T01:55:33.257553Z"
    }
   },
   "outputs": [
    {
     "name": "stdout",
     "output_type": "stream",
     "text": [
      "  name level count upper\n",
      "0   충남     0     1      \n",
      "1   부산     0     2      \n",
      "\n",
      "index: 22\n",
      "\n",
      "게티이미지뱅크\n",
      "🔺부산🔻 한 남자고등학교 명의의 온라인 커뮤니티에서 인근 몇몇 여자고등학교 학생들을 성희롱한 게시글과 댓글이 올라와 경찰이 수사 중이다.🔺부산🔻 사하경찰서는 인근 여자 고등학생을 대상으로 성희롱 글을 학교 인터넷 커뮤니티에 올린 게시자를 찾는 한편 이들에 대한 명예훼손 혐의 적용 여부 등을 검토 중이라고 26일 밝혔다. 문제의 게시판에는 인근 몇몇 여자 고등학교의 코로나19 백신 접종일을 공유한 뒤, “OO일에 보건소 앞에서 보자”는 협박성 게시글과 함께 “화이자 백신인 줄 알고 맞은 것이 정자였다”는 등의 표현을 포함해 입에 담기 힘든 수위의 성희롱 댓글이 달렸던 것으로 알려졌다.이에 인근 여고 피해 학생들이 불안을 호소하며 학교, 교육청 등에 민원을 제기한 것으로 알려졌다. 현재 해당 게시글은 삭제된 상태다.인근 여고 학생들에 따르면 이번과 같은 사건이 처음이 아닌 것으로 전해진다. 여성 청소년과 교사 등을 겨냥한 남성 청소년의 사이버 성폭력이 심각한 수준이라는 지적이다. 이 남고 갤러리에는 이번 일이 있기 전에도 여교사 외모 평가, “특정 여고에 원조교제하는 애들이 있다” 등 모욕성 발언이 다수 올라왔던 것이 확인됐다. 앞서 지난 7일 🔺충남🔻경찰청 사이버범죄수사대는 한 남자고등학교 이름으로 된 인터넷 커뮤니티에 특정 여자 고등학생들을 성희롱한 학생 2명을 입건한 바 있다.안혜원 한경닷컴 기자 anhw@hankyung.com\n"
     ]
    }
   ],
   "source": [
    "index, text = next(text_iter)\n",
    "text = sa.clean_text(text)\n",
    "\n",
    "self = CheckAddressLevels(df_address=df_addr, text=text)\n",
    "self.process()\n",
    "\n",
    "df_brief = self.df_brief.copy()\n",
    "print(df_brief)\n",
    "\n",
    "text_mark = text\n",
    "for item in df_brief['name'].values:\n",
    "    text_mark = sa.re_sub(item, text_mark)\n",
    "\n",
    "print(f'\\nindex: {index}\\n')\n",
    "print(text_mark)"
   ]
  },
  {
   "attachments": {},
   "cell_type": "markdown",
   "id": "4e7cf2e4-601c-4c6a-871f-1cfe360bec97",
   "metadata": {},
   "source": [
    "- 4\n",
    "    - 관리, 북구, 인천, 포항시 북구, 대구, 경기\n",
    "    - 포항시 북구...\n",
    "- 8  \n",
    "    - 서울 '구로'경찰서  \n",
    "    - '시'와 '구'는 이름만으로도 찾을 수 있어야 하겠다.\n",
    "- 10\n",
    "    - 춘천경찰서\n",
    "- 13\n",
    "    - 강북경찰서\n",
    "- 15\n",
    "    - '영등포구' 상위레벨로 '서울'이 나오지 않음.\n",
    "    - 아, 본문에 '서울'이 없구나.\n",
    "- 16\n",
    "    - 인천 미추홀구, 상위레벨이 본무에 있는데도 나오지 않는다.\n",
    "    - check upper levels after making the count table\n",
    "    - 카운트 테이블을 만들 때에는, 텍스트에서 찾은 주소들을 모두 알 수 없기 때문에, 상위 레벨을 확인 하는 작업은 나중에 해야한다.  \n",
    "- 17\n",
    "    - 경북 예천의 ...\n",
    "    - '예천'시 를 잡아내지 못함.\n",
    "- 18\n",
    "    - '법리' 검토가 필요...\n",
    "- 21\n",
    "    - '관리'에 관한 법률...\n",
    "    - '춘천'지법 읽어내지 못함.\n",
    "- 22\n",
    "    - '부산' 사하경찰서 - '사하'구를 잡지 못함"
   ]
  },
  {
   "cell_type": "markdown",
   "id": "8f2663d7-5709-42c3-bbf0-4922b25a12ce",
   "metadata": {
    "jp-MarkdownHeadingCollapsed": true
   },
   "source": [
    "#### ask: modifying re expression"
   ]
  },
  {
   "cell_type": "code",
   "execution_count": 27,
   "id": "4f05730f-c03f-4cc4-ac0d-c822d99c7417",
   "metadata": {
    "execution": {
     "iopub.execute_input": "2024-05-22T04:39:39.927328Z",
     "iopub.status.busy": "2024-05-22T04:39:39.926383Z",
     "iopub.status.idle": "2024-05-22T04:39:39.979361Z",
     "shell.execute_reply": "2024-05-22T04:39:39.976099Z",
     "shell.execute_reply.started": "2024-05-22T04:39:39.927298Z"
    }
   },
   "outputs": [],
   "source": [
    "import re\n",
    "\n",
    "def mark_cherry(text: str) -> str:\n",
    "    \"\"\"\n",
    "    Finds all occurrences of the word 'cherry' in the text and marks them with '>cherry<',\n",
    "    but skips those that are already marked.\n",
    "\n",
    "    Parameters:\n",
    "    text (str): The input text.\n",
    "\n",
    "    Returns:\n",
    "    str: The text with 'cherry' marked as '>cherry<'.\n",
    "    \"\"\"\n",
    "    # Regular expression to find 'cherry' that is not already marked with '>'\n",
    "    pattern = r'(?<!🔺)\\bcherry\\b(?!🔻)'\n",
    "    \n",
    "    # Replace all found occurrences with '>cherry<'\n",
    "    marked_text = re.sub(pattern, r'🔺cherry🔻', text, flags=re.IGNORECASE)\n",
    "    \n",
    "    return marked_text"
   ]
  },
  {
   "cell_type": "code",
   "execution_count": 28,
   "id": "acfc3b3b-f5f5-4977-9c98-9f8ebb50c88d",
   "metadata": {
    "execution": {
     "iopub.execute_input": "2024-05-22T04:39:40.937287Z",
     "iopub.status.busy": "2024-05-22T04:39:40.936923Z",
     "iopub.status.idle": "2024-05-22T04:39:41.039143Z",
     "shell.execute_reply": "2024-05-22T04:39:41.031484Z",
     "shell.execute_reply.started": "2024-05-22T04:39:40.937271Z"
    }
   },
   "outputs": [
    {
     "name": "stdout",
     "output_type": "stream",
     "text": [
      "I love 🔺cherry🔻 pie. Have you tried 🔺cherry🔻 jam? 🔺cherry🔻 is my favorite fruit.\n"
     ]
    }
   ],
   "source": [
    "# Example usage\n",
    "text = \"I love cherry pie. Have you tried 🔺cherry🔻 jam? cherry is my favorite fruit.\"\n",
    "result = mark_cherry(text)\n",
    "print(result)"
   ]
  },
  {
   "cell_type": "markdown",
   "id": "68e04006-ec2b-49ce-b8b0-656015384633",
   "metadata": {
    "jp-MarkdownHeadingCollapsed": true
   },
   "source": [
    "#### apply"
   ]
  },
  {
   "cell_type": "code",
   "execution_count": null,
   "id": "0c8f821b-0540-4842-8fb8-a42e4a57c646",
   "metadata": {
    "execution": {
     "iopub.execute_input": "2024-05-22T04:45:05.586022Z",
     "iopub.status.busy": "2024-05-22T04:45:05.585436Z",
     "iopub.status.idle": "2024-05-22T04:45:05.645898Z",
     "shell.execute_reply": "2024-05-22T04:45:05.645592Z",
     "shell.execute_reply.started": "2024-05-22T04:45:05.586002Z"
    }
   },
   "outputs": [],
   "source": [
    "text = df_text.loc[22, 'content']\n",
    "text = sa.clean_text(text)\n",
    "text_mark = text"
   ]
  },
  {
   "cell_type": "code",
   "execution_count": 42,
   "id": "5c7e61ad-fc81-4129-a9b3-5f17210c1f08",
   "metadata": {
    "execution": {
     "iopub.execute_input": "2024-05-22T04:45:23.731462Z",
     "iopub.status.busy": "2024-05-22T04:45:23.730854Z",
     "iopub.status.idle": "2024-05-22T04:45:23.761186Z",
     "shell.execute_reply": "2024-05-22T04:45:23.760496Z",
     "shell.execute_reply.started": "2024-05-22T04:45:23.731436Z"
    }
   },
   "outputs": [
    {
     "name": "stdout",
     "output_type": "stream",
     "text": [
      "\n",
      "index: 22\n",
      "\n",
      "게티이미지뱅크\n",
      "🔺부산🔻 한 남자고등학교 명의의 온라인 커뮤니티에서 인근 몇몇 여자고등학교 학생들을 성희롱한 게시글과 댓글이 올라와 경찰이 수사 중이다.🔺부산🔻 사하경찰서는 인근 여자 고등학생을 대상으로 성희롱 글을 학교 인터넷 커뮤니티에 올린 게시자를 찾는 한편 이들에 대한 명예훼손 혐의 적용 여부 등을 검토 중이라고 26일 밝혔다. 문제의 게시판에는 인근 몇몇 여자 고등학교의 코로나19 백신 접종일을 공유한 뒤, “OO일에 보건소 앞에서 보자”는 협박성 게시글과 함께 “화이자 백신인 줄 알고 맞은 것이 정자였다”는 등의 표현을 포함해 입에 담기 힘든 수위의 성희롱 댓글이 달렸던 것으로 알려졌다.이에 인근 여고 피해 학생들이 불안을 호소하며 학교, 교육청 등에 민원을 제기한 것으로 알려졌다. 현재 해당 게시글은 삭제된 상태다.인근 여고 학생들에 따르면 이번과 같은 사건이 처음이 아닌 것으로 전해진다. 여성 청소년과 교사 등을 겨냥한 남성 청소년의 사이버 성폭력이 심각한 수준이라는 지적이다. 이 남고 갤러리에는 이번 일이 있기 전에도 여교사 외모 평가, “특정 여고에 원조교제하는 애들이 있다” 등 모욕성 발언이 다수 올라왔던 것이 확인됐다. 앞서 지난 7일 🔺충남🔻경찰청 사이버범죄수사대는 한 남자고등학교 이름으로 된 인터넷 커뮤니티에 특정 여자 고등학생들을 성희롱한 학생 2명을 입건한 바 있다.안혜원 한경닷컴 기자 anhw@hankyung.com\n"
     ]
    }
   ],
   "source": [
    "for item in df_brief['name'].values:\n",
    "    text_mark = sa.re_sub(item, text_mark)\n",
    "\n",
    "print(f'\\nindex: {index}\\n')\n",
    "print(text_mark)"
   ]
  },
  {
   "cell_type": "markdown",
   "id": "1782a86a-b230-422d-8ccf-b81b73e2bfde",
   "metadata": {},
   "source": [
    "#### 시, 구 이름만으로도 찾기"
   ]
  },
  {
   "cell_type": "markdown",
   "id": "e4d31b12-11d4-437a-98d5-9aca02e5db11",
   "metadata": {},
   "source": [
    "어떻게 시작해야할까?  \n",
    "주소에서 '시', '구'를 제외한 컬럼을 만들까?  \n",
    "정규식 패턴으로 할까?  "
   ]
  },
  {
   "cell_type": "markdown",
   "id": "5de554eb-9c77-4cae-b8be-0609604e100c",
   "metadata": {
    "jp-MarkdownHeadingCollapsed": true
   },
   "source": [
    "#### ask:"
   ]
  },
  {
   "cell_type": "markdown",
   "id": "65a0e2ad-19d1-471b-8683-9cd02ac01f1a",
   "metadata": {},
   "source": [
    "```\n",
    "def find_all_things(text: str, keyword: str) -> list:\n",
    "    pattern = r'\\b(\\w+){keyword}\\b'\n",
    "    matches = re.findall(pattern, text, flags=re.IGNORECASE)\n",
    "    return matches\n",
    "\n",
    "\n",
    "if a keyword contains 'thing' at the end then ignore 'thing'. e.g 'onething' to 'one', 'something' to 'some' ...\n",
    "```"
   ]
  },
  {
   "cell_type": "code",
   "execution_count": 43,
   "id": "b4fd3b8b-69bc-46d6-88a4-caf68cb690e4",
   "metadata": {
    "execution": {
     "iopub.execute_input": "2024-05-22T06:39:45.824941Z",
     "iopub.status.busy": "2024-05-22T06:39:45.822697Z",
     "iopub.status.idle": "2024-05-22T06:39:45.977343Z",
     "shell.execute_reply": "2024-05-22T06:39:45.975833Z",
     "shell.execute_reply.started": "2024-05-22T06:39:45.824897Z"
    }
   },
   "outputs": [],
   "source": [
    "import re\n",
    "\n",
    "def find_all_things(text: str, keyword: str) -> list:\n",
    "    \"\"\"\n",
    "    Finds all occurrences of words that match the keyword pattern in the text.\n",
    "    If the keyword ends with 'thing', the 'thing' part is ignored in the result.\n",
    "\n",
    "    Parameters:\n",
    "    text (str): The input text.\n",
    "    keyword (str): The keyword pattern to search for in the text.\n",
    "\n",
    "    Returns:\n",
    "    list: A list of all matches found in the text.\n",
    "    \"\"\"\n",
    "    # Remove 'thing' from the end of the keyword if it exists\n",
    "    if keyword.endswith('thing'):\n",
    "        keyword = keyword[:-5]\n",
    "    \n",
    "    # Regular expression pattern to match any word followed by 'thing'\n",
    "    pattern = rf'\\b{keyword}(\\w*)thing\\b'\n",
    "    \n",
    "    # Find all matches in the text\n",
    "    matches = re.findall(pattern, text, flags=re.IGNORECASE)\n",
    "    \n",
    "    return matches"
   ]
  },
  {
   "cell_type": "code",
   "execution_count": 44,
   "id": "90604dc2-aefb-4f6b-8d31-dc7785ad71e5",
   "metadata": {
    "execution": {
     "iopub.execute_input": "2024-05-22T06:39:46.810807Z",
     "iopub.status.busy": "2024-05-22T06:39:46.809528Z",
     "iopub.status.idle": "2024-05-22T06:39:46.858928Z",
     "shell.execute_reply": "2024-05-22T06:39:46.858449Z",
     "shell.execute_reply.started": "2024-05-22T06:39:46.810760Z"
    }
   },
   "outputs": [
    {
     "name": "stdout",
     "output_type": "stream",
     "text": [
      "['one', 'two', 'many', 'some', 'no', 'every']\n"
     ]
    }
   ],
   "source": [
    "# Example usage\n",
    "text = \"I saw onething, twothing, manything, and something at the market. But no nothing or everything.\"\n",
    "keyword = 'thing'\n",
    "result = find_all_things(text, keyword)\n",
    "print(result)"
   ]
  },
  {
   "cell_type": "code",
   "execution_count": 57,
   "id": "8d2275db-3b8c-47f6-8602-96eb97ed0037",
   "metadata": {
    "execution": {
     "iopub.execute_input": "2024-05-23T05:50:09.033938Z",
     "iopub.status.busy": "2024-05-23T05:50:09.032015Z",
     "iopub.status.idle": "2024-05-23T05:50:09.067800Z",
     "shell.execute_reply": "2024-05-23T05:50:09.066933Z",
     "shell.execute_reply.started": "2024-05-23T05:50:09.033888Z"
    }
   },
   "outputs": [],
   "source": [
    "def isendswith(text: str, postfix: list) -> str:\n",
    "    for item in postfix:\n",
    "        if text.endswith(item):\n",
    "            return item\n",
    "    return ''\n",
    "\n",
    "\n",
    "def find_all_things(text: str, keyword: str) -> list:\n",
    "    end_word = isendswith(keyword, ['시', '구'])\n",
    "    ic(end_word)\n",
    "    if end_word:\n",
    "        keyword = keyword[:-1]\n",
    "        ic(keyword)\n",
    "    # pattern = rf'\\b{keyword}(\\w*){end_word}'\n",
    "    pattern = rf'\\b{keyword}'\n",
    "    ic(pattern)\n",
    "    # matches = re.findall(pattern, text, flags=re.IGNORECASE)\n",
    "    matches = re.findall(pattern, text)\n",
    "    return matches"
   ]
  },
  {
   "cell_type": "code",
   "execution_count": 58,
   "id": "f0e97285-3dab-4aa6-8b22-ab13c20e1a38",
   "metadata": {
    "execution": {
     "iopub.execute_input": "2024-05-23T05:50:10.045313Z",
     "iopub.status.busy": "2024-05-23T05:50:10.044116Z",
     "iopub.status.idle": "2024-05-23T05:50:10.203367Z",
     "shell.execute_reply": "2024-05-23T05:50:10.202713Z",
     "shell.execute_reply.started": "2024-05-23T05:50:10.045261Z"
    }
   },
   "outputs": [
    {
     "name": "stderr",
     "output_type": "stream",
     "text": [
      "ic| end_word: '구'\n",
      "ic| keyword: '양천'\n",
      "ic| pattern: '\\\\b양천'\n"
     ]
    },
    {
     "name": "stdout",
     "output_type": "stream",
     "text": [
      "['양천']\n"
     ]
    }
   ],
   "source": [
    "text = \"양천구에서 무지개가 피어났다.\"\n",
    "keyword = '양천구'\n",
    "result = find_all_things(text, keyword)\n",
    "print(result)"
   ]
  },
  {
   "cell_type": "markdown",
   "id": "d794ec4e-c1cb-40ae-ab46-387dc0daed85",
   "metadata": {},
   "source": [
    "#### apply"
   ]
  },
  {
   "cell_type": "code",
   "execution_count": 5,
   "id": "5cee3961-f073-435d-8dd3-80e708dbe68b",
   "metadata": {
    "execution": {
     "iopub.execute_input": "2024-05-23T06:08:57.272197Z",
     "iopub.status.busy": "2024-05-23T06:08:57.271000Z",
     "iopub.status.idle": "2024-05-23T06:08:57.329830Z",
     "shell.execute_reply": "2024-05-23T06:08:57.329489Z",
     "shell.execute_reply.started": "2024-05-23T06:08:57.272142Z"
    }
   },
   "outputs": [],
   "source": [
    "text = df_text.iloc[16]['content']\n",
    "text = sa.clean_text(text)"
   ]
  },
  {
   "cell_type": "code",
   "execution_count": 6,
   "id": "88134c95-5c29-442e-b722-6fdf93575afe",
   "metadata": {
    "execution": {
     "iopub.execute_input": "2024-05-23T06:09:16.350310Z",
     "iopub.status.busy": "2024-05-23T06:09:16.348302Z",
     "iopub.status.idle": "2024-05-23T06:09:18.901893Z",
     "shell.execute_reply": "2024-05-23T06:09:18.901596Z",
     "shell.execute_reply.started": "2024-05-23T06:09:16.350261Z"
    },
    "scrolled": true
   },
   "outputs": [
    {
     "name": "stdout",
     "output_type": "stream",
     "text": [
      "  name level count     upper\n",
      "0    남     2     2  광주,광주광역시\n",
      "1   인천     0     5          \n",
      "2    중     2     1  인천광역시,인천\n",
      "3  미추홀     2     1  인천광역시,인천\n",
      "4   부평     2     1  인천광역시,인천\n"
     ]
    }
   ],
   "source": [
    "self = CheckAddressLevels(df_address=df_addr, text=text)\n",
    "self.process()\n",
    "\n",
    "df_brief = self.df_brief.copy()\n",
    "print(df_brief)\n",
    "\n",
    "for item in df_brief['name'].values:\n",
    "    text = sa.re_sub(item, text)"
   ]
  },
  {
   "cell_type": "markdown",
   "id": "675859e1-ba18-4f03-b41b-44f0ef90be02",
   "metadata": {},
   "source": [
    "'남구', '중구' 처럼 외자 이름들이 있구나.  \n",
    "예외가 정말 많다.  "
   ]
  },
  {
   "cell_type": "code",
   "execution_count": 24,
   "id": "45a84e11-a262-45f3-94d5-c52b039716d5",
   "metadata": {
    "execution": {
     "iopub.execute_input": "2024-05-23T06:45:19.539666Z",
     "iopub.status.busy": "2024-05-23T06:45:19.538298Z",
     "iopub.status.idle": "2024-05-23T06:45:19.592342Z",
     "shell.execute_reply": "2024-05-23T06:45:19.591978Z",
     "shell.execute_reply.started": "2024-05-23T06:45:19.539613Z"
    }
   },
   "outputs": [],
   "source": [
    "text = df_text.iloc[16]['content']\n",
    "text = sa.clean_text(text)"
   ]
  },
  {
   "cell_type": "code",
   "execution_count": 25,
   "id": "7286135e-9202-47ac-a170-9717ed598452",
   "metadata": {
    "execution": {
     "iopub.execute_input": "2024-05-23T06:45:20.794243Z",
     "iopub.status.busy": "2024-05-23T06:45:20.793988Z",
     "iopub.status.idle": "2024-05-23T06:45:23.264795Z",
     "shell.execute_reply": "2024-05-23T06:45:23.264556Z",
     "shell.execute_reply.started": "2024-05-23T06:45:20.794224Z"
    }
   },
   "outputs": [
    {
     "name": "stderr",
     "output_type": "stream",
     "text": [
      "ic| found_items: ['미추홀']\n",
      "ic| found_items: ['미추홀']\n",
      "ic| found_items: ['미추홀']\n",
      "ic| found_items: ['미추홀']\n",
      "ic| found_items: ['미추홀']\n",
      "ic| found_items: ['미추홀']\n",
      "ic| found_items: ['미추홀']\n"
     ]
    },
    {
     "name": "stdout",
     "output_type": "stream",
     "text": [
      "  name level count     upper\n",
      "0   인천     0     5          \n",
      "1  미추홀     2     1  인천광역시,인천\n",
      "2   부평     2     1  인천광역시,인천\n"
     ]
    }
   ],
   "source": [
    "self = CheckAddressLevels(df_address=df_addr, text=text)\n",
    "self.process()\n",
    "\n",
    "df_brief = self.df_brief.copy()\n",
    "print(df_brief)"
   ]
  },
  {
   "cell_type": "markdown",
   "id": "9168bc1a-1090-4de1-a032-19056676512c",
   "metadata": {},
   "source": [
    "뭐야, 왜 안나와? 왜 비었어?"
   ]
  },
  {
   "cell_type": "code",
   "execution_count": 23,
   "id": "051204c5-d3fb-4384-add6-b353a0dc3843",
   "metadata": {
    "execution": {
     "iopub.execute_input": "2024-05-23T06:45:02.093253Z",
     "iopub.status.busy": "2024-05-23T06:45:02.092349Z",
     "iopub.status.idle": "2024-05-23T06:45:02.151322Z",
     "shell.execute_reply": "2024-05-23T06:45:02.151020Z",
     "shell.execute_reply.started": "2024-05-23T06:45:02.093179Z"
    }
   },
   "outputs": [
    {
     "name": "stdout",
     "output_type": "stream",
     "text": [
      "<class 'pandas.core.frame.DataFrame'>\n",
      "Index: 0 entries\n",
      "Data columns (total 9 columns):\n",
      " #   Column    Non-Null Count  Dtype  \n",
      "---  ------    --------------  -----  \n",
      " 0   lv0       0 non-null      object \n",
      " 1   lv1       0 non-null      object \n",
      " 2   lv2       0 non-null      object \n",
      " 3   lv3       0 non-null      object \n",
      " 4   lv4       0 non-null      object \n",
      " 5   lv5       0 non-null      float64\n",
      " 6   count     0 non-null      int64  \n",
      " 7   found     0 non-null      object \n",
      " 8   found_lv  0 non-null      object \n",
      "dtypes: float64(1), int64(1), object(7)\n",
      "memory usage: 0.0+ bytes\n"
     ]
    }
   ],
   "source": [
    "self.df_filtered.info()"
   ]
  },
  {
   "cell_type": "markdown",
   "id": "dad7d4a9-aae0-4ccd-8ec1-67054f4fe5ab",
   "metadata": {},
   "source": [
    "아, 텍스트 설정을 안 했구나."
   ]
  },
  {
   "cell_type": "code",
   "execution_count": null,
   "id": "0e384398-5805-4452-9c59-f8a04a0a6ade",
   "metadata": {
    "execution": {
     "iopub.execute_input": "2024-05-23T06:29:28.597819Z",
     "iopub.status.busy": "2024-05-23T06:29:28.596421Z",
     "iopub.status.idle": "2024-05-23T06:29:32.087019Z",
     "shell.execute_reply": "2024-05-23T06:29:32.086554Z",
     "shell.execute_reply.started": "2024-05-23T06:29:28.597787Z"
    },
    "scrolled": true
   },
   "outputs": [],
   "source": [
    "for item in df_brief['name'].values:\n",
    "    text = sa.re_sub(item, text)"
   ]
  },
  {
   "cell_type": "code",
   "execution_count": 16,
   "id": "4db16b61-ca00-4d9e-a9f5-e4ec40030a78",
   "metadata": {
    "execution": {
     "iopub.execute_input": "2024-05-23T06:39:53.508105Z",
     "iopub.status.busy": "2024-05-23T06:39:53.506818Z",
     "iopub.status.idle": "2024-05-23T06:39:53.552874Z",
     "shell.execute_reply": "2024-05-23T06:39:53.552338Z",
     "shell.execute_reply.started": "2024-05-23T06:39:53.508065Z"
    }
   },
   "outputs": [
    {
     "data": {
      "text/plain": [
       "-1"
      ]
     },
     "execution_count": 16,
     "metadata": {},
     "output_type": "execute_result"
    }
   ],
   "source": [
    "'basil leaves'.find('leaf')"
   ]
  },
  {
   "cell_type": "code",
   "execution_count": 25,
   "id": "07648dee-3161-4e9d-8ded-bae9e124f20b",
   "metadata": {
    "execution": {
     "iopub.execute_input": "2024-05-23T06:45:20.794243Z",
     "iopub.status.busy": "2024-05-23T06:45:20.793988Z",
     "iopub.status.idle": "2024-05-23T06:45:23.264795Z",
     "shell.execute_reply": "2024-05-23T06:45:23.264556Z",
     "shell.execute_reply.started": "2024-05-23T06:45:20.794224Z"
    }
   },
   "outputs": [
    {
     "name": "stderr",
     "output_type": "stream",
     "text": [
      "ic| found_items: ['미추홀']\n",
      "ic| found_items: ['미추홀']\n",
      "ic| found_items: ['미추홀']\n",
      "ic| found_items: ['미추홀']\n",
      "ic| found_items: ['미추홀']\n",
      "ic| found_items: ['미추홀']\n",
      "ic| found_items: ['미추홀']\n"
     ]
    },
    {
     "name": "stdout",
     "output_type": "stream",
     "text": [
      "  name level count     upper\n",
      "0   인천     0     5          \n",
      "1  미추홀     2     1  인천광역시,인천\n",
      "2   부평     2     1  인천광역시,인천\n"
     ]
    }
   ],
   "source": [
    "self = CheckAddressLevels(df_address=df_addr, text=text)\n",
    "self.process()\n",
    "\n",
    "df_brief = self.df_brief.copy()\n",
    "print(df_brief)"
   ]
  },
  {
   "cell_type": "markdown",
   "id": "976cfe9c-b281-4f52-b562-0df65195f309",
   "metadata": {
    "execution": {
     "iopub.execute_input": "2024-05-23T06:47:12.326764Z",
     "iopub.status.busy": "2024-05-23T06:47:12.320236Z",
     "iopub.status.idle": "2024-05-23T06:47:12.530733Z",
     "shell.execute_reply": "2024-05-23T06:47:12.527688Z",
     "shell.execute_reply.started": "2024-05-23T06:47:12.326281Z"
    }
   },
   "source": [
    "되었다. 이제 다시 결과를 살펴보자.  "
   ]
  },
  {
   "cell_type": "markdown",
   "id": "bf8bd6df-c051-4919-978a-e3e8acd5cd7f",
   "metadata": {},
   "source": [
    "#### inspection"
   ]
  },
  {
   "cell_type": "markdown",
   "id": "2b4323b2-5e7e-476b-890f-75a9a05d9568",
   "metadata": {},
   "source": [
    "이쯤에서 새 노트로 옮겨가야겠다."
   ]
  },
  {
   "cell_type": "markdown",
   "id": "29cf537c-4e6d-4648-b256-ffcc495baa35",
   "metadata": {
    "jp-MarkdownHeadingCollapsed": true
   },
   "source": [
    "## Get Coodinates"
   ]
  },
  {
   "cell_type": "code",
   "execution_count": 27,
   "id": "2054c5b1-0ce7-46b0-b2d5-705cc2a75634",
   "metadata": {
    "execution": {
     "iopub.execute_input": "2024-05-17T14:38:03.397484Z",
     "iopub.status.busy": "2024-05-17T14:38:03.397410Z",
     "iopub.status.idle": "2024-05-17T14:38:05.055132Z",
     "shell.execute_reply": "2024-05-17T14:38:05.054597Z",
     "shell.execute_reply.started": "2024-05-17T14:38:03.397477Z"
    }
   },
   "outputs": [
    {
     "data": {
      "text/plain": [
       "(37.4782, 126.9518)"
      ]
     },
     "execution_count": 27,
     "metadata": {},
     "output_type": "execute_result"
    }
   ],
   "source": [
    "get_lat_long(addr)"
   ]
  },
  {
   "cell_type": "code",
   "execution_count": null,
   "id": "182b2674-c862-4918-91c1-48666ca6fa7a",
   "metadata": {},
   "outputs": [],
   "source": []
  },
  {
   "cell_type": "code",
   "execution_count": null,
   "id": "c9e94d07-b05e-4c7c-833b-9a4fce98461d",
   "metadata": {},
   "outputs": [],
   "source": []
  },
  {
   "cell_type": "code",
   "execution_count": null,
   "id": "8d08ae22-af49-4af2-98a3-2f4150e9b09f",
   "metadata": {},
   "outputs": [],
   "source": []
  },
  {
   "cell_type": "code",
   "execution_count": null,
   "id": "cf9e2b3b-7934-4ecd-b4d6-bb7654d1836c",
   "metadata": {},
   "outputs": [],
   "source": []
  },
  {
   "cell_type": "code",
   "execution_count": null,
   "id": "e07f0670-83fd-4e8e-894c-2f7e06dd268d",
   "metadata": {},
   "outputs": [],
   "source": []
  },
  {
   "cell_type": "code",
   "execution_count": null,
   "id": "d00d2a28-b17e-455d-a457-40e49f66a1c6",
   "metadata": {},
   "outputs": [],
   "source": []
  },
  {
   "cell_type": "code",
   "execution_count": null,
   "id": "ad80fb7c-3890-4dd2-90ed-66b9a67781f3",
   "metadata": {},
   "outputs": [],
   "source": []
  },
  {
   "cell_type": "code",
   "execution_count": null,
   "id": "722065f5-a33f-442a-a027-da7e7b25c0d3",
   "metadata": {},
   "outputs": [],
   "source": []
  },
  {
   "cell_type": "code",
   "execution_count": null,
   "id": "e888b19a-5f0d-4ac5-bfd4-3baca8d83061",
   "metadata": {},
   "outputs": [],
   "source": []
  },
  {
   "cell_type": "code",
   "execution_count": null,
   "id": "b46b182d-0b9f-4ec3-9682-79e7d2368485",
   "metadata": {},
   "outputs": [],
   "source": []
  },
  {
   "cell_type": "markdown",
   "id": "9a6a6412-3a84-4f7d-915c-ef546766638b",
   "metadata": {},
   "source": [
    "# end"
   ]
  }
 ],
 "metadata": {
  "kernelspec": {
   "display_name": "Python 3 (ipykernel)",
   "language": "python",
   "name": "python3"
  },
  "language_info": {
   "codemirror_mode": {
    "name": "ipython",
    "version": 3
   },
   "file_extension": ".py",
   "mimetype": "text/x-python",
   "name": "python",
   "nbconvert_exporter": "python",
   "pygments_lexer": "ipython3",
   "version": "3.11.0"
  }
 },
 "nbformat": 4,
 "nbformat_minor": 5
}
